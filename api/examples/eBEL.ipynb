{
 "cells": [
  {
   "cell_type": "markdown",
   "id": "bf137ffa",
   "metadata": {},
   "source": [
    "# e(BE:L) API methods"
   ]
  },
  {
   "cell_type": "code",
   "execution_count": 1,
   "id": "47e282e4",
   "metadata": {
    "scrolled": false
   },
   "outputs": [
    {
     "data": {
      "text/html": [
       "<h2>1. get knowledge graph class info on node or relation(edge) class.</h2>"
      ],
      "text/plain": [
       "<IPython.core.display.HTML object>"
      ]
     },
     "metadata": {},
     "output_type": "display_data"
    },
    {
     "data": {
      "text/html": [
       "<b style=\"color: rgb(98,98,98); text-decoration: underline;\">Description:</b> <p>get knowledge graph class info on node or relation(edge) class.</p>"
      ],
      "text/plain": [
       "<IPython.core.display.HTML object>"
      ]
     },
     "metadata": {},
     "output_type": "display_data"
    },
    {
     "data": {
      "text/html": [
       "<b>Tags:</b> ['BEL', 'e(BE:L)']"
      ],
      "text/plain": [
       "<IPython.core.display.HTML object>"
      ]
     },
     "metadata": {},
     "output_type": "display_data"
    },
    {
     "data": {
      "text/html": [
       "<b>Server path:</b> /api/v1/bel/class_info_by_name"
      ],
      "text/plain": [
       "<IPython.core.display.HTML object>"
      ]
     },
     "metadata": {},
     "output_type": "display_data"
    },
    {
     "data": {
      "text/html": [
       "<div>\n",
       "<style scoped>\n",
       "    .dataframe tbody tr th:only-of-type {\n",
       "        vertical-align: middle;\n",
       "    }\n",
       "\n",
       "    .dataframe tbody tr th {\n",
       "        vertical-align: top;\n",
       "    }\n",
       "\n",
       "    .dataframe thead th {\n",
       "        text-align: right;\n",
       "    }\n",
       "</style>\n",
       "<table border=\"1\" class=\"dataframe\">\n",
       "  <thead>\n",
       "    <tr style=\"text-align: right;\">\n",
       "      <th></th>\n",
       "      <th>data type</th>\n",
       "      <th>description</th>\n",
       "      <th>example</th>\n",
       "      <th>options</th>\n",
       "      <th>default</th>\n",
       "      <th>required</th>\n",
       "    </tr>\n",
       "    <tr>\n",
       "      <th>parameter name</th>\n",
       "      <th></th>\n",
       "      <th></th>\n",
       "      <th></th>\n",
       "      <th></th>\n",
       "      <th></th>\n",
       "      <th></th>\n",
       "    </tr>\n",
       "  </thead>\n",
       "  <tbody>\n",
       "    <tr>\n",
       "      <th>name</th>\n",
       "      <td>string</td>\n",
       "      <td>name of node or edge class</td>\n",
       "      <td>causal</td>\n",
       "      <td></td>\n",
       "      <td></td>\n",
       "      <td>True</td>\n",
       "    </tr>\n",
       "  </tbody>\n",
       "</table>\n",
       "</div>"
      ],
      "text/plain": [
       "               data type                 description example options default  \\\n",
       "parameter name                                                                 \n",
       "name              string  name of node or edge class  causal                   \n",
       "\n",
       "                required  \n",
       "parameter name            \n",
       "name                True  "
      ]
     },
     "metadata": {},
     "output_type": "display_data"
    },
    {
     "data": {
      "text/html": [
       "<b>Example URL:</b> <a href=\"http://0.0.0.0:5000/api/v1/bel/class_info_by_name?name=causal\">http://0.0.0.0:5000/api/v1/bel/class_info_by_name?name=causal</a>"
      ],
      "text/plain": [
       "<IPython.core.display.HTML object>"
      ]
     },
     "metadata": {},
     "output_type": "display_data"
    },
    {
     "data": {
      "text/html": [
       "<b style=\"color: rgb(98,98,98); text-decoration: underline;\">Example response:</b>"
      ],
      "text/plain": [
       "<IPython.core.display.HTML object>"
      ]
     },
     "metadata": {},
     "output_type": "display_data"
    },
    {
     "name": "stdout",
     "output_type": "stream",
     "text": [
      "{\u001b[38;5;124m'\u001b[39m\u001b[38;5;124mabstract\u001b[39m\u001b[38;5;124m'\u001b[39m: \u001b[38;5;28;01mTrue\u001b[39;00m,\n",
      " \u001b[38;5;124m'\u001b[39m\u001b[38;5;124mchildren\u001b[39m\u001b[38;5;124m'\u001b[39m: [{\u001b[38;5;124m'\u001b[39m\u001b[38;5;124mabstract\u001b[39m\u001b[38;5;124m'\u001b[39m: \u001b[38;5;28;01mFalse\u001b[39;00m, \u001b[38;5;124m'\u001b[39m\u001b[38;5;124mname\u001b[39m\u001b[38;5;124m'\u001b[39m: \u001b[38;5;124m'\u001b[39m\u001b[38;5;124mregulates\u001b[39m\u001b[38;5;124m'\u001b[39m},\n",
      "              {\u001b[38;5;124m'\u001b[39m\u001b[38;5;124mabstract\u001b[39m\u001b[38;5;124m'\u001b[39m: \u001b[38;5;28;01mFalse\u001b[39;00m, \u001b[38;5;124m'\u001b[39m\u001b[38;5;124mname\u001b[39m\u001b[38;5;124m'\u001b[39m: \u001b[38;5;124m'\u001b[39m\u001b[38;5;124mcauses_no_change\u001b[39m\u001b[38;5;124m'\u001b[39m},\n",
      "              {\u001b[38;5;124m'\u001b[39m\u001b[38;5;124mabstract\u001b[39m\u001b[38;5;124m'\u001b[39m: \u001b[38;5;28;01mFalse\u001b[39;00m, \u001b[38;5;124m'\u001b[39m\u001b[38;5;124mname\u001b[39m\u001b[38;5;124m'\u001b[39m: \u001b[38;5;124m'\u001b[39m\u001b[38;5;124mincreases\u001b[39m\u001b[38;5;124m'\u001b[39m},\n",
      "              {\u001b[38;5;124m'\u001b[39m\u001b[38;5;124mabstract\u001b[39m\u001b[38;5;124m'\u001b[39m: \u001b[38;5;28;01mFalse\u001b[39;00m, \u001b[38;5;124m'\u001b[39m\u001b[38;5;124mname\u001b[39m\u001b[38;5;124m'\u001b[39m: \u001b[38;5;124m'\u001b[39m\u001b[38;5;124mdirectly_decreases\u001b[39m\u001b[38;5;124m'\u001b[39m},\n",
      "              {\u001b[38;5;124m'\u001b[39m\u001b[38;5;124mabstract\u001b[39m\u001b[38;5;124m'\u001b[39m: \u001b[38;5;28;01mFalse\u001b[39;00m, \u001b[38;5;124m'\u001b[39m\u001b[38;5;124mname\u001b[39m\u001b[38;5;124m'\u001b[39m: \u001b[38;5;124m'\u001b[39m\u001b[38;5;124mrate_limiting_step_of\u001b[39m\u001b[38;5;124m'\u001b[39m},\n",
      "              {\u001b[38;5;124m'\u001b[39m\u001b[38;5;124mabstract\u001b[39m\u001b[38;5;124m'\u001b[39m: \u001b[38;5;28;01mFalse\u001b[39;00m, \u001b[38;5;124m'\u001b[39m\u001b[38;5;124mname\u001b[39m\u001b[38;5;124m'\u001b[39m: \u001b[38;5;124m'\u001b[39m\u001b[38;5;124mdecreases\u001b[39m\u001b[38;5;124m'\u001b[39m},\n",
      "              {\u001b[38;5;124m'\u001b[39m\u001b[38;5;124mabstract\u001b[39m\u001b[38;5;124m'\u001b[39m: \u001b[38;5;28;01mFalse\u001b[39;00m, \u001b[38;5;124m'\u001b[39m\u001b[38;5;124mname\u001b[39m\u001b[38;5;124m'\u001b[39m: \u001b[38;5;124m'\u001b[39m\u001b[38;5;124mdirectly_increases\u001b[39m\u001b[38;5;124m'\u001b[39m}],\n",
      " \u001b[38;5;124m'\u001b[39m\u001b[38;5;124min_out\u001b[39m\u001b[38;5;124m'\u001b[39m: {\u001b[38;5;124m'\u001b[39m\u001b[38;5;124min\u001b[39m\u001b[38;5;124m'\u001b[39m: \u001b[38;5;124m'\u001b[39m\u001b[38;5;124mbel\u001b[39m\u001b[38;5;124m'\u001b[39m, \u001b[38;5;124m'\u001b[39m\u001b[38;5;124mout\u001b[39m\u001b[38;5;124m'\u001b[39m: \u001b[38;5;124m'\u001b[39m\u001b[38;5;124mbel\u001b[39m\u001b[38;5;124m'\u001b[39m},\n",
      " \u001b[38;5;124m'\u001b[39m\u001b[38;5;124mparents_path\u001b[39m\u001b[38;5;124m'\u001b[39m: [\u001b[38;5;124m'\u001b[39m\u001b[38;5;124mcausal\u001b[39m\u001b[38;5;124m'\u001b[39m, \u001b[38;5;124m'\u001b[39m\u001b[38;5;124mbel_relation\u001b[39m\u001b[38;5;124m'\u001b[39m, \u001b[38;5;124m'\u001b[39m\u001b[38;5;124mE\u001b[39m\u001b[38;5;124m'\u001b[39m]}\n",
      "\n",
      "For further testing go to http://0.0.0.0:5000/ui/#/e(BE:L)/ebel.web.api.ebel.v1.bel.get_class_info_by_name\n"
     ]
    },
    {
     "data": {
      "text/html": [
       "<h2>2. Get paths by BELish</h2>"
      ],
      "text/plain": [
       "<IPython.core.display.HTML object>"
      ]
     },
     "metadata": {},
     "output_type": "display_data"
    },
    {
     "data": {
      "text/html": [
       "<b style=\"color: rgb(98,98,98); text-decoration: underline;\">Description:</b> <p>Get paths by BELish</p>"
      ],
      "text/plain": [
       "<IPython.core.display.HTML object>"
      ]
     },
     "metadata": {},
     "output_type": "display_data"
    },
    {
     "data": {
      "text/html": [
       "<b>Tags:</b> ['BEL', 'e(BE:L)']"
      ],
      "text/plain": [
       "<IPython.core.display.HTML object>"
      ]
     },
     "metadata": {},
     "output_type": "display_data"
    },
    {
     "data": {
      "text/html": [
       "<b>Server path:</b> /api/v1/bel/paths_by_belish"
      ],
      "text/plain": [
       "<IPython.core.display.HTML object>"
      ]
     },
     "metadata": {},
     "output_type": "display_data"
    },
    {
     "data": {
      "text/html": [
       "<div>\n",
       "<style scoped>\n",
       "    .dataframe tbody tr th:only-of-type {\n",
       "        vertical-align: middle;\n",
       "    }\n",
       "\n",
       "    .dataframe tbody tr th {\n",
       "        vertical-align: top;\n",
       "    }\n",
       "\n",
       "    .dataframe thead th {\n",
       "        text-align: right;\n",
       "    }\n",
       "</style>\n",
       "<table border=\"1\" class=\"dataframe\">\n",
       "  <thead>\n",
       "    <tr style=\"text-align: right;\">\n",
       "      <th></th>\n",
       "      <th>data type</th>\n",
       "      <th>description</th>\n",
       "      <th>example</th>\n",
       "      <th>options</th>\n",
       "      <th>default</th>\n",
       "      <th>required</th>\n",
       "    </tr>\n",
       "    <tr>\n",
       "      <th>parameter name</th>\n",
       "      <th></th>\n",
       "      <th></th>\n",
       "      <th></th>\n",
       "      <th></th>\n",
       "      <th></th>\n",
       "      <th></th>\n",
       "    </tr>\n",
       "  </thead>\n",
       "  <tbody>\n",
       "    <tr>\n",
       "      <th>belish</th>\n",
       "      <td>string</td>\n",
       "      <td></td>\n",
       "      <td>p(HGNC:\"%\") -increases-&gt; p(%) &lt;-decreases- p(H...</td>\n",
       "      <td></td>\n",
       "      <td></td>\n",
       "      <td>True</td>\n",
       "    </tr>\n",
       "    <tr>\n",
       "      <th>limit</th>\n",
       "      <td>integer</td>\n",
       "      <td></td>\n",
       "      <td>1</td>\n",
       "      <td></td>\n",
       "      <td>30.0</td>\n",
       "      <td>False</td>\n",
       "    </tr>\n",
       "  </tbody>\n",
       "</table>\n",
       "</div>"
      ],
      "text/plain": [
       "               data type description  \\\n",
       "parameter name                         \n",
       "belish            string               \n",
       "limit            integer               \n",
       "\n",
       "                                                          example options  \\\n",
       "parameter name                                                              \n",
       "belish          p(HGNC:\"%\") -increases-> p(%) <-decreases- p(H...           \n",
       "limit                                                           1           \n",
       "\n",
       "               default  required  \n",
       "parameter name                    \n",
       "belish                      True  \n",
       "limit             30.0     False  "
      ]
     },
     "metadata": {},
     "output_type": "display_data"
    },
    {
     "data": {
      "text/html": [
       "<b>Example URL:</b> <a href=\"http://0.0.0.0:5000/api/v1/bel/paths_by_belish?belish=p%28HGNC%3A%22%25%22%29+-increases-%3E+p%28%25%29+%3C-decreases-+p%28HGNC%3A%22%25%22%29&limit=1\">http://0.0.0.0:5000/api/v1/bel/paths_by_belish?belish=p%28HGNC%3A%22%25%22%29+-increases-%3E+p%28%25%29+%3C-decreases-+p%28HGNC%3A%22%25%22%29&limit=1</a>"
      ],
      "text/plain": [
       "<IPython.core.display.HTML object>"
      ]
     },
     "metadata": {},
     "output_type": "display_data"
    },
    {
     "data": {
      "text/html": [
       "<b style=\"color: rgb(98,98,98); text-decoration: underline;\">Example response:</b>"
      ],
      "text/plain": [
       "<IPython.core.display.HTML object>"
      ]
     },
     "metadata": {},
     "output_type": "display_data"
    },
    {
     "name": "stdout",
     "output_type": "stream",
     "text": [
      "{\u001b[38;5;124m'\u001b[39m\u001b[38;5;124medge_paths_by_length\u001b[39m\u001b[38;5;124m'\u001b[39m: {\u001b[38;5;124m'\u001b[39m\u001b[38;5;124m2\u001b[39m\u001b[38;5;124m'\u001b[39m: [[\u001b[38;5;124m'\u001b[39m\u001b[38;5;124m#569:1\u001b[39m\u001b[38;5;124m'\u001b[39m, \u001b[38;5;124m'\u001b[39m\u001b[38;5;124m#595:0\u001b[39m\u001b[38;5;124m'\u001b[39m]]},\n",
      " \u001b[38;5;124m'\u001b[39m\u001b[38;5;124munique_edges\u001b[39m\u001b[38;5;124m'\u001b[39m: {\u001b[38;5;124m'\u001b[39m\u001b[38;5;124m#569:1\u001b[39m\u001b[38;5;124m'\u001b[39m: {\u001b[38;5;124m'\u001b[39m\u001b[38;5;124mannotation\u001b[39m\u001b[38;5;124m'\u001b[39m: [\u001b[38;5;124m'\u001b[39m\u001b[38;5;124mAnimals\u001b[39m\u001b[38;5;124m'\u001b[39m,\n",
      "                                            \u001b[38;5;124m'\u001b[39m\u001b[38;5;124mBiomarkers\u001b[39m\u001b[38;5;124m'\u001b[39m,\n",
      "                                            \u001b[38;5;124m'\u001b[39m\u001b[38;5;124mDisease Models, Animal\u001b[39m\u001b[38;5;124m'\u001b[39m,\n",
      "                                            \u001b[38;5;124m'\u001b[39m\u001b[38;5;124mDisease Progression\u001b[39m\u001b[38;5;124m'\u001b[39m,\n",
      "                                            \u001b[38;5;124m'\u001b[39m\u001b[38;5;124mHumans\u001b[39m\u001b[38;5;124m'\u001b[39m,\n",
      "                                            \u001b[38;5;124m'\u001b[39m\u001b[38;5;124mMembrane Glycoproteins\u001b[39m\u001b[38;5;124m'\u001b[39m,\n",
      "                                            \u001b[38;5;124m'\u001b[39m\u001b[38;5;124mMicroglia\u001b[39m\u001b[38;5;124m'\u001b[39m,\n",
      "                                            \u001b[38;5;124m'\u001b[39m\u001b[38;5;124mNeurodegenerative Diseases\u001b[39m\u001b[38;5;124m'\u001b[39m,\n",
      "                                            \u001b[38;5;124m'\u001b[39m\u001b[38;5;124mReceptors, Immunologic\u001b[39m\u001b[38;5;124m'\u001b[39m],\n",
      "                             \u001b[38;5;124m'\u001b[39m\u001b[38;5;124mcitation\u001b[39m\u001b[38;5;124m'\u001b[39m: {\u001b[38;5;124m'\u001b[39m\u001b[38;5;124mauthor_list\u001b[39m\u001b[38;5;124m'\u001b[39m: [\u001b[38;5;124m'\u001b[39m\u001b[38;5;124mJay TR\u001b[39m\u001b[38;5;124m'\u001b[39m,\n",
      "                                                          \u001b[38;5;124m'\u001b[39m\u001b[38;5;124mvon Saucken VE\u001b[39m\u001b[38;5;124m'\u001b[39m,\n",
      "                                                          \u001b[38;5;124m'\u001b[39m\u001b[38;5;124mLandreth GE\u001b[39m\u001b[38;5;124m'\u001b[39m],\n",
      "                                          \u001b[38;5;124m'\u001b[39m\u001b[38;5;124mdoi\u001b[39m\u001b[38;5;124m'\u001b[39m: \u001b[38;5;124m'\u001b[39m\u001b[38;5;124m10.1186/s13024-017-0197-5\u001b[39m\u001b[38;5;124m'\u001b[39m,\n",
      "                                          \u001b[38;5;124m'\u001b[39m\u001b[38;5;124mfull_journal_name\u001b[39m\u001b[38;5;124m'\u001b[39m: \u001b[38;5;124m'\u001b[39m\u001b[38;5;124mMolecular \u001b[39m\u001b[38;5;124m'\u001b[39m\n",
      "                                                               \u001b[38;5;124m'\u001b[39m\u001b[38;5;124mneurodegeneration\u001b[39m\u001b[38;5;124m'\u001b[39m,\n",
      "                                          \u001b[38;5;124m'\u001b[39m\u001b[38;5;124mlast_author\u001b[39m\u001b[38;5;124m'\u001b[39m: \u001b[38;5;124m'\u001b[39m\u001b[38;5;124mLandreth GE\u001b[39m\u001b[38;5;124m'\u001b[39m,\n",
      "                                          \u001b[38;5;124m'\u001b[39m\u001b[38;5;124mpub_date\u001b[39m\u001b[38;5;124m'\u001b[39m: \u001b[38;5;124m'\u001b[39m\u001b[38;5;124m2018-06-12\u001b[39m\u001b[38;5;124m'\u001b[39m,\n",
      "                                          \u001b[38;5;124m'\u001b[39m\u001b[38;5;124mpub_year\u001b[39m\u001b[38;5;124m'\u001b[39m: \u001b[38;5;241m2018\u001b[39m,\n",
      "                                          \u001b[38;5;124m'\u001b[39m\u001b[38;5;124mref\u001b[39m\u001b[38;5;124m'\u001b[39m: \u001b[38;5;124m'\u001b[39m\u001b[38;5;124m28768545\u001b[39m\u001b[38;5;124m'\u001b[39m,\n",
      "                                          \u001b[38;5;124m'\u001b[39m\u001b[38;5;124mtitle\u001b[39m\u001b[38;5;124m'\u001b[39m: \u001b[38;5;124m'\u001b[39m\u001b[38;5;124mTREM2 in Neurodegenerative \u001b[39m\u001b[38;5;124m'\u001b[39m\n",
      "                                                   \u001b[38;5;124m'\u001b[39m\u001b[38;5;124mDiseases.\u001b[39m\u001b[38;5;124m'\u001b[39m,\n",
      "                                          \u001b[38;5;124m'\u001b[39m\u001b[38;5;124mtype\u001b[39m\u001b[38;5;124m'\u001b[39m: \u001b[38;5;124m'\u001b[39m\u001b[38;5;124mPubMed\u001b[39m\u001b[38;5;124m'\u001b[39m},\n",
      "                             \u001b[38;5;124m'\u001b[39m\u001b[38;5;124mclass\u001b[39m\u001b[38;5;124m'\u001b[39m: \u001b[38;5;124m'\u001b[39m\u001b[38;5;124mincreases\u001b[39m\u001b[38;5;124m'\u001b[39m,\n",
      "                             \u001b[38;5;124m'\u001b[39m\u001b[38;5;124mevidence\u001b[39m\u001b[38;5;124m'\u001b[39m: \u001b[38;5;124m'\u001b[39m\u001b[38;5;124mIn vitro, application of classically \u001b[39m\u001b[38;5;124m'\u001b[39m\n",
      "                                         \u001b[38;5;124m'\u001b[39m\u001b[38;5;124mpro-inflammatory molecules (TNFalpha \u001b[39m\u001b[38;5;124m'\u001b[39m\n",
      "                                         \u001b[38;5;124m'\u001b[39m\u001b[38;5;124m[117, 136], IL1beta [107, 136, 166], \u001b[39m\u001b[38;5;124m'\u001b[39m\n",
      "                                         \u001b[38;5;124m'\u001b[39m\u001b[38;5;124mROS [166, 167], IFNGamma[168], TLR \u001b[39m\u001b[38;5;124m'\u001b[39m\n",
      "                                         \u001b[38;5;124m'\u001b[39m\u001b[38;5;124magonists, including \u001b[39m\u001b[38;5;124m'\u001b[39m\n",
      "                                         \u001b[38;5;124m'\u001b[39m\u001b[38;5;124mlipopolysaccharide LPS) [106, 114, \u001b[39m\u001b[38;5;124m'\u001b[39m\n",
      "                                         \u001b[38;5;124m'\u001b[39m\u001b[38;5;124m135, 136, 167‚Äì170], CpGs [171] and \u001b[39m\u001b[38;5;124m'\u001b[39m\n",
      "                                         \u001b[38;5;124m'\u001b[39m\u001b[38;5;124mother TLR ligands [114, 127, 138, \u001b[39m\u001b[38;5;124m'\u001b[39m\n",
      "                                         \u001b[38;5;124m'\u001b[39m\u001b[38;5;124m150], mitochondrial lysates [172] \u001b[39m\u001b[38;5;124m'\u001b[39m\n",
      "                                         \u001b[38;5;124m'\u001b[39m\u001b[38;5;124mand bacteria [173]) decreased TREM2 \u001b[39m\u001b[38;5;124m'\u001b[39m\n",
      "                                         \u001b[38;5;124m'\u001b[39m\u001b[38;5;124mexpression, while anti-inflammatory \u001b[39m\u001b[38;5;124m'\u001b[39m\n",
      "                                         \u001b[38;5;124m'\u001b[39m\u001b[38;5;124mmolecules (vasoactive intestinal \u001b[39m\u001b[38;5;124m'\u001b[39m\n",
      "                                         \u001b[38;5;124m'\u001b[39m\u001b[38;5;124mpeptide [174] and IL4 [168]) \u001b[39m\u001b[38;5;124m'\u001b[39m\n",
      "                                         \u001b[38;5;124m'\u001b[39m\u001b[38;5;124mincreased TREM2 expression.\u001b[39m\u001b[38;5;124m'\u001b[39m,\n",
      "                             \u001b[38;5;124m'\u001b[39m\u001b[38;5;124mobject_bel\u001b[39m\u001b[38;5;124m'\u001b[39m: \u001b[38;5;124m'\u001b[39m\u001b[38;5;124mp(HGNC:\u001b[39m\u001b[38;5;124m\"\u001b[39m\u001b[38;5;124mTREM2\u001b[39m\u001b[38;5;124m\"\u001b[39m\u001b[38;5;124m)\u001b[39m\u001b[38;5;124m'\u001b[39m,\n",
      "                             \u001b[38;5;124m'\u001b[39m\u001b[38;5;124mobject_rid\u001b[39m\u001b[38;5;124m'\u001b[39m: \u001b[38;5;124m'\u001b[39m\u001b[38;5;124m#195:0\u001b[39m\u001b[38;5;124m'\u001b[39m,\n",
      "                             \u001b[38;5;124m'\u001b[39m\u001b[38;5;124mpmid\u001b[39m\u001b[38;5;124m'\u001b[39m: \u001b[38;5;241m28768545\u001b[39m,\n",
      "                             \u001b[38;5;124m'\u001b[39m\u001b[38;5;124msubject_bel\u001b[39m\u001b[38;5;124m'\u001b[39m: \u001b[38;5;124m'\u001b[39m\u001b[38;5;124mp(HGNC:\u001b[39m\u001b[38;5;124m\"\u001b[39m\u001b[38;5;124mVIP\u001b[39m\u001b[38;5;124m\"\u001b[39m\u001b[38;5;124m)\u001b[39m\u001b[38;5;124m'\u001b[39m,\n",
      "                             \u001b[38;5;124m'\u001b[39m\u001b[38;5;124msubject_rid\u001b[39m\u001b[38;5;124m'\u001b[39m: \u001b[38;5;124m'\u001b[39m\u001b[38;5;124m#186:3\u001b[39m\u001b[38;5;124m'\u001b[39m},\n",
      "                  \u001b[38;5;124m'\u001b[39m\u001b[38;5;124m#595:0\u001b[39m\u001b[38;5;124m'\u001b[39m: {\u001b[38;5;124m'\u001b[39m\u001b[38;5;124mannotation\u001b[39m\u001b[38;5;124m'\u001b[39m: [\u001b[38;5;124m'\u001b[39m\u001b[38;5;124mAnimals\u001b[39m\u001b[38;5;124m'\u001b[39m,\n",
      "                                            \u001b[38;5;124m'\u001b[39m\u001b[38;5;124mBiomarkers\u001b[39m\u001b[38;5;124m'\u001b[39m,\n",
      "                                            \u001b[38;5;124m'\u001b[39m\u001b[38;5;124mDisease Models, Animal\u001b[39m\u001b[38;5;124m'\u001b[39m,\n",
      "                                            \u001b[38;5;124m'\u001b[39m\u001b[38;5;124mDisease Progression\u001b[39m\u001b[38;5;124m'\u001b[39m,\n",
      "                                            \u001b[38;5;124m'\u001b[39m\u001b[38;5;124mHumans\u001b[39m\u001b[38;5;124m'\u001b[39m,\n",
      "                                            \u001b[38;5;124m'\u001b[39m\u001b[38;5;124mMembrane Glycoproteins\u001b[39m\u001b[38;5;124m'\u001b[39m,\n",
      "                                            \u001b[38;5;124m'\u001b[39m\u001b[38;5;124mMicroglia\u001b[39m\u001b[38;5;124m'\u001b[39m,\n",
      "                                            \u001b[38;5;124m'\u001b[39m\u001b[38;5;124mNeurodegenerative Diseases\u001b[39m\u001b[38;5;124m'\u001b[39m,\n",
      "                                            \u001b[38;5;124m'\u001b[39m\u001b[38;5;124mReceptors, Immunologic\u001b[39m\u001b[38;5;124m'\u001b[39m],\n",
      "                             \u001b[38;5;124m'\u001b[39m\u001b[38;5;124mcitation\u001b[39m\u001b[38;5;124m'\u001b[39m: {\u001b[38;5;124m'\u001b[39m\u001b[38;5;124mauthor_list\u001b[39m\u001b[38;5;124m'\u001b[39m: [\u001b[38;5;124m'\u001b[39m\u001b[38;5;124mJay TR\u001b[39m\u001b[38;5;124m'\u001b[39m,\n",
      "                                                          \u001b[38;5;124m'\u001b[39m\u001b[38;5;124mvon Saucken VE\u001b[39m\u001b[38;5;124m'\u001b[39m,\n",
      "                                                          \u001b[38;5;124m'\u001b[39m\u001b[38;5;124mLandreth GE\u001b[39m\u001b[38;5;124m'\u001b[39m],\n",
      "                                          \u001b[38;5;124m'\u001b[39m\u001b[38;5;124mdoi\u001b[39m\u001b[38;5;124m'\u001b[39m: \u001b[38;5;124m'\u001b[39m\u001b[38;5;124m10.1186/s13024-017-0197-5\u001b[39m\u001b[38;5;124m'\u001b[39m,\n",
      "                                          \u001b[38;5;124m'\u001b[39m\u001b[38;5;124mfull_journal_name\u001b[39m\u001b[38;5;124m'\u001b[39m: \u001b[38;5;124m'\u001b[39m\u001b[38;5;124mMolecular \u001b[39m\u001b[38;5;124m'\u001b[39m\n",
      "                                                               \u001b[38;5;124m'\u001b[39m\u001b[38;5;124mneurodegeneration\u001b[39m\u001b[38;5;124m'\u001b[39m,\n",
      "                                          \u001b[38;5;124m'\u001b[39m\u001b[38;5;124mlast_author\u001b[39m\u001b[38;5;124m'\u001b[39m: \u001b[38;5;124m'\u001b[39m\u001b[38;5;124mLandreth GE\u001b[39m\u001b[38;5;124m'\u001b[39m,\n",
      "                                          \u001b[38;5;124m'\u001b[39m\u001b[38;5;124mpub_date\u001b[39m\u001b[38;5;124m'\u001b[39m: \u001b[38;5;124m'\u001b[39m\u001b[38;5;124m2018-06-12\u001b[39m\u001b[38;5;124m'\u001b[39m,\n",
      "                                          \u001b[38;5;124m'\u001b[39m\u001b[38;5;124mpub_year\u001b[39m\u001b[38;5;124m'\u001b[39m: \u001b[38;5;241m2018\u001b[39m,\n",
      "                                          \u001b[38;5;124m'\u001b[39m\u001b[38;5;124mref\u001b[39m\u001b[38;5;124m'\u001b[39m: \u001b[38;5;124m'\u001b[39m\u001b[38;5;124m28768545\u001b[39m\u001b[38;5;124m'\u001b[39m,\n",
      "                                          \u001b[38;5;124m'\u001b[39m\u001b[38;5;124mtitle\u001b[39m\u001b[38;5;124m'\u001b[39m: \u001b[38;5;124m'\u001b[39m\u001b[38;5;124mTREM2 in Neurodegenerative \u001b[39m\u001b[38;5;124m'\u001b[39m\n",
      "                                                   \u001b[38;5;124m'\u001b[39m\u001b[38;5;124mDiseases.\u001b[39m\u001b[38;5;124m'\u001b[39m,\n",
      "                                          \u001b[38;5;124m'\u001b[39m\u001b[38;5;124mtype\u001b[39m\u001b[38;5;124m'\u001b[39m: \u001b[38;5;124m'\u001b[39m\u001b[38;5;124mPubMed\u001b[39m\u001b[38;5;124m'\u001b[39m},\n",
      "                             \u001b[38;5;124m'\u001b[39m\u001b[38;5;124mclass\u001b[39m\u001b[38;5;124m'\u001b[39m: \u001b[38;5;124m'\u001b[39m\u001b[38;5;124mdecreases\u001b[39m\u001b[38;5;124m'\u001b[39m,\n",
      "                             \u001b[38;5;124m'\u001b[39m\u001b[38;5;124mevidence\u001b[39m\u001b[38;5;124m'\u001b[39m: \u001b[38;5;124m'\u001b[39m\u001b[38;5;124mIn vitro, application of classically \u001b[39m\u001b[38;5;124m'\u001b[39m\n",
      "                                         \u001b[38;5;124m'\u001b[39m\u001b[38;5;124mpro-inflammatory molecules (TNFalpha \u001b[39m\u001b[38;5;124m'\u001b[39m\n",
      "                                         \u001b[38;5;124m'\u001b[39m\u001b[38;5;124m[117, 136], IL1beta [107, 136, 166], \u001b[39m\u001b[38;5;124m'\u001b[39m\n",
      "                                         \u001b[38;5;124m'\u001b[39m\u001b[38;5;124mROS [166, 167], IFNGamma[168], TLR \u001b[39m\u001b[38;5;124m'\u001b[39m\n",
      "                                         \u001b[38;5;124m'\u001b[39m\u001b[38;5;124magonists, including \u001b[39m\u001b[38;5;124m'\u001b[39m\n",
      "                                         \u001b[38;5;124m'\u001b[39m\u001b[38;5;124mlipopolysaccharide LPS) [106, 114, \u001b[39m\u001b[38;5;124m'\u001b[39m\n",
      "                                         \u001b[38;5;124m'\u001b[39m\u001b[38;5;124m135, 136, 167‚Äì170], CpGs [171] and \u001b[39m\u001b[38;5;124m'\u001b[39m\n",
      "                                         \u001b[38;5;124m'\u001b[39m\u001b[38;5;124mother TLR ligands [114, 127, 138, \u001b[39m\u001b[38;5;124m'\u001b[39m\n",
      "                                         \u001b[38;5;124m'\u001b[39m\u001b[38;5;124m150], mitochondrial lysates [172] \u001b[39m\u001b[38;5;124m'\u001b[39m\n",
      "                                         \u001b[38;5;124m'\u001b[39m\u001b[38;5;124mand bacteria [173]) decreased TREM2 \u001b[39m\u001b[38;5;124m'\u001b[39m\n",
      "                                         \u001b[38;5;124m'\u001b[39m\u001b[38;5;124mexpression, while anti-inflammatory \u001b[39m\u001b[38;5;124m'\u001b[39m\n",
      "                                         \u001b[38;5;124m'\u001b[39m\u001b[38;5;124mmolecules (vasoactive intestinal \u001b[39m\u001b[38;5;124m'\u001b[39m\n",
      "                                         \u001b[38;5;124m'\u001b[39m\u001b[38;5;124mpeptide [174] and IL4 [168]) \u001b[39m\u001b[38;5;124m'\u001b[39m\n",
      "                                         \u001b[38;5;124m'\u001b[39m\u001b[38;5;124mincreased TREM2 expression.\u001b[39m\u001b[38;5;124m'\u001b[39m,\n",
      "                             \u001b[38;5;124m'\u001b[39m\u001b[38;5;124mobject_bel\u001b[39m\u001b[38;5;124m'\u001b[39m: \u001b[38;5;124m'\u001b[39m\u001b[38;5;124mp(HGNC:\u001b[39m\u001b[38;5;124m\"\u001b[39m\u001b[38;5;124mTREM2\u001b[39m\u001b[38;5;124m\"\u001b[39m\u001b[38;5;124m)\u001b[39m\u001b[38;5;124m'\u001b[39m,\n",
      "                             \u001b[38;5;124m'\u001b[39m\u001b[38;5;124mobject_rid\u001b[39m\u001b[38;5;124m'\u001b[39m: \u001b[38;5;124m'\u001b[39m\u001b[38;5;124m#195:0\u001b[39m\u001b[38;5;124m'\u001b[39m,\n",
      "                             \u001b[38;5;124m'\u001b[39m\u001b[38;5;124mpmid\u001b[39m\u001b[38;5;124m'\u001b[39m: \u001b[38;5;241m28768545\u001b[39m,\n",
      "                             \u001b[38;5;124m'\u001b[39m\u001b[38;5;124msubject_bel\u001b[39m\u001b[38;5;124m'\u001b[39m: \u001b[38;5;124m'\u001b[39m\u001b[38;5;124mp(HGNC:\u001b[39m\u001b[38;5;124m\"\u001b[39m\u001b[38;5;124mTNF\u001b[39m\u001b[38;5;124m\"\u001b[39m\u001b[38;5;124m)\u001b[39m\u001b[38;5;124m'\u001b[39m,\n",
      "                             \u001b[38;5;124m'\u001b[39m\u001b[38;5;124msubject_rid\u001b[39m\u001b[38;5;124m'\u001b[39m: \u001b[38;5;124m'\u001b[39m\u001b[38;5;124m#197:2\u001b[39m\u001b[38;5;124m'\u001b[39m}},\n",
      " \u001b[38;5;124m'\u001b[39m\u001b[38;5;124munique_nodes\u001b[39m\u001b[38;5;124m'\u001b[39m: {\u001b[38;5;124m'\u001b[39m\u001b[38;5;124m#186:3\u001b[39m\u001b[38;5;124m'\u001b[39m: {\u001b[38;5;124m'\u001b[39m\u001b[38;5;124mbel\u001b[39m\u001b[38;5;124m'\u001b[39m: \u001b[38;5;124m'\u001b[39m\u001b[38;5;124mp(HGNC:\u001b[39m\u001b[38;5;124m\"\u001b[39m\u001b[38;5;124mVIP\u001b[39m\u001b[38;5;124m\"\u001b[39m\u001b[38;5;124m)\u001b[39m\u001b[38;5;124m'\u001b[39m,\n",
      "                             \u001b[38;5;124m'\u001b[39m\u001b[38;5;124mclass\u001b[39m\u001b[38;5;124m'\u001b[39m: \u001b[38;5;124m'\u001b[39m\u001b[38;5;124mprotein\u001b[39m\u001b[38;5;124m'\u001b[39m,\n",
      "                             \u001b[38;5;124m'\u001b[39m\u001b[38;5;124minvolved_genes\u001b[39m\u001b[38;5;124m'\u001b[39m: [\u001b[38;5;124m'\u001b[39m\u001b[38;5;124mVIP\u001b[39m\u001b[38;5;124m'\u001b[39m],\n",
      "                             \u001b[38;5;124m'\u001b[39m\u001b[38;5;124minvolved_other\u001b[39m\u001b[38;5;124m'\u001b[39m: [],\n",
      "                             \u001b[38;5;124m'\u001b[39m\u001b[38;5;124mlabel\u001b[39m\u001b[38;5;124m'\u001b[39m: \u001b[38;5;124m'\u001b[39m\u001b[38;5;124mVIP peptides\u001b[39m\u001b[38;5;124m'\u001b[39m,\n",
      "                             \u001b[38;5;124m'\u001b[39m\u001b[38;5;124mname\u001b[39m\u001b[38;5;124m'\u001b[39m: \u001b[38;5;124m'\u001b[39m\u001b[38;5;124mVIP\u001b[39m\u001b[38;5;124m'\u001b[39m,\n",
      "                             \u001b[38;5;124m'\u001b[39m\u001b[38;5;124mnamespace\u001b[39m\u001b[38;5;124m'\u001b[39m: \u001b[38;5;124m'\u001b[39m\u001b[38;5;124mHGNC\u001b[39m\u001b[38;5;124m'\u001b[39m,\n",
      "                             \u001b[38;5;124m'\u001b[39m\u001b[38;5;124mpure\u001b[39m\u001b[38;5;124m'\u001b[39m: \u001b[38;5;28;01mTrue\u001b[39;00m,\n",
      "                             \u001b[38;5;124m'\u001b[39m\u001b[38;5;124mreactome_pathways\u001b[39m\u001b[38;5;124m'\u001b[39m: [\u001b[38;5;124m'\u001b[39m\u001b[38;5;124mG alpha (s) signalling \u001b[39m\u001b[38;5;124m'\u001b[39m\n",
      "                                                   \u001b[38;5;124m'\u001b[39m\u001b[38;5;124mevents\u001b[39m\u001b[38;5;124m'\u001b[39m,\n",
      "                                                   \u001b[38;5;124m'\u001b[39m\u001b[38;5;124mGlucagon-type ligand \u001b[39m\u001b[38;5;124m'\u001b[39m\n",
      "                                                   \u001b[38;5;124m'\u001b[39m\u001b[38;5;124mreceptors\u001b[39m\u001b[38;5;124m'\u001b[39m,\n",
      "                                                   \u001b[38;5;124m'\u001b[39m\u001b[38;5;124mADORA2B mediated \u001b[39m\u001b[38;5;124m'\u001b[39m\n",
      "                                                   \u001b[38;5;124m'\u001b[39m\u001b[38;5;124manti-inflammatory \u001b[39m\u001b[38;5;124m'\u001b[39m\n",
      "                                                   \u001b[38;5;124m'\u001b[39m\u001b[38;5;124mcytokines production\u001b[39m\u001b[38;5;124m'\u001b[39m],\n",
      "                             \u001b[38;5;124m'\u001b[39m\u001b[38;5;124mspecies\u001b[39m\u001b[38;5;124m'\u001b[39m: \u001b[38;5;241m9606\u001b[39m,\n",
      "                             \u001b[38;5;124m'\u001b[39m\u001b[38;5;124muniprot\u001b[39m\u001b[38;5;124m'\u001b[39m: \u001b[38;5;124m'\u001b[39m\u001b[38;5;124mP01282\u001b[39m\u001b[38;5;124m'\u001b[39m},\n",
      "                  \u001b[38;5;124m'\u001b[39m\u001b[38;5;124m#195:0\u001b[39m\u001b[38;5;124m'\u001b[39m: {\u001b[38;5;124m'\u001b[39m\u001b[38;5;124mbel\u001b[39m\u001b[38;5;124m'\u001b[39m: \u001b[38;5;124m'\u001b[39m\u001b[38;5;124mp(HGNC:\u001b[39m\u001b[38;5;124m\"\u001b[39m\u001b[38;5;124mTREM2\u001b[39m\u001b[38;5;124m\"\u001b[39m\u001b[38;5;124m)\u001b[39m\u001b[38;5;124m'\u001b[39m,\n",
      "                             \u001b[38;5;124m'\u001b[39m\u001b[38;5;124mclass\u001b[39m\u001b[38;5;124m'\u001b[39m: \u001b[38;5;124m'\u001b[39m\u001b[38;5;124mprotein\u001b[39m\u001b[38;5;124m'\u001b[39m,\n",
      "                             \u001b[38;5;124m'\u001b[39m\u001b[38;5;124minvolved_genes\u001b[39m\u001b[38;5;124m'\u001b[39m: [\u001b[38;5;124m'\u001b[39m\u001b[38;5;124mTREM2\u001b[39m\u001b[38;5;124m'\u001b[39m],\n",
      "                             \u001b[38;5;124m'\u001b[39m\u001b[38;5;124minvolved_other\u001b[39m\u001b[38;5;124m'\u001b[39m: [],\n",
      "                             \u001b[38;5;124m'\u001b[39m\u001b[38;5;124mlabel\u001b[39m\u001b[38;5;124m'\u001b[39m: \u001b[38;5;124m'\u001b[39m\u001b[38;5;124mTriggering receptor expressed on \u001b[39m\u001b[38;5;124m'\u001b[39m\n",
      "                                      \u001b[38;5;124m'\u001b[39m\u001b[38;5;124mmyeloid cells 2\u001b[39m\u001b[38;5;124m'\u001b[39m,\n",
      "                             \u001b[38;5;124m'\u001b[39m\u001b[38;5;124mname\u001b[39m\u001b[38;5;124m'\u001b[39m: \u001b[38;5;124m'\u001b[39m\u001b[38;5;124mTREM2\u001b[39m\u001b[38;5;124m'\u001b[39m,\n",
      "                             \u001b[38;5;124m'\u001b[39m\u001b[38;5;124mnamespace\u001b[39m\u001b[38;5;124m'\u001b[39m: \u001b[38;5;124m'\u001b[39m\u001b[38;5;124mHGNC\u001b[39m\u001b[38;5;124m'\u001b[39m,\n",
      "                             \u001b[38;5;124m'\u001b[39m\u001b[38;5;124mpure\u001b[39m\u001b[38;5;124m'\u001b[39m: \u001b[38;5;28;01mTrue\u001b[39;00m,\n",
      "                             \u001b[38;5;124m'\u001b[39m\u001b[38;5;124mreactome_pathways\u001b[39m\u001b[38;5;124m'\u001b[39m: [\u001b[38;5;124m'\u001b[39m\u001b[38;5;124mDAP12 signaling\u001b[39m\u001b[38;5;124m'\u001b[39m,\n",
      "                                                   \u001b[38;5;124m'\u001b[39m\u001b[38;5;124mImmunoregulatory \u001b[39m\u001b[38;5;124m'\u001b[39m\n",
      "                                                   \u001b[38;5;124m'\u001b[39m\u001b[38;5;124minteractions between a \u001b[39m\u001b[38;5;124m'\u001b[39m\n",
      "                                                   \u001b[38;5;124m'\u001b[39m\u001b[38;5;124mLymphoid and a \u001b[39m\u001b[38;5;124m'\u001b[39m\n",
      "                                                   \u001b[38;5;124m'\u001b[39m\u001b[38;5;124mnon-Lymphoid cell\u001b[39m\u001b[38;5;124m'\u001b[39m,\n",
      "                                                   \u001b[38;5;124m'\u001b[39m\u001b[38;5;124mOther semaphorin \u001b[39m\u001b[38;5;124m'\u001b[39m\n",
      "                                                   \u001b[38;5;124m'\u001b[39m\u001b[38;5;124minteractions\u001b[39m\u001b[38;5;124m'\u001b[39m,\n",
      "                                                   \u001b[38;5;124m'\u001b[39m\u001b[38;5;124mDAP12 interactions\u001b[39m\u001b[38;5;124m'\u001b[39m],\n",
      "                             \u001b[38;5;124m'\u001b[39m\u001b[38;5;124mspecies\u001b[39m\u001b[38;5;124m'\u001b[39m: \u001b[38;5;241m9606\u001b[39m,\n",
      "                             \u001b[38;5;124m'\u001b[39m\u001b[38;5;124muniprot\u001b[39m\u001b[38;5;124m'\u001b[39m: \u001b[38;5;124m'\u001b[39m\u001b[38;5;124mQ9NZC2\u001b[39m\u001b[38;5;124m'\u001b[39m},\n",
      "                  \u001b[38;5;124m'\u001b[39m\u001b[38;5;124m#197:2\u001b[39m\u001b[38;5;124m'\u001b[39m: {\u001b[38;5;124m'\u001b[39m\u001b[38;5;124mbel\u001b[39m\u001b[38;5;124m'\u001b[39m: \u001b[38;5;124m'\u001b[39m\u001b[38;5;124mp(HGNC:\u001b[39m\u001b[38;5;124m\"\u001b[39m\u001b[38;5;124mTNF\u001b[39m\u001b[38;5;124m\"\u001b[39m\u001b[38;5;124m)\u001b[39m\u001b[38;5;124m'\u001b[39m,\n",
      "                             \u001b[38;5;124m'\u001b[39m\u001b[38;5;124mclass\u001b[39m\u001b[38;5;124m'\u001b[39m: \u001b[38;5;124m'\u001b[39m\u001b[38;5;124mprotein\u001b[39m\u001b[38;5;124m'\u001b[39m,\n",
      "                             \u001b[38;5;124m'\u001b[39m\u001b[38;5;124minvolved_genes\u001b[39m\u001b[38;5;124m'\u001b[39m: [\u001b[38;5;124m'\u001b[39m\u001b[38;5;124mTNF\u001b[39m\u001b[38;5;124m'\u001b[39m],\n",
      "                             \u001b[38;5;124m'\u001b[39m\u001b[38;5;124minvolved_other\u001b[39m\u001b[38;5;124m'\u001b[39m: [],\n",
      "                             \u001b[38;5;124m'\u001b[39m\u001b[38;5;124mlabel\u001b[39m\u001b[38;5;124m'\u001b[39m: \u001b[38;5;124m'\u001b[39m\u001b[38;5;124mtumor necrosis factor\u001b[39m\u001b[38;5;124m'\u001b[39m,\n",
      "                             \u001b[38;5;124m'\u001b[39m\u001b[38;5;124mname\u001b[39m\u001b[38;5;124m'\u001b[39m: \u001b[38;5;124m'\u001b[39m\u001b[38;5;124mTNF\u001b[39m\u001b[38;5;124m'\u001b[39m,\n",
      "                             \u001b[38;5;124m'\u001b[39m\u001b[38;5;124mnamespace\u001b[39m\u001b[38;5;124m'\u001b[39m: \u001b[38;5;124m'\u001b[39m\u001b[38;5;124mHGNC\u001b[39m\u001b[38;5;124m'\u001b[39m,\n",
      "                             \u001b[38;5;124m'\u001b[39m\u001b[38;5;124mpure\u001b[39m\u001b[38;5;124m'\u001b[39m: \u001b[38;5;28;01mTrue\u001b[39;00m,\n",
      "                             \u001b[38;5;124m'\u001b[39m\u001b[38;5;124mreactome_pathways\u001b[39m\u001b[38;5;124m'\u001b[39m: [\u001b[38;5;124m'\u001b[39m\u001b[38;5;124mTNFR1-induced NFkappaB \u001b[39m\u001b[38;5;124m'\u001b[39m\n",
      "                                                   \u001b[38;5;124m'\u001b[39m\u001b[38;5;124msignaling pathway\u001b[39m\u001b[38;5;124m'\u001b[39m,\n",
      "                                                   \u001b[38;5;124m'\u001b[39m\u001b[38;5;124mTNFR2 non-canonical NF-kB \u001b[39m\u001b[38;5;124m'\u001b[39m\n",
      "                                                   \u001b[38;5;124m'\u001b[39m\u001b[38;5;124mpathway\u001b[39m\u001b[38;5;124m'\u001b[39m,\n",
      "                                                   \u001b[38;5;124m'\u001b[39m\u001b[38;5;124mInterleukin-4 and \u001b[39m\u001b[38;5;124m'\u001b[39m\n",
      "                                                   \u001b[38;5;124m'\u001b[39m\u001b[38;5;124mInterleukin-13 signaling\u001b[39m\u001b[38;5;124m'\u001b[39m,\n",
      "                                                   \u001b[38;5;124m'\u001b[39m\u001b[38;5;124mTNF signaling\u001b[39m\u001b[38;5;124m'\u001b[39m,\n",
      "                                                   \u001b[38;5;124m'\u001b[39m\u001b[38;5;124mTranscriptional regulation \u001b[39m\u001b[38;5;124m'\u001b[39m\n",
      "                                                   \u001b[38;5;124m'\u001b[39m\u001b[38;5;124mof white adipocyte \u001b[39m\u001b[38;5;124m'\u001b[39m\n",
      "                                                   \u001b[38;5;124m'\u001b[39m\u001b[38;5;124mdifferentiation\u001b[39m\u001b[38;5;124m'\u001b[39m,\n",
      "                                                   \u001b[38;5;124m'\u001b[39m\u001b[38;5;124mTNFR1-mediated ceramide \u001b[39m\u001b[38;5;124m'\u001b[39m\n",
      "                                                   \u001b[38;5;124m'\u001b[39m\u001b[38;5;124mproduction\u001b[39m\u001b[38;5;124m'\u001b[39m,\n",
      "                                                   \u001b[38;5;124m'\u001b[39m\u001b[38;5;124mTNFR1-induced proapoptotic \u001b[39m\u001b[38;5;124m'\u001b[39m\n",
      "                                                   \u001b[38;5;124m'\u001b[39m\u001b[38;5;124msignaling\u001b[39m\u001b[38;5;124m'\u001b[39m,\n",
      "                                                   \u001b[38;5;124m'\u001b[39m\u001b[38;5;124mRegulation of TNFR1 \u001b[39m\u001b[38;5;124m'\u001b[39m\n",
      "                                                   \u001b[38;5;124m'\u001b[39m\u001b[38;5;124msignaling\u001b[39m\u001b[38;5;124m'\u001b[39m,\n",
      "                                                   \u001b[38;5;124m'\u001b[39m\u001b[38;5;124mInterleukin-10 signaling\u001b[39m\u001b[38;5;124m'\u001b[39m],\n",
      "                             \u001b[38;5;124m'\u001b[39m\u001b[38;5;124mspecies\u001b[39m\u001b[38;5;124m'\u001b[39m: \u001b[38;5;241m9606\u001b[39m,\n",
      "                             \u001b[38;5;124m'\u001b[39m\u001b[38;5;124muniprot\u001b[39m\u001b[38;5;124m'\u001b[39m: \u001b[38;5;124m'\u001b[39m\u001b[38;5;124mP01375\u001b[39m\u001b[38;5;124m'\u001b[39m}}}\n",
      "\n",
      "For further testing go to http://0.0.0.0:5000/ui/#/e(BE:L)/ebel.web.api.ebel.v1.bel.get_paths_by_belish\n"
     ]
    },
    {
     "data": {
      "text/html": [
       "<h2>3. Get ChEBI nodes in e(BE:L) knowledge graph</h2>"
      ],
      "text/plain": [
       "<IPython.core.display.HTML object>"
      ]
     },
     "metadata": {},
     "output_type": "display_data"
    },
    {
     "data": {
      "text/html": [
       "<b style=\"color: rgb(98,98,98); text-decoration: underline;\">Description:</b> <p>Get ChEBI IDs in e(BE:L)</p>"
      ],
      "text/plain": [
       "<IPython.core.display.HTML object>"
      ]
     },
     "metadata": {},
     "output_type": "display_data"
    },
    {
     "data": {
      "text/html": [
       "<b>Tags:</b> ['ChEBI', 'e(BE:L)']"
      ],
      "text/plain": [
       "<IPython.core.display.HTML object>"
      ]
     },
     "metadata": {},
     "output_type": "display_data"
    },
    {
     "data": {
      "text/html": [
       "<b>Server path:</b> /api/v1/chebi/ebel/nodes"
      ],
      "text/plain": [
       "<IPython.core.display.HTML object>"
      ]
     },
     "metadata": {},
     "output_type": "display_data"
    },
    {
     "data": {
      "text/html": [
       "<div>\n",
       "<style scoped>\n",
       "    .dataframe tbody tr th:only-of-type {\n",
       "        vertical-align: middle;\n",
       "    }\n",
       "\n",
       "    .dataframe tbody tr th {\n",
       "        vertical-align: top;\n",
       "    }\n",
       "\n",
       "    .dataframe thead th {\n",
       "        text-align: right;\n",
       "    }\n",
       "</style>\n",
       "<table border=\"1\" class=\"dataframe\">\n",
       "  <thead>\n",
       "    <tr style=\"text-align: right;\">\n",
       "      <th></th>\n",
       "      <th>data type</th>\n",
       "      <th>description</th>\n",
       "      <th>example</th>\n",
       "      <th>options</th>\n",
       "      <th>default</th>\n",
       "      <th>required</th>\n",
       "    </tr>\n",
       "    <tr>\n",
       "      <th>parameter name</th>\n",
       "      <th></th>\n",
       "      <th></th>\n",
       "      <th></th>\n",
       "      <th></th>\n",
       "      <th></th>\n",
       "      <th></th>\n",
       "    </tr>\n",
       "  </thead>\n",
       "  <tbody>\n",
       "    <tr>\n",
       "      <th>name</th>\n",
       "      <td>string</td>\n",
       "      <td>BEL name</td>\n",
       "      <td>ATP</td>\n",
       "      <td></td>\n",
       "      <td></td>\n",
       "      <td>False</td>\n",
       "    </tr>\n",
       "    <tr>\n",
       "      <th>namespace</th>\n",
       "      <td>string</td>\n",
       "      <td>BEL namespace</td>\n",
       "      <td>CHEBI</td>\n",
       "      <td></td>\n",
       "      <td></td>\n",
       "      <td>False</td>\n",
       "    </tr>\n",
       "    <tr>\n",
       "      <th>chebi</th>\n",
       "      <td>integer</td>\n",
       "      <td>CHEBI identifer</td>\n",
       "      <td>15422</td>\n",
       "      <td></td>\n",
       "      <td></td>\n",
       "      <td>False</td>\n",
       "    </tr>\n",
       "    <tr>\n",
       "      <th>page_size</th>\n",
       "      <td>integer</td>\n",
       "      <td>Results per page</td>\n",
       "      <td>1</td>\n",
       "      <td></td>\n",
       "      <td>10.0</td>\n",
       "      <td>False</td>\n",
       "    </tr>\n",
       "    <tr>\n",
       "      <th>page</th>\n",
       "      <td>integer</td>\n",
       "      <td>Page number (starting with 1)</td>\n",
       "      <td>1</td>\n",
       "      <td></td>\n",
       "      <td>1.0</td>\n",
       "      <td>False</td>\n",
       "    </tr>\n",
       "  </tbody>\n",
       "</table>\n",
       "</div>"
      ],
      "text/plain": [
       "               data type                    description example options  \\\n",
       "parameter name                                                            \n",
       "name              string                       BEL name     ATP           \n",
       "namespace         string                  BEL namespace   CHEBI           \n",
       "chebi            integer                CHEBI identifer   15422           \n",
       "page_size        integer               Results per page       1           \n",
       "page             integer  Page number (starting with 1)       1           \n",
       "\n",
       "               default  required  \n",
       "parameter name                    \n",
       "name                       False  \n",
       "namespace                  False  \n",
       "chebi                      False  \n",
       "page_size         10.0     False  \n",
       "page               1.0     False  "
      ]
     },
     "metadata": {},
     "output_type": "display_data"
    },
    {
     "data": {
      "text/html": [
       "<b>Example URL:</b> <a href=\"http://0.0.0.0:5000/api/v1/chebi/ebel/nodes?name=ATP&namespace=CHEBI&chebi=15422&page_size=1&page=1\">http://0.0.0.0:5000/api/v1/chebi/ebel/nodes?name=ATP&namespace=CHEBI&chebi=15422&page_size=1&page=1</a>"
      ],
      "text/plain": [
       "<IPython.core.display.HTML object>"
      ]
     },
     "metadata": {},
     "output_type": "display_data"
    },
    {
     "data": {
      "text/html": [
       "<b style=\"color: rgb(98,98,98); text-decoration: underline;\">Example response:</b>"
      ],
      "text/plain": [
       "<IPython.core.display.HTML object>"
      ]
     },
     "metadata": {},
     "output_type": "display_data"
    },
    {
     "name": "stdout",
     "output_type": "stream",
     "text": [
      "{\u001b[38;5;124m'\u001b[39m\u001b[38;5;124mnumber_of_results\u001b[39m\u001b[38;5;124m'\u001b[39m: \u001b[38;5;241m73\u001b[39m,\n",
      " \u001b[38;5;124m'\u001b[39m\u001b[38;5;124mpage\u001b[39m\u001b[38;5;124m'\u001b[39m: \u001b[38;5;241m1\u001b[39m,\n",
      " \u001b[38;5;124m'\u001b[39m\u001b[38;5;124mpage_size\u001b[39m\u001b[38;5;124m'\u001b[39m: \u001b[38;5;241m1\u001b[39m,\n",
      " \u001b[38;5;124m'\u001b[39m\u001b[38;5;124mpages\u001b[39m\u001b[38;5;124m'\u001b[39m: \u001b[38;5;241m73\u001b[39m,\n",
      " \u001b[38;5;124m'\u001b[39m\u001b[38;5;124mresults\u001b[39m\u001b[38;5;124m'\u001b[39m: [{\u001b[38;5;124m'\u001b[39m\u001b[38;5;124mbel\u001b[39m\u001b[38;5;124m'\u001b[39m: \u001b[38;5;124m'\u001b[39m\u001b[38;5;124ma(CHEBI:\u001b[39m\u001b[38;5;124m\"\u001b[39m\u001b[38;5;124mATP\u001b[39m\u001b[38;5;124m\"\u001b[39m\u001b[38;5;124m)\u001b[39m\u001b[38;5;124m'\u001b[39m,\n",
      "              \u001b[38;5;124m'\u001b[39m\u001b[38;5;124mchebi\u001b[39m\u001b[38;5;124m'\u001b[39m: \u001b[38;5;241m15422\u001b[39m,\n",
      "              \u001b[38;5;124m'\u001b[39m\u001b[38;5;124mname\u001b[39m\u001b[38;5;124m'\u001b[39m: \u001b[38;5;124m'\u001b[39m\u001b[38;5;124mATP\u001b[39m\u001b[38;5;124m'\u001b[39m,\n",
      "              \u001b[38;5;124m'\u001b[39m\u001b[38;5;124mnamespace\u001b[39m\u001b[38;5;124m'\u001b[39m: \u001b[38;5;124m'\u001b[39m\u001b[38;5;124mCHEBI\u001b[39m\u001b[38;5;124m'\u001b[39m,\n",
      "              \u001b[38;5;124m'\u001b[39m\u001b[38;5;124mrid\u001b[39m\u001b[38;5;124m'\u001b[39m: \u001b[38;5;124m'\u001b[39m\u001b[38;5;124m#122:6\u001b[39m\u001b[38;5;124m'\u001b[39m}]}\n",
      "\n",
      "For further testing go to http://0.0.0.0:5000/ui/#/e(BE:L)/ebel.web.api.ebel.v1.chebi.get_bel_chebi_ids\n"
     ]
    },
    {
     "data": {
      "text/html": [
       "<h2>4. Get ChEBI relation</h2>"
      ],
      "text/plain": [
       "<IPython.core.display.HTML object>"
      ]
     },
     "metadata": {},
     "output_type": "display_data"
    },
    {
     "data": {
      "text/html": [
       "<b style=\"color: rgb(98,98,98); text-decoration: underline;\">Description:</b> <p>Get ChEBI relation</p>"
      ],
      "text/plain": [
       "<IPython.core.display.HTML object>"
      ]
     },
     "metadata": {},
     "output_type": "display_data"
    },
    {
     "data": {
      "text/html": [
       "<b>Tags:</b> ['ChEBI', 'e(BE:L)']"
      ],
      "text/plain": [
       "<IPython.core.display.HTML object>"
      ]
     },
     "metadata": {},
     "output_type": "display_data"
    },
    {
     "data": {
      "text/html": [
       "<b>Server path:</b> /api/v1/chebi/relation"
      ],
      "text/plain": [
       "<IPython.core.display.HTML object>"
      ]
     },
     "metadata": {},
     "output_type": "display_data"
    },
    {
     "data": {
      "text/html": [
       "<div>\n",
       "<style scoped>\n",
       "    .dataframe tbody tr th:only-of-type {\n",
       "        vertical-align: middle;\n",
       "    }\n",
       "\n",
       "    .dataframe tbody tr th {\n",
       "        vertical-align: top;\n",
       "    }\n",
       "\n",
       "    .dataframe thead th {\n",
       "        text-align: right;\n",
       "    }\n",
       "</style>\n",
       "<table border=\"1\" class=\"dataframe\">\n",
       "  <thead>\n",
       "    <tr style=\"text-align: right;\">\n",
       "      <th></th>\n",
       "      <th>data type</th>\n",
       "      <th>description</th>\n",
       "      <th>example</th>\n",
       "      <th>options</th>\n",
       "      <th>default</th>\n",
       "      <th>required</th>\n",
       "    </tr>\n",
       "    <tr>\n",
       "      <th>parameter name</th>\n",
       "      <th></th>\n",
       "      <th></th>\n",
       "      <th></th>\n",
       "      <th></th>\n",
       "      <th></th>\n",
       "      <th></th>\n",
       "    </tr>\n",
       "  </thead>\n",
       "  <tbody>\n",
       "    <tr>\n",
       "      <th>type</th>\n",
       "      <td>string</td>\n",
       "      <td></td>\n",
       "      <td></td>\n",
       "      <td>[is_a, has_functional_parent, has_role, is_con...</td>\n",
       "      <td></td>\n",
       "      <td>False</td>\n",
       "    </tr>\n",
       "    <tr>\n",
       "      <th>status</th>\n",
       "      <td>string</td>\n",
       "      <td></td>\n",
       "      <td></td>\n",
       "      <td>[C, E, S]</td>\n",
       "      <td></td>\n",
       "      <td>False</td>\n",
       "    </tr>\n",
       "    <tr>\n",
       "      <th>final_id</th>\n",
       "      <td>integer</td>\n",
       "      <td></td>\n",
       "      <td>53289.0</td>\n",
       "      <td></td>\n",
       "      <td></td>\n",
       "      <td>False</td>\n",
       "    </tr>\n",
       "    <tr>\n",
       "      <th>init_id</th>\n",
       "      <td>integer</td>\n",
       "      <td></td>\n",
       "      <td></td>\n",
       "      <td></td>\n",
       "      <td></td>\n",
       "      <td>False</td>\n",
       "    </tr>\n",
       "  </tbody>\n",
       "</table>\n",
       "</div>"
      ],
      "text/plain": [
       "               data type description  example  \\\n",
       "parameter name                                  \n",
       "type              string                        \n",
       "status            string                        \n",
       "final_id         integer              53289.0   \n",
       "init_id          integer                        \n",
       "\n",
       "                                                          options default  \\\n",
       "parameter name                                                              \n",
       "type            [is_a, has_functional_parent, has_role, is_con...           \n",
       "status                                                  [C, E, S]           \n",
       "final_id                                                                    \n",
       "init_id                                                                     \n",
       "\n",
       "                required  \n",
       "parameter name            \n",
       "type               False  \n",
       "status             False  \n",
       "final_id           False  \n",
       "init_id            False  "
      ]
     },
     "metadata": {},
     "output_type": "display_data"
    },
    {
     "data": {
      "text/html": [
       "<b>Example URL:</b> <a href=\"http://0.0.0.0:5000/api/v1/chebi/relation?final_id=53289\">http://0.0.0.0:5000/api/v1/chebi/relation?final_id=53289</a>"
      ],
      "text/plain": [
       "<IPython.core.display.HTML object>"
      ]
     },
     "metadata": {},
     "output_type": "display_data"
    },
    {
     "name": "stdout",
     "output_type": "stream",
     "text": [
      "\n",
      "The result is a list and have 7 entries. Here we show only the first entry.\n",
      "\n"
     ]
    },
    {
     "data": {
      "text/html": [
       "<b style=\"color: rgb(98,98,98); text-decoration: underline;\">Example response:</b>"
      ],
      "text/plain": [
       "<IPython.core.display.HTML object>"
      ]
     },
     "metadata": {},
     "output_type": "display_data"
    },
    {
     "name": "stdout",
     "output_type": "stream",
     "text": [
      "{\u001b[38;5;124m'\u001b[39m\u001b[38;5;124mfinal_id\u001b[39m\u001b[38;5;124m'\u001b[39m: \u001b[38;5;241m53289\u001b[39m, \u001b[38;5;124m'\u001b[39m\u001b[38;5;124minit_id\u001b[39m\u001b[38;5;124m'\u001b[39m: \u001b[38;5;241m38462\u001b[39m, \u001b[38;5;124m'\u001b[39m\u001b[38;5;124mstatus\u001b[39m\u001b[38;5;124m'\u001b[39m: \u001b[38;5;124m'\u001b[39m\u001b[38;5;124mC\u001b[39m\u001b[38;5;124m'\u001b[39m, \u001b[38;5;124m'\u001b[39m\u001b[38;5;124mtype\u001b[39m\u001b[38;5;124m'\u001b[39m: \u001b[38;5;124m'\u001b[39m\u001b[38;5;124mhas_role\u001b[39m\u001b[38;5;124m'\u001b[39m}\n",
      "\n",
      "For further testing go to http://0.0.0.0:5000/ui/#/e(BE:L)/ebel.web.api.ebel.v1.chebi.get_relation\n"
     ]
    },
    {
     "data": {
      "text/html": [
       "<h2>5. Search clinvar by e(BE:L) relation</h2>"
      ],
      "text/plain": [
       "<IPython.core.display.HTML object>"
      ]
     },
     "metadata": {},
     "output_type": "display_data"
    },
    {
     "data": {
      "text/html": [
       "<b style=\"color: rgb(98,98,98); text-decoration: underline;\">Description:</b> <p>Search clinvar by e(BE:L) relation</p>"
      ],
      "text/plain": [
       "<IPython.core.display.HTML object>"
      ]
     },
     "metadata": {},
     "output_type": "display_data"
    },
    {
     "data": {
      "text/html": [
       "<b>Tags:</b> ['ClinVar', 'e(BE:L)']"
      ],
      "text/plain": [
       "<IPython.core.display.HTML object>"
      ]
     },
     "metadata": {},
     "output_type": "display_data"
    },
    {
     "data": {
      "text/html": [
       "<b>Server path:</b> /api/v1/clinvar/ebel/relation"
      ],
      "text/plain": [
       "<IPython.core.display.HTML object>"
      ]
     },
     "metadata": {},
     "output_type": "display_data"
    },
    {
     "data": {
      "text/html": [
       "<div>\n",
       "<style scoped>\n",
       "    .dataframe tbody tr th:only-of-type {\n",
       "        vertical-align: middle;\n",
       "    }\n",
       "\n",
       "    .dataframe tbody tr th {\n",
       "        vertical-align: top;\n",
       "    }\n",
       "\n",
       "    .dataframe thead th {\n",
       "        text-align: right;\n",
       "    }\n",
       "</style>\n",
       "<table border=\"1\" class=\"dataframe\">\n",
       "  <thead>\n",
       "    <tr style=\"text-align: right;\">\n",
       "      <th></th>\n",
       "      <th>data type</th>\n",
       "      <th>description</th>\n",
       "      <th>example</th>\n",
       "      <th>options</th>\n",
       "      <th>default</th>\n",
       "      <th>required</th>\n",
       "    </tr>\n",
       "    <tr>\n",
       "      <th>parameter name</th>\n",
       "      <th></th>\n",
       "      <th></th>\n",
       "      <th></th>\n",
       "      <th></th>\n",
       "      <th></th>\n",
       "      <th></th>\n",
       "    </tr>\n",
       "  </thead>\n",
       "  <tbody>\n",
       "    <tr>\n",
       "      <th>namespace</th>\n",
       "      <td>string</td>\n",
       "      <td></td>\n",
       "      <td>HGNC</td>\n",
       "      <td></td>\n",
       "      <td></td>\n",
       "      <td>False</td>\n",
       "    </tr>\n",
       "    <tr>\n",
       "      <th>name</th>\n",
       "      <td>string</td>\n",
       "      <td>Gene symbol</td>\n",
       "      <td>PSEN1</td>\n",
       "      <td></td>\n",
       "      <td></td>\n",
       "      <td>False</td>\n",
       "    </tr>\n",
       "    <tr>\n",
       "      <th>phenotype</th>\n",
       "      <td>string</td>\n",
       "      <td></td>\n",
       "      <td>Alzheimer disease, type 3</td>\n",
       "      <td></td>\n",
       "      <td></td>\n",
       "      <td>False</td>\n",
       "    </tr>\n",
       "    <tr>\n",
       "      <th>clinical_significance</th>\n",
       "      <td>string</td>\n",
       "      <td></td>\n",
       "      <td>Pathogenic</td>\n",
       "      <td></td>\n",
       "      <td></td>\n",
       "      <td>False</td>\n",
       "    </tr>\n",
       "    <tr>\n",
       "      <th>relation_type</th>\n",
       "      <td>string</td>\n",
       "      <td></td>\n",
       "      <td>has_snp_clinvar</td>\n",
       "      <td>[has_downstream_snp_cv, has_mapped_snp_cv, has...</td>\n",
       "      <td></td>\n",
       "      <td>False</td>\n",
       "    </tr>\n",
       "    <tr>\n",
       "      <th>keyword</th>\n",
       "      <td>string</td>\n",
       "      <td></td>\n",
       "      <td>Alzheimer</td>\n",
       "      <td></td>\n",
       "      <td></td>\n",
       "      <td>False</td>\n",
       "    </tr>\n",
       "    <tr>\n",
       "      <th>rs_number</th>\n",
       "      <td>string</td>\n",
       "      <td></td>\n",
       "      <td>rs63750526</td>\n",
       "      <td></td>\n",
       "      <td></td>\n",
       "      <td>False</td>\n",
       "    </tr>\n",
       "    <tr>\n",
       "      <th>page_size</th>\n",
       "      <td>integer</td>\n",
       "      <td>Results per page</td>\n",
       "      <td>1</td>\n",
       "      <td></td>\n",
       "      <td>10.0</td>\n",
       "      <td>False</td>\n",
       "    </tr>\n",
       "    <tr>\n",
       "      <th>page</th>\n",
       "      <td>integer</td>\n",
       "      <td>Page number (starting with 1)</td>\n",
       "      <td>1</td>\n",
       "      <td></td>\n",
       "      <td>1.0</td>\n",
       "      <td>False</td>\n",
       "    </tr>\n",
       "  </tbody>\n",
       "</table>\n",
       "</div>"
      ],
      "text/plain": [
       "                      data type                    description  \\\n",
       "parameter name                                                   \n",
       "namespace                string                                  \n",
       "name                     string                    Gene symbol   \n",
       "phenotype                string                                  \n",
       "clinical_significance    string                                  \n",
       "relation_type            string                                  \n",
       "keyword                  string                                  \n",
       "rs_number                string                                  \n",
       "page_size               integer               Results per page   \n",
       "page                    integer  Page number (starting with 1)   \n",
       "\n",
       "                                         example  \\\n",
       "parameter name                                     \n",
       "namespace                                   HGNC   \n",
       "name                                       PSEN1   \n",
       "phenotype              Alzheimer disease, type 3   \n",
       "clinical_significance                 Pathogenic   \n",
       "relation_type                    has_snp_clinvar   \n",
       "keyword                                Alzheimer   \n",
       "rs_number                             rs63750526   \n",
       "page_size                                      1   \n",
       "page                                           1   \n",
       "\n",
       "                                                                 options  \\\n",
       "parameter name                                                             \n",
       "namespace                                                                  \n",
       "name                                                                       \n",
       "phenotype                                                                  \n",
       "clinical_significance                                                      \n",
       "relation_type          [has_downstream_snp_cv, has_mapped_snp_cv, has...   \n",
       "keyword                                                                    \n",
       "rs_number                                                                  \n",
       "page_size                                                                  \n",
       "page                                                                       \n",
       "\n",
       "                      default  required  \n",
       "parameter name                           \n",
       "namespace                         False  \n",
       "name                              False  \n",
       "phenotype                         False  \n",
       "clinical_significance             False  \n",
       "relation_type                     False  \n",
       "keyword                           False  \n",
       "rs_number                         False  \n",
       "page_size                10.0     False  \n",
       "page                      1.0     False  "
      ]
     },
     "metadata": {},
     "output_type": "display_data"
    },
    {
     "data": {
      "text/html": [
       "<b>Example URL:</b> <a href=\"http://0.0.0.0:5000/api/v1/clinvar/ebel/relation?namespace=HGNC&name=PSEN1&phenotype=Alzheimer+disease%2C+type+3&clinical_significance=Pathogenic&relation_type=has_snp_clinvar&keyword=Alzheimer&rs_number=rs63750526&page_size=1&page=1\">http://0.0.0.0:5000/api/v1/clinvar/ebel/relation?namespace=HGNC&name=PSEN1&phenotype=Alzheimer+disease%2C+type+3&clinical_significance=Pathogenic&relation_type=has_snp_clinvar&keyword=Alzheimer&rs_number=rs63750526&page_size=1&page=1</a>"
      ],
      "text/plain": [
       "<IPython.core.display.HTML object>"
      ]
     },
     "metadata": {},
     "output_type": "display_data"
    },
    {
     "data": {
      "text/html": [
       "<b style=\"color: rgb(98,98,98); text-decoration: underline;\">Example response:</b>"
      ],
      "text/plain": [
       "<IPython.core.display.HTML object>"
      ]
     },
     "metadata": {},
     "output_type": "display_data"
    },
    {
     "name": "stdout",
     "output_type": "stream",
     "text": [
      "{\u001b[38;5;124m'\u001b[39m\u001b[38;5;124mnumber_of_results\u001b[39m\u001b[38;5;124m'\u001b[39m: \u001b[38;5;241m3\u001b[39m,\n",
      " \u001b[38;5;124m'\u001b[39m\u001b[38;5;124mpage\u001b[39m\u001b[38;5;124m'\u001b[39m: \u001b[38;5;241m1\u001b[39m,\n",
      " \u001b[38;5;124m'\u001b[39m\u001b[38;5;124mpage_size\u001b[39m\u001b[38;5;124m'\u001b[39m: \u001b[38;5;241m1\u001b[39m,\n",
      " \u001b[38;5;124m'\u001b[39m\u001b[38;5;124mpages\u001b[39m\u001b[38;5;124m'\u001b[39m: \u001b[38;5;241m3\u001b[39m,\n",
      " \u001b[38;5;124m'\u001b[39m\u001b[38;5;124mresults\u001b[39m\u001b[38;5;124m'\u001b[39m: [{\u001b[38;5;124m'\u001b[39m\u001b[38;5;124mclinical_significance\u001b[39m\u001b[38;5;124m'\u001b[39m: \u001b[38;5;124m'\u001b[39m\u001b[38;5;124mPathogenic\u001b[39m\u001b[38;5;124m'\u001b[39m,\n",
      "              \u001b[38;5;124m'\u001b[39m\u001b[38;5;124mname\u001b[39m\u001b[38;5;124m'\u001b[39m: \u001b[38;5;124m'\u001b[39m\u001b[38;5;124mPSEN1\u001b[39m\u001b[38;5;124m'\u001b[39m,\n",
      "              \u001b[38;5;124m'\u001b[39m\u001b[38;5;124mnamespace\u001b[39m\u001b[38;5;124m'\u001b[39m: \u001b[38;5;124m'\u001b[39m\u001b[38;5;124mHGNC\u001b[39m\u001b[38;5;124m'\u001b[39m,\n",
      "              \u001b[38;5;124m'\u001b[39m\u001b[38;5;124mphenotype\u001b[39m\u001b[38;5;124m'\u001b[39m: \u001b[38;5;124m'\u001b[39m\u001b[38;5;124mAlzheimer disease, type 3\u001b[39m\u001b[38;5;124m'\u001b[39m,\n",
      "              \u001b[38;5;124m'\u001b[39m\u001b[38;5;124mrelation_type\u001b[39m\u001b[38;5;124m'\u001b[39m: \u001b[38;5;124m'\u001b[39m\u001b[38;5;124mhas_mapped_snp_cv\u001b[39m\u001b[38;5;124m'\u001b[39m,\n",
      "              \u001b[38;5;124m'\u001b[39m\u001b[38;5;124mrs_number\u001b[39m\u001b[38;5;124m'\u001b[39m: \u001b[38;5;124m'\u001b[39m\u001b[38;5;124mrs63750526\u001b[39m\u001b[38;5;124m'\u001b[39m}]}\n",
      "\n",
      "For further testing go to http://0.0.0.0:5000/ui/#/e(BE:L)/ebel.web.api.ebel.v1.clinvar.get_ebel_relation\n"
     ]
    },
    {
     "data": {
      "text/html": [
       "<h2>6. DisGeNET SNP-gene relation from e(BE:L) knowledge graph</h2>"
      ],
      "text/plain": [
       "<IPython.core.display.HTML object>"
      ]
     },
     "metadata": {},
     "output_type": "display_data"
    },
    {
     "data": {
      "text/html": [
       "<b style=\"color: rgb(98,98,98); text-decoration: underline;\">Description:</b> <p>DisGeNET SNP-gene relation from e(BE:L) knowledge graph</p>"
      ],
      "text/plain": [
       "<IPython.core.display.HTML object>"
      ]
     },
     "metadata": {},
     "output_type": "display_data"
    },
    {
     "data": {
      "text/html": [
       "<b>Tags:</b> ['DisGeNET', 'e(BE:L)']"
      ],
      "text/plain": [
       "<IPython.core.display.HTML object>"
      ]
     },
     "metadata": {},
     "output_type": "display_data"
    },
    {
     "data": {
      "text/html": [
       "<b>Server path:</b> /api/v1/disgenet/ebel"
      ],
      "text/plain": [
       "<IPython.core.display.HTML object>"
      ]
     },
     "metadata": {},
     "output_type": "display_data"
    },
    {
     "data": {
      "text/html": [
       "<div>\n",
       "<style scoped>\n",
       "    .dataframe tbody tr th:only-of-type {\n",
       "        vertical-align: middle;\n",
       "    }\n",
       "\n",
       "    .dataframe tbody tr th {\n",
       "        vertical-align: top;\n",
       "    }\n",
       "\n",
       "    .dataframe thead th {\n",
       "        text-align: right;\n",
       "    }\n",
       "</style>\n",
       "<table border=\"1\" class=\"dataframe\">\n",
       "  <thead>\n",
       "    <tr style=\"text-align: right;\">\n",
       "      <th></th>\n",
       "      <th>data type</th>\n",
       "      <th>description</th>\n",
       "      <th>example</th>\n",
       "      <th>options</th>\n",
       "      <th>default</th>\n",
       "      <th>required</th>\n",
       "    </tr>\n",
       "    <tr>\n",
       "      <th>parameter name</th>\n",
       "      <th></th>\n",
       "      <th></th>\n",
       "      <th></th>\n",
       "      <th></th>\n",
       "      <th></th>\n",
       "      <th></th>\n",
       "    </tr>\n",
       "  </thead>\n",
       "  <tbody>\n",
       "    <tr>\n",
       "      <th>relation</th>\n",
       "      <td>string</td>\n",
       "      <td></td>\n",
       "      <td>has_dgn_snp</td>\n",
       "      <td>[has_dgn_snp, has_downstream_snp_dgn, has_mapp...</td>\n",
       "      <td></td>\n",
       "      <td>False</td>\n",
       "    </tr>\n",
       "    <tr>\n",
       "      <th>disease_name</th>\n",
       "      <td>string</td>\n",
       "      <td></td>\n",
       "      <td>Alzheimer's Disease</td>\n",
       "      <td></td>\n",
       "      <td></td>\n",
       "      <td>False</td>\n",
       "    </tr>\n",
       "    <tr>\n",
       "      <th>rs_number</th>\n",
       "      <td>string</td>\n",
       "      <td></td>\n",
       "      <td>rs10408847</td>\n",
       "      <td></td>\n",
       "      <td></td>\n",
       "      <td>False</td>\n",
       "    </tr>\n",
       "    <tr>\n",
       "      <th>pmid</th>\n",
       "      <td>integer</td>\n",
       "      <td></td>\n",
       "      <td>29777097</td>\n",
       "      <td></td>\n",
       "      <td></td>\n",
       "      <td>False</td>\n",
       "    </tr>\n",
       "    <tr>\n",
       "      <th>source</th>\n",
       "      <td>string</td>\n",
       "      <td></td>\n",
       "      <td>GWASCAT</td>\n",
       "      <td></td>\n",
       "      <td></td>\n",
       "      <td>False</td>\n",
       "    </tr>\n",
       "    <tr>\n",
       "      <th>name</th>\n",
       "      <td>string</td>\n",
       "      <td>Gene symbol</td>\n",
       "      <td>MARK4</td>\n",
       "      <td></td>\n",
       "      <td></td>\n",
       "      <td>False</td>\n",
       "    </tr>\n",
       "    <tr>\n",
       "      <th>namespace</th>\n",
       "      <td>string</td>\n",
       "      <td>Gene symbol namespace</td>\n",
       "      <td>HGNC</td>\n",
       "      <td></td>\n",
       "      <td></td>\n",
       "      <td>False</td>\n",
       "    </tr>\n",
       "    <tr>\n",
       "      <th>page_size</th>\n",
       "      <td>integer</td>\n",
       "      <td>Results per page</td>\n",
       "      <td>1</td>\n",
       "      <td></td>\n",
       "      <td>10.0</td>\n",
       "      <td>False</td>\n",
       "    </tr>\n",
       "    <tr>\n",
       "      <th>page</th>\n",
       "      <td>integer</td>\n",
       "      <td>Page number (starting with 1)</td>\n",
       "      <td>1</td>\n",
       "      <td></td>\n",
       "      <td>1.0</td>\n",
       "      <td>False</td>\n",
       "    </tr>\n",
       "  </tbody>\n",
       "</table>\n",
       "</div>"
      ],
      "text/plain": [
       "               data type                    description              example  \\\n",
       "parameter name                                                                 \n",
       "relation          string                                         has_dgn_snp   \n",
       "disease_name      string                                 Alzheimer's Disease   \n",
       "rs_number         string                                          rs10408847   \n",
       "pmid             integer                                            29777097   \n",
       "source            string                                             GWASCAT   \n",
       "name              string                    Gene symbol                MARK4   \n",
       "namespace         string          Gene symbol namespace                 HGNC   \n",
       "page_size        integer               Results per page                    1   \n",
       "page             integer  Page number (starting with 1)                    1   \n",
       "\n",
       "                                                          options default  \\\n",
       "parameter name                                                              \n",
       "relation        [has_dgn_snp, has_downstream_snp_dgn, has_mapp...           \n",
       "disease_name                                                                \n",
       "rs_number                                                                   \n",
       "pmid                                                                        \n",
       "source                                                                      \n",
       "name                                                                        \n",
       "namespace                                                                   \n",
       "page_size                                                            10.0   \n",
       "page                                                                  1.0   \n",
       "\n",
       "                required  \n",
       "parameter name            \n",
       "relation           False  \n",
       "disease_name       False  \n",
       "rs_number          False  \n",
       "pmid               False  \n",
       "source             False  \n",
       "name               False  \n",
       "namespace          False  \n",
       "page_size          False  \n",
       "page               False  "
      ]
     },
     "metadata": {},
     "output_type": "display_data"
    },
    {
     "data": {
      "text/html": [
       "<b>Example URL:</b> <a href=\"http://0.0.0.0:5000/api/v1/disgenet/ebel?relation=has_dgn_snp&disease_name=Alzheimer%27s+Disease&rs_number=rs10408847&pmid=29777097&source=GWASCAT&name=MARK4&namespace=HGNC&page_size=1&page=1\">http://0.0.0.0:5000/api/v1/disgenet/ebel?relation=has_dgn_snp&disease_name=Alzheimer%27s+Disease&rs_number=rs10408847&pmid=29777097&source=GWASCAT&name=MARK4&namespace=HGNC&page_size=1&page=1</a>"
      ],
      "text/plain": [
       "<IPython.core.display.HTML object>"
      ]
     },
     "metadata": {},
     "output_type": "display_data"
    },
    {
     "data": {
      "text/html": [
       "<b style=\"color: rgb(98,98,98); text-decoration: underline;\">Example response:</b>"
      ],
      "text/plain": [
       "<IPython.core.display.HTML object>"
      ]
     },
     "metadata": {},
     "output_type": "display_data"
    },
    {
     "name": "stdout",
     "output_type": "stream",
     "text": [
      "{\u001b[38;5;124m'\u001b[39m\u001b[38;5;124mnumber_of_results\u001b[39m\u001b[38;5;124m'\u001b[39m: \u001b[38;5;241m1\u001b[39m,\n",
      " \u001b[38;5;124m'\u001b[39m\u001b[38;5;124mpage\u001b[39m\u001b[38;5;124m'\u001b[39m: \u001b[38;5;241m1\u001b[39m,\n",
      " \u001b[38;5;124m'\u001b[39m\u001b[38;5;124mpage_size\u001b[39m\u001b[38;5;124m'\u001b[39m: \u001b[38;5;241m1\u001b[39m,\n",
      " \u001b[38;5;124m'\u001b[39m\u001b[38;5;124mpages\u001b[39m\u001b[38;5;124m'\u001b[39m: \u001b[38;5;241m1\u001b[39m,\n",
      " \u001b[38;5;124m'\u001b[39m\u001b[38;5;124mresults\u001b[39m\u001b[38;5;124m'\u001b[39m: [{\u001b[38;5;124m'\u001b[39m\u001b[38;5;124mdisease_name\u001b[39m\u001b[38;5;124m'\u001b[39m: \u001b[38;5;124m\"\u001b[39m\u001b[38;5;124mAlzheimer\u001b[39m\u001b[38;5;124m'\u001b[39m\u001b[38;5;124ms Disease\u001b[39m\u001b[38;5;124m\"\u001b[39m,\n",
      "              \u001b[38;5;124m'\u001b[39m\u001b[38;5;124mgene_rid\u001b[39m\u001b[38;5;124m'\u001b[39m: \u001b[38;5;124m'\u001b[39m\u001b[38;5;124m#159:63\u001b[39m\u001b[38;5;124m'\u001b[39m,\n",
      "              \u001b[38;5;124m'\u001b[39m\u001b[38;5;124mgene_symbol\u001b[39m\u001b[38;5;124m'\u001b[39m: \u001b[38;5;124m'\u001b[39m\u001b[38;5;124mMARK4\u001b[39m\u001b[38;5;124m'\u001b[39m,\n",
      "              \u001b[38;5;124m'\u001b[39m\u001b[38;5;124mpmids\u001b[39m\u001b[38;5;124m'\u001b[39m: [\u001b[38;5;241m29777097\u001b[39m],\n",
      "              \u001b[38;5;124m'\u001b[39m\u001b[38;5;124mrelation\u001b[39m\u001b[38;5;124m'\u001b[39m: \u001b[38;5;124m'\u001b[39m\u001b[38;5;124mhas_mapped_snp_dgn\u001b[39m\u001b[38;5;124m'\u001b[39m,\n",
      "              \u001b[38;5;124m'\u001b[39m\u001b[38;5;124mrid\u001b[39m\u001b[38;5;124m'\u001b[39m: \u001b[38;5;124m'\u001b[39m\u001b[38;5;124m#3029:0\u001b[39m\u001b[38;5;124m'\u001b[39m,\n",
      "              \u001b[38;5;124m'\u001b[39m\u001b[38;5;124mscore\u001b[39m\u001b[38;5;124m'\u001b[39m: \u001b[38;5;241m0.7\u001b[39m,\n",
      "              \u001b[38;5;124m'\u001b[39m\u001b[38;5;124msnp_rid\u001b[39m\u001b[38;5;124m'\u001b[39m: \u001b[38;5;124m'\u001b[39m\u001b[38;5;124m#1607:8\u001b[39m\u001b[38;5;124m'\u001b[39m,\n",
      "              \u001b[38;5;124m'\u001b[39m\u001b[38;5;124msnp_rs_number\u001b[39m\u001b[38;5;124m'\u001b[39m: \u001b[38;5;124m'\u001b[39m\u001b[38;5;124mrs10408847\u001b[39m\u001b[38;5;124m'\u001b[39m,\n",
      "              \u001b[38;5;124m'\u001b[39m\u001b[38;5;124msource\u001b[39m\u001b[38;5;124m'\u001b[39m: \u001b[38;5;124m'\u001b[39m\u001b[38;5;124mGWASCAT\u001b[39m\u001b[38;5;124m'\u001b[39m}]}\n",
      "\n",
      "For further testing go to http://0.0.0.0:5000/ui/#/e(BE:L)/ebel.web.api.ebel.v1.disgenet.get_ebel_has_snp_disgenet\n"
     ]
    },
    {
     "data": {
      "text/html": [
       "<h2>7. Drug/target relation in e(BE:L) knowledge base</h2>"
      ],
      "text/plain": [
       "<IPython.core.display.HTML object>"
      ]
     },
     "metadata": {},
     "output_type": "display_data"
    },
    {
     "data": {
      "text/html": [
       "<b style=\"color: rgb(98,98,98); text-decoration: underline;\">Description:</b> <p>Drug/target relation in e(BE:L) knowledge base</p>"
      ],
      "text/plain": [
       "<IPython.core.display.HTML object>"
      ]
     },
     "metadata": {},
     "output_type": "display_data"
    },
    {
     "data": {
      "text/html": [
       "<b>Tags:</b> ['Drugbank', 'e(BE:L)']"
      ],
      "text/plain": [
       "<IPython.core.display.HTML object>"
      ]
     },
     "metadata": {},
     "output_type": "display_data"
    },
    {
     "data": {
      "text/html": [
       "<b>Server path:</b> /api/v1/drugbank/ebel/relation"
      ],
      "text/plain": [
       "<IPython.core.display.HTML object>"
      ]
     },
     "metadata": {},
     "output_type": "display_data"
    },
    {
     "data": {
      "text/html": [
       "<div>\n",
       "<style scoped>\n",
       "    .dataframe tbody tr th:only-of-type {\n",
       "        vertical-align: middle;\n",
       "    }\n",
       "\n",
       "    .dataframe tbody tr th {\n",
       "        vertical-align: top;\n",
       "    }\n",
       "\n",
       "    .dataframe thead th {\n",
       "        text-align: right;\n",
       "    }\n",
       "</style>\n",
       "<table border=\"1\" class=\"dataframe\">\n",
       "  <thead>\n",
       "    <tr style=\"text-align: right;\">\n",
       "      <th></th>\n",
       "      <th>data type</th>\n",
       "      <th>description</th>\n",
       "      <th>example</th>\n",
       "      <th>options</th>\n",
       "      <th>default</th>\n",
       "      <th>required</th>\n",
       "    </tr>\n",
       "    <tr>\n",
       "      <th>parameter name</th>\n",
       "      <th></th>\n",
       "      <th></th>\n",
       "      <th></th>\n",
       "      <th></th>\n",
       "      <th></th>\n",
       "      <th></th>\n",
       "    </tr>\n",
       "  </thead>\n",
       "  <tbody>\n",
       "    <tr>\n",
       "      <th>drug_rid</th>\n",
       "      <td>string</td>\n",
       "      <td>e(BE:L) rid</td>\n",
       "      <td></td>\n",
       "      <td></td>\n",
       "      <td></td>\n",
       "      <td>False</td>\n",
       "    </tr>\n",
       "    <tr>\n",
       "      <th>drug_name</th>\n",
       "      <td>string</td>\n",
       "      <td></td>\n",
       "      <td>Flortaucipir F-18</td>\n",
       "      <td></td>\n",
       "      <td></td>\n",
       "      <td>False</td>\n",
       "    </tr>\n",
       "    <tr>\n",
       "      <th>drugbank_id</th>\n",
       "      <td>string</td>\n",
       "      <td>e(BE:L) rid</td>\n",
       "      <td>DB14914</td>\n",
       "      <td></td>\n",
       "      <td></td>\n",
       "      <td>False</td>\n",
       "    </tr>\n",
       "    <tr>\n",
       "      <th>edge_rid</th>\n",
       "      <td>string</td>\n",
       "      <td></td>\n",
       "      <td></td>\n",
       "      <td></td>\n",
       "      <td></td>\n",
       "      <td>False</td>\n",
       "    </tr>\n",
       "    <tr>\n",
       "      <th>action</th>\n",
       "      <td>string</td>\n",
       "      <td></td>\n",
       "      <td>binder</td>\n",
       "      <td></td>\n",
       "      <td></td>\n",
       "      <td>False</td>\n",
       "    </tr>\n",
       "    <tr>\n",
       "      <th>known_action</th>\n",
       "      <td>string</td>\n",
       "      <td></td>\n",
       "      <td>yes</td>\n",
       "      <td></td>\n",
       "      <td></td>\n",
       "      <td>False</td>\n",
       "    </tr>\n",
       "    <tr>\n",
       "      <th>target_rid</th>\n",
       "      <td>string</td>\n",
       "      <td></td>\n",
       "      <td></td>\n",
       "      <td></td>\n",
       "      <td></td>\n",
       "      <td>False</td>\n",
       "    </tr>\n",
       "    <tr>\n",
       "      <th>target_name</th>\n",
       "      <td>string</td>\n",
       "      <td>e(BE:L) rid</td>\n",
       "      <td>MAPT</td>\n",
       "      <td></td>\n",
       "      <td></td>\n",
       "      <td>False</td>\n",
       "    </tr>\n",
       "    <tr>\n",
       "      <th>target_namespace</th>\n",
       "      <td>string</td>\n",
       "      <td></td>\n",
       "      <td>HGNC</td>\n",
       "      <td></td>\n",
       "      <td></td>\n",
       "      <td>False</td>\n",
       "    </tr>\n",
       "    <tr>\n",
       "      <th>target_uniprot_accession</th>\n",
       "      <td>string</td>\n",
       "      <td></td>\n",
       "      <td>P10636</td>\n",
       "      <td></td>\n",
       "      <td></td>\n",
       "      <td>False</td>\n",
       "    </tr>\n",
       "    <tr>\n",
       "      <th>page_size</th>\n",
       "      <td>integer</td>\n",
       "      <td>Results per page</td>\n",
       "      <td>1</td>\n",
       "      <td></td>\n",
       "      <td>10.0</td>\n",
       "      <td>False</td>\n",
       "    </tr>\n",
       "    <tr>\n",
       "      <th>page</th>\n",
       "      <td>integer</td>\n",
       "      <td>Page number (starting with 1)</td>\n",
       "      <td>1</td>\n",
       "      <td></td>\n",
       "      <td>1.0</td>\n",
       "      <td>False</td>\n",
       "    </tr>\n",
       "  </tbody>\n",
       "</table>\n",
       "</div>"
      ],
      "text/plain": [
       "                         data type                    description  \\\n",
       "parameter name                                                      \n",
       "drug_rid                    string                    e(BE:L) rid   \n",
       "drug_name                   string                                  \n",
       "drugbank_id                 string                    e(BE:L) rid   \n",
       "edge_rid                    string                                  \n",
       "action                      string                                  \n",
       "known_action                string                                  \n",
       "target_rid                  string                                  \n",
       "target_name                 string                    e(BE:L) rid   \n",
       "target_namespace            string                                  \n",
       "target_uniprot_accession    string                                  \n",
       "page_size                  integer               Results per page   \n",
       "page                       integer  Page number (starting with 1)   \n",
       "\n",
       "                                    example options default  required  \n",
       "parameter name                                                         \n",
       "drug_rid                                                        False  \n",
       "drug_name                 Flortaucipir F-18                     False  \n",
       "drugbank_id                         DB14914                     False  \n",
       "edge_rid                                                        False  \n",
       "action                               binder                     False  \n",
       "known_action                            yes                     False  \n",
       "target_rid                                                      False  \n",
       "target_name                            MAPT                     False  \n",
       "target_namespace                       HGNC                     False  \n",
       "target_uniprot_accession             P10636                     False  \n",
       "page_size                                 1            10.0     False  \n",
       "page                                      1             1.0     False  "
      ]
     },
     "metadata": {},
     "output_type": "display_data"
    },
    {
     "data": {
      "text/html": [
       "<b>Example URL:</b> <a href=\"http://0.0.0.0:5000/api/v1/drugbank/ebel/relation?drug_name=Flortaucipir+F-18&drugbank_id=DB14914&action=binder&known_action=yes&target_name=MAPT&target_namespace=HGNC&target_uniprot_accession=P10636&page_size=1&page=1\">http://0.0.0.0:5000/api/v1/drugbank/ebel/relation?drug_name=Flortaucipir+F-18&drugbank_id=DB14914&action=binder&known_action=yes&target_name=MAPT&target_namespace=HGNC&target_uniprot_accession=P10636&page_size=1&page=1</a>"
      ],
      "text/plain": [
       "<IPython.core.display.HTML object>"
      ]
     },
     "metadata": {},
     "output_type": "display_data"
    },
    {
     "data": {
      "text/html": [
       "<b style=\"color: rgb(98,98,98); text-decoration: underline;\">Example response:</b>"
      ],
      "text/plain": [
       "<IPython.core.display.HTML object>"
      ]
     },
     "metadata": {},
     "output_type": "display_data"
    },
    {
     "name": "stdout",
     "output_type": "stream",
     "text": [
      "{\u001b[38;5;124m'\u001b[39m\u001b[38;5;124mnumber_of_results\u001b[39m\u001b[38;5;124m'\u001b[39m: \u001b[38;5;241m1\u001b[39m,\n",
      " \u001b[38;5;124m'\u001b[39m\u001b[38;5;124mpage\u001b[39m\u001b[38;5;124m'\u001b[39m: \u001b[38;5;241m1\u001b[39m,\n",
      " \u001b[38;5;124m'\u001b[39m\u001b[38;5;124mpage_size\u001b[39m\u001b[38;5;124m'\u001b[39m: \u001b[38;5;241m1\u001b[39m,\n",
      " \u001b[38;5;124m'\u001b[39m\u001b[38;5;124mpages\u001b[39m\u001b[38;5;124m'\u001b[39m: \u001b[38;5;241m1\u001b[39m,\n",
      " \u001b[38;5;124m'\u001b[39m\u001b[38;5;124mresults\u001b[39m\u001b[38;5;124m'\u001b[39m: [{\u001b[38;5;124m'\u001b[39m\u001b[38;5;124maction\u001b[39m\u001b[38;5;124m'\u001b[39m: \u001b[38;5;124m'\u001b[39m\u001b[38;5;124mbinder\u001b[39m\u001b[38;5;124m'\u001b[39m,\n",
      "              \u001b[38;5;124m'\u001b[39m\u001b[38;5;124mdrug_name\u001b[39m\u001b[38;5;124m'\u001b[39m: \u001b[38;5;124m'\u001b[39m\u001b[38;5;124mFlortaucipir F-18\u001b[39m\u001b[38;5;124m'\u001b[39m,\n",
      "              \u001b[38;5;124m'\u001b[39m\u001b[38;5;124mdrug_rid\u001b[39m\u001b[38;5;124m'\u001b[39m: \u001b[38;5;124m'\u001b[39m\u001b[38;5;124m#1547:104\u001b[39m\u001b[38;5;124m'\u001b[39m,\n",
      "              \u001b[38;5;124m'\u001b[39m\u001b[38;5;124mdrugbank_id\u001b[39m\u001b[38;5;124m'\u001b[39m: \u001b[38;5;124m'\u001b[39m\u001b[38;5;124mDB14914\u001b[39m\u001b[38;5;124m'\u001b[39m,\n",
      "              \u001b[38;5;124m'\u001b[39m\u001b[38;5;124medge_rid\u001b[39m\u001b[38;5;124m'\u001b[39m: \u001b[38;5;124m'\u001b[39m\u001b[38;5;124m#1562:157\u001b[39m\u001b[38;5;124m'\u001b[39m,\n",
      "              \u001b[38;5;124m'\u001b[39m\u001b[38;5;124mknown_action\u001b[39m\u001b[38;5;124m'\u001b[39m: \u001b[38;5;124m'\u001b[39m\u001b[38;5;124myes\u001b[39m\u001b[38;5;124m'\u001b[39m,\n",
      "              \u001b[38;5;124m'\u001b[39m\u001b[38;5;124mtarget_name\u001b[39m\u001b[38;5;124m'\u001b[39m: \u001b[38;5;124m'\u001b[39m\u001b[38;5;124mMAPT\u001b[39m\u001b[38;5;124m'\u001b[39m,\n",
      "              \u001b[38;5;124m'\u001b[39m\u001b[38;5;124mtarget_namespace\u001b[39m\u001b[38;5;124m'\u001b[39m: \u001b[38;5;124m'\u001b[39m\u001b[38;5;124mHGNC\u001b[39m\u001b[38;5;124m'\u001b[39m,\n",
      "              \u001b[38;5;124m'\u001b[39m\u001b[38;5;124mtarget_rid\u001b[39m\u001b[38;5;124m'\u001b[39m: \u001b[38;5;124m'\u001b[39m\u001b[38;5;124m#190:5\u001b[39m\u001b[38;5;124m'\u001b[39m,\n",
      "              \u001b[38;5;124m'\u001b[39m\u001b[38;5;124mtarget_uniprot_accession\u001b[39m\u001b[38;5;124m'\u001b[39m: \u001b[38;5;124m'\u001b[39m\u001b[38;5;124mP10636\u001b[39m\u001b[38;5;124m'\u001b[39m}]}\n",
      "\n",
      "For further testing go to http://0.0.0.0:5000/ui/#/e(BE:L)/ebel.web.api.ebel.v1.drugbank.get_has_drug_target_db\n"
     ]
    },
    {
     "data": {
      "text/html": [
       "<h2>8. Get e(BE:L) has_ppi_bg by subject (and object) gene symbol and taxonomy ID</h2>"
      ],
      "text/plain": [
       "<IPython.core.display.HTML object>"
      ]
     },
     "metadata": {},
     "output_type": "display_data"
    },
    {
     "data": {
      "text/html": [
       "<b style=\"color: rgb(98,98,98); text-decoration: underline;\">Description:</b> <p>Get e(BE:L) has_ppi_bg by subject (and object) gene symbol and taxonomy ID</p>"
      ],
      "text/plain": [
       "<IPython.core.display.HTML object>"
      ]
     },
     "metadata": {},
     "output_type": "display_data"
    },
    {
     "data": {
      "text/html": [
       "<b>Tags:</b> ['BioGRID', 'e(BE:L)']"
      ],
      "text/plain": [
       "<IPython.core.display.HTML object>"
      ]
     },
     "metadata": {},
     "output_type": "display_data"
    },
    {
     "data": {
      "text/html": [
       "<b>Server path:</b> /api/v1/ebel/biogrid/modification/by_symbol_taxid"
      ],
      "text/plain": [
       "<IPython.core.display.HTML object>"
      ]
     },
     "metadata": {},
     "output_type": "display_data"
    },
    {
     "data": {
      "text/html": [
       "<div>\n",
       "<style scoped>\n",
       "    .dataframe tbody tr th:only-of-type {\n",
       "        vertical-align: middle;\n",
       "    }\n",
       "\n",
       "    .dataframe tbody tr th {\n",
       "        vertical-align: top;\n",
       "    }\n",
       "\n",
       "    .dataframe thead th {\n",
       "        text-align: right;\n",
       "    }\n",
       "</style>\n",
       "<table border=\"1\" class=\"dataframe\">\n",
       "  <thead>\n",
       "    <tr style=\"text-align: right;\">\n",
       "      <th></th>\n",
       "      <th>data type</th>\n",
       "      <th>description</th>\n",
       "      <th>example</th>\n",
       "      <th>options</th>\n",
       "      <th>default</th>\n",
       "      <th>required</th>\n",
       "    </tr>\n",
       "    <tr>\n",
       "      <th>parameter name</th>\n",
       "      <th></th>\n",
       "      <th></th>\n",
       "      <th></th>\n",
       "      <th></th>\n",
       "      <th></th>\n",
       "      <th></th>\n",
       "    </tr>\n",
       "  </thead>\n",
       "  <tbody>\n",
       "    <tr>\n",
       "      <th>symbol</th>\n",
       "      <td>string</td>\n",
       "      <td>Gene symbol</td>\n",
       "      <td>MAPT</td>\n",
       "      <td></td>\n",
       "      <td></td>\n",
       "      <td>True</td>\n",
       "    </tr>\n",
       "    <tr>\n",
       "      <th>taxonomy_id</th>\n",
       "      <td>integer</td>\n",
       "      <td>NCBI taxonomy ID</td>\n",
       "      <td>9606</td>\n",
       "      <td></td>\n",
       "      <td>9606.0</td>\n",
       "      <td>False</td>\n",
       "    </tr>\n",
       "    <tr>\n",
       "      <th>modification</th>\n",
       "      <td>string</td>\n",
       "      <td>Posttranslational modification of interactor B...</td>\n",
       "      <td></td>\n",
       "      <td>[Phosphorylation, Ubiquitination, Acetylation,...</td>\n",
       "      <td></td>\n",
       "      <td>False</td>\n",
       "    </tr>\n",
       "  </tbody>\n",
       "</table>\n",
       "</div>"
      ],
      "text/plain": [
       "               data type                                        description  \\\n",
       "parameter name                                                                \n",
       "symbol            string                                        Gene symbol   \n",
       "taxonomy_id      integer                                   NCBI taxonomy ID   \n",
       "modification      string  Posttranslational modification of interactor B...   \n",
       "\n",
       "               example                                            options  \\\n",
       "parameter name                                                              \n",
       "symbol            MAPT                                                      \n",
       "taxonomy_id       9606                                                      \n",
       "modification            [Phosphorylation, Ubiquitination, Acetylation,...   \n",
       "\n",
       "               default  required  \n",
       "parameter name                    \n",
       "symbol                      True  \n",
       "taxonomy_id     9606.0     False  \n",
       "modification               False  "
      ]
     },
     "metadata": {},
     "output_type": "display_data"
    },
    {
     "data": {
      "text/html": [
       "<b>Example URL:</b> <a href=\"http://0.0.0.0:5000/api/v1/ebel/biogrid/modification/by_symbol_taxid?symbol=MAPT&taxonomy_id=9606\">http://0.0.0.0:5000/api/v1/ebel/biogrid/modification/by_symbol_taxid?symbol=MAPT&taxonomy_id=9606</a>"
      ],
      "text/plain": [
       "<IPython.core.display.HTML object>"
      ]
     },
     "metadata": {},
     "output_type": "display_data"
    },
    {
     "name": "stdout",
     "output_type": "stream",
     "text": [
      "\n",
      "The result is a list and have 91 entries. Here we show only the first entry.\n",
      "\n"
     ]
    },
    {
     "data": {
      "text/html": [
       "<b style=\"color: rgb(98,98,98); text-decoration: underline;\">Example response:</b>"
      ],
      "text/plain": [
       "<IPython.core.display.HTML object>"
      ]
     },
     "metadata": {},
     "output_type": "display_data"
    },
    {
     "name": "stdout",
     "output_type": "stream",
     "text": [
      "{\u001b[38;5;124m'\u001b[39m\u001b[38;5;124mbiogrid_ids\u001b[39m\u001b[38;5;124m'\u001b[39m: [\u001b[38;5;241m2623253\u001b[39m],\n",
      " \u001b[38;5;124m'\u001b[39m\u001b[38;5;124mmodification\u001b[39m\u001b[38;5;124m'\u001b[39m: \u001b[38;5;124m'\u001b[39m\u001b[38;5;124mProteolytic Processing\u001b[39m\u001b[38;5;124m'\u001b[39m,\n",
      " \u001b[38;5;124m'\u001b[39m\u001b[38;5;124mobject_label\u001b[39m\u001b[38;5;124m'\u001b[39m: \u001b[38;5;124m'\u001b[39m\u001b[38;5;124mcaspase 8\u001b[39m\u001b[38;5;124m'\u001b[39m,\n",
      " \u001b[38;5;124m'\u001b[39m\u001b[38;5;124mobject_name\u001b[39m\u001b[38;5;124m'\u001b[39m: \u001b[38;5;124m'\u001b[39m\u001b[38;5;124mCASP8\u001b[39m\u001b[38;5;124m'\u001b[39m,\n",
      " \u001b[38;5;124m'\u001b[39m\u001b[38;5;124mobject_namespace\u001b[39m\u001b[38;5;124m'\u001b[39m: \u001b[38;5;124m'\u001b[39m\u001b[38;5;124mHGNC\u001b[39m\u001b[38;5;124m'\u001b[39m,\n",
      " \u001b[38;5;124m'\u001b[39m\u001b[38;5;124mobject_rid\u001b[39m\u001b[38;5;124m'\u001b[39m: \u001b[38;5;124m'\u001b[39m\u001b[38;5;124m#188:41\u001b[39m\u001b[38;5;124m'\u001b[39m,\n",
      " \u001b[38;5;124m'\u001b[39m\u001b[38;5;124mobject_taxonomy_id\u001b[39m\u001b[38;5;124m'\u001b[39m: \u001b[38;5;241m9606\u001b[39m,\n",
      " \u001b[38;5;124m'\u001b[39m\u001b[38;5;124mobject_uniprot\u001b[39m\u001b[38;5;124m'\u001b[39m: \u001b[38;5;124m'\u001b[39m\u001b[38;5;124mQ14790\u001b[39m\u001b[38;5;124m'\u001b[39m,\n",
      " \u001b[38;5;124m'\u001b[39m\u001b[38;5;124mpmids\u001b[39m\u001b[38;5;124m'\u001b[39m: [\u001b[38;5;241m12888622\u001b[39m],\n",
      " \u001b[38;5;124m'\u001b[39m\u001b[38;5;124mrid\u001b[39m\u001b[38;5;124m'\u001b[39m: \u001b[38;5;124m'\u001b[39m\u001b[38;5;124m#1818:5\u001b[39m\u001b[38;5;124m'\u001b[39m,\n",
      " \u001b[38;5;124m'\u001b[39m\u001b[38;5;124msubject_label\u001b[39m\u001b[38;5;124m'\u001b[39m: \u001b[38;5;124m'\u001b[39m\u001b[38;5;124mmicrotubule associated protein tau\u001b[39m\u001b[38;5;124m'\u001b[39m,\n",
      " \u001b[38;5;124m'\u001b[39m\u001b[38;5;124msubject_name\u001b[39m\u001b[38;5;124m'\u001b[39m: \u001b[38;5;124m'\u001b[39m\u001b[38;5;124mMAPT\u001b[39m\u001b[38;5;124m'\u001b[39m,\n",
      " \u001b[38;5;124m'\u001b[39m\u001b[38;5;124msubject_namespace\u001b[39m\u001b[38;5;124m'\u001b[39m: \u001b[38;5;124m'\u001b[39m\u001b[38;5;124mHGNC\u001b[39m\u001b[38;5;124m'\u001b[39m,\n",
      " \u001b[38;5;124m'\u001b[39m\u001b[38;5;124msubject_rid\u001b[39m\u001b[38;5;124m'\u001b[39m: \u001b[38;5;124m'\u001b[39m\u001b[38;5;124m#190:5\u001b[39m\u001b[38;5;124m'\u001b[39m,\n",
      " \u001b[38;5;124m'\u001b[39m\u001b[38;5;124msubject_taxonomy_id\u001b[39m\u001b[38;5;124m'\u001b[39m: \u001b[38;5;241m9606\u001b[39m,\n",
      " \u001b[38;5;124m'\u001b[39m\u001b[38;5;124msubject_uniprot\u001b[39m\u001b[38;5;124m'\u001b[39m: \u001b[38;5;124m'\u001b[39m\u001b[38;5;124mP10636\u001b[39m\u001b[38;5;124m'\u001b[39m}\n",
      "\n",
      "For further testing go to http://0.0.0.0:5000/ui/#/e(BE:L)/ebel.web.api.ebel.v1.biogrid.get_has_ppi_bg_by_symbol_taxid\n"
     ]
    },
    {
     "data": {
      "text/html": [
       "<h2>9. Get e(BE:L) has_ppi_bg by subject (and object) UniProt ID</h2>"
      ],
      "text/plain": [
       "<IPython.core.display.HTML object>"
      ]
     },
     "metadata": {},
     "output_type": "display_data"
    },
    {
     "data": {
      "text/html": [
       "<b style=\"color: rgb(98,98,98); text-decoration: underline;\">Description:</b> <p>Following parameters can be used:\n",
       "  * uniprot_a(string)\n",
       "  * uniprot_b (string)\n",
       "  * page_size (int)\n",
       "  * page (int)</p>"
      ],
      "text/plain": [
       "<IPython.core.display.HTML object>"
      ]
     },
     "metadata": {},
     "output_type": "display_data"
    },
    {
     "data": {
      "text/html": [
       "<b>Tags:</b> ['BioGRID', 'e(BE:L)']"
      ],
      "text/plain": [
       "<IPython.core.display.HTML object>"
      ]
     },
     "metadata": {},
     "output_type": "display_data"
    },
    {
     "data": {
      "text/html": [
       "<b>Server path:</b> /api/v1/ebel/biogrid/modification/by_uniprot"
      ],
      "text/plain": [
       "<IPython.core.display.HTML object>"
      ]
     },
     "metadata": {},
     "output_type": "display_data"
    },
    {
     "data": {
      "text/html": [
       "<div>\n",
       "<style scoped>\n",
       "    .dataframe tbody tr th:only-of-type {\n",
       "        vertical-align: middle;\n",
       "    }\n",
       "\n",
       "    .dataframe tbody tr th {\n",
       "        vertical-align: top;\n",
       "    }\n",
       "\n",
       "    .dataframe thead th {\n",
       "        text-align: right;\n",
       "    }\n",
       "</style>\n",
       "<table border=\"1\" class=\"dataframe\">\n",
       "  <thead>\n",
       "    <tr style=\"text-align: right;\">\n",
       "      <th></th>\n",
       "      <th>data type</th>\n",
       "      <th>description</th>\n",
       "      <th>example</th>\n",
       "      <th>options</th>\n",
       "      <th>default</th>\n",
       "      <th>required</th>\n",
       "    </tr>\n",
       "    <tr>\n",
       "      <th>parameter name</th>\n",
       "      <th></th>\n",
       "      <th></th>\n",
       "      <th></th>\n",
       "      <th></th>\n",
       "      <th></th>\n",
       "      <th></th>\n",
       "    </tr>\n",
       "  </thead>\n",
       "  <tbody>\n",
       "    <tr>\n",
       "      <th>uniprot</th>\n",
       "      <td>string</td>\n",
       "      <td>UniProt accession number</td>\n",
       "      <td>P10636</td>\n",
       "      <td></td>\n",
       "      <td></td>\n",
       "      <td>True</td>\n",
       "    </tr>\n",
       "    <tr>\n",
       "      <th>modification</th>\n",
       "      <td>string</td>\n",
       "      <td>Posttranslational modification of interactor B...</td>\n",
       "      <td></td>\n",
       "      <td>[Phosphorylation, Ubiquitination, Acetylation,...</td>\n",
       "      <td></td>\n",
       "      <td>False</td>\n",
       "    </tr>\n",
       "  </tbody>\n",
       "</table>\n",
       "</div>"
      ],
      "text/plain": [
       "               data type                                        description  \\\n",
       "parameter name                                                                \n",
       "uniprot           string                           UniProt accession number   \n",
       "modification      string  Posttranslational modification of interactor B...   \n",
       "\n",
       "               example                                            options  \\\n",
       "parameter name                                                              \n",
       "uniprot         P10636                                                      \n",
       "modification            [Phosphorylation, Ubiquitination, Acetylation,...   \n",
       "\n",
       "               default  required  \n",
       "parameter name                    \n",
       "uniprot                     True  \n",
       "modification               False  "
      ]
     },
     "metadata": {},
     "output_type": "display_data"
    },
    {
     "data": {
      "text/html": [
       "<b>Example URL:</b> <a href=\"http://0.0.0.0:5000/api/v1/ebel/biogrid/modification/by_uniprot?uniprot=P10636\">http://0.0.0.0:5000/api/v1/ebel/biogrid/modification/by_uniprot?uniprot=P10636</a>"
      ],
      "text/plain": [
       "<IPython.core.display.HTML object>"
      ]
     },
     "metadata": {},
     "output_type": "display_data"
    },
    {
     "name": "stdout",
     "output_type": "stream",
     "text": [
      "\n",
      "The result is a list and have 91 entries. Here we show only the first entry.\n",
      "\n"
     ]
    },
    {
     "data": {
      "text/html": [
       "<b style=\"color: rgb(98,98,98); text-decoration: underline;\">Example response:</b>"
      ],
      "text/plain": [
       "<IPython.core.display.HTML object>"
      ]
     },
     "metadata": {},
     "output_type": "display_data"
    },
    {
     "name": "stdout",
     "output_type": "stream",
     "text": [
      "{\u001b[38;5;124m'\u001b[39m\u001b[38;5;124mbiogrid_ids\u001b[39m\u001b[38;5;124m'\u001b[39m: [\u001b[38;5;241m2623253\u001b[39m],\n",
      " \u001b[38;5;124m'\u001b[39m\u001b[38;5;124mmodification\u001b[39m\u001b[38;5;124m'\u001b[39m: \u001b[38;5;124m'\u001b[39m\u001b[38;5;124mProteolytic Processing\u001b[39m\u001b[38;5;124m'\u001b[39m,\n",
      " \u001b[38;5;124m'\u001b[39m\u001b[38;5;124mobject_label\u001b[39m\u001b[38;5;124m'\u001b[39m: \u001b[38;5;124m'\u001b[39m\u001b[38;5;124mcaspase 8\u001b[39m\u001b[38;5;124m'\u001b[39m,\n",
      " \u001b[38;5;124m'\u001b[39m\u001b[38;5;124mobject_name\u001b[39m\u001b[38;5;124m'\u001b[39m: \u001b[38;5;124m'\u001b[39m\u001b[38;5;124mCASP8\u001b[39m\u001b[38;5;124m'\u001b[39m,\n",
      " \u001b[38;5;124m'\u001b[39m\u001b[38;5;124mobject_namespace\u001b[39m\u001b[38;5;124m'\u001b[39m: \u001b[38;5;124m'\u001b[39m\u001b[38;5;124mHGNC\u001b[39m\u001b[38;5;124m'\u001b[39m,\n",
      " \u001b[38;5;124m'\u001b[39m\u001b[38;5;124mobject_rid\u001b[39m\u001b[38;5;124m'\u001b[39m: \u001b[38;5;124m'\u001b[39m\u001b[38;5;124m#188:41\u001b[39m\u001b[38;5;124m'\u001b[39m,\n",
      " \u001b[38;5;124m'\u001b[39m\u001b[38;5;124mobject_taxonomy_id\u001b[39m\u001b[38;5;124m'\u001b[39m: \u001b[38;5;241m9606\u001b[39m,\n",
      " \u001b[38;5;124m'\u001b[39m\u001b[38;5;124mobject_uniprot\u001b[39m\u001b[38;5;124m'\u001b[39m: \u001b[38;5;124m'\u001b[39m\u001b[38;5;124mQ14790\u001b[39m\u001b[38;5;124m'\u001b[39m,\n",
      " \u001b[38;5;124m'\u001b[39m\u001b[38;5;124mpmids\u001b[39m\u001b[38;5;124m'\u001b[39m: [\u001b[38;5;241m12888622\u001b[39m],\n",
      " \u001b[38;5;124m'\u001b[39m\u001b[38;5;124mrid\u001b[39m\u001b[38;5;124m'\u001b[39m: \u001b[38;5;124m'\u001b[39m\u001b[38;5;124m#1818:5\u001b[39m\u001b[38;5;124m'\u001b[39m,\n",
      " \u001b[38;5;124m'\u001b[39m\u001b[38;5;124msubject_label\u001b[39m\u001b[38;5;124m'\u001b[39m: \u001b[38;5;124m'\u001b[39m\u001b[38;5;124mmicrotubule associated protein tau\u001b[39m\u001b[38;5;124m'\u001b[39m,\n",
      " \u001b[38;5;124m'\u001b[39m\u001b[38;5;124msubject_name\u001b[39m\u001b[38;5;124m'\u001b[39m: \u001b[38;5;124m'\u001b[39m\u001b[38;5;124mMAPT\u001b[39m\u001b[38;5;124m'\u001b[39m,\n",
      " \u001b[38;5;124m'\u001b[39m\u001b[38;5;124msubject_namespace\u001b[39m\u001b[38;5;124m'\u001b[39m: \u001b[38;5;124m'\u001b[39m\u001b[38;5;124mHGNC\u001b[39m\u001b[38;5;124m'\u001b[39m,\n",
      " \u001b[38;5;124m'\u001b[39m\u001b[38;5;124msubject_rid\u001b[39m\u001b[38;5;124m'\u001b[39m: \u001b[38;5;124m'\u001b[39m\u001b[38;5;124m#190:5\u001b[39m\u001b[38;5;124m'\u001b[39m,\n",
      " \u001b[38;5;124m'\u001b[39m\u001b[38;5;124msubject_taxonomy_id\u001b[39m\u001b[38;5;124m'\u001b[39m: \u001b[38;5;241m9606\u001b[39m,\n",
      " \u001b[38;5;124m'\u001b[39m\u001b[38;5;124msubject_uniprot\u001b[39m\u001b[38;5;124m'\u001b[39m: \u001b[38;5;124m'\u001b[39m\u001b[38;5;124mP10636\u001b[39m\u001b[38;5;124m'\u001b[39m}\n",
      "\n",
      "For further testing go to http://0.0.0.0:5000/ui/#/e(BE:L)/ebel.web.api.ebel.v1.biogrid.get_has_ppi_bg_by_uniprot\n"
     ]
    },
    {
     "data": {
      "text/html": [
       "<h2>10. Get child nodes, abstract status of childs, parents path, number of entries, abstract status for all e(BE:L) node types</h2>"
      ],
      "text/plain": [
       "<IPython.core.display.HTML object>"
      ]
     },
     "metadata": {},
     "output_type": "display_data"
    },
    {
     "data": {
      "text/html": [
       "<b style=\"color: rgb(98,98,98); text-decoration: underline;\">Description:</b> <p>Get child nodes, abstract status of childs, parents path, number of entries, abstract status for all e(BE:L) node types</p>"
      ],
      "text/plain": [
       "<IPython.core.display.HTML object>"
      ]
     },
     "metadata": {},
     "output_type": "display_data"
    },
    {
     "data": {
      "text/html": [
       "<b>Tags:</b> ['e(BE:L)']"
      ],
      "text/plain": [
       "<IPython.core.display.HTML object>"
      ]
     },
     "metadata": {},
     "output_type": "display_data"
    },
    {
     "data": {
      "text/html": [
       "<b>Server path:</b> /api/v1/ebel/node_types"
      ],
      "text/plain": [
       "<IPython.core.display.HTML object>"
      ]
     },
     "metadata": {},
     "output_type": "display_data"
    },
    {
     "name": "stdout",
     "output_type": "stream",
     "text": [
      "without paramters\n"
     ]
    },
    {
     "data": {
      "text/html": [
       "<b>Example URL:</b> <a href=\"http://0.0.0.0:5000/api/v1/ebel/node_types\">http://0.0.0.0:5000/api/v1/ebel/node_types</a>"
      ],
      "text/plain": [
       "<IPython.core.display.HTML object>"
      ]
     },
     "metadata": {},
     "output_type": "display_data"
    },
    {
     "data": {
      "text/html": [
       "<b style=\"color: rgb(98,98,98); text-decoration: underline;\">Example response:</b>"
      ],
      "text/plain": [
       "<IPython.core.display.HTML object>"
      ]
     },
     "metadata": {},
     "output_type": "display_data"
    },
    {
     "name": "stdout",
     "output_type": "stream",
     "text": [
      "{\u001b[38;5;124m'\u001b[39m\u001b[38;5;124mdrug\u001b[39m\u001b[38;5;124m'\u001b[39m: {\u001b[38;5;124m'\u001b[39m\u001b[38;5;124mabstract\u001b[39m\u001b[38;5;124m'\u001b[39m: \u001b[38;5;28;01mTrue\u001b[39;00m,\n",
      "          \u001b[38;5;124m'\u001b[39m\u001b[38;5;124mchildren\u001b[39m\u001b[38;5;124m'\u001b[39m: [{\u001b[38;5;124m'\u001b[39m\u001b[38;5;124mabstract\u001b[39m\u001b[38;5;124m'\u001b[39m: \u001b[38;5;28;01mFalse\u001b[39;00m, \u001b[38;5;124m'\u001b[39m\u001b[38;5;124mname\u001b[39m\u001b[38;5;124m'\u001b[39m: \u001b[38;5;124m'\u001b[39m\u001b[38;5;124mdrug_db\u001b[39m\u001b[38;5;124m'\u001b[39m}],\n",
      "          \u001b[38;5;124m'\u001b[39m\u001b[38;5;124mparents_path\u001b[39m\u001b[38;5;124m'\u001b[39m: [\u001b[38;5;124m'\u001b[39m\u001b[38;5;124mdrug\u001b[39m\u001b[38;5;124m'\u001b[39m, \u001b[38;5;124m'\u001b[39m\u001b[38;5;124mebel\u001b[39m\u001b[38;5;124m'\u001b[39m, \u001b[38;5;124m'\u001b[39m\u001b[38;5;124mV\u001b[39m\u001b[38;5;124m'\u001b[39m]},\n",
      " \u001b[38;5;124m'\u001b[39m\u001b[38;5;124mdrug_db\u001b[39m\u001b[38;5;124m'\u001b[39m: {\u001b[38;5;124m'\u001b[39m\u001b[38;5;124mabstract\u001b[39m\u001b[38;5;124m'\u001b[39m: \u001b[38;5;28;01mFalse\u001b[39;00m,\n",
      "             \u001b[38;5;124m'\u001b[39m\u001b[38;5;124mchildren\u001b[39m\u001b[38;5;124m'\u001b[39m: [],\n",
      "             \u001b[38;5;124m'\u001b[39m\u001b[38;5;124mout_relations\u001b[39m\u001b[38;5;124m'\u001b[39m: [\u001b[38;5;124m'\u001b[39m\u001b[38;5;124mhas_side_effect\u001b[39m\u001b[38;5;124m'\u001b[39m, \u001b[38;5;124m'\u001b[39m\u001b[38;5;124mhas_drug_target_db\u001b[39m\u001b[38;5;124m'\u001b[39m],\n",
      "             \u001b[38;5;124m'\u001b[39m\u001b[38;5;124mparents_path\u001b[39m\u001b[38;5;124m'\u001b[39m: [\u001b[38;5;124m'\u001b[39m\u001b[38;5;124mdrug_db\u001b[39m\u001b[38;5;124m'\u001b[39m, \u001b[38;5;124m'\u001b[39m\u001b[38;5;124mdrug\u001b[39m\u001b[38;5;124m'\u001b[39m, \u001b[38;5;124m'\u001b[39m\u001b[38;5;124mebel\u001b[39m\u001b[38;5;124m'\u001b[39m, \u001b[38;5;124m'\u001b[39m\u001b[38;5;124mV\u001b[39m\u001b[38;5;124m'\u001b[39m]},\n",
      " \u001b[38;5;124m'\u001b[39m\u001b[38;5;124mebel\u001b[39m\u001b[38;5;124m'\u001b[39m: {\u001b[38;5;124m'\u001b[39m\u001b[38;5;124mabstract\u001b[39m\u001b[38;5;124m'\u001b[39m: \u001b[38;5;28;01mTrue\u001b[39;00m,\n",
      "          \u001b[38;5;124m'\u001b[39m\u001b[38;5;124mchildren\u001b[39m\u001b[38;5;124m'\u001b[39m: [{\u001b[38;5;124m'\u001b[39m\u001b[38;5;124mabstract\u001b[39m\u001b[38;5;124m'\u001b[39m: \u001b[38;5;28;01mFalse\u001b[39;00m, \u001b[38;5;124m'\u001b[39m\u001b[38;5;124mname\u001b[39m\u001b[38;5;124m'\u001b[39m: \u001b[38;5;124m'\u001b[39m\u001b[38;5;124mlocation\u001b[39m\u001b[38;5;124m'\u001b[39m},\n",
      "                       {\u001b[38;5;124m'\u001b[39m\u001b[38;5;124mabstract\u001b[39m\u001b[38;5;124m'\u001b[39m: \u001b[38;5;28;01mFalse\u001b[39;00m, \u001b[38;5;124m'\u001b[39m\u001b[38;5;124mname\u001b[39m\u001b[38;5;124m'\u001b[39m: \u001b[38;5;124m'\u001b[39m\u001b[38;5;124mreactants\u001b[39m\u001b[38;5;124m'\u001b[39m},\n",
      "                       {\u001b[38;5;124m'\u001b[39m\u001b[38;5;124mabstract\u001b[39m\u001b[38;5;124m'\u001b[39m: \u001b[38;5;28;01mFalse\u001b[39;00m, \u001b[38;5;124m'\u001b[39m\u001b[38;5;124mname\u001b[39m\u001b[38;5;124m'\u001b[39m: \u001b[38;5;124m'\u001b[39m\u001b[38;5;124mside_effect\u001b[39m\u001b[38;5;124m'\u001b[39m},\n",
      "                       {\u001b[38;5;124m'\u001b[39m\u001b[38;5;124mabstract\u001b[39m\u001b[38;5;124m'\u001b[39m: \u001b[38;5;28;01mFalse\u001b[39;00m, \u001b[38;5;124m'\u001b[39m\u001b[38;5;124mname\u001b[39m\u001b[38;5;124m'\u001b[39m: \u001b[38;5;124m'\u001b[39m\u001b[38;5;124mproducts\u001b[39m\u001b[38;5;124m'\u001b[39m},\n",
      "                       {\u001b[38;5;124m'\u001b[39m\u001b[38;5;124mabstract\u001b[39m\u001b[38;5;124m'\u001b[39m: \u001b[38;5;28;01mFalse\u001b[39;00m, \u001b[38;5;124m'\u001b[39m\u001b[38;5;124mname\u001b[39m\u001b[38;5;124m'\u001b[39m: \u001b[38;5;124m'\u001b[39m\u001b[38;5;124mfragment\u001b[39m\u001b[38;5;124m'\u001b[39m},\n",
      "                       {\u001b[38;5;124m'\u001b[39m\u001b[38;5;124mabstract\u001b[39m\u001b[38;5;124m'\u001b[39m: \u001b[38;5;28;01mFalse\u001b[39;00m, \u001b[38;5;124m'\u001b[39m\u001b[38;5;124mname\u001b[39m\u001b[38;5;124m'\u001b[39m: \u001b[38;5;124m'\u001b[39m\u001b[38;5;124mfrom_location\u001b[39m\u001b[38;5;124m'\u001b[39m},\n",
      "                       {\u001b[38;5;124m'\u001b[39m\u001b[38;5;124mabstract\u001b[39m\u001b[38;5;124m'\u001b[39m: \u001b[38;5;28;01mTrue\u001b[39;00m, \u001b[38;5;124m'\u001b[39m\u001b[38;5;124mname\u001b[39m\u001b[38;5;124m'\u001b[39m: \u001b[38;5;124m'\u001b[39m\u001b[38;5;124mdrug\u001b[39m\u001b[38;5;124m'\u001b[39m},\n",
      "                       {\u001b[38;5;124m'\u001b[39m\u001b[38;5;124mabstract\u001b[39m\u001b[38;5;124m'\u001b[39m: \u001b[38;5;28;01mFalse\u001b[39;00m, \u001b[38;5;124m'\u001b[39m\u001b[38;5;124mname\u001b[39m\u001b[38;5;124m'\u001b[39m: \u001b[38;5;124m'\u001b[39m\u001b[38;5;124mvariant\u001b[39m\u001b[38;5;124m'\u001b[39m},\n",
      "                       {\u001b[38;5;124m'\u001b[39m\u001b[38;5;124mabstract\u001b[39m\u001b[38;5;124m'\u001b[39m: \u001b[38;5;28;01mFalse\u001b[39;00m, \u001b[38;5;124m'\u001b[39m\u001b[38;5;124mname\u001b[39m\u001b[38;5;124m'\u001b[39m: \u001b[38;5;124m'\u001b[39m\u001b[38;5;124mto_location\u001b[39m\u001b[38;5;124m'\u001b[39m},\n",
      "                       {\u001b[38;5;124m'\u001b[39m\u001b[38;5;124mabstract\u001b[39m\u001b[38;5;124m'\u001b[39m: \u001b[38;5;28;01mFalse\u001b[39;00m, \u001b[38;5;124m'\u001b[39m\u001b[38;5;124mname\u001b[39m\u001b[38;5;124m'\u001b[39m: \u001b[38;5;124m'\u001b[39m\u001b[38;5;124mgmod\u001b[39m\u001b[38;5;124m'\u001b[39m},\n",
      "                       {\u001b[38;5;124m'\u001b[39m\u001b[38;5;124mabstract\u001b[39m\u001b[38;5;124m'\u001b[39m: \u001b[38;5;28;01mFalse\u001b[39;00m, \u001b[38;5;124m'\u001b[39m\u001b[38;5;124mname\u001b[39m\u001b[38;5;124m'\u001b[39m: \u001b[38;5;124m'\u001b[39m\u001b[38;5;124mpmod\u001b[39m\u001b[38;5;124m'\u001b[39m},\n",
      "                       {\u001b[38;5;124m'\u001b[39m\u001b[38;5;124mabstract\u001b[39m\u001b[38;5;124m'\u001b[39m: \u001b[38;5;28;01mFalse\u001b[39;00m, \u001b[38;5;124m'\u001b[39m\u001b[38;5;124mname\u001b[39m\u001b[38;5;124m'\u001b[39m: \u001b[38;5;124m'\u001b[39m\u001b[38;5;124msnp\u001b[39m\u001b[38;5;124m'\u001b[39m}],\n",
      "          \u001b[38;5;124m'\u001b[39m\u001b[38;5;124min_relations\u001b[39m\u001b[38;5;124m'\u001b[39m: [\u001b[38;5;124m'\u001b[39m\u001b[38;5;124mhas__location\u001b[39m\u001b[38;5;124m'\u001b[39m],\n",
      "          \u001b[38;5;124m'\u001b[39m\u001b[38;5;124mparents_path\u001b[39m\u001b[38;5;124m'\u001b[39m: [\u001b[38;5;124m'\u001b[39m\u001b[38;5;124mebel\u001b[39m\u001b[38;5;124m'\u001b[39m, \u001b[38;5;124m'\u001b[39m\u001b[38;5;124mV\u001b[39m\u001b[38;5;124m'\u001b[39m]},\n",
      " \u001b[38;5;124m'\u001b[39m\u001b[38;5;124mfragment\u001b[39m\u001b[38;5;124m'\u001b[39m: {\u001b[38;5;124m'\u001b[39m\u001b[38;5;124mabstract\u001b[39m\u001b[38;5;124m'\u001b[39m: \u001b[38;5;28;01mFalse\u001b[39;00m,\n",
      "              \u001b[38;5;124m'\u001b[39m\u001b[38;5;124mchildren\u001b[39m\u001b[38;5;124m'\u001b[39m: [],\n",
      "              \u001b[38;5;124m'\u001b[39m\u001b[38;5;124min_relations\u001b[39m\u001b[38;5;124m'\u001b[39m: [\u001b[38;5;124m'\u001b[39m\u001b[38;5;124mhas__fragment\u001b[39m\u001b[38;5;124m'\u001b[39m],\n",
      "              \u001b[38;5;124m'\u001b[39m\u001b[38;5;124mparents_path\u001b[39m\u001b[38;5;124m'\u001b[39m: [\u001b[38;5;124m'\u001b[39m\u001b[38;5;124mfragment\u001b[39m\u001b[38;5;124m'\u001b[39m, \u001b[38;5;124m'\u001b[39m\u001b[38;5;124mebel\u001b[39m\u001b[38;5;124m'\u001b[39m, \u001b[38;5;124m'\u001b[39m\u001b[38;5;124mV\u001b[39m\u001b[38;5;124m'\u001b[39m]},\n",
      " \u001b[38;5;124m'\u001b[39m\u001b[38;5;124mfrom_location\u001b[39m\u001b[38;5;124m'\u001b[39m: {\u001b[38;5;124m'\u001b[39m\u001b[38;5;124mabstract\u001b[39m\u001b[38;5;124m'\u001b[39m: \u001b[38;5;28;01mFalse\u001b[39;00m,\n",
      "                   \u001b[38;5;124m'\u001b[39m\u001b[38;5;124mchildren\u001b[39m\u001b[38;5;124m'\u001b[39m: [],\n",
      "                   \u001b[38;5;124m'\u001b[39m\u001b[38;5;124min_relations\u001b[39m\u001b[38;5;124m'\u001b[39m: [\u001b[38;5;124m'\u001b[39m\u001b[38;5;124mhas__from_location\u001b[39m\u001b[38;5;124m'\u001b[39m],\n",
      "                   \u001b[38;5;124m'\u001b[39m\u001b[38;5;124mparents_path\u001b[39m\u001b[38;5;124m'\u001b[39m: [\u001b[38;5;124m'\u001b[39m\u001b[38;5;124mfrom_location\u001b[39m\u001b[38;5;124m'\u001b[39m, \u001b[38;5;124m'\u001b[39m\u001b[38;5;124mebel\u001b[39m\u001b[38;5;124m'\u001b[39m, \u001b[38;5;124m'\u001b[39m\u001b[38;5;124mV\u001b[39m\u001b[38;5;124m'\u001b[39m]},\n",
      " \u001b[38;5;124m'\u001b[39m\u001b[38;5;124mgmod\u001b[39m\u001b[38;5;124m'\u001b[39m: {\u001b[38;5;124m'\u001b[39m\u001b[38;5;124mabstract\u001b[39m\u001b[38;5;124m'\u001b[39m: \u001b[38;5;28;01mFalse\u001b[39;00m,\n",
      "          \u001b[38;5;124m'\u001b[39m\u001b[38;5;124mchildren\u001b[39m\u001b[38;5;124m'\u001b[39m: [],\n",
      "          \u001b[38;5;124m'\u001b[39m\u001b[38;5;124min_relations\u001b[39m\u001b[38;5;124m'\u001b[39m: [\u001b[38;5;124m'\u001b[39m\u001b[38;5;124mhas__gmod\u001b[39m\u001b[38;5;124m'\u001b[39m],\n",
      "          \u001b[38;5;124m'\u001b[39m\u001b[38;5;124mparents_path\u001b[39m\u001b[38;5;124m'\u001b[39m: [\u001b[38;5;124m'\u001b[39m\u001b[38;5;124mgmod\u001b[39m\u001b[38;5;124m'\u001b[39m, \u001b[38;5;124m'\u001b[39m\u001b[38;5;124mebel\u001b[39m\u001b[38;5;124m'\u001b[39m, \u001b[38;5;124m'\u001b[39m\u001b[38;5;124mV\u001b[39m\u001b[38;5;124m'\u001b[39m]},\n",
      " \u001b[38;5;124m'\u001b[39m\u001b[38;5;124mlocation\u001b[39m\u001b[38;5;124m'\u001b[39m: {\u001b[38;5;124m'\u001b[39m\u001b[38;5;124mabstract\u001b[39m\u001b[38;5;124m'\u001b[39m: \u001b[38;5;28;01mFalse\u001b[39;00m,\n",
      "              \u001b[38;5;124m'\u001b[39m\u001b[38;5;124mchildren\u001b[39m\u001b[38;5;124m'\u001b[39m: [],\n",
      "              \u001b[38;5;124m'\u001b[39m\u001b[38;5;124mparents_path\u001b[39m\u001b[38;5;124m'\u001b[39m: [\u001b[38;5;124m'\u001b[39m\u001b[38;5;124mlocation\u001b[39m\u001b[38;5;124m'\u001b[39m, \u001b[38;5;124m'\u001b[39m\u001b[38;5;124mebel\u001b[39m\u001b[38;5;124m'\u001b[39m, \u001b[38;5;124m'\u001b[39m\u001b[38;5;124mV\u001b[39m\u001b[38;5;124m'\u001b[39m]},\n",
      " \u001b[38;5;124m'\u001b[39m\u001b[38;5;124mpmod\u001b[39m\u001b[38;5;124m'\u001b[39m: {\u001b[38;5;124m'\u001b[39m\u001b[38;5;124mabstract\u001b[39m\u001b[38;5;124m'\u001b[39m: \u001b[38;5;28;01mFalse\u001b[39;00m,\n",
      "          \u001b[38;5;124m'\u001b[39m\u001b[38;5;124mchildren\u001b[39m\u001b[38;5;124m'\u001b[39m: [],\n",
      "          \u001b[38;5;124m'\u001b[39m\u001b[38;5;124min_relations\u001b[39m\u001b[38;5;124m'\u001b[39m: [\u001b[38;5;124m'\u001b[39m\u001b[38;5;124mhas__pmod\u001b[39m\u001b[38;5;124m'\u001b[39m],\n",
      "          \u001b[38;5;124m'\u001b[39m\u001b[38;5;124mparents_path\u001b[39m\u001b[38;5;124m'\u001b[39m: [\u001b[38;5;124m'\u001b[39m\u001b[38;5;124mpmod\u001b[39m\u001b[38;5;124m'\u001b[39m, \u001b[38;5;124m'\u001b[39m\u001b[38;5;124mebel\u001b[39m\u001b[38;5;124m'\u001b[39m, \u001b[38;5;124m'\u001b[39m\u001b[38;5;124mV\u001b[39m\u001b[38;5;124m'\u001b[39m]},\n",
      " \u001b[38;5;124m'\u001b[39m\u001b[38;5;124mproducts\u001b[39m\u001b[38;5;124m'\u001b[39m: {\u001b[38;5;124m'\u001b[39m\u001b[38;5;124mabstract\u001b[39m\u001b[38;5;124m'\u001b[39m: \u001b[38;5;28;01mFalse\u001b[39;00m,\n",
      "              \u001b[38;5;124m'\u001b[39m\u001b[38;5;124mchildren\u001b[39m\u001b[38;5;124m'\u001b[39m: [],\n",
      "              \u001b[38;5;124m'\u001b[39m\u001b[38;5;124min_relations\u001b[39m\u001b[38;5;124m'\u001b[39m: [\u001b[38;5;124m'\u001b[39m\u001b[38;5;124mhas__products\u001b[39m\u001b[38;5;124m'\u001b[39m],\n",
      "              \u001b[38;5;124m'\u001b[39m\u001b[38;5;124mparents_path\u001b[39m\u001b[38;5;124m'\u001b[39m: [\u001b[38;5;124m'\u001b[39m\u001b[38;5;124mproducts\u001b[39m\u001b[38;5;124m'\u001b[39m, \u001b[38;5;124m'\u001b[39m\u001b[38;5;124mebel\u001b[39m\u001b[38;5;124m'\u001b[39m, \u001b[38;5;124m'\u001b[39m\u001b[38;5;124mV\u001b[39m\u001b[38;5;124m'\u001b[39m]},\n",
      " \u001b[38;5;124m'\u001b[39m\u001b[38;5;124mreactants\u001b[39m\u001b[38;5;124m'\u001b[39m: {\u001b[38;5;124m'\u001b[39m\u001b[38;5;124mabstract\u001b[39m\u001b[38;5;124m'\u001b[39m: \u001b[38;5;28;01mFalse\u001b[39;00m,\n",
      "               \u001b[38;5;124m'\u001b[39m\u001b[38;5;124mchildren\u001b[39m\u001b[38;5;124m'\u001b[39m: [],\n",
      "               \u001b[38;5;124m'\u001b[39m\u001b[38;5;124min_relations\u001b[39m\u001b[38;5;124m'\u001b[39m: [\u001b[38;5;124m'\u001b[39m\u001b[38;5;124mhas__reactants\u001b[39m\u001b[38;5;124m'\u001b[39m],\n",
      "               \u001b[38;5;124m'\u001b[39m\u001b[38;5;124mparents_path\u001b[39m\u001b[38;5;124m'\u001b[39m: [\u001b[38;5;124m'\u001b[39m\u001b[38;5;124mreactants\u001b[39m\u001b[38;5;124m'\u001b[39m, \u001b[38;5;124m'\u001b[39m\u001b[38;5;124mebel\u001b[39m\u001b[38;5;124m'\u001b[39m, \u001b[38;5;124m'\u001b[39m\u001b[38;5;124mV\u001b[39m\u001b[38;5;124m'\u001b[39m]},\n",
      " \u001b[38;5;124m'\u001b[39m\u001b[38;5;124mside_effect\u001b[39m\u001b[38;5;124m'\u001b[39m: {\u001b[38;5;124m'\u001b[39m\u001b[38;5;124mabstract\u001b[39m\u001b[38;5;124m'\u001b[39m: \u001b[38;5;28;01mFalse\u001b[39;00m,\n",
      "                 \u001b[38;5;124m'\u001b[39m\u001b[38;5;124mchildren\u001b[39m\u001b[38;5;124m'\u001b[39m: [],\n",
      "                 \u001b[38;5;124m'\u001b[39m\u001b[38;5;124min_relations\u001b[39m\u001b[38;5;124m'\u001b[39m: [\u001b[38;5;124m'\u001b[39m\u001b[38;5;124mhas_side_effect\u001b[39m\u001b[38;5;124m'\u001b[39m],\n",
      "                 \u001b[38;5;124m'\u001b[39m\u001b[38;5;124mparents_path\u001b[39m\u001b[38;5;124m'\u001b[39m: [\u001b[38;5;124m'\u001b[39m\u001b[38;5;124mside_effect\u001b[39m\u001b[38;5;124m'\u001b[39m, \u001b[38;5;124m'\u001b[39m\u001b[38;5;124mebel\u001b[39m\u001b[38;5;124m'\u001b[39m, \u001b[38;5;124m'\u001b[39m\u001b[38;5;124mV\u001b[39m\u001b[38;5;124m'\u001b[39m]},\n",
      " \u001b[38;5;124m'\u001b[39m\u001b[38;5;124msnp\u001b[39m\u001b[38;5;124m'\u001b[39m: {\u001b[38;5;124m'\u001b[39m\u001b[38;5;124mabstract\u001b[39m\u001b[38;5;124m'\u001b[39m: \u001b[38;5;28;01mFalse\u001b[39;00m,\n",
      "         \u001b[38;5;124m'\u001b[39m\u001b[38;5;124mchildren\u001b[39m\u001b[38;5;124m'\u001b[39m: [],\n",
      "         \u001b[38;5;124m'\u001b[39m\u001b[38;5;124min_relations\u001b[39m\u001b[38;5;124m'\u001b[39m: [\u001b[38;5;124m'\u001b[39m\u001b[38;5;124mhas_snp\u001b[39m\u001b[38;5;124m'\u001b[39m],\n",
      "         \u001b[38;5;124m'\u001b[39m\u001b[38;5;124mparents_path\u001b[39m\u001b[38;5;124m'\u001b[39m: [\u001b[38;5;124m'\u001b[39m\u001b[38;5;124msnp\u001b[39m\u001b[38;5;124m'\u001b[39m, \u001b[38;5;124m'\u001b[39m\u001b[38;5;124mebel\u001b[39m\u001b[38;5;124m'\u001b[39m, \u001b[38;5;124m'\u001b[39m\u001b[38;5;124mV\u001b[39m\u001b[38;5;124m'\u001b[39m]},\n",
      " \u001b[38;5;124m'\u001b[39m\u001b[38;5;124mto_location\u001b[39m\u001b[38;5;124m'\u001b[39m: {\u001b[38;5;124m'\u001b[39m\u001b[38;5;124mabstract\u001b[39m\u001b[38;5;124m'\u001b[39m: \u001b[38;5;28;01mFalse\u001b[39;00m,\n",
      "                 \u001b[38;5;124m'\u001b[39m\u001b[38;5;124mchildren\u001b[39m\u001b[38;5;124m'\u001b[39m: [],\n",
      "                 \u001b[38;5;124m'\u001b[39m\u001b[38;5;124min_relations\u001b[39m\u001b[38;5;124m'\u001b[39m: [\u001b[38;5;124m'\u001b[39m\u001b[38;5;124mhas__to_location\u001b[39m\u001b[38;5;124m'\u001b[39m],\n",
      "                 \u001b[38;5;124m'\u001b[39m\u001b[38;5;124mparents_path\u001b[39m\u001b[38;5;124m'\u001b[39m: [\u001b[38;5;124m'\u001b[39m\u001b[38;5;124mto_location\u001b[39m\u001b[38;5;124m'\u001b[39m, \u001b[38;5;124m'\u001b[39m\u001b[38;5;124mebel\u001b[39m\u001b[38;5;124m'\u001b[39m, \u001b[38;5;124m'\u001b[39m\u001b[38;5;124mV\u001b[39m\u001b[38;5;124m'\u001b[39m]},\n",
      " \u001b[38;5;124m'\u001b[39m\u001b[38;5;124mvariant\u001b[39m\u001b[38;5;124m'\u001b[39m: {\u001b[38;5;124m'\u001b[39m\u001b[38;5;124mabstract\u001b[39m\u001b[38;5;124m'\u001b[39m: \u001b[38;5;28;01mFalse\u001b[39;00m,\n",
      "             \u001b[38;5;124m'\u001b[39m\u001b[38;5;124mchildren\u001b[39m\u001b[38;5;124m'\u001b[39m: [],\n",
      "             \u001b[38;5;124m'\u001b[39m\u001b[38;5;124min_relations\u001b[39m\u001b[38;5;124m'\u001b[39m: [\u001b[38;5;124m'\u001b[39m\u001b[38;5;124mhas__variant\u001b[39m\u001b[38;5;124m'\u001b[39m],\n",
      "             \u001b[38;5;124m'\u001b[39m\u001b[38;5;124mparents_path\u001b[39m\u001b[38;5;124m'\u001b[39m: [\u001b[38;5;124m'\u001b[39m\u001b[38;5;124mvariant\u001b[39m\u001b[38;5;124m'\u001b[39m, \u001b[38;5;124m'\u001b[39m\u001b[38;5;124mebel\u001b[39m\u001b[38;5;124m'\u001b[39m, \u001b[38;5;124m'\u001b[39m\u001b[38;5;124mV\u001b[39m\u001b[38;5;124m'\u001b[39m]}}\n",
      "\n",
      "For further testing go to http://0.0.0.0:5000/ui/#/e(BE:L)/ebel.web.api.ebel.v1.bel.get_ebel_node_types\n"
     ]
    },
    {
     "data": {
      "text/html": [
       "<h2>11. Get child nodes, abstract status of childs, parents path, number of entries, abstract status for all e(BE:L) node types</h2>"
      ],
      "text/plain": [
       "<IPython.core.display.HTML object>"
      ]
     },
     "metadata": {},
     "output_type": "display_data"
    },
    {
     "data": {
      "text/html": [
       "<b style=\"color: rgb(98,98,98); text-decoration: underline;\">Description:</b> <p>Get child nodes, abstract status of childs, parents path, number of entries, abstract status for all e(BE:L) node types</p>"
      ],
      "text/plain": [
       "<IPython.core.display.HTML object>"
      ]
     },
     "metadata": {},
     "output_type": "display_data"
    },
    {
     "data": {
      "text/html": [
       "<b>Tags:</b> ['e(BE:L)']"
      ],
      "text/plain": [
       "<IPython.core.display.HTML object>"
      ]
     },
     "metadata": {},
     "output_type": "display_data"
    },
    {
     "data": {
      "text/html": [
       "<b>Server path:</b> /api/v1/ebel/node_types_as_dot"
      ],
      "text/plain": [
       "<IPython.core.display.HTML object>"
      ]
     },
     "metadata": {},
     "output_type": "display_data"
    },
    {
     "name": "stdout",
     "output_type": "stream",
     "text": [
      "without paramters\n"
     ]
    },
    {
     "data": {
      "text/html": [
       "<b>Example URL:</b> <a href=\"http://0.0.0.0:5000/api/v1/ebel/node_types_as_dot\">http://0.0.0.0:5000/api/v1/ebel/node_types_as_dot</a>"
      ],
      "text/plain": [
       "<IPython.core.display.HTML object>"
      ]
     },
     "metadata": {},
     "output_type": "display_data"
    },
    {
     "data": {
      "text/html": [
       "<b style=\"color: rgb(98,98,98); text-decoration: underline;\">Example response:</b>"
      ],
      "text/plain": [
       "<IPython.core.display.HTML object>"
      ]
     },
     "metadata": {},
     "output_type": "display_data"
    },
    {
     "name": "stdout",
     "output_type": "stream",
     "text": [
      "(\u001b[38;5;124m'\u001b[39m\u001b[38;5;124mdigraph \u001b[39m\u001b[38;5;124m{\u001b[39m\u001b[38;5;130;01m\\n\u001b[39;00m\u001b[38;5;124m'\u001b[39m\n",
      " \u001b[38;5;124m'\u001b[39m\u001b[38;5;130;01m\\t\u001b[39;00m\u001b[38;5;124mgraph [rankdir=LR]\u001b[39m\u001b[38;5;130;01m\\n\u001b[39;00m\u001b[38;5;124m'\u001b[39m\n",
      " \u001b[38;5;124m'\u001b[39m\u001b[38;5;130;01m\\t\u001b[39;00m\u001b[38;5;124mnode [shape=plaintext]\u001b[39m\u001b[38;5;130;01m\\n\u001b[39;00m\u001b[38;5;124m'\u001b[39m\n",
      " \u001b[38;5;124m'\u001b[39m\u001b[38;5;130;01m\\t\u001b[39;00m\u001b[38;5;124mebel -> location\u001b[39m\u001b[38;5;130;01m\\n\u001b[39;00m\u001b[38;5;124m'\u001b[39m\n",
      " \u001b[38;5;124m'\u001b[39m\u001b[38;5;130;01m\\t\u001b[39;00m\u001b[38;5;124mebel -> reactants\u001b[39m\u001b[38;5;130;01m\\n\u001b[39;00m\u001b[38;5;124m'\u001b[39m\n",
      " \u001b[38;5;124m'\u001b[39m\u001b[38;5;130;01m\\t\u001b[39;00m\u001b[38;5;124mebel -> side_effect\u001b[39m\u001b[38;5;130;01m\\n\u001b[39;00m\u001b[38;5;124m'\u001b[39m\n",
      " \u001b[38;5;124m'\u001b[39m\u001b[38;5;130;01m\\t\u001b[39;00m\u001b[38;5;124mebel -> products\u001b[39m\u001b[38;5;130;01m\\n\u001b[39;00m\u001b[38;5;124m'\u001b[39m\n",
      " \u001b[38;5;124m'\u001b[39m\u001b[38;5;130;01m\\t\u001b[39;00m\u001b[38;5;124mebel -> fragment\u001b[39m\u001b[38;5;130;01m\\n\u001b[39;00m\u001b[38;5;124m'\u001b[39m\n",
      " \u001b[38;5;124m'\u001b[39m\u001b[38;5;130;01m\\t\u001b[39;00m\u001b[38;5;124mebel -> from_location\u001b[39m\u001b[38;5;130;01m\\n\u001b[39;00m\u001b[38;5;124m'\u001b[39m\n",
      " \u001b[38;5;124m'\u001b[39m\u001b[38;5;130;01m\\t\u001b[39;00m\u001b[38;5;124mebel -> drug\u001b[39m\u001b[38;5;130;01m\\n\u001b[39;00m\u001b[38;5;124m'\u001b[39m\n",
      " \u001b[38;5;124m'\u001b[39m\u001b[38;5;130;01m\\t\u001b[39;00m\u001b[38;5;124mebel -> variant\u001b[39m\u001b[38;5;130;01m\\n\u001b[39;00m\u001b[38;5;124m'\u001b[39m\n",
      " \u001b[38;5;124m'\u001b[39m\u001b[38;5;130;01m\\t\u001b[39;00m\u001b[38;5;124mebel -> to_location\u001b[39m\u001b[38;5;130;01m\\n\u001b[39;00m\u001b[38;5;124m'\u001b[39m\n",
      " \u001b[38;5;124m'\u001b[39m\u001b[38;5;130;01m\\t\u001b[39;00m\u001b[38;5;124mebel -> gmod\u001b[39m\u001b[38;5;130;01m\\n\u001b[39;00m\u001b[38;5;124m'\u001b[39m\n",
      " \u001b[38;5;124m'\u001b[39m\u001b[38;5;130;01m\\t\u001b[39;00m\u001b[38;5;124mebel -> pmod\u001b[39m\u001b[38;5;130;01m\\n\u001b[39;00m\u001b[38;5;124m'\u001b[39m\n",
      " \u001b[38;5;124m'\u001b[39m\u001b[38;5;130;01m\\t\u001b[39;00m\u001b[38;5;124mebel -> snp\u001b[39m\u001b[38;5;130;01m\\n\u001b[39;00m\u001b[38;5;124m'\u001b[39m\n",
      " \u001b[38;5;124m'\u001b[39m\u001b[38;5;130;01m\\t\u001b[39;00m\u001b[38;5;124mdrug -> drug_db\u001b[39m\u001b[38;5;130;01m\\n\u001b[39;00m\u001b[38;5;124m'\u001b[39m\n",
      " \u001b[38;5;124m'\u001b[39m\u001b[38;5;124m}\u001b[39m\u001b[38;5;124m'\u001b[39m)\n",
      "\n",
      "For further testing go to http://0.0.0.0:5000/ui/#/e(BE:L)/ebel.web.api.ebel.v1.bel.get_ebel_node_types_as_dot\n"
     ]
    },
    {
     "data": {
      "text/html": [
       "<h2>12. Get child nodes, abstract status of childs, parents path, number of entries, abstract status for all e(BE:L) relation types</h2>"
      ],
      "text/plain": [
       "<IPython.core.display.HTML object>"
      ]
     },
     "metadata": {},
     "output_type": "display_data"
    },
    {
     "data": {
      "text/html": [
       "<b style=\"color: rgb(98,98,98); text-decoration: underline;\">Description:</b> <p>Get child nodes, abstract status of childs, parents path, number of entries, abstract status for all e(BE:L) relation types</p>"
      ],
      "text/plain": [
       "<IPython.core.display.HTML object>"
      ]
     },
     "metadata": {},
     "output_type": "display_data"
    },
    {
     "data": {
      "text/html": [
       "<b>Tags:</b> ['e(BE:L)']"
      ],
      "text/plain": [
       "<IPython.core.display.HTML object>"
      ]
     },
     "metadata": {},
     "output_type": "display_data"
    },
    {
     "data": {
      "text/html": [
       "<b>Server path:</b> /api/v1/ebel/relation_types"
      ],
      "text/plain": [
       "<IPython.core.display.HTML object>"
      ]
     },
     "metadata": {},
     "output_type": "display_data"
    },
    {
     "name": "stdout",
     "output_type": "stream",
     "text": [
      "without paramters\n"
     ]
    },
    {
     "data": {
      "text/html": [
       "<b>Example URL:</b> <a href=\"http://0.0.0.0:5000/api/v1/ebel/relation_types\">http://0.0.0.0:5000/api/v1/ebel/relation_types</a>"
      ],
      "text/plain": [
       "<IPython.core.display.HTML object>"
      ]
     },
     "metadata": {},
     "output_type": "display_data"
    },
    {
     "data": {
      "text/html": [
       "<b style=\"color: rgb(98,98,98); text-decoration: underline;\">Example response:</b>"
      ],
      "text/plain": [
       "<IPython.core.display.HTML object>"
      ]
     },
     "metadata": {},
     "output_type": "display_data"
    },
    {
     "name": "stdout",
     "output_type": "stream",
     "text": [
      "{\u001b[38;5;124m'\u001b[39m\u001b[38;5;124mactivates__iu\u001b[39m\u001b[38;5;124m'\u001b[39m: {\u001b[38;5;124m'\u001b[39m\u001b[38;5;124mabstract\u001b[39m\u001b[38;5;124m'\u001b[39m: \u001b[38;5;28;01mFalse\u001b[39;00m,\n",
      "                   \u001b[38;5;124m'\u001b[39m\u001b[38;5;124mchildren\u001b[39m\u001b[38;5;124m'\u001b[39m: [],\n",
      "                   \u001b[38;5;124m'\u001b[39m\u001b[38;5;124min_out\u001b[39m\u001b[38;5;124m'\u001b[39m: {\u001b[38;5;124m'\u001b[39m\u001b[38;5;124min\u001b[39m\u001b[38;5;124m'\u001b[39m: \u001b[38;5;124m'\u001b[39m\u001b[38;5;124mbel\u001b[39m\u001b[38;5;124m'\u001b[39m, \u001b[38;5;124m'\u001b[39m\u001b[38;5;124mout\u001b[39m\u001b[38;5;124m'\u001b[39m: \u001b[38;5;124m'\u001b[39m\u001b[38;5;124mbel\u001b[39m\u001b[38;5;124m'\u001b[39m},\n",
      "                   \u001b[38;5;124m'\u001b[39m\u001b[38;5;124mparents_path\u001b[39m\u001b[38;5;124m'\u001b[39m: [\u001b[38;5;124m'\u001b[39m\u001b[38;5;124mactivates__iu\u001b[39m\u001b[38;5;124m'\u001b[39m,\n",
      "                                    \u001b[38;5;124m'\u001b[39m\u001b[38;5;124miuphar_interaction\u001b[39m\u001b[38;5;124m'\u001b[39m,\n",
      "                                    \u001b[38;5;124m'\u001b[39m\u001b[38;5;124mebel_relation\u001b[39m\u001b[38;5;124m'\u001b[39m,\n",
      "                                    \u001b[38;5;124m'\u001b[39m\u001b[38;5;124mE\u001b[39m\u001b[38;5;124m'\u001b[39m]},\n",
      " \u001b[38;5;124m'\u001b[39m\u001b[38;5;124mactivates_st\u001b[39m\u001b[38;5;124m'\u001b[39m: {\u001b[38;5;124m'\u001b[39m\u001b[38;5;124mabstract\u001b[39m\u001b[38;5;124m'\u001b[39m: \u001b[38;5;28;01mFalse\u001b[39;00m,\n",
      "                  \u001b[38;5;124m'\u001b[39m\u001b[38;5;124mchildren\u001b[39m\u001b[38;5;124m'\u001b[39m: [],\n",
      "                  \u001b[38;5;124m'\u001b[39m\u001b[38;5;124min_out\u001b[39m\u001b[38;5;124m'\u001b[39m: {\u001b[38;5;124m'\u001b[39m\u001b[38;5;124min\u001b[39m\u001b[38;5;124m'\u001b[39m: \u001b[38;5;124m'\u001b[39m\u001b[38;5;124mprotein\u001b[39m\u001b[38;5;124m'\u001b[39m, \u001b[38;5;124m'\u001b[39m\u001b[38;5;124mout\u001b[39m\u001b[38;5;124m'\u001b[39m: \u001b[38;5;124m'\u001b[39m\u001b[38;5;124mprotein\u001b[39m\u001b[38;5;124m'\u001b[39m},\n",
      "                  \u001b[38;5;124m'\u001b[39m\u001b[38;5;124mparents_path\u001b[39m\u001b[38;5;124m'\u001b[39m: [\u001b[38;5;124m'\u001b[39m\u001b[38;5;124mactivates_st\u001b[39m\u001b[38;5;124m'\u001b[39m,\n",
      "                                   \u001b[38;5;124m'\u001b[39m\u001b[38;5;124mhas_action_st\u001b[39m\u001b[38;5;124m'\u001b[39m,\n",
      "                                   \u001b[38;5;124m'\u001b[39m\u001b[38;5;124mhas_action\u001b[39m\u001b[38;5;124m'\u001b[39m,\n",
      "                                   \u001b[38;5;124m'\u001b[39m\u001b[38;5;124mebel_relation\u001b[39m\u001b[38;5;124m'\u001b[39m,\n",
      "                                   \u001b[38;5;124m'\u001b[39m\u001b[38;5;124mE\u001b[39m\u001b[38;5;124m'\u001b[39m]},\n",
      " \u001b[38;5;124m'\u001b[39m\u001b[38;5;124magonist_of__iu\u001b[39m\u001b[38;5;124m'\u001b[39m: {\u001b[38;5;124m'\u001b[39m\u001b[38;5;124mabstract\u001b[39m\u001b[38;5;124m'\u001b[39m: \u001b[38;5;28;01mFalse\u001b[39;00m,\n",
      "                    \u001b[38;5;124m'\u001b[39m\u001b[38;5;124mchildren\u001b[39m\u001b[38;5;124m'\u001b[39m: [],\n",
      "                    \u001b[38;5;124m'\u001b[39m\u001b[38;5;124min_out\u001b[39m\u001b[38;5;124m'\u001b[39m: {\u001b[38;5;124m'\u001b[39m\u001b[38;5;124min\u001b[39m\u001b[38;5;124m'\u001b[39m: \u001b[38;5;124m'\u001b[39m\u001b[38;5;124mbel\u001b[39m\u001b[38;5;124m'\u001b[39m, \u001b[38;5;124m'\u001b[39m\u001b[38;5;124mout\u001b[39m\u001b[38;5;124m'\u001b[39m: \u001b[38;5;124m'\u001b[39m\u001b[38;5;124mbel\u001b[39m\u001b[38;5;124m'\u001b[39m},\n",
      "                    \u001b[38;5;124m'\u001b[39m\u001b[38;5;124mparents_path\u001b[39m\u001b[38;5;124m'\u001b[39m: [\u001b[38;5;124m'\u001b[39m\u001b[38;5;124magonist_of__iu\u001b[39m\u001b[38;5;124m'\u001b[39m,\n",
      "                                     \u001b[38;5;124m'\u001b[39m\u001b[38;5;124miuphar_interaction\u001b[39m\u001b[38;5;124m'\u001b[39m,\n",
      "                                     \u001b[38;5;124m'\u001b[39m\u001b[38;5;124mebel_relation\u001b[39m\u001b[38;5;124m'\u001b[39m,\n",
      "                                     \u001b[38;5;124m'\u001b[39m\u001b[38;5;124mE\u001b[39m\u001b[38;5;124m'\u001b[39m]},\n",
      " \u001b[38;5;124m'\u001b[39m\u001b[38;5;124mallosteric_modulator_of__iu\u001b[39m\u001b[38;5;124m'\u001b[39m: {\u001b[38;5;124m'\u001b[39m\u001b[38;5;124mabstract\u001b[39m\u001b[38;5;124m'\u001b[39m: \u001b[38;5;28;01mFalse\u001b[39;00m,\n",
      "                                 \u001b[38;5;124m'\u001b[39m\u001b[38;5;124mchildren\u001b[39m\u001b[38;5;124m'\u001b[39m: [],\n",
      "                                 \u001b[38;5;124m'\u001b[39m\u001b[38;5;124min_out\u001b[39m\u001b[38;5;124m'\u001b[39m: {\u001b[38;5;124m'\u001b[39m\u001b[38;5;124min\u001b[39m\u001b[38;5;124m'\u001b[39m: \u001b[38;5;124m'\u001b[39m\u001b[38;5;124mbel\u001b[39m\u001b[38;5;124m'\u001b[39m, \u001b[38;5;124m'\u001b[39m\u001b[38;5;124mout\u001b[39m\u001b[38;5;124m'\u001b[39m: \u001b[38;5;124m'\u001b[39m\u001b[38;5;124mbel\u001b[39m\u001b[38;5;124m'\u001b[39m},\n",
      "                                 \u001b[38;5;124m'\u001b[39m\u001b[38;5;124mparents_path\u001b[39m\u001b[38;5;124m'\u001b[39m: [\u001b[38;5;124m'\u001b[39m\u001b[38;5;124mallosteric_modulator_of__iu\u001b[39m\u001b[38;5;124m'\u001b[39m,\n",
      "                                                  \u001b[38;5;124m'\u001b[39m\u001b[38;5;124miuphar_interaction\u001b[39m\u001b[38;5;124m'\u001b[39m,\n",
      "                                                  \u001b[38;5;124m'\u001b[39m\u001b[38;5;124mebel_relation\u001b[39m\u001b[38;5;124m'\u001b[39m,\n",
      "                                                  \u001b[38;5;124m'\u001b[39m\u001b[38;5;124mE\u001b[39m\u001b[38;5;124m'\u001b[39m]},\n",
      " \u001b[38;5;124m'\u001b[39m\u001b[38;5;124mantagonist_of__iu\u001b[39m\u001b[38;5;124m'\u001b[39m: {\u001b[38;5;124m'\u001b[39m\u001b[38;5;124mabstract\u001b[39m\u001b[38;5;124m'\u001b[39m: \u001b[38;5;28;01mFalse\u001b[39;00m,\n",
      "                       \u001b[38;5;124m'\u001b[39m\u001b[38;5;124mchildren\u001b[39m\u001b[38;5;124m'\u001b[39m: [],\n",
      "                       \u001b[38;5;124m'\u001b[39m\u001b[38;5;124min_out\u001b[39m\u001b[38;5;124m'\u001b[39m: {\u001b[38;5;124m'\u001b[39m\u001b[38;5;124min\u001b[39m\u001b[38;5;124m'\u001b[39m: \u001b[38;5;124m'\u001b[39m\u001b[38;5;124mbel\u001b[39m\u001b[38;5;124m'\u001b[39m, \u001b[38;5;124m'\u001b[39m\u001b[38;5;124mout\u001b[39m\u001b[38;5;124m'\u001b[39m: \u001b[38;5;124m'\u001b[39m\u001b[38;5;124mbel\u001b[39m\u001b[38;5;124m'\u001b[39m},\n",
      "                       \u001b[38;5;124m'\u001b[39m\u001b[38;5;124mparents_path\u001b[39m\u001b[38;5;124m'\u001b[39m: [\u001b[38;5;124m'\u001b[39m\u001b[38;5;124mantagonist_of__iu\u001b[39m\u001b[38;5;124m'\u001b[39m,\n",
      "                                        \u001b[38;5;124m'\u001b[39m\u001b[38;5;124miuphar_interaction\u001b[39m\u001b[38;5;124m'\u001b[39m,\n",
      "                                        \u001b[38;5;124m'\u001b[39m\u001b[38;5;124mebel_relation\u001b[39m\u001b[38;5;124m'\u001b[39m,\n",
      "                                        \u001b[38;5;124m'\u001b[39m\u001b[38;5;124mE\u001b[39m\u001b[38;5;124m'\u001b[39m]},\n",
      " \u001b[38;5;124m'\u001b[39m\u001b[38;5;124mantibody_against__iu\u001b[39m\u001b[38;5;124m'\u001b[39m: {\u001b[38;5;124m'\u001b[39m\u001b[38;5;124mabstract\u001b[39m\u001b[38;5;124m'\u001b[39m: \u001b[38;5;28;01mFalse\u001b[39;00m,\n",
      "                          \u001b[38;5;124m'\u001b[39m\u001b[38;5;124mchildren\u001b[39m\u001b[38;5;124m'\u001b[39m: [],\n",
      "                          \u001b[38;5;124m'\u001b[39m\u001b[38;5;124min_out\u001b[39m\u001b[38;5;124m'\u001b[39m: {\u001b[38;5;124m'\u001b[39m\u001b[38;5;124min\u001b[39m\u001b[38;5;124m'\u001b[39m: \u001b[38;5;124m'\u001b[39m\u001b[38;5;124mbel\u001b[39m\u001b[38;5;124m'\u001b[39m, \u001b[38;5;124m'\u001b[39m\u001b[38;5;124mout\u001b[39m\u001b[38;5;124m'\u001b[39m: \u001b[38;5;124m'\u001b[39m\u001b[38;5;124mbel\u001b[39m\u001b[38;5;124m'\u001b[39m},\n",
      "                          \u001b[38;5;124m'\u001b[39m\u001b[38;5;124mparents_path\u001b[39m\u001b[38;5;124m'\u001b[39m: [\u001b[38;5;124m'\u001b[39m\u001b[38;5;124mantibody_against__iu\u001b[39m\u001b[38;5;124m'\u001b[39m,\n",
      "                                           \u001b[38;5;124m'\u001b[39m\u001b[38;5;124miuphar_interaction\u001b[39m\u001b[38;5;124m'\u001b[39m,\n",
      "                                           \u001b[38;5;124m'\u001b[39m\u001b[38;5;124mebel_relation\u001b[39m\u001b[38;5;124m'\u001b[39m,\n",
      "                                           \u001b[38;5;124m'\u001b[39m\u001b[38;5;124mE\u001b[39m\u001b[38;5;124m'\u001b[39m]},\n",
      " \u001b[38;5;124m'\u001b[39m\u001b[38;5;124mchannel_blocker_of__iu\u001b[39m\u001b[38;5;124m'\u001b[39m: {\u001b[38;5;124m'\u001b[39m\u001b[38;5;124mabstract\u001b[39m\u001b[38;5;124m'\u001b[39m: \u001b[38;5;28;01mFalse\u001b[39;00m,\n",
      "                            \u001b[38;5;124m'\u001b[39m\u001b[38;5;124mchildren\u001b[39m\u001b[38;5;124m'\u001b[39m: [],\n",
      "                            \u001b[38;5;124m'\u001b[39m\u001b[38;5;124min_out\u001b[39m\u001b[38;5;124m'\u001b[39m: {\u001b[38;5;124m'\u001b[39m\u001b[38;5;124min\u001b[39m\u001b[38;5;124m'\u001b[39m: \u001b[38;5;124m'\u001b[39m\u001b[38;5;124mbel\u001b[39m\u001b[38;5;124m'\u001b[39m, \u001b[38;5;124m'\u001b[39m\u001b[38;5;124mout\u001b[39m\u001b[38;5;124m'\u001b[39m: \u001b[38;5;124m'\u001b[39m\u001b[38;5;124mbel\u001b[39m\u001b[38;5;124m'\u001b[39m},\n",
      "                            \u001b[38;5;124m'\u001b[39m\u001b[38;5;124mparents_path\u001b[39m\u001b[38;5;124m'\u001b[39m: [\u001b[38;5;124m'\u001b[39m\u001b[38;5;124mchannel_blocker_of__iu\u001b[39m\u001b[38;5;124m'\u001b[39m,\n",
      "                                             \u001b[38;5;124m'\u001b[39m\u001b[38;5;124miuphar_interaction\u001b[39m\u001b[38;5;124m'\u001b[39m,\n",
      "                                             \u001b[38;5;124m'\u001b[39m\u001b[38;5;124mebel_relation\u001b[39m\u001b[38;5;124m'\u001b[39m,\n",
      "                                             \u001b[38;5;124m'\u001b[39m\u001b[38;5;124mE\u001b[39m\u001b[38;5;124m'\u001b[39m]},\n",
      " \u001b[38;5;124m'\u001b[39m\u001b[38;5;124mcontrols_expression_of_pc\u001b[39m\u001b[38;5;124m'\u001b[39m: {\u001b[38;5;124m'\u001b[39m\u001b[38;5;124mabstract\u001b[39m\u001b[38;5;124m'\u001b[39m: \u001b[38;5;28;01mFalse\u001b[39;00m,\n",
      "                               \u001b[38;5;124m'\u001b[39m\u001b[38;5;124mchildren\u001b[39m\u001b[38;5;124m'\u001b[39m: [],\n",
      "                               \u001b[38;5;124m'\u001b[39m\u001b[38;5;124min_out\u001b[39m\u001b[38;5;124m'\u001b[39m: {\u001b[38;5;124m'\u001b[39m\u001b[38;5;124min\u001b[39m\u001b[38;5;124m'\u001b[39m: \u001b[38;5;124m'\u001b[39m\u001b[38;5;124mprotein\u001b[39m\u001b[38;5;124m'\u001b[39m, \u001b[38;5;124m'\u001b[39m\u001b[38;5;124mout\u001b[39m\u001b[38;5;124m'\u001b[39m: \u001b[38;5;124m'\u001b[39m\u001b[38;5;124mprotein\u001b[39m\u001b[38;5;124m'\u001b[39m},\n",
      "                               \u001b[38;5;124m'\u001b[39m\u001b[38;5;124mparents_path\u001b[39m\u001b[38;5;124m'\u001b[39m: [\u001b[38;5;124m'\u001b[39m\u001b[38;5;124mcontrols_expression_of_pc\u001b[39m\u001b[38;5;124m'\u001b[39m,\n",
      "                                                \u001b[38;5;124m'\u001b[39m\u001b[38;5;124mhas_action_pc\u001b[39m\u001b[38;5;124m'\u001b[39m,\n",
      "                                                \u001b[38;5;124m'\u001b[39m\u001b[38;5;124mhas_action\u001b[39m\u001b[38;5;124m'\u001b[39m,\n",
      "                                                \u001b[38;5;124m'\u001b[39m\u001b[38;5;124mebel_relation\u001b[39m\u001b[38;5;124m'\u001b[39m,\n",
      "                                                \u001b[38;5;124m'\u001b[39m\u001b[38;5;124mE\u001b[39m\u001b[38;5;124m'\u001b[39m]},\n",
      " \u001b[38;5;124m'\u001b[39m\u001b[38;5;124mcontrols_expression_of_st\u001b[39m\u001b[38;5;124m'\u001b[39m: {\u001b[38;5;124m'\u001b[39m\u001b[38;5;124mabstract\u001b[39m\u001b[38;5;124m'\u001b[39m: \u001b[38;5;28;01mTrue\u001b[39;00m,\n",
      "                               \u001b[38;5;124m'\u001b[39m\u001b[38;5;124mchildren\u001b[39m\u001b[38;5;124m'\u001b[39m: [],\n",
      "                               \u001b[38;5;124m'\u001b[39m\u001b[38;5;124min_out\u001b[39m\u001b[38;5;124m'\u001b[39m: {\u001b[38;5;124m'\u001b[39m\u001b[38;5;124min\u001b[39m\u001b[38;5;124m'\u001b[39m: \u001b[38;5;124m'\u001b[39m\u001b[38;5;124mprotein\u001b[39m\u001b[38;5;124m'\u001b[39m, \u001b[38;5;124m'\u001b[39m\u001b[38;5;124mout\u001b[39m\u001b[38;5;124m'\u001b[39m: \u001b[38;5;124m'\u001b[39m\u001b[38;5;124mprotein\u001b[39m\u001b[38;5;124m'\u001b[39m},\n",
      "                               \u001b[38;5;124m'\u001b[39m\u001b[38;5;124mparents_path\u001b[39m\u001b[38;5;124m'\u001b[39m: [\u001b[38;5;124m'\u001b[39m\u001b[38;5;124mcontrols_expression_of_st\u001b[39m\u001b[38;5;124m'\u001b[39m,\n",
      "                                                \u001b[38;5;124m'\u001b[39m\u001b[38;5;124mhas_action_st\u001b[39m\u001b[38;5;124m'\u001b[39m,\n",
      "                                                \u001b[38;5;124m'\u001b[39m\u001b[38;5;124mhas_action\u001b[39m\u001b[38;5;124m'\u001b[39m,\n",
      "                                                \u001b[38;5;124m'\u001b[39m\u001b[38;5;124mebel_relation\u001b[39m\u001b[38;5;124m'\u001b[39m,\n",
      "                                                \u001b[38;5;124m'\u001b[39m\u001b[38;5;124mE\u001b[39m\u001b[38;5;124m'\u001b[39m]},\n",
      " \u001b[38;5;124m'\u001b[39m\u001b[38;5;124mcontrols_phosphorylation_of_pc\u001b[39m\u001b[38;5;124m'\u001b[39m: {\u001b[38;5;124m'\u001b[39m\u001b[38;5;124mabstract\u001b[39m\u001b[38;5;124m'\u001b[39m: \u001b[38;5;28;01mFalse\u001b[39;00m,\n",
      "                                    \u001b[38;5;124m'\u001b[39m\u001b[38;5;124mchildren\u001b[39m\u001b[38;5;124m'\u001b[39m: [],\n",
      "                                    \u001b[38;5;124m'\u001b[39m\u001b[38;5;124min_out\u001b[39m\u001b[38;5;124m'\u001b[39m: {\u001b[38;5;124m'\u001b[39m\u001b[38;5;124min\u001b[39m\u001b[38;5;124m'\u001b[39m: \u001b[38;5;124m'\u001b[39m\u001b[38;5;124mprotein\u001b[39m\u001b[38;5;124m'\u001b[39m,\n",
      "                                               \u001b[38;5;124m'\u001b[39m\u001b[38;5;124mout\u001b[39m\u001b[38;5;124m'\u001b[39m: \u001b[38;5;124m'\u001b[39m\u001b[38;5;124mprotein\u001b[39m\u001b[38;5;124m'\u001b[39m},\n",
      "                                    \u001b[38;5;124m'\u001b[39m\u001b[38;5;124mparents_path\u001b[39m\u001b[38;5;124m'\u001b[39m: [\u001b[38;5;124m'\u001b[39m\u001b[38;5;124mcontrols_phosphorylation_of_pc\u001b[39m\u001b[38;5;124m'\u001b[39m,\n",
      "                                                     \u001b[38;5;124m'\u001b[39m\u001b[38;5;124mhas_action_pc\u001b[39m\u001b[38;5;124m'\u001b[39m,\n",
      "                                                     \u001b[38;5;124m'\u001b[39m\u001b[38;5;124mhas_action\u001b[39m\u001b[38;5;124m'\u001b[39m,\n",
      "                                                     \u001b[38;5;124m'\u001b[39m\u001b[38;5;124mebel_relation\u001b[39m\u001b[38;5;124m'\u001b[39m,\n",
      "                                                     \u001b[38;5;124m'\u001b[39m\u001b[38;5;124mE\u001b[39m\u001b[38;5;124m'\u001b[39m]},\n",
      " \u001b[38;5;124m'\u001b[39m\u001b[38;5;124mcontrols_pmod_of_st\u001b[39m\u001b[38;5;124m'\u001b[39m: {\u001b[38;5;124m'\u001b[39m\u001b[38;5;124mabstract\u001b[39m\u001b[38;5;124m'\u001b[39m: \u001b[38;5;28;01mFalse\u001b[39;00m,\n",
      "                         \u001b[38;5;124m'\u001b[39m\u001b[38;5;124mchildren\u001b[39m\u001b[38;5;124m'\u001b[39m: [],\n",
      "                         \u001b[38;5;124m'\u001b[39m\u001b[38;5;124min_out\u001b[39m\u001b[38;5;124m'\u001b[39m: {\u001b[38;5;124m'\u001b[39m\u001b[38;5;124min\u001b[39m\u001b[38;5;124m'\u001b[39m: \u001b[38;5;124m'\u001b[39m\u001b[38;5;124mprotein\u001b[39m\u001b[38;5;124m'\u001b[39m, \u001b[38;5;124m'\u001b[39m\u001b[38;5;124mout\u001b[39m\u001b[38;5;124m'\u001b[39m: \u001b[38;5;124m'\u001b[39m\u001b[38;5;124mprotein\u001b[39m\u001b[38;5;124m'\u001b[39m},\n",
      "                         \u001b[38;5;124m'\u001b[39m\u001b[38;5;124mparents_path\u001b[39m\u001b[38;5;124m'\u001b[39m: [\u001b[38;5;124m'\u001b[39m\u001b[38;5;124mcontrols_pmod_of_st\u001b[39m\u001b[38;5;124m'\u001b[39m,\n",
      "                                          \u001b[38;5;124m'\u001b[39m\u001b[38;5;124mhas_action_st\u001b[39m\u001b[38;5;124m'\u001b[39m,\n",
      "                                          \u001b[38;5;124m'\u001b[39m\u001b[38;5;124mhas_action\u001b[39m\u001b[38;5;124m'\u001b[39m,\n",
      "                                          \u001b[38;5;124m'\u001b[39m\u001b[38;5;124mebel_relation\u001b[39m\u001b[38;5;124m'\u001b[39m,\n",
      "                                          \u001b[38;5;124m'\u001b[39m\u001b[38;5;124mE\u001b[39m\u001b[38;5;124m'\u001b[39m]},\n",
      " \u001b[38;5;124m'\u001b[39m\u001b[38;5;124mcontrols_transport_of_pc\u001b[39m\u001b[38;5;124m'\u001b[39m: {\u001b[38;5;124m'\u001b[39m\u001b[38;5;124mabstract\u001b[39m\u001b[38;5;124m'\u001b[39m: \u001b[38;5;28;01mFalse\u001b[39;00m,\n",
      "                              \u001b[38;5;124m'\u001b[39m\u001b[38;5;124mchildren\u001b[39m\u001b[38;5;124m'\u001b[39m: [],\n",
      "                              \u001b[38;5;124m'\u001b[39m\u001b[38;5;124min_out\u001b[39m\u001b[38;5;124m'\u001b[39m: {\u001b[38;5;124m'\u001b[39m\u001b[38;5;124min\u001b[39m\u001b[38;5;124m'\u001b[39m: \u001b[38;5;124m'\u001b[39m\u001b[38;5;124mprotein\u001b[39m\u001b[38;5;124m'\u001b[39m, \u001b[38;5;124m'\u001b[39m\u001b[38;5;124mout\u001b[39m\u001b[38;5;124m'\u001b[39m: \u001b[38;5;124m'\u001b[39m\u001b[38;5;124mprotein\u001b[39m\u001b[38;5;124m'\u001b[39m},\n",
      "                              \u001b[38;5;124m'\u001b[39m\u001b[38;5;124mparents_path\u001b[39m\u001b[38;5;124m'\u001b[39m: [\u001b[38;5;124m'\u001b[39m\u001b[38;5;124mcontrols_transport_of_pc\u001b[39m\u001b[38;5;124m'\u001b[39m,\n",
      "                                               \u001b[38;5;124m'\u001b[39m\u001b[38;5;124mhas_action_pc\u001b[39m\u001b[38;5;124m'\u001b[39m,\n",
      "                                               \u001b[38;5;124m'\u001b[39m\u001b[38;5;124mhas_action\u001b[39m\u001b[38;5;124m'\u001b[39m,\n",
      "                                               \u001b[38;5;124m'\u001b[39m\u001b[38;5;124mebel_relation\u001b[39m\u001b[38;5;124m'\u001b[39m,\n",
      "                                               \u001b[38;5;124m'\u001b[39m\u001b[38;5;124mE\u001b[39m\u001b[38;5;124m'\u001b[39m]},\n",
      " \u001b[38;5;124m'\u001b[39m\u001b[38;5;124mdecreases_ace_bg\u001b[39m\u001b[38;5;124m'\u001b[39m: {\u001b[38;5;124m'\u001b[39m\u001b[38;5;124mabstract\u001b[39m\u001b[38;5;124m'\u001b[39m: \u001b[38;5;28;01mFalse\u001b[39;00m,\n",
      "                      \u001b[38;5;124m'\u001b[39m\u001b[38;5;124mchildren\u001b[39m\u001b[38;5;124m'\u001b[39m: [],\n",
      "                      \u001b[38;5;124m'\u001b[39m\u001b[38;5;124min_out\u001b[39m\u001b[38;5;124m'\u001b[39m: {\u001b[38;5;124m'\u001b[39m\u001b[38;5;124min\u001b[39m\u001b[38;5;124m'\u001b[39m: \u001b[38;5;124m'\u001b[39m\u001b[38;5;124mprotein\u001b[39m\u001b[38;5;124m'\u001b[39m, \u001b[38;5;124m'\u001b[39m\u001b[38;5;124mout\u001b[39m\u001b[38;5;124m'\u001b[39m: \u001b[38;5;124m'\u001b[39m\u001b[38;5;124mprotein\u001b[39m\u001b[38;5;124m'\u001b[39m},\n",
      "                      \u001b[38;5;124m'\u001b[39m\u001b[38;5;124mparents_path\u001b[39m\u001b[38;5;124m'\u001b[39m: [\u001b[38;5;124m'\u001b[39m\u001b[38;5;124mdecreases_ace_bg\u001b[39m\u001b[38;5;124m'\u001b[39m,\n",
      "                                       \u001b[38;5;124m'\u001b[39m\u001b[38;5;124mhas_ppi_bg\u001b[39m\u001b[38;5;124m'\u001b[39m,\n",
      "                                       \u001b[38;5;124m'\u001b[39m\u001b[38;5;124mhas_ppi\u001b[39m\u001b[38;5;124m'\u001b[39m,\n",
      "                                       \u001b[38;5;124m'\u001b[39m\u001b[38;5;124mebel_relation\u001b[39m\u001b[38;5;124m'\u001b[39m,\n",
      "                                       \u001b[38;5;124m'\u001b[39m\u001b[38;5;124mE\u001b[39m\u001b[38;5;124m'\u001b[39m]},\n",
      " \u001b[38;5;124m'\u001b[39m\u001b[38;5;124mdecreases_add_bg\u001b[39m\u001b[38;5;124m'\u001b[39m: {\u001b[38;5;124m'\u001b[39m\u001b[38;5;124mabstract\u001b[39m\u001b[38;5;124m'\u001b[39m: \u001b[38;5;28;01mFalse\u001b[39;00m,\n",
      "                      \u001b[38;5;124m'\u001b[39m\u001b[38;5;124mchildren\u001b[39m\u001b[38;5;124m'\u001b[39m: [],\n",
      "                      \u001b[38;5;124m'\u001b[39m\u001b[38;5;124min_out\u001b[39m\u001b[38;5;124m'\u001b[39m: {\u001b[38;5;124m'\u001b[39m\u001b[38;5;124min\u001b[39m\u001b[38;5;124m'\u001b[39m: \u001b[38;5;124m'\u001b[39m\u001b[38;5;124mprotein\u001b[39m\u001b[38;5;124m'\u001b[39m, \u001b[38;5;124m'\u001b[39m\u001b[38;5;124mout\u001b[39m\u001b[38;5;124m'\u001b[39m: \u001b[38;5;124m'\u001b[39m\u001b[38;5;124mprotein\u001b[39m\u001b[38;5;124m'\u001b[39m},\n",
      "                      \u001b[38;5;124m'\u001b[39m\u001b[38;5;124mparents_path\u001b[39m\u001b[38;5;124m'\u001b[39m: [\u001b[38;5;124m'\u001b[39m\u001b[38;5;124mdecreases_add_bg\u001b[39m\u001b[38;5;124m'\u001b[39m,\n",
      "                                       \u001b[38;5;124m'\u001b[39m\u001b[38;5;124mhas_ppi_bg\u001b[39m\u001b[38;5;124m'\u001b[39m,\n",
      "                                       \u001b[38;5;124m'\u001b[39m\u001b[38;5;124mhas_ppi\u001b[39m\u001b[38;5;124m'\u001b[39m,\n",
      "                                       \u001b[38;5;124m'\u001b[39m\u001b[38;5;124mebel_relation\u001b[39m\u001b[38;5;124m'\u001b[39m,\n",
      "                                       \u001b[38;5;124m'\u001b[39m\u001b[38;5;124mE\u001b[39m\u001b[38;5;124m'\u001b[39m]},\n",
      " \u001b[38;5;124m'\u001b[39m\u001b[38;5;124mdecreases_adr_bg\u001b[39m\u001b[38;5;124m'\u001b[39m: {\u001b[38;5;124m'\u001b[39m\u001b[38;5;124mabstract\u001b[39m\u001b[38;5;124m'\u001b[39m: \u001b[38;5;28;01mFalse\u001b[39;00m,\n",
      "                      \u001b[38;5;124m'\u001b[39m\u001b[38;5;124mchildren\u001b[39m\u001b[38;5;124m'\u001b[39m: [],\n",
      "                      \u001b[38;5;124m'\u001b[39m\u001b[38;5;124min_out\u001b[39m\u001b[38;5;124m'\u001b[39m: {\u001b[38;5;124m'\u001b[39m\u001b[38;5;124min\u001b[39m\u001b[38;5;124m'\u001b[39m: \u001b[38;5;124m'\u001b[39m\u001b[38;5;124mprotein\u001b[39m\u001b[38;5;124m'\u001b[39m, \u001b[38;5;124m'\u001b[39m\u001b[38;5;124mout\u001b[39m\u001b[38;5;124m'\u001b[39m: \u001b[38;5;124m'\u001b[39m\u001b[38;5;124mprotein\u001b[39m\u001b[38;5;124m'\u001b[39m},\n",
      "                      \u001b[38;5;124m'\u001b[39m\u001b[38;5;124mparents_path\u001b[39m\u001b[38;5;124m'\u001b[39m: [\u001b[38;5;124m'\u001b[39m\u001b[38;5;124mdecreases_adr_bg\u001b[39m\u001b[38;5;124m'\u001b[39m,\n",
      "                                       \u001b[38;5;124m'\u001b[39m\u001b[38;5;124mhas_ppi_bg\u001b[39m\u001b[38;5;124m'\u001b[39m,\n",
      "                                       \u001b[38;5;124m'\u001b[39m\u001b[38;5;124mhas_ppi\u001b[39m\u001b[38;5;124m'\u001b[39m,\n",
      "                                       \u001b[38;5;124m'\u001b[39m\u001b[38;5;124mebel_relation\u001b[39m\u001b[38;5;124m'\u001b[39m,\n",
      "                                       \u001b[38;5;124m'\u001b[39m\u001b[38;5;124mE\u001b[39m\u001b[38;5;124m'\u001b[39m]},\n",
      " \u001b[38;5;124m'\u001b[39m\u001b[38;5;124mdecreases_bg\u001b[39m\u001b[38;5;124m'\u001b[39m: {\u001b[38;5;124m'\u001b[39m\u001b[38;5;124mabstract\u001b[39m\u001b[38;5;124m'\u001b[39m: \u001b[38;5;28;01mFalse\u001b[39;00m,\n",
      "                  \u001b[38;5;124m'\u001b[39m\u001b[38;5;124mchildren\u001b[39m\u001b[38;5;124m'\u001b[39m: [],\n",
      "                  \u001b[38;5;124m'\u001b[39m\u001b[38;5;124min_out\u001b[39m\u001b[38;5;124m'\u001b[39m: {\u001b[38;5;124m'\u001b[39m\u001b[38;5;124min\u001b[39m\u001b[38;5;124m'\u001b[39m: \u001b[38;5;124m'\u001b[39m\u001b[38;5;124mprotein\u001b[39m\u001b[38;5;124m'\u001b[39m, \u001b[38;5;124m'\u001b[39m\u001b[38;5;124mout\u001b[39m\u001b[38;5;124m'\u001b[39m: \u001b[38;5;124m'\u001b[39m\u001b[38;5;124mprotein\u001b[39m\u001b[38;5;124m'\u001b[39m},\n",
      "                  \u001b[38;5;124m'\u001b[39m\u001b[38;5;124mparents_path\u001b[39m\u001b[38;5;124m'\u001b[39m: [\u001b[38;5;124m'\u001b[39m\u001b[38;5;124mdecreases_bg\u001b[39m\u001b[38;5;124m'\u001b[39m,\n",
      "                                   \u001b[38;5;124m'\u001b[39m\u001b[38;5;124mhas_ppi_bg\u001b[39m\u001b[38;5;124m'\u001b[39m,\n",
      "                                   \u001b[38;5;124m'\u001b[39m\u001b[38;5;124mhas_ppi\u001b[39m\u001b[38;5;124m'\u001b[39m,\n",
      "                                   \u001b[38;5;124m'\u001b[39m\u001b[38;5;124mebel_relation\u001b[39m\u001b[38;5;124m'\u001b[39m,\n",
      "                                   \u001b[38;5;124m'\u001b[39m\u001b[38;5;124mE\u001b[39m\u001b[38;5;124m'\u001b[39m]},\n",
      " \u001b[38;5;124m'\u001b[39m\u001b[38;5;124mdecreases_dei_bg\u001b[39m\u001b[38;5;124m'\u001b[39m: {\u001b[38;5;124m'\u001b[39m\u001b[38;5;124mabstract\u001b[39m\u001b[38;5;124m'\u001b[39m: \u001b[38;5;28;01mFalse\u001b[39;00m,\n",
      "                      \u001b[38;5;124m'\u001b[39m\u001b[38;5;124mchildren\u001b[39m\u001b[38;5;124m'\u001b[39m: [],\n",
      "                      \u001b[38;5;124m'\u001b[39m\u001b[38;5;124min_out\u001b[39m\u001b[38;5;124m'\u001b[39m: {\u001b[38;5;124m'\u001b[39m\u001b[38;5;124min\u001b[39m\u001b[38;5;124m'\u001b[39m: \u001b[38;5;124m'\u001b[39m\u001b[38;5;124mprotein\u001b[39m\u001b[38;5;124m'\u001b[39m, \u001b[38;5;124m'\u001b[39m\u001b[38;5;124mout\u001b[39m\u001b[38;5;124m'\u001b[39m: \u001b[38;5;124m'\u001b[39m\u001b[38;5;124mprotein\u001b[39m\u001b[38;5;124m'\u001b[39m},\n",
      "                      \u001b[38;5;124m'\u001b[39m\u001b[38;5;124mparents_path\u001b[39m\u001b[38;5;124m'\u001b[39m: [\u001b[38;5;124m'\u001b[39m\u001b[38;5;124mdecreases_dei_bg\u001b[39m\u001b[38;5;124m'\u001b[39m,\n",
      "                                       \u001b[38;5;124m'\u001b[39m\u001b[38;5;124mhas_ppi_bg\u001b[39m\u001b[38;5;124m'\u001b[39m,\n",
      "                                       \u001b[38;5;124m'\u001b[39m\u001b[38;5;124mhas_ppi\u001b[39m\u001b[38;5;124m'\u001b[39m,\n",
      "                                       \u001b[38;5;124m'\u001b[39m\u001b[38;5;124mebel_relation\u001b[39m\u001b[38;5;124m'\u001b[39m,\n",
      "                                       \u001b[38;5;124m'\u001b[39m\u001b[38;5;124mE\u001b[39m\u001b[38;5;124m'\u001b[39m]},\n",
      " \u001b[38;5;124m'\u001b[39m\u001b[38;5;124mdecreases_expression_of_st\u001b[39m\u001b[38;5;124m'\u001b[39m: {\u001b[38;5;124m'\u001b[39m\u001b[38;5;124mabstract\u001b[39m\u001b[38;5;124m'\u001b[39m: \u001b[38;5;28;01mFalse\u001b[39;00m,\n",
      "                                \u001b[38;5;124m'\u001b[39m\u001b[38;5;124mchildren\u001b[39m\u001b[38;5;124m'\u001b[39m: [],\n",
      "                                \u001b[38;5;124m'\u001b[39m\u001b[38;5;124min_out\u001b[39m\u001b[38;5;124m'\u001b[39m: {\u001b[38;5;124m'\u001b[39m\u001b[38;5;124min\u001b[39m\u001b[38;5;124m'\u001b[39m: \u001b[38;5;124m'\u001b[39m\u001b[38;5;124mprotein\u001b[39m\u001b[38;5;124m'\u001b[39m, \u001b[38;5;124m'\u001b[39m\u001b[38;5;124mout\u001b[39m\u001b[38;5;124m'\u001b[39m: \u001b[38;5;124m'\u001b[39m\u001b[38;5;124mprotein\u001b[39m\u001b[38;5;124m'\u001b[39m},\n",
      "                                \u001b[38;5;124m'\u001b[39m\u001b[38;5;124mparents_path\u001b[39m\u001b[38;5;124m'\u001b[39m: [\u001b[38;5;124m'\u001b[39m\u001b[38;5;124mdecreases_expression_of_st\u001b[39m\u001b[38;5;124m'\u001b[39m,\n",
      "                                                 \u001b[38;5;124m'\u001b[39m\u001b[38;5;124mhas_action_st\u001b[39m\u001b[38;5;124m'\u001b[39m,\n",
      "                                                 \u001b[38;5;124m'\u001b[39m\u001b[38;5;124mhas_action\u001b[39m\u001b[38;5;124m'\u001b[39m,\n",
      "                                                 \u001b[38;5;124m'\u001b[39m\u001b[38;5;124mebel_relation\u001b[39m\u001b[38;5;124m'\u001b[39m,\n",
      "                                                 \u001b[38;5;124m'\u001b[39m\u001b[38;5;124mE\u001b[39m\u001b[38;5;124m'\u001b[39m]},\n",
      " \u001b[38;5;124m'\u001b[39m\u001b[38;5;124mdecreases_far_bg\u001b[39m\u001b[38;5;124m'\u001b[39m: {\u001b[38;5;124m'\u001b[39m\u001b[38;5;124mabstract\u001b[39m\u001b[38;5;124m'\u001b[39m: \u001b[38;5;28;01mFalse\u001b[39;00m,\n",
      "                      \u001b[38;5;124m'\u001b[39m\u001b[38;5;124mchildren\u001b[39m\u001b[38;5;124m'\u001b[39m: [],\n",
      "                      \u001b[38;5;124m'\u001b[39m\u001b[38;5;124min_out\u001b[39m\u001b[38;5;124m'\u001b[39m: {\u001b[38;5;124m'\u001b[39m\u001b[38;5;124min\u001b[39m\u001b[38;5;124m'\u001b[39m: \u001b[38;5;124m'\u001b[39m\u001b[38;5;124mprotein\u001b[39m\u001b[38;5;124m'\u001b[39m, \u001b[38;5;124m'\u001b[39m\u001b[38;5;124mout\u001b[39m\u001b[38;5;124m'\u001b[39m: \u001b[38;5;124m'\u001b[39m\u001b[38;5;124mprotein\u001b[39m\u001b[38;5;124m'\u001b[39m},\n",
      "                      \u001b[38;5;124m'\u001b[39m\u001b[38;5;124mparents_path\u001b[39m\u001b[38;5;124m'\u001b[39m: [\u001b[38;5;124m'\u001b[39m\u001b[38;5;124mdecreases_far_bg\u001b[39m\u001b[38;5;124m'\u001b[39m,\n",
      "                                       \u001b[38;5;124m'\u001b[39m\u001b[38;5;124mhas_ppi_bg\u001b[39m\u001b[38;5;124m'\u001b[39m,\n",
      "                                       \u001b[38;5;124m'\u001b[39m\u001b[38;5;124mhas_ppi\u001b[39m\u001b[38;5;124m'\u001b[39m,\n",
      "                                       \u001b[38;5;124m'\u001b[39m\u001b[38;5;124mebel_relation\u001b[39m\u001b[38;5;124m'\u001b[39m,\n",
      "                                       \u001b[38;5;124m'\u001b[39m\u001b[38;5;124mE\u001b[39m\u001b[38;5;124m'\u001b[39m]},\n",
      " \u001b[38;5;124m'\u001b[39m\u001b[38;5;124mdecreases_fat_bg\u001b[39m\u001b[38;5;124m'\u001b[39m: {\u001b[38;5;124m'\u001b[39m\u001b[38;5;124mabstract\u001b[39m\u001b[38;5;124m'\u001b[39m: \u001b[38;5;28;01mFalse\u001b[39;00m,\n",
      "                      \u001b[38;5;124m'\u001b[39m\u001b[38;5;124mchildren\u001b[39m\u001b[38;5;124m'\u001b[39m: [],\n",
      "                      \u001b[38;5;124m'\u001b[39m\u001b[38;5;124min_out\u001b[39m\u001b[38;5;124m'\u001b[39m: {\u001b[38;5;124m'\u001b[39m\u001b[38;5;124min\u001b[39m\u001b[38;5;124m'\u001b[39m: \u001b[38;5;124m'\u001b[39m\u001b[38;5;124mprotein\u001b[39m\u001b[38;5;124m'\u001b[39m, \u001b[38;5;124m'\u001b[39m\u001b[38;5;124mout\u001b[39m\u001b[38;5;124m'\u001b[39m: \u001b[38;5;124m'\u001b[39m\u001b[38;5;124mprotein\u001b[39m\u001b[38;5;124m'\u001b[39m},\n",
      "                      \u001b[38;5;124m'\u001b[39m\u001b[38;5;124mparents_path\u001b[39m\u001b[38;5;124m'\u001b[39m: [\u001b[38;5;124m'\u001b[39m\u001b[38;5;124mdecreases_fat_bg\u001b[39m\u001b[38;5;124m'\u001b[39m,\n",
      "                                       \u001b[38;5;124m'\u001b[39m\u001b[38;5;124mhas_ppi_bg\u001b[39m\u001b[38;5;124m'\u001b[39m,\n",
      "                                       \u001b[38;5;124m'\u001b[39m\u001b[38;5;124mhas_ppi\u001b[39m\u001b[38;5;124m'\u001b[39m,\n",
      "                                       \u001b[38;5;124m'\u001b[39m\u001b[38;5;124mebel_relation\u001b[39m\u001b[38;5;124m'\u001b[39m,\n",
      "                                       \u001b[38;5;124m'\u001b[39m\u001b[38;5;124mE\u001b[39m\u001b[38;5;124m'\u001b[39m]},\n",
      " \u001b[38;5;124m'\u001b[39m\u001b[38;5;124mdecreases_ger_bg\u001b[39m\u001b[38;5;124m'\u001b[39m: {\u001b[38;5;124m'\u001b[39m\u001b[38;5;124mabstract\u001b[39m\u001b[38;5;124m'\u001b[39m: \u001b[38;5;28;01mFalse\u001b[39;00m,\n",
      "                      \u001b[38;5;124m'\u001b[39m\u001b[38;5;124mchildren\u001b[39m\u001b[38;5;124m'\u001b[39m: [],\n",
      "                      \u001b[38;5;124m'\u001b[39m\u001b[38;5;124min_out\u001b[39m\u001b[38;5;124m'\u001b[39m: {\u001b[38;5;124m'\u001b[39m\u001b[38;5;124min\u001b[39m\u001b[38;5;124m'\u001b[39m: \u001b[38;5;124m'\u001b[39m\u001b[38;5;124mprotein\u001b[39m\u001b[38;5;124m'\u001b[39m, \u001b[38;5;124m'\u001b[39m\u001b[38;5;124mout\u001b[39m\u001b[38;5;124m'\u001b[39m: \u001b[38;5;124m'\u001b[39m\u001b[38;5;124mprotein\u001b[39m\u001b[38;5;124m'\u001b[39m},\n",
      "                      \u001b[38;5;124m'\u001b[39m\u001b[38;5;124mparents_path\u001b[39m\u001b[38;5;124m'\u001b[39m: [\u001b[38;5;124m'\u001b[39m\u001b[38;5;124mdecreases_ger_bg\u001b[39m\u001b[38;5;124m'\u001b[39m,\n",
      "                                       \u001b[38;5;124m'\u001b[39m\u001b[38;5;124mhas_ppi_bg\u001b[39m\u001b[38;5;124m'\u001b[39m,\n",
      "                                       \u001b[38;5;124m'\u001b[39m\u001b[38;5;124mhas_ppi\u001b[39m\u001b[38;5;124m'\u001b[39m,\n",
      "                                       \u001b[38;5;124m'\u001b[39m\u001b[38;5;124mebel_relation\u001b[39m\u001b[38;5;124m'\u001b[39m,\n",
      "                                       \u001b[38;5;124m'\u001b[39m\u001b[38;5;124mE\u001b[39m\u001b[38;5;124m'\u001b[39m]},\n",
      " \u001b[38;5;124m'\u001b[39m\u001b[38;5;124mdecreases_gly_bg\u001b[39m\u001b[38;5;124m'\u001b[39m: {\u001b[38;5;124m'\u001b[39m\u001b[38;5;124mabstract\u001b[39m\u001b[38;5;124m'\u001b[39m: \u001b[38;5;28;01mFalse\u001b[39;00m,\n",
      "                      \u001b[38;5;124m'\u001b[39m\u001b[38;5;124mchildren\u001b[39m\u001b[38;5;124m'\u001b[39m: [],\n",
      "                      \u001b[38;5;124m'\u001b[39m\u001b[38;5;124min_out\u001b[39m\u001b[38;5;124m'\u001b[39m: {\u001b[38;5;124m'\u001b[39m\u001b[38;5;124min\u001b[39m\u001b[38;5;124m'\u001b[39m: \u001b[38;5;124m'\u001b[39m\u001b[38;5;124mprotein\u001b[39m\u001b[38;5;124m'\u001b[39m, \u001b[38;5;124m'\u001b[39m\u001b[38;5;124mout\u001b[39m\u001b[38;5;124m'\u001b[39m: \u001b[38;5;124m'\u001b[39m\u001b[38;5;124mprotein\u001b[39m\u001b[38;5;124m'\u001b[39m},\n",
      "                      \u001b[38;5;124m'\u001b[39m\u001b[38;5;124mparents_path\u001b[39m\u001b[38;5;124m'\u001b[39m: [\u001b[38;5;124m'\u001b[39m\u001b[38;5;124mdecreases_gly_bg\u001b[39m\u001b[38;5;124m'\u001b[39m,\n",
      "                                       \u001b[38;5;124m'\u001b[39m\u001b[38;5;124mhas_ppi_bg\u001b[39m\u001b[38;5;124m'\u001b[39m,\n",
      "                                       \u001b[38;5;124m'\u001b[39m\u001b[38;5;124mhas_ppi\u001b[39m\u001b[38;5;124m'\u001b[39m,\n",
      "                                       \u001b[38;5;124m'\u001b[39m\u001b[38;5;124mebel_relation\u001b[39m\u001b[38;5;124m'\u001b[39m,\n",
      "                                       \u001b[38;5;124m'\u001b[39m\u001b[38;5;124mE\u001b[39m\u001b[38;5;124m'\u001b[39m]},\n",
      " \u001b[38;5;124m'\u001b[39m\u001b[38;5;124mdecreases_hyd_bg\u001b[39m\u001b[38;5;124m'\u001b[39m: {\u001b[38;5;124m'\u001b[39m\u001b[38;5;124mabstract\u001b[39m\u001b[38;5;124m'\u001b[39m: \u001b[38;5;28;01mFalse\u001b[39;00m,\n",
      "                      \u001b[38;5;124m'\u001b[39m\u001b[38;5;124mchildren\u001b[39m\u001b[38;5;124m'\u001b[39m: [],\n",
      "                      \u001b[38;5;124m'\u001b[39m\u001b[38;5;124min_out\u001b[39m\u001b[38;5;124m'\u001b[39m: {\u001b[38;5;124m'\u001b[39m\u001b[38;5;124min\u001b[39m\u001b[38;5;124m'\u001b[39m: \u001b[38;5;124m'\u001b[39m\u001b[38;5;124mprotein\u001b[39m\u001b[38;5;124m'\u001b[39m, \u001b[38;5;124m'\u001b[39m\u001b[38;5;124mout\u001b[39m\u001b[38;5;124m'\u001b[39m: \u001b[38;5;124m'\u001b[39m\u001b[38;5;124mprotein\u001b[39m\u001b[38;5;124m'\u001b[39m},\n",
      "                      \u001b[38;5;124m'\u001b[39m\u001b[38;5;124mparents_path\u001b[39m\u001b[38;5;124m'\u001b[39m: [\u001b[38;5;124m'\u001b[39m\u001b[38;5;124mdecreases_hyd_bg\u001b[39m\u001b[38;5;124m'\u001b[39m,\n",
      "                                       \u001b[38;5;124m'\u001b[39m\u001b[38;5;124mhas_ppi_bg\u001b[39m\u001b[38;5;124m'\u001b[39m,\n",
      "                                       \u001b[38;5;124m'\u001b[39m\u001b[38;5;124mhas_ppi\u001b[39m\u001b[38;5;124m'\u001b[39m,\n",
      "                                       \u001b[38;5;124m'\u001b[39m\u001b[38;5;124mebel_relation\u001b[39m\u001b[38;5;124m'\u001b[39m,\n",
      "                                       \u001b[38;5;124m'\u001b[39m\u001b[38;5;124mE\u001b[39m\u001b[38;5;124m'\u001b[39m]},\n",
      " \u001b[38;5;124m'\u001b[39m\u001b[38;5;124mdecreases_isg_bg\u001b[39m\u001b[38;5;124m'\u001b[39m: {\u001b[38;5;124m'\u001b[39m\u001b[38;5;124mabstract\u001b[39m\u001b[38;5;124m'\u001b[39m: \u001b[38;5;28;01mFalse\u001b[39;00m,\n",
      "                      \u001b[38;5;124m'\u001b[39m\u001b[38;5;124mchildren\u001b[39m\u001b[38;5;124m'\u001b[39m: [],\n",
      "                      \u001b[38;5;124m'\u001b[39m\u001b[38;5;124min_out\u001b[39m\u001b[38;5;124m'\u001b[39m: {\u001b[38;5;124m'\u001b[39m\u001b[38;5;124min\u001b[39m\u001b[38;5;124m'\u001b[39m: \u001b[38;5;124m'\u001b[39m\u001b[38;5;124mprotein\u001b[39m\u001b[38;5;124m'\u001b[39m, \u001b[38;5;124m'\u001b[39m\u001b[38;5;124mout\u001b[39m\u001b[38;5;124m'\u001b[39m: \u001b[38;5;124m'\u001b[39m\u001b[38;5;124mprotein\u001b[39m\u001b[38;5;124m'\u001b[39m},\n",
      "                      \u001b[38;5;124m'\u001b[39m\u001b[38;5;124mparents_path\u001b[39m\u001b[38;5;124m'\u001b[39m: [\u001b[38;5;124m'\u001b[39m\u001b[38;5;124mdecreases_isg_bg\u001b[39m\u001b[38;5;124m'\u001b[39m,\n",
      "                                       \u001b[38;5;124m'\u001b[39m\u001b[38;5;124mhas_ppi_bg\u001b[39m\u001b[38;5;124m'\u001b[39m,\n",
      "                                       \u001b[38;5;124m'\u001b[39m\u001b[38;5;124mhas_ppi\u001b[39m\u001b[38;5;124m'\u001b[39m,\n",
      "                                       \u001b[38;5;124m'\u001b[39m\u001b[38;5;124mebel_relation\u001b[39m\u001b[38;5;124m'\u001b[39m,\n",
      "                                       \u001b[38;5;124m'\u001b[39m\u001b[38;5;124mE\u001b[39m\u001b[38;5;124m'\u001b[39m]},\n",
      " \u001b[38;5;124m'\u001b[39m\u001b[38;5;124mdecreases_me0_bg\u001b[39m\u001b[38;5;124m'\u001b[39m: {\u001b[38;5;124m'\u001b[39m\u001b[38;5;124mabstract\u001b[39m\u001b[38;5;124m'\u001b[39m: \u001b[38;5;28;01mFalse\u001b[39;00m,\n",
      "                      \u001b[38;5;124m'\u001b[39m\u001b[38;5;124mchildren\u001b[39m\u001b[38;5;124m'\u001b[39m: [],\n",
      "                      \u001b[38;5;124m'\u001b[39m\u001b[38;5;124min_out\u001b[39m\u001b[38;5;124m'\u001b[39m: {\u001b[38;5;124m'\u001b[39m\u001b[38;5;124min\u001b[39m\u001b[38;5;124m'\u001b[39m: \u001b[38;5;124m'\u001b[39m\u001b[38;5;124mprotein\u001b[39m\u001b[38;5;124m'\u001b[39m, \u001b[38;5;124m'\u001b[39m\u001b[38;5;124mout\u001b[39m\u001b[38;5;124m'\u001b[39m: \u001b[38;5;124m'\u001b[39m\u001b[38;5;124mprotein\u001b[39m\u001b[38;5;124m'\u001b[39m},\n",
      "                      \u001b[38;5;124m'\u001b[39m\u001b[38;5;124mparents_path\u001b[39m\u001b[38;5;124m'\u001b[39m: [\u001b[38;5;124m'\u001b[39m\u001b[38;5;124mdecreases_me0_bg\u001b[39m\u001b[38;5;124m'\u001b[39m,\n",
      "                                       \u001b[38;5;124m'\u001b[39m\u001b[38;5;124mhas_ppi_bg\u001b[39m\u001b[38;5;124m'\u001b[39m,\n",
      "                                       \u001b[38;5;124m'\u001b[39m\u001b[38;5;124mhas_ppi\u001b[39m\u001b[38;5;124m'\u001b[39m,\n",
      "                                       \u001b[38;5;124m'\u001b[39m\u001b[38;5;124mebel_relation\u001b[39m\u001b[38;5;124m'\u001b[39m,\n",
      "                                       \u001b[38;5;124m'\u001b[39m\u001b[38;5;124mE\u001b[39m\u001b[38;5;124m'\u001b[39m]},\n",
      " \u001b[38;5;124m'\u001b[39m\u001b[38;5;124mdecreases_me1_bg\u001b[39m\u001b[38;5;124m'\u001b[39m: {\u001b[38;5;124m'\u001b[39m\u001b[38;5;124mabstract\u001b[39m\u001b[38;5;124m'\u001b[39m: \u001b[38;5;28;01mFalse\u001b[39;00m,\n",
      "                      \u001b[38;5;124m'\u001b[39m\u001b[38;5;124mchildren\u001b[39m\u001b[38;5;124m'\u001b[39m: [],\n",
      "                      \u001b[38;5;124m'\u001b[39m\u001b[38;5;124min_out\u001b[39m\u001b[38;5;124m'\u001b[39m: {\u001b[38;5;124m'\u001b[39m\u001b[38;5;124min\u001b[39m\u001b[38;5;124m'\u001b[39m: \u001b[38;5;124m'\u001b[39m\u001b[38;5;124mprotein\u001b[39m\u001b[38;5;124m'\u001b[39m, \u001b[38;5;124m'\u001b[39m\u001b[38;5;124mout\u001b[39m\u001b[38;5;124m'\u001b[39m: \u001b[38;5;124m'\u001b[39m\u001b[38;5;124mprotein\u001b[39m\u001b[38;5;124m'\u001b[39m},\n",
      "                      \u001b[38;5;124m'\u001b[39m\u001b[38;5;124mparents_path\u001b[39m\u001b[38;5;124m'\u001b[39m: [\u001b[38;5;124m'\u001b[39m\u001b[38;5;124mdecreases_me1_bg\u001b[39m\u001b[38;5;124m'\u001b[39m,\n",
      "                                       \u001b[38;5;124m'\u001b[39m\u001b[38;5;124mhas_ppi_bg\u001b[39m\u001b[38;5;124m'\u001b[39m,\n",
      "                                       \u001b[38;5;124m'\u001b[39m\u001b[38;5;124mhas_ppi\u001b[39m\u001b[38;5;124m'\u001b[39m,\n",
      "                                       \u001b[38;5;124m'\u001b[39m\u001b[38;5;124mebel_relation\u001b[39m\u001b[38;5;124m'\u001b[39m,\n",
      "                                       \u001b[38;5;124m'\u001b[39m\u001b[38;5;124mE\u001b[39m\u001b[38;5;124m'\u001b[39m]},\n",
      " \u001b[38;5;124m'\u001b[39m\u001b[38;5;124mdecreases_me2_bg\u001b[39m\u001b[38;5;124m'\u001b[39m: {\u001b[38;5;124m'\u001b[39m\u001b[38;5;124mabstract\u001b[39m\u001b[38;5;124m'\u001b[39m: \u001b[38;5;28;01mFalse\u001b[39;00m,\n",
      "                      \u001b[38;5;124m'\u001b[39m\u001b[38;5;124mchildren\u001b[39m\u001b[38;5;124m'\u001b[39m: [],\n",
      "                      \u001b[38;5;124m'\u001b[39m\u001b[38;5;124min_out\u001b[39m\u001b[38;5;124m'\u001b[39m: {\u001b[38;5;124m'\u001b[39m\u001b[38;5;124min\u001b[39m\u001b[38;5;124m'\u001b[39m: \u001b[38;5;124m'\u001b[39m\u001b[38;5;124mprotein\u001b[39m\u001b[38;5;124m'\u001b[39m, \u001b[38;5;124m'\u001b[39m\u001b[38;5;124mout\u001b[39m\u001b[38;5;124m'\u001b[39m: \u001b[38;5;124m'\u001b[39m\u001b[38;5;124mprotein\u001b[39m\u001b[38;5;124m'\u001b[39m},\n",
      "                      \u001b[38;5;124m'\u001b[39m\u001b[38;5;124mparents_path\u001b[39m\u001b[38;5;124m'\u001b[39m: [\u001b[38;5;124m'\u001b[39m\u001b[38;5;124mdecreases_me2_bg\u001b[39m\u001b[38;5;124m'\u001b[39m,\n",
      "                                       \u001b[38;5;124m'\u001b[39m\u001b[38;5;124mhas_ppi_bg\u001b[39m\u001b[38;5;124m'\u001b[39m,\n",
      "                                       \u001b[38;5;124m'\u001b[39m\u001b[38;5;124mhas_ppi\u001b[39m\u001b[38;5;124m'\u001b[39m,\n",
      "                                       \u001b[38;5;124m'\u001b[39m\u001b[38;5;124mebel_relation\u001b[39m\u001b[38;5;124m'\u001b[39m,\n",
      "                                       \u001b[38;5;124m'\u001b[39m\u001b[38;5;124mE\u001b[39m\u001b[38;5;124m'\u001b[39m]},\n",
      " \u001b[38;5;124m'\u001b[39m\u001b[38;5;124mdecreases_me3_bg\u001b[39m\u001b[38;5;124m'\u001b[39m: {\u001b[38;5;124m'\u001b[39m\u001b[38;5;124mabstract\u001b[39m\u001b[38;5;124m'\u001b[39m: \u001b[38;5;28;01mFalse\u001b[39;00m,\n",
      "                      \u001b[38;5;124m'\u001b[39m\u001b[38;5;124mchildren\u001b[39m\u001b[38;5;124m'\u001b[39m: [],\n",
      "                      \u001b[38;5;124m'\u001b[39m\u001b[38;5;124min_out\u001b[39m\u001b[38;5;124m'\u001b[39m: {\u001b[38;5;124m'\u001b[39m\u001b[38;5;124min\u001b[39m\u001b[38;5;124m'\u001b[39m: \u001b[38;5;124m'\u001b[39m\u001b[38;5;124mprotein\u001b[39m\u001b[38;5;124m'\u001b[39m, \u001b[38;5;124m'\u001b[39m\u001b[38;5;124mout\u001b[39m\u001b[38;5;124m'\u001b[39m: \u001b[38;5;124m'\u001b[39m\u001b[38;5;124mprotein\u001b[39m\u001b[38;5;124m'\u001b[39m},\n",
      "                      \u001b[38;5;124m'\u001b[39m\u001b[38;5;124mparents_path\u001b[39m\u001b[38;5;124m'\u001b[39m: [\u001b[38;5;124m'\u001b[39m\u001b[38;5;124mdecreases_me3_bg\u001b[39m\u001b[38;5;124m'\u001b[39m,\n",
      "                                       \u001b[38;5;124m'\u001b[39m\u001b[38;5;124mhas_ppi_bg\u001b[39m\u001b[38;5;124m'\u001b[39m,\n",
      "                                       \u001b[38;5;124m'\u001b[39m\u001b[38;5;124mhas_ppi\u001b[39m\u001b[38;5;124m'\u001b[39m,\n",
      "                                       \u001b[38;5;124m'\u001b[39m\u001b[38;5;124mebel_relation\u001b[39m\u001b[38;5;124m'\u001b[39m,\n",
      "                                       \u001b[38;5;124m'\u001b[39m\u001b[38;5;124mE\u001b[39m\u001b[38;5;124m'\u001b[39m]},\n",
      " \u001b[38;5;124m'\u001b[39m\u001b[38;5;124mdecreases_mon_bg\u001b[39m\u001b[38;5;124m'\u001b[39m: {\u001b[38;5;124m'\u001b[39m\u001b[38;5;124mabstract\u001b[39m\u001b[38;5;124m'\u001b[39m: \u001b[38;5;28;01mFalse\u001b[39;00m,\n",
      "                      \u001b[38;5;124m'\u001b[39m\u001b[38;5;124mchildren\u001b[39m\u001b[38;5;124m'\u001b[39m: [],\n",
      "                      \u001b[38;5;124m'\u001b[39m\u001b[38;5;124min_out\u001b[39m\u001b[38;5;124m'\u001b[39m: {\u001b[38;5;124m'\u001b[39m\u001b[38;5;124min\u001b[39m\u001b[38;5;124m'\u001b[39m: \u001b[38;5;124m'\u001b[39m\u001b[38;5;124mprotein\u001b[39m\u001b[38;5;124m'\u001b[39m, \u001b[38;5;124m'\u001b[39m\u001b[38;5;124mout\u001b[39m\u001b[38;5;124m'\u001b[39m: \u001b[38;5;124m'\u001b[39m\u001b[38;5;124mprotein\u001b[39m\u001b[38;5;124m'\u001b[39m},\n",
      "                      \u001b[38;5;124m'\u001b[39m\u001b[38;5;124mparents_path\u001b[39m\u001b[38;5;124m'\u001b[39m: [\u001b[38;5;124m'\u001b[39m\u001b[38;5;124mdecreases_mon_bg\u001b[39m\u001b[38;5;124m'\u001b[39m,\n",
      "                                       \u001b[38;5;124m'\u001b[39m\u001b[38;5;124mhas_ppi_bg\u001b[39m\u001b[38;5;124m'\u001b[39m,\n",
      "                                       \u001b[38;5;124m'\u001b[39m\u001b[38;5;124mhas_ppi\u001b[39m\u001b[38;5;124m'\u001b[39m,\n",
      "                                       \u001b[38;5;124m'\u001b[39m\u001b[38;5;124mebel_relation\u001b[39m\u001b[38;5;124m'\u001b[39m,\n",
      "                                       \u001b[38;5;124m'\u001b[39m\u001b[38;5;124mE\u001b[39m\u001b[38;5;124m'\u001b[39m]},\n",
      " \u001b[38;5;124m'\u001b[39m\u001b[38;5;124mdecreases_myr_bg\u001b[39m\u001b[38;5;124m'\u001b[39m: {\u001b[38;5;124m'\u001b[39m\u001b[38;5;124mabstract\u001b[39m\u001b[38;5;124m'\u001b[39m: \u001b[38;5;28;01mFalse\u001b[39;00m,\n",
      "                      \u001b[38;5;124m'\u001b[39m\u001b[38;5;124mchildren\u001b[39m\u001b[38;5;124m'\u001b[39m: [],\n",
      "                      \u001b[38;5;124m'\u001b[39m\u001b[38;5;124min_out\u001b[39m\u001b[38;5;124m'\u001b[39m: {\u001b[38;5;124m'\u001b[39m\u001b[38;5;124min\u001b[39m\u001b[38;5;124m'\u001b[39m: \u001b[38;5;124m'\u001b[39m\u001b[38;5;124mprotein\u001b[39m\u001b[38;5;124m'\u001b[39m, \u001b[38;5;124m'\u001b[39m\u001b[38;5;124mout\u001b[39m\u001b[38;5;124m'\u001b[39m: \u001b[38;5;124m'\u001b[39m\u001b[38;5;124mprotein\u001b[39m\u001b[38;5;124m'\u001b[39m},\n",
      "                      \u001b[38;5;124m'\u001b[39m\u001b[38;5;124mparents_path\u001b[39m\u001b[38;5;124m'\u001b[39m: [\u001b[38;5;124m'\u001b[39m\u001b[38;5;124mdecreases_myr_bg\u001b[39m\u001b[38;5;124m'\u001b[39m,\n",
      "                                       \u001b[38;5;124m'\u001b[39m\u001b[38;5;124mhas_ppi_bg\u001b[39m\u001b[38;5;124m'\u001b[39m,\n",
      "                                       \u001b[38;5;124m'\u001b[39m\u001b[38;5;124mhas_ppi\u001b[39m\u001b[38;5;124m'\u001b[39m,\n",
      "                                       \u001b[38;5;124m'\u001b[39m\u001b[38;5;124mebel_relation\u001b[39m\u001b[38;5;124m'\u001b[39m,\n",
      "                                       \u001b[38;5;124m'\u001b[39m\u001b[38;5;124mE\u001b[39m\u001b[38;5;124m'\u001b[39m]},\n",
      " \u001b[38;5;124m'\u001b[39m\u001b[38;5;124mdecreases_ned_bg\u001b[39m\u001b[38;5;124m'\u001b[39m: {\u001b[38;5;124m'\u001b[39m\u001b[38;5;124mabstract\u001b[39m\u001b[38;5;124m'\u001b[39m: \u001b[38;5;28;01mFalse\u001b[39;00m,\n",
      "                      \u001b[38;5;124m'\u001b[39m\u001b[38;5;124mchildren\u001b[39m\u001b[38;5;124m'\u001b[39m: [],\n",
      "                      \u001b[38;5;124m'\u001b[39m\u001b[38;5;124min_out\u001b[39m\u001b[38;5;124m'\u001b[39m: {\u001b[38;5;124m'\u001b[39m\u001b[38;5;124min\u001b[39m\u001b[38;5;124m'\u001b[39m: \u001b[38;5;124m'\u001b[39m\u001b[38;5;124mprotein\u001b[39m\u001b[38;5;124m'\u001b[39m, \u001b[38;5;124m'\u001b[39m\u001b[38;5;124mout\u001b[39m\u001b[38;5;124m'\u001b[39m: \u001b[38;5;124m'\u001b[39m\u001b[38;5;124mprotein\u001b[39m\u001b[38;5;124m'\u001b[39m},\n",
      "                      \u001b[38;5;124m'\u001b[39m\u001b[38;5;124mparents_path\u001b[39m\u001b[38;5;124m'\u001b[39m: [\u001b[38;5;124m'\u001b[39m\u001b[38;5;124mdecreases_ned_bg\u001b[39m\u001b[38;5;124m'\u001b[39m,\n",
      "                                       \u001b[38;5;124m'\u001b[39m\u001b[38;5;124mhas_ppi_bg\u001b[39m\u001b[38;5;124m'\u001b[39m,\n",
      "                                       \u001b[38;5;124m'\u001b[39m\u001b[38;5;124mhas_ppi\u001b[39m\u001b[38;5;124m'\u001b[39m,\n",
      "                                       \u001b[38;5;124m'\u001b[39m\u001b[38;5;124mebel_relation\u001b[39m\u001b[38;5;124m'\u001b[39m,\n",
      "                                       \u001b[38;5;124m'\u001b[39m\u001b[38;5;124mE\u001b[39m\u001b[38;5;124m'\u001b[39m]},\n",
      " \u001b[38;5;124m'\u001b[39m\u001b[38;5;124mdecreases_ngl_bg\u001b[39m\u001b[38;5;124m'\u001b[39m: {\u001b[38;5;124m'\u001b[39m\u001b[38;5;124mabstract\u001b[39m\u001b[38;5;124m'\u001b[39m: \u001b[38;5;28;01mFalse\u001b[39;00m,\n",
      "                      \u001b[38;5;124m'\u001b[39m\u001b[38;5;124mchildren\u001b[39m\u001b[38;5;124m'\u001b[39m: [],\n",
      "                      \u001b[38;5;124m'\u001b[39m\u001b[38;5;124min_out\u001b[39m\u001b[38;5;124m'\u001b[39m: {\u001b[38;5;124m'\u001b[39m\u001b[38;5;124min\u001b[39m\u001b[38;5;124m'\u001b[39m: \u001b[38;5;124m'\u001b[39m\u001b[38;5;124mprotein\u001b[39m\u001b[38;5;124m'\u001b[39m, \u001b[38;5;124m'\u001b[39m\u001b[38;5;124mout\u001b[39m\u001b[38;5;124m'\u001b[39m: \u001b[38;5;124m'\u001b[39m\u001b[38;5;124mprotein\u001b[39m\u001b[38;5;124m'\u001b[39m},\n",
      "                      \u001b[38;5;124m'\u001b[39m\u001b[38;5;124mparents_path\u001b[39m\u001b[38;5;124m'\u001b[39m: [\u001b[38;5;124m'\u001b[39m\u001b[38;5;124mdecreases_ngl_bg\u001b[39m\u001b[38;5;124m'\u001b[39m,\n",
      "                                       \u001b[38;5;124m'\u001b[39m\u001b[38;5;124mhas_ppi_bg\u001b[39m\u001b[38;5;124m'\u001b[39m,\n",
      "                                       \u001b[38;5;124m'\u001b[39m\u001b[38;5;124mhas_ppi\u001b[39m\u001b[38;5;124m'\u001b[39m,\n",
      "                                       \u001b[38;5;124m'\u001b[39m\u001b[38;5;124mebel_relation\u001b[39m\u001b[38;5;124m'\u001b[39m,\n",
      "                                       \u001b[38;5;124m'\u001b[39m\u001b[38;5;124mE\u001b[39m\u001b[38;5;124m'\u001b[39m]},\n",
      " \u001b[38;5;124m'\u001b[39m\u001b[38;5;124mdecreases_nit_bg\u001b[39m\u001b[38;5;124m'\u001b[39m: {\u001b[38;5;124m'\u001b[39m\u001b[38;5;124mabstract\u001b[39m\u001b[38;5;124m'\u001b[39m: \u001b[38;5;28;01mFalse\u001b[39;00m,\n",
      "                      \u001b[38;5;124m'\u001b[39m\u001b[38;5;124mchildren\u001b[39m\u001b[38;5;124m'\u001b[39m: [],\n",
      "                      \u001b[38;5;124m'\u001b[39m\u001b[38;5;124min_out\u001b[39m\u001b[38;5;124m'\u001b[39m: {\u001b[38;5;124m'\u001b[39m\u001b[38;5;124min\u001b[39m\u001b[38;5;124m'\u001b[39m: \u001b[38;5;124m'\u001b[39m\u001b[38;5;124mprotein\u001b[39m\u001b[38;5;124m'\u001b[39m, \u001b[38;5;124m'\u001b[39m\u001b[38;5;124mout\u001b[39m\u001b[38;5;124m'\u001b[39m: \u001b[38;5;124m'\u001b[39m\u001b[38;5;124mprotein\u001b[39m\u001b[38;5;124m'\u001b[39m},\n",
      "                      \u001b[38;5;124m'\u001b[39m\u001b[38;5;124mparents_path\u001b[39m\u001b[38;5;124m'\u001b[39m: [\u001b[38;5;124m'\u001b[39m\u001b[38;5;124mdecreases_nit_bg\u001b[39m\u001b[38;5;124m'\u001b[39m,\n",
      "                                       \u001b[38;5;124m'\u001b[39m\u001b[38;5;124mhas_ppi_bg\u001b[39m\u001b[38;5;124m'\u001b[39m,\n",
      "                                       \u001b[38;5;124m'\u001b[39m\u001b[38;5;124mhas_ppi\u001b[39m\u001b[38;5;124m'\u001b[39m,\n",
      "                                       \u001b[38;5;124m'\u001b[39m\u001b[38;5;124mebel_relation\u001b[39m\u001b[38;5;124m'\u001b[39m,\n",
      "                                       \u001b[38;5;124m'\u001b[39m\u001b[38;5;124mE\u001b[39m\u001b[38;5;124m'\u001b[39m]},\n",
      " \u001b[38;5;124m'\u001b[39m\u001b[38;5;124mdecreases_ogl_bg\u001b[39m\u001b[38;5;124m'\u001b[39m: {\u001b[38;5;124m'\u001b[39m\u001b[38;5;124mabstract\u001b[39m\u001b[38;5;124m'\u001b[39m: \u001b[38;5;28;01mFalse\u001b[39;00m,\n",
      "                      \u001b[38;5;124m'\u001b[39m\u001b[38;5;124mchildren\u001b[39m\u001b[38;5;124m'\u001b[39m: [],\n",
      "                      \u001b[38;5;124m'\u001b[39m\u001b[38;5;124min_out\u001b[39m\u001b[38;5;124m'\u001b[39m: {\u001b[38;5;124m'\u001b[39m\u001b[38;5;124min\u001b[39m\u001b[38;5;124m'\u001b[39m: \u001b[38;5;124m'\u001b[39m\u001b[38;5;124mprotein\u001b[39m\u001b[38;5;124m'\u001b[39m, \u001b[38;5;124m'\u001b[39m\u001b[38;5;124mout\u001b[39m\u001b[38;5;124m'\u001b[39m: \u001b[38;5;124m'\u001b[39m\u001b[38;5;124mprotein\u001b[39m\u001b[38;5;124m'\u001b[39m},\n",
      "                      \u001b[38;5;124m'\u001b[39m\u001b[38;5;124mparents_path\u001b[39m\u001b[38;5;124m'\u001b[39m: [\u001b[38;5;124m'\u001b[39m\u001b[38;5;124mdecreases_ogl_bg\u001b[39m\u001b[38;5;124m'\u001b[39m,\n",
      "                                       \u001b[38;5;124m'\u001b[39m\u001b[38;5;124mhas_ppi_bg\u001b[39m\u001b[38;5;124m'\u001b[39m,\n",
      "                                       \u001b[38;5;124m'\u001b[39m\u001b[38;5;124mhas_ppi\u001b[39m\u001b[38;5;124m'\u001b[39m,\n",
      "                                       \u001b[38;5;124m'\u001b[39m\u001b[38;5;124mebel_relation\u001b[39m\u001b[38;5;124m'\u001b[39m,\n",
      "                                       \u001b[38;5;124m'\u001b[39m\u001b[38;5;124mE\u001b[39m\u001b[38;5;124m'\u001b[39m]},\n",
      " \u001b[38;5;124m'\u001b[39m\u001b[38;5;124mdecreases_pal_bg\u001b[39m\u001b[38;5;124m'\u001b[39m: {\u001b[38;5;124m'\u001b[39m\u001b[38;5;124mabstract\u001b[39m\u001b[38;5;124m'\u001b[39m: \u001b[38;5;28;01mFalse\u001b[39;00m,\n",
      "                      \u001b[38;5;124m'\u001b[39m\u001b[38;5;124mchildren\u001b[39m\u001b[38;5;124m'\u001b[39m: [],\n",
      "                      \u001b[38;5;124m'\u001b[39m\u001b[38;5;124min_out\u001b[39m\u001b[38;5;124m'\u001b[39m: {\u001b[38;5;124m'\u001b[39m\u001b[38;5;124min\u001b[39m\u001b[38;5;124m'\u001b[39m: \u001b[38;5;124m'\u001b[39m\u001b[38;5;124mprotein\u001b[39m\u001b[38;5;124m'\u001b[39m, \u001b[38;5;124m'\u001b[39m\u001b[38;5;124mout\u001b[39m\u001b[38;5;124m'\u001b[39m: \u001b[38;5;124m'\u001b[39m\u001b[38;5;124mprotein\u001b[39m\u001b[38;5;124m'\u001b[39m},\n",
      "                      \u001b[38;5;124m'\u001b[39m\u001b[38;5;124mparents_path\u001b[39m\u001b[38;5;124m'\u001b[39m: [\u001b[38;5;124m'\u001b[39m\u001b[38;5;124mdecreases_pal_bg\u001b[39m\u001b[38;5;124m'\u001b[39m,\n",
      "                                       \u001b[38;5;124m'\u001b[39m\u001b[38;5;124mhas_ppi_bg\u001b[39m\u001b[38;5;124m'\u001b[39m,\n",
      "                                       \u001b[38;5;124m'\u001b[39m\u001b[38;5;124mhas_ppi\u001b[39m\u001b[38;5;124m'\u001b[39m,\n",
      "                                       \u001b[38;5;124m'\u001b[39m\u001b[38;5;124mebel_relation\u001b[39m\u001b[38;5;124m'\u001b[39m,\n",
      "                                       \u001b[38;5;124m'\u001b[39m\u001b[38;5;124mE\u001b[39m\u001b[38;5;124m'\u001b[39m]},\n",
      " \u001b[38;5;124m'\u001b[39m\u001b[38;5;124mdecreases_pho_bg\u001b[39m\u001b[38;5;124m'\u001b[39m: {\u001b[38;5;124m'\u001b[39m\u001b[38;5;124mabstract\u001b[39m\u001b[38;5;124m'\u001b[39m: \u001b[38;5;28;01mFalse\u001b[39;00m,\n",
      "                      \u001b[38;5;124m'\u001b[39m\u001b[38;5;124mchildren\u001b[39m\u001b[38;5;124m'\u001b[39m: [],\n",
      "                      \u001b[38;5;124m'\u001b[39m\u001b[38;5;124min_out\u001b[39m\u001b[38;5;124m'\u001b[39m: {\u001b[38;5;124m'\u001b[39m\u001b[38;5;124min\u001b[39m\u001b[38;5;124m'\u001b[39m: \u001b[38;5;124m'\u001b[39m\u001b[38;5;124mprotein\u001b[39m\u001b[38;5;124m'\u001b[39m, \u001b[38;5;124m'\u001b[39m\u001b[38;5;124mout\u001b[39m\u001b[38;5;124m'\u001b[39m: \u001b[38;5;124m'\u001b[39m\u001b[38;5;124mprotein\u001b[39m\u001b[38;5;124m'\u001b[39m},\n",
      "                      \u001b[38;5;124m'\u001b[39m\u001b[38;5;124mparents_path\u001b[39m\u001b[38;5;124m'\u001b[39m: [\u001b[38;5;124m'\u001b[39m\u001b[38;5;124mdecreases_pho_bg\u001b[39m\u001b[38;5;124m'\u001b[39m,\n",
      "                                       \u001b[38;5;124m'\u001b[39m\u001b[38;5;124mhas_ppi_bg\u001b[39m\u001b[38;5;124m'\u001b[39m,\n",
      "                                       \u001b[38;5;124m'\u001b[39m\u001b[38;5;124mhas_ppi\u001b[39m\u001b[38;5;124m'\u001b[39m,\n",
      "                                       \u001b[38;5;124m'\u001b[39m\u001b[38;5;124mebel_relation\u001b[39m\u001b[38;5;124m'\u001b[39m,\n",
      "                                       \u001b[38;5;124m'\u001b[39m\u001b[38;5;124mE\u001b[39m\u001b[38;5;124m'\u001b[39m]},\n",
      " \u001b[38;5;124m'\u001b[39m\u001b[38;5;124mdecreases_pho_kg\u001b[39m\u001b[38;5;124m'\u001b[39m: {\u001b[38;5;124m'\u001b[39m\u001b[38;5;124mabstract\u001b[39m\u001b[38;5;124m'\u001b[39m: \u001b[38;5;28;01mFalse\u001b[39;00m,\n",
      "                      \u001b[38;5;124m'\u001b[39m\u001b[38;5;124mchildren\u001b[39m\u001b[38;5;124m'\u001b[39m: [],\n",
      "                      \u001b[38;5;124m'\u001b[39m\u001b[38;5;124mparents_path\u001b[39m\u001b[38;5;124m'\u001b[39m: [\u001b[38;5;124m'\u001b[39m\u001b[38;5;124mdecreases_pho_kg\u001b[39m\u001b[38;5;124m'\u001b[39m,\n",
      "                                       \u001b[38;5;124m'\u001b[39m\u001b[38;5;124mhas_ppi_kg\u001b[39m\u001b[38;5;124m'\u001b[39m,\n",
      "                                       \u001b[38;5;124m'\u001b[39m\u001b[38;5;124mpathway_interaction\u001b[39m\u001b[38;5;124m'\u001b[39m,\n",
      "                                       \u001b[38;5;124m'\u001b[39m\u001b[38;5;124mebel_relation\u001b[39m\u001b[38;5;124m'\u001b[39m,\n",
      "                                       \u001b[38;5;124m'\u001b[39m\u001b[38;5;124mE\u001b[39m\u001b[38;5;124m'\u001b[39m]},\n",
      " \u001b[38;5;124m'\u001b[39m\u001b[38;5;124mdecreases_pre_bg\u001b[39m\u001b[38;5;124m'\u001b[39m: {\u001b[38;5;124m'\u001b[39m\u001b[38;5;124mabstract\u001b[39m\u001b[38;5;124m'\u001b[39m: \u001b[38;5;28;01mFalse\u001b[39;00m,\n",
      "                      \u001b[38;5;124m'\u001b[39m\u001b[38;5;124mchildren\u001b[39m\u001b[38;5;124m'\u001b[39m: [],\n",
      "                      \u001b[38;5;124m'\u001b[39m\u001b[38;5;124min_out\u001b[39m\u001b[38;5;124m'\u001b[39m: {\u001b[38;5;124m'\u001b[39m\u001b[38;5;124min\u001b[39m\u001b[38;5;124m'\u001b[39m: \u001b[38;5;124m'\u001b[39m\u001b[38;5;124mprotein\u001b[39m\u001b[38;5;124m'\u001b[39m, \u001b[38;5;124m'\u001b[39m\u001b[38;5;124mout\u001b[39m\u001b[38;5;124m'\u001b[39m: \u001b[38;5;124m'\u001b[39m\u001b[38;5;124mprotein\u001b[39m\u001b[38;5;124m'\u001b[39m},\n",
      "                      \u001b[38;5;124m'\u001b[39m\u001b[38;5;124mparents_path\u001b[39m\u001b[38;5;124m'\u001b[39m: [\u001b[38;5;124m'\u001b[39m\u001b[38;5;124mdecreases_pre_bg\u001b[39m\u001b[38;5;124m'\u001b[39m,\n",
      "                                       \u001b[38;5;124m'\u001b[39m\u001b[38;5;124mhas_ppi_bg\u001b[39m\u001b[38;5;124m'\u001b[39m,\n",
      "                                       \u001b[38;5;124m'\u001b[39m\u001b[38;5;124mhas_ppi\u001b[39m\u001b[38;5;124m'\u001b[39m,\n",
      "                                       \u001b[38;5;124m'\u001b[39m\u001b[38;5;124mebel_relation\u001b[39m\u001b[38;5;124m'\u001b[39m,\n",
      "                                       \u001b[38;5;124m'\u001b[39m\u001b[38;5;124mE\u001b[39m\u001b[38;5;124m'\u001b[39m]},\n",
      " \u001b[38;5;124m'\u001b[39m\u001b[38;5;124mdecreases_suh_bg\u001b[39m\u001b[38;5;124m'\u001b[39m: {\u001b[38;5;124m'\u001b[39m\u001b[38;5;124mabstract\u001b[39m\u001b[38;5;124m'\u001b[39m: \u001b[38;5;28;01mFalse\u001b[39;00m,\n",
      "                      \u001b[38;5;124m'\u001b[39m\u001b[38;5;124mchildren\u001b[39m\u001b[38;5;124m'\u001b[39m: [],\n",
      "                      \u001b[38;5;124m'\u001b[39m\u001b[38;5;124min_out\u001b[39m\u001b[38;5;124m'\u001b[39m: {\u001b[38;5;124m'\u001b[39m\u001b[38;5;124min\u001b[39m\u001b[38;5;124m'\u001b[39m: \u001b[38;5;124m'\u001b[39m\u001b[38;5;124mprotein\u001b[39m\u001b[38;5;124m'\u001b[39m, \u001b[38;5;124m'\u001b[39m\u001b[38;5;124mout\u001b[39m\u001b[38;5;124m'\u001b[39m: \u001b[38;5;124m'\u001b[39m\u001b[38;5;124mprotein\u001b[39m\u001b[38;5;124m'\u001b[39m},\n",
      "                      \u001b[38;5;124m'\u001b[39m\u001b[38;5;124mparents_path\u001b[39m\u001b[38;5;124m'\u001b[39m: [\u001b[38;5;124m'\u001b[39m\u001b[38;5;124mdecreases_suh_bg\u001b[39m\u001b[38;5;124m'\u001b[39m,\n",
      "                                       \u001b[38;5;124m'\u001b[39m\u001b[38;5;124mhas_ppi_bg\u001b[39m\u001b[38;5;124m'\u001b[39m,\n",
      "                                       \u001b[38;5;124m'\u001b[39m\u001b[38;5;124mhas_ppi\u001b[39m\u001b[38;5;124m'\u001b[39m,\n",
      "                                       \u001b[38;5;124m'\u001b[39m\u001b[38;5;124mebel_relation\u001b[39m\u001b[38;5;124m'\u001b[39m,\n",
      "                                       \u001b[38;5;124m'\u001b[39m\u001b[38;5;124mE\u001b[39m\u001b[38;5;124m'\u001b[39m]},\n",
      " \u001b[38;5;124m'\u001b[39m\u001b[38;5;124mdecreases_sul_bg\u001b[39m\u001b[38;5;124m'\u001b[39m: {\u001b[38;5;124m'\u001b[39m\u001b[38;5;124mabstract\u001b[39m\u001b[38;5;124m'\u001b[39m: \u001b[38;5;28;01mFalse\u001b[39;00m,\n",
      "                      \u001b[38;5;124m'\u001b[39m\u001b[38;5;124mchildren\u001b[39m\u001b[38;5;124m'\u001b[39m: [],\n",
      "                      \u001b[38;5;124m'\u001b[39m\u001b[38;5;124min_out\u001b[39m\u001b[38;5;124m'\u001b[39m: {\u001b[38;5;124m'\u001b[39m\u001b[38;5;124min\u001b[39m\u001b[38;5;124m'\u001b[39m: \u001b[38;5;124m'\u001b[39m\u001b[38;5;124mprotein\u001b[39m\u001b[38;5;124m'\u001b[39m, \u001b[38;5;124m'\u001b[39m\u001b[38;5;124mout\u001b[39m\u001b[38;5;124m'\u001b[39m: \u001b[38;5;124m'\u001b[39m\u001b[38;5;124mprotein\u001b[39m\u001b[38;5;124m'\u001b[39m},\n",
      "                      \u001b[38;5;124m'\u001b[39m\u001b[38;5;124mparents_path\u001b[39m\u001b[38;5;124m'\u001b[39m: [\u001b[38;5;124m'\u001b[39m\u001b[38;5;124mdecreases_sul_bg\u001b[39m\u001b[38;5;124m'\u001b[39m,\n",
      "                                       \u001b[38;5;124m'\u001b[39m\u001b[38;5;124mhas_ppi_bg\u001b[39m\u001b[38;5;124m'\u001b[39m,\n",
      "                                       \u001b[38;5;124m'\u001b[39m\u001b[38;5;124mhas_ppi\u001b[39m\u001b[38;5;124m'\u001b[39m,\n",
      "                                       \u001b[38;5;124m'\u001b[39m\u001b[38;5;124mebel_relation\u001b[39m\u001b[38;5;124m'\u001b[39m,\n",
      "                                       \u001b[38;5;124m'\u001b[39m\u001b[38;5;124mE\u001b[39m\u001b[38;5;124m'\u001b[39m]},\n",
      " \u001b[38;5;124m'\u001b[39m\u001b[38;5;124mdecreases_sum_bg\u001b[39m\u001b[38;5;124m'\u001b[39m: {\u001b[38;5;124m'\u001b[39m\u001b[38;5;124mabstract\u001b[39m\u001b[38;5;124m'\u001b[39m: \u001b[38;5;28;01mFalse\u001b[39;00m,\n",
      "                      \u001b[38;5;124m'\u001b[39m\u001b[38;5;124mchildren\u001b[39m\u001b[38;5;124m'\u001b[39m: [],\n",
      "                      \u001b[38;5;124m'\u001b[39m\u001b[38;5;124min_out\u001b[39m\u001b[38;5;124m'\u001b[39m: {\u001b[38;5;124m'\u001b[39m\u001b[38;5;124min\u001b[39m\u001b[38;5;124m'\u001b[39m: \u001b[38;5;124m'\u001b[39m\u001b[38;5;124mprotein\u001b[39m\u001b[38;5;124m'\u001b[39m, \u001b[38;5;124m'\u001b[39m\u001b[38;5;124mout\u001b[39m\u001b[38;5;124m'\u001b[39m: \u001b[38;5;124m'\u001b[39m\u001b[38;5;124mprotein\u001b[39m\u001b[38;5;124m'\u001b[39m},\n",
      "                      \u001b[38;5;124m'\u001b[39m\u001b[38;5;124mparents_path\u001b[39m\u001b[38;5;124m'\u001b[39m: [\u001b[38;5;124m'\u001b[39m\u001b[38;5;124mdecreases_sum_bg\u001b[39m\u001b[38;5;124m'\u001b[39m,\n",
      "                                       \u001b[38;5;124m'\u001b[39m\u001b[38;5;124mhas_ppi_bg\u001b[39m\u001b[38;5;124m'\u001b[39m,\n",
      "                                       \u001b[38;5;124m'\u001b[39m\u001b[38;5;124mhas_ppi\u001b[39m\u001b[38;5;124m'\u001b[39m,\n",
      "                                       \u001b[38;5;124m'\u001b[39m\u001b[38;5;124mebel_relation\u001b[39m\u001b[38;5;124m'\u001b[39m,\n",
      "                                       \u001b[38;5;124m'\u001b[39m\u001b[38;5;124mE\u001b[39m\u001b[38;5;124m'\u001b[39m]},\n",
      " \u001b[38;5;124m'\u001b[39m\u001b[38;5;124mdecreases_sup_bg\u001b[39m\u001b[38;5;124m'\u001b[39m: {\u001b[38;5;124m'\u001b[39m\u001b[38;5;124mabstract\u001b[39m\u001b[38;5;124m'\u001b[39m: \u001b[38;5;28;01mFalse\u001b[39;00m,\n",
      "                      \u001b[38;5;124m'\u001b[39m\u001b[38;5;124mchildren\u001b[39m\u001b[38;5;124m'\u001b[39m: [],\n",
      "                      \u001b[38;5;124m'\u001b[39m\u001b[38;5;124min_out\u001b[39m\u001b[38;5;124m'\u001b[39m: {\u001b[38;5;124m'\u001b[39m\u001b[38;5;124min\u001b[39m\u001b[38;5;124m'\u001b[39m: \u001b[38;5;124m'\u001b[39m\u001b[38;5;124mprotein\u001b[39m\u001b[38;5;124m'\u001b[39m, \u001b[38;5;124m'\u001b[39m\u001b[38;5;124mout\u001b[39m\u001b[38;5;124m'\u001b[39m: \u001b[38;5;124m'\u001b[39m\u001b[38;5;124mprotein\u001b[39m\u001b[38;5;124m'\u001b[39m},\n",
      "                      \u001b[38;5;124m'\u001b[39m\u001b[38;5;124mparents_path\u001b[39m\u001b[38;5;124m'\u001b[39m: [\u001b[38;5;124m'\u001b[39m\u001b[38;5;124mdecreases_sup_bg\u001b[39m\u001b[38;5;124m'\u001b[39m,\n",
      "                                       \u001b[38;5;124m'\u001b[39m\u001b[38;5;124mhas_ppi_bg\u001b[39m\u001b[38;5;124m'\u001b[39m,\n",
      "                                       \u001b[38;5;124m'\u001b[39m\u001b[38;5;124mhas_ppi\u001b[39m\u001b[38;5;124m'\u001b[39m,\n",
      "                                       \u001b[38;5;124m'\u001b[39m\u001b[38;5;124mebel_relation\u001b[39m\u001b[38;5;124m'\u001b[39m,\n",
      "                                       \u001b[38;5;124m'\u001b[39m\u001b[38;5;124mE\u001b[39m\u001b[38;5;124m'\u001b[39m]},\n",
      " \u001b[38;5;124m'\u001b[39m\u001b[38;5;124mdecreases_suy_bg\u001b[39m\u001b[38;5;124m'\u001b[39m: {\u001b[38;5;124m'\u001b[39m\u001b[38;5;124mabstract\u001b[39m\u001b[38;5;124m'\u001b[39m: \u001b[38;5;28;01mFalse\u001b[39;00m,\n",
      "                      \u001b[38;5;124m'\u001b[39m\u001b[38;5;124mchildren\u001b[39m\u001b[38;5;124m'\u001b[39m: [],\n",
      "                      \u001b[38;5;124m'\u001b[39m\u001b[38;5;124min_out\u001b[39m\u001b[38;5;124m'\u001b[39m: {\u001b[38;5;124m'\u001b[39m\u001b[38;5;124min\u001b[39m\u001b[38;5;124m'\u001b[39m: \u001b[38;5;124m'\u001b[39m\u001b[38;5;124mprotein\u001b[39m\u001b[38;5;124m'\u001b[39m, \u001b[38;5;124m'\u001b[39m\u001b[38;5;124mout\u001b[39m\u001b[38;5;124m'\u001b[39m: \u001b[38;5;124m'\u001b[39m\u001b[38;5;124mprotein\u001b[39m\u001b[38;5;124m'\u001b[39m},\n",
      "                      \u001b[38;5;124m'\u001b[39m\u001b[38;5;124mparents_path\u001b[39m\u001b[38;5;124m'\u001b[39m: [\u001b[38;5;124m'\u001b[39m\u001b[38;5;124mdecreases_suy_bg\u001b[39m\u001b[38;5;124m'\u001b[39m,\n",
      "                                       \u001b[38;5;124m'\u001b[39m\u001b[38;5;124mhas_ppi_bg\u001b[39m\u001b[38;5;124m'\u001b[39m,\n",
      "                                       \u001b[38;5;124m'\u001b[39m\u001b[38;5;124mhas_ppi\u001b[39m\u001b[38;5;124m'\u001b[39m,\n",
      "                                       \u001b[38;5;124m'\u001b[39m\u001b[38;5;124mebel_relation\u001b[39m\u001b[38;5;124m'\u001b[39m,\n",
      "                                       \u001b[38;5;124m'\u001b[39m\u001b[38;5;124mE\u001b[39m\u001b[38;5;124m'\u001b[39m]},\n",
      " \u001b[38;5;124m'\u001b[39m\u001b[38;5;124mdecreases_tri_bg\u001b[39m\u001b[38;5;124m'\u001b[39m: {\u001b[38;5;124m'\u001b[39m\u001b[38;5;124mabstract\u001b[39m\u001b[38;5;124m'\u001b[39m: \u001b[38;5;28;01mFalse\u001b[39;00m,\n",
      "                      \u001b[38;5;124m'\u001b[39m\u001b[38;5;124mchildren\u001b[39m\u001b[38;5;124m'\u001b[39m: [],\n",
      "                      \u001b[38;5;124m'\u001b[39m\u001b[38;5;124min_out\u001b[39m\u001b[38;5;124m'\u001b[39m: {\u001b[38;5;124m'\u001b[39m\u001b[38;5;124min\u001b[39m\u001b[38;5;124m'\u001b[39m: \u001b[38;5;124m'\u001b[39m\u001b[38;5;124mprotein\u001b[39m\u001b[38;5;124m'\u001b[39m, \u001b[38;5;124m'\u001b[39m\u001b[38;5;124mout\u001b[39m\u001b[38;5;124m'\u001b[39m: \u001b[38;5;124m'\u001b[39m\u001b[38;5;124mprotein\u001b[39m\u001b[38;5;124m'\u001b[39m},\n",
      "                      \u001b[38;5;124m'\u001b[39m\u001b[38;5;124mparents_path\u001b[39m\u001b[38;5;124m'\u001b[39m: [\u001b[38;5;124m'\u001b[39m\u001b[38;5;124mdecreases_tri_bg\u001b[39m\u001b[38;5;124m'\u001b[39m,\n",
      "                                       \u001b[38;5;124m'\u001b[39m\u001b[38;5;124mhas_ppi_bg\u001b[39m\u001b[38;5;124m'\u001b[39m,\n",
      "                                       \u001b[38;5;124m'\u001b[39m\u001b[38;5;124mhas_ppi\u001b[39m\u001b[38;5;124m'\u001b[39m,\n",
      "                                       \u001b[38;5;124m'\u001b[39m\u001b[38;5;124mebel_relation\u001b[39m\u001b[38;5;124m'\u001b[39m,\n",
      "                                       \u001b[38;5;124m'\u001b[39m\u001b[38;5;124mE\u001b[39m\u001b[38;5;124m'\u001b[39m]},\n",
      " \u001b[38;5;124m'\u001b[39m\u001b[38;5;124mdecreases_u48_bg\u001b[39m\u001b[38;5;124m'\u001b[39m: {\u001b[38;5;124m'\u001b[39m\u001b[38;5;124mabstract\u001b[39m\u001b[38;5;124m'\u001b[39m: \u001b[38;5;28;01mFalse\u001b[39;00m,\n",
      "                      \u001b[38;5;124m'\u001b[39m\u001b[38;5;124mchildren\u001b[39m\u001b[38;5;124m'\u001b[39m: [],\n",
      "                      \u001b[38;5;124m'\u001b[39m\u001b[38;5;124min_out\u001b[39m\u001b[38;5;124m'\u001b[39m: {\u001b[38;5;124m'\u001b[39m\u001b[38;5;124min\u001b[39m\u001b[38;5;124m'\u001b[39m: \u001b[38;5;124m'\u001b[39m\u001b[38;5;124mprotein\u001b[39m\u001b[38;5;124m'\u001b[39m, \u001b[38;5;124m'\u001b[39m\u001b[38;5;124mout\u001b[39m\u001b[38;5;124m'\u001b[39m: \u001b[38;5;124m'\u001b[39m\u001b[38;5;124mprotein\u001b[39m\u001b[38;5;124m'\u001b[39m},\n",
      "                      \u001b[38;5;124m'\u001b[39m\u001b[38;5;124mparents_path\u001b[39m\u001b[38;5;124m'\u001b[39m: [\u001b[38;5;124m'\u001b[39m\u001b[38;5;124mdecreases_u48_bg\u001b[39m\u001b[38;5;124m'\u001b[39m,\n",
      "                                       \u001b[38;5;124m'\u001b[39m\u001b[38;5;124mhas_ppi_bg\u001b[39m\u001b[38;5;124m'\u001b[39m,\n",
      "                                       \u001b[38;5;124m'\u001b[39m\u001b[38;5;124mhas_ppi\u001b[39m\u001b[38;5;124m'\u001b[39m,\n",
      "                                       \u001b[38;5;124m'\u001b[39m\u001b[38;5;124mebel_relation\u001b[39m\u001b[38;5;124m'\u001b[39m,\n",
      "                                       \u001b[38;5;124m'\u001b[39m\u001b[38;5;124mE\u001b[39m\u001b[38;5;124m'\u001b[39m]},\n",
      " \u001b[38;5;124m'\u001b[39m\u001b[38;5;124mdecreases_u63_bg\u001b[39m\u001b[38;5;124m'\u001b[39m: {\u001b[38;5;124m'\u001b[39m\u001b[38;5;124mabstract\u001b[39m\u001b[38;5;124m'\u001b[39m: \u001b[38;5;28;01mFalse\u001b[39;00m,\n",
      "                      \u001b[38;5;124m'\u001b[39m\u001b[38;5;124mchildren\u001b[39m\u001b[38;5;124m'\u001b[39m: [],\n",
      "                      \u001b[38;5;124m'\u001b[39m\u001b[38;5;124min_out\u001b[39m\u001b[38;5;124m'\u001b[39m: {\u001b[38;5;124m'\u001b[39m\u001b[38;5;124min\u001b[39m\u001b[38;5;124m'\u001b[39m: \u001b[38;5;124m'\u001b[39m\u001b[38;5;124mprotein\u001b[39m\u001b[38;5;124m'\u001b[39m, \u001b[38;5;124m'\u001b[39m\u001b[38;5;124mout\u001b[39m\u001b[38;5;124m'\u001b[39m: \u001b[38;5;124m'\u001b[39m\u001b[38;5;124mprotein\u001b[39m\u001b[38;5;124m'\u001b[39m},\n",
      "                      \u001b[38;5;124m'\u001b[39m\u001b[38;5;124mparents_path\u001b[39m\u001b[38;5;124m'\u001b[39m: [\u001b[38;5;124m'\u001b[39m\u001b[38;5;124mdecreases_u63_bg\u001b[39m\u001b[38;5;124m'\u001b[39m,\n",
      "                                       \u001b[38;5;124m'\u001b[39m\u001b[38;5;124mhas_ppi_bg\u001b[39m\u001b[38;5;124m'\u001b[39m,\n",
      "                                       \u001b[38;5;124m'\u001b[39m\u001b[38;5;124mhas_ppi\u001b[39m\u001b[38;5;124m'\u001b[39m,\n",
      "                                       \u001b[38;5;124m'\u001b[39m\u001b[38;5;124mebel_relation\u001b[39m\u001b[38;5;124m'\u001b[39m,\n",
      "                                       \u001b[38;5;124m'\u001b[39m\u001b[38;5;124mE\u001b[39m\u001b[38;5;124m'\u001b[39m]},\n",
      " \u001b[38;5;124m'\u001b[39m\u001b[38;5;124mdecreases_ubi_bg\u001b[39m\u001b[38;5;124m'\u001b[39m: {\u001b[38;5;124m'\u001b[39m\u001b[38;5;124mabstract\u001b[39m\u001b[38;5;124m'\u001b[39m: \u001b[38;5;28;01mFalse\u001b[39;00m,\n",
      "                      \u001b[38;5;124m'\u001b[39m\u001b[38;5;124mchildren\u001b[39m\u001b[38;5;124m'\u001b[39m: [],\n",
      "                      \u001b[38;5;124m'\u001b[39m\u001b[38;5;124min_out\u001b[39m\u001b[38;5;124m'\u001b[39m: {\u001b[38;5;124m'\u001b[39m\u001b[38;5;124min\u001b[39m\u001b[38;5;124m'\u001b[39m: \u001b[38;5;124m'\u001b[39m\u001b[38;5;124mprotein\u001b[39m\u001b[38;5;124m'\u001b[39m, \u001b[38;5;124m'\u001b[39m\u001b[38;5;124mout\u001b[39m\u001b[38;5;124m'\u001b[39m: \u001b[38;5;124m'\u001b[39m\u001b[38;5;124mprotein\u001b[39m\u001b[38;5;124m'\u001b[39m},\n",
      "                      \u001b[38;5;124m'\u001b[39m\u001b[38;5;124mparents_path\u001b[39m\u001b[38;5;124m'\u001b[39m: [\u001b[38;5;124m'\u001b[39m\u001b[38;5;124mdecreases_ubi_bg\u001b[39m\u001b[38;5;124m'\u001b[39m,\n",
      "                                       \u001b[38;5;124m'\u001b[39m\u001b[38;5;124mhas_ppi_bg\u001b[39m\u001b[38;5;124m'\u001b[39m,\n",
      "                                       \u001b[38;5;124m'\u001b[39m\u001b[38;5;124mhas_ppi\u001b[39m\u001b[38;5;124m'\u001b[39m,\n",
      "                                       \u001b[38;5;124m'\u001b[39m\u001b[38;5;124mebel_relation\u001b[39m\u001b[38;5;124m'\u001b[39m,\n",
      "                                       \u001b[38;5;124m'\u001b[39m\u001b[38;5;124mE\u001b[39m\u001b[38;5;124m'\u001b[39m]},\n",
      " \u001b[38;5;124m'\u001b[39m\u001b[38;5;124mdecreases_ubm_bg\u001b[39m\u001b[38;5;124m'\u001b[39m: {\u001b[38;5;124m'\u001b[39m\u001b[38;5;124mabstract\u001b[39m\u001b[38;5;124m'\u001b[39m: \u001b[38;5;28;01mFalse\u001b[39;00m,\n",
      "                      \u001b[38;5;124m'\u001b[39m\u001b[38;5;124mchildren\u001b[39m\u001b[38;5;124m'\u001b[39m: [],\n",
      "                      \u001b[38;5;124m'\u001b[39m\u001b[38;5;124min_out\u001b[39m\u001b[38;5;124m'\u001b[39m: {\u001b[38;5;124m'\u001b[39m\u001b[38;5;124min\u001b[39m\u001b[38;5;124m'\u001b[39m: \u001b[38;5;124m'\u001b[39m\u001b[38;5;124mprotein\u001b[39m\u001b[38;5;124m'\u001b[39m, \u001b[38;5;124m'\u001b[39m\u001b[38;5;124mout\u001b[39m\u001b[38;5;124m'\u001b[39m: \u001b[38;5;124m'\u001b[39m\u001b[38;5;124mprotein\u001b[39m\u001b[38;5;124m'\u001b[39m},\n",
      "                      \u001b[38;5;124m'\u001b[39m\u001b[38;5;124mparents_path\u001b[39m\u001b[38;5;124m'\u001b[39m: [\u001b[38;5;124m'\u001b[39m\u001b[38;5;124mdecreases_ubm_bg\u001b[39m\u001b[38;5;124m'\u001b[39m,\n",
      "                                       \u001b[38;5;124m'\u001b[39m\u001b[38;5;124mhas_ppi_bg\u001b[39m\u001b[38;5;124m'\u001b[39m,\n",
      "                                       \u001b[38;5;124m'\u001b[39m\u001b[38;5;124mhas_ppi\u001b[39m\u001b[38;5;124m'\u001b[39m,\n",
      "                                       \u001b[38;5;124m'\u001b[39m\u001b[38;5;124mebel_relation\u001b[39m\u001b[38;5;124m'\u001b[39m,\n",
      "                                       \u001b[38;5;124m'\u001b[39m\u001b[38;5;124mE\u001b[39m\u001b[38;5;124m'\u001b[39m]},\n",
      " \u001b[38;5;124m'\u001b[39m\u001b[38;5;124mdecreases_ubp_bg\u001b[39m\u001b[38;5;124m'\u001b[39m: {\u001b[38;5;124m'\u001b[39m\u001b[38;5;124mabstract\u001b[39m\u001b[38;5;124m'\u001b[39m: \u001b[38;5;28;01mFalse\u001b[39;00m,\n",
      "                      \u001b[38;5;124m'\u001b[39m\u001b[38;5;124mchildren\u001b[39m\u001b[38;5;124m'\u001b[39m: [],\n",
      "                      \u001b[38;5;124m'\u001b[39m\u001b[38;5;124min_out\u001b[39m\u001b[38;5;124m'\u001b[39m: {\u001b[38;5;124m'\u001b[39m\u001b[38;5;124min\u001b[39m\u001b[38;5;124m'\u001b[39m: \u001b[38;5;124m'\u001b[39m\u001b[38;5;124mprotein\u001b[39m\u001b[38;5;124m'\u001b[39m, \u001b[38;5;124m'\u001b[39m\u001b[38;5;124mout\u001b[39m\u001b[38;5;124m'\u001b[39m: \u001b[38;5;124m'\u001b[39m\u001b[38;5;124mprotein\u001b[39m\u001b[38;5;124m'\u001b[39m},\n",
      "                      \u001b[38;5;124m'\u001b[39m\u001b[38;5;124mparents_path\u001b[39m\u001b[38;5;124m'\u001b[39m: [\u001b[38;5;124m'\u001b[39m\u001b[38;5;124mdecreases_ubp_bg\u001b[39m\u001b[38;5;124m'\u001b[39m,\n",
      "                                       \u001b[38;5;124m'\u001b[39m\u001b[38;5;124mhas_ppi_bg\u001b[39m\u001b[38;5;124m'\u001b[39m,\n",
      "                                       \u001b[38;5;124m'\u001b[39m\u001b[38;5;124mhas_ppi\u001b[39m\u001b[38;5;124m'\u001b[39m,\n",
      "                                       \u001b[38;5;124m'\u001b[39m\u001b[38;5;124mebel_relation\u001b[39m\u001b[38;5;124m'\u001b[39m,\n",
      "                                       \u001b[38;5;124m'\u001b[39m\u001b[38;5;124mE\u001b[39m\u001b[38;5;124m'\u001b[39m]},\n",
      " \u001b[38;5;124m'\u001b[39m\u001b[38;5;124mdisgenet_gene_disease\u001b[39m\u001b[38;5;124m'\u001b[39m: {\u001b[38;5;124m'\u001b[39m\u001b[38;5;124mabstract\u001b[39m\u001b[38;5;124m'\u001b[39m: \u001b[38;5;28;01mFalse\u001b[39;00m,\n",
      "                           \u001b[38;5;124m'\u001b[39m\u001b[38;5;124mchildren\u001b[39m\u001b[38;5;124m'\u001b[39m: [],\n",
      "                           \u001b[38;5;124m'\u001b[39m\u001b[38;5;124mparents_path\u001b[39m\u001b[38;5;124m'\u001b[39m: [\u001b[38;5;124m'\u001b[39m\u001b[38;5;124mdisgenet_gene_disease\u001b[39m\u001b[38;5;124m'\u001b[39m,\n",
      "                                            \u001b[38;5;124m'\u001b[39m\u001b[38;5;124mgene_disease_association\u001b[39m\u001b[38;5;124m'\u001b[39m,\n",
      "                                            \u001b[38;5;124m'\u001b[39m\u001b[38;5;124mebel_relation\u001b[39m\u001b[38;5;124m'\u001b[39m,\n",
      "                                            \u001b[38;5;124m'\u001b[39m\u001b[38;5;124mE\u001b[39m\u001b[38;5;124m'\u001b[39m]},\n",
      " \u001b[38;5;124m'\u001b[39m\u001b[38;5;124mebel_relation\u001b[39m\u001b[38;5;124m'\u001b[39m: {\u001b[38;5;124m'\u001b[39m\u001b[38;5;124mabstract\u001b[39m\u001b[38;5;124m'\u001b[39m: \u001b[38;5;28;01mTrue\u001b[39;00m,\n",
      "                   \u001b[38;5;124m'\u001b[39m\u001b[38;5;124mchildren\u001b[39m\u001b[38;5;124m'\u001b[39m: [{\u001b[38;5;124m'\u001b[39m\u001b[38;5;124mabstract\u001b[39m\u001b[38;5;124m'\u001b[39m: \u001b[38;5;28;01mTrue\u001b[39;00m, \u001b[38;5;124m'\u001b[39m\u001b[38;5;124mname\u001b[39m\u001b[38;5;124m'\u001b[39m: \u001b[38;5;124m'\u001b[39m\u001b[38;5;124mhas_located\u001b[39m\u001b[38;5;124m'\u001b[39m},\n",
      "                                {\u001b[38;5;124m'\u001b[39m\u001b[38;5;124mabstract\u001b[39m\u001b[38;5;124m'\u001b[39m: \u001b[38;5;28;01mFalse\u001b[39;00m, \u001b[38;5;124m'\u001b[39m\u001b[38;5;124mname\u001b[39m\u001b[38;5;124m'\u001b[39m: \u001b[38;5;124m'\u001b[39m\u001b[38;5;124mhas__reactants\u001b[39m\u001b[38;5;124m'\u001b[39m},\n",
      "                                {\u001b[38;5;124m'\u001b[39m\u001b[38;5;124mabstract\u001b[39m\u001b[38;5;124m'\u001b[39m: \u001b[38;5;28;01mFalse\u001b[39;00m, \u001b[38;5;124m'\u001b[39m\u001b[38;5;124mname\u001b[39m\u001b[38;5;124m'\u001b[39m: \u001b[38;5;124m'\u001b[39m\u001b[38;5;124mhas__to_location\u001b[39m\u001b[38;5;124m'\u001b[39m},\n",
      "                                {\u001b[38;5;124m'\u001b[39m\u001b[38;5;124mabstract\u001b[39m\u001b[38;5;124m'\u001b[39m: \u001b[38;5;28;01mFalse\u001b[39;00m,\n",
      "                                 \u001b[38;5;124m'\u001b[39m\u001b[38;5;124mname\u001b[39m\u001b[38;5;124m'\u001b[39m: \u001b[38;5;124m'\u001b[39m\u001b[38;5;124miuphar_interaction\u001b[39m\u001b[38;5;124m'\u001b[39m},\n",
      "                                {\u001b[38;5;124m'\u001b[39m\u001b[38;5;124mabstract\u001b[39m\u001b[38;5;124m'\u001b[39m: \u001b[38;5;28;01mTrue\u001b[39;00m, \u001b[38;5;124m'\u001b[39m\u001b[38;5;124mname\u001b[39m\u001b[38;5;124m'\u001b[39m: \u001b[38;5;124m'\u001b[39m\u001b[38;5;124mhas_snp\u001b[39m\u001b[38;5;124m'\u001b[39m},\n",
      "                                {\u001b[38;5;124m'\u001b[39m\u001b[38;5;124mabstract\u001b[39m\u001b[38;5;124m'\u001b[39m: \u001b[38;5;28;01mFalse\u001b[39;00m,\n",
      "                                 \u001b[38;5;124m'\u001b[39m\u001b[38;5;124mname\u001b[39m\u001b[38;5;124m'\u001b[39m: \u001b[38;5;124m'\u001b[39m\u001b[38;5;124mhas_fragmented_protein\u001b[39m\u001b[38;5;124m'\u001b[39m},\n",
      "                                {\u001b[38;5;124m'\u001b[39m\u001b[38;5;124mabstract\u001b[39m\u001b[38;5;124m'\u001b[39m: \u001b[38;5;28;01mFalse\u001b[39;00m,\n",
      "                                 \u001b[38;5;124m'\u001b[39m\u001b[38;5;124mname\u001b[39m\u001b[38;5;124m'\u001b[39m: \u001b[38;5;124m'\u001b[39m\u001b[38;5;124mhas_mirgene_target\u001b[39m\u001b[38;5;124m'\u001b[39m},\n",
      "                                {\u001b[38;5;124m'\u001b[39m\u001b[38;5;124mabstract\u001b[39m\u001b[38;5;124m'\u001b[39m: \u001b[38;5;28;01mFalse\u001b[39;00m, \u001b[38;5;124m'\u001b[39m\u001b[38;5;124mname\u001b[39m\u001b[38;5;124m'\u001b[39m: \u001b[38;5;124m'\u001b[39m\u001b[38;5;124mhas_side_effect\u001b[39m\u001b[38;5;124m'\u001b[39m},\n",
      "                                {\u001b[38;5;124m'\u001b[39m\u001b[38;5;124mabstract\u001b[39m\u001b[38;5;124m'\u001b[39m: \u001b[38;5;28;01mFalse\u001b[39;00m, \u001b[38;5;124m'\u001b[39m\u001b[38;5;124mname\u001b[39m\u001b[38;5;124m'\u001b[39m: \u001b[38;5;124m'\u001b[39m\u001b[38;5;124mhas__gmod\u001b[39m\u001b[38;5;124m'\u001b[39m},\n",
      "                                {\u001b[38;5;124m'\u001b[39m\u001b[38;5;124mabstract\u001b[39m\u001b[38;5;124m'\u001b[39m: \u001b[38;5;28;01mFalse\u001b[39;00m, \u001b[38;5;124m'\u001b[39m\u001b[38;5;124mname\u001b[39m\u001b[38;5;124m'\u001b[39m: \u001b[38;5;124m'\u001b[39m\u001b[38;5;124mhas__products\u001b[39m\u001b[38;5;124m'\u001b[39m},\n",
      "                                {\u001b[38;5;124m'\u001b[39m\u001b[38;5;124mabstract\u001b[39m\u001b[38;5;124m'\u001b[39m: \u001b[38;5;28;01mFalse\u001b[39;00m,\n",
      "                                 \u001b[38;5;124m'\u001b[39m\u001b[38;5;124mname\u001b[39m\u001b[38;5;124m'\u001b[39m: \u001b[38;5;124m'\u001b[39m\u001b[38;5;124mhas__from_location\u001b[39m\u001b[38;5;124m'\u001b[39m},\n",
      "                                {\u001b[38;5;124m'\u001b[39m\u001b[38;5;124mabstract\u001b[39m\u001b[38;5;124m'\u001b[39m: \u001b[38;5;28;01mFalse\u001b[39;00m, \u001b[38;5;124m'\u001b[39m\u001b[38;5;124mname\u001b[39m\u001b[38;5;124m'\u001b[39m: \u001b[38;5;124m'\u001b[39m\u001b[38;5;124mhas__micro_rna\u001b[39m\u001b[38;5;124m'\u001b[39m},\n",
      "                                {\u001b[38;5;124m'\u001b[39m\u001b[38;5;124mabstract\u001b[39m\u001b[38;5;124m'\u001b[39m: \u001b[38;5;28;01mTrue\u001b[39;00m,\n",
      "                                 \u001b[38;5;124m'\u001b[39m\u001b[38;5;124mname\u001b[39m\u001b[38;5;124m'\u001b[39m: \u001b[38;5;124m'\u001b[39m\u001b[38;5;124mgene_disease_association\u001b[39m\u001b[38;5;124m'\u001b[39m},\n",
      "                                {\u001b[38;5;124m'\u001b[39m\u001b[38;5;124mabstract\u001b[39m\u001b[38;5;124m'\u001b[39m: \u001b[38;5;28;01mFalse\u001b[39;00m, \u001b[38;5;124m'\u001b[39m\u001b[38;5;124mname\u001b[39m\u001b[38;5;124m'\u001b[39m: \u001b[38;5;124m'\u001b[39m\u001b[38;5;124mhas__location\u001b[39m\u001b[38;5;124m'\u001b[39m},\n",
      "                                {\u001b[38;5;124m'\u001b[39m\u001b[38;5;124mabstract\u001b[39m\u001b[38;5;124m'\u001b[39m: \u001b[38;5;28;01mTrue\u001b[39;00m, \u001b[38;5;124m'\u001b[39m\u001b[38;5;124mname\u001b[39m\u001b[38;5;124m'\u001b[39m: \u001b[38;5;124m'\u001b[39m\u001b[38;5;124mhas_variant_obj\u001b[39m\u001b[38;5;124m'\u001b[39m},\n",
      "                                {\u001b[38;5;124m'\u001b[39m\u001b[38;5;124mabstract\u001b[39m\u001b[38;5;124m'\u001b[39m: \u001b[38;5;28;01mFalse\u001b[39;00m, \u001b[38;5;124m'\u001b[39m\u001b[38;5;124mname\u001b[39m\u001b[38;5;124m'\u001b[39m: \u001b[38;5;124m'\u001b[39m\u001b[38;5;124mhas__composite\u001b[39m\u001b[38;5;124m'\u001b[39m},\n",
      "                                {\u001b[38;5;124m'\u001b[39m\u001b[38;5;124mabstract\u001b[39m\u001b[38;5;124m'\u001b[39m: \u001b[38;5;28;01mFalse\u001b[39;00m, \u001b[38;5;124m'\u001b[39m\u001b[38;5;124mname\u001b[39m\u001b[38;5;124m'\u001b[39m: \u001b[38;5;124m'\u001b[39m\u001b[38;5;124mhas__gene\u001b[39m\u001b[38;5;124m'\u001b[39m},\n",
      "                                {\u001b[38;5;124m'\u001b[39m\u001b[38;5;124mabstract\u001b[39m\u001b[38;5;124m'\u001b[39m: \u001b[38;5;28;01mTrue\u001b[39;00m, \u001b[38;5;124m'\u001b[39m\u001b[38;5;124mname\u001b[39m\u001b[38;5;124m'\u001b[39m: \u001b[38;5;124m'\u001b[39m\u001b[38;5;124mhas_action\u001b[39m\u001b[38;5;124m'\u001b[39m},\n",
      "                                {\u001b[38;5;124m'\u001b[39m\u001b[38;5;124mabstract\u001b[39m\u001b[38;5;124m'\u001b[39m: \u001b[38;5;28;01mTrue\u001b[39;00m,\n",
      "                                 \u001b[38;5;124m'\u001b[39m\u001b[38;5;124mname\u001b[39m\u001b[38;5;124m'\u001b[39m: \u001b[38;5;124m'\u001b[39m\u001b[38;5;124mpathway_interaction\u001b[39m\u001b[38;5;124m'\u001b[39m},\n",
      "                                {\u001b[38;5;124m'\u001b[39m\u001b[38;5;124mabstract\u001b[39m\u001b[38;5;124m'\u001b[39m: \u001b[38;5;28;01mFalse\u001b[39;00m, \u001b[38;5;124m'\u001b[39m\u001b[38;5;124mname\u001b[39m\u001b[38;5;124m'\u001b[39m: \u001b[38;5;124m'\u001b[39m\u001b[38;5;124mhas__abundance\u001b[39m\u001b[38;5;124m'\u001b[39m},\n",
      "                                {\u001b[38;5;124m'\u001b[39m\u001b[38;5;124mabstract\u001b[39m\u001b[38;5;124m'\u001b[39m: \u001b[38;5;28;01mFalse\u001b[39;00m, \u001b[38;5;124m'\u001b[39m\u001b[38;5;124mname\u001b[39m\u001b[38;5;124m'\u001b[39m: \u001b[38;5;124m'\u001b[39m\u001b[38;5;124mhas__complex\u001b[39m\u001b[38;5;124m'\u001b[39m},\n",
      "                                {\u001b[38;5;124m'\u001b[39m\u001b[38;5;124mabstract\u001b[39m\u001b[38;5;124m'\u001b[39m: \u001b[38;5;28;01mFalse\u001b[39;00m, \u001b[38;5;124m'\u001b[39m\u001b[38;5;124mname\u001b[39m\u001b[38;5;124m'\u001b[39m: \u001b[38;5;124m'\u001b[39m\u001b[38;5;124mhas__population\u001b[39m\u001b[38;5;124m'\u001b[39m},\n",
      "                                {\u001b[38;5;124m'\u001b[39m\u001b[38;5;124mabstract\u001b[39m\u001b[38;5;124m'\u001b[39m: \u001b[38;5;28;01mTrue\u001b[39;00m, \u001b[38;5;124m'\u001b[39m\u001b[38;5;124mname\u001b[39m\u001b[38;5;124m'\u001b[39m: \u001b[38;5;124m'\u001b[39m\u001b[38;5;124mhas_drug_target\u001b[39m\u001b[38;5;124m'\u001b[39m},\n",
      "                                {\u001b[38;5;124m'\u001b[39m\u001b[38;5;124mabstract\u001b[39m\u001b[38;5;124m'\u001b[39m: \u001b[38;5;28;01mFalse\u001b[39;00m, \u001b[38;5;124m'\u001b[39m\u001b[38;5;124mname\u001b[39m\u001b[38;5;124m'\u001b[39m: \u001b[38;5;124m'\u001b[39m\u001b[38;5;124mhas__rna\u001b[39m\u001b[38;5;124m'\u001b[39m},\n",
      "                                {\u001b[38;5;124m'\u001b[39m\u001b[38;5;124mabstract\u001b[39m\u001b[38;5;124m'\u001b[39m: \u001b[38;5;28;01mFalse\u001b[39;00m, \u001b[38;5;124m'\u001b[39m\u001b[38;5;124mname\u001b[39m\u001b[38;5;124m'\u001b[39m: \u001b[38;5;124m'\u001b[39m\u001b[38;5;124mhas__pmod\u001b[39m\u001b[38;5;124m'\u001b[39m},\n",
      "                                {\u001b[38;5;124m'\u001b[39m\u001b[38;5;124mabstract\u001b[39m\u001b[38;5;124m'\u001b[39m: \u001b[38;5;28;01mTrue\u001b[39;00m, \u001b[38;5;124m'\u001b[39m\u001b[38;5;124mname\u001b[39m\u001b[38;5;124m'\u001b[39m: \u001b[38;5;124m'\u001b[39m\u001b[38;5;124mhas_ppi\u001b[39m\u001b[38;5;124m'\u001b[39m},\n",
      "                                {\u001b[38;5;124m'\u001b[39m\u001b[38;5;124mabstract\u001b[39m\u001b[38;5;124m'\u001b[39m: \u001b[38;5;28;01mFalse\u001b[39;00m, \u001b[38;5;124m'\u001b[39m\u001b[38;5;124mname\u001b[39m\u001b[38;5;124m'\u001b[39m: \u001b[38;5;124m'\u001b[39m\u001b[38;5;124mhas__fragment\u001b[39m\u001b[38;5;124m'\u001b[39m},\n",
      "                                {\u001b[38;5;124m'\u001b[39m\u001b[38;5;124mabstract\u001b[39m\u001b[38;5;124m'\u001b[39m: \u001b[38;5;28;01mTrue\u001b[39;00m, \u001b[38;5;124m'\u001b[39m\u001b[38;5;124mname\u001b[39m\u001b[38;5;124m'\u001b[39m: \u001b[38;5;124m'\u001b[39m\u001b[38;5;124mhas_modified\u001b[39m\u001b[38;5;124m'\u001b[39m},\n",
      "                                {\u001b[38;5;124m'\u001b[39m\u001b[38;5;124mabstract\u001b[39m\u001b[38;5;124m'\u001b[39m: \u001b[38;5;28;01mFalse\u001b[39;00m, \u001b[38;5;124m'\u001b[39m\u001b[38;5;124mname\u001b[39m\u001b[38;5;124m'\u001b[39m: \u001b[38;5;124m'\u001b[39m\u001b[38;5;124mhas__protein\u001b[39m\u001b[38;5;124m'\u001b[39m},\n",
      "                                {\u001b[38;5;124m'\u001b[39m\u001b[38;5;124mabstract\u001b[39m\u001b[38;5;124m'\u001b[39m: \u001b[38;5;28;01mFalse\u001b[39;00m, \u001b[38;5;124m'\u001b[39m\u001b[38;5;124mname\u001b[39m\u001b[38;5;124m'\u001b[39m: \u001b[38;5;124m'\u001b[39m\u001b[38;5;124mhas__variant\u001b[39m\u001b[38;5;124m'\u001b[39m}],\n",
      "                   \u001b[38;5;124m'\u001b[39m\u001b[38;5;124mparents_path\u001b[39m\u001b[38;5;124m'\u001b[39m: [\u001b[38;5;124m'\u001b[39m\u001b[38;5;124mebel_relation\u001b[39m\u001b[38;5;124m'\u001b[39m, \u001b[38;5;124m'\u001b[39m\u001b[38;5;124mE\u001b[39m\u001b[38;5;124m'\u001b[39m]},\n",
      " \u001b[38;5;124m'\u001b[39m\u001b[38;5;124mgene_disease_association\u001b[39m\u001b[38;5;124m'\u001b[39m: {\u001b[38;5;124m'\u001b[39m\u001b[38;5;124mabstract\u001b[39m\u001b[38;5;124m'\u001b[39m: \u001b[38;5;28;01mTrue\u001b[39;00m,\n",
      "                              \u001b[38;5;124m'\u001b[39m\u001b[38;5;124mchildren\u001b[39m\u001b[38;5;124m'\u001b[39m: [{\u001b[38;5;124m'\u001b[39m\u001b[38;5;124mabstract\u001b[39m\u001b[38;5;124m'\u001b[39m: \u001b[38;5;28;01mFalse\u001b[39;00m,\n",
      "                                            \u001b[38;5;124m'\u001b[39m\u001b[38;5;124mname\u001b[39m\u001b[38;5;124m'\u001b[39m: \u001b[38;5;124m'\u001b[39m\u001b[38;5;124mdisgenet_gene_disease\u001b[39m\u001b[38;5;124m'\u001b[39m}],\n",
      "                              \u001b[38;5;124m'\u001b[39m\u001b[38;5;124mparents_path\u001b[39m\u001b[38;5;124m'\u001b[39m: [\u001b[38;5;124m'\u001b[39m\u001b[38;5;124mgene_disease_association\u001b[39m\u001b[38;5;124m'\u001b[39m,\n",
      "                                               \u001b[38;5;124m'\u001b[39m\u001b[38;5;124mebel_relation\u001b[39m\u001b[38;5;124m'\u001b[39m,\n",
      "                                               \u001b[38;5;124m'\u001b[39m\u001b[38;5;124mE\u001b[39m\u001b[38;5;124m'\u001b[39m]},\n",
      " \u001b[38;5;124m'\u001b[39m\u001b[38;5;124mhas__abundance\u001b[39m\u001b[38;5;124m'\u001b[39m: {\u001b[38;5;124m'\u001b[39m\u001b[38;5;124mabstract\u001b[39m\u001b[38;5;124m'\u001b[39m: \u001b[38;5;28;01mFalse\u001b[39;00m,\n",
      "                    \u001b[38;5;124m'\u001b[39m\u001b[38;5;124mchildren\u001b[39m\u001b[38;5;124m'\u001b[39m: [],\n",
      "                    \u001b[38;5;124m'\u001b[39m\u001b[38;5;124min_out\u001b[39m\u001b[38;5;124m'\u001b[39m: {\u001b[38;5;124m'\u001b[39m\u001b[38;5;124min\u001b[39m\u001b[38;5;124m'\u001b[39m: \u001b[38;5;124m'\u001b[39m\u001b[38;5;124mabundance\u001b[39m\u001b[38;5;124m'\u001b[39m, \u001b[38;5;124m'\u001b[39m\u001b[38;5;124mout\u001b[39m\u001b[38;5;124m'\u001b[39m: \u001b[38;5;124m'\u001b[39m\u001b[38;5;124mV\u001b[39m\u001b[38;5;124m'\u001b[39m},\n",
      "                    \u001b[38;5;124m'\u001b[39m\u001b[38;5;124mparents_path\u001b[39m\u001b[38;5;124m'\u001b[39m: [\u001b[38;5;124m'\u001b[39m\u001b[38;5;124mhas__abundance\u001b[39m\u001b[38;5;124m'\u001b[39m, \u001b[38;5;124m'\u001b[39m\u001b[38;5;124mebel_relation\u001b[39m\u001b[38;5;124m'\u001b[39m, \u001b[38;5;124m'\u001b[39m\u001b[38;5;124mE\u001b[39m\u001b[38;5;124m'\u001b[39m]},\n",
      " \u001b[38;5;124m'\u001b[39m\u001b[38;5;124mhas__complex\u001b[39m\u001b[38;5;124m'\u001b[39m: {\u001b[38;5;124m'\u001b[39m\u001b[38;5;124mabstract\u001b[39m\u001b[38;5;124m'\u001b[39m: \u001b[38;5;28;01mFalse\u001b[39;00m,\n",
      "                  \u001b[38;5;124m'\u001b[39m\u001b[38;5;124mchildren\u001b[39m\u001b[38;5;124m'\u001b[39m: [],\n",
      "                  \u001b[38;5;124m'\u001b[39m\u001b[38;5;124min_out\u001b[39m\u001b[38;5;124m'\u001b[39m: {\u001b[38;5;124m'\u001b[39m\u001b[38;5;124min\u001b[39m\u001b[38;5;124m'\u001b[39m: \u001b[38;5;124m'\u001b[39m\u001b[38;5;124mcomplex\u001b[39m\u001b[38;5;124m'\u001b[39m, \u001b[38;5;124m'\u001b[39m\u001b[38;5;124mout\u001b[39m\u001b[38;5;124m'\u001b[39m: \u001b[38;5;124m'\u001b[39m\u001b[38;5;124mV\u001b[39m\u001b[38;5;124m'\u001b[39m},\n",
      "                  \u001b[38;5;124m'\u001b[39m\u001b[38;5;124mparents_path\u001b[39m\u001b[38;5;124m'\u001b[39m: [\u001b[38;5;124m'\u001b[39m\u001b[38;5;124mhas__complex\u001b[39m\u001b[38;5;124m'\u001b[39m, \u001b[38;5;124m'\u001b[39m\u001b[38;5;124mebel_relation\u001b[39m\u001b[38;5;124m'\u001b[39m, \u001b[38;5;124m'\u001b[39m\u001b[38;5;124mE\u001b[39m\u001b[38;5;124m'\u001b[39m]},\n",
      " \u001b[38;5;124m'\u001b[39m\u001b[38;5;124mhas__composite\u001b[39m\u001b[38;5;124m'\u001b[39m: {\u001b[38;5;124m'\u001b[39m\u001b[38;5;124mabstract\u001b[39m\u001b[38;5;124m'\u001b[39m: \u001b[38;5;28;01mFalse\u001b[39;00m,\n",
      "                    \u001b[38;5;124m'\u001b[39m\u001b[38;5;124mchildren\u001b[39m\u001b[38;5;124m'\u001b[39m: [],\n",
      "                    \u001b[38;5;124m'\u001b[39m\u001b[38;5;124min_out\u001b[39m\u001b[38;5;124m'\u001b[39m: {\u001b[38;5;124m'\u001b[39m\u001b[38;5;124min\u001b[39m\u001b[38;5;124m'\u001b[39m: \u001b[38;5;124m'\u001b[39m\u001b[38;5;124mcomposite\u001b[39m\u001b[38;5;124m'\u001b[39m, \u001b[38;5;124m'\u001b[39m\u001b[38;5;124mout\u001b[39m\u001b[38;5;124m'\u001b[39m: \u001b[38;5;124m'\u001b[39m\u001b[38;5;124mV\u001b[39m\u001b[38;5;124m'\u001b[39m},\n",
      "                    \u001b[38;5;124m'\u001b[39m\u001b[38;5;124mparents_path\u001b[39m\u001b[38;5;124m'\u001b[39m: [\u001b[38;5;124m'\u001b[39m\u001b[38;5;124mhas__composite\u001b[39m\u001b[38;5;124m'\u001b[39m, \u001b[38;5;124m'\u001b[39m\u001b[38;5;124mebel_relation\u001b[39m\u001b[38;5;124m'\u001b[39m, \u001b[38;5;124m'\u001b[39m\u001b[38;5;124mE\u001b[39m\u001b[38;5;124m'\u001b[39m]},\n",
      " \u001b[38;5;124m'\u001b[39m\u001b[38;5;124mhas__fragment\u001b[39m\u001b[38;5;124m'\u001b[39m: {\u001b[38;5;124m'\u001b[39m\u001b[38;5;124mabstract\u001b[39m\u001b[38;5;124m'\u001b[39m: \u001b[38;5;28;01mFalse\u001b[39;00m,\n",
      "                   \u001b[38;5;124m'\u001b[39m\u001b[38;5;124mchildren\u001b[39m\u001b[38;5;124m'\u001b[39m: [],\n",
      "                   \u001b[38;5;124m'\u001b[39m\u001b[38;5;124min_out\u001b[39m\u001b[38;5;124m'\u001b[39m: {\u001b[38;5;124m'\u001b[39m\u001b[38;5;124min\u001b[39m\u001b[38;5;124m'\u001b[39m: \u001b[38;5;124m'\u001b[39m\u001b[38;5;124mfragment\u001b[39m\u001b[38;5;124m'\u001b[39m, \u001b[38;5;124m'\u001b[39m\u001b[38;5;124mout\u001b[39m\u001b[38;5;124m'\u001b[39m: \u001b[38;5;124m'\u001b[39m\u001b[38;5;124mV\u001b[39m\u001b[38;5;124m'\u001b[39m},\n",
      "                   \u001b[38;5;124m'\u001b[39m\u001b[38;5;124mparents_path\u001b[39m\u001b[38;5;124m'\u001b[39m: [\u001b[38;5;124m'\u001b[39m\u001b[38;5;124mhas__fragment\u001b[39m\u001b[38;5;124m'\u001b[39m, \u001b[38;5;124m'\u001b[39m\u001b[38;5;124mebel_relation\u001b[39m\u001b[38;5;124m'\u001b[39m, \u001b[38;5;124m'\u001b[39m\u001b[38;5;124mE\u001b[39m\u001b[38;5;124m'\u001b[39m]},\n",
      " \u001b[38;5;124m'\u001b[39m\u001b[38;5;124mhas__from_location\u001b[39m\u001b[38;5;124m'\u001b[39m: {\u001b[38;5;124m'\u001b[39m\u001b[38;5;124mabstract\u001b[39m\u001b[38;5;124m'\u001b[39m: \u001b[38;5;28;01mFalse\u001b[39;00m,\n",
      "                        \u001b[38;5;124m'\u001b[39m\u001b[38;5;124mchildren\u001b[39m\u001b[38;5;124m'\u001b[39m: [],\n",
      "                        \u001b[38;5;124m'\u001b[39m\u001b[38;5;124min_out\u001b[39m\u001b[38;5;124m'\u001b[39m: {\u001b[38;5;124m'\u001b[39m\u001b[38;5;124min\u001b[39m\u001b[38;5;124m'\u001b[39m: \u001b[38;5;124m'\u001b[39m\u001b[38;5;124mfrom_location\u001b[39m\u001b[38;5;124m'\u001b[39m, \u001b[38;5;124m'\u001b[39m\u001b[38;5;124mout\u001b[39m\u001b[38;5;124m'\u001b[39m: \u001b[38;5;124m'\u001b[39m\u001b[38;5;124mV\u001b[39m\u001b[38;5;124m'\u001b[39m},\n",
      "                        \u001b[38;5;124m'\u001b[39m\u001b[38;5;124mparents_path\u001b[39m\u001b[38;5;124m'\u001b[39m: [\u001b[38;5;124m'\u001b[39m\u001b[38;5;124mhas__from_location\u001b[39m\u001b[38;5;124m'\u001b[39m,\n",
      "                                         \u001b[38;5;124m'\u001b[39m\u001b[38;5;124mebel_relation\u001b[39m\u001b[38;5;124m'\u001b[39m,\n",
      "                                         \u001b[38;5;124m'\u001b[39m\u001b[38;5;124mE\u001b[39m\u001b[38;5;124m'\u001b[39m]},\n",
      " \u001b[38;5;124m'\u001b[39m\u001b[38;5;124mhas__gene\u001b[39m\u001b[38;5;124m'\u001b[39m: {\u001b[38;5;124m'\u001b[39m\u001b[38;5;124mabstract\u001b[39m\u001b[38;5;124m'\u001b[39m: \u001b[38;5;28;01mFalse\u001b[39;00m,\n",
      "               \u001b[38;5;124m'\u001b[39m\u001b[38;5;124mchildren\u001b[39m\u001b[38;5;124m'\u001b[39m: [],\n",
      "               \u001b[38;5;124m'\u001b[39m\u001b[38;5;124min_out\u001b[39m\u001b[38;5;124m'\u001b[39m: {\u001b[38;5;124m'\u001b[39m\u001b[38;5;124min\u001b[39m\u001b[38;5;124m'\u001b[39m: \u001b[38;5;124m'\u001b[39m\u001b[38;5;124mgene\u001b[39m\u001b[38;5;124m'\u001b[39m, \u001b[38;5;124m'\u001b[39m\u001b[38;5;124mout\u001b[39m\u001b[38;5;124m'\u001b[39m: \u001b[38;5;124m'\u001b[39m\u001b[38;5;124mV\u001b[39m\u001b[38;5;124m'\u001b[39m},\n",
      "               \u001b[38;5;124m'\u001b[39m\u001b[38;5;124mparents_path\u001b[39m\u001b[38;5;124m'\u001b[39m: [\u001b[38;5;124m'\u001b[39m\u001b[38;5;124mhas__gene\u001b[39m\u001b[38;5;124m'\u001b[39m, \u001b[38;5;124m'\u001b[39m\u001b[38;5;124mebel_relation\u001b[39m\u001b[38;5;124m'\u001b[39m, \u001b[38;5;124m'\u001b[39m\u001b[38;5;124mE\u001b[39m\u001b[38;5;124m'\u001b[39m]},\n",
      " \u001b[38;5;124m'\u001b[39m\u001b[38;5;124mhas__gmod\u001b[39m\u001b[38;5;124m'\u001b[39m: {\u001b[38;5;124m'\u001b[39m\u001b[38;5;124mabstract\u001b[39m\u001b[38;5;124m'\u001b[39m: \u001b[38;5;28;01mFalse\u001b[39;00m,\n",
      "               \u001b[38;5;124m'\u001b[39m\u001b[38;5;124mchildren\u001b[39m\u001b[38;5;124m'\u001b[39m: [],\n",
      "               \u001b[38;5;124m'\u001b[39m\u001b[38;5;124min_out\u001b[39m\u001b[38;5;124m'\u001b[39m: {\u001b[38;5;124m'\u001b[39m\u001b[38;5;124min\u001b[39m\u001b[38;5;124m'\u001b[39m: \u001b[38;5;124m'\u001b[39m\u001b[38;5;124mgmod\u001b[39m\u001b[38;5;124m'\u001b[39m, \u001b[38;5;124m'\u001b[39m\u001b[38;5;124mout\u001b[39m\u001b[38;5;124m'\u001b[39m: \u001b[38;5;124m'\u001b[39m\u001b[38;5;124mV\u001b[39m\u001b[38;5;124m'\u001b[39m},\n",
      "               \u001b[38;5;124m'\u001b[39m\u001b[38;5;124mparents_path\u001b[39m\u001b[38;5;124m'\u001b[39m: [\u001b[38;5;124m'\u001b[39m\u001b[38;5;124mhas__gmod\u001b[39m\u001b[38;5;124m'\u001b[39m, \u001b[38;5;124m'\u001b[39m\u001b[38;5;124mebel_relation\u001b[39m\u001b[38;5;124m'\u001b[39m, \u001b[38;5;124m'\u001b[39m\u001b[38;5;124mE\u001b[39m\u001b[38;5;124m'\u001b[39m]},\n",
      " \u001b[38;5;124m'\u001b[39m\u001b[38;5;124mhas__location\u001b[39m\u001b[38;5;124m'\u001b[39m: {\u001b[38;5;124m'\u001b[39m\u001b[38;5;124mabstract\u001b[39m\u001b[38;5;124m'\u001b[39m: \u001b[38;5;28;01mFalse\u001b[39;00m,\n",
      "                   \u001b[38;5;124m'\u001b[39m\u001b[38;5;124mchildren\u001b[39m\u001b[38;5;124m'\u001b[39m: [],\n",
      "                   \u001b[38;5;124m'\u001b[39m\u001b[38;5;124min_out\u001b[39m\u001b[38;5;124m'\u001b[39m: {\u001b[38;5;124m'\u001b[39m\u001b[38;5;124min\u001b[39m\u001b[38;5;124m'\u001b[39m: \u001b[38;5;124m'\u001b[39m\u001b[38;5;124mebel\u001b[39m\u001b[38;5;124m'\u001b[39m, \u001b[38;5;124m'\u001b[39m\u001b[38;5;124mout\u001b[39m\u001b[38;5;124m'\u001b[39m: \u001b[38;5;124m'\u001b[39m\u001b[38;5;124mV\u001b[39m\u001b[38;5;124m'\u001b[39m},\n",
      "                   \u001b[38;5;124m'\u001b[39m\u001b[38;5;124mparents_path\u001b[39m\u001b[38;5;124m'\u001b[39m: [\u001b[38;5;124m'\u001b[39m\u001b[38;5;124mhas__location\u001b[39m\u001b[38;5;124m'\u001b[39m, \u001b[38;5;124m'\u001b[39m\u001b[38;5;124mebel_relation\u001b[39m\u001b[38;5;124m'\u001b[39m, \u001b[38;5;124m'\u001b[39m\u001b[38;5;124mE\u001b[39m\u001b[38;5;124m'\u001b[39m]},\n",
      " \u001b[38;5;124m'\u001b[39m\u001b[38;5;124mhas__micro_rna\u001b[39m\u001b[38;5;124m'\u001b[39m: {\u001b[38;5;124m'\u001b[39m\u001b[38;5;124mabstract\u001b[39m\u001b[38;5;124m'\u001b[39m: \u001b[38;5;28;01mFalse\u001b[39;00m,\n",
      "                    \u001b[38;5;124m'\u001b[39m\u001b[38;5;124mchildren\u001b[39m\u001b[38;5;124m'\u001b[39m: [],\n",
      "                    \u001b[38;5;124m'\u001b[39m\u001b[38;5;124min_out\u001b[39m\u001b[38;5;124m'\u001b[39m: {\u001b[38;5;124m'\u001b[39m\u001b[38;5;124min\u001b[39m\u001b[38;5;124m'\u001b[39m: \u001b[38;5;124m'\u001b[39m\u001b[38;5;124mmicro_rna\u001b[39m\u001b[38;5;124m'\u001b[39m, \u001b[38;5;124m'\u001b[39m\u001b[38;5;124mout\u001b[39m\u001b[38;5;124m'\u001b[39m: \u001b[38;5;124m'\u001b[39m\u001b[38;5;124mV\u001b[39m\u001b[38;5;124m'\u001b[39m},\n",
      "                    \u001b[38;5;124m'\u001b[39m\u001b[38;5;124mparents_path\u001b[39m\u001b[38;5;124m'\u001b[39m: [\u001b[38;5;124m'\u001b[39m\u001b[38;5;124mhas__micro_rna\u001b[39m\u001b[38;5;124m'\u001b[39m, \u001b[38;5;124m'\u001b[39m\u001b[38;5;124mebel_relation\u001b[39m\u001b[38;5;124m'\u001b[39m, \u001b[38;5;124m'\u001b[39m\u001b[38;5;124mE\u001b[39m\u001b[38;5;124m'\u001b[39m]},\n",
      " \u001b[38;5;124m'\u001b[39m\u001b[38;5;124mhas__pmod\u001b[39m\u001b[38;5;124m'\u001b[39m: {\u001b[38;5;124m'\u001b[39m\u001b[38;5;124mabstract\u001b[39m\u001b[38;5;124m'\u001b[39m: \u001b[38;5;28;01mFalse\u001b[39;00m,\n",
      "               \u001b[38;5;124m'\u001b[39m\u001b[38;5;124mchildren\u001b[39m\u001b[38;5;124m'\u001b[39m: [],\n",
      "               \u001b[38;5;124m'\u001b[39m\u001b[38;5;124min_out\u001b[39m\u001b[38;5;124m'\u001b[39m: {\u001b[38;5;124m'\u001b[39m\u001b[38;5;124min\u001b[39m\u001b[38;5;124m'\u001b[39m: \u001b[38;5;124m'\u001b[39m\u001b[38;5;124mpmod\u001b[39m\u001b[38;5;124m'\u001b[39m, \u001b[38;5;124m'\u001b[39m\u001b[38;5;124mout\u001b[39m\u001b[38;5;124m'\u001b[39m: \u001b[38;5;124m'\u001b[39m\u001b[38;5;124mV\u001b[39m\u001b[38;5;124m'\u001b[39m},\n",
      "               \u001b[38;5;124m'\u001b[39m\u001b[38;5;124mparents_path\u001b[39m\u001b[38;5;124m'\u001b[39m: [\u001b[38;5;124m'\u001b[39m\u001b[38;5;124mhas__pmod\u001b[39m\u001b[38;5;124m'\u001b[39m, \u001b[38;5;124m'\u001b[39m\u001b[38;5;124mebel_relation\u001b[39m\u001b[38;5;124m'\u001b[39m, \u001b[38;5;124m'\u001b[39m\u001b[38;5;124mE\u001b[39m\u001b[38;5;124m'\u001b[39m]},\n",
      " \u001b[38;5;124m'\u001b[39m\u001b[38;5;124mhas__population\u001b[39m\u001b[38;5;124m'\u001b[39m: {\u001b[38;5;124m'\u001b[39m\u001b[38;5;124mabstract\u001b[39m\u001b[38;5;124m'\u001b[39m: \u001b[38;5;28;01mFalse\u001b[39;00m,\n",
      "                     \u001b[38;5;124m'\u001b[39m\u001b[38;5;124mchildren\u001b[39m\u001b[38;5;124m'\u001b[39m: [],\n",
      "                     \u001b[38;5;124m'\u001b[39m\u001b[38;5;124min_out\u001b[39m\u001b[38;5;124m'\u001b[39m: {\u001b[38;5;124m'\u001b[39m\u001b[38;5;124min\u001b[39m\u001b[38;5;124m'\u001b[39m: \u001b[38;5;124m'\u001b[39m\u001b[38;5;124mpopulation\u001b[39m\u001b[38;5;124m'\u001b[39m, \u001b[38;5;124m'\u001b[39m\u001b[38;5;124mout\u001b[39m\u001b[38;5;124m'\u001b[39m: \u001b[38;5;124m'\u001b[39m\u001b[38;5;124mV\u001b[39m\u001b[38;5;124m'\u001b[39m},\n",
      "                     \u001b[38;5;124m'\u001b[39m\u001b[38;5;124mparents_path\u001b[39m\u001b[38;5;124m'\u001b[39m: [\u001b[38;5;124m'\u001b[39m\u001b[38;5;124mhas__population\u001b[39m\u001b[38;5;124m'\u001b[39m, \u001b[38;5;124m'\u001b[39m\u001b[38;5;124mebel_relation\u001b[39m\u001b[38;5;124m'\u001b[39m, \u001b[38;5;124m'\u001b[39m\u001b[38;5;124mE\u001b[39m\u001b[38;5;124m'\u001b[39m]},\n",
      " \u001b[38;5;124m'\u001b[39m\u001b[38;5;124mhas__products\u001b[39m\u001b[38;5;124m'\u001b[39m: {\u001b[38;5;124m'\u001b[39m\u001b[38;5;124mabstract\u001b[39m\u001b[38;5;124m'\u001b[39m: \u001b[38;5;28;01mFalse\u001b[39;00m,\n",
      "                   \u001b[38;5;124m'\u001b[39m\u001b[38;5;124mchildren\u001b[39m\u001b[38;5;124m'\u001b[39m: [],\n",
      "                   \u001b[38;5;124m'\u001b[39m\u001b[38;5;124min_out\u001b[39m\u001b[38;5;124m'\u001b[39m: {\u001b[38;5;124m'\u001b[39m\u001b[38;5;124min\u001b[39m\u001b[38;5;124m'\u001b[39m: \u001b[38;5;124m'\u001b[39m\u001b[38;5;124mproducts\u001b[39m\u001b[38;5;124m'\u001b[39m, \u001b[38;5;124m'\u001b[39m\u001b[38;5;124mout\u001b[39m\u001b[38;5;124m'\u001b[39m: \u001b[38;5;124m'\u001b[39m\u001b[38;5;124mV\u001b[39m\u001b[38;5;124m'\u001b[39m},\n",
      "                   \u001b[38;5;124m'\u001b[39m\u001b[38;5;124mparents_path\u001b[39m\u001b[38;5;124m'\u001b[39m: [\u001b[38;5;124m'\u001b[39m\u001b[38;5;124mhas__products\u001b[39m\u001b[38;5;124m'\u001b[39m, \u001b[38;5;124m'\u001b[39m\u001b[38;5;124mebel_relation\u001b[39m\u001b[38;5;124m'\u001b[39m, \u001b[38;5;124m'\u001b[39m\u001b[38;5;124mE\u001b[39m\u001b[38;5;124m'\u001b[39m]},\n",
      " \u001b[38;5;124m'\u001b[39m\u001b[38;5;124mhas__protein\u001b[39m\u001b[38;5;124m'\u001b[39m: {\u001b[38;5;124m'\u001b[39m\u001b[38;5;124mabstract\u001b[39m\u001b[38;5;124m'\u001b[39m: \u001b[38;5;28;01mFalse\u001b[39;00m,\n",
      "                  \u001b[38;5;124m'\u001b[39m\u001b[38;5;124mchildren\u001b[39m\u001b[38;5;124m'\u001b[39m: [],\n",
      "                  \u001b[38;5;124m'\u001b[39m\u001b[38;5;124min_out\u001b[39m\u001b[38;5;124m'\u001b[39m: {\u001b[38;5;124m'\u001b[39m\u001b[38;5;124min\u001b[39m\u001b[38;5;124m'\u001b[39m: \u001b[38;5;124m'\u001b[39m\u001b[38;5;124mprotein\u001b[39m\u001b[38;5;124m'\u001b[39m, \u001b[38;5;124m'\u001b[39m\u001b[38;5;124mout\u001b[39m\u001b[38;5;124m'\u001b[39m: \u001b[38;5;124m'\u001b[39m\u001b[38;5;124mV\u001b[39m\u001b[38;5;124m'\u001b[39m},\n",
      "                  \u001b[38;5;124m'\u001b[39m\u001b[38;5;124mparents_path\u001b[39m\u001b[38;5;124m'\u001b[39m: [\u001b[38;5;124m'\u001b[39m\u001b[38;5;124mhas__protein\u001b[39m\u001b[38;5;124m'\u001b[39m, \u001b[38;5;124m'\u001b[39m\u001b[38;5;124mebel_relation\u001b[39m\u001b[38;5;124m'\u001b[39m, \u001b[38;5;124m'\u001b[39m\u001b[38;5;124mE\u001b[39m\u001b[38;5;124m'\u001b[39m]},\n",
      " \u001b[38;5;124m'\u001b[39m\u001b[38;5;124mhas__reactants\u001b[39m\u001b[38;5;124m'\u001b[39m: {\u001b[38;5;124m'\u001b[39m\u001b[38;5;124mabstract\u001b[39m\u001b[38;5;124m'\u001b[39m: \u001b[38;5;28;01mFalse\u001b[39;00m,\n",
      "                    \u001b[38;5;124m'\u001b[39m\u001b[38;5;124mchildren\u001b[39m\u001b[38;5;124m'\u001b[39m: [],\n",
      "                    \u001b[38;5;124m'\u001b[39m\u001b[38;5;124min_out\u001b[39m\u001b[38;5;124m'\u001b[39m: {\u001b[38;5;124m'\u001b[39m\u001b[38;5;124min\u001b[39m\u001b[38;5;124m'\u001b[39m: \u001b[38;5;124m'\u001b[39m\u001b[38;5;124mreactants\u001b[39m\u001b[38;5;124m'\u001b[39m, \u001b[38;5;124m'\u001b[39m\u001b[38;5;124mout\u001b[39m\u001b[38;5;124m'\u001b[39m: \u001b[38;5;124m'\u001b[39m\u001b[38;5;124mV\u001b[39m\u001b[38;5;124m'\u001b[39m},\n",
      "                    \u001b[38;5;124m'\u001b[39m\u001b[38;5;124mparents_path\u001b[39m\u001b[38;5;124m'\u001b[39m: [\u001b[38;5;124m'\u001b[39m\u001b[38;5;124mhas__reactants\u001b[39m\u001b[38;5;124m'\u001b[39m, \u001b[38;5;124m'\u001b[39m\u001b[38;5;124mebel_relation\u001b[39m\u001b[38;5;124m'\u001b[39m, \u001b[38;5;124m'\u001b[39m\u001b[38;5;124mE\u001b[39m\u001b[38;5;124m'\u001b[39m]},\n",
      " \u001b[38;5;124m'\u001b[39m\u001b[38;5;124mhas__rna\u001b[39m\u001b[38;5;124m'\u001b[39m: {\u001b[38;5;124m'\u001b[39m\u001b[38;5;124mabstract\u001b[39m\u001b[38;5;124m'\u001b[39m: \u001b[38;5;28;01mFalse\u001b[39;00m,\n",
      "              \u001b[38;5;124m'\u001b[39m\u001b[38;5;124mchildren\u001b[39m\u001b[38;5;124m'\u001b[39m: [],\n",
      "              \u001b[38;5;124m'\u001b[39m\u001b[38;5;124min_out\u001b[39m\u001b[38;5;124m'\u001b[39m: {\u001b[38;5;124m'\u001b[39m\u001b[38;5;124min\u001b[39m\u001b[38;5;124m'\u001b[39m: \u001b[38;5;124m'\u001b[39m\u001b[38;5;124mrna\u001b[39m\u001b[38;5;124m'\u001b[39m, \u001b[38;5;124m'\u001b[39m\u001b[38;5;124mout\u001b[39m\u001b[38;5;124m'\u001b[39m: \u001b[38;5;124m'\u001b[39m\u001b[38;5;124mV\u001b[39m\u001b[38;5;124m'\u001b[39m},\n",
      "              \u001b[38;5;124m'\u001b[39m\u001b[38;5;124mparents_path\u001b[39m\u001b[38;5;124m'\u001b[39m: [\u001b[38;5;124m'\u001b[39m\u001b[38;5;124mhas__rna\u001b[39m\u001b[38;5;124m'\u001b[39m, \u001b[38;5;124m'\u001b[39m\u001b[38;5;124mebel_relation\u001b[39m\u001b[38;5;124m'\u001b[39m, \u001b[38;5;124m'\u001b[39m\u001b[38;5;124mE\u001b[39m\u001b[38;5;124m'\u001b[39m]},\n",
      " \u001b[38;5;124m'\u001b[39m\u001b[38;5;124mhas__to_location\u001b[39m\u001b[38;5;124m'\u001b[39m: {\u001b[38;5;124m'\u001b[39m\u001b[38;5;124mabstract\u001b[39m\u001b[38;5;124m'\u001b[39m: \u001b[38;5;28;01mFalse\u001b[39;00m,\n",
      "                      \u001b[38;5;124m'\u001b[39m\u001b[38;5;124mchildren\u001b[39m\u001b[38;5;124m'\u001b[39m: [],\n",
      "                      \u001b[38;5;124m'\u001b[39m\u001b[38;5;124min_out\u001b[39m\u001b[38;5;124m'\u001b[39m: {\u001b[38;5;124m'\u001b[39m\u001b[38;5;124min\u001b[39m\u001b[38;5;124m'\u001b[39m: \u001b[38;5;124m'\u001b[39m\u001b[38;5;124mto_location\u001b[39m\u001b[38;5;124m'\u001b[39m, \u001b[38;5;124m'\u001b[39m\u001b[38;5;124mout\u001b[39m\u001b[38;5;124m'\u001b[39m: \u001b[38;5;124m'\u001b[39m\u001b[38;5;124mV\u001b[39m\u001b[38;5;124m'\u001b[39m},\n",
      "                      \u001b[38;5;124m'\u001b[39m\u001b[38;5;124mparents_path\u001b[39m\u001b[38;5;124m'\u001b[39m: [\u001b[38;5;124m'\u001b[39m\u001b[38;5;124mhas__to_location\u001b[39m\u001b[38;5;124m'\u001b[39m,\n",
      "                                       \u001b[38;5;124m'\u001b[39m\u001b[38;5;124mebel_relation\u001b[39m\u001b[38;5;124m'\u001b[39m,\n",
      "                                       \u001b[38;5;124m'\u001b[39m\u001b[38;5;124mE\u001b[39m\u001b[38;5;124m'\u001b[39m]},\n",
      " \u001b[38;5;124m'\u001b[39m\u001b[38;5;124mhas__variant\u001b[39m\u001b[38;5;124m'\u001b[39m: {\u001b[38;5;124m'\u001b[39m\u001b[38;5;124mabstract\u001b[39m\u001b[38;5;124m'\u001b[39m: \u001b[38;5;28;01mFalse\u001b[39;00m,\n",
      "                  \u001b[38;5;124m'\u001b[39m\u001b[38;5;124mchildren\u001b[39m\u001b[38;5;124m'\u001b[39m: [],\n",
      "                  \u001b[38;5;124m'\u001b[39m\u001b[38;5;124min_out\u001b[39m\u001b[38;5;124m'\u001b[39m: {\u001b[38;5;124m'\u001b[39m\u001b[38;5;124min\u001b[39m\u001b[38;5;124m'\u001b[39m: \u001b[38;5;124m'\u001b[39m\u001b[38;5;124mvariant\u001b[39m\u001b[38;5;124m'\u001b[39m, \u001b[38;5;124m'\u001b[39m\u001b[38;5;124mout\u001b[39m\u001b[38;5;124m'\u001b[39m: \u001b[38;5;124m'\u001b[39m\u001b[38;5;124mV\u001b[39m\u001b[38;5;124m'\u001b[39m},\n",
      "                  \u001b[38;5;124m'\u001b[39m\u001b[38;5;124mparents_path\u001b[39m\u001b[38;5;124m'\u001b[39m: [\u001b[38;5;124m'\u001b[39m\u001b[38;5;124mhas__variant\u001b[39m\u001b[38;5;124m'\u001b[39m, \u001b[38;5;124m'\u001b[39m\u001b[38;5;124mebel_relation\u001b[39m\u001b[38;5;124m'\u001b[39m, \u001b[38;5;124m'\u001b[39m\u001b[38;5;124mE\u001b[39m\u001b[38;5;124m'\u001b[39m]},\n",
      " \u001b[38;5;124m'\u001b[39m\u001b[38;5;124mhas_action\u001b[39m\u001b[38;5;124m'\u001b[39m: {\u001b[38;5;124m'\u001b[39m\u001b[38;5;124mabstract\u001b[39m\u001b[38;5;124m'\u001b[39m: \u001b[38;5;28;01mTrue\u001b[39;00m,\n",
      "                \u001b[38;5;124m'\u001b[39m\u001b[38;5;124mchildren\u001b[39m\u001b[38;5;124m'\u001b[39m: [{\u001b[38;5;124m'\u001b[39m\u001b[38;5;124mabstract\u001b[39m\u001b[38;5;124m'\u001b[39m: \u001b[38;5;28;01mTrue\u001b[39;00m, \u001b[38;5;124m'\u001b[39m\u001b[38;5;124mname\u001b[39m\u001b[38;5;124m'\u001b[39m: \u001b[38;5;124m'\u001b[39m\u001b[38;5;124mhas_action_st\u001b[39m\u001b[38;5;124m'\u001b[39m},\n",
      "                             {\u001b[38;5;124m'\u001b[39m\u001b[38;5;124mabstract\u001b[39m\u001b[38;5;124m'\u001b[39m: \u001b[38;5;28;01mTrue\u001b[39;00m, \u001b[38;5;124m'\u001b[39m\u001b[38;5;124mname\u001b[39m\u001b[38;5;124m'\u001b[39m: \u001b[38;5;124m'\u001b[39m\u001b[38;5;124mhas_action_pc\u001b[39m\u001b[38;5;124m'\u001b[39m}],\n",
      "                \u001b[38;5;124m'\u001b[39m\u001b[38;5;124min_out\u001b[39m\u001b[38;5;124m'\u001b[39m: {\u001b[38;5;124m'\u001b[39m\u001b[38;5;124min\u001b[39m\u001b[38;5;124m'\u001b[39m: \u001b[38;5;124m'\u001b[39m\u001b[38;5;124mprotein\u001b[39m\u001b[38;5;124m'\u001b[39m, \u001b[38;5;124m'\u001b[39m\u001b[38;5;124mout\u001b[39m\u001b[38;5;124m'\u001b[39m: \u001b[38;5;124m'\u001b[39m\u001b[38;5;124mprotein\u001b[39m\u001b[38;5;124m'\u001b[39m},\n",
      "                \u001b[38;5;124m'\u001b[39m\u001b[38;5;124mparents_path\u001b[39m\u001b[38;5;124m'\u001b[39m: [\u001b[38;5;124m'\u001b[39m\u001b[38;5;124mhas_action\u001b[39m\u001b[38;5;124m'\u001b[39m, \u001b[38;5;124m'\u001b[39m\u001b[38;5;124mebel_relation\u001b[39m\u001b[38;5;124m'\u001b[39m, \u001b[38;5;124m'\u001b[39m\u001b[38;5;124mE\u001b[39m\u001b[38;5;124m'\u001b[39m]},\n",
      " \u001b[38;5;124m'\u001b[39m\u001b[38;5;124mhas_action_pc\u001b[39m\u001b[38;5;124m'\u001b[39m: {\u001b[38;5;124m'\u001b[39m\u001b[38;5;124mabstract\u001b[39m\u001b[38;5;124m'\u001b[39m: \u001b[38;5;28;01mTrue\u001b[39;00m,\n",
      "                   \u001b[38;5;124m'\u001b[39m\u001b[38;5;124mchildren\u001b[39m\u001b[38;5;124m'\u001b[39m: [{\u001b[38;5;124m'\u001b[39m\u001b[38;5;124mabstract\u001b[39m\u001b[38;5;124m'\u001b[39m: \u001b[38;5;28;01mFalse\u001b[39;00m,\n",
      "                                 \u001b[38;5;124m'\u001b[39m\u001b[38;5;124mname\u001b[39m\u001b[38;5;124m'\u001b[39m: \u001b[38;5;124m'\u001b[39m\u001b[38;5;124mcontrols_expression_of_pc\u001b[39m\u001b[38;5;124m'\u001b[39m},\n",
      "                                {\u001b[38;5;124m'\u001b[39m\u001b[38;5;124mabstract\u001b[39m\u001b[38;5;124m'\u001b[39m: \u001b[38;5;28;01mFalse\u001b[39;00m,\n",
      "                                 \u001b[38;5;124m'\u001b[39m\u001b[38;5;124mname\u001b[39m\u001b[38;5;124m'\u001b[39m: \u001b[38;5;124m'\u001b[39m\u001b[38;5;124mcontrols_transport_of_pc\u001b[39m\u001b[38;5;124m'\u001b[39m},\n",
      "                                {\u001b[38;5;124m'\u001b[39m\u001b[38;5;124mabstract\u001b[39m\u001b[38;5;124m'\u001b[39m: \u001b[38;5;28;01mFalse\u001b[39;00m,\n",
      "                                 \u001b[38;5;124m'\u001b[39m\u001b[38;5;124mname\u001b[39m\u001b[38;5;124m'\u001b[39m: \u001b[38;5;124m'\u001b[39m\u001b[38;5;124mcontrols_phosphorylation_of_pc\u001b[39m\u001b[38;5;124m'\u001b[39m}],\n",
      "                   \u001b[38;5;124m'\u001b[39m\u001b[38;5;124min_out\u001b[39m\u001b[38;5;124m'\u001b[39m: {\u001b[38;5;124m'\u001b[39m\u001b[38;5;124min\u001b[39m\u001b[38;5;124m'\u001b[39m: \u001b[38;5;124m'\u001b[39m\u001b[38;5;124mprotein\u001b[39m\u001b[38;5;124m'\u001b[39m, \u001b[38;5;124m'\u001b[39m\u001b[38;5;124mout\u001b[39m\u001b[38;5;124m'\u001b[39m: \u001b[38;5;124m'\u001b[39m\u001b[38;5;124mprotein\u001b[39m\u001b[38;5;124m'\u001b[39m},\n",
      "                   \u001b[38;5;124m'\u001b[39m\u001b[38;5;124mparents_path\u001b[39m\u001b[38;5;124m'\u001b[39m: [\u001b[38;5;124m'\u001b[39m\u001b[38;5;124mhas_action_pc\u001b[39m\u001b[38;5;124m'\u001b[39m,\n",
      "                                    \u001b[38;5;124m'\u001b[39m\u001b[38;5;124mhas_action\u001b[39m\u001b[38;5;124m'\u001b[39m,\n",
      "                                    \u001b[38;5;124m'\u001b[39m\u001b[38;5;124mebel_relation\u001b[39m\u001b[38;5;124m'\u001b[39m,\n",
      "                                    \u001b[38;5;124m'\u001b[39m\u001b[38;5;124mE\u001b[39m\u001b[38;5;124m'\u001b[39m]},\n",
      " \u001b[38;5;124m'\u001b[39m\u001b[38;5;124mhas_action_st\u001b[39m\u001b[38;5;124m'\u001b[39m: {\u001b[38;5;124m'\u001b[39m\u001b[38;5;124mabstract\u001b[39m\u001b[38;5;124m'\u001b[39m: \u001b[38;5;28;01mTrue\u001b[39;00m,\n",
      "                   \u001b[38;5;124m'\u001b[39m\u001b[38;5;124mchildren\u001b[39m\u001b[38;5;124m'\u001b[39m: [{\u001b[38;5;124m'\u001b[39m\u001b[38;5;124mabstract\u001b[39m\u001b[38;5;124m'\u001b[39m: \u001b[38;5;28;01mFalse\u001b[39;00m,\n",
      "                                 \u001b[38;5;124m'\u001b[39m\u001b[38;5;124mname\u001b[39m\u001b[38;5;124m'\u001b[39m: \u001b[38;5;124m'\u001b[39m\u001b[38;5;124mincreases_expression_of_st\u001b[39m\u001b[38;5;124m'\u001b[39m},\n",
      "                                {\u001b[38;5;124m'\u001b[39m\u001b[38;5;124mabstract\u001b[39m\u001b[38;5;124m'\u001b[39m: \u001b[38;5;28;01mFalse\u001b[39;00m, \u001b[38;5;124m'\u001b[39m\u001b[38;5;124mname\u001b[39m\u001b[38;5;124m'\u001b[39m: \u001b[38;5;124m'\u001b[39m\u001b[38;5;124mactivates_st\u001b[39m\u001b[38;5;124m'\u001b[39m},\n",
      "                                {\u001b[38;5;124m'\u001b[39m\u001b[38;5;124mabstract\u001b[39m\u001b[38;5;124m'\u001b[39m: \u001b[38;5;28;01mFalse\u001b[39;00m,\n",
      "                                 \u001b[38;5;124m'\u001b[39m\u001b[38;5;124mname\u001b[39m\u001b[38;5;124m'\u001b[39m: \u001b[38;5;124m'\u001b[39m\u001b[38;5;124mdecreases_expression_of_st\u001b[39m\u001b[38;5;124m'\u001b[39m},\n",
      "                                {\u001b[38;5;124m'\u001b[39m\u001b[38;5;124mabstract\u001b[39m\u001b[38;5;124m'\u001b[39m: \u001b[38;5;28;01mFalse\u001b[39;00m,\n",
      "                                 \u001b[38;5;124m'\u001b[39m\u001b[38;5;124mname\u001b[39m\u001b[38;5;124m'\u001b[39m: \u001b[38;5;124m'\u001b[39m\u001b[38;5;124mcontrols_pmod_of_st\u001b[39m\u001b[38;5;124m'\u001b[39m},\n",
      "                                {\u001b[38;5;124m'\u001b[39m\u001b[38;5;124mabstract\u001b[39m\u001b[38;5;124m'\u001b[39m: \u001b[38;5;28;01mTrue\u001b[39;00m,\n",
      "                                 \u001b[38;5;124m'\u001b[39m\u001b[38;5;124mname\u001b[39m\u001b[38;5;124m'\u001b[39m: \u001b[38;5;124m'\u001b[39m\u001b[38;5;124mcontrols_expression_of_st\u001b[39m\u001b[38;5;124m'\u001b[39m},\n",
      "                                {\u001b[38;5;124m'\u001b[39m\u001b[38;5;124mabstract\u001b[39m\u001b[38;5;124m'\u001b[39m: \u001b[38;5;28;01mFalse\u001b[39;00m, \u001b[38;5;124m'\u001b[39m\u001b[38;5;124mname\u001b[39m\u001b[38;5;124m'\u001b[39m: \u001b[38;5;124m'\u001b[39m\u001b[38;5;124minhibits_st\u001b[39m\u001b[38;5;124m'\u001b[39m}],\n",
      "                   \u001b[38;5;124m'\u001b[39m\u001b[38;5;124min_out\u001b[39m\u001b[38;5;124m'\u001b[39m: {\u001b[38;5;124m'\u001b[39m\u001b[38;5;124min\u001b[39m\u001b[38;5;124m'\u001b[39m: \u001b[38;5;124m'\u001b[39m\u001b[38;5;124mprotein\u001b[39m\u001b[38;5;124m'\u001b[39m, \u001b[38;5;124m'\u001b[39m\u001b[38;5;124mout\u001b[39m\u001b[38;5;124m'\u001b[39m: \u001b[38;5;124m'\u001b[39m\u001b[38;5;124mprotein\u001b[39m\u001b[38;5;124m'\u001b[39m},\n",
      "                   \u001b[38;5;124m'\u001b[39m\u001b[38;5;124mparents_path\u001b[39m\u001b[38;5;124m'\u001b[39m: [\u001b[38;5;124m'\u001b[39m\u001b[38;5;124mhas_action_st\u001b[39m\u001b[38;5;124m'\u001b[39m,\n",
      "                                    \u001b[38;5;124m'\u001b[39m\u001b[38;5;124mhas_action\u001b[39m\u001b[38;5;124m'\u001b[39m,\n",
      "                                    \u001b[38;5;124m'\u001b[39m\u001b[38;5;124mebel_relation\u001b[39m\u001b[38;5;124m'\u001b[39m,\n",
      "                                    \u001b[38;5;124m'\u001b[39m\u001b[38;5;124mE\u001b[39m\u001b[38;5;124m'\u001b[39m]},\n",
      " \u001b[38;5;124m'\u001b[39m\u001b[38;5;124mhas_downstream_snp\u001b[39m\u001b[38;5;124m'\u001b[39m: {\u001b[38;5;124m'\u001b[39m\u001b[38;5;124mabstract\u001b[39m\u001b[38;5;124m'\u001b[39m: \u001b[38;5;28;01mTrue\u001b[39;00m,\n",
      "                        \u001b[38;5;124m'\u001b[39m\u001b[38;5;124mchildren\u001b[39m\u001b[38;5;124m'\u001b[39m: [{\u001b[38;5;124m'\u001b[39m\u001b[38;5;124mabstract\u001b[39m\u001b[38;5;124m'\u001b[39m: \u001b[38;5;28;01mFalse\u001b[39;00m,\n",
      "                                      \u001b[38;5;124m'\u001b[39m\u001b[38;5;124mname\u001b[39m\u001b[38;5;124m'\u001b[39m: \u001b[38;5;124m'\u001b[39m\u001b[38;5;124mhas_downstream_snp_dgn\u001b[39m\u001b[38;5;124m'\u001b[39m},\n",
      "                                     {\u001b[38;5;124m'\u001b[39m\u001b[38;5;124mabstract\u001b[39m\u001b[38;5;124m'\u001b[39m: \u001b[38;5;28;01mFalse\u001b[39;00m,\n",
      "                                      \u001b[38;5;124m'\u001b[39m\u001b[38;5;124mname\u001b[39m\u001b[38;5;124m'\u001b[39m: \u001b[38;5;124m'\u001b[39m\u001b[38;5;124mhas_downstream_snp_gc\u001b[39m\u001b[38;5;124m'\u001b[39m},\n",
      "                                     {\u001b[38;5;124m'\u001b[39m\u001b[38;5;124mabstract\u001b[39m\u001b[38;5;124m'\u001b[39m: \u001b[38;5;28;01mFalse\u001b[39;00m,\n",
      "                                      \u001b[38;5;124m'\u001b[39m\u001b[38;5;124mname\u001b[39m\u001b[38;5;124m'\u001b[39m: \u001b[38;5;124m'\u001b[39m\u001b[38;5;124mhas_downstream_snp_cv\u001b[39m\u001b[38;5;124m'\u001b[39m}],\n",
      "                        \u001b[38;5;124m'\u001b[39m\u001b[38;5;124min_out\u001b[39m\u001b[38;5;124m'\u001b[39m: {\u001b[38;5;124m'\u001b[39m\u001b[38;5;124min\u001b[39m\u001b[38;5;124m'\u001b[39m: \u001b[38;5;124m'\u001b[39m\u001b[38;5;124msnp\u001b[39m\u001b[38;5;124m'\u001b[39m, \u001b[38;5;124m'\u001b[39m\u001b[38;5;124mout\u001b[39m\u001b[38;5;124m'\u001b[39m: \u001b[38;5;124m'\u001b[39m\u001b[38;5;124mgene\u001b[39m\u001b[38;5;124m'\u001b[39m},\n",
      "                        \u001b[38;5;124m'\u001b[39m\u001b[38;5;124mparents_path\u001b[39m\u001b[38;5;124m'\u001b[39m: [\u001b[38;5;124m'\u001b[39m\u001b[38;5;124mhas_downstream_snp\u001b[39m\u001b[38;5;124m'\u001b[39m,\n",
      "                                         \u001b[38;5;124m'\u001b[39m\u001b[38;5;124mhas_snp\u001b[39m\u001b[38;5;124m'\u001b[39m,\n",
      "                                         \u001b[38;5;124m'\u001b[39m\u001b[38;5;124mebel_relation\u001b[39m\u001b[38;5;124m'\u001b[39m,\n",
      "                                         \u001b[38;5;124m'\u001b[39m\u001b[38;5;124mE\u001b[39m\u001b[38;5;124m'\u001b[39m]},\n",
      " \u001b[38;5;124m'\u001b[39m\u001b[38;5;124mhas_downstream_snp_cv\u001b[39m\u001b[38;5;124m'\u001b[39m: {\u001b[38;5;124m'\u001b[39m\u001b[38;5;124mabstract\u001b[39m\u001b[38;5;124m'\u001b[39m: \u001b[38;5;28;01mFalse\u001b[39;00m,\n",
      "                           \u001b[38;5;124m'\u001b[39m\u001b[38;5;124mchildren\u001b[39m\u001b[38;5;124m'\u001b[39m: [],\n",
      "                           \u001b[38;5;124m'\u001b[39m\u001b[38;5;124min_out\u001b[39m\u001b[38;5;124m'\u001b[39m: {\u001b[38;5;124m'\u001b[39m\u001b[38;5;124min\u001b[39m\u001b[38;5;124m'\u001b[39m: \u001b[38;5;124m'\u001b[39m\u001b[38;5;124msnp\u001b[39m\u001b[38;5;124m'\u001b[39m, \u001b[38;5;124m'\u001b[39m\u001b[38;5;124mout\u001b[39m\u001b[38;5;124m'\u001b[39m: \u001b[38;5;124m'\u001b[39m\u001b[38;5;124mgene\u001b[39m\u001b[38;5;124m'\u001b[39m},\n",
      "                           \u001b[38;5;124m'\u001b[39m\u001b[38;5;124mparents_path\u001b[39m\u001b[38;5;124m'\u001b[39m: [\u001b[38;5;124m'\u001b[39m\u001b[38;5;124mhas_downstream_snp_cv\u001b[39m\u001b[38;5;124m'\u001b[39m,\n",
      "                                            \u001b[38;5;124m'\u001b[39m\u001b[38;5;124mhas_downstream_snp\u001b[39m\u001b[38;5;124m'\u001b[39m,\n",
      "                                            \u001b[38;5;124m'\u001b[39m\u001b[38;5;124mhas_snp\u001b[39m\u001b[38;5;124m'\u001b[39m,\n",
      "                                            \u001b[38;5;124m'\u001b[39m\u001b[38;5;124mebel_relation\u001b[39m\u001b[38;5;124m'\u001b[39m,\n",
      "                                            \u001b[38;5;124m'\u001b[39m\u001b[38;5;124mE\u001b[39m\u001b[38;5;124m'\u001b[39m]},\n",
      " \u001b[38;5;124m'\u001b[39m\u001b[38;5;124mhas_downstream_snp_dgn\u001b[39m\u001b[38;5;124m'\u001b[39m: {\u001b[38;5;124m'\u001b[39m\u001b[38;5;124mabstract\u001b[39m\u001b[38;5;124m'\u001b[39m: \u001b[38;5;28;01mFalse\u001b[39;00m,\n",
      "                            \u001b[38;5;124m'\u001b[39m\u001b[38;5;124mchildren\u001b[39m\u001b[38;5;124m'\u001b[39m: [],\n",
      "                            \u001b[38;5;124m'\u001b[39m\u001b[38;5;124min_out\u001b[39m\u001b[38;5;124m'\u001b[39m: {\u001b[38;5;124m'\u001b[39m\u001b[38;5;124min\u001b[39m\u001b[38;5;124m'\u001b[39m: \u001b[38;5;124m'\u001b[39m\u001b[38;5;124msnp\u001b[39m\u001b[38;5;124m'\u001b[39m, \u001b[38;5;124m'\u001b[39m\u001b[38;5;124mout\u001b[39m\u001b[38;5;124m'\u001b[39m: \u001b[38;5;124m'\u001b[39m\u001b[38;5;124mgene\u001b[39m\u001b[38;5;124m'\u001b[39m},\n",
      "                            \u001b[38;5;124m'\u001b[39m\u001b[38;5;124mparents_path\u001b[39m\u001b[38;5;124m'\u001b[39m: [\u001b[38;5;124m'\u001b[39m\u001b[38;5;124mhas_downstream_snp_dgn\u001b[39m\u001b[38;5;124m'\u001b[39m,\n",
      "                                             \u001b[38;5;124m'\u001b[39m\u001b[38;5;124mhas_downstream_snp\u001b[39m\u001b[38;5;124m'\u001b[39m,\n",
      "                                             \u001b[38;5;124m'\u001b[39m\u001b[38;5;124mhas_snp\u001b[39m\u001b[38;5;124m'\u001b[39m,\n",
      "                                             \u001b[38;5;124m'\u001b[39m\u001b[38;5;124mebel_relation\u001b[39m\u001b[38;5;124m'\u001b[39m,\n",
      "                                             \u001b[38;5;124m'\u001b[39m\u001b[38;5;124mE\u001b[39m\u001b[38;5;124m'\u001b[39m]},\n",
      " \u001b[38;5;124m'\u001b[39m\u001b[38;5;124mhas_downstream_snp_gc\u001b[39m\u001b[38;5;124m'\u001b[39m: {\u001b[38;5;124m'\u001b[39m\u001b[38;5;124mabstract\u001b[39m\u001b[38;5;124m'\u001b[39m: \u001b[38;5;28;01mFalse\u001b[39;00m,\n",
      "                           \u001b[38;5;124m'\u001b[39m\u001b[38;5;124mchildren\u001b[39m\u001b[38;5;124m'\u001b[39m: [],\n",
      "                           \u001b[38;5;124m'\u001b[39m\u001b[38;5;124min_out\u001b[39m\u001b[38;5;124m'\u001b[39m: {\u001b[38;5;124m'\u001b[39m\u001b[38;5;124min\u001b[39m\u001b[38;5;124m'\u001b[39m: \u001b[38;5;124m'\u001b[39m\u001b[38;5;124msnp\u001b[39m\u001b[38;5;124m'\u001b[39m, \u001b[38;5;124m'\u001b[39m\u001b[38;5;124mout\u001b[39m\u001b[38;5;124m'\u001b[39m: \u001b[38;5;124m'\u001b[39m\u001b[38;5;124mgene\u001b[39m\u001b[38;5;124m'\u001b[39m},\n",
      "                           \u001b[38;5;124m'\u001b[39m\u001b[38;5;124mparents_path\u001b[39m\u001b[38;5;124m'\u001b[39m: [\u001b[38;5;124m'\u001b[39m\u001b[38;5;124mhas_downstream_snp_gc\u001b[39m\u001b[38;5;124m'\u001b[39m,\n",
      "                                            \u001b[38;5;124m'\u001b[39m\u001b[38;5;124mhas_downstream_snp\u001b[39m\u001b[38;5;124m'\u001b[39m,\n",
      "                                            \u001b[38;5;124m'\u001b[39m\u001b[38;5;124mhas_snp\u001b[39m\u001b[38;5;124m'\u001b[39m,\n",
      "                                            \u001b[38;5;124m'\u001b[39m\u001b[38;5;124mebel_relation\u001b[39m\u001b[38;5;124m'\u001b[39m,\n",
      "                                            \u001b[38;5;124m'\u001b[39m\u001b[38;5;124mE\u001b[39m\u001b[38;5;124m'\u001b[39m]},\n",
      " \u001b[38;5;124m'\u001b[39m\u001b[38;5;124mhas_drug_target\u001b[39m\u001b[38;5;124m'\u001b[39m: {\u001b[38;5;124m'\u001b[39m\u001b[38;5;124mabstract\u001b[39m\u001b[38;5;124m'\u001b[39m: \u001b[38;5;28;01mTrue\u001b[39;00m,\n",
      "                     \u001b[38;5;124m'\u001b[39m\u001b[38;5;124mchildren\u001b[39m\u001b[38;5;124m'\u001b[39m: [{\u001b[38;5;124m'\u001b[39m\u001b[38;5;124mabstract\u001b[39m\u001b[38;5;124m'\u001b[39m: \u001b[38;5;28;01mFalse\u001b[39;00m,\n",
      "                                   \u001b[38;5;124m'\u001b[39m\u001b[38;5;124mname\u001b[39m\u001b[38;5;124m'\u001b[39m: \u001b[38;5;124m'\u001b[39m\u001b[38;5;124mhas_drug_target_db\u001b[39m\u001b[38;5;124m'\u001b[39m}],\n",
      "                     \u001b[38;5;124m'\u001b[39m\u001b[38;5;124mparents_path\u001b[39m\u001b[38;5;124m'\u001b[39m: [\u001b[38;5;124m'\u001b[39m\u001b[38;5;124mhas_drug_target\u001b[39m\u001b[38;5;124m'\u001b[39m, \u001b[38;5;124m'\u001b[39m\u001b[38;5;124mebel_relation\u001b[39m\u001b[38;5;124m'\u001b[39m, \u001b[38;5;124m'\u001b[39m\u001b[38;5;124mE\u001b[39m\u001b[38;5;124m'\u001b[39m]},\n",
      " \u001b[38;5;124m'\u001b[39m\u001b[38;5;124mhas_drug_target_db\u001b[39m\u001b[38;5;124m'\u001b[39m: {\u001b[38;5;124m'\u001b[39m\u001b[38;5;124mabstract\u001b[39m\u001b[38;5;124m'\u001b[39m: \u001b[38;5;28;01mFalse\u001b[39;00m,\n",
      "                        \u001b[38;5;124m'\u001b[39m\u001b[38;5;124mchildren\u001b[39m\u001b[38;5;124m'\u001b[39m: [],\n",
      "                        \u001b[38;5;124m'\u001b[39m\u001b[38;5;124min_out\u001b[39m\u001b[38;5;124m'\u001b[39m: {\u001b[38;5;124m'\u001b[39m\u001b[38;5;124min\u001b[39m\u001b[38;5;124m'\u001b[39m: \u001b[38;5;124m'\u001b[39m\u001b[38;5;124mprotein\u001b[39m\u001b[38;5;124m'\u001b[39m, \u001b[38;5;124m'\u001b[39m\u001b[38;5;124mout\u001b[39m\u001b[38;5;124m'\u001b[39m: \u001b[38;5;124m'\u001b[39m\u001b[38;5;124mdrug_db\u001b[39m\u001b[38;5;124m'\u001b[39m},\n",
      "                        \u001b[38;5;124m'\u001b[39m\u001b[38;5;124mparents_path\u001b[39m\u001b[38;5;124m'\u001b[39m: [\u001b[38;5;124m'\u001b[39m\u001b[38;5;124mhas_drug_target_db\u001b[39m\u001b[38;5;124m'\u001b[39m,\n",
      "                                         \u001b[38;5;124m'\u001b[39m\u001b[38;5;124mhas_drug_target\u001b[39m\u001b[38;5;124m'\u001b[39m,\n",
      "                                         \u001b[38;5;124m'\u001b[39m\u001b[38;5;124mebel_relation\u001b[39m\u001b[38;5;124m'\u001b[39m,\n",
      "                                         \u001b[38;5;124m'\u001b[39m\u001b[38;5;124mE\u001b[39m\u001b[38;5;124m'\u001b[39m]},\n",
      " \u001b[38;5;124m'\u001b[39m\u001b[38;5;124mhas_fragmented_protein\u001b[39m\u001b[38;5;124m'\u001b[39m: {\u001b[38;5;124m'\u001b[39m\u001b[38;5;124mabstract\u001b[39m\u001b[38;5;124m'\u001b[39m: \u001b[38;5;28;01mFalse\u001b[39;00m,\n",
      "                            \u001b[38;5;124m'\u001b[39m\u001b[38;5;124mchildren\u001b[39m\u001b[38;5;124m'\u001b[39m: [],\n",
      "                            \u001b[38;5;124m'\u001b[39m\u001b[38;5;124min_out\u001b[39m\u001b[38;5;124m'\u001b[39m: {\u001b[38;5;124m'\u001b[39m\u001b[38;5;124min\u001b[39m\u001b[38;5;124m'\u001b[39m: \u001b[38;5;124m'\u001b[39m\u001b[38;5;124mbel\u001b[39m\u001b[38;5;124m'\u001b[39m, \u001b[38;5;124m'\u001b[39m\u001b[38;5;124mout\u001b[39m\u001b[38;5;124m'\u001b[39m: \u001b[38;5;124m'\u001b[39m\u001b[38;5;124mbel\u001b[39m\u001b[38;5;124m'\u001b[39m},\n",
      "                            \u001b[38;5;124m'\u001b[39m\u001b[38;5;124mparents_path\u001b[39m\u001b[38;5;124m'\u001b[39m: [\u001b[38;5;124m'\u001b[39m\u001b[38;5;124mhas_fragmented_protein\u001b[39m\u001b[38;5;124m'\u001b[39m,\n",
      "                                             \u001b[38;5;124m'\u001b[39m\u001b[38;5;124mebel_relation\u001b[39m\u001b[38;5;124m'\u001b[39m,\n",
      "                                             \u001b[38;5;124m'\u001b[39m\u001b[38;5;124mE\u001b[39m\u001b[38;5;124m'\u001b[39m]},\n",
      " \u001b[38;5;124m'\u001b[39m\u001b[38;5;124mhas_located\u001b[39m\u001b[38;5;124m'\u001b[39m: {\u001b[38;5;124m'\u001b[39m\u001b[38;5;124mabstract\u001b[39m\u001b[38;5;124m'\u001b[39m: \u001b[38;5;28;01mTrue\u001b[39;00m,\n",
      "                 \u001b[38;5;124m'\u001b[39m\u001b[38;5;124mchildren\u001b[39m\u001b[38;5;124m'\u001b[39m: [{\u001b[38;5;124m'\u001b[39m\u001b[38;5;124mabstract\u001b[39m\u001b[38;5;124m'\u001b[39m: \u001b[38;5;28;01mFalse\u001b[39;00m,\n",
      "                               \u001b[38;5;124m'\u001b[39m\u001b[38;5;124mname\u001b[39m\u001b[38;5;124m'\u001b[39m: \u001b[38;5;124m'\u001b[39m\u001b[38;5;124mhas_located_protein\u001b[39m\u001b[38;5;124m'\u001b[39m},\n",
      "                              {\u001b[38;5;124m'\u001b[39m\u001b[38;5;124mabstract\u001b[39m\u001b[38;5;124m'\u001b[39m: \u001b[38;5;28;01mFalse\u001b[39;00m,\n",
      "                               \u001b[38;5;124m'\u001b[39m\u001b[38;5;124mname\u001b[39m\u001b[38;5;124m'\u001b[39m: \u001b[38;5;124m'\u001b[39m\u001b[38;5;124mhas_located_complex\u001b[39m\u001b[38;5;124m'\u001b[39m},\n",
      "                              {\u001b[38;5;124m'\u001b[39m\u001b[38;5;124mabstract\u001b[39m\u001b[38;5;124m'\u001b[39m: \u001b[38;5;28;01mFalse\u001b[39;00m, \u001b[38;5;124m'\u001b[39m\u001b[38;5;124mname\u001b[39m\u001b[38;5;124m'\u001b[39m: \u001b[38;5;124m'\u001b[39m\u001b[38;5;124mhas_located_rna\u001b[39m\u001b[38;5;124m'\u001b[39m},\n",
      "                              {\u001b[38;5;124m'\u001b[39m\u001b[38;5;124mabstract\u001b[39m\u001b[38;5;124m'\u001b[39m: \u001b[38;5;28;01mFalse\u001b[39;00m, \u001b[38;5;124m'\u001b[39m\u001b[38;5;124mname\u001b[39m\u001b[38;5;124m'\u001b[39m: \u001b[38;5;124m'\u001b[39m\u001b[38;5;124mhas_located_gene\u001b[39m\u001b[38;5;124m'\u001b[39m},\n",
      "                              {\u001b[38;5;124m'\u001b[39m\u001b[38;5;124mabstract\u001b[39m\u001b[38;5;124m'\u001b[39m: \u001b[38;5;28;01mFalse\u001b[39;00m,\n",
      "                               \u001b[38;5;124m'\u001b[39m\u001b[38;5;124mname\u001b[39m\u001b[38;5;124m'\u001b[39m: \u001b[38;5;124m'\u001b[39m\u001b[38;5;124mhas_located_abundance\u001b[39m\u001b[38;5;124m'\u001b[39m},\n",
      "                              {\u001b[38;5;124m'\u001b[39m\u001b[38;5;124mabstract\u001b[39m\u001b[38;5;124m'\u001b[39m: \u001b[38;5;28;01mFalse\u001b[39;00m,\n",
      "                               \u001b[38;5;124m'\u001b[39m\u001b[38;5;124mname\u001b[39m\u001b[38;5;124m'\u001b[39m: \u001b[38;5;124m'\u001b[39m\u001b[38;5;124mhas_located_population\u001b[39m\u001b[38;5;124m'\u001b[39m},\n",
      "                              {\u001b[38;5;124m'\u001b[39m\u001b[38;5;124mabstract\u001b[39m\u001b[38;5;124m'\u001b[39m: \u001b[38;5;28;01mFalse\u001b[39;00m,\n",
      "                               \u001b[38;5;124m'\u001b[39m\u001b[38;5;124mname\u001b[39m\u001b[38;5;124m'\u001b[39m: \u001b[38;5;124m'\u001b[39m\u001b[38;5;124mhas_located_micro_rna\u001b[39m\u001b[38;5;124m'\u001b[39m}],\n",
      "                 \u001b[38;5;124m'\u001b[39m\u001b[38;5;124mparents_path\u001b[39m\u001b[38;5;124m'\u001b[39m: [\u001b[38;5;124m'\u001b[39m\u001b[38;5;124mhas_located\u001b[39m\u001b[38;5;124m'\u001b[39m, \u001b[38;5;124m'\u001b[39m\u001b[38;5;124mebel_relation\u001b[39m\u001b[38;5;124m'\u001b[39m, \u001b[38;5;124m'\u001b[39m\u001b[38;5;124mE\u001b[39m\u001b[38;5;124m'\u001b[39m]},\n",
      " \u001b[38;5;124m'\u001b[39m\u001b[38;5;124mhas_located_abundance\u001b[39m\u001b[38;5;124m'\u001b[39m: {\u001b[38;5;124m'\u001b[39m\u001b[38;5;124mabstract\u001b[39m\u001b[38;5;124m'\u001b[39m: \u001b[38;5;28;01mFalse\u001b[39;00m,\n",
      "                           \u001b[38;5;124m'\u001b[39m\u001b[38;5;124mchildren\u001b[39m\u001b[38;5;124m'\u001b[39m: [],\n",
      "                           \u001b[38;5;124m'\u001b[39m\u001b[38;5;124min_out\u001b[39m\u001b[38;5;124m'\u001b[39m: {\u001b[38;5;124m'\u001b[39m\u001b[38;5;124min\u001b[39m\u001b[38;5;124m'\u001b[39m: \u001b[38;5;124m'\u001b[39m\u001b[38;5;124mabundance\u001b[39m\u001b[38;5;124m'\u001b[39m, \u001b[38;5;124m'\u001b[39m\u001b[38;5;124mout\u001b[39m\u001b[38;5;124m'\u001b[39m: \u001b[38;5;124m'\u001b[39m\u001b[38;5;124mabundance\u001b[39m\u001b[38;5;124m'\u001b[39m},\n",
      "                           \u001b[38;5;124m'\u001b[39m\u001b[38;5;124mparents_path\u001b[39m\u001b[38;5;124m'\u001b[39m: [\u001b[38;5;124m'\u001b[39m\u001b[38;5;124mhas_located_abundance\u001b[39m\u001b[38;5;124m'\u001b[39m,\n",
      "                                            \u001b[38;5;124m'\u001b[39m\u001b[38;5;124mhas_located\u001b[39m\u001b[38;5;124m'\u001b[39m,\n",
      "                                            \u001b[38;5;124m'\u001b[39m\u001b[38;5;124mebel_relation\u001b[39m\u001b[38;5;124m'\u001b[39m,\n",
      "                                            \u001b[38;5;124m'\u001b[39m\u001b[38;5;124mE\u001b[39m\u001b[38;5;124m'\u001b[39m]},\n",
      " \u001b[38;5;124m'\u001b[39m\u001b[38;5;124mhas_located_complex\u001b[39m\u001b[38;5;124m'\u001b[39m: {\u001b[38;5;124m'\u001b[39m\u001b[38;5;124mabstract\u001b[39m\u001b[38;5;124m'\u001b[39m: \u001b[38;5;28;01mFalse\u001b[39;00m,\n",
      "                         \u001b[38;5;124m'\u001b[39m\u001b[38;5;124mchildren\u001b[39m\u001b[38;5;124m'\u001b[39m: [],\n",
      "                         \u001b[38;5;124m'\u001b[39m\u001b[38;5;124min_out\u001b[39m\u001b[38;5;124m'\u001b[39m: {\u001b[38;5;124m'\u001b[39m\u001b[38;5;124min\u001b[39m\u001b[38;5;124m'\u001b[39m: \u001b[38;5;124m'\u001b[39m\u001b[38;5;124mcomplex\u001b[39m\u001b[38;5;124m'\u001b[39m, \u001b[38;5;124m'\u001b[39m\u001b[38;5;124mout\u001b[39m\u001b[38;5;124m'\u001b[39m: \u001b[38;5;124m'\u001b[39m\u001b[38;5;124mcomplex\u001b[39m\u001b[38;5;124m'\u001b[39m},\n",
      "                         \u001b[38;5;124m'\u001b[39m\u001b[38;5;124mparents_path\u001b[39m\u001b[38;5;124m'\u001b[39m: [\u001b[38;5;124m'\u001b[39m\u001b[38;5;124mhas_located_complex\u001b[39m\u001b[38;5;124m'\u001b[39m,\n",
      "                                          \u001b[38;5;124m'\u001b[39m\u001b[38;5;124mhas_located\u001b[39m\u001b[38;5;124m'\u001b[39m,\n",
      "                                          \u001b[38;5;124m'\u001b[39m\u001b[38;5;124mebel_relation\u001b[39m\u001b[38;5;124m'\u001b[39m,\n",
      "                                          \u001b[38;5;124m'\u001b[39m\u001b[38;5;124mE\u001b[39m\u001b[38;5;124m'\u001b[39m]},\n",
      " \u001b[38;5;124m'\u001b[39m\u001b[38;5;124mhas_located_gene\u001b[39m\u001b[38;5;124m'\u001b[39m: {\u001b[38;5;124m'\u001b[39m\u001b[38;5;124mabstract\u001b[39m\u001b[38;5;124m'\u001b[39m: \u001b[38;5;28;01mFalse\u001b[39;00m,\n",
      "                      \u001b[38;5;124m'\u001b[39m\u001b[38;5;124mchildren\u001b[39m\u001b[38;5;124m'\u001b[39m: [],\n",
      "                      \u001b[38;5;124m'\u001b[39m\u001b[38;5;124min_out\u001b[39m\u001b[38;5;124m'\u001b[39m: {\u001b[38;5;124m'\u001b[39m\u001b[38;5;124min\u001b[39m\u001b[38;5;124m'\u001b[39m: \u001b[38;5;124m'\u001b[39m\u001b[38;5;124mgene\u001b[39m\u001b[38;5;124m'\u001b[39m, \u001b[38;5;124m'\u001b[39m\u001b[38;5;124mout\u001b[39m\u001b[38;5;124m'\u001b[39m: \u001b[38;5;124m'\u001b[39m\u001b[38;5;124mgene\u001b[39m\u001b[38;5;124m'\u001b[39m},\n",
      "                      \u001b[38;5;124m'\u001b[39m\u001b[38;5;124mparents_path\u001b[39m\u001b[38;5;124m'\u001b[39m: [\u001b[38;5;124m'\u001b[39m\u001b[38;5;124mhas_located_gene\u001b[39m\u001b[38;5;124m'\u001b[39m,\n",
      "                                       \u001b[38;5;124m'\u001b[39m\u001b[38;5;124mhas_located\u001b[39m\u001b[38;5;124m'\u001b[39m,\n",
      "                                       \u001b[38;5;124m'\u001b[39m\u001b[38;5;124mebel_relation\u001b[39m\u001b[38;5;124m'\u001b[39m,\n",
      "                                       \u001b[38;5;124m'\u001b[39m\u001b[38;5;124mE\u001b[39m\u001b[38;5;124m'\u001b[39m]},\n",
      " \u001b[38;5;124m'\u001b[39m\u001b[38;5;124mhas_located_micro_rna\u001b[39m\u001b[38;5;124m'\u001b[39m: {\u001b[38;5;124m'\u001b[39m\u001b[38;5;124mabstract\u001b[39m\u001b[38;5;124m'\u001b[39m: \u001b[38;5;28;01mFalse\u001b[39;00m,\n",
      "                           \u001b[38;5;124m'\u001b[39m\u001b[38;5;124mchildren\u001b[39m\u001b[38;5;124m'\u001b[39m: [],\n",
      "                           \u001b[38;5;124m'\u001b[39m\u001b[38;5;124min_out\u001b[39m\u001b[38;5;124m'\u001b[39m: {\u001b[38;5;124m'\u001b[39m\u001b[38;5;124min\u001b[39m\u001b[38;5;124m'\u001b[39m: \u001b[38;5;124m'\u001b[39m\u001b[38;5;124mmicro_rna\u001b[39m\u001b[38;5;124m'\u001b[39m, \u001b[38;5;124m'\u001b[39m\u001b[38;5;124mout\u001b[39m\u001b[38;5;124m'\u001b[39m: \u001b[38;5;124m'\u001b[39m\u001b[38;5;124mmicro_rna\u001b[39m\u001b[38;5;124m'\u001b[39m},\n",
      "                           \u001b[38;5;124m'\u001b[39m\u001b[38;5;124mparents_path\u001b[39m\u001b[38;5;124m'\u001b[39m: [\u001b[38;5;124m'\u001b[39m\u001b[38;5;124mhas_located_micro_rna\u001b[39m\u001b[38;5;124m'\u001b[39m,\n",
      "                                            \u001b[38;5;124m'\u001b[39m\u001b[38;5;124mhas_located\u001b[39m\u001b[38;5;124m'\u001b[39m,\n",
      "                                            \u001b[38;5;124m'\u001b[39m\u001b[38;5;124mebel_relation\u001b[39m\u001b[38;5;124m'\u001b[39m,\n",
      "                                            \u001b[38;5;124m'\u001b[39m\u001b[38;5;124mE\u001b[39m\u001b[38;5;124m'\u001b[39m]},\n",
      " \u001b[38;5;124m'\u001b[39m\u001b[38;5;124mhas_located_population\u001b[39m\u001b[38;5;124m'\u001b[39m: {\u001b[38;5;124m'\u001b[39m\u001b[38;5;124mabstract\u001b[39m\u001b[38;5;124m'\u001b[39m: \u001b[38;5;28;01mFalse\u001b[39;00m,\n",
      "                            \u001b[38;5;124m'\u001b[39m\u001b[38;5;124mchildren\u001b[39m\u001b[38;5;124m'\u001b[39m: [],\n",
      "                            \u001b[38;5;124m'\u001b[39m\u001b[38;5;124min_out\u001b[39m\u001b[38;5;124m'\u001b[39m: {\u001b[38;5;124m'\u001b[39m\u001b[38;5;124min\u001b[39m\u001b[38;5;124m'\u001b[39m: \u001b[38;5;124m'\u001b[39m\u001b[38;5;124mpopulation\u001b[39m\u001b[38;5;124m'\u001b[39m, \u001b[38;5;124m'\u001b[39m\u001b[38;5;124mout\u001b[39m\u001b[38;5;124m'\u001b[39m: \u001b[38;5;124m'\u001b[39m\u001b[38;5;124mpopulation\u001b[39m\u001b[38;5;124m'\u001b[39m},\n",
      "                            \u001b[38;5;124m'\u001b[39m\u001b[38;5;124mparents_path\u001b[39m\u001b[38;5;124m'\u001b[39m: [\u001b[38;5;124m'\u001b[39m\u001b[38;5;124mhas_located_population\u001b[39m\u001b[38;5;124m'\u001b[39m,\n",
      "                                             \u001b[38;5;124m'\u001b[39m\u001b[38;5;124mhas_located\u001b[39m\u001b[38;5;124m'\u001b[39m,\n",
      "                                             \u001b[38;5;124m'\u001b[39m\u001b[38;5;124mebel_relation\u001b[39m\u001b[38;5;124m'\u001b[39m,\n",
      "                                             \u001b[38;5;124m'\u001b[39m\u001b[38;5;124mE\u001b[39m\u001b[38;5;124m'\u001b[39m]},\n",
      " \u001b[38;5;124m'\u001b[39m\u001b[38;5;124mhas_located_protein\u001b[39m\u001b[38;5;124m'\u001b[39m: {\u001b[38;5;124m'\u001b[39m\u001b[38;5;124mabstract\u001b[39m\u001b[38;5;124m'\u001b[39m: \u001b[38;5;28;01mFalse\u001b[39;00m,\n",
      "                         \u001b[38;5;124m'\u001b[39m\u001b[38;5;124mchildren\u001b[39m\u001b[38;5;124m'\u001b[39m: [],\n",
      "                         \u001b[38;5;124m'\u001b[39m\u001b[38;5;124min_out\u001b[39m\u001b[38;5;124m'\u001b[39m: {\u001b[38;5;124m'\u001b[39m\u001b[38;5;124min\u001b[39m\u001b[38;5;124m'\u001b[39m: \u001b[38;5;124m'\u001b[39m\u001b[38;5;124mprotein\u001b[39m\u001b[38;5;124m'\u001b[39m, \u001b[38;5;124m'\u001b[39m\u001b[38;5;124mout\u001b[39m\u001b[38;5;124m'\u001b[39m: \u001b[38;5;124m'\u001b[39m\u001b[38;5;124mprotein\u001b[39m\u001b[38;5;124m'\u001b[39m},\n",
      "                         \u001b[38;5;124m'\u001b[39m\u001b[38;5;124mparents_path\u001b[39m\u001b[38;5;124m'\u001b[39m: [\u001b[38;5;124m'\u001b[39m\u001b[38;5;124mhas_located_protein\u001b[39m\u001b[38;5;124m'\u001b[39m,\n",
      "                                          \u001b[38;5;124m'\u001b[39m\u001b[38;5;124mhas_located\u001b[39m\u001b[38;5;124m'\u001b[39m,\n",
      "                                          \u001b[38;5;124m'\u001b[39m\u001b[38;5;124mebel_relation\u001b[39m\u001b[38;5;124m'\u001b[39m,\n",
      "                                          \u001b[38;5;124m'\u001b[39m\u001b[38;5;124mE\u001b[39m\u001b[38;5;124m'\u001b[39m]},\n",
      " \u001b[38;5;124m'\u001b[39m\u001b[38;5;124mhas_located_rna\u001b[39m\u001b[38;5;124m'\u001b[39m: {\u001b[38;5;124m'\u001b[39m\u001b[38;5;124mabstract\u001b[39m\u001b[38;5;124m'\u001b[39m: \u001b[38;5;28;01mFalse\u001b[39;00m,\n",
      "                     \u001b[38;5;124m'\u001b[39m\u001b[38;5;124mchildren\u001b[39m\u001b[38;5;124m'\u001b[39m: [],\n",
      "                     \u001b[38;5;124m'\u001b[39m\u001b[38;5;124min_out\u001b[39m\u001b[38;5;124m'\u001b[39m: {\u001b[38;5;124m'\u001b[39m\u001b[38;5;124min\u001b[39m\u001b[38;5;124m'\u001b[39m: \u001b[38;5;124m'\u001b[39m\u001b[38;5;124mrna\u001b[39m\u001b[38;5;124m'\u001b[39m, \u001b[38;5;124m'\u001b[39m\u001b[38;5;124mout\u001b[39m\u001b[38;5;124m'\u001b[39m: \u001b[38;5;124m'\u001b[39m\u001b[38;5;124mrna\u001b[39m\u001b[38;5;124m'\u001b[39m},\n",
      "                     \u001b[38;5;124m'\u001b[39m\u001b[38;5;124mparents_path\u001b[39m\u001b[38;5;124m'\u001b[39m: [\u001b[38;5;124m'\u001b[39m\u001b[38;5;124mhas_located_rna\u001b[39m\u001b[38;5;124m'\u001b[39m,\n",
      "                                      \u001b[38;5;124m'\u001b[39m\u001b[38;5;124mhas_located\u001b[39m\u001b[38;5;124m'\u001b[39m,\n",
      "                                      \u001b[38;5;124m'\u001b[39m\u001b[38;5;124mebel_relation\u001b[39m\u001b[38;5;124m'\u001b[39m,\n",
      "                                      \u001b[38;5;124m'\u001b[39m\u001b[38;5;124mE\u001b[39m\u001b[38;5;124m'\u001b[39m]},\n",
      " \u001b[38;5;124m'\u001b[39m\u001b[38;5;124mhas_mapped_snp\u001b[39m\u001b[38;5;124m'\u001b[39m: {\u001b[38;5;124m'\u001b[39m\u001b[38;5;124mabstract\u001b[39m\u001b[38;5;124m'\u001b[39m: \u001b[38;5;28;01mTrue\u001b[39;00m,\n",
      "                    \u001b[38;5;124m'\u001b[39m\u001b[38;5;124mchildren\u001b[39m\u001b[38;5;124m'\u001b[39m: [{\u001b[38;5;124m'\u001b[39m\u001b[38;5;124mabstract\u001b[39m\u001b[38;5;124m'\u001b[39m: \u001b[38;5;28;01mFalse\u001b[39;00m,\n",
      "                                  \u001b[38;5;124m'\u001b[39m\u001b[38;5;124mname\u001b[39m\u001b[38;5;124m'\u001b[39m: \u001b[38;5;124m'\u001b[39m\u001b[38;5;124mhas_mapped_snp_cv\u001b[39m\u001b[38;5;124m'\u001b[39m},\n",
      "                                 {\u001b[38;5;124m'\u001b[39m\u001b[38;5;124mabstract\u001b[39m\u001b[38;5;124m'\u001b[39m: \u001b[38;5;28;01mFalse\u001b[39;00m,\n",
      "                                  \u001b[38;5;124m'\u001b[39m\u001b[38;5;124mname\u001b[39m\u001b[38;5;124m'\u001b[39m: \u001b[38;5;124m'\u001b[39m\u001b[38;5;124mhas_mapped_snp_dgn\u001b[39m\u001b[38;5;124m'\u001b[39m},\n",
      "                                 {\u001b[38;5;124m'\u001b[39m\u001b[38;5;124mabstract\u001b[39m\u001b[38;5;124m'\u001b[39m: \u001b[38;5;28;01mFalse\u001b[39;00m,\n",
      "                                  \u001b[38;5;124m'\u001b[39m\u001b[38;5;124mname\u001b[39m\u001b[38;5;124m'\u001b[39m: \u001b[38;5;124m'\u001b[39m\u001b[38;5;124mhas_mapped_snp_gc\u001b[39m\u001b[38;5;124m'\u001b[39m}],\n",
      "                    \u001b[38;5;124m'\u001b[39m\u001b[38;5;124min_out\u001b[39m\u001b[38;5;124m'\u001b[39m: {\u001b[38;5;124m'\u001b[39m\u001b[38;5;124min\u001b[39m\u001b[38;5;124m'\u001b[39m: \u001b[38;5;124m'\u001b[39m\u001b[38;5;124msnp\u001b[39m\u001b[38;5;124m'\u001b[39m, \u001b[38;5;124m'\u001b[39m\u001b[38;5;124mout\u001b[39m\u001b[38;5;124m'\u001b[39m: \u001b[38;5;124m'\u001b[39m\u001b[38;5;124mgene\u001b[39m\u001b[38;5;124m'\u001b[39m},\n",
      "                    \u001b[38;5;124m'\u001b[39m\u001b[38;5;124mparents_path\u001b[39m\u001b[38;5;124m'\u001b[39m: [\u001b[38;5;124m'\u001b[39m\u001b[38;5;124mhas_mapped_snp\u001b[39m\u001b[38;5;124m'\u001b[39m,\n",
      "                                     \u001b[38;5;124m'\u001b[39m\u001b[38;5;124mhas_snp\u001b[39m\u001b[38;5;124m'\u001b[39m,\n",
      "                                     \u001b[38;5;124m'\u001b[39m\u001b[38;5;124mebel_relation\u001b[39m\u001b[38;5;124m'\u001b[39m,\n",
      "                                     \u001b[38;5;124m'\u001b[39m\u001b[38;5;124mE\u001b[39m\u001b[38;5;124m'\u001b[39m]},\n",
      " \u001b[38;5;124m'\u001b[39m\u001b[38;5;124mhas_mapped_snp_cv\u001b[39m\u001b[38;5;124m'\u001b[39m: {\u001b[38;5;124m'\u001b[39m\u001b[38;5;124mabstract\u001b[39m\u001b[38;5;124m'\u001b[39m: \u001b[38;5;28;01mFalse\u001b[39;00m,\n",
      "                       \u001b[38;5;124m'\u001b[39m\u001b[38;5;124mchildren\u001b[39m\u001b[38;5;124m'\u001b[39m: [],\n",
      "                       \u001b[38;5;124m'\u001b[39m\u001b[38;5;124min_out\u001b[39m\u001b[38;5;124m'\u001b[39m: {\u001b[38;5;124m'\u001b[39m\u001b[38;5;124min\u001b[39m\u001b[38;5;124m'\u001b[39m: \u001b[38;5;124m'\u001b[39m\u001b[38;5;124msnp\u001b[39m\u001b[38;5;124m'\u001b[39m, \u001b[38;5;124m'\u001b[39m\u001b[38;5;124mout\u001b[39m\u001b[38;5;124m'\u001b[39m: \u001b[38;5;124m'\u001b[39m\u001b[38;5;124mgene\u001b[39m\u001b[38;5;124m'\u001b[39m},\n",
      "                       \u001b[38;5;124m'\u001b[39m\u001b[38;5;124mparents_path\u001b[39m\u001b[38;5;124m'\u001b[39m: [\u001b[38;5;124m'\u001b[39m\u001b[38;5;124mhas_mapped_snp_cv\u001b[39m\u001b[38;5;124m'\u001b[39m,\n",
      "                                        \u001b[38;5;124m'\u001b[39m\u001b[38;5;124mhas_mapped_snp\u001b[39m\u001b[38;5;124m'\u001b[39m,\n",
      "                                        \u001b[38;5;124m'\u001b[39m\u001b[38;5;124mhas_snp\u001b[39m\u001b[38;5;124m'\u001b[39m,\n",
      "                                        \u001b[38;5;124m'\u001b[39m\u001b[38;5;124mebel_relation\u001b[39m\u001b[38;5;124m'\u001b[39m,\n",
      "                                        \u001b[38;5;124m'\u001b[39m\u001b[38;5;124mE\u001b[39m\u001b[38;5;124m'\u001b[39m]},\n",
      " \u001b[38;5;124m'\u001b[39m\u001b[38;5;124mhas_mapped_snp_dgn\u001b[39m\u001b[38;5;124m'\u001b[39m: {\u001b[38;5;124m'\u001b[39m\u001b[38;5;124mabstract\u001b[39m\u001b[38;5;124m'\u001b[39m: \u001b[38;5;28;01mFalse\u001b[39;00m,\n",
      "                        \u001b[38;5;124m'\u001b[39m\u001b[38;5;124mchildren\u001b[39m\u001b[38;5;124m'\u001b[39m: [],\n",
      "                        \u001b[38;5;124m'\u001b[39m\u001b[38;5;124min_out\u001b[39m\u001b[38;5;124m'\u001b[39m: {\u001b[38;5;124m'\u001b[39m\u001b[38;5;124min\u001b[39m\u001b[38;5;124m'\u001b[39m: \u001b[38;5;124m'\u001b[39m\u001b[38;5;124msnp\u001b[39m\u001b[38;5;124m'\u001b[39m, \u001b[38;5;124m'\u001b[39m\u001b[38;5;124mout\u001b[39m\u001b[38;5;124m'\u001b[39m: \u001b[38;5;124m'\u001b[39m\u001b[38;5;124mgene\u001b[39m\u001b[38;5;124m'\u001b[39m},\n",
      "                        \u001b[38;5;124m'\u001b[39m\u001b[38;5;124mparents_path\u001b[39m\u001b[38;5;124m'\u001b[39m: [\u001b[38;5;124m'\u001b[39m\u001b[38;5;124mhas_mapped_snp_dgn\u001b[39m\u001b[38;5;124m'\u001b[39m,\n",
      "                                         \u001b[38;5;124m'\u001b[39m\u001b[38;5;124mhas_mapped_snp\u001b[39m\u001b[38;5;124m'\u001b[39m,\n",
      "                                         \u001b[38;5;124m'\u001b[39m\u001b[38;5;124mhas_snp\u001b[39m\u001b[38;5;124m'\u001b[39m,\n",
      "                                         \u001b[38;5;124m'\u001b[39m\u001b[38;5;124mebel_relation\u001b[39m\u001b[38;5;124m'\u001b[39m,\n",
      "                                         \u001b[38;5;124m'\u001b[39m\u001b[38;5;124mE\u001b[39m\u001b[38;5;124m'\u001b[39m]},\n",
      " \u001b[38;5;124m'\u001b[39m\u001b[38;5;124mhas_mapped_snp_gc\u001b[39m\u001b[38;5;124m'\u001b[39m: {\u001b[38;5;124m'\u001b[39m\u001b[38;5;124mabstract\u001b[39m\u001b[38;5;124m'\u001b[39m: \u001b[38;5;28;01mFalse\u001b[39;00m,\n",
      "                       \u001b[38;5;124m'\u001b[39m\u001b[38;5;124mchildren\u001b[39m\u001b[38;5;124m'\u001b[39m: [],\n",
      "                       \u001b[38;5;124m'\u001b[39m\u001b[38;5;124min_out\u001b[39m\u001b[38;5;124m'\u001b[39m: {\u001b[38;5;124m'\u001b[39m\u001b[38;5;124min\u001b[39m\u001b[38;5;124m'\u001b[39m: \u001b[38;5;124m'\u001b[39m\u001b[38;5;124msnp\u001b[39m\u001b[38;5;124m'\u001b[39m, \u001b[38;5;124m'\u001b[39m\u001b[38;5;124mout\u001b[39m\u001b[38;5;124m'\u001b[39m: \u001b[38;5;124m'\u001b[39m\u001b[38;5;124mgene\u001b[39m\u001b[38;5;124m'\u001b[39m},\n",
      "                       \u001b[38;5;124m'\u001b[39m\u001b[38;5;124mparents_path\u001b[39m\u001b[38;5;124m'\u001b[39m: [\u001b[38;5;124m'\u001b[39m\u001b[38;5;124mhas_mapped_snp_gc\u001b[39m\u001b[38;5;124m'\u001b[39m,\n",
      "                                        \u001b[38;5;124m'\u001b[39m\u001b[38;5;124mhas_mapped_snp\u001b[39m\u001b[38;5;124m'\u001b[39m,\n",
      "                                        \u001b[38;5;124m'\u001b[39m\u001b[38;5;124mhas_snp\u001b[39m\u001b[38;5;124m'\u001b[39m,\n",
      "                                        \u001b[38;5;124m'\u001b[39m\u001b[38;5;124mebel_relation\u001b[39m\u001b[38;5;124m'\u001b[39m,\n",
      "                                        \u001b[38;5;124m'\u001b[39m\u001b[38;5;124mE\u001b[39m\u001b[38;5;124m'\u001b[39m]},\n",
      " \u001b[38;5;124m'\u001b[39m\u001b[38;5;124mhas_mirgene_target\u001b[39m\u001b[38;5;124m'\u001b[39m: {\u001b[38;5;124m'\u001b[39m\u001b[38;5;124mabstract\u001b[39m\u001b[38;5;124m'\u001b[39m: \u001b[38;5;28;01mFalse\u001b[39;00m,\n",
      "                        \u001b[38;5;124m'\u001b[39m\u001b[38;5;124mchildren\u001b[39m\u001b[38;5;124m'\u001b[39m: [],\n",
      "                        \u001b[38;5;124m'\u001b[39m\u001b[38;5;124min_out\u001b[39m\u001b[38;5;124m'\u001b[39m: {\u001b[38;5;124m'\u001b[39m\u001b[38;5;124min\u001b[39m\u001b[38;5;124m'\u001b[39m: \u001b[38;5;124m'\u001b[39m\u001b[38;5;124mrna\u001b[39m\u001b[38;5;124m'\u001b[39m, \u001b[38;5;124m'\u001b[39m\u001b[38;5;124mout\u001b[39m\u001b[38;5;124m'\u001b[39m: \u001b[38;5;124m'\u001b[39m\u001b[38;5;124mmicro_rna\u001b[39m\u001b[38;5;124m'\u001b[39m},\n",
      "                        \u001b[38;5;124m'\u001b[39m\u001b[38;5;124mparents_path\u001b[39m\u001b[38;5;124m'\u001b[39m: [\u001b[38;5;124m'\u001b[39m\u001b[38;5;124mhas_mirgene_target\u001b[39m\u001b[38;5;124m'\u001b[39m,\n",
      "                                         \u001b[38;5;124m'\u001b[39m\u001b[38;5;124mebel_relation\u001b[39m\u001b[38;5;124m'\u001b[39m,\n",
      "                                         \u001b[38;5;124m'\u001b[39m\u001b[38;5;124mE\u001b[39m\u001b[38;5;124m'\u001b[39m]},\n",
      " \u001b[38;5;124m'\u001b[39m\u001b[38;5;124mhas_modified\u001b[39m\u001b[38;5;124m'\u001b[39m: {\u001b[38;5;124m'\u001b[39m\u001b[38;5;124mabstract\u001b[39m\u001b[38;5;124m'\u001b[39m: \u001b[38;5;28;01mTrue\u001b[39;00m,\n",
      "                  \u001b[38;5;124m'\u001b[39m\u001b[38;5;124mchildren\u001b[39m\u001b[38;5;124m'\u001b[39m: [{\u001b[38;5;124m'\u001b[39m\u001b[38;5;124mabstract\u001b[39m\u001b[38;5;124m'\u001b[39m: \u001b[38;5;28;01mFalse\u001b[39;00m,\n",
      "                                \u001b[38;5;124m'\u001b[39m\u001b[38;5;124mname\u001b[39m\u001b[38;5;124m'\u001b[39m: \u001b[38;5;124m'\u001b[39m\u001b[38;5;124mhas_modified_protein\u001b[39m\u001b[38;5;124m'\u001b[39m},\n",
      "                               {\u001b[38;5;124m'\u001b[39m\u001b[38;5;124mabstract\u001b[39m\u001b[38;5;124m'\u001b[39m: \u001b[38;5;28;01mFalse\u001b[39;00m,\n",
      "                                \u001b[38;5;124m'\u001b[39m\u001b[38;5;124mname\u001b[39m\u001b[38;5;124m'\u001b[39m: \u001b[38;5;124m'\u001b[39m\u001b[38;5;124mhas_modified_gene\u001b[39m\u001b[38;5;124m'\u001b[39m}],\n",
      "                  \u001b[38;5;124m'\u001b[39m\u001b[38;5;124mparents_path\u001b[39m\u001b[38;5;124m'\u001b[39m: [\u001b[38;5;124m'\u001b[39m\u001b[38;5;124mhas_modified\u001b[39m\u001b[38;5;124m'\u001b[39m, \u001b[38;5;124m'\u001b[39m\u001b[38;5;124mebel_relation\u001b[39m\u001b[38;5;124m'\u001b[39m, \u001b[38;5;124m'\u001b[39m\u001b[38;5;124mE\u001b[39m\u001b[38;5;124m'\u001b[39m]},\n",
      " \u001b[38;5;124m'\u001b[39m\u001b[38;5;124mhas_modified_gene\u001b[39m\u001b[38;5;124m'\u001b[39m: {\u001b[38;5;124m'\u001b[39m\u001b[38;5;124mabstract\u001b[39m\u001b[38;5;124m'\u001b[39m: \u001b[38;5;28;01mFalse\u001b[39;00m,\n",
      "                       \u001b[38;5;124m'\u001b[39m\u001b[38;5;124mchildren\u001b[39m\u001b[38;5;124m'\u001b[39m: [],\n",
      "                       \u001b[38;5;124m'\u001b[39m\u001b[38;5;124min_out\u001b[39m\u001b[38;5;124m'\u001b[39m: {\u001b[38;5;124m'\u001b[39m\u001b[38;5;124min\u001b[39m\u001b[38;5;124m'\u001b[39m: \u001b[38;5;124m'\u001b[39m\u001b[38;5;124mgene\u001b[39m\u001b[38;5;124m'\u001b[39m, \u001b[38;5;124m'\u001b[39m\u001b[38;5;124mout\u001b[39m\u001b[38;5;124m'\u001b[39m: \u001b[38;5;124m'\u001b[39m\u001b[38;5;124mgene\u001b[39m\u001b[38;5;124m'\u001b[39m},\n",
      "                       \u001b[38;5;124m'\u001b[39m\u001b[38;5;124mparents_path\u001b[39m\u001b[38;5;124m'\u001b[39m: [\u001b[38;5;124m'\u001b[39m\u001b[38;5;124mhas_modified_gene\u001b[39m\u001b[38;5;124m'\u001b[39m,\n",
      "                                        \u001b[38;5;124m'\u001b[39m\u001b[38;5;124mhas_modified\u001b[39m\u001b[38;5;124m'\u001b[39m,\n",
      "                                        \u001b[38;5;124m'\u001b[39m\u001b[38;5;124mebel_relation\u001b[39m\u001b[38;5;124m'\u001b[39m,\n",
      "                                        \u001b[38;5;124m'\u001b[39m\u001b[38;5;124mE\u001b[39m\u001b[38;5;124m'\u001b[39m]},\n",
      " \u001b[38;5;124m'\u001b[39m\u001b[38;5;124mhas_modified_protein\u001b[39m\u001b[38;5;124m'\u001b[39m: {\u001b[38;5;124m'\u001b[39m\u001b[38;5;124mabstract\u001b[39m\u001b[38;5;124m'\u001b[39m: \u001b[38;5;28;01mFalse\u001b[39;00m,\n",
      "                          \u001b[38;5;124m'\u001b[39m\u001b[38;5;124mchildren\u001b[39m\u001b[38;5;124m'\u001b[39m: [],\n",
      "                          \u001b[38;5;124m'\u001b[39m\u001b[38;5;124min_out\u001b[39m\u001b[38;5;124m'\u001b[39m: {\u001b[38;5;124m'\u001b[39m\u001b[38;5;124min\u001b[39m\u001b[38;5;124m'\u001b[39m: \u001b[38;5;124m'\u001b[39m\u001b[38;5;124mprotein\u001b[39m\u001b[38;5;124m'\u001b[39m, \u001b[38;5;124m'\u001b[39m\u001b[38;5;124mout\u001b[39m\u001b[38;5;124m'\u001b[39m: \u001b[38;5;124m'\u001b[39m\u001b[38;5;124mprotein\u001b[39m\u001b[38;5;124m'\u001b[39m},\n",
      "                          \u001b[38;5;124m'\u001b[39m\u001b[38;5;124mparents_path\u001b[39m\u001b[38;5;124m'\u001b[39m: [\u001b[38;5;124m'\u001b[39m\u001b[38;5;124mhas_modified_protein\u001b[39m\u001b[38;5;124m'\u001b[39m,\n",
      "                                           \u001b[38;5;124m'\u001b[39m\u001b[38;5;124mhas_modified\u001b[39m\u001b[38;5;124m'\u001b[39m,\n",
      "                                           \u001b[38;5;124m'\u001b[39m\u001b[38;5;124mebel_relation\u001b[39m\u001b[38;5;124m'\u001b[39m,\n",
      "                                           \u001b[38;5;124m'\u001b[39m\u001b[38;5;124mE\u001b[39m\u001b[38;5;124m'\u001b[39m]},\n",
      " \u001b[38;5;124m'\u001b[39m\u001b[38;5;124mhas_ppi\u001b[39m\u001b[38;5;124m'\u001b[39m: {\u001b[38;5;124m'\u001b[39m\u001b[38;5;124mabstract\u001b[39m\u001b[38;5;124m'\u001b[39m: \u001b[38;5;28;01mTrue\u001b[39;00m,\n",
      "             \u001b[38;5;124m'\u001b[39m\u001b[38;5;124mchildren\u001b[39m\u001b[38;5;124m'\u001b[39m: [{\u001b[38;5;124m'\u001b[39m\u001b[38;5;124mabstract\u001b[39m\u001b[38;5;124m'\u001b[39m: \u001b[38;5;28;01mFalse\u001b[39;00m, \u001b[38;5;124m'\u001b[39m\u001b[38;5;124mname\u001b[39m\u001b[38;5;124m'\u001b[39m: \u001b[38;5;124m'\u001b[39m\u001b[38;5;124mhas_ppi_st\u001b[39m\u001b[38;5;124m'\u001b[39m},\n",
      "                          {\u001b[38;5;124m'\u001b[39m\u001b[38;5;124mabstract\u001b[39m\u001b[38;5;124m'\u001b[39m: \u001b[38;5;28;01mFalse\u001b[39;00m, \u001b[38;5;124m'\u001b[39m\u001b[38;5;124mname\u001b[39m\u001b[38;5;124m'\u001b[39m: \u001b[38;5;124m'\u001b[39m\u001b[38;5;124mhas_ppi_ia\u001b[39m\u001b[38;5;124m'\u001b[39m},\n",
      "                          {\u001b[38;5;124m'\u001b[39m\u001b[38;5;124mabstract\u001b[39m\u001b[38;5;124m'\u001b[39m: \u001b[38;5;28;01mTrue\u001b[39;00m, \u001b[38;5;124m'\u001b[39m\u001b[38;5;124mname\u001b[39m\u001b[38;5;124m'\u001b[39m: \u001b[38;5;124m'\u001b[39m\u001b[38;5;124mhas_ppi_bg\u001b[39m\u001b[38;5;124m'\u001b[39m}],\n",
      "             \u001b[38;5;124m'\u001b[39m\u001b[38;5;124min_out\u001b[39m\u001b[38;5;124m'\u001b[39m: {\u001b[38;5;124m'\u001b[39m\u001b[38;5;124min\u001b[39m\u001b[38;5;124m'\u001b[39m: \u001b[38;5;124m'\u001b[39m\u001b[38;5;124mprotein\u001b[39m\u001b[38;5;124m'\u001b[39m, \u001b[38;5;124m'\u001b[39m\u001b[38;5;124mout\u001b[39m\u001b[38;5;124m'\u001b[39m: \u001b[38;5;124m'\u001b[39m\u001b[38;5;124mprotein\u001b[39m\u001b[38;5;124m'\u001b[39m},\n",
      "             \u001b[38;5;124m'\u001b[39m\u001b[38;5;124mparents_path\u001b[39m\u001b[38;5;124m'\u001b[39m: [\u001b[38;5;124m'\u001b[39m\u001b[38;5;124mhas_ppi\u001b[39m\u001b[38;5;124m'\u001b[39m, \u001b[38;5;124m'\u001b[39m\u001b[38;5;124mebel_relation\u001b[39m\u001b[38;5;124m'\u001b[39m, \u001b[38;5;124m'\u001b[39m\u001b[38;5;124mE\u001b[39m\u001b[38;5;124m'\u001b[39m]},\n",
      " \u001b[38;5;124m'\u001b[39m\u001b[38;5;124mhas_ppi_bg\u001b[39m\u001b[38;5;124m'\u001b[39m: {\u001b[38;5;124m'\u001b[39m\u001b[38;5;124mabstract\u001b[39m\u001b[38;5;124m'\u001b[39m: \u001b[38;5;28;01mTrue\u001b[39;00m,\n",
      "                \u001b[38;5;124m'\u001b[39m\u001b[38;5;124mchildren\u001b[39m\u001b[38;5;124m'\u001b[39m: [{\u001b[38;5;124m'\u001b[39m\u001b[38;5;124mabstract\u001b[39m\u001b[38;5;124m'\u001b[39m: \u001b[38;5;28;01mFalse\u001b[39;00m, \u001b[38;5;124m'\u001b[39m\u001b[38;5;124mname\u001b[39m\u001b[38;5;124m'\u001b[39m: \u001b[38;5;124m'\u001b[39m\u001b[38;5;124mdecreases_ngl_bg\u001b[39m\u001b[38;5;124m'\u001b[39m},\n",
      "                             {\u001b[38;5;124m'\u001b[39m\u001b[38;5;124mabstract\u001b[39m\u001b[38;5;124m'\u001b[39m: \u001b[38;5;28;01mFalse\u001b[39;00m, \u001b[38;5;124m'\u001b[39m\u001b[38;5;124mname\u001b[39m\u001b[38;5;124m'\u001b[39m: \u001b[38;5;124m'\u001b[39m\u001b[38;5;124mdecreases_me1_bg\u001b[39m\u001b[38;5;124m'\u001b[39m},\n",
      "                             {\u001b[38;5;124m'\u001b[39m\u001b[38;5;124mabstract\u001b[39m\u001b[38;5;124m'\u001b[39m: \u001b[38;5;28;01mFalse\u001b[39;00m, \u001b[38;5;124m'\u001b[39m\u001b[38;5;124mname\u001b[39m\u001b[38;5;124m'\u001b[39m: \u001b[38;5;124m'\u001b[39m\u001b[38;5;124mdecreases_pho_bg\u001b[39m\u001b[38;5;124m'\u001b[39m},\n",
      "                             {\u001b[38;5;124m'\u001b[39m\u001b[38;5;124mabstract\u001b[39m\u001b[38;5;124m'\u001b[39m: \u001b[38;5;28;01mFalse\u001b[39;00m, \u001b[38;5;124m'\u001b[39m\u001b[38;5;124mname\u001b[39m\u001b[38;5;124m'\u001b[39m: \u001b[38;5;124m'\u001b[39m\u001b[38;5;124mdecreases_me2_bg\u001b[39m\u001b[38;5;124m'\u001b[39m},\n",
      "                             {\u001b[38;5;124m'\u001b[39m\u001b[38;5;124mabstract\u001b[39m\u001b[38;5;124m'\u001b[39m: \u001b[38;5;28;01mFalse\u001b[39;00m, \u001b[38;5;124m'\u001b[39m\u001b[38;5;124mname\u001b[39m\u001b[38;5;124m'\u001b[39m: \u001b[38;5;124m'\u001b[39m\u001b[38;5;124mdecreases_hyd_bg\u001b[39m\u001b[38;5;124m'\u001b[39m},\n",
      "                             {\u001b[38;5;124m'\u001b[39m\u001b[38;5;124mabstract\u001b[39m\u001b[38;5;124m'\u001b[39m: \u001b[38;5;28;01mFalse\u001b[39;00m, \u001b[38;5;124m'\u001b[39m\u001b[38;5;124mname\u001b[39m\u001b[38;5;124m'\u001b[39m: \u001b[38;5;124m'\u001b[39m\u001b[38;5;124mdecreases_pal_bg\u001b[39m\u001b[38;5;124m'\u001b[39m},\n",
      "                             {\u001b[38;5;124m'\u001b[39m\u001b[38;5;124mabstract\u001b[39m\u001b[38;5;124m'\u001b[39m: \u001b[38;5;28;01mFalse\u001b[39;00m, \u001b[38;5;124m'\u001b[39m\u001b[38;5;124mname\u001b[39m\u001b[38;5;124m'\u001b[39m: \u001b[38;5;124m'\u001b[39m\u001b[38;5;124mincreases_ogl_bg\u001b[39m\u001b[38;5;124m'\u001b[39m},\n",
      "                             {\u001b[38;5;124m'\u001b[39m\u001b[38;5;124mabstract\u001b[39m\u001b[38;5;124m'\u001b[39m: \u001b[38;5;28;01mFalse\u001b[39;00m, \u001b[38;5;124m'\u001b[39m\u001b[38;5;124mname\u001b[39m\u001b[38;5;124m'\u001b[39m: \u001b[38;5;124m'\u001b[39m\u001b[38;5;124mdecreases_bg\u001b[39m\u001b[38;5;124m'\u001b[39m},\n",
      "                             {\u001b[38;5;124m'\u001b[39m\u001b[38;5;124mabstract\u001b[39m\u001b[38;5;124m'\u001b[39m: \u001b[38;5;28;01mFalse\u001b[39;00m, \u001b[38;5;124m'\u001b[39m\u001b[38;5;124mname\u001b[39m\u001b[38;5;124m'\u001b[39m: \u001b[38;5;124m'\u001b[39m\u001b[38;5;124mdecreases_sul_bg\u001b[39m\u001b[38;5;124m'\u001b[39m},\n",
      "                             {\u001b[38;5;124m'\u001b[39m\u001b[38;5;124mabstract\u001b[39m\u001b[38;5;124m'\u001b[39m: \u001b[38;5;28;01mFalse\u001b[39;00m, \u001b[38;5;124m'\u001b[39m\u001b[38;5;124mname\u001b[39m\u001b[38;5;124m'\u001b[39m: \u001b[38;5;124m'\u001b[39m\u001b[38;5;124mdecreases_ogl_bg\u001b[39m\u001b[38;5;124m'\u001b[39m},\n",
      "                             {\u001b[38;5;124m'\u001b[39m\u001b[38;5;124mabstract\u001b[39m\u001b[38;5;124m'\u001b[39m: \u001b[38;5;28;01mFalse\u001b[39;00m, \u001b[38;5;124m'\u001b[39m\u001b[38;5;124mname\u001b[39m\u001b[38;5;124m'\u001b[39m: \u001b[38;5;124m'\u001b[39m\u001b[38;5;124mincreases_gly_bg\u001b[39m\u001b[38;5;124m'\u001b[39m},\n",
      "                             {\u001b[38;5;124m'\u001b[39m\u001b[38;5;124mabstract\u001b[39m\u001b[38;5;124m'\u001b[39m: \u001b[38;5;28;01mFalse\u001b[39;00m, \u001b[38;5;124m'\u001b[39m\u001b[38;5;124mname\u001b[39m\u001b[38;5;124m'\u001b[39m: \u001b[38;5;124m'\u001b[39m\u001b[38;5;124mdecreases_pre_bg\u001b[39m\u001b[38;5;124m'\u001b[39m},\n",
      "                             {\u001b[38;5;124m'\u001b[39m\u001b[38;5;124mabstract\u001b[39m\u001b[38;5;124m'\u001b[39m: \u001b[38;5;28;01mFalse\u001b[39;00m, \u001b[38;5;124m'\u001b[39m\u001b[38;5;124mname\u001b[39m\u001b[38;5;124m'\u001b[39m: \u001b[38;5;124m'\u001b[39m\u001b[38;5;124mincreases_ubm_bg\u001b[39m\u001b[38;5;124m'\u001b[39m},\n",
      "                             {\u001b[38;5;124m'\u001b[39m\u001b[38;5;124mabstract\u001b[39m\u001b[38;5;124m'\u001b[39m: \u001b[38;5;28;01mFalse\u001b[39;00m, \u001b[38;5;124m'\u001b[39m\u001b[38;5;124mname\u001b[39m\u001b[38;5;124m'\u001b[39m: \u001b[38;5;124m'\u001b[39m\u001b[38;5;124mdecreases_adr_bg\u001b[39m\u001b[38;5;124m'\u001b[39m},\n",
      "                             {\u001b[38;5;124m'\u001b[39m\u001b[38;5;124mabstract\u001b[39m\u001b[38;5;124m'\u001b[39m: \u001b[38;5;28;01mFalse\u001b[39;00m, \u001b[38;5;124m'\u001b[39m\u001b[38;5;124mname\u001b[39m\u001b[38;5;124m'\u001b[39m: \u001b[38;5;124m'\u001b[39m\u001b[38;5;124mdecreases_ubp_bg\u001b[39m\u001b[38;5;124m'\u001b[39m},\n",
      "                             {\u001b[38;5;124m'\u001b[39m\u001b[38;5;124mabstract\u001b[39m\u001b[38;5;124m'\u001b[39m: \u001b[38;5;28;01mFalse\u001b[39;00m, \u001b[38;5;124m'\u001b[39m\u001b[38;5;124mname\u001b[39m\u001b[38;5;124m'\u001b[39m: \u001b[38;5;124m'\u001b[39m\u001b[38;5;124mincreases_ace_bg\u001b[39m\u001b[38;5;124m'\u001b[39m},\n",
      "                             {\u001b[38;5;124m'\u001b[39m\u001b[38;5;124mabstract\u001b[39m\u001b[38;5;124m'\u001b[39m: \u001b[38;5;28;01mFalse\u001b[39;00m, \u001b[38;5;124m'\u001b[39m\u001b[38;5;124mname\u001b[39m\u001b[38;5;124m'\u001b[39m: \u001b[38;5;124m'\u001b[39m\u001b[38;5;124mdecreases_fat_bg\u001b[39m\u001b[38;5;124m'\u001b[39m},\n",
      "                             {\u001b[38;5;124m'\u001b[39m\u001b[38;5;124mabstract\u001b[39m\u001b[38;5;124m'\u001b[39m: \u001b[38;5;28;01mFalse\u001b[39;00m, \u001b[38;5;124m'\u001b[39m\u001b[38;5;124mname\u001b[39m\u001b[38;5;124m'\u001b[39m: \u001b[38;5;124m'\u001b[39m\u001b[38;5;124mincreases_sul_bg\u001b[39m\u001b[38;5;124m'\u001b[39m},\n",
      "                             {\u001b[38;5;124m'\u001b[39m\u001b[38;5;124mabstract\u001b[39m\u001b[38;5;124m'\u001b[39m: \u001b[38;5;28;01mFalse\u001b[39;00m, \u001b[38;5;124m'\u001b[39m\u001b[38;5;124mname\u001b[39m\u001b[38;5;124m'\u001b[39m: \u001b[38;5;124m'\u001b[39m\u001b[38;5;124mincreases_ubi_bg\u001b[39m\u001b[38;5;124m'\u001b[39m},\n",
      "                             {\u001b[38;5;124m'\u001b[39m\u001b[38;5;124mabstract\u001b[39m\u001b[38;5;124m'\u001b[39m: \u001b[38;5;28;01mFalse\u001b[39;00m, \u001b[38;5;124m'\u001b[39m\u001b[38;5;124mname\u001b[39m\u001b[38;5;124m'\u001b[39m: \u001b[38;5;124m'\u001b[39m\u001b[38;5;124mincreases_fat_bg\u001b[39m\u001b[38;5;124m'\u001b[39m},\n",
      "                             {\u001b[38;5;124m'\u001b[39m\u001b[38;5;124mabstract\u001b[39m\u001b[38;5;124m'\u001b[39m: \u001b[38;5;28;01mFalse\u001b[39;00m, \u001b[38;5;124m'\u001b[39m\u001b[38;5;124mname\u001b[39m\u001b[38;5;124m'\u001b[39m: \u001b[38;5;124m'\u001b[39m\u001b[38;5;124mincreases_pho_bg\u001b[39m\u001b[38;5;124m'\u001b[39m},\n",
      "                             {\u001b[38;5;124m'\u001b[39m\u001b[38;5;124mabstract\u001b[39m\u001b[38;5;124m'\u001b[39m: \u001b[38;5;28;01mFalse\u001b[39;00m, \u001b[38;5;124m'\u001b[39m\u001b[38;5;124mname\u001b[39m\u001b[38;5;124m'\u001b[39m: \u001b[38;5;124m'\u001b[39m\u001b[38;5;124mincreases_me1_bg\u001b[39m\u001b[38;5;124m'\u001b[39m},\n",
      "                             {\u001b[38;5;124m'\u001b[39m\u001b[38;5;124mabstract\u001b[39m\u001b[38;5;124m'\u001b[39m: \u001b[38;5;28;01mFalse\u001b[39;00m, \u001b[38;5;124m'\u001b[39m\u001b[38;5;124mname\u001b[39m\u001b[38;5;124m'\u001b[39m: \u001b[38;5;124m'\u001b[39m\u001b[38;5;124mincreases_me3_bg\u001b[39m\u001b[38;5;124m'\u001b[39m},\n",
      "                             {\u001b[38;5;124m'\u001b[39m\u001b[38;5;124mabstract\u001b[39m\u001b[38;5;124m'\u001b[39m: \u001b[38;5;28;01mFalse\u001b[39;00m, \u001b[38;5;124m'\u001b[39m\u001b[38;5;124mname\u001b[39m\u001b[38;5;124m'\u001b[39m: \u001b[38;5;124m'\u001b[39m\u001b[38;5;124mdecreases_isg_bg\u001b[39m\u001b[38;5;124m'\u001b[39m},\n",
      "                             {\u001b[38;5;124m'\u001b[39m\u001b[38;5;124mabstract\u001b[39m\u001b[38;5;124m'\u001b[39m: \u001b[38;5;28;01mFalse\u001b[39;00m, \u001b[38;5;124m'\u001b[39m\u001b[38;5;124mname\u001b[39m\u001b[38;5;124m'\u001b[39m: \u001b[38;5;124m'\u001b[39m\u001b[38;5;124mincreases_pal_bg\u001b[39m\u001b[38;5;124m'\u001b[39m},\n",
      "                             {\u001b[38;5;124m'\u001b[39m\u001b[38;5;124mabstract\u001b[39m\u001b[38;5;124m'\u001b[39m: \u001b[38;5;28;01mFalse\u001b[39;00m, \u001b[38;5;124m'\u001b[39m\u001b[38;5;124mname\u001b[39m\u001b[38;5;124m'\u001b[39m: \u001b[38;5;124m'\u001b[39m\u001b[38;5;124mdecreases_ubi_bg\u001b[39m\u001b[38;5;124m'\u001b[39m},\n",
      "                             {\u001b[38;5;124m'\u001b[39m\u001b[38;5;124mabstract\u001b[39m\u001b[38;5;124m'\u001b[39m: \u001b[38;5;28;01mFalse\u001b[39;00m, \u001b[38;5;124m'\u001b[39m\u001b[38;5;124mname\u001b[39m\u001b[38;5;124m'\u001b[39m: \u001b[38;5;124m'\u001b[39m\u001b[38;5;124mincreases_suy_bg\u001b[39m\u001b[38;5;124m'\u001b[39m},\n",
      "                             {\u001b[38;5;124m'\u001b[39m\u001b[38;5;124mabstract\u001b[39m\u001b[38;5;124m'\u001b[39m: \u001b[38;5;28;01mFalse\u001b[39;00m, \u001b[38;5;124m'\u001b[39m\u001b[38;5;124mname\u001b[39m\u001b[38;5;124m'\u001b[39m: \u001b[38;5;124m'\u001b[39m\u001b[38;5;124mincreases_hyd_bg\u001b[39m\u001b[38;5;124m'\u001b[39m},\n",
      "                             {\u001b[38;5;124m'\u001b[39m\u001b[38;5;124mabstract\u001b[39m\u001b[38;5;124m'\u001b[39m: \u001b[38;5;28;01mFalse\u001b[39;00m, \u001b[38;5;124m'\u001b[39m\u001b[38;5;124mname\u001b[39m\u001b[38;5;124m'\u001b[39m: \u001b[38;5;124m'\u001b[39m\u001b[38;5;124mdecreases_ger_bg\u001b[39m\u001b[38;5;124m'\u001b[39m},\n",
      "                             {\u001b[38;5;124m'\u001b[39m\u001b[38;5;124mabstract\u001b[39m\u001b[38;5;124m'\u001b[39m: \u001b[38;5;28;01mFalse\u001b[39;00m, \u001b[38;5;124m'\u001b[39m\u001b[38;5;124mname\u001b[39m\u001b[38;5;124m'\u001b[39m: \u001b[38;5;124m'\u001b[39m\u001b[38;5;124mincreases_dei_bg\u001b[39m\u001b[38;5;124m'\u001b[39m},\n",
      "                             {\u001b[38;5;124m'\u001b[39m\u001b[38;5;124mabstract\u001b[39m\u001b[38;5;124m'\u001b[39m: \u001b[38;5;28;01mFalse\u001b[39;00m, \u001b[38;5;124m'\u001b[39m\u001b[38;5;124mname\u001b[39m\u001b[38;5;124m'\u001b[39m: \u001b[38;5;124m'\u001b[39m\u001b[38;5;124mincreases_ngl_bg\u001b[39m\u001b[38;5;124m'\u001b[39m},\n",
      "                             {\u001b[38;5;124m'\u001b[39m\u001b[38;5;124mabstract\u001b[39m\u001b[38;5;124m'\u001b[39m: \u001b[38;5;28;01mFalse\u001b[39;00m, \u001b[38;5;124m'\u001b[39m\u001b[38;5;124mname\u001b[39m\u001b[38;5;124m'\u001b[39m: \u001b[38;5;124m'\u001b[39m\u001b[38;5;124mincreases_ubp_bg\u001b[39m\u001b[38;5;124m'\u001b[39m},\n",
      "                             {\u001b[38;5;124m'\u001b[39m\u001b[38;5;124mabstract\u001b[39m\u001b[38;5;124m'\u001b[39m: \u001b[38;5;28;01mFalse\u001b[39;00m, \u001b[38;5;124m'\u001b[39m\u001b[38;5;124mname\u001b[39m\u001b[38;5;124m'\u001b[39m: \u001b[38;5;124m'\u001b[39m\u001b[38;5;124mdecreases_nit_bg\u001b[39m\u001b[38;5;124m'\u001b[39m},\n",
      "                             {\u001b[38;5;124m'\u001b[39m\u001b[38;5;124mabstract\u001b[39m\u001b[38;5;124m'\u001b[39m: \u001b[38;5;28;01mFalse\u001b[39;00m, \u001b[38;5;124m'\u001b[39m\u001b[38;5;124mname\u001b[39m\u001b[38;5;124m'\u001b[39m: \u001b[38;5;124m'\u001b[39m\u001b[38;5;124mincreases_me2_bg\u001b[39m\u001b[38;5;124m'\u001b[39m},\n",
      "                             {\u001b[38;5;124m'\u001b[39m\u001b[38;5;124mabstract\u001b[39m\u001b[38;5;124m'\u001b[39m: \u001b[38;5;28;01mFalse\u001b[39;00m, \u001b[38;5;124m'\u001b[39m\u001b[38;5;124mname\u001b[39m\u001b[38;5;124m'\u001b[39m: \u001b[38;5;124m'\u001b[39m\u001b[38;5;124mincreases_suh_bg\u001b[39m\u001b[38;5;124m'\u001b[39m},\n",
      "                             {\u001b[38;5;124m'\u001b[39m\u001b[38;5;124mabstract\u001b[39m\u001b[38;5;124m'\u001b[39m: \u001b[38;5;28;01mFalse\u001b[39;00m, \u001b[38;5;124m'\u001b[39m\u001b[38;5;124mname\u001b[39m\u001b[38;5;124m'\u001b[39m: \u001b[38;5;124m'\u001b[39m\u001b[38;5;124mdecreases_u63_bg\u001b[39m\u001b[38;5;124m'\u001b[39m},\n",
      "                             {\u001b[38;5;124m'\u001b[39m\u001b[38;5;124mabstract\u001b[39m\u001b[38;5;124m'\u001b[39m: \u001b[38;5;28;01mFalse\u001b[39;00m, \u001b[38;5;124m'\u001b[39m\u001b[38;5;124mname\u001b[39m\u001b[38;5;124m'\u001b[39m: \u001b[38;5;124m'\u001b[39m\u001b[38;5;124mdecreases_u48_bg\u001b[39m\u001b[38;5;124m'\u001b[39m},\n",
      "                             {\u001b[38;5;124m'\u001b[39m\u001b[38;5;124mabstract\u001b[39m\u001b[38;5;124m'\u001b[39m: \u001b[38;5;28;01mFalse\u001b[39;00m, \u001b[38;5;124m'\u001b[39m\u001b[38;5;124mname\u001b[39m\u001b[38;5;124m'\u001b[39m: \u001b[38;5;124m'\u001b[39m\u001b[38;5;124mincreases_ned_bg\u001b[39m\u001b[38;5;124m'\u001b[39m},\n",
      "                             {\u001b[38;5;124m'\u001b[39m\u001b[38;5;124mabstract\u001b[39m\u001b[38;5;124m'\u001b[39m: \u001b[38;5;28;01mFalse\u001b[39;00m, \u001b[38;5;124m'\u001b[39m\u001b[38;5;124mname\u001b[39m\u001b[38;5;124m'\u001b[39m: \u001b[38;5;124m'\u001b[39m\u001b[38;5;124mdecreases_suh_bg\u001b[39m\u001b[38;5;124m'\u001b[39m},\n",
      "                             {\u001b[38;5;124m'\u001b[39m\u001b[38;5;124mabstract\u001b[39m\u001b[38;5;124m'\u001b[39m: \u001b[38;5;28;01mFalse\u001b[39;00m, \u001b[38;5;124m'\u001b[39m\u001b[38;5;124mname\u001b[39m\u001b[38;5;124m'\u001b[39m: \u001b[38;5;124m'\u001b[39m\u001b[38;5;124mincreases_me0_bg\u001b[39m\u001b[38;5;124m'\u001b[39m},\n",
      "                             {\u001b[38;5;124m'\u001b[39m\u001b[38;5;124mabstract\u001b[39m\u001b[38;5;124m'\u001b[39m: \u001b[38;5;28;01mFalse\u001b[39;00m, \u001b[38;5;124m'\u001b[39m\u001b[38;5;124mname\u001b[39m\u001b[38;5;124m'\u001b[39m: \u001b[38;5;124m'\u001b[39m\u001b[38;5;124mdecreases_ned_bg\u001b[39m\u001b[38;5;124m'\u001b[39m},\n",
      "                             {\u001b[38;5;124m'\u001b[39m\u001b[38;5;124mabstract\u001b[39m\u001b[38;5;124m'\u001b[39m: \u001b[38;5;28;01mFalse\u001b[39;00m, \u001b[38;5;124m'\u001b[39m\u001b[38;5;124mname\u001b[39m\u001b[38;5;124m'\u001b[39m: \u001b[38;5;124m'\u001b[39m\u001b[38;5;124mdecreases_suy_bg\u001b[39m\u001b[38;5;124m'\u001b[39m},\n",
      "                             {\u001b[38;5;124m'\u001b[39m\u001b[38;5;124mabstract\u001b[39m\u001b[38;5;124m'\u001b[39m: \u001b[38;5;28;01mFalse\u001b[39;00m, \u001b[38;5;124m'\u001b[39m\u001b[38;5;124mname\u001b[39m\u001b[38;5;124m'\u001b[39m: \u001b[38;5;124m'\u001b[39m\u001b[38;5;124mdecreases_mon_bg\u001b[39m\u001b[38;5;124m'\u001b[39m},\n",
      "                             {\u001b[38;5;124m'\u001b[39m\u001b[38;5;124mabstract\u001b[39m\u001b[38;5;124m'\u001b[39m: \u001b[38;5;28;01mFalse\u001b[39;00m, \u001b[38;5;124m'\u001b[39m\u001b[38;5;124mname\u001b[39m\u001b[38;5;124m'\u001b[39m: \u001b[38;5;124m'\u001b[39m\u001b[38;5;124mincreases_sum_bg\u001b[39m\u001b[38;5;124m'\u001b[39m},\n",
      "                             {\u001b[38;5;124m'\u001b[39m\u001b[38;5;124mabstract\u001b[39m\u001b[38;5;124m'\u001b[39m: \u001b[38;5;28;01mFalse\u001b[39;00m, \u001b[38;5;124m'\u001b[39m\u001b[38;5;124mname\u001b[39m\u001b[38;5;124m'\u001b[39m: \u001b[38;5;124m'\u001b[39m\u001b[38;5;124mincreases_adr_bg\u001b[39m\u001b[38;5;124m'\u001b[39m},\n",
      "                             {\u001b[38;5;124m'\u001b[39m\u001b[38;5;124mabstract\u001b[39m\u001b[38;5;124m'\u001b[39m: \u001b[38;5;28;01mFalse\u001b[39;00m, \u001b[38;5;124m'\u001b[39m\u001b[38;5;124mname\u001b[39m\u001b[38;5;124m'\u001b[39m: \u001b[38;5;124m'\u001b[39m\u001b[38;5;124mdecreases_sum_bg\u001b[39m\u001b[38;5;124m'\u001b[39m},\n",
      "                             {\u001b[38;5;124m'\u001b[39m\u001b[38;5;124mabstract\u001b[39m\u001b[38;5;124m'\u001b[39m: \u001b[38;5;28;01mFalse\u001b[39;00m, \u001b[38;5;124m'\u001b[39m\u001b[38;5;124mname\u001b[39m\u001b[38;5;124m'\u001b[39m: \u001b[38;5;124m'\u001b[39m\u001b[38;5;124mincreases_tri_bg\u001b[39m\u001b[38;5;124m'\u001b[39m},\n",
      "                             {\u001b[38;5;124m'\u001b[39m\u001b[38;5;124mabstract\u001b[39m\u001b[38;5;124m'\u001b[39m: \u001b[38;5;28;01mFalse\u001b[39;00m, \u001b[38;5;124m'\u001b[39m\u001b[38;5;124mname\u001b[39m\u001b[38;5;124m'\u001b[39m: \u001b[38;5;124m'\u001b[39m\u001b[38;5;124mdecreases_gly_bg\u001b[39m\u001b[38;5;124m'\u001b[39m},\n",
      "                             {\u001b[38;5;124m'\u001b[39m\u001b[38;5;124mabstract\u001b[39m\u001b[38;5;124m'\u001b[39m: \u001b[38;5;28;01mFalse\u001b[39;00m, \u001b[38;5;124m'\u001b[39m\u001b[38;5;124mname\u001b[39m\u001b[38;5;124m'\u001b[39m: \u001b[38;5;124m'\u001b[39m\u001b[38;5;124mincreases_mon_bg\u001b[39m\u001b[38;5;124m'\u001b[39m},\n",
      "                             {\u001b[38;5;124m'\u001b[39m\u001b[38;5;124mabstract\u001b[39m\u001b[38;5;124m'\u001b[39m: \u001b[38;5;28;01mFalse\u001b[39;00m, \u001b[38;5;124m'\u001b[39m\u001b[38;5;124mname\u001b[39m\u001b[38;5;124m'\u001b[39m: \u001b[38;5;124m'\u001b[39m\u001b[38;5;124mdecreases_ace_bg\u001b[39m\u001b[38;5;124m'\u001b[39m},\n",
      "                             {\u001b[38;5;124m'\u001b[39m\u001b[38;5;124mabstract\u001b[39m\u001b[38;5;124m'\u001b[39m: \u001b[38;5;28;01mFalse\u001b[39;00m, \u001b[38;5;124m'\u001b[39m\u001b[38;5;124mname\u001b[39m\u001b[38;5;124m'\u001b[39m: \u001b[38;5;124m'\u001b[39m\u001b[38;5;124mdecreases_add_bg\u001b[39m\u001b[38;5;124m'\u001b[39m},\n",
      "                             {\u001b[38;5;124m'\u001b[39m\u001b[38;5;124mabstract\u001b[39m\u001b[38;5;124m'\u001b[39m: \u001b[38;5;28;01mFalse\u001b[39;00m, \u001b[38;5;124m'\u001b[39m\u001b[38;5;124mname\u001b[39m\u001b[38;5;124m'\u001b[39m: \u001b[38;5;124m'\u001b[39m\u001b[38;5;124mdecreases_tri_bg\u001b[39m\u001b[38;5;124m'\u001b[39m},\n",
      "                             {\u001b[38;5;124m'\u001b[39m\u001b[38;5;124mabstract\u001b[39m\u001b[38;5;124m'\u001b[39m: \u001b[38;5;28;01mFalse\u001b[39;00m, \u001b[38;5;124m'\u001b[39m\u001b[38;5;124mname\u001b[39m\u001b[38;5;124m'\u001b[39m: \u001b[38;5;124m'\u001b[39m\u001b[38;5;124mincreases_pre_bg\u001b[39m\u001b[38;5;124m'\u001b[39m},\n",
      "                             {\u001b[38;5;124m'\u001b[39m\u001b[38;5;124mabstract\u001b[39m\u001b[38;5;124m'\u001b[39m: \u001b[38;5;28;01mFalse\u001b[39;00m, \u001b[38;5;124m'\u001b[39m\u001b[38;5;124mname\u001b[39m\u001b[38;5;124m'\u001b[39m: \u001b[38;5;124m'\u001b[39m\u001b[38;5;124mdecreases_myr_bg\u001b[39m\u001b[38;5;124m'\u001b[39m},\n",
      "                             {\u001b[38;5;124m'\u001b[39m\u001b[38;5;124mabstract\u001b[39m\u001b[38;5;124m'\u001b[39m: \u001b[38;5;28;01mFalse\u001b[39;00m, \u001b[38;5;124m'\u001b[39m\u001b[38;5;124mname\u001b[39m\u001b[38;5;124m'\u001b[39m: \u001b[38;5;124m'\u001b[39m\u001b[38;5;124mincreases_isg_bg\u001b[39m\u001b[38;5;124m'\u001b[39m},\n",
      "                             {\u001b[38;5;124m'\u001b[39m\u001b[38;5;124mabstract\u001b[39m\u001b[38;5;124m'\u001b[39m: \u001b[38;5;28;01mFalse\u001b[39;00m, \u001b[38;5;124m'\u001b[39m\u001b[38;5;124mname\u001b[39m\u001b[38;5;124m'\u001b[39m: \u001b[38;5;124m'\u001b[39m\u001b[38;5;124mincreases_myr_bg\u001b[39m\u001b[38;5;124m'\u001b[39m},\n",
      "                             {\u001b[38;5;124m'\u001b[39m\u001b[38;5;124mabstract\u001b[39m\u001b[38;5;124m'\u001b[39m: \u001b[38;5;28;01mFalse\u001b[39;00m, \u001b[38;5;124m'\u001b[39m\u001b[38;5;124mname\u001b[39m\u001b[38;5;124m'\u001b[39m: \u001b[38;5;124m'\u001b[39m\u001b[38;5;124mincreases_u48_bg\u001b[39m\u001b[38;5;124m'\u001b[39m},\n",
      "                             {\u001b[38;5;124m'\u001b[39m\u001b[38;5;124mabstract\u001b[39m\u001b[38;5;124m'\u001b[39m: \u001b[38;5;28;01mFalse\u001b[39;00m, \u001b[38;5;124m'\u001b[39m\u001b[38;5;124mname\u001b[39m\u001b[38;5;124m'\u001b[39m: \u001b[38;5;124m'\u001b[39m\u001b[38;5;124mincreases_ger_bg\u001b[39m\u001b[38;5;124m'\u001b[39m},\n",
      "                             {\u001b[38;5;124m'\u001b[39m\u001b[38;5;124mabstract\u001b[39m\u001b[38;5;124m'\u001b[39m: \u001b[38;5;28;01mFalse\u001b[39;00m, \u001b[38;5;124m'\u001b[39m\u001b[38;5;124mname\u001b[39m\u001b[38;5;124m'\u001b[39m: \u001b[38;5;124m'\u001b[39m\u001b[38;5;124mdecreases_me0_bg\u001b[39m\u001b[38;5;124m'\u001b[39m},\n",
      "                             {\u001b[38;5;124m'\u001b[39m\u001b[38;5;124mabstract\u001b[39m\u001b[38;5;124m'\u001b[39m: \u001b[38;5;28;01mFalse\u001b[39;00m, \u001b[38;5;124m'\u001b[39m\u001b[38;5;124mname\u001b[39m\u001b[38;5;124m'\u001b[39m: \u001b[38;5;124m'\u001b[39m\u001b[38;5;124mincreases_far_bg\u001b[39m\u001b[38;5;124m'\u001b[39m},\n",
      "                             {\u001b[38;5;124m'\u001b[39m\u001b[38;5;124mabstract\u001b[39m\u001b[38;5;124m'\u001b[39m: \u001b[38;5;28;01mFalse\u001b[39;00m, \u001b[38;5;124m'\u001b[39m\u001b[38;5;124mname\u001b[39m\u001b[38;5;124m'\u001b[39m: \u001b[38;5;124m'\u001b[39m\u001b[38;5;124mdecreases_ubm_bg\u001b[39m\u001b[38;5;124m'\u001b[39m},\n",
      "                             {\u001b[38;5;124m'\u001b[39m\u001b[38;5;124mabstract\u001b[39m\u001b[38;5;124m'\u001b[39m: \u001b[38;5;28;01mFalse\u001b[39;00m, \u001b[38;5;124m'\u001b[39m\u001b[38;5;124mname\u001b[39m\u001b[38;5;124m'\u001b[39m: \u001b[38;5;124m'\u001b[39m\u001b[38;5;124mincreases_u63_bg\u001b[39m\u001b[38;5;124m'\u001b[39m},\n",
      "                             {\u001b[38;5;124m'\u001b[39m\u001b[38;5;124mabstract\u001b[39m\u001b[38;5;124m'\u001b[39m: \u001b[38;5;28;01mFalse\u001b[39;00m, \u001b[38;5;124m'\u001b[39m\u001b[38;5;124mname\u001b[39m\u001b[38;5;124m'\u001b[39m: \u001b[38;5;124m'\u001b[39m\u001b[38;5;124mdecreases_dei_bg\u001b[39m\u001b[38;5;124m'\u001b[39m},\n",
      "                             {\u001b[38;5;124m'\u001b[39m\u001b[38;5;124mabstract\u001b[39m\u001b[38;5;124m'\u001b[39m: \u001b[38;5;28;01mFalse\u001b[39;00m, \u001b[38;5;124m'\u001b[39m\u001b[38;5;124mname\u001b[39m\u001b[38;5;124m'\u001b[39m: \u001b[38;5;124m'\u001b[39m\u001b[38;5;124mincreases_nit_bg\u001b[39m\u001b[38;5;124m'\u001b[39m},\n",
      "                             {\u001b[38;5;124m'\u001b[39m\u001b[38;5;124mabstract\u001b[39m\u001b[38;5;124m'\u001b[39m: \u001b[38;5;28;01mFalse\u001b[39;00m, \u001b[38;5;124m'\u001b[39m\u001b[38;5;124mname\u001b[39m\u001b[38;5;124m'\u001b[39m: \u001b[38;5;124m'\u001b[39m\u001b[38;5;124mincreases_add_bg\u001b[39m\u001b[38;5;124m'\u001b[39m},\n",
      "                             {\u001b[38;5;124m'\u001b[39m\u001b[38;5;124mabstract\u001b[39m\u001b[38;5;124m'\u001b[39m: \u001b[38;5;28;01mFalse\u001b[39;00m, \u001b[38;5;124m'\u001b[39m\u001b[38;5;124mname\u001b[39m\u001b[38;5;124m'\u001b[39m: \u001b[38;5;124m'\u001b[39m\u001b[38;5;124mdecreases_me3_bg\u001b[39m\u001b[38;5;124m'\u001b[39m},\n",
      "                             {\u001b[38;5;124m'\u001b[39m\u001b[38;5;124mabstract\u001b[39m\u001b[38;5;124m'\u001b[39m: \u001b[38;5;28;01mFalse\u001b[39;00m, \u001b[38;5;124m'\u001b[39m\u001b[38;5;124mname\u001b[39m\u001b[38;5;124m'\u001b[39m: \u001b[38;5;124m'\u001b[39m\u001b[38;5;124mdecreases_sup_bg\u001b[39m\u001b[38;5;124m'\u001b[39m},\n",
      "                             {\u001b[38;5;124m'\u001b[39m\u001b[38;5;124mabstract\u001b[39m\u001b[38;5;124m'\u001b[39m: \u001b[38;5;28;01mFalse\u001b[39;00m, \u001b[38;5;124m'\u001b[39m\u001b[38;5;124mname\u001b[39m\u001b[38;5;124m'\u001b[39m: \u001b[38;5;124m'\u001b[39m\u001b[38;5;124mincreases_sup_bg\u001b[39m\u001b[38;5;124m'\u001b[39m},\n",
      "                             {\u001b[38;5;124m'\u001b[39m\u001b[38;5;124mabstract\u001b[39m\u001b[38;5;124m'\u001b[39m: \u001b[38;5;28;01mFalse\u001b[39;00m, \u001b[38;5;124m'\u001b[39m\u001b[38;5;124mname\u001b[39m\u001b[38;5;124m'\u001b[39m: \u001b[38;5;124m'\u001b[39m\u001b[38;5;124mdecreases_far_bg\u001b[39m\u001b[38;5;124m'\u001b[39m}],\n",
      "                \u001b[38;5;124m'\u001b[39m\u001b[38;5;124min_out\u001b[39m\u001b[38;5;124m'\u001b[39m: {\u001b[38;5;124m'\u001b[39m\u001b[38;5;124min\u001b[39m\u001b[38;5;124m'\u001b[39m: \u001b[38;5;124m'\u001b[39m\u001b[38;5;124mprotein\u001b[39m\u001b[38;5;124m'\u001b[39m, \u001b[38;5;124m'\u001b[39m\u001b[38;5;124mout\u001b[39m\u001b[38;5;124m'\u001b[39m: \u001b[38;5;124m'\u001b[39m\u001b[38;5;124mprotein\u001b[39m\u001b[38;5;124m'\u001b[39m},\n",
      "                \u001b[38;5;124m'\u001b[39m\u001b[38;5;124mparents_path\u001b[39m\u001b[38;5;124m'\u001b[39m: [\u001b[38;5;124m'\u001b[39m\u001b[38;5;124mhas_ppi_bg\u001b[39m\u001b[38;5;124m'\u001b[39m,\n",
      "                                 \u001b[38;5;124m'\u001b[39m\u001b[38;5;124mhas_ppi\u001b[39m\u001b[38;5;124m'\u001b[39m,\n",
      "                                 \u001b[38;5;124m'\u001b[39m\u001b[38;5;124mebel_relation\u001b[39m\u001b[38;5;124m'\u001b[39m,\n",
      "                                 \u001b[38;5;124m'\u001b[39m\u001b[38;5;124mE\u001b[39m\u001b[38;5;124m'\u001b[39m]},\n",
      " \u001b[38;5;124m'\u001b[39m\u001b[38;5;124mhas_ppi_ia\u001b[39m\u001b[38;5;124m'\u001b[39m: {\u001b[38;5;124m'\u001b[39m\u001b[38;5;124mabstract\u001b[39m\u001b[38;5;124m'\u001b[39m: \u001b[38;5;28;01mFalse\u001b[39;00m,\n",
      "                \u001b[38;5;124m'\u001b[39m\u001b[38;5;124mchildren\u001b[39m\u001b[38;5;124m'\u001b[39m: [],\n",
      "                \u001b[38;5;124m'\u001b[39m\u001b[38;5;124min_out\u001b[39m\u001b[38;5;124m'\u001b[39m: {\u001b[38;5;124m'\u001b[39m\u001b[38;5;124min\u001b[39m\u001b[38;5;124m'\u001b[39m: \u001b[38;5;124m'\u001b[39m\u001b[38;5;124mprotein\u001b[39m\u001b[38;5;124m'\u001b[39m, \u001b[38;5;124m'\u001b[39m\u001b[38;5;124mout\u001b[39m\u001b[38;5;124m'\u001b[39m: \u001b[38;5;124m'\u001b[39m\u001b[38;5;124mprotein\u001b[39m\u001b[38;5;124m'\u001b[39m},\n",
      "                \u001b[38;5;124m'\u001b[39m\u001b[38;5;124mparents_path\u001b[39m\u001b[38;5;124m'\u001b[39m: [\u001b[38;5;124m'\u001b[39m\u001b[38;5;124mhas_ppi_ia\u001b[39m\u001b[38;5;124m'\u001b[39m,\n",
      "                                 \u001b[38;5;124m'\u001b[39m\u001b[38;5;124mhas_ppi\u001b[39m\u001b[38;5;124m'\u001b[39m,\n",
      "                                 \u001b[38;5;124m'\u001b[39m\u001b[38;5;124mebel_relation\u001b[39m\u001b[38;5;124m'\u001b[39m,\n",
      "                                 \u001b[38;5;124m'\u001b[39m\u001b[38;5;124mE\u001b[39m\u001b[38;5;124m'\u001b[39m]},\n",
      " \u001b[38;5;124m'\u001b[39m\u001b[38;5;124mhas_ppi_kg\u001b[39m\u001b[38;5;124m'\u001b[39m: {\u001b[38;5;124m'\u001b[39m\u001b[38;5;124mabstract\u001b[39m\u001b[38;5;124m'\u001b[39m: \u001b[38;5;28;01mTrue\u001b[39;00m,\n",
      "                \u001b[38;5;124m'\u001b[39m\u001b[38;5;124mchildren\u001b[39m\u001b[38;5;124m'\u001b[39m: [{\u001b[38;5;124m'\u001b[39m\u001b[38;5;124mabstract\u001b[39m\u001b[38;5;124m'\u001b[39m: \u001b[38;5;28;01mFalse\u001b[39;00m, \u001b[38;5;124m'\u001b[39m\u001b[38;5;124mname\u001b[39m\u001b[38;5;124m'\u001b[39m: \u001b[38;5;124m'\u001b[39m\u001b[38;5;124mincreases_gly_kg\u001b[39m\u001b[38;5;124m'\u001b[39m},\n",
      "                             {\u001b[38;5;124m'\u001b[39m\u001b[38;5;124mabstract\u001b[39m\u001b[38;5;124m'\u001b[39m: \u001b[38;5;28;01mFalse\u001b[39;00m, \u001b[38;5;124m'\u001b[39m\u001b[38;5;124mname\u001b[39m\u001b[38;5;124m'\u001b[39m: \u001b[38;5;124m'\u001b[39m\u001b[38;5;124mincreases_me0_kg\u001b[39m\u001b[38;5;124m'\u001b[39m},\n",
      "                             {\u001b[38;5;124m'\u001b[39m\u001b[38;5;124mabstract\u001b[39m\u001b[38;5;124m'\u001b[39m: \u001b[38;5;28;01mFalse\u001b[39;00m, \u001b[38;5;124m'\u001b[39m\u001b[38;5;124mname\u001b[39m\u001b[38;5;124m'\u001b[39m: \u001b[38;5;124m'\u001b[39m\u001b[38;5;124mincreases_ubi_kg\u001b[39m\u001b[38;5;124m'\u001b[39m},\n",
      "                             {\u001b[38;5;124m'\u001b[39m\u001b[38;5;124mabstract\u001b[39m\u001b[38;5;124m'\u001b[39m: \u001b[38;5;28;01mFalse\u001b[39;00m, \u001b[38;5;124m'\u001b[39m\u001b[38;5;124mname\u001b[39m\u001b[38;5;124m'\u001b[39m: \u001b[38;5;124m'\u001b[39m\u001b[38;5;124mincreases_pho_kg\u001b[39m\u001b[38;5;124m'\u001b[39m},\n",
      "                             {\u001b[38;5;124m'\u001b[39m\u001b[38;5;124mabstract\u001b[39m\u001b[38;5;124m'\u001b[39m: \u001b[38;5;28;01mFalse\u001b[39;00m, \u001b[38;5;124m'\u001b[39m\u001b[38;5;124mname\u001b[39m\u001b[38;5;124m'\u001b[39m: \u001b[38;5;124m'\u001b[39m\u001b[38;5;124mdecreases_pho_kg\u001b[39m\u001b[38;5;124m'\u001b[39m}],\n",
      "                \u001b[38;5;124m'\u001b[39m\u001b[38;5;124mparents_path\u001b[39m\u001b[38;5;124m'\u001b[39m: [\u001b[38;5;124m'\u001b[39m\u001b[38;5;124mhas_ppi_kg\u001b[39m\u001b[38;5;124m'\u001b[39m,\n",
      "                                 \u001b[38;5;124m'\u001b[39m\u001b[38;5;124mpathway_interaction\u001b[39m\u001b[38;5;124m'\u001b[39m,\n",
      "                                 \u001b[38;5;124m'\u001b[39m\u001b[38;5;124mebel_relation\u001b[39m\u001b[38;5;124m'\u001b[39m,\n",
      "                                 \u001b[38;5;124m'\u001b[39m\u001b[38;5;124mE\u001b[39m\u001b[38;5;124m'\u001b[39m]},\n",
      " \u001b[38;5;124m'\u001b[39m\u001b[38;5;124mhas_ppi_st\u001b[39m\u001b[38;5;124m'\u001b[39m: {\u001b[38;5;124m'\u001b[39m\u001b[38;5;124mabstract\u001b[39m\u001b[38;5;124m'\u001b[39m: \u001b[38;5;28;01mFalse\u001b[39;00m,\n",
      "                \u001b[38;5;124m'\u001b[39m\u001b[38;5;124mchildren\u001b[39m\u001b[38;5;124m'\u001b[39m: [],\n",
      "                \u001b[38;5;124m'\u001b[39m\u001b[38;5;124min_out\u001b[39m\u001b[38;5;124m'\u001b[39m: {\u001b[38;5;124m'\u001b[39m\u001b[38;5;124min\u001b[39m\u001b[38;5;124m'\u001b[39m: \u001b[38;5;124m'\u001b[39m\u001b[38;5;124mprotein\u001b[39m\u001b[38;5;124m'\u001b[39m, \u001b[38;5;124m'\u001b[39m\u001b[38;5;124mout\u001b[39m\u001b[38;5;124m'\u001b[39m: \u001b[38;5;124m'\u001b[39m\u001b[38;5;124mprotein\u001b[39m\u001b[38;5;124m'\u001b[39m},\n",
      "                \u001b[38;5;124m'\u001b[39m\u001b[38;5;124mparents_path\u001b[39m\u001b[38;5;124m'\u001b[39m: [\u001b[38;5;124m'\u001b[39m\u001b[38;5;124mhas_ppi_st\u001b[39m\u001b[38;5;124m'\u001b[39m,\n",
      "                                 \u001b[38;5;124m'\u001b[39m\u001b[38;5;124mhas_ppi\u001b[39m\u001b[38;5;124m'\u001b[39m,\n",
      "                                 \u001b[38;5;124m'\u001b[39m\u001b[38;5;124mebel_relation\u001b[39m\u001b[38;5;124m'\u001b[39m,\n",
      "                                 \u001b[38;5;124m'\u001b[39m\u001b[38;5;124mE\u001b[39m\u001b[38;5;124m'\u001b[39m]},\n",
      " \u001b[38;5;124m'\u001b[39m\u001b[38;5;124mhas_side_effect\u001b[39m\u001b[38;5;124m'\u001b[39m: {\u001b[38;5;124m'\u001b[39m\u001b[38;5;124mabstract\u001b[39m\u001b[38;5;124m'\u001b[39m: \u001b[38;5;28;01mFalse\u001b[39;00m,\n",
      "                     \u001b[38;5;124m'\u001b[39m\u001b[38;5;124mchildren\u001b[39m\u001b[38;5;124m'\u001b[39m: [],\n",
      "                     \u001b[38;5;124m'\u001b[39m\u001b[38;5;124min_out\u001b[39m\u001b[38;5;124m'\u001b[39m: {\u001b[38;5;124m'\u001b[39m\u001b[38;5;124min\u001b[39m\u001b[38;5;124m'\u001b[39m: \u001b[38;5;124m'\u001b[39m\u001b[38;5;124mside_effect\u001b[39m\u001b[38;5;124m'\u001b[39m, \u001b[38;5;124m'\u001b[39m\u001b[38;5;124mout\u001b[39m\u001b[38;5;124m'\u001b[39m: \u001b[38;5;124m'\u001b[39m\u001b[38;5;124mdrug_db\u001b[39m\u001b[38;5;124m'\u001b[39m},\n",
      "                     \u001b[38;5;124m'\u001b[39m\u001b[38;5;124mparents_path\u001b[39m\u001b[38;5;124m'\u001b[39m: [\u001b[38;5;124m'\u001b[39m\u001b[38;5;124mhas_side_effect\u001b[39m\u001b[38;5;124m'\u001b[39m, \u001b[38;5;124m'\u001b[39m\u001b[38;5;124mebel_relation\u001b[39m\u001b[38;5;124m'\u001b[39m, \u001b[38;5;124m'\u001b[39m\u001b[38;5;124mE\u001b[39m\u001b[38;5;124m'\u001b[39m]},\n",
      " \u001b[38;5;124m'\u001b[39m\u001b[38;5;124mhas_snp\u001b[39m\u001b[38;5;124m'\u001b[39m: {\u001b[38;5;124m'\u001b[39m\u001b[38;5;124mabstract\u001b[39m\u001b[38;5;124m'\u001b[39m: \u001b[38;5;28;01mTrue\u001b[39;00m,\n",
      "             \u001b[38;5;124m'\u001b[39m\u001b[38;5;124mchildren\u001b[39m\u001b[38;5;124m'\u001b[39m: [{\u001b[38;5;124m'\u001b[39m\u001b[38;5;124mabstract\u001b[39m\u001b[38;5;124m'\u001b[39m: \u001b[38;5;28;01mTrue\u001b[39;00m, \u001b[38;5;124m'\u001b[39m\u001b[38;5;124mname\u001b[39m\u001b[38;5;124m'\u001b[39m: \u001b[38;5;124m'\u001b[39m\u001b[38;5;124mhas_snp_disgenet\u001b[39m\u001b[38;5;124m'\u001b[39m},\n",
      "                          {\u001b[38;5;124m'\u001b[39m\u001b[38;5;124mabstract\u001b[39m\u001b[38;5;124m'\u001b[39m: \u001b[38;5;28;01mTrue\u001b[39;00m, \u001b[38;5;124m'\u001b[39m\u001b[38;5;124mname\u001b[39m\u001b[38;5;124m'\u001b[39m: \u001b[38;5;124m'\u001b[39m\u001b[38;5;124mhas_snp_gwascatalog\u001b[39m\u001b[38;5;124m'\u001b[39m},\n",
      "                          {\u001b[38;5;124m'\u001b[39m\u001b[38;5;124mabstract\u001b[39m\u001b[38;5;124m'\u001b[39m: \u001b[38;5;28;01mTrue\u001b[39;00m, \u001b[38;5;124m'\u001b[39m\u001b[38;5;124mname\u001b[39m\u001b[38;5;124m'\u001b[39m: \u001b[38;5;124m'\u001b[39m\u001b[38;5;124mhas_mapped_snp\u001b[39m\u001b[38;5;124m'\u001b[39m},\n",
      "                          {\u001b[38;5;124m'\u001b[39m\u001b[38;5;124mabstract\u001b[39m\u001b[38;5;124m'\u001b[39m: \u001b[38;5;28;01mTrue\u001b[39;00m, \u001b[38;5;124m'\u001b[39m\u001b[38;5;124mname\u001b[39m\u001b[38;5;124m'\u001b[39m: \u001b[38;5;124m'\u001b[39m\u001b[38;5;124mhas_snp_clinvar\u001b[39m\u001b[38;5;124m'\u001b[39m},\n",
      "                          {\u001b[38;5;124m'\u001b[39m\u001b[38;5;124mabstract\u001b[39m\u001b[38;5;124m'\u001b[39m: \u001b[38;5;28;01mTrue\u001b[39;00m, \u001b[38;5;124m'\u001b[39m\u001b[38;5;124mname\u001b[39m\u001b[38;5;124m'\u001b[39m: \u001b[38;5;124m'\u001b[39m\u001b[38;5;124mhas_downstream_snp\u001b[39m\u001b[38;5;124m'\u001b[39m},\n",
      "                          {\u001b[38;5;124m'\u001b[39m\u001b[38;5;124mabstract\u001b[39m\u001b[38;5;124m'\u001b[39m: \u001b[38;5;28;01mTrue\u001b[39;00m, \u001b[38;5;124m'\u001b[39m\u001b[38;5;124mname\u001b[39m\u001b[38;5;124m'\u001b[39m: \u001b[38;5;124m'\u001b[39m\u001b[38;5;124mhas_upstream_snp\u001b[39m\u001b[38;5;124m'\u001b[39m}],\n",
      "             \u001b[38;5;124m'\u001b[39m\u001b[38;5;124min_out\u001b[39m\u001b[38;5;124m'\u001b[39m: {\u001b[38;5;124m'\u001b[39m\u001b[38;5;124min\u001b[39m\u001b[38;5;124m'\u001b[39m: \u001b[38;5;124m'\u001b[39m\u001b[38;5;124msnp\u001b[39m\u001b[38;5;124m'\u001b[39m, \u001b[38;5;124m'\u001b[39m\u001b[38;5;124mout\u001b[39m\u001b[38;5;124m'\u001b[39m: \u001b[38;5;124m'\u001b[39m\u001b[38;5;124mgene\u001b[39m\u001b[38;5;124m'\u001b[39m},\n",
      "             \u001b[38;5;124m'\u001b[39m\u001b[38;5;124mparents_path\u001b[39m\u001b[38;5;124m'\u001b[39m: [\u001b[38;5;124m'\u001b[39m\u001b[38;5;124mhas_snp\u001b[39m\u001b[38;5;124m'\u001b[39m, \u001b[38;5;124m'\u001b[39m\u001b[38;5;124mebel_relation\u001b[39m\u001b[38;5;124m'\u001b[39m, \u001b[38;5;124m'\u001b[39m\u001b[38;5;124mE\u001b[39m\u001b[38;5;124m'\u001b[39m]},\n",
      " \u001b[38;5;124m'\u001b[39m\u001b[38;5;124mhas_snp_clinvar\u001b[39m\u001b[38;5;124m'\u001b[39m: {\u001b[38;5;124m'\u001b[39m\u001b[38;5;124mabstract\u001b[39m\u001b[38;5;124m'\u001b[39m: \u001b[38;5;28;01mTrue\u001b[39;00m,\n",
      "                     \u001b[38;5;124m'\u001b[39m\u001b[38;5;124mchildren\u001b[39m\u001b[38;5;124m'\u001b[39m: [],\n",
      "                     \u001b[38;5;124m'\u001b[39m\u001b[38;5;124min_out\u001b[39m\u001b[38;5;124m'\u001b[39m: {\u001b[38;5;124m'\u001b[39m\u001b[38;5;124min\u001b[39m\u001b[38;5;124m'\u001b[39m: \u001b[38;5;124m'\u001b[39m\u001b[38;5;124msnp\u001b[39m\u001b[38;5;124m'\u001b[39m, \u001b[38;5;124m'\u001b[39m\u001b[38;5;124mout\u001b[39m\u001b[38;5;124m'\u001b[39m: \u001b[38;5;124m'\u001b[39m\u001b[38;5;124mgene\u001b[39m\u001b[38;5;124m'\u001b[39m},\n",
      "                     \u001b[38;5;124m'\u001b[39m\u001b[38;5;124mparents_path\u001b[39m\u001b[38;5;124m'\u001b[39m: [\u001b[38;5;124m'\u001b[39m\u001b[38;5;124mhas_snp_clinvar\u001b[39m\u001b[38;5;124m'\u001b[39m,\n",
      "                                      \u001b[38;5;124m'\u001b[39m\u001b[38;5;124mhas_snp\u001b[39m\u001b[38;5;124m'\u001b[39m,\n",
      "                                      \u001b[38;5;124m'\u001b[39m\u001b[38;5;124mebel_relation\u001b[39m\u001b[38;5;124m'\u001b[39m,\n",
      "                                      \u001b[38;5;124m'\u001b[39m\u001b[38;5;124mE\u001b[39m\u001b[38;5;124m'\u001b[39m]},\n",
      " \u001b[38;5;124m'\u001b[39m\u001b[38;5;124mhas_snp_disgenet\u001b[39m\u001b[38;5;124m'\u001b[39m: {\u001b[38;5;124m'\u001b[39m\u001b[38;5;124mabstract\u001b[39m\u001b[38;5;124m'\u001b[39m: \u001b[38;5;28;01mTrue\u001b[39;00m,\n",
      "                      \u001b[38;5;124m'\u001b[39m\u001b[38;5;124mchildren\u001b[39m\u001b[38;5;124m'\u001b[39m: [],\n",
      "                      \u001b[38;5;124m'\u001b[39m\u001b[38;5;124min_out\u001b[39m\u001b[38;5;124m'\u001b[39m: {\u001b[38;5;124m'\u001b[39m\u001b[38;5;124min\u001b[39m\u001b[38;5;124m'\u001b[39m: \u001b[38;5;124m'\u001b[39m\u001b[38;5;124msnp\u001b[39m\u001b[38;5;124m'\u001b[39m, \u001b[38;5;124m'\u001b[39m\u001b[38;5;124mout\u001b[39m\u001b[38;5;124m'\u001b[39m: \u001b[38;5;124m'\u001b[39m\u001b[38;5;124mgene\u001b[39m\u001b[38;5;124m'\u001b[39m},\n",
      "                      \u001b[38;5;124m'\u001b[39m\u001b[38;5;124mparents_path\u001b[39m\u001b[38;5;124m'\u001b[39m: [\u001b[38;5;124m'\u001b[39m\u001b[38;5;124mhas_snp_disgenet\u001b[39m\u001b[38;5;124m'\u001b[39m,\n",
      "                                       \u001b[38;5;124m'\u001b[39m\u001b[38;5;124mhas_snp\u001b[39m\u001b[38;5;124m'\u001b[39m,\n",
      "                                       \u001b[38;5;124m'\u001b[39m\u001b[38;5;124mebel_relation\u001b[39m\u001b[38;5;124m'\u001b[39m,\n",
      "                                       \u001b[38;5;124m'\u001b[39m\u001b[38;5;124mE\u001b[39m\u001b[38;5;124m'\u001b[39m]},\n",
      " \u001b[38;5;124m'\u001b[39m\u001b[38;5;124mhas_snp_gwascatalog\u001b[39m\u001b[38;5;124m'\u001b[39m: {\u001b[38;5;124m'\u001b[39m\u001b[38;5;124mabstract\u001b[39m\u001b[38;5;124m'\u001b[39m: \u001b[38;5;28;01mTrue\u001b[39;00m,\n",
      "                         \u001b[38;5;124m'\u001b[39m\u001b[38;5;124mchildren\u001b[39m\u001b[38;5;124m'\u001b[39m: [],\n",
      "                         \u001b[38;5;124m'\u001b[39m\u001b[38;5;124min_out\u001b[39m\u001b[38;5;124m'\u001b[39m: {\u001b[38;5;124m'\u001b[39m\u001b[38;5;124min\u001b[39m\u001b[38;5;124m'\u001b[39m: \u001b[38;5;124m'\u001b[39m\u001b[38;5;124msnp\u001b[39m\u001b[38;5;124m'\u001b[39m, \u001b[38;5;124m'\u001b[39m\u001b[38;5;124mout\u001b[39m\u001b[38;5;124m'\u001b[39m: \u001b[38;5;124m'\u001b[39m\u001b[38;5;124mgene\u001b[39m\u001b[38;5;124m'\u001b[39m},\n",
      "                         \u001b[38;5;124m'\u001b[39m\u001b[38;5;124mparents_path\u001b[39m\u001b[38;5;124m'\u001b[39m: [\u001b[38;5;124m'\u001b[39m\u001b[38;5;124mhas_snp_gwascatalog\u001b[39m\u001b[38;5;124m'\u001b[39m,\n",
      "                                          \u001b[38;5;124m'\u001b[39m\u001b[38;5;124mhas_snp\u001b[39m\u001b[38;5;124m'\u001b[39m,\n",
      "                                          \u001b[38;5;124m'\u001b[39m\u001b[38;5;124mebel_relation\u001b[39m\u001b[38;5;124m'\u001b[39m,\n",
      "                                          \u001b[38;5;124m'\u001b[39m\u001b[38;5;124mE\u001b[39m\u001b[38;5;124m'\u001b[39m]},\n",
      " \u001b[38;5;124m'\u001b[39m\u001b[38;5;124mhas_upstream_snp\u001b[39m\u001b[38;5;124m'\u001b[39m: {\u001b[38;5;124m'\u001b[39m\u001b[38;5;124mabstract\u001b[39m\u001b[38;5;124m'\u001b[39m: \u001b[38;5;28;01mTrue\u001b[39;00m,\n",
      "                      \u001b[38;5;124m'\u001b[39m\u001b[38;5;124mchildren\u001b[39m\u001b[38;5;124m'\u001b[39m: [{\u001b[38;5;124m'\u001b[39m\u001b[38;5;124mabstract\u001b[39m\u001b[38;5;124m'\u001b[39m: \u001b[38;5;28;01mFalse\u001b[39;00m,\n",
      "                                    \u001b[38;5;124m'\u001b[39m\u001b[38;5;124mname\u001b[39m\u001b[38;5;124m'\u001b[39m: \u001b[38;5;124m'\u001b[39m\u001b[38;5;124mhas_upstream_snp_gc\u001b[39m\u001b[38;5;124m'\u001b[39m},\n",
      "                                   {\u001b[38;5;124m'\u001b[39m\u001b[38;5;124mabstract\u001b[39m\u001b[38;5;124m'\u001b[39m: \u001b[38;5;28;01mFalse\u001b[39;00m,\n",
      "                                    \u001b[38;5;124m'\u001b[39m\u001b[38;5;124mname\u001b[39m\u001b[38;5;124m'\u001b[39m: \u001b[38;5;124m'\u001b[39m\u001b[38;5;124mhas_upstream_snp_cv\u001b[39m\u001b[38;5;124m'\u001b[39m},\n",
      "                                   {\u001b[38;5;124m'\u001b[39m\u001b[38;5;124mabstract\u001b[39m\u001b[38;5;124m'\u001b[39m: \u001b[38;5;28;01mFalse\u001b[39;00m,\n",
      "                                    \u001b[38;5;124m'\u001b[39m\u001b[38;5;124mname\u001b[39m\u001b[38;5;124m'\u001b[39m: \u001b[38;5;124m'\u001b[39m\u001b[38;5;124mhas_upstream_snp_dgn\u001b[39m\u001b[38;5;124m'\u001b[39m}],\n",
      "                      \u001b[38;5;124m'\u001b[39m\u001b[38;5;124min_out\u001b[39m\u001b[38;5;124m'\u001b[39m: {\u001b[38;5;124m'\u001b[39m\u001b[38;5;124min\u001b[39m\u001b[38;5;124m'\u001b[39m: \u001b[38;5;124m'\u001b[39m\u001b[38;5;124msnp\u001b[39m\u001b[38;5;124m'\u001b[39m, \u001b[38;5;124m'\u001b[39m\u001b[38;5;124mout\u001b[39m\u001b[38;5;124m'\u001b[39m: \u001b[38;5;124m'\u001b[39m\u001b[38;5;124mgene\u001b[39m\u001b[38;5;124m'\u001b[39m},\n",
      "                      \u001b[38;5;124m'\u001b[39m\u001b[38;5;124mparents_path\u001b[39m\u001b[38;5;124m'\u001b[39m: [\u001b[38;5;124m'\u001b[39m\u001b[38;5;124mhas_upstream_snp\u001b[39m\u001b[38;5;124m'\u001b[39m,\n",
      "                                       \u001b[38;5;124m'\u001b[39m\u001b[38;5;124mhas_snp\u001b[39m\u001b[38;5;124m'\u001b[39m,\n",
      "                                       \u001b[38;5;124m'\u001b[39m\u001b[38;5;124mebel_relation\u001b[39m\u001b[38;5;124m'\u001b[39m,\n",
      "                                       \u001b[38;5;124m'\u001b[39m\u001b[38;5;124mE\u001b[39m\u001b[38;5;124m'\u001b[39m]},\n",
      " \u001b[38;5;124m'\u001b[39m\u001b[38;5;124mhas_upstream_snp_cv\u001b[39m\u001b[38;5;124m'\u001b[39m: {\u001b[38;5;124m'\u001b[39m\u001b[38;5;124mabstract\u001b[39m\u001b[38;5;124m'\u001b[39m: \u001b[38;5;28;01mFalse\u001b[39;00m,\n",
      "                         \u001b[38;5;124m'\u001b[39m\u001b[38;5;124mchildren\u001b[39m\u001b[38;5;124m'\u001b[39m: [],\n",
      "                         \u001b[38;5;124m'\u001b[39m\u001b[38;5;124min_out\u001b[39m\u001b[38;5;124m'\u001b[39m: {\u001b[38;5;124m'\u001b[39m\u001b[38;5;124min\u001b[39m\u001b[38;5;124m'\u001b[39m: \u001b[38;5;124m'\u001b[39m\u001b[38;5;124msnp\u001b[39m\u001b[38;5;124m'\u001b[39m, \u001b[38;5;124m'\u001b[39m\u001b[38;5;124mout\u001b[39m\u001b[38;5;124m'\u001b[39m: \u001b[38;5;124m'\u001b[39m\u001b[38;5;124mgene\u001b[39m\u001b[38;5;124m'\u001b[39m},\n",
      "                         \u001b[38;5;124m'\u001b[39m\u001b[38;5;124mparents_path\u001b[39m\u001b[38;5;124m'\u001b[39m: [\u001b[38;5;124m'\u001b[39m\u001b[38;5;124mhas_upstream_snp_cv\u001b[39m\u001b[38;5;124m'\u001b[39m,\n",
      "                                          \u001b[38;5;124m'\u001b[39m\u001b[38;5;124mhas_upstream_snp\u001b[39m\u001b[38;5;124m'\u001b[39m,\n",
      "                                          \u001b[38;5;124m'\u001b[39m\u001b[38;5;124mhas_snp\u001b[39m\u001b[38;5;124m'\u001b[39m,\n",
      "                                          \u001b[38;5;124m'\u001b[39m\u001b[38;5;124mebel_relation\u001b[39m\u001b[38;5;124m'\u001b[39m,\n",
      "                                          \u001b[38;5;124m'\u001b[39m\u001b[38;5;124mE\u001b[39m\u001b[38;5;124m'\u001b[39m]},\n",
      " \u001b[38;5;124m'\u001b[39m\u001b[38;5;124mhas_upstream_snp_dgn\u001b[39m\u001b[38;5;124m'\u001b[39m: {\u001b[38;5;124m'\u001b[39m\u001b[38;5;124mabstract\u001b[39m\u001b[38;5;124m'\u001b[39m: \u001b[38;5;28;01mFalse\u001b[39;00m,\n",
      "                          \u001b[38;5;124m'\u001b[39m\u001b[38;5;124mchildren\u001b[39m\u001b[38;5;124m'\u001b[39m: [],\n",
      "                          \u001b[38;5;124m'\u001b[39m\u001b[38;5;124min_out\u001b[39m\u001b[38;5;124m'\u001b[39m: {\u001b[38;5;124m'\u001b[39m\u001b[38;5;124min\u001b[39m\u001b[38;5;124m'\u001b[39m: \u001b[38;5;124m'\u001b[39m\u001b[38;5;124msnp\u001b[39m\u001b[38;5;124m'\u001b[39m, \u001b[38;5;124m'\u001b[39m\u001b[38;5;124mout\u001b[39m\u001b[38;5;124m'\u001b[39m: \u001b[38;5;124m'\u001b[39m\u001b[38;5;124mgene\u001b[39m\u001b[38;5;124m'\u001b[39m},\n",
      "                          \u001b[38;5;124m'\u001b[39m\u001b[38;5;124mparents_path\u001b[39m\u001b[38;5;124m'\u001b[39m: [\u001b[38;5;124m'\u001b[39m\u001b[38;5;124mhas_upstream_snp_dgn\u001b[39m\u001b[38;5;124m'\u001b[39m,\n",
      "                                           \u001b[38;5;124m'\u001b[39m\u001b[38;5;124mhas_upstream_snp\u001b[39m\u001b[38;5;124m'\u001b[39m,\n",
      "                                           \u001b[38;5;124m'\u001b[39m\u001b[38;5;124mhas_snp\u001b[39m\u001b[38;5;124m'\u001b[39m,\n",
      "                                           \u001b[38;5;124m'\u001b[39m\u001b[38;5;124mebel_relation\u001b[39m\u001b[38;5;124m'\u001b[39m,\n",
      "                                           \u001b[38;5;124m'\u001b[39m\u001b[38;5;124mE\u001b[39m\u001b[38;5;124m'\u001b[39m]},\n",
      " \u001b[38;5;124m'\u001b[39m\u001b[38;5;124mhas_upstream_snp_gc\u001b[39m\u001b[38;5;124m'\u001b[39m: {\u001b[38;5;124m'\u001b[39m\u001b[38;5;124mabstract\u001b[39m\u001b[38;5;124m'\u001b[39m: \u001b[38;5;28;01mFalse\u001b[39;00m,\n",
      "                         \u001b[38;5;124m'\u001b[39m\u001b[38;5;124mchildren\u001b[39m\u001b[38;5;124m'\u001b[39m: [],\n",
      "                         \u001b[38;5;124m'\u001b[39m\u001b[38;5;124min_out\u001b[39m\u001b[38;5;124m'\u001b[39m: {\u001b[38;5;124m'\u001b[39m\u001b[38;5;124min\u001b[39m\u001b[38;5;124m'\u001b[39m: \u001b[38;5;124m'\u001b[39m\u001b[38;5;124msnp\u001b[39m\u001b[38;5;124m'\u001b[39m, \u001b[38;5;124m'\u001b[39m\u001b[38;5;124mout\u001b[39m\u001b[38;5;124m'\u001b[39m: \u001b[38;5;124m'\u001b[39m\u001b[38;5;124mgene\u001b[39m\u001b[38;5;124m'\u001b[39m},\n",
      "                         \u001b[38;5;124m'\u001b[39m\u001b[38;5;124mparents_path\u001b[39m\u001b[38;5;124m'\u001b[39m: [\u001b[38;5;124m'\u001b[39m\u001b[38;5;124mhas_upstream_snp_gc\u001b[39m\u001b[38;5;124m'\u001b[39m,\n",
      "                                          \u001b[38;5;124m'\u001b[39m\u001b[38;5;124mhas_upstream_snp\u001b[39m\u001b[38;5;124m'\u001b[39m,\n",
      "                                          \u001b[38;5;124m'\u001b[39m\u001b[38;5;124mhas_snp\u001b[39m\u001b[38;5;124m'\u001b[39m,\n",
      "                                          \u001b[38;5;124m'\u001b[39m\u001b[38;5;124mebel_relation\u001b[39m\u001b[38;5;124m'\u001b[39m,\n",
      "                                          \u001b[38;5;124m'\u001b[39m\u001b[38;5;124mE\u001b[39m\u001b[38;5;124m'\u001b[39m]},\n",
      " \u001b[38;5;124m'\u001b[39m\u001b[38;5;124mhas_variant_gene\u001b[39m\u001b[38;5;124m'\u001b[39m: {\u001b[38;5;124m'\u001b[39m\u001b[38;5;124mabstract\u001b[39m\u001b[38;5;124m'\u001b[39m: \u001b[38;5;28;01mFalse\u001b[39;00m,\n",
      "                      \u001b[38;5;124m'\u001b[39m\u001b[38;5;124mchildren\u001b[39m\u001b[38;5;124m'\u001b[39m: [],\n",
      "                      \u001b[38;5;124m'\u001b[39m\u001b[38;5;124min_out\u001b[39m\u001b[38;5;124m'\u001b[39m: {\u001b[38;5;124m'\u001b[39m\u001b[38;5;124min\u001b[39m\u001b[38;5;124m'\u001b[39m: \u001b[38;5;124m'\u001b[39m\u001b[38;5;124mgene\u001b[39m\u001b[38;5;124m'\u001b[39m, \u001b[38;5;124m'\u001b[39m\u001b[38;5;124mout\u001b[39m\u001b[38;5;124m'\u001b[39m: \u001b[38;5;124m'\u001b[39m\u001b[38;5;124mgene\u001b[39m\u001b[38;5;124m'\u001b[39m},\n",
      "                      \u001b[38;5;124m'\u001b[39m\u001b[38;5;124mparents_path\u001b[39m\u001b[38;5;124m'\u001b[39m: [\u001b[38;5;124m'\u001b[39m\u001b[38;5;124mhas_variant_gene\u001b[39m\u001b[38;5;124m'\u001b[39m,\n",
      "                                       \u001b[38;5;124m'\u001b[39m\u001b[38;5;124mhas_variant_obj\u001b[39m\u001b[38;5;124m'\u001b[39m,\n",
      "                                       \u001b[38;5;124m'\u001b[39m\u001b[38;5;124mebel_relation\u001b[39m\u001b[38;5;124m'\u001b[39m,\n",
      "                                       \u001b[38;5;124m'\u001b[39m\u001b[38;5;124mE\u001b[39m\u001b[38;5;124m'\u001b[39m]},\n",
      " \u001b[38;5;124m'\u001b[39m\u001b[38;5;124mhas_variant_micro_rna\u001b[39m\u001b[38;5;124m'\u001b[39m: {\u001b[38;5;124m'\u001b[39m\u001b[38;5;124mabstract\u001b[39m\u001b[38;5;124m'\u001b[39m: \u001b[38;5;28;01mFalse\u001b[39;00m,\n",
      "                           \u001b[38;5;124m'\u001b[39m\u001b[38;5;124mchildren\u001b[39m\u001b[38;5;124m'\u001b[39m: [],\n",
      "                           \u001b[38;5;124m'\u001b[39m\u001b[38;5;124min_out\u001b[39m\u001b[38;5;124m'\u001b[39m: {\u001b[38;5;124m'\u001b[39m\u001b[38;5;124min\u001b[39m\u001b[38;5;124m'\u001b[39m: \u001b[38;5;124m'\u001b[39m\u001b[38;5;124mmicro_rna\u001b[39m\u001b[38;5;124m'\u001b[39m, \u001b[38;5;124m'\u001b[39m\u001b[38;5;124mout\u001b[39m\u001b[38;5;124m'\u001b[39m: \u001b[38;5;124m'\u001b[39m\u001b[38;5;124mmicro_rna\u001b[39m\u001b[38;5;124m'\u001b[39m},\n",
      "                           \u001b[38;5;124m'\u001b[39m\u001b[38;5;124mparents_path\u001b[39m\u001b[38;5;124m'\u001b[39m: [\u001b[38;5;124m'\u001b[39m\u001b[38;5;124mhas_variant_micro_rna\u001b[39m\u001b[38;5;124m'\u001b[39m,\n",
      "                                            \u001b[38;5;124m'\u001b[39m\u001b[38;5;124mhas_variant_obj\u001b[39m\u001b[38;5;124m'\u001b[39m,\n",
      "                                            \u001b[38;5;124m'\u001b[39m\u001b[38;5;124mebel_relation\u001b[39m\u001b[38;5;124m'\u001b[39m,\n",
      "                                            \u001b[38;5;124m'\u001b[39m\u001b[38;5;124mE\u001b[39m\u001b[38;5;124m'\u001b[39m]},\n",
      " \u001b[38;5;124m'\u001b[39m\u001b[38;5;124mhas_variant_obj\u001b[39m\u001b[38;5;124m'\u001b[39m: {\u001b[38;5;124m'\u001b[39m\u001b[38;5;124mabstract\u001b[39m\u001b[38;5;124m'\u001b[39m: \u001b[38;5;28;01mTrue\u001b[39;00m,\n",
      "                     \u001b[38;5;124m'\u001b[39m\u001b[38;5;124mchildren\u001b[39m\u001b[38;5;124m'\u001b[39m: [{\u001b[38;5;124m'\u001b[39m\u001b[38;5;124mabstract\u001b[39m\u001b[38;5;124m'\u001b[39m: \u001b[38;5;28;01mFalse\u001b[39;00m,\n",
      "                                   \u001b[38;5;124m'\u001b[39m\u001b[38;5;124mname\u001b[39m\u001b[38;5;124m'\u001b[39m: \u001b[38;5;124m'\u001b[39m\u001b[38;5;124mhas_variant_gene\u001b[39m\u001b[38;5;124m'\u001b[39m},\n",
      "                                  {\u001b[38;5;124m'\u001b[39m\u001b[38;5;124mabstract\u001b[39m\u001b[38;5;124m'\u001b[39m: \u001b[38;5;28;01mFalse\u001b[39;00m,\n",
      "                                   \u001b[38;5;124m'\u001b[39m\u001b[38;5;124mname\u001b[39m\u001b[38;5;124m'\u001b[39m: \u001b[38;5;124m'\u001b[39m\u001b[38;5;124mhas_variant_protein\u001b[39m\u001b[38;5;124m'\u001b[39m},\n",
      "                                  {\u001b[38;5;124m'\u001b[39m\u001b[38;5;124mabstract\u001b[39m\u001b[38;5;124m'\u001b[39m: \u001b[38;5;28;01mFalse\u001b[39;00m,\n",
      "                                   \u001b[38;5;124m'\u001b[39m\u001b[38;5;124mname\u001b[39m\u001b[38;5;124m'\u001b[39m: \u001b[38;5;124m'\u001b[39m\u001b[38;5;124mhas_variant_micro_rna\u001b[39m\u001b[38;5;124m'\u001b[39m},\n",
      "                                  {\u001b[38;5;124m'\u001b[39m\u001b[38;5;124mabstract\u001b[39m\u001b[38;5;124m'\u001b[39m: \u001b[38;5;28;01mFalse\u001b[39;00m,\n",
      "                                   \u001b[38;5;124m'\u001b[39m\u001b[38;5;124mname\u001b[39m\u001b[38;5;124m'\u001b[39m: \u001b[38;5;124m'\u001b[39m\u001b[38;5;124mhas_variant_rna\u001b[39m\u001b[38;5;124m'\u001b[39m}],\n",
      "                     \u001b[38;5;124m'\u001b[39m\u001b[38;5;124mparents_path\u001b[39m\u001b[38;5;124m'\u001b[39m: [\u001b[38;5;124m'\u001b[39m\u001b[38;5;124mhas_variant_obj\u001b[39m\u001b[38;5;124m'\u001b[39m, \u001b[38;5;124m'\u001b[39m\u001b[38;5;124mebel_relation\u001b[39m\u001b[38;5;124m'\u001b[39m, \u001b[38;5;124m'\u001b[39m\u001b[38;5;124mE\u001b[39m\u001b[38;5;124m'\u001b[39m]},\n",
      " \u001b[38;5;124m'\u001b[39m\u001b[38;5;124mhas_variant_protein\u001b[39m\u001b[38;5;124m'\u001b[39m: {\u001b[38;5;124m'\u001b[39m\u001b[38;5;124mabstract\u001b[39m\u001b[38;5;124m'\u001b[39m: \u001b[38;5;28;01mFalse\u001b[39;00m,\n",
      "                         \u001b[38;5;124m'\u001b[39m\u001b[38;5;124mchildren\u001b[39m\u001b[38;5;124m'\u001b[39m: [],\n",
      "                         \u001b[38;5;124m'\u001b[39m\u001b[38;5;124min_out\u001b[39m\u001b[38;5;124m'\u001b[39m: {\u001b[38;5;124m'\u001b[39m\u001b[38;5;124min\u001b[39m\u001b[38;5;124m'\u001b[39m: \u001b[38;5;124m'\u001b[39m\u001b[38;5;124mprotein\u001b[39m\u001b[38;5;124m'\u001b[39m, \u001b[38;5;124m'\u001b[39m\u001b[38;5;124mout\u001b[39m\u001b[38;5;124m'\u001b[39m: \u001b[38;5;124m'\u001b[39m\u001b[38;5;124mprotein\u001b[39m\u001b[38;5;124m'\u001b[39m},\n",
      "                         \u001b[38;5;124m'\u001b[39m\u001b[38;5;124mparents_path\u001b[39m\u001b[38;5;124m'\u001b[39m: [\u001b[38;5;124m'\u001b[39m\u001b[38;5;124mhas_variant_protein\u001b[39m\u001b[38;5;124m'\u001b[39m,\n",
      "                                          \u001b[38;5;124m'\u001b[39m\u001b[38;5;124mhas_variant_obj\u001b[39m\u001b[38;5;124m'\u001b[39m,\n",
      "                                          \u001b[38;5;124m'\u001b[39m\u001b[38;5;124mebel_relation\u001b[39m\u001b[38;5;124m'\u001b[39m,\n",
      "                                          \u001b[38;5;124m'\u001b[39m\u001b[38;5;124mE\u001b[39m\u001b[38;5;124m'\u001b[39m]},\n",
      " \u001b[38;5;124m'\u001b[39m\u001b[38;5;124mhas_variant_rna\u001b[39m\u001b[38;5;124m'\u001b[39m: {\u001b[38;5;124m'\u001b[39m\u001b[38;5;124mabstract\u001b[39m\u001b[38;5;124m'\u001b[39m: \u001b[38;5;28;01mFalse\u001b[39;00m,\n",
      "                     \u001b[38;5;124m'\u001b[39m\u001b[38;5;124mchildren\u001b[39m\u001b[38;5;124m'\u001b[39m: [],\n",
      "                     \u001b[38;5;124m'\u001b[39m\u001b[38;5;124min_out\u001b[39m\u001b[38;5;124m'\u001b[39m: {\u001b[38;5;124m'\u001b[39m\u001b[38;5;124min\u001b[39m\u001b[38;5;124m'\u001b[39m: \u001b[38;5;124m'\u001b[39m\u001b[38;5;124mrna\u001b[39m\u001b[38;5;124m'\u001b[39m, \u001b[38;5;124m'\u001b[39m\u001b[38;5;124mout\u001b[39m\u001b[38;5;124m'\u001b[39m: \u001b[38;5;124m'\u001b[39m\u001b[38;5;124mrna\u001b[39m\u001b[38;5;124m'\u001b[39m},\n",
      "                     \u001b[38;5;124m'\u001b[39m\u001b[38;5;124mparents_path\u001b[39m\u001b[38;5;124m'\u001b[39m: [\u001b[38;5;124m'\u001b[39m\u001b[38;5;124mhas_variant_rna\u001b[39m\u001b[38;5;124m'\u001b[39m,\n",
      "                                      \u001b[38;5;124m'\u001b[39m\u001b[38;5;124mhas_variant_obj\u001b[39m\u001b[38;5;124m'\u001b[39m,\n",
      "                                      \u001b[38;5;124m'\u001b[39m\u001b[38;5;124mebel_relation\u001b[39m\u001b[38;5;124m'\u001b[39m,\n",
      "                                      \u001b[38;5;124m'\u001b[39m\u001b[38;5;124mE\u001b[39m\u001b[38;5;124m'\u001b[39m]},\n",
      " \u001b[38;5;124m'\u001b[39m\u001b[38;5;124mincreases_ace_bg\u001b[39m\u001b[38;5;124m'\u001b[39m: {\u001b[38;5;124m'\u001b[39m\u001b[38;5;124mabstract\u001b[39m\u001b[38;5;124m'\u001b[39m: \u001b[38;5;28;01mFalse\u001b[39;00m,\n",
      "                      \u001b[38;5;124m'\u001b[39m\u001b[38;5;124mchildren\u001b[39m\u001b[38;5;124m'\u001b[39m: [],\n",
      "                      \u001b[38;5;124m'\u001b[39m\u001b[38;5;124min_out\u001b[39m\u001b[38;5;124m'\u001b[39m: {\u001b[38;5;124m'\u001b[39m\u001b[38;5;124min\u001b[39m\u001b[38;5;124m'\u001b[39m: \u001b[38;5;124m'\u001b[39m\u001b[38;5;124mprotein\u001b[39m\u001b[38;5;124m'\u001b[39m, \u001b[38;5;124m'\u001b[39m\u001b[38;5;124mout\u001b[39m\u001b[38;5;124m'\u001b[39m: \u001b[38;5;124m'\u001b[39m\u001b[38;5;124mprotein\u001b[39m\u001b[38;5;124m'\u001b[39m},\n",
      "                      \u001b[38;5;124m'\u001b[39m\u001b[38;5;124mparents_path\u001b[39m\u001b[38;5;124m'\u001b[39m: [\u001b[38;5;124m'\u001b[39m\u001b[38;5;124mincreases_ace_bg\u001b[39m\u001b[38;5;124m'\u001b[39m,\n",
      "                                       \u001b[38;5;124m'\u001b[39m\u001b[38;5;124mhas_ppi_bg\u001b[39m\u001b[38;5;124m'\u001b[39m,\n",
      "                                       \u001b[38;5;124m'\u001b[39m\u001b[38;5;124mhas_ppi\u001b[39m\u001b[38;5;124m'\u001b[39m,\n",
      "                                       \u001b[38;5;124m'\u001b[39m\u001b[38;5;124mebel_relation\u001b[39m\u001b[38;5;124m'\u001b[39m,\n",
      "                                       \u001b[38;5;124m'\u001b[39m\u001b[38;5;124mE\u001b[39m\u001b[38;5;124m'\u001b[39m]},\n",
      " \u001b[38;5;124m'\u001b[39m\u001b[38;5;124mincreases_add_bg\u001b[39m\u001b[38;5;124m'\u001b[39m: {\u001b[38;5;124m'\u001b[39m\u001b[38;5;124mabstract\u001b[39m\u001b[38;5;124m'\u001b[39m: \u001b[38;5;28;01mFalse\u001b[39;00m,\n",
      "                      \u001b[38;5;124m'\u001b[39m\u001b[38;5;124mchildren\u001b[39m\u001b[38;5;124m'\u001b[39m: [],\n",
      "                      \u001b[38;5;124m'\u001b[39m\u001b[38;5;124min_out\u001b[39m\u001b[38;5;124m'\u001b[39m: {\u001b[38;5;124m'\u001b[39m\u001b[38;5;124min\u001b[39m\u001b[38;5;124m'\u001b[39m: \u001b[38;5;124m'\u001b[39m\u001b[38;5;124mprotein\u001b[39m\u001b[38;5;124m'\u001b[39m, \u001b[38;5;124m'\u001b[39m\u001b[38;5;124mout\u001b[39m\u001b[38;5;124m'\u001b[39m: \u001b[38;5;124m'\u001b[39m\u001b[38;5;124mprotein\u001b[39m\u001b[38;5;124m'\u001b[39m},\n",
      "                      \u001b[38;5;124m'\u001b[39m\u001b[38;5;124mparents_path\u001b[39m\u001b[38;5;124m'\u001b[39m: [\u001b[38;5;124m'\u001b[39m\u001b[38;5;124mincreases_add_bg\u001b[39m\u001b[38;5;124m'\u001b[39m,\n",
      "                                       \u001b[38;5;124m'\u001b[39m\u001b[38;5;124mhas_ppi_bg\u001b[39m\u001b[38;5;124m'\u001b[39m,\n",
      "                                       \u001b[38;5;124m'\u001b[39m\u001b[38;5;124mhas_ppi\u001b[39m\u001b[38;5;124m'\u001b[39m,\n",
      "                                       \u001b[38;5;124m'\u001b[39m\u001b[38;5;124mebel_relation\u001b[39m\u001b[38;5;124m'\u001b[39m,\n",
      "                                       \u001b[38;5;124m'\u001b[39m\u001b[38;5;124mE\u001b[39m\u001b[38;5;124m'\u001b[39m]},\n",
      " \u001b[38;5;124m'\u001b[39m\u001b[38;5;124mincreases_adr_bg\u001b[39m\u001b[38;5;124m'\u001b[39m: {\u001b[38;5;124m'\u001b[39m\u001b[38;5;124mabstract\u001b[39m\u001b[38;5;124m'\u001b[39m: \u001b[38;5;28;01mFalse\u001b[39;00m,\n",
      "                      \u001b[38;5;124m'\u001b[39m\u001b[38;5;124mchildren\u001b[39m\u001b[38;5;124m'\u001b[39m: [],\n",
      "                      \u001b[38;5;124m'\u001b[39m\u001b[38;5;124min_out\u001b[39m\u001b[38;5;124m'\u001b[39m: {\u001b[38;5;124m'\u001b[39m\u001b[38;5;124min\u001b[39m\u001b[38;5;124m'\u001b[39m: \u001b[38;5;124m'\u001b[39m\u001b[38;5;124mprotein\u001b[39m\u001b[38;5;124m'\u001b[39m, \u001b[38;5;124m'\u001b[39m\u001b[38;5;124mout\u001b[39m\u001b[38;5;124m'\u001b[39m: \u001b[38;5;124m'\u001b[39m\u001b[38;5;124mprotein\u001b[39m\u001b[38;5;124m'\u001b[39m},\n",
      "                      \u001b[38;5;124m'\u001b[39m\u001b[38;5;124mparents_path\u001b[39m\u001b[38;5;124m'\u001b[39m: [\u001b[38;5;124m'\u001b[39m\u001b[38;5;124mincreases_adr_bg\u001b[39m\u001b[38;5;124m'\u001b[39m,\n",
      "                                       \u001b[38;5;124m'\u001b[39m\u001b[38;5;124mhas_ppi_bg\u001b[39m\u001b[38;5;124m'\u001b[39m,\n",
      "                                       \u001b[38;5;124m'\u001b[39m\u001b[38;5;124mhas_ppi\u001b[39m\u001b[38;5;124m'\u001b[39m,\n",
      "                                       \u001b[38;5;124m'\u001b[39m\u001b[38;5;124mebel_relation\u001b[39m\u001b[38;5;124m'\u001b[39m,\n",
      "                                       \u001b[38;5;124m'\u001b[39m\u001b[38;5;124mE\u001b[39m\u001b[38;5;124m'\u001b[39m]},\n",
      " \u001b[38;5;124m'\u001b[39m\u001b[38;5;124mincreases_dei_bg\u001b[39m\u001b[38;5;124m'\u001b[39m: {\u001b[38;5;124m'\u001b[39m\u001b[38;5;124mabstract\u001b[39m\u001b[38;5;124m'\u001b[39m: \u001b[38;5;28;01mFalse\u001b[39;00m,\n",
      "                      \u001b[38;5;124m'\u001b[39m\u001b[38;5;124mchildren\u001b[39m\u001b[38;5;124m'\u001b[39m: [],\n",
      "                      \u001b[38;5;124m'\u001b[39m\u001b[38;5;124min_out\u001b[39m\u001b[38;5;124m'\u001b[39m: {\u001b[38;5;124m'\u001b[39m\u001b[38;5;124min\u001b[39m\u001b[38;5;124m'\u001b[39m: \u001b[38;5;124m'\u001b[39m\u001b[38;5;124mprotein\u001b[39m\u001b[38;5;124m'\u001b[39m, \u001b[38;5;124m'\u001b[39m\u001b[38;5;124mout\u001b[39m\u001b[38;5;124m'\u001b[39m: \u001b[38;5;124m'\u001b[39m\u001b[38;5;124mprotein\u001b[39m\u001b[38;5;124m'\u001b[39m},\n",
      "                      \u001b[38;5;124m'\u001b[39m\u001b[38;5;124mparents_path\u001b[39m\u001b[38;5;124m'\u001b[39m: [\u001b[38;5;124m'\u001b[39m\u001b[38;5;124mincreases_dei_bg\u001b[39m\u001b[38;5;124m'\u001b[39m,\n",
      "                                       \u001b[38;5;124m'\u001b[39m\u001b[38;5;124mhas_ppi_bg\u001b[39m\u001b[38;5;124m'\u001b[39m,\n",
      "                                       \u001b[38;5;124m'\u001b[39m\u001b[38;5;124mhas_ppi\u001b[39m\u001b[38;5;124m'\u001b[39m,\n",
      "                                       \u001b[38;5;124m'\u001b[39m\u001b[38;5;124mebel_relation\u001b[39m\u001b[38;5;124m'\u001b[39m,\n",
      "                                       \u001b[38;5;124m'\u001b[39m\u001b[38;5;124mE\u001b[39m\u001b[38;5;124m'\u001b[39m]},\n",
      " \u001b[38;5;124m'\u001b[39m\u001b[38;5;124mincreases_expression_of_st\u001b[39m\u001b[38;5;124m'\u001b[39m: {\u001b[38;5;124m'\u001b[39m\u001b[38;5;124mabstract\u001b[39m\u001b[38;5;124m'\u001b[39m: \u001b[38;5;28;01mFalse\u001b[39;00m,\n",
      "                                \u001b[38;5;124m'\u001b[39m\u001b[38;5;124mchildren\u001b[39m\u001b[38;5;124m'\u001b[39m: [],\n",
      "                                \u001b[38;5;124m'\u001b[39m\u001b[38;5;124min_out\u001b[39m\u001b[38;5;124m'\u001b[39m: {\u001b[38;5;124m'\u001b[39m\u001b[38;5;124min\u001b[39m\u001b[38;5;124m'\u001b[39m: \u001b[38;5;124m'\u001b[39m\u001b[38;5;124mprotein\u001b[39m\u001b[38;5;124m'\u001b[39m, \u001b[38;5;124m'\u001b[39m\u001b[38;5;124mout\u001b[39m\u001b[38;5;124m'\u001b[39m: \u001b[38;5;124m'\u001b[39m\u001b[38;5;124mprotein\u001b[39m\u001b[38;5;124m'\u001b[39m},\n",
      "                                \u001b[38;5;124m'\u001b[39m\u001b[38;5;124mparents_path\u001b[39m\u001b[38;5;124m'\u001b[39m: [\u001b[38;5;124m'\u001b[39m\u001b[38;5;124mincreases_expression_of_st\u001b[39m\u001b[38;5;124m'\u001b[39m,\n",
      "                                                 \u001b[38;5;124m'\u001b[39m\u001b[38;5;124mhas_action_st\u001b[39m\u001b[38;5;124m'\u001b[39m,\n",
      "                                                 \u001b[38;5;124m'\u001b[39m\u001b[38;5;124mhas_action\u001b[39m\u001b[38;5;124m'\u001b[39m,\n",
      "                                                 \u001b[38;5;124m'\u001b[39m\u001b[38;5;124mebel_relation\u001b[39m\u001b[38;5;124m'\u001b[39m,\n",
      "                                                 \u001b[38;5;124m'\u001b[39m\u001b[38;5;124mE\u001b[39m\u001b[38;5;124m'\u001b[39m]},\n",
      " \u001b[38;5;124m'\u001b[39m\u001b[38;5;124mincreases_far_bg\u001b[39m\u001b[38;5;124m'\u001b[39m: {\u001b[38;5;124m'\u001b[39m\u001b[38;5;124mabstract\u001b[39m\u001b[38;5;124m'\u001b[39m: \u001b[38;5;28;01mFalse\u001b[39;00m,\n",
      "                      \u001b[38;5;124m'\u001b[39m\u001b[38;5;124mchildren\u001b[39m\u001b[38;5;124m'\u001b[39m: [],\n",
      "                      \u001b[38;5;124m'\u001b[39m\u001b[38;5;124min_out\u001b[39m\u001b[38;5;124m'\u001b[39m: {\u001b[38;5;124m'\u001b[39m\u001b[38;5;124min\u001b[39m\u001b[38;5;124m'\u001b[39m: \u001b[38;5;124m'\u001b[39m\u001b[38;5;124mprotein\u001b[39m\u001b[38;5;124m'\u001b[39m, \u001b[38;5;124m'\u001b[39m\u001b[38;5;124mout\u001b[39m\u001b[38;5;124m'\u001b[39m: \u001b[38;5;124m'\u001b[39m\u001b[38;5;124mprotein\u001b[39m\u001b[38;5;124m'\u001b[39m},\n",
      "                      \u001b[38;5;124m'\u001b[39m\u001b[38;5;124mparents_path\u001b[39m\u001b[38;5;124m'\u001b[39m: [\u001b[38;5;124m'\u001b[39m\u001b[38;5;124mincreases_far_bg\u001b[39m\u001b[38;5;124m'\u001b[39m,\n",
      "                                       \u001b[38;5;124m'\u001b[39m\u001b[38;5;124mhas_ppi_bg\u001b[39m\u001b[38;5;124m'\u001b[39m,\n",
      "                                       \u001b[38;5;124m'\u001b[39m\u001b[38;5;124mhas_ppi\u001b[39m\u001b[38;5;124m'\u001b[39m,\n",
      "                                       \u001b[38;5;124m'\u001b[39m\u001b[38;5;124mebel_relation\u001b[39m\u001b[38;5;124m'\u001b[39m,\n",
      "                                       \u001b[38;5;124m'\u001b[39m\u001b[38;5;124mE\u001b[39m\u001b[38;5;124m'\u001b[39m]},\n",
      " \u001b[38;5;124m'\u001b[39m\u001b[38;5;124mincreases_fat_bg\u001b[39m\u001b[38;5;124m'\u001b[39m: {\u001b[38;5;124m'\u001b[39m\u001b[38;5;124mabstract\u001b[39m\u001b[38;5;124m'\u001b[39m: \u001b[38;5;28;01mFalse\u001b[39;00m,\n",
      "                      \u001b[38;5;124m'\u001b[39m\u001b[38;5;124mchildren\u001b[39m\u001b[38;5;124m'\u001b[39m: [],\n",
      "                      \u001b[38;5;124m'\u001b[39m\u001b[38;5;124min_out\u001b[39m\u001b[38;5;124m'\u001b[39m: {\u001b[38;5;124m'\u001b[39m\u001b[38;5;124min\u001b[39m\u001b[38;5;124m'\u001b[39m: \u001b[38;5;124m'\u001b[39m\u001b[38;5;124mprotein\u001b[39m\u001b[38;5;124m'\u001b[39m, \u001b[38;5;124m'\u001b[39m\u001b[38;5;124mout\u001b[39m\u001b[38;5;124m'\u001b[39m: \u001b[38;5;124m'\u001b[39m\u001b[38;5;124mprotein\u001b[39m\u001b[38;5;124m'\u001b[39m},\n",
      "                      \u001b[38;5;124m'\u001b[39m\u001b[38;5;124mparents_path\u001b[39m\u001b[38;5;124m'\u001b[39m: [\u001b[38;5;124m'\u001b[39m\u001b[38;5;124mincreases_fat_bg\u001b[39m\u001b[38;5;124m'\u001b[39m,\n",
      "                                       \u001b[38;5;124m'\u001b[39m\u001b[38;5;124mhas_ppi_bg\u001b[39m\u001b[38;5;124m'\u001b[39m,\n",
      "                                       \u001b[38;5;124m'\u001b[39m\u001b[38;5;124mhas_ppi\u001b[39m\u001b[38;5;124m'\u001b[39m,\n",
      "                                       \u001b[38;5;124m'\u001b[39m\u001b[38;5;124mebel_relation\u001b[39m\u001b[38;5;124m'\u001b[39m,\n",
      "                                       \u001b[38;5;124m'\u001b[39m\u001b[38;5;124mE\u001b[39m\u001b[38;5;124m'\u001b[39m]},\n",
      " \u001b[38;5;124m'\u001b[39m\u001b[38;5;124mincreases_ger_bg\u001b[39m\u001b[38;5;124m'\u001b[39m: {\u001b[38;5;124m'\u001b[39m\u001b[38;5;124mabstract\u001b[39m\u001b[38;5;124m'\u001b[39m: \u001b[38;5;28;01mFalse\u001b[39;00m,\n",
      "                      \u001b[38;5;124m'\u001b[39m\u001b[38;5;124mchildren\u001b[39m\u001b[38;5;124m'\u001b[39m: [],\n",
      "                      \u001b[38;5;124m'\u001b[39m\u001b[38;5;124min_out\u001b[39m\u001b[38;5;124m'\u001b[39m: {\u001b[38;5;124m'\u001b[39m\u001b[38;5;124min\u001b[39m\u001b[38;5;124m'\u001b[39m: \u001b[38;5;124m'\u001b[39m\u001b[38;5;124mprotein\u001b[39m\u001b[38;5;124m'\u001b[39m, \u001b[38;5;124m'\u001b[39m\u001b[38;5;124mout\u001b[39m\u001b[38;5;124m'\u001b[39m: \u001b[38;5;124m'\u001b[39m\u001b[38;5;124mprotein\u001b[39m\u001b[38;5;124m'\u001b[39m},\n",
      "                      \u001b[38;5;124m'\u001b[39m\u001b[38;5;124mparents_path\u001b[39m\u001b[38;5;124m'\u001b[39m: [\u001b[38;5;124m'\u001b[39m\u001b[38;5;124mincreases_ger_bg\u001b[39m\u001b[38;5;124m'\u001b[39m,\n",
      "                                       \u001b[38;5;124m'\u001b[39m\u001b[38;5;124mhas_ppi_bg\u001b[39m\u001b[38;5;124m'\u001b[39m,\n",
      "                                       \u001b[38;5;124m'\u001b[39m\u001b[38;5;124mhas_ppi\u001b[39m\u001b[38;5;124m'\u001b[39m,\n",
      "                                       \u001b[38;5;124m'\u001b[39m\u001b[38;5;124mebel_relation\u001b[39m\u001b[38;5;124m'\u001b[39m,\n",
      "                                       \u001b[38;5;124m'\u001b[39m\u001b[38;5;124mE\u001b[39m\u001b[38;5;124m'\u001b[39m]},\n",
      " \u001b[38;5;124m'\u001b[39m\u001b[38;5;124mincreases_gly_bg\u001b[39m\u001b[38;5;124m'\u001b[39m: {\u001b[38;5;124m'\u001b[39m\u001b[38;5;124mabstract\u001b[39m\u001b[38;5;124m'\u001b[39m: \u001b[38;5;28;01mFalse\u001b[39;00m,\n",
      "                      \u001b[38;5;124m'\u001b[39m\u001b[38;5;124mchildren\u001b[39m\u001b[38;5;124m'\u001b[39m: [],\n",
      "                      \u001b[38;5;124m'\u001b[39m\u001b[38;5;124min_out\u001b[39m\u001b[38;5;124m'\u001b[39m: {\u001b[38;5;124m'\u001b[39m\u001b[38;5;124min\u001b[39m\u001b[38;5;124m'\u001b[39m: \u001b[38;5;124m'\u001b[39m\u001b[38;5;124mprotein\u001b[39m\u001b[38;5;124m'\u001b[39m, \u001b[38;5;124m'\u001b[39m\u001b[38;5;124mout\u001b[39m\u001b[38;5;124m'\u001b[39m: \u001b[38;5;124m'\u001b[39m\u001b[38;5;124mprotein\u001b[39m\u001b[38;5;124m'\u001b[39m},\n",
      "                      \u001b[38;5;124m'\u001b[39m\u001b[38;5;124mparents_path\u001b[39m\u001b[38;5;124m'\u001b[39m: [\u001b[38;5;124m'\u001b[39m\u001b[38;5;124mincreases_gly_bg\u001b[39m\u001b[38;5;124m'\u001b[39m,\n",
      "                                       \u001b[38;5;124m'\u001b[39m\u001b[38;5;124mhas_ppi_bg\u001b[39m\u001b[38;5;124m'\u001b[39m,\n",
      "                                       \u001b[38;5;124m'\u001b[39m\u001b[38;5;124mhas_ppi\u001b[39m\u001b[38;5;124m'\u001b[39m,\n",
      "                                       \u001b[38;5;124m'\u001b[39m\u001b[38;5;124mebel_relation\u001b[39m\u001b[38;5;124m'\u001b[39m,\n",
      "                                       \u001b[38;5;124m'\u001b[39m\u001b[38;5;124mE\u001b[39m\u001b[38;5;124m'\u001b[39m]},\n",
      " \u001b[38;5;124m'\u001b[39m\u001b[38;5;124mincreases_gly_kg\u001b[39m\u001b[38;5;124m'\u001b[39m: {\u001b[38;5;124m'\u001b[39m\u001b[38;5;124mabstract\u001b[39m\u001b[38;5;124m'\u001b[39m: \u001b[38;5;28;01mFalse\u001b[39;00m,\n",
      "                      \u001b[38;5;124m'\u001b[39m\u001b[38;5;124mchildren\u001b[39m\u001b[38;5;124m'\u001b[39m: [],\n",
      "                      \u001b[38;5;124m'\u001b[39m\u001b[38;5;124mparents_path\u001b[39m\u001b[38;5;124m'\u001b[39m: [\u001b[38;5;124m'\u001b[39m\u001b[38;5;124mincreases_gly_kg\u001b[39m\u001b[38;5;124m'\u001b[39m,\n",
      "                                       \u001b[38;5;124m'\u001b[39m\u001b[38;5;124mhas_ppi_kg\u001b[39m\u001b[38;5;124m'\u001b[39m,\n",
      "                                       \u001b[38;5;124m'\u001b[39m\u001b[38;5;124mpathway_interaction\u001b[39m\u001b[38;5;124m'\u001b[39m,\n",
      "                                       \u001b[38;5;124m'\u001b[39m\u001b[38;5;124mebel_relation\u001b[39m\u001b[38;5;124m'\u001b[39m,\n",
      "                                       \u001b[38;5;124m'\u001b[39m\u001b[38;5;124mE\u001b[39m\u001b[38;5;124m'\u001b[39m]},\n",
      " \u001b[38;5;124m'\u001b[39m\u001b[38;5;124mincreases_hyd_bg\u001b[39m\u001b[38;5;124m'\u001b[39m: {\u001b[38;5;124m'\u001b[39m\u001b[38;5;124mabstract\u001b[39m\u001b[38;5;124m'\u001b[39m: \u001b[38;5;28;01mFalse\u001b[39;00m,\n",
      "                      \u001b[38;5;124m'\u001b[39m\u001b[38;5;124mchildren\u001b[39m\u001b[38;5;124m'\u001b[39m: [],\n",
      "                      \u001b[38;5;124m'\u001b[39m\u001b[38;5;124min_out\u001b[39m\u001b[38;5;124m'\u001b[39m: {\u001b[38;5;124m'\u001b[39m\u001b[38;5;124min\u001b[39m\u001b[38;5;124m'\u001b[39m: \u001b[38;5;124m'\u001b[39m\u001b[38;5;124mprotein\u001b[39m\u001b[38;5;124m'\u001b[39m, \u001b[38;5;124m'\u001b[39m\u001b[38;5;124mout\u001b[39m\u001b[38;5;124m'\u001b[39m: \u001b[38;5;124m'\u001b[39m\u001b[38;5;124mprotein\u001b[39m\u001b[38;5;124m'\u001b[39m},\n",
      "                      \u001b[38;5;124m'\u001b[39m\u001b[38;5;124mparents_path\u001b[39m\u001b[38;5;124m'\u001b[39m: [\u001b[38;5;124m'\u001b[39m\u001b[38;5;124mincreases_hyd_bg\u001b[39m\u001b[38;5;124m'\u001b[39m,\n",
      "                                       \u001b[38;5;124m'\u001b[39m\u001b[38;5;124mhas_ppi_bg\u001b[39m\u001b[38;5;124m'\u001b[39m,\n",
      "                                       \u001b[38;5;124m'\u001b[39m\u001b[38;5;124mhas_ppi\u001b[39m\u001b[38;5;124m'\u001b[39m,\n",
      "                                       \u001b[38;5;124m'\u001b[39m\u001b[38;5;124mebel_relation\u001b[39m\u001b[38;5;124m'\u001b[39m,\n",
      "                                       \u001b[38;5;124m'\u001b[39m\u001b[38;5;124mE\u001b[39m\u001b[38;5;124m'\u001b[39m]},\n",
      " \u001b[38;5;124m'\u001b[39m\u001b[38;5;124mincreases_isg_bg\u001b[39m\u001b[38;5;124m'\u001b[39m: {\u001b[38;5;124m'\u001b[39m\u001b[38;5;124mabstract\u001b[39m\u001b[38;5;124m'\u001b[39m: \u001b[38;5;28;01mFalse\u001b[39;00m,\n",
      "                      \u001b[38;5;124m'\u001b[39m\u001b[38;5;124mchildren\u001b[39m\u001b[38;5;124m'\u001b[39m: [],\n",
      "                      \u001b[38;5;124m'\u001b[39m\u001b[38;5;124min_out\u001b[39m\u001b[38;5;124m'\u001b[39m: {\u001b[38;5;124m'\u001b[39m\u001b[38;5;124min\u001b[39m\u001b[38;5;124m'\u001b[39m: \u001b[38;5;124m'\u001b[39m\u001b[38;5;124mprotein\u001b[39m\u001b[38;5;124m'\u001b[39m, \u001b[38;5;124m'\u001b[39m\u001b[38;5;124mout\u001b[39m\u001b[38;5;124m'\u001b[39m: \u001b[38;5;124m'\u001b[39m\u001b[38;5;124mprotein\u001b[39m\u001b[38;5;124m'\u001b[39m},\n",
      "                      \u001b[38;5;124m'\u001b[39m\u001b[38;5;124mparents_path\u001b[39m\u001b[38;5;124m'\u001b[39m: [\u001b[38;5;124m'\u001b[39m\u001b[38;5;124mincreases_isg_bg\u001b[39m\u001b[38;5;124m'\u001b[39m,\n",
      "                                       \u001b[38;5;124m'\u001b[39m\u001b[38;5;124mhas_ppi_bg\u001b[39m\u001b[38;5;124m'\u001b[39m,\n",
      "                                       \u001b[38;5;124m'\u001b[39m\u001b[38;5;124mhas_ppi\u001b[39m\u001b[38;5;124m'\u001b[39m,\n",
      "                                       \u001b[38;5;124m'\u001b[39m\u001b[38;5;124mebel_relation\u001b[39m\u001b[38;5;124m'\u001b[39m,\n",
      "                                       \u001b[38;5;124m'\u001b[39m\u001b[38;5;124mE\u001b[39m\u001b[38;5;124m'\u001b[39m]},\n",
      " \u001b[38;5;124m'\u001b[39m\u001b[38;5;124mincreases_me0_bg\u001b[39m\u001b[38;5;124m'\u001b[39m: {\u001b[38;5;124m'\u001b[39m\u001b[38;5;124mabstract\u001b[39m\u001b[38;5;124m'\u001b[39m: \u001b[38;5;28;01mFalse\u001b[39;00m,\n",
      "                      \u001b[38;5;124m'\u001b[39m\u001b[38;5;124mchildren\u001b[39m\u001b[38;5;124m'\u001b[39m: [],\n",
      "                      \u001b[38;5;124m'\u001b[39m\u001b[38;5;124min_out\u001b[39m\u001b[38;5;124m'\u001b[39m: {\u001b[38;5;124m'\u001b[39m\u001b[38;5;124min\u001b[39m\u001b[38;5;124m'\u001b[39m: \u001b[38;5;124m'\u001b[39m\u001b[38;5;124mprotein\u001b[39m\u001b[38;5;124m'\u001b[39m, \u001b[38;5;124m'\u001b[39m\u001b[38;5;124mout\u001b[39m\u001b[38;5;124m'\u001b[39m: \u001b[38;5;124m'\u001b[39m\u001b[38;5;124mprotein\u001b[39m\u001b[38;5;124m'\u001b[39m},\n",
      "                      \u001b[38;5;124m'\u001b[39m\u001b[38;5;124mparents_path\u001b[39m\u001b[38;5;124m'\u001b[39m: [\u001b[38;5;124m'\u001b[39m\u001b[38;5;124mincreases_me0_bg\u001b[39m\u001b[38;5;124m'\u001b[39m,\n",
      "                                       \u001b[38;5;124m'\u001b[39m\u001b[38;5;124mhas_ppi_bg\u001b[39m\u001b[38;5;124m'\u001b[39m,\n",
      "                                       \u001b[38;5;124m'\u001b[39m\u001b[38;5;124mhas_ppi\u001b[39m\u001b[38;5;124m'\u001b[39m,\n",
      "                                       \u001b[38;5;124m'\u001b[39m\u001b[38;5;124mebel_relation\u001b[39m\u001b[38;5;124m'\u001b[39m,\n",
      "                                       \u001b[38;5;124m'\u001b[39m\u001b[38;5;124mE\u001b[39m\u001b[38;5;124m'\u001b[39m]},\n",
      " \u001b[38;5;124m'\u001b[39m\u001b[38;5;124mincreases_me0_kg\u001b[39m\u001b[38;5;124m'\u001b[39m: {\u001b[38;5;124m'\u001b[39m\u001b[38;5;124mabstract\u001b[39m\u001b[38;5;124m'\u001b[39m: \u001b[38;5;28;01mFalse\u001b[39;00m,\n",
      "                      \u001b[38;5;124m'\u001b[39m\u001b[38;5;124mchildren\u001b[39m\u001b[38;5;124m'\u001b[39m: [],\n",
      "                      \u001b[38;5;124m'\u001b[39m\u001b[38;5;124mparents_path\u001b[39m\u001b[38;5;124m'\u001b[39m: [\u001b[38;5;124m'\u001b[39m\u001b[38;5;124mincreases_me0_kg\u001b[39m\u001b[38;5;124m'\u001b[39m,\n",
      "                                       \u001b[38;5;124m'\u001b[39m\u001b[38;5;124mhas_ppi_kg\u001b[39m\u001b[38;5;124m'\u001b[39m,\n",
      "                                       \u001b[38;5;124m'\u001b[39m\u001b[38;5;124mpathway_interaction\u001b[39m\u001b[38;5;124m'\u001b[39m,\n",
      "                                       \u001b[38;5;124m'\u001b[39m\u001b[38;5;124mebel_relation\u001b[39m\u001b[38;5;124m'\u001b[39m,\n",
      "                                       \u001b[38;5;124m'\u001b[39m\u001b[38;5;124mE\u001b[39m\u001b[38;5;124m'\u001b[39m]},\n",
      " \u001b[38;5;124m'\u001b[39m\u001b[38;5;124mincreases_me1_bg\u001b[39m\u001b[38;5;124m'\u001b[39m: {\u001b[38;5;124m'\u001b[39m\u001b[38;5;124mabstract\u001b[39m\u001b[38;5;124m'\u001b[39m: \u001b[38;5;28;01mFalse\u001b[39;00m,\n",
      "                      \u001b[38;5;124m'\u001b[39m\u001b[38;5;124mchildren\u001b[39m\u001b[38;5;124m'\u001b[39m: [],\n",
      "                      \u001b[38;5;124m'\u001b[39m\u001b[38;5;124min_out\u001b[39m\u001b[38;5;124m'\u001b[39m: {\u001b[38;5;124m'\u001b[39m\u001b[38;5;124min\u001b[39m\u001b[38;5;124m'\u001b[39m: \u001b[38;5;124m'\u001b[39m\u001b[38;5;124mprotein\u001b[39m\u001b[38;5;124m'\u001b[39m, \u001b[38;5;124m'\u001b[39m\u001b[38;5;124mout\u001b[39m\u001b[38;5;124m'\u001b[39m: \u001b[38;5;124m'\u001b[39m\u001b[38;5;124mprotein\u001b[39m\u001b[38;5;124m'\u001b[39m},\n",
      "                      \u001b[38;5;124m'\u001b[39m\u001b[38;5;124mparents_path\u001b[39m\u001b[38;5;124m'\u001b[39m: [\u001b[38;5;124m'\u001b[39m\u001b[38;5;124mincreases_me1_bg\u001b[39m\u001b[38;5;124m'\u001b[39m,\n",
      "                                       \u001b[38;5;124m'\u001b[39m\u001b[38;5;124mhas_ppi_bg\u001b[39m\u001b[38;5;124m'\u001b[39m,\n",
      "                                       \u001b[38;5;124m'\u001b[39m\u001b[38;5;124mhas_ppi\u001b[39m\u001b[38;5;124m'\u001b[39m,\n",
      "                                       \u001b[38;5;124m'\u001b[39m\u001b[38;5;124mebel_relation\u001b[39m\u001b[38;5;124m'\u001b[39m,\n",
      "                                       \u001b[38;5;124m'\u001b[39m\u001b[38;5;124mE\u001b[39m\u001b[38;5;124m'\u001b[39m]},\n",
      " \u001b[38;5;124m'\u001b[39m\u001b[38;5;124mincreases_me2_bg\u001b[39m\u001b[38;5;124m'\u001b[39m: {\u001b[38;5;124m'\u001b[39m\u001b[38;5;124mabstract\u001b[39m\u001b[38;5;124m'\u001b[39m: \u001b[38;5;28;01mFalse\u001b[39;00m,\n",
      "                      \u001b[38;5;124m'\u001b[39m\u001b[38;5;124mchildren\u001b[39m\u001b[38;5;124m'\u001b[39m: [],\n",
      "                      \u001b[38;5;124m'\u001b[39m\u001b[38;5;124min_out\u001b[39m\u001b[38;5;124m'\u001b[39m: {\u001b[38;5;124m'\u001b[39m\u001b[38;5;124min\u001b[39m\u001b[38;5;124m'\u001b[39m: \u001b[38;5;124m'\u001b[39m\u001b[38;5;124mprotein\u001b[39m\u001b[38;5;124m'\u001b[39m, \u001b[38;5;124m'\u001b[39m\u001b[38;5;124mout\u001b[39m\u001b[38;5;124m'\u001b[39m: \u001b[38;5;124m'\u001b[39m\u001b[38;5;124mprotein\u001b[39m\u001b[38;5;124m'\u001b[39m},\n",
      "                      \u001b[38;5;124m'\u001b[39m\u001b[38;5;124mparents_path\u001b[39m\u001b[38;5;124m'\u001b[39m: [\u001b[38;5;124m'\u001b[39m\u001b[38;5;124mincreases_me2_bg\u001b[39m\u001b[38;5;124m'\u001b[39m,\n",
      "                                       \u001b[38;5;124m'\u001b[39m\u001b[38;5;124mhas_ppi_bg\u001b[39m\u001b[38;5;124m'\u001b[39m,\n",
      "                                       \u001b[38;5;124m'\u001b[39m\u001b[38;5;124mhas_ppi\u001b[39m\u001b[38;5;124m'\u001b[39m,\n",
      "                                       \u001b[38;5;124m'\u001b[39m\u001b[38;5;124mebel_relation\u001b[39m\u001b[38;5;124m'\u001b[39m,\n",
      "                                       \u001b[38;5;124m'\u001b[39m\u001b[38;5;124mE\u001b[39m\u001b[38;5;124m'\u001b[39m]},\n",
      " \u001b[38;5;124m'\u001b[39m\u001b[38;5;124mincreases_me3_bg\u001b[39m\u001b[38;5;124m'\u001b[39m: {\u001b[38;5;124m'\u001b[39m\u001b[38;5;124mabstract\u001b[39m\u001b[38;5;124m'\u001b[39m: \u001b[38;5;28;01mFalse\u001b[39;00m,\n",
      "                      \u001b[38;5;124m'\u001b[39m\u001b[38;5;124mchildren\u001b[39m\u001b[38;5;124m'\u001b[39m: [],\n",
      "                      \u001b[38;5;124m'\u001b[39m\u001b[38;5;124min_out\u001b[39m\u001b[38;5;124m'\u001b[39m: {\u001b[38;5;124m'\u001b[39m\u001b[38;5;124min\u001b[39m\u001b[38;5;124m'\u001b[39m: \u001b[38;5;124m'\u001b[39m\u001b[38;5;124mprotein\u001b[39m\u001b[38;5;124m'\u001b[39m, \u001b[38;5;124m'\u001b[39m\u001b[38;5;124mout\u001b[39m\u001b[38;5;124m'\u001b[39m: \u001b[38;5;124m'\u001b[39m\u001b[38;5;124mprotein\u001b[39m\u001b[38;5;124m'\u001b[39m},\n",
      "                      \u001b[38;5;124m'\u001b[39m\u001b[38;5;124mparents_path\u001b[39m\u001b[38;5;124m'\u001b[39m: [\u001b[38;5;124m'\u001b[39m\u001b[38;5;124mincreases_me3_bg\u001b[39m\u001b[38;5;124m'\u001b[39m,\n",
      "                                       \u001b[38;5;124m'\u001b[39m\u001b[38;5;124mhas_ppi_bg\u001b[39m\u001b[38;5;124m'\u001b[39m,\n",
      "                                       \u001b[38;5;124m'\u001b[39m\u001b[38;5;124mhas_ppi\u001b[39m\u001b[38;5;124m'\u001b[39m,\n",
      "                                       \u001b[38;5;124m'\u001b[39m\u001b[38;5;124mebel_relation\u001b[39m\u001b[38;5;124m'\u001b[39m,\n",
      "                                       \u001b[38;5;124m'\u001b[39m\u001b[38;5;124mE\u001b[39m\u001b[38;5;124m'\u001b[39m]},\n",
      " \u001b[38;5;124m'\u001b[39m\u001b[38;5;124mincreases_mon_bg\u001b[39m\u001b[38;5;124m'\u001b[39m: {\u001b[38;5;124m'\u001b[39m\u001b[38;5;124mabstract\u001b[39m\u001b[38;5;124m'\u001b[39m: \u001b[38;5;28;01mFalse\u001b[39;00m,\n",
      "                      \u001b[38;5;124m'\u001b[39m\u001b[38;5;124mchildren\u001b[39m\u001b[38;5;124m'\u001b[39m: [],\n",
      "                      \u001b[38;5;124m'\u001b[39m\u001b[38;5;124min_out\u001b[39m\u001b[38;5;124m'\u001b[39m: {\u001b[38;5;124m'\u001b[39m\u001b[38;5;124min\u001b[39m\u001b[38;5;124m'\u001b[39m: \u001b[38;5;124m'\u001b[39m\u001b[38;5;124mprotein\u001b[39m\u001b[38;5;124m'\u001b[39m, \u001b[38;5;124m'\u001b[39m\u001b[38;5;124mout\u001b[39m\u001b[38;5;124m'\u001b[39m: \u001b[38;5;124m'\u001b[39m\u001b[38;5;124mprotein\u001b[39m\u001b[38;5;124m'\u001b[39m},\n",
      "                      \u001b[38;5;124m'\u001b[39m\u001b[38;5;124mparents_path\u001b[39m\u001b[38;5;124m'\u001b[39m: [\u001b[38;5;124m'\u001b[39m\u001b[38;5;124mincreases_mon_bg\u001b[39m\u001b[38;5;124m'\u001b[39m,\n",
      "                                       \u001b[38;5;124m'\u001b[39m\u001b[38;5;124mhas_ppi_bg\u001b[39m\u001b[38;5;124m'\u001b[39m,\n",
      "                                       \u001b[38;5;124m'\u001b[39m\u001b[38;5;124mhas_ppi\u001b[39m\u001b[38;5;124m'\u001b[39m,\n",
      "                                       \u001b[38;5;124m'\u001b[39m\u001b[38;5;124mebel_relation\u001b[39m\u001b[38;5;124m'\u001b[39m,\n",
      "                                       \u001b[38;5;124m'\u001b[39m\u001b[38;5;124mE\u001b[39m\u001b[38;5;124m'\u001b[39m]},\n",
      " \u001b[38;5;124m'\u001b[39m\u001b[38;5;124mincreases_myr_bg\u001b[39m\u001b[38;5;124m'\u001b[39m: {\u001b[38;5;124m'\u001b[39m\u001b[38;5;124mabstract\u001b[39m\u001b[38;5;124m'\u001b[39m: \u001b[38;5;28;01mFalse\u001b[39;00m,\n",
      "                      \u001b[38;5;124m'\u001b[39m\u001b[38;5;124mchildren\u001b[39m\u001b[38;5;124m'\u001b[39m: [],\n",
      "                      \u001b[38;5;124m'\u001b[39m\u001b[38;5;124min_out\u001b[39m\u001b[38;5;124m'\u001b[39m: {\u001b[38;5;124m'\u001b[39m\u001b[38;5;124min\u001b[39m\u001b[38;5;124m'\u001b[39m: \u001b[38;5;124m'\u001b[39m\u001b[38;5;124mprotein\u001b[39m\u001b[38;5;124m'\u001b[39m, \u001b[38;5;124m'\u001b[39m\u001b[38;5;124mout\u001b[39m\u001b[38;5;124m'\u001b[39m: \u001b[38;5;124m'\u001b[39m\u001b[38;5;124mprotein\u001b[39m\u001b[38;5;124m'\u001b[39m},\n",
      "                      \u001b[38;5;124m'\u001b[39m\u001b[38;5;124mparents_path\u001b[39m\u001b[38;5;124m'\u001b[39m: [\u001b[38;5;124m'\u001b[39m\u001b[38;5;124mincreases_myr_bg\u001b[39m\u001b[38;5;124m'\u001b[39m,\n",
      "                                       \u001b[38;5;124m'\u001b[39m\u001b[38;5;124mhas_ppi_bg\u001b[39m\u001b[38;5;124m'\u001b[39m,\n",
      "                                       \u001b[38;5;124m'\u001b[39m\u001b[38;5;124mhas_ppi\u001b[39m\u001b[38;5;124m'\u001b[39m,\n",
      "                                       \u001b[38;5;124m'\u001b[39m\u001b[38;5;124mebel_relation\u001b[39m\u001b[38;5;124m'\u001b[39m,\n",
      "                                       \u001b[38;5;124m'\u001b[39m\u001b[38;5;124mE\u001b[39m\u001b[38;5;124m'\u001b[39m]},\n",
      " \u001b[38;5;124m'\u001b[39m\u001b[38;5;124mincreases_ned_bg\u001b[39m\u001b[38;5;124m'\u001b[39m: {\u001b[38;5;124m'\u001b[39m\u001b[38;5;124mabstract\u001b[39m\u001b[38;5;124m'\u001b[39m: \u001b[38;5;28;01mFalse\u001b[39;00m,\n",
      "                      \u001b[38;5;124m'\u001b[39m\u001b[38;5;124mchildren\u001b[39m\u001b[38;5;124m'\u001b[39m: [],\n",
      "                      \u001b[38;5;124m'\u001b[39m\u001b[38;5;124min_out\u001b[39m\u001b[38;5;124m'\u001b[39m: {\u001b[38;5;124m'\u001b[39m\u001b[38;5;124min\u001b[39m\u001b[38;5;124m'\u001b[39m: \u001b[38;5;124m'\u001b[39m\u001b[38;5;124mprotein\u001b[39m\u001b[38;5;124m'\u001b[39m, \u001b[38;5;124m'\u001b[39m\u001b[38;5;124mout\u001b[39m\u001b[38;5;124m'\u001b[39m: \u001b[38;5;124m'\u001b[39m\u001b[38;5;124mprotein\u001b[39m\u001b[38;5;124m'\u001b[39m},\n",
      "                      \u001b[38;5;124m'\u001b[39m\u001b[38;5;124mparents_path\u001b[39m\u001b[38;5;124m'\u001b[39m: [\u001b[38;5;124m'\u001b[39m\u001b[38;5;124mincreases_ned_bg\u001b[39m\u001b[38;5;124m'\u001b[39m,\n",
      "                                       \u001b[38;5;124m'\u001b[39m\u001b[38;5;124mhas_ppi_bg\u001b[39m\u001b[38;5;124m'\u001b[39m,\n",
      "                                       \u001b[38;5;124m'\u001b[39m\u001b[38;5;124mhas_ppi\u001b[39m\u001b[38;5;124m'\u001b[39m,\n",
      "                                       \u001b[38;5;124m'\u001b[39m\u001b[38;5;124mebel_relation\u001b[39m\u001b[38;5;124m'\u001b[39m,\n",
      "                                       \u001b[38;5;124m'\u001b[39m\u001b[38;5;124mE\u001b[39m\u001b[38;5;124m'\u001b[39m]},\n",
      " \u001b[38;5;124m'\u001b[39m\u001b[38;5;124mincreases_ngl_bg\u001b[39m\u001b[38;5;124m'\u001b[39m: {\u001b[38;5;124m'\u001b[39m\u001b[38;5;124mabstract\u001b[39m\u001b[38;5;124m'\u001b[39m: \u001b[38;5;28;01mFalse\u001b[39;00m,\n",
      "                      \u001b[38;5;124m'\u001b[39m\u001b[38;5;124mchildren\u001b[39m\u001b[38;5;124m'\u001b[39m: [],\n",
      "                      \u001b[38;5;124m'\u001b[39m\u001b[38;5;124min_out\u001b[39m\u001b[38;5;124m'\u001b[39m: {\u001b[38;5;124m'\u001b[39m\u001b[38;5;124min\u001b[39m\u001b[38;5;124m'\u001b[39m: \u001b[38;5;124m'\u001b[39m\u001b[38;5;124mprotein\u001b[39m\u001b[38;5;124m'\u001b[39m, \u001b[38;5;124m'\u001b[39m\u001b[38;5;124mout\u001b[39m\u001b[38;5;124m'\u001b[39m: \u001b[38;5;124m'\u001b[39m\u001b[38;5;124mprotein\u001b[39m\u001b[38;5;124m'\u001b[39m},\n",
      "                      \u001b[38;5;124m'\u001b[39m\u001b[38;5;124mparents_path\u001b[39m\u001b[38;5;124m'\u001b[39m: [\u001b[38;5;124m'\u001b[39m\u001b[38;5;124mincreases_ngl_bg\u001b[39m\u001b[38;5;124m'\u001b[39m,\n",
      "                                       \u001b[38;5;124m'\u001b[39m\u001b[38;5;124mhas_ppi_bg\u001b[39m\u001b[38;5;124m'\u001b[39m,\n",
      "                                       \u001b[38;5;124m'\u001b[39m\u001b[38;5;124mhas_ppi\u001b[39m\u001b[38;5;124m'\u001b[39m,\n",
      "                                       \u001b[38;5;124m'\u001b[39m\u001b[38;5;124mebel_relation\u001b[39m\u001b[38;5;124m'\u001b[39m,\n",
      "                                       \u001b[38;5;124m'\u001b[39m\u001b[38;5;124mE\u001b[39m\u001b[38;5;124m'\u001b[39m]},\n",
      " \u001b[38;5;124m'\u001b[39m\u001b[38;5;124mincreases_nit_bg\u001b[39m\u001b[38;5;124m'\u001b[39m: {\u001b[38;5;124m'\u001b[39m\u001b[38;5;124mabstract\u001b[39m\u001b[38;5;124m'\u001b[39m: \u001b[38;5;28;01mFalse\u001b[39;00m,\n",
      "                      \u001b[38;5;124m'\u001b[39m\u001b[38;5;124mchildren\u001b[39m\u001b[38;5;124m'\u001b[39m: [],\n",
      "                      \u001b[38;5;124m'\u001b[39m\u001b[38;5;124min_out\u001b[39m\u001b[38;5;124m'\u001b[39m: {\u001b[38;5;124m'\u001b[39m\u001b[38;5;124min\u001b[39m\u001b[38;5;124m'\u001b[39m: \u001b[38;5;124m'\u001b[39m\u001b[38;5;124mprotein\u001b[39m\u001b[38;5;124m'\u001b[39m, \u001b[38;5;124m'\u001b[39m\u001b[38;5;124mout\u001b[39m\u001b[38;5;124m'\u001b[39m: \u001b[38;5;124m'\u001b[39m\u001b[38;5;124mprotein\u001b[39m\u001b[38;5;124m'\u001b[39m},\n",
      "                      \u001b[38;5;124m'\u001b[39m\u001b[38;5;124mparents_path\u001b[39m\u001b[38;5;124m'\u001b[39m: [\u001b[38;5;124m'\u001b[39m\u001b[38;5;124mincreases_nit_bg\u001b[39m\u001b[38;5;124m'\u001b[39m,\n",
      "                                       \u001b[38;5;124m'\u001b[39m\u001b[38;5;124mhas_ppi_bg\u001b[39m\u001b[38;5;124m'\u001b[39m,\n",
      "                                       \u001b[38;5;124m'\u001b[39m\u001b[38;5;124mhas_ppi\u001b[39m\u001b[38;5;124m'\u001b[39m,\n",
      "                                       \u001b[38;5;124m'\u001b[39m\u001b[38;5;124mebel_relation\u001b[39m\u001b[38;5;124m'\u001b[39m,\n",
      "                                       \u001b[38;5;124m'\u001b[39m\u001b[38;5;124mE\u001b[39m\u001b[38;5;124m'\u001b[39m]},\n",
      " \u001b[38;5;124m'\u001b[39m\u001b[38;5;124mincreases_ogl_bg\u001b[39m\u001b[38;5;124m'\u001b[39m: {\u001b[38;5;124m'\u001b[39m\u001b[38;5;124mabstract\u001b[39m\u001b[38;5;124m'\u001b[39m: \u001b[38;5;28;01mFalse\u001b[39;00m,\n",
      "                      \u001b[38;5;124m'\u001b[39m\u001b[38;5;124mchildren\u001b[39m\u001b[38;5;124m'\u001b[39m: [],\n",
      "                      \u001b[38;5;124m'\u001b[39m\u001b[38;5;124min_out\u001b[39m\u001b[38;5;124m'\u001b[39m: {\u001b[38;5;124m'\u001b[39m\u001b[38;5;124min\u001b[39m\u001b[38;5;124m'\u001b[39m: \u001b[38;5;124m'\u001b[39m\u001b[38;5;124mprotein\u001b[39m\u001b[38;5;124m'\u001b[39m, \u001b[38;5;124m'\u001b[39m\u001b[38;5;124mout\u001b[39m\u001b[38;5;124m'\u001b[39m: \u001b[38;5;124m'\u001b[39m\u001b[38;5;124mprotein\u001b[39m\u001b[38;5;124m'\u001b[39m},\n",
      "                      \u001b[38;5;124m'\u001b[39m\u001b[38;5;124mparents_path\u001b[39m\u001b[38;5;124m'\u001b[39m: [\u001b[38;5;124m'\u001b[39m\u001b[38;5;124mincreases_ogl_bg\u001b[39m\u001b[38;5;124m'\u001b[39m,\n",
      "                                       \u001b[38;5;124m'\u001b[39m\u001b[38;5;124mhas_ppi_bg\u001b[39m\u001b[38;5;124m'\u001b[39m,\n",
      "                                       \u001b[38;5;124m'\u001b[39m\u001b[38;5;124mhas_ppi\u001b[39m\u001b[38;5;124m'\u001b[39m,\n",
      "                                       \u001b[38;5;124m'\u001b[39m\u001b[38;5;124mebel_relation\u001b[39m\u001b[38;5;124m'\u001b[39m,\n",
      "                                       \u001b[38;5;124m'\u001b[39m\u001b[38;5;124mE\u001b[39m\u001b[38;5;124m'\u001b[39m]},\n",
      " \u001b[38;5;124m'\u001b[39m\u001b[38;5;124mincreases_pal_bg\u001b[39m\u001b[38;5;124m'\u001b[39m: {\u001b[38;5;124m'\u001b[39m\u001b[38;5;124mabstract\u001b[39m\u001b[38;5;124m'\u001b[39m: \u001b[38;5;28;01mFalse\u001b[39;00m,\n",
      "                      \u001b[38;5;124m'\u001b[39m\u001b[38;5;124mchildren\u001b[39m\u001b[38;5;124m'\u001b[39m: [],\n",
      "                      \u001b[38;5;124m'\u001b[39m\u001b[38;5;124min_out\u001b[39m\u001b[38;5;124m'\u001b[39m: {\u001b[38;5;124m'\u001b[39m\u001b[38;5;124min\u001b[39m\u001b[38;5;124m'\u001b[39m: \u001b[38;5;124m'\u001b[39m\u001b[38;5;124mprotein\u001b[39m\u001b[38;5;124m'\u001b[39m, \u001b[38;5;124m'\u001b[39m\u001b[38;5;124mout\u001b[39m\u001b[38;5;124m'\u001b[39m: \u001b[38;5;124m'\u001b[39m\u001b[38;5;124mprotein\u001b[39m\u001b[38;5;124m'\u001b[39m},\n",
      "                      \u001b[38;5;124m'\u001b[39m\u001b[38;5;124mparents_path\u001b[39m\u001b[38;5;124m'\u001b[39m: [\u001b[38;5;124m'\u001b[39m\u001b[38;5;124mincreases_pal_bg\u001b[39m\u001b[38;5;124m'\u001b[39m,\n",
      "                                       \u001b[38;5;124m'\u001b[39m\u001b[38;5;124mhas_ppi_bg\u001b[39m\u001b[38;5;124m'\u001b[39m,\n",
      "                                       \u001b[38;5;124m'\u001b[39m\u001b[38;5;124mhas_ppi\u001b[39m\u001b[38;5;124m'\u001b[39m,\n",
      "                                       \u001b[38;5;124m'\u001b[39m\u001b[38;5;124mebel_relation\u001b[39m\u001b[38;5;124m'\u001b[39m,\n",
      "                                       \u001b[38;5;124m'\u001b[39m\u001b[38;5;124mE\u001b[39m\u001b[38;5;124m'\u001b[39m]},\n",
      " \u001b[38;5;124m'\u001b[39m\u001b[38;5;124mincreases_pho_bg\u001b[39m\u001b[38;5;124m'\u001b[39m: {\u001b[38;5;124m'\u001b[39m\u001b[38;5;124mabstract\u001b[39m\u001b[38;5;124m'\u001b[39m: \u001b[38;5;28;01mFalse\u001b[39;00m,\n",
      "                      \u001b[38;5;124m'\u001b[39m\u001b[38;5;124mchildren\u001b[39m\u001b[38;5;124m'\u001b[39m: [],\n",
      "                      \u001b[38;5;124m'\u001b[39m\u001b[38;5;124min_out\u001b[39m\u001b[38;5;124m'\u001b[39m: {\u001b[38;5;124m'\u001b[39m\u001b[38;5;124min\u001b[39m\u001b[38;5;124m'\u001b[39m: \u001b[38;5;124m'\u001b[39m\u001b[38;5;124mprotein\u001b[39m\u001b[38;5;124m'\u001b[39m, \u001b[38;5;124m'\u001b[39m\u001b[38;5;124mout\u001b[39m\u001b[38;5;124m'\u001b[39m: \u001b[38;5;124m'\u001b[39m\u001b[38;5;124mprotein\u001b[39m\u001b[38;5;124m'\u001b[39m},\n",
      "                      \u001b[38;5;124m'\u001b[39m\u001b[38;5;124mparents_path\u001b[39m\u001b[38;5;124m'\u001b[39m: [\u001b[38;5;124m'\u001b[39m\u001b[38;5;124mincreases_pho_bg\u001b[39m\u001b[38;5;124m'\u001b[39m,\n",
      "                                       \u001b[38;5;124m'\u001b[39m\u001b[38;5;124mhas_ppi_bg\u001b[39m\u001b[38;5;124m'\u001b[39m,\n",
      "                                       \u001b[38;5;124m'\u001b[39m\u001b[38;5;124mhas_ppi\u001b[39m\u001b[38;5;124m'\u001b[39m,\n",
      "                                       \u001b[38;5;124m'\u001b[39m\u001b[38;5;124mebel_relation\u001b[39m\u001b[38;5;124m'\u001b[39m,\n",
      "                                       \u001b[38;5;124m'\u001b[39m\u001b[38;5;124mE\u001b[39m\u001b[38;5;124m'\u001b[39m]},\n",
      " \u001b[38;5;124m'\u001b[39m\u001b[38;5;124mincreases_pho_kg\u001b[39m\u001b[38;5;124m'\u001b[39m: {\u001b[38;5;124m'\u001b[39m\u001b[38;5;124mabstract\u001b[39m\u001b[38;5;124m'\u001b[39m: \u001b[38;5;28;01mFalse\u001b[39;00m,\n",
      "                      \u001b[38;5;124m'\u001b[39m\u001b[38;5;124mchildren\u001b[39m\u001b[38;5;124m'\u001b[39m: [],\n",
      "                      \u001b[38;5;124m'\u001b[39m\u001b[38;5;124mparents_path\u001b[39m\u001b[38;5;124m'\u001b[39m: [\u001b[38;5;124m'\u001b[39m\u001b[38;5;124mincreases_pho_kg\u001b[39m\u001b[38;5;124m'\u001b[39m,\n",
      "                                       \u001b[38;5;124m'\u001b[39m\u001b[38;5;124mhas_ppi_kg\u001b[39m\u001b[38;5;124m'\u001b[39m,\n",
      "                                       \u001b[38;5;124m'\u001b[39m\u001b[38;5;124mpathway_interaction\u001b[39m\u001b[38;5;124m'\u001b[39m,\n",
      "                                       \u001b[38;5;124m'\u001b[39m\u001b[38;5;124mebel_relation\u001b[39m\u001b[38;5;124m'\u001b[39m,\n",
      "                                       \u001b[38;5;124m'\u001b[39m\u001b[38;5;124mE\u001b[39m\u001b[38;5;124m'\u001b[39m]},\n",
      " \u001b[38;5;124m'\u001b[39m\u001b[38;5;124mincreases_pre_bg\u001b[39m\u001b[38;5;124m'\u001b[39m: {\u001b[38;5;124m'\u001b[39m\u001b[38;5;124mabstract\u001b[39m\u001b[38;5;124m'\u001b[39m: \u001b[38;5;28;01mFalse\u001b[39;00m,\n",
      "                      \u001b[38;5;124m'\u001b[39m\u001b[38;5;124mchildren\u001b[39m\u001b[38;5;124m'\u001b[39m: [],\n",
      "                      \u001b[38;5;124m'\u001b[39m\u001b[38;5;124min_out\u001b[39m\u001b[38;5;124m'\u001b[39m: {\u001b[38;5;124m'\u001b[39m\u001b[38;5;124min\u001b[39m\u001b[38;5;124m'\u001b[39m: \u001b[38;5;124m'\u001b[39m\u001b[38;5;124mprotein\u001b[39m\u001b[38;5;124m'\u001b[39m, \u001b[38;5;124m'\u001b[39m\u001b[38;5;124mout\u001b[39m\u001b[38;5;124m'\u001b[39m: \u001b[38;5;124m'\u001b[39m\u001b[38;5;124mprotein\u001b[39m\u001b[38;5;124m'\u001b[39m},\n",
      "                      \u001b[38;5;124m'\u001b[39m\u001b[38;5;124mparents_path\u001b[39m\u001b[38;5;124m'\u001b[39m: [\u001b[38;5;124m'\u001b[39m\u001b[38;5;124mincreases_pre_bg\u001b[39m\u001b[38;5;124m'\u001b[39m,\n",
      "                                       \u001b[38;5;124m'\u001b[39m\u001b[38;5;124mhas_ppi_bg\u001b[39m\u001b[38;5;124m'\u001b[39m,\n",
      "                                       \u001b[38;5;124m'\u001b[39m\u001b[38;5;124mhas_ppi\u001b[39m\u001b[38;5;124m'\u001b[39m,\n",
      "                                       \u001b[38;5;124m'\u001b[39m\u001b[38;5;124mebel_relation\u001b[39m\u001b[38;5;124m'\u001b[39m,\n",
      "                                       \u001b[38;5;124m'\u001b[39m\u001b[38;5;124mE\u001b[39m\u001b[38;5;124m'\u001b[39m]},\n",
      " \u001b[38;5;124m'\u001b[39m\u001b[38;5;124mincreases_suh_bg\u001b[39m\u001b[38;5;124m'\u001b[39m: {\u001b[38;5;124m'\u001b[39m\u001b[38;5;124mabstract\u001b[39m\u001b[38;5;124m'\u001b[39m: \u001b[38;5;28;01mFalse\u001b[39;00m,\n",
      "                      \u001b[38;5;124m'\u001b[39m\u001b[38;5;124mchildren\u001b[39m\u001b[38;5;124m'\u001b[39m: [],\n",
      "                      \u001b[38;5;124m'\u001b[39m\u001b[38;5;124min_out\u001b[39m\u001b[38;5;124m'\u001b[39m: {\u001b[38;5;124m'\u001b[39m\u001b[38;5;124min\u001b[39m\u001b[38;5;124m'\u001b[39m: \u001b[38;5;124m'\u001b[39m\u001b[38;5;124mprotein\u001b[39m\u001b[38;5;124m'\u001b[39m, \u001b[38;5;124m'\u001b[39m\u001b[38;5;124mout\u001b[39m\u001b[38;5;124m'\u001b[39m: \u001b[38;5;124m'\u001b[39m\u001b[38;5;124mprotein\u001b[39m\u001b[38;5;124m'\u001b[39m},\n",
      "                      \u001b[38;5;124m'\u001b[39m\u001b[38;5;124mparents_path\u001b[39m\u001b[38;5;124m'\u001b[39m: [\u001b[38;5;124m'\u001b[39m\u001b[38;5;124mincreases_suh_bg\u001b[39m\u001b[38;5;124m'\u001b[39m,\n",
      "                                       \u001b[38;5;124m'\u001b[39m\u001b[38;5;124mhas_ppi_bg\u001b[39m\u001b[38;5;124m'\u001b[39m,\n",
      "                                       \u001b[38;5;124m'\u001b[39m\u001b[38;5;124mhas_ppi\u001b[39m\u001b[38;5;124m'\u001b[39m,\n",
      "                                       \u001b[38;5;124m'\u001b[39m\u001b[38;5;124mebel_relation\u001b[39m\u001b[38;5;124m'\u001b[39m,\n",
      "                                       \u001b[38;5;124m'\u001b[39m\u001b[38;5;124mE\u001b[39m\u001b[38;5;124m'\u001b[39m]},\n",
      " \u001b[38;5;124m'\u001b[39m\u001b[38;5;124mincreases_sul_bg\u001b[39m\u001b[38;5;124m'\u001b[39m: {\u001b[38;5;124m'\u001b[39m\u001b[38;5;124mabstract\u001b[39m\u001b[38;5;124m'\u001b[39m: \u001b[38;5;28;01mFalse\u001b[39;00m,\n",
      "                      \u001b[38;5;124m'\u001b[39m\u001b[38;5;124mchildren\u001b[39m\u001b[38;5;124m'\u001b[39m: [],\n",
      "                      \u001b[38;5;124m'\u001b[39m\u001b[38;5;124min_out\u001b[39m\u001b[38;5;124m'\u001b[39m: {\u001b[38;5;124m'\u001b[39m\u001b[38;5;124min\u001b[39m\u001b[38;5;124m'\u001b[39m: \u001b[38;5;124m'\u001b[39m\u001b[38;5;124mprotein\u001b[39m\u001b[38;5;124m'\u001b[39m, \u001b[38;5;124m'\u001b[39m\u001b[38;5;124mout\u001b[39m\u001b[38;5;124m'\u001b[39m: \u001b[38;5;124m'\u001b[39m\u001b[38;5;124mprotein\u001b[39m\u001b[38;5;124m'\u001b[39m},\n",
      "                      \u001b[38;5;124m'\u001b[39m\u001b[38;5;124mparents_path\u001b[39m\u001b[38;5;124m'\u001b[39m: [\u001b[38;5;124m'\u001b[39m\u001b[38;5;124mincreases_sul_bg\u001b[39m\u001b[38;5;124m'\u001b[39m,\n",
      "                                       \u001b[38;5;124m'\u001b[39m\u001b[38;5;124mhas_ppi_bg\u001b[39m\u001b[38;5;124m'\u001b[39m,\n",
      "                                       \u001b[38;5;124m'\u001b[39m\u001b[38;5;124mhas_ppi\u001b[39m\u001b[38;5;124m'\u001b[39m,\n",
      "                                       \u001b[38;5;124m'\u001b[39m\u001b[38;5;124mebel_relation\u001b[39m\u001b[38;5;124m'\u001b[39m,\n",
      "                                       \u001b[38;5;124m'\u001b[39m\u001b[38;5;124mE\u001b[39m\u001b[38;5;124m'\u001b[39m]},\n",
      " \u001b[38;5;124m'\u001b[39m\u001b[38;5;124mincreases_sum_bg\u001b[39m\u001b[38;5;124m'\u001b[39m: {\u001b[38;5;124m'\u001b[39m\u001b[38;5;124mabstract\u001b[39m\u001b[38;5;124m'\u001b[39m: \u001b[38;5;28;01mFalse\u001b[39;00m,\n",
      "                      \u001b[38;5;124m'\u001b[39m\u001b[38;5;124mchildren\u001b[39m\u001b[38;5;124m'\u001b[39m: [],\n",
      "                      \u001b[38;5;124m'\u001b[39m\u001b[38;5;124min_out\u001b[39m\u001b[38;5;124m'\u001b[39m: {\u001b[38;5;124m'\u001b[39m\u001b[38;5;124min\u001b[39m\u001b[38;5;124m'\u001b[39m: \u001b[38;5;124m'\u001b[39m\u001b[38;5;124mprotein\u001b[39m\u001b[38;5;124m'\u001b[39m, \u001b[38;5;124m'\u001b[39m\u001b[38;5;124mout\u001b[39m\u001b[38;5;124m'\u001b[39m: \u001b[38;5;124m'\u001b[39m\u001b[38;5;124mprotein\u001b[39m\u001b[38;5;124m'\u001b[39m},\n",
      "                      \u001b[38;5;124m'\u001b[39m\u001b[38;5;124mparents_path\u001b[39m\u001b[38;5;124m'\u001b[39m: [\u001b[38;5;124m'\u001b[39m\u001b[38;5;124mincreases_sum_bg\u001b[39m\u001b[38;5;124m'\u001b[39m,\n",
      "                                       \u001b[38;5;124m'\u001b[39m\u001b[38;5;124mhas_ppi_bg\u001b[39m\u001b[38;5;124m'\u001b[39m,\n",
      "                                       \u001b[38;5;124m'\u001b[39m\u001b[38;5;124mhas_ppi\u001b[39m\u001b[38;5;124m'\u001b[39m,\n",
      "                                       \u001b[38;5;124m'\u001b[39m\u001b[38;5;124mebel_relation\u001b[39m\u001b[38;5;124m'\u001b[39m,\n",
      "                                       \u001b[38;5;124m'\u001b[39m\u001b[38;5;124mE\u001b[39m\u001b[38;5;124m'\u001b[39m]},\n",
      " \u001b[38;5;124m'\u001b[39m\u001b[38;5;124mincreases_sup_bg\u001b[39m\u001b[38;5;124m'\u001b[39m: {\u001b[38;5;124m'\u001b[39m\u001b[38;5;124mabstract\u001b[39m\u001b[38;5;124m'\u001b[39m: \u001b[38;5;28;01mFalse\u001b[39;00m,\n",
      "                      \u001b[38;5;124m'\u001b[39m\u001b[38;5;124mchildren\u001b[39m\u001b[38;5;124m'\u001b[39m: [],\n",
      "                      \u001b[38;5;124m'\u001b[39m\u001b[38;5;124min_out\u001b[39m\u001b[38;5;124m'\u001b[39m: {\u001b[38;5;124m'\u001b[39m\u001b[38;5;124min\u001b[39m\u001b[38;5;124m'\u001b[39m: \u001b[38;5;124m'\u001b[39m\u001b[38;5;124mprotein\u001b[39m\u001b[38;5;124m'\u001b[39m, \u001b[38;5;124m'\u001b[39m\u001b[38;5;124mout\u001b[39m\u001b[38;5;124m'\u001b[39m: \u001b[38;5;124m'\u001b[39m\u001b[38;5;124mprotein\u001b[39m\u001b[38;5;124m'\u001b[39m},\n",
      "                      \u001b[38;5;124m'\u001b[39m\u001b[38;5;124mparents_path\u001b[39m\u001b[38;5;124m'\u001b[39m: [\u001b[38;5;124m'\u001b[39m\u001b[38;5;124mincreases_sup_bg\u001b[39m\u001b[38;5;124m'\u001b[39m,\n",
      "                                       \u001b[38;5;124m'\u001b[39m\u001b[38;5;124mhas_ppi_bg\u001b[39m\u001b[38;5;124m'\u001b[39m,\n",
      "                                       \u001b[38;5;124m'\u001b[39m\u001b[38;5;124mhas_ppi\u001b[39m\u001b[38;5;124m'\u001b[39m,\n",
      "                                       \u001b[38;5;124m'\u001b[39m\u001b[38;5;124mebel_relation\u001b[39m\u001b[38;5;124m'\u001b[39m,\n",
      "                                       \u001b[38;5;124m'\u001b[39m\u001b[38;5;124mE\u001b[39m\u001b[38;5;124m'\u001b[39m]},\n",
      " \u001b[38;5;124m'\u001b[39m\u001b[38;5;124mincreases_suy_bg\u001b[39m\u001b[38;5;124m'\u001b[39m: {\u001b[38;5;124m'\u001b[39m\u001b[38;5;124mabstract\u001b[39m\u001b[38;5;124m'\u001b[39m: \u001b[38;5;28;01mFalse\u001b[39;00m,\n",
      "                      \u001b[38;5;124m'\u001b[39m\u001b[38;5;124mchildren\u001b[39m\u001b[38;5;124m'\u001b[39m: [],\n",
      "                      \u001b[38;5;124m'\u001b[39m\u001b[38;5;124min_out\u001b[39m\u001b[38;5;124m'\u001b[39m: {\u001b[38;5;124m'\u001b[39m\u001b[38;5;124min\u001b[39m\u001b[38;5;124m'\u001b[39m: \u001b[38;5;124m'\u001b[39m\u001b[38;5;124mprotein\u001b[39m\u001b[38;5;124m'\u001b[39m, \u001b[38;5;124m'\u001b[39m\u001b[38;5;124mout\u001b[39m\u001b[38;5;124m'\u001b[39m: \u001b[38;5;124m'\u001b[39m\u001b[38;5;124mprotein\u001b[39m\u001b[38;5;124m'\u001b[39m},\n",
      "                      \u001b[38;5;124m'\u001b[39m\u001b[38;5;124mparents_path\u001b[39m\u001b[38;5;124m'\u001b[39m: [\u001b[38;5;124m'\u001b[39m\u001b[38;5;124mincreases_suy_bg\u001b[39m\u001b[38;5;124m'\u001b[39m,\n",
      "                                       \u001b[38;5;124m'\u001b[39m\u001b[38;5;124mhas_ppi_bg\u001b[39m\u001b[38;5;124m'\u001b[39m,\n",
      "                                       \u001b[38;5;124m'\u001b[39m\u001b[38;5;124mhas_ppi\u001b[39m\u001b[38;5;124m'\u001b[39m,\n",
      "                                       \u001b[38;5;124m'\u001b[39m\u001b[38;5;124mebel_relation\u001b[39m\u001b[38;5;124m'\u001b[39m,\n",
      "                                       \u001b[38;5;124m'\u001b[39m\u001b[38;5;124mE\u001b[39m\u001b[38;5;124m'\u001b[39m]},\n",
      " \u001b[38;5;124m'\u001b[39m\u001b[38;5;124mincreases_tri_bg\u001b[39m\u001b[38;5;124m'\u001b[39m: {\u001b[38;5;124m'\u001b[39m\u001b[38;5;124mabstract\u001b[39m\u001b[38;5;124m'\u001b[39m: \u001b[38;5;28;01mFalse\u001b[39;00m,\n",
      "                      \u001b[38;5;124m'\u001b[39m\u001b[38;5;124mchildren\u001b[39m\u001b[38;5;124m'\u001b[39m: [],\n",
      "                      \u001b[38;5;124m'\u001b[39m\u001b[38;5;124min_out\u001b[39m\u001b[38;5;124m'\u001b[39m: {\u001b[38;5;124m'\u001b[39m\u001b[38;5;124min\u001b[39m\u001b[38;5;124m'\u001b[39m: \u001b[38;5;124m'\u001b[39m\u001b[38;5;124mprotein\u001b[39m\u001b[38;5;124m'\u001b[39m, \u001b[38;5;124m'\u001b[39m\u001b[38;5;124mout\u001b[39m\u001b[38;5;124m'\u001b[39m: \u001b[38;5;124m'\u001b[39m\u001b[38;5;124mprotein\u001b[39m\u001b[38;5;124m'\u001b[39m},\n",
      "                      \u001b[38;5;124m'\u001b[39m\u001b[38;5;124mparents_path\u001b[39m\u001b[38;5;124m'\u001b[39m: [\u001b[38;5;124m'\u001b[39m\u001b[38;5;124mincreases_tri_bg\u001b[39m\u001b[38;5;124m'\u001b[39m,\n",
      "                                       \u001b[38;5;124m'\u001b[39m\u001b[38;5;124mhas_ppi_bg\u001b[39m\u001b[38;5;124m'\u001b[39m,\n",
      "                                       \u001b[38;5;124m'\u001b[39m\u001b[38;5;124mhas_ppi\u001b[39m\u001b[38;5;124m'\u001b[39m,\n",
      "                                       \u001b[38;5;124m'\u001b[39m\u001b[38;5;124mebel_relation\u001b[39m\u001b[38;5;124m'\u001b[39m,\n",
      "                                       \u001b[38;5;124m'\u001b[39m\u001b[38;5;124mE\u001b[39m\u001b[38;5;124m'\u001b[39m]},\n",
      " \u001b[38;5;124m'\u001b[39m\u001b[38;5;124mincreases_u48_bg\u001b[39m\u001b[38;5;124m'\u001b[39m: {\u001b[38;5;124m'\u001b[39m\u001b[38;5;124mabstract\u001b[39m\u001b[38;5;124m'\u001b[39m: \u001b[38;5;28;01mFalse\u001b[39;00m,\n",
      "                      \u001b[38;5;124m'\u001b[39m\u001b[38;5;124mchildren\u001b[39m\u001b[38;5;124m'\u001b[39m: [],\n",
      "                      \u001b[38;5;124m'\u001b[39m\u001b[38;5;124min_out\u001b[39m\u001b[38;5;124m'\u001b[39m: {\u001b[38;5;124m'\u001b[39m\u001b[38;5;124min\u001b[39m\u001b[38;5;124m'\u001b[39m: \u001b[38;5;124m'\u001b[39m\u001b[38;5;124mprotein\u001b[39m\u001b[38;5;124m'\u001b[39m, \u001b[38;5;124m'\u001b[39m\u001b[38;5;124mout\u001b[39m\u001b[38;5;124m'\u001b[39m: \u001b[38;5;124m'\u001b[39m\u001b[38;5;124mprotein\u001b[39m\u001b[38;5;124m'\u001b[39m},\n",
      "                      \u001b[38;5;124m'\u001b[39m\u001b[38;5;124mparents_path\u001b[39m\u001b[38;5;124m'\u001b[39m: [\u001b[38;5;124m'\u001b[39m\u001b[38;5;124mincreases_u48_bg\u001b[39m\u001b[38;5;124m'\u001b[39m,\n",
      "                                       \u001b[38;5;124m'\u001b[39m\u001b[38;5;124mhas_ppi_bg\u001b[39m\u001b[38;5;124m'\u001b[39m,\n",
      "                                       \u001b[38;5;124m'\u001b[39m\u001b[38;5;124mhas_ppi\u001b[39m\u001b[38;5;124m'\u001b[39m,\n",
      "                                       \u001b[38;5;124m'\u001b[39m\u001b[38;5;124mebel_relation\u001b[39m\u001b[38;5;124m'\u001b[39m,\n",
      "                                       \u001b[38;5;124m'\u001b[39m\u001b[38;5;124mE\u001b[39m\u001b[38;5;124m'\u001b[39m]},\n",
      " \u001b[38;5;124m'\u001b[39m\u001b[38;5;124mincreases_u63_bg\u001b[39m\u001b[38;5;124m'\u001b[39m: {\u001b[38;5;124m'\u001b[39m\u001b[38;5;124mabstract\u001b[39m\u001b[38;5;124m'\u001b[39m: \u001b[38;5;28;01mFalse\u001b[39;00m,\n",
      "                      \u001b[38;5;124m'\u001b[39m\u001b[38;5;124mchildren\u001b[39m\u001b[38;5;124m'\u001b[39m: [],\n",
      "                      \u001b[38;5;124m'\u001b[39m\u001b[38;5;124min_out\u001b[39m\u001b[38;5;124m'\u001b[39m: {\u001b[38;5;124m'\u001b[39m\u001b[38;5;124min\u001b[39m\u001b[38;5;124m'\u001b[39m: \u001b[38;5;124m'\u001b[39m\u001b[38;5;124mprotein\u001b[39m\u001b[38;5;124m'\u001b[39m, \u001b[38;5;124m'\u001b[39m\u001b[38;5;124mout\u001b[39m\u001b[38;5;124m'\u001b[39m: \u001b[38;5;124m'\u001b[39m\u001b[38;5;124mprotein\u001b[39m\u001b[38;5;124m'\u001b[39m},\n",
      "                      \u001b[38;5;124m'\u001b[39m\u001b[38;5;124mparents_path\u001b[39m\u001b[38;5;124m'\u001b[39m: [\u001b[38;5;124m'\u001b[39m\u001b[38;5;124mincreases_u63_bg\u001b[39m\u001b[38;5;124m'\u001b[39m,\n",
      "                                       \u001b[38;5;124m'\u001b[39m\u001b[38;5;124mhas_ppi_bg\u001b[39m\u001b[38;5;124m'\u001b[39m,\n",
      "                                       \u001b[38;5;124m'\u001b[39m\u001b[38;5;124mhas_ppi\u001b[39m\u001b[38;5;124m'\u001b[39m,\n",
      "                                       \u001b[38;5;124m'\u001b[39m\u001b[38;5;124mebel_relation\u001b[39m\u001b[38;5;124m'\u001b[39m,\n",
      "                                       \u001b[38;5;124m'\u001b[39m\u001b[38;5;124mE\u001b[39m\u001b[38;5;124m'\u001b[39m]},\n",
      " \u001b[38;5;124m'\u001b[39m\u001b[38;5;124mincreases_ubi_bg\u001b[39m\u001b[38;5;124m'\u001b[39m: {\u001b[38;5;124m'\u001b[39m\u001b[38;5;124mabstract\u001b[39m\u001b[38;5;124m'\u001b[39m: \u001b[38;5;28;01mFalse\u001b[39;00m,\n",
      "                      \u001b[38;5;124m'\u001b[39m\u001b[38;5;124mchildren\u001b[39m\u001b[38;5;124m'\u001b[39m: [],\n",
      "                      \u001b[38;5;124m'\u001b[39m\u001b[38;5;124min_out\u001b[39m\u001b[38;5;124m'\u001b[39m: {\u001b[38;5;124m'\u001b[39m\u001b[38;5;124min\u001b[39m\u001b[38;5;124m'\u001b[39m: \u001b[38;5;124m'\u001b[39m\u001b[38;5;124mprotein\u001b[39m\u001b[38;5;124m'\u001b[39m, \u001b[38;5;124m'\u001b[39m\u001b[38;5;124mout\u001b[39m\u001b[38;5;124m'\u001b[39m: \u001b[38;5;124m'\u001b[39m\u001b[38;5;124mprotein\u001b[39m\u001b[38;5;124m'\u001b[39m},\n",
      "                      \u001b[38;5;124m'\u001b[39m\u001b[38;5;124mparents_path\u001b[39m\u001b[38;5;124m'\u001b[39m: [\u001b[38;5;124m'\u001b[39m\u001b[38;5;124mincreases_ubi_bg\u001b[39m\u001b[38;5;124m'\u001b[39m,\n",
      "                                       \u001b[38;5;124m'\u001b[39m\u001b[38;5;124mhas_ppi_bg\u001b[39m\u001b[38;5;124m'\u001b[39m,\n",
      "                                       \u001b[38;5;124m'\u001b[39m\u001b[38;5;124mhas_ppi\u001b[39m\u001b[38;5;124m'\u001b[39m,\n",
      "                                       \u001b[38;5;124m'\u001b[39m\u001b[38;5;124mebel_relation\u001b[39m\u001b[38;5;124m'\u001b[39m,\n",
      "                                       \u001b[38;5;124m'\u001b[39m\u001b[38;5;124mE\u001b[39m\u001b[38;5;124m'\u001b[39m]},\n",
      " \u001b[38;5;124m'\u001b[39m\u001b[38;5;124mincreases_ubi_kg\u001b[39m\u001b[38;5;124m'\u001b[39m: {\u001b[38;5;124m'\u001b[39m\u001b[38;5;124mabstract\u001b[39m\u001b[38;5;124m'\u001b[39m: \u001b[38;5;28;01mFalse\u001b[39;00m,\n",
      "                      \u001b[38;5;124m'\u001b[39m\u001b[38;5;124mchildren\u001b[39m\u001b[38;5;124m'\u001b[39m: [],\n",
      "                      \u001b[38;5;124m'\u001b[39m\u001b[38;5;124mparents_path\u001b[39m\u001b[38;5;124m'\u001b[39m: [\u001b[38;5;124m'\u001b[39m\u001b[38;5;124mincreases_ubi_kg\u001b[39m\u001b[38;5;124m'\u001b[39m,\n",
      "                                       \u001b[38;5;124m'\u001b[39m\u001b[38;5;124mhas_ppi_kg\u001b[39m\u001b[38;5;124m'\u001b[39m,\n",
      "                                       \u001b[38;5;124m'\u001b[39m\u001b[38;5;124mpathway_interaction\u001b[39m\u001b[38;5;124m'\u001b[39m,\n",
      "                                       \u001b[38;5;124m'\u001b[39m\u001b[38;5;124mebel_relation\u001b[39m\u001b[38;5;124m'\u001b[39m,\n",
      "                                       \u001b[38;5;124m'\u001b[39m\u001b[38;5;124mE\u001b[39m\u001b[38;5;124m'\u001b[39m]},\n",
      " \u001b[38;5;124m'\u001b[39m\u001b[38;5;124mincreases_ubm_bg\u001b[39m\u001b[38;5;124m'\u001b[39m: {\u001b[38;5;124m'\u001b[39m\u001b[38;5;124mabstract\u001b[39m\u001b[38;5;124m'\u001b[39m: \u001b[38;5;28;01mFalse\u001b[39;00m,\n",
      "                      \u001b[38;5;124m'\u001b[39m\u001b[38;5;124mchildren\u001b[39m\u001b[38;5;124m'\u001b[39m: [],\n",
      "                      \u001b[38;5;124m'\u001b[39m\u001b[38;5;124min_out\u001b[39m\u001b[38;5;124m'\u001b[39m: {\u001b[38;5;124m'\u001b[39m\u001b[38;5;124min\u001b[39m\u001b[38;5;124m'\u001b[39m: \u001b[38;5;124m'\u001b[39m\u001b[38;5;124mprotein\u001b[39m\u001b[38;5;124m'\u001b[39m, \u001b[38;5;124m'\u001b[39m\u001b[38;5;124mout\u001b[39m\u001b[38;5;124m'\u001b[39m: \u001b[38;5;124m'\u001b[39m\u001b[38;5;124mprotein\u001b[39m\u001b[38;5;124m'\u001b[39m},\n",
      "                      \u001b[38;5;124m'\u001b[39m\u001b[38;5;124mparents_path\u001b[39m\u001b[38;5;124m'\u001b[39m: [\u001b[38;5;124m'\u001b[39m\u001b[38;5;124mincreases_ubm_bg\u001b[39m\u001b[38;5;124m'\u001b[39m,\n",
      "                                       \u001b[38;5;124m'\u001b[39m\u001b[38;5;124mhas_ppi_bg\u001b[39m\u001b[38;5;124m'\u001b[39m,\n",
      "                                       \u001b[38;5;124m'\u001b[39m\u001b[38;5;124mhas_ppi\u001b[39m\u001b[38;5;124m'\u001b[39m,\n",
      "                                       \u001b[38;5;124m'\u001b[39m\u001b[38;5;124mebel_relation\u001b[39m\u001b[38;5;124m'\u001b[39m,\n",
      "                                       \u001b[38;5;124m'\u001b[39m\u001b[38;5;124mE\u001b[39m\u001b[38;5;124m'\u001b[39m]},\n",
      " \u001b[38;5;124m'\u001b[39m\u001b[38;5;124mincreases_ubp_bg\u001b[39m\u001b[38;5;124m'\u001b[39m: {\u001b[38;5;124m'\u001b[39m\u001b[38;5;124mabstract\u001b[39m\u001b[38;5;124m'\u001b[39m: \u001b[38;5;28;01mFalse\u001b[39;00m,\n",
      "                      \u001b[38;5;124m'\u001b[39m\u001b[38;5;124mchildren\u001b[39m\u001b[38;5;124m'\u001b[39m: [],\n",
      "                      \u001b[38;5;124m'\u001b[39m\u001b[38;5;124min_out\u001b[39m\u001b[38;5;124m'\u001b[39m: {\u001b[38;5;124m'\u001b[39m\u001b[38;5;124min\u001b[39m\u001b[38;5;124m'\u001b[39m: \u001b[38;5;124m'\u001b[39m\u001b[38;5;124mprotein\u001b[39m\u001b[38;5;124m'\u001b[39m, \u001b[38;5;124m'\u001b[39m\u001b[38;5;124mout\u001b[39m\u001b[38;5;124m'\u001b[39m: \u001b[38;5;124m'\u001b[39m\u001b[38;5;124mprotein\u001b[39m\u001b[38;5;124m'\u001b[39m},\n",
      "                      \u001b[38;5;124m'\u001b[39m\u001b[38;5;124mparents_path\u001b[39m\u001b[38;5;124m'\u001b[39m: [\u001b[38;5;124m'\u001b[39m\u001b[38;5;124mincreases_ubp_bg\u001b[39m\u001b[38;5;124m'\u001b[39m,\n",
      "                                       \u001b[38;5;124m'\u001b[39m\u001b[38;5;124mhas_ppi_bg\u001b[39m\u001b[38;5;124m'\u001b[39m,\n",
      "                                       \u001b[38;5;124m'\u001b[39m\u001b[38;5;124mhas_ppi\u001b[39m\u001b[38;5;124m'\u001b[39m,\n",
      "                                       \u001b[38;5;124m'\u001b[39m\u001b[38;5;124mebel_relation\u001b[39m\u001b[38;5;124m'\u001b[39m,\n",
      "                                       \u001b[38;5;124m'\u001b[39m\u001b[38;5;124mE\u001b[39m\u001b[38;5;124m'\u001b[39m]},\n",
      " \u001b[38;5;124m'\u001b[39m\u001b[38;5;124minhibits__iu\u001b[39m\u001b[38;5;124m'\u001b[39m: {\u001b[38;5;124m'\u001b[39m\u001b[38;5;124mabstract\u001b[39m\u001b[38;5;124m'\u001b[39m: \u001b[38;5;28;01mFalse\u001b[39;00m,\n",
      "                  \u001b[38;5;124m'\u001b[39m\u001b[38;5;124mchildren\u001b[39m\u001b[38;5;124m'\u001b[39m: [],\n",
      "                  \u001b[38;5;124m'\u001b[39m\u001b[38;5;124min_out\u001b[39m\u001b[38;5;124m'\u001b[39m: {\u001b[38;5;124m'\u001b[39m\u001b[38;5;124min\u001b[39m\u001b[38;5;124m'\u001b[39m: \u001b[38;5;124m'\u001b[39m\u001b[38;5;124mbel\u001b[39m\u001b[38;5;124m'\u001b[39m, \u001b[38;5;124m'\u001b[39m\u001b[38;5;124mout\u001b[39m\u001b[38;5;124m'\u001b[39m: \u001b[38;5;124m'\u001b[39m\u001b[38;5;124mbel\u001b[39m\u001b[38;5;124m'\u001b[39m},\n",
      "                  \u001b[38;5;124m'\u001b[39m\u001b[38;5;124mparents_path\u001b[39m\u001b[38;5;124m'\u001b[39m: [\u001b[38;5;124m'\u001b[39m\u001b[38;5;124minhibits__iu\u001b[39m\u001b[38;5;124m'\u001b[39m,\n",
      "                                   \u001b[38;5;124m'\u001b[39m\u001b[38;5;124miuphar_interaction\u001b[39m\u001b[38;5;124m'\u001b[39m,\n",
      "                                   \u001b[38;5;124m'\u001b[39m\u001b[38;5;124mebel_relation\u001b[39m\u001b[38;5;124m'\u001b[39m,\n",
      "                                   \u001b[38;5;124m'\u001b[39m\u001b[38;5;124mE\u001b[39m\u001b[38;5;124m'\u001b[39m]},\n",
      " \u001b[38;5;124m'\u001b[39m\u001b[38;5;124minhibits_gating__iu\u001b[39m\u001b[38;5;124m'\u001b[39m: {\u001b[38;5;124m'\u001b[39m\u001b[38;5;124mabstract\u001b[39m\u001b[38;5;124m'\u001b[39m: \u001b[38;5;28;01mFalse\u001b[39;00m,\n",
      "                         \u001b[38;5;124m'\u001b[39m\u001b[38;5;124mchildren\u001b[39m\u001b[38;5;124m'\u001b[39m: [],\n",
      "                         \u001b[38;5;124m'\u001b[39m\u001b[38;5;124min_out\u001b[39m\u001b[38;5;124m'\u001b[39m: {\u001b[38;5;124m'\u001b[39m\u001b[38;5;124min\u001b[39m\u001b[38;5;124m'\u001b[39m: \u001b[38;5;124m'\u001b[39m\u001b[38;5;124mbel\u001b[39m\u001b[38;5;124m'\u001b[39m, \u001b[38;5;124m'\u001b[39m\u001b[38;5;124mout\u001b[39m\u001b[38;5;124m'\u001b[39m: \u001b[38;5;124m'\u001b[39m\u001b[38;5;124mbel\u001b[39m\u001b[38;5;124m'\u001b[39m},\n",
      "                         \u001b[38;5;124m'\u001b[39m\u001b[38;5;124mparents_path\u001b[39m\u001b[38;5;124m'\u001b[39m: [\u001b[38;5;124m'\u001b[39m\u001b[38;5;124minhibits_gating__iu\u001b[39m\u001b[38;5;124m'\u001b[39m,\n",
      "                                          \u001b[38;5;124m'\u001b[39m\u001b[38;5;124miuphar_interaction\u001b[39m\u001b[38;5;124m'\u001b[39m,\n",
      "                                          \u001b[38;5;124m'\u001b[39m\u001b[38;5;124mebel_relation\u001b[39m\u001b[38;5;124m'\u001b[39m,\n",
      "                                          \u001b[38;5;124m'\u001b[39m\u001b[38;5;124mE\u001b[39m\u001b[38;5;124m'\u001b[39m]},\n",
      " \u001b[38;5;124m'\u001b[39m\u001b[38;5;124minhibits_st\u001b[39m\u001b[38;5;124m'\u001b[39m: {\u001b[38;5;124m'\u001b[39m\u001b[38;5;124mabstract\u001b[39m\u001b[38;5;124m'\u001b[39m: \u001b[38;5;28;01mFalse\u001b[39;00m,\n",
      "                 \u001b[38;5;124m'\u001b[39m\u001b[38;5;124mchildren\u001b[39m\u001b[38;5;124m'\u001b[39m: [],\n",
      "                 \u001b[38;5;124m'\u001b[39m\u001b[38;5;124min_out\u001b[39m\u001b[38;5;124m'\u001b[39m: {\u001b[38;5;124m'\u001b[39m\u001b[38;5;124min\u001b[39m\u001b[38;5;124m'\u001b[39m: \u001b[38;5;124m'\u001b[39m\u001b[38;5;124mprotein\u001b[39m\u001b[38;5;124m'\u001b[39m, \u001b[38;5;124m'\u001b[39m\u001b[38;5;124mout\u001b[39m\u001b[38;5;124m'\u001b[39m: \u001b[38;5;124m'\u001b[39m\u001b[38;5;124mprotein\u001b[39m\u001b[38;5;124m'\u001b[39m},\n",
      "                 \u001b[38;5;124m'\u001b[39m\u001b[38;5;124mparents_path\u001b[39m\u001b[38;5;124m'\u001b[39m: [\u001b[38;5;124m'\u001b[39m\u001b[38;5;124minhibits_st\u001b[39m\u001b[38;5;124m'\u001b[39m,\n",
      "                                  \u001b[38;5;124m'\u001b[39m\u001b[38;5;124mhas_action_st\u001b[39m\u001b[38;5;124m'\u001b[39m,\n",
      "                                  \u001b[38;5;124m'\u001b[39m\u001b[38;5;124mhas_action\u001b[39m\u001b[38;5;124m'\u001b[39m,\n",
      "                                  \u001b[38;5;124m'\u001b[39m\u001b[38;5;124mebel_relation\u001b[39m\u001b[38;5;124m'\u001b[39m,\n",
      "                                  \u001b[38;5;124m'\u001b[39m\u001b[38;5;124mE\u001b[39m\u001b[38;5;124m'\u001b[39m]},\n",
      " \u001b[38;5;124m'\u001b[39m\u001b[38;5;124miuphar_interaction\u001b[39m\u001b[38;5;124m'\u001b[39m: {\u001b[38;5;124m'\u001b[39m\u001b[38;5;124mabstract\u001b[39m\u001b[38;5;124m'\u001b[39m: \u001b[38;5;28;01mFalse\u001b[39;00m,\n",
      "                        \u001b[38;5;124m'\u001b[39m\u001b[38;5;124mchildren\u001b[39m\u001b[38;5;124m'\u001b[39m: [{\u001b[38;5;124m'\u001b[39m\u001b[38;5;124mabstract\u001b[39m\u001b[38;5;124m'\u001b[39m: \u001b[38;5;28;01mFalse\u001b[39;00m,\n",
      "                                      \u001b[38;5;124m'\u001b[39m\u001b[38;5;124mname\u001b[39m\u001b[38;5;124m'\u001b[39m: \u001b[38;5;124m'\u001b[39m\u001b[38;5;124mantagonist_of__iu\u001b[39m\u001b[38;5;124m'\u001b[39m},\n",
      "                                     {\u001b[38;5;124m'\u001b[39m\u001b[38;5;124mabstract\u001b[39m\u001b[38;5;124m'\u001b[39m: \u001b[38;5;28;01mFalse\u001b[39;00m,\n",
      "                                      \u001b[38;5;124m'\u001b[39m\u001b[38;5;124mname\u001b[39m\u001b[38;5;124m'\u001b[39m: \u001b[38;5;124m'\u001b[39m\u001b[38;5;124mactivates__iu\u001b[39m\u001b[38;5;124m'\u001b[39m},\n",
      "                                     {\u001b[38;5;124m'\u001b[39m\u001b[38;5;124mabstract\u001b[39m\u001b[38;5;124m'\u001b[39m: \u001b[38;5;28;01mFalse\u001b[39;00m,\n",
      "                                      \u001b[38;5;124m'\u001b[39m\u001b[38;5;124mname\u001b[39m\u001b[38;5;124m'\u001b[39m: \u001b[38;5;124m'\u001b[39m\u001b[38;5;124minhibits_gating__iu\u001b[39m\u001b[38;5;124m'\u001b[39m},\n",
      "                                     {\u001b[38;5;124m'\u001b[39m\u001b[38;5;124mabstract\u001b[39m\u001b[38;5;124m'\u001b[39m: \u001b[38;5;28;01mFalse\u001b[39;00m,\n",
      "                                      \u001b[38;5;124m'\u001b[39m\u001b[38;5;124mname\u001b[39m\u001b[38;5;124m'\u001b[39m: \u001b[38;5;124m'\u001b[39m\u001b[38;5;124mchannel_blocker_of__iu\u001b[39m\u001b[38;5;124m'\u001b[39m},\n",
      "                                     {\u001b[38;5;124m'\u001b[39m\u001b[38;5;124mabstract\u001b[39m\u001b[38;5;124m'\u001b[39m: \u001b[38;5;28;01mFalse\u001b[39;00m,\n",
      "                                      \u001b[38;5;124m'\u001b[39m\u001b[38;5;124mname\u001b[39m\u001b[38;5;124m'\u001b[39m: \u001b[38;5;124m'\u001b[39m\u001b[38;5;124mallosteric_modulator_of__iu\u001b[39m\u001b[38;5;124m'\u001b[39m},\n",
      "                                     {\u001b[38;5;124m'\u001b[39m\u001b[38;5;124mabstract\u001b[39m\u001b[38;5;124m'\u001b[39m: \u001b[38;5;28;01mFalse\u001b[39;00m,\n",
      "                                      \u001b[38;5;124m'\u001b[39m\u001b[38;5;124mname\u001b[39m\u001b[38;5;124m'\u001b[39m: \u001b[38;5;124m'\u001b[39m\u001b[38;5;124minhibits__iu\u001b[39m\u001b[38;5;124m'\u001b[39m},\n",
      "                                     {\u001b[38;5;124m'\u001b[39m\u001b[38;5;124mabstract\u001b[39m\u001b[38;5;124m'\u001b[39m: \u001b[38;5;28;01mFalse\u001b[39;00m,\n",
      "                                      \u001b[38;5;124m'\u001b[39m\u001b[38;5;124mname\u001b[39m\u001b[38;5;124m'\u001b[39m: \u001b[38;5;124m'\u001b[39m\u001b[38;5;124magonist_of__iu\u001b[39m\u001b[38;5;124m'\u001b[39m},\n",
      "                                     {\u001b[38;5;124m'\u001b[39m\u001b[38;5;124mabstract\u001b[39m\u001b[38;5;124m'\u001b[39m: \u001b[38;5;28;01mFalse\u001b[39;00m,\n",
      "                                      \u001b[38;5;124m'\u001b[39m\u001b[38;5;124mname\u001b[39m\u001b[38;5;124m'\u001b[39m: \u001b[38;5;124m'\u001b[39m\u001b[38;5;124mantibody_against__iu\u001b[39m\u001b[38;5;124m'\u001b[39m}],\n",
      "                        \u001b[38;5;124m'\u001b[39m\u001b[38;5;124min_out\u001b[39m\u001b[38;5;124m'\u001b[39m: {\u001b[38;5;124m'\u001b[39m\u001b[38;5;124min\u001b[39m\u001b[38;5;124m'\u001b[39m: \u001b[38;5;124m'\u001b[39m\u001b[38;5;124mbel\u001b[39m\u001b[38;5;124m'\u001b[39m, \u001b[38;5;124m'\u001b[39m\u001b[38;5;124mout\u001b[39m\u001b[38;5;124m'\u001b[39m: \u001b[38;5;124m'\u001b[39m\u001b[38;5;124mbel\u001b[39m\u001b[38;5;124m'\u001b[39m},\n",
      "                        \u001b[38;5;124m'\u001b[39m\u001b[38;5;124mparents_path\u001b[39m\u001b[38;5;124m'\u001b[39m: [\u001b[38;5;124m'\u001b[39m\u001b[38;5;124miuphar_interaction\u001b[39m\u001b[38;5;124m'\u001b[39m,\n",
      "                                         \u001b[38;5;124m'\u001b[39m\u001b[38;5;124mebel_relation\u001b[39m\u001b[38;5;124m'\u001b[39m,\n",
      "                                         \u001b[38;5;124m'\u001b[39m\u001b[38;5;124mE\u001b[39m\u001b[38;5;124m'\u001b[39m]},\n",
      " \u001b[38;5;124m'\u001b[39m\u001b[38;5;124mpathway_interaction\u001b[39m\u001b[38;5;124m'\u001b[39m: {\u001b[38;5;124m'\u001b[39m\u001b[38;5;124mabstract\u001b[39m\u001b[38;5;124m'\u001b[39m: \u001b[38;5;28;01mTrue\u001b[39;00m,\n",
      "                         \u001b[38;5;124m'\u001b[39m\u001b[38;5;124mchildren\u001b[39m\u001b[38;5;124m'\u001b[39m: [{\u001b[38;5;124m'\u001b[39m\u001b[38;5;124mabstract\u001b[39m\u001b[38;5;124m'\u001b[39m: \u001b[38;5;28;01mTrue\u001b[39;00m, \u001b[38;5;124m'\u001b[39m\u001b[38;5;124mname\u001b[39m\u001b[38;5;124m'\u001b[39m: \u001b[38;5;124m'\u001b[39m\u001b[38;5;124mhas_ppi_kg\u001b[39m\u001b[38;5;124m'\u001b[39m}],\n",
      "                         \u001b[38;5;124m'\u001b[39m\u001b[38;5;124mparents_path\u001b[39m\u001b[38;5;124m'\u001b[39m: [\u001b[38;5;124m'\u001b[39m\u001b[38;5;124mpathway_interaction\u001b[39m\u001b[38;5;124m'\u001b[39m,\n",
      "                                          \u001b[38;5;124m'\u001b[39m\u001b[38;5;124mebel_relation\u001b[39m\u001b[38;5;124m'\u001b[39m,\n",
      "                                          \u001b[38;5;124m'\u001b[39m\u001b[38;5;124mE\u001b[39m\u001b[38;5;124m'\u001b[39m]}}\n",
      "\n",
      "For further testing go to http://0.0.0.0:5000/ui/#/e(BE:L)/ebel.web.api.ebel.v1.bel.get_ebel_relation_types\n"
     ]
    },
    {
     "data": {
      "text/html": [
       "<h2>13. Get child nodes, abstract status of childs, parents path, number of entries, abstract status for all e(BE:L) relation types</h2>"
      ],
      "text/plain": [
       "<IPython.core.display.HTML object>"
      ]
     },
     "metadata": {},
     "output_type": "display_data"
    },
    {
     "data": {
      "text/html": [
       "<b style=\"color: rgb(98,98,98); text-decoration: underline;\">Description:</b> <p>Get child nodes, abstract status of childs, parents path, number of entries, abstract status for all e(BE:L) relation types</p>"
      ],
      "text/plain": [
       "<IPython.core.display.HTML object>"
      ]
     },
     "metadata": {},
     "output_type": "display_data"
    },
    {
     "data": {
      "text/html": [
       "<b>Tags:</b> ['e(BE:L)']"
      ],
      "text/plain": [
       "<IPython.core.display.HTML object>"
      ]
     },
     "metadata": {},
     "output_type": "display_data"
    },
    {
     "data": {
      "text/html": [
       "<b>Server path:</b> /api/v1/ebel/relation_types_as_dot"
      ],
      "text/plain": [
       "<IPython.core.display.HTML object>"
      ]
     },
     "metadata": {},
     "output_type": "display_data"
    },
    {
     "name": "stdout",
     "output_type": "stream",
     "text": [
      "without paramters\n"
     ]
    },
    {
     "data": {
      "text/html": [
       "<b>Example URL:</b> <a href=\"http://0.0.0.0:5000/api/v1/ebel/relation_types_as_dot\">http://0.0.0.0:5000/api/v1/ebel/relation_types_as_dot</a>"
      ],
      "text/plain": [
       "<IPython.core.display.HTML object>"
      ]
     },
     "metadata": {},
     "output_type": "display_data"
    },
    {
     "data": {
      "text/html": [
       "<b style=\"color: rgb(98,98,98); text-decoration: underline;\">Example response:</b>"
      ],
      "text/plain": [
       "<IPython.core.display.HTML object>"
      ]
     },
     "metadata": {},
     "output_type": "display_data"
    },
    {
     "name": "stdout",
     "output_type": "stream",
     "text": [
      "(\u001b[38;5;124m'\u001b[39m\u001b[38;5;124mdigraph \u001b[39m\u001b[38;5;124m{\u001b[39m\u001b[38;5;130;01m\\n\u001b[39;00m\u001b[38;5;124m'\u001b[39m\n",
      " \u001b[38;5;124m'\u001b[39m\u001b[38;5;130;01m\\t\u001b[39;00m\u001b[38;5;124mgraph [rankdir=LR]\u001b[39m\u001b[38;5;130;01m\\n\u001b[39;00m\u001b[38;5;124m'\u001b[39m\n",
      " \u001b[38;5;124m'\u001b[39m\u001b[38;5;130;01m\\t\u001b[39;00m\u001b[38;5;124mnode [shape=plaintext]\u001b[39m\u001b[38;5;130;01m\\n\u001b[39;00m\u001b[38;5;124m'\u001b[39m\n",
      " \u001b[38;5;124m'\u001b[39m\u001b[38;5;130;01m\\t\u001b[39;00m\u001b[38;5;124mhas_located -> has_located_protein\u001b[39m\u001b[38;5;130;01m\\n\u001b[39;00m\u001b[38;5;124m'\u001b[39m\n",
      " \u001b[38;5;124m'\u001b[39m\u001b[38;5;130;01m\\t\u001b[39;00m\u001b[38;5;124mhas_located -> has_located_complex\u001b[39m\u001b[38;5;130;01m\\n\u001b[39;00m\u001b[38;5;124m'\u001b[39m\n",
      " \u001b[38;5;124m'\u001b[39m\u001b[38;5;130;01m\\t\u001b[39;00m\u001b[38;5;124mhas_located -> has_located_rna\u001b[39m\u001b[38;5;130;01m\\n\u001b[39;00m\u001b[38;5;124m'\u001b[39m\n",
      " \u001b[38;5;124m'\u001b[39m\u001b[38;5;130;01m\\t\u001b[39;00m\u001b[38;5;124mhas_located -> has_located_gene\u001b[39m\u001b[38;5;130;01m\\n\u001b[39;00m\u001b[38;5;124m'\u001b[39m\n",
      " \u001b[38;5;124m'\u001b[39m\u001b[38;5;130;01m\\t\u001b[39;00m\u001b[38;5;124mhas_located -> has_located_abundance\u001b[39m\u001b[38;5;130;01m\\n\u001b[39;00m\u001b[38;5;124m'\u001b[39m\n",
      " \u001b[38;5;124m'\u001b[39m\u001b[38;5;130;01m\\t\u001b[39;00m\u001b[38;5;124mhas_located -> has_located_population\u001b[39m\u001b[38;5;130;01m\\n\u001b[39;00m\u001b[38;5;124m'\u001b[39m\n",
      " \u001b[38;5;124m'\u001b[39m\u001b[38;5;130;01m\\t\u001b[39;00m\u001b[38;5;124mhas_located -> has_located_micro_rna\u001b[39m\u001b[38;5;130;01m\\n\u001b[39;00m\u001b[38;5;124m'\u001b[39m\n",
      " \u001b[38;5;124m'\u001b[39m\u001b[38;5;130;01m\\t\u001b[39;00m\u001b[38;5;124miuphar_interaction -> antagonist_of__iu\u001b[39m\u001b[38;5;130;01m\\n\u001b[39;00m\u001b[38;5;124m'\u001b[39m\n",
      " \u001b[38;5;124m'\u001b[39m\u001b[38;5;130;01m\\t\u001b[39;00m\u001b[38;5;124miuphar_interaction -> activates__iu\u001b[39m\u001b[38;5;130;01m\\n\u001b[39;00m\u001b[38;5;124m'\u001b[39m\n",
      " \u001b[38;5;124m'\u001b[39m\u001b[38;5;130;01m\\t\u001b[39;00m\u001b[38;5;124miuphar_interaction -> inhibits_gating__iu\u001b[39m\u001b[38;5;130;01m\\n\u001b[39;00m\u001b[38;5;124m'\u001b[39m\n",
      " \u001b[38;5;124m'\u001b[39m\u001b[38;5;130;01m\\t\u001b[39;00m\u001b[38;5;124miuphar_interaction -> channel_blocker_of__iu\u001b[39m\u001b[38;5;130;01m\\n\u001b[39;00m\u001b[38;5;124m'\u001b[39m\n",
      " \u001b[38;5;124m'\u001b[39m\u001b[38;5;130;01m\\t\u001b[39;00m\u001b[38;5;124miuphar_interaction -> allosteric_modulator_of__iu\u001b[39m\u001b[38;5;130;01m\\n\u001b[39;00m\u001b[38;5;124m'\u001b[39m\n",
      " \u001b[38;5;124m'\u001b[39m\u001b[38;5;130;01m\\t\u001b[39;00m\u001b[38;5;124miuphar_interaction -> inhibits__iu\u001b[39m\u001b[38;5;130;01m\\n\u001b[39;00m\u001b[38;5;124m'\u001b[39m\n",
      " \u001b[38;5;124m'\u001b[39m\u001b[38;5;130;01m\\t\u001b[39;00m\u001b[38;5;124miuphar_interaction -> agonist_of__iu\u001b[39m\u001b[38;5;130;01m\\n\u001b[39;00m\u001b[38;5;124m'\u001b[39m\n",
      " \u001b[38;5;124m'\u001b[39m\u001b[38;5;130;01m\\t\u001b[39;00m\u001b[38;5;124miuphar_interaction -> antibody_against__iu\u001b[39m\u001b[38;5;130;01m\\n\u001b[39;00m\u001b[38;5;124m'\u001b[39m\n",
      " \u001b[38;5;124m'\u001b[39m\u001b[38;5;130;01m\\t\u001b[39;00m\u001b[38;5;124mhas_action_st -> increases_expression_of_st\u001b[39m\u001b[38;5;130;01m\\n\u001b[39;00m\u001b[38;5;124m'\u001b[39m\n",
      " \u001b[38;5;124m'\u001b[39m\u001b[38;5;130;01m\\t\u001b[39;00m\u001b[38;5;124mhas_action_st -> activates_st\u001b[39m\u001b[38;5;130;01m\\n\u001b[39;00m\u001b[38;5;124m'\u001b[39m\n",
      " \u001b[38;5;124m'\u001b[39m\u001b[38;5;130;01m\\t\u001b[39;00m\u001b[38;5;124mhas_action_st -> decreases_expression_of_st\u001b[39m\u001b[38;5;130;01m\\n\u001b[39;00m\u001b[38;5;124m'\u001b[39m\n",
      " \u001b[38;5;124m'\u001b[39m\u001b[38;5;130;01m\\t\u001b[39;00m\u001b[38;5;124mhas_action_st -> controls_pmod_of_st\u001b[39m\u001b[38;5;130;01m\\n\u001b[39;00m\u001b[38;5;124m'\u001b[39m\n",
      " \u001b[38;5;124m'\u001b[39m\u001b[38;5;130;01m\\t\u001b[39;00m\u001b[38;5;124mhas_action_st -> controls_expression_of_st\u001b[39m\u001b[38;5;130;01m\\n\u001b[39;00m\u001b[38;5;124m'\u001b[39m\n",
      " \u001b[38;5;124m'\u001b[39m\u001b[38;5;130;01m\\t\u001b[39;00m\u001b[38;5;124mhas_action_st -> inhibits_st\u001b[39m\u001b[38;5;130;01m\\n\u001b[39;00m\u001b[38;5;124m'\u001b[39m\n",
      " \u001b[38;5;124m'\u001b[39m\u001b[38;5;130;01m\\t\u001b[39;00m\u001b[38;5;124mhas_mapped_snp -> has_mapped_snp_cv\u001b[39m\u001b[38;5;130;01m\\n\u001b[39;00m\u001b[38;5;124m'\u001b[39m\n",
      " \u001b[38;5;124m'\u001b[39m\u001b[38;5;130;01m\\t\u001b[39;00m\u001b[38;5;124mhas_mapped_snp -> has_mapped_snp_dgn\u001b[39m\u001b[38;5;130;01m\\n\u001b[39;00m\u001b[38;5;124m'\u001b[39m\n",
      " \u001b[38;5;124m'\u001b[39m\u001b[38;5;130;01m\\t\u001b[39;00m\u001b[38;5;124mhas_mapped_snp -> has_mapped_snp_gc\u001b[39m\u001b[38;5;130;01m\\n\u001b[39;00m\u001b[38;5;124m'\u001b[39m\n",
      " \u001b[38;5;124m'\u001b[39m\u001b[38;5;130;01m\\t\u001b[39;00m\u001b[38;5;124mhas_snp -> has_snp_disgenet\u001b[39m\u001b[38;5;130;01m\\n\u001b[39;00m\u001b[38;5;124m'\u001b[39m\n",
      " \u001b[38;5;124m'\u001b[39m\u001b[38;5;130;01m\\t\u001b[39;00m\u001b[38;5;124mhas_snp -> has_snp_gwascatalog\u001b[39m\u001b[38;5;130;01m\\n\u001b[39;00m\u001b[38;5;124m'\u001b[39m\n",
      " \u001b[38;5;124m'\u001b[39m\u001b[38;5;130;01m\\t\u001b[39;00m\u001b[38;5;124mhas_snp -> has_mapped_snp\u001b[39m\u001b[38;5;130;01m\\n\u001b[39;00m\u001b[38;5;124m'\u001b[39m\n",
      " \u001b[38;5;124m'\u001b[39m\u001b[38;5;130;01m\\t\u001b[39;00m\u001b[38;5;124mhas_snp -> has_snp_clinvar\u001b[39m\u001b[38;5;130;01m\\n\u001b[39;00m\u001b[38;5;124m'\u001b[39m\n",
      " \u001b[38;5;124m'\u001b[39m\u001b[38;5;130;01m\\t\u001b[39;00m\u001b[38;5;124mhas_snp -> has_downstream_snp\u001b[39m\u001b[38;5;130;01m\\n\u001b[39;00m\u001b[38;5;124m'\u001b[39m\n",
      " \u001b[38;5;124m'\u001b[39m\u001b[38;5;130;01m\\t\u001b[39;00m\u001b[38;5;124mhas_snp -> has_upstream_snp\u001b[39m\u001b[38;5;130;01m\\n\u001b[39;00m\u001b[38;5;124m'\u001b[39m\n",
      " \u001b[38;5;124m'\u001b[39m\u001b[38;5;130;01m\\t\u001b[39;00m\u001b[38;5;124mebel_relation -> has_located\u001b[39m\u001b[38;5;130;01m\\n\u001b[39;00m\u001b[38;5;124m'\u001b[39m\n",
      " \u001b[38;5;124m'\u001b[39m\u001b[38;5;130;01m\\t\u001b[39;00m\u001b[38;5;124mebel_relation -> has__reactants\u001b[39m\u001b[38;5;130;01m\\n\u001b[39;00m\u001b[38;5;124m'\u001b[39m\n",
      " \u001b[38;5;124m'\u001b[39m\u001b[38;5;130;01m\\t\u001b[39;00m\u001b[38;5;124mebel_relation -> has__to_location\u001b[39m\u001b[38;5;130;01m\\n\u001b[39;00m\u001b[38;5;124m'\u001b[39m\n",
      " \u001b[38;5;124m'\u001b[39m\u001b[38;5;130;01m\\t\u001b[39;00m\u001b[38;5;124mebel_relation -> iuphar_interaction\u001b[39m\u001b[38;5;130;01m\\n\u001b[39;00m\u001b[38;5;124m'\u001b[39m\n",
      " \u001b[38;5;124m'\u001b[39m\u001b[38;5;130;01m\\t\u001b[39;00m\u001b[38;5;124mebel_relation -> has_snp\u001b[39m\u001b[38;5;130;01m\\n\u001b[39;00m\u001b[38;5;124m'\u001b[39m\n",
      " \u001b[38;5;124m'\u001b[39m\u001b[38;5;130;01m\\t\u001b[39;00m\u001b[38;5;124mebel_relation -> has_fragmented_protein\u001b[39m\u001b[38;5;130;01m\\n\u001b[39;00m\u001b[38;5;124m'\u001b[39m\n",
      " \u001b[38;5;124m'\u001b[39m\u001b[38;5;130;01m\\t\u001b[39;00m\u001b[38;5;124mebel_relation -> has_mirgene_target\u001b[39m\u001b[38;5;130;01m\\n\u001b[39;00m\u001b[38;5;124m'\u001b[39m\n",
      " \u001b[38;5;124m'\u001b[39m\u001b[38;5;130;01m\\t\u001b[39;00m\u001b[38;5;124mebel_relation -> has_side_effect\u001b[39m\u001b[38;5;130;01m\\n\u001b[39;00m\u001b[38;5;124m'\u001b[39m\n",
      " \u001b[38;5;124m'\u001b[39m\u001b[38;5;130;01m\\t\u001b[39;00m\u001b[38;5;124mebel_relation -> has__gmod\u001b[39m\u001b[38;5;130;01m\\n\u001b[39;00m\u001b[38;5;124m'\u001b[39m\n",
      " \u001b[38;5;124m'\u001b[39m\u001b[38;5;130;01m\\t\u001b[39;00m\u001b[38;5;124mebel_relation -> has__products\u001b[39m\u001b[38;5;130;01m\\n\u001b[39;00m\u001b[38;5;124m'\u001b[39m\n",
      " \u001b[38;5;124m'\u001b[39m\u001b[38;5;130;01m\\t\u001b[39;00m\u001b[38;5;124mebel_relation -> has__from_location\u001b[39m\u001b[38;5;130;01m\\n\u001b[39;00m\u001b[38;5;124m'\u001b[39m\n",
      " \u001b[38;5;124m'\u001b[39m\u001b[38;5;130;01m\\t\u001b[39;00m\u001b[38;5;124mebel_relation -> has__micro_rna\u001b[39m\u001b[38;5;130;01m\\n\u001b[39;00m\u001b[38;5;124m'\u001b[39m\n",
      " \u001b[38;5;124m'\u001b[39m\u001b[38;5;130;01m\\t\u001b[39;00m\u001b[38;5;124mebel_relation -> gene_disease_association\u001b[39m\u001b[38;5;130;01m\\n\u001b[39;00m\u001b[38;5;124m'\u001b[39m\n",
      " \u001b[38;5;124m'\u001b[39m\u001b[38;5;130;01m\\t\u001b[39;00m\u001b[38;5;124mebel_relation -> has__location\u001b[39m\u001b[38;5;130;01m\\n\u001b[39;00m\u001b[38;5;124m'\u001b[39m\n",
      " \u001b[38;5;124m'\u001b[39m\u001b[38;5;130;01m\\t\u001b[39;00m\u001b[38;5;124mebel_relation -> has_variant_obj\u001b[39m\u001b[38;5;130;01m\\n\u001b[39;00m\u001b[38;5;124m'\u001b[39m\n",
      " \u001b[38;5;124m'\u001b[39m\u001b[38;5;130;01m\\t\u001b[39;00m\u001b[38;5;124mebel_relation -> has__composite\u001b[39m\u001b[38;5;130;01m\\n\u001b[39;00m\u001b[38;5;124m'\u001b[39m\n",
      " \u001b[38;5;124m'\u001b[39m\u001b[38;5;130;01m\\t\u001b[39;00m\u001b[38;5;124mebel_relation -> has__gene\u001b[39m\u001b[38;5;130;01m\\n\u001b[39;00m\u001b[38;5;124m'\u001b[39m\n",
      " \u001b[38;5;124m'\u001b[39m\u001b[38;5;130;01m\\t\u001b[39;00m\u001b[38;5;124mebel_relation -> has_action\u001b[39m\u001b[38;5;130;01m\\n\u001b[39;00m\u001b[38;5;124m'\u001b[39m\n",
      " \u001b[38;5;124m'\u001b[39m\u001b[38;5;130;01m\\t\u001b[39;00m\u001b[38;5;124mebel_relation -> pathway_interaction\u001b[39m\u001b[38;5;130;01m\\n\u001b[39;00m\u001b[38;5;124m'\u001b[39m\n",
      " \u001b[38;5;124m'\u001b[39m\u001b[38;5;130;01m\\t\u001b[39;00m\u001b[38;5;124mebel_relation -> has__abundance\u001b[39m\u001b[38;5;130;01m\\n\u001b[39;00m\u001b[38;5;124m'\u001b[39m\n",
      " \u001b[38;5;124m'\u001b[39m\u001b[38;5;130;01m\\t\u001b[39;00m\u001b[38;5;124mebel_relation -> has__complex\u001b[39m\u001b[38;5;130;01m\\n\u001b[39;00m\u001b[38;5;124m'\u001b[39m\n",
      " \u001b[38;5;124m'\u001b[39m\u001b[38;5;130;01m\\t\u001b[39;00m\u001b[38;5;124mebel_relation -> has__population\u001b[39m\u001b[38;5;130;01m\\n\u001b[39;00m\u001b[38;5;124m'\u001b[39m\n",
      " \u001b[38;5;124m'\u001b[39m\u001b[38;5;130;01m\\t\u001b[39;00m\u001b[38;5;124mebel_relation -> has_drug_target\u001b[39m\u001b[38;5;130;01m\\n\u001b[39;00m\u001b[38;5;124m'\u001b[39m\n",
      " \u001b[38;5;124m'\u001b[39m\u001b[38;5;130;01m\\t\u001b[39;00m\u001b[38;5;124mebel_relation -> has__rna\u001b[39m\u001b[38;5;130;01m\\n\u001b[39;00m\u001b[38;5;124m'\u001b[39m\n",
      " \u001b[38;5;124m'\u001b[39m\u001b[38;5;130;01m\\t\u001b[39;00m\u001b[38;5;124mebel_relation -> has__pmod\u001b[39m\u001b[38;5;130;01m\\n\u001b[39;00m\u001b[38;5;124m'\u001b[39m\n",
      " \u001b[38;5;124m'\u001b[39m\u001b[38;5;130;01m\\t\u001b[39;00m\u001b[38;5;124mebel_relation -> has_ppi\u001b[39m\u001b[38;5;130;01m\\n\u001b[39;00m\u001b[38;5;124m'\u001b[39m\n",
      " \u001b[38;5;124m'\u001b[39m\u001b[38;5;130;01m\\t\u001b[39;00m\u001b[38;5;124mebel_relation -> has__fragment\u001b[39m\u001b[38;5;130;01m\\n\u001b[39;00m\u001b[38;5;124m'\u001b[39m\n",
      " \u001b[38;5;124m'\u001b[39m\u001b[38;5;130;01m\\t\u001b[39;00m\u001b[38;5;124mebel_relation -> has_modified\u001b[39m\u001b[38;5;130;01m\\n\u001b[39;00m\u001b[38;5;124m'\u001b[39m\n",
      " \u001b[38;5;124m'\u001b[39m\u001b[38;5;130;01m\\t\u001b[39;00m\u001b[38;5;124mebel_relation -> has__protein\u001b[39m\u001b[38;5;130;01m\\n\u001b[39;00m\u001b[38;5;124m'\u001b[39m\n",
      " \u001b[38;5;124m'\u001b[39m\u001b[38;5;130;01m\\t\u001b[39;00m\u001b[38;5;124mebel_relation -> has__variant\u001b[39m\u001b[38;5;130;01m\\n\u001b[39;00m\u001b[38;5;124m'\u001b[39m\n",
      " \u001b[38;5;124m'\u001b[39m\u001b[38;5;130;01m\\t\u001b[39;00m\u001b[38;5;124mgene_disease_association -> disgenet_gene_disease\u001b[39m\u001b[38;5;130;01m\\n\u001b[39;00m\u001b[38;5;124m'\u001b[39m\n",
      " \u001b[38;5;124m'\u001b[39m\u001b[38;5;130;01m\\t\u001b[39;00m\u001b[38;5;124mhas_variant_obj -> has_variant_gene\u001b[39m\u001b[38;5;130;01m\\n\u001b[39;00m\u001b[38;5;124m'\u001b[39m\n",
      " \u001b[38;5;124m'\u001b[39m\u001b[38;5;130;01m\\t\u001b[39;00m\u001b[38;5;124mhas_variant_obj -> has_variant_protein\u001b[39m\u001b[38;5;130;01m\\n\u001b[39;00m\u001b[38;5;124m'\u001b[39m\n",
      " \u001b[38;5;124m'\u001b[39m\u001b[38;5;130;01m\\t\u001b[39;00m\u001b[38;5;124mhas_variant_obj -> has_variant_micro_rna\u001b[39m\u001b[38;5;130;01m\\n\u001b[39;00m\u001b[38;5;124m'\u001b[39m\n",
      " \u001b[38;5;124m'\u001b[39m\u001b[38;5;130;01m\\t\u001b[39;00m\u001b[38;5;124mhas_variant_obj -> has_variant_rna\u001b[39m\u001b[38;5;130;01m\\n\u001b[39;00m\u001b[38;5;124m'\u001b[39m\n",
      " \u001b[38;5;124m'\u001b[39m\u001b[38;5;130;01m\\t\u001b[39;00m\u001b[38;5;124mhas_downstream_snp -> has_downstream_snp_dgn\u001b[39m\u001b[38;5;130;01m\\n\u001b[39;00m\u001b[38;5;124m'\u001b[39m\n",
      " \u001b[38;5;124m'\u001b[39m\u001b[38;5;130;01m\\t\u001b[39;00m\u001b[38;5;124mhas_downstream_snp -> has_downstream_snp_gc\u001b[39m\u001b[38;5;130;01m\\n\u001b[39;00m\u001b[38;5;124m'\u001b[39m\n",
      " \u001b[38;5;124m'\u001b[39m\u001b[38;5;130;01m\\t\u001b[39;00m\u001b[38;5;124mhas_downstream_snp -> has_downstream_snp_cv\u001b[39m\u001b[38;5;130;01m\\n\u001b[39;00m\u001b[38;5;124m'\u001b[39m\n",
      " \u001b[38;5;124m'\u001b[39m\u001b[38;5;130;01m\\t\u001b[39;00m\u001b[38;5;124mhas_action -> has_action_st\u001b[39m\u001b[38;5;130;01m\\n\u001b[39;00m\u001b[38;5;124m'\u001b[39m\n",
      " \u001b[38;5;124m'\u001b[39m\u001b[38;5;130;01m\\t\u001b[39;00m\u001b[38;5;124mhas_action -> has_action_pc\u001b[39m\u001b[38;5;130;01m\\n\u001b[39;00m\u001b[38;5;124m'\u001b[39m\n",
      " \u001b[38;5;124m'\u001b[39m\u001b[38;5;130;01m\\t\u001b[39;00m\u001b[38;5;124mpathway_interaction -> has_ppi_kg\u001b[39m\u001b[38;5;130;01m\\n\u001b[39;00m\u001b[38;5;124m'\u001b[39m\n",
      " \u001b[38;5;124m'\u001b[39m\u001b[38;5;130;01m\\t\u001b[39;00m\u001b[38;5;124mhas_ppi_kg -> increases_gly_kg\u001b[39m\u001b[38;5;130;01m\\n\u001b[39;00m\u001b[38;5;124m'\u001b[39m\n",
      " \u001b[38;5;124m'\u001b[39m\u001b[38;5;130;01m\\t\u001b[39;00m\u001b[38;5;124mhas_ppi_kg -> increases_me0_kg\u001b[39m\u001b[38;5;130;01m\\n\u001b[39;00m\u001b[38;5;124m'\u001b[39m\n",
      " \u001b[38;5;124m'\u001b[39m\u001b[38;5;130;01m\\t\u001b[39;00m\u001b[38;5;124mhas_ppi_kg -> increases_ubi_kg\u001b[39m\u001b[38;5;130;01m\\n\u001b[39;00m\u001b[38;5;124m'\u001b[39m\n",
      " \u001b[38;5;124m'\u001b[39m\u001b[38;5;130;01m\\t\u001b[39;00m\u001b[38;5;124mhas_ppi_kg -> increases_pho_kg\u001b[39m\u001b[38;5;130;01m\\n\u001b[39;00m\u001b[38;5;124m'\u001b[39m\n",
      " \u001b[38;5;124m'\u001b[39m\u001b[38;5;130;01m\\t\u001b[39;00m\u001b[38;5;124mhas_ppi_kg -> decreases_pho_kg\u001b[39m\u001b[38;5;130;01m\\n\u001b[39;00m\u001b[38;5;124m'\u001b[39m\n",
      " \u001b[38;5;124m'\u001b[39m\u001b[38;5;130;01m\\t\u001b[39;00m\u001b[38;5;124mhas_drug_target -> has_drug_target_db\u001b[39m\u001b[38;5;130;01m\\n\u001b[39;00m\u001b[38;5;124m'\u001b[39m\n",
      " \u001b[38;5;124m'\u001b[39m\u001b[38;5;130;01m\\t\u001b[39;00m\u001b[38;5;124mhas_ppi_bg -> decreases_ngl_bg\u001b[39m\u001b[38;5;130;01m\\n\u001b[39;00m\u001b[38;5;124m'\u001b[39m\n",
      " \u001b[38;5;124m'\u001b[39m\u001b[38;5;130;01m\\t\u001b[39;00m\u001b[38;5;124mhas_ppi_bg -> decreases_me1_bg\u001b[39m\u001b[38;5;130;01m\\n\u001b[39;00m\u001b[38;5;124m'\u001b[39m\n",
      " \u001b[38;5;124m'\u001b[39m\u001b[38;5;130;01m\\t\u001b[39;00m\u001b[38;5;124mhas_ppi_bg -> decreases_pho_bg\u001b[39m\u001b[38;5;130;01m\\n\u001b[39;00m\u001b[38;5;124m'\u001b[39m\n",
      " \u001b[38;5;124m'\u001b[39m\u001b[38;5;130;01m\\t\u001b[39;00m\u001b[38;5;124mhas_ppi_bg -> decreases_me2_bg\u001b[39m\u001b[38;5;130;01m\\n\u001b[39;00m\u001b[38;5;124m'\u001b[39m\n",
      " \u001b[38;5;124m'\u001b[39m\u001b[38;5;130;01m\\t\u001b[39;00m\u001b[38;5;124mhas_ppi_bg -> decreases_hyd_bg\u001b[39m\u001b[38;5;130;01m\\n\u001b[39;00m\u001b[38;5;124m'\u001b[39m\n",
      " \u001b[38;5;124m'\u001b[39m\u001b[38;5;130;01m\\t\u001b[39;00m\u001b[38;5;124mhas_ppi_bg -> decreases_pal_bg\u001b[39m\u001b[38;5;130;01m\\n\u001b[39;00m\u001b[38;5;124m'\u001b[39m\n",
      " \u001b[38;5;124m'\u001b[39m\u001b[38;5;130;01m\\t\u001b[39;00m\u001b[38;5;124mhas_ppi_bg -> increases_ogl_bg\u001b[39m\u001b[38;5;130;01m\\n\u001b[39;00m\u001b[38;5;124m'\u001b[39m\n",
      " \u001b[38;5;124m'\u001b[39m\u001b[38;5;130;01m\\t\u001b[39;00m\u001b[38;5;124mhas_ppi_bg -> decreases_bg\u001b[39m\u001b[38;5;130;01m\\n\u001b[39;00m\u001b[38;5;124m'\u001b[39m\n",
      " \u001b[38;5;124m'\u001b[39m\u001b[38;5;130;01m\\t\u001b[39;00m\u001b[38;5;124mhas_ppi_bg -> decreases_sul_bg\u001b[39m\u001b[38;5;130;01m\\n\u001b[39;00m\u001b[38;5;124m'\u001b[39m\n",
      " \u001b[38;5;124m'\u001b[39m\u001b[38;5;130;01m\\t\u001b[39;00m\u001b[38;5;124mhas_ppi_bg -> decreases_ogl_bg\u001b[39m\u001b[38;5;130;01m\\n\u001b[39;00m\u001b[38;5;124m'\u001b[39m\n",
      " \u001b[38;5;124m'\u001b[39m\u001b[38;5;130;01m\\t\u001b[39;00m\u001b[38;5;124mhas_ppi_bg -> increases_gly_bg\u001b[39m\u001b[38;5;130;01m\\n\u001b[39;00m\u001b[38;5;124m'\u001b[39m\n",
      " \u001b[38;5;124m'\u001b[39m\u001b[38;5;130;01m\\t\u001b[39;00m\u001b[38;5;124mhas_ppi_bg -> decreases_pre_bg\u001b[39m\u001b[38;5;130;01m\\n\u001b[39;00m\u001b[38;5;124m'\u001b[39m\n",
      " \u001b[38;5;124m'\u001b[39m\u001b[38;5;130;01m\\t\u001b[39;00m\u001b[38;5;124mhas_ppi_bg -> increases_ubm_bg\u001b[39m\u001b[38;5;130;01m\\n\u001b[39;00m\u001b[38;5;124m'\u001b[39m\n",
      " \u001b[38;5;124m'\u001b[39m\u001b[38;5;130;01m\\t\u001b[39;00m\u001b[38;5;124mhas_ppi_bg -> decreases_adr_bg\u001b[39m\u001b[38;5;130;01m\\n\u001b[39;00m\u001b[38;5;124m'\u001b[39m\n",
      " \u001b[38;5;124m'\u001b[39m\u001b[38;5;130;01m\\t\u001b[39;00m\u001b[38;5;124mhas_ppi_bg -> decreases_ubp_bg\u001b[39m\u001b[38;5;130;01m\\n\u001b[39;00m\u001b[38;5;124m'\u001b[39m\n",
      " \u001b[38;5;124m'\u001b[39m\u001b[38;5;130;01m\\t\u001b[39;00m\u001b[38;5;124mhas_ppi_bg -> increases_ace_bg\u001b[39m\u001b[38;5;130;01m\\n\u001b[39;00m\u001b[38;5;124m'\u001b[39m\n",
      " \u001b[38;5;124m'\u001b[39m\u001b[38;5;130;01m\\t\u001b[39;00m\u001b[38;5;124mhas_ppi_bg -> decreases_fat_bg\u001b[39m\u001b[38;5;130;01m\\n\u001b[39;00m\u001b[38;5;124m'\u001b[39m\n",
      " \u001b[38;5;124m'\u001b[39m\u001b[38;5;130;01m\\t\u001b[39;00m\u001b[38;5;124mhas_ppi_bg -> increases_sul_bg\u001b[39m\u001b[38;5;130;01m\\n\u001b[39;00m\u001b[38;5;124m'\u001b[39m\n",
      " \u001b[38;5;124m'\u001b[39m\u001b[38;5;130;01m\\t\u001b[39;00m\u001b[38;5;124mhas_ppi_bg -> increases_ubi_bg\u001b[39m\u001b[38;5;130;01m\\n\u001b[39;00m\u001b[38;5;124m'\u001b[39m\n",
      " \u001b[38;5;124m'\u001b[39m\u001b[38;5;130;01m\\t\u001b[39;00m\u001b[38;5;124mhas_ppi_bg -> increases_fat_bg\u001b[39m\u001b[38;5;130;01m\\n\u001b[39;00m\u001b[38;5;124m'\u001b[39m\n",
      " \u001b[38;5;124m'\u001b[39m\u001b[38;5;130;01m\\t\u001b[39;00m\u001b[38;5;124mhas_ppi_bg -> increases_pho_bg\u001b[39m\u001b[38;5;130;01m\\n\u001b[39;00m\u001b[38;5;124m'\u001b[39m\n",
      " \u001b[38;5;124m'\u001b[39m\u001b[38;5;130;01m\\t\u001b[39;00m\u001b[38;5;124mhas_ppi_bg -> increases_me1_bg\u001b[39m\u001b[38;5;130;01m\\n\u001b[39;00m\u001b[38;5;124m'\u001b[39m\n",
      " \u001b[38;5;124m'\u001b[39m\u001b[38;5;130;01m\\t\u001b[39;00m\u001b[38;5;124mhas_ppi_bg -> increases_me3_bg\u001b[39m\u001b[38;5;130;01m\\n\u001b[39;00m\u001b[38;5;124m'\u001b[39m\n",
      " \u001b[38;5;124m'\u001b[39m\u001b[38;5;130;01m\\t\u001b[39;00m\u001b[38;5;124mhas_ppi_bg -> decreases_isg_bg\u001b[39m\u001b[38;5;130;01m\\n\u001b[39;00m\u001b[38;5;124m'\u001b[39m\n",
      " \u001b[38;5;124m'\u001b[39m\u001b[38;5;130;01m\\t\u001b[39;00m\u001b[38;5;124mhas_ppi_bg -> increases_pal_bg\u001b[39m\u001b[38;5;130;01m\\n\u001b[39;00m\u001b[38;5;124m'\u001b[39m\n",
      " \u001b[38;5;124m'\u001b[39m\u001b[38;5;130;01m\\t\u001b[39;00m\u001b[38;5;124mhas_ppi_bg -> decreases_ubi_bg\u001b[39m\u001b[38;5;130;01m\\n\u001b[39;00m\u001b[38;5;124m'\u001b[39m\n",
      " \u001b[38;5;124m'\u001b[39m\u001b[38;5;130;01m\\t\u001b[39;00m\u001b[38;5;124mhas_ppi_bg -> increases_suy_bg\u001b[39m\u001b[38;5;130;01m\\n\u001b[39;00m\u001b[38;5;124m'\u001b[39m\n",
      " \u001b[38;5;124m'\u001b[39m\u001b[38;5;130;01m\\t\u001b[39;00m\u001b[38;5;124mhas_ppi_bg -> increases_hyd_bg\u001b[39m\u001b[38;5;130;01m\\n\u001b[39;00m\u001b[38;5;124m'\u001b[39m\n",
      " \u001b[38;5;124m'\u001b[39m\u001b[38;5;130;01m\\t\u001b[39;00m\u001b[38;5;124mhas_ppi_bg -> decreases_ger_bg\u001b[39m\u001b[38;5;130;01m\\n\u001b[39;00m\u001b[38;5;124m'\u001b[39m\n",
      " \u001b[38;5;124m'\u001b[39m\u001b[38;5;130;01m\\t\u001b[39;00m\u001b[38;5;124mhas_ppi_bg -> increases_dei_bg\u001b[39m\u001b[38;5;130;01m\\n\u001b[39;00m\u001b[38;5;124m'\u001b[39m\n",
      " \u001b[38;5;124m'\u001b[39m\u001b[38;5;130;01m\\t\u001b[39;00m\u001b[38;5;124mhas_ppi_bg -> increases_ngl_bg\u001b[39m\u001b[38;5;130;01m\\n\u001b[39;00m\u001b[38;5;124m'\u001b[39m\n",
      " \u001b[38;5;124m'\u001b[39m\u001b[38;5;130;01m\\t\u001b[39;00m\u001b[38;5;124mhas_ppi_bg -> increases_ubp_bg\u001b[39m\u001b[38;5;130;01m\\n\u001b[39;00m\u001b[38;5;124m'\u001b[39m\n",
      " \u001b[38;5;124m'\u001b[39m\u001b[38;5;130;01m\\t\u001b[39;00m\u001b[38;5;124mhas_ppi_bg -> decreases_nit_bg\u001b[39m\u001b[38;5;130;01m\\n\u001b[39;00m\u001b[38;5;124m'\u001b[39m\n",
      " \u001b[38;5;124m'\u001b[39m\u001b[38;5;130;01m\\t\u001b[39;00m\u001b[38;5;124mhas_ppi_bg -> increases_me2_bg\u001b[39m\u001b[38;5;130;01m\\n\u001b[39;00m\u001b[38;5;124m'\u001b[39m\n",
      " \u001b[38;5;124m'\u001b[39m\u001b[38;5;130;01m\\t\u001b[39;00m\u001b[38;5;124mhas_ppi_bg -> increases_suh_bg\u001b[39m\u001b[38;5;130;01m\\n\u001b[39;00m\u001b[38;5;124m'\u001b[39m\n",
      " \u001b[38;5;124m'\u001b[39m\u001b[38;5;130;01m\\t\u001b[39;00m\u001b[38;5;124mhas_ppi_bg -> decreases_u63_bg\u001b[39m\u001b[38;5;130;01m\\n\u001b[39;00m\u001b[38;5;124m'\u001b[39m\n",
      " \u001b[38;5;124m'\u001b[39m\u001b[38;5;130;01m\\t\u001b[39;00m\u001b[38;5;124mhas_ppi_bg -> decreases_u48_bg\u001b[39m\u001b[38;5;130;01m\\n\u001b[39;00m\u001b[38;5;124m'\u001b[39m\n",
      " \u001b[38;5;124m'\u001b[39m\u001b[38;5;130;01m\\t\u001b[39;00m\u001b[38;5;124mhas_ppi_bg -> increases_ned_bg\u001b[39m\u001b[38;5;130;01m\\n\u001b[39;00m\u001b[38;5;124m'\u001b[39m\n",
      " \u001b[38;5;124m'\u001b[39m\u001b[38;5;130;01m\\t\u001b[39;00m\u001b[38;5;124mhas_ppi_bg -> decreases_suh_bg\u001b[39m\u001b[38;5;130;01m\\n\u001b[39;00m\u001b[38;5;124m'\u001b[39m\n",
      " \u001b[38;5;124m'\u001b[39m\u001b[38;5;130;01m\\t\u001b[39;00m\u001b[38;5;124mhas_ppi_bg -> increases_me0_bg\u001b[39m\u001b[38;5;130;01m\\n\u001b[39;00m\u001b[38;5;124m'\u001b[39m\n",
      " \u001b[38;5;124m'\u001b[39m\u001b[38;5;130;01m\\t\u001b[39;00m\u001b[38;5;124mhas_ppi_bg -> decreases_ned_bg\u001b[39m\u001b[38;5;130;01m\\n\u001b[39;00m\u001b[38;5;124m'\u001b[39m\n",
      " \u001b[38;5;124m'\u001b[39m\u001b[38;5;130;01m\\t\u001b[39;00m\u001b[38;5;124mhas_ppi_bg -> decreases_suy_bg\u001b[39m\u001b[38;5;130;01m\\n\u001b[39;00m\u001b[38;5;124m'\u001b[39m\n",
      " \u001b[38;5;124m'\u001b[39m\u001b[38;5;130;01m\\t\u001b[39;00m\u001b[38;5;124mhas_ppi_bg -> decreases_mon_bg\u001b[39m\u001b[38;5;130;01m\\n\u001b[39;00m\u001b[38;5;124m'\u001b[39m\n",
      " \u001b[38;5;124m'\u001b[39m\u001b[38;5;130;01m\\t\u001b[39;00m\u001b[38;5;124mhas_ppi_bg -> increases_sum_bg\u001b[39m\u001b[38;5;130;01m\\n\u001b[39;00m\u001b[38;5;124m'\u001b[39m\n",
      " \u001b[38;5;124m'\u001b[39m\u001b[38;5;130;01m\\t\u001b[39;00m\u001b[38;5;124mhas_ppi_bg -> increases_adr_bg\u001b[39m\u001b[38;5;130;01m\\n\u001b[39;00m\u001b[38;5;124m'\u001b[39m\n",
      " \u001b[38;5;124m'\u001b[39m\u001b[38;5;130;01m\\t\u001b[39;00m\u001b[38;5;124mhas_ppi_bg -> decreases_sum_bg\u001b[39m\u001b[38;5;130;01m\\n\u001b[39;00m\u001b[38;5;124m'\u001b[39m\n",
      " \u001b[38;5;124m'\u001b[39m\u001b[38;5;130;01m\\t\u001b[39;00m\u001b[38;5;124mhas_ppi_bg -> increases_tri_bg\u001b[39m\u001b[38;5;130;01m\\n\u001b[39;00m\u001b[38;5;124m'\u001b[39m\n",
      " \u001b[38;5;124m'\u001b[39m\u001b[38;5;130;01m\\t\u001b[39;00m\u001b[38;5;124mhas_ppi_bg -> decreases_gly_bg\u001b[39m\u001b[38;5;130;01m\\n\u001b[39;00m\u001b[38;5;124m'\u001b[39m\n",
      " \u001b[38;5;124m'\u001b[39m\u001b[38;5;130;01m\\t\u001b[39;00m\u001b[38;5;124mhas_ppi_bg -> increases_mon_bg\u001b[39m\u001b[38;5;130;01m\\n\u001b[39;00m\u001b[38;5;124m'\u001b[39m\n",
      " \u001b[38;5;124m'\u001b[39m\u001b[38;5;130;01m\\t\u001b[39;00m\u001b[38;5;124mhas_ppi_bg -> decreases_ace_bg\u001b[39m\u001b[38;5;130;01m\\n\u001b[39;00m\u001b[38;5;124m'\u001b[39m\n",
      " \u001b[38;5;124m'\u001b[39m\u001b[38;5;130;01m\\t\u001b[39;00m\u001b[38;5;124mhas_ppi_bg -> decreases_add_bg\u001b[39m\u001b[38;5;130;01m\\n\u001b[39;00m\u001b[38;5;124m'\u001b[39m\n",
      " \u001b[38;5;124m'\u001b[39m\u001b[38;5;130;01m\\t\u001b[39;00m\u001b[38;5;124mhas_ppi_bg -> decreases_tri_bg\u001b[39m\u001b[38;5;130;01m\\n\u001b[39;00m\u001b[38;5;124m'\u001b[39m\n",
      " \u001b[38;5;124m'\u001b[39m\u001b[38;5;130;01m\\t\u001b[39;00m\u001b[38;5;124mhas_ppi_bg -> increases_pre_bg\u001b[39m\u001b[38;5;130;01m\\n\u001b[39;00m\u001b[38;5;124m'\u001b[39m\n",
      " \u001b[38;5;124m'\u001b[39m\u001b[38;5;130;01m\\t\u001b[39;00m\u001b[38;5;124mhas_ppi_bg -> decreases_myr_bg\u001b[39m\u001b[38;5;130;01m\\n\u001b[39;00m\u001b[38;5;124m'\u001b[39m\n",
      " \u001b[38;5;124m'\u001b[39m\u001b[38;5;130;01m\\t\u001b[39;00m\u001b[38;5;124mhas_ppi_bg -> increases_isg_bg\u001b[39m\u001b[38;5;130;01m\\n\u001b[39;00m\u001b[38;5;124m'\u001b[39m\n",
      " \u001b[38;5;124m'\u001b[39m\u001b[38;5;130;01m\\t\u001b[39;00m\u001b[38;5;124mhas_ppi_bg -> increases_myr_bg\u001b[39m\u001b[38;5;130;01m\\n\u001b[39;00m\u001b[38;5;124m'\u001b[39m\n",
      " \u001b[38;5;124m'\u001b[39m\u001b[38;5;130;01m\\t\u001b[39;00m\u001b[38;5;124mhas_ppi_bg -> increases_u48_bg\u001b[39m\u001b[38;5;130;01m\\n\u001b[39;00m\u001b[38;5;124m'\u001b[39m\n",
      " \u001b[38;5;124m'\u001b[39m\u001b[38;5;130;01m\\t\u001b[39;00m\u001b[38;5;124mhas_ppi_bg -> increases_ger_bg\u001b[39m\u001b[38;5;130;01m\\n\u001b[39;00m\u001b[38;5;124m'\u001b[39m\n",
      " \u001b[38;5;124m'\u001b[39m\u001b[38;5;130;01m\\t\u001b[39;00m\u001b[38;5;124mhas_ppi_bg -> decreases_me0_bg\u001b[39m\u001b[38;5;130;01m\\n\u001b[39;00m\u001b[38;5;124m'\u001b[39m\n",
      " \u001b[38;5;124m'\u001b[39m\u001b[38;5;130;01m\\t\u001b[39;00m\u001b[38;5;124mhas_ppi_bg -> increases_far_bg\u001b[39m\u001b[38;5;130;01m\\n\u001b[39;00m\u001b[38;5;124m'\u001b[39m\n",
      " \u001b[38;5;124m'\u001b[39m\u001b[38;5;130;01m\\t\u001b[39;00m\u001b[38;5;124mhas_ppi_bg -> decreases_ubm_bg\u001b[39m\u001b[38;5;130;01m\\n\u001b[39;00m\u001b[38;5;124m'\u001b[39m\n",
      " \u001b[38;5;124m'\u001b[39m\u001b[38;5;130;01m\\t\u001b[39;00m\u001b[38;5;124mhas_ppi_bg -> increases_u63_bg\u001b[39m\u001b[38;5;130;01m\\n\u001b[39;00m\u001b[38;5;124m'\u001b[39m\n",
      " \u001b[38;5;124m'\u001b[39m\u001b[38;5;130;01m\\t\u001b[39;00m\u001b[38;5;124mhas_ppi_bg -> decreases_dei_bg\u001b[39m\u001b[38;5;130;01m\\n\u001b[39;00m\u001b[38;5;124m'\u001b[39m\n",
      " \u001b[38;5;124m'\u001b[39m\u001b[38;5;130;01m\\t\u001b[39;00m\u001b[38;5;124mhas_ppi_bg -> increases_nit_bg\u001b[39m\u001b[38;5;130;01m\\n\u001b[39;00m\u001b[38;5;124m'\u001b[39m\n",
      " \u001b[38;5;124m'\u001b[39m\u001b[38;5;130;01m\\t\u001b[39;00m\u001b[38;5;124mhas_ppi_bg -> increases_add_bg\u001b[39m\u001b[38;5;130;01m\\n\u001b[39;00m\u001b[38;5;124m'\u001b[39m\n",
      " \u001b[38;5;124m'\u001b[39m\u001b[38;5;130;01m\\t\u001b[39;00m\u001b[38;5;124mhas_ppi_bg -> decreases_me3_bg\u001b[39m\u001b[38;5;130;01m\\n\u001b[39;00m\u001b[38;5;124m'\u001b[39m\n",
      " \u001b[38;5;124m'\u001b[39m\u001b[38;5;130;01m\\t\u001b[39;00m\u001b[38;5;124mhas_ppi_bg -> decreases_sup_bg\u001b[39m\u001b[38;5;130;01m\\n\u001b[39;00m\u001b[38;5;124m'\u001b[39m\n",
      " \u001b[38;5;124m'\u001b[39m\u001b[38;5;130;01m\\t\u001b[39;00m\u001b[38;5;124mhas_ppi_bg -> increases_sup_bg\u001b[39m\u001b[38;5;130;01m\\n\u001b[39;00m\u001b[38;5;124m'\u001b[39m\n",
      " \u001b[38;5;124m'\u001b[39m\u001b[38;5;130;01m\\t\u001b[39;00m\u001b[38;5;124mhas_ppi_bg -> decreases_far_bg\u001b[39m\u001b[38;5;130;01m\\n\u001b[39;00m\u001b[38;5;124m'\u001b[39m\n",
      " \u001b[38;5;124m'\u001b[39m\u001b[38;5;130;01m\\t\u001b[39;00m\u001b[38;5;124mhas_ppi -> has_ppi_st\u001b[39m\u001b[38;5;130;01m\\n\u001b[39;00m\u001b[38;5;124m'\u001b[39m\n",
      " \u001b[38;5;124m'\u001b[39m\u001b[38;5;130;01m\\t\u001b[39;00m\u001b[38;5;124mhas_ppi -> has_ppi_ia\u001b[39m\u001b[38;5;130;01m\\n\u001b[39;00m\u001b[38;5;124m'\u001b[39m\n",
      " \u001b[38;5;124m'\u001b[39m\u001b[38;5;130;01m\\t\u001b[39;00m\u001b[38;5;124mhas_ppi -> has_ppi_bg\u001b[39m\u001b[38;5;130;01m\\n\u001b[39;00m\u001b[38;5;124m'\u001b[39m\n",
      " \u001b[38;5;124m'\u001b[39m\u001b[38;5;130;01m\\t\u001b[39;00m\u001b[38;5;124mhas_upstream_snp -> has_upstream_snp_gc\u001b[39m\u001b[38;5;130;01m\\n\u001b[39;00m\u001b[38;5;124m'\u001b[39m\n",
      " \u001b[38;5;124m'\u001b[39m\u001b[38;5;130;01m\\t\u001b[39;00m\u001b[38;5;124mhas_upstream_snp -> has_upstream_snp_cv\u001b[39m\u001b[38;5;130;01m\\n\u001b[39;00m\u001b[38;5;124m'\u001b[39m\n",
      " \u001b[38;5;124m'\u001b[39m\u001b[38;5;130;01m\\t\u001b[39;00m\u001b[38;5;124mhas_upstream_snp -> has_upstream_snp_dgn\u001b[39m\u001b[38;5;130;01m\\n\u001b[39;00m\u001b[38;5;124m'\u001b[39m\n",
      " \u001b[38;5;124m'\u001b[39m\u001b[38;5;130;01m\\t\u001b[39;00m\u001b[38;5;124mhas_action_pc -> controls_expression_of_pc\u001b[39m\u001b[38;5;130;01m\\n\u001b[39;00m\u001b[38;5;124m'\u001b[39m\n",
      " \u001b[38;5;124m'\u001b[39m\u001b[38;5;130;01m\\t\u001b[39;00m\u001b[38;5;124mhas_action_pc -> controls_transport_of_pc\u001b[39m\u001b[38;5;130;01m\\n\u001b[39;00m\u001b[38;5;124m'\u001b[39m\n",
      " \u001b[38;5;124m'\u001b[39m\u001b[38;5;130;01m\\t\u001b[39;00m\u001b[38;5;124mhas_action_pc -> controls_phosphorylation_of_pc\u001b[39m\u001b[38;5;130;01m\\n\u001b[39;00m\u001b[38;5;124m'\u001b[39m\n",
      " \u001b[38;5;124m'\u001b[39m\u001b[38;5;130;01m\\t\u001b[39;00m\u001b[38;5;124mhas_modified -> has_modified_protein\u001b[39m\u001b[38;5;130;01m\\n\u001b[39;00m\u001b[38;5;124m'\u001b[39m\n",
      " \u001b[38;5;124m'\u001b[39m\u001b[38;5;130;01m\\t\u001b[39;00m\u001b[38;5;124mhas_modified -> has_modified_gene\u001b[39m\u001b[38;5;130;01m\\n\u001b[39;00m\u001b[38;5;124m'\u001b[39m\n",
      " \u001b[38;5;124m'\u001b[39m\u001b[38;5;124m}\u001b[39m\u001b[38;5;124m'\u001b[39m)\n",
      "\n",
      "For further testing go to http://0.0.0.0:5000/ui/#/e(BE:L)/ebel.web.api.ebel.v1.bel.get_ebel_relation_types_as_dot\n"
     ]
    },
    {
     "data": {
      "text/html": [
       "<h2>14. GWAS Catalog related eBEL relations</h2>"
      ],
      "text/plain": [
       "<IPython.core.display.HTML object>"
      ]
     },
     "metadata": {},
     "output_type": "display_data"
    },
    {
     "data": {
      "text/html": [
       "<b style=\"color: rgb(98,98,98); text-decoration: underline;\">Description:</b> <p>GWAS Catalog related eBEL relations</p>"
      ],
      "text/plain": [
       "<IPython.core.display.HTML object>"
      ]
     },
     "metadata": {},
     "output_type": "display_data"
    },
    {
     "data": {
      "text/html": [
       "<b>Tags:</b> ['GWAS Catalog', 'e(BE:L)']"
      ],
      "text/plain": [
       "<IPython.core.display.HTML object>"
      ]
     },
     "metadata": {},
     "output_type": "display_data"
    },
    {
     "data": {
      "text/html": [
       "<b>Server path:</b> /api/v1/gwas_catalog/ebel/relation"
      ],
      "text/plain": [
       "<IPython.core.display.HTML object>"
      ]
     },
     "metadata": {},
     "output_type": "display_data"
    },
    {
     "data": {
      "text/html": [
       "<div>\n",
       "<style scoped>\n",
       "    .dataframe tbody tr th:only-of-type {\n",
       "        vertical-align: middle;\n",
       "    }\n",
       "\n",
       "    .dataframe tbody tr th {\n",
       "        vertical-align: top;\n",
       "    }\n",
       "\n",
       "    .dataframe thead th {\n",
       "        text-align: right;\n",
       "    }\n",
       "</style>\n",
       "<table border=\"1\" class=\"dataframe\">\n",
       "  <thead>\n",
       "    <tr style=\"text-align: right;\">\n",
       "      <th></th>\n",
       "      <th>data type</th>\n",
       "      <th>description</th>\n",
       "      <th>example</th>\n",
       "      <th>options</th>\n",
       "      <th>default</th>\n",
       "      <th>required</th>\n",
       "    </tr>\n",
       "    <tr>\n",
       "      <th>parameter name</th>\n",
       "      <th></th>\n",
       "      <th></th>\n",
       "      <th></th>\n",
       "      <th></th>\n",
       "      <th></th>\n",
       "      <th></th>\n",
       "    </tr>\n",
       "  </thead>\n",
       "  <tbody>\n",
       "    <tr>\n",
       "      <th>namespace</th>\n",
       "      <td>string</td>\n",
       "      <td></td>\n",
       "      <td>HGNC</td>\n",
       "      <td></td>\n",
       "      <td></td>\n",
       "      <td>False</td>\n",
       "    </tr>\n",
       "    <tr>\n",
       "      <th>name</th>\n",
       "      <td>string</td>\n",
       "      <td>Gene symbol</td>\n",
       "      <td>CD33</td>\n",
       "      <td></td>\n",
       "      <td></td>\n",
       "      <td>False</td>\n",
       "    </tr>\n",
       "    <tr>\n",
       "      <th>pubmed_id</th>\n",
       "      <td>integer</td>\n",
       "      <td></td>\n",
       "      <td>21460841</td>\n",
       "      <td></td>\n",
       "      <td></td>\n",
       "      <td>False</td>\n",
       "    </tr>\n",
       "    <tr>\n",
       "      <th>disease_trait</th>\n",
       "      <td>string</td>\n",
       "      <td></td>\n",
       "      <td>Alzheimer's disease (late onset)</td>\n",
       "      <td></td>\n",
       "      <td></td>\n",
       "      <td>False</td>\n",
       "    </tr>\n",
       "    <tr>\n",
       "      <th>relation</th>\n",
       "      <td>string</td>\n",
       "      <td></td>\n",
       "      <td>has_snp_gwascatalog</td>\n",
       "      <td>[has_downstream_snp_gc, has_mapped_snp_gc, has...</td>\n",
       "      <td></td>\n",
       "      <td>False</td>\n",
       "    </tr>\n",
       "    <tr>\n",
       "      <th>rs_number</th>\n",
       "      <td>string</td>\n",
       "      <td></td>\n",
       "      <td>rs3865444</td>\n",
       "      <td></td>\n",
       "      <td></td>\n",
       "      <td>False</td>\n",
       "    </tr>\n",
       "    <tr>\n",
       "      <th>page_size</th>\n",
       "      <td>integer</td>\n",
       "      <td>Results per page</td>\n",
       "      <td>1</td>\n",
       "      <td></td>\n",
       "      <td>10.0</td>\n",
       "      <td>False</td>\n",
       "    </tr>\n",
       "    <tr>\n",
       "      <th>page</th>\n",
       "      <td>integer</td>\n",
       "      <td>Page number (starting with 1)</td>\n",
       "      <td>1</td>\n",
       "      <td></td>\n",
       "      <td>1.0</td>\n",
       "      <td>False</td>\n",
       "    </tr>\n",
       "  </tbody>\n",
       "</table>\n",
       "</div>"
      ],
      "text/plain": [
       "               data type                    description  \\\n",
       "parameter name                                            \n",
       "namespace         string                                  \n",
       "name              string                    Gene symbol   \n",
       "pubmed_id        integer                                  \n",
       "disease_trait     string                                  \n",
       "relation          string                                  \n",
       "rs_number         string                                  \n",
       "page_size        integer               Results per page   \n",
       "page             integer  Page number (starting with 1)   \n",
       "\n",
       "                                         example  \\\n",
       "parameter name                                     \n",
       "namespace                                   HGNC   \n",
       "name                                        CD33   \n",
       "pubmed_id                               21460841   \n",
       "disease_trait   Alzheimer's disease (late onset)   \n",
       "relation                     has_snp_gwascatalog   \n",
       "rs_number                              rs3865444   \n",
       "page_size                                      1   \n",
       "page                                           1   \n",
       "\n",
       "                                                          options default  \\\n",
       "parameter name                                                              \n",
       "namespace                                                                   \n",
       "name                                                                        \n",
       "pubmed_id                                                                   \n",
       "disease_trait                                                               \n",
       "relation        [has_downstream_snp_gc, has_mapped_snp_gc, has...           \n",
       "rs_number                                                                   \n",
       "page_size                                                            10.0   \n",
       "page                                                                  1.0   \n",
       "\n",
       "                required  \n",
       "parameter name            \n",
       "namespace          False  \n",
       "name               False  \n",
       "pubmed_id          False  \n",
       "disease_trait      False  \n",
       "relation           False  \n",
       "rs_number          False  \n",
       "page_size          False  \n",
       "page               False  "
      ]
     },
     "metadata": {},
     "output_type": "display_data"
    },
    {
     "data": {
      "text/html": [
       "<b>Example URL:</b> <a href=\"http://0.0.0.0:5000/api/v1/gwas_catalog/ebel/relation?namespace=HGNC&name=CD33&pubmed_id=21460841&disease_trait=Alzheimer%27s+disease+%28late+onset%29&relation=has_snp_gwascatalog&rs_number=rs3865444&page_size=1&page=1\">http://0.0.0.0:5000/api/v1/gwas_catalog/ebel/relation?namespace=HGNC&name=CD33&pubmed_id=21460841&disease_trait=Alzheimer%27s+disease+%28late+onset%29&relation=has_snp_gwascatalog&rs_number=rs3865444&page_size=1&page=1</a>"
      ],
      "text/plain": [
       "<IPython.core.display.HTML object>"
      ]
     },
     "metadata": {},
     "output_type": "display_data"
    },
    {
     "data": {
      "text/html": [
       "<b style=\"color: rgb(98,98,98); text-decoration: underline;\">Example response:</b>"
      ],
      "text/plain": [
       "<IPython.core.display.HTML object>"
      ]
     },
     "metadata": {},
     "output_type": "display_data"
    },
    {
     "name": "stdout",
     "output_type": "stream",
     "text": [
      "{\u001b[38;5;124m'\u001b[39m\u001b[38;5;124mnumber_of_results\u001b[39m\u001b[38;5;124m'\u001b[39m: \u001b[38;5;241m1\u001b[39m,\n",
      " \u001b[38;5;124m'\u001b[39m\u001b[38;5;124mpage\u001b[39m\u001b[38;5;124m'\u001b[39m: \u001b[38;5;241m1\u001b[39m,\n",
      " \u001b[38;5;124m'\u001b[39m\u001b[38;5;124mpage_size\u001b[39m\u001b[38;5;124m'\u001b[39m: \u001b[38;5;241m1\u001b[39m,\n",
      " \u001b[38;5;124m'\u001b[39m\u001b[38;5;124mpages\u001b[39m\u001b[38;5;124m'\u001b[39m: \u001b[38;5;241m1\u001b[39m,\n",
      " \u001b[38;5;124m'\u001b[39m\u001b[38;5;124mresults\u001b[39m\u001b[38;5;124m'\u001b[39m: [{\u001b[38;5;124m'\u001b[39m\u001b[38;5;124mdisease_trait\u001b[39m\u001b[38;5;124m'\u001b[39m: \u001b[38;5;124m\"\u001b[39m\u001b[38;5;124mAlzheimer\u001b[39m\u001b[38;5;124m'\u001b[39m\u001b[38;5;124ms disease (late onset)\u001b[39m\u001b[38;5;124m\"\u001b[39m,\n",
      "              \u001b[38;5;124m'\u001b[39m\u001b[38;5;124medge_rid\u001b[39m\u001b[38;5;124m'\u001b[39m: \u001b[38;5;124m'\u001b[39m\u001b[38;5;124m#1649:16\u001b[39m\u001b[38;5;124m'\u001b[39m,\n",
      "              \u001b[38;5;124m'\u001b[39m\u001b[38;5;124mgene_rid\u001b[39m\u001b[38;5;124m'\u001b[39m: \u001b[38;5;124m'\u001b[39m\u001b[38;5;124m#167:0\u001b[39m\u001b[38;5;124m'\u001b[39m,\n",
      "              \u001b[38;5;124m'\u001b[39m\u001b[38;5;124mname\u001b[39m\u001b[38;5;124m'\u001b[39m: \u001b[38;5;124m'\u001b[39m\u001b[38;5;124mCD33\u001b[39m\u001b[38;5;124m'\u001b[39m,\n",
      "              \u001b[38;5;124m'\u001b[39m\u001b[38;5;124mnamespace\u001b[39m\u001b[38;5;124m'\u001b[39m: \u001b[38;5;124m'\u001b[39m\u001b[38;5;124mHGNC\u001b[39m\u001b[38;5;124m'\u001b[39m,\n",
      "              \u001b[38;5;124m'\u001b[39m\u001b[38;5;124mpubmed_id\u001b[39m\u001b[38;5;124m'\u001b[39m: \u001b[38;5;241m21460841\u001b[39m,\n",
      "              \u001b[38;5;124m'\u001b[39m\u001b[38;5;124mrs_number\u001b[39m\u001b[38;5;124m'\u001b[39m: \u001b[38;5;124m'\u001b[39m\u001b[38;5;124mrs3865444\u001b[39m\u001b[38;5;124m'\u001b[39m,\n",
      "              \u001b[38;5;124m'\u001b[39m\u001b[38;5;124msnp_rid\u001b[39m\u001b[38;5;124m'\u001b[39m: \u001b[38;5;124m'\u001b[39m\u001b[38;5;124m#1609:69\u001b[39m\u001b[38;5;124m'\u001b[39m}]}\n",
      "\n",
      "For further testing go to http://0.0.0.0:5000/ui/#/e(BE:L)/ebel.web.api.ebel.v1.gwas_catalog.get_ebel_relation\n"
     ]
    },
    {
     "data": {
      "text/html": [
       "<h2>15. Get intact e(BE:L) relation</h2>"
      ],
      "text/plain": [
       "<IPython.core.display.HTML object>"
      ]
     },
     "metadata": {},
     "output_type": "display_data"
    },
    {
     "data": {
      "text/html": [
       "<b style=\"color: rgb(98,98,98); text-decoration: underline;\">Description:</b> <p>Get intact e(BE:L) relation</p>"
      ],
      "text/plain": [
       "<IPython.core.display.HTML object>"
      ]
     },
     "metadata": {},
     "output_type": "display_data"
    },
    {
     "data": {
      "text/html": [
       "<b>Tags:</b> ['IntAct', 'e(BE:L)']"
      ],
      "text/plain": [
       "<IPython.core.display.HTML object>"
      ]
     },
     "metadata": {},
     "output_type": "display_data"
    },
    {
     "data": {
      "text/html": [
       "<b>Server path:</b> /api/v1/intact/ebel/relation"
      ],
      "text/plain": [
       "<IPython.core.display.HTML object>"
      ]
     },
     "metadata": {},
     "output_type": "display_data"
    },
    {
     "data": {
      "text/html": [
       "<div>\n",
       "<style scoped>\n",
       "    .dataframe tbody tr th:only-of-type {\n",
       "        vertical-align: middle;\n",
       "    }\n",
       "\n",
       "    .dataframe tbody tr th {\n",
       "        vertical-align: top;\n",
       "    }\n",
       "\n",
       "    .dataframe thead th {\n",
       "        text-align: right;\n",
       "    }\n",
       "</style>\n",
       "<table border=\"1\" class=\"dataframe\">\n",
       "  <thead>\n",
       "    <tr style=\"text-align: right;\">\n",
       "      <th></th>\n",
       "      <th>data type</th>\n",
       "      <th>description</th>\n",
       "      <th>example</th>\n",
       "      <th>options</th>\n",
       "      <th>default</th>\n",
       "      <th>required</th>\n",
       "    </tr>\n",
       "    <tr>\n",
       "      <th>parameter name</th>\n",
       "      <th></th>\n",
       "      <th></th>\n",
       "      <th></th>\n",
       "      <th></th>\n",
       "      <th></th>\n",
       "      <th></th>\n",
       "    </tr>\n",
       "  </thead>\n",
       "  <tbody>\n",
       "    <tr>\n",
       "      <th>interaction_type</th>\n",
       "      <td>string</td>\n",
       "      <td></td>\n",
       "      <td>physical association</td>\n",
       "      <td></td>\n",
       "      <td></td>\n",
       "      <td>False</td>\n",
       "    </tr>\n",
       "    <tr>\n",
       "      <th>interaction_type_psimi_id</th>\n",
       "      <td>string</td>\n",
       "      <td></td>\n",
       "      <td>915</td>\n",
       "      <td></td>\n",
       "      <td></td>\n",
       "      <td>False</td>\n",
       "    </tr>\n",
       "    <tr>\n",
       "      <th>confidence_value</th>\n",
       "      <td>number</td>\n",
       "      <td></td>\n",
       "      <td>0.4</td>\n",
       "      <td></td>\n",
       "      <td></td>\n",
       "      <td>False</td>\n",
       "    </tr>\n",
       "    <tr>\n",
       "      <th>detection_method</th>\n",
       "      <td>string</td>\n",
       "      <td></td>\n",
       "      <td>tandem affinity purification</td>\n",
       "      <td></td>\n",
       "      <td></td>\n",
       "      <td>False</td>\n",
       "    </tr>\n",
       "    <tr>\n",
       "      <th>detection_method_psimi_id</th>\n",
       "      <td>integer</td>\n",
       "      <td></td>\n",
       "      <td>676</td>\n",
       "      <td></td>\n",
       "      <td></td>\n",
       "      <td>False</td>\n",
       "    </tr>\n",
       "    <tr>\n",
       "      <th>pmid</th>\n",
       "      <td>integer</td>\n",
       "      <td></td>\n",
       "      <td>14743216</td>\n",
       "      <td></td>\n",
       "      <td></td>\n",
       "      <td>False</td>\n",
       "    </tr>\n",
       "    <tr>\n",
       "      <th>inteaction_ids</th>\n",
       "      <td>string</td>\n",
       "      <td></td>\n",
       "      <td></td>\n",
       "      <td></td>\n",
       "      <td></td>\n",
       "      <td>False</td>\n",
       "    </tr>\n",
       "    <tr>\n",
       "      <th>edge_id</th>\n",
       "      <td>string</td>\n",
       "      <td></td>\n",
       "      <td></td>\n",
       "      <td></td>\n",
       "      <td></td>\n",
       "      <td>False</td>\n",
       "    </tr>\n",
       "    <tr>\n",
       "      <th>interactor_a_rid</th>\n",
       "      <td>string</td>\n",
       "      <td></td>\n",
       "      <td></td>\n",
       "      <td></td>\n",
       "      <td></td>\n",
       "      <td>False</td>\n",
       "    </tr>\n",
       "    <tr>\n",
       "      <th>interactor_a_name</th>\n",
       "      <td>string</td>\n",
       "      <td></td>\n",
       "      <td>HAX1</td>\n",
       "      <td></td>\n",
       "      <td></td>\n",
       "      <td>False</td>\n",
       "    </tr>\n",
       "    <tr>\n",
       "      <th>interactor_a_namespace</th>\n",
       "      <td>string</td>\n",
       "      <td></td>\n",
       "      <td>HGNC</td>\n",
       "      <td></td>\n",
       "      <td></td>\n",
       "      <td>False</td>\n",
       "    </tr>\n",
       "    <tr>\n",
       "      <th>interactor_b_rid</th>\n",
       "      <td>string</td>\n",
       "      <td></td>\n",
       "      <td></td>\n",
       "      <td></td>\n",
       "      <td></td>\n",
       "      <td>False</td>\n",
       "    </tr>\n",
       "    <tr>\n",
       "      <th>interactor_b_namespace</th>\n",
       "      <td>string</td>\n",
       "      <td></td>\n",
       "      <td>HGNC</td>\n",
       "      <td></td>\n",
       "      <td></td>\n",
       "      <td>False</td>\n",
       "    </tr>\n",
       "    <tr>\n",
       "      <th>interactor_b_name</th>\n",
       "      <td>string</td>\n",
       "      <td></td>\n",
       "      <td>RELA</td>\n",
       "      <td></td>\n",
       "      <td></td>\n",
       "      <td>False</td>\n",
       "    </tr>\n",
       "    <tr>\n",
       "      <th>page_size</th>\n",
       "      <td>integer</td>\n",
       "      <td>Results per page</td>\n",
       "      <td>1</td>\n",
       "      <td></td>\n",
       "      <td>10.0</td>\n",
       "      <td>False</td>\n",
       "    </tr>\n",
       "    <tr>\n",
       "      <th>page</th>\n",
       "      <td>integer</td>\n",
       "      <td>Page number (starting with 1)</td>\n",
       "      <td>1</td>\n",
       "      <td></td>\n",
       "      <td>1.0</td>\n",
       "      <td>False</td>\n",
       "    </tr>\n",
       "  </tbody>\n",
       "</table>\n",
       "</div>"
      ],
      "text/plain": [
       "                          data type                    description  \\\n",
       "parameter name                                                       \n",
       "interaction_type             string                                  \n",
       "interaction_type_psimi_id    string                                  \n",
       "confidence_value             number                                  \n",
       "detection_method             string                                  \n",
       "detection_method_psimi_id   integer                                  \n",
       "pmid                        integer                                  \n",
       "inteaction_ids               string                                  \n",
       "edge_id                      string                                  \n",
       "interactor_a_rid             string                                  \n",
       "interactor_a_name            string                                  \n",
       "interactor_a_namespace       string                                  \n",
       "interactor_b_rid             string                                  \n",
       "interactor_b_namespace       string                                  \n",
       "interactor_b_name            string                                  \n",
       "page_size                   integer               Results per page   \n",
       "page                        integer  Page number (starting with 1)   \n",
       "\n",
       "                                                example options default  \\\n",
       "parameter name                                                            \n",
       "interaction_type                   physical association                   \n",
       "interaction_type_psimi_id                           915                   \n",
       "confidence_value                                    0.4                   \n",
       "detection_method           tandem affinity purification                   \n",
       "detection_method_psimi_id                           676                   \n",
       "pmid                                           14743216                   \n",
       "inteaction_ids                                                            \n",
       "edge_id                                                                   \n",
       "interactor_a_rid                                                          \n",
       "interactor_a_name                                  HAX1                   \n",
       "interactor_a_namespace                             HGNC                   \n",
       "interactor_b_rid                                                          \n",
       "interactor_b_namespace                             HGNC                   \n",
       "interactor_b_name                                  RELA                   \n",
       "page_size                                             1            10.0   \n",
       "page                                                  1             1.0   \n",
       "\n",
       "                           required  \n",
       "parameter name                       \n",
       "interaction_type              False  \n",
       "interaction_type_psimi_id     False  \n",
       "confidence_value              False  \n",
       "detection_method              False  \n",
       "detection_method_psimi_id     False  \n",
       "pmid                          False  \n",
       "inteaction_ids                False  \n",
       "edge_id                       False  \n",
       "interactor_a_rid              False  \n",
       "interactor_a_name             False  \n",
       "interactor_a_namespace        False  \n",
       "interactor_b_rid              False  \n",
       "interactor_b_namespace        False  \n",
       "interactor_b_name             False  \n",
       "page_size                     False  \n",
       "page                          False  "
      ]
     },
     "metadata": {},
     "output_type": "display_data"
    },
    {
     "data": {
      "text/html": [
       "<b>Example URL:</b> <a href=\"http://0.0.0.0:5000/api/v1/intact/ebel/relation?interaction_type=physical+association&interaction_type_psimi_id=915&confidence_value=0.4&detection_method=tandem+affinity+purification&detection_method_psimi_id=676&pmid=14743216&interactor_a_name=HAX1&interactor_a_namespace=HGNC&interactor_b_namespace=HGNC&interactor_b_name=RELA&page_size=1&page=1\">http://0.0.0.0:5000/api/v1/intact/ebel/relation?interaction_type=physical+association&interaction_type_psimi_id=915&confidence_value=0.4&detection_method=tandem+affinity+purification&detection_method_psimi_id=676&pmid=14743216&interactor_a_name=HAX1&interactor_a_namespace=HGNC&interactor_b_namespace=HGNC&interactor_b_name=RELA&page_size=1&page=1</a>"
      ],
      "text/plain": [
       "<IPython.core.display.HTML object>"
      ]
     },
     "metadata": {},
     "output_type": "display_data"
    },
    {
     "data": {
      "text/html": [
       "<b style=\"color: rgb(98,98,98); text-decoration: underline;\">Example response:</b>"
      ],
      "text/plain": [
       "<IPython.core.display.HTML object>"
      ]
     },
     "metadata": {},
     "output_type": "display_data"
    },
    {
     "name": "stdout",
     "output_type": "stream",
     "text": [
      "{\u001b[38;5;124m'\u001b[39m\u001b[38;5;124mnumber_of_results\u001b[39m\u001b[38;5;124m'\u001b[39m: \u001b[38;5;241m1\u001b[39m,\n",
      " \u001b[38;5;124m'\u001b[39m\u001b[38;5;124mpage\u001b[39m\u001b[38;5;124m'\u001b[39m: \u001b[38;5;241m1\u001b[39m,\n",
      " \u001b[38;5;124m'\u001b[39m\u001b[38;5;124mpage_size\u001b[39m\u001b[38;5;124m'\u001b[39m: \u001b[38;5;241m1\u001b[39m,\n",
      " \u001b[38;5;124m'\u001b[39m\u001b[38;5;124mpages\u001b[39m\u001b[38;5;124m'\u001b[39m: \u001b[38;5;241m1\u001b[39m,\n",
      " \u001b[38;5;124m'\u001b[39m\u001b[38;5;124mresults\u001b[39m\u001b[38;5;124m'\u001b[39m: [{\u001b[38;5;124m'\u001b[39m\u001b[38;5;124mconfidence_value\u001b[39m\u001b[38;5;124m'\u001b[39m: \u001b[38;5;241m0.4\u001b[39m,\n",
      "              \u001b[38;5;124m'\u001b[39m\u001b[38;5;124mdetection_method\u001b[39m\u001b[38;5;124m'\u001b[39m: \u001b[38;5;124m'\u001b[39m\u001b[38;5;124mtandem affinity purification\u001b[39m\u001b[38;5;124m'\u001b[39m,\n",
      "              \u001b[38;5;124m'\u001b[39m\u001b[38;5;124mdetection_method_psimi_id\u001b[39m\u001b[38;5;124m'\u001b[39m: \u001b[38;5;241m676\u001b[39m,\n",
      "              \u001b[38;5;124m'\u001b[39m\u001b[38;5;124medge_id\u001b[39m\u001b[38;5;124m'\u001b[39m: \u001b[38;5;124m'\u001b[39m\u001b[38;5;124m#1802:0\u001b[39m\u001b[38;5;124m'\u001b[39m,\n",
      "              \u001b[38;5;124m'\u001b[39m\u001b[38;5;124minteraction_ids\u001b[39m\u001b[38;5;124m'\u001b[39m: {\u001b[38;5;124m'\u001b[39m\u001b[38;5;124mintact\u001b[39m\u001b[38;5;124m'\u001b[39m: \u001b[38;5;124m'\u001b[39m\u001b[38;5;124mEBI-363244\u001b[39m\u001b[38;5;124m'\u001b[39m},\n",
      "              \u001b[38;5;124m'\u001b[39m\u001b[38;5;124minteraction_type\u001b[39m\u001b[38;5;124m'\u001b[39m: \u001b[38;5;124m'\u001b[39m\u001b[38;5;124mphysical association\u001b[39m\u001b[38;5;124m'\u001b[39m,\n",
      "              \u001b[38;5;124m'\u001b[39m\u001b[38;5;124minteraction_type_psimi_id\u001b[39m\u001b[38;5;124m'\u001b[39m: \u001b[38;5;124m'\u001b[39m\u001b[38;5;124m915\u001b[39m\u001b[38;5;124m'\u001b[39m,\n",
      "              \u001b[38;5;124m'\u001b[39m\u001b[38;5;124minteractor_a_bel\u001b[39m\u001b[38;5;124m'\u001b[39m: \u001b[38;5;124m'\u001b[39m\u001b[38;5;124mp(HGNC:\u001b[39m\u001b[38;5;124m\"\u001b[39m\u001b[38;5;124mHAX1\u001b[39m\u001b[38;5;124m\"\u001b[39m\u001b[38;5;124m)\u001b[39m\u001b[38;5;124m'\u001b[39m,\n",
      "              \u001b[38;5;124m'\u001b[39m\u001b[38;5;124minteractor_a_name\u001b[39m\u001b[38;5;124m'\u001b[39m: \u001b[38;5;124m'\u001b[39m\u001b[38;5;124mHAX1\u001b[39m\u001b[38;5;124m'\u001b[39m,\n",
      "              \u001b[38;5;124m'\u001b[39m\u001b[38;5;124minteractor_a_namespace\u001b[39m\u001b[38;5;124m'\u001b[39m: \u001b[38;5;124m'\u001b[39m\u001b[38;5;124mHGNC\u001b[39m\u001b[38;5;124m'\u001b[39m,\n",
      "              \u001b[38;5;124m'\u001b[39m\u001b[38;5;124minteractor_a_rid\u001b[39m\u001b[38;5;124m'\u001b[39m: \u001b[38;5;124m'\u001b[39m\u001b[38;5;124m#196:200\u001b[39m\u001b[38;5;124m'\u001b[39m,\n",
      "              \u001b[38;5;124m'\u001b[39m\u001b[38;5;124minteractor_b_bel\u001b[39m\u001b[38;5;124m'\u001b[39m: \u001b[38;5;124m'\u001b[39m\u001b[38;5;124mp(HGNC:\u001b[39m\u001b[38;5;124m\"\u001b[39m\u001b[38;5;124mRELA\u001b[39m\u001b[38;5;124m\"\u001b[39m\u001b[38;5;124m)\u001b[39m\u001b[38;5;124m'\u001b[39m,\n",
      "              \u001b[38;5;124m'\u001b[39m\u001b[38;5;124minteractor_b_name\u001b[39m\u001b[38;5;124m'\u001b[39m: \u001b[38;5;124m'\u001b[39m\u001b[38;5;124mRELA\u001b[39m\u001b[38;5;124m'\u001b[39m,\n",
      "              \u001b[38;5;124m'\u001b[39m\u001b[38;5;124minteractor_b_namespace\u001b[39m\u001b[38;5;124m'\u001b[39m: \u001b[38;5;124m'\u001b[39m\u001b[38;5;124mHGNC\u001b[39m\u001b[38;5;124m'\u001b[39m,\n",
      "              \u001b[38;5;124m'\u001b[39m\u001b[38;5;124minteractor_b_rid\u001b[39m\u001b[38;5;124m'\u001b[39m: \u001b[38;5;124m'\u001b[39m\u001b[38;5;124m#186:1\u001b[39m\u001b[38;5;124m'\u001b[39m,\n",
      "              \u001b[38;5;124m'\u001b[39m\u001b[38;5;124mpmid\u001b[39m\u001b[38;5;124m'\u001b[39m: \u001b[38;5;241m14743216\u001b[39m,\n",
      "              \u001b[38;5;124m'\u001b[39m\u001b[38;5;124mrelation_type\u001b[39m\u001b[38;5;124m'\u001b[39m: \u001b[38;5;124m'\u001b[39m\u001b[38;5;124mhas_ppi_ia\u001b[39m\u001b[38;5;124m'\u001b[39m}]}\n",
      "\n",
      "For further testing go to http://0.0.0.0:5000/ui/#/e(BE:L)/ebel.web.api.ebel.v1.intact.get_ebel_relation\n"
     ]
    },
    {
     "data": {
      "text/html": [
       "<h2>16. IUPHAR e(BE:L) interaction</h2>"
      ],
      "text/plain": [
       "<IPython.core.display.HTML object>"
      ]
     },
     "metadata": {},
     "output_type": "display_data"
    },
    {
     "data": {
      "text/html": [
       "<b style=\"color: rgb(98,98,98); text-decoration: underline;\">Description:</b> <p>IUPHAR e(BE:L) interaction</p>"
      ],
      "text/plain": [
       "<IPython.core.display.HTML object>"
      ]
     },
     "metadata": {},
     "output_type": "display_data"
    },
    {
     "data": {
      "text/html": [
       "<b>Tags:</b> ['IUPHAR', 'e(BE:L)']"
      ],
      "text/plain": [
       "<IPython.core.display.HTML object>"
      ]
     },
     "metadata": {},
     "output_type": "display_data"
    },
    {
     "data": {
      "text/html": [
       "<b>Server path:</b> /api/v1/iuphar/ebel/relation"
      ],
      "text/plain": [
       "<IPython.core.display.HTML object>"
      ]
     },
     "metadata": {},
     "output_type": "display_data"
    },
    {
     "data": {
      "text/html": [
       "<div>\n",
       "<style scoped>\n",
       "    .dataframe tbody tr th:only-of-type {\n",
       "        vertical-align: middle;\n",
       "    }\n",
       "\n",
       "    .dataframe tbody tr th {\n",
       "        vertical-align: top;\n",
       "    }\n",
       "\n",
       "    .dataframe thead th {\n",
       "        text-align: right;\n",
       "    }\n",
       "</style>\n",
       "<table border=\"1\" class=\"dataframe\">\n",
       "  <thead>\n",
       "    <tr style=\"text-align: right;\">\n",
       "      <th></th>\n",
       "      <th>data type</th>\n",
       "      <th>description</th>\n",
       "      <th>example</th>\n",
       "      <th>options</th>\n",
       "      <th>default</th>\n",
       "      <th>required</th>\n",
       "    </tr>\n",
       "    <tr>\n",
       "      <th>parameter name</th>\n",
       "      <th></th>\n",
       "      <th></th>\n",
       "      <th></th>\n",
       "      <th></th>\n",
       "      <th></th>\n",
       "      <th></th>\n",
       "    </tr>\n",
       "  </thead>\n",
       "  <tbody>\n",
       "    <tr>\n",
       "      <th>interactor_a_rid</th>\n",
       "      <td>string</td>\n",
       "      <td></td>\n",
       "      <td></td>\n",
       "      <td></td>\n",
       "      <td></td>\n",
       "      <td>False</td>\n",
       "    </tr>\n",
       "    <tr>\n",
       "      <th>interactor_a_namespace</th>\n",
       "      <td>string</td>\n",
       "      <td></td>\n",
       "      <td></td>\n",
       "      <td></td>\n",
       "      <td></td>\n",
       "      <td>False</td>\n",
       "    </tr>\n",
       "    <tr>\n",
       "      <th>interactor_a_name</th>\n",
       "      <td>string</td>\n",
       "      <td></td>\n",
       "      <td></td>\n",
       "      <td></td>\n",
       "      <td></td>\n",
       "      <td>False</td>\n",
       "    </tr>\n",
       "    <tr>\n",
       "      <th>interactor_a_uniprot</th>\n",
       "      <td>string</td>\n",
       "      <td></td>\n",
       "      <td></td>\n",
       "      <td></td>\n",
       "      <td></td>\n",
       "      <td>False</td>\n",
       "    </tr>\n",
       "    <tr>\n",
       "      <th>relation</th>\n",
       "      <td>string</td>\n",
       "      <td></td>\n",
       "      <td></td>\n",
       "      <td>[, agonist_of__iu, inhibits__iu, antagonist_of...</td>\n",
       "      <td></td>\n",
       "      <td>False</td>\n",
       "    </tr>\n",
       "    <tr>\n",
       "      <th>interactor_b_rid</th>\n",
       "      <td>string</td>\n",
       "      <td></td>\n",
       "      <td></td>\n",
       "      <td></td>\n",
       "      <td></td>\n",
       "      <td>False</td>\n",
       "    </tr>\n",
       "    <tr>\n",
       "      <th>interactor_b_namespace</th>\n",
       "      <td>string</td>\n",
       "      <td></td>\n",
       "      <td></td>\n",
       "      <td></td>\n",
       "      <td></td>\n",
       "      <td>False</td>\n",
       "    </tr>\n",
       "    <tr>\n",
       "      <th>interactor_b_name</th>\n",
       "      <td>string</td>\n",
       "      <td></td>\n",
       "      <td>ADORA2A</td>\n",
       "      <td></td>\n",
       "      <td></td>\n",
       "      <td>False</td>\n",
       "    </tr>\n",
       "    <tr>\n",
       "      <th>interactor_b_uniprot</th>\n",
       "      <td>string</td>\n",
       "      <td></td>\n",
       "      <td></td>\n",
       "      <td></td>\n",
       "      <td></td>\n",
       "      <td>False</td>\n",
       "    </tr>\n",
       "    <tr>\n",
       "      <th>pmid</th>\n",
       "      <td>integer</td>\n",
       "      <td></td>\n",
       "      <td>9179373</td>\n",
       "      <td></td>\n",
       "      <td></td>\n",
       "      <td>False</td>\n",
       "    </tr>\n",
       "    <tr>\n",
       "      <th>assay_description</th>\n",
       "      <td>string</td>\n",
       "      <td></td>\n",
       "      <td></td>\n",
       "      <td></td>\n",
       "      <td></td>\n",
       "      <td>False</td>\n",
       "    </tr>\n",
       "    <tr>\n",
       "      <th>affinity_units</th>\n",
       "      <td>string</td>\n",
       "      <td></td>\n",
       "      <td></td>\n",
       "      <td></td>\n",
       "      <td></td>\n",
       "      <td>False</td>\n",
       "    </tr>\n",
       "    <tr>\n",
       "      <th>affinity_low</th>\n",
       "      <td>string</td>\n",
       "      <td></td>\n",
       "      <td></td>\n",
       "      <td></td>\n",
       "      <td></td>\n",
       "      <td>False</td>\n",
       "    </tr>\n",
       "    <tr>\n",
       "      <th>affinity_median</th>\n",
       "      <td>string</td>\n",
       "      <td></td>\n",
       "      <td></td>\n",
       "      <td></td>\n",
       "      <td></td>\n",
       "      <td>False</td>\n",
       "    </tr>\n",
       "    <tr>\n",
       "      <th>affinity_high</th>\n",
       "      <td>string</td>\n",
       "      <td></td>\n",
       "      <td>6.2</td>\n",
       "      <td></td>\n",
       "      <td></td>\n",
       "      <td>False</td>\n",
       "    </tr>\n",
       "    <tr>\n",
       "      <th>type</th>\n",
       "      <td>string</td>\n",
       "      <td></td>\n",
       "      <td></td>\n",
       "      <td></td>\n",
       "      <td></td>\n",
       "      <td>False</td>\n",
       "    </tr>\n",
       "    <tr>\n",
       "      <th>action</th>\n",
       "      <td>string</td>\n",
       "      <td></td>\n",
       "      <td>Full agonist</td>\n",
       "      <td></td>\n",
       "      <td></td>\n",
       "      <td>False</td>\n",
       "    </tr>\n",
       "    <tr>\n",
       "      <th>page_size</th>\n",
       "      <td>integer</td>\n",
       "      <td>Results per page</td>\n",
       "      <td>1</td>\n",
       "      <td></td>\n",
       "      <td>10.0</td>\n",
       "      <td>False</td>\n",
       "    </tr>\n",
       "    <tr>\n",
       "      <th>page</th>\n",
       "      <td>integer</td>\n",
       "      <td>Page number (starting with 1)</td>\n",
       "      <td>1</td>\n",
       "      <td></td>\n",
       "      <td>1.0</td>\n",
       "      <td>False</td>\n",
       "    </tr>\n",
       "  </tbody>\n",
       "</table>\n",
       "</div>"
      ],
      "text/plain": [
       "                       data type                    description       example  \\\n",
       "parameter name                                                                  \n",
       "interactor_a_rid          string                                                \n",
       "interactor_a_namespace    string                                                \n",
       "interactor_a_name         string                                                \n",
       "interactor_a_uniprot      string                                                \n",
       "relation                  string                                                \n",
       "interactor_b_rid          string                                                \n",
       "interactor_b_namespace    string                                                \n",
       "interactor_b_name         string                                      ADORA2A   \n",
       "interactor_b_uniprot      string                                                \n",
       "pmid                     integer                                      9179373   \n",
       "assay_description         string                                                \n",
       "affinity_units            string                                                \n",
       "affinity_low              string                                                \n",
       "affinity_median           string                                                \n",
       "affinity_high             string                                          6.2   \n",
       "type                      string                                                \n",
       "action                    string                                 Full agonist   \n",
       "page_size                integer               Results per page             1   \n",
       "page                     integer  Page number (starting with 1)             1   \n",
       "\n",
       "                                                                  options  \\\n",
       "parameter name                                                              \n",
       "interactor_a_rid                                                            \n",
       "interactor_a_namespace                                                      \n",
       "interactor_a_name                                                           \n",
       "interactor_a_uniprot                                                        \n",
       "relation                [, agonist_of__iu, inhibits__iu, antagonist_of...   \n",
       "interactor_b_rid                                                            \n",
       "interactor_b_namespace                                                      \n",
       "interactor_b_name                                                           \n",
       "interactor_b_uniprot                                                        \n",
       "pmid                                                                        \n",
       "assay_description                                                           \n",
       "affinity_units                                                              \n",
       "affinity_low                                                                \n",
       "affinity_median                                                             \n",
       "affinity_high                                                               \n",
       "type                                                                        \n",
       "action                                                                      \n",
       "page_size                                                                   \n",
       "page                                                                        \n",
       "\n",
       "                       default  required  \n",
       "parameter name                            \n",
       "interactor_a_rid                   False  \n",
       "interactor_a_namespace             False  \n",
       "interactor_a_name                  False  \n",
       "interactor_a_uniprot               False  \n",
       "relation                           False  \n",
       "interactor_b_rid                   False  \n",
       "interactor_b_namespace             False  \n",
       "interactor_b_name                  False  \n",
       "interactor_b_uniprot               False  \n",
       "pmid                               False  \n",
       "assay_description                  False  \n",
       "affinity_units                     False  \n",
       "affinity_low                       False  \n",
       "affinity_median                    False  \n",
       "affinity_high                      False  \n",
       "type                               False  \n",
       "action                             False  \n",
       "page_size                 10.0     False  \n",
       "page                       1.0     False  "
      ]
     },
     "metadata": {},
     "output_type": "display_data"
    },
    {
     "data": {
      "text/html": [
       "<b>Example URL:</b> <a href=\"http://0.0.0.0:5000/api/v1/iuphar/ebel/relation?interactor_b_name=ADORA2A&pmid=9179373&affinity_high=6.2&action=Full+agonist&page_size=1&page=1\">http://0.0.0.0:5000/api/v1/iuphar/ebel/relation?interactor_b_name=ADORA2A&pmid=9179373&affinity_high=6.2&action=Full+agonist&page_size=1&page=1</a>"
      ],
      "text/plain": [
       "<IPython.core.display.HTML object>"
      ]
     },
     "metadata": {},
     "output_type": "display_data"
    },
    {
     "data": {
      "text/html": [
       "<b style=\"color: rgb(98,98,98); text-decoration: underline;\">Example response:</b>"
      ],
      "text/plain": [
       "<IPython.core.display.HTML object>"
      ]
     },
     "metadata": {},
     "output_type": "display_data"
    },
    {
     "name": "stdout",
     "output_type": "stream",
     "text": [
      "{\u001b[38;5;124m'\u001b[39m\u001b[38;5;124mnumber_of_results\u001b[39m\u001b[38;5;124m'\u001b[39m: \u001b[38;5;241m1\u001b[39m,\n",
      " \u001b[38;5;124m'\u001b[39m\u001b[38;5;124mpage\u001b[39m\u001b[38;5;124m'\u001b[39m: \u001b[38;5;241m1\u001b[39m,\n",
      " \u001b[38;5;124m'\u001b[39m\u001b[38;5;124mpage_size\u001b[39m\u001b[38;5;124m'\u001b[39m: \u001b[38;5;241m1\u001b[39m,\n",
      " \u001b[38;5;124m'\u001b[39m\u001b[38;5;124mpages\u001b[39m\u001b[38;5;124m'\u001b[39m: \u001b[38;5;241m1\u001b[39m,\n",
      " \u001b[38;5;124m'\u001b[39m\u001b[38;5;124mresults\u001b[39m\u001b[38;5;124m'\u001b[39m: [{\u001b[38;5;124m'\u001b[39m\u001b[38;5;124maction\u001b[39m\u001b[38;5;124m'\u001b[39m: \u001b[38;5;124m'\u001b[39m\u001b[38;5;124mFull agonist\u001b[39m\u001b[38;5;124m'\u001b[39m,\n",
      "              \u001b[38;5;124m'\u001b[39m\u001b[38;5;124maffinity_high\u001b[39m\u001b[38;5;124m'\u001b[39m: \u001b[38;5;241m6.2\u001b[39m,\n",
      "              \u001b[38;5;124m'\u001b[39m\u001b[38;5;124maffinity_low\u001b[39m\u001b[38;5;124m'\u001b[39m: \u001b[38;5;241m6.0\u001b[39m,\n",
      "              \u001b[38;5;124m'\u001b[39m\u001b[38;5;124maffinity_units\u001b[39m\u001b[38;5;124m'\u001b[39m: \u001b[38;5;124m'\u001b[39m\u001b[38;5;124mpKi\u001b[39m\u001b[38;5;124m'\u001b[39m,\n",
      "              \u001b[38;5;124m'\u001b[39m\u001b[38;5;124medge_id\u001b[39m\u001b[38;5;124m'\u001b[39m: \u001b[38;5;124m'\u001b[39m\u001b[38;5;124m#3162:1\u001b[39m\u001b[38;5;124m'\u001b[39m,\n",
      "              \u001b[38;5;124m'\u001b[39m\u001b[38;5;124minteractor_a_name\u001b[39m\u001b[38;5;124m'\u001b[39m: \u001b[38;5;124m'\u001b[39m\u001b[38;5;124m135651557\u001b[39m\u001b[38;5;124m'\u001b[39m,\n",
      "              \u001b[38;5;124m'\u001b[39m\u001b[38;5;124minteractor_a_namespace\u001b[39m\u001b[38;5;124m'\u001b[39m: \u001b[38;5;124m'\u001b[39m\u001b[38;5;124mPUBCHEM\u001b[39m\u001b[38;5;124m'\u001b[39m,\n",
      "              \u001b[38;5;124m'\u001b[39m\u001b[38;5;124minteractor_a_rid\u001b[39m\u001b[38;5;124m'\u001b[39m: \u001b[38;5;124m'\u001b[39m\u001b[38;5;124m#129:23\u001b[39m\u001b[38;5;124m'\u001b[39m,\n",
      "              \u001b[38;5;124m'\u001b[39m\u001b[38;5;124minteractor_b_name\u001b[39m\u001b[38;5;124m'\u001b[39m: \u001b[38;5;124m'\u001b[39m\u001b[38;5;124mADORA2A\u001b[39m\u001b[38;5;124m'\u001b[39m,\n",
      "              \u001b[38;5;124m'\u001b[39m\u001b[38;5;124minteractor_b_namespace\u001b[39m\u001b[38;5;124m'\u001b[39m: \u001b[38;5;124m'\u001b[39m\u001b[38;5;124mHGNC\u001b[39m\u001b[38;5;124m'\u001b[39m,\n",
      "              \u001b[38;5;124m'\u001b[39m\u001b[38;5;124minteractor_b_rid\u001b[39m\u001b[38;5;124m'\u001b[39m: \u001b[38;5;124m'\u001b[39m\u001b[38;5;124m#186:53\u001b[39m\u001b[38;5;124m'\u001b[39m,\n",
      "              \u001b[38;5;124m'\u001b[39m\u001b[38;5;124mpmids\u001b[39m\u001b[38;5;124m'\u001b[39m: [\u001b[38;5;241m15476669\u001b[39m, \u001b[38;5;241m9459566\u001b[39m, \u001b[38;5;241m7775460\u001b[39m, \u001b[38;5;241m9920286\u001b[39m, \u001b[38;5;241m9179373\u001b[39m],\n",
      "              \u001b[38;5;124m'\u001b[39m\u001b[38;5;124mrelation\u001b[39m\u001b[38;5;124m'\u001b[39m: \u001b[38;5;124m'\u001b[39m\u001b[38;5;124magonist_of__iu\u001b[39m\u001b[38;5;124m'\u001b[39m,\n",
      "              \u001b[38;5;124m'\u001b[39m\u001b[38;5;124mtype\u001b[39m\u001b[38;5;124m'\u001b[39m: \u001b[38;5;124m'\u001b[39m\u001b[38;5;124mAgonist\u001b[39m\u001b[38;5;124m'\u001b[39m}]}\n",
      "\n",
      "For further testing go to http://0.0.0.0:5000/ui/#/e(BE:L)/ebel.web.api.ebel.v1.iuphar.get_ebel_relation\n"
     ]
    },
    {
     "data": {
      "text/html": [
       "<h2>17. KEGG e(BE:L) relations</h2>"
      ],
      "text/plain": [
       "<IPython.core.display.HTML object>"
      ]
     },
     "metadata": {},
     "output_type": "display_data"
    },
    {
     "data": {
      "text/html": [
       "<b style=\"color: rgb(98,98,98); text-decoration: underline;\">Description:</b> <p>KEGG e(BE:L) relations</p>"
      ],
      "text/plain": [
       "<IPython.core.display.HTML object>"
      ]
     },
     "metadata": {},
     "output_type": "display_data"
    },
    {
     "data": {
      "text/html": [
       "<b>Tags:</b> ['KEGG', 'e(BE:L)']"
      ],
      "text/plain": [
       "<IPython.core.display.HTML object>"
      ]
     },
     "metadata": {},
     "output_type": "display_data"
    },
    {
     "data": {
      "text/html": [
       "<b>Server path:</b> /api/v1/kegg/ebel/relation"
      ],
      "text/plain": [
       "<IPython.core.display.HTML object>"
      ]
     },
     "metadata": {},
     "output_type": "display_data"
    },
    {
     "data": {
      "text/html": [
       "<div>\n",
       "<style scoped>\n",
       "    .dataframe tbody tr th:only-of-type {\n",
       "        vertical-align: middle;\n",
       "    }\n",
       "\n",
       "    .dataframe tbody tr th {\n",
       "        vertical-align: top;\n",
       "    }\n",
       "\n",
       "    .dataframe thead th {\n",
       "        text-align: right;\n",
       "    }\n",
       "</style>\n",
       "<table border=\"1\" class=\"dataframe\">\n",
       "  <thead>\n",
       "    <tr style=\"text-align: right;\">\n",
       "      <th></th>\n",
       "      <th>data type</th>\n",
       "      <th>description</th>\n",
       "      <th>example</th>\n",
       "      <th>options</th>\n",
       "      <th>default</th>\n",
       "      <th>required</th>\n",
       "    </tr>\n",
       "    <tr>\n",
       "      <th>parameter name</th>\n",
       "      <th></th>\n",
       "      <th></th>\n",
       "      <th></th>\n",
       "      <th></th>\n",
       "      <th></th>\n",
       "      <th></th>\n",
       "    </tr>\n",
       "  </thead>\n",
       "  <tbody>\n",
       "    <tr>\n",
       "      <th>interactor_a_rid</th>\n",
       "      <td>string</td>\n",
       "      <td></td>\n",
       "      <td></td>\n",
       "      <td></td>\n",
       "      <td></td>\n",
       "      <td>False</td>\n",
       "    </tr>\n",
       "    <tr>\n",
       "      <th>interactor_a_name</th>\n",
       "      <td>string</td>\n",
       "      <td></td>\n",
       "      <td>GSK3B</td>\n",
       "      <td></td>\n",
       "      <td></td>\n",
       "      <td>False</td>\n",
       "    </tr>\n",
       "    <tr>\n",
       "      <th>interactor_a_namespace</th>\n",
       "      <td>string</td>\n",
       "      <td></td>\n",
       "      <td>HGNC</td>\n",
       "      <td></td>\n",
       "      <td></td>\n",
       "      <td>False</td>\n",
       "    </tr>\n",
       "    <tr>\n",
       "      <th>relation</th>\n",
       "      <td>string</td>\n",
       "      <td></td>\n",
       "      <td>increases_pho_kg</td>\n",
       "      <td>[None, decreases_pho_kg, increases_gly_kg, inc...</td>\n",
       "      <td></td>\n",
       "      <td>False</td>\n",
       "    </tr>\n",
       "    <tr>\n",
       "      <th>interactor_b_rid</th>\n",
       "      <td>string</td>\n",
       "      <td></td>\n",
       "      <td></td>\n",
       "      <td></td>\n",
       "      <td></td>\n",
       "      <td>False</td>\n",
       "    </tr>\n",
       "    <tr>\n",
       "      <th>interactor_b_name</th>\n",
       "      <td>string</td>\n",
       "      <td></td>\n",
       "      <td>KIF5A</td>\n",
       "      <td></td>\n",
       "      <td></td>\n",
       "      <td>False</td>\n",
       "    </tr>\n",
       "    <tr>\n",
       "      <th>interactor_b_namespace</th>\n",
       "      <td>string</td>\n",
       "      <td></td>\n",
       "      <td>HGNC</td>\n",
       "      <td></td>\n",
       "      <td></td>\n",
       "      <td>False</td>\n",
       "    </tr>\n",
       "    <tr>\n",
       "      <th>interaction_type</th>\n",
       "      <td>string</td>\n",
       "      <td></td>\n",
       "      <td>phosphorylation</td>\n",
       "      <td></td>\n",
       "      <td></td>\n",
       "      <td>False</td>\n",
       "    </tr>\n",
       "    <tr>\n",
       "      <th>pathway_name</th>\n",
       "      <td>string</td>\n",
       "      <td></td>\n",
       "      <td>Pathways of neurodegeneration</td>\n",
       "      <td></td>\n",
       "      <td></td>\n",
       "      <td>False</td>\n",
       "    </tr>\n",
       "    <tr>\n",
       "      <th>page_size</th>\n",
       "      <td>integer</td>\n",
       "      <td>Results per page</td>\n",
       "      <td>1</td>\n",
       "      <td></td>\n",
       "      <td>10.0</td>\n",
       "      <td>False</td>\n",
       "    </tr>\n",
       "    <tr>\n",
       "      <th>page</th>\n",
       "      <td>integer</td>\n",
       "      <td>Page number (starting with 1)</td>\n",
       "      <td>1</td>\n",
       "      <td></td>\n",
       "      <td>1.0</td>\n",
       "      <td>False</td>\n",
       "    </tr>\n",
       "  </tbody>\n",
       "</table>\n",
       "</div>"
      ],
      "text/plain": [
       "                       data type                    description  \\\n",
       "parameter name                                                    \n",
       "interactor_a_rid          string                                  \n",
       "interactor_a_name         string                                  \n",
       "interactor_a_namespace    string                                  \n",
       "relation                  string                                  \n",
       "interactor_b_rid          string                                  \n",
       "interactor_b_name         string                                  \n",
       "interactor_b_namespace    string                                  \n",
       "interaction_type          string                                  \n",
       "pathway_name              string                                  \n",
       "page_size                integer               Results per page   \n",
       "page                     integer  Page number (starting with 1)   \n",
       "\n",
       "                                              example  \\\n",
       "parameter name                                          \n",
       "interactor_a_rid                                        \n",
       "interactor_a_name                               GSK3B   \n",
       "interactor_a_namespace                           HGNC   \n",
       "relation                             increases_pho_kg   \n",
       "interactor_b_rid                                        \n",
       "interactor_b_name                               KIF5A   \n",
       "interactor_b_namespace                           HGNC   \n",
       "interaction_type                      phosphorylation   \n",
       "pathway_name            Pathways of neurodegeneration   \n",
       "page_size                                           1   \n",
       "page                                                1   \n",
       "\n",
       "                                                                  options  \\\n",
       "parameter name                                                              \n",
       "interactor_a_rid                                                            \n",
       "interactor_a_name                                                           \n",
       "interactor_a_namespace                                                      \n",
       "relation                [None, decreases_pho_kg, increases_gly_kg, inc...   \n",
       "interactor_b_rid                                                            \n",
       "interactor_b_name                                                           \n",
       "interactor_b_namespace                                                      \n",
       "interaction_type                                                            \n",
       "pathway_name                                                                \n",
       "page_size                                                                   \n",
       "page                                                                        \n",
       "\n",
       "                       default  required  \n",
       "parameter name                            \n",
       "interactor_a_rid                   False  \n",
       "interactor_a_name                  False  \n",
       "interactor_a_namespace             False  \n",
       "relation                           False  \n",
       "interactor_b_rid                   False  \n",
       "interactor_b_name                  False  \n",
       "interactor_b_namespace             False  \n",
       "interaction_type                   False  \n",
       "pathway_name                       False  \n",
       "page_size                 10.0     False  \n",
       "page                       1.0     False  "
      ]
     },
     "metadata": {},
     "output_type": "display_data"
    },
    {
     "data": {
      "text/html": [
       "<b>Example URL:</b> <a href=\"http://0.0.0.0:5000/api/v1/kegg/ebel/relation?interactor_a_name=GSK3B&interactor_a_namespace=HGNC&relation=increases_pho_kg&interactor_b_name=KIF5A&interactor_b_namespace=HGNC&interaction_type=phosphorylation&pathway_name=Pathways+of+neurodegeneration&page_size=1&page=1\">http://0.0.0.0:5000/api/v1/kegg/ebel/relation?interactor_a_name=GSK3B&interactor_a_namespace=HGNC&relation=increases_pho_kg&interactor_b_name=KIF5A&interactor_b_namespace=HGNC&interaction_type=phosphorylation&pathway_name=Pathways+of+neurodegeneration&page_size=1&page=1</a>"
      ],
      "text/plain": [
       "<IPython.core.display.HTML object>"
      ]
     },
     "metadata": {},
     "output_type": "display_data"
    },
    {
     "data": {
      "text/html": [
       "<b style=\"color: rgb(98,98,98); text-decoration: underline;\">Example response:</b>"
      ],
      "text/plain": [
       "<IPython.core.display.HTML object>"
      ]
     },
     "metadata": {},
     "output_type": "display_data"
    },
    {
     "name": "stdout",
     "output_type": "stream",
     "text": [
      "{\u001b[38;5;124m'\u001b[39m\u001b[38;5;124mnumber_of_results\u001b[39m\u001b[38;5;124m'\u001b[39m: \u001b[38;5;241m1\u001b[39m,\n",
      " \u001b[38;5;124m'\u001b[39m\u001b[38;5;124mpage\u001b[39m\u001b[38;5;124m'\u001b[39m: \u001b[38;5;241m1\u001b[39m,\n",
      " \u001b[38;5;124m'\u001b[39m\u001b[38;5;124mpage_size\u001b[39m\u001b[38;5;124m'\u001b[39m: \u001b[38;5;241m1\u001b[39m,\n",
      " \u001b[38;5;124m'\u001b[39m\u001b[38;5;124mpages\u001b[39m\u001b[38;5;124m'\u001b[39m: \u001b[38;5;241m1\u001b[39m,\n",
      " \u001b[38;5;124m'\u001b[39m\u001b[38;5;124mresults\u001b[39m\u001b[38;5;124m'\u001b[39m: [{\u001b[38;5;124m'\u001b[39m\u001b[38;5;124medge_id\u001b[39m\u001b[38;5;124m'\u001b[39m: \u001b[38;5;124m'\u001b[39m\u001b[38;5;124m#3114:31\u001b[39m\u001b[38;5;124m'\u001b[39m,\n",
      "              \u001b[38;5;124m'\u001b[39m\u001b[38;5;124minteraction_type\u001b[39m\u001b[38;5;124m'\u001b[39m: \u001b[38;5;124m'\u001b[39m\u001b[38;5;124mphosphorylation\u001b[39m\u001b[38;5;124m'\u001b[39m,\n",
      "              \u001b[38;5;124m'\u001b[39m\u001b[38;5;124minteractor_a_bel\u001b[39m\u001b[38;5;124m'\u001b[39m: \u001b[38;5;124m'\u001b[39m\u001b[38;5;124mp(HGNC:\u001b[39m\u001b[38;5;124m\"\u001b[39m\u001b[38;5;124mGSK3B\u001b[39m\u001b[38;5;124m\"\u001b[39m\u001b[38;5;124m)\u001b[39m\u001b[38;5;124m'\u001b[39m,\n",
      "              \u001b[38;5;124m'\u001b[39m\u001b[38;5;124minteractor_a_name\u001b[39m\u001b[38;5;124m'\u001b[39m: \u001b[38;5;124m'\u001b[39m\u001b[38;5;124mGSK3B\u001b[39m\u001b[38;5;124m'\u001b[39m,\n",
      "              \u001b[38;5;124m'\u001b[39m\u001b[38;5;124minteractor_a_namespace\u001b[39m\u001b[38;5;124m'\u001b[39m: \u001b[38;5;124m'\u001b[39m\u001b[38;5;124mHGNC\u001b[39m\u001b[38;5;124m'\u001b[39m,\n",
      "              \u001b[38;5;124m'\u001b[39m\u001b[38;5;124minteractor_a_rid\u001b[39m\u001b[38;5;124m'\u001b[39m: \u001b[38;5;124m'\u001b[39m\u001b[38;5;124m#191:42\u001b[39m\u001b[38;5;124m'\u001b[39m,\n",
      "              \u001b[38;5;124m'\u001b[39m\u001b[38;5;124minteractor_b_bel\u001b[39m\u001b[38;5;124m'\u001b[39m: \u001b[38;5;124m'\u001b[39m\u001b[38;5;124mp(HGNC:\u001b[39m\u001b[38;5;124m\"\u001b[39m\u001b[38;5;124mKIF5A\u001b[39m\u001b[38;5;124m\"\u001b[39m\u001b[38;5;124m,pmod(Ph))\u001b[39m\u001b[38;5;124m'\u001b[39m,\n",
      "              \u001b[38;5;124m'\u001b[39m\u001b[38;5;124minteractor_b_name\u001b[39m\u001b[38;5;124m'\u001b[39m: \u001b[38;5;124m'\u001b[39m\u001b[38;5;124mKIF5A\u001b[39m\u001b[38;5;124m'\u001b[39m,\n",
      "              \u001b[38;5;124m'\u001b[39m\u001b[38;5;124minteractor_b_namespace\u001b[39m\u001b[38;5;124m'\u001b[39m: \u001b[38;5;124m'\u001b[39m\u001b[38;5;124mHGNC\u001b[39m\u001b[38;5;124m'\u001b[39m,\n",
      "              \u001b[38;5;124m'\u001b[39m\u001b[38;5;124minteractor_b_rid\u001b[39m\u001b[38;5;124m'\u001b[39m: \u001b[38;5;124m'\u001b[39m\u001b[38;5;124m#195:968\u001b[39m\u001b[38;5;124m'\u001b[39m,\n",
      "              \u001b[38;5;124m'\u001b[39m\u001b[38;5;124mpathway_names\u001b[39m\u001b[38;5;124m'\u001b[39m: [\u001b[38;5;124m'\u001b[39m\u001b[38;5;124mAlzheimer disease\u001b[39m\u001b[38;5;124m'\u001b[39m,\n",
      "                                \u001b[38;5;124m'\u001b[39m\u001b[38;5;124mPrion disease\u001b[39m\u001b[38;5;124m'\u001b[39m,\n",
      "                                \u001b[38;5;124m'\u001b[39m\u001b[38;5;124mPathways of neurodegeneration\u001b[39m\u001b[38;5;124m'\u001b[39m],\n",
      "              \u001b[38;5;124m'\u001b[39m\u001b[38;5;124mrelation\u001b[39m\u001b[38;5;124m'\u001b[39m: \u001b[38;5;124m'\u001b[39m\u001b[38;5;124mincreases_pho_kg\u001b[39m\u001b[38;5;124m'\u001b[39m}]}\n",
      "\n",
      "For further testing go to http://0.0.0.0:5000/ui/#/e(BE:L)/ebel.web.api.ebel.v1.kegg.get_ebel_relation\n"
     ]
    },
    {
     "data": {
      "text/html": [
       "<h2>18. microRNA/target e(BE:L) relation</h2>"
      ],
      "text/plain": [
       "<IPython.core.display.HTML object>"
      ]
     },
     "metadata": {},
     "output_type": "display_data"
    },
    {
     "data": {
      "text/html": [
       "<b style=\"color: rgb(98,98,98); text-decoration: underline;\">Description:</b> <p>microRNA/target e(BE:L) relation</p>"
      ],
      "text/plain": [
       "<IPython.core.display.HTML object>"
      ]
     },
     "metadata": {},
     "output_type": "display_data"
    },
    {
     "data": {
      "text/html": [
       "<b>Tags:</b> ['miRTarBase', 'e(BE:L)']"
      ],
      "text/plain": [
       "<IPython.core.display.HTML object>"
      ]
     },
     "metadata": {},
     "output_type": "display_data"
    },
    {
     "data": {
      "text/html": [
       "<b>Server path:</b> /api/v1/mirtarbase/ebel/relation"
      ],
      "text/plain": [
       "<IPython.core.display.HTML object>"
      ]
     },
     "metadata": {},
     "output_type": "display_data"
    },
    {
     "data": {
      "text/html": [
       "<div>\n",
       "<style scoped>\n",
       "    .dataframe tbody tr th:only-of-type {\n",
       "        vertical-align: middle;\n",
       "    }\n",
       "\n",
       "    .dataframe tbody tr th {\n",
       "        vertical-align: top;\n",
       "    }\n",
       "\n",
       "    .dataframe thead th {\n",
       "        text-align: right;\n",
       "    }\n",
       "</style>\n",
       "<table border=\"1\" class=\"dataframe\">\n",
       "  <thead>\n",
       "    <tr style=\"text-align: right;\">\n",
       "      <th></th>\n",
       "      <th>data type</th>\n",
       "      <th>description</th>\n",
       "      <th>example</th>\n",
       "      <th>options</th>\n",
       "      <th>default</th>\n",
       "      <th>required</th>\n",
       "    </tr>\n",
       "    <tr>\n",
       "      <th>parameter name</th>\n",
       "      <th></th>\n",
       "      <th></th>\n",
       "      <th></th>\n",
       "      <th></th>\n",
       "      <th></th>\n",
       "      <th></th>\n",
       "    </tr>\n",
       "  </thead>\n",
       "  <tbody>\n",
       "    <tr>\n",
       "      <th>mirbase_id</th>\n",
       "      <td>string</td>\n",
       "      <td></td>\n",
       "      <td>hsa-miR-34a-5p</td>\n",
       "      <td></td>\n",
       "      <td></td>\n",
       "      <td>False</td>\n",
       "    </tr>\n",
       "    <tr>\n",
       "      <th>target_rna_symbol</th>\n",
       "      <td>string</td>\n",
       "      <td></td>\n",
       "      <td>TREM2</td>\n",
       "      <td></td>\n",
       "      <td></td>\n",
       "      <td>False</td>\n",
       "    </tr>\n",
       "    <tr>\n",
       "      <th>target_namespace</th>\n",
       "      <td>string</td>\n",
       "      <td></td>\n",
       "      <td>HGNC</td>\n",
       "      <td></td>\n",
       "      <td></td>\n",
       "      <td>False</td>\n",
       "    </tr>\n",
       "    <tr>\n",
       "      <th>experiment</th>\n",
       "      <td>string</td>\n",
       "      <td></td>\n",
       "      <td>Luciferase reporter assay</td>\n",
       "      <td></td>\n",
       "      <td></td>\n",
       "      <td>False</td>\n",
       "    </tr>\n",
       "    <tr>\n",
       "      <th>support_type</th>\n",
       "      <td>string</td>\n",
       "      <td></td>\n",
       "      <td>Functional MTI</td>\n",
       "      <td>[Functional MTI, Non-Functional MTI]</td>\n",
       "      <td></td>\n",
       "      <td>False</td>\n",
       "    </tr>\n",
       "    <tr>\n",
       "      <th>pmid</th>\n",
       "      <td>integer</td>\n",
       "      <td>Reference PubMed ID</td>\n",
       "      <td>26949937</td>\n",
       "      <td></td>\n",
       "      <td></td>\n",
       "      <td>False</td>\n",
       "    </tr>\n",
       "    <tr>\n",
       "      <th>page_size</th>\n",
       "      <td>integer</td>\n",
       "      <td>Results per page</td>\n",
       "      <td>1</td>\n",
       "      <td></td>\n",
       "      <td>10.0</td>\n",
       "      <td>False</td>\n",
       "    </tr>\n",
       "    <tr>\n",
       "      <th>page</th>\n",
       "      <td>integer</td>\n",
       "      <td>Page number (starting with 1)</td>\n",
       "      <td>1</td>\n",
       "      <td></td>\n",
       "      <td>1.0</td>\n",
       "      <td>False</td>\n",
       "    </tr>\n",
       "  </tbody>\n",
       "</table>\n",
       "</div>"
      ],
      "text/plain": [
       "                  data type                    description  \\\n",
       "parameter name                                               \n",
       "mirbase_id           string                                  \n",
       "target_rna_symbol    string                                  \n",
       "target_namespace     string                                  \n",
       "experiment           string                                  \n",
       "support_type         string                                  \n",
       "pmid                integer            Reference PubMed ID   \n",
       "page_size           integer               Results per page   \n",
       "page                integer  Page number (starting with 1)   \n",
       "\n",
       "                                     example  \\\n",
       "parameter name                                 \n",
       "mirbase_id                    hsa-miR-34a-5p   \n",
       "target_rna_symbol                      TREM2   \n",
       "target_namespace                        HGNC   \n",
       "experiment         Luciferase reporter assay   \n",
       "support_type                  Functional MTI   \n",
       "pmid                                26949937   \n",
       "page_size                                  1   \n",
       "page                                       1   \n",
       "\n",
       "                                                options default  required  \n",
       "parameter name                                                             \n",
       "mirbase_id                                                          False  \n",
       "target_rna_symbol                                                   False  \n",
       "target_namespace                                                    False  \n",
       "experiment                                                          False  \n",
       "support_type       [Functional MTI, Non-Functional MTI]             False  \n",
       "pmid                                                                False  \n",
       "page_size                                                  10.0     False  \n",
       "page                                                        1.0     False  "
      ]
     },
     "metadata": {},
     "output_type": "display_data"
    },
    {
     "data": {
      "text/html": [
       "<b>Example URL:</b> <a href=\"http://0.0.0.0:5000/api/v1/mirtarbase/ebel/relation?mirbase_id=hsa-miR-34a-5p&target_rna_symbol=TREM2&target_namespace=HGNC&experiment=Luciferase+reporter+assay&support_type=Functional+MTI&pmid=26949937&page_size=1&page=1\">http://0.0.0.0:5000/api/v1/mirtarbase/ebel/relation?mirbase_id=hsa-miR-34a-5p&target_rna_symbol=TREM2&target_namespace=HGNC&experiment=Luciferase+reporter+assay&support_type=Functional+MTI&pmid=26949937&page_size=1&page=1</a>"
      ],
      "text/plain": [
       "<IPython.core.display.HTML object>"
      ]
     },
     "metadata": {},
     "output_type": "display_data"
    },
    {
     "data": {
      "text/html": [
       "<b style=\"color: rgb(98,98,98); text-decoration: underline;\">Example response:</b>"
      ],
      "text/plain": [
       "<IPython.core.display.HTML object>"
      ]
     },
     "metadata": {},
     "output_type": "display_data"
    },
    {
     "name": "stdout",
     "output_type": "stream",
     "text": [
      "{\u001b[38;5;124m'\u001b[39m\u001b[38;5;124mnumber_of_results\u001b[39m\u001b[38;5;124m'\u001b[39m: \u001b[38;5;241m1\u001b[39m,\n",
      " \u001b[38;5;124m'\u001b[39m\u001b[38;5;124mpage\u001b[39m\u001b[38;5;124m'\u001b[39m: \u001b[38;5;241m1\u001b[39m,\n",
      " \u001b[38;5;124m'\u001b[39m\u001b[38;5;124mpage_size\u001b[39m\u001b[38;5;124m'\u001b[39m: \u001b[38;5;241m1\u001b[39m,\n",
      " \u001b[38;5;124m'\u001b[39m\u001b[38;5;124mpages\u001b[39m\u001b[38;5;124m'\u001b[39m: \u001b[38;5;241m1\u001b[39m,\n",
      " \u001b[38;5;124m'\u001b[39m\u001b[38;5;124mresults\u001b[39m\u001b[38;5;124m'\u001b[39m: [{\u001b[38;5;124m'\u001b[39m\u001b[38;5;124mexperiments\u001b[39m\u001b[38;5;124m'\u001b[39m: [\u001b[38;5;124m'\u001b[39m\u001b[38;5;124mLuciferase reporter assay\u001b[39m\u001b[38;5;124m'\u001b[39m,\n",
      "                              \u001b[38;5;124m'\u001b[39m\u001b[38;5;124mMicroarray\u001b[39m\u001b[38;5;124m'\u001b[39m,\n",
      "                              \u001b[38;5;124m'\u001b[39m\u001b[38;5;124mqRT-PCR\u001b[39m\u001b[38;5;124m'\u001b[39m,\n",
      "                              \u001b[38;5;124m'\u001b[39m\u001b[38;5;124mWestern blot\u001b[39m\u001b[38;5;124m'\u001b[39m],\n",
      "              \u001b[38;5;124m'\u001b[39m\u001b[38;5;124mmirbase_id\u001b[39m\u001b[38;5;124m'\u001b[39m: \u001b[38;5;124m'\u001b[39m\u001b[38;5;124mhsa-miR-34a-5p\u001b[39m\u001b[38;5;124m'\u001b[39m,\n",
      "              \u001b[38;5;124m'\u001b[39m\u001b[38;5;124mpmid\u001b[39m\u001b[38;5;124m'\u001b[39m: \u001b[38;5;241m26949937\u001b[39m,\n",
      "              \u001b[38;5;124m'\u001b[39m\u001b[38;5;124msupport_type\u001b[39m\u001b[38;5;124m'\u001b[39m: \u001b[38;5;124m'\u001b[39m\u001b[38;5;124mFunctional MTI\u001b[39m\u001b[38;5;124m'\u001b[39m,\n",
      "              \u001b[38;5;124m'\u001b[39m\u001b[38;5;124mtarget_namespace\u001b[39m\u001b[38;5;124m'\u001b[39m: \u001b[38;5;124m'\u001b[39m\u001b[38;5;124mHGNC\u001b[39m\u001b[38;5;124m'\u001b[39m,\n",
      "              \u001b[38;5;124m'\u001b[39m\u001b[38;5;124mtarget_rna_symbol\u001b[39m\u001b[38;5;124m'\u001b[39m: \u001b[38;5;124m'\u001b[39m\u001b[38;5;124mTREM2\u001b[39m\u001b[38;5;124m'\u001b[39m}]}\n",
      "\n",
      "For further testing go to http://0.0.0.0:5000/ui/#/e(BE:L)/ebel.web.api.ebel.v1.mirtarbase.get_ebel_relation\n"
     ]
    },
    {
     "data": {
      "text/html": [
       "<h2>19. Offsides entries</h2>"
      ],
      "text/plain": [
       "<IPython.core.display.HTML object>"
      ]
     },
     "metadata": {},
     "output_type": "display_data"
    },
    {
     "data": {
      "text/html": [
       "<b style=\"color: rgb(98,98,98); text-decoration: underline;\">Description:</b> <p>Offsides entries</p>"
      ],
      "text/plain": [
       "<IPython.core.display.HTML object>"
      ]
     },
     "metadata": {},
     "output_type": "display_data"
    },
    {
     "data": {
      "text/html": [
       "<b>Tags:</b> ['Offsides', 'e(BE:L)']"
      ],
      "text/plain": [
       "<IPython.core.display.HTML object>"
      ]
     },
     "metadata": {},
     "output_type": "display_data"
    },
    {
     "data": {
      "text/html": [
       "<b>Server path:</b> /api/v1/offsides/ebel/relation"
      ],
      "text/plain": [
       "<IPython.core.display.HTML object>"
      ]
     },
     "metadata": {},
     "output_type": "display_data"
    },
    {
     "data": {
      "text/html": [
       "<div>\n",
       "<style scoped>\n",
       "    .dataframe tbody tr th:only-of-type {\n",
       "        vertical-align: middle;\n",
       "    }\n",
       "\n",
       "    .dataframe tbody tr th {\n",
       "        vertical-align: top;\n",
       "    }\n",
       "\n",
       "    .dataframe thead th {\n",
       "        text-align: right;\n",
       "    }\n",
       "</style>\n",
       "<table border=\"1\" class=\"dataframe\">\n",
       "  <thead>\n",
       "    <tr style=\"text-align: right;\">\n",
       "      <th></th>\n",
       "      <th>data type</th>\n",
       "      <th>description</th>\n",
       "      <th>example</th>\n",
       "      <th>options</th>\n",
       "      <th>default</th>\n",
       "      <th>required</th>\n",
       "    </tr>\n",
       "    <tr>\n",
       "      <th>parameter name</th>\n",
       "      <th></th>\n",
       "      <th></th>\n",
       "      <th></th>\n",
       "      <th></th>\n",
       "      <th></th>\n",
       "      <th></th>\n",
       "    </tr>\n",
       "  </thead>\n",
       "  <tbody>\n",
       "    <tr>\n",
       "      <th>drugbank_id</th>\n",
       "      <td>string</td>\n",
       "      <td>DrugBank ID</td>\n",
       "      <td>DB00843</td>\n",
       "      <td></td>\n",
       "      <td></td>\n",
       "      <td>False</td>\n",
       "    </tr>\n",
       "    <tr>\n",
       "      <th>drug_label</th>\n",
       "      <td>string</td>\n",
       "      <td>name of each drug</td>\n",
       "      <td>Donepezil</td>\n",
       "      <td></td>\n",
       "      <td></td>\n",
       "      <td>False</td>\n",
       "    </tr>\n",
       "    <tr>\n",
       "      <th>prr</th>\n",
       "      <td>number</td>\n",
       "      <td></td>\n",
       "      <td>1.05344</td>\n",
       "      <td></td>\n",
       "      <td></td>\n",
       "      <td>False</td>\n",
       "    </tr>\n",
       "    <tr>\n",
       "      <th>mean_reporting_frequency</th>\n",
       "      <td>number</td>\n",
       "      <td></td>\n",
       "      <td>0.044624</td>\n",
       "      <td></td>\n",
       "      <td></td>\n",
       "      <td>False</td>\n",
       "    </tr>\n",
       "    <tr>\n",
       "      <th>side_effect</th>\n",
       "      <td>string</td>\n",
       "      <td></td>\n",
       "      <td>Dizziness</td>\n",
       "      <td></td>\n",
       "      <td></td>\n",
       "      <td>False</td>\n",
       "    </tr>\n",
       "    <tr>\n",
       "      <th>condition_meddra_id</th>\n",
       "      <td>string</td>\n",
       "      <td></td>\n",
       "      <td>10013573</td>\n",
       "      <td></td>\n",
       "      <td></td>\n",
       "      <td>False</td>\n",
       "    </tr>\n",
       "    <tr>\n",
       "      <th>page_size</th>\n",
       "      <td>integer</td>\n",
       "      <td>Results per page</td>\n",
       "      <td>1</td>\n",
       "      <td></td>\n",
       "      <td>10.0</td>\n",
       "      <td>False</td>\n",
       "    </tr>\n",
       "    <tr>\n",
       "      <th>page</th>\n",
       "      <td>integer</td>\n",
       "      <td>Page number (starting with 1)</td>\n",
       "      <td>1</td>\n",
       "      <td></td>\n",
       "      <td>1.0</td>\n",
       "      <td>False</td>\n",
       "    </tr>\n",
       "  </tbody>\n",
       "</table>\n",
       "</div>"
      ],
      "text/plain": [
       "                         data type                    description    example  \\\n",
       "parameter name                                                                 \n",
       "drugbank_id                 string                    DrugBank ID    DB00843   \n",
       "drug_label                  string              name of each drug  Donepezil   \n",
       "prr                         number                                   1.05344   \n",
       "mean_reporting_frequency    number                                  0.044624   \n",
       "side_effect                 string                                 Dizziness   \n",
       "condition_meddra_id         string                                  10013573   \n",
       "page_size                  integer               Results per page          1   \n",
       "page                       integer  Page number (starting with 1)          1   \n",
       "\n",
       "                         options default  required  \n",
       "parameter name                                      \n",
       "drugbank_id                                  False  \n",
       "drug_label                                   False  \n",
       "prr                                          False  \n",
       "mean_reporting_frequency                     False  \n",
       "side_effect                                  False  \n",
       "condition_meddra_id                          False  \n",
       "page_size                           10.0     False  \n",
       "page                                 1.0     False  "
      ]
     },
     "metadata": {},
     "output_type": "display_data"
    },
    {
     "data": {
      "text/html": [
       "<b>Example URL:</b> <a href=\"http://0.0.0.0:5000/api/v1/offsides/ebel/relation?drugbank_id=DB00843&drug_label=Donepezil&prr=1.05344&mean_reporting_frequency=0.0446238&side_effect=Dizziness&condition_meddra_id=10013573&page_size=1&page=1\">http://0.0.0.0:5000/api/v1/offsides/ebel/relation?drugbank_id=DB00843&drug_label=Donepezil&prr=1.05344&mean_reporting_frequency=0.0446238&side_effect=Dizziness&condition_meddra_id=10013573&page_size=1&page=1</a>"
      ],
      "text/plain": [
       "<IPython.core.display.HTML object>"
      ]
     },
     "metadata": {},
     "output_type": "display_data"
    },
    {
     "data": {
      "text/html": [
       "<b style=\"color: rgb(98,98,98); text-decoration: underline;\">Example response:</b>"
      ],
      "text/plain": [
       "<IPython.core.display.HTML object>"
      ]
     },
     "metadata": {},
     "output_type": "display_data"
    },
    {
     "name": "stdout",
     "output_type": "stream",
     "text": [
      "{\u001b[38;5;124m'\u001b[39m\u001b[38;5;124mnumber_of_results\u001b[39m\u001b[38;5;124m'\u001b[39m: \u001b[38;5;241m0\u001b[39m, \u001b[38;5;124m'\u001b[39m\u001b[38;5;124mpage\u001b[39m\u001b[38;5;124m'\u001b[39m: \u001b[38;5;241m1\u001b[39m, \u001b[38;5;124m'\u001b[39m\u001b[38;5;124mpage_size\u001b[39m\u001b[38;5;124m'\u001b[39m: \u001b[38;5;241m1\u001b[39m, \u001b[38;5;124m'\u001b[39m\u001b[38;5;124mpages\u001b[39m\u001b[38;5;124m'\u001b[39m: \u001b[38;5;241m0\u001b[39m, \u001b[38;5;124m'\u001b[39m\u001b[38;5;124mresults\u001b[39m\u001b[38;5;124m'\u001b[39m: []}\n",
      "\n",
      "For further testing go to http://0.0.0.0:5000/ui/#/e(BE:L)/ebel.web.api.ebel.v1.offsides.get_ebel_relation\n"
     ]
    },
    {
     "data": {
      "text/html": [
       "<h2>20. Pathway Commons e(BE:L) relations</h2>"
      ],
      "text/plain": [
       "<IPython.core.display.HTML object>"
      ]
     },
     "metadata": {},
     "output_type": "display_data"
    },
    {
     "data": {
      "text/html": [
       "<b style=\"color: rgb(98,98,98); text-decoration: underline;\">Description:</b> <p>Pathway Commons e(BE:L) relations</p>"
      ],
      "text/plain": [
       "<IPython.core.display.HTML object>"
      ]
     },
     "metadata": {},
     "output_type": "display_data"
    },
    {
     "data": {
      "text/html": [
       "<b>Tags:</b> ['Pathway Commons', 'e(BE:L)']"
      ],
      "text/plain": [
       "<IPython.core.display.HTML object>"
      ]
     },
     "metadata": {},
     "output_type": "display_data"
    },
    {
     "data": {
      "text/html": [
       "<b>Server path:</b> /api/v1/pathway_commons/ebel/relation"
      ],
      "text/plain": [
       "<IPython.core.display.HTML object>"
      ]
     },
     "metadata": {},
     "output_type": "display_data"
    },
    {
     "data": {
      "text/html": [
       "<div>\n",
       "<style scoped>\n",
       "    .dataframe tbody tr th:only-of-type {\n",
       "        vertical-align: middle;\n",
       "    }\n",
       "\n",
       "    .dataframe tbody tr th {\n",
       "        vertical-align: top;\n",
       "    }\n",
       "\n",
       "    .dataframe thead th {\n",
       "        text-align: right;\n",
       "    }\n",
       "</style>\n",
       "<table border=\"1\" class=\"dataframe\">\n",
       "  <thead>\n",
       "    <tr style=\"text-align: right;\">\n",
       "      <th></th>\n",
       "      <th>data type</th>\n",
       "      <th>description</th>\n",
       "      <th>example</th>\n",
       "      <th>options</th>\n",
       "      <th>default</th>\n",
       "      <th>required</th>\n",
       "    </tr>\n",
       "    <tr>\n",
       "      <th>parameter name</th>\n",
       "      <th></th>\n",
       "      <th></th>\n",
       "      <th></th>\n",
       "      <th></th>\n",
       "      <th></th>\n",
       "      <th></th>\n",
       "    </tr>\n",
       "  </thead>\n",
       "  <tbody>\n",
       "    <tr>\n",
       "      <th>interactor_a_namespace</th>\n",
       "      <td>string</td>\n",
       "      <td></td>\n",
       "      <td>HGNC</td>\n",
       "      <td></td>\n",
       "      <td></td>\n",
       "      <td>False</td>\n",
       "    </tr>\n",
       "    <tr>\n",
       "      <th>interactor_a_name</th>\n",
       "      <td>string</td>\n",
       "      <td></td>\n",
       "      <td>LCK</td>\n",
       "      <td></td>\n",
       "      <td></td>\n",
       "      <td>False</td>\n",
       "    </tr>\n",
       "    <tr>\n",
       "      <th>source</th>\n",
       "      <td>string</td>\n",
       "      <td></td>\n",
       "      <td>PhosphoSite</td>\n",
       "      <td></td>\n",
       "      <td></td>\n",
       "      <td>False</td>\n",
       "    </tr>\n",
       "    <tr>\n",
       "      <th>pmid</th>\n",
       "      <td>integer</td>\n",
       "      <td></td>\n",
       "      <td>10206955</td>\n",
       "      <td></td>\n",
       "      <td></td>\n",
       "      <td>False</td>\n",
       "    </tr>\n",
       "    <tr>\n",
       "      <th>pathway</th>\n",
       "      <td>string</td>\n",
       "      <td></td>\n",
       "      <td></td>\n",
       "      <td></td>\n",
       "      <td></td>\n",
       "      <td>False</td>\n",
       "    </tr>\n",
       "    <tr>\n",
       "      <th>relation_type</th>\n",
       "      <td>string</td>\n",
       "      <td></td>\n",
       "      <td>controls-phosphorylation-of</td>\n",
       "      <td>[controls-transport-of, controls-expression-of...</td>\n",
       "      <td></td>\n",
       "      <td>False</td>\n",
       "    </tr>\n",
       "    <tr>\n",
       "      <th>interactor_b_namespace</th>\n",
       "      <td>string</td>\n",
       "      <td></td>\n",
       "      <td>HGNC</td>\n",
       "      <td></td>\n",
       "      <td></td>\n",
       "      <td>False</td>\n",
       "    </tr>\n",
       "    <tr>\n",
       "      <th>interactor_b_name</th>\n",
       "      <td>string</td>\n",
       "      <td></td>\n",
       "      <td>CD33</td>\n",
       "      <td></td>\n",
       "      <td></td>\n",
       "      <td>False</td>\n",
       "    </tr>\n",
       "    <tr>\n",
       "      <th>page_size</th>\n",
       "      <td>integer</td>\n",
       "      <td>Results per page</td>\n",
       "      <td>1</td>\n",
       "      <td></td>\n",
       "      <td>10.0</td>\n",
       "      <td>False</td>\n",
       "    </tr>\n",
       "    <tr>\n",
       "      <th>page</th>\n",
       "      <td>integer</td>\n",
       "      <td>Page number (starting with 1)</td>\n",
       "      <td>1</td>\n",
       "      <td></td>\n",
       "      <td>1.0</td>\n",
       "      <td>False</td>\n",
       "    </tr>\n",
       "  </tbody>\n",
       "</table>\n",
       "</div>"
      ],
      "text/plain": [
       "                       data type                    description  \\\n",
       "parameter name                                                    \n",
       "interactor_a_namespace    string                                  \n",
       "interactor_a_name         string                                  \n",
       "source                    string                                  \n",
       "pmid                     integer                                  \n",
       "pathway                   string                                  \n",
       "relation_type             string                                  \n",
       "interactor_b_namespace    string                                  \n",
       "interactor_b_name         string                                  \n",
       "page_size                integer               Results per page   \n",
       "page                     integer  Page number (starting with 1)   \n",
       "\n",
       "                                            example  \\\n",
       "parameter name                                        \n",
       "interactor_a_namespace                         HGNC   \n",
       "interactor_a_name                               LCK   \n",
       "source                                  PhosphoSite   \n",
       "pmid                                       10206955   \n",
       "pathway                                               \n",
       "relation_type           controls-phosphorylation-of   \n",
       "interactor_b_namespace                         HGNC   \n",
       "interactor_b_name                              CD33   \n",
       "page_size                                         1   \n",
       "page                                              1   \n",
       "\n",
       "                                                                  options  \\\n",
       "parameter name                                                              \n",
       "interactor_a_namespace                                                      \n",
       "interactor_a_name                                                           \n",
       "source                                                                      \n",
       "pmid                                                                        \n",
       "pathway                                                                     \n",
       "relation_type           [controls-transport-of, controls-expression-of...   \n",
       "interactor_b_namespace                                                      \n",
       "interactor_b_name                                                           \n",
       "page_size                                                                   \n",
       "page                                                                        \n",
       "\n",
       "                       default  required  \n",
       "parameter name                            \n",
       "interactor_a_namespace             False  \n",
       "interactor_a_name                  False  \n",
       "source                             False  \n",
       "pmid                               False  \n",
       "pathway                            False  \n",
       "relation_type                      False  \n",
       "interactor_b_namespace             False  \n",
       "interactor_b_name                  False  \n",
       "page_size                 10.0     False  \n",
       "page                       1.0     False  "
      ]
     },
     "metadata": {},
     "output_type": "display_data"
    },
    {
     "data": {
      "text/html": [
       "<b>Example URL:</b> <a href=\"http://0.0.0.0:5000/api/v1/pathway_commons/ebel/relation?interactor_a_namespace=HGNC&interactor_a_name=LCK&source=PhosphoSite&pmid=10206955&relation_type=controls-phosphorylation-of&interactor_b_namespace=HGNC&interactor_b_name=CD33&page_size=1&page=1\">http://0.0.0.0:5000/api/v1/pathway_commons/ebel/relation?interactor_a_namespace=HGNC&interactor_a_name=LCK&source=PhosphoSite&pmid=10206955&relation_type=controls-phosphorylation-of&interactor_b_namespace=HGNC&interactor_b_name=CD33&page_size=1&page=1</a>"
      ],
      "text/plain": [
       "<IPython.core.display.HTML object>"
      ]
     },
     "metadata": {},
     "output_type": "display_data"
    },
    {
     "data": {
      "text/html": [
       "<b style=\"color: rgb(98,98,98); text-decoration: underline;\">Example response:</b>"
      ],
      "text/plain": [
       "<IPython.core.display.HTML object>"
      ]
     },
     "metadata": {},
     "output_type": "display_data"
    },
    {
     "name": "stdout",
     "output_type": "stream",
     "text": [
      "{\u001b[38;5;124m'\u001b[39m\u001b[38;5;124mnumber_of_results\u001b[39m\u001b[38;5;124m'\u001b[39m: \u001b[38;5;241m1\u001b[39m,\n",
      " \u001b[38;5;124m'\u001b[39m\u001b[38;5;124mpage\u001b[39m\u001b[38;5;124m'\u001b[39m: \u001b[38;5;241m1\u001b[39m,\n",
      " \u001b[38;5;124m'\u001b[39m\u001b[38;5;124mpage_size\u001b[39m\u001b[38;5;124m'\u001b[39m: \u001b[38;5;241m1\u001b[39m,\n",
      " \u001b[38;5;124m'\u001b[39m\u001b[38;5;124mpages\u001b[39m\u001b[38;5;124m'\u001b[39m: \u001b[38;5;241m1\u001b[39m,\n",
      " \u001b[38;5;124m'\u001b[39m\u001b[38;5;124mresults\u001b[39m\u001b[38;5;124m'\u001b[39m: [{\u001b[38;5;124m'\u001b[39m\u001b[38;5;124minteractor_a_name\u001b[39m\u001b[38;5;124m'\u001b[39m: \u001b[38;5;124m'\u001b[39m\u001b[38;5;124mLCK\u001b[39m\u001b[38;5;124m'\u001b[39m,\n",
      "              \u001b[38;5;124m'\u001b[39m\u001b[38;5;124minteractor_a_namespace\u001b[39m\u001b[38;5;124m'\u001b[39m: \u001b[38;5;124m'\u001b[39m\u001b[38;5;124mHGNC\u001b[39m\u001b[38;5;124m'\u001b[39m,\n",
      "              \u001b[38;5;124m'\u001b[39m\u001b[38;5;124minteractor_b_name\u001b[39m\u001b[38;5;124m'\u001b[39m: \u001b[38;5;124m'\u001b[39m\u001b[38;5;124mCD33\u001b[39m\u001b[38;5;124m'\u001b[39m,\n",
      "              \u001b[38;5;124m'\u001b[39m\u001b[38;5;124minteractor_b_namespace\u001b[39m\u001b[38;5;124m'\u001b[39m: \u001b[38;5;124m'\u001b[39m\u001b[38;5;124mHGNC\u001b[39m\u001b[38;5;124m'\u001b[39m,\n",
      "              \u001b[38;5;124m'\u001b[39m\u001b[38;5;124mpathways\u001b[39m\u001b[38;5;124m'\u001b[39m: [],\n",
      "              \u001b[38;5;124m'\u001b[39m\u001b[38;5;124mpmids\u001b[39m\u001b[38;5;124m'\u001b[39m: [\u001b[38;5;241m10206955\u001b[39m, \u001b[38;5;241m10887109\u001b[39m],\n",
      "              \u001b[38;5;124m'\u001b[39m\u001b[38;5;124mrelation_type\u001b[39m\u001b[38;5;124m'\u001b[39m: \u001b[38;5;124m'\u001b[39m\u001b[38;5;124mcontrols-phosphorylation-of\u001b[39m\u001b[38;5;124m'\u001b[39m,\n",
      "              \u001b[38;5;124m'\u001b[39m\u001b[38;5;124msources\u001b[39m\u001b[38;5;124m'\u001b[39m: [\u001b[38;5;124m'\u001b[39m\u001b[38;5;124mPhosphoSite\u001b[39m\u001b[38;5;124m'\u001b[39m]}]}\n",
      "\n",
      "For further testing go to http://0.0.0.0:5000/ui/#/e(BE:L)/ebel.web.api.ebel.v1.pathway_commons.get_ebel_relation\n"
     ]
    },
    {
     "data": {
      "text/html": [
       "<h2>21. Reactome by pathway name</h2>"
      ],
      "text/plain": [
       "<IPython.core.display.HTML object>"
      ]
     },
     "metadata": {},
     "output_type": "display_data"
    },
    {
     "data": {
      "text/html": [
       "<b style=\"color: rgb(98,98,98); text-decoration: underline;\">Description:</b> <p>Reactome by pathway name</p>"
      ],
      "text/plain": [
       "<IPython.core.display.HTML object>"
      ]
     },
     "metadata": {},
     "output_type": "display_data"
    },
    {
     "data": {
      "text/html": [
       "<b>Tags:</b> ['Reactome', 'e(BE:L)']"
      ],
      "text/plain": [
       "<IPython.core.display.HTML object>"
      ]
     },
     "metadata": {},
     "output_type": "display_data"
    },
    {
     "data": {
      "text/html": [
       "<b>Server path:</b> /api/v1/reactome/bel/node/by_pathway_name"
      ],
      "text/plain": [
       "<IPython.core.display.HTML object>"
      ]
     },
     "metadata": {},
     "output_type": "display_data"
    },
    {
     "data": {
      "text/html": [
       "<div>\n",
       "<style scoped>\n",
       "    .dataframe tbody tr th:only-of-type {\n",
       "        vertical-align: middle;\n",
       "    }\n",
       "\n",
       "    .dataframe tbody tr th {\n",
       "        vertical-align: top;\n",
       "    }\n",
       "\n",
       "    .dataframe thead th {\n",
       "        text-align: right;\n",
       "    }\n",
       "</style>\n",
       "<table border=\"1\" class=\"dataframe\">\n",
       "  <thead>\n",
       "    <tr style=\"text-align: right;\">\n",
       "      <th></th>\n",
       "      <th>data type</th>\n",
       "      <th>description</th>\n",
       "      <th>example</th>\n",
       "      <th>options</th>\n",
       "      <th>default</th>\n",
       "      <th>required</th>\n",
       "    </tr>\n",
       "    <tr>\n",
       "      <th>parameter name</th>\n",
       "      <th></th>\n",
       "      <th></th>\n",
       "      <th></th>\n",
       "      <th></th>\n",
       "      <th></th>\n",
       "      <th></th>\n",
       "    </tr>\n",
       "  </thead>\n",
       "  <tbody>\n",
       "    <tr>\n",
       "      <th>pathway_name</th>\n",
       "      <td>string</td>\n",
       "      <td></td>\n",
       "      <td>NF-kB is activated and signals survival</td>\n",
       "      <td></td>\n",
       "      <td></td>\n",
       "      <td>False</td>\n",
       "    </tr>\n",
       "    <tr>\n",
       "      <th>page_size</th>\n",
       "      <td>integer</td>\n",
       "      <td>Results per page</td>\n",
       "      <td>1</td>\n",
       "      <td></td>\n",
       "      <td>10.0</td>\n",
       "      <td>False</td>\n",
       "    </tr>\n",
       "    <tr>\n",
       "      <th>page</th>\n",
       "      <td>integer</td>\n",
       "      <td>Page number (starting with 1)</td>\n",
       "      <td>1</td>\n",
       "      <td></td>\n",
       "      <td>1.0</td>\n",
       "      <td>False</td>\n",
       "    </tr>\n",
       "  </tbody>\n",
       "</table>\n",
       "</div>"
      ],
      "text/plain": [
       "               data type                    description  \\\n",
       "parameter name                                            \n",
       "pathway_name      string                                  \n",
       "page_size        integer               Results per page   \n",
       "page             integer  Page number (starting with 1)   \n",
       "\n",
       "                                                example options default  \\\n",
       "parameter name                                                            \n",
       "pathway_name    NF-kB is activated and signals survival                   \n",
       "page_size                                             1            10.0   \n",
       "page                                                  1             1.0   \n",
       "\n",
       "                required  \n",
       "parameter name            \n",
       "pathway_name       False  \n",
       "page_size          False  \n",
       "page               False  "
      ]
     },
     "metadata": {},
     "output_type": "display_data"
    },
    {
     "data": {
      "text/html": [
       "<b>Example URL:</b> <a href=\"http://0.0.0.0:5000/api/v1/reactome/bel/node/by_pathway_name?pathway_name=NF-kB+is+activated+and+signals+survival&page_size=1&page=1\">http://0.0.0.0:5000/api/v1/reactome/bel/node/by_pathway_name?pathway_name=NF-kB+is+activated+and+signals+survival&page_size=1&page=1</a>"
      ],
      "text/plain": [
       "<IPython.core.display.HTML object>"
      ]
     },
     "metadata": {},
     "output_type": "display_data"
    },
    {
     "data": {
      "text/html": [
       "<b style=\"color: rgb(98,98,98); text-decoration: underline;\">Example response:</b>"
      ],
      "text/plain": [
       "<IPython.core.display.HTML object>"
      ]
     },
     "metadata": {},
     "output_type": "display_data"
    },
    {
     "name": "stdout",
     "output_type": "stream",
     "text": [
      "{\u001b[38;5;124m'\u001b[39m\u001b[38;5;124mnumber_of_results\u001b[39m\u001b[38;5;124m'\u001b[39m: \u001b[38;5;241m9\u001b[39m,\n",
      " \u001b[38;5;124m'\u001b[39m\u001b[38;5;124mpage\u001b[39m\u001b[38;5;124m'\u001b[39m: \u001b[38;5;241m1\u001b[39m,\n",
      " \u001b[38;5;124m'\u001b[39m\u001b[38;5;124mpage_size\u001b[39m\u001b[38;5;124m'\u001b[39m: \u001b[38;5;241m1\u001b[39m,\n",
      " \u001b[38;5;124m'\u001b[39m\u001b[38;5;124mpages\u001b[39m\u001b[38;5;124m'\u001b[39m: \u001b[38;5;241m9\u001b[39m,\n",
      " \u001b[38;5;124m'\u001b[39m\u001b[38;5;124mresults\u001b[39m\u001b[38;5;124m'\u001b[39m: [{\u001b[38;5;124m'\u001b[39m\u001b[38;5;124mbel\u001b[39m\u001b[38;5;124m'\u001b[39m: \u001b[38;5;124m'\u001b[39m\u001b[38;5;124mp(HGNC:\u001b[39m\u001b[38;5;124m\"\u001b[39m\u001b[38;5;124mRELA\u001b[39m\u001b[38;5;124m\"\u001b[39m\u001b[38;5;124m)\u001b[39m\u001b[38;5;124m'\u001b[39m,\n",
      "              \u001b[38;5;124m'\u001b[39m\u001b[38;5;124mname\u001b[39m\u001b[38;5;124m'\u001b[39m: \u001b[38;5;124m'\u001b[39m\u001b[38;5;124mRELA\u001b[39m\u001b[38;5;124m'\u001b[39m,\n",
      "              \u001b[38;5;124m'\u001b[39m\u001b[38;5;124mnamespace\u001b[39m\u001b[38;5;124m'\u001b[39m: \u001b[38;5;124m'\u001b[39m\u001b[38;5;124mHGNC\u001b[39m\u001b[38;5;124m'\u001b[39m,\n",
      "              \u001b[38;5;124m'\u001b[39m\u001b[38;5;124mreactome_pathways\u001b[39m\u001b[38;5;124m'\u001b[39m: [\u001b[38;5;124m'\u001b[39m\u001b[38;5;124mNF-kB is activated and signals survival\u001b[39m\u001b[38;5;124m'\u001b[39m,\n",
      "                                    \u001b[38;5;124m'\u001b[39m\u001b[38;5;124mTranscriptional Regulation by VENTX\u001b[39m\u001b[38;5;124m'\u001b[39m,\n",
      "                                    \u001b[38;5;124m'\u001b[39m\u001b[38;5;124mFCERI mediated NF-kB activation\u001b[39m\u001b[38;5;124m'\u001b[39m,\n",
      "                                    \u001b[38;5;124m'\u001b[39m\u001b[38;5;124mSenescence-Associated Secretory Phenotype \u001b[39m\u001b[38;5;124m'\u001b[39m\n",
      "                                    \u001b[38;5;124m'\u001b[39m\u001b[38;5;124m(SASP)\u001b[39m\u001b[38;5;124m'\u001b[39m,\n",
      "                                    \u001b[38;5;124m'\u001b[39m\u001b[38;5;124mDectin-1 mediated noncanonical NF-kB \u001b[39m\u001b[38;5;124m'\u001b[39m\n",
      "                                    \u001b[38;5;124m'\u001b[39m\u001b[38;5;124msignaling\u001b[39m\u001b[38;5;124m'\u001b[39m,\n",
      "                                    \u001b[38;5;124m'\u001b[39m\u001b[38;5;124mTRAF6 mediated NF-kB activation\u001b[39m\u001b[38;5;124m'\u001b[39m,\n",
      "                                    \u001b[38;5;124m'\u001b[39m\u001b[38;5;124mCLEC7A (Dectin-1) signaling\u001b[39m\u001b[38;5;124m'\u001b[39m,\n",
      "                                    \u001b[38;5;124m'\u001b[39m\u001b[38;5;124mRegulated proteolysis of p75NTR\u001b[39m\u001b[38;5;124m'\u001b[39m,\n",
      "                                    \u001b[38;5;124m'\u001b[39m\u001b[38;5;124mCD209 (DC-SIGN) signaling\u001b[39m\u001b[38;5;124m'\u001b[39m,\n",
      "                                    \u001b[38;5;124m'\u001b[39m\u001b[38;5;124mActivation of NF-kappaB in B cells\u001b[39m\u001b[38;5;124m'\u001b[39m,\n",
      "                                    \u001b[38;5;124m'\u001b[39m\u001b[38;5;124mRIP-mediated NFkB activation via ZBP1\u001b[39m\u001b[38;5;124m'\u001b[39m,\n",
      "                                    \u001b[38;5;124m'\u001b[39m\u001b[38;5;124mSUMOylation of immune response proteins\u001b[39m\u001b[38;5;124m'\u001b[39m,\n",
      "                                    \u001b[38;5;124m'\u001b[39m\u001b[38;5;124mInterleukin-1 signaling\u001b[39m\u001b[38;5;124m'\u001b[39m,\n",
      "                                    \u001b[38;5;124m'\u001b[39m\u001b[38;5;124mCLEC7A/inflammasome pathway\u001b[39m\u001b[38;5;124m'\u001b[39m,\n",
      "                                    \u001b[38;5;124m'\u001b[39m\u001b[38;5;124mTAK1 activates NFkB by phosphorylation \u001b[39m\u001b[38;5;124m'\u001b[39m\n",
      "                                    \u001b[38;5;124m'\u001b[39m\u001b[38;5;124mand activation of IKKs complex\u001b[39m\u001b[38;5;124m'\u001b[39m,\n",
      "                                    \u001b[38;5;124m'\u001b[39m\u001b[38;5;124mPKMTs methylate histone lysines\u001b[39m\u001b[38;5;124m'\u001b[39m,\n",
      "                                    \u001b[38;5;124m'\u001b[39m\u001b[38;5;124mIkBA variant leads to EDA-ID\u001b[39m\u001b[38;5;124m'\u001b[39m,\n",
      "                                    \u001b[38;5;124m'\u001b[39m\u001b[38;5;124mThe NLRP3 inflammasome\u001b[39m\u001b[38;5;124m'\u001b[39m,\n",
      "                                    \u001b[38;5;124m'\u001b[39m\u001b[38;5;124mTranscriptional regulation of white \u001b[39m\u001b[38;5;124m'\u001b[39m\n",
      "                                    \u001b[38;5;124m'\u001b[39m\u001b[38;5;124madipocyte differentiation\u001b[39m\u001b[38;5;124m'\u001b[39m,\n",
      "                                    \u001b[38;5;124m'\u001b[39m\u001b[38;5;124mDEx/H-box helicases activate type I IFN \u001b[39m\u001b[38;5;124m'\u001b[39m\n",
      "                                    \u001b[38;5;124m'\u001b[39m\u001b[38;5;124mand inflammatory cytokines production\u001b[39m\u001b[38;5;124m'\u001b[39m,\n",
      "                                    \u001b[38;5;124m'\u001b[39m\u001b[38;5;124mInterleukin-1 processing\u001b[39m\u001b[38;5;124m'\u001b[39m,\n",
      "                                    \u001b[38;5;124m'\u001b[39m\u001b[38;5;124mDownstream TCR signaling\u001b[39m\u001b[38;5;124m'\u001b[39m,\n",
      "                                    \u001b[38;5;124m'\u001b[39m\u001b[38;5;124mPurinergic signaling in leishmaniasis \u001b[39m\u001b[38;5;124m'\u001b[39m\n",
      "                                    \u001b[38;5;124m'\u001b[39m\u001b[38;5;124minfection\u001b[39m\u001b[38;5;124m'\u001b[39m],\n",
      "              \u001b[38;5;124m'\u001b[39m\u001b[38;5;124mrid\u001b[39m\u001b[38;5;124m'\u001b[39m: \u001b[38;5;124m'\u001b[39m\u001b[38;5;124m#186:1\u001b[39m\u001b[38;5;124m'\u001b[39m}]}\n",
      "\n",
      "For further testing go to http://0.0.0.0:5000/ui/#/e(BE:L)/ebel.web.api.ebel.v1.reactome.get_bel_node_by_pathway_name\n"
     ]
    },
    {
     "data": {
      "text/html": [
       "<h2>22. STRING db e(BE:L) relation</h2>"
      ],
      "text/plain": [
       "<IPython.core.display.HTML object>"
      ]
     },
     "metadata": {},
     "output_type": "display_data"
    },
    {
     "data": {
      "text/html": [
       "<b style=\"color: rgb(98,98,98); text-decoration: underline;\">Description:</b> <p>STRING db e(BE:L) relation</p>"
      ],
      "text/plain": [
       "<IPython.core.display.HTML object>"
      ]
     },
     "metadata": {},
     "output_type": "display_data"
    },
    {
     "data": {
      "text/html": [
       "<b>Tags:</b> ['STRING', 'e(BE:L)']"
      ],
      "text/plain": [
       "<IPython.core.display.HTML object>"
      ]
     },
     "metadata": {},
     "output_type": "display_data"
    },
    {
     "data": {
      "text/html": [
       "<b>Server path:</b> /api/v1/string/ebel/relation"
      ],
      "text/plain": [
       "<IPython.core.display.HTML object>"
      ]
     },
     "metadata": {},
     "output_type": "display_data"
    },
    {
     "data": {
      "text/html": [
       "<div>\n",
       "<style scoped>\n",
       "    .dataframe tbody tr th:only-of-type {\n",
       "        vertical-align: middle;\n",
       "    }\n",
       "\n",
       "    .dataframe tbody tr th {\n",
       "        vertical-align: top;\n",
       "    }\n",
       "\n",
       "    .dataframe thead th {\n",
       "        text-align: right;\n",
       "    }\n",
       "</style>\n",
       "<table border=\"1\" class=\"dataframe\">\n",
       "  <thead>\n",
       "    <tr style=\"text-align: right;\">\n",
       "      <th></th>\n",
       "      <th>data type</th>\n",
       "      <th>description</th>\n",
       "      <th>example</th>\n",
       "      <th>options</th>\n",
       "      <th>default</th>\n",
       "      <th>required</th>\n",
       "    </tr>\n",
       "    <tr>\n",
       "      <th>parameter name</th>\n",
       "      <th></th>\n",
       "      <th></th>\n",
       "      <th></th>\n",
       "      <th></th>\n",
       "      <th></th>\n",
       "      <th></th>\n",
       "    </tr>\n",
       "  </thead>\n",
       "  <tbody>\n",
       "    <tr>\n",
       "      <th>interactor_a_rid</th>\n",
       "      <td>string</td>\n",
       "      <td></td>\n",
       "      <td></td>\n",
       "      <td></td>\n",
       "      <td></td>\n",
       "      <td>False</td>\n",
       "    </tr>\n",
       "    <tr>\n",
       "      <th>interactor_a_namespace</th>\n",
       "      <td>string</td>\n",
       "      <td></td>\n",
       "      <td>HGNC</td>\n",
       "      <td></td>\n",
       "      <td></td>\n",
       "      <td>False</td>\n",
       "    </tr>\n",
       "    <tr>\n",
       "      <th>interactor_a_name</th>\n",
       "      <td>string</td>\n",
       "      <td></td>\n",
       "      <td>MAPK1</td>\n",
       "      <td></td>\n",
       "      <td></td>\n",
       "      <td>False</td>\n",
       "    </tr>\n",
       "    <tr>\n",
       "      <th>interactor_a_uniprot</th>\n",
       "      <td>string</td>\n",
       "      <td></td>\n",
       "      <td>P28482</td>\n",
       "      <td></td>\n",
       "      <td></td>\n",
       "      <td>False</td>\n",
       "    </tr>\n",
       "    <tr>\n",
       "      <th>relation</th>\n",
       "      <td>string</td>\n",
       "      <td></td>\n",
       "      <td>controls_pmod_of_st</td>\n",
       "      <td>[activates_st, controls_pmod_of_st, decreases_...</td>\n",
       "      <td></td>\n",
       "      <td>False</td>\n",
       "    </tr>\n",
       "    <tr>\n",
       "      <th>score</th>\n",
       "      <td>integer</td>\n",
       "      <td></td>\n",
       "      <td>800</td>\n",
       "      <td></td>\n",
       "      <td></td>\n",
       "      <td>False</td>\n",
       "    </tr>\n",
       "    <tr>\n",
       "      <th>interactor_b_namespace</th>\n",
       "      <td>string</td>\n",
       "      <td></td>\n",
       "      <td>HGNC</td>\n",
       "      <td></td>\n",
       "      <td></td>\n",
       "      <td>False</td>\n",
       "    </tr>\n",
       "    <tr>\n",
       "      <th>interactor_b_name</th>\n",
       "      <td>string</td>\n",
       "      <td></td>\n",
       "      <td>MAPT</td>\n",
       "      <td></td>\n",
       "      <td></td>\n",
       "      <td>False</td>\n",
       "    </tr>\n",
       "    <tr>\n",
       "      <th>interactor_b_uniprot</th>\n",
       "      <td>string</td>\n",
       "      <td></td>\n",
       "      <td>P10636</td>\n",
       "      <td></td>\n",
       "      <td></td>\n",
       "      <td>False</td>\n",
       "    </tr>\n",
       "    <tr>\n",
       "      <th>page_size</th>\n",
       "      <td>integer</td>\n",
       "      <td>Results per page</td>\n",
       "      <td>1</td>\n",
       "      <td></td>\n",
       "      <td>10.0</td>\n",
       "      <td>False</td>\n",
       "    </tr>\n",
       "    <tr>\n",
       "      <th>page</th>\n",
       "      <td>integer</td>\n",
       "      <td>Page number (starting with 1)</td>\n",
       "      <td>1</td>\n",
       "      <td></td>\n",
       "      <td>1.0</td>\n",
       "      <td>False</td>\n",
       "    </tr>\n",
       "  </tbody>\n",
       "</table>\n",
       "</div>"
      ],
      "text/plain": [
       "                       data type                    description  \\\n",
       "parameter name                                                    \n",
       "interactor_a_rid          string                                  \n",
       "interactor_a_namespace    string                                  \n",
       "interactor_a_name         string                                  \n",
       "interactor_a_uniprot      string                                  \n",
       "relation                  string                                  \n",
       "score                    integer                                  \n",
       "interactor_b_namespace    string                                  \n",
       "interactor_b_name         string                                  \n",
       "interactor_b_uniprot      string                                  \n",
       "page_size                integer               Results per page   \n",
       "page                     integer  Page number (starting with 1)   \n",
       "\n",
       "                                    example  \\\n",
       "parameter name                                \n",
       "interactor_a_rid                              \n",
       "interactor_a_namespace                 HGNC   \n",
       "interactor_a_name                     MAPK1   \n",
       "interactor_a_uniprot                 P28482   \n",
       "relation                controls_pmod_of_st   \n",
       "score                                   800   \n",
       "interactor_b_namespace                 HGNC   \n",
       "interactor_b_name                      MAPT   \n",
       "interactor_b_uniprot                 P10636   \n",
       "page_size                                 1   \n",
       "page                                      1   \n",
       "\n",
       "                                                                  options  \\\n",
       "parameter name                                                              \n",
       "interactor_a_rid                                                            \n",
       "interactor_a_namespace                                                      \n",
       "interactor_a_name                                                           \n",
       "interactor_a_uniprot                                                        \n",
       "relation                [activates_st, controls_pmod_of_st, decreases_...   \n",
       "score                                                                       \n",
       "interactor_b_namespace                                                      \n",
       "interactor_b_name                                                           \n",
       "interactor_b_uniprot                                                        \n",
       "page_size                                                                   \n",
       "page                                                                        \n",
       "\n",
       "                       default  required  \n",
       "parameter name                            \n",
       "interactor_a_rid                   False  \n",
       "interactor_a_namespace             False  \n",
       "interactor_a_name                  False  \n",
       "interactor_a_uniprot               False  \n",
       "relation                           False  \n",
       "score                              False  \n",
       "interactor_b_namespace             False  \n",
       "interactor_b_name                  False  \n",
       "interactor_b_uniprot               False  \n",
       "page_size                 10.0     False  \n",
       "page                       1.0     False  "
      ]
     },
     "metadata": {},
     "output_type": "display_data"
    },
    {
     "data": {
      "text/html": [
       "<b>Example URL:</b> <a href=\"http://0.0.0.0:5000/api/v1/string/ebel/relation?interactor_a_namespace=HGNC&interactor_a_name=MAPK1&interactor_a_uniprot=P28482&relation=controls_pmod_of_st&score=800&interactor_b_namespace=HGNC&interactor_b_name=MAPT&interactor_b_uniprot=P10636&page_size=1&page=1\">http://0.0.0.0:5000/api/v1/string/ebel/relation?interactor_a_namespace=HGNC&interactor_a_name=MAPK1&interactor_a_uniprot=P28482&relation=controls_pmod_of_st&score=800&interactor_b_namespace=HGNC&interactor_b_name=MAPT&interactor_b_uniprot=P10636&page_size=1&page=1</a>"
      ],
      "text/plain": [
       "<IPython.core.display.HTML object>"
      ]
     },
     "metadata": {},
     "output_type": "display_data"
    },
    {
     "data": {
      "text/html": [
       "<b style=\"color: rgb(98,98,98); text-decoration: underline;\">Example response:</b>"
      ],
      "text/plain": [
       "<IPython.core.display.HTML object>"
      ]
     },
     "metadata": {},
     "output_type": "display_data"
    },
    {
     "name": "stdout",
     "output_type": "stream",
     "text": [
      "{\u001b[38;5;124m'\u001b[39m\u001b[38;5;124mnumber_of_results\u001b[39m\u001b[38;5;124m'\u001b[39m: \u001b[38;5;241m1\u001b[39m,\n",
      " \u001b[38;5;124m'\u001b[39m\u001b[38;5;124mpage\u001b[39m\u001b[38;5;124m'\u001b[39m: \u001b[38;5;241m1\u001b[39m,\n",
      " \u001b[38;5;124m'\u001b[39m\u001b[38;5;124mpage_size\u001b[39m\u001b[38;5;124m'\u001b[39m: \u001b[38;5;241m1\u001b[39m,\n",
      " \u001b[38;5;124m'\u001b[39m\u001b[38;5;124mpages\u001b[39m\u001b[38;5;124m'\u001b[39m: \u001b[38;5;241m1\u001b[39m,\n",
      " \u001b[38;5;124m'\u001b[39m\u001b[38;5;124mresults\u001b[39m\u001b[38;5;124m'\u001b[39m: [{\u001b[38;5;124m'\u001b[39m\u001b[38;5;124medge_id\u001b[39m\u001b[38;5;124m'\u001b[39m: \u001b[38;5;124m'\u001b[39m\u001b[38;5;124m#1786:27\u001b[39m\u001b[38;5;124m'\u001b[39m,\n",
      "              \u001b[38;5;124m'\u001b[39m\u001b[38;5;124minteractor_a_name\u001b[39m\u001b[38;5;124m'\u001b[39m: \u001b[38;5;124m'\u001b[39m\u001b[38;5;124mMAPK1\u001b[39m\u001b[38;5;124m'\u001b[39m,\n",
      "              \u001b[38;5;124m'\u001b[39m\u001b[38;5;124minteractor_a_namespace\u001b[39m\u001b[38;5;124m'\u001b[39m: \u001b[38;5;124m'\u001b[39m\u001b[38;5;124mHGNC\u001b[39m\u001b[38;5;124m'\u001b[39m,\n",
      "              \u001b[38;5;124m'\u001b[39m\u001b[38;5;124minteractor_a_rid\u001b[39m\u001b[38;5;124m'\u001b[39m: \u001b[38;5;124m'\u001b[39m\u001b[38;5;124m#199:21\u001b[39m\u001b[38;5;124m'\u001b[39m,\n",
      "              \u001b[38;5;124m'\u001b[39m\u001b[38;5;124minteractor_a_uniprot\u001b[39m\u001b[38;5;124m'\u001b[39m: \u001b[38;5;124m'\u001b[39m\u001b[38;5;124mP28482\u001b[39m\u001b[38;5;124m'\u001b[39m,\n",
      "              \u001b[38;5;124m'\u001b[39m\u001b[38;5;124minteractor_b_name\u001b[39m\u001b[38;5;124m'\u001b[39m: \u001b[38;5;124m'\u001b[39m\u001b[38;5;124mMAPT\u001b[39m\u001b[38;5;124m'\u001b[39m,\n",
      "              \u001b[38;5;124m'\u001b[39m\u001b[38;5;124minteractor_b_namespace\u001b[39m\u001b[38;5;124m'\u001b[39m: \u001b[38;5;124m'\u001b[39m\u001b[38;5;124mHGNC\u001b[39m\u001b[38;5;124m'\u001b[39m,\n",
      "              \u001b[38;5;124m'\u001b[39m\u001b[38;5;124minteractor_b_rid\u001b[39m\u001b[38;5;124m'\u001b[39m: \u001b[38;5;124m'\u001b[39m\u001b[38;5;124m#190:5\u001b[39m\u001b[38;5;124m'\u001b[39m,\n",
      "              \u001b[38;5;124m'\u001b[39m\u001b[38;5;124minteractor_b_uniprot\u001b[39m\u001b[38;5;124m'\u001b[39m: \u001b[38;5;124m'\u001b[39m\u001b[38;5;124mP10636\u001b[39m\u001b[38;5;124m'\u001b[39m,\n",
      "              \u001b[38;5;124m'\u001b[39m\u001b[38;5;124mrelation\u001b[39m\u001b[38;5;124m'\u001b[39m: \u001b[38;5;124m'\u001b[39m\u001b[38;5;124mcontrols_pmod_of_st\u001b[39m\u001b[38;5;124m'\u001b[39m}]}\n",
      "\n",
      "For further testing go to http://0.0.0.0:5000/ui/#/e(BE:L)/ebel.web.api.ebel.v1.stringdb.get_ebel_relation\n"
     ]
    }
   ],
   "source": [
    "import api_doc\n",
    "api_doc.get_api_methods_by_tag('e(BE:L)')"
   ]
  }
 ],
 "metadata": {
  "kernelspec": {
   "display_name": "Python 3 (ipykernel)",
   "language": "python",
   "name": "python3"
  },
  "language_info": {
   "codemirror_mode": {
    "name": "ipython",
    "version": 3
   },
   "file_extension": ".py",
   "mimetype": "text/x-python",
   "name": "python",
   "nbconvert_exporter": "python",
   "pygments_lexer": "ipython3",
   "version": "3.8.10"
  },
  "toc": {
   "base_numbering": 1,
   "nav_menu": {},
   "number_sections": true,
   "sideBar": true,
   "skip_h1_title": true,
   "title_cell": "Table of Contents",
   "title_sidebar": "Contents",
   "toc_cell": false,
   "toc_position": {},
   "toc_section_display": true,
   "toc_window_display": false
  }
 },
 "nbformat": 4,
 "nbformat_minor": 5
}
