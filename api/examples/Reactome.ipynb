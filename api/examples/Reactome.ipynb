{
 "cells": [
  {
   "cell_type": "markdown",
   "id": "bf137ffa",
   "metadata": {},
   "source": [
    "# Reactome API methods"
   ]
  },
  {
   "cell_type": "code",
   "execution_count": 1,
   "id": "47e282e4",
   "metadata": {
    "scrolled": false
   },
   "outputs": [
    {
     "data": {
      "text/html": [
       "<h2>1. Reactome</h2>"
      ],
      "text/plain": [
       "<IPython.core.display.HTML object>"
      ]
     },
     "metadata": {},
     "output_type": "display_data"
    },
    {
     "data": {
      "text/html": [
       "<b style=\"color: rgb(98,98,98); text-decoration: underline;\">Description:</b> <p>Reactome</p>"
      ],
      "text/plain": [
       "<IPython.core.display.HTML object>"
      ]
     },
     "metadata": {},
     "output_type": "display_data"
    },
    {
     "data": {
      "text/html": [
       "<b>Tags:</b> ['Reactome']"
      ],
      "text/plain": [
       "<IPython.core.display.HTML object>"
      ]
     },
     "metadata": {},
     "output_type": "display_data"
    },
    {
     "data": {
      "text/html": [
       "<b>Server path:</b> /api/v1/reactome"
      ],
      "text/plain": [
       "<IPython.core.display.HTML object>"
      ]
     },
     "metadata": {},
     "output_type": "display_data"
    },
    {
     "data": {
      "text/html": [
       "<div>\n",
       "<style scoped>\n",
       "    .dataframe tbody tr th:only-of-type {\n",
       "        vertical-align: middle;\n",
       "    }\n",
       "\n",
       "    .dataframe tbody tr th {\n",
       "        vertical-align: top;\n",
       "    }\n",
       "\n",
       "    .dataframe thead th {\n",
       "        text-align: right;\n",
       "    }\n",
       "</style>\n",
       "<table border=\"1\" class=\"dataframe\">\n",
       "  <thead>\n",
       "    <tr style=\"text-align: right;\">\n",
       "      <th></th>\n",
       "      <th>data type</th>\n",
       "      <th>description</th>\n",
       "      <th>example</th>\n",
       "      <th>options</th>\n",
       "      <th>default</th>\n",
       "      <th>required</th>\n",
       "    </tr>\n",
       "    <tr>\n",
       "      <th>parameter name</th>\n",
       "      <th></th>\n",
       "      <th></th>\n",
       "      <th></th>\n",
       "      <th></th>\n",
       "      <th></th>\n",
       "      <th></th>\n",
       "    </tr>\n",
       "  </thead>\n",
       "  <tbody>\n",
       "    <tr>\n",
       "      <th>identifier</th>\n",
       "      <td>string</td>\n",
       "      <td></td>\n",
       "      <td>R-HSA-198933</td>\n",
       "      <td></td>\n",
       "      <td></td>\n",
       "      <td>False</td>\n",
       "    </tr>\n",
       "    <tr>\n",
       "      <th>uniprot_accession</th>\n",
       "      <td>string</td>\n",
       "      <td></td>\n",
       "      <td>P20138</td>\n",
       "      <td></td>\n",
       "      <td></td>\n",
       "      <td>False</td>\n",
       "    </tr>\n",
       "    <tr>\n",
       "      <th>organism</th>\n",
       "      <td>string</td>\n",
       "      <td></td>\n",
       "      <td>Homo sapiens</td>\n",
       "      <td></td>\n",
       "      <td></td>\n",
       "      <td>False</td>\n",
       "    </tr>\n",
       "    <tr>\n",
       "      <th>name</th>\n",
       "      <td>string</td>\n",
       "      <td></td>\n",
       "      <td>Immunoregulatory interactions between a Lympho...</td>\n",
       "      <td></td>\n",
       "      <td></td>\n",
       "      <td>False</td>\n",
       "    </tr>\n",
       "    <tr>\n",
       "      <th>evidence_type</th>\n",
       "      <td>string</td>\n",
       "      <td></td>\n",
       "      <td>TAS</td>\n",
       "      <td></td>\n",
       "      <td></td>\n",
       "      <td>False</td>\n",
       "    </tr>\n",
       "    <tr>\n",
       "      <th>page_size</th>\n",
       "      <td>integer</td>\n",
       "      <td>Results per page</td>\n",
       "      <td>1</td>\n",
       "      <td></td>\n",
       "      <td>10.0</td>\n",
       "      <td>False</td>\n",
       "    </tr>\n",
       "    <tr>\n",
       "      <th>page</th>\n",
       "      <td>integer</td>\n",
       "      <td>Page number (starting with 1)</td>\n",
       "      <td>1</td>\n",
       "      <td></td>\n",
       "      <td>1.0</td>\n",
       "      <td>False</td>\n",
       "    </tr>\n",
       "  </tbody>\n",
       "</table>\n",
       "</div>"
      ],
      "text/plain": [
       "                  data type                    description  \\\n",
       "parameter name                                               \n",
       "identifier           string                                  \n",
       "uniprot_accession    string                                  \n",
       "organism             string                                  \n",
       "name                 string                                  \n",
       "evidence_type        string                                  \n",
       "page_size           integer               Results per page   \n",
       "page                integer  Page number (starting with 1)   \n",
       "\n",
       "                                                             example options  \\\n",
       "parameter name                                                                 \n",
       "identifier                                              R-HSA-198933           \n",
       "uniprot_accession                                             P20138           \n",
       "organism                                                Homo sapiens           \n",
       "name               Immunoregulatory interactions between a Lympho...           \n",
       "evidence_type                                                    TAS           \n",
       "page_size                                                          1           \n",
       "page                                                               1           \n",
       "\n",
       "                  default  required  \n",
       "parameter name                       \n",
       "identifier                    False  \n",
       "uniprot_accession             False  \n",
       "organism                      False  \n",
       "name                          False  \n",
       "evidence_type                 False  \n",
       "page_size            10.0     False  \n",
       "page                  1.0     False  "
      ]
     },
     "metadata": {},
     "output_type": "display_data"
    },
    {
     "data": {
      "text/html": [
       "<b>Example URL:</b> <a href=\"http://0.0.0.0:5000/api/v1/reactome?identifier=R-HSA-198933&uniprot_accession=P20138&organism=Homo+sapiens&name=Immunoregulatory+interactions+between+a+Lymphoid+and+a+non-Lymphoid+cell&evidence_type=TAS&page_size=1&page=1\">http://0.0.0.0:5000/api/v1/reactome?identifier=R-HSA-198933&uniprot_accession=P20138&organism=Homo+sapiens&name=Immunoregulatory+interactions+between+a+Lymphoid+and+a+non-Lymphoid+cell&evidence_type=TAS&page_size=1&page=1</a>"
      ],
      "text/plain": [
       "<IPython.core.display.HTML object>"
      ]
     },
     "metadata": {},
     "output_type": "display_data"
    },
    {
     "data": {
      "text/html": [
       "<b style=\"color: rgb(98,98,98); text-decoration: underline;\">Example response:</b>"
      ],
      "text/plain": [
       "<IPython.core.display.HTML object>"
      ]
     },
     "metadata": {},
     "output_type": "display_data"
    },
    {
     "name": "stdout",
     "output_type": "stream",
     "text": [
      "{\u001b[38;5;124m'\u001b[39m\u001b[38;5;124mnumber_of_results\u001b[39m\u001b[38;5;124m'\u001b[39m: \u001b[38;5;241m1\u001b[39m,\n",
      " \u001b[38;5;124m'\u001b[39m\u001b[38;5;124mpage\u001b[39m\u001b[38;5;124m'\u001b[39m: \u001b[38;5;241m1\u001b[39m,\n",
      " \u001b[38;5;124m'\u001b[39m\u001b[38;5;124mpage_size\u001b[39m\u001b[38;5;124m'\u001b[39m: \u001b[38;5;241m1\u001b[39m,\n",
      " \u001b[38;5;124m'\u001b[39m\u001b[38;5;124mpages\u001b[39m\u001b[38;5;124m'\u001b[39m: \u001b[38;5;241m1\u001b[39m,\n",
      " \u001b[38;5;124m'\u001b[39m\u001b[38;5;124mresults\u001b[39m\u001b[38;5;124m'\u001b[39m: [{\u001b[38;5;124m'\u001b[39m\u001b[38;5;124mevidence_type\u001b[39m\u001b[38;5;124m'\u001b[39m: \u001b[38;5;124m'\u001b[39m\u001b[38;5;124mTAS\u001b[39m\u001b[38;5;124m'\u001b[39m,\n",
      "              \u001b[38;5;124m'\u001b[39m\u001b[38;5;124mid\u001b[39m\u001b[38;5;124m'\u001b[39m: \u001b[38;5;241m153252\u001b[39m,\n",
      "              \u001b[38;5;124m'\u001b[39m\u001b[38;5;124midentifier\u001b[39m\u001b[38;5;124m'\u001b[39m: \u001b[38;5;124m'\u001b[39m\u001b[38;5;124mR-HSA-198933\u001b[39m\u001b[38;5;124m'\u001b[39m,\n",
      "              \u001b[38;5;124m'\u001b[39m\u001b[38;5;124mname\u001b[39m\u001b[38;5;124m'\u001b[39m: \u001b[38;5;124m'\u001b[39m\u001b[38;5;124mImmunoregulatory interactions between a Lymphoid and a \u001b[39m\u001b[38;5;124m'\u001b[39m\n",
      "                      \u001b[38;5;124m'\u001b[39m\u001b[38;5;124mnon-Lymphoid cell\u001b[39m\u001b[38;5;124m'\u001b[39m,\n",
      "              \u001b[38;5;124m'\u001b[39m\u001b[38;5;124morganism\u001b[39m\u001b[38;5;124m'\u001b[39m: \u001b[38;5;124m'\u001b[39m\u001b[38;5;124mHomo sapiens\u001b[39m\u001b[38;5;124m'\u001b[39m,\n",
      "              \u001b[38;5;124m'\u001b[39m\u001b[38;5;124muniprot_accession\u001b[39m\u001b[38;5;124m'\u001b[39m: \u001b[38;5;124m'\u001b[39m\u001b[38;5;124mP20138\u001b[39m\u001b[38;5;124m'\u001b[39m}]}\n",
      "\n",
      "For further testing go to http://0.0.0.0:5000/ui/#/Reactome/ebel.web.api.ebel.v1.reactome.get_reactome\n"
     ]
    },
    {
     "data": {
      "text/html": [
       "<h2>2. Reactome by pathway name</h2>"
      ],
      "text/plain": [
       "<IPython.core.display.HTML object>"
      ]
     },
     "metadata": {},
     "output_type": "display_data"
    },
    {
     "data": {
      "text/html": [
       "<b style=\"color: rgb(98,98,98); text-decoration: underline;\">Description:</b> <p>Reactome by pathway name</p>"
      ],
      "text/plain": [
       "<IPython.core.display.HTML object>"
      ]
     },
     "metadata": {},
     "output_type": "display_data"
    },
    {
     "data": {
      "text/html": [
       "<b>Tags:</b> ['Reactome', 'e(BE:L)']"
      ],
      "text/plain": [
       "<IPython.core.display.HTML object>"
      ]
     },
     "metadata": {},
     "output_type": "display_data"
    },
    {
     "data": {
      "text/html": [
       "<b>Server path:</b> /api/v1/reactome/bel/node/by_pathway_name"
      ],
      "text/plain": [
       "<IPython.core.display.HTML object>"
      ]
     },
     "metadata": {},
     "output_type": "display_data"
    },
    {
     "data": {
      "text/html": [
       "<div>\n",
       "<style scoped>\n",
       "    .dataframe tbody tr th:only-of-type {\n",
       "        vertical-align: middle;\n",
       "    }\n",
       "\n",
       "    .dataframe tbody tr th {\n",
       "        vertical-align: top;\n",
       "    }\n",
       "\n",
       "    .dataframe thead th {\n",
       "        text-align: right;\n",
       "    }\n",
       "</style>\n",
       "<table border=\"1\" class=\"dataframe\">\n",
       "  <thead>\n",
       "    <tr style=\"text-align: right;\">\n",
       "      <th></th>\n",
       "      <th>data type</th>\n",
       "      <th>description</th>\n",
       "      <th>example</th>\n",
       "      <th>options</th>\n",
       "      <th>default</th>\n",
       "      <th>required</th>\n",
       "    </tr>\n",
       "    <tr>\n",
       "      <th>parameter name</th>\n",
       "      <th></th>\n",
       "      <th></th>\n",
       "      <th></th>\n",
       "      <th></th>\n",
       "      <th></th>\n",
       "      <th></th>\n",
       "    </tr>\n",
       "  </thead>\n",
       "  <tbody>\n",
       "    <tr>\n",
       "      <th>pathway_name</th>\n",
       "      <td>string</td>\n",
       "      <td></td>\n",
       "      <td>NF-kB is activated and signals survival</td>\n",
       "      <td></td>\n",
       "      <td></td>\n",
       "      <td>False</td>\n",
       "    </tr>\n",
       "    <tr>\n",
       "      <th>page_size</th>\n",
       "      <td>integer</td>\n",
       "      <td>Results per page</td>\n",
       "      <td>1</td>\n",
       "      <td></td>\n",
       "      <td>10.0</td>\n",
       "      <td>False</td>\n",
       "    </tr>\n",
       "    <tr>\n",
       "      <th>page</th>\n",
       "      <td>integer</td>\n",
       "      <td>Page number (starting with 1)</td>\n",
       "      <td>1</td>\n",
       "      <td></td>\n",
       "      <td>1.0</td>\n",
       "      <td>False</td>\n",
       "    </tr>\n",
       "  </tbody>\n",
       "</table>\n",
       "</div>"
      ],
      "text/plain": [
       "               data type                    description  \\\n",
       "parameter name                                            \n",
       "pathway_name      string                                  \n",
       "page_size        integer               Results per page   \n",
       "page             integer  Page number (starting with 1)   \n",
       "\n",
       "                                                example options default  \\\n",
       "parameter name                                                            \n",
       "pathway_name    NF-kB is activated and signals survival                   \n",
       "page_size                                             1            10.0   \n",
       "page                                                  1             1.0   \n",
       "\n",
       "                required  \n",
       "parameter name            \n",
       "pathway_name       False  \n",
       "page_size          False  \n",
       "page               False  "
      ]
     },
     "metadata": {},
     "output_type": "display_data"
    },
    {
     "data": {
      "text/html": [
       "<b>Example URL:</b> <a href=\"http://0.0.0.0:5000/api/v1/reactome/bel/node/by_pathway_name?pathway_name=NF-kB+is+activated+and+signals+survival&page_size=1&page=1\">http://0.0.0.0:5000/api/v1/reactome/bel/node/by_pathway_name?pathway_name=NF-kB+is+activated+and+signals+survival&page_size=1&page=1</a>"
      ],
      "text/plain": [
       "<IPython.core.display.HTML object>"
      ]
     },
     "metadata": {},
     "output_type": "display_data"
    },
    {
     "data": {
      "text/html": [
       "<b style=\"color: rgb(98,98,98); text-decoration: underline;\">Example response:</b>"
      ],
      "text/plain": [
       "<IPython.core.display.HTML object>"
      ]
     },
     "metadata": {},
     "output_type": "display_data"
    },
    {
     "name": "stdout",
     "output_type": "stream",
     "text": [
      "{\u001b[38;5;124m'\u001b[39m\u001b[38;5;124mnumber_of_results\u001b[39m\u001b[38;5;124m'\u001b[39m: \u001b[38;5;241m9\u001b[39m,\n",
      " \u001b[38;5;124m'\u001b[39m\u001b[38;5;124mpage\u001b[39m\u001b[38;5;124m'\u001b[39m: \u001b[38;5;241m1\u001b[39m,\n",
      " \u001b[38;5;124m'\u001b[39m\u001b[38;5;124mpage_size\u001b[39m\u001b[38;5;124m'\u001b[39m: \u001b[38;5;241m1\u001b[39m,\n",
      " \u001b[38;5;124m'\u001b[39m\u001b[38;5;124mpages\u001b[39m\u001b[38;5;124m'\u001b[39m: \u001b[38;5;241m9\u001b[39m,\n",
      " \u001b[38;5;124m'\u001b[39m\u001b[38;5;124mresults\u001b[39m\u001b[38;5;124m'\u001b[39m: [{\u001b[38;5;124m'\u001b[39m\u001b[38;5;124mbel\u001b[39m\u001b[38;5;124m'\u001b[39m: \u001b[38;5;124m'\u001b[39m\u001b[38;5;124mp(HGNC:\u001b[39m\u001b[38;5;124m\"\u001b[39m\u001b[38;5;124mRELA\u001b[39m\u001b[38;5;124m\"\u001b[39m\u001b[38;5;124m)\u001b[39m\u001b[38;5;124m'\u001b[39m,\n",
      "              \u001b[38;5;124m'\u001b[39m\u001b[38;5;124mname\u001b[39m\u001b[38;5;124m'\u001b[39m: \u001b[38;5;124m'\u001b[39m\u001b[38;5;124mRELA\u001b[39m\u001b[38;5;124m'\u001b[39m,\n",
      "              \u001b[38;5;124m'\u001b[39m\u001b[38;5;124mnamespace\u001b[39m\u001b[38;5;124m'\u001b[39m: \u001b[38;5;124m'\u001b[39m\u001b[38;5;124mHGNC\u001b[39m\u001b[38;5;124m'\u001b[39m,\n",
      "              \u001b[38;5;124m'\u001b[39m\u001b[38;5;124mreactome_pathways\u001b[39m\u001b[38;5;124m'\u001b[39m: [\u001b[38;5;124m'\u001b[39m\u001b[38;5;124mNF-kB is activated and signals survival\u001b[39m\u001b[38;5;124m'\u001b[39m,\n",
      "                                    \u001b[38;5;124m'\u001b[39m\u001b[38;5;124mTranscriptional Regulation by VENTX\u001b[39m\u001b[38;5;124m'\u001b[39m,\n",
      "                                    \u001b[38;5;124m'\u001b[39m\u001b[38;5;124mFCERI mediated NF-kB activation\u001b[39m\u001b[38;5;124m'\u001b[39m,\n",
      "                                    \u001b[38;5;124m'\u001b[39m\u001b[38;5;124mSenescence-Associated Secretory Phenotype \u001b[39m\u001b[38;5;124m'\u001b[39m\n",
      "                                    \u001b[38;5;124m'\u001b[39m\u001b[38;5;124m(SASP)\u001b[39m\u001b[38;5;124m'\u001b[39m,\n",
      "                                    \u001b[38;5;124m'\u001b[39m\u001b[38;5;124mDectin-1 mediated noncanonical NF-kB \u001b[39m\u001b[38;5;124m'\u001b[39m\n",
      "                                    \u001b[38;5;124m'\u001b[39m\u001b[38;5;124msignaling\u001b[39m\u001b[38;5;124m'\u001b[39m,\n",
      "                                    \u001b[38;5;124m'\u001b[39m\u001b[38;5;124mTRAF6 mediated NF-kB activation\u001b[39m\u001b[38;5;124m'\u001b[39m,\n",
      "                                    \u001b[38;5;124m'\u001b[39m\u001b[38;5;124mCLEC7A (Dectin-1) signaling\u001b[39m\u001b[38;5;124m'\u001b[39m,\n",
      "                                    \u001b[38;5;124m'\u001b[39m\u001b[38;5;124mRegulated proteolysis of p75NTR\u001b[39m\u001b[38;5;124m'\u001b[39m,\n",
      "                                    \u001b[38;5;124m'\u001b[39m\u001b[38;5;124mCD209 (DC-SIGN) signaling\u001b[39m\u001b[38;5;124m'\u001b[39m,\n",
      "                                    \u001b[38;5;124m'\u001b[39m\u001b[38;5;124mActivation of NF-kappaB in B cells\u001b[39m\u001b[38;5;124m'\u001b[39m,\n",
      "                                    \u001b[38;5;124m'\u001b[39m\u001b[38;5;124mRIP-mediated NFkB activation via ZBP1\u001b[39m\u001b[38;5;124m'\u001b[39m,\n",
      "                                    \u001b[38;5;124m'\u001b[39m\u001b[38;5;124mSUMOylation of immune response proteins\u001b[39m\u001b[38;5;124m'\u001b[39m,\n",
      "                                    \u001b[38;5;124m'\u001b[39m\u001b[38;5;124mInterleukin-1 signaling\u001b[39m\u001b[38;5;124m'\u001b[39m,\n",
      "                                    \u001b[38;5;124m'\u001b[39m\u001b[38;5;124mCLEC7A/inflammasome pathway\u001b[39m\u001b[38;5;124m'\u001b[39m,\n",
      "                                    \u001b[38;5;124m'\u001b[39m\u001b[38;5;124mTAK1 activates NFkB by phosphorylation \u001b[39m\u001b[38;5;124m'\u001b[39m\n",
      "                                    \u001b[38;5;124m'\u001b[39m\u001b[38;5;124mand activation of IKKs complex\u001b[39m\u001b[38;5;124m'\u001b[39m,\n",
      "                                    \u001b[38;5;124m'\u001b[39m\u001b[38;5;124mPKMTs methylate histone lysines\u001b[39m\u001b[38;5;124m'\u001b[39m,\n",
      "                                    \u001b[38;5;124m'\u001b[39m\u001b[38;5;124mIkBA variant leads to EDA-ID\u001b[39m\u001b[38;5;124m'\u001b[39m,\n",
      "                                    \u001b[38;5;124m'\u001b[39m\u001b[38;5;124mThe NLRP3 inflammasome\u001b[39m\u001b[38;5;124m'\u001b[39m,\n",
      "                                    \u001b[38;5;124m'\u001b[39m\u001b[38;5;124mTranscriptional regulation of white \u001b[39m\u001b[38;5;124m'\u001b[39m\n",
      "                                    \u001b[38;5;124m'\u001b[39m\u001b[38;5;124madipocyte differentiation\u001b[39m\u001b[38;5;124m'\u001b[39m,\n",
      "                                    \u001b[38;5;124m'\u001b[39m\u001b[38;5;124mDEx/H-box helicases activate type I IFN \u001b[39m\u001b[38;5;124m'\u001b[39m\n",
      "                                    \u001b[38;5;124m'\u001b[39m\u001b[38;5;124mand inflammatory cytokines production\u001b[39m\u001b[38;5;124m'\u001b[39m,\n",
      "                                    \u001b[38;5;124m'\u001b[39m\u001b[38;5;124mInterleukin-1 processing\u001b[39m\u001b[38;5;124m'\u001b[39m,\n",
      "                                    \u001b[38;5;124m'\u001b[39m\u001b[38;5;124mDownstream TCR signaling\u001b[39m\u001b[38;5;124m'\u001b[39m,\n",
      "                                    \u001b[38;5;124m'\u001b[39m\u001b[38;5;124mPurinergic signaling in leishmaniasis \u001b[39m\u001b[38;5;124m'\u001b[39m\n",
      "                                    \u001b[38;5;124m'\u001b[39m\u001b[38;5;124minfection\u001b[39m\u001b[38;5;124m'\u001b[39m],\n",
      "              \u001b[38;5;124m'\u001b[39m\u001b[38;5;124mrid\u001b[39m\u001b[38;5;124m'\u001b[39m: \u001b[38;5;124m'\u001b[39m\u001b[38;5;124m#186:1\u001b[39m\u001b[38;5;124m'\u001b[39m}]}\n",
      "\n",
      "For further testing go to http://0.0.0.0:5000/ui/#/Reactome/ebel.web.api.ebel.v1.reactome.get_bel_node_by_pathway_name\n"
     ]
    }
   ],
   "source": [
    "import api_doc\n",
    "api_doc.get_api_methods_by_tag('Reactome')"
   ]
  }
 ],
 "metadata": {
  "kernelspec": {
   "display_name": "Python 3 (ipykernel)",
   "language": "python",
   "name": "python3"
  },
  "language_info": {
   "codemirror_mode": {
    "name": "ipython",
    "version": 3
   },
   "file_extension": ".py",
   "mimetype": "text/x-python",
   "name": "python",
   "nbconvert_exporter": "python",
   "pygments_lexer": "ipython3",
   "version": "3.8.10"
  },
  "toc": {
   "base_numbering": 1,
   "nav_menu": {},
   "number_sections": true,
   "sideBar": true,
   "skip_h1_title": true,
   "title_cell": "Table of Contents",
   "title_sidebar": "Contents",
   "toc_cell": false,
   "toc_position": {},
   "toc_section_display": true,
   "toc_window_display": false
  }
 },
 "nbformat": 4,
 "nbformat_minor": 5
}
