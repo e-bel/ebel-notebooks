{
 "cells": [
  {
   "cell_type": "markdown",
   "id": "bf137ffa",
   "metadata": {},
   "source": [
    "# UniProt API methods"
   ]
  },
  {
   "cell_type": "code",
   "execution_count": 1,
   "id": "47e282e4",
   "metadata": {
    "scrolled": false
   },
   "outputs": [
    {
     "data": {
      "text/html": [
       "<h2>1. UniProt</h2>"
      ],
      "text/plain": [
       "<IPython.core.display.HTML object>"
      ]
     },
     "metadata": {},
     "output_type": "display_data"
    },
    {
     "data": {
      "text/html": [
       "<b style=\"color: rgb(98,98,98); text-decoration: underline;\">Description:</b> <p>UniProt</p>"
      ],
      "text/plain": [
       "<IPython.core.display.HTML object>"
      ]
     },
     "metadata": {},
     "output_type": "display_data"
    },
    {
     "data": {
      "text/html": [
       "<b>Tags:</b> ['UniProt']"
      ],
      "text/plain": [
       "<IPython.core.display.HTML object>"
      ]
     },
     "metadata": {},
     "output_type": "display_data"
    },
    {
     "data": {
      "text/html": [
       "<b>Server path:</b> /api/v1/uniprot"
      ],
      "text/plain": [
       "<IPython.core.display.HTML object>"
      ]
     },
     "metadata": {},
     "output_type": "display_data"
    },
    {
     "data": {
      "text/html": [
       "<div>\n",
       "<style scoped>\n",
       "    .dataframe tbody tr th:only-of-type {\n",
       "        vertical-align: middle;\n",
       "    }\n",
       "\n",
       "    .dataframe tbody tr th {\n",
       "        vertical-align: top;\n",
       "    }\n",
       "\n",
       "    .dataframe thead th {\n",
       "        text-align: right;\n",
       "    }\n",
       "</style>\n",
       "<table border=\"1\" class=\"dataframe\">\n",
       "  <thead>\n",
       "    <tr style=\"text-align: right;\">\n",
       "      <th></th>\n",
       "      <th>data type</th>\n",
       "      <th>description</th>\n",
       "      <th>example</th>\n",
       "      <th>options</th>\n",
       "      <th>default</th>\n",
       "      <th>required</th>\n",
       "    </tr>\n",
       "    <tr>\n",
       "      <th>parameter name</th>\n",
       "      <th></th>\n",
       "      <th></th>\n",
       "      <th></th>\n",
       "      <th></th>\n",
       "      <th></th>\n",
       "      <th></th>\n",
       "    </tr>\n",
       "  </thead>\n",
       "  <tbody>\n",
       "    <tr>\n",
       "      <th>accession</th>\n",
       "      <td>string</td>\n",
       "      <td>1st accession number</td>\n",
       "      <td>P20138</td>\n",
       "      <td></td>\n",
       "      <td></td>\n",
       "      <td>False</td>\n",
       "    </tr>\n",
       "    <tr>\n",
       "      <th>gene_symbol</th>\n",
       "      <td>string</td>\n",
       "      <td></td>\n",
       "      <td>CD33</td>\n",
       "      <td></td>\n",
       "      <td></td>\n",
       "      <td>False</td>\n",
       "    </tr>\n",
       "    <tr>\n",
       "      <th>taxonomy_id</th>\n",
       "      <td>integer</td>\n",
       "      <td></td>\n",
       "      <td>9606</td>\n",
       "      <td></td>\n",
       "      <td></td>\n",
       "      <td>False</td>\n",
       "    </tr>\n",
       "    <tr>\n",
       "      <th>keyword</th>\n",
       "      <td>string</td>\n",
       "      <td></td>\n",
       "      <td>Phosphoprotein</td>\n",
       "      <td></td>\n",
       "      <td></td>\n",
       "      <td>False</td>\n",
       "    </tr>\n",
       "    <tr>\n",
       "      <th>xref_db</th>\n",
       "      <td>string</td>\n",
       "      <td>Cross reference database name</td>\n",
       "      <td>ChEMBL</td>\n",
       "      <td>[ABCD, Allergome, Antibodypedia, ArachnoServer...</td>\n",
       "      <td></td>\n",
       "      <td>False</td>\n",
       "    </tr>\n",
       "    <tr>\n",
       "      <th>xref_id</th>\n",
       "      <td>string</td>\n",
       "      <td>Cross reference identifier</td>\n",
       "      <td>CHEMBL1842</td>\n",
       "      <td></td>\n",
       "      <td></td>\n",
       "      <td>False</td>\n",
       "    </tr>\n",
       "    <tr>\n",
       "      <th>subcellular_location</th>\n",
       "      <td>string</td>\n",
       "      <td>Subcellular location</td>\n",
       "      <td>Peroxisome</td>\n",
       "      <td></td>\n",
       "      <td></td>\n",
       "      <td>False</td>\n",
       "    </tr>\n",
       "    <tr>\n",
       "      <th>page_size</th>\n",
       "      <td>integer</td>\n",
       "      <td>Results per page</td>\n",
       "      <td>1</td>\n",
       "      <td></td>\n",
       "      <td>10.0</td>\n",
       "      <td>False</td>\n",
       "    </tr>\n",
       "    <tr>\n",
       "      <th>page</th>\n",
       "      <td>integer</td>\n",
       "      <td>Page number (starting with 1)</td>\n",
       "      <td>1</td>\n",
       "      <td></td>\n",
       "      <td>1.0</td>\n",
       "      <td>False</td>\n",
       "    </tr>\n",
       "  </tbody>\n",
       "</table>\n",
       "</div>"
      ],
      "text/plain": [
       "                     data type                    description         example  \\\n",
       "parameter name                                                                  \n",
       "accession               string           1st accession number          P20138   \n",
       "gene_symbol             string                                           CD33   \n",
       "taxonomy_id            integer                                           9606   \n",
       "keyword                 string                                 Phosphoprotein   \n",
       "xref_db                 string  Cross reference database name          ChEMBL   \n",
       "xref_id                 string     Cross reference identifier      CHEMBL1842   \n",
       "subcellular_location    string           Subcellular location      Peroxisome   \n",
       "page_size              integer               Results per page               1   \n",
       "page                   integer  Page number (starting with 1)               1   \n",
       "\n",
       "                                                                options  \\\n",
       "parameter name                                                            \n",
       "accession                                                                 \n",
       "gene_symbol                                                               \n",
       "taxonomy_id                                                               \n",
       "keyword                                                                   \n",
       "xref_db               [ABCD, Allergome, Antibodypedia, ArachnoServer...   \n",
       "xref_id                                                                   \n",
       "subcellular_location                                                      \n",
       "page_size                                                                 \n",
       "page                                                                      \n",
       "\n",
       "                     default  required  \n",
       "parameter name                          \n",
       "accession                        False  \n",
       "gene_symbol                      False  \n",
       "taxonomy_id                      False  \n",
       "keyword                          False  \n",
       "xref_db                          False  \n",
       "xref_id                          False  \n",
       "subcellular_location             False  \n",
       "page_size               10.0     False  \n",
       "page                     1.0     False  "
      ]
     },
     "metadata": {},
     "output_type": "display_data"
    },
    {
     "data": {
      "text/html": [
       "<b>Example URL:</b> <a href=\"http://0.0.0.0:5000/api/v1/uniprot?accession=P20138&gene_symbol=CD33&taxonomy_id=9606&keyword=Phosphoprotein&xref_db=ChEMBL&xref_id=CHEMBL1842&subcellular_location=Peroxisome&page_size=1&page=1\">http://0.0.0.0:5000/api/v1/uniprot?accession=P20138&gene_symbol=CD33&taxonomy_id=9606&keyword=Phosphoprotein&xref_db=ChEMBL&xref_id=CHEMBL1842&subcellular_location=Peroxisome&page_size=1&page=1</a>"
      ],
      "text/plain": [
       "<IPython.core.display.HTML object>"
      ]
     },
     "metadata": {},
     "output_type": "display_data"
    },
    {
     "data": {
      "text/html": [
       "<b style=\"color: rgb(98,98,98); text-decoration: underline;\">Example response:</b>"
      ],
      "text/plain": [
       "<IPython.core.display.HTML object>"
      ]
     },
     "metadata": {},
     "output_type": "display_data"
    },
    {
     "name": "stdout",
     "output_type": "stream",
     "text": [
      "{\u001b[38;5;124m'\u001b[39m\u001b[38;5;124mnumber_of_results\u001b[39m\u001b[38;5;124m'\u001b[39m: \u001b[38;5;241m1\u001b[39m,\n",
      " \u001b[38;5;124m'\u001b[39m\u001b[38;5;124mpage\u001b[39m\u001b[38;5;124m'\u001b[39m: \u001b[38;5;241m1\u001b[39m,\n",
      " \u001b[38;5;124m'\u001b[39m\u001b[38;5;124mpage_size\u001b[39m\u001b[38;5;124m'\u001b[39m: \u001b[38;5;241m1\u001b[39m,\n",
      " \u001b[38;5;124m'\u001b[39m\u001b[38;5;124mpages\u001b[39m\u001b[38;5;124m'\u001b[39m: \u001b[38;5;241m1\u001b[39m,\n",
      " \u001b[38;5;124m'\u001b[39m\u001b[38;5;124mresults\u001b[39m\u001b[38;5;124m'\u001b[39m: [{\u001b[38;5;124m'\u001b[39m\u001b[38;5;124maccession\u001b[39m\u001b[38;5;124m'\u001b[39m: \u001b[38;5;124m'\u001b[39m\u001b[38;5;124mP20138\u001b[39m\u001b[38;5;124m'\u001b[39m,\n",
      "              \u001b[38;5;124m'\u001b[39m\u001b[38;5;124mfunction_description\u001b[39m\u001b[38;5;124m'\u001b[39m: \u001b[38;5;124m'\u001b[39m\u001b[38;5;124mSialic-acid-binding immunoglobulin-like \u001b[39m\u001b[38;5;124m'\u001b[39m\n",
      "                                      \u001b[38;5;124m'\u001b[39m\u001b[38;5;124mlectin (Siglec) that plays a role in \u001b[39m\u001b[38;5;124m'\u001b[39m\n",
      "                                      \u001b[38;5;124m'\u001b[39m\u001b[38;5;124mmediating cell-cell interactions and in \u001b[39m\u001b[38;5;124m'\u001b[39m\n",
      "                                      \u001b[38;5;124m'\u001b[39m\u001b[38;5;124mmaintaining immune cells in a resting \u001b[39m\u001b[38;5;124m'\u001b[39m\n",
      "                                      \u001b[38;5;124m'\u001b[39m\u001b[38;5;124mstate (PubMed:10611343, \u001b[39m\u001b[38;5;124m'\u001b[39m\n",
      "                                      \u001b[38;5;124m'\u001b[39m\u001b[38;5;124mPubMed:15597323, PubMed:11320212). \u001b[39m\u001b[38;5;124m'\u001b[39m\n",
      "                                      \u001b[38;5;124m'\u001b[39m\u001b[38;5;124mPreferentially recognizes and binds \u001b[39m\u001b[38;5;124m'\u001b[39m\n",
      "                                      \u001b[38;5;124m'\u001b[39m\u001b[38;5;124malpha-2,3- and more avidly \u001b[39m\u001b[38;5;124m'\u001b[39m\n",
      "                                      \u001b[38;5;124m'\u001b[39m\u001b[38;5;124malpha-2,6-linked sialic acid-bearing \u001b[39m\u001b[38;5;124m'\u001b[39m\n",
      "                                      \u001b[38;5;124m'\u001b[39m\u001b[38;5;124mglycans (PubMed:7718872). Upon \u001b[39m\u001b[38;5;124m'\u001b[39m\n",
      "                                      \u001b[38;5;124m'\u001b[39m\u001b[38;5;124mengagement of ligands such as C1q or \u001b[39m\u001b[38;5;124m'\u001b[39m\n",
      "                                      \u001b[38;5;124m'\u001b[39m\u001b[38;5;124msyalylated glycoproteins, two \u001b[39m\u001b[38;5;124m'\u001b[39m\n",
      "                                      \u001b[38;5;124m'\u001b[39m\u001b[38;5;124mimmunoreceptor tyrosine-based \u001b[39m\u001b[38;5;124m'\u001b[39m\n",
      "                                      \u001b[38;5;124m'\u001b[39m\u001b[38;5;124minhibitory motifs (ITIMs) located in \u001b[39m\u001b[38;5;124m'\u001b[39m\n",
      "                                      \u001b[38;5;124m'\u001b[39m\u001b[38;5;124mCD33 cytoplasmic tail are \u001b[39m\u001b[38;5;124m'\u001b[39m\n",
      "                                      \u001b[38;5;124m'\u001b[39m\u001b[38;5;124mphosphorylated by Src-like kinases such \u001b[39m\u001b[38;5;124m'\u001b[39m\n",
      "                                      \u001b[38;5;124m'\u001b[39m\u001b[38;5;124mas LCK (PubMed:28325905, \u001b[39m\u001b[38;5;124m'\u001b[39m\n",
      "                                      \u001b[38;5;124m'\u001b[39m\u001b[38;5;124mPubMed:10887109). These \u001b[39m\u001b[38;5;124m'\u001b[39m\n",
      "                                      \u001b[38;5;124m'\u001b[39m\u001b[38;5;124mphosphorylations provide docking sites \u001b[39m\u001b[38;5;124m'\u001b[39m\n",
      "                                      \u001b[38;5;124m'\u001b[39m\u001b[38;5;124mfor the recruitment and activation of \u001b[39m\u001b[38;5;124m'\u001b[39m\n",
      "                                      \u001b[38;5;124m'\u001b[39m\u001b[38;5;124mprotein-tyrosine phosphatases \u001b[39m\u001b[38;5;124m'\u001b[39m\n",
      "                                      \u001b[38;5;124m'\u001b[39m\u001b[38;5;124mPTPN6/SHP-1 and PTPN11/SHP-2 \u001b[39m\u001b[38;5;124m'\u001b[39m\n",
      "                                      \u001b[38;5;124m'\u001b[39m\u001b[38;5;124m(PubMed:10556798, PubMed:10206955, \u001b[39m\u001b[38;5;124m'\u001b[39m\n",
      "                                      \u001b[38;5;124m'\u001b[39m\u001b[38;5;124mPubMed:10887109). In turn, these \u001b[39m\u001b[38;5;124m'\u001b[39m\n",
      "                                      \u001b[38;5;124m'\u001b[39m\u001b[38;5;124mphosphatases regulate downstream \u001b[39m\u001b[38;5;124m'\u001b[39m\n",
      "                                      \u001b[38;5;124m'\u001b[39m\u001b[38;5;124mpathways through dephosphorylation of \u001b[39m\u001b[38;5;124m'\u001b[39m\n",
      "                                      \u001b[38;5;124m'\u001b[39m\u001b[38;5;124msignaling molecules (PubMed:10206955, \u001b[39m\u001b[38;5;124m'\u001b[39m\n",
      "                                      \u001b[38;5;124m'\u001b[39m\u001b[38;5;124mPubMed:10887109). One of the repressive \u001b[39m\u001b[38;5;124m'\u001b[39m\n",
      "                                      \u001b[38;5;124m'\u001b[39m\u001b[38;5;124meffect of CD33 on monocyte activation \u001b[39m\u001b[38;5;124m'\u001b[39m\n",
      "                                      \u001b[38;5;124m'\u001b[39m\u001b[38;5;124mrequires phosphoinositide 3-kinase/PI3K \u001b[39m\u001b[38;5;124m'\u001b[39m\n",
      "                                      \u001b[38;5;124m'\u001b[39m\u001b[38;5;124m(PubMed:15597323).\u001b[39m\u001b[38;5;124m'\u001b[39m,\n",
      "              \u001b[38;5;124m'\u001b[39m\u001b[38;5;124mgene_names\u001b[39m\u001b[38;5;124m'\u001b[39m: [\u001b[38;5;124m'\u001b[39m\u001b[38;5;124mCD33\u001b[39m\u001b[38;5;124m'\u001b[39m, \u001b[38;5;124m'\u001b[39m\u001b[38;5;124mSIGLEC3\u001b[39m\u001b[38;5;124m'\u001b[39m],\n",
      "              \u001b[38;5;124m'\u001b[39m\u001b[38;5;124mgene_symbol\u001b[39m\u001b[38;5;124m'\u001b[39m: \u001b[38;5;124m'\u001b[39m\u001b[38;5;124mCD33\u001b[39m\u001b[38;5;124m'\u001b[39m,\n",
      "              \u001b[38;5;124m'\u001b[39m\u001b[38;5;124mhosts\u001b[39m\u001b[38;5;124m'\u001b[39m: [],\n",
      "              \u001b[38;5;124m'\u001b[39m\u001b[38;5;124mkeywords\u001b[39m\u001b[38;5;124m'\u001b[39m: [{\u001b[38;5;124m'\u001b[39m\u001b[38;5;124mid\u001b[39m\u001b[38;5;124m'\u001b[39m: \u001b[38;5;241m2\u001b[39m, \u001b[38;5;124m'\u001b[39m\u001b[38;5;124mkeyword\u001b[39m\u001b[38;5;124m'\u001b[39m: \u001b[38;5;124m'\u001b[39m\u001b[38;5;124m3D-structure\u001b[39m\u001b[38;5;124m'\u001b[39m},\n",
      "                           {\u001b[38;5;124m'\u001b[39m\u001b[38;5;124mid\u001b[39m\u001b[38;5;124m'\u001b[39m: \u001b[38;5;241m25\u001b[39m, \u001b[38;5;124m'\u001b[39m\u001b[38;5;124mkeyword\u001b[39m\u001b[38;5;124m'\u001b[39m: \u001b[38;5;124m'\u001b[39m\u001b[38;5;124mAlternative splicing\u001b[39m\u001b[38;5;124m'\u001b[39m},\n",
      "                           {\u001b[38;5;124m'\u001b[39m\u001b[38;5;124mid\u001b[39m\u001b[38;5;124m'\u001b[39m: \u001b[38;5;241m130\u001b[39m, \u001b[38;5;124m'\u001b[39m\u001b[38;5;124mkeyword\u001b[39m\u001b[38;5;124m'\u001b[39m: \u001b[38;5;124m'\u001b[39m\u001b[38;5;124mCell adhesion\u001b[39m\u001b[38;5;124m'\u001b[39m},\n",
      "                           {\u001b[38;5;124m'\u001b[39m\u001b[38;5;124mid\u001b[39m\u001b[38;5;124m'\u001b[39m: \u001b[38;5;241m1003\u001b[39m, \u001b[38;5;124m'\u001b[39m\u001b[38;5;124mkeyword\u001b[39m\u001b[38;5;124m'\u001b[39m: \u001b[38;5;124m'\u001b[39m\u001b[38;5;124mCell membrane\u001b[39m\u001b[38;5;124m'\u001b[39m},\n",
      "                           {\u001b[38;5;124m'\u001b[39m\u001b[38;5;124mid\u001b[39m\u001b[38;5;124m'\u001b[39m: \u001b[38;5;241m1015\u001b[39m, \u001b[38;5;124m'\u001b[39m\u001b[38;5;124mkeyword\u001b[39m\u001b[38;5;124m'\u001b[39m: \u001b[38;5;124m'\u001b[39m\u001b[38;5;124mDisulfide bond\u001b[39m\u001b[38;5;124m'\u001b[39m},\n",
      "                           {\u001b[38;5;124m'\u001b[39m\u001b[38;5;124mid\u001b[39m\u001b[38;5;124m'\u001b[39m: \u001b[38;5;241m325\u001b[39m, \u001b[38;5;124m'\u001b[39m\u001b[38;5;124mkeyword\u001b[39m\u001b[38;5;124m'\u001b[39m: \u001b[38;5;124m'\u001b[39m\u001b[38;5;124mGlycoprotein\u001b[39m\u001b[38;5;124m'\u001b[39m},\n",
      "                           {\u001b[38;5;124m'\u001b[39m\u001b[38;5;124mid\u001b[39m\u001b[38;5;124m'\u001b[39m: \u001b[38;5;241m393\u001b[39m, \u001b[38;5;124m'\u001b[39m\u001b[38;5;124mkeyword\u001b[39m\u001b[38;5;124m'\u001b[39m: \u001b[38;5;124m'\u001b[39m\u001b[38;5;124mImmunoglobulin domain\u001b[39m\u001b[38;5;124m'\u001b[39m},\n",
      "                           {\u001b[38;5;124m'\u001b[39m\u001b[38;5;124mid\u001b[39m\u001b[38;5;124m'\u001b[39m: \u001b[38;5;241m430\u001b[39m, \u001b[38;5;124m'\u001b[39m\u001b[38;5;124mkeyword\u001b[39m\u001b[38;5;124m'\u001b[39m: \u001b[38;5;124m'\u001b[39m\u001b[38;5;124mLectin\u001b[39m\u001b[38;5;124m'\u001b[39m},\n",
      "                           {\u001b[38;5;124m'\u001b[39m\u001b[38;5;124mid\u001b[39m\u001b[38;5;124m'\u001b[39m: \u001b[38;5;241m472\u001b[39m, \u001b[38;5;124m'\u001b[39m\u001b[38;5;124mkeyword\u001b[39m\u001b[38;5;124m'\u001b[39m: \u001b[38;5;124m'\u001b[39m\u001b[38;5;124mMembrane\u001b[39m\u001b[38;5;124m'\u001b[39m},\n",
      "                           {\u001b[38;5;124m'\u001b[39m\u001b[38;5;124mid\u001b[39m\u001b[38;5;124m'\u001b[39m: \u001b[38;5;241m576\u001b[39m, \u001b[38;5;124m'\u001b[39m\u001b[38;5;124mkeyword\u001b[39m\u001b[38;5;124m'\u001b[39m: \u001b[38;5;124m'\u001b[39m\u001b[38;5;124mPeroxisome\u001b[39m\u001b[38;5;124m'\u001b[39m},\n",
      "                           {\u001b[38;5;124m'\u001b[39m\u001b[38;5;124mid\u001b[39m\u001b[38;5;124m'\u001b[39m: \u001b[38;5;241m597\u001b[39m, \u001b[38;5;124m'\u001b[39m\u001b[38;5;124mkeyword\u001b[39m\u001b[38;5;124m'\u001b[39m: \u001b[38;5;124m'\u001b[39m\u001b[38;5;124mPhosphoprotein\u001b[39m\u001b[38;5;124m'\u001b[39m},\n",
      "                           {\u001b[38;5;124m'\u001b[39m\u001b[38;5;124mid\u001b[39m\u001b[38;5;124m'\u001b[39m: \u001b[38;5;241m1185\u001b[39m, \u001b[38;5;124m'\u001b[39m\u001b[38;5;124mkeyword\u001b[39m\u001b[38;5;124m'\u001b[39m: \u001b[38;5;124m'\u001b[39m\u001b[38;5;124mReference proteome\u001b[39m\u001b[38;5;124m'\u001b[39m},\n",
      "                           {\u001b[38;5;124m'\u001b[39m\u001b[38;5;124mid\u001b[39m\u001b[38;5;124m'\u001b[39m: \u001b[38;5;241m677\u001b[39m, \u001b[38;5;124m'\u001b[39m\u001b[38;5;124mkeyword\u001b[39m\u001b[38;5;124m'\u001b[39m: \u001b[38;5;124m'\u001b[39m\u001b[38;5;124mRepeat\u001b[39m\u001b[38;5;124m'\u001b[39m},\n",
      "                           {\u001b[38;5;124m'\u001b[39m\u001b[38;5;124mid\u001b[39m\u001b[38;5;124m'\u001b[39m: \u001b[38;5;241m732\u001b[39m, \u001b[38;5;124m'\u001b[39m\u001b[38;5;124mkeyword\u001b[39m\u001b[38;5;124m'\u001b[39m: \u001b[38;5;124m'\u001b[39m\u001b[38;5;124mSignal\u001b[39m\u001b[38;5;124m'\u001b[39m},\n",
      "                           {\u001b[38;5;124m'\u001b[39m\u001b[38;5;124mid\u001b[39m\u001b[38;5;124m'\u001b[39m: \u001b[38;5;241m812\u001b[39m, \u001b[38;5;124m'\u001b[39m\u001b[38;5;124mkeyword\u001b[39m\u001b[38;5;124m'\u001b[39m: \u001b[38;5;124m'\u001b[39m\u001b[38;5;124mTransmembrane\u001b[39m\u001b[38;5;124m'\u001b[39m},\n",
      "                           {\u001b[38;5;124m'\u001b[39m\u001b[38;5;124mid\u001b[39m\u001b[38;5;124m'\u001b[39m: \u001b[38;5;241m1133\u001b[39m, \u001b[38;5;124m'\u001b[39m\u001b[38;5;124mkeyword\u001b[39m\u001b[38;5;124m'\u001b[39m: \u001b[38;5;124m'\u001b[39m\u001b[38;5;124mTransmembrane helix\u001b[39m\u001b[38;5;124m'\u001b[39m}],\n",
      "              \u001b[38;5;124m'\u001b[39m\u001b[38;5;124mname\u001b[39m\u001b[38;5;124m'\u001b[39m: \u001b[38;5;124m'\u001b[39m\u001b[38;5;124mCD33_HUMAN\u001b[39m\u001b[38;5;124m'\u001b[39m,\n",
      "              \u001b[38;5;124m'\u001b[39m\u001b[38;5;124morganism\u001b[39m\u001b[38;5;124m'\u001b[39m: \u001b[38;5;124m'\u001b[39m\u001b[38;5;124mHomo sapiens\u001b[39m\u001b[38;5;124m'\u001b[39m,\n",
      "              \u001b[38;5;124m'\u001b[39m\u001b[38;5;124mrecommended_name\u001b[39m\u001b[38;5;124m'\u001b[39m: \u001b[38;5;124m'\u001b[39m\u001b[38;5;124mMyeloid cell surface antigen CD33\u001b[39m\u001b[38;5;124m'\u001b[39m,\n",
      "              \u001b[38;5;124m'\u001b[39m\u001b[38;5;124msubcellular_locations\u001b[39m\u001b[38;5;124m'\u001b[39m: [\u001b[38;5;124m'\u001b[39m\u001b[38;5;124mCell membrane\u001b[39m\u001b[38;5;124m'\u001b[39m, \u001b[38;5;124m'\u001b[39m\u001b[38;5;124mPeroxisome\u001b[39m\u001b[38;5;124m'\u001b[39m],\n",
      "              \u001b[38;5;124m'\u001b[39m\u001b[38;5;124mtaxid\u001b[39m\u001b[38;5;124m'\u001b[39m: \u001b[38;5;241m9606\u001b[39m,\n",
      "              \u001b[38;5;124m'\u001b[39m\u001b[38;5;124mxrefs\u001b[39m\u001b[38;5;124m'\u001b[39m: {\u001b[38;5;124m'\u001b[39m\u001b[38;5;124mABCD\u001b[39m\u001b[38;5;124m'\u001b[39m: [\u001b[38;5;124m'\u001b[39m\u001b[38;5;124mP20138\u001b[39m\u001b[38;5;124m'\u001b[39m],\n",
      "                        \u001b[38;5;124m'\u001b[39m\u001b[38;5;124mAntibodypedia\u001b[39m\u001b[38;5;124m'\u001b[39m: [\u001b[38;5;124m'\u001b[39m\u001b[38;5;124m4419\u001b[39m\u001b[38;5;124m'\u001b[39m],\n",
      "                        \u001b[38;5;124m'\u001b[39m\u001b[38;5;124mBgee\u001b[39m\u001b[38;5;124m'\u001b[39m: [\u001b[38;5;124m'\u001b[39m\u001b[38;5;124mENSG00000105383\u001b[39m\u001b[38;5;124m'\u001b[39m],\n",
      "                        \u001b[38;5;124m'\u001b[39m\u001b[38;5;124mBioGRID\u001b[39m\u001b[38;5;124m'\u001b[39m: [\u001b[38;5;124m'\u001b[39m\u001b[38;5;124m107383\u001b[39m\u001b[38;5;124m'\u001b[39m],\n",
      "                        \u001b[38;5;124m'\u001b[39m\u001b[38;5;124mBioGRID-ORCS\u001b[39m\u001b[38;5;124m'\u001b[39m: [\u001b[38;5;124m'\u001b[39m\u001b[38;5;124m945\u001b[39m\u001b[38;5;124m'\u001b[39m],\n",
      "                        \u001b[38;5;124m'\u001b[39m\u001b[38;5;124mBioMuta\u001b[39m\u001b[38;5;124m'\u001b[39m: [\u001b[38;5;124m'\u001b[39m\u001b[38;5;124mCD33\u001b[39m\u001b[38;5;124m'\u001b[39m],\n",
      "                        \u001b[38;5;124m'\u001b[39m\u001b[38;5;124mCCDS\u001b[39m\u001b[38;5;124m'\u001b[39m: [\u001b[38;5;124m'\u001b[39m\u001b[38;5;124mCCDS33084.1\u001b[39m\u001b[38;5;124m'\u001b[39m, \u001b[38;5;124m'\u001b[39m\u001b[38;5;124mCCDS46157.1\u001b[39m\u001b[38;5;124m'\u001b[39m, \u001b[38;5;124m'\u001b[39m\u001b[38;5;124mCCDS54299.1\u001b[39m\u001b[38;5;124m'\u001b[39m],\n",
      "                        \u001b[38;5;124m'\u001b[39m\u001b[38;5;124mCPTC\u001b[39m\u001b[38;5;124m'\u001b[39m: [\u001b[38;5;124m'\u001b[39m\u001b[38;5;124mP20138\u001b[39m\u001b[38;5;124m'\u001b[39m],\n",
      "                        \u001b[38;5;124m'\u001b[39m\u001b[38;5;124mCTD\u001b[39m\u001b[38;5;124m'\u001b[39m: [\u001b[38;5;124m'\u001b[39m\u001b[38;5;124m945\u001b[39m\u001b[38;5;124m'\u001b[39m],\n",
      "                        \u001b[38;5;124m'\u001b[39m\u001b[38;5;124mChEMBL\u001b[39m\u001b[38;5;124m'\u001b[39m: [\u001b[38;5;124m'\u001b[39m\u001b[38;5;124mCHEMBL1842\u001b[39m\u001b[38;5;124m'\u001b[39m],\n",
      "                        \u001b[38;5;124m'\u001b[39m\u001b[38;5;124mChiTaRS\u001b[39m\u001b[38;5;124m'\u001b[39m: [\u001b[38;5;124m'\u001b[39m\u001b[38;5;124mCD33\u001b[39m\u001b[38;5;124m'\u001b[39m],\n",
      "                        \u001b[38;5;124m'\u001b[39m\u001b[38;5;124mDMDM\u001b[39m\u001b[38;5;124m'\u001b[39m: [\u001b[38;5;124m'\u001b[39m\u001b[38;5;124m116241290\u001b[39m\u001b[38;5;124m'\u001b[39m],\n",
      "                        \u001b[38;5;124m'\u001b[39m\u001b[38;5;124mDNASU\u001b[39m\u001b[38;5;124m'\u001b[39m: [\u001b[38;5;124m'\u001b[39m\u001b[38;5;124m945\u001b[39m\u001b[38;5;124m'\u001b[39m],\n",
      "                        \u001b[38;5;124m'\u001b[39m\u001b[38;5;124mDisGeNET\u001b[39m\u001b[38;5;124m'\u001b[39m: [\u001b[38;5;124m'\u001b[39m\u001b[38;5;124m945\u001b[39m\u001b[38;5;124m'\u001b[39m],\n",
      "                        \u001b[38;5;124m'\u001b[39m\u001b[38;5;124mDrugBank\u001b[39m\u001b[38;5;124m'\u001b[39m: [\u001b[38;5;124m'\u001b[39m\u001b[38;5;124mDB00056\u001b[39m\u001b[38;5;124m'\u001b[39m, \u001b[38;5;124m'\u001b[39m\u001b[38;5;124mDB06318\u001b[39m\u001b[38;5;124m'\u001b[39m],\n",
      "                        \u001b[38;5;124m'\u001b[39m\u001b[38;5;124mDrugCentral\u001b[39m\u001b[38;5;124m'\u001b[39m: [\u001b[38;5;124m'\u001b[39m\u001b[38;5;124mP20138\u001b[39m\u001b[38;5;124m'\u001b[39m],\n",
      "                        \u001b[38;5;124m'\u001b[39m\u001b[38;5;124mEMBL\u001b[39m\u001b[38;5;124m'\u001b[39m: [\u001b[38;5;124m'\u001b[39m\u001b[38;5;124mAC063977\u001b[39m\u001b[38;5;124m'\u001b[39m,\n",
      "                                 \u001b[38;5;124m'\u001b[39m\u001b[38;5;124mAK304810\u001b[39m\u001b[38;5;124m'\u001b[39m,\n",
      "                                 \u001b[38;5;124m'\u001b[39m\u001b[38;5;124mAY040541\u001b[39m\u001b[38;5;124m'\u001b[39m,\n",
      "                                 \u001b[38;5;124m'\u001b[39m\u001b[38;5;124mAY162464\u001b[39m\u001b[38;5;124m'\u001b[39m,\n",
      "                                 \u001b[38;5;124m'\u001b[39m\u001b[38;5;124mBC028152\u001b[39m\u001b[38;5;124m'\u001b[39m,\n",
      "                                 \u001b[38;5;124m'\u001b[39m\u001b[38;5;124mCH471135\u001b[39m\u001b[38;5;124m'\u001b[39m,\n",
      "                                 \u001b[38;5;124m'\u001b[39m\u001b[38;5;124mM23197\u001b[39m\u001b[38;5;124m'\u001b[39m],\n",
      "                        \u001b[38;5;124m'\u001b[39m\u001b[38;5;124mEPD\u001b[39m\u001b[38;5;124m'\u001b[39m: [\u001b[38;5;124m'\u001b[39m\u001b[38;5;124mP20138\u001b[39m\u001b[38;5;124m'\u001b[39m],\n",
      "                        \u001b[38;5;124m'\u001b[39m\u001b[38;5;124mEnsembl\u001b[39m\u001b[38;5;124m'\u001b[39m: [\u001b[38;5;124m'\u001b[39m\u001b[38;5;124mENST00000262262\u001b[39m\u001b[38;5;124m'\u001b[39m,\n",
      "                                    \u001b[38;5;124m'\u001b[39m\u001b[38;5;124mENST00000391796\u001b[39m\u001b[38;5;124m'\u001b[39m,\n",
      "                                    \u001b[38;5;124m'\u001b[39m\u001b[38;5;124mENST00000421133\u001b[39m\u001b[38;5;124m'\u001b[39m],\n",
      "                        \u001b[38;5;124m'\u001b[39m\u001b[38;5;124mExpressionAtlas\u001b[39m\u001b[38;5;124m'\u001b[39m: [\u001b[38;5;124m'\u001b[39m\u001b[38;5;124mP20138\u001b[39m\u001b[38;5;124m'\u001b[39m],\n",
      "                        \u001b[38;5;124m'\u001b[39m\u001b[38;5;124mGO\u001b[39m\u001b[38;5;124m'\u001b[39m: [\u001b[38;5;124m'\u001b[39m\u001b[38;5;124mGO:0002765\u001b[39m\u001b[38;5;124m'\u001b[39m,\n",
      "                               \u001b[38;5;124m'\u001b[39m\u001b[38;5;124mGO:0005654\u001b[39m\u001b[38;5;124m'\u001b[39m,\n",
      "                               \u001b[38;5;124m'\u001b[39m\u001b[38;5;124mGO:0005777\u001b[39m\u001b[38;5;124m'\u001b[39m,\n",
      "                               \u001b[38;5;124m'\u001b[39m\u001b[38;5;124mGO:0005794\u001b[39m\u001b[38;5;124m'\u001b[39m,\n",
      "                               \u001b[38;5;124m'\u001b[39m\u001b[38;5;124mGO:0005886\u001b[39m\u001b[38;5;124m'\u001b[39m,\n",
      "                               \u001b[38;5;124m'\u001b[39m\u001b[38;5;124mGO:0005887\u001b[39m\u001b[38;5;124m'\u001b[39m,\n",
      "                               \u001b[38;5;124m'\u001b[39m\u001b[38;5;124mGO:0007155\u001b[39m\u001b[38;5;124m'\u001b[39m,\n",
      "                               \u001b[38;5;124m'\u001b[39m\u001b[38;5;124mGO:0007165\u001b[39m\u001b[38;5;124m'\u001b[39m,\n",
      "                               \u001b[38;5;124m'\u001b[39m\u001b[38;5;124mGO:0007267\u001b[39m\u001b[38;5;124m'\u001b[39m,\n",
      "                               \u001b[38;5;124m'\u001b[39m\u001b[38;5;124mGO:0008285\u001b[39m\u001b[38;5;124m'\u001b[39m,\n",
      "                               \u001b[38;5;124m'\u001b[39m\u001b[38;5;124mGO:0009897\u001b[39m\u001b[38;5;124m'\u001b[39m,\n",
      "                               \u001b[38;5;124m'\u001b[39m\u001b[38;5;124mGO:0009986\u001b[39m\u001b[38;5;124m'\u001b[39m,\n",
      "                               \u001b[38;5;124m'\u001b[39m\u001b[38;5;124mGO:0019903\u001b[39m\u001b[38;5;124m'\u001b[39m,\n",
      "                               \u001b[38;5;124m'\u001b[39m\u001b[38;5;124mGO:0030246\u001b[39m\u001b[38;5;124m'\u001b[39m,\n",
      "                               \u001b[38;5;124m'\u001b[39m\u001b[38;5;124mGO:0032691\u001b[39m\u001b[38;5;124m'\u001b[39m,\n",
      "                               \u001b[38;5;124m'\u001b[39m\u001b[38;5;124mGO:0032717\u001b[39m\u001b[38;5;124m'\u001b[39m,\n",
      "                               \u001b[38;5;124m'\u001b[39m\u001b[38;5;124mGO:0032720\u001b[39m\u001b[38;5;124m'\u001b[39m,\n",
      "                               \u001b[38;5;124m'\u001b[39m\u001b[38;5;124mGO:0033691\u001b[39m\u001b[38;5;124m'\u001b[39m,\n",
      "                               \u001b[38;5;124m'\u001b[39m\u001b[38;5;124mGO:0035579\u001b[39m\u001b[38;5;124m'\u001b[39m,\n",
      "                               \u001b[38;5;124m'\u001b[39m\u001b[38;5;124mGO:0038023\u001b[39m\u001b[38;5;124m'\u001b[39m,\n",
      "                               \u001b[38;5;124m'\u001b[39m\u001b[38;5;124mGO:0043312\u001b[39m\u001b[38;5;124m'\u001b[39m,\n",
      "                               \u001b[38;5;124m'\u001b[39m\u001b[38;5;124mGO:0050714\u001b[39m\u001b[38;5;124m'\u001b[39m,\n",
      "                               \u001b[38;5;124m'\u001b[39m\u001b[38;5;124mGO:0050776\u001b[39m\u001b[38;5;124m'\u001b[39m,\n",
      "                               \u001b[38;5;124m'\u001b[39m\u001b[38;5;124mGO:0051926\u001b[39m\u001b[38;5;124m'\u001b[39m,\n",
      "                               \u001b[38;5;124m'\u001b[39m\u001b[38;5;124mGO:0070821\u001b[39m\u001b[38;5;124m'\u001b[39m,\n",
      "                               \u001b[38;5;124m'\u001b[39m\u001b[38;5;124mGO:0098609\u001b[39m\u001b[38;5;124m'\u001b[39m,\n",
      "                               \u001b[38;5;124m'\u001b[39m\u001b[38;5;124mGO:0150102\u001b[39m\u001b[38;5;124m'\u001b[39m,\n",
      "                               \u001b[38;5;124m'\u001b[39m\u001b[38;5;124mGO:1903615\u001b[39m\u001b[38;5;124m'\u001b[39m],\n",
      "                        \u001b[38;5;124m'\u001b[39m\u001b[38;5;124mGene3D\u001b[39m\u001b[38;5;124m'\u001b[39m: [\u001b[38;5;124m'\u001b[39m\u001b[38;5;124m2.60.40.10\u001b[39m\u001b[38;5;124m'\u001b[39m],\n",
      "                        \u001b[38;5;124m'\u001b[39m\u001b[38;5;124mGeneCards\u001b[39m\u001b[38;5;124m'\u001b[39m: [\u001b[38;5;124m'\u001b[39m\u001b[38;5;124mCD33\u001b[39m\u001b[38;5;124m'\u001b[39m],\n",
      "                        \u001b[38;5;124m'\u001b[39m\u001b[38;5;124mGeneID\u001b[39m\u001b[38;5;124m'\u001b[39m: [\u001b[38;5;124m'\u001b[39m\u001b[38;5;124m945\u001b[39m\u001b[38;5;124m'\u001b[39m],\n",
      "                        \u001b[38;5;124m'\u001b[39m\u001b[38;5;124mGeneTree\u001b[39m\u001b[38;5;124m'\u001b[39m: [\u001b[38;5;124m'\u001b[39m\u001b[38;5;124mENSGT01030000234562\u001b[39m\u001b[38;5;124m'\u001b[39m],\n",
      "                        \u001b[38;5;124m'\u001b[39m\u001b[38;5;124mGenevisible\u001b[39m\u001b[38;5;124m'\u001b[39m: [\u001b[38;5;124m'\u001b[39m\u001b[38;5;124mP20138\u001b[39m\u001b[38;5;124m'\u001b[39m],\n",
      "                        \u001b[38;5;124m'\u001b[39m\u001b[38;5;124mGenomeRNAi\u001b[39m\u001b[38;5;124m'\u001b[39m: [\u001b[38;5;124m'\u001b[39m\u001b[38;5;124m945\u001b[39m\u001b[38;5;124m'\u001b[39m],\n",
      "                        \u001b[38;5;124m'\u001b[39m\u001b[38;5;124mGlyGen\u001b[39m\u001b[38;5;124m'\u001b[39m: [\u001b[38;5;124m'\u001b[39m\u001b[38;5;124mP20138\u001b[39m\u001b[38;5;124m'\u001b[39m],\n",
      "                        \u001b[38;5;124m'\u001b[39m\u001b[38;5;124mGuidetoPHARMACOLOGY\u001b[39m\u001b[38;5;124m'\u001b[39m: [\u001b[38;5;124m'\u001b[39m\u001b[38;5;124m2601\u001b[39m\u001b[38;5;124m'\u001b[39m],\n",
      "                        \u001b[38;5;124m'\u001b[39m\u001b[38;5;124mHGNC\u001b[39m\u001b[38;5;124m'\u001b[39m: [\u001b[38;5;124m'\u001b[39m\u001b[38;5;124mHGNC:1659\u001b[39m\u001b[38;5;124m'\u001b[39m],\n",
      "                        \u001b[38;5;124m'\u001b[39m\u001b[38;5;124mHOGENOM\u001b[39m\u001b[38;5;124m'\u001b[39m: [\u001b[38;5;124m'\u001b[39m\u001b[38;5;124mCLU_102212_0_0_1\u001b[39m\u001b[38;5;124m'\u001b[39m],\n",
      "                        \u001b[38;5;124m'\u001b[39m\u001b[38;5;124mHPA\u001b[39m\u001b[38;5;124m'\u001b[39m: [\u001b[38;5;124m'\u001b[39m\u001b[38;5;124mENSG00000105383\u001b[39m\u001b[38;5;124m'\u001b[39m],\n",
      "                        \u001b[38;5;124m'\u001b[39m\u001b[38;5;124mInParanoid\u001b[39m\u001b[38;5;124m'\u001b[39m: [\u001b[38;5;124m'\u001b[39m\u001b[38;5;124mP20138\u001b[39m\u001b[38;5;124m'\u001b[39m],\n",
      "                        \u001b[38;5;124m'\u001b[39m\u001b[38;5;124mIntAct\u001b[39m\u001b[38;5;124m'\u001b[39m: [\u001b[38;5;124m'\u001b[39m\u001b[38;5;124mP20138\u001b[39m\u001b[38;5;124m'\u001b[39m],\n",
      "                        \u001b[38;5;124m'\u001b[39m\u001b[38;5;124mInterPro\u001b[39m\u001b[38;5;124m'\u001b[39m: [\u001b[38;5;124m'\u001b[39m\u001b[38;5;124mIPR003599\u001b[39m\u001b[38;5;124m'\u001b[39m,\n",
      "                                     \u001b[38;5;124m'\u001b[39m\u001b[38;5;124mIPR007110\u001b[39m\u001b[38;5;124m'\u001b[39m,\n",
      "                                     \u001b[38;5;124m'\u001b[39m\u001b[38;5;124mIPR013106\u001b[39m\u001b[38;5;124m'\u001b[39m,\n",
      "                                     \u001b[38;5;124m'\u001b[39m\u001b[38;5;124mIPR013151\u001b[39m\u001b[38;5;124m'\u001b[39m,\n",
      "                                     \u001b[38;5;124m'\u001b[39m\u001b[38;5;124mIPR013783\u001b[39m\u001b[38;5;124m'\u001b[39m,\n",
      "                                     \u001b[38;5;124m'\u001b[39m\u001b[38;5;124mIPR036179\u001b[39m\u001b[38;5;124m'\u001b[39m],\n",
      "                        \u001b[38;5;124m'\u001b[39m\u001b[38;5;124mKEGG\u001b[39m\u001b[38;5;124m'\u001b[39m: [\u001b[38;5;124m'\u001b[39m\u001b[38;5;124mhsa:945\u001b[39m\u001b[38;5;124m'\u001b[39m],\n",
      "                        \u001b[38;5;124m'\u001b[39m\u001b[38;5;124mMIM\u001b[39m\u001b[38;5;124m'\u001b[39m: [\u001b[38;5;124m'\u001b[39m\u001b[38;5;124m159590\u001b[39m\u001b[38;5;124m'\u001b[39m],\n",
      "                        \u001b[38;5;124m'\u001b[39m\u001b[38;5;124mMINT\u001b[39m\u001b[38;5;124m'\u001b[39m: [\u001b[38;5;124m'\u001b[39m\u001b[38;5;124mP20138\u001b[39m\u001b[38;5;124m'\u001b[39m],\n",
      "                        \u001b[38;5;124m'\u001b[39m\u001b[38;5;124mMassIVE\u001b[39m\u001b[38;5;124m'\u001b[39m: [\u001b[38;5;124m'\u001b[39m\u001b[38;5;124mP20138\u001b[39m\u001b[38;5;124m'\u001b[39m],\n",
      "                        \u001b[38;5;124m'\u001b[39m\u001b[38;5;124mOMA\u001b[39m\u001b[38;5;124m'\u001b[39m: [\u001b[38;5;124m'\u001b[39m\u001b[38;5;124mEGAIVSW\u001b[39m\u001b[38;5;124m'\u001b[39m],\n",
      "                        \u001b[38;5;124m'\u001b[39m\u001b[38;5;124mOpenTargets\u001b[39m\u001b[38;5;124m'\u001b[39m: [\u001b[38;5;124m'\u001b[39m\u001b[38;5;124mENSG00000105383\u001b[39m\u001b[38;5;124m'\u001b[39m],\n",
      "                        \u001b[38;5;124m'\u001b[39m\u001b[38;5;124mPDB\u001b[39m\u001b[38;5;124m'\u001b[39m: [\u001b[38;5;124m'\u001b[39m\u001b[38;5;124m5IHB\u001b[39m\u001b[38;5;124m'\u001b[39m,\n",
      "                                \u001b[38;5;124m'\u001b[39m\u001b[38;5;124m5J06\u001b[39m\u001b[38;5;124m'\u001b[39m,\n",
      "                                \u001b[38;5;124m'\u001b[39m\u001b[38;5;124m5J0B\u001b[39m\u001b[38;5;124m'\u001b[39m,\n",
      "                                \u001b[38;5;124m'\u001b[39m\u001b[38;5;124m6D48\u001b[39m\u001b[38;5;124m'\u001b[39m,\n",
      "                                \u001b[38;5;124m'\u001b[39m\u001b[38;5;124m6D49\u001b[39m\u001b[38;5;124m'\u001b[39m,\n",
      "                                \u001b[38;5;124m'\u001b[39m\u001b[38;5;124m6D4A\u001b[39m\u001b[38;5;124m'\u001b[39m,\n",
      "                                \u001b[38;5;124m'\u001b[39m\u001b[38;5;124m6TL8\u001b[39m\u001b[38;5;124m'\u001b[39m,\n",
      "                                \u001b[38;5;124m'\u001b[39m\u001b[38;5;124m7AW6\u001b[39m\u001b[38;5;124m'\u001b[39m],\n",
      "                        \u001b[38;5;124m'\u001b[39m\u001b[38;5;124mPDBsum\u001b[39m\u001b[38;5;124m'\u001b[39m: [\u001b[38;5;124m'\u001b[39m\u001b[38;5;124m5IHB\u001b[39m\u001b[38;5;124m'\u001b[39m,\n",
      "                                   \u001b[38;5;124m'\u001b[39m\u001b[38;5;124m5J06\u001b[39m\u001b[38;5;124m'\u001b[39m,\n",
      "                                   \u001b[38;5;124m'\u001b[39m\u001b[38;5;124m5J0B\u001b[39m\u001b[38;5;124m'\u001b[39m,\n",
      "                                   \u001b[38;5;124m'\u001b[39m\u001b[38;5;124m6D48\u001b[39m\u001b[38;5;124m'\u001b[39m,\n",
      "                                   \u001b[38;5;124m'\u001b[39m\u001b[38;5;124m6D49\u001b[39m\u001b[38;5;124m'\u001b[39m,\n",
      "                                   \u001b[38;5;124m'\u001b[39m\u001b[38;5;124m6D4A\u001b[39m\u001b[38;5;124m'\u001b[39m,\n",
      "                                   \u001b[38;5;124m'\u001b[39m\u001b[38;5;124m6TL8\u001b[39m\u001b[38;5;124m'\u001b[39m,\n",
      "                                   \u001b[38;5;124m'\u001b[39m\u001b[38;5;124m7AW6\u001b[39m\u001b[38;5;124m'\u001b[39m],\n",
      "                        \u001b[38;5;124m'\u001b[39m\u001b[38;5;124mPIR\u001b[39m\u001b[38;5;124m'\u001b[39m: [\u001b[38;5;124m'\u001b[39m\u001b[38;5;124mA30521\u001b[39m\u001b[38;5;124m'\u001b[39m],\n",
      "                        \u001b[38;5;124m'\u001b[39m\u001b[38;5;124mPRIDE\u001b[39m\u001b[38;5;124m'\u001b[39m: [\u001b[38;5;124m'\u001b[39m\u001b[38;5;124mP20138\u001b[39m\u001b[38;5;124m'\u001b[39m],\n",
      "                        \u001b[38;5;124m'\u001b[39m\u001b[38;5;124mPRO\u001b[39m\u001b[38;5;124m'\u001b[39m: [\u001b[38;5;124m'\u001b[39m\u001b[38;5;124mPR:P20138\u001b[39m\u001b[38;5;124m'\u001b[39m],\n",
      "                        \u001b[38;5;124m'\u001b[39m\u001b[38;5;124mPROSITE\u001b[39m\u001b[38;5;124m'\u001b[39m: [\u001b[38;5;124m'\u001b[39m\u001b[38;5;124mPS50835\u001b[39m\u001b[38;5;124m'\u001b[39m],\n",
      "                        \u001b[38;5;124m'\u001b[39m\u001b[38;5;124mPathwayCommons\u001b[39m\u001b[38;5;124m'\u001b[39m: [\u001b[38;5;124m'\u001b[39m\u001b[38;5;124mP20138\u001b[39m\u001b[38;5;124m'\u001b[39m],\n",
      "                        \u001b[38;5;124m'\u001b[39m\u001b[38;5;124mPaxDb\u001b[39m\u001b[38;5;124m'\u001b[39m: [\u001b[38;5;124m'\u001b[39m\u001b[38;5;124mP20138\u001b[39m\u001b[38;5;124m'\u001b[39m],\n",
      "                        \u001b[38;5;124m'\u001b[39m\u001b[38;5;124mPeptideAtlas\u001b[39m\u001b[38;5;124m'\u001b[39m: [\u001b[38;5;124m'\u001b[39m\u001b[38;5;124mP20138\u001b[39m\u001b[38;5;124m'\u001b[39m],\n",
      "                        \u001b[38;5;124m'\u001b[39m\u001b[38;5;124mPfam\u001b[39m\u001b[38;5;124m'\u001b[39m: [\u001b[38;5;124m'\u001b[39m\u001b[38;5;124mPF00047\u001b[39m\u001b[38;5;124m'\u001b[39m, \u001b[38;5;124m'\u001b[39m\u001b[38;5;124mPF07686\u001b[39m\u001b[38;5;124m'\u001b[39m],\n",
      "                        \u001b[38;5;124m'\u001b[39m\u001b[38;5;124mPharmGKB\u001b[39m\u001b[38;5;124m'\u001b[39m: [\u001b[38;5;124m'\u001b[39m\u001b[38;5;124mPA26210\u001b[39m\u001b[38;5;124m'\u001b[39m],\n",
      "                        \u001b[38;5;124m'\u001b[39m\u001b[38;5;124mPharos\u001b[39m\u001b[38;5;124m'\u001b[39m: [\u001b[38;5;124m'\u001b[39m\u001b[38;5;124mP20138\u001b[39m\u001b[38;5;124m'\u001b[39m],\n",
      "                        \u001b[38;5;124m'\u001b[39m\u001b[38;5;124mPhosphoSitePlus\u001b[39m\u001b[38;5;124m'\u001b[39m: [\u001b[38;5;124m'\u001b[39m\u001b[38;5;124mP20138\u001b[39m\u001b[38;5;124m'\u001b[39m],\n",
      "                        \u001b[38;5;124m'\u001b[39m\u001b[38;5;124mPhylomeDB\u001b[39m\u001b[38;5;124m'\u001b[39m: [\u001b[38;5;124m'\u001b[39m\u001b[38;5;124mP20138\u001b[39m\u001b[38;5;124m'\u001b[39m],\n",
      "                        \u001b[38;5;124m'\u001b[39m\u001b[38;5;124mProteomes\u001b[39m\u001b[38;5;124m'\u001b[39m: [\u001b[38;5;124m'\u001b[39m\u001b[38;5;124mUP000005640\u001b[39m\u001b[38;5;124m'\u001b[39m],\n",
      "                        \u001b[38;5;124m'\u001b[39m\u001b[38;5;124mProteomicsDB\u001b[39m\u001b[38;5;124m'\u001b[39m: [\u001b[38;5;124m'\u001b[39m\u001b[38;5;124m30518\u001b[39m\u001b[38;5;124m'\u001b[39m, \u001b[38;5;124m'\u001b[39m\u001b[38;5;124m53725\u001b[39m\u001b[38;5;124m'\u001b[39m, \u001b[38;5;124m'\u001b[39m\u001b[38;5;124m9878\u001b[39m\u001b[38;5;124m'\u001b[39m],\n",
      "                        \u001b[38;5;124m'\u001b[39m\u001b[38;5;124mRNAct\u001b[39m\u001b[38;5;124m'\u001b[39m: [\u001b[38;5;124m'\u001b[39m\u001b[38;5;124mP20138\u001b[39m\u001b[38;5;124m'\u001b[39m],\n",
      "                        \u001b[38;5;124m'\u001b[39m\u001b[38;5;124mReactome\u001b[39m\u001b[38;5;124m'\u001b[39m: [\u001b[38;5;124m'\u001b[39m\u001b[38;5;124mR-HSA-198933\u001b[39m\u001b[38;5;124m'\u001b[39m, \u001b[38;5;124m'\u001b[39m\u001b[38;5;124mR-HSA-6798695\u001b[39m\u001b[38;5;124m'\u001b[39m],\n",
      "                        \u001b[38;5;124m'\u001b[39m\u001b[38;5;124mRefSeq\u001b[39m\u001b[38;5;124m'\u001b[39m: [\u001b[38;5;124m'\u001b[39m\u001b[38;5;124mNP_001076087.1\u001b[39m\u001b[38;5;124m'\u001b[39m,\n",
      "                                   \u001b[38;5;124m'\u001b[39m\u001b[38;5;124mNP_001171079.1\u001b[39m\u001b[38;5;124m'\u001b[39m,\n",
      "                                   \u001b[38;5;124m'\u001b[39m\u001b[38;5;124mNP_001763.3\u001b[39m\u001b[38;5;124m'\u001b[39m,\n",
      "                                   \u001b[38;5;124m'\u001b[39m\u001b[38;5;124mXP_011525834.1\u001b[39m\u001b[38;5;124m'\u001b[39m],\n",
      "                        \u001b[38;5;124m'\u001b[39m\u001b[38;5;124mSIGNOR\u001b[39m\u001b[38;5;124m'\u001b[39m: [\u001b[38;5;124m'\u001b[39m\u001b[38;5;124mP20138\u001b[39m\u001b[38;5;124m'\u001b[39m],\n",
      "                        \u001b[38;5;124m'\u001b[39m\u001b[38;5;124mSMART\u001b[39m\u001b[38;5;124m'\u001b[39m: [\u001b[38;5;124m'\u001b[39m\u001b[38;5;124mSM00409\u001b[39m\u001b[38;5;124m'\u001b[39m],\n",
      "                        \u001b[38;5;124m'\u001b[39m\u001b[38;5;124mSMR\u001b[39m\u001b[38;5;124m'\u001b[39m: [\u001b[38;5;124m'\u001b[39m\u001b[38;5;124mP20138\u001b[39m\u001b[38;5;124m'\u001b[39m],\n",
      "                        \u001b[38;5;124m'\u001b[39m\u001b[38;5;124mSTRING\u001b[39m\u001b[38;5;124m'\u001b[39m: [\u001b[38;5;124m'\u001b[39m\u001b[38;5;124m9606.ENSP00000262262\u001b[39m\u001b[38;5;124m'\u001b[39m],\n",
      "                        \u001b[38;5;124m'\u001b[39m\u001b[38;5;124mSUPFAM\u001b[39m\u001b[38;5;124m'\u001b[39m: [\u001b[38;5;124m'\u001b[39m\u001b[38;5;124mSSF48726\u001b[39m\u001b[38;5;124m'\u001b[39m],\n",
      "                        \u001b[38;5;124m'\u001b[39m\u001b[38;5;124mTreeFam\u001b[39m\u001b[38;5;124m'\u001b[39m: [\u001b[38;5;124m'\u001b[39m\u001b[38;5;124mTF332441\u001b[39m\u001b[38;5;124m'\u001b[39m],\n",
      "                        \u001b[38;5;124m'\u001b[39m\u001b[38;5;124mUCSC\u001b[39m\u001b[38;5;124m'\u001b[39m: [\u001b[38;5;124m'\u001b[39m\u001b[38;5;124muc010eos.2\u001b[39m\u001b[38;5;124m'\u001b[39m],\n",
      "                        \u001b[38;5;124m'\u001b[39m\u001b[38;5;124mUniLectin\u001b[39m\u001b[38;5;124m'\u001b[39m: [\u001b[38;5;124m'\u001b[39m\u001b[38;5;124mP20138\u001b[39m\u001b[38;5;124m'\u001b[39m],\n",
      "                        \u001b[38;5;124m'\u001b[39m\u001b[38;5;124mVEuPathDB\u001b[39m\u001b[38;5;124m'\u001b[39m: [\u001b[38;5;124m'\u001b[39m\u001b[38;5;124mHostDB:ENSG00000105383.14\u001b[39m\u001b[38;5;124m'\u001b[39m],\n",
      "                        \u001b[38;5;124m'\u001b[39m\u001b[38;5;124meggNOG\u001b[39m\u001b[38;5;124m'\u001b[39m: [\u001b[38;5;124m'\u001b[39m\u001b[38;5;124mENOG502S41V\u001b[39m\u001b[38;5;124m'\u001b[39m],\n",
      "                        \u001b[38;5;124m'\u001b[39m\u001b[38;5;124miPTMnet\u001b[39m\u001b[38;5;124m'\u001b[39m: [\u001b[38;5;124m'\u001b[39m\u001b[38;5;124mP20138\u001b[39m\u001b[38;5;124m'\u001b[39m],\n",
      "                        \u001b[38;5;124m'\u001b[39m\u001b[38;5;124mjPOST\u001b[39m\u001b[38;5;124m'\u001b[39m: [\u001b[38;5;124m'\u001b[39m\u001b[38;5;124mP20138\u001b[39m\u001b[38;5;124m'\u001b[39m],\n",
      "                        \u001b[38;5;124m'\u001b[39m\u001b[38;5;124mneXtProt\u001b[39m\u001b[38;5;124m'\u001b[39m: [\u001b[38;5;124m'\u001b[39m\u001b[38;5;124mNX_P20138\u001b[39m\u001b[38;5;124m'\u001b[39m]}}]}\n",
      "\n",
      "For further testing go to http://0.0.0.0:5000/ui/#/UniProt/ebel.web.api.ebel.v1.uniprot.get_uniprot\n"
     ]
    },
    {
     "data": {
      "text/html": [
       "<h2>2. UniProt entries in Knowledge Graph</h2>"
      ],
      "text/plain": [
       "<IPython.core.display.HTML object>"
      ]
     },
     "metadata": {},
     "output_type": "display_data"
    },
    {
     "data": {
      "text/html": [
       "<b style=\"color: rgb(98,98,98); text-decoration: underline;\">Description:</b> <p>UniProt entries in Knowledge Graph</p>"
      ],
      "text/plain": [
       "<IPython.core.display.HTML object>"
      ]
     },
     "metadata": {},
     "output_type": "display_data"
    },
    {
     "data": {
      "text/html": [
       "<b>Tags:</b> ['UniProt']"
      ],
      "text/plain": [
       "<IPython.core.display.HTML object>"
      ]
     },
     "metadata": {},
     "output_type": "display_data"
    },
    {
     "data": {
      "text/html": [
       "<b>Server path:</b> /api/v1/uniprot/bel"
      ],
      "text/plain": [
       "<IPython.core.display.HTML object>"
      ]
     },
     "metadata": {},
     "output_type": "display_data"
    },
    {
     "data": {
      "text/html": [
       "<div>\n",
       "<style scoped>\n",
       "    .dataframe tbody tr th:only-of-type {\n",
       "        vertical-align: middle;\n",
       "    }\n",
       "\n",
       "    .dataframe tbody tr th {\n",
       "        vertical-align: top;\n",
       "    }\n",
       "\n",
       "    .dataframe thead th {\n",
       "        text-align: right;\n",
       "    }\n",
       "</style>\n",
       "<table border=\"1\" class=\"dataframe\">\n",
       "  <thead>\n",
       "    <tr style=\"text-align: right;\">\n",
       "      <th></th>\n",
       "      <th>data type</th>\n",
       "      <th>description</th>\n",
       "      <th>example</th>\n",
       "      <th>options</th>\n",
       "      <th>default</th>\n",
       "      <th>required</th>\n",
       "    </tr>\n",
       "    <tr>\n",
       "      <th>parameter name</th>\n",
       "      <th></th>\n",
       "      <th></th>\n",
       "      <th></th>\n",
       "      <th></th>\n",
       "      <th></th>\n",
       "      <th></th>\n",
       "    </tr>\n",
       "  </thead>\n",
       "  <tbody>\n",
       "    <tr>\n",
       "      <th>accession</th>\n",
       "      <td>string</td>\n",
       "      <td>1st accession number</td>\n",
       "      <td>P10636</td>\n",
       "      <td></td>\n",
       "      <td></td>\n",
       "      <td>False</td>\n",
       "    </tr>\n",
       "    <tr>\n",
       "      <th>page_size</th>\n",
       "      <td>integer</td>\n",
       "      <td>Results per page</td>\n",
       "      <td>1</td>\n",
       "      <td></td>\n",
       "      <td>10.0</td>\n",
       "      <td>False</td>\n",
       "    </tr>\n",
       "    <tr>\n",
       "      <th>page</th>\n",
       "      <td>integer</td>\n",
       "      <td>Page number (starting with 1)</td>\n",
       "      <td>1</td>\n",
       "      <td></td>\n",
       "      <td>1.0</td>\n",
       "      <td>False</td>\n",
       "    </tr>\n",
       "  </tbody>\n",
       "</table>\n",
       "</div>"
      ],
      "text/plain": [
       "               data type                    description example options  \\\n",
       "parameter name                                                            \n",
       "accession         string           1st accession number  P10636           \n",
       "page_size        integer               Results per page       1           \n",
       "page             integer  Page number (starting with 1)       1           \n",
       "\n",
       "               default  required  \n",
       "parameter name                    \n",
       "accession                  False  \n",
       "page_size         10.0     False  \n",
       "page               1.0     False  "
      ]
     },
     "metadata": {},
     "output_type": "display_data"
    },
    {
     "data": {
      "text/html": [
       "<b>Example URL:</b> <a href=\"http://0.0.0.0:5000/api/v1/uniprot/bel?accession=P10636&page_size=1&page=1\">http://0.0.0.0:5000/api/v1/uniprot/bel?accession=P10636&page_size=1&page=1</a>"
      ],
      "text/plain": [
       "<IPython.core.display.HTML object>"
      ]
     },
     "metadata": {},
     "output_type": "display_data"
    },
    {
     "data": {
      "text/html": [
       "<b style=\"color: rgb(98,98,98); text-decoration: underline;\">Example response:</b>"
      ],
      "text/plain": [
       "<IPython.core.display.HTML object>"
      ]
     },
     "metadata": {},
     "output_type": "display_data"
    },
    {
     "name": "stdout",
     "output_type": "stream",
     "text": [
      "{\u001b[38;5;124m'\u001b[39m\u001b[38;5;124mbel\u001b[39m\u001b[38;5;124m'\u001b[39m: \u001b[38;5;124m'\u001b[39m\u001b[38;5;124mp(HGNC:\u001b[39m\u001b[38;5;124m\"\u001b[39m\u001b[38;5;124mMAPT\u001b[39m\u001b[38;5;124m\"\u001b[39m\u001b[38;5;124m)\u001b[39m\u001b[38;5;124m'\u001b[39m,\n",
      " \u001b[38;5;124m'\u001b[39m\u001b[38;5;124medges\u001b[39m\u001b[38;5;124m'\u001b[39m: {\u001b[38;5;124m'\u001b[39m\u001b[38;5;124min\u001b[39m\u001b[38;5;124m'\u001b[39m: [{\u001b[38;5;124m'\u001b[39m\u001b[38;5;124mcount\u001b[39m\u001b[38;5;124m'\u001b[39m: \u001b[38;5;241m199\u001b[39m, \u001b[38;5;124m'\u001b[39m\u001b[38;5;124mrelation\u001b[39m\u001b[38;5;124m'\u001b[39m: \u001b[38;5;124m'\u001b[39m\u001b[38;5;124mhas_ppi_ia\u001b[39m\u001b[38;5;124m'\u001b[39m},\n",
      "                  {\u001b[38;5;124m'\u001b[39m\u001b[38;5;124mcount\u001b[39m\u001b[38;5;124m'\u001b[39m: \u001b[38;5;241m45\u001b[39m, \u001b[38;5;124m'\u001b[39m\u001b[38;5;124mrelation\u001b[39m\u001b[38;5;124m'\u001b[39m: \u001b[38;5;124m'\u001b[39m\u001b[38;5;124mcontrols_phosphorylation_of_pc\u001b[39m\u001b[38;5;124m'\u001b[39m},\n",
      "                  {\u001b[38;5;124m'\u001b[39m\u001b[38;5;124mcount\u001b[39m\u001b[38;5;124m'\u001b[39m: \u001b[38;5;241m21\u001b[39m, \u001b[38;5;124m'\u001b[39m\u001b[38;5;124mrelation\u001b[39m\u001b[38;5;124m'\u001b[39m: \u001b[38;5;124m'\u001b[39m\u001b[38;5;124mcontrols_expression_of_pc\u001b[39m\u001b[38;5;124m'\u001b[39m},\n",
      "                  {\u001b[38;5;124m'\u001b[39m\u001b[38;5;124mcount\u001b[39m\u001b[38;5;124m'\u001b[39m: \u001b[38;5;241m19\u001b[39m, \u001b[38;5;124m'\u001b[39m\u001b[38;5;124mrelation\u001b[39m\u001b[38;5;124m'\u001b[39m: \u001b[38;5;124m'\u001b[39m\u001b[38;5;124mcontrols_pmod_of_st\u001b[39m\u001b[38;5;124m'\u001b[39m},\n",
      "                  {\u001b[38;5;124m'\u001b[39m\u001b[38;5;124mcount\u001b[39m\u001b[38;5;124m'\u001b[39m: \u001b[38;5;241m12\u001b[39m, \u001b[38;5;124m'\u001b[39m\u001b[38;5;124mrelation\u001b[39m\u001b[38;5;124m'\u001b[39m: \u001b[38;5;124m'\u001b[39m\u001b[38;5;124mdecreases_bg\u001b[39m\u001b[38;5;124m'\u001b[39m},\n",
      "                  {\u001b[38;5;124m'\u001b[39m\u001b[38;5;124mcount\u001b[39m\u001b[38;5;124m'\u001b[39m: \u001b[38;5;241m9\u001b[39m, \u001b[38;5;124m'\u001b[39m\u001b[38;5;124mrelation\u001b[39m\u001b[38;5;124m'\u001b[39m: \u001b[38;5;124m'\u001b[39m\u001b[38;5;124mactivates_st\u001b[39m\u001b[38;5;124m'\u001b[39m},\n",
      "                  {\u001b[38;5;124m'\u001b[39m\u001b[38;5;124mcount\u001b[39m\u001b[38;5;124m'\u001b[39m: \u001b[38;5;241m6\u001b[39m, \u001b[38;5;124m'\u001b[39m\u001b[38;5;124mrelation\u001b[39m\u001b[38;5;124m'\u001b[39m: \u001b[38;5;124m'\u001b[39m\u001b[38;5;124mpositive_correlation\u001b[39m\u001b[38;5;124m'\u001b[39m},\n",
      "                  {\u001b[38;5;124m'\u001b[39m\u001b[38;5;124mcount\u001b[39m\u001b[38;5;124m'\u001b[39m: \u001b[38;5;241m5\u001b[39m, \u001b[38;5;124m'\u001b[39m\u001b[38;5;124mrelation\u001b[39m\u001b[38;5;124m'\u001b[39m: \u001b[38;5;124m'\u001b[39m\u001b[38;5;124mhas_drug_target_db\u001b[39m\u001b[38;5;124m'\u001b[39m},\n",
      "                  {\u001b[38;5;124m'\u001b[39m\u001b[38;5;124mcount\u001b[39m\u001b[38;5;124m'\u001b[39m: \u001b[38;5;241m3\u001b[39m, \u001b[38;5;124m'\u001b[39m\u001b[38;5;124mrelation\u001b[39m\u001b[38;5;124m'\u001b[39m: \u001b[38;5;124m'\u001b[39m\u001b[38;5;124mhas_ppi_st\u001b[39m\u001b[38;5;124m'\u001b[39m},\n",
      "                  {\u001b[38;5;124m'\u001b[39m\u001b[38;5;124mcount\u001b[39m\u001b[38;5;124m'\u001b[39m: \u001b[38;5;241m2\u001b[39m, \u001b[38;5;124m'\u001b[39m\u001b[38;5;124mrelation\u001b[39m\u001b[38;5;124m'\u001b[39m: \u001b[38;5;124m'\u001b[39m\u001b[38;5;124mhas__protein\u001b[39m\u001b[38;5;124m'\u001b[39m},\n",
      "                  {\u001b[38;5;124m'\u001b[39m\u001b[38;5;124mcount\u001b[39m\u001b[38;5;124m'\u001b[39m: \u001b[38;5;241m1\u001b[39m, \u001b[38;5;124m'\u001b[39m\u001b[38;5;124mrelation\u001b[39m\u001b[38;5;124m'\u001b[39m: \u001b[38;5;124m'\u001b[39m\u001b[38;5;124massociation\u001b[39m\u001b[38;5;124m'\u001b[39m},\n",
      "                  {\u001b[38;5;124m'\u001b[39m\u001b[38;5;124mcount\u001b[39m\u001b[38;5;124m'\u001b[39m: \u001b[38;5;241m1\u001b[39m, \u001b[38;5;124m'\u001b[39m\u001b[38;5;124mrelation\u001b[39m\u001b[38;5;124m'\u001b[39m: \u001b[38;5;124m'\u001b[39m\u001b[38;5;124mdirectly_decreases\u001b[39m\u001b[38;5;124m'\u001b[39m},\n",
      "                  {\u001b[38;5;124m'\u001b[39m\u001b[38;5;124mcount\u001b[39m\u001b[38;5;124m'\u001b[39m: \u001b[38;5;241m1\u001b[39m, \u001b[38;5;124m'\u001b[39m\u001b[38;5;124mrelation\u001b[39m\u001b[38;5;124m'\u001b[39m: \u001b[38;5;124m'\u001b[39m\u001b[38;5;124mincreases_expression_of_st\u001b[39m\u001b[38;5;124m'\u001b[39m},\n",
      "                  {\u001b[38;5;124m'\u001b[39m\u001b[38;5;124mcount\u001b[39m\u001b[38;5;124m'\u001b[39m: \u001b[38;5;241m1\u001b[39m, \u001b[38;5;124m'\u001b[39m\u001b[38;5;124mrelation\u001b[39m\u001b[38;5;124m'\u001b[39m: \u001b[38;5;124m'\u001b[39m\u001b[38;5;124mtranslated_to\u001b[39m\u001b[38;5;124m'\u001b[39m}],\n",
      "           \u001b[38;5;124m'\u001b[39m\u001b[38;5;124mout\u001b[39m\u001b[38;5;124m'\u001b[39m: [{\u001b[38;5;124m'\u001b[39m\u001b[38;5;124mcount\u001b[39m\u001b[38;5;124m'\u001b[39m: \u001b[38;5;241m1071\u001b[39m, \u001b[38;5;124m'\u001b[39m\u001b[38;5;124mrelation\u001b[39m\u001b[38;5;124m'\u001b[39m: \u001b[38;5;124m'\u001b[39m\u001b[38;5;124mhas_ppi_ia\u001b[39m\u001b[38;5;124m'\u001b[39m},\n",
      "                   {\u001b[38;5;124m'\u001b[39m\u001b[38;5;124mcount\u001b[39m\u001b[38;5;124m'\u001b[39m: \u001b[38;5;241m116\u001b[39m, \u001b[38;5;124m'\u001b[39m\u001b[38;5;124mrelation\u001b[39m\u001b[38;5;124m'\u001b[39m: \u001b[38;5;124m'\u001b[39m\u001b[38;5;124mhas_ppi_st\u001b[39m\u001b[38;5;124m'\u001b[39m},\n",
      "                   {\u001b[38;5;124m'\u001b[39m\u001b[38;5;124mcount\u001b[39m\u001b[38;5;124m'\u001b[39m: \u001b[38;5;241m10\u001b[39m, \u001b[38;5;124m'\u001b[39m\u001b[38;5;124mrelation\u001b[39m\u001b[38;5;124m'\u001b[39m: \u001b[38;5;124m'\u001b[39m\u001b[38;5;124mhas_modified_protein\u001b[39m\u001b[38;5;124m'\u001b[39m},\n",
      "                   {\u001b[38;5;124m'\u001b[39m\u001b[38;5;124mcount\u001b[39m\u001b[38;5;124m'\u001b[39m: \u001b[38;5;241m6\u001b[39m, \u001b[38;5;124m'\u001b[39m\u001b[38;5;124mrelation\u001b[39m\u001b[38;5;124m'\u001b[39m: \u001b[38;5;124m'\u001b[39m\u001b[38;5;124mhas_located_protein\u001b[39m\u001b[38;5;124m'\u001b[39m},\n",
      "                   {\u001b[38;5;124m'\u001b[39m\u001b[38;5;124mcount\u001b[39m\u001b[38;5;124m'\u001b[39m: \u001b[38;5;241m4\u001b[39m, \u001b[38;5;124m'\u001b[39m\u001b[38;5;124mrelation\u001b[39m\u001b[38;5;124m'\u001b[39m: \u001b[38;5;124m'\u001b[39m\u001b[38;5;124mcontrols_expression_of_pc\u001b[39m\u001b[38;5;124m'\u001b[39m},\n",
      "                   {\u001b[38;5;124m'\u001b[39m\u001b[38;5;124mcount\u001b[39m\u001b[38;5;124m'\u001b[39m: \u001b[38;5;241m2\u001b[39m, \u001b[38;5;124m'\u001b[39m\u001b[38;5;124mrelation\u001b[39m\u001b[38;5;124m'\u001b[39m: \u001b[38;5;124m'\u001b[39m\u001b[38;5;124mincreases\u001b[39m\u001b[38;5;124m'\u001b[39m},\n",
      "                   {\u001b[38;5;124m'\u001b[39m\u001b[38;5;124mcount\u001b[39m\u001b[38;5;124m'\u001b[39m: \u001b[38;5;241m1\u001b[39m, \u001b[38;5;124m'\u001b[39m\u001b[38;5;124mrelation\u001b[39m\u001b[38;5;124m'\u001b[39m: \u001b[38;5;124m'\u001b[39m\u001b[38;5;124mnegative_correlation\u001b[39m\u001b[38;5;124m'\u001b[39m},\n",
      "                   {\u001b[38;5;124m'\u001b[39m\u001b[38;5;124mcount\u001b[39m\u001b[38;5;124m'\u001b[39m: \u001b[38;5;241m1\u001b[39m, \u001b[38;5;124m'\u001b[39m\u001b[38;5;124mrelation\u001b[39m\u001b[38;5;124m'\u001b[39m: \u001b[38;5;124m'\u001b[39m\u001b[38;5;124mbiomarker_for\u001b[39m\u001b[38;5;124m'\u001b[39m},\n",
      "                   {\u001b[38;5;124m'\u001b[39m\u001b[38;5;124mcount\u001b[39m\u001b[38;5;124m'\u001b[39m: \u001b[38;5;241m1\u001b[39m, \u001b[38;5;124m'\u001b[39m\u001b[38;5;124mrelation\u001b[39m\u001b[38;5;124m'\u001b[39m: \u001b[38;5;124m'\u001b[39m\u001b[38;5;124mactivates_st\u001b[39m\u001b[38;5;124m'\u001b[39m}]},\n",
      " \u001b[38;5;124m'\u001b[39m\u001b[38;5;124mname\u001b[39m\u001b[38;5;124m'\u001b[39m: \u001b[38;5;124m'\u001b[39m\u001b[38;5;124mMAPT\u001b[39m\u001b[38;5;124m'\u001b[39m,\n",
      " \u001b[38;5;124m'\u001b[39m\u001b[38;5;124mnamespace\u001b[39m\u001b[38;5;124m'\u001b[39m: \u001b[38;5;124m'\u001b[39m\u001b[38;5;124mHGNC\u001b[39m\u001b[38;5;124m'\u001b[39m,\n",
      " \u001b[38;5;124m'\u001b[39m\u001b[38;5;124mrid\u001b[39m\u001b[38;5;124m'\u001b[39m: \u001b[38;5;124m'\u001b[39m\u001b[38;5;124m#190:5\u001b[39m\u001b[38;5;124m'\u001b[39m,\n",
      " \u001b[38;5;124m'\u001b[39m\u001b[38;5;124muniprot_accession\u001b[39m\u001b[38;5;124m'\u001b[39m: \u001b[38;5;124m'\u001b[39m\u001b[38;5;124mP10636\u001b[39m\u001b[38;5;124m'\u001b[39m}\n",
      "\n",
      "For further testing go to http://0.0.0.0:5000/ui/#/UniProt/ebel.web.api.ebel.v1.uniprot.get_bel_node_uniprot\n"
     ]
    },
    {
     "data": {
      "text/html": [
       "<h2>3. UniProt function starts with</h2>"
      ],
      "text/plain": [
       "<IPython.core.display.HTML object>"
      ]
     },
     "metadata": {},
     "output_type": "display_data"
    },
    {
     "data": {
      "text/html": [
       "<b style=\"color: rgb(98,98,98); text-decoration: underline;\">Description:</b> <p>UniProt function starts with</p>"
      ],
      "text/plain": [
       "<IPython.core.display.HTML object>"
      ]
     },
     "metadata": {},
     "output_type": "display_data"
    },
    {
     "data": {
      "text/html": [
       "<b>Tags:</b> ['UniProt']"
      ],
      "text/plain": [
       "<IPython.core.display.HTML object>"
      ]
     },
     "metadata": {},
     "output_type": "display_data"
    },
    {
     "data": {
      "text/html": [
       "<b>Server path:</b> /api/v1/uniprot/function/starts_with"
      ],
      "text/plain": [
       "<IPython.core.display.HTML object>"
      ]
     },
     "metadata": {},
     "output_type": "display_data"
    },
    {
     "data": {
      "text/html": [
       "<div>\n",
       "<style scoped>\n",
       "    .dataframe tbody tr th:only-of-type {\n",
       "        vertical-align: middle;\n",
       "    }\n",
       "\n",
       "    .dataframe tbody tr th {\n",
       "        vertical-align: top;\n",
       "    }\n",
       "\n",
       "    .dataframe thead th {\n",
       "        text-align: right;\n",
       "    }\n",
       "</style>\n",
       "<table border=\"1\" class=\"dataframe\">\n",
       "  <thead>\n",
       "    <tr style=\"text-align: right;\">\n",
       "      <th></th>\n",
       "      <th>data type</th>\n",
       "      <th>description</th>\n",
       "      <th>example</th>\n",
       "      <th>options</th>\n",
       "      <th>default</th>\n",
       "      <th>required</th>\n",
       "    </tr>\n",
       "    <tr>\n",
       "      <th>parameter name</th>\n",
       "      <th></th>\n",
       "      <th></th>\n",
       "      <th></th>\n",
       "      <th></th>\n",
       "      <th></th>\n",
       "      <th></th>\n",
       "    </tr>\n",
       "  </thead>\n",
       "  <tbody>\n",
       "    <tr>\n",
       "      <th>description</th>\n",
       "      <td>string</td>\n",
       "      <td></td>\n",
       "      <td>Phosphatase 2A</td>\n",
       "      <td></td>\n",
       "      <td></td>\n",
       "      <td>True</td>\n",
       "    </tr>\n",
       "    <tr>\n",
       "      <th>page_size</th>\n",
       "      <td>integer</td>\n",
       "      <td>Results per page</td>\n",
       "      <td>1</td>\n",
       "      <td></td>\n",
       "      <td>10.0</td>\n",
       "      <td>False</td>\n",
       "    </tr>\n",
       "    <tr>\n",
       "      <th>page</th>\n",
       "      <td>integer</td>\n",
       "      <td>Page number (starting with 1)</td>\n",
       "      <td>1</td>\n",
       "      <td></td>\n",
       "      <td>1.0</td>\n",
       "      <td>False</td>\n",
       "    </tr>\n",
       "  </tbody>\n",
       "</table>\n",
       "</div>"
      ],
      "text/plain": [
       "               data type                    description         example  \\\n",
       "parameter name                                                            \n",
       "description       string                                 Phosphatase 2A   \n",
       "page_size        integer               Results per page               1   \n",
       "page             integer  Page number (starting with 1)               1   \n",
       "\n",
       "               options default  required  \n",
       "parameter name                            \n",
       "description                         True  \n",
       "page_size                 10.0     False  \n",
       "page                       1.0     False  "
      ]
     },
     "metadata": {},
     "output_type": "display_data"
    },
    {
     "data": {
      "text/html": [
       "<b>Example URL:</b> <a href=\"http://0.0.0.0:5000/api/v1/uniprot/function/starts_with?description=Phosphatase+2A&page_size=1&page=1\">http://0.0.0.0:5000/api/v1/uniprot/function/starts_with?description=Phosphatase+2A&page_size=1&page=1</a>"
      ],
      "text/plain": [
       "<IPython.core.display.HTML object>"
      ]
     },
     "metadata": {},
     "output_type": "display_data"
    },
    {
     "data": {
      "text/html": [
       "<b style=\"color: rgb(98,98,98); text-decoration: underline;\">Example response:</b>"
      ],
      "text/plain": [
       "<IPython.core.display.HTML object>"
      ]
     },
     "metadata": {},
     "output_type": "display_data"
    },
    {
     "name": "stdout",
     "output_type": "stream",
     "text": [
      "{\u001b[38;5;124m'\u001b[39m\u001b[38;5;124mnumber_of_results\u001b[39m\u001b[38;5;124m'\u001b[39m: \u001b[38;5;241m2\u001b[39m,\n",
      " \u001b[38;5;124m'\u001b[39m\u001b[38;5;124mpage\u001b[39m\u001b[38;5;124m'\u001b[39m: \u001b[38;5;241m1\u001b[39m,\n",
      " \u001b[38;5;124m'\u001b[39m\u001b[38;5;124mpage_size\u001b[39m\u001b[38;5;124m'\u001b[39m: \u001b[38;5;241m1\u001b[39m,\n",
      " \u001b[38;5;124m'\u001b[39m\u001b[38;5;124mpages\u001b[39m\u001b[38;5;124m'\u001b[39m: \u001b[38;5;241m2\u001b[39m,\n",
      " \u001b[38;5;124m'\u001b[39m\u001b[38;5;124mresults\u001b[39m\u001b[38;5;124m'\u001b[39m: {\u001b[38;5;124m'\u001b[39m\u001b[38;5;124mPhosphatase 2A affects a variety of biological processes in the cell such as transcription, cell cycle progression and cellular morphogenesis, and provides an initial identification of critical substrates for this phosphatase. The regulatory subunit may direct the catalytic subunit to distinct, albeit overlapping, subsets of substrates (By similarity).\u001b[39m\u001b[38;5;124m'\u001b[39m: \u001b[38;5;241m48780\u001b[39m}}\n",
      "\n",
      "For further testing go to http://0.0.0.0:5000/ui/#/UniProt/ebel.web.api.ebel.v1.uniprot.get_function_starts_with\n"
     ]
    },
    {
     "data": {
      "text/html": [
       "<h2>4. UniProt gene starts with</h2>"
      ],
      "text/plain": [
       "<IPython.core.display.HTML object>"
      ]
     },
     "metadata": {},
     "output_type": "display_data"
    },
    {
     "data": {
      "text/html": [
       "<b style=\"color: rgb(98,98,98); text-decoration: underline;\">Description:</b> <p>UniProt gene starts with</p>"
      ],
      "text/plain": [
       "<IPython.core.display.HTML object>"
      ]
     },
     "metadata": {},
     "output_type": "display_data"
    },
    {
     "data": {
      "text/html": [
       "<b>Tags:</b> ['UniProt']"
      ],
      "text/plain": [
       "<IPython.core.display.HTML object>"
      ]
     },
     "metadata": {},
     "output_type": "display_data"
    },
    {
     "data": {
      "text/html": [
       "<b>Server path:</b> /api/v1/uniprot/gene/starts_with"
      ],
      "text/plain": [
       "<IPython.core.display.HTML object>"
      ]
     },
     "metadata": {},
     "output_type": "display_data"
    },
    {
     "data": {
      "text/html": [
       "<div>\n",
       "<style scoped>\n",
       "    .dataframe tbody tr th:only-of-type {\n",
       "        vertical-align: middle;\n",
       "    }\n",
       "\n",
       "    .dataframe tbody tr th {\n",
       "        vertical-align: top;\n",
       "    }\n",
       "\n",
       "    .dataframe thead th {\n",
       "        text-align: right;\n",
       "    }\n",
       "</style>\n",
       "<table border=\"1\" class=\"dataframe\">\n",
       "  <thead>\n",
       "    <tr style=\"text-align: right;\">\n",
       "      <th></th>\n",
       "      <th>data type</th>\n",
       "      <th>description</th>\n",
       "      <th>example</th>\n",
       "      <th>options</th>\n",
       "      <th>default</th>\n",
       "      <th>required</th>\n",
       "    </tr>\n",
       "    <tr>\n",
       "      <th>parameter name</th>\n",
       "      <th></th>\n",
       "      <th></th>\n",
       "      <th></th>\n",
       "      <th></th>\n",
       "      <th></th>\n",
       "      <th></th>\n",
       "    </tr>\n",
       "  </thead>\n",
       "  <tbody>\n",
       "    <tr>\n",
       "      <th>gene</th>\n",
       "      <td>string</td>\n",
       "      <td></td>\n",
       "      <td>CD3</td>\n",
       "      <td></td>\n",
       "      <td></td>\n",
       "      <td>True</td>\n",
       "    </tr>\n",
       "    <tr>\n",
       "      <th>page_size</th>\n",
       "      <td>integer</td>\n",
       "      <td>Results per page</td>\n",
       "      <td>1</td>\n",
       "      <td></td>\n",
       "      <td>10.0</td>\n",
       "      <td>False</td>\n",
       "    </tr>\n",
       "    <tr>\n",
       "      <th>page</th>\n",
       "      <td>integer</td>\n",
       "      <td>Page number (starting with 1)</td>\n",
       "      <td>1</td>\n",
       "      <td></td>\n",
       "      <td>1.0</td>\n",
       "      <td>False</td>\n",
       "    </tr>\n",
       "  </tbody>\n",
       "</table>\n",
       "</div>"
      ],
      "text/plain": [
       "               data type                    description example options  \\\n",
       "parameter name                                                            \n",
       "gene              string                                    CD3           \n",
       "page_size        integer               Results per page       1           \n",
       "page             integer  Page number (starting with 1)       1           \n",
       "\n",
       "               default  required  \n",
       "parameter name                    \n",
       "gene                        True  \n",
       "page_size         10.0     False  \n",
       "page               1.0     False  "
      ]
     },
     "metadata": {},
     "output_type": "display_data"
    },
    {
     "data": {
      "text/html": [
       "<b>Example URL:</b> <a href=\"http://0.0.0.0:5000/api/v1/uniprot/gene/starts_with?gene=CD3&page_size=1&page=1\">http://0.0.0.0:5000/api/v1/uniprot/gene/starts_with?gene=CD3&page_size=1&page=1</a>"
      ],
      "text/plain": [
       "<IPython.core.display.HTML object>"
      ]
     },
     "metadata": {},
     "output_type": "display_data"
    },
    {
     "data": {
      "text/html": [
       "<b style=\"color: rgb(98,98,98); text-decoration: underline;\">Example response:</b>"
      ],
      "text/plain": [
       "<IPython.core.display.HTML object>"
      ]
     },
     "metadata": {},
     "output_type": "display_data"
    },
    {
     "name": "stdout",
     "output_type": "stream",
     "text": [
      "{\u001b[38;5;124m'\u001b[39m\u001b[38;5;124mnumber_of_results\u001b[39m\u001b[38;5;124m'\u001b[39m: \u001b[38;5;241m206\u001b[39m,\n",
      " \u001b[38;5;124m'\u001b[39m\u001b[38;5;124mpage\u001b[39m\u001b[38;5;124m'\u001b[39m: \u001b[38;5;241m1\u001b[39m,\n",
      " \u001b[38;5;124m'\u001b[39m\u001b[38;5;124mpage_size\u001b[39m\u001b[38;5;124m'\u001b[39m: \u001b[38;5;241m1\u001b[39m,\n",
      " \u001b[38;5;124m'\u001b[39m\u001b[38;5;124mpages\u001b[39m\u001b[38;5;124m'\u001b[39m: \u001b[38;5;241m206\u001b[39m,\n",
      " \u001b[38;5;124m'\u001b[39m\u001b[38;5;124mresults\u001b[39m\u001b[38;5;124m'\u001b[39m: {\u001b[38;5;124m'\u001b[39m\u001b[38;5;124mCD30\u001b[39m\u001b[38;5;124m'\u001b[39m: \u001b[38;5;241m653766\u001b[39m}}\n",
      "\n",
      "For further testing go to http://0.0.0.0:5000/ui/#/UniProt/ebel.web.api.ebel.v1.uniprot.get_gene_starts_with\n"
     ]
    },
    {
     "data": {
      "text/html": [
       "<h2>5. UniProt gene symbol starts with</h2>"
      ],
      "text/plain": [
       "<IPython.core.display.HTML object>"
      ]
     },
     "metadata": {},
     "output_type": "display_data"
    },
    {
     "data": {
      "text/html": [
       "<b style=\"color: rgb(98,98,98); text-decoration: underline;\">Description:</b> <p>UniProt gene symbol starts with</p>"
      ],
      "text/plain": [
       "<IPython.core.display.HTML object>"
      ]
     },
     "metadata": {},
     "output_type": "display_data"
    },
    {
     "data": {
      "text/html": [
       "<b>Tags:</b> ['UniProt']"
      ],
      "text/plain": [
       "<IPython.core.display.HTML object>"
      ]
     },
     "metadata": {},
     "output_type": "display_data"
    },
    {
     "data": {
      "text/html": [
       "<b>Server path:</b> /api/v1/uniprot/gene_symbol/starts_with"
      ],
      "text/plain": [
       "<IPython.core.display.HTML object>"
      ]
     },
     "metadata": {},
     "output_type": "display_data"
    },
    {
     "data": {
      "text/html": [
       "<div>\n",
       "<style scoped>\n",
       "    .dataframe tbody tr th:only-of-type {\n",
       "        vertical-align: middle;\n",
       "    }\n",
       "\n",
       "    .dataframe tbody tr th {\n",
       "        vertical-align: top;\n",
       "    }\n",
       "\n",
       "    .dataframe thead th {\n",
       "        text-align: right;\n",
       "    }\n",
       "</style>\n",
       "<table border=\"1\" class=\"dataframe\">\n",
       "  <thead>\n",
       "    <tr style=\"text-align: right;\">\n",
       "      <th></th>\n",
       "      <th>data type</th>\n",
       "      <th>description</th>\n",
       "      <th>example</th>\n",
       "      <th>options</th>\n",
       "      <th>default</th>\n",
       "      <th>required</th>\n",
       "    </tr>\n",
       "    <tr>\n",
       "      <th>parameter name</th>\n",
       "      <th></th>\n",
       "      <th></th>\n",
       "      <th></th>\n",
       "      <th></th>\n",
       "      <th></th>\n",
       "      <th></th>\n",
       "    </tr>\n",
       "  </thead>\n",
       "  <tbody>\n",
       "    <tr>\n",
       "      <th>gene_symbol</th>\n",
       "      <td>string</td>\n",
       "      <td></td>\n",
       "      <td>CD3</td>\n",
       "      <td></td>\n",
       "      <td></td>\n",
       "      <td>True</td>\n",
       "    </tr>\n",
       "    <tr>\n",
       "      <th>page_size</th>\n",
       "      <td>integer</td>\n",
       "      <td>Results per page</td>\n",
       "      <td>1</td>\n",
       "      <td></td>\n",
       "      <td>10.0</td>\n",
       "      <td>False</td>\n",
       "    </tr>\n",
       "    <tr>\n",
       "      <th>page</th>\n",
       "      <td>integer</td>\n",
       "      <td>Page number (starting with 1)</td>\n",
       "      <td>1</td>\n",
       "      <td></td>\n",
       "      <td>1.0</td>\n",
       "      <td>False</td>\n",
       "    </tr>\n",
       "  </tbody>\n",
       "</table>\n",
       "</div>"
      ],
      "text/plain": [
       "               data type                    description example options  \\\n",
       "parameter name                                                            \n",
       "gene_symbol       string                                    CD3           \n",
       "page_size        integer               Results per page       1           \n",
       "page             integer  Page number (starting with 1)       1           \n",
       "\n",
       "               default  required  \n",
       "parameter name                    \n",
       "gene_symbol                 True  \n",
       "page_size         10.0     False  \n",
       "page               1.0     False  "
      ]
     },
     "metadata": {},
     "output_type": "display_data"
    },
    {
     "data": {
      "text/html": [
       "<b>Example URL:</b> <a href=\"http://0.0.0.0:5000/api/v1/uniprot/gene_symbol/starts_with?gene_symbol=CD3&page_size=1&page=1\">http://0.0.0.0:5000/api/v1/uniprot/gene_symbol/starts_with?gene_symbol=CD3&page_size=1&page=1</a>"
      ],
      "text/plain": [
       "<IPython.core.display.HTML object>"
      ]
     },
     "metadata": {},
     "output_type": "display_data"
    },
    {
     "data": {
      "text/html": [
       "<b style=\"color: rgb(98,98,98); text-decoration: underline;\">Example response:</b>"
      ],
      "text/plain": [
       "<IPython.core.display.HTML object>"
      ]
     },
     "metadata": {},
     "output_type": "display_data"
    },
    {
     "name": "stdout",
     "output_type": "stream",
     "text": [
      "{\u001b[38;5;124m'\u001b[39m\u001b[38;5;124mnumber_of_results\u001b[39m\u001b[38;5;124m'\u001b[39m: \u001b[38;5;241m48\u001b[39m,\n",
      " \u001b[38;5;124m'\u001b[39m\u001b[38;5;124mpage\u001b[39m\u001b[38;5;124m'\u001b[39m: \u001b[38;5;241m1\u001b[39m,\n",
      " \u001b[38;5;124m'\u001b[39m\u001b[38;5;124mpage_size\u001b[39m\u001b[38;5;124m'\u001b[39m: \u001b[38;5;241m1\u001b[39m,\n",
      " \u001b[38;5;124m'\u001b[39m\u001b[38;5;124mpages\u001b[39m\u001b[38;5;124m'\u001b[39m: \u001b[38;5;241m48\u001b[39m,\n",
      " \u001b[38;5;124m'\u001b[39m\u001b[38;5;124mresults\u001b[39m\u001b[38;5;124m'\u001b[39m: {\u001b[38;5;124m'\u001b[39m\u001b[38;5;124mCD300A\u001b[39m\u001b[38;5;124m'\u001b[39m: \u001b[38;5;241m2695\u001b[39m}}\n",
      "\n",
      "For further testing go to http://0.0.0.0:5000/ui/#/UniProt/ebel.web.api.ebel.v1.uniprot.get_gene_symbol_starts_with\n"
     ]
    },
    {
     "data": {
      "text/html": [
       "<h2>6. UniProt keyword starts with</h2>"
      ],
      "text/plain": [
       "<IPython.core.display.HTML object>"
      ]
     },
     "metadata": {},
     "output_type": "display_data"
    },
    {
     "data": {
      "text/html": [
       "<b style=\"color: rgb(98,98,98); text-decoration: underline;\">Description:</b> <p>UniProt keyword starts with</p>"
      ],
      "text/plain": [
       "<IPython.core.display.HTML object>"
      ]
     },
     "metadata": {},
     "output_type": "display_data"
    },
    {
     "data": {
      "text/html": [
       "<b>Tags:</b> ['UniProt']"
      ],
      "text/plain": [
       "<IPython.core.display.HTML object>"
      ]
     },
     "metadata": {},
     "output_type": "display_data"
    },
    {
     "data": {
      "text/html": [
       "<b>Server path:</b> /api/v1/uniprot/keyword/starts_with"
      ],
      "text/plain": [
       "<IPython.core.display.HTML object>"
      ]
     },
     "metadata": {},
     "output_type": "display_data"
    },
    {
     "data": {
      "text/html": [
       "<div>\n",
       "<style scoped>\n",
       "    .dataframe tbody tr th:only-of-type {\n",
       "        vertical-align: middle;\n",
       "    }\n",
       "\n",
       "    .dataframe tbody tr th {\n",
       "        vertical-align: top;\n",
       "    }\n",
       "\n",
       "    .dataframe thead th {\n",
       "        text-align: right;\n",
       "    }\n",
       "</style>\n",
       "<table border=\"1\" class=\"dataframe\">\n",
       "  <thead>\n",
       "    <tr style=\"text-align: right;\">\n",
       "      <th></th>\n",
       "      <th>data type</th>\n",
       "      <th>description</th>\n",
       "      <th>example</th>\n",
       "      <th>options</th>\n",
       "      <th>default</th>\n",
       "      <th>required</th>\n",
       "    </tr>\n",
       "    <tr>\n",
       "      <th>parameter name</th>\n",
       "      <th></th>\n",
       "      <th></th>\n",
       "      <th></th>\n",
       "      <th></th>\n",
       "      <th></th>\n",
       "      <th></th>\n",
       "    </tr>\n",
       "  </thead>\n",
       "  <tbody>\n",
       "    <tr>\n",
       "      <th>keyword</th>\n",
       "      <td>string</td>\n",
       "      <td></td>\n",
       "      <td>Phago</td>\n",
       "      <td></td>\n",
       "      <td></td>\n",
       "      <td>True</td>\n",
       "    </tr>\n",
       "    <tr>\n",
       "      <th>page_size</th>\n",
       "      <td>integer</td>\n",
       "      <td>Results per page</td>\n",
       "      <td>1</td>\n",
       "      <td></td>\n",
       "      <td>10.0</td>\n",
       "      <td>False</td>\n",
       "    </tr>\n",
       "    <tr>\n",
       "      <th>page</th>\n",
       "      <td>integer</td>\n",
       "      <td>Page number (starting with 1)</td>\n",
       "      <td>1</td>\n",
       "      <td></td>\n",
       "      <td>1.0</td>\n",
       "      <td>False</td>\n",
       "    </tr>\n",
       "  </tbody>\n",
       "</table>\n",
       "</div>"
      ],
      "text/plain": [
       "               data type                    description example options  \\\n",
       "parameter name                                                            \n",
       "keyword           string                                  Phago           \n",
       "page_size        integer               Results per page       1           \n",
       "page             integer  Page number (starting with 1)       1           \n",
       "\n",
       "               default  required  \n",
       "parameter name                    \n",
       "keyword                     True  \n",
       "page_size         10.0     False  \n",
       "page               1.0     False  "
      ]
     },
     "metadata": {},
     "output_type": "display_data"
    },
    {
     "data": {
      "text/html": [
       "<b>Example URL:</b> <a href=\"http://0.0.0.0:5000/api/v1/uniprot/keyword/starts_with?keyword=Phago&page_size=1&page=1\">http://0.0.0.0:5000/api/v1/uniprot/keyword/starts_with?keyword=Phago&page_size=1&page=1</a>"
      ],
      "text/plain": [
       "<IPython.core.display.HTML object>"
      ]
     },
     "metadata": {},
     "output_type": "display_data"
    },
    {
     "data": {
      "text/html": [
       "<b style=\"color: rgb(98,98,98); text-decoration: underline;\">Example response:</b>"
      ],
      "text/plain": [
       "<IPython.core.display.HTML object>"
      ]
     },
     "metadata": {},
     "output_type": "display_data"
    },
    {
     "name": "stdout",
     "output_type": "stream",
     "text": [
      "{\u001b[38;5;124m'\u001b[39m\u001b[38;5;124mnumber_of_results\u001b[39m\u001b[38;5;124m'\u001b[39m: \u001b[38;5;241m1\u001b[39m,\n",
      " \u001b[38;5;124m'\u001b[39m\u001b[38;5;124mpage\u001b[39m\u001b[38;5;124m'\u001b[39m: \u001b[38;5;241m1\u001b[39m,\n",
      " \u001b[38;5;124m'\u001b[39m\u001b[38;5;124mpage_size\u001b[39m\u001b[38;5;124m'\u001b[39m: \u001b[38;5;241m1\u001b[39m,\n",
      " \u001b[38;5;124m'\u001b[39m\u001b[38;5;124mpages\u001b[39m\u001b[38;5;124m'\u001b[39m: \u001b[38;5;241m1\u001b[39m,\n",
      " \u001b[38;5;124m'\u001b[39m\u001b[38;5;124mresults\u001b[39m\u001b[38;5;124m'\u001b[39m: {\u001b[38;5;124m'\u001b[39m\u001b[38;5;124mPhagocytosis\u001b[39m\u001b[38;5;124m'\u001b[39m: \u001b[38;5;241m581\u001b[39m}}\n",
      "\n",
      "For further testing go to http://0.0.0.0:5000/ui/#/UniProt/ebel.web.api.ebel.v1.uniprot.get_keyword_starts_with\n"
     ]
    },
    {
     "data": {
      "text/html": [
       "<h2>7. UniProt organism starts with</h2>"
      ],
      "text/plain": [
       "<IPython.core.display.HTML object>"
      ]
     },
     "metadata": {},
     "output_type": "display_data"
    },
    {
     "data": {
      "text/html": [
       "<b style=\"color: rgb(98,98,98); text-decoration: underline;\">Description:</b> <p>UniProt organism starts with</p>"
      ],
      "text/plain": [
       "<IPython.core.display.HTML object>"
      ]
     },
     "metadata": {},
     "output_type": "display_data"
    },
    {
     "data": {
      "text/html": [
       "<b>Tags:</b> ['UniProt']"
      ],
      "text/plain": [
       "<IPython.core.display.HTML object>"
      ]
     },
     "metadata": {},
     "output_type": "display_data"
    },
    {
     "data": {
      "text/html": [
       "<b>Server path:</b> /api/v1/uniprot/organism/starts_with"
      ],
      "text/plain": [
       "<IPython.core.display.HTML object>"
      ]
     },
     "metadata": {},
     "output_type": "display_data"
    },
    {
     "data": {
      "text/html": [
       "<div>\n",
       "<style scoped>\n",
       "    .dataframe tbody tr th:only-of-type {\n",
       "        vertical-align: middle;\n",
       "    }\n",
       "\n",
       "    .dataframe tbody tr th {\n",
       "        vertical-align: top;\n",
       "    }\n",
       "\n",
       "    .dataframe thead th {\n",
       "        text-align: right;\n",
       "    }\n",
       "</style>\n",
       "<table border=\"1\" class=\"dataframe\">\n",
       "  <thead>\n",
       "    <tr style=\"text-align: right;\">\n",
       "      <th></th>\n",
       "      <th>data type</th>\n",
       "      <th>description</th>\n",
       "      <th>example</th>\n",
       "      <th>options</th>\n",
       "      <th>default</th>\n",
       "      <th>required</th>\n",
       "    </tr>\n",
       "    <tr>\n",
       "      <th>parameter name</th>\n",
       "      <th></th>\n",
       "      <th></th>\n",
       "      <th></th>\n",
       "      <th></th>\n",
       "      <th></th>\n",
       "      <th></th>\n",
       "    </tr>\n",
       "  </thead>\n",
       "  <tbody>\n",
       "    <tr>\n",
       "      <th>organism</th>\n",
       "      <td>string</td>\n",
       "      <td></td>\n",
       "      <td>Homo sapiens</td>\n",
       "      <td></td>\n",
       "      <td></td>\n",
       "      <td>True</td>\n",
       "    </tr>\n",
       "    <tr>\n",
       "      <th>page_size</th>\n",
       "      <td>integer</td>\n",
       "      <td>Results per page</td>\n",
       "      <td>1</td>\n",
       "      <td></td>\n",
       "      <td>10.0</td>\n",
       "      <td>False</td>\n",
       "    </tr>\n",
       "    <tr>\n",
       "      <th>page</th>\n",
       "      <td>integer</td>\n",
       "      <td>Page number (starting with 1)</td>\n",
       "      <td>1</td>\n",
       "      <td></td>\n",
       "      <td>1.0</td>\n",
       "      <td>False</td>\n",
       "    </tr>\n",
       "  </tbody>\n",
       "</table>\n",
       "</div>"
      ],
      "text/plain": [
       "               data type                    description       example options  \\\n",
       "parameter name                                                                  \n",
       "organism          string                                 Homo sapiens           \n",
       "page_size        integer               Results per page             1           \n",
       "page             integer  Page number (starting with 1)             1           \n",
       "\n",
       "               default  required  \n",
       "parameter name                    \n",
       "organism                    True  \n",
       "page_size         10.0     False  \n",
       "page               1.0     False  "
      ]
     },
     "metadata": {},
     "output_type": "display_data"
    },
    {
     "data": {
      "text/html": [
       "<b>Example URL:</b> <a href=\"http://0.0.0.0:5000/api/v1/uniprot/organism/starts_with?organism=Homo+sapiens&page_size=1&page=1\">http://0.0.0.0:5000/api/v1/uniprot/organism/starts_with?organism=Homo+sapiens&page_size=1&page=1</a>"
      ],
      "text/plain": [
       "<IPython.core.display.HTML object>"
      ]
     },
     "metadata": {},
     "output_type": "display_data"
    },
    {
     "data": {
      "text/html": [
       "<b style=\"color: rgb(98,98,98); text-decoration: underline;\">Example response:</b>"
      ],
      "text/plain": [
       "<IPython.core.display.HTML object>"
      ]
     },
     "metadata": {},
     "output_type": "display_data"
    },
    {
     "name": "stdout",
     "output_type": "stream",
     "text": [
      "{\u001b[38;5;124m'\u001b[39m\u001b[38;5;124mnumber_of_results\u001b[39m\u001b[38;5;124m'\u001b[39m: \u001b[38;5;241m2\u001b[39m,\n",
      " \u001b[38;5;124m'\u001b[39m\u001b[38;5;124mpage\u001b[39m\u001b[38;5;124m'\u001b[39m: \u001b[38;5;241m1\u001b[39m,\n",
      " \u001b[38;5;124m'\u001b[39m\u001b[38;5;124mpage_size\u001b[39m\u001b[38;5;124m'\u001b[39m: \u001b[38;5;241m1\u001b[39m,\n",
      " \u001b[38;5;124m'\u001b[39m\u001b[38;5;124mpages\u001b[39m\u001b[38;5;124m'\u001b[39m: \u001b[38;5;241m2\u001b[39m,\n",
      " \u001b[38;5;124m'\u001b[39m\u001b[38;5;124mresults\u001b[39m\u001b[38;5;124m'\u001b[39m: {\u001b[38;5;124m'\u001b[39m\u001b[38;5;124mHomo sapiens\u001b[39m\u001b[38;5;124m'\u001b[39m: \u001b[38;5;241m9606\u001b[39m}}\n",
      "\n",
      "For further testing go to http://0.0.0.0:5000/ui/#/UniProt/ebel.web.api.ebel.v1.uniprot.get_organism_starts_with\n"
     ]
    },
    {
     "data": {
      "text/html": [
       "<h2>8. UniProt subcellular location starts with</h2>"
      ],
      "text/plain": [
       "<IPython.core.display.HTML object>"
      ]
     },
     "metadata": {},
     "output_type": "display_data"
    },
    {
     "data": {
      "text/html": [
       "<b style=\"color: rgb(98,98,98); text-decoration: underline;\">Description:</b> <p>UniProt subcellular location starts with</p>"
      ],
      "text/plain": [
       "<IPython.core.display.HTML object>"
      ]
     },
     "metadata": {},
     "output_type": "display_data"
    },
    {
     "data": {
      "text/html": [
       "<b>Tags:</b> ['UniProt']"
      ],
      "text/plain": [
       "<IPython.core.display.HTML object>"
      ]
     },
     "metadata": {},
     "output_type": "display_data"
    },
    {
     "data": {
      "text/html": [
       "<b>Server path:</b> /api/v1/uniprot/subcellular_location/starts_with"
      ],
      "text/plain": [
       "<IPython.core.display.HTML object>"
      ]
     },
     "metadata": {},
     "output_type": "display_data"
    },
    {
     "data": {
      "text/html": [
       "<div>\n",
       "<style scoped>\n",
       "    .dataframe tbody tr th:only-of-type {\n",
       "        vertical-align: middle;\n",
       "    }\n",
       "\n",
       "    .dataframe tbody tr th {\n",
       "        vertical-align: top;\n",
       "    }\n",
       "\n",
       "    .dataframe thead th {\n",
       "        text-align: right;\n",
       "    }\n",
       "</style>\n",
       "<table border=\"1\" class=\"dataframe\">\n",
       "  <thead>\n",
       "    <tr style=\"text-align: right;\">\n",
       "      <th></th>\n",
       "      <th>data type</th>\n",
       "      <th>description</th>\n",
       "      <th>example</th>\n",
       "      <th>options</th>\n",
       "      <th>default</th>\n",
       "      <th>required</th>\n",
       "    </tr>\n",
       "    <tr>\n",
       "      <th>parameter name</th>\n",
       "      <th></th>\n",
       "      <th></th>\n",
       "      <th></th>\n",
       "      <th></th>\n",
       "      <th></th>\n",
       "      <th></th>\n",
       "    </tr>\n",
       "  </thead>\n",
       "  <tbody>\n",
       "    <tr>\n",
       "      <th>subcellular_location</th>\n",
       "      <td>string</td>\n",
       "      <td></td>\n",
       "      <td>Endo</td>\n",
       "      <td></td>\n",
       "      <td></td>\n",
       "      <td>True</td>\n",
       "    </tr>\n",
       "    <tr>\n",
       "      <th>page_size</th>\n",
       "      <td>integer</td>\n",
       "      <td>Results per page</td>\n",
       "      <td>1</td>\n",
       "      <td></td>\n",
       "      <td>10.0</td>\n",
       "      <td>False</td>\n",
       "    </tr>\n",
       "    <tr>\n",
       "      <th>page</th>\n",
       "      <td>integer</td>\n",
       "      <td>Page number (starting with 1)</td>\n",
       "      <td>1</td>\n",
       "      <td></td>\n",
       "      <td>1.0</td>\n",
       "      <td>False</td>\n",
       "    </tr>\n",
       "  </tbody>\n",
       "</table>\n",
       "</div>"
      ],
      "text/plain": [
       "                     data type                    description example options  \\\n",
       "parameter name                                                                  \n",
       "subcellular_location    string                                   Endo           \n",
       "page_size              integer               Results per page       1           \n",
       "page                   integer  Page number (starting with 1)       1           \n",
       "\n",
       "                     default  required  \n",
       "parameter name                          \n",
       "subcellular_location              True  \n",
       "page_size               10.0     False  \n",
       "page                     1.0     False  "
      ]
     },
     "metadata": {},
     "output_type": "display_data"
    },
    {
     "data": {
      "text/html": [
       "<b>Example URL:</b> <a href=\"http://0.0.0.0:5000/api/v1/uniprot/subcellular_location/starts_with?subcellular_location=Endo&page_size=1&page=1\">http://0.0.0.0:5000/api/v1/uniprot/subcellular_location/starts_with?subcellular_location=Endo&page_size=1&page=1</a>"
      ],
      "text/plain": [
       "<IPython.core.display.HTML object>"
      ]
     },
     "metadata": {},
     "output_type": "display_data"
    },
    {
     "data": {
      "text/html": [
       "<b style=\"color: rgb(98,98,98); text-decoration: underline;\">Example response:</b>"
      ],
      "text/plain": [
       "<IPython.core.display.HTML object>"
      ]
     },
     "metadata": {},
     "output_type": "display_data"
    },
    {
     "name": "stdout",
     "output_type": "stream",
     "text": [
      "{\u001b[38;5;124m'\u001b[39m\u001b[38;5;124mnumber_of_results\u001b[39m\u001b[38;5;124m'\u001b[39m: \u001b[38;5;241m10\u001b[39m,\n",
      " \u001b[38;5;124m'\u001b[39m\u001b[38;5;124mpage\u001b[39m\u001b[38;5;124m'\u001b[39m: \u001b[38;5;241m1\u001b[39m,\n",
      " \u001b[38;5;124m'\u001b[39m\u001b[38;5;124mpage_size\u001b[39m\u001b[38;5;124m'\u001b[39m: \u001b[38;5;241m1\u001b[39m,\n",
      " \u001b[38;5;124m'\u001b[39m\u001b[38;5;124mpages\u001b[39m\u001b[38;5;124m'\u001b[39m: \u001b[38;5;241m10\u001b[39m,\n",
      " \u001b[38;5;124m'\u001b[39m\u001b[38;5;124mresults\u001b[39m\u001b[38;5;124m'\u001b[39m: {\u001b[38;5;124m'\u001b[39m\u001b[38;5;124mEndomembrane system\u001b[39m\u001b[38;5;124m'\u001b[39m: \u001b[38;5;241m173\u001b[39m}}\n",
      "\n",
      "For further testing go to http://0.0.0.0:5000/ui/#/UniProt/ebel.web.api.ebel.v1.uniprot.get_subcellular_location_starts_with\n"
     ]
    }
   ],
   "source": [
    "import api_doc\n",
    "api_doc.get_api_methods_by_tag('UniProt')"
   ]
  }
 ],
 "metadata": {
  "kernelspec": {
   "display_name": "Python 3 (ipykernel)",
   "language": "python",
   "name": "python3"
  },
  "language_info": {
   "codemirror_mode": {
    "name": "ipython",
    "version": 3
   },
   "file_extension": ".py",
   "mimetype": "text/x-python",
   "name": "python",
   "nbconvert_exporter": "python",
   "pygments_lexer": "ipython3",
   "version": "3.8.10"
  },
  "toc": {
   "base_numbering": 1,
   "nav_menu": {},
   "number_sections": true,
   "sideBar": true,
   "skip_h1_title": true,
   "title_cell": "Table of Contents",
   "title_sidebar": "Contents",
   "toc_cell": false,
   "toc_position": {},
   "toc_section_display": true,
   "toc_window_display": false
  }
 },
 "nbformat": 4,
 "nbformat_minor": 5
}
