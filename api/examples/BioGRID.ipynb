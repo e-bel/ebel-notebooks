{
 "cells": [
  {
   "cell_type": "markdown",
   "id": "b44be455",
   "metadata": {},
   "source": [
    "# BioGRID API methods"
   ]
  },
  {
   "cell_type": "code",
   "execution_count": 1,
   "id": "47e282e4",
   "metadata": {
    "scrolled": false
   },
   "outputs": [
    {
     "data": {
      "text/html": [
       "<h2>1. Get BioGRID by paramters.</h2>"
      ],
      "text/plain": [
       "<IPython.core.display.HTML object>"
      ]
     },
     "metadata": {},
     "output_type": "display_data"
    },
    {
     "data": {
      "text/html": [
       "<b style=\"color: rgb(98,98,98); text-decoration: underline;\">Description:</b> <p>Get BioGRID protein-protein interactions.\n",
       "Note <code>id_type_b</code> and  <code>taxonomy_id_b</code> will be only considered if  <code>interactor_b</code> is set.</p>"
      ],
      "text/plain": [
       "<IPython.core.display.HTML object>"
      ]
     },
     "metadata": {},
     "output_type": "display_data"
    },
    {
     "data": {
      "text/html": [
       "<b>Tags:</b> ['BioGRID']"
      ],
      "text/plain": [
       "<IPython.core.display.HTML object>"
      ]
     },
     "metadata": {},
     "output_type": "display_data"
    },
    {
     "data": {
      "text/html": [
       "<b>Server path:</b> /api/v1/biogrid"
      ],
      "text/plain": [
       "<IPython.core.display.HTML object>"
      ]
     },
     "metadata": {},
     "output_type": "display_data"
    },
    {
     "data": {
      "text/html": [
       "<div>\n",
       "<style scoped>\n",
       "    .dataframe tbody tr th:only-of-type {\n",
       "        vertical-align: middle;\n",
       "    }\n",
       "\n",
       "    .dataframe tbody tr th {\n",
       "        vertical-align: top;\n",
       "    }\n",
       "\n",
       "    .dataframe thead th {\n",
       "        text-align: right;\n",
       "    }\n",
       "</style>\n",
       "<table border=\"1\" class=\"dataframe\">\n",
       "  <thead>\n",
       "    <tr style=\"text-align: right;\">\n",
       "      <th></th>\n",
       "      <th>data type</th>\n",
       "      <th>description</th>\n",
       "      <th>example</th>\n",
       "      <th>options</th>\n",
       "      <th>default</th>\n",
       "      <th>required</th>\n",
       "    </tr>\n",
       "    <tr>\n",
       "      <th>parameter name</th>\n",
       "      <th></th>\n",
       "      <th></th>\n",
       "      <th></th>\n",
       "      <th></th>\n",
       "      <th></th>\n",
       "      <th></th>\n",
       "    </tr>\n",
       "  </thead>\n",
       "  <tbody>\n",
       "    <tr>\n",
       "      <th>id_type_a</th>\n",
       "      <td>string</td>\n",
       "      <td>Interactor A identifier type</td>\n",
       "      <td></td>\n",
       "      <td>[symbol, uniprot, entrez, systematic_name, tre...</td>\n",
       "      <td>symbol</td>\n",
       "      <td>False</td>\n",
       "    </tr>\n",
       "    <tr>\n",
       "      <th>interactor_a</th>\n",
       "      <td>string</td>\n",
       "      <td>Interactor A identifier. This value depends on...</td>\n",
       "      <td>MAPT</td>\n",
       "      <td></td>\n",
       "      <td></td>\n",
       "      <td>False</td>\n",
       "    </tr>\n",
       "    <tr>\n",
       "      <th>taxonomy_id_a</th>\n",
       "      <td>integer</td>\n",
       "      <td>NCBI taxonomy ID interactor A</td>\n",
       "      <td></td>\n",
       "      <td></td>\n",
       "      <td>9606</td>\n",
       "      <td>False</td>\n",
       "    </tr>\n",
       "    <tr>\n",
       "      <th>id_type_b</th>\n",
       "      <td>string</td>\n",
       "      <td>Interactor B identifier type. This value is on...</td>\n",
       "      <td></td>\n",
       "      <td>[symbol, uniprot, entrez, systematic_name, tre...</td>\n",
       "      <td>symbol</td>\n",
       "      <td>False</td>\n",
       "    </tr>\n",
       "    <tr>\n",
       "      <th>interactor_b</th>\n",
       "      <td>string</td>\n",
       "      <td>Interactor B identifier. This value depends on...</td>\n",
       "      <td></td>\n",
       "      <td></td>\n",
       "      <td></td>\n",
       "      <td>False</td>\n",
       "    </tr>\n",
       "    <tr>\n",
       "      <th>taxonomy_id_b</th>\n",
       "      <td>integer</td>\n",
       "      <td>NCBI taxonomy ID interactor B. This value is o...</td>\n",
       "      <td></td>\n",
       "      <td></td>\n",
       "      <td>9606</td>\n",
       "      <td>False</td>\n",
       "    </tr>\n",
       "    <tr>\n",
       "      <th>source</th>\n",
       "      <td>string</td>\n",
       "      <td>Source of interaction. Please check `sources` ...</td>\n",
       "      <td></td>\n",
       "      <td></td>\n",
       "      <td></td>\n",
       "      <td>False</td>\n",
       "    </tr>\n",
       "    <tr>\n",
       "      <th>experimental_system</th>\n",
       "      <td>string</td>\n",
       "      <td>Experimental system used to identify the inter...</td>\n",
       "      <td></td>\n",
       "      <td></td>\n",
       "      <td></td>\n",
       "      <td>False</td>\n",
       "    </tr>\n",
       "    <tr>\n",
       "      <th>modification</th>\n",
       "      <td>string</td>\n",
       "      <td>Modification linked to interaction. Please che...</td>\n",
       "      <td></td>\n",
       "      <td></td>\n",
       "      <td></td>\n",
       "      <td>False</td>\n",
       "    </tr>\n",
       "    <tr>\n",
       "      <th>interaction_directed</th>\n",
       "      <td>boolean</td>\n",
       "      <td>If `false` (recommended), method will consider...</td>\n",
       "      <td></td>\n",
       "      <td></td>\n",
       "      <td></td>\n",
       "      <td>False</td>\n",
       "    </tr>\n",
       "    <tr>\n",
       "      <th>page_size</th>\n",
       "      <td>integer</td>\n",
       "      <td>Results per page</td>\n",
       "      <td>1</td>\n",
       "      <td></td>\n",
       "      <td>10</td>\n",
       "      <td>False</td>\n",
       "    </tr>\n",
       "    <tr>\n",
       "      <th>page</th>\n",
       "      <td>integer</td>\n",
       "      <td>Page number (starting with 1)</td>\n",
       "      <td>1</td>\n",
       "      <td></td>\n",
       "      <td>1</td>\n",
       "      <td>False</td>\n",
       "    </tr>\n",
       "  </tbody>\n",
       "</table>\n",
       "</div>"
      ],
      "text/plain": [
       "                     data type  \\\n",
       "parameter name                   \n",
       "id_type_a               string   \n",
       "interactor_a            string   \n",
       "taxonomy_id_a          integer   \n",
       "id_type_b               string   \n",
       "interactor_b            string   \n",
       "taxonomy_id_b          integer   \n",
       "source                  string   \n",
       "experimental_system     string   \n",
       "modification            string   \n",
       "interaction_directed   boolean   \n",
       "page_size              integer   \n",
       "page                   integer   \n",
       "\n",
       "                                                            description  \\\n",
       "parameter name                                                            \n",
       "id_type_a                                  Interactor A identifier type   \n",
       "interactor_a          Interactor A identifier. This value depends on...   \n",
       "taxonomy_id_a                             NCBI taxonomy ID interactor A   \n",
       "id_type_b             Interactor B identifier type. This value is on...   \n",
       "interactor_b          Interactor B identifier. This value depends on...   \n",
       "taxonomy_id_b         NCBI taxonomy ID interactor B. This value is o...   \n",
       "source                Source of interaction. Please check `sources` ...   \n",
       "experimental_system   Experimental system used to identify the inter...   \n",
       "modification          Modification linked to interaction. Please che...   \n",
       "interaction_directed  If `false` (recommended), method will consider...   \n",
       "page_size                                              Results per page   \n",
       "page                                      Page number (starting with 1)   \n",
       "\n",
       "                     example  \\\n",
       "parameter name                 \n",
       "id_type_a                      \n",
       "interactor_a            MAPT   \n",
       "taxonomy_id_a                  \n",
       "id_type_b                      \n",
       "interactor_b                   \n",
       "taxonomy_id_b                  \n",
       "source                         \n",
       "experimental_system            \n",
       "modification                   \n",
       "interaction_directed           \n",
       "page_size                  1   \n",
       "page                       1   \n",
       "\n",
       "                                                                options  \\\n",
       "parameter name                                                            \n",
       "id_type_a             [symbol, uniprot, entrez, systematic_name, tre...   \n",
       "interactor_a                                                              \n",
       "taxonomy_id_a                                                             \n",
       "id_type_b             [symbol, uniprot, entrez, systematic_name, tre...   \n",
       "interactor_b                                                              \n",
       "taxonomy_id_b                                                             \n",
       "source                                                                    \n",
       "experimental_system                                                       \n",
       "modification                                                              \n",
       "interaction_directed                                                      \n",
       "page_size                                                                 \n",
       "page                                                                      \n",
       "\n",
       "                     default  required  \n",
       "parameter name                          \n",
       "id_type_a             symbol     False  \n",
       "interactor_a                     False  \n",
       "taxonomy_id_a           9606     False  \n",
       "id_type_b             symbol     False  \n",
       "interactor_b                     False  \n",
       "taxonomy_id_b           9606     False  \n",
       "source                           False  \n",
       "experimental_system              False  \n",
       "modification                     False  \n",
       "interaction_directed             False  \n",
       "page_size                 10     False  \n",
       "page                       1     False  "
      ]
     },
     "metadata": {},
     "output_type": "display_data"
    },
    {
     "data": {
      "text/html": [
       "<b>Example URL:</b> <a href=\"http://0.0.0.0:5000/api/v1/biogrid?interactor_a=MAPT&page_size=1&page=1\">http://0.0.0.0:5000/api/v1/biogrid?interactor_a=MAPT&page_size=1&page=1</a>"
      ],
      "text/plain": [
       "<IPython.core.display.HTML object>"
      ]
     },
     "metadata": {},
     "output_type": "display_data"
    },
    {
     "data": {
      "text/html": [
       "<b style=\"color: rgb(98,98,98); text-decoration: underline;\">Example response:</b>"
      ],
      "text/plain": [
       "<IPython.core.display.HTML object>"
      ]
     },
     "metadata": {},
     "output_type": "display_data"
    },
    {
     "name": "stdout",
     "output_type": "stream",
     "text": [
      "{\u001b[38;5;124m'\u001b[39m\u001b[38;5;124mnumber_of_results\u001b[39m\u001b[38;5;124m'\u001b[39m: \u001b[38;5;241m505\u001b[39m,\n",
      " \u001b[38;5;124m'\u001b[39m\u001b[38;5;124mpage\u001b[39m\u001b[38;5;124m'\u001b[39m: \u001b[38;5;241m1\u001b[39m,\n",
      " \u001b[38;5;124m'\u001b[39m\u001b[38;5;124mpage_size\u001b[39m\u001b[38;5;124m'\u001b[39m: \u001b[38;5;241m1\u001b[39m,\n",
      " \u001b[38;5;124m'\u001b[39m\u001b[38;5;124mpages\u001b[39m\u001b[38;5;124m'\u001b[39m: \u001b[38;5;241m505\u001b[39m,\n",
      " \u001b[38;5;124m'\u001b[39m\u001b[38;5;124mresults\u001b[39m\u001b[38;5;124m'\u001b[39m: [{\u001b[38;5;124m'\u001b[39m\u001b[38;5;124mbiogrid_a\u001b[39m\u001b[38;5;124m'\u001b[39m: {\u001b[38;5;124m'\u001b[39m\u001b[38;5;124mentrez\u001b[39m\u001b[38;5;124m'\u001b[39m: \u001b[38;5;241m4139\u001b[39m,\n",
      "                            \u001b[38;5;124m'\u001b[39m\u001b[38;5;124msymbol\u001b[39m\u001b[38;5;124m'\u001b[39m: \u001b[38;5;124m'\u001b[39m\u001b[38;5;124mMARK1\u001b[39m\u001b[38;5;124m'\u001b[39m,\n",
      "                            \u001b[38;5;124m'\u001b[39m\u001b[38;5;124msystematic_name\u001b[39m\u001b[38;5;124m'\u001b[39m: \u001b[38;5;28;01mNone\u001b[39;00m,\n",
      "                            \u001b[38;5;124m'\u001b[39m\u001b[38;5;124mtaxonomy\u001b[39m\u001b[38;5;124m'\u001b[39m: {\u001b[38;5;124m'\u001b[39m\u001b[38;5;124morganism_name\u001b[39m\u001b[38;5;124m'\u001b[39m: \u001b[38;5;124m'\u001b[39m\u001b[38;5;124mHomo sapiens\u001b[39m\u001b[38;5;124m'\u001b[39m,\n",
      "                                         \u001b[38;5;124m'\u001b[39m\u001b[38;5;124mtaxonomy_id\u001b[39m\u001b[38;5;124m'\u001b[39m: \u001b[38;5;241m9606\u001b[39m},\n",
      "                            \u001b[38;5;124m'\u001b[39m\u001b[38;5;124mtrembl\u001b[39m\u001b[38;5;124m'\u001b[39m: \u001b[38;5;124m'\u001b[39m\u001b[38;5;124mA0A087X0I6\u001b[39m\u001b[38;5;124m'\u001b[39m,\n",
      "                            \u001b[38;5;124m'\u001b[39m\u001b[38;5;124muniprot\u001b[39m\u001b[38;5;124m'\u001b[39m: \u001b[38;5;124m'\u001b[39m\u001b[38;5;124mQ9P0L2\u001b[39m\u001b[38;5;124m'\u001b[39m},\n",
      "              \u001b[38;5;124m'\u001b[39m\u001b[38;5;124mbiogrid_b\u001b[39m\u001b[38;5;124m'\u001b[39m: {\u001b[38;5;124m'\u001b[39m\u001b[38;5;124mentrez\u001b[39m\u001b[38;5;124m'\u001b[39m: \u001b[38;5;241m4137\u001b[39m,\n",
      "                            \u001b[38;5;124m'\u001b[39m\u001b[38;5;124msymbol\u001b[39m\u001b[38;5;124m'\u001b[39m: \u001b[38;5;124m'\u001b[39m\u001b[38;5;124mMAPT\u001b[39m\u001b[38;5;124m'\u001b[39m,\n",
      "                            \u001b[38;5;124m'\u001b[39m\u001b[38;5;124msystematic_name\u001b[39m\u001b[38;5;124m'\u001b[39m: \u001b[38;5;28;01mNone\u001b[39;00m,\n",
      "                            \u001b[38;5;124m'\u001b[39m\u001b[38;5;124mtaxonomy\u001b[39m\u001b[38;5;124m'\u001b[39m: {\u001b[38;5;124m'\u001b[39m\u001b[38;5;124morganism_name\u001b[39m\u001b[38;5;124m'\u001b[39m: \u001b[38;5;124m'\u001b[39m\u001b[38;5;124mHomo sapiens\u001b[39m\u001b[38;5;124m'\u001b[39m,\n",
      "                                         \u001b[38;5;124m'\u001b[39m\u001b[38;5;124mtaxonomy_id\u001b[39m\u001b[38;5;124m'\u001b[39m: \u001b[38;5;241m9606\u001b[39m},\n",
      "                            \u001b[38;5;124m'\u001b[39m\u001b[38;5;124mtrembl\u001b[39m\u001b[38;5;124m'\u001b[39m: \u001b[38;5;124m'\u001b[39m\u001b[38;5;124mB3KTM0\u001b[39m\u001b[38;5;124m'\u001b[39m,\n",
      "                            \u001b[38;5;124m'\u001b[39m\u001b[38;5;124muniprot\u001b[39m\u001b[38;5;124m'\u001b[39m: \u001b[38;5;124m'\u001b[39m\u001b[38;5;124mP10636\u001b[39m\u001b[38;5;124m'\u001b[39m},\n",
      "              \u001b[38;5;124m'\u001b[39m\u001b[38;5;124mbiogrid_id\u001b[39m\u001b[38;5;124m'\u001b[39m: \u001b[38;5;241m724018\u001b[39m,\n",
      "              \u001b[38;5;124m'\u001b[39m\u001b[38;5;124mexperimental_system\u001b[39m\u001b[38;5;124m'\u001b[39m: {\u001b[38;5;124m'\u001b[39m\u001b[38;5;124mexperimental_system\u001b[39m\u001b[38;5;124m'\u001b[39m: \u001b[38;5;124m'\u001b[39m\u001b[38;5;124mBiochemical \u001b[39m\u001b[38;5;124m'\u001b[39m\n",
      "                                                             \u001b[38;5;124m'\u001b[39m\u001b[38;5;124mActivity\u001b[39m\u001b[38;5;124m'\u001b[39m,\n",
      "                                      \u001b[38;5;124m'\u001b[39m\u001b[38;5;124mexperimental_system_type\u001b[39m\u001b[38;5;124m'\u001b[39m: \u001b[38;5;124m'\u001b[39m\u001b[38;5;124mphysical\u001b[39m\u001b[38;5;124m'\u001b[39m,\n",
      "                                      \u001b[38;5;124m'\u001b[39m\u001b[38;5;124mfrequency\u001b[39m\u001b[38;5;124m'\u001b[39m: \u001b[38;5;241m24247\u001b[39m},\n",
      "              \u001b[38;5;124m'\u001b[39m\u001b[38;5;124mmodification\u001b[39m\u001b[38;5;124m'\u001b[39m: {\u001b[38;5;124m'\u001b[39m\u001b[38;5;124mfrequency\u001b[39m\u001b[38;5;124m'\u001b[39m: \u001b[38;5;241m13983\u001b[39m,\n",
      "                               \u001b[38;5;124m'\u001b[39m\u001b[38;5;124mmodification\u001b[39m\u001b[38;5;124m'\u001b[39m: \u001b[38;5;124m'\u001b[39m\u001b[38;5;124mPhosphorylation\u001b[39m\u001b[38;5;124m'\u001b[39m},\n",
      "              \u001b[38;5;124m'\u001b[39m\u001b[38;5;124mpublication\u001b[39m\u001b[38;5;124m'\u001b[39m: {\u001b[38;5;124m'\u001b[39m\u001b[38;5;124mauthor_name\u001b[39m\u001b[38;5;124m'\u001b[39m: \u001b[38;5;124m'\u001b[39m\u001b[38;5;124mSchneider A \u001b[39m\u001b[38;5;124m'\u001b[39m,\n",
      "                              \u001b[38;5;124m'\u001b[39m\u001b[38;5;124mpublication_year\u001b[39m\u001b[38;5;124m'\u001b[39m: \u001b[38;5;241m1999\u001b[39m,\n",
      "                              \u001b[38;5;124m'\u001b[39m\u001b[38;5;124msource\u001b[39m\u001b[38;5;124m'\u001b[39m: \u001b[38;5;124m'\u001b[39m\u001b[38;5;124mPUBMED\u001b[39m\u001b[38;5;124m'\u001b[39m,\n",
      "                              \u001b[38;5;124m'\u001b[39m\u001b[38;5;124msource_identifier\u001b[39m\u001b[38;5;124m'\u001b[39m: \u001b[38;5;124m'\u001b[39m\u001b[38;5;124m10090741\u001b[39m\u001b[38;5;124m'\u001b[39m},\n",
      "              \u001b[38;5;124m'\u001b[39m\u001b[38;5;124mqualification\u001b[39m\u001b[38;5;124m'\u001b[39m: \u001b[38;5;28;01mNone\u001b[39;00m,\n",
      "              \u001b[38;5;124m'\u001b[39m\u001b[38;5;124mscore\u001b[39m\u001b[38;5;124m'\u001b[39m: \u001b[38;5;28;01mNone\u001b[39;00m,\n",
      "              \u001b[38;5;124m'\u001b[39m\u001b[38;5;124msource\u001b[39m\u001b[38;5;124m'\u001b[39m: \u001b[38;5;124m'\u001b[39m\u001b[38;5;124mBIOGRID\u001b[39m\u001b[38;5;124m'\u001b[39m,\n",
      "              \u001b[38;5;124m'\u001b[39m\u001b[38;5;124mthroughput\u001b[39m\u001b[38;5;124m'\u001b[39m: {\u001b[38;5;124m'\u001b[39m\u001b[38;5;124mfrequency\u001b[39m\u001b[38;5;124m'\u001b[39m: \u001b[38;5;241m366952\u001b[39m,\n",
      "                             \u001b[38;5;124m'\u001b[39m\u001b[38;5;124mthroughput\u001b[39m\u001b[38;5;124m'\u001b[39m: \u001b[38;5;124m'\u001b[39m\u001b[38;5;124mLow Throughput\u001b[39m\u001b[38;5;124m'\u001b[39m}}]}\n",
      "\n",
      "For further testing go to http://0.0.0.0:5000/ui/#/BioGRID/ebel.web.api.ebel.v1.biogrid.get_biogrid\n"
     ]
    },
    {
     "data": {
      "text/html": [
       "<h2>2. BioGrid entry by BioGrid ID</h2>"
      ],
      "text/plain": [
       "<IPython.core.display.HTML object>"
      ]
     },
     "metadata": {},
     "output_type": "display_data"
    },
    {
     "data": {
      "text/html": [
       "<b style=\"color: rgb(98,98,98); text-decoration: underline;\">Description:</b> <p>BioGrid entry by BioGrid ID</p>"
      ],
      "text/plain": [
       "<IPython.core.display.HTML object>"
      ]
     },
     "metadata": {},
     "output_type": "display_data"
    },
    {
     "data": {
      "text/html": [
       "<b>Tags:</b> ['BioGRID']"
      ],
      "text/plain": [
       "<IPython.core.display.HTML object>"
      ]
     },
     "metadata": {},
     "output_type": "display_data"
    },
    {
     "data": {
      "text/html": [
       "<b>Server path:</b> /api/v1/biogrid/by_biogrid_id"
      ],
      "text/plain": [
       "<IPython.core.display.HTML object>"
      ]
     },
     "metadata": {},
     "output_type": "display_data"
    },
    {
     "data": {
      "text/html": [
       "<div>\n",
       "<style scoped>\n",
       "    .dataframe tbody tr th:only-of-type {\n",
       "        vertical-align: middle;\n",
       "    }\n",
       "\n",
       "    .dataframe tbody tr th {\n",
       "        vertical-align: top;\n",
       "    }\n",
       "\n",
       "    .dataframe thead th {\n",
       "        text-align: right;\n",
       "    }\n",
       "</style>\n",
       "<table border=\"1\" class=\"dataframe\">\n",
       "  <thead>\n",
       "    <tr style=\"text-align: right;\">\n",
       "      <th></th>\n",
       "      <th>data type</th>\n",
       "      <th>description</th>\n",
       "      <th>example</th>\n",
       "      <th>options</th>\n",
       "      <th>default</th>\n",
       "      <th>required</th>\n",
       "    </tr>\n",
       "    <tr>\n",
       "      <th>parameter name</th>\n",
       "      <th></th>\n",
       "      <th></th>\n",
       "      <th></th>\n",
       "      <th></th>\n",
       "      <th></th>\n",
       "      <th></th>\n",
       "    </tr>\n",
       "  </thead>\n",
       "  <tbody>\n",
       "    <tr>\n",
       "      <th>biogrid_id</th>\n",
       "      <td>integer</td>\n",
       "      <td></td>\n",
       "      <td>2658248</td>\n",
       "      <td></td>\n",
       "      <td></td>\n",
       "      <td>True</td>\n",
       "    </tr>\n",
       "  </tbody>\n",
       "</table>\n",
       "</div>"
      ],
      "text/plain": [
       "               data type description  example options default  required\n",
       "parameter name                                                         \n",
       "biogrid_id       integer              2658248                      True"
      ]
     },
     "metadata": {},
     "output_type": "display_data"
    },
    {
     "data": {
      "text/html": [
       "<b>Example URL:</b> <a href=\"http://0.0.0.0:5000/api/v1/biogrid/by_biogrid_id?biogrid_id=2658248\">http://0.0.0.0:5000/api/v1/biogrid/by_biogrid_id?biogrid_id=2658248</a>"
      ],
      "text/plain": [
       "<IPython.core.display.HTML object>"
      ]
     },
     "metadata": {},
     "output_type": "display_data"
    },
    {
     "data": {
      "text/html": [
       "<b style=\"color: rgb(98,98,98); text-decoration: underline;\">Example response:</b>"
      ],
      "text/plain": [
       "<IPython.core.display.HTML object>"
      ]
     },
     "metadata": {},
     "output_type": "display_data"
    },
    {
     "name": "stdout",
     "output_type": "stream",
     "text": [
      "{\u001b[38;5;124m'\u001b[39m\u001b[38;5;124mbiogrid_a\u001b[39m\u001b[38;5;124m'\u001b[39m: {\u001b[38;5;124m'\u001b[39m\u001b[38;5;124mentrez\u001b[39m\u001b[38;5;124m'\u001b[39m: \u001b[38;5;241m59272\u001b[39m,\n",
      "               \u001b[38;5;124m'\u001b[39m\u001b[38;5;124msymbol\u001b[39m\u001b[38;5;124m'\u001b[39m: \u001b[38;5;124m'\u001b[39m\u001b[38;5;124mACE2\u001b[39m\u001b[38;5;124m'\u001b[39m,\n",
      "               \u001b[38;5;124m'\u001b[39m\u001b[38;5;124msystematic_name\u001b[39m\u001b[38;5;124m'\u001b[39m: \u001b[38;5;124m'\u001b[39m\u001b[38;5;124mUNQ868/PRO1885\u001b[39m\u001b[38;5;124m'\u001b[39m,\n",
      "               \u001b[38;5;124m'\u001b[39m\u001b[38;5;124mtaxonomy\u001b[39m\u001b[38;5;124m'\u001b[39m: {\u001b[38;5;124m'\u001b[39m\u001b[38;5;124morganism_name\u001b[39m\u001b[38;5;124m'\u001b[39m: \u001b[38;5;124m'\u001b[39m\u001b[38;5;124mHomo sapiens\u001b[39m\u001b[38;5;124m'\u001b[39m,\n",
      "                            \u001b[38;5;124m'\u001b[39m\u001b[38;5;124mtaxonomy_id\u001b[39m\u001b[38;5;124m'\u001b[39m: \u001b[38;5;241m9606\u001b[39m},\n",
      "               \u001b[38;5;124m'\u001b[39m\u001b[38;5;124mtrembl\u001b[39m\u001b[38;5;124m'\u001b[39m: \u001b[38;5;28;01mNone\u001b[39;00m,\n",
      "               \u001b[38;5;124m'\u001b[39m\u001b[38;5;124muniprot\u001b[39m\u001b[38;5;124m'\u001b[39m: \u001b[38;5;124m'\u001b[39m\u001b[38;5;124mQ9BYF1\u001b[39m\u001b[38;5;124m'\u001b[39m},\n",
      " \u001b[38;5;124m'\u001b[39m\u001b[38;5;124mbiogrid_b\u001b[39m\u001b[38;5;124m'\u001b[39m: {\u001b[38;5;124m'\u001b[39m\u001b[38;5;124mentrez\u001b[39m\u001b[38;5;124m'\u001b[39m: \u001b[38;5;241m43740568\u001b[39m,\n",
      "               \u001b[38;5;124m'\u001b[39m\u001b[38;5;124msymbol\u001b[39m\u001b[38;5;124m'\u001b[39m: \u001b[38;5;124m'\u001b[39m\u001b[38;5;124mS\u001b[39m\u001b[38;5;124m'\u001b[39m,\n",
      "               \u001b[38;5;124m'\u001b[39m\u001b[38;5;124msystematic_name\u001b[39m\u001b[38;5;124m'\u001b[39m: \u001b[38;5;124m'\u001b[39m\u001b[38;5;124mGU280_gp02\u001b[39m\u001b[38;5;124m'\u001b[39m,\n",
      "               \u001b[38;5;124m'\u001b[39m\u001b[38;5;124mtaxonomy\u001b[39m\u001b[38;5;124m'\u001b[39m: {\u001b[38;5;124m'\u001b[39m\u001b[38;5;124morganism_name\u001b[39m\u001b[38;5;124m'\u001b[39m: \u001b[38;5;124m'\u001b[39m\u001b[38;5;124mSevere acute respiratory \u001b[39m\u001b[38;5;124m'\u001b[39m\n",
      "                                             \u001b[38;5;124m'\u001b[39m\u001b[38;5;124msyndrome coronavirus 2\u001b[39m\u001b[38;5;124m'\u001b[39m,\n",
      "                            \u001b[38;5;124m'\u001b[39m\u001b[38;5;124mtaxonomy_id\u001b[39m\u001b[38;5;124m'\u001b[39m: \u001b[38;5;241m2697049\u001b[39m},\n",
      "               \u001b[38;5;124m'\u001b[39m\u001b[38;5;124mtrembl\u001b[39m\u001b[38;5;124m'\u001b[39m: \u001b[38;5;28;01mNone\u001b[39;00m,\n",
      "               \u001b[38;5;124m'\u001b[39m\u001b[38;5;124muniprot\u001b[39m\u001b[38;5;124m'\u001b[39m: \u001b[38;5;124m'\u001b[39m\u001b[38;5;124mP0DTC2\u001b[39m\u001b[38;5;124m'\u001b[39m},\n",
      " \u001b[38;5;124m'\u001b[39m\u001b[38;5;124mbiogrid_id\u001b[39m\u001b[38;5;124m'\u001b[39m: \u001b[38;5;241m2658248\u001b[39m,\n",
      " \u001b[38;5;124m'\u001b[39m\u001b[38;5;124mexperimental_system\u001b[39m\u001b[38;5;124m'\u001b[39m: {\u001b[38;5;124m'\u001b[39m\u001b[38;5;124mexperimental_system\u001b[39m\u001b[38;5;124m'\u001b[39m: \u001b[38;5;124m'\u001b[39m\u001b[38;5;124mReconstituted Complex\u001b[39m\u001b[38;5;124m'\u001b[39m,\n",
      "                         \u001b[38;5;124m'\u001b[39m\u001b[38;5;124mexperimental_system_type\u001b[39m\u001b[38;5;124m'\u001b[39m: \u001b[38;5;124m'\u001b[39m\u001b[38;5;124mphysical\u001b[39m\u001b[38;5;124m'\u001b[39m,\n",
      "                         \u001b[38;5;124m'\u001b[39m\u001b[38;5;124mfrequency\u001b[39m\u001b[38;5;124m'\u001b[39m: \u001b[38;5;241m58466\u001b[39m},\n",
      " \u001b[38;5;124m'\u001b[39m\u001b[38;5;124mmodification\u001b[39m\u001b[38;5;124m'\u001b[39m: \u001b[38;5;28;01mNone\u001b[39;00m,\n",
      " \u001b[38;5;124m'\u001b[39m\u001b[38;5;124mpublication\u001b[39m\u001b[38;5;124m'\u001b[39m: {\u001b[38;5;124m'\u001b[39m\u001b[38;5;124mauthor_name\u001b[39m\u001b[38;5;124m'\u001b[39m: \u001b[38;5;124m'\u001b[39m\u001b[38;5;124mSun C \u001b[39m\u001b[38;5;124m'\u001b[39m,\n",
      "                 \u001b[38;5;124m'\u001b[39m\u001b[38;5;124mpublication_year\u001b[39m\u001b[38;5;124m'\u001b[39m: \u001b[38;5;241m2020\u001b[39m,\n",
      "                 \u001b[38;5;124m'\u001b[39m\u001b[38;5;124msource\u001b[39m\u001b[38;5;124m'\u001b[39m: \u001b[38;5;124m'\u001b[39m\u001b[38;5;124mDOI\u001b[39m\u001b[38;5;124m'\u001b[39m,\n",
      "                 \u001b[38;5;124m'\u001b[39m\u001b[38;5;124msource_identifier\u001b[39m\u001b[38;5;124m'\u001b[39m: \u001b[38;5;124m'\u001b[39m\u001b[38;5;124m10.1101/2020.02.16.951723\u001b[39m\u001b[38;5;124m'\u001b[39m},\n",
      " \u001b[38;5;124m'\u001b[39m\u001b[38;5;124mqualification\u001b[39m\u001b[38;5;124m'\u001b[39m: \u001b[38;5;124m'\u001b[39m\u001b[38;5;124mThe Receptor Binding Domain (RBD) of the SARS-CoV-2 Spike \u001b[39m\u001b[38;5;124m'\u001b[39m\n",
      "                  \u001b[38;5;124m'\u001b[39m\u001b[38;5;124mprotein interacts with human ACE2 in vitro.\u001b[39m\u001b[38;5;124m'\u001b[39m,\n",
      " \u001b[38;5;124m'\u001b[39m\u001b[38;5;124mscore\u001b[39m\u001b[38;5;124m'\u001b[39m: \u001b[38;5;28;01mNone\u001b[39;00m,\n",
      " \u001b[38;5;124m'\u001b[39m\u001b[38;5;124msource\u001b[39m\u001b[38;5;124m'\u001b[39m: \u001b[38;5;124m'\u001b[39m\u001b[38;5;124mBIOGRID\u001b[39m\u001b[38;5;124m'\u001b[39m,\n",
      " \u001b[38;5;124m'\u001b[39m\u001b[38;5;124mthroughput\u001b[39m\u001b[38;5;124m'\u001b[39m: {\u001b[38;5;124m'\u001b[39m\u001b[38;5;124mfrequency\u001b[39m\u001b[38;5;124m'\u001b[39m: \u001b[38;5;241m366952\u001b[39m, \u001b[38;5;124m'\u001b[39m\u001b[38;5;124mthroughput\u001b[39m\u001b[38;5;124m'\u001b[39m: \u001b[38;5;124m'\u001b[39m\u001b[38;5;124mLow Throughput\u001b[39m\u001b[38;5;124m'\u001b[39m}}\n",
      "\n",
      "For further testing go to http://0.0.0.0:5000/ui/#/BioGRID/ebel.web.api.ebel.v1.biogrid.get_biogrid_by_biogrid_id\n"
     ]
    },
    {
     "data": {
      "text/html": [
       "<h2>3. Get BioGrid entry by PubMed Identifier.</h2>"
      ],
      "text/plain": [
       "<IPython.core.display.HTML object>"
      ]
     },
     "metadata": {},
     "output_type": "display_data"
    },
    {
     "data": {
      "text/html": [
       "<b style=\"color: rgb(98,98,98); text-decoration: underline;\">Description:</b> <p>Get BioGrid entry by PubMed Identifier.</p>"
      ],
      "text/plain": [
       "<IPython.core.display.HTML object>"
      ]
     },
     "metadata": {},
     "output_type": "display_data"
    },
    {
     "data": {
      "text/html": [
       "<b>Tags:</b> ['BioGRID']"
      ],
      "text/plain": [
       "<IPython.core.display.HTML object>"
      ]
     },
     "metadata": {},
     "output_type": "display_data"
    },
    {
     "data": {
      "text/html": [
       "<b>Server path:</b> /api/v1/biogrid/by_pmid"
      ],
      "text/plain": [
       "<IPython.core.display.HTML object>"
      ]
     },
     "metadata": {},
     "output_type": "display_data"
    },
    {
     "data": {
      "text/html": [
       "<div>\n",
       "<style scoped>\n",
       "    .dataframe tbody tr th:only-of-type {\n",
       "        vertical-align: middle;\n",
       "    }\n",
       "\n",
       "    .dataframe tbody tr th {\n",
       "        vertical-align: top;\n",
       "    }\n",
       "\n",
       "    .dataframe thead th {\n",
       "        text-align: right;\n",
       "    }\n",
       "</style>\n",
       "<table border=\"1\" class=\"dataframe\">\n",
       "  <thead>\n",
       "    <tr style=\"text-align: right;\">\n",
       "      <th></th>\n",
       "      <th>data type</th>\n",
       "      <th>description</th>\n",
       "      <th>example</th>\n",
       "      <th>options</th>\n",
       "      <th>default</th>\n",
       "      <th>required</th>\n",
       "    </tr>\n",
       "    <tr>\n",
       "      <th>parameter name</th>\n",
       "      <th></th>\n",
       "      <th></th>\n",
       "      <th></th>\n",
       "      <th></th>\n",
       "      <th></th>\n",
       "      <th></th>\n",
       "    </tr>\n",
       "  </thead>\n",
       "  <tbody>\n",
       "    <tr>\n",
       "      <th>pmid</th>\n",
       "      <td>integer</td>\n",
       "      <td>NCBI PubMed Identifier.</td>\n",
       "      <td>21685874</td>\n",
       "      <td></td>\n",
       "      <td></td>\n",
       "      <td>True</td>\n",
       "    </tr>\n",
       "  </tbody>\n",
       "</table>\n",
       "</div>"
      ],
      "text/plain": [
       "               data type              description   example options default  \\\n",
       "parameter name                                                                \n",
       "pmid             integer  NCBI PubMed Identifier.  21685874                   \n",
       "\n",
       "                required  \n",
       "parameter name            \n",
       "pmid                True  "
      ]
     },
     "metadata": {},
     "output_type": "display_data"
    },
    {
     "data": {
      "text/html": [
       "<b>Example URL:</b> <a href=\"http://0.0.0.0:5000/api/v1/biogrid/by_pmid?pmid=21685874\">http://0.0.0.0:5000/api/v1/biogrid/by_pmid?pmid=21685874</a>"
      ],
      "text/plain": [
       "<IPython.core.display.HTML object>"
      ]
     },
     "metadata": {},
     "output_type": "display_data"
    },
    {
     "name": "stdout",
     "output_type": "stream",
     "text": [
      "\n",
      "The result is a list and have 28 entries. Here we show only the first entry.\n",
      "\n"
     ]
    },
    {
     "data": {
      "text/html": [
       "<b style=\"color: rgb(98,98,98); text-decoration: underline;\">Example response:</b>"
      ],
      "text/plain": [
       "<IPython.core.display.HTML object>"
      ]
     },
     "metadata": {},
     "output_type": "display_data"
    },
    {
     "name": "stdout",
     "output_type": "stream",
     "text": [
      "{\u001b[38;5;124m'\u001b[39m\u001b[38;5;124mbiogrid_a\u001b[39m\u001b[38;5;124m'\u001b[39m: {\u001b[38;5;124m'\u001b[39m\u001b[38;5;124mentrez\u001b[39m\u001b[38;5;124m'\u001b[39m: \u001b[38;5;241m853167\u001b[39m,\n",
      "               \u001b[38;5;124m'\u001b[39m\u001b[38;5;124msymbol\u001b[39m\u001b[38;5;124m'\u001b[39m: \u001b[38;5;124m'\u001b[39m\u001b[38;5;124mGCN5\u001b[39m\u001b[38;5;124m'\u001b[39m,\n",
      "               \u001b[38;5;124m'\u001b[39m\u001b[38;5;124msystematic_name\u001b[39m\u001b[38;5;124m'\u001b[39m: \u001b[38;5;124m'\u001b[39m\u001b[38;5;124mYGR252W\u001b[39m\u001b[38;5;124m'\u001b[39m,\n",
      "               \u001b[38;5;124m'\u001b[39m\u001b[38;5;124mtaxonomy\u001b[39m\u001b[38;5;124m'\u001b[39m: {\u001b[38;5;124m'\u001b[39m\u001b[38;5;124morganism_name\u001b[39m\u001b[38;5;124m'\u001b[39m: \u001b[38;5;124m'\u001b[39m\u001b[38;5;124mSaccharomyces cerevisiae (S288c)\u001b[39m\u001b[38;5;124m'\u001b[39m,\n",
      "                            \u001b[38;5;124m'\u001b[39m\u001b[38;5;124mtaxonomy_id\u001b[39m\u001b[38;5;124m'\u001b[39m: \u001b[38;5;241m559292\u001b[39m},\n",
      "               \u001b[38;5;124m'\u001b[39m\u001b[38;5;124mtrembl\u001b[39m\u001b[38;5;124m'\u001b[39m: \u001b[38;5;28;01mNone\u001b[39;00m,\n",
      "               \u001b[38;5;124m'\u001b[39m\u001b[38;5;124muniprot\u001b[39m\u001b[38;5;124m'\u001b[39m: \u001b[38;5;124m'\u001b[39m\u001b[38;5;124mQ03330\u001b[39m\u001b[38;5;124m'\u001b[39m},\n",
      " \u001b[38;5;124m'\u001b[39m\u001b[38;5;124mbiogrid_b\u001b[39m\u001b[38;5;124m'\u001b[39m: {\u001b[38;5;124m'\u001b[39m\u001b[38;5;124mentrez\u001b[39m\u001b[38;5;124m'\u001b[39m: \u001b[38;5;241m852295\u001b[39m,\n",
      "               \u001b[38;5;124m'\u001b[39m\u001b[38;5;124msymbol\u001b[39m\u001b[38;5;124m'\u001b[39m: \u001b[38;5;124m'\u001b[39m\u001b[38;5;124mHHT1\u001b[39m\u001b[38;5;124m'\u001b[39m,\n",
      "               \u001b[38;5;124m'\u001b[39m\u001b[38;5;124msystematic_name\u001b[39m\u001b[38;5;124m'\u001b[39m: \u001b[38;5;124m'\u001b[39m\u001b[38;5;124mYBR010W\u001b[39m\u001b[38;5;124m'\u001b[39m,\n",
      "               \u001b[38;5;124m'\u001b[39m\u001b[38;5;124mtaxonomy\u001b[39m\u001b[38;5;124m'\u001b[39m: {\u001b[38;5;124m'\u001b[39m\u001b[38;5;124morganism_name\u001b[39m\u001b[38;5;124m'\u001b[39m: \u001b[38;5;124m'\u001b[39m\u001b[38;5;124mSaccharomyces cerevisiae (S288c)\u001b[39m\u001b[38;5;124m'\u001b[39m,\n",
      "                            \u001b[38;5;124m'\u001b[39m\u001b[38;5;124mtaxonomy_id\u001b[39m\u001b[38;5;124m'\u001b[39m: \u001b[38;5;241m559292\u001b[39m},\n",
      "               \u001b[38;5;124m'\u001b[39m\u001b[38;5;124mtrembl\u001b[39m\u001b[38;5;124m'\u001b[39m: \u001b[38;5;28;01mNone\u001b[39;00m,\n",
      "               \u001b[38;5;124m'\u001b[39m\u001b[38;5;124muniprot\u001b[39m\u001b[38;5;124m'\u001b[39m: \u001b[38;5;124m'\u001b[39m\u001b[38;5;124mP61830\u001b[39m\u001b[38;5;124m'\u001b[39m},\n",
      " \u001b[38;5;124m'\u001b[39m\u001b[38;5;124mbiogrid_id\u001b[39m\u001b[38;5;124m'\u001b[39m: \u001b[38;5;241m543927\u001b[39m,\n",
      " \u001b[38;5;124m'\u001b[39m\u001b[38;5;124mexperimental_system\u001b[39m\u001b[38;5;124m'\u001b[39m: {\u001b[38;5;124m'\u001b[39m\u001b[38;5;124mexperimental_system\u001b[39m\u001b[38;5;124m'\u001b[39m: \u001b[38;5;124m'\u001b[39m\u001b[38;5;124mBiochemical Activity\u001b[39m\u001b[38;5;124m'\u001b[39m,\n",
      "                         \u001b[38;5;124m'\u001b[39m\u001b[38;5;124mexperimental_system_type\u001b[39m\u001b[38;5;124m'\u001b[39m: \u001b[38;5;124m'\u001b[39m\u001b[38;5;124mphysical\u001b[39m\u001b[38;5;124m'\u001b[39m,\n",
      "                         \u001b[38;5;124m'\u001b[39m\u001b[38;5;124mfrequency\u001b[39m\u001b[38;5;124m'\u001b[39m: \u001b[38;5;241m24247\u001b[39m},\n",
      " \u001b[38;5;124m'\u001b[39m\u001b[38;5;124mmodification\u001b[39m\u001b[38;5;124m'\u001b[39m: {\u001b[38;5;124m'\u001b[39m\u001b[38;5;124mfrequency\u001b[39m\u001b[38;5;124m'\u001b[39m: \u001b[38;5;241m846\u001b[39m, \u001b[38;5;124m'\u001b[39m\u001b[38;5;124mmodification\u001b[39m\u001b[38;5;124m'\u001b[39m: \u001b[38;5;124m'\u001b[39m\u001b[38;5;124mAcetylation\u001b[39m\u001b[38;5;124m'\u001b[39m},\n",
      " \u001b[38;5;124m'\u001b[39m\u001b[38;5;124mpublication\u001b[39m\u001b[38;5;124m'\u001b[39m: {\u001b[38;5;124m'\u001b[39m\u001b[38;5;124mauthor_name\u001b[39m\u001b[38;5;124m'\u001b[39m: \u001b[38;5;124m'\u001b[39m\u001b[38;5;124mBian C \u001b[39m\u001b[38;5;124m'\u001b[39m,\n",
      "                 \u001b[38;5;124m'\u001b[39m\u001b[38;5;124mpublication_year\u001b[39m\u001b[38;5;124m'\u001b[39m: \u001b[38;5;241m2011\u001b[39m,\n",
      "                 \u001b[38;5;124m'\u001b[39m\u001b[38;5;124msource\u001b[39m\u001b[38;5;124m'\u001b[39m: \u001b[38;5;124m'\u001b[39m\u001b[38;5;124mPUBMED\u001b[39m\u001b[38;5;124m'\u001b[39m,\n",
      "                 \u001b[38;5;124m'\u001b[39m\u001b[38;5;124msource_identifier\u001b[39m\u001b[38;5;124m'\u001b[39m: \u001b[38;5;124m'\u001b[39m\u001b[38;5;124m21685874\u001b[39m\u001b[38;5;124m'\u001b[39m},\n",
      " \u001b[38;5;124m'\u001b[39m\u001b[38;5;124mqualification\u001b[39m\u001b[38;5;124m'\u001b[39m: \u001b[38;5;124m'\u001b[39m\u001b[38;5;124mthe purified SAGA complex can acetylate histone 3 in vitro\u001b[39m\u001b[38;5;124m'\u001b[39m,\n",
      " \u001b[38;5;124m'\u001b[39m\u001b[38;5;124mscore\u001b[39m\u001b[38;5;124m'\u001b[39m: \u001b[38;5;28;01mNone\u001b[39;00m,\n",
      " \u001b[38;5;124m'\u001b[39m\u001b[38;5;124msource\u001b[39m\u001b[38;5;124m'\u001b[39m: \u001b[38;5;124m'\u001b[39m\u001b[38;5;124mBIOGRID\u001b[39m\u001b[38;5;124m'\u001b[39m,\n",
      " \u001b[38;5;124m'\u001b[39m\u001b[38;5;124mthroughput\u001b[39m\u001b[38;5;124m'\u001b[39m: {\u001b[38;5;124m'\u001b[39m\u001b[38;5;124mfrequency\u001b[39m\u001b[38;5;124m'\u001b[39m: \u001b[38;5;241m1611845\u001b[39m, \u001b[38;5;124m'\u001b[39m\u001b[38;5;124mthroughput\u001b[39m\u001b[38;5;124m'\u001b[39m: \u001b[38;5;124m'\u001b[39m\u001b[38;5;124mHigh Throughput\u001b[39m\u001b[38;5;124m'\u001b[39m}}\n",
      "\n",
      "For further testing go to http://0.0.0.0:5000/ui/#/BioGRID/ebel.web.api.ebel.v1.biogrid.get_biogrid_by_pmid\n"
     ]
    },
    {
     "data": {
      "text/html": [
       "<h2>4. Distinct BioGRID experimental systems</h2>"
      ],
      "text/plain": [
       "<IPython.core.display.HTML object>"
      ]
     },
     "metadata": {},
     "output_type": "display_data"
    },
    {
     "data": {
      "text/html": [
       "<b style=\"color: rgb(98,98,98); text-decoration: underline;\">Description:</b> <p>Distinct BioGRID experimental systems</p>"
      ],
      "text/plain": [
       "<IPython.core.display.HTML object>"
      ]
     },
     "metadata": {},
     "output_type": "display_data"
    },
    {
     "data": {
      "text/html": [
       "<b>Tags:</b> ['BioGRID']"
      ],
      "text/plain": [
       "<IPython.core.display.HTML object>"
      ]
     },
     "metadata": {},
     "output_type": "display_data"
    },
    {
     "data": {
      "text/html": [
       "<b>Server path:</b> /api/v1/biogrid/experimental_systems"
      ],
      "text/plain": [
       "<IPython.core.display.HTML object>"
      ]
     },
     "metadata": {},
     "output_type": "display_data"
    },
    {
     "name": "stdout",
     "output_type": "stream",
     "text": [
      "without paramters\n"
     ]
    },
    {
     "data": {
      "text/html": [
       "<b>Example URL:</b> <a href=\"http://0.0.0.0:5000/api/v1/biogrid/experimental_systems\">http://0.0.0.0:5000/api/v1/biogrid/experimental_systems</a>"
      ],
      "text/plain": [
       "<IPython.core.display.HTML object>"
      ]
     },
     "metadata": {},
     "output_type": "display_data"
    },
    {
     "data": {
      "text/html": [
       "<b style=\"color: rgb(98,98,98); text-decoration: underline;\">Example response:</b>"
      ],
      "text/plain": [
       "<IPython.core.display.HTML object>"
      ]
     },
     "metadata": {},
     "output_type": "display_data"
    },
    {
     "name": "stdout",
     "output_type": "stream",
     "text": [
      "{\u001b[38;5;124m'\u001b[39m\u001b[38;5;124mAffinity Capture-Luminescence\u001b[39m\u001b[38;5;124m'\u001b[39m: \u001b[38;5;241m24\u001b[39m,\n",
      " \u001b[38;5;124m'\u001b[39m\u001b[38;5;124mAffinity Capture-MS\u001b[39m\u001b[38;5;124m'\u001b[39m: \u001b[38;5;241m2\u001b[39m,\n",
      " \u001b[38;5;124m'\u001b[39m\u001b[38;5;124mAffinity Capture-RNA\u001b[39m\u001b[38;5;124m'\u001b[39m: \u001b[38;5;241m9\u001b[39m,\n",
      " \u001b[38;5;124m'\u001b[39m\u001b[38;5;124mAffinity Capture-Western\u001b[39m\u001b[38;5;124m'\u001b[39m: \u001b[38;5;241m5\u001b[39m,\n",
      " \u001b[38;5;124m'\u001b[39m\u001b[38;5;124mBiochemical Activity\u001b[39m\u001b[38;5;124m'\u001b[39m: \u001b[38;5;241m12\u001b[39m,\n",
      " \u001b[38;5;124m'\u001b[39m\u001b[38;5;124mCo-crystal Structure\u001b[39m\u001b[38;5;124m'\u001b[39m: \u001b[38;5;241m21\u001b[39m,\n",
      " \u001b[38;5;124m'\u001b[39m\u001b[38;5;124mCo-fractionation\u001b[39m\u001b[38;5;124m'\u001b[39m: \u001b[38;5;241m6\u001b[39m,\n",
      " \u001b[38;5;124m'\u001b[39m\u001b[38;5;124mCo-localization\u001b[39m\u001b[38;5;124m'\u001b[39m: \u001b[38;5;241m20\u001b[39m,\n",
      " \u001b[38;5;124m'\u001b[39m\u001b[38;5;124mCo-purification\u001b[39m\u001b[38;5;124m'\u001b[39m: \u001b[38;5;241m19\u001b[39m,\n",
      " \u001b[38;5;124m'\u001b[39m\u001b[38;5;124mDosage Growth Defect\u001b[39m\u001b[38;5;124m'\u001b[39m: \u001b[38;5;241m26\u001b[39m,\n",
      " \u001b[38;5;124m'\u001b[39m\u001b[38;5;124mDosage Lethality\u001b[39m\u001b[38;5;124m'\u001b[39m: \u001b[38;5;241m25\u001b[39m,\n",
      " \u001b[38;5;124m'\u001b[39m\u001b[38;5;124mDosage Rescue\u001b[39m\u001b[38;5;124m'\u001b[39m: \u001b[38;5;241m18\u001b[39m,\n",
      " \u001b[38;5;124m'\u001b[39m\u001b[38;5;124mFRET\u001b[39m\u001b[38;5;124m'\u001b[39m: \u001b[38;5;241m22\u001b[39m,\n",
      " \u001b[38;5;124m'\u001b[39m\u001b[38;5;124mFar Western\u001b[39m\u001b[38;5;124m'\u001b[39m: \u001b[38;5;241m27\u001b[39m,\n",
      " \u001b[38;5;124m'\u001b[39m\u001b[38;5;124mNegative Genetic\u001b[39m\u001b[38;5;124m'\u001b[39m: \u001b[38;5;241m1\u001b[39m,\n",
      " \u001b[38;5;124m'\u001b[39m\u001b[38;5;124mPCA\u001b[39m\u001b[38;5;124m'\u001b[39m: \u001b[38;5;241m11\u001b[39m,\n",
      " \u001b[38;5;124m'\u001b[39m\u001b[38;5;124mPhenotypic Enhancement\u001b[39m\u001b[38;5;124m'\u001b[39m: \u001b[38;5;241m15\u001b[39m,\n",
      " \u001b[38;5;124m'\u001b[39m\u001b[38;5;124mPhenotypic Suppression\u001b[39m\u001b[38;5;124m'\u001b[39m: \u001b[38;5;241m14\u001b[39m,\n",
      " \u001b[38;5;124m'\u001b[39m\u001b[38;5;124mPositive Genetic\u001b[39m\u001b[38;5;124m'\u001b[39m: \u001b[38;5;241m4\u001b[39m,\n",
      " \u001b[38;5;124m'\u001b[39m\u001b[38;5;124mProtein-RNA\u001b[39m\u001b[38;5;124m'\u001b[39m: \u001b[38;5;241m17\u001b[39m,\n",
      " \u001b[38;5;124m'\u001b[39m\u001b[38;5;124mProtein-peptide\u001b[39m\u001b[38;5;124m'\u001b[39m: \u001b[38;5;241m23\u001b[39m,\n",
      " \u001b[38;5;124m'\u001b[39m\u001b[38;5;124mProximity Label-MS\u001b[39m\u001b[38;5;124m'\u001b[39m: \u001b[38;5;241m7\u001b[39m,\n",
      " \u001b[38;5;124m'\u001b[39m\u001b[38;5;124mReconstituted Complex\u001b[39m\u001b[38;5;124m'\u001b[39m: \u001b[38;5;241m8\u001b[39m,\n",
      " \u001b[38;5;124m'\u001b[39m\u001b[38;5;124mSynthetic Growth Defect\u001b[39m\u001b[38;5;124m'\u001b[39m: \u001b[38;5;241m10\u001b[39m,\n",
      " \u001b[38;5;124m'\u001b[39m\u001b[38;5;124mSynthetic Haploinsufficiency\u001b[39m\u001b[38;5;124m'\u001b[39m: \u001b[38;5;241m28\u001b[39m,\n",
      " \u001b[38;5;124m'\u001b[39m\u001b[38;5;124mSynthetic Lethality\u001b[39m\u001b[38;5;124m'\u001b[39m: \u001b[38;5;241m13\u001b[39m,\n",
      " \u001b[38;5;124m'\u001b[39m\u001b[38;5;124mSynthetic Rescue\u001b[39m\u001b[38;5;124m'\u001b[39m: \u001b[38;5;241m16\u001b[39m,\n",
      " \u001b[38;5;124m'\u001b[39m\u001b[38;5;124mTwo-hybrid\u001b[39m\u001b[38;5;124m'\u001b[39m: \u001b[38;5;241m3\u001b[39m}\n",
      "\n",
      "For further testing go to http://0.0.0.0:5000/ui/#/BioGRID/ebel.web.api.ebel.v1.biogrid.get_experimental_systems\n"
     ]
    },
    {
     "data": {
      "text/html": [
       "<h2>5. BioGrid Interactor by gene symbol.</h2>"
      ],
      "text/plain": [
       "<IPython.core.display.HTML object>"
      ]
     },
     "metadata": {},
     "output_type": "display_data"
    },
    {
     "data": {
      "text/html": [
       "<b style=\"color: rgb(98,98,98); text-decoration: underline;\">Description:</b> <p>BioGrid Interactor by gene symbol.</p>"
      ],
      "text/plain": [
       "<IPython.core.display.HTML object>"
      ]
     },
     "metadata": {},
     "output_type": "display_data"
    },
    {
     "data": {
      "text/html": [
       "<b>Tags:</b> ['BioGRID']"
      ],
      "text/plain": [
       "<IPython.core.display.HTML object>"
      ]
     },
     "metadata": {},
     "output_type": "display_data"
    },
    {
     "data": {
      "text/html": [
       "<b>Server path:</b> /api/v1/biogrid/interactor/by_symbol"
      ],
      "text/plain": [
       "<IPython.core.display.HTML object>"
      ]
     },
     "metadata": {},
     "output_type": "display_data"
    },
    {
     "data": {
      "text/html": [
       "<div>\n",
       "<style scoped>\n",
       "    .dataframe tbody tr th:only-of-type {\n",
       "        vertical-align: middle;\n",
       "    }\n",
       "\n",
       "    .dataframe tbody tr th {\n",
       "        vertical-align: top;\n",
       "    }\n",
       "\n",
       "    .dataframe thead th {\n",
       "        text-align: right;\n",
       "    }\n",
       "</style>\n",
       "<table border=\"1\" class=\"dataframe\">\n",
       "  <thead>\n",
       "    <tr style=\"text-align: right;\">\n",
       "      <th></th>\n",
       "      <th>data type</th>\n",
       "      <th>description</th>\n",
       "      <th>example</th>\n",
       "      <th>options</th>\n",
       "      <th>default</th>\n",
       "      <th>required</th>\n",
       "    </tr>\n",
       "    <tr>\n",
       "      <th>parameter name</th>\n",
       "      <th></th>\n",
       "      <th></th>\n",
       "      <th></th>\n",
       "      <th></th>\n",
       "      <th></th>\n",
       "      <th></th>\n",
       "    </tr>\n",
       "  </thead>\n",
       "  <tbody>\n",
       "    <tr>\n",
       "      <th>symbol</th>\n",
       "      <td>string</td>\n",
       "      <td>Gene symbol of interactor.</td>\n",
       "      <td>trem%</td>\n",
       "      <td></td>\n",
       "      <td></td>\n",
       "      <td>True</td>\n",
       "    </tr>\n",
       "    <tr>\n",
       "      <th>taxonomy_id</th>\n",
       "      <td>integer</td>\n",
       "      <td>NCBI taxonomy ID interactor A</td>\n",
       "      <td>9606</td>\n",
       "      <td></td>\n",
       "      <td></td>\n",
       "      <td>True</td>\n",
       "    </tr>\n",
       "    <tr>\n",
       "      <th>page_size</th>\n",
       "      <td>integer</td>\n",
       "      <td>Results per page</td>\n",
       "      <td>1</td>\n",
       "      <td></td>\n",
       "      <td>10.0</td>\n",
       "      <td>False</td>\n",
       "    </tr>\n",
       "    <tr>\n",
       "      <th>page</th>\n",
       "      <td>integer</td>\n",
       "      <td>Page number (starting with 1)</td>\n",
       "      <td>1</td>\n",
       "      <td></td>\n",
       "      <td>1.0</td>\n",
       "      <td>False</td>\n",
       "    </tr>\n",
       "  </tbody>\n",
       "</table>\n",
       "</div>"
      ],
      "text/plain": [
       "               data type                    description example options  \\\n",
       "parameter name                                                            \n",
       "symbol            string     Gene symbol of interactor.   trem%           \n",
       "taxonomy_id      integer  NCBI taxonomy ID interactor A    9606           \n",
       "page_size        integer               Results per page       1           \n",
       "page             integer  Page number (starting with 1)       1           \n",
       "\n",
       "               default  required  \n",
       "parameter name                    \n",
       "symbol                      True  \n",
       "taxonomy_id                 True  \n",
       "page_size         10.0     False  \n",
       "page               1.0     False  "
      ]
     },
     "metadata": {},
     "output_type": "display_data"
    },
    {
     "data": {
      "text/html": [
       "<b>Example URL:</b> <a href=\"http://0.0.0.0:5000/api/v1/biogrid/interactor/by_symbol?symbol=trem%25&taxonomy_id=9606&page_size=1&page=1\">http://0.0.0.0:5000/api/v1/biogrid/interactor/by_symbol?symbol=trem%25&taxonomy_id=9606&page_size=1&page=1</a>"
      ],
      "text/plain": [
       "<IPython.core.display.HTML object>"
      ]
     },
     "metadata": {},
     "output_type": "display_data"
    },
    {
     "data": {
      "text/html": [
       "<b style=\"color: rgb(98,98,98); text-decoration: underline;\">Example response:</b>"
      ],
      "text/plain": [
       "<IPython.core.display.HTML object>"
      ]
     },
     "metadata": {},
     "output_type": "display_data"
    },
    {
     "name": "stdout",
     "output_type": "stream",
     "text": [
      "{\u001b[38;5;124m'\u001b[39m\u001b[38;5;124mnumber_of_results\u001b[39m\u001b[38;5;124m'\u001b[39m: \u001b[38;5;241m4\u001b[39m,\n",
      " \u001b[38;5;124m'\u001b[39m\u001b[38;5;124mpage\u001b[39m\u001b[38;5;124m'\u001b[39m: \u001b[38;5;241m1\u001b[39m,\n",
      " \u001b[38;5;124m'\u001b[39m\u001b[38;5;124mpage_size\u001b[39m\u001b[38;5;124m'\u001b[39m: \u001b[38;5;241m1\u001b[39m,\n",
      " \u001b[38;5;124m'\u001b[39m\u001b[38;5;124mpages\u001b[39m\u001b[38;5;124m'\u001b[39m: \u001b[38;5;241m4\u001b[39m,\n",
      " \u001b[38;5;124m'\u001b[39m\u001b[38;5;124mresults\u001b[39m\u001b[38;5;124m'\u001b[39m: [{\u001b[38;5;124m'\u001b[39m\u001b[38;5;124mentrez\u001b[39m\u001b[38;5;124m'\u001b[39m: \u001b[38;5;241m54210\u001b[39m,\n",
      "              \u001b[38;5;124m'\u001b[39m\u001b[38;5;124msymbol\u001b[39m\u001b[38;5;124m'\u001b[39m: \u001b[38;5;124m'\u001b[39m\u001b[38;5;124mTREM1\u001b[39m\u001b[38;5;124m'\u001b[39m,\n",
      "              \u001b[38;5;124m'\u001b[39m\u001b[38;5;124msystematic_name\u001b[39m\u001b[38;5;124m'\u001b[39m: \u001b[38;5;28;01mNone\u001b[39;00m,\n",
      "              \u001b[38;5;124m'\u001b[39m\u001b[38;5;124mtaxonomy\u001b[39m\u001b[38;5;124m'\u001b[39m: {\u001b[38;5;124m'\u001b[39m\u001b[38;5;124morganism_name\u001b[39m\u001b[38;5;124m'\u001b[39m: \u001b[38;5;124m'\u001b[39m\u001b[38;5;124mHomo sapiens\u001b[39m\u001b[38;5;124m'\u001b[39m,\n",
      "                           \u001b[38;5;124m'\u001b[39m\u001b[38;5;124mtaxonomy_id\u001b[39m\u001b[38;5;124m'\u001b[39m: \u001b[38;5;241m9606\u001b[39m},\n",
      "              \u001b[38;5;124m'\u001b[39m\u001b[38;5;124mtrembl\u001b[39m\u001b[38;5;124m'\u001b[39m: \u001b[38;5;124m'\u001b[39m\u001b[38;5;124mQ38L15\u001b[39m\u001b[38;5;124m'\u001b[39m,\n",
      "              \u001b[38;5;124m'\u001b[39m\u001b[38;5;124muniprot\u001b[39m\u001b[38;5;124m'\u001b[39m: \u001b[38;5;124m'\u001b[39m\u001b[38;5;124mQ9NP99\u001b[39m\u001b[38;5;124m'\u001b[39m}]}\n",
      "\n",
      "For further testing go to http://0.0.0.0:5000/ui/#/BioGRID/ebel.web.api.ebel.v1.biogrid.get_interactor_by_symbol\n"
     ]
    },
    {
     "data": {
      "text/html": [
       "<h2>6. Distinct BioGRID modifications</h2>"
      ],
      "text/plain": [
       "<IPython.core.display.HTML object>"
      ]
     },
     "metadata": {},
     "output_type": "display_data"
    },
    {
     "data": {
      "text/html": [
       "<b style=\"color: rgb(98,98,98); text-decoration: underline;\">Description:</b> <p>Distinct BioGRID modifications</p>"
      ],
      "text/plain": [
       "<IPython.core.display.HTML object>"
      ]
     },
     "metadata": {},
     "output_type": "display_data"
    },
    {
     "data": {
      "text/html": [
       "<b>Tags:</b> ['BioGRID']"
      ],
      "text/plain": [
       "<IPython.core.display.HTML object>"
      ]
     },
     "metadata": {},
     "output_type": "display_data"
    },
    {
     "data": {
      "text/html": [
       "<b>Server path:</b> /api/v1/biogrid/modifications"
      ],
      "text/plain": [
       "<IPython.core.display.HTML object>"
      ]
     },
     "metadata": {},
     "output_type": "display_data"
    },
    {
     "name": "stdout",
     "output_type": "stream",
     "text": [
      "without paramters\n"
     ]
    },
    {
     "data": {
      "text/html": [
       "<b>Example URL:</b> <a href=\"http://0.0.0.0:5000/api/v1/biogrid/modifications\">http://0.0.0.0:5000/api/v1/biogrid/modifications</a>"
      ],
      "text/plain": [
       "<IPython.core.display.HTML object>"
      ]
     },
     "metadata": {},
     "output_type": "display_data"
    },
    {
     "data": {
      "text/html": [
       "<b style=\"color: rgb(98,98,98); text-decoration: underline;\">Example response:</b>"
      ],
      "text/plain": [
       "<IPython.core.display.HTML object>"
      ]
     },
     "metadata": {},
     "output_type": "display_data"
    },
    {
     "name": "stdout",
     "output_type": "stream",
     "text": [
      "{\u001b[38;5;124m'\u001b[39m\u001b[38;5;124mAcetylation\u001b[39m\u001b[38;5;124m'\u001b[39m: \u001b[38;5;241m4\u001b[39m,\n",
      " \u001b[38;5;124m'\u001b[39m\u001b[38;5;124mDeacetylation\u001b[39m\u001b[38;5;124m'\u001b[39m: \u001b[38;5;241m10\u001b[39m,\n",
      " \u001b[38;5;124m'\u001b[39m\u001b[38;5;124mDemethylation\u001b[39m\u001b[38;5;124m'\u001b[39m: \u001b[38;5;241m14\u001b[39m,\n",
      " \u001b[38;5;124m'\u001b[39m\u001b[38;5;124mDeneddylation\u001b[39m\u001b[38;5;124m'\u001b[39m: \u001b[38;5;241m15\u001b[39m,\n",
      " \u001b[38;5;124m'\u001b[39m\u001b[38;5;124mDephosphorylation\u001b[39m\u001b[38;5;124m'\u001b[39m: \u001b[38;5;241m9\u001b[39m,\n",
      " \u001b[38;5;124m'\u001b[39m\u001b[38;5;124mDesumoylation\u001b[39m\u001b[38;5;124m'\u001b[39m: \u001b[38;5;241m13\u001b[39m,\n",
      " \u001b[38;5;124m'\u001b[39m\u001b[38;5;124mDeubiquitination\u001b[39m\u001b[38;5;124m'\u001b[39m: \u001b[38;5;241m5\u001b[39m,\n",
      " \u001b[38;5;124m'\u001b[39m\u001b[38;5;124mFAT10ylation\u001b[39m\u001b[38;5;124m'\u001b[39m: \u001b[38;5;241m19\u001b[39m,\n",
      " \u001b[38;5;124m'\u001b[39m\u001b[38;5;124mGlycosylation\u001b[39m\u001b[38;5;124m'\u001b[39m: \u001b[38;5;241m17\u001b[39m,\n",
      " \u001b[38;5;124m'\u001b[39m\u001b[38;5;124mMethylation\u001b[39m\u001b[38;5;124m'\u001b[39m: \u001b[38;5;241m7\u001b[39m,\n",
      " \u001b[38;5;124m'\u001b[39m\u001b[38;5;124mNedd(Rub1)ylation\u001b[39m\u001b[38;5;124m'\u001b[39m: \u001b[38;5;241m11\u001b[39m,\n",
      " \u001b[38;5;124m'\u001b[39m\u001b[38;5;124mNeddylation\u001b[39m\u001b[38;5;124m'\u001b[39m: \u001b[38;5;241m18\u001b[39m,\n",
      " \u001b[38;5;124m'\u001b[39m\u001b[38;5;124mNo Modification\u001b[39m\u001b[38;5;124m'\u001b[39m: \u001b[38;5;241m3\u001b[39m,\n",
      " \u001b[38;5;124m'\u001b[39m\u001b[38;5;124mPhosphorylation\u001b[39m\u001b[38;5;124m'\u001b[39m: \u001b[38;5;241m1\u001b[39m,\n",
      " \u001b[38;5;124m'\u001b[39m\u001b[38;5;124mPrenylation\u001b[39m\u001b[38;5;124m'\u001b[39m: \u001b[38;5;241m16\u001b[39m,\n",
      " \u001b[38;5;124m'\u001b[39m\u001b[38;5;124mProteolytic Processing\u001b[39m\u001b[38;5;124m'\u001b[39m: \u001b[38;5;241m6\u001b[39m,\n",
      " \u001b[38;5;124m'\u001b[39m\u001b[38;5;124mRibosylation\u001b[39m\u001b[38;5;124m'\u001b[39m: \u001b[38;5;241m12\u001b[39m,\n",
      " \u001b[38;5;124m'\u001b[39m\u001b[38;5;124mSumoylation\u001b[39m\u001b[38;5;124m'\u001b[39m: \u001b[38;5;241m8\u001b[39m,\n",
      " \u001b[38;5;124m'\u001b[39m\u001b[38;5;124mUbiquitination\u001b[39m\u001b[38;5;124m'\u001b[39m: \u001b[38;5;241m2\u001b[39m,\n",
      " \u001b[38;5;124m'\u001b[39m\u001b[38;5;124mde-ISGylation\u001b[39m\u001b[38;5;124m'\u001b[39m: \u001b[38;5;241m20\u001b[39m}\n",
      "\n",
      "For further testing go to http://0.0.0.0:5000/ui/#/BioGRID/ebel.web.api.ebel.v1.biogrid.get_modifications\n"
     ]
    },
    {
     "data": {
      "text/html": [
       "<h2>7. Distinct BioGRID database resouces</h2>"
      ],
      "text/plain": [
       "<IPython.core.display.HTML object>"
      ]
     },
     "metadata": {},
     "output_type": "display_data"
    },
    {
     "data": {
      "text/html": [
       "<b style=\"color: rgb(98,98,98); text-decoration: underline;\">Description:</b> <p>Distinct BioGRID database resouces</p>"
      ],
      "text/plain": [
       "<IPython.core.display.HTML object>"
      ]
     },
     "metadata": {},
     "output_type": "display_data"
    },
    {
     "data": {
      "text/html": [
       "<b>Tags:</b> ['BioGRID']"
      ],
      "text/plain": [
       "<IPython.core.display.HTML object>"
      ]
     },
     "metadata": {},
     "output_type": "display_data"
    },
    {
     "data": {
      "text/html": [
       "<b>Server path:</b> /api/v1/biogrid/sources"
      ],
      "text/plain": [
       "<IPython.core.display.HTML object>"
      ]
     },
     "metadata": {},
     "output_type": "display_data"
    },
    {
     "name": "stdout",
     "output_type": "stream",
     "text": [
      "without paramters\n"
     ]
    },
    {
     "data": {
      "text/html": [
       "<b>Example URL:</b> <a href=\"http://0.0.0.0:5000/api/v1/biogrid/sources\">http://0.0.0.0:5000/api/v1/biogrid/sources</a>"
      ],
      "text/plain": [
       "<IPython.core.display.HTML object>"
      ]
     },
     "metadata": {},
     "output_type": "display_data"
    },
    {
     "data": {
      "text/html": [
       "<b style=\"color: rgb(98,98,98); text-decoration: underline;\">Example response:</b>"
      ],
      "text/plain": [
       "<IPython.core.display.HTML object>"
      ]
     },
     "metadata": {},
     "output_type": "display_data"
    },
    {
     "name": "stdout",
     "output_type": "stream",
     "text": [
      "{\u001b[38;5;124m'\u001b[39m\u001b[38;5;124mBIOGRID\u001b[39m\u001b[38;5;124m'\u001b[39m: \u001b[38;5;241m1\u001b[39m, \u001b[38;5;124m'\u001b[39m\u001b[38;5;124mFLYBASE\u001b[39m\u001b[38;5;124m'\u001b[39m: \u001b[38;5;241m4\u001b[39m, \u001b[38;5;124m'\u001b[39m\u001b[38;5;124mPOMBASE\u001b[39m\u001b[38;5;124m'\u001b[39m: \u001b[38;5;241m2\u001b[39m, \u001b[38;5;124m'\u001b[39m\u001b[38;5;124mWORMBASE\u001b[39m\u001b[38;5;124m'\u001b[39m: \u001b[38;5;241m3\u001b[39m}\n",
      "\n",
      "For further testing go to http://0.0.0.0:5000/ui/#/BioGRID/ebel.web.api.ebel.v1.biogrid.get_sources\n"
     ]
    },
    {
     "data": {
      "text/html": [
       "<h2>8. Distinct NCBI taxonomy IDs and organism names in BioGRID</h2>"
      ],
      "text/plain": [
       "<IPython.core.display.HTML object>"
      ]
     },
     "metadata": {},
     "output_type": "display_data"
    },
    {
     "data": {
      "text/html": [
       "<b style=\"color: rgb(98,98,98); text-decoration: underline;\">Description:</b> <p>Distinct NCBI taxonomy IDs and organism names in BioGRID</p>"
      ],
      "text/plain": [
       "<IPython.core.display.HTML object>"
      ]
     },
     "metadata": {},
     "output_type": "display_data"
    },
    {
     "data": {
      "text/html": [
       "<b>Tags:</b> ['BioGRID']"
      ],
      "text/plain": [
       "<IPython.core.display.HTML object>"
      ]
     },
     "metadata": {},
     "output_type": "display_data"
    },
    {
     "data": {
      "text/html": [
       "<b>Server path:</b> /api/v1/biogrid/taxonomies"
      ],
      "text/plain": [
       "<IPython.core.display.HTML object>"
      ]
     },
     "metadata": {},
     "output_type": "display_data"
    },
    {
     "name": "stdout",
     "output_type": "stream",
     "text": [
      "without paramters\n"
     ]
    },
    {
     "data": {
      "text/html": [
       "<b>Example URL:</b> <a href=\"http://0.0.0.0:5000/api/v1/biogrid/taxonomies\">http://0.0.0.0:5000/api/v1/biogrid/taxonomies</a>"
      ],
      "text/plain": [
       "<IPython.core.display.HTML object>"
      ]
     },
     "metadata": {},
     "output_type": "display_data"
    },
    {
     "data": {
      "text/html": [
       "<b style=\"color: rgb(98,98,98); text-decoration: underline;\">Example response:</b>"
      ],
      "text/plain": [
       "<IPython.core.display.HTML object>"
      ]
     },
     "metadata": {},
     "output_type": "display_data"
    },
    {
     "name": "stdout",
     "output_type": "stream",
     "text": [
      "{\u001b[38;5;124m'\u001b[39m\u001b[38;5;124mAnopheles gambiae (PEST)\u001b[39m\u001b[38;5;124m'\u001b[39m: \u001b[38;5;241m180454\u001b[39m,\n",
      " \u001b[38;5;124m'\u001b[39m\u001b[38;5;124mApis mellifera\u001b[39m\u001b[38;5;124m'\u001b[39m: \u001b[38;5;241m7460\u001b[39m,\n",
      " \u001b[38;5;124m'\u001b[39m\u001b[38;5;124mArabidopsis thaliana (Columbia)\u001b[39m\u001b[38;5;124m'\u001b[39m: \u001b[38;5;241m3702\u001b[39m,\n",
      " \u001b[38;5;124m'\u001b[39m\u001b[38;5;124mBacillus subtilis (168)\u001b[39m\u001b[38;5;124m'\u001b[39m: \u001b[38;5;241m224308\u001b[39m,\n",
      " \u001b[38;5;124m'\u001b[39m\u001b[38;5;124mBos taurus\u001b[39m\u001b[38;5;124m'\u001b[39m: \u001b[38;5;241m9913\u001b[39m,\n",
      " \u001b[38;5;124m'\u001b[39m\u001b[38;5;124mCaenorhabditis elegans\u001b[39m\u001b[38;5;124m'\u001b[39m: \u001b[38;5;241m6239\u001b[39m,\n",
      " \u001b[38;5;124m'\u001b[39m\u001b[38;5;124mCandida albicans (SC5314)\u001b[39m\u001b[38;5;124m'\u001b[39m: \u001b[38;5;241m237561\u001b[39m,\n",
      " \u001b[38;5;124m'\u001b[39m\u001b[38;5;124mCanis familiaris\u001b[39m\u001b[38;5;124m'\u001b[39m: \u001b[38;5;241m9615\u001b[39m,\n",
      " \u001b[38;5;124m'\u001b[39m\u001b[38;5;124mCavia porcellus\u001b[39m\u001b[38;5;124m'\u001b[39m: \u001b[38;5;241m10141\u001b[39m,\n",
      " \u001b[38;5;124m'\u001b[39m\u001b[38;5;124mChlamydomonas reinhardtii\u001b[39m\u001b[38;5;124m'\u001b[39m: \u001b[38;5;241m3055\u001b[39m,\n",
      " \u001b[38;5;124m'\u001b[39m\u001b[38;5;124mChlorocebus sabaeus\u001b[39m\u001b[38;5;124m'\u001b[39m: \u001b[38;5;241m60711\u001b[39m,\n",
      " \u001b[38;5;124m'\u001b[39m\u001b[38;5;124mCricetulus griseus\u001b[39m\u001b[38;5;124m'\u001b[39m: \u001b[38;5;241m10029\u001b[39m,\n",
      " \u001b[38;5;124m'\u001b[39m\u001b[38;5;124mDanio rerio\u001b[39m\u001b[38;5;124m'\u001b[39m: \u001b[38;5;241m7955\u001b[39m,\n",
      " \u001b[38;5;124m'\u001b[39m\u001b[38;5;124mDictyostelium discoideum (AX4)\u001b[39m\u001b[38;5;124m'\u001b[39m: \u001b[38;5;241m352472\u001b[39m,\n",
      " \u001b[38;5;124m'\u001b[39m\u001b[38;5;124mDrosophila melanogaster\u001b[39m\u001b[38;5;124m'\u001b[39m: \u001b[38;5;241m7227\u001b[39m,\n",
      " \u001b[38;5;124m'\u001b[39m\u001b[38;5;124mEmericella nidulans (FGSC A4)\u001b[39m\u001b[38;5;124m'\u001b[39m: \u001b[38;5;241m227321\u001b[39m,\n",
      " \u001b[38;5;124m'\u001b[39m\u001b[38;5;124mEquus caballus\u001b[39m\u001b[38;5;124m'\u001b[39m: \u001b[38;5;241m9796\u001b[39m,\n",
      " \u001b[38;5;124m'\u001b[39m\u001b[38;5;124mEscherichia coli (K12)\u001b[39m\u001b[38;5;124m'\u001b[39m: \u001b[38;5;241m83333\u001b[39m,\n",
      " \u001b[38;5;124m'\u001b[39m\u001b[38;5;124mEscherichia coli (K12/MC4100/BW2952)\u001b[39m\u001b[38;5;124m'\u001b[39m: \u001b[38;5;241m595496\u001b[39m,\n",
      " \u001b[38;5;124m'\u001b[39m\u001b[38;5;124mEscherichia coli (K12/MG1655)\u001b[39m\u001b[38;5;124m'\u001b[39m: \u001b[38;5;241m511145\u001b[39m,\n",
      " \u001b[38;5;124m'\u001b[39m\u001b[38;5;124mEscherichia coli (K12/W3110)\u001b[39m\u001b[38;5;124m'\u001b[39m: \u001b[38;5;241m316407\u001b[39m,\n",
      " \u001b[38;5;124m'\u001b[39m\u001b[38;5;124mFelis Catus\u001b[39m\u001b[38;5;124m'\u001b[39m: \u001b[38;5;241m9685\u001b[39m,\n",
      " \u001b[38;5;124m'\u001b[39m\u001b[38;5;124mGallus gallus\u001b[39m\u001b[38;5;124m'\u001b[39m: \u001b[38;5;241m9031\u001b[39m,\n",
      " \u001b[38;5;124m'\u001b[39m\u001b[38;5;124mGlycine max\u001b[39m\u001b[38;5;124m'\u001b[39m: \u001b[38;5;241m3847\u001b[39m,\n",
      " \u001b[38;5;124m'\u001b[39m\u001b[38;5;124mHepatitus C Virus\u001b[39m\u001b[38;5;124m'\u001b[39m: \u001b[38;5;241m11103\u001b[39m,\n",
      " \u001b[38;5;124m'\u001b[39m\u001b[38;5;124mHomo sapiens\u001b[39m\u001b[38;5;124m'\u001b[39m: \u001b[38;5;241m9606\u001b[39m,\n",
      " \u001b[38;5;124m'\u001b[39m\u001b[38;5;124mHuman Herpesvirus 1\u001b[39m\u001b[38;5;124m'\u001b[39m: \u001b[38;5;241m10298\u001b[39m,\n",
      " \u001b[38;5;124m'\u001b[39m\u001b[38;5;124mHuman Herpesvirus 2\u001b[39m\u001b[38;5;124m'\u001b[39m: \u001b[38;5;241m10310\u001b[39m,\n",
      " \u001b[38;5;124m'\u001b[39m\u001b[38;5;124mHuman Herpesvirus 3\u001b[39m\u001b[38;5;124m'\u001b[39m: \u001b[38;5;241m10335\u001b[39m,\n",
      " \u001b[38;5;124m'\u001b[39m\u001b[38;5;124mHuman Herpesvirus 4\u001b[39m\u001b[38;5;124m'\u001b[39m: \u001b[38;5;241m10376\u001b[39m,\n",
      " \u001b[38;5;124m'\u001b[39m\u001b[38;5;124mHuman Herpesvirus 5\u001b[39m\u001b[38;5;124m'\u001b[39m: \u001b[38;5;241m10359\u001b[39m,\n",
      " \u001b[38;5;124m'\u001b[39m\u001b[38;5;124mHuman Herpesvirus 6A\u001b[39m\u001b[38;5;124m'\u001b[39m: \u001b[38;5;241m32603\u001b[39m,\n",
      " \u001b[38;5;124m'\u001b[39m\u001b[38;5;124mHuman Herpesvirus 6B\u001b[39m\u001b[38;5;124m'\u001b[39m: \u001b[38;5;241m32604\u001b[39m,\n",
      " \u001b[38;5;124m'\u001b[39m\u001b[38;5;124mHuman Herpesvirus 7\u001b[39m\u001b[38;5;124m'\u001b[39m: \u001b[38;5;241m10372\u001b[39m,\n",
      " \u001b[38;5;124m'\u001b[39m\u001b[38;5;124mHuman Herpesvirus 8\u001b[39m\u001b[38;5;124m'\u001b[39m: \u001b[38;5;241m37296\u001b[39m,\n",
      " \u001b[38;5;124m'\u001b[39m\u001b[38;5;124mHuman Immunodeficiency Virus 1\u001b[39m\u001b[38;5;124m'\u001b[39m: \u001b[38;5;241m11676\u001b[39m,\n",
      " \u001b[38;5;124m'\u001b[39m\u001b[38;5;124mHuman Immunodeficiency Virus 2\u001b[39m\u001b[38;5;124m'\u001b[39m: \u001b[38;5;241m11709\u001b[39m,\n",
      " \u001b[38;5;124m'\u001b[39m\u001b[38;5;124mHuman papillomavirus (10)\u001b[39m\u001b[38;5;124m'\u001b[39m: \u001b[38;5;241m333759\u001b[39m,\n",
      " \u001b[38;5;124m'\u001b[39m\u001b[38;5;124mHuman papillomavirus (16)\u001b[39m\u001b[38;5;124m'\u001b[39m: \u001b[38;5;241m333760\u001b[39m,\n",
      " \u001b[38;5;124m'\u001b[39m\u001b[38;5;124mHuman papillomavirus (32)\u001b[39m\u001b[38;5;124m'\u001b[39m: \u001b[38;5;241m333763\u001b[39m,\n",
      " \u001b[38;5;124m'\u001b[39m\u001b[38;5;124mHuman papillomavirus (5)\u001b[39m\u001b[38;5;124m'\u001b[39m: \u001b[38;5;241m333923\u001b[39m,\n",
      " \u001b[38;5;124m'\u001b[39m\u001b[38;5;124mHuman papillomavirus (6b)\u001b[39m\u001b[38;5;124m'\u001b[39m: \u001b[38;5;241m10600\u001b[39m,\n",
      " \u001b[38;5;124m'\u001b[39m\u001b[38;5;124mHuman papillomavirus (7)\u001b[39m\u001b[38;5;124m'\u001b[39m: \u001b[38;5;241m10620\u001b[39m,\n",
      " \u001b[38;5;124m'\u001b[39m\u001b[38;5;124mHuman papillomavirus (9)\u001b[39m\u001b[38;5;124m'\u001b[39m: \u001b[38;5;241m10621\u001b[39m,\n",
      " \u001b[38;5;124m'\u001b[39m\u001b[38;5;124mLeishmania major (Friedlin)\u001b[39m\u001b[38;5;124m'\u001b[39m: \u001b[38;5;241m347515\u001b[39m,\n",
      " \u001b[38;5;124m'\u001b[39m\u001b[38;5;124mMacaca mulatta\u001b[39m\u001b[38;5;124m'\u001b[39m: \u001b[38;5;241m9544\u001b[39m,\n",
      " \u001b[38;5;124m'\u001b[39m\u001b[38;5;124mMeleagris gallopavo\u001b[39m\u001b[38;5;124m'\u001b[39m: \u001b[38;5;241m9103\u001b[39m,\n",
      " \u001b[38;5;124m'\u001b[39m\u001b[38;5;124mMiddle-East Respiratory Syndrome-related Coronavirus\u001b[39m\u001b[38;5;124m'\u001b[39m: \u001b[38;5;241m1335626\u001b[39m,\n",
      " \u001b[38;5;124m'\u001b[39m\u001b[38;5;124mMonodelphis domestica\u001b[39m\u001b[38;5;124m'\u001b[39m: \u001b[38;5;241m13616\u001b[39m,\n",
      " \u001b[38;5;124m'\u001b[39m\u001b[38;5;124mMus musculus\u001b[39m\u001b[38;5;124m'\u001b[39m: \u001b[38;5;241m10090\u001b[39m,\n",
      " \u001b[38;5;124m'\u001b[39m\u001b[38;5;124mMycobacterium tuberculosis (H37Rv)\u001b[39m\u001b[38;5;124m'\u001b[39m: \u001b[38;5;241m83332\u001b[39m,\n",
      " \u001b[38;5;124m'\u001b[39m\u001b[38;5;124mNeurospora crassa (OR74A)\u001b[39m\u001b[38;5;124m'\u001b[39m: \u001b[38;5;241m367110\u001b[39m,\n",
      " \u001b[38;5;124m'\u001b[39m\u001b[38;5;124mNicotiana tomentosiformis\u001b[39m\u001b[38;5;124m'\u001b[39m: \u001b[38;5;241m4098\u001b[39m,\n",
      " \u001b[38;5;124m'\u001b[39m\u001b[38;5;124mOryctolagus cuniculus\u001b[39m\u001b[38;5;124m'\u001b[39m: \u001b[38;5;241m9986\u001b[39m,\n",
      " \u001b[38;5;124m'\u001b[39m\u001b[38;5;124mOryza sativa (Japonica)\u001b[39m\u001b[38;5;124m'\u001b[39m: \u001b[38;5;241m39947\u001b[39m,\n",
      " \u001b[38;5;124m'\u001b[39m\u001b[38;5;124mOvis aries\u001b[39m\u001b[38;5;124m'\u001b[39m: \u001b[38;5;241m9940\u001b[39m,\n",
      " \u001b[38;5;124m'\u001b[39m\u001b[38;5;124mPan troglodytes\u001b[39m\u001b[38;5;124m'\u001b[39m: \u001b[38;5;241m9598\u001b[39m,\n",
      " \u001b[38;5;124m'\u001b[39m\u001b[38;5;124mPediculus humanus\u001b[39m\u001b[38;5;124m'\u001b[39m: \u001b[38;5;241m121224\u001b[39m,\n",
      " \u001b[38;5;124m'\u001b[39m\u001b[38;5;124mPlasmodium falciparum (3D7)\u001b[39m\u001b[38;5;124m'\u001b[39m: \u001b[38;5;241m36329\u001b[39m,\n",
      " \u001b[38;5;124m'\u001b[39m\u001b[38;5;124mRattus norvegicus\u001b[39m\u001b[38;5;124m'\u001b[39m: \u001b[38;5;241m10116\u001b[39m,\n",
      " \u001b[38;5;124m'\u001b[39m\u001b[38;5;124mRicinus communis\u001b[39m\u001b[38;5;124m'\u001b[39m: \u001b[38;5;241m3988\u001b[39m,\n",
      " \u001b[38;5;124m'\u001b[39m\u001b[38;5;124mSaccharomyces cerevisiae (S288c)\u001b[39m\u001b[38;5;124m'\u001b[39m: \u001b[38;5;241m559292\u001b[39m,\n",
      " \u001b[38;5;124m'\u001b[39m\u001b[38;5;124mSchizosaccharomyces pombe (972h)\u001b[39m\u001b[38;5;124m'\u001b[39m: \u001b[38;5;241m284812\u001b[39m,\n",
      " \u001b[38;5;124m'\u001b[39m\u001b[38;5;124mSelaginella moellendorffii\u001b[39m\u001b[38;5;124m'\u001b[39m: \u001b[38;5;241m88036\u001b[39m,\n",
      " \u001b[38;5;124m'\u001b[39m\u001b[38;5;124mSevere acute respiratory syndrome coronavirus 2\u001b[39m\u001b[38;5;124m'\u001b[39m: \u001b[38;5;241m2697049\u001b[39m,\n",
      " \u001b[38;5;124m'\u001b[39m\u001b[38;5;124mSevere acute respiratory syndrome-related coronavirus\u001b[39m\u001b[38;5;124m'\u001b[39m: \u001b[38;5;241m694009\u001b[39m,\n",
      " \u001b[38;5;124m'\u001b[39m\u001b[38;5;124mSimian Immunodeficiency Virus\u001b[39m\u001b[38;5;124m'\u001b[39m: \u001b[38;5;241m11723\u001b[39m,\n",
      " \u001b[38;5;124m'\u001b[39m\u001b[38;5;124mSimian Virus 40\u001b[39m\u001b[38;5;124m'\u001b[39m: \u001b[38;5;241m10633\u001b[39m,\n",
      " \u001b[38;5;124m'\u001b[39m\u001b[38;5;124mSolanum lycopersicum\u001b[39m\u001b[38;5;124m'\u001b[39m: \u001b[38;5;241m4081\u001b[39m,\n",
      " \u001b[38;5;124m'\u001b[39m\u001b[38;5;124mSolanum tuberosum\u001b[39m\u001b[38;5;124m'\u001b[39m: \u001b[38;5;241m4113\u001b[39m,\n",
      " \u001b[38;5;124m'\u001b[39m\u001b[38;5;124mSorghum bicolor\u001b[39m\u001b[38;5;124m'\u001b[39m: \u001b[38;5;241m4558\u001b[39m,\n",
      " \u001b[38;5;124m'\u001b[39m\u001b[38;5;124mStreptococcus pneumoniae (ATCCBAA255)\u001b[39m\u001b[38;5;124m'\u001b[39m: \u001b[38;5;241m171101\u001b[39m,\n",
      " \u001b[38;5;124m'\u001b[39m\u001b[38;5;124mStrongylocentrotus purpuratus\u001b[39m\u001b[38;5;124m'\u001b[39m: \u001b[38;5;241m7668\u001b[39m,\n",
      " \u001b[38;5;124m'\u001b[39m\u001b[38;5;124mSus scrofa\u001b[39m\u001b[38;5;124m'\u001b[39m: \u001b[38;5;241m9823\u001b[39m,\n",
      " \u001b[38;5;124m'\u001b[39m\u001b[38;5;124mTobacco Mosaic Virus\u001b[39m\u001b[38;5;124m'\u001b[39m: \u001b[38;5;241m12242\u001b[39m,\n",
      " \u001b[38;5;124m'\u001b[39m\u001b[38;5;124mUstilago maydis (521)\u001b[39m\u001b[38;5;124m'\u001b[39m: \u001b[38;5;241m237631\u001b[39m,\n",
      " \u001b[38;5;124m'\u001b[39m\u001b[38;5;124mVaccinia Virus\u001b[39m\u001b[38;5;124m'\u001b[39m: \u001b[38;5;241m10245\u001b[39m,\n",
      " \u001b[38;5;124m'\u001b[39m\u001b[38;5;124mVitis vinifera\u001b[39m\u001b[38;5;124m'\u001b[39m: \u001b[38;5;241m29760\u001b[39m,\n",
      " \u001b[38;5;124m'\u001b[39m\u001b[38;5;124mXenopus laevis\u001b[39m\u001b[38;5;124m'\u001b[39m: \u001b[38;5;241m8355\u001b[39m,\n",
      " \u001b[38;5;124m'\u001b[39m\u001b[38;5;124mZea mays\u001b[39m\u001b[38;5;124m'\u001b[39m: \u001b[38;5;241m4577\u001b[39m}\n",
      "\n",
      "For further testing go to http://0.0.0.0:5000/ui/#/BioGRID/ebel.web.api.ebel.v1.biogrid.get_taxonomies\n"
     ]
    },
    {
     "data": {
      "text/html": [
       "<h2>9. Get e(BE:L) has_ppi_bg by subject (and object) gene symbol and taxonomy ID</h2>"
      ],
      "text/plain": [
       "<IPython.core.display.HTML object>"
      ]
     },
     "metadata": {},
     "output_type": "display_data"
    },
    {
     "data": {
      "text/html": [
       "<b style=\"color: rgb(98,98,98); text-decoration: underline;\">Description:</b> <p>Get e(BE:L) has_ppi_bg by subject (and object) gene symbol and taxonomy ID</p>"
      ],
      "text/plain": [
       "<IPython.core.display.HTML object>"
      ]
     },
     "metadata": {},
     "output_type": "display_data"
    },
    {
     "data": {
      "text/html": [
       "<b>Tags:</b> ['BioGRID', 'e(BE:L)']"
      ],
      "text/plain": [
       "<IPython.core.display.HTML object>"
      ]
     },
     "metadata": {},
     "output_type": "display_data"
    },
    {
     "data": {
      "text/html": [
       "<b>Server path:</b> /api/v1/ebel/biogrid/modification/by_symbol_taxid"
      ],
      "text/plain": [
       "<IPython.core.display.HTML object>"
      ]
     },
     "metadata": {},
     "output_type": "display_data"
    },
    {
     "data": {
      "text/html": [
       "<div>\n",
       "<style scoped>\n",
       "    .dataframe tbody tr th:only-of-type {\n",
       "        vertical-align: middle;\n",
       "    }\n",
       "\n",
       "    .dataframe tbody tr th {\n",
       "        vertical-align: top;\n",
       "    }\n",
       "\n",
       "    .dataframe thead th {\n",
       "        text-align: right;\n",
       "    }\n",
       "</style>\n",
       "<table border=\"1\" class=\"dataframe\">\n",
       "  <thead>\n",
       "    <tr style=\"text-align: right;\">\n",
       "      <th></th>\n",
       "      <th>data type</th>\n",
       "      <th>description</th>\n",
       "      <th>example</th>\n",
       "      <th>options</th>\n",
       "      <th>default</th>\n",
       "      <th>required</th>\n",
       "    </tr>\n",
       "    <tr>\n",
       "      <th>parameter name</th>\n",
       "      <th></th>\n",
       "      <th></th>\n",
       "      <th></th>\n",
       "      <th></th>\n",
       "      <th></th>\n",
       "      <th></th>\n",
       "    </tr>\n",
       "  </thead>\n",
       "  <tbody>\n",
       "    <tr>\n",
       "      <th>symbol</th>\n",
       "      <td>string</td>\n",
       "      <td>Gene symbol</td>\n",
       "      <td>MAPT</td>\n",
       "      <td></td>\n",
       "      <td></td>\n",
       "      <td>True</td>\n",
       "    </tr>\n",
       "    <tr>\n",
       "      <th>taxonomy_id</th>\n",
       "      <td>integer</td>\n",
       "      <td>NCBI taxonomy ID</td>\n",
       "      <td>9606</td>\n",
       "      <td></td>\n",
       "      <td>9606.0</td>\n",
       "      <td>False</td>\n",
       "    </tr>\n",
       "    <tr>\n",
       "      <th>modification</th>\n",
       "      <td>string</td>\n",
       "      <td>Posttranslational modification of interactor B...</td>\n",
       "      <td></td>\n",
       "      <td>[Phosphorylation, Ubiquitination, Acetylation,...</td>\n",
       "      <td></td>\n",
       "      <td>False</td>\n",
       "    </tr>\n",
       "  </tbody>\n",
       "</table>\n",
       "</div>"
      ],
      "text/plain": [
       "               data type                                        description  \\\n",
       "parameter name                                                                \n",
       "symbol            string                                        Gene symbol   \n",
       "taxonomy_id      integer                                   NCBI taxonomy ID   \n",
       "modification      string  Posttranslational modification of interactor B...   \n",
       "\n",
       "               example                                            options  \\\n",
       "parameter name                                                              \n",
       "symbol            MAPT                                                      \n",
       "taxonomy_id       9606                                                      \n",
       "modification            [Phosphorylation, Ubiquitination, Acetylation,...   \n",
       "\n",
       "               default  required  \n",
       "parameter name                    \n",
       "symbol                      True  \n",
       "taxonomy_id     9606.0     False  \n",
       "modification               False  "
      ]
     },
     "metadata": {},
     "output_type": "display_data"
    },
    {
     "data": {
      "text/html": [
       "<b>Example URL:</b> <a href=\"http://0.0.0.0:5000/api/v1/ebel/biogrid/modification/by_symbol_taxid?symbol=MAPT&taxonomy_id=9606\">http://0.0.0.0:5000/api/v1/ebel/biogrid/modification/by_symbol_taxid?symbol=MAPT&taxonomy_id=9606</a>"
      ],
      "text/plain": [
       "<IPython.core.display.HTML object>"
      ]
     },
     "metadata": {},
     "output_type": "display_data"
    },
    {
     "name": "stdout",
     "output_type": "stream",
     "text": [
      "\n",
      "The result is a list and have 91 entries. Here we show only the first entry.\n",
      "\n"
     ]
    },
    {
     "data": {
      "text/html": [
       "<b style=\"color: rgb(98,98,98); text-decoration: underline;\">Example response:</b>"
      ],
      "text/plain": [
       "<IPython.core.display.HTML object>"
      ]
     },
     "metadata": {},
     "output_type": "display_data"
    },
    {
     "name": "stdout",
     "output_type": "stream",
     "text": [
      "{\u001b[38;5;124m'\u001b[39m\u001b[38;5;124mbiogrid_ids\u001b[39m\u001b[38;5;124m'\u001b[39m: [\u001b[38;5;241m2623253\u001b[39m],\n",
      " \u001b[38;5;124m'\u001b[39m\u001b[38;5;124mmodification\u001b[39m\u001b[38;5;124m'\u001b[39m: \u001b[38;5;124m'\u001b[39m\u001b[38;5;124mProteolytic Processing\u001b[39m\u001b[38;5;124m'\u001b[39m,\n",
      " \u001b[38;5;124m'\u001b[39m\u001b[38;5;124mobject_label\u001b[39m\u001b[38;5;124m'\u001b[39m: \u001b[38;5;124m'\u001b[39m\u001b[38;5;124mcaspase 8\u001b[39m\u001b[38;5;124m'\u001b[39m,\n",
      " \u001b[38;5;124m'\u001b[39m\u001b[38;5;124mobject_name\u001b[39m\u001b[38;5;124m'\u001b[39m: \u001b[38;5;124m'\u001b[39m\u001b[38;5;124mCASP8\u001b[39m\u001b[38;5;124m'\u001b[39m,\n",
      " \u001b[38;5;124m'\u001b[39m\u001b[38;5;124mobject_namespace\u001b[39m\u001b[38;5;124m'\u001b[39m: \u001b[38;5;124m'\u001b[39m\u001b[38;5;124mHGNC\u001b[39m\u001b[38;5;124m'\u001b[39m,\n",
      " \u001b[38;5;124m'\u001b[39m\u001b[38;5;124mobject_rid\u001b[39m\u001b[38;5;124m'\u001b[39m: \u001b[38;5;124m'\u001b[39m\u001b[38;5;124m#188:41\u001b[39m\u001b[38;5;124m'\u001b[39m,\n",
      " \u001b[38;5;124m'\u001b[39m\u001b[38;5;124mobject_taxonomy_id\u001b[39m\u001b[38;5;124m'\u001b[39m: \u001b[38;5;241m9606\u001b[39m,\n",
      " \u001b[38;5;124m'\u001b[39m\u001b[38;5;124mobject_uniprot\u001b[39m\u001b[38;5;124m'\u001b[39m: \u001b[38;5;124m'\u001b[39m\u001b[38;5;124mQ14790\u001b[39m\u001b[38;5;124m'\u001b[39m,\n",
      " \u001b[38;5;124m'\u001b[39m\u001b[38;5;124mpmids\u001b[39m\u001b[38;5;124m'\u001b[39m: [\u001b[38;5;241m12888622\u001b[39m],\n",
      " \u001b[38;5;124m'\u001b[39m\u001b[38;5;124mrid\u001b[39m\u001b[38;5;124m'\u001b[39m: \u001b[38;5;124m'\u001b[39m\u001b[38;5;124m#1818:5\u001b[39m\u001b[38;5;124m'\u001b[39m,\n",
      " \u001b[38;5;124m'\u001b[39m\u001b[38;5;124msubject_label\u001b[39m\u001b[38;5;124m'\u001b[39m: \u001b[38;5;124m'\u001b[39m\u001b[38;5;124mmicrotubule associated protein tau\u001b[39m\u001b[38;5;124m'\u001b[39m,\n",
      " \u001b[38;5;124m'\u001b[39m\u001b[38;5;124msubject_name\u001b[39m\u001b[38;5;124m'\u001b[39m: \u001b[38;5;124m'\u001b[39m\u001b[38;5;124mMAPT\u001b[39m\u001b[38;5;124m'\u001b[39m,\n",
      " \u001b[38;5;124m'\u001b[39m\u001b[38;5;124msubject_namespace\u001b[39m\u001b[38;5;124m'\u001b[39m: \u001b[38;5;124m'\u001b[39m\u001b[38;5;124mHGNC\u001b[39m\u001b[38;5;124m'\u001b[39m,\n",
      " \u001b[38;5;124m'\u001b[39m\u001b[38;5;124msubject_rid\u001b[39m\u001b[38;5;124m'\u001b[39m: \u001b[38;5;124m'\u001b[39m\u001b[38;5;124m#190:5\u001b[39m\u001b[38;5;124m'\u001b[39m,\n",
      " \u001b[38;5;124m'\u001b[39m\u001b[38;5;124msubject_taxonomy_id\u001b[39m\u001b[38;5;124m'\u001b[39m: \u001b[38;5;241m9606\u001b[39m,\n",
      " \u001b[38;5;124m'\u001b[39m\u001b[38;5;124msubject_uniprot\u001b[39m\u001b[38;5;124m'\u001b[39m: \u001b[38;5;124m'\u001b[39m\u001b[38;5;124mP10636\u001b[39m\u001b[38;5;124m'\u001b[39m}\n",
      "\n",
      "For further testing go to http://0.0.0.0:5000/ui/#/BioGRID/ebel.web.api.ebel.v1.biogrid.get_has_ppi_bg_by_symbol_taxid\n"
     ]
    },
    {
     "data": {
      "text/html": [
       "<h2>10. Get e(BE:L) has_ppi_bg by subject (and object) UniProt ID</h2>"
      ],
      "text/plain": [
       "<IPython.core.display.HTML object>"
      ]
     },
     "metadata": {},
     "output_type": "display_data"
    },
    {
     "data": {
      "text/html": [
       "<b style=\"color: rgb(98,98,98); text-decoration: underline;\">Description:</b> <p>Following parameters can be used:\n",
       "  * uniprot_a(string)\n",
       "  * uniprot_b (string)\n",
       "  * page_size (int)\n",
       "  * page (int)</p>"
      ],
      "text/plain": [
       "<IPython.core.display.HTML object>"
      ]
     },
     "metadata": {},
     "output_type": "display_data"
    },
    {
     "data": {
      "text/html": [
       "<b>Tags:</b> ['BioGRID', 'e(BE:L)']"
      ],
      "text/plain": [
       "<IPython.core.display.HTML object>"
      ]
     },
     "metadata": {},
     "output_type": "display_data"
    },
    {
     "data": {
      "text/html": [
       "<b>Server path:</b> /api/v1/ebel/biogrid/modification/by_uniprot"
      ],
      "text/plain": [
       "<IPython.core.display.HTML object>"
      ]
     },
     "metadata": {},
     "output_type": "display_data"
    },
    {
     "data": {
      "text/html": [
       "<div>\n",
       "<style scoped>\n",
       "    .dataframe tbody tr th:only-of-type {\n",
       "        vertical-align: middle;\n",
       "    }\n",
       "\n",
       "    .dataframe tbody tr th {\n",
       "        vertical-align: top;\n",
       "    }\n",
       "\n",
       "    .dataframe thead th {\n",
       "        text-align: right;\n",
       "    }\n",
       "</style>\n",
       "<table border=\"1\" class=\"dataframe\">\n",
       "  <thead>\n",
       "    <tr style=\"text-align: right;\">\n",
       "      <th></th>\n",
       "      <th>data type</th>\n",
       "      <th>description</th>\n",
       "      <th>example</th>\n",
       "      <th>options</th>\n",
       "      <th>default</th>\n",
       "      <th>required</th>\n",
       "    </tr>\n",
       "    <tr>\n",
       "      <th>parameter name</th>\n",
       "      <th></th>\n",
       "      <th></th>\n",
       "      <th></th>\n",
       "      <th></th>\n",
       "      <th></th>\n",
       "      <th></th>\n",
       "    </tr>\n",
       "  </thead>\n",
       "  <tbody>\n",
       "    <tr>\n",
       "      <th>uniprot</th>\n",
       "      <td>string</td>\n",
       "      <td>UniProt accession number</td>\n",
       "      <td>P10636</td>\n",
       "      <td></td>\n",
       "      <td></td>\n",
       "      <td>True</td>\n",
       "    </tr>\n",
       "    <tr>\n",
       "      <th>modification</th>\n",
       "      <td>string</td>\n",
       "      <td>Posttranslational modification of interactor B...</td>\n",
       "      <td></td>\n",
       "      <td>[Phosphorylation, Ubiquitination, Acetylation,...</td>\n",
       "      <td></td>\n",
       "      <td>False</td>\n",
       "    </tr>\n",
       "  </tbody>\n",
       "</table>\n",
       "</div>"
      ],
      "text/plain": [
       "               data type                                        description  \\\n",
       "parameter name                                                                \n",
       "uniprot           string                           UniProt accession number   \n",
       "modification      string  Posttranslational modification of interactor B...   \n",
       "\n",
       "               example                                            options  \\\n",
       "parameter name                                                              \n",
       "uniprot         P10636                                                      \n",
       "modification            [Phosphorylation, Ubiquitination, Acetylation,...   \n",
       "\n",
       "               default  required  \n",
       "parameter name                    \n",
       "uniprot                     True  \n",
       "modification               False  "
      ]
     },
     "metadata": {},
     "output_type": "display_data"
    },
    {
     "data": {
      "text/html": [
       "<b>Example URL:</b> <a href=\"http://0.0.0.0:5000/api/v1/ebel/biogrid/modification/by_uniprot?uniprot=P10636\">http://0.0.0.0:5000/api/v1/ebel/biogrid/modification/by_uniprot?uniprot=P10636</a>"
      ],
      "text/plain": [
       "<IPython.core.display.HTML object>"
      ]
     },
     "metadata": {},
     "output_type": "display_data"
    },
    {
     "name": "stdout",
     "output_type": "stream",
     "text": [
      "\n",
      "The result is a list and have 91 entries. Here we show only the first entry.\n",
      "\n"
     ]
    },
    {
     "data": {
      "text/html": [
       "<b style=\"color: rgb(98,98,98); text-decoration: underline;\">Example response:</b>"
      ],
      "text/plain": [
       "<IPython.core.display.HTML object>"
      ]
     },
     "metadata": {},
     "output_type": "display_data"
    },
    {
     "name": "stdout",
     "output_type": "stream",
     "text": [
      "{\u001b[38;5;124m'\u001b[39m\u001b[38;5;124mbiogrid_ids\u001b[39m\u001b[38;5;124m'\u001b[39m: [\u001b[38;5;241m2623253\u001b[39m],\n",
      " \u001b[38;5;124m'\u001b[39m\u001b[38;5;124mmodification\u001b[39m\u001b[38;5;124m'\u001b[39m: \u001b[38;5;124m'\u001b[39m\u001b[38;5;124mProteolytic Processing\u001b[39m\u001b[38;5;124m'\u001b[39m,\n",
      " \u001b[38;5;124m'\u001b[39m\u001b[38;5;124mobject_label\u001b[39m\u001b[38;5;124m'\u001b[39m: \u001b[38;5;124m'\u001b[39m\u001b[38;5;124mcaspase 8\u001b[39m\u001b[38;5;124m'\u001b[39m,\n",
      " \u001b[38;5;124m'\u001b[39m\u001b[38;5;124mobject_name\u001b[39m\u001b[38;5;124m'\u001b[39m: \u001b[38;5;124m'\u001b[39m\u001b[38;5;124mCASP8\u001b[39m\u001b[38;5;124m'\u001b[39m,\n",
      " \u001b[38;5;124m'\u001b[39m\u001b[38;5;124mobject_namespace\u001b[39m\u001b[38;5;124m'\u001b[39m: \u001b[38;5;124m'\u001b[39m\u001b[38;5;124mHGNC\u001b[39m\u001b[38;5;124m'\u001b[39m,\n",
      " \u001b[38;5;124m'\u001b[39m\u001b[38;5;124mobject_rid\u001b[39m\u001b[38;5;124m'\u001b[39m: \u001b[38;5;124m'\u001b[39m\u001b[38;5;124m#188:41\u001b[39m\u001b[38;5;124m'\u001b[39m,\n",
      " \u001b[38;5;124m'\u001b[39m\u001b[38;5;124mobject_taxonomy_id\u001b[39m\u001b[38;5;124m'\u001b[39m: \u001b[38;5;241m9606\u001b[39m,\n",
      " \u001b[38;5;124m'\u001b[39m\u001b[38;5;124mobject_uniprot\u001b[39m\u001b[38;5;124m'\u001b[39m: \u001b[38;5;124m'\u001b[39m\u001b[38;5;124mQ14790\u001b[39m\u001b[38;5;124m'\u001b[39m,\n",
      " \u001b[38;5;124m'\u001b[39m\u001b[38;5;124mpmids\u001b[39m\u001b[38;5;124m'\u001b[39m: [\u001b[38;5;241m12888622\u001b[39m],\n",
      " \u001b[38;5;124m'\u001b[39m\u001b[38;5;124mrid\u001b[39m\u001b[38;5;124m'\u001b[39m: \u001b[38;5;124m'\u001b[39m\u001b[38;5;124m#1818:5\u001b[39m\u001b[38;5;124m'\u001b[39m,\n",
      " \u001b[38;5;124m'\u001b[39m\u001b[38;5;124msubject_label\u001b[39m\u001b[38;5;124m'\u001b[39m: \u001b[38;5;124m'\u001b[39m\u001b[38;5;124mmicrotubule associated protein tau\u001b[39m\u001b[38;5;124m'\u001b[39m,\n",
      " \u001b[38;5;124m'\u001b[39m\u001b[38;5;124msubject_name\u001b[39m\u001b[38;5;124m'\u001b[39m: \u001b[38;5;124m'\u001b[39m\u001b[38;5;124mMAPT\u001b[39m\u001b[38;5;124m'\u001b[39m,\n",
      " \u001b[38;5;124m'\u001b[39m\u001b[38;5;124msubject_namespace\u001b[39m\u001b[38;5;124m'\u001b[39m: \u001b[38;5;124m'\u001b[39m\u001b[38;5;124mHGNC\u001b[39m\u001b[38;5;124m'\u001b[39m,\n",
      " \u001b[38;5;124m'\u001b[39m\u001b[38;5;124msubject_rid\u001b[39m\u001b[38;5;124m'\u001b[39m: \u001b[38;5;124m'\u001b[39m\u001b[38;5;124m#190:5\u001b[39m\u001b[38;5;124m'\u001b[39m,\n",
      " \u001b[38;5;124m'\u001b[39m\u001b[38;5;124msubject_taxonomy_id\u001b[39m\u001b[38;5;124m'\u001b[39m: \u001b[38;5;241m9606\u001b[39m,\n",
      " \u001b[38;5;124m'\u001b[39m\u001b[38;5;124msubject_uniprot\u001b[39m\u001b[38;5;124m'\u001b[39m: \u001b[38;5;124m'\u001b[39m\u001b[38;5;124mP10636\u001b[39m\u001b[38;5;124m'\u001b[39m}\n",
      "\n",
      "For further testing go to http://0.0.0.0:5000/ui/#/BioGRID/ebel.web.api.ebel.v1.biogrid.get_has_ppi_bg_by_uniprot\n"
     ]
    }
   ],
   "source": [
    "import api_doc\n",
    "api_doc.get_api_methods_by_tag('BioGRID')"
   ]
  }
 ],
 "metadata": {
  "kernelspec": {
   "display_name": "Python 3 (ipykernel)",
   "language": "python",
   "name": "python3"
  },
  "language_info": {
   "codemirror_mode": {
    "name": "ipython",
    "version": 3
   },
   "file_extension": ".py",
   "mimetype": "text/x-python",
   "name": "python",
   "nbconvert_exporter": "python",
   "pygments_lexer": "ipython3",
   "version": "3.8.10"
  },
  "toc": {
   "base_numbering": 1,
   "nav_menu": {},
   "number_sections": true,
   "sideBar": true,
   "skip_h1_title": true,
   "title_cell": "Table of Contents",
   "title_sidebar": "Contents",
   "toc_cell": false,
   "toc_position": {},
   "toc_section_display": true,
   "toc_window_display": false
  }
 },
 "nbformat": 4,
 "nbformat_minor": 5
}
