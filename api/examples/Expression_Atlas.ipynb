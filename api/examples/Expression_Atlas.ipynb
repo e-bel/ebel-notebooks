{
 "cells": [
  {
   "cell_type": "markdown",
   "id": "bf137ffa",
   "metadata": {},
   "source": [
    "# Expression Atlas API methods"
   ]
  },
  {
   "cell_type": "code",
   "execution_count": 1,
   "id": "47e282e4",
   "metadata": {
    "scrolled": false
   },
   "outputs": [
    {
     "data": {
      "text/html": [
       "<h2>1. Expression Atlas experiment</h2>"
      ],
      "text/plain": [
       "<IPython.core.display.HTML object>"
      ]
     },
     "metadata": {},
     "output_type": "display_data"
    },
    {
     "data": {
      "text/html": [
       "<b style=\"color: rgb(98,98,98); text-decoration: underline;\">Description:</b> <p>Expression Atlas experiment</p>"
      ],
      "text/plain": [
       "<IPython.core.display.HTML object>"
      ]
     },
     "metadata": {},
     "output_type": "display_data"
    },
    {
     "data": {
      "text/html": [
       "<b>Tags:</b> ['Expression Atlas']"
      ],
      "text/plain": [
       "<IPython.core.display.HTML object>"
      ]
     },
     "metadata": {},
     "output_type": "display_data"
    },
    {
     "data": {
      "text/html": [
       "<b>Server path:</b> /api/v1/expression_atlas/experiment"
      ],
      "text/plain": [
       "<IPython.core.display.HTML object>"
      ]
     },
     "metadata": {},
     "output_type": "display_data"
    },
    {
     "data": {
      "text/html": [
       "<div>\n",
       "<style scoped>\n",
       "    .dataframe tbody tr th:only-of-type {\n",
       "        vertical-align: middle;\n",
       "    }\n",
       "\n",
       "    .dataframe tbody tr th {\n",
       "        vertical-align: top;\n",
       "    }\n",
       "\n",
       "    .dataframe thead th {\n",
       "        text-align: right;\n",
       "    }\n",
       "</style>\n",
       "<table border=\"1\" class=\"dataframe\">\n",
       "  <thead>\n",
       "    <tr style=\"text-align: right;\">\n",
       "      <th></th>\n",
       "      <th>data type</th>\n",
       "      <th>description</th>\n",
       "      <th>example</th>\n",
       "      <th>options</th>\n",
       "      <th>default</th>\n",
       "      <th>required</th>\n",
       "    </tr>\n",
       "    <tr>\n",
       "      <th>parameter name</th>\n",
       "      <th></th>\n",
       "      <th></th>\n",
       "      <th></th>\n",
       "      <th></th>\n",
       "      <th></th>\n",
       "      <th></th>\n",
       "    </tr>\n",
       "  </thead>\n",
       "  <tbody>\n",
       "    <tr>\n",
       "      <th>id</th>\n",
       "      <td>integer</td>\n",
       "      <td></td>\n",
       "      <td></td>\n",
       "      <td></td>\n",
       "      <td></td>\n",
       "      <td>False</td>\n",
       "    </tr>\n",
       "    <tr>\n",
       "      <th>name</th>\n",
       "      <td>string</td>\n",
       "      <td></td>\n",
       "      <td>E-GEOD-18309</td>\n",
       "      <td></td>\n",
       "      <td></td>\n",
       "      <td>False</td>\n",
       "    </tr>\n",
       "    <tr>\n",
       "      <th>title</th>\n",
       "      <td>string</td>\n",
       "      <td></td>\n",
       "      <td>%Alzheimer%</td>\n",
       "      <td></td>\n",
       "      <td></td>\n",
       "      <td>False</td>\n",
       "    </tr>\n",
       "    <tr>\n",
       "      <th>page_size</th>\n",
       "      <td>integer</td>\n",
       "      <td>Results per page</td>\n",
       "      <td>1</td>\n",
       "      <td></td>\n",
       "      <td>10.0</td>\n",
       "      <td>False</td>\n",
       "    </tr>\n",
       "    <tr>\n",
       "      <th>page</th>\n",
       "      <td>integer</td>\n",
       "      <td>Page number (starting with 1)</td>\n",
       "      <td>1</td>\n",
       "      <td></td>\n",
       "      <td>1.0</td>\n",
       "      <td>False</td>\n",
       "    </tr>\n",
       "  </tbody>\n",
       "</table>\n",
       "</div>"
      ],
      "text/plain": [
       "               data type                    description       example options  \\\n",
       "parameter name                                                                  \n",
       "id               integer                                                        \n",
       "name              string                                 E-GEOD-18309           \n",
       "title             string                                  %Alzheimer%           \n",
       "page_size        integer               Results per page             1           \n",
       "page             integer  Page number (starting with 1)             1           \n",
       "\n",
       "               default  required  \n",
       "parameter name                    \n",
       "id                         False  \n",
       "name                       False  \n",
       "title                      False  \n",
       "page_size         10.0     False  \n",
       "page               1.0     False  "
      ]
     },
     "metadata": {},
     "output_type": "display_data"
    },
    {
     "data": {
      "text/html": [
       "<b>Example URL:</b> <a href=\"http://0.0.0.0:5000/api/v1/expression_atlas/experiment?name=E-GEOD-18309&title=%25Alzheimer%25&page_size=1&page=1\">http://0.0.0.0:5000/api/v1/expression_atlas/experiment?name=E-GEOD-18309&title=%25Alzheimer%25&page_size=1&page=1</a>"
      ],
      "text/plain": [
       "<IPython.core.display.HTML object>"
      ]
     },
     "metadata": {},
     "output_type": "display_data"
    },
    {
     "data": {
      "text/html": [
       "<b style=\"color: rgb(98,98,98); text-decoration: underline;\">Example response:</b>"
      ],
      "text/plain": [
       "<IPython.core.display.HTML object>"
      ]
     },
     "metadata": {},
     "output_type": "display_data"
    },
    {
     "name": "stdout",
     "output_type": "stream",
     "text": [
      "{\u001b[38;5;124m'\u001b[39m\u001b[38;5;124mnumber_of_results\u001b[39m\u001b[38;5;124m'\u001b[39m: \u001b[38;5;241m1\u001b[39m,\n",
      " \u001b[38;5;124m'\u001b[39m\u001b[38;5;124mpage\u001b[39m\u001b[38;5;124m'\u001b[39m: \u001b[38;5;241m1\u001b[39m,\n",
      " \u001b[38;5;124m'\u001b[39m\u001b[38;5;124mpage_size\u001b[39m\u001b[38;5;124m'\u001b[39m: \u001b[38;5;241m1\u001b[39m,\n",
      " \u001b[38;5;124m'\u001b[39m\u001b[38;5;124mpages\u001b[39m\u001b[38;5;124m'\u001b[39m: \u001b[38;5;241m1\u001b[39m,\n",
      " \u001b[38;5;124m'\u001b[39m\u001b[38;5;124mresults\u001b[39m\u001b[38;5;124m'\u001b[39m: [{\u001b[38;5;124m'\u001b[39m\u001b[38;5;124mgroup_comparison\u001b[39m\u001b[38;5;124m'\u001b[39m: [{\u001b[38;5;124m'\u001b[39m\u001b[38;5;124mgroups\u001b[39m\u001b[38;5;124m'\u001b[39m: \u001b[38;5;124m'\u001b[39m\u001b[38;5;124mg3_g1\u001b[39m\u001b[38;5;124m'\u001b[39m,\n",
      "                                    \u001b[38;5;124m'\u001b[39m\u001b[38;5;124mid\u001b[39m\u001b[38;5;124m'\u001b[39m: \u001b[38;5;241m149\u001b[39m,\n",
      "                                    \u001b[38;5;124m'\u001b[39m\u001b[38;5;124mname\u001b[39m\u001b[38;5;124m'\u001b[39m: \u001b[38;5;124m\"\u001b[39m\u001b[38;5;124m'\u001b[39m\u001b[38;5;124mAlzheimers disease\u001b[39m\u001b[38;5;124m'\u001b[39m\u001b[38;5;124m vs \u001b[39m\u001b[38;5;124m'\u001b[39m\u001b[38;5;124mnormal\u001b[39m\u001b[38;5;124m'\u001b[39m\u001b[38;5;124m\"\u001b[39m},\n",
      "                                   {\u001b[38;5;124m'\u001b[39m\u001b[38;5;124mgroups\u001b[39m\u001b[38;5;124m'\u001b[39m: \u001b[38;5;124m'\u001b[39m\u001b[38;5;124mg3_g2\u001b[39m\u001b[38;5;124m'\u001b[39m,\n",
      "                                    \u001b[38;5;124m'\u001b[39m\u001b[38;5;124mid\u001b[39m\u001b[38;5;124m'\u001b[39m: \u001b[38;5;241m150\u001b[39m,\n",
      "                                    \u001b[38;5;124m'\u001b[39m\u001b[38;5;124mname\u001b[39m\u001b[38;5;124m'\u001b[39m: \u001b[38;5;124m\"\u001b[39m\u001b[38;5;124m'\u001b[39m\u001b[38;5;124mmild cognitive impairment\u001b[39m\u001b[38;5;124m'\u001b[39m\u001b[38;5;124m vs \u001b[39m\u001b[38;5;124m\"\u001b[39m\n",
      "                                            \u001b[38;5;124m\"\u001b[39m\u001b[38;5;124m'\u001b[39m\u001b[38;5;124mnormal\u001b[39m\u001b[38;5;124m'\u001b[39m\u001b[38;5;124m\"\u001b[39m}],\n",
      "              \u001b[38;5;124m'\u001b[39m\u001b[38;5;124mid\u001b[39m\u001b[38;5;124m'\u001b[39m: \u001b[38;5;241m58\u001b[39m,\n",
      "              \u001b[38;5;124m'\u001b[39m\u001b[38;5;124midfs\u001b[39m\u001b[38;5;124m'\u001b[39m: {\u001b[38;5;124m'\u001b[39m\u001b[38;5;124mcomment_aeexperiment_display_name\u001b[39m\u001b[38;5;124m'\u001b[39m: \u001b[38;5;124m'\u001b[39m\u001b[38;5;124mMicroarray \u001b[39m\u001b[38;5;124m'\u001b[39m\n",
      "                                                            \u001b[38;5;124m'\u001b[39m\u001b[38;5;124manalysis of \u001b[39m\u001b[38;5;124m'\u001b[39m\n",
      "                                                            \u001b[38;5;124m'\u001b[39m\u001b[38;5;124mperipheral blood \u001b[39m\u001b[38;5;124m'\u001b[39m\n",
      "                                                            \u001b[38;5;124m'\u001b[39m\u001b[38;5;124mmonocytes from \u001b[39m\u001b[38;5;124m'\u001b[39m\n",
      "                                                            \u001b[38;5;124m'\u001b[39m\u001b[38;5;124mpatients with \u001b[39m\u001b[38;5;124m'\u001b[39m\n",
      "                                                            \u001b[38;5;124m\"\u001b[39m\u001b[38;5;124mAlzheimer\u001b[39m\u001b[38;5;124m'\u001b[39m\u001b[38;5;124ms \u001b[39m\u001b[38;5;124m\"\u001b[39m\n",
      "                                                            \u001b[38;5;124m'\u001b[39m\u001b[38;5;124mdisease or mild \u001b[39m\u001b[38;5;124m'\u001b[39m\n",
      "                                                            \u001b[38;5;124m'\u001b[39m\u001b[38;5;124mcognitive \u001b[39m\u001b[38;5;124m'\u001b[39m\n",
      "                                                            \u001b[38;5;124m'\u001b[39m\u001b[38;5;124mimpairment and \u001b[39m\u001b[38;5;124m'\u001b[39m\n",
      "                                                            \u001b[38;5;124m'\u001b[39m\u001b[38;5;124mhealthy \u001b[39m\u001b[38;5;124m'\u001b[39m\n",
      "                                                            \u001b[38;5;124m'\u001b[39m\u001b[38;5;124mindividuals\u001b[39m\u001b[38;5;124m'\u001b[39m,\n",
      "                       \u001b[38;5;124m'\u001b[39m\u001b[38;5;124mcomment_aeexperiment_type\u001b[39m\u001b[38;5;124m'\u001b[39m: \u001b[38;5;124m'\u001b[39m\u001b[38;5;124mtranscription profiling \u001b[39m\u001b[38;5;124m'\u001b[39m\n",
      "                                                    \u001b[38;5;124m'\u001b[39m\u001b[38;5;124mby array\u001b[39m\u001b[38;5;124m'\u001b[39m,\n",
      "                       \u001b[38;5;124m'\u001b[39m\u001b[38;5;124mcomment_array_express_accession\u001b[39m\u001b[38;5;124m'\u001b[39m: \u001b[38;5;124m'\u001b[39m\u001b[38;5;124mE-GEOD-18309\u001b[39m\u001b[38;5;124m'\u001b[39m,\n",
      "                       \u001b[38;5;124m'\u001b[39m\u001b[38;5;124mcomment_array_express_submission_date\u001b[39m\u001b[38;5;124m'\u001b[39m: \u001b[38;5;124m'\u001b[39m\u001b[38;5;124m2009-09-29\u001b[39m\u001b[38;5;124m'\u001b[39m,\n",
      "                       \u001b[38;5;124m'\u001b[39m\u001b[38;5;124mcomment_georelease_date\u001b[39m\u001b[38;5;124m'\u001b[39m: \u001b[38;5;124m'\u001b[39m\u001b[38;5;124m2009-11-30\u001b[39m\u001b[38;5;124m'\u001b[39m,\n",
      "                       \u001b[38;5;124m'\u001b[39m\u001b[38;5;124mcomment_secondary_accession\u001b[39m\u001b[38;5;124m'\u001b[39m: \u001b[38;5;124m'\u001b[39m\u001b[38;5;124mGSE18309\u001b[39m\u001b[38;5;124m'\u001b[39m,\n",
      "                       \u001b[38;5;124m'\u001b[39m\u001b[38;5;124mcomment_submitted_name\u001b[39m\u001b[38;5;124m'\u001b[39m: \u001b[38;5;124m'\u001b[39m\u001b[38;5;124mTranscriptomes in Peripheral \u001b[39m\u001b[38;5;124m'\u001b[39m\n",
      "                                                 \u001b[38;5;124m'\u001b[39m\u001b[38;5;124mBlood Mononuclear Cells of \u001b[39m\u001b[38;5;124m'\u001b[39m\n",
      "                                                 \u001b[38;5;124m'\u001b[39m\u001b[38;5;124mDementia and Alzheimer \u001b[39m\u001b[38;5;124m'\u001b[39m\n",
      "                                                 \u001b[38;5;124m'\u001b[39m\u001b[38;5;124mPatients\u001b[39m\u001b[38;5;124m'\u001b[39m,\n",
      "                       \u001b[38;5;124m'\u001b[39m\u001b[38;5;124mexperiment_description\u001b[39m\u001b[38;5;124m'\u001b[39m: \u001b[38;5;124m'\u001b[39m\u001b[38;5;124mWith the aging population, \u001b[39m\u001b[38;5;124m'\u001b[39m\n",
      "                                                 \u001b[38;5;124m'\u001b[39m\u001b[38;5;124mthere is a growing focus on \u001b[39m\u001b[38;5;124m'\u001b[39m\n",
      "                                                 \u001b[38;5;124m'\u001b[39m\u001b[38;5;124mdementia, especially \u001b[39m\u001b[38;5;124m'\u001b[39m\n",
      "                                                 \u001b[38;5;124m'\u001b[39m\u001b[38;5;124mAlzheimer’s disease (AD). \u001b[39m\u001b[38;5;124m'\u001b[39m\n",
      "                                                 \u001b[38;5;124m'\u001b[39m\u001b[38;5;124mThe molecular basis \u001b[39m\u001b[38;5;124m'\u001b[39m\n",
      "                                                 \u001b[38;5;124m'\u001b[39m\u001b[38;5;124munderlying the pathogenesis \u001b[39m\u001b[38;5;124m'\u001b[39m\n",
      "                                                 \u001b[38;5;124m'\u001b[39m\u001b[38;5;124mof AD is gradually being \u001b[39m\u001b[38;5;124m'\u001b[39m\n",
      "                                                 \u001b[38;5;124m'\u001b[39m\u001b[38;5;124melucidated. Increasing \u001b[39m\u001b[38;5;124m'\u001b[39m\n",
      "                                                 \u001b[38;5;124m'\u001b[39m\u001b[38;5;124mevidence has shown that the \u001b[39m\u001b[38;5;124m'\u001b[39m\n",
      "                                                 \u001b[38;5;124m'\u001b[39m\u001b[38;5;124mimmunological function of \u001b[39m\u001b[38;5;124m'\u001b[39m\n",
      "                                                 \u001b[38;5;124m'\u001b[39m\u001b[38;5;124mleukocytes plays a crucial \u001b[39m\u001b[38;5;124m'\u001b[39m\n",
      "                                                 \u001b[38;5;124m'\u001b[39m\u001b[38;5;124mrole in the development of \u001b[39m\u001b[38;5;124m'\u001b[39m\n",
      "                                                 \u001b[38;5;124m'\u001b[39m\u001b[38;5;124mneurodegenerative disorders. \u001b[39m\u001b[38;5;124m'\u001b[39m\n",
      "                                                 \u001b[38;5;124m'\u001b[39m\u001b[38;5;124mHowever, there have been few \u001b[39m\u001b[38;5;124m'\u001b[39m\n",
      "                                                 \u001b[38;5;124m'\u001b[39m\u001b[38;5;124mstudies among the Taiwanese \u001b[39m\u001b[38;5;124m'\u001b[39m\n",
      "                                                 \u001b[38;5;124m'\u001b[39m\u001b[38;5;124mpopulation. The aim of this \u001b[39m\u001b[38;5;124m'\u001b[39m\n",
      "                                                 \u001b[38;5;124m'\u001b[39m\u001b[38;5;124mstudy was to investigate \u001b[39m\u001b[38;5;124m'\u001b[39m\n",
      "                                                 \u001b[38;5;124m'\u001b[39m\u001b[38;5;124mpotential biomarkers for \u001b[39m\u001b[38;5;124m'\u001b[39m\n",
      "                                                 \u001b[38;5;124m'\u001b[39m\u001b[38;5;124mearly diagnosis of \u001b[39m\u001b[38;5;124m'\u001b[39m\n",
      "                                                 \u001b[38;5;124m'\u001b[39m\u001b[38;5;124mAlzheimer’s disease from \u001b[39m\u001b[38;5;124m'\u001b[39m\n",
      "                                                 \u001b[38;5;124m'\u001b[39m\u001b[38;5;124mblood leukocytes. Experiment \u001b[39m\u001b[38;5;124m'\u001b[39m\n",
      "                                                 \u001b[38;5;124m'\u001b[39m\u001b[38;5;124mOverall Design: The \u001b[39m\u001b[38;5;124m'\u001b[39m\n",
      "                                                 \u001b[38;5;124m'\u001b[39m\u001b[38;5;124mperipheral blood mononuclear \u001b[39m\u001b[38;5;124m'\u001b[39m\n",
      "                                                 \u001b[38;5;124m'\u001b[39m\u001b[38;5;124mcells (PBMC) transcriptomes \u001b[39m\u001b[38;5;124m'\u001b[39m\n",
      "                                                 \u001b[38;5;124m'\u001b[39m\u001b[38;5;124mfrom 5 patients with mild \u001b[39m\u001b[38;5;124m'\u001b[39m\n",
      "                                                 \u001b[38;5;124m'\u001b[39m\u001b[38;5;124mcognitive impairment (MCI), \u001b[39m\u001b[38;5;124m'\u001b[39m\n",
      "                                                 \u001b[38;5;124m'\u001b[39m\u001b[38;5;124m4 AD, as well as 4 normal \u001b[39m\u001b[38;5;124m'\u001b[39m\n",
      "                                                 \u001b[38;5;124m'\u001b[39m\u001b[38;5;124mcontrols (NC), were analyzed \u001b[39m\u001b[38;5;124m'\u001b[39m\n",
      "                                                 \u001b[38;5;124m'\u001b[39m\u001b[38;5;124mby microarray analysis.\u001b[39m\u001b[38;5;124m'\u001b[39m,\n",
      "                       \u001b[38;5;124m'\u001b[39m\u001b[38;5;124mexperimental_factor_name\u001b[39m\u001b[38;5;124m'\u001b[39m: \u001b[38;5;124m'\u001b[39m\u001b[38;5;124mdisease\u001b[39m\u001b[38;5;124m'\u001b[39m,\n",
      "                       \u001b[38;5;124m'\u001b[39m\u001b[38;5;124mexperimental_factor_type\u001b[39m\u001b[38;5;124m'\u001b[39m: \u001b[38;5;124m'\u001b[39m\u001b[38;5;124mdisease\u001b[39m\u001b[38;5;124m'\u001b[39m,\n",
      "                       \u001b[38;5;124m'\u001b[39m\u001b[38;5;124minvestigation_title\u001b[39m\u001b[38;5;124m'\u001b[39m: \u001b[38;5;124m'\u001b[39m\u001b[38;5;124mTranscription profiling of \u001b[39m\u001b[38;5;124m'\u001b[39m\n",
      "                                              \u001b[38;5;124m'\u001b[39m\u001b[38;5;124mhuman peripheral blood \u001b[39m\u001b[38;5;124m'\u001b[39m\n",
      "                                              \u001b[38;5;124m'\u001b[39m\u001b[38;5;124mmononuclear cells of dementia \u001b[39m\u001b[38;5;124m'\u001b[39m\n",
      "                                              \u001b[38;5;124m'\u001b[39m\u001b[38;5;124mand Alzheimer patients\u001b[39m\u001b[38;5;124m'\u001b[39m,\n",
      "                       \u001b[38;5;124m'\u001b[39m\u001b[38;5;124mperson_address\u001b[39m\u001b[38;5;124m'\u001b[39m: \u001b[38;5;124m'\u001b[39m\u001b[38;5;124mTranslational Research Center in \u001b[39m\u001b[38;5;124m'\u001b[39m\n",
      "                                         \u001b[38;5;124m'\u001b[39m\u001b[38;5;124mBiomedical Sicences, Chang Gung \u001b[39m\u001b[38;5;124m'\u001b[39m\n",
      "                                         \u001b[38;5;124m'\u001b[39m\u001b[38;5;124mMemorial Hospital Kaohsiung, 123, \u001b[39m\u001b[38;5;124m'\u001b[39m\n",
      "                                         \u001b[38;5;124m'\u001b[39m\u001b[38;5;124mTa-Pei Rd., Niao-Sung Hsiang, \u001b[39m\u001b[38;5;124m'\u001b[39m\n",
      "                                         \u001b[38;5;124m'\u001b[39m\u001b[38;5;124mKaohsiung Hsien, 83342, Taiwan, \u001b[39m\u001b[38;5;124m'\u001b[39m\n",
      "                                         \u001b[38;5;124m'\u001b[39m\u001b[38;5;124mR.O.C.\u001b[39m\u001b[38;5;124m'\u001b[39m,\n",
      "                       \u001b[38;5;124m'\u001b[39m\u001b[38;5;124mperson_affiliation\u001b[39m\u001b[38;5;124m'\u001b[39m: \u001b[38;5;124m'\u001b[39m\u001b[38;5;124mChang Gung Memorial Hospital \u001b[39m\u001b[38;5;124m'\u001b[39m\n",
      "                                             \u001b[38;5;124m'\u001b[39m\u001b[38;5;124mKaohsiung\u001b[39m\u001b[38;5;124m'\u001b[39m,\n",
      "                       \u001b[38;5;124m'\u001b[39m\u001b[38;5;124mperson_email\u001b[39m\u001b[38;5;124m'\u001b[39m: \u001b[38;5;124m'\u001b[39m\u001b[38;5;124mdennis8857@gmail.com\u001b[39m\u001b[38;5;124m'\u001b[39m,\n",
      "                       \u001b[38;5;124m'\u001b[39m\u001b[38;5;124mperson_first_name\u001b[39m\u001b[38;5;124m'\u001b[39m: \u001b[38;5;124m'\u001b[39m\u001b[38;5;124mKuang-Den\u001b[39m\u001b[38;5;124m'\u001b[39m,\n",
      "                       \u001b[38;5;124m'\u001b[39m\u001b[38;5;124mperson_last_name\u001b[39m\u001b[38;5;124m'\u001b[39m: \u001b[38;5;124m'\u001b[39m\u001b[38;5;124mChen\u001b[39m\u001b[38;5;124m'\u001b[39m,\n",
      "                       \u001b[38;5;124m'\u001b[39m\u001b[38;5;124mperson_roles\u001b[39m\u001b[38;5;124m'\u001b[39m: \u001b[38;5;124m'\u001b[39m\u001b[38;5;124msubmitter\u001b[39m\u001b[38;5;124m'\u001b[39m,\n",
      "                       \u001b[38;5;124m'\u001b[39m\u001b[38;5;124mprotocol_description\u001b[39m\u001b[38;5;124m'\u001b[39m: \u001b[38;5;124m'\u001b[39m\u001b[38;5;124mTrizol-purified RNA was \u001b[39m\u001b[38;5;124m'\u001b[39m\n",
      "                                               \u001b[38;5;124m'\u001b[39m\u001b[38;5;124mquantified using a NanoDrop \u001b[39m\u001b[38;5;124m'\u001b[39m\n",
      "                                               \u001b[38;5;124m'\u001b[39m\u001b[38;5;124mspectrophotometer (Rockland, \u001b[39m\u001b[38;5;124m'\u001b[39m\n",
      "                                               \u001b[38;5;124m'\u001b[39m\u001b[38;5;124mDE, USA). RNA integrity was \u001b[39m\u001b[38;5;124m'\u001b[39m\n",
      "                                               \u001b[38;5;124m'\u001b[39m\u001b[38;5;124mverified with a BioAnalyzer \u001b[39m\u001b[38;5;124m'\u001b[39m\n",
      "                                               \u001b[38;5;124m'\u001b[39m\u001b[38;5;124m2100 (Agilent, Palo Alto, CA, \u001b[39m\u001b[38;5;124m'\u001b[39m\n",
      "                                               \u001b[38;5;124m'\u001b[39m\u001b[38;5;124mUSA). High quality RNA (RIN>7) \u001b[39m\u001b[38;5;124m'\u001b[39m\n",
      "                                               \u001b[38;5;124m'\u001b[39m\u001b[38;5;124mwas transcribed into cDNA with \u001b[39m\u001b[38;5;124m'\u001b[39m\n",
      "                                               \u001b[38;5;124m'\u001b[39m\u001b[38;5;124ma double reverse \u001b[39m\u001b[38;5;124m'\u001b[39m\n",
      "                                               \u001b[38;5;124m'\u001b[39m\u001b[38;5;124mtranscriptase-PCR technique, \u001b[39m\u001b[38;5;124m'\u001b[39m\n",
      "                                               \u001b[38;5;124m'\u001b[39m\u001b[38;5;124mand in vitro transcription was \u001b[39m\u001b[38;5;124m'\u001b[39m\n",
      "                                               \u001b[38;5;124m'\u001b[39m\u001b[38;5;124mperformed to generate \u001b[39m\u001b[38;5;124m'\u001b[39m\n",
      "                                               \u001b[38;5;124m'\u001b[39m\u001b[38;5;124mbiotin-labeled cRNA for \u001b[39m\u001b[38;5;124m'\u001b[39m\n",
      "                                               \u001b[38;5;124m'\u001b[39m\u001b[38;5;124msubsequent hybridization on \u001b[39m\u001b[38;5;124m'\u001b[39m\n",
      "                                               \u001b[38;5;124m'\u001b[39m\u001b[38;5;124mHG-U133 Plus2 GeneChips® \u001b[39m\u001b[38;5;124m'\u001b[39m\n",
      "                                               \u001b[38;5;124m'\u001b[39m\u001b[38;5;124m(Affymetrix, CA, USA).\u001b[39m\u001b[38;5;124m'\u001b[39m,\n",
      "                       \u001b[38;5;124m'\u001b[39m\u001b[38;5;124mprotocol_name\u001b[39m\u001b[38;5;124m'\u001b[39m: \u001b[38;5;124m'\u001b[39m\u001b[38;5;124mP-G18309-1\u001b[39m\u001b[38;5;124m'\u001b[39m,\n",
      "                       \u001b[38;5;124m'\u001b[39m\u001b[38;5;124mprotocol_type\u001b[39m\u001b[38;5;124m'\u001b[39m: \u001b[38;5;124m'\u001b[39m\u001b[38;5;124mlabeling\u001b[39m\u001b[38;5;124m'\u001b[39m,\n",
      "                       \u001b[38;5;124m'\u001b[39m\u001b[38;5;124mpublic_release_date\u001b[39m\u001b[38;5;124m'\u001b[39m: \u001b[38;5;124m'\u001b[39m\u001b[38;5;124m2009-12-04\u001b[39m\u001b[38;5;124m'\u001b[39m,\n",
      "                       \u001b[38;5;124m'\u001b[39m\u001b[38;5;124msdrf_file\u001b[39m\u001b[38;5;124m'\u001b[39m: \u001b[38;5;124m'\u001b[39m\u001b[38;5;124mE-GEOD-18309.sdrf.txt\u001b[39m\u001b[38;5;124m'\u001b[39m,\n",
      "                       \u001b[38;5;124m'\u001b[39m\u001b[38;5;124mterm_source_file\u001b[39m\u001b[38;5;124m'\u001b[39m: \u001b[38;5;124m'\u001b[39m\u001b[38;5;124mhttp://www.ebi.ac.uk/efo/efo.owl\u001b[39m\u001b[38;5;124m'\u001b[39m,\n",
      "                       \u001b[38;5;124m'\u001b[39m\u001b[38;5;124mterm_source_name\u001b[39m\u001b[38;5;124m'\u001b[39m: \u001b[38;5;124m'\u001b[39m\u001b[38;5;124mEFO\u001b[39m\u001b[38;5;124m'\u001b[39m},\n",
      "              \u001b[38;5;124m'\u001b[39m\u001b[38;5;124mname\u001b[39m\u001b[38;5;124m'\u001b[39m: \u001b[38;5;124m'\u001b[39m\u001b[38;5;124mE-GEOD-18309\u001b[39m\u001b[38;5;124m'\u001b[39m,\n",
      "              \u001b[38;5;124m'\u001b[39m\u001b[38;5;124mtitle\u001b[39m\u001b[38;5;124m'\u001b[39m: \u001b[38;5;124m'\u001b[39m\u001b[38;5;124mTranscription profiling of human peripheral blood \u001b[39m\u001b[38;5;124m'\u001b[39m\n",
      "                       \u001b[38;5;124m'\u001b[39m\u001b[38;5;124mmononuclear cells of dementia and Alzheimer patients\u001b[39m\u001b[38;5;124m'\u001b[39m}]}\n",
      "\n",
      "For further testing go to http://0.0.0.0:5000/ui/#/Expression Atlas/ebel.web.api.ebel.v1.expression_atlas.get_expriment\n"
     ]
    },
    {
     "data": {
      "text/html": [
       "<h2>2. Expression Atlas fold change</h2>"
      ],
      "text/plain": [
       "<IPython.core.display.HTML object>"
      ]
     },
     "metadata": {},
     "output_type": "display_data"
    },
    {
     "data": {
      "text/html": [
       "<b style=\"color: rgb(98,98,98); text-decoration: underline;\">Description:</b> <p>Expression Atlass fold change</p>"
      ],
      "text/plain": [
       "<IPython.core.display.HTML object>"
      ]
     },
     "metadata": {},
     "output_type": "display_data"
    },
    {
     "data": {
      "text/html": [
       "<b>Tags:</b> ['Expression Atlas']"
      ],
      "text/plain": [
       "<IPython.core.display.HTML object>"
      ]
     },
     "metadata": {},
     "output_type": "display_data"
    },
    {
     "data": {
      "text/html": [
       "<b>Server path:</b> /api/v1/expression_atlas/fold_change"
      ],
      "text/plain": [
       "<IPython.core.display.HTML object>"
      ]
     },
     "metadata": {},
     "output_type": "display_data"
    },
    {
     "data": {
      "text/html": [
       "<div>\n",
       "<style scoped>\n",
       "    .dataframe tbody tr th:only-of-type {\n",
       "        vertical-align: middle;\n",
       "    }\n",
       "\n",
       "    .dataframe tbody tr th {\n",
       "        vertical-align: top;\n",
       "    }\n",
       "\n",
       "    .dataframe thead th {\n",
       "        text-align: right;\n",
       "    }\n",
       "</style>\n",
       "<table border=\"1\" class=\"dataframe\">\n",
       "  <thead>\n",
       "    <tr style=\"text-align: right;\">\n",
       "      <th></th>\n",
       "      <th>data type</th>\n",
       "      <th>description</th>\n",
       "      <th>example</th>\n",
       "      <th>options</th>\n",
       "      <th>default</th>\n",
       "      <th>required</th>\n",
       "    </tr>\n",
       "    <tr>\n",
       "      <th>parameter name</th>\n",
       "      <th></th>\n",
       "      <th></th>\n",
       "      <th></th>\n",
       "      <th></th>\n",
       "      <th></th>\n",
       "      <th></th>\n",
       "    </tr>\n",
       "  </thead>\n",
       "  <tbody>\n",
       "    <tr>\n",
       "      <th>gene_id</th>\n",
       "      <td>string</td>\n",
       "      <td>NCBI Locus tag ;URL schema https://www.ncbi.nl...</td>\n",
       "      <td>ENSG00000105383</td>\n",
       "      <td></td>\n",
       "      <td></td>\n",
       "      <td>False</td>\n",
       "    </tr>\n",
       "    <tr>\n",
       "      <th>gene_name</th>\n",
       "      <td>string</td>\n",
       "      <td></td>\n",
       "      <td>CD33</td>\n",
       "      <td></td>\n",
       "      <td></td>\n",
       "      <td>False</td>\n",
       "    </tr>\n",
       "    <tr>\n",
       "      <th>group_comparison_id</th>\n",
       "      <td>integer</td>\n",
       "      <td></td>\n",
       "      <td></td>\n",
       "      <td></td>\n",
       "      <td></td>\n",
       "      <td>False</td>\n",
       "    </tr>\n",
       "    <tr>\n",
       "      <th>page_size</th>\n",
       "      <td>integer</td>\n",
       "      <td>Results per page</td>\n",
       "      <td>1</td>\n",
       "      <td></td>\n",
       "      <td>10.0</td>\n",
       "      <td>False</td>\n",
       "    </tr>\n",
       "    <tr>\n",
       "      <th>page</th>\n",
       "      <td>integer</td>\n",
       "      <td>Page number (starting with 1)</td>\n",
       "      <td>1</td>\n",
       "      <td></td>\n",
       "      <td>1.0</td>\n",
       "      <td>False</td>\n",
       "    </tr>\n",
       "  </tbody>\n",
       "</table>\n",
       "</div>"
      ],
      "text/plain": [
       "                    data type  \\\n",
       "parameter name                  \n",
       "gene_id                string   \n",
       "gene_name              string   \n",
       "group_comparison_id   integer   \n",
       "page_size             integer   \n",
       "page                  integer   \n",
       "\n",
       "                                                           description  \\\n",
       "parameter name                                                           \n",
       "gene_id              NCBI Locus tag ;URL schema https://www.ncbi.nl...   \n",
       "gene_name                                                                \n",
       "group_comparison_id                                                      \n",
       "page_size                                             Results per page   \n",
       "page                                     Page number (starting with 1)   \n",
       "\n",
       "                             example options default  required  \n",
       "parameter name                                                  \n",
       "gene_id              ENSG00000105383                     False  \n",
       "gene_name                       CD33                     False  \n",
       "group_comparison_id                                      False  \n",
       "page_size                          1            10.0     False  \n",
       "page                               1             1.0     False  "
      ]
     },
     "metadata": {},
     "output_type": "display_data"
    },
    {
     "data": {
      "text/html": [
       "<b>Example URL:</b> <a href=\"http://0.0.0.0:5000/api/v1/expression_atlas/fold_change?gene_id=ENSG00000105383&gene_name=CD33&page_size=1&page=1\">http://0.0.0.0:5000/api/v1/expression_atlas/fold_change?gene_id=ENSG00000105383&gene_name=CD33&page_size=1&page=1</a>"
      ],
      "text/plain": [
       "<IPython.core.display.HTML object>"
      ]
     },
     "metadata": {},
     "output_type": "display_data"
    },
    {
     "data": {
      "text/html": [
       "<b style=\"color: rgb(98,98,98); text-decoration: underline;\">Example response:</b>"
      ],
      "text/plain": [
       "<IPython.core.display.HTML object>"
      ]
     },
     "metadata": {},
     "output_type": "display_data"
    },
    {
     "name": "stdout",
     "output_type": "stream",
     "text": [
      "{\u001b[38;5;124m'\u001b[39m\u001b[38;5;124mnumber_of_results\u001b[39m\u001b[38;5;124m'\u001b[39m: \u001b[38;5;241m126\u001b[39m,\n",
      " \u001b[38;5;124m'\u001b[39m\u001b[38;5;124mpage\u001b[39m\u001b[38;5;124m'\u001b[39m: \u001b[38;5;241m1\u001b[39m,\n",
      " \u001b[38;5;124m'\u001b[39m\u001b[38;5;124mpage_size\u001b[39m\u001b[38;5;124m'\u001b[39m: \u001b[38;5;241m1\u001b[39m,\n",
      " \u001b[38;5;124m'\u001b[39m\u001b[38;5;124mpages\u001b[39m\u001b[38;5;124m'\u001b[39m: \u001b[38;5;241m126\u001b[39m,\n",
      " \u001b[38;5;124m'\u001b[39m\u001b[38;5;124mresults\u001b[39m\u001b[38;5;124m'\u001b[39m: [{\u001b[38;5;124m'\u001b[39m\u001b[38;5;124mgene_id\u001b[39m\u001b[38;5;124m'\u001b[39m: \u001b[38;5;124m'\u001b[39m\u001b[38;5;124mENSG00000105383\u001b[39m\u001b[38;5;124m'\u001b[39m,\n",
      "              \u001b[38;5;124m'\u001b[39m\u001b[38;5;124mgene_name\u001b[39m\u001b[38;5;124m'\u001b[39m: \u001b[38;5;124m'\u001b[39m\u001b[38;5;124mCD33\u001b[39m\u001b[38;5;124m'\u001b[39m,\n",
      "              \u001b[38;5;124m'\u001b[39m\u001b[38;5;124mgroup_comparison_id\u001b[39m\u001b[38;5;124m'\u001b[39m: \u001b[38;5;241m277\u001b[39m,\n",
      "              \u001b[38;5;124m'\u001b[39m\u001b[38;5;124mid\u001b[39m\u001b[38;5;124m'\u001b[39m: \u001b[38;5;241m125896\u001b[39m,\n",
      "              \u001b[38;5;124m'\u001b[39m\u001b[38;5;124mlog2foldchange\u001b[39m\u001b[38;5;124m'\u001b[39m: \u001b[38;5;241m-\u001b[39m\u001b[38;5;241m1.3\u001b[39m,\n",
      "              \u001b[38;5;124m'\u001b[39m\u001b[38;5;124mp_value\u001b[39m\u001b[38;5;124m'\u001b[39m: \u001b[38;5;241m0.030042\u001b[39m,\n",
      "              \u001b[38;5;124m'\u001b[39m\u001b[38;5;124mt_statistic\u001b[39m\u001b[38;5;124m'\u001b[39m: \u001b[38;5;241m-\u001b[39m\u001b[38;5;241m3.50714\u001b[39m}]}\n",
      "\n",
      "For further testing go to http://0.0.0.0:5000/ui/#/Expression Atlas/ebel.web.api.ebel.v1.expression_atlas.get_fold_change\n"
     ]
    },
    {
     "data": {
      "text/html": [
       "<h2>3. Expression Atlas group comparison</h2>"
      ],
      "text/plain": [
       "<IPython.core.display.HTML object>"
      ]
     },
     "metadata": {},
     "output_type": "display_data"
    },
    {
     "data": {
      "text/html": [
       "<b style=\"color: rgb(98,98,98); text-decoration: underline;\">Description:</b> <p>Expression Atlas group_comparison</p>"
      ],
      "text/plain": [
       "<IPython.core.display.HTML object>"
      ]
     },
     "metadata": {},
     "output_type": "display_data"
    },
    {
     "data": {
      "text/html": [
       "<b>Tags:</b> ['Expression Atlas']"
      ],
      "text/plain": [
       "<IPython.core.display.HTML object>"
      ]
     },
     "metadata": {},
     "output_type": "display_data"
    },
    {
     "data": {
      "text/html": [
       "<b>Server path:</b> /api/v1/expression_atlas/group_comparison"
      ],
      "text/plain": [
       "<IPython.core.display.HTML object>"
      ]
     },
     "metadata": {},
     "output_type": "display_data"
    },
    {
     "data": {
      "text/html": [
       "<div>\n",
       "<style scoped>\n",
       "    .dataframe tbody tr th:only-of-type {\n",
       "        vertical-align: middle;\n",
       "    }\n",
       "\n",
       "    .dataframe tbody tr th {\n",
       "        vertical-align: top;\n",
       "    }\n",
       "\n",
       "    .dataframe thead th {\n",
       "        text-align: right;\n",
       "    }\n",
       "</style>\n",
       "<table border=\"1\" class=\"dataframe\">\n",
       "  <thead>\n",
       "    <tr style=\"text-align: right;\">\n",
       "      <th></th>\n",
       "      <th>data type</th>\n",
       "      <th>description</th>\n",
       "      <th>example</th>\n",
       "      <th>options</th>\n",
       "      <th>default</th>\n",
       "      <th>required</th>\n",
       "    </tr>\n",
       "    <tr>\n",
       "      <th>parameter name</th>\n",
       "      <th></th>\n",
       "      <th></th>\n",
       "      <th></th>\n",
       "      <th></th>\n",
       "      <th></th>\n",
       "      <th></th>\n",
       "    </tr>\n",
       "  </thead>\n",
       "  <tbody>\n",
       "    <tr>\n",
       "      <th>id</th>\n",
       "      <td>integer</td>\n",
       "      <td></td>\n",
       "      <td></td>\n",
       "      <td></td>\n",
       "      <td></td>\n",
       "      <td>False</td>\n",
       "    </tr>\n",
       "    <tr>\n",
       "      <th>experiment_id</th>\n",
       "      <td>integer</td>\n",
       "      <td></td>\n",
       "      <td></td>\n",
       "      <td></td>\n",
       "      <td></td>\n",
       "      <td>False</td>\n",
       "    </tr>\n",
       "    <tr>\n",
       "      <th>group_comparison</th>\n",
       "      <td>string</td>\n",
       "      <td></td>\n",
       "      <td>g3_g1</td>\n",
       "      <td></td>\n",
       "      <td></td>\n",
       "      <td>False</td>\n",
       "    </tr>\n",
       "    <tr>\n",
       "      <th>name</th>\n",
       "      <td>string</td>\n",
       "      <td></td>\n",
       "      <td>%Alzheimer%</td>\n",
       "      <td></td>\n",
       "      <td></td>\n",
       "      <td>False</td>\n",
       "    </tr>\n",
       "    <tr>\n",
       "      <th>page_size</th>\n",
       "      <td>integer</td>\n",
       "      <td>Results per page</td>\n",
       "      <td>1</td>\n",
       "      <td></td>\n",
       "      <td>10.0</td>\n",
       "      <td>False</td>\n",
       "    </tr>\n",
       "    <tr>\n",
       "      <th>page</th>\n",
       "      <td>integer</td>\n",
       "      <td>Page number (starting with 1)</td>\n",
       "      <td>1</td>\n",
       "      <td></td>\n",
       "      <td>1.0</td>\n",
       "      <td>False</td>\n",
       "    </tr>\n",
       "  </tbody>\n",
       "</table>\n",
       "</div>"
      ],
      "text/plain": [
       "                 data type                    description      example  \\\n",
       "parameter name                                                           \n",
       "id                 integer                                               \n",
       "experiment_id      integer                                               \n",
       "group_comparison    string                                       g3_g1   \n",
       "name                string                                 %Alzheimer%   \n",
       "page_size          integer               Results per page            1   \n",
       "page               integer  Page number (starting with 1)            1   \n",
       "\n",
       "                 options default  required  \n",
       "parameter name                              \n",
       "id                                   False  \n",
       "experiment_id                        False  \n",
       "group_comparison                     False  \n",
       "name                                 False  \n",
       "page_size                   10.0     False  \n",
       "page                         1.0     False  "
      ]
     },
     "metadata": {},
     "output_type": "display_data"
    },
    {
     "data": {
      "text/html": [
       "<b>Example URL:</b> <a href=\"http://0.0.0.0:5000/api/v1/expression_atlas/group_comparison?group_comparison=g3_g1&name=%25Alzheimer%25&page_size=1&page=1\">http://0.0.0.0:5000/api/v1/expression_atlas/group_comparison?group_comparison=g3_g1&name=%25Alzheimer%25&page_size=1&page=1</a>"
      ],
      "text/plain": [
       "<IPython.core.display.HTML object>"
      ]
     },
     "metadata": {},
     "output_type": "display_data"
    },
    {
     "data": {
      "text/html": [
       "<b style=\"color: rgb(98,98,98); text-decoration: underline;\">Example response:</b>"
      ],
      "text/plain": [
       "<IPython.core.display.HTML object>"
      ]
     },
     "metadata": {},
     "output_type": "display_data"
    },
    {
     "name": "stdout",
     "output_type": "stream",
     "text": [
      "{\u001b[38;5;124m'\u001b[39m\u001b[38;5;124mnumber_of_results\u001b[39m\u001b[38;5;124m'\u001b[39m: \u001b[38;5;241m5\u001b[39m,\n",
      " \u001b[38;5;124m'\u001b[39m\u001b[38;5;124mpage\u001b[39m\u001b[38;5;124m'\u001b[39m: \u001b[38;5;241m1\u001b[39m,\n",
      " \u001b[38;5;124m'\u001b[39m\u001b[38;5;124mpage_size\u001b[39m\u001b[38;5;124m'\u001b[39m: \u001b[38;5;241m1\u001b[39m,\n",
      " \u001b[38;5;124m'\u001b[39m\u001b[38;5;124mpages\u001b[39m\u001b[38;5;124m'\u001b[39m: \u001b[38;5;241m5\u001b[39m,\n",
      " \u001b[38;5;124m'\u001b[39m\u001b[38;5;124mresults\u001b[39m\u001b[38;5;124m'\u001b[39m: [{\u001b[38;5;124m'\u001b[39m\u001b[38;5;124mexperiment_id\u001b[39m\u001b[38;5;124m'\u001b[39m: \u001b[38;5;241m58\u001b[39m,\n",
      "              \u001b[38;5;124m'\u001b[39m\u001b[38;5;124mgroup_comparison\u001b[39m\u001b[38;5;124m'\u001b[39m: \u001b[38;5;124m'\u001b[39m\u001b[38;5;124mg3_g1\u001b[39m\u001b[38;5;124m'\u001b[39m,\n",
      "              \u001b[38;5;124m'\u001b[39m\u001b[38;5;124mid\u001b[39m\u001b[38;5;124m'\u001b[39m: \u001b[38;5;241m149\u001b[39m,\n",
      "              \u001b[38;5;124m'\u001b[39m\u001b[38;5;124mname\u001b[39m\u001b[38;5;124m'\u001b[39m: \u001b[38;5;124m\"\u001b[39m\u001b[38;5;124m'\u001b[39m\u001b[38;5;124mAlzheimers disease\u001b[39m\u001b[38;5;124m'\u001b[39m\u001b[38;5;124m vs \u001b[39m\u001b[38;5;124m'\u001b[39m\u001b[38;5;124mnormal\u001b[39m\u001b[38;5;124m'\u001b[39m\u001b[38;5;124m\"\u001b[39m}]}\n",
      "\n",
      "For further testing go to http://0.0.0.0:5000/ui/#/Expression Atlas/ebel.web.api.ebel.v1.expression_atlas.get_group_comparison\n"
     ]
    },
    {
     "data": {
      "text/html": [
       "<h2>4. Expression Atlas GSEA</h2>"
      ],
      "text/plain": [
       "<IPython.core.display.HTML object>"
      ]
     },
     "metadata": {},
     "output_type": "display_data"
    },
    {
     "data": {
      "text/html": [
       "<b style=\"color: rgb(98,98,98); text-decoration: underline;\">Description:</b> <p>Expression Atlas GSEA (Gene Set Enrichment Analysis)</p>"
      ],
      "text/plain": [
       "<IPython.core.display.HTML object>"
      ]
     },
     "metadata": {},
     "output_type": "display_data"
    },
    {
     "data": {
      "text/html": [
       "<b>Tags:</b> ['Expression Atlas']"
      ],
      "text/plain": [
       "<IPython.core.display.HTML object>"
      ]
     },
     "metadata": {},
     "output_type": "display_data"
    },
    {
     "data": {
      "text/html": [
       "<b>Server path:</b> /api/v1/expression_atlas/gsea"
      ],
      "text/plain": [
       "<IPython.core.display.HTML object>"
      ]
     },
     "metadata": {},
     "output_type": "display_data"
    },
    {
     "data": {
      "text/html": [
       "<div>\n",
       "<style scoped>\n",
       "    .dataframe tbody tr th:only-of-type {\n",
       "        vertical-align: middle;\n",
       "    }\n",
       "\n",
       "    .dataframe tbody tr th {\n",
       "        vertical-align: top;\n",
       "    }\n",
       "\n",
       "    .dataframe thead th {\n",
       "        text-align: right;\n",
       "    }\n",
       "</style>\n",
       "<table border=\"1\" class=\"dataframe\">\n",
       "  <thead>\n",
       "    <tr style=\"text-align: right;\">\n",
       "      <th></th>\n",
       "      <th>data type</th>\n",
       "      <th>description</th>\n",
       "      <th>example</th>\n",
       "      <th>options</th>\n",
       "      <th>default</th>\n",
       "      <th>required</th>\n",
       "    </tr>\n",
       "    <tr>\n",
       "      <th>parameter name</th>\n",
       "      <th></th>\n",
       "      <th></th>\n",
       "      <th></th>\n",
       "      <th></th>\n",
       "      <th></th>\n",
       "      <th></th>\n",
       "    </tr>\n",
       "  </thead>\n",
       "  <tbody>\n",
       "    <tr>\n",
       "      <th>experiment_id</th>\n",
       "      <td>integer</td>\n",
       "      <td></td>\n",
       "      <td></td>\n",
       "      <td></td>\n",
       "      <td></td>\n",
       "      <td>False</td>\n",
       "    </tr>\n",
       "    <tr>\n",
       "      <th>term</th>\n",
       "      <td>string</td>\n",
       "      <td></td>\n",
       "      <td>GO:0001774</td>\n",
       "      <td></td>\n",
       "      <td></td>\n",
       "      <td>False</td>\n",
       "    </tr>\n",
       "    <tr>\n",
       "      <th>accession</th>\n",
       "      <td>string</td>\n",
       "      <td></td>\n",
       "      <td>microglial cell activation</td>\n",
       "      <td></td>\n",
       "      <td></td>\n",
       "      <td>False</td>\n",
       "    </tr>\n",
       "    <tr>\n",
       "      <th>genes_tot</th>\n",
       "      <td>integer</td>\n",
       "      <td></td>\n",
       "      <td></td>\n",
       "      <td></td>\n",
       "      <td></td>\n",
       "      <td>False</td>\n",
       "    </tr>\n",
       "    <tr>\n",
       "      <th>stat_non_dir_p</th>\n",
       "      <td>number</td>\n",
       "      <td></td>\n",
       "      <td></td>\n",
       "      <td></td>\n",
       "      <td></td>\n",
       "      <td>False</td>\n",
       "    </tr>\n",
       "    <tr>\n",
       "      <th>p_adj_non_dir</th>\n",
       "      <td>number</td>\n",
       "      <td></td>\n",
       "      <td></td>\n",
       "      <td></td>\n",
       "      <td></td>\n",
       "      <td>False</td>\n",
       "    </tr>\n",
       "    <tr>\n",
       "      <th>significant_in_gene_set</th>\n",
       "      <td>integer</td>\n",
       "      <td></td>\n",
       "      <td></td>\n",
       "      <td></td>\n",
       "      <td></td>\n",
       "      <td>False</td>\n",
       "    </tr>\n",
       "    <tr>\n",
       "      <th>non_significant_in_gene_set</th>\n",
       "      <td>integer</td>\n",
       "      <td></td>\n",
       "      <td></td>\n",
       "      <td></td>\n",
       "      <td></td>\n",
       "      <td>False</td>\n",
       "    </tr>\n",
       "    <tr>\n",
       "      <th>significant_not_in_gene_set</th>\n",
       "      <td>integer</td>\n",
       "      <td></td>\n",
       "      <td></td>\n",
       "      <td></td>\n",
       "      <td></td>\n",
       "      <td>False</td>\n",
       "    </tr>\n",
       "    <tr>\n",
       "      <th>non_significant_not_in_gene_set</th>\n",
       "      <td>integer</td>\n",
       "      <td></td>\n",
       "      <td></td>\n",
       "      <td></td>\n",
       "      <td></td>\n",
       "      <td>False</td>\n",
       "    </tr>\n",
       "    <tr>\n",
       "      <th>effect_size</th>\n",
       "      <td>number</td>\n",
       "      <td></td>\n",
       "      <td></td>\n",
       "      <td></td>\n",
       "      <td></td>\n",
       "      <td>False</td>\n",
       "    </tr>\n",
       "    <tr>\n",
       "      <th>gsea_type</th>\n",
       "      <td>string</td>\n",
       "      <td></td>\n",
       "      <td></td>\n",
       "      <td></td>\n",
       "      <td></td>\n",
       "      <td>False</td>\n",
       "    </tr>\n",
       "    <tr>\n",
       "      <th>group_comparison</th>\n",
       "      <td>string</td>\n",
       "      <td></td>\n",
       "      <td></td>\n",
       "      <td></td>\n",
       "      <td></td>\n",
       "      <td>False</td>\n",
       "    </tr>\n",
       "    <tr>\n",
       "      <th>page_size</th>\n",
       "      <td>integer</td>\n",
       "      <td>Results per page</td>\n",
       "      <td>1</td>\n",
       "      <td></td>\n",
       "      <td>10.0</td>\n",
       "      <td>False</td>\n",
       "    </tr>\n",
       "    <tr>\n",
       "      <th>page</th>\n",
       "      <td>integer</td>\n",
       "      <td>Page number (starting with 1)</td>\n",
       "      <td>1</td>\n",
       "      <td></td>\n",
       "      <td>1.0</td>\n",
       "      <td>False</td>\n",
       "    </tr>\n",
       "  </tbody>\n",
       "</table>\n",
       "</div>"
      ],
      "text/plain": [
       "                                data type                    description  \\\n",
       "parameter name                                                             \n",
       "experiment_id                     integer                                  \n",
       "term                               string                                  \n",
       "accession                          string                                  \n",
       "genes_tot                         integer                                  \n",
       "stat_non_dir_p                     number                                  \n",
       "p_adj_non_dir                      number                                  \n",
       "significant_in_gene_set           integer                                  \n",
       "non_significant_in_gene_set       integer                                  \n",
       "significant_not_in_gene_set       integer                                  \n",
       "non_significant_not_in_gene_set   integer                                  \n",
       "effect_size                        number                                  \n",
       "gsea_type                          string                                  \n",
       "group_comparison                   string                                  \n",
       "page_size                         integer               Results per page   \n",
       "page                              integer  Page number (starting with 1)   \n",
       "\n",
       "                                                    example options default  \\\n",
       "parameter name                                                                \n",
       "experiment_id                                                                 \n",
       "term                                             GO:0001774                   \n",
       "accession                        microglial cell activation                   \n",
       "genes_tot                                                                     \n",
       "stat_non_dir_p                                                                \n",
       "p_adj_non_dir                                                                 \n",
       "significant_in_gene_set                                                       \n",
       "non_significant_in_gene_set                                                   \n",
       "significant_not_in_gene_set                                                   \n",
       "non_significant_not_in_gene_set                                               \n",
       "effect_size                                                                   \n",
       "gsea_type                                                                     \n",
       "group_comparison                                                              \n",
       "page_size                                                 1            10.0   \n",
       "page                                                      1             1.0   \n",
       "\n",
       "                                 required  \n",
       "parameter name                             \n",
       "experiment_id                       False  \n",
       "term                                False  \n",
       "accession                           False  \n",
       "genes_tot                           False  \n",
       "stat_non_dir_p                      False  \n",
       "p_adj_non_dir                       False  \n",
       "significant_in_gene_set             False  \n",
       "non_significant_in_gene_set         False  \n",
       "significant_not_in_gene_set         False  \n",
       "non_significant_not_in_gene_set     False  \n",
       "effect_size                         False  \n",
       "gsea_type                           False  \n",
       "group_comparison                    False  \n",
       "page_size                           False  \n",
       "page                                False  "
      ]
     },
     "metadata": {},
     "output_type": "display_data"
    },
    {
     "data": {
      "text/html": [
       "<b>Example URL:</b> <a href=\"http://0.0.0.0:5000/api/v1/expression_atlas/gsea?term=GO%3A0001774&accession=microglial+cell+activation&page_size=1&page=1\">http://0.0.0.0:5000/api/v1/expression_atlas/gsea?term=GO%3A0001774&accession=microglial+cell+activation&page_size=1&page=1</a>"
      ],
      "text/plain": [
       "<IPython.core.display.HTML object>"
      ]
     },
     "metadata": {},
     "output_type": "display_data"
    },
    {
     "data": {
      "text/html": [
       "<b style=\"color: rgb(98,98,98); text-decoration: underline;\">Example response:</b>"
      ],
      "text/plain": [
       "<IPython.core.display.HTML object>"
      ]
     },
     "metadata": {},
     "output_type": "display_data"
    },
    {
     "name": "stdout",
     "output_type": "stream",
     "text": [
      "{\u001b[38;5;124m'\u001b[39m\u001b[38;5;124mnumber_of_results\u001b[39m\u001b[38;5;124m'\u001b[39m: \u001b[38;5;241m60\u001b[39m,\n",
      " \u001b[38;5;124m'\u001b[39m\u001b[38;5;124mpage\u001b[39m\u001b[38;5;124m'\u001b[39m: \u001b[38;5;241m1\u001b[39m,\n",
      " \u001b[38;5;124m'\u001b[39m\u001b[38;5;124mpage_size\u001b[39m\u001b[38;5;124m'\u001b[39m: \u001b[38;5;241m1\u001b[39m,\n",
      " \u001b[38;5;124m'\u001b[39m\u001b[38;5;124mpages\u001b[39m\u001b[38;5;124m'\u001b[39m: \u001b[38;5;241m60\u001b[39m,\n",
      " \u001b[38;5;124m'\u001b[39m\u001b[38;5;124mresults\u001b[39m\u001b[38;5;124m'\u001b[39m: [{\u001b[38;5;124m'\u001b[39m\u001b[38;5;124maccession\u001b[39m\u001b[38;5;124m'\u001b[39m: \u001b[38;5;124m'\u001b[39m\u001b[38;5;124mmicroglial cell activation\u001b[39m\u001b[38;5;124m'\u001b[39m,\n",
      "              \u001b[38;5;124m'\u001b[39m\u001b[38;5;124meffect_size\u001b[39m\u001b[38;5;124m'\u001b[39m: \u001b[38;5;241m8.50407\u001b[39m,\n",
      "              \u001b[38;5;124m'\u001b[39m\u001b[38;5;124mgenes_tot\u001b[39m\u001b[38;5;124m'\u001b[39m: \u001b[38;5;241m20\u001b[39m,\n",
      "              \u001b[38;5;124m'\u001b[39m\u001b[38;5;124mgroup_comparison_id\u001b[39m\u001b[38;5;124m'\u001b[39m: \u001b[38;5;241m7422\u001b[39m,\n",
      "              \u001b[38;5;124m'\u001b[39m\u001b[38;5;124mgsea_type\u001b[39m\u001b[38;5;124m'\u001b[39m: \u001b[38;5;124m'\u001b[39m\u001b[38;5;124mgo\u001b[39m\u001b[38;5;124m'\u001b[39m,\n",
      "              \u001b[38;5;124m'\u001b[39m\u001b[38;5;124mid\u001b[39m\u001b[38;5;124m'\u001b[39m: \u001b[38;5;241m246531\u001b[39m,\n",
      "              \u001b[38;5;124m'\u001b[39m\u001b[38;5;124mnon_significant_in_gene_set\u001b[39m\u001b[38;5;124m'\u001b[39m: \u001b[38;5;241m5\u001b[39m,\n",
      "              \u001b[38;5;124m'\u001b[39m\u001b[38;5;124mnon_significant_not_in_gene_set\u001b[39m\u001b[38;5;124m'\u001b[39m: \u001b[38;5;241m9517\u001b[39m,\n",
      "              \u001b[38;5;124m'\u001b[39m\u001b[38;5;124mp_adj_non_dir\u001b[39m\u001b[38;5;124m'\u001b[39m: \u001b[38;5;241m1.36751e-09\u001b[39m,\n",
      "              \u001b[38;5;124m'\u001b[39m\u001b[38;5;124msignificant_in_gene_set\u001b[39m\u001b[38;5;124m'\u001b[39m: \u001b[38;5;241m15\u001b[39m,\n",
      "              \u001b[38;5;124m'\u001b[39m\u001b[38;5;124msignificant_not_in_gene_set\u001b[39m\u001b[38;5;124m'\u001b[39m: \u001b[38;5;241m906\u001b[39m,\n",
      "              \u001b[38;5;124m'\u001b[39m\u001b[38;5;124mstat_non_dir_p\u001b[39m\u001b[38;5;124m'\u001b[39m: \u001b[38;5;241m1.38728e-12\u001b[39m,\n",
      "              \u001b[38;5;124m'\u001b[39m\u001b[38;5;124mterm\u001b[39m\u001b[38;5;124m'\u001b[39m: \u001b[38;5;124m'\u001b[39m\u001b[38;5;124mGO:0001774\u001b[39m\u001b[38;5;124m'\u001b[39m}]}\n",
      "\n",
      "For further testing go to http://0.0.0.0:5000/ui/#/Expression Atlas/ebel.web.api.ebel.v1.expression_atlas.get_gsea\n"
     ]
    },
    {
     "data": {
      "text/html": [
       "<h2>5. Expression Atlas IDF</h2>"
      ],
      "text/plain": [
       "<IPython.core.display.HTML object>"
      ]
     },
     "metadata": {},
     "output_type": "display_data"
    },
    {
     "data": {
      "text/html": [
       "<b style=\"color: rgb(98,98,98); text-decoration: underline;\">Description:</b> <p>Expression Atlas IDF</p>"
      ],
      "text/plain": [
       "<IPython.core.display.HTML object>"
      ]
     },
     "metadata": {},
     "output_type": "display_data"
    },
    {
     "data": {
      "text/html": [
       "<b>Tags:</b> ['Expression Atlas']"
      ],
      "text/plain": [
       "<IPython.core.display.HTML object>"
      ]
     },
     "metadata": {},
     "output_type": "display_data"
    },
    {
     "data": {
      "text/html": [
       "<b>Server path:</b> /api/v1/expression_atlas/idf"
      ],
      "text/plain": [
       "<IPython.core.display.HTML object>"
      ]
     },
     "metadata": {},
     "output_type": "display_data"
    },
    {
     "data": {
      "text/html": [
       "<div>\n",
       "<style scoped>\n",
       "    .dataframe tbody tr th:only-of-type {\n",
       "        vertical-align: middle;\n",
       "    }\n",
       "\n",
       "    .dataframe tbody tr th {\n",
       "        vertical-align: top;\n",
       "    }\n",
       "\n",
       "    .dataframe thead th {\n",
       "        text-align: right;\n",
       "    }\n",
       "</style>\n",
       "<table border=\"1\" class=\"dataframe\">\n",
       "  <thead>\n",
       "    <tr style=\"text-align: right;\">\n",
       "      <th></th>\n",
       "      <th>data type</th>\n",
       "      <th>description</th>\n",
       "      <th>example</th>\n",
       "      <th>options</th>\n",
       "      <th>default</th>\n",
       "      <th>required</th>\n",
       "    </tr>\n",
       "    <tr>\n",
       "      <th>parameter name</th>\n",
       "      <th></th>\n",
       "      <th></th>\n",
       "      <th></th>\n",
       "      <th></th>\n",
       "      <th></th>\n",
       "      <th></th>\n",
       "    </tr>\n",
       "  </thead>\n",
       "  <tbody>\n",
       "    <tr>\n",
       "      <th>key_name</th>\n",
       "      <td>string</td>\n",
       "      <td></td>\n",
       "      <td>protocol_description</td>\n",
       "      <td></td>\n",
       "      <td></td>\n",
       "      <td>False</td>\n",
       "    </tr>\n",
       "    <tr>\n",
       "      <th>value</th>\n",
       "      <td>string</td>\n",
       "      <td></td>\n",
       "      <td>%microglia%</td>\n",
       "      <td></td>\n",
       "      <td></td>\n",
       "      <td>False</td>\n",
       "    </tr>\n",
       "    <tr>\n",
       "      <th>experiment_id</th>\n",
       "      <td>integer</td>\n",
       "      <td></td>\n",
       "      <td>1305</td>\n",
       "      <td></td>\n",
       "      <td></td>\n",
       "      <td>False</td>\n",
       "    </tr>\n",
       "    <tr>\n",
       "      <th>page_size</th>\n",
       "      <td>integer</td>\n",
       "      <td>Results per page</td>\n",
       "      <td>1</td>\n",
       "      <td></td>\n",
       "      <td>10.0</td>\n",
       "      <td>False</td>\n",
       "    </tr>\n",
       "    <tr>\n",
       "      <th>page</th>\n",
       "      <td>integer</td>\n",
       "      <td>Page number (starting with 1)</td>\n",
       "      <td>1</td>\n",
       "      <td></td>\n",
       "      <td>1.0</td>\n",
       "      <td>False</td>\n",
       "    </tr>\n",
       "  </tbody>\n",
       "</table>\n",
       "</div>"
      ],
      "text/plain": [
       "               data type                    description               example  \\\n",
       "parameter name                                                                  \n",
       "key_name          string                                 protocol_description   \n",
       "value             string                                          %microglia%   \n",
       "experiment_id    integer                                                 1305   \n",
       "page_size        integer               Results per page                     1   \n",
       "page             integer  Page number (starting with 1)                     1   \n",
       "\n",
       "               options default  required  \n",
       "parameter name                            \n",
       "key_name                           False  \n",
       "value                              False  \n",
       "experiment_id                      False  \n",
       "page_size                 10.0     False  \n",
       "page                       1.0     False  "
      ]
     },
     "metadata": {},
     "output_type": "display_data"
    },
    {
     "data": {
      "text/html": [
       "<b>Example URL:</b> <a href=\"http://0.0.0.0:5000/api/v1/expression_atlas/idf?key_name=protocol_description&value=%25microglia%25&experiment_id=1305&page_size=1&page=1\">http://0.0.0.0:5000/api/v1/expression_atlas/idf?key_name=protocol_description&value=%25microglia%25&experiment_id=1305&page_size=1&page=1</a>"
      ],
      "text/plain": [
       "<IPython.core.display.HTML object>"
      ]
     },
     "metadata": {},
     "output_type": "display_data"
    },
    {
     "data": {
      "text/html": [
       "<b style=\"color: rgb(98,98,98); text-decoration: underline;\">Example response:</b>"
      ],
      "text/plain": [
       "<IPython.core.display.HTML object>"
      ]
     },
     "metadata": {},
     "output_type": "display_data"
    },
    {
     "name": "stdout",
     "output_type": "stream",
     "text": [
      "{\u001b[38;5;124m'\u001b[39m\u001b[38;5;124mnumber_of_results\u001b[39m\u001b[38;5;124m'\u001b[39m: \u001b[38;5;241m0\u001b[39m, \u001b[38;5;124m'\u001b[39m\u001b[38;5;124mpage\u001b[39m\u001b[38;5;124m'\u001b[39m: \u001b[38;5;241m1\u001b[39m, \u001b[38;5;124m'\u001b[39m\u001b[38;5;124mpage_size\u001b[39m\u001b[38;5;124m'\u001b[39m: \u001b[38;5;241m1\u001b[39m, \u001b[38;5;124m'\u001b[39m\u001b[38;5;124mpages\u001b[39m\u001b[38;5;124m'\u001b[39m: \u001b[38;5;241m0\u001b[39m, \u001b[38;5;124m'\u001b[39m\u001b[38;5;124mresults\u001b[39m\u001b[38;5;124m'\u001b[39m: []}\n",
      "\n",
      "For further testing go to http://0.0.0.0:5000/ui/#/Expression Atlas/ebel.web.api.ebel.v1.expression_atlas.get_idf\n"
     ]
    },
    {
     "data": {
      "text/html": [
       "<h2>6. Get most common GO term by group comparison ids</h2>"
      ],
      "text/plain": [
       "<IPython.core.display.HTML object>"
      ]
     },
     "metadata": {},
     "output_type": "display_data"
    },
    {
     "data": {
      "text/html": [
       "<b style=\"color: rgb(98,98,98); text-decoration: underline;\">Description:</b> <p>Get most common GO term by group comparison ids. Note: Only p_adj_non_dir values &lt;= 0.05 are available.</p>"
      ],
      "text/plain": [
       "<IPython.core.display.HTML object>"
      ]
     },
     "metadata": {},
     "output_type": "display_data"
    },
    {
     "data": {
      "text/html": [
       "<b>Tags:</b> ['Expression Atlas']"
      ],
      "text/plain": [
       "<IPython.core.display.HTML object>"
      ]
     },
     "metadata": {},
     "output_type": "display_data"
    },
    {
     "data": {
      "text/html": [
       "<b>Server path:</b> /api/v1/expression_atlas/most_common_gseas_by_group_comparison_ids"
      ],
      "text/plain": [
       "<IPython.core.display.HTML object>"
      ]
     },
     "metadata": {},
     "output_type": "display_data"
    },
    {
     "data": {
      "text/html": [
       "<div>\n",
       "<style scoped>\n",
       "    .dataframe tbody tr th:only-of-type {\n",
       "        vertical-align: middle;\n",
       "    }\n",
       "\n",
       "    .dataframe tbody tr th {\n",
       "        vertical-align: top;\n",
       "    }\n",
       "\n",
       "    .dataframe thead th {\n",
       "        text-align: right;\n",
       "    }\n",
       "</style>\n",
       "<table border=\"1\" class=\"dataframe\">\n",
       "  <thead>\n",
       "    <tr style=\"text-align: right;\">\n",
       "      <th></th>\n",
       "      <th>data type</th>\n",
       "      <th>description</th>\n",
       "      <th>example</th>\n",
       "      <th>options</th>\n",
       "      <th>default</th>\n",
       "      <th>required</th>\n",
       "    </tr>\n",
       "    <tr>\n",
       "      <th>parameter name</th>\n",
       "      <th></th>\n",
       "      <th></th>\n",
       "      <th></th>\n",
       "      <th></th>\n",
       "      <th></th>\n",
       "      <th></th>\n",
       "    </tr>\n",
       "  </thead>\n",
       "  <tbody>\n",
       "    <tr>\n",
       "      <th>group_comparison_ids</th>\n",
       "      <td>string</td>\n",
       "      <td></td>\n",
       "      <td>7813,5191,6312,6568,3839,5063,4967,5068,4141,4...</td>\n",
       "      <td></td>\n",
       "      <td></td>\n",
       "      <td>True</td>\n",
       "    </tr>\n",
       "    <tr>\n",
       "      <th>gsea_type</th>\n",
       "      <td>string</td>\n",
       "      <td></td>\n",
       "      <td>go</td>\n",
       "      <td>[go, reactome, interpro]</td>\n",
       "      <td></td>\n",
       "      <td>False</td>\n",
       "    </tr>\n",
       "    <tr>\n",
       "      <th>p_adj_non_dir</th>\n",
       "      <td>number</td>\n",
       "      <td></td>\n",
       "      <td>0.05</td>\n",
       "      <td></td>\n",
       "      <td></td>\n",
       "      <td>False</td>\n",
       "    </tr>\n",
       "  </tbody>\n",
       "</table>\n",
       "</div>"
      ],
      "text/plain": [
       "                     data type description  \\\n",
       "parameter name                               \n",
       "group_comparison_ids    string               \n",
       "gsea_type               string               \n",
       "p_adj_non_dir           number               \n",
       "\n",
       "                                                                example  \\\n",
       "parameter name                                                            \n",
       "group_comparison_ids  7813,5191,6312,6568,3839,5063,4967,5068,4141,4...   \n",
       "gsea_type                                                            go   \n",
       "p_adj_non_dir                                                      0.05   \n",
       "\n",
       "                                       options default  required  \n",
       "parameter name                                                    \n",
       "group_comparison_ids                                        True  \n",
       "gsea_type             [go, reactome, interpro]             False  \n",
       "p_adj_non_dir                                              False  "
      ]
     },
     "metadata": {},
     "output_type": "display_data"
    },
    {
     "data": {
      "text/html": [
       "<b>Example URL:</b> <a href=\"http://0.0.0.0:5000/api/v1/expression_atlas/most_common_gseas_by_group_comparison_ids?group_comparison_ids=7813%2C5191%2C6312%2C6568%2C3839%2C5063%2C4967%2C5068%2C4141%2C4143%2C5492%2C1469%2C1470&gsea_type=go&p_adj_non_dir=0.05\">http://0.0.0.0:5000/api/v1/expression_atlas/most_common_gseas_by_group_comparison_ids?group_comparison_ids=7813%2C5191%2C6312%2C6568%2C3839%2C5063%2C4967%2C5068%2C4141%2C4143%2C5492%2C1469%2C1470&gsea_type=go&p_adj_non_dir=0.05</a>"
      ],
      "text/plain": [
       "<IPython.core.display.HTML object>"
      ]
     },
     "metadata": {},
     "output_type": "display_data"
    },
    {
     "name": "stdout",
     "output_type": "stream",
     "text": [
      "\n",
      "The result is a list and have 37 entries. Here we show only the first entry.\n",
      "\n"
     ]
    },
    {
     "data": {
      "text/html": [
       "<b style=\"color: rgb(98,98,98); text-decoration: underline;\">Example response:</b>"
      ],
      "text/plain": [
       "<IPython.core.display.HTML object>"
      ]
     },
     "metadata": {},
     "output_type": "display_data"
    },
    {
     "name": "stdout",
     "output_type": "stream",
     "text": [
      "{\u001b[38;5;124m'\u001b[39m\u001b[38;5;124maccession\u001b[39m\u001b[38;5;124m'\u001b[39m: \u001b[38;5;124m'\u001b[39m\u001b[38;5;124mribosome biogenesis\u001b[39m\u001b[38;5;124m'\u001b[39m,\n",
      " \u001b[38;5;124m'\u001b[39m\u001b[38;5;124moccurence\u001b[39m\u001b[38;5;124m'\u001b[39m: \u001b[38;5;241m3\u001b[39m,\n",
      " \u001b[38;5;124m'\u001b[39m\u001b[38;5;124mterm\u001b[39m\u001b[38;5;124m'\u001b[39m: \u001b[38;5;124m'\u001b[39m\u001b[38;5;124mGO:0042254\u001b[39m\u001b[38;5;124m'\u001b[39m,\n",
      " \u001b[38;5;124m'\u001b[39m\u001b[38;5;124mtype\u001b[39m\u001b[38;5;124m'\u001b[39m: \u001b[38;5;124m'\u001b[39m\u001b[38;5;124mgo\u001b[39m\u001b[38;5;124m'\u001b[39m}\n",
      "\n",
      "For further testing go to http://0.0.0.0:5000/ui/#/Expression Atlas/ebel.web.api.ebel.v1.expression_atlas.get_most_common_gseas_by_group_comparison_ids\n"
     ]
    },
    {
     "data": {
      "text/html": [
       "<h2>7. Expression Atlas SDRF condensed</h2>"
      ],
      "text/plain": [
       "<IPython.core.display.HTML object>"
      ]
     },
     "metadata": {},
     "output_type": "display_data"
    },
    {
     "data": {
      "text/html": [
       "<b style=\"color: rgb(98,98,98); text-decoration: underline;\">Description:</b> <p>Expression Atlas SDRF (Sample and Data Relationship Format) condensed</p>"
      ],
      "text/plain": [
       "<IPython.core.display.HTML object>"
      ]
     },
     "metadata": {},
     "output_type": "display_data"
    },
    {
     "data": {
      "text/html": [
       "<b>Tags:</b> ['Expression Atlas']"
      ],
      "text/plain": [
       "<IPython.core.display.HTML object>"
      ]
     },
     "metadata": {},
     "output_type": "display_data"
    },
    {
     "data": {
      "text/html": [
       "<b>Server path:</b> /api/v1/expression_atlas/sdrf_condensed"
      ],
      "text/plain": [
       "<IPython.core.display.HTML object>"
      ]
     },
     "metadata": {},
     "output_type": "display_data"
    },
    {
     "data": {
      "text/html": [
       "<div>\n",
       "<style scoped>\n",
       "    .dataframe tbody tr th:only-of-type {\n",
       "        vertical-align: middle;\n",
       "    }\n",
       "\n",
       "    .dataframe tbody tr th {\n",
       "        vertical-align: top;\n",
       "    }\n",
       "\n",
       "    .dataframe thead th {\n",
       "        text-align: right;\n",
       "    }\n",
       "</style>\n",
       "<table border=\"1\" class=\"dataframe\">\n",
       "  <thead>\n",
       "    <tr style=\"text-align: right;\">\n",
       "      <th></th>\n",
       "      <th>data type</th>\n",
       "      <th>description</th>\n",
       "      <th>example</th>\n",
       "      <th>options</th>\n",
       "      <th>default</th>\n",
       "      <th>required</th>\n",
       "    </tr>\n",
       "    <tr>\n",
       "      <th>parameter name</th>\n",
       "      <th></th>\n",
       "      <th></th>\n",
       "      <th></th>\n",
       "      <th></th>\n",
       "      <th></th>\n",
       "      <th></th>\n",
       "    </tr>\n",
       "  </thead>\n",
       "  <tbody>\n",
       "    <tr>\n",
       "      <th>experiment_id</th>\n",
       "      <td>integer</td>\n",
       "      <td></td>\n",
       "      <td>79.0</td>\n",
       "      <td></td>\n",
       "      <td></td>\n",
       "      <td>False</td>\n",
       "    </tr>\n",
       "    <tr>\n",
       "      <th>method</th>\n",
       "      <td>string</td>\n",
       "      <td></td>\n",
       "      <td></td>\n",
       "      <td></td>\n",
       "      <td></td>\n",
       "      <td>False</td>\n",
       "    </tr>\n",
       "    <tr>\n",
       "      <th>sample</th>\n",
       "      <td>string</td>\n",
       "      <td></td>\n",
       "      <td></td>\n",
       "      <td></td>\n",
       "      <td></td>\n",
       "      <td>False</td>\n",
       "    </tr>\n",
       "    <tr>\n",
       "      <th>parameter_type</th>\n",
       "      <td>string</td>\n",
       "      <td></td>\n",
       "      <td></td>\n",
       "      <td></td>\n",
       "      <td></td>\n",
       "      <td>False</td>\n",
       "    </tr>\n",
       "    <tr>\n",
       "      <th>parameter</th>\n",
       "      <td>string</td>\n",
       "      <td></td>\n",
       "      <td></td>\n",
       "      <td></td>\n",
       "      <td></td>\n",
       "      <td>False</td>\n",
       "    </tr>\n",
       "    <tr>\n",
       "      <th>value</th>\n",
       "      <td>string</td>\n",
       "      <td></td>\n",
       "      <td></td>\n",
       "      <td></td>\n",
       "      <td></td>\n",
       "      <td>False</td>\n",
       "    </tr>\n",
       "    <tr>\n",
       "      <th>url</th>\n",
       "      <td>string</td>\n",
       "      <td></td>\n",
       "      <td></td>\n",
       "      <td></td>\n",
       "      <td></td>\n",
       "      <td>False</td>\n",
       "    </tr>\n",
       "    <tr>\n",
       "      <th>page_size</th>\n",
       "      <td>integer</td>\n",
       "      <td>Results per page</td>\n",
       "      <td>1.0</td>\n",
       "      <td></td>\n",
       "      <td>10.0</td>\n",
       "      <td>False</td>\n",
       "    </tr>\n",
       "    <tr>\n",
       "      <th>page</th>\n",
       "      <td>integer</td>\n",
       "      <td>Page number (starting with 1)</td>\n",
       "      <td>1.0</td>\n",
       "      <td></td>\n",
       "      <td>1.0</td>\n",
       "      <td>False</td>\n",
       "    </tr>\n",
       "  </tbody>\n",
       "</table>\n",
       "</div>"
      ],
      "text/plain": [
       "               data type                    description example options  \\\n",
       "parameter name                                                            \n",
       "experiment_id    integer                                   79.0           \n",
       "method            string                                                  \n",
       "sample            string                                                  \n",
       "parameter_type    string                                                  \n",
       "parameter         string                                                  \n",
       "value             string                                                  \n",
       "url               string                                                  \n",
       "page_size        integer               Results per page     1.0           \n",
       "page             integer  Page number (starting with 1)     1.0           \n",
       "\n",
       "               default  required  \n",
       "parameter name                    \n",
       "experiment_id              False  \n",
       "method                     False  \n",
       "sample                     False  \n",
       "parameter_type             False  \n",
       "parameter                  False  \n",
       "value                      False  \n",
       "url                        False  \n",
       "page_size         10.0     False  \n",
       "page               1.0     False  "
      ]
     },
     "metadata": {},
     "output_type": "display_data"
    },
    {
     "data": {
      "text/html": [
       "<b>Example URL:</b> <a href=\"http://0.0.0.0:5000/api/v1/expression_atlas/sdrf_condensed?experiment_id=79&page_size=1&page=1\">http://0.0.0.0:5000/api/v1/expression_atlas/sdrf_condensed?experiment_id=79&page_size=1&page=1</a>"
      ],
      "text/plain": [
       "<IPython.core.display.HTML object>"
      ]
     },
     "metadata": {},
     "output_type": "display_data"
    },
    {
     "data": {
      "text/html": [
       "<b style=\"color: rgb(98,98,98); text-decoration: underline;\">Example response:</b>"
      ],
      "text/plain": [
       "<IPython.core.display.HTML object>"
      ]
     },
     "metadata": {},
     "output_type": "display_data"
    },
    {
     "name": "stdout",
     "output_type": "stream",
     "text": [
      "{\u001b[38;5;124m'\u001b[39m\u001b[38;5;124mnumber_of_results\u001b[39m\u001b[38;5;124m'\u001b[39m: \u001b[38;5;241m48\u001b[39m,\n",
      " \u001b[38;5;124m'\u001b[39m\u001b[38;5;124mpage\u001b[39m\u001b[38;5;124m'\u001b[39m: \u001b[38;5;241m1\u001b[39m,\n",
      " \u001b[38;5;124m'\u001b[39m\u001b[38;5;124mpage_size\u001b[39m\u001b[38;5;124m'\u001b[39m: \u001b[38;5;241m1\u001b[39m,\n",
      " \u001b[38;5;124m'\u001b[39m\u001b[38;5;124mpages\u001b[39m\u001b[38;5;124m'\u001b[39m: \u001b[38;5;241m48\u001b[39m,\n",
      " \u001b[38;5;124m'\u001b[39m\u001b[38;5;124mresults\u001b[39m\u001b[38;5;124m'\u001b[39m: [{\u001b[38;5;124m'\u001b[39m\u001b[38;5;124mexperiment_id\u001b[39m\u001b[38;5;124m'\u001b[39m: \u001b[38;5;241m79\u001b[39m,\n",
      "              \u001b[38;5;124m'\u001b[39m\u001b[38;5;124mid\u001b[39m\u001b[38;5;124m'\u001b[39m: \u001b[38;5;241m11802\u001b[39m,\n",
      "              \u001b[38;5;124m'\u001b[39m\u001b[38;5;124mmethod\u001b[39m\u001b[38;5;124m'\u001b[39m: \u001b[38;5;124m'\u001b[39m\u001b[38;5;124mA-AFFY-45\u001b[39m\u001b[38;5;124m'\u001b[39m,\n",
      "              \u001b[38;5;124m'\u001b[39m\u001b[38;5;124mparameter\u001b[39m\u001b[38;5;124m'\u001b[39m: \u001b[38;5;124m'\u001b[39m\u001b[38;5;124mgenotype\u001b[39m\u001b[38;5;124m'\u001b[39m,\n",
      "              \u001b[38;5;124m'\u001b[39m\u001b[38;5;124mparameter_type\u001b[39m\u001b[38;5;124m'\u001b[39m: \u001b[38;5;124m'\u001b[39m\u001b[38;5;124mcharacteristic\u001b[39m\u001b[38;5;124m'\u001b[39m,\n",
      "              \u001b[38;5;124m'\u001b[39m\u001b[38;5;124msample\u001b[39m\u001b[38;5;124m'\u001b[39m: \u001b[38;5;124m'\u001b[39m\u001b[38;5;124mGSM450315\u001b[39m\u001b[38;5;124m'\u001b[39m,\n",
      "              \u001b[38;5;124m'\u001b[39m\u001b[38;5;124murl\u001b[39m\u001b[38;5;124m'\u001b[39m: \u001b[38;5;28;01mNone\u001b[39;00m,\n",
      "              \u001b[38;5;124m'\u001b[39m\u001b[38;5;124mvalue\u001b[39m\u001b[38;5;124m'\u001b[39m: \u001b[38;5;124m'\u001b[39m\u001b[38;5;124mwild type\u001b[39m\u001b[38;5;124m'\u001b[39m}]}\n",
      "\n",
      "For further testing go to http://0.0.0.0:5000/ui/#/Expression Atlas/ebel.web.api.ebel.v1.expression_atlas.get_sdrf_condensed\n"
     ]
    }
   ],
   "source": [
    "import api_doc\n",
    "api_doc.get_api_methods_by_tag('Expression Atlas')"
   ]
  }
 ],
 "metadata": {
  "kernelspec": {
   "display_name": "Python 3 (ipykernel)",
   "language": "python",
   "name": "python3"
  },
  "language_info": {
   "codemirror_mode": {
    "name": "ipython",
    "version": 3
   },
   "file_extension": ".py",
   "mimetype": "text/x-python",
   "name": "python",
   "nbconvert_exporter": "python",
   "pygments_lexer": "ipython3",
   "version": "3.8.10"
  },
  "toc": {
   "base_numbering": 1,
   "nav_menu": {},
   "number_sections": true,
   "sideBar": true,
   "skip_h1_title": true,
   "title_cell": "Table of Contents",
   "title_sidebar": "Contents",
   "toc_cell": false,
   "toc_position": {},
   "toc_section_display": true,
   "toc_window_display": false
  }
 },
 "nbformat": 4,
 "nbformat_minor": 5
}
