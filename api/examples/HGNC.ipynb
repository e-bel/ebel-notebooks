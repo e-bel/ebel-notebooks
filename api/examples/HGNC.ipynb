{
 "cells": [
  {
   "cell_type": "markdown",
   "id": "bf137ffa",
   "metadata": {},
   "source": [
    "# HGNC API methods"
   ]
  },
  {
   "cell_type": "code",
   "execution_count": 1,
   "id": "47e282e4",
   "metadata": {
    "scrolled": false
   },
   "outputs": [
    {
     "data": {
      "text/html": [
       "<h2>1. Get HGNC</h2>"
      ],
      "text/plain": [
       "<IPython.core.display.HTML object>"
      ]
     },
     "metadata": {},
     "output_type": "display_data"
    },
    {
     "data": {
      "text/html": [
       "<b style=\"color: rgb(98,98,98); text-decoration: underline;\">Description:</b> <p>Get HGNC</p>"
      ],
      "text/plain": [
       "<IPython.core.display.HTML object>"
      ]
     },
     "metadata": {},
     "output_type": "display_data"
    },
    {
     "data": {
      "text/html": [
       "<b>Tags:</b> ['HGNC']"
      ],
      "text/plain": [
       "<IPython.core.display.HTML object>"
      ]
     },
     "metadata": {},
     "output_type": "display_data"
    },
    {
     "data": {
      "text/html": [
       "<b>Server path:</b> /api/v1/hgnc"
      ],
      "text/plain": [
       "<IPython.core.display.HTML object>"
      ]
     },
     "metadata": {},
     "output_type": "display_data"
    },
    {
     "data": {
      "text/html": [
       "<div>\n",
       "<style scoped>\n",
       "    .dataframe tbody tr th:only-of-type {\n",
       "        vertical-align: middle;\n",
       "    }\n",
       "\n",
       "    .dataframe tbody tr th {\n",
       "        vertical-align: top;\n",
       "    }\n",
       "\n",
       "    .dataframe thead th {\n",
       "        text-align: right;\n",
       "    }\n",
       "</style>\n",
       "<table border=\"1\" class=\"dataframe\">\n",
       "  <thead>\n",
       "    <tr style=\"text-align: right;\">\n",
       "      <th></th>\n",
       "      <th>data type</th>\n",
       "      <th>description</th>\n",
       "      <th>example</th>\n",
       "      <th>options</th>\n",
       "      <th>default</th>\n",
       "      <th>required</th>\n",
       "    </tr>\n",
       "    <tr>\n",
       "      <th>parameter name</th>\n",
       "      <th></th>\n",
       "      <th></th>\n",
       "      <th></th>\n",
       "      <th></th>\n",
       "      <th></th>\n",
       "      <th></th>\n",
       "    </tr>\n",
       "  </thead>\n",
       "  <tbody>\n",
       "    <tr>\n",
       "      <th>hgnc_id</th>\n",
       "      <td>string</td>\n",
       "      <td></td>\n",
       "      <td></td>\n",
       "      <td></td>\n",
       "      <td></td>\n",
       "      <td>False</td>\n",
       "    </tr>\n",
       "    <tr>\n",
       "      <th>version</th>\n",
       "      <td>string</td>\n",
       "      <td></td>\n",
       "      <td></td>\n",
       "      <td></td>\n",
       "      <td></td>\n",
       "      <td>False</td>\n",
       "    </tr>\n",
       "    <tr>\n",
       "      <th>bioparadigms_slc</th>\n",
       "      <td>string</td>\n",
       "      <td></td>\n",
       "      <td></td>\n",
       "      <td></td>\n",
       "      <td></td>\n",
       "      <td>False</td>\n",
       "    </tr>\n",
       "    <tr>\n",
       "      <th>cd</th>\n",
       "      <td>string</td>\n",
       "      <td></td>\n",
       "      <td></td>\n",
       "      <td></td>\n",
       "      <td></td>\n",
       "      <td>False</td>\n",
       "    </tr>\n",
       "    <tr>\n",
       "      <th>cosmic</th>\n",
       "      <td>string</td>\n",
       "      <td></td>\n",
       "      <td></td>\n",
       "      <td></td>\n",
       "      <td></td>\n",
       "      <td>False</td>\n",
       "    </tr>\n",
       "    <tr>\n",
       "      <th>date_approved_reserved</th>\n",
       "      <td>string</td>\n",
       "      <td></td>\n",
       "      <td></td>\n",
       "      <td></td>\n",
       "      <td></td>\n",
       "      <td>False</td>\n",
       "    </tr>\n",
       "    <tr>\n",
       "      <th>date_modified</th>\n",
       "      <td>string</td>\n",
       "      <td></td>\n",
       "      <td></td>\n",
       "      <td></td>\n",
       "      <td></td>\n",
       "      <td>False</td>\n",
       "    </tr>\n",
       "    <tr>\n",
       "      <th>date_name_changed</th>\n",
       "      <td>string</td>\n",
       "      <td></td>\n",
       "      <td></td>\n",
       "      <td></td>\n",
       "      <td></td>\n",
       "      <td>False</td>\n",
       "    </tr>\n",
       "    <tr>\n",
       "      <th>date_symbol_changed</th>\n",
       "      <td>string</td>\n",
       "      <td></td>\n",
       "      <td></td>\n",
       "      <td></td>\n",
       "      <td></td>\n",
       "      <td>False</td>\n",
       "    </tr>\n",
       "    <tr>\n",
       "      <th>ensembl_gene_id</th>\n",
       "      <td>string</td>\n",
       "      <td></td>\n",
       "      <td></td>\n",
       "      <td></td>\n",
       "      <td></td>\n",
       "      <td>False</td>\n",
       "    </tr>\n",
       "    <tr>\n",
       "      <th>entrez_id</th>\n",
       "      <td>string</td>\n",
       "      <td></td>\n",
       "      <td></td>\n",
       "      <td></td>\n",
       "      <td></td>\n",
       "      <td>False</td>\n",
       "    </tr>\n",
       "    <tr>\n",
       "      <th>homeodb</th>\n",
       "      <td>string</td>\n",
       "      <td></td>\n",
       "      <td></td>\n",
       "      <td></td>\n",
       "      <td></td>\n",
       "      <td>False</td>\n",
       "    </tr>\n",
       "    <tr>\n",
       "      <th>horde_id</th>\n",
       "      <td>string</td>\n",
       "      <td></td>\n",
       "      <td></td>\n",
       "      <td></td>\n",
       "      <td></td>\n",
       "      <td>False</td>\n",
       "    </tr>\n",
       "    <tr>\n",
       "      <th>imgt</th>\n",
       "      <td>string</td>\n",
       "      <td></td>\n",
       "      <td></td>\n",
       "      <td></td>\n",
       "      <td></td>\n",
       "      <td>False</td>\n",
       "    </tr>\n",
       "    <tr>\n",
       "      <th>intermediate_filament_db</th>\n",
       "      <td>string</td>\n",
       "      <td></td>\n",
       "      <td></td>\n",
       "      <td></td>\n",
       "      <td></td>\n",
       "      <td>False</td>\n",
       "    </tr>\n",
       "    <tr>\n",
       "      <th>iuphar</th>\n",
       "      <td>string</td>\n",
       "      <td></td>\n",
       "      <td></td>\n",
       "      <td></td>\n",
       "      <td></td>\n",
       "      <td>False</td>\n",
       "    </tr>\n",
       "    <tr>\n",
       "      <th>lncipedia</th>\n",
       "      <td>string</td>\n",
       "      <td></td>\n",
       "      <td></td>\n",
       "      <td></td>\n",
       "      <td></td>\n",
       "      <td>False</td>\n",
       "    </tr>\n",
       "    <tr>\n",
       "      <th>lncrnadb</th>\n",
       "      <td>string</td>\n",
       "      <td></td>\n",
       "      <td></td>\n",
       "      <td></td>\n",
       "      <td></td>\n",
       "      <td>False</td>\n",
       "    </tr>\n",
       "    <tr>\n",
       "      <th>location</th>\n",
       "      <td>string</td>\n",
       "      <td></td>\n",
       "      <td></td>\n",
       "      <td></td>\n",
       "      <td></td>\n",
       "      <td>False</td>\n",
       "    </tr>\n",
       "    <tr>\n",
       "      <th>location_sortable</th>\n",
       "      <td>string</td>\n",
       "      <td></td>\n",
       "      <td></td>\n",
       "      <td></td>\n",
       "      <td></td>\n",
       "      <td>False</td>\n",
       "    </tr>\n",
       "    <tr>\n",
       "      <th>locus_group</th>\n",
       "      <td>string</td>\n",
       "      <td></td>\n",
       "      <td></td>\n",
       "      <td></td>\n",
       "      <td></td>\n",
       "      <td>False</td>\n",
       "    </tr>\n",
       "    <tr>\n",
       "      <th>locus_type</th>\n",
       "      <td>string</td>\n",
       "      <td></td>\n",
       "      <td></td>\n",
       "      <td></td>\n",
       "      <td></td>\n",
       "      <td>False</td>\n",
       "    </tr>\n",
       "    <tr>\n",
       "      <th>mamit_trnadb</th>\n",
       "      <td>string</td>\n",
       "      <td></td>\n",
       "      <td></td>\n",
       "      <td></td>\n",
       "      <td></td>\n",
       "      <td>False</td>\n",
       "    </tr>\n",
       "    <tr>\n",
       "      <th>merops</th>\n",
       "      <td>string</td>\n",
       "      <td></td>\n",
       "      <td></td>\n",
       "      <td></td>\n",
       "      <td></td>\n",
       "      <td>False</td>\n",
       "    </tr>\n",
       "    <tr>\n",
       "      <th>mirbase</th>\n",
       "      <td>string</td>\n",
       "      <td></td>\n",
       "      <td></td>\n",
       "      <td></td>\n",
       "      <td></td>\n",
       "      <td>False</td>\n",
       "    </tr>\n",
       "    <tr>\n",
       "      <th>name</th>\n",
       "      <td>string</td>\n",
       "      <td></td>\n",
       "      <td></td>\n",
       "      <td></td>\n",
       "      <td></td>\n",
       "      <td>False</td>\n",
       "    </tr>\n",
       "    <tr>\n",
       "      <th>orphanet</th>\n",
       "      <td>string</td>\n",
       "      <td></td>\n",
       "      <td></td>\n",
       "      <td></td>\n",
       "      <td></td>\n",
       "      <td>False</td>\n",
       "    </tr>\n",
       "    <tr>\n",
       "      <th>pseudogene_org</th>\n",
       "      <td>string</td>\n",
       "      <td></td>\n",
       "      <td></td>\n",
       "      <td></td>\n",
       "      <td></td>\n",
       "      <td>False</td>\n",
       "    </tr>\n",
       "    <tr>\n",
       "      <th>snornabase</th>\n",
       "      <td>string</td>\n",
       "      <td></td>\n",
       "      <td></td>\n",
       "      <td></td>\n",
       "      <td></td>\n",
       "      <td>False</td>\n",
       "    </tr>\n",
       "    <tr>\n",
       "      <th>status</th>\n",
       "      <td>string</td>\n",
       "      <td></td>\n",
       "      <td></td>\n",
       "      <td></td>\n",
       "      <td></td>\n",
       "      <td>False</td>\n",
       "    </tr>\n",
       "    <tr>\n",
       "      <th>symbol</th>\n",
       "      <td>string</td>\n",
       "      <td></td>\n",
       "      <td>MAPT</td>\n",
       "      <td></td>\n",
       "      <td></td>\n",
       "      <td>False</td>\n",
       "    </tr>\n",
       "    <tr>\n",
       "      <th>ucsc_id</th>\n",
       "      <td>string</td>\n",
       "      <td></td>\n",
       "      <td></td>\n",
       "      <td></td>\n",
       "      <td></td>\n",
       "      <td>False</td>\n",
       "    </tr>\n",
       "    <tr>\n",
       "      <th>uuid</th>\n",
       "      <td>string</td>\n",
       "      <td></td>\n",
       "      <td></td>\n",
       "      <td></td>\n",
       "      <td></td>\n",
       "      <td>False</td>\n",
       "    </tr>\n",
       "    <tr>\n",
       "      <th>vega_id</th>\n",
       "      <td>string</td>\n",
       "      <td></td>\n",
       "      <td></td>\n",
       "      <td></td>\n",
       "      <td></td>\n",
       "      <td>False</td>\n",
       "    </tr>\n",
       "    <tr>\n",
       "      <th>agr</th>\n",
       "      <td>string</td>\n",
       "      <td></td>\n",
       "      <td></td>\n",
       "      <td></td>\n",
       "      <td></td>\n",
       "      <td>False</td>\n",
       "    </tr>\n",
       "    <tr>\n",
       "      <th>kznf_gene_catalog</th>\n",
       "      <td>string</td>\n",
       "      <td></td>\n",
       "      <td></td>\n",
       "      <td></td>\n",
       "      <td></td>\n",
       "      <td>False</td>\n",
       "    </tr>\n",
       "    <tr>\n",
       "      <th>page_size</th>\n",
       "      <td>integer</td>\n",
       "      <td>Results per page</td>\n",
       "      <td>1</td>\n",
       "      <td></td>\n",
       "      <td>10.0</td>\n",
       "      <td>False</td>\n",
       "    </tr>\n",
       "    <tr>\n",
       "      <th>page</th>\n",
       "      <td>integer</td>\n",
       "      <td>Page number (starting with 1)</td>\n",
       "      <td>1</td>\n",
       "      <td></td>\n",
       "      <td>1.0</td>\n",
       "      <td>False</td>\n",
       "    </tr>\n",
       "  </tbody>\n",
       "</table>\n",
       "</div>"
      ],
      "text/plain": [
       "                         data type                    description example  \\\n",
       "parameter name                                                              \n",
       "hgnc_id                     string                                          \n",
       "version                     string                                          \n",
       "bioparadigms_slc            string                                          \n",
       "cd                          string                                          \n",
       "cosmic                      string                                          \n",
       "date_approved_reserved      string                                          \n",
       "date_modified               string                                          \n",
       "date_name_changed           string                                          \n",
       "date_symbol_changed         string                                          \n",
       "ensembl_gene_id             string                                          \n",
       "entrez_id                   string                                          \n",
       "homeodb                     string                                          \n",
       "horde_id                    string                                          \n",
       "imgt                        string                                          \n",
       "intermediate_filament_db    string                                          \n",
       "iuphar                      string                                          \n",
       "lncipedia                   string                                          \n",
       "lncrnadb                    string                                          \n",
       "location                    string                                          \n",
       "location_sortable           string                                          \n",
       "locus_group                 string                                          \n",
       "locus_type                  string                                          \n",
       "mamit_trnadb                string                                          \n",
       "merops                      string                                          \n",
       "mirbase                     string                                          \n",
       "name                        string                                          \n",
       "orphanet                    string                                          \n",
       "pseudogene_org              string                                          \n",
       "snornabase                  string                                          \n",
       "status                      string                                          \n",
       "symbol                      string                                   MAPT   \n",
       "ucsc_id                     string                                          \n",
       "uuid                        string                                          \n",
       "vega_id                     string                                          \n",
       "agr                         string                                          \n",
       "kznf_gene_catalog           string                                          \n",
       "page_size                  integer               Results per page       1   \n",
       "page                       integer  Page number (starting with 1)       1   \n",
       "\n",
       "                         options default  required  \n",
       "parameter name                                      \n",
       "hgnc_id                                      False  \n",
       "version                                      False  \n",
       "bioparadigms_slc                             False  \n",
       "cd                                           False  \n",
       "cosmic                                       False  \n",
       "date_approved_reserved                       False  \n",
       "date_modified                                False  \n",
       "date_name_changed                            False  \n",
       "date_symbol_changed                          False  \n",
       "ensembl_gene_id                              False  \n",
       "entrez_id                                    False  \n",
       "homeodb                                      False  \n",
       "horde_id                                     False  \n",
       "imgt                                         False  \n",
       "intermediate_filament_db                     False  \n",
       "iuphar                                       False  \n",
       "lncipedia                                    False  \n",
       "lncrnadb                                     False  \n",
       "location                                     False  \n",
       "location_sortable                            False  \n",
       "locus_group                                  False  \n",
       "locus_type                                   False  \n",
       "mamit_trnadb                                 False  \n",
       "merops                                       False  \n",
       "mirbase                                      False  \n",
       "name                                         False  \n",
       "orphanet                                     False  \n",
       "pseudogene_org                               False  \n",
       "snornabase                                   False  \n",
       "status                                       False  \n",
       "symbol                                       False  \n",
       "ucsc_id                                      False  \n",
       "uuid                                         False  \n",
       "vega_id                                      False  \n",
       "agr                                          False  \n",
       "kznf_gene_catalog                            False  \n",
       "page_size                           10.0     False  \n",
       "page                                 1.0     False  "
      ]
     },
     "metadata": {},
     "output_type": "display_data"
    },
    {
     "data": {
      "text/html": [
       "<b>Example URL:</b> <a href=\"http://0.0.0.0:5000/api/v1/hgnc?symbol=MAPT&page_size=1&page=1\">http://0.0.0.0:5000/api/v1/hgnc?symbol=MAPT&page_size=1&page=1</a>"
      ],
      "text/plain": [
       "<IPython.core.display.HTML object>"
      ]
     },
     "metadata": {},
     "output_type": "display_data"
    },
    {
     "data": {
      "text/html": [
       "<b style=\"color: rgb(98,98,98); text-decoration: underline;\">Example response:</b>"
      ],
      "text/plain": [
       "<IPython.core.display.HTML object>"
      ]
     },
     "metadata": {},
     "output_type": "display_data"
    },
    {
     "name": "stdout",
     "output_type": "stream",
     "text": [
      "{\u001b[38;5;124m'\u001b[39m\u001b[38;5;124mnumber_of_results\u001b[39m\u001b[38;5;124m'\u001b[39m: \u001b[38;5;241m1\u001b[39m,\n",
      " \u001b[38;5;124m'\u001b[39m\u001b[38;5;124mpage\u001b[39m\u001b[38;5;124m'\u001b[39m: \u001b[38;5;241m1\u001b[39m,\n",
      " \u001b[38;5;124m'\u001b[39m\u001b[38;5;124mpage_size\u001b[39m\u001b[38;5;124m'\u001b[39m: \u001b[38;5;241m1\u001b[39m,\n",
      " \u001b[38;5;124m'\u001b[39m\u001b[38;5;124mpages\u001b[39m\u001b[38;5;124m'\u001b[39m: \u001b[38;5;241m1\u001b[39m,\n",
      " \u001b[38;5;124m'\u001b[39m\u001b[38;5;124mresults\u001b[39m\u001b[38;5;124m'\u001b[39m: [{\u001b[38;5;124m'\u001b[39m\u001b[38;5;124magr\u001b[39m\u001b[38;5;124m'\u001b[39m: \u001b[38;5;124m'\u001b[39m\u001b[38;5;124mHGNC:6893\u001b[39m\u001b[38;5;124m'\u001b[39m,\n",
      "              \u001b[38;5;124m'\u001b[39m\u001b[38;5;124malias_names\u001b[39m\u001b[38;5;124m'\u001b[39m: [\u001b[38;5;124m'\u001b[39m\u001b[38;5;124mG protein beta1/gamma2 subunit-interacting \u001b[39m\u001b[38;5;124m'\u001b[39m\n",
      "                              \u001b[38;5;124m'\u001b[39m\u001b[38;5;124mfactor 1\u001b[39m\u001b[38;5;124m'\u001b[39m,\n",
      "                              \u001b[38;5;124m'\u001b[39m\u001b[38;5;124mmicrotubule-associated protein tau, isoform 4\u001b[39m\u001b[38;5;124m'\u001b[39m,\n",
      "                              \u001b[38;5;124m'\u001b[39m\u001b[38;5;124mprotein phosphatase 1, regulatory subunit 103\u001b[39m\u001b[38;5;124m'\u001b[39m],\n",
      "              \u001b[38;5;124m'\u001b[39m\u001b[38;5;124malias_symbols\u001b[39m\u001b[38;5;124m'\u001b[39m: [\u001b[38;5;124m'\u001b[39m\u001b[38;5;124mMTBT1\u001b[39m\u001b[38;5;124m'\u001b[39m,\n",
      "                                \u001b[38;5;124m'\u001b[39m\u001b[38;5;124mtau\u001b[39m\u001b[38;5;124m'\u001b[39m,\n",
      "                                \u001b[38;5;124m'\u001b[39m\u001b[38;5;124mPPND\u001b[39m\u001b[38;5;124m'\u001b[39m,\n",
      "                                \u001b[38;5;124m'\u001b[39m\u001b[38;5;124mFTDP-17\u001b[39m\u001b[38;5;124m'\u001b[39m,\n",
      "                                \u001b[38;5;124m'\u001b[39m\u001b[38;5;124mTAU\u001b[39m\u001b[38;5;124m'\u001b[39m,\n",
      "                                \u001b[38;5;124m'\u001b[39m\u001b[38;5;124mMSTD\u001b[39m\u001b[38;5;124m'\u001b[39m,\n",
      "                                \u001b[38;5;124m'\u001b[39m\u001b[38;5;124mMTBT2\u001b[39m\u001b[38;5;124m'\u001b[39m,\n",
      "                                \u001b[38;5;124m'\u001b[39m\u001b[38;5;124mFLJ31424\u001b[39m\u001b[38;5;124m'\u001b[39m,\n",
      "                                \u001b[38;5;124m'\u001b[39m\u001b[38;5;124mMGC138549\u001b[39m\u001b[38;5;124m'\u001b[39m,\n",
      "                                \u001b[38;5;124m'\u001b[39m\u001b[38;5;124mPPP1R103\u001b[39m\u001b[38;5;124m'\u001b[39m,\n",
      "                                \u001b[38;5;124m'\u001b[39m\u001b[38;5;124mtau-40\u001b[39m\u001b[38;5;124m'\u001b[39m],\n",
      "              \u001b[38;5;124m'\u001b[39m\u001b[38;5;124mbioparadigms_slc\u001b[39m\u001b[38;5;124m'\u001b[39m: \u001b[38;5;28;01mNone\u001b[39;00m,\n",
      "              \u001b[38;5;124m'\u001b[39m\u001b[38;5;124mccdss\u001b[39m\u001b[38;5;124m'\u001b[39m: [\u001b[38;5;124m'\u001b[39m\u001b[38;5;124mCCDS11499\u001b[39m\u001b[38;5;124m'\u001b[39m,\n",
      "                        \u001b[38;5;124m'\u001b[39m\u001b[38;5;124mCCDS45715\u001b[39m\u001b[38;5;124m'\u001b[39m,\n",
      "                        \u001b[38;5;124m'\u001b[39m\u001b[38;5;124mCCDS56033\u001b[39m\u001b[38;5;124m'\u001b[39m,\n",
      "                        \u001b[38;5;124m'\u001b[39m\u001b[38;5;124mCCDS11500\u001b[39m\u001b[38;5;124m'\u001b[39m,\n",
      "                        \u001b[38;5;124m'\u001b[39m\u001b[38;5;124mCCDS11502\u001b[39m\u001b[38;5;124m'\u001b[39m,\n",
      "                        \u001b[38;5;124m'\u001b[39m\u001b[38;5;124mCCDS11501\u001b[39m\u001b[38;5;124m'\u001b[39m,\n",
      "                        \u001b[38;5;124m'\u001b[39m\u001b[38;5;124mCCDS45716\u001b[39m\u001b[38;5;124m'\u001b[39m],\n",
      "              \u001b[38;5;124m'\u001b[39m\u001b[38;5;124mcd\u001b[39m\u001b[38;5;124m'\u001b[39m: \u001b[38;5;28;01mNone\u001b[39;00m,\n",
      "              \u001b[38;5;124m'\u001b[39m\u001b[38;5;124mcosmic\u001b[39m\u001b[38;5;124m'\u001b[39m: \u001b[38;5;28;01mNone\u001b[39;00m,\n",
      "              \u001b[38;5;124m'\u001b[39m\u001b[38;5;124mdate_approved_reserved\u001b[39m\u001b[38;5;124m'\u001b[39m: \u001b[38;5;124m'\u001b[39m\u001b[38;5;124m2001-06-22\u001b[39m\u001b[38;5;124m'\u001b[39m,\n",
      "              \u001b[38;5;124m'\u001b[39m\u001b[38;5;124mdate_modified\u001b[39m\u001b[38;5;124m'\u001b[39m: \u001b[38;5;124m'\u001b[39m\u001b[38;5;124m2021-04-13\u001b[39m\u001b[38;5;124m'\u001b[39m,\n",
      "              \u001b[38;5;124m'\u001b[39m\u001b[38;5;124mdate_name_changed\u001b[39m\u001b[38;5;124m'\u001b[39m: \u001b[38;5;124m'\u001b[39m\u001b[38;5;124m2015-11-16\u001b[39m\u001b[38;5;124m'\u001b[39m,\n",
      "              \u001b[38;5;124m'\u001b[39m\u001b[38;5;124mdate_symbol_changed\u001b[39m\u001b[38;5;124m'\u001b[39m: \u001b[38;5;28;01mNone\u001b[39;00m,\n",
      "              \u001b[38;5;124m'\u001b[39m\u001b[38;5;124menas\u001b[39m\u001b[38;5;124m'\u001b[39m: [\u001b[38;5;124m'\u001b[39m\u001b[38;5;124mJ03778\u001b[39m\u001b[38;5;124m'\u001b[39m],\n",
      "              \u001b[38;5;124m'\u001b[39m\u001b[38;5;124mensembl_gene_id\u001b[39m\u001b[38;5;124m'\u001b[39m: \u001b[38;5;124m'\u001b[39m\u001b[38;5;124mENSG00000186868\u001b[39m\u001b[38;5;124m'\u001b[39m,\n",
      "              \u001b[38;5;124m'\u001b[39m\u001b[38;5;124mentrez_id\u001b[39m\u001b[38;5;124m'\u001b[39m: \u001b[38;5;241m4137\u001b[39m,\n",
      "              \u001b[38;5;124m'\u001b[39m\u001b[38;5;124menzymes\u001b[39m\u001b[38;5;124m'\u001b[39m: [],\n",
      "              \u001b[38;5;124m'\u001b[39m\u001b[38;5;124mgene_group_ids\u001b[39m\u001b[38;5;124m'\u001b[39m: [\u001b[38;5;241m694\u001b[39m],\n",
      "              \u001b[38;5;124m'\u001b[39m\u001b[38;5;124mgene_group_names\u001b[39m\u001b[38;5;124m'\u001b[39m: [\u001b[38;5;124m'\u001b[39m\u001b[38;5;124mProtein phosphatase 1 regulatory subunits\u001b[39m\u001b[38;5;124m'\u001b[39m],\n",
      "              \u001b[38;5;124m'\u001b[39m\u001b[38;5;124mhgnc_id\u001b[39m\u001b[38;5;124m'\u001b[39m: \u001b[38;5;124m'\u001b[39m\u001b[38;5;124mHGNC:6893\u001b[39m\u001b[38;5;124m'\u001b[39m,\n",
      "              \u001b[38;5;124m'\u001b[39m\u001b[38;5;124mhomeodb\u001b[39m\u001b[38;5;124m'\u001b[39m: \u001b[38;5;28;01mNone\u001b[39;00m,\n",
      "              \u001b[38;5;124m'\u001b[39m\u001b[38;5;124mhorde_id\u001b[39m\u001b[38;5;124m'\u001b[39m: \u001b[38;5;28;01mNone\u001b[39;00m,\n",
      "              \u001b[38;5;124m'\u001b[39m\u001b[38;5;124mimgt\u001b[39m\u001b[38;5;124m'\u001b[39m: \u001b[38;5;28;01mNone\u001b[39;00m,\n",
      "              \u001b[38;5;124m'\u001b[39m\u001b[38;5;124mintermediate_filament_db\u001b[39m\u001b[38;5;124m'\u001b[39m: \u001b[38;5;28;01mNone\u001b[39;00m,\n",
      "              \u001b[38;5;124m'\u001b[39m\u001b[38;5;124miuphar\u001b[39m\u001b[38;5;124m'\u001b[39m: \u001b[38;5;124m'\u001b[39m\u001b[38;5;124mligandId:9275\u001b[39m\u001b[38;5;124m'\u001b[39m,\n",
      "              \u001b[38;5;124m'\u001b[39m\u001b[38;5;124mkznf_gene_catalog\u001b[39m\u001b[38;5;124m'\u001b[39m: \u001b[38;5;28;01mNone\u001b[39;00m,\n",
      "              \u001b[38;5;124m'\u001b[39m\u001b[38;5;124mlncipedia\u001b[39m\u001b[38;5;124m'\u001b[39m: \u001b[38;5;28;01mNone\u001b[39;00m,\n",
      "              \u001b[38;5;124m'\u001b[39m\u001b[38;5;124mlncrnadb\u001b[39m\u001b[38;5;124m'\u001b[39m: \u001b[38;5;28;01mNone\u001b[39;00m,\n",
      "              \u001b[38;5;124m'\u001b[39m\u001b[38;5;124mlocation\u001b[39m\u001b[38;5;124m'\u001b[39m: \u001b[38;5;124m'\u001b[39m\u001b[38;5;124m17q21.31\u001b[39m\u001b[38;5;124m'\u001b[39m,\n",
      "              \u001b[38;5;124m'\u001b[39m\u001b[38;5;124mlocation_sortable\u001b[39m\u001b[38;5;124m'\u001b[39m: \u001b[38;5;124m'\u001b[39m\u001b[38;5;124m17q21.31\u001b[39m\u001b[38;5;124m'\u001b[39m,\n",
      "              \u001b[38;5;124m'\u001b[39m\u001b[38;5;124mlocus_group\u001b[39m\u001b[38;5;124m'\u001b[39m: \u001b[38;5;124m'\u001b[39m\u001b[38;5;124mprotein-coding gene\u001b[39m\u001b[38;5;124m'\u001b[39m,\n",
      "              \u001b[38;5;124m'\u001b[39m\u001b[38;5;124mlocus_type\u001b[39m\u001b[38;5;124m'\u001b[39m: \u001b[38;5;124m'\u001b[39m\u001b[38;5;124mgene with protein product\u001b[39m\u001b[38;5;124m'\u001b[39m,\n",
      "              \u001b[38;5;124m'\u001b[39m\u001b[38;5;124mlsdbs\u001b[39m\u001b[38;5;124m'\u001b[39m: [\u001b[38;5;124m'\u001b[39m\u001b[38;5;124mAlzheimer Disease & Frontotemporal Dementia Mutation \u001b[39m\u001b[38;5;124m'\u001b[39m\n",
      "                        \u001b[38;5;124m'\u001b[39m\u001b[38;5;124mDatabase|http://www.molgen.ua.ac.be/FTDMutations/\u001b[39m\u001b[38;5;124m'\u001b[39m,\n",
      "                        \u001b[38;5;124m'\u001b[39m\u001b[38;5;124mALSOD, the Amyotrophic Lateral Sclerosis Online \u001b[39m\u001b[38;5;124m'\u001b[39m\n",
      "                        \u001b[38;5;124m'\u001b[39m\u001b[38;5;124mGenetic Database|http://alsod.iop.kcl.ac.uk/\u001b[39m\u001b[38;5;124m'\u001b[39m,\n",
      "                        \u001b[38;5;124m'\u001b[39m\u001b[38;5;124mLRG_660|http://ftp.ebi.ac.uk/pub/databases/lrgex/LRG_660.xml\u001b[39m\u001b[38;5;124m'\u001b[39m],\n",
      "              \u001b[38;5;124m'\u001b[39m\u001b[38;5;124mmamit_trnadb\u001b[39m\u001b[38;5;124m'\u001b[39m: \u001b[38;5;28;01mNone\u001b[39;00m,\n",
      "              \u001b[38;5;124m'\u001b[39m\u001b[38;5;124mmerops\u001b[39m\u001b[38;5;124m'\u001b[39m: \u001b[38;5;28;01mNone\u001b[39;00m,\n",
      "              \u001b[38;5;124m'\u001b[39m\u001b[38;5;124mmgds\u001b[39m\u001b[38;5;124m'\u001b[39m: [\u001b[38;5;124m'\u001b[39m\u001b[38;5;124mMGI:97180\u001b[39m\u001b[38;5;124m'\u001b[39m],\n",
      "              \u001b[38;5;124m'\u001b[39m\u001b[38;5;124mmirbase\u001b[39m\u001b[38;5;124m'\u001b[39m: \u001b[38;5;28;01mNone\u001b[39;00m,\n",
      "              \u001b[38;5;124m'\u001b[39m\u001b[38;5;124mname\u001b[39m\u001b[38;5;124m'\u001b[39m: \u001b[38;5;124m'\u001b[39m\u001b[38;5;124mmicrotubule associated protein tau\u001b[39m\u001b[38;5;124m'\u001b[39m,\n",
      "              \u001b[38;5;124m'\u001b[39m\u001b[38;5;124momims\u001b[39m\u001b[38;5;124m'\u001b[39m: [\u001b[38;5;241m157140\u001b[39m],\n",
      "              \u001b[38;5;124m'\u001b[39m\u001b[38;5;124morphanet\u001b[39m\u001b[38;5;124m'\u001b[39m: \u001b[38;5;241m123144\u001b[39m,\n",
      "              \u001b[38;5;124m'\u001b[39m\u001b[38;5;124mpre_symbols\u001b[39m\u001b[38;5;124m'\u001b[39m: [\u001b[38;5;124m'\u001b[39m\u001b[38;5;124mDDPAC\u001b[39m\u001b[38;5;124m'\u001b[39m, \u001b[38;5;124m'\u001b[39m\u001b[38;5;124mMAPTL\u001b[39m\u001b[38;5;124m'\u001b[39m],\n",
      "              \u001b[38;5;124m'\u001b[39m\u001b[38;5;124mprev_names\u001b[39m\u001b[38;5;124m'\u001b[39m: [],\n",
      "              \u001b[38;5;124m'\u001b[39m\u001b[38;5;124mpseudogene_org\u001b[39m\u001b[38;5;124m'\u001b[39m: \u001b[38;5;28;01mNone\u001b[39;00m,\n",
      "              \u001b[38;5;124m'\u001b[39m\u001b[38;5;124mpubmeds\u001b[39m\u001b[38;5;124m'\u001b[39m: [\u001b[38;5;241m7936241\u001b[39m, \u001b[38;5;241m3131773\u001b[39m],\n",
      "              \u001b[38;5;124m'\u001b[39m\u001b[38;5;124mrefseqs\u001b[39m\u001b[38;5;124m'\u001b[39m: [\u001b[38;5;124m'\u001b[39m\u001b[38;5;124mNM_016835\u001b[39m\u001b[38;5;124m'\u001b[39m],\n",
      "              \u001b[38;5;124m'\u001b[39m\u001b[38;5;124mrgds\u001b[39m\u001b[38;5;124m'\u001b[39m: [\u001b[38;5;124m'\u001b[39m\u001b[38;5;124mRGD:69329\u001b[39m\u001b[38;5;124m'\u001b[39m],\n",
      "              \u001b[38;5;124m'\u001b[39m\u001b[38;5;124mrna_centrals\u001b[39m\u001b[38;5;124m'\u001b[39m: [],\n",
      "              \u001b[38;5;124m'\u001b[39m\u001b[38;5;124msnornabase\u001b[39m\u001b[38;5;124m'\u001b[39m: \u001b[38;5;28;01mNone\u001b[39;00m,\n",
      "              \u001b[38;5;124m'\u001b[39m\u001b[38;5;124mstatus\u001b[39m\u001b[38;5;124m'\u001b[39m: \u001b[38;5;124m'\u001b[39m\u001b[38;5;124mApproved\u001b[39m\u001b[38;5;124m'\u001b[39m,\n",
      "              \u001b[38;5;124m'\u001b[39m\u001b[38;5;124msymbol\u001b[39m\u001b[38;5;124m'\u001b[39m: \u001b[38;5;124m'\u001b[39m\u001b[38;5;124mMAPT\u001b[39m\u001b[38;5;124m'\u001b[39m,\n",
      "              \u001b[38;5;124m'\u001b[39m\u001b[38;5;124mucsc_id\u001b[39m\u001b[38;5;124m'\u001b[39m: \u001b[38;5;124m'\u001b[39m\u001b[38;5;124muc010dau.4\u001b[39m\u001b[38;5;124m'\u001b[39m,\n",
      "              \u001b[38;5;124m'\u001b[39m\u001b[38;5;124muniprots\u001b[39m\u001b[38;5;124m'\u001b[39m: [\u001b[38;5;124m'\u001b[39m\u001b[38;5;124mP10636\u001b[39m\u001b[38;5;124m'\u001b[39m],\n",
      "              \u001b[38;5;124m'\u001b[39m\u001b[38;5;124muuid\u001b[39m\u001b[38;5;124m'\u001b[39m: \u001b[38;5;124m'\u001b[39m\u001b[38;5;124m2701e076-9c7e-4db5-9177-6b264e8fa837\u001b[39m\u001b[38;5;124m'\u001b[39m,\n",
      "              \u001b[38;5;124m'\u001b[39m\u001b[38;5;124mvega_id\u001b[39m\u001b[38;5;124m'\u001b[39m: \u001b[38;5;124m'\u001b[39m\u001b[38;5;124mOTTHUMG00000168833\u001b[39m\u001b[38;5;124m'\u001b[39m,\n",
      "              \u001b[38;5;124m'\u001b[39m\u001b[38;5;124mversion\u001b[39m\u001b[38;5;124m'\u001b[39m: \u001b[38;5;241m1711579320530501632\u001b[39m}]}\n",
      "\n",
      "For further testing go to http://0.0.0.0:5000/ui/#/HGNC/ebel.web.api.ebel.v1.hgnc.get_hgnc\n"
     ]
    },
    {
     "data": {
      "text/html": [
       "<h2>2. HGNC info by Symbol identifier</h2>"
      ],
      "text/plain": [
       "<IPython.core.display.HTML object>"
      ]
     },
     "metadata": {},
     "output_type": "display_data"
    },
    {
     "data": {
      "text/html": [
       "<b style=\"color: rgb(98,98,98); text-decoration: underline;\">Description:</b> <p>HGNC info by Symbol identifier</p>"
      ],
      "text/plain": [
       "<IPython.core.display.HTML object>"
      ]
     },
     "metadata": {},
     "output_type": "display_data"
    },
    {
     "data": {
      "text/html": [
       "<b>Tags:</b> ['HGNC']"
      ],
      "text/plain": [
       "<IPython.core.display.HTML object>"
      ]
     },
     "metadata": {},
     "output_type": "display_data"
    },
    {
     "data": {
      "text/html": [
       "<b>Server path:</b> /api/v1/hgnc/by_symbol"
      ],
      "text/plain": [
       "<IPython.core.display.HTML object>"
      ]
     },
     "metadata": {},
     "output_type": "display_data"
    },
    {
     "data": {
      "text/html": [
       "<div>\n",
       "<style scoped>\n",
       "    .dataframe tbody tr th:only-of-type {\n",
       "        vertical-align: middle;\n",
       "    }\n",
       "\n",
       "    .dataframe tbody tr th {\n",
       "        vertical-align: top;\n",
       "    }\n",
       "\n",
       "    .dataframe thead th {\n",
       "        text-align: right;\n",
       "    }\n",
       "</style>\n",
       "<table border=\"1\" class=\"dataframe\">\n",
       "  <thead>\n",
       "    <tr style=\"text-align: right;\">\n",
       "      <th></th>\n",
       "      <th>data type</th>\n",
       "      <th>description</th>\n",
       "      <th>example</th>\n",
       "      <th>options</th>\n",
       "      <th>default</th>\n",
       "      <th>required</th>\n",
       "    </tr>\n",
       "    <tr>\n",
       "      <th>parameter name</th>\n",
       "      <th></th>\n",
       "      <th></th>\n",
       "      <th></th>\n",
       "      <th></th>\n",
       "      <th></th>\n",
       "      <th></th>\n",
       "    </tr>\n",
       "  </thead>\n",
       "  <tbody>\n",
       "    <tr>\n",
       "      <th>symbol</th>\n",
       "      <td>string</td>\n",
       "      <td></td>\n",
       "      <td>CD33</td>\n",
       "      <td></td>\n",
       "      <td></td>\n",
       "      <td>False</td>\n",
       "    </tr>\n",
       "  </tbody>\n",
       "</table>\n",
       "</div>"
      ],
      "text/plain": [
       "               data type description example options default  required\n",
       "parameter name                                                        \n",
       "symbol            string                CD33                     False"
      ]
     },
     "metadata": {},
     "output_type": "display_data"
    },
    {
     "data": {
      "text/html": [
       "<b>Example URL:</b> <a href=\"http://0.0.0.0:5000/api/v1/hgnc/by_symbol?symbol=CD33\">http://0.0.0.0:5000/api/v1/hgnc/by_symbol?symbol=CD33</a>"
      ],
      "text/plain": [
       "<IPython.core.display.HTML object>"
      ]
     },
     "metadata": {},
     "output_type": "display_data"
    },
    {
     "data": {
      "text/html": [
       "<b style=\"color: rgb(98,98,98); text-decoration: underline;\">Example response:</b>"
      ],
      "text/plain": [
       "<IPython.core.display.HTML object>"
      ]
     },
     "metadata": {},
     "output_type": "display_data"
    },
    {
     "name": "stdout",
     "output_type": "stream",
     "text": [
      "{\u001b[38;5;124m'\u001b[39m\u001b[38;5;124magr\u001b[39m\u001b[38;5;124m'\u001b[39m: \u001b[38;5;124m'\u001b[39m\u001b[38;5;124mHGNC:1659\u001b[39m\u001b[38;5;124m'\u001b[39m,\n",
      " \u001b[38;5;124m'\u001b[39m\u001b[38;5;124malias_names\u001b[39m\u001b[38;5;124m'\u001b[39m: [\u001b[38;5;124m'\u001b[39m\u001b[38;5;124msialic acid binding Ig-like lectin 3\u001b[39m\u001b[38;5;124m'\u001b[39m],\n",
      " \u001b[38;5;124m'\u001b[39m\u001b[38;5;124malias_symbols\u001b[39m\u001b[38;5;124m'\u001b[39m: [\u001b[38;5;124m'\u001b[39m\u001b[38;5;124mSIGLEC3\u001b[39m\u001b[38;5;124m'\u001b[39m, \u001b[38;5;124m'\u001b[39m\u001b[38;5;124mSIGLEC-3\u001b[39m\u001b[38;5;124m'\u001b[39m, \u001b[38;5;124m'\u001b[39m\u001b[38;5;124mp67\u001b[39m\u001b[38;5;124m'\u001b[39m, \u001b[38;5;124m'\u001b[39m\u001b[38;5;124mFLJ00391\u001b[39m\u001b[38;5;124m'\u001b[39m],\n",
      " \u001b[38;5;124m'\u001b[39m\u001b[38;5;124mbioparadigms_slc\u001b[39m\u001b[38;5;124m'\u001b[39m: \u001b[38;5;28;01mNone\u001b[39;00m,\n",
      " \u001b[38;5;124m'\u001b[39m\u001b[38;5;124mccdss\u001b[39m\u001b[38;5;124m'\u001b[39m: [\u001b[38;5;124m'\u001b[39m\u001b[38;5;124mCCDS33084\u001b[39m\u001b[38;5;124m'\u001b[39m, \u001b[38;5;124m'\u001b[39m\u001b[38;5;124mCCDS54299\u001b[39m\u001b[38;5;124m'\u001b[39m, \u001b[38;5;124m'\u001b[39m\u001b[38;5;124mCCDS46157\u001b[39m\u001b[38;5;124m'\u001b[39m],\n",
      " \u001b[38;5;124m'\u001b[39m\u001b[38;5;124mcd\u001b[39m\u001b[38;5;124m'\u001b[39m: \u001b[38;5;124m'\u001b[39m\u001b[38;5;124mCD33\u001b[39m\u001b[38;5;124m'\u001b[39m,\n",
      " \u001b[38;5;124m'\u001b[39m\u001b[38;5;124mcosmic\u001b[39m\u001b[38;5;124m'\u001b[39m: \u001b[38;5;28;01mNone\u001b[39;00m,\n",
      " \u001b[38;5;124m'\u001b[39m\u001b[38;5;124mdate_approved_reserved\u001b[39m\u001b[38;5;124m'\u001b[39m: \u001b[38;5;124m'\u001b[39m\u001b[38;5;124m1986-01-01\u001b[39m\u001b[38;5;124m'\u001b[39m,\n",
      " \u001b[38;5;124m'\u001b[39m\u001b[38;5;124mdate_modified\u001b[39m\u001b[38;5;124m'\u001b[39m: \u001b[38;5;124m'\u001b[39m\u001b[38;5;124m2016-10-05\u001b[39m\u001b[38;5;124m'\u001b[39m,\n",
      " \u001b[38;5;124m'\u001b[39m\u001b[38;5;124mdate_name_changed\u001b[39m\u001b[38;5;124m'\u001b[39m: \u001b[38;5;124m'\u001b[39m\u001b[38;5;124m2006-03-28\u001b[39m\u001b[38;5;124m'\u001b[39m,\n",
      " \u001b[38;5;124m'\u001b[39m\u001b[38;5;124mdate_symbol_changed\u001b[39m\u001b[38;5;124m'\u001b[39m: \u001b[38;5;28;01mNone\u001b[39;00m,\n",
      " \u001b[38;5;124m'\u001b[39m\u001b[38;5;124menas\u001b[39m\u001b[38;5;124m'\u001b[39m: [\u001b[38;5;124m'\u001b[39m\u001b[38;5;124mM23197\u001b[39m\u001b[38;5;124m'\u001b[39m],\n",
      " \u001b[38;5;124m'\u001b[39m\u001b[38;5;124mensembl_gene_id\u001b[39m\u001b[38;5;124m'\u001b[39m: \u001b[38;5;124m'\u001b[39m\u001b[38;5;124mENSG00000105383\u001b[39m\u001b[38;5;124m'\u001b[39m,\n",
      " \u001b[38;5;124m'\u001b[39m\u001b[38;5;124mentrez_id\u001b[39m\u001b[38;5;124m'\u001b[39m: \u001b[38;5;241m945\u001b[39m,\n",
      " \u001b[38;5;124m'\u001b[39m\u001b[38;5;124menzymes\u001b[39m\u001b[38;5;124m'\u001b[39m: [],\n",
      " \u001b[38;5;124m'\u001b[39m\u001b[38;5;124mgene_group_ids\u001b[39m\u001b[38;5;124m'\u001b[39m: [\u001b[38;5;241m471\u001b[39m, \u001b[38;5;241m590\u001b[39m, \u001b[38;5;241m745\u001b[39m],\n",
      " \u001b[38;5;124m'\u001b[39m\u001b[38;5;124mgene_group_names\u001b[39m\u001b[38;5;124m'\u001b[39m: [\u001b[38;5;124m'\u001b[39m\u001b[38;5;124mCD molecules\u001b[39m\u001b[38;5;124m'\u001b[39m,\n",
      "                      \u001b[38;5;124m'\u001b[39m\u001b[38;5;124mV-set domain containing\u001b[39m\u001b[38;5;124m'\u001b[39m,\n",
      "                      \u001b[38;5;124m'\u001b[39m\u001b[38;5;124mSialic acid binding Ig like lectins\u001b[39m\u001b[38;5;124m'\u001b[39m],\n",
      " \u001b[38;5;124m'\u001b[39m\u001b[38;5;124mhgnc_id\u001b[39m\u001b[38;5;124m'\u001b[39m: \u001b[38;5;124m'\u001b[39m\u001b[38;5;124mHGNC:1659\u001b[39m\u001b[38;5;124m'\u001b[39m,\n",
      " \u001b[38;5;124m'\u001b[39m\u001b[38;5;124mhomeodb\u001b[39m\u001b[38;5;124m'\u001b[39m: \u001b[38;5;28;01mNone\u001b[39;00m,\n",
      " \u001b[38;5;124m'\u001b[39m\u001b[38;5;124mhorde_id\u001b[39m\u001b[38;5;124m'\u001b[39m: \u001b[38;5;28;01mNone\u001b[39;00m,\n",
      " \u001b[38;5;124m'\u001b[39m\u001b[38;5;124mimgt\u001b[39m\u001b[38;5;124m'\u001b[39m: \u001b[38;5;28;01mNone\u001b[39;00m,\n",
      " \u001b[38;5;124m'\u001b[39m\u001b[38;5;124mintermediate_filament_db\u001b[39m\u001b[38;5;124m'\u001b[39m: \u001b[38;5;28;01mNone\u001b[39;00m,\n",
      " \u001b[38;5;124m'\u001b[39m\u001b[38;5;124miuphar\u001b[39m\u001b[38;5;124m'\u001b[39m: \u001b[38;5;124m'\u001b[39m\u001b[38;5;124mobjectId:2601\u001b[39m\u001b[38;5;124m'\u001b[39m,\n",
      " \u001b[38;5;124m'\u001b[39m\u001b[38;5;124mkznf_gene_catalog\u001b[39m\u001b[38;5;124m'\u001b[39m: \u001b[38;5;28;01mNone\u001b[39;00m,\n",
      " \u001b[38;5;124m'\u001b[39m\u001b[38;5;124mlncipedia\u001b[39m\u001b[38;5;124m'\u001b[39m: \u001b[38;5;28;01mNone\u001b[39;00m,\n",
      " \u001b[38;5;124m'\u001b[39m\u001b[38;5;124mlncrnadb\u001b[39m\u001b[38;5;124m'\u001b[39m: \u001b[38;5;28;01mNone\u001b[39;00m,\n",
      " \u001b[38;5;124m'\u001b[39m\u001b[38;5;124mlocation\u001b[39m\u001b[38;5;124m'\u001b[39m: \u001b[38;5;124m'\u001b[39m\u001b[38;5;124m19q13.41\u001b[39m\u001b[38;5;124m'\u001b[39m,\n",
      " \u001b[38;5;124m'\u001b[39m\u001b[38;5;124mlocation_sortable\u001b[39m\u001b[38;5;124m'\u001b[39m: \u001b[38;5;124m'\u001b[39m\u001b[38;5;124m19q13.41\u001b[39m\u001b[38;5;124m'\u001b[39m,\n",
      " \u001b[38;5;124m'\u001b[39m\u001b[38;5;124mlocus_group\u001b[39m\u001b[38;5;124m'\u001b[39m: \u001b[38;5;124m'\u001b[39m\u001b[38;5;124mprotein-coding gene\u001b[39m\u001b[38;5;124m'\u001b[39m,\n",
      " \u001b[38;5;124m'\u001b[39m\u001b[38;5;124mlocus_type\u001b[39m\u001b[38;5;124m'\u001b[39m: \u001b[38;5;124m'\u001b[39m\u001b[38;5;124mgene with protein product\u001b[39m\u001b[38;5;124m'\u001b[39m,\n",
      " \u001b[38;5;124m'\u001b[39m\u001b[38;5;124mlsdbs\u001b[39m\u001b[38;5;124m'\u001b[39m: [],\n",
      " \u001b[38;5;124m'\u001b[39m\u001b[38;5;124mmamit_trnadb\u001b[39m\u001b[38;5;124m'\u001b[39m: \u001b[38;5;28;01mNone\u001b[39;00m,\n",
      " \u001b[38;5;124m'\u001b[39m\u001b[38;5;124mmerops\u001b[39m\u001b[38;5;124m'\u001b[39m: \u001b[38;5;28;01mNone\u001b[39;00m,\n",
      " \u001b[38;5;124m'\u001b[39m\u001b[38;5;124mmgds\u001b[39m\u001b[38;5;124m'\u001b[39m: [\u001b[38;5;124m'\u001b[39m\u001b[38;5;124mMGI:99440\u001b[39m\u001b[38;5;124m'\u001b[39m],\n",
      " \u001b[38;5;124m'\u001b[39m\u001b[38;5;124mmirbase\u001b[39m\u001b[38;5;124m'\u001b[39m: \u001b[38;5;28;01mNone\u001b[39;00m,\n",
      " \u001b[38;5;124m'\u001b[39m\u001b[38;5;124mname\u001b[39m\u001b[38;5;124m'\u001b[39m: \u001b[38;5;124m'\u001b[39m\u001b[38;5;124mCD33 molecule\u001b[39m\u001b[38;5;124m'\u001b[39m,\n",
      " \u001b[38;5;124m'\u001b[39m\u001b[38;5;124momims\u001b[39m\u001b[38;5;124m'\u001b[39m: [\u001b[38;5;241m159590\u001b[39m],\n",
      " \u001b[38;5;124m'\u001b[39m\u001b[38;5;124morphanet\u001b[39m\u001b[38;5;124m'\u001b[39m: \u001b[38;5;28;01mNone\u001b[39;00m,\n",
      " \u001b[38;5;124m'\u001b[39m\u001b[38;5;124mpre_symbols\u001b[39m\u001b[38;5;124m'\u001b[39m: [],\n",
      " \u001b[38;5;124m'\u001b[39m\u001b[38;5;124mprev_names\u001b[39m\u001b[38;5;124m'\u001b[39m: [\u001b[38;5;124m'\u001b[39m\u001b[38;5;124mCD33 antigen (gp67)\u001b[39m\u001b[38;5;124m'\u001b[39m],\n",
      " \u001b[38;5;124m'\u001b[39m\u001b[38;5;124mpseudogene_org\u001b[39m\u001b[38;5;124m'\u001b[39m: \u001b[38;5;28;01mNone\u001b[39;00m,\n",
      " \u001b[38;5;124m'\u001b[39m\u001b[38;5;124mpubmeds\u001b[39m\u001b[38;5;124m'\u001b[39m: [\u001b[38;5;241m3139766\u001b[39m, \u001b[38;5;241m9465907\u001b[39m],\n",
      " \u001b[38;5;124m'\u001b[39m\u001b[38;5;124mrefseqs\u001b[39m\u001b[38;5;124m'\u001b[39m: [\u001b[38;5;124m'\u001b[39m\u001b[38;5;124mNM_001772\u001b[39m\u001b[38;5;124m'\u001b[39m],\n",
      " \u001b[38;5;124m'\u001b[39m\u001b[38;5;124mrgds\u001b[39m\u001b[38;5;124m'\u001b[39m: [\u001b[38;5;124m'\u001b[39m\u001b[38;5;124mRGD:1596020\u001b[39m\u001b[38;5;124m'\u001b[39m],\n",
      " \u001b[38;5;124m'\u001b[39m\u001b[38;5;124mrna_centrals\u001b[39m\u001b[38;5;124m'\u001b[39m: [],\n",
      " \u001b[38;5;124m'\u001b[39m\u001b[38;5;124msnornabase\u001b[39m\u001b[38;5;124m'\u001b[39m: \u001b[38;5;28;01mNone\u001b[39;00m,\n",
      " \u001b[38;5;124m'\u001b[39m\u001b[38;5;124mstatus\u001b[39m\u001b[38;5;124m'\u001b[39m: \u001b[38;5;124m'\u001b[39m\u001b[38;5;124mApproved\u001b[39m\u001b[38;5;124m'\u001b[39m,\n",
      " \u001b[38;5;124m'\u001b[39m\u001b[38;5;124msymbol\u001b[39m\u001b[38;5;124m'\u001b[39m: \u001b[38;5;124m'\u001b[39m\u001b[38;5;124mCD33\u001b[39m\u001b[38;5;124m'\u001b[39m,\n",
      " \u001b[38;5;124m'\u001b[39m\u001b[38;5;124mucsc_id\u001b[39m\u001b[38;5;124m'\u001b[39m: \u001b[38;5;124m'\u001b[39m\u001b[38;5;124muc002pwa.3\u001b[39m\u001b[38;5;124m'\u001b[39m,\n",
      " \u001b[38;5;124m'\u001b[39m\u001b[38;5;124muniprots\u001b[39m\u001b[38;5;124m'\u001b[39m: [\u001b[38;5;124m'\u001b[39m\u001b[38;5;124mP20138\u001b[39m\u001b[38;5;124m'\u001b[39m],\n",
      " \u001b[38;5;124m'\u001b[39m\u001b[38;5;124muuid\u001b[39m\u001b[38;5;124m'\u001b[39m: \u001b[38;5;124m'\u001b[39m\u001b[38;5;124mf7ce5682-97bf-4f6c-92ee-a256f1ea09cc\u001b[39m\u001b[38;5;124m'\u001b[39m,\n",
      " \u001b[38;5;124m'\u001b[39m\u001b[38;5;124mvega_id\u001b[39m\u001b[38;5;124m'\u001b[39m: \u001b[38;5;124m'\u001b[39m\u001b[38;5;124mOTTHUMG00000182891\u001b[39m\u001b[38;5;124m'\u001b[39m,\n",
      " \u001b[38;5;124m'\u001b[39m\u001b[38;5;124mversion\u001b[39m\u001b[38;5;124m'\u001b[39m: \u001b[38;5;241m1711579312517283841\u001b[39m}\n",
      "\n",
      "For further testing go to http://0.0.0.0:5000/ui/#/HGNC/ebel.web.api.ebel.v1.hgnc.get_by_symbol\n"
     ]
    },
    {
     "data": {
      "text/html": [
       "<h2>3. HGNC group name</h2>"
      ],
      "text/plain": [
       "<IPython.core.display.HTML object>"
      ]
     },
     "metadata": {},
     "output_type": "display_data"
    },
    {
     "data": {
      "text/html": [
       "<b style=\"color: rgb(98,98,98); text-decoration: underline;\">Description:</b> <p>HGNC group name</p>"
      ],
      "text/plain": [
       "<IPython.core.display.HTML object>"
      ]
     },
     "metadata": {},
     "output_type": "display_data"
    },
    {
     "data": {
      "text/html": [
       "<b>Tags:</b> ['HGNC']"
      ],
      "text/plain": [
       "<IPython.core.display.HTML object>"
      ]
     },
     "metadata": {},
     "output_type": "display_data"
    },
    {
     "data": {
      "text/html": [
       "<b>Server path:</b> /api/v1/hgnc/gene_group_name"
      ],
      "text/plain": [
       "<IPython.core.display.HTML object>"
      ]
     },
     "metadata": {},
     "output_type": "display_data"
    },
    {
     "data": {
      "text/html": [
       "<div>\n",
       "<style scoped>\n",
       "    .dataframe tbody tr th:only-of-type {\n",
       "        vertical-align: middle;\n",
       "    }\n",
       "\n",
       "    .dataframe tbody tr th {\n",
       "        vertical-align: top;\n",
       "    }\n",
       "\n",
       "    .dataframe thead th {\n",
       "        text-align: right;\n",
       "    }\n",
       "</style>\n",
       "<table border=\"1\" class=\"dataframe\">\n",
       "  <thead>\n",
       "    <tr style=\"text-align: right;\">\n",
       "      <th></th>\n",
       "      <th>data type</th>\n",
       "      <th>description</th>\n",
       "      <th>example</th>\n",
       "      <th>options</th>\n",
       "      <th>default</th>\n",
       "      <th>required</th>\n",
       "    </tr>\n",
       "    <tr>\n",
       "      <th>parameter name</th>\n",
       "      <th></th>\n",
       "      <th></th>\n",
       "      <th></th>\n",
       "      <th></th>\n",
       "      <th></th>\n",
       "      <th></th>\n",
       "    </tr>\n",
       "  </thead>\n",
       "  <tbody>\n",
       "    <tr>\n",
       "      <th>hgnc_id</th>\n",
       "      <td>string</td>\n",
       "      <td></td>\n",
       "      <td></td>\n",
       "      <td></td>\n",
       "      <td></td>\n",
       "      <td>False</td>\n",
       "    </tr>\n",
       "    <tr>\n",
       "      <th>name</th>\n",
       "      <td>string</td>\n",
       "      <td></td>\n",
       "      <td></td>\n",
       "      <td></td>\n",
       "      <td></td>\n",
       "      <td>False</td>\n",
       "    </tr>\n",
       "    <tr>\n",
       "      <th>page_size</th>\n",
       "      <td>integer</td>\n",
       "      <td>Results per page</td>\n",
       "      <td>1.0</td>\n",
       "      <td></td>\n",
       "      <td>10.0</td>\n",
       "      <td>False</td>\n",
       "    </tr>\n",
       "    <tr>\n",
       "      <th>page</th>\n",
       "      <td>integer</td>\n",
       "      <td>Page number (starting with 1)</td>\n",
       "      <td>1.0</td>\n",
       "      <td></td>\n",
       "      <td>1.0</td>\n",
       "      <td>False</td>\n",
       "    </tr>\n",
       "  </tbody>\n",
       "</table>\n",
       "</div>"
      ],
      "text/plain": [
       "               data type                    description example options  \\\n",
       "parameter name                                                            \n",
       "hgnc_id           string                                                  \n",
       "name              string                                                  \n",
       "page_size        integer               Results per page     1.0           \n",
       "page             integer  Page number (starting with 1)     1.0           \n",
       "\n",
       "               default  required  \n",
       "parameter name                    \n",
       "hgnc_id                    False  \n",
       "name                       False  \n",
       "page_size         10.0     False  \n",
       "page               1.0     False  "
      ]
     },
     "metadata": {},
     "output_type": "display_data"
    },
    {
     "data": {
      "text/html": [
       "<b>Example URL:</b> <a href=\"http://0.0.0.0:5000/api/v1/hgnc/gene_group_name?page_size=1&page=1\">http://0.0.0.0:5000/api/v1/hgnc/gene_group_name?page_size=1&page=1</a>"
      ],
      "text/plain": [
       "<IPython.core.display.HTML object>"
      ]
     },
     "metadata": {},
     "output_type": "display_data"
    },
    {
     "data": {
      "text/html": [
       "<b style=\"color: rgb(98,98,98); text-decoration: underline;\">Example response:</b>"
      ],
      "text/plain": [
       "<IPython.core.display.HTML object>"
      ]
     },
     "metadata": {},
     "output_type": "display_data"
    },
    {
     "name": "stdout",
     "output_type": "stream",
     "text": [
      "{\u001b[38;5;124m'\u001b[39m\u001b[38;5;124mnumber_of_results\u001b[39m\u001b[38;5;124m'\u001b[39m: \u001b[38;5;241m29755\u001b[39m,\n",
      " \u001b[38;5;124m'\u001b[39m\u001b[38;5;124mpage\u001b[39m\u001b[38;5;124m'\u001b[39m: \u001b[38;5;241m1\u001b[39m,\n",
      " \u001b[38;5;124m'\u001b[39m\u001b[38;5;124mpage_size\u001b[39m\u001b[38;5;124m'\u001b[39m: \u001b[38;5;241m1\u001b[39m,\n",
      " \u001b[38;5;124m'\u001b[39m\u001b[38;5;124mpages\u001b[39m\u001b[38;5;124m'\u001b[39m: \u001b[38;5;241m29755\u001b[39m,\n",
      " \u001b[38;5;124m'\u001b[39m\u001b[38;5;124mresults\u001b[39m\u001b[38;5;124m'\u001b[39m: [{\u001b[38;5;124m'\u001b[39m\u001b[38;5;124mhgnc_id\u001b[39m\u001b[38;5;124m'\u001b[39m: \u001b[38;5;241m5\u001b[39m,\n",
      "              \u001b[38;5;124m'\u001b[39m\u001b[38;5;124mid\u001b[39m\u001b[38;5;124m'\u001b[39m: \u001b[38;5;241m1\u001b[39m,\n",
      "              \u001b[38;5;124m'\u001b[39m\u001b[38;5;124mname\u001b[39m\u001b[38;5;124m'\u001b[39m: \u001b[38;5;124m'\u001b[39m\u001b[38;5;124mImmunoglobulin like domain containing\u001b[39m\u001b[38;5;124m'\u001b[39m}]}\n",
      "\n",
      "For further testing go to http://0.0.0.0:5000/ui/#/HGNC/ebel.web.api.ebel.v1.hgnc.get_gene_group_name\n"
     ]
    },
    {
     "data": {
      "text/html": [
       "<h2>4. Get UniProt access by HGNC symbol</h2>"
      ],
      "text/plain": [
       "<IPython.core.display.HTML object>"
      ]
     },
     "metadata": {},
     "output_type": "display_data"
    },
    {
     "data": {
      "text/html": [
       "<b style=\"color: rgb(98,98,98); text-decoration: underline;\">Description:</b> <p>Get UniProt access by HGNC symbol</p>"
      ],
      "text/plain": [
       "<IPython.core.display.HTML object>"
      ]
     },
     "metadata": {},
     "output_type": "display_data"
    },
    {
     "data": {
      "text/html": [
       "<b>Tags:</b> ['HGNC']"
      ],
      "text/plain": [
       "<IPython.core.display.HTML object>"
      ]
     },
     "metadata": {},
     "output_type": "display_data"
    },
    {
     "data": {
      "text/html": [
       "<b>Server path:</b> /api/v1/hgnc/uniprot_accession_by_hgnc_symbol"
      ],
      "text/plain": [
       "<IPython.core.display.HTML object>"
      ]
     },
     "metadata": {},
     "output_type": "display_data"
    },
    {
     "data": {
      "text/html": [
       "<div>\n",
       "<style scoped>\n",
       "    .dataframe tbody tr th:only-of-type {\n",
       "        vertical-align: middle;\n",
       "    }\n",
       "\n",
       "    .dataframe tbody tr th {\n",
       "        vertical-align: top;\n",
       "    }\n",
       "\n",
       "    .dataframe thead th {\n",
       "        text-align: right;\n",
       "    }\n",
       "</style>\n",
       "<table border=\"1\" class=\"dataframe\">\n",
       "  <thead>\n",
       "    <tr style=\"text-align: right;\">\n",
       "      <th></th>\n",
       "      <th>data type</th>\n",
       "      <th>description</th>\n",
       "      <th>example</th>\n",
       "      <th>options</th>\n",
       "      <th>default</th>\n",
       "      <th>required</th>\n",
       "    </tr>\n",
       "    <tr>\n",
       "      <th>parameter name</th>\n",
       "      <th></th>\n",
       "      <th></th>\n",
       "      <th></th>\n",
       "      <th></th>\n",
       "      <th></th>\n",
       "      <th></th>\n",
       "    </tr>\n",
       "  </thead>\n",
       "  <tbody>\n",
       "    <tr>\n",
       "      <th>symbol</th>\n",
       "      <td>string</td>\n",
       "      <td></td>\n",
       "      <td>CD33</td>\n",
       "      <td></td>\n",
       "      <td></td>\n",
       "      <td>False</td>\n",
       "    </tr>\n",
       "  </tbody>\n",
       "</table>\n",
       "</div>"
      ],
      "text/plain": [
       "               data type description example options default  required\n",
       "parameter name                                                        \n",
       "symbol            string                CD33                     False"
      ]
     },
     "metadata": {},
     "output_type": "display_data"
    },
    {
     "data": {
      "text/html": [
       "<b>Example URL:</b> <a href=\"http://0.0.0.0:5000/api/v1/hgnc/uniprot_accession_by_hgnc_symbol?symbol=CD33\">http://0.0.0.0:5000/api/v1/hgnc/uniprot_accession_by_hgnc_symbol?symbol=CD33</a>"
      ],
      "text/plain": [
       "<IPython.core.display.HTML object>"
      ]
     },
     "metadata": {},
     "output_type": "display_data"
    },
    {
     "data": {
      "text/html": [
       "<b style=\"color: rgb(98,98,98); text-decoration: underline;\">Example response:</b>"
      ],
      "text/plain": [
       "<IPython.core.display.HTML object>"
      ]
     },
     "metadata": {},
     "output_type": "display_data"
    },
    {
     "name": "stdout",
     "output_type": "stream",
     "text": [
      "\u001b[38;5;124m'\u001b[39m\u001b[38;5;124mP20138\u001b[39m\u001b[38;5;124m'\u001b[39m\n",
      "\n",
      "For further testing go to http://0.0.0.0:5000/ui/#/HGNC/ebel.web.api.ebel.v1.hgnc.get_uniprot_accession_by_hgnc_symbol\n"
     ]
    }
   ],
   "source": [
    "import api_doc\n",
    "api_doc.get_api_methods_by_tag('HGNC')"
   ]
  }
 ],
 "metadata": {
  "kernelspec": {
   "display_name": "Python 3 (ipykernel)",
   "language": "python",
   "name": "python3"
  },
  "language_info": {
   "codemirror_mode": {
    "name": "ipython",
    "version": 3
   },
   "file_extension": ".py",
   "mimetype": "text/x-python",
   "name": "python",
   "nbconvert_exporter": "python",
   "pygments_lexer": "ipython3",
   "version": "3.8.10"
  },
  "toc": {
   "base_numbering": 1,
   "nav_menu": {},
   "number_sections": true,
   "sideBar": true,
   "skip_h1_title": true,
   "title_cell": "Table of Contents",
   "title_sidebar": "Contents",
   "toc_cell": false,
   "toc_position": {},
   "toc_section_display": true,
   "toc_window_display": false
  }
 },
 "nbformat": 4,
 "nbformat_minor": 5
}
