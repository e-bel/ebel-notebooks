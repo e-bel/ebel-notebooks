{
 "cells": [
  {
   "cell_type": "markdown",
   "id": "bf137ffa",
   "metadata": {},
   "source": [
    "# Protein Atlas API methods"
   ]
  },
  {
   "cell_type": "code",
   "execution_count": 1,
   "id": "47e282e4",
   "metadata": {
    "scrolled": false
   },
   "outputs": [
    {
     "data": {
      "text/html": [
       "<h2>1. Protein Expression normal tissue</h2>"
      ],
      "text/plain": [
       "<IPython.core.display.HTML object>"
      ]
     },
     "metadata": {},
     "output_type": "display_data"
    },
    {
     "data": {
      "text/html": [
       "<b style=\"color: rgb(98,98,98); text-decoration: underline;\">Description:</b> <p>Protein Expression normal tissue</p>"
      ],
      "text/plain": [
       "<IPython.core.display.HTML object>"
      ]
     },
     "metadata": {},
     "output_type": "display_data"
    },
    {
     "data": {
      "text/html": [
       "<b>Tags:</b> ['Protein Atlas']"
      ],
      "text/plain": [
       "<IPython.core.display.HTML object>"
      ]
     },
     "metadata": {},
     "output_type": "display_data"
    },
    {
     "data": {
      "text/html": [
       "<b>Server path:</b> /api/v1/ebel/protein_atlas/normal_tissue"
      ],
      "text/plain": [
       "<IPython.core.display.HTML object>"
      ]
     },
     "metadata": {},
     "output_type": "display_data"
    },
    {
     "data": {
      "text/html": [
       "<div>\n",
       "<style scoped>\n",
       "    .dataframe tbody tr th:only-of-type {\n",
       "        vertical-align: middle;\n",
       "    }\n",
       "\n",
       "    .dataframe tbody tr th {\n",
       "        vertical-align: top;\n",
       "    }\n",
       "\n",
       "    .dataframe thead th {\n",
       "        text-align: right;\n",
       "    }\n",
       "</style>\n",
       "<table border=\"1\" class=\"dataframe\">\n",
       "  <thead>\n",
       "    <tr style=\"text-align: right;\">\n",
       "      <th></th>\n",
       "      <th>data type</th>\n",
       "      <th>description</th>\n",
       "      <th>example</th>\n",
       "      <th>options</th>\n",
       "      <th>default</th>\n",
       "      <th>required</th>\n",
       "    </tr>\n",
       "    <tr>\n",
       "      <th>parameter name</th>\n",
       "      <th></th>\n",
       "      <th></th>\n",
       "      <th></th>\n",
       "      <th></th>\n",
       "      <th></th>\n",
       "      <th></th>\n",
       "    </tr>\n",
       "  </thead>\n",
       "  <tbody>\n",
       "    <tr>\n",
       "      <th>gene</th>\n",
       "      <td>string</td>\n",
       "      <td></td>\n",
       "      <td>ENSG00000105383</td>\n",
       "      <td></td>\n",
       "      <td></td>\n",
       "      <td>False</td>\n",
       "    </tr>\n",
       "    <tr>\n",
       "      <th>gene_name</th>\n",
       "      <td>string</td>\n",
       "      <td></td>\n",
       "      <td>CD33</td>\n",
       "      <td></td>\n",
       "      <td></td>\n",
       "      <td>False</td>\n",
       "    </tr>\n",
       "    <tr>\n",
       "      <th>tissue</th>\n",
       "      <td>string</td>\n",
       "      <td></td>\n",
       "      <td>adipose tissue</td>\n",
       "      <td></td>\n",
       "      <td></td>\n",
       "      <td>False</td>\n",
       "    </tr>\n",
       "    <tr>\n",
       "      <th>cell_type</th>\n",
       "      <td>string</td>\n",
       "      <td></td>\n",
       "      <td>adipocytes</td>\n",
       "      <td></td>\n",
       "      <td></td>\n",
       "      <td>False</td>\n",
       "    </tr>\n",
       "    <tr>\n",
       "      <th>level</th>\n",
       "      <td>string</td>\n",
       "      <td></td>\n",
       "      <td>Not detected</td>\n",
       "      <td></td>\n",
       "      <td></td>\n",
       "      <td>False</td>\n",
       "    </tr>\n",
       "    <tr>\n",
       "      <th>reliability</th>\n",
       "      <td>string</td>\n",
       "      <td></td>\n",
       "      <td>Approved</td>\n",
       "      <td></td>\n",
       "      <td></td>\n",
       "      <td>False</td>\n",
       "    </tr>\n",
       "    <tr>\n",
       "      <th>page_size</th>\n",
       "      <td>integer</td>\n",
       "      <td>Results per page</td>\n",
       "      <td>1</td>\n",
       "      <td></td>\n",
       "      <td>10.0</td>\n",
       "      <td>False</td>\n",
       "    </tr>\n",
       "    <tr>\n",
       "      <th>page</th>\n",
       "      <td>integer</td>\n",
       "      <td>Page number (starting with 1)</td>\n",
       "      <td>1</td>\n",
       "      <td></td>\n",
       "      <td>1.0</td>\n",
       "      <td>False</td>\n",
       "    </tr>\n",
       "  </tbody>\n",
       "</table>\n",
       "</div>"
      ],
      "text/plain": [
       "               data type                    description          example  \\\n",
       "parameter name                                                             \n",
       "gene              string                                 ENSG00000105383   \n",
       "gene_name         string                                            CD33   \n",
       "tissue            string                                  adipose tissue   \n",
       "cell_type         string                                      adipocytes   \n",
       "level             string                                    Not detected   \n",
       "reliability       string                                        Approved   \n",
       "page_size        integer               Results per page                1   \n",
       "page             integer  Page number (starting with 1)                1   \n",
       "\n",
       "               options default  required  \n",
       "parameter name                            \n",
       "gene                               False  \n",
       "gene_name                          False  \n",
       "tissue                             False  \n",
       "cell_type                          False  \n",
       "level                              False  \n",
       "reliability                        False  \n",
       "page_size                 10.0     False  \n",
       "page                       1.0     False  "
      ]
     },
     "metadata": {},
     "output_type": "display_data"
    },
    {
     "data": {
      "text/html": [
       "<b>Example URL:</b> <a href=\"http://0.0.0.0:5000/api/v1/ebel/protein_atlas/normal_tissue?gene=ENSG00000105383&gene_name=CD33&tissue=adipose+tissue&cell_type=adipocytes&level=Not+detected&reliability=Approved&page_size=1&page=1\">http://0.0.0.0:5000/api/v1/ebel/protein_atlas/normal_tissue?gene=ENSG00000105383&gene_name=CD33&tissue=adipose+tissue&cell_type=adipocytes&level=Not+detected&reliability=Approved&page_size=1&page=1</a>"
      ],
      "text/plain": [
       "<IPython.core.display.HTML object>"
      ]
     },
     "metadata": {},
     "output_type": "display_data"
    },
    {
     "data": {
      "text/html": [
       "<b style=\"color: rgb(98,98,98); text-decoration: underline;\">Example response:</b>"
      ],
      "text/plain": [
       "<IPython.core.display.HTML object>"
      ]
     },
     "metadata": {},
     "output_type": "display_data"
    },
    {
     "name": "stdout",
     "output_type": "stream",
     "text": [
      "{\u001b[38;5;124m'\u001b[39m\u001b[38;5;124mnumber_of_results\u001b[39m\u001b[38;5;124m'\u001b[39m: \u001b[38;5;241m1\u001b[39m,\n",
      " \u001b[38;5;124m'\u001b[39m\u001b[38;5;124mpage\u001b[39m\u001b[38;5;124m'\u001b[39m: \u001b[38;5;241m1\u001b[39m,\n",
      " \u001b[38;5;124m'\u001b[39m\u001b[38;5;124mpage_size\u001b[39m\u001b[38;5;124m'\u001b[39m: \u001b[38;5;241m1\u001b[39m,\n",
      " \u001b[38;5;124m'\u001b[39m\u001b[38;5;124mpages\u001b[39m\u001b[38;5;124m'\u001b[39m: \u001b[38;5;241m1\u001b[39m,\n",
      " \u001b[38;5;124m'\u001b[39m\u001b[38;5;124mresults\u001b[39m\u001b[38;5;124m'\u001b[39m: [{\u001b[38;5;124m'\u001b[39m\u001b[38;5;124mcell_type\u001b[39m\u001b[38;5;124m'\u001b[39m: \u001b[38;5;124m'\u001b[39m\u001b[38;5;124madipocytes\u001b[39m\u001b[38;5;124m'\u001b[39m,\n",
      "              \u001b[38;5;124m'\u001b[39m\u001b[38;5;124mgene\u001b[39m\u001b[38;5;124m'\u001b[39m: \u001b[38;5;124m'\u001b[39m\u001b[38;5;124mENSG00000105383\u001b[39m\u001b[38;5;124m'\u001b[39m,\n",
      "              \u001b[38;5;124m'\u001b[39m\u001b[38;5;124mgene_name\u001b[39m\u001b[38;5;124m'\u001b[39m: \u001b[38;5;124m'\u001b[39m\u001b[38;5;124mCD33\u001b[39m\u001b[38;5;124m'\u001b[39m,\n",
      "              \u001b[38;5;124m'\u001b[39m\u001b[38;5;124mlevel\u001b[39m\u001b[38;5;124m'\u001b[39m: \u001b[38;5;124m'\u001b[39m\u001b[38;5;124mNot detected\u001b[39m\u001b[38;5;124m'\u001b[39m,\n",
      "              \u001b[38;5;124m'\u001b[39m\u001b[38;5;124mreliability\u001b[39m\u001b[38;5;124m'\u001b[39m: \u001b[38;5;124m'\u001b[39m\u001b[38;5;124mApproved\u001b[39m\u001b[38;5;124m'\u001b[39m,\n",
      "              \u001b[38;5;124m'\u001b[39m\u001b[38;5;124mtissue\u001b[39m\u001b[38;5;124m'\u001b[39m: \u001b[38;5;124m'\u001b[39m\u001b[38;5;124madipose tissue\u001b[39m\u001b[38;5;124m'\u001b[39m}]}\n",
      "\n",
      "For further testing go to http://0.0.0.0:5000/ui/#/Protein Atlas/ebel.web.api.ebel.v1.protein_atlas.get_normal_tissue\n"
     ]
    },
    {
     "data": {
      "text/html": [
       "<h2>2. RNA expression brain Fantom</h2>"
      ],
      "text/plain": [
       "<IPython.core.display.HTML object>"
      ]
     },
     "metadata": {},
     "output_type": "display_data"
    },
    {
     "data": {
      "text/html": [
       "<b style=\"color: rgb(98,98,98); text-decoration: underline;\">Description:</b> <p>RNA expression brain Fantom</p>"
      ],
      "text/plain": [
       "<IPython.core.display.HTML object>"
      ]
     },
     "metadata": {},
     "output_type": "display_data"
    },
    {
     "data": {
      "text/html": [
       "<b>Tags:</b> ['Protein Atlas']"
      ],
      "text/plain": [
       "<IPython.core.display.HTML object>"
      ]
     },
     "metadata": {},
     "output_type": "display_data"
    },
    {
     "data": {
      "text/html": [
       "<b>Server path:</b> /api/v1/ebel/protein_atlas/rna_brain_fantom"
      ],
      "text/plain": [
       "<IPython.core.display.HTML object>"
      ]
     },
     "metadata": {},
     "output_type": "display_data"
    },
    {
     "data": {
      "text/html": [
       "<div>\n",
       "<style scoped>\n",
       "    .dataframe tbody tr th:only-of-type {\n",
       "        vertical-align: middle;\n",
       "    }\n",
       "\n",
       "    .dataframe tbody tr th {\n",
       "        vertical-align: top;\n",
       "    }\n",
       "\n",
       "    .dataframe thead th {\n",
       "        text-align: right;\n",
       "    }\n",
       "</style>\n",
       "<table border=\"1\" class=\"dataframe\">\n",
       "  <thead>\n",
       "    <tr style=\"text-align: right;\">\n",
       "      <th></th>\n",
       "      <th>data type</th>\n",
       "      <th>description</th>\n",
       "      <th>example</th>\n",
       "      <th>options</th>\n",
       "      <th>default</th>\n",
       "      <th>required</th>\n",
       "    </tr>\n",
       "    <tr>\n",
       "      <th>parameter name</th>\n",
       "      <th></th>\n",
       "      <th></th>\n",
       "      <th></th>\n",
       "      <th></th>\n",
       "      <th></th>\n",
       "      <th></th>\n",
       "    </tr>\n",
       "  </thead>\n",
       "  <tbody>\n",
       "    <tr>\n",
       "      <th>gene</th>\n",
       "      <td>string</td>\n",
       "      <td></td>\n",
       "      <td>ENSG00000105383</td>\n",
       "      <td></td>\n",
       "      <td></td>\n",
       "      <td>False</td>\n",
       "    </tr>\n",
       "    <tr>\n",
       "      <th>gene_name</th>\n",
       "      <td>string</td>\n",
       "      <td></td>\n",
       "      <td>CD33</td>\n",
       "      <td></td>\n",
       "      <td></td>\n",
       "      <td>False</td>\n",
       "    </tr>\n",
       "    <tr>\n",
       "      <th>brain_region</th>\n",
       "      <td>string</td>\n",
       "      <td></td>\n",
       "      <td>amygdala</td>\n",
       "      <td></td>\n",
       "      <td></td>\n",
       "      <td>False</td>\n",
       "    </tr>\n",
       "    <tr>\n",
       "      <th>tags_per_million</th>\n",
       "      <td>number</td>\n",
       "      <td></td>\n",
       "      <td>10.7</td>\n",
       "      <td></td>\n",
       "      <td></td>\n",
       "      <td>False</td>\n",
       "    </tr>\n",
       "    <tr>\n",
       "      <th>scaled_tags_per_million</th>\n",
       "      <td>number</td>\n",
       "      <td></td>\n",
       "      <td>12.4</td>\n",
       "      <td></td>\n",
       "      <td></td>\n",
       "      <td>False</td>\n",
       "    </tr>\n",
       "    <tr>\n",
       "      <th>nx</th>\n",
       "      <td>number</td>\n",
       "      <td></td>\n",
       "      <td>3.6</td>\n",
       "      <td></td>\n",
       "      <td></td>\n",
       "      <td>False</td>\n",
       "    </tr>\n",
       "    <tr>\n",
       "      <th>page_size</th>\n",
       "      <td>integer</td>\n",
       "      <td>Results per page</td>\n",
       "      <td>1</td>\n",
       "      <td></td>\n",
       "      <td>10.0</td>\n",
       "      <td>False</td>\n",
       "    </tr>\n",
       "    <tr>\n",
       "      <th>page</th>\n",
       "      <td>integer</td>\n",
       "      <td>Page number (starting with 1)</td>\n",
       "      <td>1</td>\n",
       "      <td></td>\n",
       "      <td>1.0</td>\n",
       "      <td>False</td>\n",
       "    </tr>\n",
       "  </tbody>\n",
       "</table>\n",
       "</div>"
      ],
      "text/plain": [
       "                        data type                    description  \\\n",
       "parameter name                                                     \n",
       "gene                       string                                  \n",
       "gene_name                  string                                  \n",
       "brain_region               string                                  \n",
       "tags_per_million           number                                  \n",
       "scaled_tags_per_million    number                                  \n",
       "nx                         number                                  \n",
       "page_size                 integer               Results per page   \n",
       "page                      integer  Page number (starting with 1)   \n",
       "\n",
       "                                 example options default  required  \n",
       "parameter name                                                      \n",
       "gene                     ENSG00000105383                     False  \n",
       "gene_name                           CD33                     False  \n",
       "brain_region                    amygdala                     False  \n",
       "tags_per_million                    10.7                     False  \n",
       "scaled_tags_per_million             12.4                     False  \n",
       "nx                                   3.6                     False  \n",
       "page_size                              1            10.0     False  \n",
       "page                                   1             1.0     False  "
      ]
     },
     "metadata": {},
     "output_type": "display_data"
    },
    {
     "data": {
      "text/html": [
       "<b>Example URL:</b> <a href=\"http://0.0.0.0:5000/api/v1/ebel/protein_atlas/rna_brain_fantom?gene=ENSG00000105383&gene_name=CD33&brain_region=amygdala&tags_per_million=10.7&scaled_tags_per_million=12.4&nx=3.6&page_size=1&page=1\">http://0.0.0.0:5000/api/v1/ebel/protein_atlas/rna_brain_fantom?gene=ENSG00000105383&gene_name=CD33&brain_region=amygdala&tags_per_million=10.7&scaled_tags_per_million=12.4&nx=3.6&page_size=1&page=1</a>"
      ],
      "text/plain": [
       "<IPython.core.display.HTML object>"
      ]
     },
     "metadata": {},
     "output_type": "display_data"
    },
    {
     "data": {
      "text/html": [
       "<b style=\"color: rgb(98,98,98); text-decoration: underline;\">Example response:</b>"
      ],
      "text/plain": [
       "<IPython.core.display.HTML object>"
      ]
     },
     "metadata": {},
     "output_type": "display_data"
    },
    {
     "name": "stdout",
     "output_type": "stream",
     "text": [
      "{\u001b[38;5;124m'\u001b[39m\u001b[38;5;124mnumber_of_results\u001b[39m\u001b[38;5;124m'\u001b[39m: \u001b[38;5;241m1\u001b[39m,\n",
      " \u001b[38;5;124m'\u001b[39m\u001b[38;5;124mpage\u001b[39m\u001b[38;5;124m'\u001b[39m: \u001b[38;5;241m1\u001b[39m,\n",
      " \u001b[38;5;124m'\u001b[39m\u001b[38;5;124mpage_size\u001b[39m\u001b[38;5;124m'\u001b[39m: \u001b[38;5;241m1\u001b[39m,\n",
      " \u001b[38;5;124m'\u001b[39m\u001b[38;5;124mpages\u001b[39m\u001b[38;5;124m'\u001b[39m: \u001b[38;5;241m1\u001b[39m,\n",
      " \u001b[38;5;124m'\u001b[39m\u001b[38;5;124mresults\u001b[39m\u001b[38;5;124m'\u001b[39m: [{\u001b[38;5;124m'\u001b[39m\u001b[38;5;124mbrain_region\u001b[39m\u001b[38;5;124m'\u001b[39m: \u001b[38;5;124m'\u001b[39m\u001b[38;5;124mamygdala\u001b[39m\u001b[38;5;124m'\u001b[39m,\n",
      "              \u001b[38;5;124m'\u001b[39m\u001b[38;5;124mgene\u001b[39m\u001b[38;5;124m'\u001b[39m: \u001b[38;5;124m'\u001b[39m\u001b[38;5;124mENSG00000105383\u001b[39m\u001b[38;5;124m'\u001b[39m,\n",
      "              \u001b[38;5;124m'\u001b[39m\u001b[38;5;124mgene_name\u001b[39m\u001b[38;5;124m'\u001b[39m: \u001b[38;5;124m'\u001b[39m\u001b[38;5;124mCD33\u001b[39m\u001b[38;5;124m'\u001b[39m,\n",
      "              \u001b[38;5;124m'\u001b[39m\u001b[38;5;124mnx\u001b[39m\u001b[38;5;124m'\u001b[39m: \u001b[38;5;124m'\u001b[39m\u001b[38;5;124m3.6\u001b[39m\u001b[38;5;124m'\u001b[39m,\n",
      "              \u001b[38;5;124m'\u001b[39m\u001b[38;5;124mscaled_tags_per_million\u001b[39m\u001b[38;5;124m'\u001b[39m: \u001b[38;5;124m'\u001b[39m\u001b[38;5;124m12.4\u001b[39m\u001b[38;5;124m'\u001b[39m,\n",
      "              \u001b[38;5;124m'\u001b[39m\u001b[38;5;124mtags_per_million\u001b[39m\u001b[38;5;124m'\u001b[39m: \u001b[38;5;124m'\u001b[39m\u001b[38;5;124m10.7\u001b[39m\u001b[38;5;124m'\u001b[39m}]}\n",
      "\n",
      "For further testing go to http://0.0.0.0:5000/ui/#/Protein Atlas/ebel.web.api.ebel.v1.protein_atlas.get_rna_brain_fantom\n"
     ]
    },
    {
     "data": {
      "text/html": [
       "<h2>3. Protein Expression</h2>"
      ],
      "text/plain": [
       "<IPython.core.display.HTML object>"
      ]
     },
     "metadata": {},
     "output_type": "display_data"
    },
    {
     "data": {
      "text/html": [
       "<b style=\"color: rgb(98,98,98); text-decoration: underline;\">Description:</b> <p>Protein Expression</p>"
      ],
      "text/plain": [
       "<IPython.core.display.HTML object>"
      ]
     },
     "metadata": {},
     "output_type": "display_data"
    },
    {
     "data": {
      "text/html": [
       "<b>Tags:</b> ['Protein Atlas']"
      ],
      "text/plain": [
       "<IPython.core.display.HTML object>"
      ]
     },
     "metadata": {},
     "output_type": "display_data"
    },
    {
     "data": {
      "text/html": [
       "<b>Server path:</b> /api/v1/ebel/protein_atlas/rna_brain_gtex"
      ],
      "text/plain": [
       "<IPython.core.display.HTML object>"
      ]
     },
     "metadata": {},
     "output_type": "display_data"
    },
    {
     "data": {
      "text/html": [
       "<div>\n",
       "<style scoped>\n",
       "    .dataframe tbody tr th:only-of-type {\n",
       "        vertical-align: middle;\n",
       "    }\n",
       "\n",
       "    .dataframe tbody tr th {\n",
       "        vertical-align: top;\n",
       "    }\n",
       "\n",
       "    .dataframe thead th {\n",
       "        text-align: right;\n",
       "    }\n",
       "</style>\n",
       "<table border=\"1\" class=\"dataframe\">\n",
       "  <thead>\n",
       "    <tr style=\"text-align: right;\">\n",
       "      <th></th>\n",
       "      <th>data type</th>\n",
       "      <th>description</th>\n",
       "      <th>example</th>\n",
       "      <th>options</th>\n",
       "      <th>default</th>\n",
       "      <th>required</th>\n",
       "    </tr>\n",
       "    <tr>\n",
       "      <th>parameter name</th>\n",
       "      <th></th>\n",
       "      <th></th>\n",
       "      <th></th>\n",
       "      <th></th>\n",
       "      <th></th>\n",
       "      <th></th>\n",
       "    </tr>\n",
       "  </thead>\n",
       "  <tbody>\n",
       "    <tr>\n",
       "      <th>gene</th>\n",
       "      <td>string</td>\n",
       "      <td></td>\n",
       "      <td>ENSG00000000003</td>\n",
       "      <td></td>\n",
       "      <td></td>\n",
       "      <td>False</td>\n",
       "    </tr>\n",
       "    <tr>\n",
       "      <th>gene_name</th>\n",
       "      <td>string</td>\n",
       "      <td></td>\n",
       "      <td>TSPAN6</td>\n",
       "      <td></td>\n",
       "      <td></td>\n",
       "      <td>False</td>\n",
       "    </tr>\n",
       "    <tr>\n",
       "      <th>brain_region</th>\n",
       "      <td>string</td>\n",
       "      <td></td>\n",
       "      <td>amygdala</td>\n",
       "      <td></td>\n",
       "      <td></td>\n",
       "      <td>False</td>\n",
       "    </tr>\n",
       "    <tr>\n",
       "      <th>tpm</th>\n",
       "      <td>number</td>\n",
       "      <td></td>\n",
       "      <td>7.3</td>\n",
       "      <td></td>\n",
       "      <td></td>\n",
       "      <td>False</td>\n",
       "    </tr>\n",
       "    <tr>\n",
       "      <th>p_tpm</th>\n",
       "      <td>number</td>\n",
       "      <td></td>\n",
       "      <td>9.0</td>\n",
       "      <td></td>\n",
       "      <td></td>\n",
       "      <td>False</td>\n",
       "    </tr>\n",
       "    <tr>\n",
       "      <th>nx</th>\n",
       "      <td>number</td>\n",
       "      <td></td>\n",
       "      <td>7.0</td>\n",
       "      <td></td>\n",
       "      <td></td>\n",
       "      <td>False</td>\n",
       "    </tr>\n",
       "    <tr>\n",
       "      <th>page_size</th>\n",
       "      <td>integer</td>\n",
       "      <td>Results per page</td>\n",
       "      <td>1</td>\n",
       "      <td></td>\n",
       "      <td>10.0</td>\n",
       "      <td>False</td>\n",
       "    </tr>\n",
       "    <tr>\n",
       "      <th>page</th>\n",
       "      <td>integer</td>\n",
       "      <td>Page number (starting with 1)</td>\n",
       "      <td>1</td>\n",
       "      <td></td>\n",
       "      <td>1.0</td>\n",
       "      <td>False</td>\n",
       "    </tr>\n",
       "  </tbody>\n",
       "</table>\n",
       "</div>"
      ],
      "text/plain": [
       "               data type                    description          example  \\\n",
       "parameter name                                                             \n",
       "gene              string                                 ENSG00000000003   \n",
       "gene_name         string                                          TSPAN6   \n",
       "brain_region      string                                        amygdala   \n",
       "tpm               number                                             7.3   \n",
       "p_tpm             number                                             9.0   \n",
       "nx                number                                             7.0   \n",
       "page_size        integer               Results per page                1   \n",
       "page             integer  Page number (starting with 1)                1   \n",
       "\n",
       "               options default  required  \n",
       "parameter name                            \n",
       "gene                               False  \n",
       "gene_name                          False  \n",
       "brain_region                       False  \n",
       "tpm                                False  \n",
       "p_tpm                              False  \n",
       "nx                                 False  \n",
       "page_size                 10.0     False  \n",
       "page                       1.0     False  "
      ]
     },
     "metadata": {},
     "output_type": "display_data"
    },
    {
     "data": {
      "text/html": [
       "<b>Example URL:</b> <a href=\"http://0.0.0.0:5000/api/v1/ebel/protein_atlas/rna_brain_gtex?gene=ENSG00000000003&gene_name=TSPAN6&brain_region=amygdala&tpm=7.3&p_tpm=9.0&nx=7.0&page_size=1&page=1\">http://0.0.0.0:5000/api/v1/ebel/protein_atlas/rna_brain_gtex?gene=ENSG00000000003&gene_name=TSPAN6&brain_region=amygdala&tpm=7.3&p_tpm=9.0&nx=7.0&page_size=1&page=1</a>"
      ],
      "text/plain": [
       "<IPython.core.display.HTML object>"
      ]
     },
     "metadata": {},
     "output_type": "display_data"
    },
    {
     "data": {
      "text/html": [
       "<b style=\"color: rgb(98,98,98); text-decoration: underline;\">Example response:</b>"
      ],
      "text/plain": [
       "<IPython.core.display.HTML object>"
      ]
     },
     "metadata": {},
     "output_type": "display_data"
    },
    {
     "name": "stdout",
     "output_type": "stream",
     "text": [
      "{\u001b[38;5;124m'\u001b[39m\u001b[38;5;124mnumber_of_results\u001b[39m\u001b[38;5;124m'\u001b[39m: \u001b[38;5;241m1\u001b[39m,\n",
      " \u001b[38;5;124m'\u001b[39m\u001b[38;5;124mpage\u001b[39m\u001b[38;5;124m'\u001b[39m: \u001b[38;5;241m1\u001b[39m,\n",
      " \u001b[38;5;124m'\u001b[39m\u001b[38;5;124mpage_size\u001b[39m\u001b[38;5;124m'\u001b[39m: \u001b[38;5;241m1\u001b[39m,\n",
      " \u001b[38;5;124m'\u001b[39m\u001b[38;5;124mpages\u001b[39m\u001b[38;5;124m'\u001b[39m: \u001b[38;5;241m1\u001b[39m,\n",
      " \u001b[38;5;124m'\u001b[39m\u001b[38;5;124mresults\u001b[39m\u001b[38;5;124m'\u001b[39m: [{\u001b[38;5;124m'\u001b[39m\u001b[38;5;124mbrain_region\u001b[39m\u001b[38;5;124m'\u001b[39m: \u001b[38;5;124m'\u001b[39m\u001b[38;5;124mamygdala\u001b[39m\u001b[38;5;124m'\u001b[39m,\n",
      "              \u001b[38;5;124m'\u001b[39m\u001b[38;5;124mgene\u001b[39m\u001b[38;5;124m'\u001b[39m: \u001b[38;5;124m'\u001b[39m\u001b[38;5;124mENSG00000000003\u001b[39m\u001b[38;5;124m'\u001b[39m,\n",
      "              \u001b[38;5;124m'\u001b[39m\u001b[38;5;124mgene_name\u001b[39m\u001b[38;5;124m'\u001b[39m: \u001b[38;5;124m'\u001b[39m\u001b[38;5;124mTSPAN6\u001b[39m\u001b[38;5;124m'\u001b[39m,\n",
      "              \u001b[38;5;124m'\u001b[39m\u001b[38;5;124mnx\u001b[39m\u001b[38;5;124m'\u001b[39m: \u001b[38;5;241m7.0\u001b[39m,\n",
      "              \u001b[38;5;124m'\u001b[39m\u001b[38;5;124mp_tpm\u001b[39m\u001b[38;5;124m'\u001b[39m: \u001b[38;5;241m9.0\u001b[39m,\n",
      "              \u001b[38;5;124m'\u001b[39m\u001b[38;5;124mtpm\u001b[39m\u001b[38;5;124m'\u001b[39m: \u001b[38;5;241m7.3\u001b[39m}]}\n",
      "\n",
      "For further testing go to http://0.0.0.0:5000/ui/#/Protein Atlas/ebel.web.api.ebel.v1.protein_atlas.get_rna_brain_gtex\n"
     ]
    },
    {
     "data": {
      "text/html": [
       "<h2>4. RNA expression mouse brain Allen</h2>"
      ],
      "text/plain": [
       "<IPython.core.display.HTML object>"
      ]
     },
     "metadata": {},
     "output_type": "display_data"
    },
    {
     "data": {
      "text/html": [
       "<b style=\"color: rgb(98,98,98); text-decoration: underline;\">Description:</b> <p>RNA expression mouse brain Allen</p>"
      ],
      "text/plain": [
       "<IPython.core.display.HTML object>"
      ]
     },
     "metadata": {},
     "output_type": "display_data"
    },
    {
     "data": {
      "text/html": [
       "<b>Tags:</b> ['Protein Atlas']"
      ],
      "text/plain": [
       "<IPython.core.display.HTML object>"
      ]
     },
     "metadata": {},
     "output_type": "display_data"
    },
    {
     "data": {
      "text/html": [
       "<b>Server path:</b> /api/v1/ebel/protein_atlas/rna_mouse_brain_allen"
      ],
      "text/plain": [
       "<IPython.core.display.HTML object>"
      ]
     },
     "metadata": {},
     "output_type": "display_data"
    },
    {
     "data": {
      "text/html": [
       "<div>\n",
       "<style scoped>\n",
       "    .dataframe tbody tr th:only-of-type {\n",
       "        vertical-align: middle;\n",
       "    }\n",
       "\n",
       "    .dataframe tbody tr th {\n",
       "        vertical-align: top;\n",
       "    }\n",
       "\n",
       "    .dataframe thead th {\n",
       "        text-align: right;\n",
       "    }\n",
       "</style>\n",
       "<table border=\"1\" class=\"dataframe\">\n",
       "  <thead>\n",
       "    <tr style=\"text-align: right;\">\n",
       "      <th></th>\n",
       "      <th>data type</th>\n",
       "      <th>description</th>\n",
       "      <th>example</th>\n",
       "      <th>options</th>\n",
       "      <th>default</th>\n",
       "      <th>required</th>\n",
       "    </tr>\n",
       "    <tr>\n",
       "      <th>parameter name</th>\n",
       "      <th></th>\n",
       "      <th></th>\n",
       "      <th></th>\n",
       "      <th></th>\n",
       "      <th></th>\n",
       "      <th></th>\n",
       "    </tr>\n",
       "  </thead>\n",
       "  <tbody>\n",
       "    <tr>\n",
       "      <th>gene</th>\n",
       "      <td>string</td>\n",
       "      <td></td>\n",
       "      <td>ENSG00000095970</td>\n",
       "      <td></td>\n",
       "      <td></td>\n",
       "      <td>False</td>\n",
       "    </tr>\n",
       "    <tr>\n",
       "      <th>gene_name</th>\n",
       "      <td>string</td>\n",
       "      <td></td>\n",
       "      <td>TREM2</td>\n",
       "      <td></td>\n",
       "      <td></td>\n",
       "      <td>False</td>\n",
       "    </tr>\n",
       "    <tr>\n",
       "      <th>brain_region</th>\n",
       "      <td>string</td>\n",
       "      <td></td>\n",
       "      <td>amygdala</td>\n",
       "      <td></td>\n",
       "      <td></td>\n",
       "      <td>False</td>\n",
       "    </tr>\n",
       "    <tr>\n",
       "      <th>expression_energy</th>\n",
       "      <td>number</td>\n",
       "      <td></td>\n",
       "      <td>0.5</td>\n",
       "      <td></td>\n",
       "      <td></td>\n",
       "      <td>False</td>\n",
       "    </tr>\n",
       "    <tr>\n",
       "      <th>page_size</th>\n",
       "      <td>integer</td>\n",
       "      <td>Results per page</td>\n",
       "      <td>1</td>\n",
       "      <td></td>\n",
       "      <td>10.0</td>\n",
       "      <td>False</td>\n",
       "    </tr>\n",
       "    <tr>\n",
       "      <th>page</th>\n",
       "      <td>integer</td>\n",
       "      <td>Page number (starting with 1)</td>\n",
       "      <td>1</td>\n",
       "      <td></td>\n",
       "      <td>1.0</td>\n",
       "      <td>False</td>\n",
       "    </tr>\n",
       "  </tbody>\n",
       "</table>\n",
       "</div>"
      ],
      "text/plain": [
       "                  data type                    description          example  \\\n",
       "parameter name                                                                \n",
       "gene                 string                                 ENSG00000095970   \n",
       "gene_name            string                                           TREM2   \n",
       "brain_region         string                                        amygdala   \n",
       "expression_energy    number                                             0.5   \n",
       "page_size           integer               Results per page                1   \n",
       "page                integer  Page number (starting with 1)                1   \n",
       "\n",
       "                  options default  required  \n",
       "parameter name                               \n",
       "gene                                  False  \n",
       "gene_name                             False  \n",
       "brain_region                          False  \n",
       "expression_energy                     False  \n",
       "page_size                    10.0     False  \n",
       "page                          1.0     False  "
      ]
     },
     "metadata": {},
     "output_type": "display_data"
    },
    {
     "data": {
      "text/html": [
       "<b>Example URL:</b> <a href=\"http://0.0.0.0:5000/api/v1/ebel/protein_atlas/rna_mouse_brain_allen?gene=ENSG00000095970&gene_name=TREM2&brain_region=amygdala&expression_energy=0.5&page_size=1&page=1\">http://0.0.0.0:5000/api/v1/ebel/protein_atlas/rna_mouse_brain_allen?gene=ENSG00000095970&gene_name=TREM2&brain_region=amygdala&expression_energy=0.5&page_size=1&page=1</a>"
      ],
      "text/plain": [
       "<IPython.core.display.HTML object>"
      ]
     },
     "metadata": {},
     "output_type": "display_data"
    },
    {
     "data": {
      "text/html": [
       "<b style=\"color: rgb(98,98,98); text-decoration: underline;\">Example response:</b>"
      ],
      "text/plain": [
       "<IPython.core.display.HTML object>"
      ]
     },
     "metadata": {},
     "output_type": "display_data"
    },
    {
     "name": "stdout",
     "output_type": "stream",
     "text": [
      "{\u001b[38;5;124m'\u001b[39m\u001b[38;5;124mnumber_of_results\u001b[39m\u001b[38;5;124m'\u001b[39m: \u001b[38;5;241m1\u001b[39m,\n",
      " \u001b[38;5;124m'\u001b[39m\u001b[38;5;124mpage\u001b[39m\u001b[38;5;124m'\u001b[39m: \u001b[38;5;241m1\u001b[39m,\n",
      " \u001b[38;5;124m'\u001b[39m\u001b[38;5;124mpage_size\u001b[39m\u001b[38;5;124m'\u001b[39m: \u001b[38;5;241m1\u001b[39m,\n",
      " \u001b[38;5;124m'\u001b[39m\u001b[38;5;124mpages\u001b[39m\u001b[38;5;124m'\u001b[39m: \u001b[38;5;241m1\u001b[39m,\n",
      " \u001b[38;5;124m'\u001b[39m\u001b[38;5;124mresults\u001b[39m\u001b[38;5;124m'\u001b[39m: [{\u001b[38;5;124m'\u001b[39m\u001b[38;5;124mbrain_region\u001b[39m\u001b[38;5;124m'\u001b[39m: \u001b[38;5;124m'\u001b[39m\u001b[38;5;124mamygdala\u001b[39m\u001b[38;5;124m'\u001b[39m,\n",
      "              \u001b[38;5;124m'\u001b[39m\u001b[38;5;124mexpression_energy\u001b[39m\u001b[38;5;124m'\u001b[39m: \u001b[38;5;241m0.5\u001b[39m,\n",
      "              \u001b[38;5;124m'\u001b[39m\u001b[38;5;124mgene\u001b[39m\u001b[38;5;124m'\u001b[39m: \u001b[38;5;124m'\u001b[39m\u001b[38;5;124mENSG00000095970\u001b[39m\u001b[38;5;124m'\u001b[39m,\n",
      "              \u001b[38;5;124m'\u001b[39m\u001b[38;5;124mgene_name\u001b[39m\u001b[38;5;124m'\u001b[39m: \u001b[38;5;124m'\u001b[39m\u001b[38;5;124mTREM2\u001b[39m\u001b[38;5;124m'\u001b[39m}]}\n",
      "\n",
      "For further testing go to http://0.0.0.0:5000/ui/#/Protein Atlas/ebel.web.api.ebel.v1.protein_atlas.get_rna_mouse_brain_allen\n"
     ]
    },
    {
     "data": {
      "text/html": [
       "<h2>5. Protein Expression</h2>"
      ],
      "text/plain": [
       "<IPython.core.display.HTML object>"
      ]
     },
     "metadata": {},
     "output_type": "display_data"
    },
    {
     "data": {
      "text/html": [
       "<b style=\"color: rgb(98,98,98); text-decoration: underline;\">Description:</b> <p>Protein Expression</p>"
      ],
      "text/plain": [
       "<IPython.core.display.HTML object>"
      ]
     },
     "metadata": {},
     "output_type": "display_data"
    },
    {
     "data": {
      "text/html": [
       "<b>Tags:</b> ['Protein Atlas']"
      ],
      "text/plain": [
       "<IPython.core.display.HTML object>"
      ]
     },
     "metadata": {},
     "output_type": "display_data"
    },
    {
     "data": {
      "text/html": [
       "<b>Server path:</b> /api/v1/ebel/protein_atlas/rna_subcellular_location"
      ],
      "text/plain": [
       "<IPython.core.display.HTML object>"
      ]
     },
     "metadata": {},
     "output_type": "display_data"
    },
    {
     "data": {
      "text/html": [
       "<div>\n",
       "<style scoped>\n",
       "    .dataframe tbody tr th:only-of-type {\n",
       "        vertical-align: middle;\n",
       "    }\n",
       "\n",
       "    .dataframe tbody tr th {\n",
       "        vertical-align: top;\n",
       "    }\n",
       "\n",
       "    .dataframe thead th {\n",
       "        text-align: right;\n",
       "    }\n",
       "</style>\n",
       "<table border=\"1\" class=\"dataframe\">\n",
       "  <thead>\n",
       "    <tr style=\"text-align: right;\">\n",
       "      <th></th>\n",
       "      <th>data type</th>\n",
       "      <th>description</th>\n",
       "      <th>example</th>\n",
       "      <th>options</th>\n",
       "      <th>default</th>\n",
       "      <th>required</th>\n",
       "    </tr>\n",
       "    <tr>\n",
       "      <th>parameter name</th>\n",
       "      <th></th>\n",
       "      <th></th>\n",
       "      <th></th>\n",
       "      <th></th>\n",
       "      <th></th>\n",
       "      <th></th>\n",
       "    </tr>\n",
       "  </thead>\n",
       "  <tbody>\n",
       "    <tr>\n",
       "      <th>gene</th>\n",
       "      <td>string</td>\n",
       "      <td></td>\n",
       "      <td>ENSG00000105383</td>\n",
       "      <td></td>\n",
       "      <td></td>\n",
       "      <td>False</td>\n",
       "    </tr>\n",
       "    <tr>\n",
       "      <th>gene_name</th>\n",
       "      <td>string</td>\n",
       "      <td></td>\n",
       "      <td>CD33</td>\n",
       "      <td></td>\n",
       "      <td></td>\n",
       "      <td>False</td>\n",
       "    </tr>\n",
       "    <tr>\n",
       "      <th>reliability</th>\n",
       "      <td>string</td>\n",
       "      <td></td>\n",
       "      <td>Approved</td>\n",
       "      <td></td>\n",
       "      <td></td>\n",
       "      <td>False</td>\n",
       "    </tr>\n",
       "    <tr>\n",
       "      <th>main_location</th>\n",
       "      <td>string</td>\n",
       "      <td></td>\n",
       "      <td>Nucleoplasm;Plasma membrane</td>\n",
       "      <td></td>\n",
       "      <td></td>\n",
       "      <td>False</td>\n",
       "    </tr>\n",
       "    <tr>\n",
       "      <th>additional_location</th>\n",
       "      <td>string</td>\n",
       "      <td></td>\n",
       "      <td></td>\n",
       "      <td></td>\n",
       "      <td></td>\n",
       "      <td>False</td>\n",
       "    </tr>\n",
       "    <tr>\n",
       "      <th>extracellular_location</th>\n",
       "      <td>string</td>\n",
       "      <td></td>\n",
       "      <td></td>\n",
       "      <td></td>\n",
       "      <td></td>\n",
       "      <td>False</td>\n",
       "    </tr>\n",
       "    <tr>\n",
       "      <th>enhanced</th>\n",
       "      <td>string</td>\n",
       "      <td></td>\n",
       "      <td></td>\n",
       "      <td></td>\n",
       "      <td></td>\n",
       "      <td>False</td>\n",
       "    </tr>\n",
       "    <tr>\n",
       "      <th>supported</th>\n",
       "      <td>string</td>\n",
       "      <td></td>\n",
       "      <td>Plasma membrane</td>\n",
       "      <td></td>\n",
       "      <td></td>\n",
       "      <td>False</td>\n",
       "    </tr>\n",
       "    <tr>\n",
       "      <th>approved</th>\n",
       "      <td>string</td>\n",
       "      <td></td>\n",
       "      <td></td>\n",
       "      <td></td>\n",
       "      <td></td>\n",
       "      <td>False</td>\n",
       "    </tr>\n",
       "    <tr>\n",
       "      <th>uncertain</th>\n",
       "      <td>string</td>\n",
       "      <td></td>\n",
       "      <td>Nucleoplasm</td>\n",
       "      <td></td>\n",
       "      <td></td>\n",
       "      <td>False</td>\n",
       "    </tr>\n",
       "    <tr>\n",
       "      <th>single_cell_variation_intensity</th>\n",
       "      <td>string</td>\n",
       "      <td></td>\n",
       "      <td></td>\n",
       "      <td></td>\n",
       "      <td></td>\n",
       "      <td>False</td>\n",
       "    </tr>\n",
       "    <tr>\n",
       "      <th>single_cell_variation_spatial</th>\n",
       "      <td>string</td>\n",
       "      <td></td>\n",
       "      <td></td>\n",
       "      <td></td>\n",
       "      <td></td>\n",
       "      <td>False</td>\n",
       "    </tr>\n",
       "    <tr>\n",
       "      <th>cell_cycle_dependency</th>\n",
       "      <td>string</td>\n",
       "      <td></td>\n",
       "      <td></td>\n",
       "      <td></td>\n",
       "      <td></td>\n",
       "      <td>False</td>\n",
       "    </tr>\n",
       "    <tr>\n",
       "      <th>go_id</th>\n",
       "      <td>string</td>\n",
       "      <td></td>\n",
       "      <td>Nucleoplasm (GO:0005654);Plasma membrane (GO:0...</td>\n",
       "      <td></td>\n",
       "      <td></td>\n",
       "      <td>False</td>\n",
       "    </tr>\n",
       "    <tr>\n",
       "      <th>page_size</th>\n",
       "      <td>integer</td>\n",
       "      <td>Results per page</td>\n",
       "      <td>1</td>\n",
       "      <td></td>\n",
       "      <td>10.0</td>\n",
       "      <td>False</td>\n",
       "    </tr>\n",
       "    <tr>\n",
       "      <th>page</th>\n",
       "      <td>integer</td>\n",
       "      <td>Page number (starting with 1)</td>\n",
       "      <td>1</td>\n",
       "      <td></td>\n",
       "      <td>1.0</td>\n",
       "      <td>False</td>\n",
       "    </tr>\n",
       "  </tbody>\n",
       "</table>\n",
       "</div>"
      ],
      "text/plain": [
       "                                data type                    description  \\\n",
       "parameter name                                                             \n",
       "gene                               string                                  \n",
       "gene_name                          string                                  \n",
       "reliability                        string                                  \n",
       "main_location                      string                                  \n",
       "additional_location                string                                  \n",
       "extracellular_location             string                                  \n",
       "enhanced                           string                                  \n",
       "supported                          string                                  \n",
       "approved                           string                                  \n",
       "uncertain                          string                                  \n",
       "single_cell_variation_intensity    string                                  \n",
       "single_cell_variation_spatial      string                                  \n",
       "cell_cycle_dependency              string                                  \n",
       "go_id                              string                                  \n",
       "page_size                         integer               Results per page   \n",
       "page                              integer  Page number (starting with 1)   \n",
       "\n",
       "                                                                           example  \\\n",
       "parameter name                                                                       \n",
       "gene                                                               ENSG00000105383   \n",
       "gene_name                                                                     CD33   \n",
       "reliability                                                               Approved   \n",
       "main_location                                          Nucleoplasm;Plasma membrane   \n",
       "additional_location                                                                  \n",
       "extracellular_location                                                               \n",
       "enhanced                                                                             \n",
       "supported                                                          Plasma membrane   \n",
       "approved                                                                             \n",
       "uncertain                                                              Nucleoplasm   \n",
       "single_cell_variation_intensity                                                      \n",
       "single_cell_variation_spatial                                                        \n",
       "cell_cycle_dependency                                                                \n",
       "go_id                            Nucleoplasm (GO:0005654);Plasma membrane (GO:0...   \n",
       "page_size                                                                        1   \n",
       "page                                                                             1   \n",
       "\n",
       "                                options default  required  \n",
       "parameter name                                             \n",
       "gene                                                False  \n",
       "gene_name                                           False  \n",
       "reliability                                         False  \n",
       "main_location                                       False  \n",
       "additional_location                                 False  \n",
       "extracellular_location                              False  \n",
       "enhanced                                            False  \n",
       "supported                                           False  \n",
       "approved                                            False  \n",
       "uncertain                                           False  \n",
       "single_cell_variation_intensity                     False  \n",
       "single_cell_variation_spatial                       False  \n",
       "cell_cycle_dependency                               False  \n",
       "go_id                                               False  \n",
       "page_size                                  10.0     False  \n",
       "page                                        1.0     False  "
      ]
     },
     "metadata": {},
     "output_type": "display_data"
    },
    {
     "data": {
      "text/html": [
       "<b>Example URL:</b> <a href=\"http://0.0.0.0:5000/api/v1/ebel/protein_atlas/rna_subcellular_location?gene=ENSG00000105383&gene_name=CD33&reliability=Approved&main_location=Nucleoplasm%3BPlasma+membrane&supported=Plasma+membrane&uncertain=Nucleoplasm&go_id=Nucleoplasm+%28GO%3A0005654%29%3BPlasma+membrane+%28GO%3A0005886%29&page_size=1&page=1\">http://0.0.0.0:5000/api/v1/ebel/protein_atlas/rna_subcellular_location?gene=ENSG00000105383&gene_name=CD33&reliability=Approved&main_location=Nucleoplasm%3BPlasma+membrane&supported=Plasma+membrane&uncertain=Nucleoplasm&go_id=Nucleoplasm+%28GO%3A0005654%29%3BPlasma+membrane+%28GO%3A0005886%29&page_size=1&page=1</a>"
      ],
      "text/plain": [
       "<IPython.core.display.HTML object>"
      ]
     },
     "metadata": {},
     "output_type": "display_data"
    },
    {
     "data": {
      "text/html": [
       "<b style=\"color: rgb(98,98,98); text-decoration: underline;\">Example response:</b>"
      ],
      "text/plain": [
       "<IPython.core.display.HTML object>"
      ]
     },
     "metadata": {},
     "output_type": "display_data"
    },
    {
     "name": "stdout",
     "output_type": "stream",
     "text": [
      "{\u001b[38;5;124m'\u001b[39m\u001b[38;5;124mnumber_of_results\u001b[39m\u001b[38;5;124m'\u001b[39m: \u001b[38;5;241m1\u001b[39m,\n",
      " \u001b[38;5;124m'\u001b[39m\u001b[38;5;124mpage\u001b[39m\u001b[38;5;124m'\u001b[39m: \u001b[38;5;241m1\u001b[39m,\n",
      " \u001b[38;5;124m'\u001b[39m\u001b[38;5;124mpage_size\u001b[39m\u001b[38;5;124m'\u001b[39m: \u001b[38;5;241m1\u001b[39m,\n",
      " \u001b[38;5;124m'\u001b[39m\u001b[38;5;124mpages\u001b[39m\u001b[38;5;124m'\u001b[39m: \u001b[38;5;241m1\u001b[39m,\n",
      " \u001b[38;5;124m'\u001b[39m\u001b[38;5;124mresults\u001b[39m\u001b[38;5;124m'\u001b[39m: [{\u001b[38;5;124m'\u001b[39m\u001b[38;5;124madditional_location\u001b[39m\u001b[38;5;124m'\u001b[39m: \u001b[38;5;28;01mNone\u001b[39;00m,\n",
      "              \u001b[38;5;124m'\u001b[39m\u001b[38;5;124mapproved\u001b[39m\u001b[38;5;124m'\u001b[39m: \u001b[38;5;28;01mNone\u001b[39;00m,\n",
      "              \u001b[38;5;124m'\u001b[39m\u001b[38;5;124mcell_cycle_dependency\u001b[39m\u001b[38;5;124m'\u001b[39m: \u001b[38;5;28;01mNone\u001b[39;00m,\n",
      "              \u001b[38;5;124m'\u001b[39m\u001b[38;5;124menhanced\u001b[39m\u001b[38;5;124m'\u001b[39m: \u001b[38;5;28;01mNone\u001b[39;00m,\n",
      "              \u001b[38;5;124m'\u001b[39m\u001b[38;5;124mextracellular_location\u001b[39m\u001b[38;5;124m'\u001b[39m: \u001b[38;5;28;01mNone\u001b[39;00m,\n",
      "              \u001b[38;5;124m'\u001b[39m\u001b[38;5;124mgene\u001b[39m\u001b[38;5;124m'\u001b[39m: \u001b[38;5;124m'\u001b[39m\u001b[38;5;124mENSG00000105383\u001b[39m\u001b[38;5;124m'\u001b[39m,\n",
      "              \u001b[38;5;124m'\u001b[39m\u001b[38;5;124mgene_name\u001b[39m\u001b[38;5;124m'\u001b[39m: \u001b[38;5;124m'\u001b[39m\u001b[38;5;124mCD33\u001b[39m\u001b[38;5;124m'\u001b[39m,\n",
      "              \u001b[38;5;124m'\u001b[39m\u001b[38;5;124mgo_id\u001b[39m\u001b[38;5;124m'\u001b[39m: \u001b[38;5;124m'\u001b[39m\u001b[38;5;124mNucleoplasm (GO:0005654);Plasma membrane (GO:0005886)\u001b[39m\u001b[38;5;124m'\u001b[39m,\n",
      "              \u001b[38;5;124m'\u001b[39m\u001b[38;5;124mmain_location\u001b[39m\u001b[38;5;124m'\u001b[39m: \u001b[38;5;124m'\u001b[39m\u001b[38;5;124mNucleoplasm;Plasma membrane\u001b[39m\u001b[38;5;124m'\u001b[39m,\n",
      "              \u001b[38;5;124m'\u001b[39m\u001b[38;5;124mreliability\u001b[39m\u001b[38;5;124m'\u001b[39m: \u001b[38;5;124m'\u001b[39m\u001b[38;5;124mApproved\u001b[39m\u001b[38;5;124m'\u001b[39m,\n",
      "              \u001b[38;5;124m'\u001b[39m\u001b[38;5;124msingle_cell_variation_intensity\u001b[39m\u001b[38;5;124m'\u001b[39m: \u001b[38;5;28;01mNone\u001b[39;00m,\n",
      "              \u001b[38;5;124m'\u001b[39m\u001b[38;5;124msingle_cell_variation_spatial\u001b[39m\u001b[38;5;124m'\u001b[39m: \u001b[38;5;28;01mNone\u001b[39;00m,\n",
      "              \u001b[38;5;124m'\u001b[39m\u001b[38;5;124msupported\u001b[39m\u001b[38;5;124m'\u001b[39m: \u001b[38;5;124m'\u001b[39m\u001b[38;5;124mPlasma membrane\u001b[39m\u001b[38;5;124m'\u001b[39m,\n",
      "              \u001b[38;5;124m'\u001b[39m\u001b[38;5;124muncertain\u001b[39m\u001b[38;5;124m'\u001b[39m: \u001b[38;5;124m'\u001b[39m\u001b[38;5;124mNucleoplasm\u001b[39m\u001b[38;5;124m'\u001b[39m}]}\n",
      "\n",
      "For further testing go to http://0.0.0.0:5000/ui/#/Protein Atlas/ebel.web.api.ebel.v1.protein_atlas.get_subcellular_location\n"
     ]
    },
    {
     "data": {
      "text/html": [
       "<h2>6. Protein Expression</h2>"
      ],
      "text/plain": [
       "<IPython.core.display.HTML object>"
      ]
     },
     "metadata": {},
     "output_type": "display_data"
    },
    {
     "data": {
      "text/html": [
       "<b style=\"color: rgb(98,98,98); text-decoration: underline;\">Description:</b> <p>Protein Expression</p>"
      ],
      "text/plain": [
       "<IPython.core.display.HTML object>"
      ]
     },
     "metadata": {},
     "output_type": "display_data"
    },
    {
     "data": {
      "text/html": [
       "<b>Tags:</b> ['Protein Atlas']"
      ],
      "text/plain": [
       "<IPython.core.display.HTML object>"
      ]
     },
     "metadata": {},
     "output_type": "display_data"
    },
    {
     "data": {
      "text/html": [
       "<b>Server path:</b> /api/v1/ebel/protein_atlas/rna_tissue_consensus"
      ],
      "text/plain": [
       "<IPython.core.display.HTML object>"
      ]
     },
     "metadata": {},
     "output_type": "display_data"
    },
    {
     "data": {
      "text/html": [
       "<div>\n",
       "<style scoped>\n",
       "    .dataframe tbody tr th:only-of-type {\n",
       "        vertical-align: middle;\n",
       "    }\n",
       "\n",
       "    .dataframe tbody tr th {\n",
       "        vertical-align: top;\n",
       "    }\n",
       "\n",
       "    .dataframe thead th {\n",
       "        text-align: right;\n",
       "    }\n",
       "</style>\n",
       "<table border=\"1\" class=\"dataframe\">\n",
       "  <thead>\n",
       "    <tr style=\"text-align: right;\">\n",
       "      <th></th>\n",
       "      <th>data type</th>\n",
       "      <th>description</th>\n",
       "      <th>example</th>\n",
       "      <th>options</th>\n",
       "      <th>default</th>\n",
       "      <th>required</th>\n",
       "    </tr>\n",
       "    <tr>\n",
       "      <th>parameter name</th>\n",
       "      <th></th>\n",
       "      <th></th>\n",
       "      <th></th>\n",
       "      <th></th>\n",
       "      <th></th>\n",
       "      <th></th>\n",
       "    </tr>\n",
       "  </thead>\n",
       "  <tbody>\n",
       "    <tr>\n",
       "      <th>gene</th>\n",
       "      <td>string</td>\n",
       "      <td></td>\n",
       "      <td>ENSG00000105383</td>\n",
       "      <td></td>\n",
       "      <td></td>\n",
       "      <td>False</td>\n",
       "    </tr>\n",
       "    <tr>\n",
       "      <th>gene_name</th>\n",
       "      <td>string</td>\n",
       "      <td></td>\n",
       "      <td>CD33</td>\n",
       "      <td></td>\n",
       "      <td></td>\n",
       "      <td>False</td>\n",
       "    </tr>\n",
       "    <tr>\n",
       "      <th>tissue</th>\n",
       "      <td>string</td>\n",
       "      <td></td>\n",
       "      <td>adipose tissue</td>\n",
       "      <td></td>\n",
       "      <td></td>\n",
       "      <td>False</td>\n",
       "    </tr>\n",
       "    <tr>\n",
       "      <th>nx</th>\n",
       "      <td>number</td>\n",
       "      <td></td>\n",
       "      <td>10.2</td>\n",
       "      <td></td>\n",
       "      <td></td>\n",
       "      <td>False</td>\n",
       "    </tr>\n",
       "    <tr>\n",
       "      <th>page_size</th>\n",
       "      <td>integer</td>\n",
       "      <td>Results per page</td>\n",
       "      <td>1</td>\n",
       "      <td></td>\n",
       "      <td>10.0</td>\n",
       "      <td>False</td>\n",
       "    </tr>\n",
       "    <tr>\n",
       "      <th>page</th>\n",
       "      <td>integer</td>\n",
       "      <td>Page number (starting with 1)</td>\n",
       "      <td>1</td>\n",
       "      <td></td>\n",
       "      <td>1.0</td>\n",
       "      <td>False</td>\n",
       "    </tr>\n",
       "  </tbody>\n",
       "</table>\n",
       "</div>"
      ],
      "text/plain": [
       "               data type                    description          example  \\\n",
       "parameter name                                                             \n",
       "gene              string                                 ENSG00000105383   \n",
       "gene_name         string                                            CD33   \n",
       "tissue            string                                  adipose tissue   \n",
       "nx                number                                            10.2   \n",
       "page_size        integer               Results per page                1   \n",
       "page             integer  Page number (starting with 1)                1   \n",
       "\n",
       "               options default  required  \n",
       "parameter name                            \n",
       "gene                               False  \n",
       "gene_name                          False  \n",
       "tissue                             False  \n",
       "nx                                 False  \n",
       "page_size                 10.0     False  \n",
       "page                       1.0     False  "
      ]
     },
     "metadata": {},
     "output_type": "display_data"
    },
    {
     "data": {
      "text/html": [
       "<b>Example URL:</b> <a href=\"http://0.0.0.0:5000/api/v1/ebel/protein_atlas/rna_tissue_consensus?gene=ENSG00000105383&gene_name=CD33&tissue=adipose+tissue&nx=10.2&page_size=1&page=1\">http://0.0.0.0:5000/api/v1/ebel/protein_atlas/rna_tissue_consensus?gene=ENSG00000105383&gene_name=CD33&tissue=adipose+tissue&nx=10.2&page_size=1&page=1</a>"
      ],
      "text/plain": [
       "<IPython.core.display.HTML object>"
      ]
     },
     "metadata": {},
     "output_type": "display_data"
    },
    {
     "data": {
      "text/html": [
       "<b style=\"color: rgb(98,98,98); text-decoration: underline;\">Example response:</b>"
      ],
      "text/plain": [
       "<IPython.core.display.HTML object>"
      ]
     },
     "metadata": {},
     "output_type": "display_data"
    },
    {
     "name": "stdout",
     "output_type": "stream",
     "text": [
      "{\u001b[38;5;124m'\u001b[39m\u001b[38;5;124mnumber_of_results\u001b[39m\u001b[38;5;124m'\u001b[39m: \u001b[38;5;241m1\u001b[39m,\n",
      " \u001b[38;5;124m'\u001b[39m\u001b[38;5;124mpage\u001b[39m\u001b[38;5;124m'\u001b[39m: \u001b[38;5;241m1\u001b[39m,\n",
      " \u001b[38;5;124m'\u001b[39m\u001b[38;5;124mpage_size\u001b[39m\u001b[38;5;124m'\u001b[39m: \u001b[38;5;241m1\u001b[39m,\n",
      " \u001b[38;5;124m'\u001b[39m\u001b[38;5;124mpages\u001b[39m\u001b[38;5;124m'\u001b[39m: \u001b[38;5;241m1\u001b[39m,\n",
      " \u001b[38;5;124m'\u001b[39m\u001b[38;5;124mresults\u001b[39m\u001b[38;5;124m'\u001b[39m: [{\u001b[38;5;124m'\u001b[39m\u001b[38;5;124mgene\u001b[39m\u001b[38;5;124m'\u001b[39m: \u001b[38;5;124m'\u001b[39m\u001b[38;5;124mENSG00000105383\u001b[39m\u001b[38;5;124m'\u001b[39m,\n",
      "              \u001b[38;5;124m'\u001b[39m\u001b[38;5;124mgene_name\u001b[39m\u001b[38;5;124m'\u001b[39m: \u001b[38;5;124m'\u001b[39m\u001b[38;5;124mCD33\u001b[39m\u001b[38;5;124m'\u001b[39m,\n",
      "              \u001b[38;5;124m'\u001b[39m\u001b[38;5;124mnx\u001b[39m\u001b[38;5;124m'\u001b[39m: \u001b[38;5;241m10.2\u001b[39m,\n",
      "              \u001b[38;5;124m'\u001b[39m\u001b[38;5;124mtissue\u001b[39m\u001b[38;5;124m'\u001b[39m: \u001b[38;5;124m'\u001b[39m\u001b[38;5;124madipose tissue\u001b[39m\u001b[38;5;124m'\u001b[39m}]}\n",
      "\n",
      "For further testing go to http://0.0.0.0:5000/ui/#/Protein Atlas/ebel.web.api.ebel.v1.protein_atlas.get_rna_tissue_consensus\n"
     ]
    }
   ],
   "source": [
    "import api_doc\n",
    "api_doc.get_api_methods_by_tag('Protein Atlas')"
   ]
  }
 ],
 "metadata": {
  "kernelspec": {
   "display_name": "Python 3 (ipykernel)",
   "language": "python",
   "name": "python3"
  },
  "language_info": {
   "codemirror_mode": {
    "name": "ipython",
    "version": 3
   },
   "file_extension": ".py",
   "mimetype": "text/x-python",
   "name": "python",
   "nbconvert_exporter": "python",
   "pygments_lexer": "ipython3",
   "version": "3.8.10"
  },
  "toc": {
   "base_numbering": 1,
   "nav_menu": {},
   "number_sections": true,
   "sideBar": true,
   "skip_h1_title": true,
   "title_cell": "Table of Contents",
   "title_sidebar": "Contents",
   "toc_cell": false,
   "toc_position": {},
   "toc_section_display": true,
   "toc_window_display": false
  }
 },
 "nbformat": 4,
 "nbformat_minor": 5
}
