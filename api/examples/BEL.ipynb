{
 "cells": [
  {
   "cell_type": "markdown",
   "id": "bf137ffa",
   "metadata": {},
   "source": [
    "# BEL API methods"
   ]
  },
  {
   "cell_type": "code",
   "execution_count": 2,
   "id": "58a82b04",
   "metadata": {
    "scrolled": false
   },
   "outputs": [
    {
     "data": {
      "text/html": [
       "<h2>1. Get adjacent outgoing nodes to node with rid</h2>"
      ],
      "text/plain": [
       "<IPython.core.display.HTML object>"
      ]
     },
     "metadata": {},
     "output_type": "display_data"
    },
    {
     "data": {
      "text/html": [
       "<b style=\"color: rgb(98,98,98); text-decoration: underline;\">Description:</b> <p>Get adjacent outgoing nodes to node with rid</p>"
      ],
      "text/plain": [
       "<IPython.core.display.HTML object>"
      ]
     },
     "metadata": {},
     "output_type": "display_data"
    },
    {
     "data": {
      "text/html": [
       "<b>Tags:</b> ['BEL']"
      ],
      "text/plain": [
       "<IPython.core.display.HTML object>"
      ]
     },
     "metadata": {},
     "output_type": "display_data"
    },
    {
     "data": {
      "text/html": [
       "<b>Server path:</b> /api/v1/bel/adjacent_nodes_by_rid"
      ],
      "text/plain": [
       "<IPython.core.display.HTML object>"
      ]
     },
     "metadata": {},
     "output_type": "display_data"
    },
    {
     "data": {
      "text/html": [
       "<div>\n",
       "<style scoped>\n",
       "    .dataframe tbody tr th:only-of-type {\n",
       "        vertical-align: middle;\n",
       "    }\n",
       "\n",
       "    .dataframe tbody tr th {\n",
       "        vertical-align: top;\n",
       "    }\n",
       "\n",
       "    .dataframe thead th {\n",
       "        text-align: right;\n",
       "    }\n",
       "</style>\n",
       "<table border=\"1\" class=\"dataframe\">\n",
       "  <thead>\n",
       "    <tr style=\"text-align: right;\">\n",
       "      <th></th>\n",
       "      <th>data type</th>\n",
       "      <th>description</th>\n",
       "      <th>example</th>\n",
       "      <th>options</th>\n",
       "      <th>default</th>\n",
       "      <th>required</th>\n",
       "    </tr>\n",
       "    <tr>\n",
       "      <th>parameter name</th>\n",
       "      <th></th>\n",
       "      <th></th>\n",
       "      <th></th>\n",
       "      <th></th>\n",
       "      <th></th>\n",
       "      <th></th>\n",
       "    </tr>\n",
       "  </thead>\n",
       "  <tbody>\n",
       "    <tr>\n",
       "      <th>rid</th>\n",
       "      <td>string</td>\n",
       "      <td></td>\n",
       "      <td></td>\n",
       "      <td></td>\n",
       "      <td></td>\n",
       "      <td>True</td>\n",
       "    </tr>\n",
       "    <tr>\n",
       "      <th>direction</th>\n",
       "      <td>string</td>\n",
       "      <td></td>\n",
       "      <td></td>\n",
       "      <td>[in, out, both]</td>\n",
       "      <td>both</td>\n",
       "      <td>False</td>\n",
       "    </tr>\n",
       "    <tr>\n",
       "      <th>relation</th>\n",
       "      <td>string</td>\n",
       "      <td></td>\n",
       "      <td>increases</td>\n",
       "      <td>[bel_relation, association, causal, correlativ...</td>\n",
       "      <td>bel_relation</td>\n",
       "      <td>False</td>\n",
       "    </tr>\n",
       "  </tbody>\n",
       "</table>\n",
       "</div>"
      ],
      "text/plain": [
       "               data type description    example  \\\n",
       "parameter name                                    \n",
       "rid               string                          \n",
       "direction         string                          \n",
       "relation          string              increases   \n",
       "\n",
       "                                                          options  \\\n",
       "parameter name                                                      \n",
       "rid                                                                 \n",
       "direction                                         [in, out, both]   \n",
       "relation        [bel_relation, association, causal, correlativ...   \n",
       "\n",
       "                     default  required  \n",
       "parameter name                          \n",
       "rid                               True  \n",
       "direction               both     False  \n",
       "relation        bel_relation     False  "
      ]
     },
     "metadata": {},
     "output_type": "display_data"
    },
    {
     "name": "stdout",
     "output_type": "stream",
     "text": [
      "Because values in the knowledge graph are dependent from the imported BEL docuemnts, we added to the parameters (rid) the following values:\n"
     ]
    },
    {
     "data": {
      "text/html": [
       "<div>\n",
       "<style scoped>\n",
       "    .dataframe tbody tr th:only-of-type {\n",
       "        vertical-align: middle;\n",
       "    }\n",
       "\n",
       "    .dataframe tbody tr th {\n",
       "        vertical-align: top;\n",
       "    }\n",
       "\n",
       "    .dataframe thead th {\n",
       "        text-align: right;\n",
       "    }\n",
       "</style>\n",
       "<table border=\"1\" class=\"dataframe\">\n",
       "  <thead>\n",
       "    <tr style=\"text-align: right;\">\n",
       "      <th></th>\n",
       "      <th>value</th>\n",
       "    </tr>\n",
       "    <tr>\n",
       "      <th>paramter</th>\n",
       "      <th></th>\n",
       "    </tr>\n",
       "  </thead>\n",
       "  <tbody>\n",
       "    <tr>\n",
       "      <th>rid</th>\n",
       "      <td>#186:0</td>\n",
       "    </tr>\n",
       "  </tbody>\n",
       "</table>\n",
       "</div>"
      ],
      "text/plain": [
       "           value\n",
       "paramter        \n",
       "rid       #186:0"
      ]
     },
     "metadata": {},
     "output_type": "display_data"
    },
    {
     "data": {
      "text/html": [
       "<b>Example URL:</b> <a href=\"http://0.0.0.0:5000/api/v1/bel/adjacent_nodes_by_rid?relation=increases&rid=%23186%3A0\">http://0.0.0.0:5000/api/v1/bel/adjacent_nodes_by_rid?relation=increases&rid=%23186%3A0</a>"
      ],
      "text/plain": [
       "<IPython.core.display.HTML object>"
      ]
     },
     "metadata": {},
     "output_type": "display_data"
    },
    {
     "name": "stdout",
     "output_type": "stream",
     "text": [
      "\n",
      "The result is a list and have 11 entries. Here we show only the first entry.\n",
      "\n"
     ]
    },
    {
     "data": {
      "text/html": [
       "<b style=\"color: rgb(98,98,98); text-decoration: underline;\">Example response:</b>"
      ],
      "text/plain": [
       "<IPython.core.display.HTML object>"
      ]
     },
     "metadata": {},
     "output_type": "display_data"
    },
    {
     "name": "stdout",
     "output_type": "stream",
     "text": [
      "{\u001b[38;5;124m'\u001b[39m\u001b[38;5;124mbel\u001b[39m\u001b[38;5;124m'\u001b[39m: \u001b[38;5;124m'\u001b[39m\u001b[38;5;124mbp(GOBP:\u001b[39m\u001b[38;5;124m\"\u001b[39m\u001b[38;5;124minflammatory response\u001b[39m\u001b[38;5;124m\"\u001b[39m\u001b[38;5;124m)\u001b[39m\u001b[38;5;124m'\u001b[39m,\n",
      " \u001b[38;5;124m'\u001b[39m\u001b[38;5;124mdirection\u001b[39m\u001b[38;5;124m'\u001b[39m: \u001b[38;5;124m'\u001b[39m\u001b[38;5;124min\u001b[39m\u001b[38;5;124m'\u001b[39m,\n",
      " \u001b[38;5;124m'\u001b[39m\u001b[38;5;124medge_class\u001b[39m\u001b[38;5;124m'\u001b[39m: \u001b[38;5;124m'\u001b[39m\u001b[38;5;124mincreases\u001b[39m\u001b[38;5;124m'\u001b[39m,\n",
      " \u001b[38;5;124m'\u001b[39m\u001b[38;5;124medge_rid\u001b[39m\u001b[38;5;124m'\u001b[39m: \u001b[38;5;124m'\u001b[39m\u001b[38;5;124m#554:0\u001b[39m\u001b[38;5;124m'\u001b[39m,\n",
      " \u001b[38;5;124m'\u001b[39m\u001b[38;5;124minvolved_genes\u001b[39m\u001b[38;5;124m'\u001b[39m: [],\n",
      " \u001b[38;5;124m'\u001b[39m\u001b[38;5;124minvolved_other\u001b[39m\u001b[38;5;124m'\u001b[39m: [\u001b[38;5;124m'\u001b[39m\u001b[38;5;124minflammatory response\u001b[39m\u001b[38;5;124m'\u001b[39m],\n",
      " \u001b[38;5;124m'\u001b[39m\u001b[38;5;124mname\u001b[39m\u001b[38;5;124m'\u001b[39m: \u001b[38;5;124m'\u001b[39m\u001b[38;5;124minflammatory response\u001b[39m\u001b[38;5;124m'\u001b[39m,\n",
      " \u001b[38;5;124m'\u001b[39m\u001b[38;5;124mnamespace\u001b[39m\u001b[38;5;124m'\u001b[39m: \u001b[38;5;124m'\u001b[39m\u001b[38;5;124mGOBP\u001b[39m\u001b[38;5;124m'\u001b[39m,\n",
      " \u001b[38;5;124m'\u001b[39m\u001b[38;5;124mnode_class\u001b[39m\u001b[38;5;124m'\u001b[39m: \u001b[38;5;124m'\u001b[39m\u001b[38;5;124mbiological_process\u001b[39m\u001b[38;5;124m'\u001b[39m,\n",
      " \u001b[38;5;124m'\u001b[39m\u001b[38;5;124mnode_rid\u001b[39m\u001b[38;5;124m'\u001b[39m: \u001b[38;5;124m'\u001b[39m\u001b[38;5;124m#74:0\u001b[39m\u001b[38;5;124m'\u001b[39m}\n",
      "\n",
      "For further testing go to http://0.0.0.0:5000/ui/#/BEL/ebel.web.api.ebel.v1.bel.get_adjacent_nodes_by_rid\n"
     ]
    },
    {
     "data": {
      "text/html": [
       "<h2>2. Get annotation keywords</h2>"
      ],
      "text/plain": [
       "<IPython.core.display.HTML object>"
      ]
     },
     "metadata": {},
     "output_type": "display_data"
    },
    {
     "data": {
      "text/html": [
       "<b style=\"color: rgb(98,98,98); text-decoration: underline;\">Description:</b> <p>Get annotation keywords</p>"
      ],
      "text/plain": [
       "<IPython.core.display.HTML object>"
      ]
     },
     "metadata": {},
     "output_type": "display_data"
    },
    {
     "data": {
      "text/html": [
       "<b>Tags:</b> ['BEL']"
      ],
      "text/plain": [
       "<IPython.core.display.HTML object>"
      ]
     },
     "metadata": {},
     "output_type": "display_data"
    },
    {
     "data": {
      "text/html": [
       "<b>Server path:</b> /api/v1/bel/annotation_keys"
      ],
      "text/plain": [
       "<IPython.core.display.HTML object>"
      ]
     },
     "metadata": {},
     "output_type": "display_data"
    },
    {
     "name": "stdout",
     "output_type": "stream",
     "text": [
      "without paramters\n"
     ]
    },
    {
     "data": {
      "text/html": [
       "<b>Example URL:</b> <a href=\"http://0.0.0.0:5000/api/v1/bel/annotation_keys\">http://0.0.0.0:5000/api/v1/bel/annotation_keys</a>"
      ],
      "text/plain": [
       "<IPython.core.display.HTML object>"
      ]
     },
     "metadata": {},
     "output_type": "display_data"
    },
    {
     "name": "stdout",
     "output_type": "stream",
     "text": [
      "\n",
      "The result is a list and have 30 entries. Here we show only the first entry.\n",
      "\n"
     ]
    },
    {
     "data": {
      "text/html": [
       "<b style=\"color: rgb(98,98,98); text-decoration: underline;\">Example response:</b>"
      ],
      "text/plain": [
       "<IPython.core.display.HTML object>"
      ]
     },
     "metadata": {},
     "output_type": "display_data"
    },
    {
     "name": "stdout",
     "output_type": "stream",
     "text": [
      "{\u001b[38;5;124m'\u001b[39m\u001b[38;5;124mannotation_key\u001b[39m\u001b[38;5;124m'\u001b[39m: \u001b[38;5;124m'\u001b[39m\u001b[38;5;124mmesh\u001b[39m\u001b[38;5;124m'\u001b[39m, \u001b[38;5;124m'\u001b[39m\u001b[38;5;124mnumber_of_edges\u001b[39m\u001b[38;5;124m'\u001b[39m: \u001b[38;5;241m3401\u001b[39m}\n",
      "\n",
      "For further testing go to http://0.0.0.0:5000/ui/#/BEL/ebel.web.api.ebel.v1.bel.get_annotation_keys\n"
     ]
    },
    {
     "data": {
      "text/html": [
       "<h2>3. Get annotation terms by keyword</h2>"
      ],
      "text/plain": [
       "<IPython.core.display.HTML object>"
      ]
     },
     "metadata": {},
     "output_type": "display_data"
    },
    {
     "data": {
      "text/html": [
       "<b style=\"color: rgb(98,98,98); text-decoration: underline;\">Description:</b> <p>Get annotation terms by keyword</p>"
      ],
      "text/plain": [
       "<IPython.core.display.HTML object>"
      ]
     },
     "metadata": {},
     "output_type": "display_data"
    },
    {
     "data": {
      "text/html": [
       "<b>Tags:</b> ['BEL']"
      ],
      "text/plain": [
       "<IPython.core.display.HTML object>"
      ]
     },
     "metadata": {},
     "output_type": "display_data"
    },
    {
     "data": {
      "text/html": [
       "<b>Server path:</b> /api/v1/bel/annotation_terms"
      ],
      "text/plain": [
       "<IPython.core.display.HTML object>"
      ]
     },
     "metadata": {},
     "output_type": "display_data"
    },
    {
     "data": {
      "text/html": [
       "<div>\n",
       "<style scoped>\n",
       "    .dataframe tbody tr th:only-of-type {\n",
       "        vertical-align: middle;\n",
       "    }\n",
       "\n",
       "    .dataframe tbody tr th {\n",
       "        vertical-align: top;\n",
       "    }\n",
       "\n",
       "    .dataframe thead th {\n",
       "        text-align: right;\n",
       "    }\n",
       "</style>\n",
       "<table border=\"1\" class=\"dataframe\">\n",
       "  <thead>\n",
       "    <tr style=\"text-align: right;\">\n",
       "      <th></th>\n",
       "      <th>data type</th>\n",
       "      <th>description</th>\n",
       "      <th>example</th>\n",
       "      <th>options</th>\n",
       "      <th>default</th>\n",
       "      <th>required</th>\n",
       "    </tr>\n",
       "    <tr>\n",
       "      <th>parameter name</th>\n",
       "      <th></th>\n",
       "      <th></th>\n",
       "      <th></th>\n",
       "      <th></th>\n",
       "      <th></th>\n",
       "      <th></th>\n",
       "    </tr>\n",
       "  </thead>\n",
       "  <tbody>\n",
       "    <tr>\n",
       "      <th>annotation_key</th>\n",
       "      <td>string</td>\n",
       "      <td></td>\n",
       "      <td>mesh</td>\n",
       "      <td></td>\n",
       "      <td></td>\n",
       "      <td>True</td>\n",
       "    </tr>\n",
       "  </tbody>\n",
       "</table>\n",
       "</div>"
      ],
      "text/plain": [
       "               data type description example options default  required\n",
       "parameter name                                                        \n",
       "annotation_key    string                mesh                      True"
      ]
     },
     "metadata": {},
     "output_type": "display_data"
    },
    {
     "data": {
      "text/html": [
       "<b>Example URL:</b> <a href=\"http://0.0.0.0:5000/api/v1/bel/annotation_terms?annotation_key=mesh\">http://0.0.0.0:5000/api/v1/bel/annotation_terms?annotation_key=mesh</a>"
      ],
      "text/plain": [
       "<IPython.core.display.HTML object>"
      ]
     },
     "metadata": {},
     "output_type": "display_data"
    },
    {
     "name": "stdout",
     "output_type": "stream",
     "text": [
      "\n",
      "The result is a list and have 431 entries. Here we show only the first entry.\n",
      "\n"
     ]
    },
    {
     "data": {
      "text/html": [
       "<b style=\"color: rgb(98,98,98); text-decoration: underline;\">Example response:</b>"
      ],
      "text/plain": [
       "<IPython.core.display.HTML object>"
      ]
     },
     "metadata": {},
     "output_type": "display_data"
    },
    {
     "name": "stdout",
     "output_type": "stream",
     "text": [
      "{\u001b[38;5;124m'\u001b[39m\u001b[38;5;124mannotation_term\u001b[39m\u001b[38;5;124m'\u001b[39m: \u001b[38;5;124m'\u001b[39m\u001b[38;5;124mHumans\u001b[39m\u001b[38;5;124m'\u001b[39m, \u001b[38;5;124m'\u001b[39m\u001b[38;5;124mnumber_of_edges\u001b[39m\u001b[38;5;124m'\u001b[39m: \u001b[38;5;241m2859\u001b[39m}\n",
      "\n",
      "For further testing go to http://0.0.0.0:5000/ui/#/BEL/ebel.web.api.ebel.v1.bel.get_annotation_terms\n"
     ]
    },
    {
     "data": {
      "text/html": [
       "<h2>4. Get node or edge by rid</h2>"
      ],
      "text/plain": [
       "<IPython.core.display.HTML object>"
      ]
     },
     "metadata": {},
     "output_type": "display_data"
    },
    {
     "data": {
      "text/html": [
       "<b style=\"color: rgb(98,98,98); text-decoration: underline;\">Description:</b> <p>Get node or edge by rid</p>"
      ],
      "text/plain": [
       "<IPython.core.display.HTML object>"
      ]
     },
     "metadata": {},
     "output_type": "display_data"
    },
    {
     "data": {
      "text/html": [
       "<b>Tags:</b> ['BEL']"
      ],
      "text/plain": [
       "<IPython.core.display.HTML object>"
      ]
     },
     "metadata": {},
     "output_type": "display_data"
    },
    {
     "data": {
      "text/html": [
       "<b>Server path:</b> /api/v1/bel/by_rid"
      ],
      "text/plain": [
       "<IPython.core.display.HTML object>"
      ]
     },
     "metadata": {},
     "output_type": "display_data"
    },
    {
     "data": {
      "text/html": [
       "<div>\n",
       "<style scoped>\n",
       "    .dataframe tbody tr th:only-of-type {\n",
       "        vertical-align: middle;\n",
       "    }\n",
       "\n",
       "    .dataframe tbody tr th {\n",
       "        vertical-align: top;\n",
       "    }\n",
       "\n",
       "    .dataframe thead th {\n",
       "        text-align: right;\n",
       "    }\n",
       "</style>\n",
       "<table border=\"1\" class=\"dataframe\">\n",
       "  <thead>\n",
       "    <tr style=\"text-align: right;\">\n",
       "      <th></th>\n",
       "      <th>data type</th>\n",
       "      <th>description</th>\n",
       "      <th>example</th>\n",
       "      <th>options</th>\n",
       "      <th>default</th>\n",
       "      <th>required</th>\n",
       "    </tr>\n",
       "    <tr>\n",
       "      <th>parameter name</th>\n",
       "      <th></th>\n",
       "      <th></th>\n",
       "      <th></th>\n",
       "      <th></th>\n",
       "      <th></th>\n",
       "      <th></th>\n",
       "    </tr>\n",
       "  </thead>\n",
       "  <tbody>\n",
       "    <tr>\n",
       "      <th>rid</th>\n",
       "      <td>string</td>\n",
       "      <td></td>\n",
       "      <td></td>\n",
       "      <td></td>\n",
       "      <td></td>\n",
       "      <td>False</td>\n",
       "    </tr>\n",
       "  </tbody>\n",
       "</table>\n",
       "</div>"
      ],
      "text/plain": [
       "               data type description example options default  required\n",
       "parameter name                                                        \n",
       "rid               string                                         False"
      ]
     },
     "metadata": {},
     "output_type": "display_data"
    },
    {
     "name": "stdout",
     "output_type": "stream",
     "text": [
      "Because values in the knowledge graph are dependent from the imported BEL docuemnts, we added to the parameters (rid) the following values:\n"
     ]
    },
    {
     "data": {
      "text/html": [
       "<div>\n",
       "<style scoped>\n",
       "    .dataframe tbody tr th:only-of-type {\n",
       "        vertical-align: middle;\n",
       "    }\n",
       "\n",
       "    .dataframe tbody tr th {\n",
       "        vertical-align: top;\n",
       "    }\n",
       "\n",
       "    .dataframe thead th {\n",
       "        text-align: right;\n",
       "    }\n",
       "</style>\n",
       "<table border=\"1\" class=\"dataframe\">\n",
       "  <thead>\n",
       "    <tr style=\"text-align: right;\">\n",
       "      <th></th>\n",
       "      <th>value</th>\n",
       "    </tr>\n",
       "    <tr>\n",
       "      <th>paramter</th>\n",
       "      <th></th>\n",
       "    </tr>\n",
       "  </thead>\n",
       "  <tbody>\n",
       "    <tr>\n",
       "      <th>rid</th>\n",
       "      <td>#186:0</td>\n",
       "    </tr>\n",
       "  </tbody>\n",
       "</table>\n",
       "</div>"
      ],
      "text/plain": [
       "           value\n",
       "paramter        \n",
       "rid       #186:0"
      ]
     },
     "metadata": {},
     "output_type": "display_data"
    },
    {
     "data": {
      "text/html": [
       "<b>Example URL:</b> <a href=\"http://0.0.0.0:5000/api/v1/bel/by_rid?rid=%23186%3A0\">http://0.0.0.0:5000/api/v1/bel/by_rid?rid=%23186%3A0</a>"
      ],
      "text/plain": [
       "<IPython.core.display.HTML object>"
      ]
     },
     "metadata": {},
     "output_type": "display_data"
    },
    {
     "data": {
      "text/html": [
       "<b style=\"color: rgb(98,98,98); text-decoration: underline;\">Example response:</b>"
      ],
      "text/plain": [
       "<IPython.core.display.HTML object>"
      ]
     },
     "metadata": {},
     "output_type": "display_data"
    },
    {
     "name": "stdout",
     "output_type": "stream",
     "text": [
      "{\u001b[38;5;124m'\u001b[39m\u001b[38;5;124mbel\u001b[39m\u001b[38;5;124m'\u001b[39m: \u001b[38;5;124m'\u001b[39m\u001b[38;5;124mp(HGNC:\u001b[39m\u001b[38;5;124m\"\u001b[39m\u001b[38;5;124mTREM2\u001b[39m\u001b[38;5;124m\"\u001b[39m\u001b[38;5;124m,loc(MESHA:\u001b[39m\u001b[38;5;124m\"\u001b[39m\u001b[38;5;124mExtracellular Space\u001b[39m\u001b[38;5;124m\"\u001b[39m\u001b[38;5;124m))\u001b[39m\u001b[38;5;124m'\u001b[39m,\n",
      " \u001b[38;5;124m'\u001b[39m\u001b[38;5;124minvolved_genes\u001b[39m\u001b[38;5;124m'\u001b[39m: [\u001b[38;5;124m'\u001b[39m\u001b[38;5;124mTREM2\u001b[39m\u001b[38;5;124m'\u001b[39m],\n",
      " \u001b[38;5;124m'\u001b[39m\u001b[38;5;124minvolved_other\u001b[39m\u001b[38;5;124m'\u001b[39m: [],\n",
      " \u001b[38;5;124m'\u001b[39m\u001b[38;5;124mlabel\u001b[39m\u001b[38;5;124m'\u001b[39m: \u001b[38;5;124m'\u001b[39m\u001b[38;5;124mTriggering receptor expressed on myeloid cells 2\u001b[39m\u001b[38;5;124m'\u001b[39m,\n",
      " \u001b[38;5;124m'\u001b[39m\u001b[38;5;124mname\u001b[39m\u001b[38;5;124m'\u001b[39m: \u001b[38;5;124m'\u001b[39m\u001b[38;5;124mTREM2\u001b[39m\u001b[38;5;124m'\u001b[39m,\n",
      " \u001b[38;5;124m'\u001b[39m\u001b[38;5;124mnamespace\u001b[39m\u001b[38;5;124m'\u001b[39m: \u001b[38;5;124m'\u001b[39m\u001b[38;5;124mHGNC\u001b[39m\u001b[38;5;124m'\u001b[39m,\n",
      " \u001b[38;5;124m'\u001b[39m\u001b[38;5;124mspecies\u001b[39m\u001b[38;5;124m'\u001b[39m: \u001b[38;5;241m9606\u001b[39m,\n",
      " \u001b[38;5;124m'\u001b[39m\u001b[38;5;124muniprot\u001b[39m\u001b[38;5;124m'\u001b[39m: \u001b[38;5;124m'\u001b[39m\u001b[38;5;124mQ9NZC2\u001b[39m\u001b[38;5;124m'\u001b[39m}\n",
      "\n",
      "For further testing go to http://0.0.0.0:5000/ui/#/BEL/ebel.web.api.ebel.v1.bel.get_by_rid\n"
     ]
    },
    {
     "data": {
      "text/html": [
       "<h2>5. get knowledge graph class info on node or relation(edge) class.</h2>"
      ],
      "text/plain": [
       "<IPython.core.display.HTML object>"
      ]
     },
     "metadata": {},
     "output_type": "display_data"
    },
    {
     "data": {
      "text/html": [
       "<b style=\"color: rgb(98,98,98); text-decoration: underline;\">Description:</b> <p>get knowledge graph class info on node or relation(edge) class.</p>"
      ],
      "text/plain": [
       "<IPython.core.display.HTML object>"
      ]
     },
     "metadata": {},
     "output_type": "display_data"
    },
    {
     "data": {
      "text/html": [
       "<b>Tags:</b> ['BEL', 'e(BE:L)']"
      ],
      "text/plain": [
       "<IPython.core.display.HTML object>"
      ]
     },
     "metadata": {},
     "output_type": "display_data"
    },
    {
     "data": {
      "text/html": [
       "<b>Server path:</b> /api/v1/bel/class_info_by_name"
      ],
      "text/plain": [
       "<IPython.core.display.HTML object>"
      ]
     },
     "metadata": {},
     "output_type": "display_data"
    },
    {
     "data": {
      "text/html": [
       "<div>\n",
       "<style scoped>\n",
       "    .dataframe tbody tr th:only-of-type {\n",
       "        vertical-align: middle;\n",
       "    }\n",
       "\n",
       "    .dataframe tbody tr th {\n",
       "        vertical-align: top;\n",
       "    }\n",
       "\n",
       "    .dataframe thead th {\n",
       "        text-align: right;\n",
       "    }\n",
       "</style>\n",
       "<table border=\"1\" class=\"dataframe\">\n",
       "  <thead>\n",
       "    <tr style=\"text-align: right;\">\n",
       "      <th></th>\n",
       "      <th>data type</th>\n",
       "      <th>description</th>\n",
       "      <th>example</th>\n",
       "      <th>options</th>\n",
       "      <th>default</th>\n",
       "      <th>required</th>\n",
       "    </tr>\n",
       "    <tr>\n",
       "      <th>parameter name</th>\n",
       "      <th></th>\n",
       "      <th></th>\n",
       "      <th></th>\n",
       "      <th></th>\n",
       "      <th></th>\n",
       "      <th></th>\n",
       "    </tr>\n",
       "  </thead>\n",
       "  <tbody>\n",
       "    <tr>\n",
       "      <th>name</th>\n",
       "      <td>string</td>\n",
       "      <td>name of node or edge class</td>\n",
       "      <td>causal</td>\n",
       "      <td></td>\n",
       "      <td></td>\n",
       "      <td>True</td>\n",
       "    </tr>\n",
       "  </tbody>\n",
       "</table>\n",
       "</div>"
      ],
      "text/plain": [
       "               data type                 description example options default  \\\n",
       "parameter name                                                                 \n",
       "name              string  name of node or edge class  causal                   \n",
       "\n",
       "                required  \n",
       "parameter name            \n",
       "name                True  "
      ]
     },
     "metadata": {},
     "output_type": "display_data"
    },
    {
     "data": {
      "text/html": [
       "<b>Example URL:</b> <a href=\"http://0.0.0.0:5000/api/v1/bel/class_info_by_name?name=causal\">http://0.0.0.0:5000/api/v1/bel/class_info_by_name?name=causal</a>"
      ],
      "text/plain": [
       "<IPython.core.display.HTML object>"
      ]
     },
     "metadata": {},
     "output_type": "display_data"
    },
    {
     "data": {
      "text/html": [
       "<b style=\"color: rgb(98,98,98); text-decoration: underline;\">Example response:</b>"
      ],
      "text/plain": [
       "<IPython.core.display.HTML object>"
      ]
     },
     "metadata": {},
     "output_type": "display_data"
    },
    {
     "name": "stdout",
     "output_type": "stream",
     "text": [
      "{\u001b[38;5;124m'\u001b[39m\u001b[38;5;124mabstract\u001b[39m\u001b[38;5;124m'\u001b[39m: \u001b[38;5;28;01mTrue\u001b[39;00m,\n",
      " \u001b[38;5;124m'\u001b[39m\u001b[38;5;124mchildren\u001b[39m\u001b[38;5;124m'\u001b[39m: [{\u001b[38;5;124m'\u001b[39m\u001b[38;5;124mabstract\u001b[39m\u001b[38;5;124m'\u001b[39m: \u001b[38;5;28;01mFalse\u001b[39;00m, \u001b[38;5;124m'\u001b[39m\u001b[38;5;124mname\u001b[39m\u001b[38;5;124m'\u001b[39m: \u001b[38;5;124m'\u001b[39m\u001b[38;5;124mregulates\u001b[39m\u001b[38;5;124m'\u001b[39m},\n",
      "              {\u001b[38;5;124m'\u001b[39m\u001b[38;5;124mabstract\u001b[39m\u001b[38;5;124m'\u001b[39m: \u001b[38;5;28;01mFalse\u001b[39;00m, \u001b[38;5;124m'\u001b[39m\u001b[38;5;124mname\u001b[39m\u001b[38;5;124m'\u001b[39m: \u001b[38;5;124m'\u001b[39m\u001b[38;5;124mcauses_no_change\u001b[39m\u001b[38;5;124m'\u001b[39m},\n",
      "              {\u001b[38;5;124m'\u001b[39m\u001b[38;5;124mabstract\u001b[39m\u001b[38;5;124m'\u001b[39m: \u001b[38;5;28;01mFalse\u001b[39;00m, \u001b[38;5;124m'\u001b[39m\u001b[38;5;124mname\u001b[39m\u001b[38;5;124m'\u001b[39m: \u001b[38;5;124m'\u001b[39m\u001b[38;5;124mincreases\u001b[39m\u001b[38;5;124m'\u001b[39m},\n",
      "              {\u001b[38;5;124m'\u001b[39m\u001b[38;5;124mabstract\u001b[39m\u001b[38;5;124m'\u001b[39m: \u001b[38;5;28;01mFalse\u001b[39;00m, \u001b[38;5;124m'\u001b[39m\u001b[38;5;124mname\u001b[39m\u001b[38;5;124m'\u001b[39m: \u001b[38;5;124m'\u001b[39m\u001b[38;5;124mdirectly_decreases\u001b[39m\u001b[38;5;124m'\u001b[39m},\n",
      "              {\u001b[38;5;124m'\u001b[39m\u001b[38;5;124mabstract\u001b[39m\u001b[38;5;124m'\u001b[39m: \u001b[38;5;28;01mFalse\u001b[39;00m, \u001b[38;5;124m'\u001b[39m\u001b[38;5;124mname\u001b[39m\u001b[38;5;124m'\u001b[39m: \u001b[38;5;124m'\u001b[39m\u001b[38;5;124mrate_limiting_step_of\u001b[39m\u001b[38;5;124m'\u001b[39m},\n",
      "              {\u001b[38;5;124m'\u001b[39m\u001b[38;5;124mabstract\u001b[39m\u001b[38;5;124m'\u001b[39m: \u001b[38;5;28;01mFalse\u001b[39;00m, \u001b[38;5;124m'\u001b[39m\u001b[38;5;124mname\u001b[39m\u001b[38;5;124m'\u001b[39m: \u001b[38;5;124m'\u001b[39m\u001b[38;5;124mdecreases\u001b[39m\u001b[38;5;124m'\u001b[39m},\n",
      "              {\u001b[38;5;124m'\u001b[39m\u001b[38;5;124mabstract\u001b[39m\u001b[38;5;124m'\u001b[39m: \u001b[38;5;28;01mFalse\u001b[39;00m, \u001b[38;5;124m'\u001b[39m\u001b[38;5;124mname\u001b[39m\u001b[38;5;124m'\u001b[39m: \u001b[38;5;124m'\u001b[39m\u001b[38;5;124mdirectly_increases\u001b[39m\u001b[38;5;124m'\u001b[39m}],\n",
      " \u001b[38;5;124m'\u001b[39m\u001b[38;5;124min_out\u001b[39m\u001b[38;5;124m'\u001b[39m: {\u001b[38;5;124m'\u001b[39m\u001b[38;5;124min\u001b[39m\u001b[38;5;124m'\u001b[39m: \u001b[38;5;124m'\u001b[39m\u001b[38;5;124mbel\u001b[39m\u001b[38;5;124m'\u001b[39m, \u001b[38;5;124m'\u001b[39m\u001b[38;5;124mout\u001b[39m\u001b[38;5;124m'\u001b[39m: \u001b[38;5;124m'\u001b[39m\u001b[38;5;124mbel\u001b[39m\u001b[38;5;124m'\u001b[39m},\n",
      " \u001b[38;5;124m'\u001b[39m\u001b[38;5;124mparents_path\u001b[39m\u001b[38;5;124m'\u001b[39m: [\u001b[38;5;124m'\u001b[39m\u001b[38;5;124mcausal\u001b[39m\u001b[38;5;124m'\u001b[39m, \u001b[38;5;124m'\u001b[39m\u001b[38;5;124mbel_relation\u001b[39m\u001b[38;5;124m'\u001b[39m, \u001b[38;5;124m'\u001b[39m\u001b[38;5;124mE\u001b[39m\u001b[38;5;124m'\u001b[39m]}\n",
      "\n",
      "For further testing go to http://0.0.0.0:5000/ui/#/BEL/ebel.web.api.ebel.v1.bel.get_class_info_by_name\n"
     ]
    },
    {
     "data": {
      "text/html": [
       "<h2>6. All imported BEL documents.</h2>"
      ],
      "text/plain": [
       "<IPython.core.display.HTML object>"
      ]
     },
     "metadata": {},
     "output_type": "display_data"
    },
    {
     "data": {
      "text/html": [
       "<b style=\"color: rgb(98,98,98); text-decoration: underline;\">Description:</b> <p>All imported BEL documents.</p>"
      ],
      "text/plain": [
       "<IPython.core.display.HTML object>"
      ]
     },
     "metadata": {},
     "output_type": "display_data"
    },
    {
     "data": {
      "text/html": [
       "<b>Tags:</b> ['BEL']"
      ],
      "text/plain": [
       "<IPython.core.display.HTML object>"
      ]
     },
     "metadata": {},
     "output_type": "display_data"
    },
    {
     "data": {
      "text/html": [
       "<b>Server path:</b> /api/v1/bel/documents"
      ],
      "text/plain": [
       "<IPython.core.display.HTML object>"
      ]
     },
     "metadata": {},
     "output_type": "display_data"
    },
    {
     "name": "stdout",
     "output_type": "stream",
     "text": [
      "without paramters\n"
     ]
    },
    {
     "data": {
      "text/html": [
       "<b>Example URL:</b> <a href=\"http://0.0.0.0:5000/api/v1/bel/documents\">http://0.0.0.0:5000/api/v1/bel/documents</a>"
      ],
      "text/plain": [
       "<IPython.core.display.HTML object>"
      ]
     },
     "metadata": {},
     "output_type": "display_data"
    },
    {
     "data": {
      "text/html": [
       "<b style=\"color: rgb(98,98,98); text-decoration: underline;\">Example response:</b>"
      ],
      "text/plain": [
       "<IPython.core.display.HTML object>"
      ]
     },
     "metadata": {},
     "output_type": "display_data"
    },
    {
     "name": "stdout",
     "output_type": "stream",
     "text": [
      "{\u001b[38;5;124m'\u001b[39m\u001b[38;5;124mnumber_of_results\u001b[39m\u001b[38;5;124m'\u001b[39m: \u001b[38;5;241m1\u001b[39m,\n",
      " \u001b[38;5;124m'\u001b[39m\u001b[38;5;124mpage\u001b[39m\u001b[38;5;124m'\u001b[39m: \u001b[38;5;241m1\u001b[39m,\n",
      " \u001b[38;5;124m'\u001b[39m\u001b[38;5;124mpage_size\u001b[39m\u001b[38;5;124m'\u001b[39m: \u001b[38;5;241m1\u001b[39m,\n",
      " \u001b[38;5;124m'\u001b[39m\u001b[38;5;124mpages\u001b[39m\u001b[38;5;124m'\u001b[39m: \u001b[38;5;241m1\u001b[39m,\n",
      " \u001b[38;5;124m'\u001b[39m\u001b[38;5;124mresults\u001b[39m\u001b[38;5;124m'\u001b[39m: [{\u001b[38;5;124m'\u001b[39m\u001b[38;5;124mauthors\u001b[39m\u001b[38;5;124m'\u001b[39m: [\u001b[38;5;124m'\u001b[39m\u001b[38;5;124mBruce Schultz\u001b[39m\u001b[38;5;124m'\u001b[39m],\n",
      "              \u001b[38;5;124m'\u001b[39m\u001b[38;5;124mcontact_info\u001b[39m\u001b[38;5;124m'\u001b[39m: \u001b[38;5;124m'\u001b[39m\u001b[38;5;124mbruce.schultz@scai.fraunhofer.de\u001b[39m\u001b[38;5;124m'\u001b[39m,\n",
      "              \u001b[38;5;124m'\u001b[39m\u001b[38;5;124mcopyright\u001b[39m\u001b[38;5;124m'\u001b[39m: \u001b[38;5;124m'\u001b[39m\u001b[38;5;124mCopyright © 2019 Fraunhofer Institute SCAI, All \u001b[39m\u001b[38;5;124m'\u001b[39m\n",
      "                           \u001b[38;5;124m'\u001b[39m\u001b[38;5;124mrights reserved.\u001b[39m\u001b[38;5;124m'\u001b[39m,\n",
      "              \u001b[38;5;124m'\u001b[39m\u001b[38;5;124mdescription\u001b[39m\u001b[38;5;124m'\u001b[39m: \u001b[38;5;124m'\u001b[39m\u001b[38;5;124mThis knowledge assembly is for the Phago \u001b[39m\u001b[38;5;124m'\u001b[39m\n",
      "                             \u001b[38;5;124m'\u001b[39m\u001b[38;5;124mproject.\u001b[39m\u001b[38;5;124m'\u001b[39m,\n",
      "              \u001b[38;5;124m'\u001b[39m\u001b[38;5;124mfile_last_modified\u001b[39m\u001b[38;5;124m'\u001b[39m: \u001b[38;5;241m1593119764.0\u001b[39m,\n",
      "              \u001b[38;5;124m'\u001b[39m\u001b[38;5;124mfile_name\u001b[39m\u001b[38;5;124m'\u001b[39m: \u001b[38;5;124m'\u001b[39m\u001b[38;5;124mPhago_BS.bel\u001b[39m\u001b[38;5;124m'\u001b[39m,\n",
      "              \u001b[38;5;124m'\u001b[39m\u001b[38;5;124mgit_hexsha\u001b[39m\u001b[38;5;124m'\u001b[39m: \u001b[38;5;124m'\u001b[39m\u001b[38;5;124mc39f40cc651f4e51e2643594fa98d32168dd024b\u001b[39m\u001b[38;5;124m'\u001b[39m,\n",
      "              \u001b[38;5;124m'\u001b[39m\u001b[38;5;124mgit_origin_url\u001b[39m\u001b[38;5;124m'\u001b[39m: \u001b[38;5;124m'\u001b[39m\u001b[38;5;124mgitlab.scai.fraunhofer.de/christian.ebeling/phago_annotation.git\u001b[39m\u001b[38;5;124m'\u001b[39m,\n",
      "              \u001b[38;5;124m'\u001b[39m\u001b[38;5;124mgit_repo_path\u001b[39m\u001b[38;5;124m'\u001b[39m: \u001b[38;5;124m'\u001b[39m\u001b[38;5;124mbel/Phago_BS.bel.json\u001b[39m\u001b[38;5;124m'\u001b[39m,\n",
      "              \u001b[38;5;124m'\u001b[39m\u001b[38;5;124mkeywords\u001b[39m\u001b[38;5;124m'\u001b[39m: [\u001b[38;5;124m'\u001b[39m\u001b[38;5;124mphago\u001b[39m\u001b[38;5;124m'\u001b[39m],\n",
      "              \u001b[38;5;124m'\u001b[39m\u001b[38;5;124mrid\u001b[39m\u001b[38;5;124m'\u001b[39m: \u001b[38;5;124m'\u001b[39m\u001b[38;5;124m#58:0\u001b[39m\u001b[38;5;124m'\u001b[39m,\n",
      "              \u001b[38;5;124m'\u001b[39m\u001b[38;5;124muploaded\u001b[39m\u001b[38;5;124m'\u001b[39m: \u001b[38;5;124m'\u001b[39m\u001b[38;5;124m2021-09-23 00:01:27\u001b[39m\u001b[38;5;124m'\u001b[39m,\n",
      "              \u001b[38;5;124m'\u001b[39m\u001b[38;5;124mversion\u001b[39m\u001b[38;5;124m'\u001b[39m: \u001b[38;5;124m'\u001b[39m\u001b[38;5;124m2.4.4\u001b[39m\u001b[38;5;124m'\u001b[39m}]}\n",
      "\n",
      "For further testing go to http://0.0.0.0:5000/ui/#/BEL/ebel.web.api.ebel.v1.bel.get_documents\n"
     ]
    },
    {
     "data": {
      "text/html": [
       "<h2>7. Get BEL edge by MeSH</h2>"
      ],
      "text/plain": [
       "<IPython.core.display.HTML object>"
      ]
     },
     "metadata": {},
     "output_type": "display_data"
    },
    {
     "data": {
      "text/html": [
       "<b style=\"color: rgb(98,98,98); text-decoration: underline;\">Description:</b> <p>Get BEL edge by MeSH</p>"
      ],
      "text/plain": [
       "<IPython.core.display.HTML object>"
      ]
     },
     "metadata": {},
     "output_type": "display_data"
    },
    {
     "data": {
      "text/html": [
       "<b>Tags:</b> ['BEL']"
      ],
      "text/plain": [
       "<IPython.core.display.HTML object>"
      ]
     },
     "metadata": {},
     "output_type": "display_data"
    },
    {
     "data": {
      "text/html": [
       "<b>Server path:</b> /api/v1/bel/edge_by_annotation"
      ],
      "text/plain": [
       "<IPython.core.display.HTML object>"
      ]
     },
     "metadata": {},
     "output_type": "display_data"
    },
    {
     "data": {
      "text/html": [
       "<div>\n",
       "<style scoped>\n",
       "    .dataframe tbody tr th:only-of-type {\n",
       "        vertical-align: middle;\n",
       "    }\n",
       "\n",
       "    .dataframe tbody tr th {\n",
       "        vertical-align: top;\n",
       "    }\n",
       "\n",
       "    .dataframe thead th {\n",
       "        text-align: right;\n",
       "    }\n",
       "</style>\n",
       "<table border=\"1\" class=\"dataframe\">\n",
       "  <thead>\n",
       "    <tr style=\"text-align: right;\">\n",
       "      <th></th>\n",
       "      <th>data type</th>\n",
       "      <th>description</th>\n",
       "      <th>example</th>\n",
       "      <th>options</th>\n",
       "      <th>default</th>\n",
       "      <th>required</th>\n",
       "    </tr>\n",
       "    <tr>\n",
       "      <th>parameter name</th>\n",
       "      <th></th>\n",
       "      <th></th>\n",
       "      <th></th>\n",
       "      <th></th>\n",
       "      <th></th>\n",
       "      <th></th>\n",
       "    </tr>\n",
       "  </thead>\n",
       "  <tbody>\n",
       "    <tr>\n",
       "      <th>annotation_key</th>\n",
       "      <td>string</td>\n",
       "      <td></td>\n",
       "      <td>mesh</td>\n",
       "      <td></td>\n",
       "      <td></td>\n",
       "      <td>False</td>\n",
       "    </tr>\n",
       "    <tr>\n",
       "      <th>annotation_term</th>\n",
       "      <td>string</td>\n",
       "      <td></td>\n",
       "      <td>Alzheimer Disease</td>\n",
       "      <td></td>\n",
       "      <td></td>\n",
       "      <td>False</td>\n",
       "    </tr>\n",
       "    <tr>\n",
       "      <th>page_size</th>\n",
       "      <td>integer</td>\n",
       "      <td>Results per page</td>\n",
       "      <td>1</td>\n",
       "      <td></td>\n",
       "      <td>10.0</td>\n",
       "      <td>False</td>\n",
       "    </tr>\n",
       "    <tr>\n",
       "      <th>page</th>\n",
       "      <td>integer</td>\n",
       "      <td>Page number (starting with 1)</td>\n",
       "      <td>1</td>\n",
       "      <td></td>\n",
       "      <td>1.0</td>\n",
       "      <td>False</td>\n",
       "    </tr>\n",
       "  </tbody>\n",
       "</table>\n",
       "</div>"
      ],
      "text/plain": [
       "                data type                    description            example  \\\n",
       "parameter name                                                                \n",
       "annotation_key     string                                              mesh   \n",
       "annotation_term    string                                 Alzheimer Disease   \n",
       "page_size         integer               Results per page                  1   \n",
       "page              integer  Page number (starting with 1)                  1   \n",
       "\n",
       "                options default  required  \n",
       "parameter name                             \n",
       "annotation_key                      False  \n",
       "annotation_term                     False  \n",
       "page_size                  10.0     False  \n",
       "page                        1.0     False  "
      ]
     },
     "metadata": {},
     "output_type": "display_data"
    },
    {
     "data": {
      "text/html": [
       "<b>Example URL:</b> <a href=\"http://0.0.0.0:5000/api/v1/bel/edge_by_annotation?annotation_key=mesh&annotation_term=Alzheimer+Disease&page_size=1&page=1\">http://0.0.0.0:5000/api/v1/bel/edge_by_annotation?annotation_key=mesh&annotation_term=Alzheimer+Disease&page_size=1&page=1</a>"
      ],
      "text/plain": [
       "<IPython.core.display.HTML object>"
      ]
     },
     "metadata": {},
     "output_type": "display_data"
    },
    {
     "data": {
      "text/html": [
       "<b style=\"color: rgb(98,98,98); text-decoration: underline;\">Example response:</b>"
      ],
      "text/plain": [
       "<IPython.core.display.HTML object>"
      ]
     },
     "metadata": {},
     "output_type": "display_data"
    },
    {
     "name": "stdout",
     "output_type": "stream",
     "text": [
      "{\u001b[38;5;124m'\u001b[39m\u001b[38;5;124mnumber_of_results\u001b[39m\u001b[38;5;124m'\u001b[39m: \u001b[38;5;241m1484\u001b[39m,\n",
      " \u001b[38;5;124m'\u001b[39m\u001b[38;5;124mpage\u001b[39m\u001b[38;5;124m'\u001b[39m: \u001b[38;5;241m1\u001b[39m,\n",
      " \u001b[38;5;124m'\u001b[39m\u001b[38;5;124mpage_size\u001b[39m\u001b[38;5;124m'\u001b[39m: \u001b[38;5;241m1\u001b[39m,\n",
      " \u001b[38;5;124m'\u001b[39m\u001b[38;5;124mpages\u001b[39m\u001b[38;5;124m'\u001b[39m: \u001b[38;5;241m1484\u001b[39m,\n",
      " \u001b[38;5;124m'\u001b[39m\u001b[38;5;124mresults\u001b[39m\u001b[38;5;124m'\u001b[39m: [{\u001b[38;5;124m'\u001b[39m\u001b[38;5;124mannotation_key\u001b[39m\u001b[38;5;124m'\u001b[39m: [\u001b[38;5;124m'\u001b[39m\u001b[38;5;124mAlzheimer Disease\u001b[39m\u001b[38;5;124m'\u001b[39m,\n",
      "                                 \u001b[38;5;124m'\u001b[39m\u001b[38;5;124mAnimals\u001b[39m\u001b[38;5;124m'\u001b[39m,\n",
      "                                 \u001b[38;5;124m'\u001b[39m\u001b[38;5;124mCell Survival\u001b[39m\u001b[38;5;124m'\u001b[39m,\n",
      "                                 \u001b[38;5;124m'\u001b[39m\u001b[38;5;124mGlycogen Synthase Kinase 3 beta\u001b[39m\u001b[38;5;124m'\u001b[39m,\n",
      "                                 \u001b[38;5;124m'\u001b[39m\u001b[38;5;124mHEK293 Cells\u001b[39m\u001b[38;5;124m'\u001b[39m,\n",
      "                                 \u001b[38;5;124m'\u001b[39m\u001b[38;5;124mHumans\u001b[39m\u001b[38;5;124m'\u001b[39m,\n",
      "                                 \u001b[38;5;124m'\u001b[39m\u001b[38;5;124mInflammation\u001b[39m\u001b[38;5;124m'\u001b[39m,\n",
      "                                 \u001b[38;5;124m'\u001b[39m\u001b[38;5;124mMembrane Glycoproteins\u001b[39m\u001b[38;5;124m'\u001b[39m,\n",
      "                                 \u001b[38;5;124m'\u001b[39m\u001b[38;5;124mMice\u001b[39m\u001b[38;5;124m'\u001b[39m,\n",
      "                                 \u001b[38;5;124m'\u001b[39m\u001b[38;5;124mMice, Inbred C57BL\u001b[39m\u001b[38;5;124m'\u001b[39m,\n",
      "                                 \u001b[38;5;124m'\u001b[39m\u001b[38;5;124mMicroglia\u001b[39m\u001b[38;5;124m'\u001b[39m,\n",
      "                                 \u001b[38;5;124m'\u001b[39m\u001b[38;5;124mMutation\u001b[39m\u001b[38;5;124m'\u001b[39m,\n",
      "                                 \u001b[38;5;124m'\u001b[39m\u001b[38;5;124mNF-kappa B\u001b[39m\u001b[38;5;124m'\u001b[39m,\n",
      "                                 \u001b[38;5;124m'\u001b[39m\u001b[38;5;124mPhosphatidylinositol 3-Kinases\u001b[39m\u001b[38;5;124m'\u001b[39m,\n",
      "                                 \u001b[38;5;124m'\u001b[39m\u001b[38;5;124mProto-Oncogene Proteins c-akt\u001b[39m\u001b[38;5;124m'\u001b[39m,\n",
      "                                 \u001b[38;5;124m'\u001b[39m\u001b[38;5;124mReceptors, Immunologic\u001b[39m\u001b[38;5;124m'\u001b[39m,\n",
      "                                 \u001b[38;5;124m'\u001b[39m\u001b[38;5;124mSignal Transduction\u001b[39m\u001b[38;5;124m'\u001b[39m,\n",
      "                                 \u001b[38;5;124m'\u001b[39m\u001b[38;5;124mbeta Catenin\u001b[39m\u001b[38;5;124m'\u001b[39m],\n",
      "              \u001b[38;5;124m'\u001b[39m\u001b[38;5;124mauthor_in_author_list\u001b[39m\u001b[38;5;124m'\u001b[39m: [\u001b[38;5;124m'\u001b[39m\u001b[38;5;124mZhong L\u001b[39m\u001b[38;5;124m'\u001b[39m,\n",
      "                                        \u001b[38;5;124m'\u001b[39m\u001b[38;5;124mChen XF\u001b[39m\u001b[38;5;124m'\u001b[39m,\n",
      "                                        \u001b[38;5;124m'\u001b[39m\u001b[38;5;124mWang T\u001b[39m\u001b[38;5;124m'\u001b[39m,\n",
      "                                        \u001b[38;5;124m'\u001b[39m\u001b[38;5;124mWang Z\u001b[39m\u001b[38;5;124m'\u001b[39m,\n",
      "                                        \u001b[38;5;124m'\u001b[39m\u001b[38;5;124mLiao C\u001b[39m\u001b[38;5;124m'\u001b[39m,\n",
      "                                        \u001b[38;5;124m'\u001b[39m\u001b[38;5;124mWang Z\u001b[39m\u001b[38;5;124m'\u001b[39m,\n",
      "                                        \u001b[38;5;124m'\u001b[39m\u001b[38;5;124mHuang R\u001b[39m\u001b[38;5;124m'\u001b[39m,\n",
      "                                        \u001b[38;5;124m'\u001b[39m\u001b[38;5;124mWang D\u001b[39m\u001b[38;5;124m'\u001b[39m,\n",
      "                                        \u001b[38;5;124m'\u001b[39m\u001b[38;5;124mLi X\u001b[39m\u001b[38;5;124m'\u001b[39m,\n",
      "                                        \u001b[38;5;124m'\u001b[39m\u001b[38;5;124mWu L\u001b[39m\u001b[38;5;124m'\u001b[39m,\n",
      "                                        \u001b[38;5;124m'\u001b[39m\u001b[38;5;124mJia L\u001b[39m\u001b[38;5;124m'\u001b[39m,\n",
      "                                        \u001b[38;5;124m'\u001b[39m\u001b[38;5;124mZheng H\u001b[39m\u001b[38;5;124m'\u001b[39m,\n",
      "                                        \u001b[38;5;124m'\u001b[39m\u001b[38;5;124mPainter M\u001b[39m\u001b[38;5;124m'\u001b[39m,\n",
      "                                        \u001b[38;5;124m'\u001b[39m\u001b[38;5;124mAtagi Y\u001b[39m\u001b[38;5;124m'\u001b[39m,\n",
      "                                        \u001b[38;5;124m'\u001b[39m\u001b[38;5;124mLiu CC\u001b[39m\u001b[38;5;124m'\u001b[39m,\n",
      "                                        \u001b[38;5;124m'\u001b[39m\u001b[38;5;124mZhang YW\u001b[39m\u001b[38;5;124m'\u001b[39m,\n",
      "                                        \u001b[38;5;124m'\u001b[39m\u001b[38;5;124mFryer JD\u001b[39m\u001b[38;5;124m'\u001b[39m,\n",
      "                                        \u001b[38;5;124m'\u001b[39m\u001b[38;5;124mXu H\u001b[39m\u001b[38;5;124m'\u001b[39m,\n",
      "                                        \u001b[38;5;124m'\u001b[39m\u001b[38;5;124mBu G\u001b[39m\u001b[38;5;124m'\u001b[39m],\n",
      "              \u001b[38;5;124m'\u001b[39m\u001b[38;5;124mcitation_full_journal_name\u001b[39m\u001b[38;5;124m'\u001b[39m: \u001b[38;5;124m'\u001b[39m\u001b[38;5;124mThe Journal of experimental \u001b[39m\u001b[38;5;124m'\u001b[39m\n",
      "                                            \u001b[38;5;124m'\u001b[39m\u001b[38;5;124mmedicine\u001b[39m\u001b[38;5;124m'\u001b[39m,\n",
      "              \u001b[38;5;124m'\u001b[39m\u001b[38;5;124mcitation_last_author\u001b[39m\u001b[38;5;124m'\u001b[39m: \u001b[38;5;124m'\u001b[39m\u001b[38;5;124mBu G\u001b[39m\u001b[38;5;124m'\u001b[39m,\n",
      "              \u001b[38;5;124m'\u001b[39m\u001b[38;5;124mcitation_pub_date\u001b[39m\u001b[38;5;124m'\u001b[39m: \u001b[38;5;124m'\u001b[39m\u001b[38;5;124m2017-08-14\u001b[39m\u001b[38;5;124m'\u001b[39m,\n",
      "              \u001b[38;5;124m'\u001b[39m\u001b[38;5;124mcitation_pub_year\u001b[39m\u001b[38;5;124m'\u001b[39m: \u001b[38;5;241m2017\u001b[39m,\n",
      "              \u001b[38;5;124m'\u001b[39m\u001b[38;5;124mcitation_type\u001b[39m\u001b[38;5;124m'\u001b[39m: \u001b[38;5;124m'\u001b[39m\u001b[38;5;124mPubMed\u001b[39m\u001b[38;5;124m'\u001b[39m,\n",
      "              \u001b[38;5;124m'\u001b[39m\u001b[38;5;124mdoi\u001b[39m\u001b[38;5;124m'\u001b[39m: \u001b[38;5;124m'\u001b[39m\u001b[38;5;124m10.1084/jem.20160844\u001b[39m\u001b[38;5;124m'\u001b[39m,\n",
      "              \u001b[38;5;124m'\u001b[39m\u001b[38;5;124mevidence\u001b[39m\u001b[38;5;124m'\u001b[39m: \u001b[38;5;124m'\u001b[39m\u001b[38;5;124mSoluble TREM2 induces inflammatory responses and \u001b[39m\u001b[38;5;124m'\u001b[39m\n",
      "                          \u001b[38;5;124m'\u001b[39m\u001b[38;5;124menhances microglial survival\u001b[39m\u001b[38;5;124m'\u001b[39m,\n",
      "              \u001b[38;5;124m'\u001b[39m\u001b[38;5;124mobject_bel\u001b[39m\u001b[38;5;124m'\u001b[39m: \u001b[38;5;124m'\u001b[39m\u001b[38;5;124mbp(GOBP:\u001b[39m\u001b[38;5;124m\"\u001b[39m\u001b[38;5;124minflammatory response\u001b[39m\u001b[38;5;124m\"\u001b[39m\u001b[38;5;124m)\u001b[39m\u001b[38;5;124m'\u001b[39m,\n",
      "              \u001b[38;5;124m'\u001b[39m\u001b[38;5;124mobject_gene_symbol_involved_in\u001b[39m\u001b[38;5;124m'\u001b[39m: [],\n",
      "              \u001b[38;5;124m'\u001b[39m\u001b[38;5;124mobject_name\u001b[39m\u001b[38;5;124m'\u001b[39m: \u001b[38;5;124m'\u001b[39m\u001b[38;5;124minflammatory response\u001b[39m\u001b[38;5;124m'\u001b[39m,\n",
      "              \u001b[38;5;124m'\u001b[39m\u001b[38;5;124mobject_namespace\u001b[39m\u001b[38;5;124m'\u001b[39m: \u001b[38;5;124m'\u001b[39m\u001b[38;5;124mGOBP\u001b[39m\u001b[38;5;124m'\u001b[39m,\n",
      "              \u001b[38;5;124m'\u001b[39m\u001b[38;5;124mobject_node_class\u001b[39m\u001b[38;5;124m'\u001b[39m: \u001b[38;5;124m'\u001b[39m\u001b[38;5;124mbiological_process\u001b[39m\u001b[38;5;124m'\u001b[39m,\n",
      "              \u001b[38;5;124m'\u001b[39m\u001b[38;5;124mobject_other_involved_in\u001b[39m\u001b[38;5;124m'\u001b[39m: [\u001b[38;5;124m'\u001b[39m\u001b[38;5;124minflammatory response\u001b[39m\u001b[38;5;124m'\u001b[39m],\n",
      "              \u001b[38;5;124m'\u001b[39m\u001b[38;5;124mobject_rid\u001b[39m\u001b[38;5;124m'\u001b[39m: \u001b[38;5;124m'\u001b[39m\u001b[38;5;124m#74:0\u001b[39m\u001b[38;5;124m'\u001b[39m,\n",
      "              \u001b[38;5;124m'\u001b[39m\u001b[38;5;124mrelation\u001b[39m\u001b[38;5;124m'\u001b[39m: \u001b[38;5;124m'\u001b[39m\u001b[38;5;124mincreases\u001b[39m\u001b[38;5;124m'\u001b[39m,\n",
      "              \u001b[38;5;124m'\u001b[39m\u001b[38;5;124mrelation_rid\u001b[39m\u001b[38;5;124m'\u001b[39m: \u001b[38;5;124m'\u001b[39m\u001b[38;5;124m#554:0\u001b[39m\u001b[38;5;124m'\u001b[39m,\n",
      "              \u001b[38;5;124m'\u001b[39m\u001b[38;5;124msubject_bel\u001b[39m\u001b[38;5;124m'\u001b[39m: \u001b[38;5;124m'\u001b[39m\u001b[38;5;124mp(HGNC:\u001b[39m\u001b[38;5;124m\"\u001b[39m\u001b[38;5;124mTREM2\u001b[39m\u001b[38;5;124m\"\u001b[39m\u001b[38;5;124m,loc(MESHA:\u001b[39m\u001b[38;5;124m\"\u001b[39m\u001b[38;5;124mExtracellular Space\u001b[39m\u001b[38;5;124m\"\u001b[39m\u001b[38;5;124m))\u001b[39m\u001b[38;5;124m'\u001b[39m,\n",
      "              \u001b[38;5;124m'\u001b[39m\u001b[38;5;124msubject_gene_symbol_involved_in\u001b[39m\u001b[38;5;124m'\u001b[39m: [\u001b[38;5;124m'\u001b[39m\u001b[38;5;124mTREM2\u001b[39m\u001b[38;5;124m'\u001b[39m],\n",
      "              \u001b[38;5;124m'\u001b[39m\u001b[38;5;124msubject_name\u001b[39m\u001b[38;5;124m'\u001b[39m: \u001b[38;5;124m'\u001b[39m\u001b[38;5;124mTREM2\u001b[39m\u001b[38;5;124m'\u001b[39m,\n",
      "              \u001b[38;5;124m'\u001b[39m\u001b[38;5;124msubject_namespace\u001b[39m\u001b[38;5;124m'\u001b[39m: \u001b[38;5;124m'\u001b[39m\u001b[38;5;124mHGNC\u001b[39m\u001b[38;5;124m'\u001b[39m,\n",
      "              \u001b[38;5;124m'\u001b[39m\u001b[38;5;124msubject_node_class\u001b[39m\u001b[38;5;124m'\u001b[39m: \u001b[38;5;124m'\u001b[39m\u001b[38;5;124mprotein\u001b[39m\u001b[38;5;124m'\u001b[39m,\n",
      "              \u001b[38;5;124m'\u001b[39m\u001b[38;5;124msubject_other_involved_in\u001b[39m\u001b[38;5;124m'\u001b[39m: [],\n",
      "              \u001b[38;5;124m'\u001b[39m\u001b[38;5;124msubject_rid\u001b[39m\u001b[38;5;124m'\u001b[39m: \u001b[38;5;124m'\u001b[39m\u001b[38;5;124m#186:0\u001b[39m\u001b[38;5;124m'\u001b[39m,\n",
      "              \u001b[38;5;124m'\u001b[39m\u001b[38;5;124mtitle\u001b[39m\u001b[38;5;124m'\u001b[39m: \u001b[38;5;124m'\u001b[39m\u001b[38;5;124mSoluble TREM2 induces inflammatory responses and \u001b[39m\u001b[38;5;124m'\u001b[39m\n",
      "                       \u001b[38;5;124m'\u001b[39m\u001b[38;5;124menhances microglial survival.\u001b[39m\u001b[38;5;124m'\u001b[39m}]}\n",
      "\n",
      "For further testing go to http://0.0.0.0:5000/ui/#/BEL/ebel.web.api.ebel.v1.bel.get_edge_by_annotation\n"
     ]
    },
    {
     "data": {
      "text/html": [
       "<h2>8. Get BEL edge by PubMed ID</h2>"
      ],
      "text/plain": [
       "<IPython.core.display.HTML object>"
      ]
     },
     "metadata": {},
     "output_type": "display_data"
    },
    {
     "data": {
      "text/html": [
       "<b style=\"color: rgb(98,98,98); text-decoration: underline;\">Description:</b> <p>Get BEL edge by PubMed ID</p>"
      ],
      "text/plain": [
       "<IPython.core.display.HTML object>"
      ]
     },
     "metadata": {},
     "output_type": "display_data"
    },
    {
     "data": {
      "text/html": [
       "<b>Tags:</b> ['BEL']"
      ],
      "text/plain": [
       "<IPython.core.display.HTML object>"
      ]
     },
     "metadata": {},
     "output_type": "display_data"
    },
    {
     "data": {
      "text/html": [
       "<b>Server path:</b> /api/v1/bel/edges"
      ],
      "text/plain": [
       "<IPython.core.display.HTML object>"
      ]
     },
     "metadata": {},
     "output_type": "display_data"
    },
    {
     "data": {
      "text/html": [
       "<div>\n",
       "<style scoped>\n",
       "    .dataframe tbody tr th:only-of-type {\n",
       "        vertical-align: middle;\n",
       "    }\n",
       "\n",
       "    .dataframe tbody tr th {\n",
       "        vertical-align: top;\n",
       "    }\n",
       "\n",
       "    .dataframe thead th {\n",
       "        text-align: right;\n",
       "    }\n",
       "</style>\n",
       "<table border=\"1\" class=\"dataframe\">\n",
       "  <thead>\n",
       "    <tr style=\"text-align: right;\">\n",
       "      <th></th>\n",
       "      <th>data type</th>\n",
       "      <th>description</th>\n",
       "      <th>example</th>\n",
       "      <th>options</th>\n",
       "      <th>default</th>\n",
       "      <th>required</th>\n",
       "    </tr>\n",
       "    <tr>\n",
       "      <th>parameter name</th>\n",
       "      <th></th>\n",
       "      <th></th>\n",
       "      <th></th>\n",
       "      <th></th>\n",
       "      <th></th>\n",
       "      <th></th>\n",
       "    </tr>\n",
       "  </thead>\n",
       "  <tbody>\n",
       "    <tr>\n",
       "      <th>subject_rid</th>\n",
       "      <td>string</td>\n",
       "      <td>You can also use several rids seperated by comma</td>\n",
       "      <td></td>\n",
       "      <td></td>\n",
       "      <td></td>\n",
       "      <td>False</td>\n",
       "    </tr>\n",
       "    <tr>\n",
       "      <th>subject_node_class</th>\n",
       "      <td>string</td>\n",
       "      <td></td>\n",
       "      <td>protein</td>\n",
       "      <td>[gene, rna, protein, abundance, activity, biol...</td>\n",
       "      <td></td>\n",
       "      <td>False</td>\n",
       "    </tr>\n",
       "    <tr>\n",
       "      <th>subject_namespace</th>\n",
       "      <td>string</td>\n",
       "      <td></td>\n",
       "      <td>HGNC</td>\n",
       "      <td></td>\n",
       "      <td></td>\n",
       "      <td>False</td>\n",
       "    </tr>\n",
       "    <tr>\n",
       "      <th>subject_name</th>\n",
       "      <td>string</td>\n",
       "      <td>use % as wildcard</td>\n",
       "      <td>IL4</td>\n",
       "      <td></td>\n",
       "      <td></td>\n",
       "      <td>False</td>\n",
       "    </tr>\n",
       "    <tr>\n",
       "      <th>subject_bel</th>\n",
       "      <td>string</td>\n",
       "      <td>use % as wildcard</td>\n",
       "      <td></td>\n",
       "      <td></td>\n",
       "      <td></td>\n",
       "      <td>False</td>\n",
       "    </tr>\n",
       "    <tr>\n",
       "      <th>subject_gene_symbol_involved_in</th>\n",
       "      <td>string</td>\n",
       "      <td></td>\n",
       "      <td></td>\n",
       "      <td></td>\n",
       "      <td></td>\n",
       "      <td>False</td>\n",
       "    </tr>\n",
       "    <tr>\n",
       "      <th>subject_other_involved_in</th>\n",
       "      <td>string</td>\n",
       "      <td></td>\n",
       "      <td></td>\n",
       "      <td></td>\n",
       "      <td></td>\n",
       "      <td>False</td>\n",
       "    </tr>\n",
       "    <tr>\n",
       "      <th>edge_rid</th>\n",
       "      <td>string</td>\n",
       "      <td>You can also use several rids seperated by comma</td>\n",
       "      <td></td>\n",
       "      <td></td>\n",
       "      <td></td>\n",
       "      <td>False</td>\n",
       "    </tr>\n",
       "    <tr>\n",
       "      <th>relation</th>\n",
       "      <td>string</td>\n",
       "      <td></td>\n",
       "      <td>increases</td>\n",
       "      <td>[bel_relation, association, causal, correlativ...</td>\n",
       "      <td></td>\n",
       "      <td>False</td>\n",
       "    </tr>\n",
       "    <tr>\n",
       "      <th>evidence</th>\n",
       "      <td>string</td>\n",
       "      <td>use % as wildcard</td>\n",
       "      <td></td>\n",
       "      <td></td>\n",
       "      <td></td>\n",
       "      <td>False</td>\n",
       "    </tr>\n",
       "    <tr>\n",
       "      <th>citation_full_journal_name</th>\n",
       "      <td>string</td>\n",
       "      <td>use % as wildcard</td>\n",
       "      <td>Molecular neurodegeneration</td>\n",
       "      <td></td>\n",
       "      <td></td>\n",
       "      <td>False</td>\n",
       "    </tr>\n",
       "    <tr>\n",
       "      <th>citation_pub_date</th>\n",
       "      <td>string</td>\n",
       "      <td></td>\n",
       "      <td>2018-06-12</td>\n",
       "      <td></td>\n",
       "      <td></td>\n",
       "      <td>False</td>\n",
       "    </tr>\n",
       "    <tr>\n",
       "      <th>citation_pub_year</th>\n",
       "      <td>integer</td>\n",
       "      <td></td>\n",
       "      <td>2018</td>\n",
       "      <td></td>\n",
       "      <td></td>\n",
       "      <td>False</td>\n",
       "    </tr>\n",
       "    <tr>\n",
       "      <th>citation_last_author</th>\n",
       "      <td>string</td>\n",
       "      <td>use % as wildcard</td>\n",
       "      <td>Landreth GE</td>\n",
       "      <td></td>\n",
       "      <td></td>\n",
       "      <td>False</td>\n",
       "    </tr>\n",
       "    <tr>\n",
       "      <th>citation_type</th>\n",
       "      <td>string</td>\n",
       "      <td></td>\n",
       "      <td>PubMed</td>\n",
       "      <td></td>\n",
       "      <td></td>\n",
       "      <td>False</td>\n",
       "    </tr>\n",
       "    <tr>\n",
       "      <th>author_in_author_list</th>\n",
       "      <td>string</td>\n",
       "      <td></td>\n",
       "      <td></td>\n",
       "      <td></td>\n",
       "      <td></td>\n",
       "      <td>False</td>\n",
       "    </tr>\n",
       "    <tr>\n",
       "      <th>title</th>\n",
       "      <td>string</td>\n",
       "      <td>use % as wildcard</td>\n",
       "      <td>TREM2 in Neurodegenerative Diseases.</td>\n",
       "      <td></td>\n",
       "      <td></td>\n",
       "      <td>False</td>\n",
       "    </tr>\n",
       "    <tr>\n",
       "      <th>doi</th>\n",
       "      <td>string</td>\n",
       "      <td></td>\n",
       "      <td>10.1186/s13024-017-0197-5</td>\n",
       "      <td></td>\n",
       "      <td></td>\n",
       "      <td>False</td>\n",
       "    </tr>\n",
       "    <tr>\n",
       "      <th>object_rid</th>\n",
       "      <td>string</td>\n",
       "      <td>You can also use several rids seperated by comma</td>\n",
       "      <td></td>\n",
       "      <td></td>\n",
       "      <td></td>\n",
       "      <td>False</td>\n",
       "    </tr>\n",
       "    <tr>\n",
       "      <th>object_node_class</th>\n",
       "      <td>string</td>\n",
       "      <td></td>\n",
       "      <td>protein</td>\n",
       "      <td>[gene, rna, protein, abundance, activity, biol...</td>\n",
       "      <td></td>\n",
       "      <td>False</td>\n",
       "    </tr>\n",
       "    <tr>\n",
       "      <th>object_namespace</th>\n",
       "      <td>string</td>\n",
       "      <td></td>\n",
       "      <td>HGNC</td>\n",
       "      <td></td>\n",
       "      <td></td>\n",
       "      <td>False</td>\n",
       "    </tr>\n",
       "    <tr>\n",
       "      <th>object_name</th>\n",
       "      <td>string</td>\n",
       "      <td></td>\n",
       "      <td>TREM2</td>\n",
       "      <td></td>\n",
       "      <td></td>\n",
       "      <td>False</td>\n",
       "    </tr>\n",
       "    <tr>\n",
       "      <th>object_bel</th>\n",
       "      <td>string</td>\n",
       "      <td></td>\n",
       "      <td></td>\n",
       "      <td></td>\n",
       "      <td></td>\n",
       "      <td>False</td>\n",
       "    </tr>\n",
       "    <tr>\n",
       "      <th>object_gene_symbol_involved_in</th>\n",
       "      <td>string</td>\n",
       "      <td></td>\n",
       "      <td></td>\n",
       "      <td></td>\n",
       "      <td></td>\n",
       "      <td>False</td>\n",
       "    </tr>\n",
       "    <tr>\n",
       "      <th>object_other_involved_in</th>\n",
       "      <td>string</td>\n",
       "      <td></td>\n",
       "      <td></td>\n",
       "      <td></td>\n",
       "      <td></td>\n",
       "      <td>False</td>\n",
       "    </tr>\n",
       "    <tr>\n",
       "      <th>page_size</th>\n",
       "      <td>integer</td>\n",
       "      <td>Results per page</td>\n",
       "      <td>1</td>\n",
       "      <td></td>\n",
       "      <td>10.0</td>\n",
       "      <td>False</td>\n",
       "    </tr>\n",
       "    <tr>\n",
       "      <th>page</th>\n",
       "      <td>integer</td>\n",
       "      <td>Page number (starting with 1)</td>\n",
       "      <td>1</td>\n",
       "      <td></td>\n",
       "      <td>1.0</td>\n",
       "      <td>False</td>\n",
       "    </tr>\n",
       "  </tbody>\n",
       "</table>\n",
       "</div>"
      ],
      "text/plain": [
       "                                data type  \\\n",
       "parameter name                              \n",
       "subject_rid                        string   \n",
       "subject_node_class                 string   \n",
       "subject_namespace                  string   \n",
       "subject_name                       string   \n",
       "subject_bel                        string   \n",
       "subject_gene_symbol_involved_in    string   \n",
       "subject_other_involved_in          string   \n",
       "edge_rid                           string   \n",
       "relation                           string   \n",
       "evidence                           string   \n",
       "citation_full_journal_name         string   \n",
       "citation_pub_date                  string   \n",
       "citation_pub_year                 integer   \n",
       "citation_last_author               string   \n",
       "citation_type                      string   \n",
       "author_in_author_list              string   \n",
       "title                              string   \n",
       "doi                                string   \n",
       "object_rid                         string   \n",
       "object_node_class                  string   \n",
       "object_namespace                   string   \n",
       "object_name                        string   \n",
       "object_bel                         string   \n",
       "object_gene_symbol_involved_in     string   \n",
       "object_other_involved_in           string   \n",
       "page_size                         integer   \n",
       "page                              integer   \n",
       "\n",
       "                                                                      description  \\\n",
       "parameter name                                                                      \n",
       "subject_rid                      You can also use several rids seperated by comma   \n",
       "subject_node_class                                                                  \n",
       "subject_namespace                                                                   \n",
       "subject_name                                                    use % as wildcard   \n",
       "subject_bel                                                     use % as wildcard   \n",
       "subject_gene_symbol_involved_in                                                     \n",
       "subject_other_involved_in                                                           \n",
       "edge_rid                         You can also use several rids seperated by comma   \n",
       "relation                                                                            \n",
       "evidence                                                        use % as wildcard   \n",
       "citation_full_journal_name                                      use % as wildcard   \n",
       "citation_pub_date                                                                   \n",
       "citation_pub_year                                                                   \n",
       "citation_last_author                                            use % as wildcard   \n",
       "citation_type                                                                       \n",
       "author_in_author_list                                                               \n",
       "title                                                           use % as wildcard   \n",
       "doi                                                                                 \n",
       "object_rid                       You can also use several rids seperated by comma   \n",
       "object_node_class                                                                   \n",
       "object_namespace                                                                    \n",
       "object_name                                                                         \n",
       "object_bel                                                                          \n",
       "object_gene_symbol_involved_in                                                      \n",
       "object_other_involved_in                                                            \n",
       "page_size                                                        Results per page   \n",
       "page                                                Page number (starting with 1)   \n",
       "\n",
       "                                                              example  \\\n",
       "parameter name                                                          \n",
       "subject_rid                                                             \n",
       "subject_node_class                                            protein   \n",
       "subject_namespace                                                HGNC   \n",
       "subject_name                                                      IL4   \n",
       "subject_bel                                                             \n",
       "subject_gene_symbol_involved_in                                         \n",
       "subject_other_involved_in                                               \n",
       "edge_rid                                                                \n",
       "relation                                                    increases   \n",
       "evidence                                                                \n",
       "citation_full_journal_name                Molecular neurodegeneration   \n",
       "citation_pub_date                                          2018-06-12   \n",
       "citation_pub_year                                                2018   \n",
       "citation_last_author                                      Landreth GE   \n",
       "citation_type                                                  PubMed   \n",
       "author_in_author_list                                                   \n",
       "title                            TREM2 in Neurodegenerative Diseases.   \n",
       "doi                                         10.1186/s13024-017-0197-5   \n",
       "object_rid                                                              \n",
       "object_node_class                                             protein   \n",
       "object_namespace                                                 HGNC   \n",
       "object_name                                                     TREM2   \n",
       "object_bel                                                              \n",
       "object_gene_symbol_involved_in                                          \n",
       "object_other_involved_in                                                \n",
       "page_size                                                           1   \n",
       "page                                                                1   \n",
       "\n",
       "                                                                           options  \\\n",
       "parameter name                                                                       \n",
       "subject_rid                                                                          \n",
       "subject_node_class               [gene, rna, protein, abundance, activity, biol...   \n",
       "subject_namespace                                                                    \n",
       "subject_name                                                                         \n",
       "subject_bel                                                                          \n",
       "subject_gene_symbol_involved_in                                                      \n",
       "subject_other_involved_in                                                            \n",
       "edge_rid                                                                             \n",
       "relation                         [bel_relation, association, causal, correlativ...   \n",
       "evidence                                                                             \n",
       "citation_full_journal_name                                                           \n",
       "citation_pub_date                                                                    \n",
       "citation_pub_year                                                                    \n",
       "citation_last_author                                                                 \n",
       "citation_type                                                                        \n",
       "author_in_author_list                                                                \n",
       "title                                                                                \n",
       "doi                                                                                  \n",
       "object_rid                                                                           \n",
       "object_node_class                [gene, rna, protein, abundance, activity, biol...   \n",
       "object_namespace                                                                     \n",
       "object_name                                                                          \n",
       "object_bel                                                                           \n",
       "object_gene_symbol_involved_in                                                       \n",
       "object_other_involved_in                                                             \n",
       "page_size                                                                            \n",
       "page                                                                                 \n",
       "\n",
       "                                default  required  \n",
       "parameter name                                     \n",
       "subject_rid                                 False  \n",
       "subject_node_class                          False  \n",
       "subject_namespace                           False  \n",
       "subject_name                                False  \n",
       "subject_bel                                 False  \n",
       "subject_gene_symbol_involved_in             False  \n",
       "subject_other_involved_in                   False  \n",
       "edge_rid                                    False  \n",
       "relation                                    False  \n",
       "evidence                                    False  \n",
       "citation_full_journal_name                  False  \n",
       "citation_pub_date                           False  \n",
       "citation_pub_year                           False  \n",
       "citation_last_author                        False  \n",
       "citation_type                               False  \n",
       "author_in_author_list                       False  \n",
       "title                                       False  \n",
       "doi                                         False  \n",
       "object_rid                                  False  \n",
       "object_node_class                           False  \n",
       "object_namespace                            False  \n",
       "object_name                                 False  \n",
       "object_bel                                  False  \n",
       "object_gene_symbol_involved_in              False  \n",
       "object_other_involved_in                    False  \n",
       "page_size                          10.0     False  \n",
       "page                                1.0     False  "
      ]
     },
     "metadata": {},
     "output_type": "display_data"
    },
    {
     "data": {
      "text/html": [
       "<b>Example URL:</b> <a href=\"http://0.0.0.0:5000/api/v1/bel/edges?subject_node_class=protein&subject_namespace=HGNC&subject_name=IL4&relation=increases&citation_full_journal_name=Molecular+neurodegeneration&citation_pub_date=2018-06-12&citation_pub_year=2018&citation_last_author=Landreth+GE&citation_type=PubMed&title=TREM2+in+Neurodegenerative+Diseases.&doi=10.1186%2Fs13024-017-0197-5&object_node_class=protein&object_namespace=HGNC&object_name=TREM2&page_size=1&page=1\">http://0.0.0.0:5000/api/v1/bel/edges?subject_node_class=protein&subject_namespace=HGNC&subject_name=IL4&relation=increases&citation_full_journal_name=Molecular+neurodegeneration&citation_pub_date=2018-06-12&citation_pub_year=2018&citation_last_author=Landreth+GE&citation_type=PubMed&title=TREM2+in+Neurodegenerative+Diseases.&doi=10.1186%2Fs13024-017-0197-5&object_node_class=protein&object_namespace=HGNC&object_name=TREM2&page_size=1&page=1</a>"
      ],
      "text/plain": [
       "<IPython.core.display.HTML object>"
      ]
     },
     "metadata": {},
     "output_type": "display_data"
    },
    {
     "data": {
      "text/html": [
       "<b style=\"color: rgb(98,98,98); text-decoration: underline;\">Example response:</b>"
      ],
      "text/plain": [
       "<IPython.core.display.HTML object>"
      ]
     },
     "metadata": {},
     "output_type": "display_data"
    },
    {
     "name": "stdout",
     "output_type": "stream",
     "text": [
      "{\u001b[38;5;124m'\u001b[39m\u001b[38;5;124mnumber_of_results\u001b[39m\u001b[38;5;124m'\u001b[39m: \u001b[38;5;241m2\u001b[39m,\n",
      " \u001b[38;5;124m'\u001b[39m\u001b[38;5;124mpage\u001b[39m\u001b[38;5;124m'\u001b[39m: \u001b[38;5;241m1\u001b[39m,\n",
      " \u001b[38;5;124m'\u001b[39m\u001b[38;5;124mpage_size\u001b[39m\u001b[38;5;124m'\u001b[39m: \u001b[38;5;241m1\u001b[39m,\n",
      " \u001b[38;5;124m'\u001b[39m\u001b[38;5;124mpages\u001b[39m\u001b[38;5;124m'\u001b[39m: \u001b[38;5;241m2\u001b[39m,\n",
      " \u001b[38;5;124m'\u001b[39m\u001b[38;5;124mresults\u001b[39m\u001b[38;5;124m'\u001b[39m: [{\u001b[38;5;124m'\u001b[39m\u001b[38;5;124mauthor_in_author_list\u001b[39m\u001b[38;5;124m'\u001b[39m: [\u001b[38;5;124m'\u001b[39m\u001b[38;5;124mJay TR\u001b[39m\u001b[38;5;124m'\u001b[39m,\n",
      "                                        \u001b[38;5;124m'\u001b[39m\u001b[38;5;124mvon Saucken VE\u001b[39m\u001b[38;5;124m'\u001b[39m,\n",
      "                                        \u001b[38;5;124m'\u001b[39m\u001b[38;5;124mLandreth GE\u001b[39m\u001b[38;5;124m'\u001b[39m],\n",
      "              \u001b[38;5;124m'\u001b[39m\u001b[38;5;124mcitation_full_journal_name\u001b[39m\u001b[38;5;124m'\u001b[39m: \u001b[38;5;124m'\u001b[39m\u001b[38;5;124mMolecular neurodegeneration\u001b[39m\u001b[38;5;124m'\u001b[39m,\n",
      "              \u001b[38;5;124m'\u001b[39m\u001b[38;5;124mcitation_last_author\u001b[39m\u001b[38;5;124m'\u001b[39m: \u001b[38;5;124m'\u001b[39m\u001b[38;5;124mLandreth GE\u001b[39m\u001b[38;5;124m'\u001b[39m,\n",
      "              \u001b[38;5;124m'\u001b[39m\u001b[38;5;124mcitation_pub_date\u001b[39m\u001b[38;5;124m'\u001b[39m: \u001b[38;5;124m'\u001b[39m\u001b[38;5;124m2018-06-12\u001b[39m\u001b[38;5;124m'\u001b[39m,\n",
      "              \u001b[38;5;124m'\u001b[39m\u001b[38;5;124mcitation_pub_year\u001b[39m\u001b[38;5;124m'\u001b[39m: \u001b[38;5;241m2018\u001b[39m,\n",
      "              \u001b[38;5;124m'\u001b[39m\u001b[38;5;124mcitation_type\u001b[39m\u001b[38;5;124m'\u001b[39m: \u001b[38;5;124m'\u001b[39m\u001b[38;5;124mPubMed\u001b[39m\u001b[38;5;124m'\u001b[39m,\n",
      "              \u001b[38;5;124m'\u001b[39m\u001b[38;5;124mdoi\u001b[39m\u001b[38;5;124m'\u001b[39m: \u001b[38;5;124m'\u001b[39m\u001b[38;5;124m10.1186/s13024-017-0197-5\u001b[39m\u001b[38;5;124m'\u001b[39m,\n",
      "              \u001b[38;5;124m'\u001b[39m\u001b[38;5;124mevidence\u001b[39m\u001b[38;5;124m'\u001b[39m: \u001b[38;5;124m'\u001b[39m\u001b[38;5;124mIn vitro, application of classically \u001b[39m\u001b[38;5;124m'\u001b[39m\n",
      "                          \u001b[38;5;124m'\u001b[39m\u001b[38;5;124mpro-inflammatory molecules (TNFalpha [117, 136], \u001b[39m\u001b[38;5;124m'\u001b[39m\n",
      "                          \u001b[38;5;124m'\u001b[39m\u001b[38;5;124mIL1beta [107, 136, 166], ROS [166, 167], \u001b[39m\u001b[38;5;124m'\u001b[39m\n",
      "                          \u001b[38;5;124m'\u001b[39m\u001b[38;5;124mIFNGamma[168], TLR agonists, including \u001b[39m\u001b[38;5;124m'\u001b[39m\n",
      "                          \u001b[38;5;124m'\u001b[39m\u001b[38;5;124mlipopolysaccharide LPS) [106, 114, 135, 136, \u001b[39m\u001b[38;5;124m'\u001b[39m\n",
      "                          \u001b[38;5;124m'\u001b[39m\u001b[38;5;124m167‚Äì170], CpGs [171] and other TLR ligands [114, \u001b[39m\u001b[38;5;124m'\u001b[39m\n",
      "                          \u001b[38;5;124m'\u001b[39m\u001b[38;5;124m127, 138, 150], mitochondrial lysates [172] and \u001b[39m\u001b[38;5;124m'\u001b[39m\n",
      "                          \u001b[38;5;124m'\u001b[39m\u001b[38;5;124mbacteria [173]) decreased TREM2 expression, while \u001b[39m\u001b[38;5;124m'\u001b[39m\n",
      "                          \u001b[38;5;124m'\u001b[39m\u001b[38;5;124manti-inflammatory molecules (vasoactive intestinal \u001b[39m\u001b[38;5;124m'\u001b[39m\n",
      "                          \u001b[38;5;124m'\u001b[39m\u001b[38;5;124mpeptide [174] and IL4 [168]) increased TREM2 \u001b[39m\u001b[38;5;124m'\u001b[39m\n",
      "                          \u001b[38;5;124m'\u001b[39m\u001b[38;5;124mexpression.\u001b[39m\u001b[38;5;124m'\u001b[39m,\n",
      "              \u001b[38;5;124m'\u001b[39m\u001b[38;5;124mobject_bel\u001b[39m\u001b[38;5;124m'\u001b[39m: \u001b[38;5;124m'\u001b[39m\u001b[38;5;124mp(HGNC:\u001b[39m\u001b[38;5;124m\"\u001b[39m\u001b[38;5;124mTREM2\u001b[39m\u001b[38;5;124m\"\u001b[39m\u001b[38;5;124m)\u001b[39m\u001b[38;5;124m'\u001b[39m,\n",
      "              \u001b[38;5;124m'\u001b[39m\u001b[38;5;124mobject_gene_symbol_involved_in\u001b[39m\u001b[38;5;124m'\u001b[39m: [\u001b[38;5;124m'\u001b[39m\u001b[38;5;124mTREM2\u001b[39m\u001b[38;5;124m'\u001b[39m],\n",
      "              \u001b[38;5;124m'\u001b[39m\u001b[38;5;124mobject_name\u001b[39m\u001b[38;5;124m'\u001b[39m: \u001b[38;5;124m'\u001b[39m\u001b[38;5;124mTREM2\u001b[39m\u001b[38;5;124m'\u001b[39m,\n",
      "              \u001b[38;5;124m'\u001b[39m\u001b[38;5;124mobject_namespace\u001b[39m\u001b[38;5;124m'\u001b[39m: \u001b[38;5;124m'\u001b[39m\u001b[38;5;124mHGNC\u001b[39m\u001b[38;5;124m'\u001b[39m,\n",
      "              \u001b[38;5;124m'\u001b[39m\u001b[38;5;124mobject_node_class\u001b[39m\u001b[38;5;124m'\u001b[39m: \u001b[38;5;124m'\u001b[39m\u001b[38;5;124mprotein\u001b[39m\u001b[38;5;124m'\u001b[39m,\n",
      "              \u001b[38;5;124m'\u001b[39m\u001b[38;5;124mobject_other_involved_in\u001b[39m\u001b[38;5;124m'\u001b[39m: [],\n",
      "              \u001b[38;5;124m'\u001b[39m\u001b[38;5;124mobject_rid\u001b[39m\u001b[38;5;124m'\u001b[39m: \u001b[38;5;124m'\u001b[39m\u001b[38;5;124m#195:0\u001b[39m\u001b[38;5;124m'\u001b[39m,\n",
      "              \u001b[38;5;124m'\u001b[39m\u001b[38;5;124mrelation\u001b[39m\u001b[38;5;124m'\u001b[39m: \u001b[38;5;124m'\u001b[39m\u001b[38;5;124mincreases\u001b[39m\u001b[38;5;124m'\u001b[39m,\n",
      "              \u001b[38;5;124m'\u001b[39m\u001b[38;5;124mrelation_rid\u001b[39m\u001b[38;5;124m'\u001b[39m: \u001b[38;5;124m'\u001b[39m\u001b[38;5;124m#554:2\u001b[39m\u001b[38;5;124m'\u001b[39m,\n",
      "              \u001b[38;5;124m'\u001b[39m\u001b[38;5;124msubject_bel\u001b[39m\u001b[38;5;124m'\u001b[39m: \u001b[38;5;124m'\u001b[39m\u001b[38;5;124mp(HGNC:\u001b[39m\u001b[38;5;124m\"\u001b[39m\u001b[38;5;124mIL4\u001b[39m\u001b[38;5;124m\"\u001b[39m\u001b[38;5;124m)\u001b[39m\u001b[38;5;124m'\u001b[39m,\n",
      "              \u001b[38;5;124m'\u001b[39m\u001b[38;5;124msubject_gene_symbol_involved_in\u001b[39m\u001b[38;5;124m'\u001b[39m: [\u001b[38;5;124m'\u001b[39m\u001b[38;5;124mIL4\u001b[39m\u001b[38;5;124m'\u001b[39m],\n",
      "              \u001b[38;5;124m'\u001b[39m\u001b[38;5;124msubject_name\u001b[39m\u001b[38;5;124m'\u001b[39m: \u001b[38;5;124m'\u001b[39m\u001b[38;5;124mIL4\u001b[39m\u001b[38;5;124m'\u001b[39m,\n",
      "              \u001b[38;5;124m'\u001b[39m\u001b[38;5;124msubject_namespace\u001b[39m\u001b[38;5;124m'\u001b[39m: \u001b[38;5;124m'\u001b[39m\u001b[38;5;124mHGNC\u001b[39m\u001b[38;5;124m'\u001b[39m,\n",
      "              \u001b[38;5;124m'\u001b[39m\u001b[38;5;124msubject_node_class\u001b[39m\u001b[38;5;124m'\u001b[39m: \u001b[38;5;124m'\u001b[39m\u001b[38;5;124mprotein\u001b[39m\u001b[38;5;124m'\u001b[39m,\n",
      "              \u001b[38;5;124m'\u001b[39m\u001b[38;5;124msubject_other_involved_in\u001b[39m\u001b[38;5;124m'\u001b[39m: [],\n",
      "              \u001b[38;5;124m'\u001b[39m\u001b[38;5;124msubject_rid\u001b[39m\u001b[38;5;124m'\u001b[39m: \u001b[38;5;124m'\u001b[39m\u001b[38;5;124m#187:3\u001b[39m\u001b[38;5;124m'\u001b[39m,\n",
      "              \u001b[38;5;124m'\u001b[39m\u001b[38;5;124mtitle\u001b[39m\u001b[38;5;124m'\u001b[39m: \u001b[38;5;124m'\u001b[39m\u001b[38;5;124mTREM2 in Neurodegenerative Diseases.\u001b[39m\u001b[38;5;124m'\u001b[39m}]}\n",
      "\n",
      "For further testing go to http://0.0.0.0:5000/ui/#/BEL/ebel.web.api.ebel.v1.bel.get_edges\n"
     ]
    },
    {
     "data": {
      "text/html": [
       "<h2>9. Get subject, realtion, object and document rids</h2>"
      ],
      "text/plain": [
       "<IPython.core.display.HTML object>"
      ]
     },
     "metadata": {},
     "output_type": "display_data"
    },
    {
     "data": {
      "text/html": [
       "<b style=\"color: rgb(98,98,98); text-decoration: underline;\">Description:</b> <p>Get subject, realtion, object and document rids</p>"
      ],
      "text/plain": [
       "<IPython.core.display.HTML object>"
      ]
     },
     "metadata": {},
     "output_type": "display_data"
    },
    {
     "data": {
      "text/html": [
       "<b>Tags:</b> ['BEL']"
      ],
      "text/plain": [
       "<IPython.core.display.HTML object>"
      ]
     },
     "metadata": {},
     "output_type": "display_data"
    },
    {
     "data": {
      "text/html": [
       "<b>Server path:</b> /api/v1/bel/get_edge_rids"
      ],
      "text/plain": [
       "<IPython.core.display.HTML object>"
      ]
     },
     "metadata": {},
     "output_type": "display_data"
    },
    {
     "data": {
      "text/html": [
       "<div>\n",
       "<style scoped>\n",
       "    .dataframe tbody tr th:only-of-type {\n",
       "        vertical-align: middle;\n",
       "    }\n",
       "\n",
       "    .dataframe tbody tr th {\n",
       "        vertical-align: top;\n",
       "    }\n",
       "\n",
       "    .dataframe thead th {\n",
       "        text-align: right;\n",
       "    }\n",
       "</style>\n",
       "<table border=\"1\" class=\"dataframe\">\n",
       "  <thead>\n",
       "    <tr style=\"text-align: right;\">\n",
       "      <th></th>\n",
       "      <th>data type</th>\n",
       "      <th>description</th>\n",
       "      <th>example</th>\n",
       "      <th>options</th>\n",
       "      <th>default</th>\n",
       "      <th>required</th>\n",
       "    </tr>\n",
       "    <tr>\n",
       "      <th>parameter name</th>\n",
       "      <th></th>\n",
       "      <th></th>\n",
       "      <th></th>\n",
       "      <th></th>\n",
       "      <th></th>\n",
       "      <th></th>\n",
       "    </tr>\n",
       "  </thead>\n",
       "  <tbody>\n",
       "    <tr>\n",
       "      <th>document_rid</th>\n",
       "      <td>string</td>\n",
       "      <td></td>\n",
       "      <td></td>\n",
       "      <td></td>\n",
       "      <td></td>\n",
       "      <td>False</td>\n",
       "    </tr>\n",
       "    <tr>\n",
       "      <th>subject_rid</th>\n",
       "      <td>string</td>\n",
       "      <td></td>\n",
       "      <td></td>\n",
       "      <td></td>\n",
       "      <td></td>\n",
       "      <td>False</td>\n",
       "    </tr>\n",
       "    <tr>\n",
       "      <th>relation_rid</th>\n",
       "      <td>string</td>\n",
       "      <td></td>\n",
       "      <td></td>\n",
       "      <td></td>\n",
       "      <td></td>\n",
       "      <td>False</td>\n",
       "    </tr>\n",
       "    <tr>\n",
       "      <th>object_rid</th>\n",
       "      <td>string</td>\n",
       "      <td></td>\n",
       "      <td></td>\n",
       "      <td></td>\n",
       "      <td></td>\n",
       "      <td>False</td>\n",
       "    </tr>\n",
       "    <tr>\n",
       "      <th>page_size</th>\n",
       "      <td>integer</td>\n",
       "      <td>Results per page</td>\n",
       "      <td>1.0</td>\n",
       "      <td></td>\n",
       "      <td>10.0</td>\n",
       "      <td>False</td>\n",
       "    </tr>\n",
       "    <tr>\n",
       "      <th>page</th>\n",
       "      <td>integer</td>\n",
       "      <td>Page number (starting with 1)</td>\n",
       "      <td>1.0</td>\n",
       "      <td></td>\n",
       "      <td>1.0</td>\n",
       "      <td>False</td>\n",
       "    </tr>\n",
       "  </tbody>\n",
       "</table>\n",
       "</div>"
      ],
      "text/plain": [
       "               data type                    description example options  \\\n",
       "parameter name                                                            \n",
       "document_rid      string                                                  \n",
       "subject_rid       string                                                  \n",
       "relation_rid      string                                                  \n",
       "object_rid        string                                                  \n",
       "page_size        integer               Results per page     1.0           \n",
       "page             integer  Page number (starting with 1)     1.0           \n",
       "\n",
       "               default  required  \n",
       "parameter name                    \n",
       "document_rid               False  \n",
       "subject_rid                False  \n",
       "relation_rid               False  \n",
       "object_rid                 False  \n",
       "page_size         10.0     False  \n",
       "page               1.0     False  "
      ]
     },
     "metadata": {},
     "output_type": "display_data"
    },
    {
     "data": {
      "text/html": [
       "<b>Example URL:</b> <a href=\"http://0.0.0.0:5000/api/v1/bel/get_edge_rids?page_size=1&page=1\">http://0.0.0.0:5000/api/v1/bel/get_edge_rids?page_size=1&page=1</a>"
      ],
      "text/plain": [
       "<IPython.core.display.HTML object>"
      ]
     },
     "metadata": {},
     "output_type": "display_data"
    },
    {
     "data": {
      "text/html": [
       "<b style=\"color: rgb(98,98,98); text-decoration: underline;\">Example response:</b>"
      ],
      "text/plain": [
       "<IPython.core.display.HTML object>"
      ]
     },
     "metadata": {},
     "output_type": "display_data"
    },
    {
     "name": "stdout",
     "output_type": "stream",
     "text": [
      "{\u001b[38;5;124m'\u001b[39m\u001b[38;5;124mnumber_of_results\u001b[39m\u001b[38;5;124m'\u001b[39m: \u001b[38;5;241m5981\u001b[39m,\n",
      " \u001b[38;5;124m'\u001b[39m\u001b[38;5;124mpage\u001b[39m\u001b[38;5;124m'\u001b[39m: \u001b[38;5;241m1\u001b[39m,\n",
      " \u001b[38;5;124m'\u001b[39m\u001b[38;5;124mpage_size\u001b[39m\u001b[38;5;124m'\u001b[39m: \u001b[38;5;241m1\u001b[39m,\n",
      " \u001b[38;5;124m'\u001b[39m\u001b[38;5;124mpages\u001b[39m\u001b[38;5;124m'\u001b[39m: \u001b[38;5;241m5981\u001b[39m,\n",
      " \u001b[38;5;124m'\u001b[39m\u001b[38;5;124mresults\u001b[39m\u001b[38;5;124m'\u001b[39m: [{\u001b[38;5;124m'\u001b[39m\u001b[38;5;124mdocument_rid\u001b[39m\u001b[38;5;124m'\u001b[39m: \u001b[38;5;124m'\u001b[39m\u001b[38;5;124m[#58:0]\u001b[39m\u001b[38;5;124m'\u001b[39m,\n",
      "              \u001b[38;5;124m'\u001b[39m\u001b[38;5;124mobject_rid\u001b[39m\u001b[38;5;124m'\u001b[39m: \u001b[38;5;124m'\u001b[39m\u001b[38;5;124m#186:0\u001b[39m\u001b[38;5;124m'\u001b[39m,\n",
      "              \u001b[38;5;124m'\u001b[39m\u001b[38;5;124mrelation_rid\u001b[39m\u001b[38;5;124m'\u001b[39m: \u001b[38;5;124m'\u001b[39m\u001b[38;5;124m#554:0\u001b[39m\u001b[38;5;124m'\u001b[39m,\n",
      "              \u001b[38;5;124m'\u001b[39m\u001b[38;5;124msubject_rid\u001b[39m\u001b[38;5;124m'\u001b[39m: \u001b[38;5;124m'\u001b[39m\u001b[38;5;124m#74:0\u001b[39m\u001b[38;5;124m'\u001b[39m}]}\n",
      "\n",
      "For further testing go to http://0.0.0.0:5000/ui/#/BEL/ebel.web.api.ebel.v1.bel.get_edge_rids\n"
     ]
    },
    {
     "data": {
      "text/html": [
       "<h2>10. Get child nodes, abstract status of childs, parents path, number of entries, abstract status for all BEL node types</h2>"
      ],
      "text/plain": [
       "<IPython.core.display.HTML object>"
      ]
     },
     "metadata": {},
     "output_type": "display_data"
    },
    {
     "data": {
      "text/html": [
       "<b style=\"color: rgb(98,98,98); text-decoration: underline;\">Description:</b> <p>Get child nodes, abstract status of childs, parents path, number of entries, abstract status for all BEL node types</p>"
      ],
      "text/plain": [
       "<IPython.core.display.HTML object>"
      ]
     },
     "metadata": {},
     "output_type": "display_data"
    },
    {
     "data": {
      "text/html": [
       "<b>Tags:</b> ['BEL']"
      ],
      "text/plain": [
       "<IPython.core.display.HTML object>"
      ]
     },
     "metadata": {},
     "output_type": "display_data"
    },
    {
     "data": {
      "text/html": [
       "<b>Server path:</b> /api/v1/bel/node_types"
      ],
      "text/plain": [
       "<IPython.core.display.HTML object>"
      ]
     },
     "metadata": {},
     "output_type": "display_data"
    },
    {
     "name": "stdout",
     "output_type": "stream",
     "text": [
      "without paramters\n"
     ]
    },
    {
     "data": {
      "text/html": [
       "<b>Example URL:</b> <a href=\"http://0.0.0.0:5000/api/v1/bel/node_types\">http://0.0.0.0:5000/api/v1/bel/node_types</a>"
      ],
      "text/plain": [
       "<IPython.core.display.HTML object>"
      ]
     },
     "metadata": {},
     "output_type": "display_data"
    },
    {
     "data": {
      "text/html": [
       "<b style=\"color: rgb(98,98,98); text-decoration: underline;\">Example response:</b>"
      ],
      "text/plain": [
       "<IPython.core.display.HTML object>"
      ]
     },
     "metadata": {},
     "output_type": "display_data"
    },
    {
     "name": "stdout",
     "output_type": "stream",
     "text": [
      "{\u001b[38;5;124m'\u001b[39m\u001b[38;5;124mabundance\u001b[39m\u001b[38;5;124m'\u001b[39m: {\u001b[38;5;124m'\u001b[39m\u001b[38;5;124mabstract\u001b[39m\u001b[38;5;124m'\u001b[39m: \u001b[38;5;28;01mFalse\u001b[39;00m,\n",
      "               \u001b[38;5;124m'\u001b[39m\u001b[38;5;124mchildren\u001b[39m\u001b[38;5;124m'\u001b[39m: [],\n",
      "               \u001b[38;5;124m'\u001b[39m\u001b[38;5;124min_relations\u001b[39m\u001b[38;5;124m'\u001b[39m: [\u001b[38;5;124m'\u001b[39m\u001b[38;5;124mhas__abundance\u001b[39m\u001b[38;5;124m'\u001b[39m, \u001b[38;5;124m'\u001b[39m\u001b[38;5;124mhas_located_abundance\u001b[39m\u001b[38;5;124m'\u001b[39m],\n",
      "               \u001b[38;5;124m'\u001b[39m\u001b[38;5;124mout_relations\u001b[39m\u001b[38;5;124m'\u001b[39m: [\u001b[38;5;124m'\u001b[39m\u001b[38;5;124mhas_located_abundance\u001b[39m\u001b[38;5;124m'\u001b[39m],\n",
      "               \u001b[38;5;124m'\u001b[39m\u001b[38;5;124mparents_path\u001b[39m\u001b[38;5;124m'\u001b[39m: [\u001b[38;5;124m'\u001b[39m\u001b[38;5;124mabundance\u001b[39m\u001b[38;5;124m'\u001b[39m, \u001b[38;5;124m'\u001b[39m\u001b[38;5;124mbio_object\u001b[39m\u001b[38;5;124m'\u001b[39m, \u001b[38;5;124m'\u001b[39m\u001b[38;5;124mbel\u001b[39m\u001b[38;5;124m'\u001b[39m, \u001b[38;5;124m'\u001b[39m\u001b[38;5;124mV\u001b[39m\u001b[38;5;124m'\u001b[39m]},\n",
      " \u001b[38;5;124m'\u001b[39m\u001b[38;5;124mactivity\u001b[39m\u001b[38;5;124m'\u001b[39m: {\u001b[38;5;124m'\u001b[39m\u001b[38;5;124mabstract\u001b[39m\u001b[38;5;124m'\u001b[39m: \u001b[38;5;28;01mFalse\u001b[39;00m,\n",
      "              \u001b[38;5;124m'\u001b[39m\u001b[38;5;124mchildren\u001b[39m\u001b[38;5;124m'\u001b[39m: [],\n",
      "              \u001b[38;5;124m'\u001b[39m\u001b[38;5;124mparents_path\u001b[39m\u001b[38;5;124m'\u001b[39m: [\u001b[38;5;124m'\u001b[39m\u001b[38;5;124mactivity\u001b[39m\u001b[38;5;124m'\u001b[39m, \u001b[38;5;124m'\u001b[39m\u001b[38;5;124mbio_act\u001b[39m\u001b[38;5;124m'\u001b[39m, \u001b[38;5;124m'\u001b[39m\u001b[38;5;124mbel\u001b[39m\u001b[38;5;124m'\u001b[39m, \u001b[38;5;124m'\u001b[39m\u001b[38;5;124mV\u001b[39m\u001b[38;5;124m'\u001b[39m]},\n",
      " \u001b[38;5;124m'\u001b[39m\u001b[38;5;124mbel\u001b[39m\u001b[38;5;124m'\u001b[39m: {\u001b[38;5;124m'\u001b[39m\u001b[38;5;124mabstract\u001b[39m\u001b[38;5;124m'\u001b[39m: \u001b[38;5;28;01mTrue\u001b[39;00m,\n",
      "         \u001b[38;5;124m'\u001b[39m\u001b[38;5;124mchildren\u001b[39m\u001b[38;5;124m'\u001b[39m: [{\u001b[38;5;124m'\u001b[39m\u001b[38;5;124mabstract\u001b[39m\u001b[38;5;124m'\u001b[39m: \u001b[38;5;28;01mFalse\u001b[39;00m, \u001b[38;5;124m'\u001b[39m\u001b[38;5;124mname\u001b[39m\u001b[38;5;124m'\u001b[39m: \u001b[38;5;124m'\u001b[39m\u001b[38;5;124mbio_act\u001b[39m\u001b[38;5;124m'\u001b[39m},\n",
      "                      {\u001b[38;5;124m'\u001b[39m\u001b[38;5;124mabstract\u001b[39m\u001b[38;5;124m'\u001b[39m: \u001b[38;5;28;01mFalse\u001b[39;00m, \u001b[38;5;124m'\u001b[39m\u001b[38;5;124mname\u001b[39m\u001b[38;5;124m'\u001b[39m: \u001b[38;5;124m'\u001b[39m\u001b[38;5;124mfusion_protein\u001b[39m\u001b[38;5;124m'\u001b[39m},\n",
      "                      {\u001b[38;5;124m'\u001b[39m\u001b[38;5;124mabstract\u001b[39m\u001b[38;5;124m'\u001b[39m: \u001b[38;5;28;01mFalse\u001b[39;00m, \u001b[38;5;124m'\u001b[39m\u001b[38;5;124mname\u001b[39m\u001b[38;5;124m'\u001b[39m: \u001b[38;5;124m'\u001b[39m\u001b[38;5;124mfusion_gene\u001b[39m\u001b[38;5;124m'\u001b[39m},\n",
      "                      {\u001b[38;5;124m'\u001b[39m\u001b[38;5;124mabstract\u001b[39m\u001b[38;5;124m'\u001b[39m: \u001b[38;5;28;01mTrue\u001b[39;00m, \u001b[38;5;124m'\u001b[39m\u001b[38;5;124mname\u001b[39m\u001b[38;5;124m'\u001b[39m: \u001b[38;5;124m'\u001b[39m\u001b[38;5;124mbio_concept\u001b[39m\u001b[38;5;124m'\u001b[39m},\n",
      "                      {\u001b[38;5;124m'\u001b[39m\u001b[38;5;124mabstract\u001b[39m\u001b[38;5;124m'\u001b[39m: \u001b[38;5;28;01mTrue\u001b[39;00m, \u001b[38;5;124m'\u001b[39m\u001b[38;5;124mname\u001b[39m\u001b[38;5;124m'\u001b[39m: \u001b[38;5;124m'\u001b[39m\u001b[38;5;124mbio_list\u001b[39m\u001b[38;5;124m'\u001b[39m},\n",
      "                      {\u001b[38;5;124m'\u001b[39m\u001b[38;5;124mabstract\u001b[39m\u001b[38;5;124m'\u001b[39m: \u001b[38;5;28;01mTrue\u001b[39;00m, \u001b[38;5;124m'\u001b[39m\u001b[38;5;124mname\u001b[39m\u001b[38;5;124m'\u001b[39m: \u001b[38;5;124m'\u001b[39m\u001b[38;5;124mbio_object\u001b[39m\u001b[38;5;124m'\u001b[39m},\n",
      "                      {\u001b[38;5;124m'\u001b[39m\u001b[38;5;124mabstract\u001b[39m\u001b[38;5;124m'\u001b[39m: \u001b[38;5;28;01mFalse\u001b[39;00m, \u001b[38;5;124m'\u001b[39m\u001b[38;5;124mname\u001b[39m\u001b[38;5;124m'\u001b[39m: \u001b[38;5;124m'\u001b[39m\u001b[38;5;124mfusion_rna\u001b[39m\u001b[38;5;124m'\u001b[39m}],\n",
      "         \u001b[38;5;124m'\u001b[39m\u001b[38;5;124min_relations\u001b[39m\u001b[38;5;124m'\u001b[39m: [\u001b[38;5;124m'\u001b[39m\u001b[38;5;124mtranslocates\u001b[39m\u001b[38;5;124m'\u001b[39m,\n",
      "                          \u001b[38;5;124m'\u001b[39m\u001b[38;5;124mcorrelative\u001b[39m\u001b[38;5;124m'\u001b[39m,\n",
      "                          \u001b[38;5;124m'\u001b[39m\u001b[38;5;124msub_process_of\u001b[39m\u001b[38;5;124m'\u001b[39m,\n",
      "                          \u001b[38;5;124m'\u001b[39m\u001b[38;5;124mhas_product\u001b[39m\u001b[38;5;124m'\u001b[39m,\n",
      "                          \u001b[38;5;124m'\u001b[39m\u001b[38;5;124manalogous_to\u001b[39m\u001b[38;5;124m'\u001b[39m,\n",
      "                          \u001b[38;5;124m'\u001b[39m\u001b[38;5;124mhas_component\u001b[39m\u001b[38;5;124m'\u001b[39m,\n",
      "                          \u001b[38;5;124m'\u001b[39m\u001b[38;5;124miuphar_interaction\u001b[39m\u001b[38;5;124m'\u001b[39m,\n",
      "                          \u001b[38;5;124m'\u001b[39m\u001b[38;5;124mhas_fragmented_protein\u001b[39m\u001b[38;5;124m'\u001b[39m,\n",
      "                          \u001b[38;5;124m'\u001b[39m\u001b[38;5;124mhas_member\u001b[39m\u001b[38;5;124m'\u001b[39m,\n",
      "                          \u001b[38;5;124m'\u001b[39m\u001b[38;5;124mreactant_in\u001b[39m\u001b[38;5;124m'\u001b[39m,\n",
      "                          \u001b[38;5;124m'\u001b[39m\u001b[38;5;124mbiomarker_for\u001b[39m\u001b[38;5;124m'\u001b[39m,\n",
      "                          \u001b[38;5;124m'\u001b[39m\u001b[38;5;124mhas_members\u001b[39m\u001b[38;5;124m'\u001b[39m,\n",
      "                          \u001b[38;5;124m'\u001b[39m\u001b[38;5;124mequivalent_to\u001b[39m\u001b[38;5;124m'\u001b[39m,\n",
      "                          \u001b[38;5;124m'\u001b[39m\u001b[38;5;124mincludes\u001b[39m\u001b[38;5;124m'\u001b[39m,\n",
      "                          \u001b[38;5;124m'\u001b[39m\u001b[38;5;124mis_a\u001b[39m\u001b[38;5;124m'\u001b[39m,\n",
      "                          \u001b[38;5;124m'\u001b[39m\u001b[38;5;124mhas_components\u001b[39m\u001b[38;5;124m'\u001b[39m,\n",
      "                          \u001b[38;5;124m'\u001b[39m\u001b[38;5;124mhas_modification\u001b[39m\u001b[38;5;124m'\u001b[39m,\n",
      "                          \u001b[38;5;124m'\u001b[39m\u001b[38;5;124mcausal\u001b[39m\u001b[38;5;124m'\u001b[39m,\n",
      "                          \u001b[38;5;124m'\u001b[39m\u001b[38;5;124mhas_variant\u001b[39m\u001b[38;5;124m'\u001b[39m,\n",
      "                          \u001b[38;5;124m'\u001b[39m\u001b[38;5;124macts_in\u001b[39m\u001b[38;5;124m'\u001b[39m],\n",
      "         \u001b[38;5;124m'\u001b[39m\u001b[38;5;124mout_relations\u001b[39m\u001b[38;5;124m'\u001b[39m: [\u001b[38;5;124m'\u001b[39m\u001b[38;5;124mtranslocates\u001b[39m\u001b[38;5;124m'\u001b[39m,\n",
      "                           \u001b[38;5;124m'\u001b[39m\u001b[38;5;124mcorrelative\u001b[39m\u001b[38;5;124m'\u001b[39m,\n",
      "                           \u001b[38;5;124m'\u001b[39m\u001b[38;5;124msub_process_of\u001b[39m\u001b[38;5;124m'\u001b[39m,\n",
      "                           \u001b[38;5;124m'\u001b[39m\u001b[38;5;124mhas_product\u001b[39m\u001b[38;5;124m'\u001b[39m,\n",
      "                           \u001b[38;5;124m'\u001b[39m\u001b[38;5;124manalogous_to\u001b[39m\u001b[38;5;124m'\u001b[39m,\n",
      "                           \u001b[38;5;124m'\u001b[39m\u001b[38;5;124mhas_component\u001b[39m\u001b[38;5;124m'\u001b[39m,\n",
      "                           \u001b[38;5;124m'\u001b[39m\u001b[38;5;124miuphar_interaction\u001b[39m\u001b[38;5;124m'\u001b[39m,\n",
      "                           \u001b[38;5;124m'\u001b[39m\u001b[38;5;124mhas_fragmented_protein\u001b[39m\u001b[38;5;124m'\u001b[39m,\n",
      "                           \u001b[38;5;124m'\u001b[39m\u001b[38;5;124mhas_member\u001b[39m\u001b[38;5;124m'\u001b[39m,\n",
      "                           \u001b[38;5;124m'\u001b[39m\u001b[38;5;124mreactant_in\u001b[39m\u001b[38;5;124m'\u001b[39m,\n",
      "                           \u001b[38;5;124m'\u001b[39m\u001b[38;5;124mbiomarker_for\u001b[39m\u001b[38;5;124m'\u001b[39m,\n",
      "                           \u001b[38;5;124m'\u001b[39m\u001b[38;5;124mhas_members\u001b[39m\u001b[38;5;124m'\u001b[39m,\n",
      "                           \u001b[38;5;124m'\u001b[39m\u001b[38;5;124mequivalent_to\u001b[39m\u001b[38;5;124m'\u001b[39m,\n",
      "                           \u001b[38;5;124m'\u001b[39m\u001b[38;5;124mincludes\u001b[39m\u001b[38;5;124m'\u001b[39m,\n",
      "                           \u001b[38;5;124m'\u001b[39m\u001b[38;5;124mis_a\u001b[39m\u001b[38;5;124m'\u001b[39m,\n",
      "                           \u001b[38;5;124m'\u001b[39m\u001b[38;5;124mhas_components\u001b[39m\u001b[38;5;124m'\u001b[39m,\n",
      "                           \u001b[38;5;124m'\u001b[39m\u001b[38;5;124mhas_modification\u001b[39m\u001b[38;5;124m'\u001b[39m,\n",
      "                           \u001b[38;5;124m'\u001b[39m\u001b[38;5;124mcausal\u001b[39m\u001b[38;5;124m'\u001b[39m,\n",
      "                           \u001b[38;5;124m'\u001b[39m\u001b[38;5;124mhas_variant\u001b[39m\u001b[38;5;124m'\u001b[39m,\n",
      "                           \u001b[38;5;124m'\u001b[39m\u001b[38;5;124macts_in\u001b[39m\u001b[38;5;124m'\u001b[39m],\n",
      "         \u001b[38;5;124m'\u001b[39m\u001b[38;5;124mparents_path\u001b[39m\u001b[38;5;124m'\u001b[39m: [\u001b[38;5;124m'\u001b[39m\u001b[38;5;124mbel\u001b[39m\u001b[38;5;124m'\u001b[39m, \u001b[38;5;124m'\u001b[39m\u001b[38;5;124mV\u001b[39m\u001b[38;5;124m'\u001b[39m]},\n",
      " \u001b[38;5;124m'\u001b[39m\u001b[38;5;124mbio_act\u001b[39m\u001b[38;5;124m'\u001b[39m: {\u001b[38;5;124m'\u001b[39m\u001b[38;5;124mabstract\u001b[39m\u001b[38;5;124m'\u001b[39m: \u001b[38;5;28;01mFalse\u001b[39;00m,\n",
      "             \u001b[38;5;124m'\u001b[39m\u001b[38;5;124mchildren\u001b[39m\u001b[38;5;124m'\u001b[39m: [{\u001b[38;5;124m'\u001b[39m\u001b[38;5;124mabstract\u001b[39m\u001b[38;5;124m'\u001b[39m: \u001b[38;5;28;01mFalse\u001b[39;00m, \u001b[38;5;124m'\u001b[39m\u001b[38;5;124mname\u001b[39m\u001b[38;5;124m'\u001b[39m: \u001b[38;5;124m'\u001b[39m\u001b[38;5;124mdegradation\u001b[39m\u001b[38;5;124m'\u001b[39m},\n",
      "                          {\u001b[38;5;124m'\u001b[39m\u001b[38;5;124mabstract\u001b[39m\u001b[38;5;124m'\u001b[39m: \u001b[38;5;28;01mFalse\u001b[39;00m, \u001b[38;5;124m'\u001b[39m\u001b[38;5;124mname\u001b[39m\u001b[38;5;124m'\u001b[39m: \u001b[38;5;124m'\u001b[39m\u001b[38;5;124mreaction\u001b[39m\u001b[38;5;124m'\u001b[39m},\n",
      "                          {\u001b[38;5;124m'\u001b[39m\u001b[38;5;124mabstract\u001b[39m\u001b[38;5;124m'\u001b[39m: \u001b[38;5;28;01mFalse\u001b[39;00m, \u001b[38;5;124m'\u001b[39m\u001b[38;5;124mname\u001b[39m\u001b[38;5;124m'\u001b[39m: \u001b[38;5;124m'\u001b[39m\u001b[38;5;124mcell_secretion\u001b[39m\u001b[38;5;124m'\u001b[39m},\n",
      "                          {\u001b[38;5;124m'\u001b[39m\u001b[38;5;124mabstract\u001b[39m\u001b[38;5;124m'\u001b[39m: \u001b[38;5;28;01mFalse\u001b[39;00m, \u001b[38;5;124m'\u001b[39m\u001b[38;5;124mname\u001b[39m\u001b[38;5;124m'\u001b[39m: \u001b[38;5;124m'\u001b[39m\u001b[38;5;124mtranslocation\u001b[39m\u001b[38;5;124m'\u001b[39m},\n",
      "                          {\u001b[38;5;124m'\u001b[39m\u001b[38;5;124mabstract\u001b[39m\u001b[38;5;124m'\u001b[39m: \u001b[38;5;28;01mFalse\u001b[39;00m, \u001b[38;5;124m'\u001b[39m\u001b[38;5;124mname\u001b[39m\u001b[38;5;124m'\u001b[39m: \u001b[38;5;124m'\u001b[39m\u001b[38;5;124mactivity\u001b[39m\u001b[38;5;124m'\u001b[39m},\n",
      "                          {\u001b[38;5;124m'\u001b[39m\u001b[38;5;124mabstract\u001b[39m\u001b[38;5;124m'\u001b[39m: \u001b[38;5;28;01mFalse\u001b[39;00m,\n",
      "                           \u001b[38;5;124m'\u001b[39m\u001b[38;5;124mname\u001b[39m\u001b[38;5;124m'\u001b[39m: \u001b[38;5;124m'\u001b[39m\u001b[38;5;124mcell_surface_expression\u001b[39m\u001b[38;5;124m'\u001b[39m}],\n",
      "             \u001b[38;5;124m'\u001b[39m\u001b[38;5;124mparents_path\u001b[39m\u001b[38;5;124m'\u001b[39m: [\u001b[38;5;124m'\u001b[39m\u001b[38;5;124mbio_act\u001b[39m\u001b[38;5;124m'\u001b[39m, \u001b[38;5;124m'\u001b[39m\u001b[38;5;124mbel\u001b[39m\u001b[38;5;124m'\u001b[39m, \u001b[38;5;124m'\u001b[39m\u001b[38;5;124mV\u001b[39m\u001b[38;5;124m'\u001b[39m]},\n",
      " \u001b[38;5;124m'\u001b[39m\u001b[38;5;124mbio_concept\u001b[39m\u001b[38;5;124m'\u001b[39m: {\u001b[38;5;124m'\u001b[39m\u001b[38;5;124mabstract\u001b[39m\u001b[38;5;124m'\u001b[39m: \u001b[38;5;28;01mTrue\u001b[39;00m,\n",
      "                 \u001b[38;5;124m'\u001b[39m\u001b[38;5;124mchildren\u001b[39m\u001b[38;5;124m'\u001b[39m: [{\u001b[38;5;124m'\u001b[39m\u001b[38;5;124mabstract\u001b[39m\u001b[38;5;124m'\u001b[39m: \u001b[38;5;28;01mFalse\u001b[39;00m, \u001b[38;5;124m'\u001b[39m\u001b[38;5;124mname\u001b[39m\u001b[38;5;124m'\u001b[39m: \u001b[38;5;124m'\u001b[39m\u001b[38;5;124mpathology\u001b[39m\u001b[38;5;124m'\u001b[39m},\n",
      "                              {\u001b[38;5;124m'\u001b[39m\u001b[38;5;124mabstract\u001b[39m\u001b[38;5;124m'\u001b[39m: \u001b[38;5;28;01mFalse\u001b[39;00m,\n",
      "                               \u001b[38;5;124m'\u001b[39m\u001b[38;5;124mname\u001b[39m\u001b[38;5;124m'\u001b[39m: \u001b[38;5;124m'\u001b[39m\u001b[38;5;124mbiological_process\u001b[39m\u001b[38;5;124m'\u001b[39m}],\n",
      "                 \u001b[38;5;124m'\u001b[39m\u001b[38;5;124mparents_path\u001b[39m\u001b[38;5;124m'\u001b[39m: [\u001b[38;5;124m'\u001b[39m\u001b[38;5;124mbio_concept\u001b[39m\u001b[38;5;124m'\u001b[39m, \u001b[38;5;124m'\u001b[39m\u001b[38;5;124mbel\u001b[39m\u001b[38;5;124m'\u001b[39m, \u001b[38;5;124m'\u001b[39m\u001b[38;5;124mV\u001b[39m\u001b[38;5;124m'\u001b[39m]},\n",
      " \u001b[38;5;124m'\u001b[39m\u001b[38;5;124mbio_list\u001b[39m\u001b[38;5;124m'\u001b[39m: {\u001b[38;5;124m'\u001b[39m\u001b[38;5;124mabstract\u001b[39m\u001b[38;5;124m'\u001b[39m: \u001b[38;5;28;01mTrue\u001b[39;00m,\n",
      "              \u001b[38;5;124m'\u001b[39m\u001b[38;5;124mchildren\u001b[39m\u001b[38;5;124m'\u001b[39m: [{\u001b[38;5;124m'\u001b[39m\u001b[38;5;124mabstract\u001b[39m\u001b[38;5;124m'\u001b[39m: \u001b[38;5;28;01mFalse\u001b[39;00m, \u001b[38;5;124m'\u001b[39m\u001b[38;5;124mname\u001b[39m\u001b[38;5;124m'\u001b[39m: \u001b[38;5;124m'\u001b[39m\u001b[38;5;124mlist\u001b[39m\u001b[38;5;124m'\u001b[39m},\n",
      "                           {\u001b[38;5;124m'\u001b[39m\u001b[38;5;124mabstract\u001b[39m\u001b[38;5;124m'\u001b[39m: \u001b[38;5;28;01mFalse\u001b[39;00m, \u001b[38;5;124m'\u001b[39m\u001b[38;5;124mname\u001b[39m\u001b[38;5;124m'\u001b[39m: \u001b[38;5;124m'\u001b[39m\u001b[38;5;124mcomposite\u001b[39m\u001b[38;5;124m'\u001b[39m}],\n",
      "              \u001b[38;5;124m'\u001b[39m\u001b[38;5;124mparents_path\u001b[39m\u001b[38;5;124m'\u001b[39m: [\u001b[38;5;124m'\u001b[39m\u001b[38;5;124mbio_list\u001b[39m\u001b[38;5;124m'\u001b[39m, \u001b[38;5;124m'\u001b[39m\u001b[38;5;124mbel\u001b[39m\u001b[38;5;124m'\u001b[39m, \u001b[38;5;124m'\u001b[39m\u001b[38;5;124mV\u001b[39m\u001b[38;5;124m'\u001b[39m]},\n",
      " \u001b[38;5;124m'\u001b[39m\u001b[38;5;124mbio_object\u001b[39m\u001b[38;5;124m'\u001b[39m: {\u001b[38;5;124m'\u001b[39m\u001b[38;5;124mabstract\u001b[39m\u001b[38;5;124m'\u001b[39m: \u001b[38;5;28;01mTrue\u001b[39;00m,\n",
      "                \u001b[38;5;124m'\u001b[39m\u001b[38;5;124mchildren\u001b[39m\u001b[38;5;124m'\u001b[39m: [{\u001b[38;5;124m'\u001b[39m\u001b[38;5;124mabstract\u001b[39m\u001b[38;5;124m'\u001b[39m: \u001b[38;5;28;01mFalse\u001b[39;00m, \u001b[38;5;124m'\u001b[39m\u001b[38;5;124mname\u001b[39m\u001b[38;5;124m'\u001b[39m: \u001b[38;5;124m'\u001b[39m\u001b[38;5;124mmicro_rna\u001b[39m\u001b[38;5;124m'\u001b[39m},\n",
      "                             {\u001b[38;5;124m'\u001b[39m\u001b[38;5;124mabstract\u001b[39m\u001b[38;5;124m'\u001b[39m: \u001b[38;5;28;01mFalse\u001b[39;00m, \u001b[38;5;124m'\u001b[39m\u001b[38;5;124mname\u001b[39m\u001b[38;5;124m'\u001b[39m: \u001b[38;5;124m'\u001b[39m\u001b[38;5;124mabundance\u001b[39m\u001b[38;5;124m'\u001b[39m},\n",
      "                             {\u001b[38;5;124m'\u001b[39m\u001b[38;5;124mabstract\u001b[39m\u001b[38;5;124m'\u001b[39m: \u001b[38;5;28;01mFalse\u001b[39;00m, \u001b[38;5;124m'\u001b[39m\u001b[38;5;124mname\u001b[39m\u001b[38;5;124m'\u001b[39m: \u001b[38;5;124m'\u001b[39m\u001b[38;5;124mcomplex\u001b[39m\u001b[38;5;124m'\u001b[39m},\n",
      "                             {\u001b[38;5;124m'\u001b[39m\u001b[38;5;124mabstract\u001b[39m\u001b[38;5;124m'\u001b[39m: \u001b[38;5;28;01mFalse\u001b[39;00m, \u001b[38;5;124m'\u001b[39m\u001b[38;5;124mname\u001b[39m\u001b[38;5;124m'\u001b[39m: \u001b[38;5;124m'\u001b[39m\u001b[38;5;124mpopulation\u001b[39m\u001b[38;5;124m'\u001b[39m},\n",
      "                             {\u001b[38;5;124m'\u001b[39m\u001b[38;5;124mabstract\u001b[39m\u001b[38;5;124m'\u001b[39m: \u001b[38;5;28;01mTrue\u001b[39;00m, \u001b[38;5;124m'\u001b[39m\u001b[38;5;124mname\u001b[39m\u001b[38;5;124m'\u001b[39m: \u001b[38;5;124m'\u001b[39m\u001b[38;5;124mgenetic_flow\u001b[39m\u001b[38;5;124m'\u001b[39m}],\n",
      "                \u001b[38;5;124m'\u001b[39m\u001b[38;5;124mparents_path\u001b[39m\u001b[38;5;124m'\u001b[39m: [\u001b[38;5;124m'\u001b[39m\u001b[38;5;124mbio_object\u001b[39m\u001b[38;5;124m'\u001b[39m, \u001b[38;5;124m'\u001b[39m\u001b[38;5;124mbel\u001b[39m\u001b[38;5;124m'\u001b[39m, \u001b[38;5;124m'\u001b[39m\u001b[38;5;124mV\u001b[39m\u001b[38;5;124m'\u001b[39m]},\n",
      " \u001b[38;5;124m'\u001b[39m\u001b[38;5;124mbiological_process\u001b[39m\u001b[38;5;124m'\u001b[39m: {\u001b[38;5;124m'\u001b[39m\u001b[38;5;124mabstract\u001b[39m\u001b[38;5;124m'\u001b[39m: \u001b[38;5;28;01mFalse\u001b[39;00m,\n",
      "                        \u001b[38;5;124m'\u001b[39m\u001b[38;5;124mchildren\u001b[39m\u001b[38;5;124m'\u001b[39m: [],\n",
      "                        \u001b[38;5;124m'\u001b[39m\u001b[38;5;124mparents_path\u001b[39m\u001b[38;5;124m'\u001b[39m: [\u001b[38;5;124m'\u001b[39m\u001b[38;5;124mbiological_process\u001b[39m\u001b[38;5;124m'\u001b[39m,\n",
      "                                         \u001b[38;5;124m'\u001b[39m\u001b[38;5;124mbio_concept\u001b[39m\u001b[38;5;124m'\u001b[39m,\n",
      "                                         \u001b[38;5;124m'\u001b[39m\u001b[38;5;124mbel\u001b[39m\u001b[38;5;124m'\u001b[39m,\n",
      "                                         \u001b[38;5;124m'\u001b[39m\u001b[38;5;124mV\u001b[39m\u001b[38;5;124m'\u001b[39m]},\n",
      " \u001b[38;5;124m'\u001b[39m\u001b[38;5;124mcell_secretion\u001b[39m\u001b[38;5;124m'\u001b[39m: {\u001b[38;5;124m'\u001b[39m\u001b[38;5;124mabstract\u001b[39m\u001b[38;5;124m'\u001b[39m: \u001b[38;5;28;01mFalse\u001b[39;00m,\n",
      "                    \u001b[38;5;124m'\u001b[39m\u001b[38;5;124mchildren\u001b[39m\u001b[38;5;124m'\u001b[39m: [],\n",
      "                    \u001b[38;5;124m'\u001b[39m\u001b[38;5;124mparents_path\u001b[39m\u001b[38;5;124m'\u001b[39m: [\u001b[38;5;124m'\u001b[39m\u001b[38;5;124mcell_secretion\u001b[39m\u001b[38;5;124m'\u001b[39m, \u001b[38;5;124m'\u001b[39m\u001b[38;5;124mbio_act\u001b[39m\u001b[38;5;124m'\u001b[39m, \u001b[38;5;124m'\u001b[39m\u001b[38;5;124mbel\u001b[39m\u001b[38;5;124m'\u001b[39m, \u001b[38;5;124m'\u001b[39m\u001b[38;5;124mV\u001b[39m\u001b[38;5;124m'\u001b[39m]},\n",
      " \u001b[38;5;124m'\u001b[39m\u001b[38;5;124mcell_surface_expression\u001b[39m\u001b[38;5;124m'\u001b[39m: {\u001b[38;5;124m'\u001b[39m\u001b[38;5;124mabstract\u001b[39m\u001b[38;5;124m'\u001b[39m: \u001b[38;5;28;01mFalse\u001b[39;00m,\n",
      "                             \u001b[38;5;124m'\u001b[39m\u001b[38;5;124mchildren\u001b[39m\u001b[38;5;124m'\u001b[39m: [],\n",
      "                             \u001b[38;5;124m'\u001b[39m\u001b[38;5;124mparents_path\u001b[39m\u001b[38;5;124m'\u001b[39m: [\u001b[38;5;124m'\u001b[39m\u001b[38;5;124mcell_surface_expression\u001b[39m\u001b[38;5;124m'\u001b[39m,\n",
      "                                              \u001b[38;5;124m'\u001b[39m\u001b[38;5;124mbio_act\u001b[39m\u001b[38;5;124m'\u001b[39m,\n",
      "                                              \u001b[38;5;124m'\u001b[39m\u001b[38;5;124mbel\u001b[39m\u001b[38;5;124m'\u001b[39m,\n",
      "                                              \u001b[38;5;124m'\u001b[39m\u001b[38;5;124mV\u001b[39m\u001b[38;5;124m'\u001b[39m]},\n",
      " \u001b[38;5;124m'\u001b[39m\u001b[38;5;124mcomplex\u001b[39m\u001b[38;5;124m'\u001b[39m: {\u001b[38;5;124m'\u001b[39m\u001b[38;5;124mabstract\u001b[39m\u001b[38;5;124m'\u001b[39m: \u001b[38;5;28;01mFalse\u001b[39;00m,\n",
      "             \u001b[38;5;124m'\u001b[39m\u001b[38;5;124mchildren\u001b[39m\u001b[38;5;124m'\u001b[39m: [],\n",
      "             \u001b[38;5;124m'\u001b[39m\u001b[38;5;124min_relations\u001b[39m\u001b[38;5;124m'\u001b[39m: [\u001b[38;5;124m'\u001b[39m\u001b[38;5;124mhas_located_complex\u001b[39m\u001b[38;5;124m'\u001b[39m, \u001b[38;5;124m'\u001b[39m\u001b[38;5;124mhas__complex\u001b[39m\u001b[38;5;124m'\u001b[39m],\n",
      "             \u001b[38;5;124m'\u001b[39m\u001b[38;5;124mout_relations\u001b[39m\u001b[38;5;124m'\u001b[39m: [\u001b[38;5;124m'\u001b[39m\u001b[38;5;124mhas_located_complex\u001b[39m\u001b[38;5;124m'\u001b[39m],\n",
      "             \u001b[38;5;124m'\u001b[39m\u001b[38;5;124mparents_path\u001b[39m\u001b[38;5;124m'\u001b[39m: [\u001b[38;5;124m'\u001b[39m\u001b[38;5;124mcomplex\u001b[39m\u001b[38;5;124m'\u001b[39m, \u001b[38;5;124m'\u001b[39m\u001b[38;5;124mbio_object\u001b[39m\u001b[38;5;124m'\u001b[39m, \u001b[38;5;124m'\u001b[39m\u001b[38;5;124mbel\u001b[39m\u001b[38;5;124m'\u001b[39m, \u001b[38;5;124m'\u001b[39m\u001b[38;5;124mV\u001b[39m\u001b[38;5;124m'\u001b[39m]},\n",
      " \u001b[38;5;124m'\u001b[39m\u001b[38;5;124mcomposite\u001b[39m\u001b[38;5;124m'\u001b[39m: {\u001b[38;5;124m'\u001b[39m\u001b[38;5;124mabstract\u001b[39m\u001b[38;5;124m'\u001b[39m: \u001b[38;5;28;01mFalse\u001b[39;00m,\n",
      "               \u001b[38;5;124m'\u001b[39m\u001b[38;5;124mchildren\u001b[39m\u001b[38;5;124m'\u001b[39m: [],\n",
      "               \u001b[38;5;124m'\u001b[39m\u001b[38;5;124min_relations\u001b[39m\u001b[38;5;124m'\u001b[39m: [\u001b[38;5;124m'\u001b[39m\u001b[38;5;124mhas__composite\u001b[39m\u001b[38;5;124m'\u001b[39m],\n",
      "               \u001b[38;5;124m'\u001b[39m\u001b[38;5;124mparents_path\u001b[39m\u001b[38;5;124m'\u001b[39m: [\u001b[38;5;124m'\u001b[39m\u001b[38;5;124mcomposite\u001b[39m\u001b[38;5;124m'\u001b[39m, \u001b[38;5;124m'\u001b[39m\u001b[38;5;124mbio_list\u001b[39m\u001b[38;5;124m'\u001b[39m, \u001b[38;5;124m'\u001b[39m\u001b[38;5;124mbel\u001b[39m\u001b[38;5;124m'\u001b[39m, \u001b[38;5;124m'\u001b[39m\u001b[38;5;124mV\u001b[39m\u001b[38;5;124m'\u001b[39m]},\n",
      " \u001b[38;5;124m'\u001b[39m\u001b[38;5;124mdegradation\u001b[39m\u001b[38;5;124m'\u001b[39m: {\u001b[38;5;124m'\u001b[39m\u001b[38;5;124mabstract\u001b[39m\u001b[38;5;124m'\u001b[39m: \u001b[38;5;28;01mFalse\u001b[39;00m,\n",
      "                 \u001b[38;5;124m'\u001b[39m\u001b[38;5;124mchildren\u001b[39m\u001b[38;5;124m'\u001b[39m: [],\n",
      "                 \u001b[38;5;124m'\u001b[39m\u001b[38;5;124mparents_path\u001b[39m\u001b[38;5;124m'\u001b[39m: [\u001b[38;5;124m'\u001b[39m\u001b[38;5;124mdegradation\u001b[39m\u001b[38;5;124m'\u001b[39m, \u001b[38;5;124m'\u001b[39m\u001b[38;5;124mbio_act\u001b[39m\u001b[38;5;124m'\u001b[39m, \u001b[38;5;124m'\u001b[39m\u001b[38;5;124mbel\u001b[39m\u001b[38;5;124m'\u001b[39m, \u001b[38;5;124m'\u001b[39m\u001b[38;5;124mV\u001b[39m\u001b[38;5;124m'\u001b[39m]},\n",
      " \u001b[38;5;124m'\u001b[39m\u001b[38;5;124mfusion_gene\u001b[39m\u001b[38;5;124m'\u001b[39m: {\u001b[38;5;124m'\u001b[39m\u001b[38;5;124mabstract\u001b[39m\u001b[38;5;124m'\u001b[39m: \u001b[38;5;28;01mFalse\u001b[39;00m,\n",
      "                 \u001b[38;5;124m'\u001b[39m\u001b[38;5;124mchildren\u001b[39m\u001b[38;5;124m'\u001b[39m: [],\n",
      "                 \u001b[38;5;124m'\u001b[39m\u001b[38;5;124mparents_path\u001b[39m\u001b[38;5;124m'\u001b[39m: [\u001b[38;5;124m'\u001b[39m\u001b[38;5;124mfusion_gene\u001b[39m\u001b[38;5;124m'\u001b[39m, \u001b[38;5;124m'\u001b[39m\u001b[38;5;124mbel\u001b[39m\u001b[38;5;124m'\u001b[39m, \u001b[38;5;124m'\u001b[39m\u001b[38;5;124mV\u001b[39m\u001b[38;5;124m'\u001b[39m]},\n",
      " \u001b[38;5;124m'\u001b[39m\u001b[38;5;124mfusion_protein\u001b[39m\u001b[38;5;124m'\u001b[39m: {\u001b[38;5;124m'\u001b[39m\u001b[38;5;124mabstract\u001b[39m\u001b[38;5;124m'\u001b[39m: \u001b[38;5;28;01mFalse\u001b[39;00m,\n",
      "                    \u001b[38;5;124m'\u001b[39m\u001b[38;5;124mchildren\u001b[39m\u001b[38;5;124m'\u001b[39m: [],\n",
      "                    \u001b[38;5;124m'\u001b[39m\u001b[38;5;124mparents_path\u001b[39m\u001b[38;5;124m'\u001b[39m: [\u001b[38;5;124m'\u001b[39m\u001b[38;5;124mfusion_protein\u001b[39m\u001b[38;5;124m'\u001b[39m, \u001b[38;5;124m'\u001b[39m\u001b[38;5;124mbel\u001b[39m\u001b[38;5;124m'\u001b[39m, \u001b[38;5;124m'\u001b[39m\u001b[38;5;124mV\u001b[39m\u001b[38;5;124m'\u001b[39m]},\n",
      " \u001b[38;5;124m'\u001b[39m\u001b[38;5;124mfusion_rna\u001b[39m\u001b[38;5;124m'\u001b[39m: {\u001b[38;5;124m'\u001b[39m\u001b[38;5;124mabstract\u001b[39m\u001b[38;5;124m'\u001b[39m: \u001b[38;5;28;01mFalse\u001b[39;00m,\n",
      "                \u001b[38;5;124m'\u001b[39m\u001b[38;5;124mchildren\u001b[39m\u001b[38;5;124m'\u001b[39m: [],\n",
      "                \u001b[38;5;124m'\u001b[39m\u001b[38;5;124mparents_path\u001b[39m\u001b[38;5;124m'\u001b[39m: [\u001b[38;5;124m'\u001b[39m\u001b[38;5;124mfusion_rna\u001b[39m\u001b[38;5;124m'\u001b[39m, \u001b[38;5;124m'\u001b[39m\u001b[38;5;124mbel\u001b[39m\u001b[38;5;124m'\u001b[39m, \u001b[38;5;124m'\u001b[39m\u001b[38;5;124mV\u001b[39m\u001b[38;5;124m'\u001b[39m]},\n",
      " \u001b[38;5;124m'\u001b[39m\u001b[38;5;124mgene\u001b[39m\u001b[38;5;124m'\u001b[39m: {\u001b[38;5;124m'\u001b[39m\u001b[38;5;124mabstract\u001b[39m\u001b[38;5;124m'\u001b[39m: \u001b[38;5;28;01mFalse\u001b[39;00m,\n",
      "          \u001b[38;5;124m'\u001b[39m\u001b[38;5;124mchildren\u001b[39m\u001b[38;5;124m'\u001b[39m: [],\n",
      "          \u001b[38;5;124m'\u001b[39m\u001b[38;5;124min_relations\u001b[39m\u001b[38;5;124m'\u001b[39m: [\u001b[38;5;124m'\u001b[39m\u001b[38;5;124mhas_variant_gene\u001b[39m\u001b[38;5;124m'\u001b[39m,\n",
      "                           \u001b[38;5;124m'\u001b[39m\u001b[38;5;124mhas_located_gene\u001b[39m\u001b[38;5;124m'\u001b[39m,\n",
      "                           \u001b[38;5;124m'\u001b[39m\u001b[38;5;124mhas__gene\u001b[39m\u001b[38;5;124m'\u001b[39m,\n",
      "                           \u001b[38;5;124m'\u001b[39m\u001b[38;5;124mhas_modified_gene\u001b[39m\u001b[38;5;124m'\u001b[39m],\n",
      "          \u001b[38;5;124m'\u001b[39m\u001b[38;5;124mout_relations\u001b[39m\u001b[38;5;124m'\u001b[39m: [\u001b[38;5;124m'\u001b[39m\u001b[38;5;124mhas_variant_gene\u001b[39m\u001b[38;5;124m'\u001b[39m,\n",
      "                            \u001b[38;5;124m'\u001b[39m\u001b[38;5;124mhas_snp\u001b[39m\u001b[38;5;124m'\u001b[39m,\n",
      "                            \u001b[38;5;124m'\u001b[39m\u001b[38;5;124mtranscribed_to\u001b[39m\u001b[38;5;124m'\u001b[39m,\n",
      "                            \u001b[38;5;124m'\u001b[39m\u001b[38;5;124mhas_located_gene\u001b[39m\u001b[38;5;124m'\u001b[39m,\n",
      "                            \u001b[38;5;124m'\u001b[39m\u001b[38;5;124mhas_modified_gene\u001b[39m\u001b[38;5;124m'\u001b[39m],\n",
      "          \u001b[38;5;124m'\u001b[39m\u001b[38;5;124mparents_path\u001b[39m\u001b[38;5;124m'\u001b[39m: [\u001b[38;5;124m'\u001b[39m\u001b[38;5;124mgene\u001b[39m\u001b[38;5;124m'\u001b[39m, \u001b[38;5;124m'\u001b[39m\u001b[38;5;124mgenetic_flow\u001b[39m\u001b[38;5;124m'\u001b[39m, \u001b[38;5;124m'\u001b[39m\u001b[38;5;124mbio_object\u001b[39m\u001b[38;5;124m'\u001b[39m, \u001b[38;5;124m'\u001b[39m\u001b[38;5;124mbel\u001b[39m\u001b[38;5;124m'\u001b[39m, \u001b[38;5;124m'\u001b[39m\u001b[38;5;124mV\u001b[39m\u001b[38;5;124m'\u001b[39m]},\n",
      " \u001b[38;5;124m'\u001b[39m\u001b[38;5;124mgenetic_flow\u001b[39m\u001b[38;5;124m'\u001b[39m: {\u001b[38;5;124m'\u001b[39m\u001b[38;5;124mabstract\u001b[39m\u001b[38;5;124m'\u001b[39m: \u001b[38;5;28;01mTrue\u001b[39;00m,\n",
      "                  \u001b[38;5;124m'\u001b[39m\u001b[38;5;124mchildren\u001b[39m\u001b[38;5;124m'\u001b[39m: [{\u001b[38;5;124m'\u001b[39m\u001b[38;5;124mabstract\u001b[39m\u001b[38;5;124m'\u001b[39m: \u001b[38;5;28;01mFalse\u001b[39;00m, \u001b[38;5;124m'\u001b[39m\u001b[38;5;124mname\u001b[39m\u001b[38;5;124m'\u001b[39m: \u001b[38;5;124m'\u001b[39m\u001b[38;5;124mrna\u001b[39m\u001b[38;5;124m'\u001b[39m},\n",
      "                               {\u001b[38;5;124m'\u001b[39m\u001b[38;5;124mabstract\u001b[39m\u001b[38;5;124m'\u001b[39m: \u001b[38;5;28;01mFalse\u001b[39;00m, \u001b[38;5;124m'\u001b[39m\u001b[38;5;124mname\u001b[39m\u001b[38;5;124m'\u001b[39m: \u001b[38;5;124m'\u001b[39m\u001b[38;5;124mgene\u001b[39m\u001b[38;5;124m'\u001b[39m},\n",
      "                               {\u001b[38;5;124m'\u001b[39m\u001b[38;5;124mabstract\u001b[39m\u001b[38;5;124m'\u001b[39m: \u001b[38;5;28;01mFalse\u001b[39;00m, \u001b[38;5;124m'\u001b[39m\u001b[38;5;124mname\u001b[39m\u001b[38;5;124m'\u001b[39m: \u001b[38;5;124m'\u001b[39m\u001b[38;5;124mprotein\u001b[39m\u001b[38;5;124m'\u001b[39m}],\n",
      "                  \u001b[38;5;124m'\u001b[39m\u001b[38;5;124mparents_path\u001b[39m\u001b[38;5;124m'\u001b[39m: [\u001b[38;5;124m'\u001b[39m\u001b[38;5;124mgenetic_flow\u001b[39m\u001b[38;5;124m'\u001b[39m, \u001b[38;5;124m'\u001b[39m\u001b[38;5;124mbio_object\u001b[39m\u001b[38;5;124m'\u001b[39m, \u001b[38;5;124m'\u001b[39m\u001b[38;5;124mbel\u001b[39m\u001b[38;5;124m'\u001b[39m, \u001b[38;5;124m'\u001b[39m\u001b[38;5;124mV\u001b[39m\u001b[38;5;124m'\u001b[39m]},\n",
      " \u001b[38;5;124m'\u001b[39m\u001b[38;5;124mlist\u001b[39m\u001b[38;5;124m'\u001b[39m: {\u001b[38;5;124m'\u001b[39m\u001b[38;5;124mabstract\u001b[39m\u001b[38;5;124m'\u001b[39m: \u001b[38;5;28;01mFalse\u001b[39;00m,\n",
      "          \u001b[38;5;124m'\u001b[39m\u001b[38;5;124mchildren\u001b[39m\u001b[38;5;124m'\u001b[39m: [],\n",
      "          \u001b[38;5;124m'\u001b[39m\u001b[38;5;124mparents_path\u001b[39m\u001b[38;5;124m'\u001b[39m: [\u001b[38;5;124m'\u001b[39m\u001b[38;5;124mlist\u001b[39m\u001b[38;5;124m'\u001b[39m, \u001b[38;5;124m'\u001b[39m\u001b[38;5;124mbio_list\u001b[39m\u001b[38;5;124m'\u001b[39m, \u001b[38;5;124m'\u001b[39m\u001b[38;5;124mbel\u001b[39m\u001b[38;5;124m'\u001b[39m, \u001b[38;5;124m'\u001b[39m\u001b[38;5;124mV\u001b[39m\u001b[38;5;124m'\u001b[39m]},\n",
      " \u001b[38;5;124m'\u001b[39m\u001b[38;5;124mmicro_rna\u001b[39m\u001b[38;5;124m'\u001b[39m: {\u001b[38;5;124m'\u001b[39m\u001b[38;5;124mabstract\u001b[39m\u001b[38;5;124m'\u001b[39m: \u001b[38;5;28;01mFalse\u001b[39;00m,\n",
      "               \u001b[38;5;124m'\u001b[39m\u001b[38;5;124mchildren\u001b[39m\u001b[38;5;124m'\u001b[39m: [],\n",
      "               \u001b[38;5;124m'\u001b[39m\u001b[38;5;124min_relations\u001b[39m\u001b[38;5;124m'\u001b[39m: [\u001b[38;5;124m'\u001b[39m\u001b[38;5;124mhas__micro_rna\u001b[39m\u001b[38;5;124m'\u001b[39m,\n",
      "                                \u001b[38;5;124m'\u001b[39m\u001b[38;5;124mhas_variant_micro_rna\u001b[39m\u001b[38;5;124m'\u001b[39m,\n",
      "                                \u001b[38;5;124m'\u001b[39m\u001b[38;5;124mhas_located_micro_rna\u001b[39m\u001b[38;5;124m'\u001b[39m],\n",
      "               \u001b[38;5;124m'\u001b[39m\u001b[38;5;124mout_relations\u001b[39m\u001b[38;5;124m'\u001b[39m: [\u001b[38;5;124m'\u001b[39m\u001b[38;5;124mhas_mirgene_target\u001b[39m\u001b[38;5;124m'\u001b[39m,\n",
      "                                 \u001b[38;5;124m'\u001b[39m\u001b[38;5;124mhas_variant_micro_rna\u001b[39m\u001b[38;5;124m'\u001b[39m,\n",
      "                                 \u001b[38;5;124m'\u001b[39m\u001b[38;5;124mhas_located_micro_rna\u001b[39m\u001b[38;5;124m'\u001b[39m],\n",
      "               \u001b[38;5;124m'\u001b[39m\u001b[38;5;124mparents_path\u001b[39m\u001b[38;5;124m'\u001b[39m: [\u001b[38;5;124m'\u001b[39m\u001b[38;5;124mmicro_rna\u001b[39m\u001b[38;5;124m'\u001b[39m, \u001b[38;5;124m'\u001b[39m\u001b[38;5;124mbio_object\u001b[39m\u001b[38;5;124m'\u001b[39m, \u001b[38;5;124m'\u001b[39m\u001b[38;5;124mbel\u001b[39m\u001b[38;5;124m'\u001b[39m, \u001b[38;5;124m'\u001b[39m\u001b[38;5;124mV\u001b[39m\u001b[38;5;124m'\u001b[39m]},\n",
      " \u001b[38;5;124m'\u001b[39m\u001b[38;5;124mpathology\u001b[39m\u001b[38;5;124m'\u001b[39m: {\u001b[38;5;124m'\u001b[39m\u001b[38;5;124mabstract\u001b[39m\u001b[38;5;124m'\u001b[39m: \u001b[38;5;28;01mFalse\u001b[39;00m,\n",
      "               \u001b[38;5;124m'\u001b[39m\u001b[38;5;124mchildren\u001b[39m\u001b[38;5;124m'\u001b[39m: [],\n",
      "               \u001b[38;5;124m'\u001b[39m\u001b[38;5;124mparents_path\u001b[39m\u001b[38;5;124m'\u001b[39m: [\u001b[38;5;124m'\u001b[39m\u001b[38;5;124mpathology\u001b[39m\u001b[38;5;124m'\u001b[39m, \u001b[38;5;124m'\u001b[39m\u001b[38;5;124mbio_concept\u001b[39m\u001b[38;5;124m'\u001b[39m, \u001b[38;5;124m'\u001b[39m\u001b[38;5;124mbel\u001b[39m\u001b[38;5;124m'\u001b[39m, \u001b[38;5;124m'\u001b[39m\u001b[38;5;124mV\u001b[39m\u001b[38;5;124m'\u001b[39m]},\n",
      " \u001b[38;5;124m'\u001b[39m\u001b[38;5;124mpopulation\u001b[39m\u001b[38;5;124m'\u001b[39m: {\u001b[38;5;124m'\u001b[39m\u001b[38;5;124mabstract\u001b[39m\u001b[38;5;124m'\u001b[39m: \u001b[38;5;28;01mFalse\u001b[39;00m,\n",
      "                \u001b[38;5;124m'\u001b[39m\u001b[38;5;124mchildren\u001b[39m\u001b[38;5;124m'\u001b[39m: [],\n",
      "                \u001b[38;5;124m'\u001b[39m\u001b[38;5;124min_relations\u001b[39m\u001b[38;5;124m'\u001b[39m: [\u001b[38;5;124m'\u001b[39m\u001b[38;5;124mhas_located_population\u001b[39m\u001b[38;5;124m'\u001b[39m, \u001b[38;5;124m'\u001b[39m\u001b[38;5;124mhas__population\u001b[39m\u001b[38;5;124m'\u001b[39m],\n",
      "                \u001b[38;5;124m'\u001b[39m\u001b[38;5;124mout_relations\u001b[39m\u001b[38;5;124m'\u001b[39m: [\u001b[38;5;124m'\u001b[39m\u001b[38;5;124mhas_located_population\u001b[39m\u001b[38;5;124m'\u001b[39m],\n",
      "                \u001b[38;5;124m'\u001b[39m\u001b[38;5;124mparents_path\u001b[39m\u001b[38;5;124m'\u001b[39m: [\u001b[38;5;124m'\u001b[39m\u001b[38;5;124mpopulation\u001b[39m\u001b[38;5;124m'\u001b[39m, \u001b[38;5;124m'\u001b[39m\u001b[38;5;124mbio_object\u001b[39m\u001b[38;5;124m'\u001b[39m, \u001b[38;5;124m'\u001b[39m\u001b[38;5;124mbel\u001b[39m\u001b[38;5;124m'\u001b[39m, \u001b[38;5;124m'\u001b[39m\u001b[38;5;124mV\u001b[39m\u001b[38;5;124m'\u001b[39m]},\n",
      " \u001b[38;5;124m'\u001b[39m\u001b[38;5;124mprotein\u001b[39m\u001b[38;5;124m'\u001b[39m: {\u001b[38;5;124m'\u001b[39m\u001b[38;5;124mabstract\u001b[39m\u001b[38;5;124m'\u001b[39m: \u001b[38;5;28;01mFalse\u001b[39;00m,\n",
      "             \u001b[38;5;124m'\u001b[39m\u001b[38;5;124mchildren\u001b[39m\u001b[38;5;124m'\u001b[39m: [],\n",
      "             \u001b[38;5;124m'\u001b[39m\u001b[38;5;124min_relations\u001b[39m\u001b[38;5;124m'\u001b[39m: [\u001b[38;5;124m'\u001b[39m\u001b[38;5;124mhas_located_protein\u001b[39m\u001b[38;5;124m'\u001b[39m,\n",
      "                              \u001b[38;5;124m'\u001b[39m\u001b[38;5;124mhas_modified_protein\u001b[39m\u001b[38;5;124m'\u001b[39m,\n",
      "                              \u001b[38;5;124m'\u001b[39m\u001b[38;5;124mhas_variant_protein\u001b[39m\u001b[38;5;124m'\u001b[39m,\n",
      "                              \u001b[38;5;124m'\u001b[39m\u001b[38;5;124mtranslated_to\u001b[39m\u001b[38;5;124m'\u001b[39m,\n",
      "                              \u001b[38;5;124m'\u001b[39m\u001b[38;5;124mhas_drug_target_db\u001b[39m\u001b[38;5;124m'\u001b[39m,\n",
      "                              \u001b[38;5;124m'\u001b[39m\u001b[38;5;124mhas_action\u001b[39m\u001b[38;5;124m'\u001b[39m,\n",
      "                              \u001b[38;5;124m'\u001b[39m\u001b[38;5;124mhas_ppi\u001b[39m\u001b[38;5;124m'\u001b[39m,\n",
      "                              \u001b[38;5;124m'\u001b[39m\u001b[38;5;124mhas__protein\u001b[39m\u001b[38;5;124m'\u001b[39m],\n",
      "             \u001b[38;5;124m'\u001b[39m\u001b[38;5;124mout_relations\u001b[39m\u001b[38;5;124m'\u001b[39m: [\u001b[38;5;124m'\u001b[39m\u001b[38;5;124mhas_located_protein\u001b[39m\u001b[38;5;124m'\u001b[39m,\n",
      "                               \u001b[38;5;124m'\u001b[39m\u001b[38;5;124mhas_modified_protein\u001b[39m\u001b[38;5;124m'\u001b[39m,\n",
      "                               \u001b[38;5;124m'\u001b[39m\u001b[38;5;124mhas_variant_protein\u001b[39m\u001b[38;5;124m'\u001b[39m,\n",
      "                               \u001b[38;5;124m'\u001b[39m\u001b[38;5;124mhas_action\u001b[39m\u001b[38;5;124m'\u001b[39m,\n",
      "                               \u001b[38;5;124m'\u001b[39m\u001b[38;5;124mhas_ppi\u001b[39m\u001b[38;5;124m'\u001b[39m],\n",
      "             \u001b[38;5;124m'\u001b[39m\u001b[38;5;124mparents_path\u001b[39m\u001b[38;5;124m'\u001b[39m: [\u001b[38;5;124m'\u001b[39m\u001b[38;5;124mprotein\u001b[39m\u001b[38;5;124m'\u001b[39m,\n",
      "                              \u001b[38;5;124m'\u001b[39m\u001b[38;5;124mgenetic_flow\u001b[39m\u001b[38;5;124m'\u001b[39m,\n",
      "                              \u001b[38;5;124m'\u001b[39m\u001b[38;5;124mbio_object\u001b[39m\u001b[38;5;124m'\u001b[39m,\n",
      "                              \u001b[38;5;124m'\u001b[39m\u001b[38;5;124mbel\u001b[39m\u001b[38;5;124m'\u001b[39m,\n",
      "                              \u001b[38;5;124m'\u001b[39m\u001b[38;5;124mV\u001b[39m\u001b[38;5;124m'\u001b[39m]},\n",
      " \u001b[38;5;124m'\u001b[39m\u001b[38;5;124mreaction\u001b[39m\u001b[38;5;124m'\u001b[39m: {\u001b[38;5;124m'\u001b[39m\u001b[38;5;124mabstract\u001b[39m\u001b[38;5;124m'\u001b[39m: \u001b[38;5;28;01mFalse\u001b[39;00m,\n",
      "              \u001b[38;5;124m'\u001b[39m\u001b[38;5;124mchildren\u001b[39m\u001b[38;5;124m'\u001b[39m: [],\n",
      "              \u001b[38;5;124m'\u001b[39m\u001b[38;5;124mparents_path\u001b[39m\u001b[38;5;124m'\u001b[39m: [\u001b[38;5;124m'\u001b[39m\u001b[38;5;124mreaction\u001b[39m\u001b[38;5;124m'\u001b[39m, \u001b[38;5;124m'\u001b[39m\u001b[38;5;124mbio_act\u001b[39m\u001b[38;5;124m'\u001b[39m, \u001b[38;5;124m'\u001b[39m\u001b[38;5;124mbel\u001b[39m\u001b[38;5;124m'\u001b[39m, \u001b[38;5;124m'\u001b[39m\u001b[38;5;124mV\u001b[39m\u001b[38;5;124m'\u001b[39m]},\n",
      " \u001b[38;5;124m'\u001b[39m\u001b[38;5;124mrna\u001b[39m\u001b[38;5;124m'\u001b[39m: {\u001b[38;5;124m'\u001b[39m\u001b[38;5;124mabstract\u001b[39m\u001b[38;5;124m'\u001b[39m: \u001b[38;5;28;01mFalse\u001b[39;00m,\n",
      "         \u001b[38;5;124m'\u001b[39m\u001b[38;5;124mchildren\u001b[39m\u001b[38;5;124m'\u001b[39m: [],\n",
      "         \u001b[38;5;124m'\u001b[39m\u001b[38;5;124min_relations\u001b[39m\u001b[38;5;124m'\u001b[39m: [\u001b[38;5;124m'\u001b[39m\u001b[38;5;124mhas_mirgene_target\u001b[39m\u001b[38;5;124m'\u001b[39m,\n",
      "                          \u001b[38;5;124m'\u001b[39m\u001b[38;5;124mhas_located_rna\u001b[39m\u001b[38;5;124m'\u001b[39m,\n",
      "                          \u001b[38;5;124m'\u001b[39m\u001b[38;5;124mtranscribed_to\u001b[39m\u001b[38;5;124m'\u001b[39m,\n",
      "                          \u001b[38;5;124m'\u001b[39m\u001b[38;5;124mhas__rna\u001b[39m\u001b[38;5;124m'\u001b[39m,\n",
      "                          \u001b[38;5;124m'\u001b[39m\u001b[38;5;124mhas_variant_rna\u001b[39m\u001b[38;5;124m'\u001b[39m],\n",
      "         \u001b[38;5;124m'\u001b[39m\u001b[38;5;124mout_relations\u001b[39m\u001b[38;5;124m'\u001b[39m: [\u001b[38;5;124m'\u001b[39m\u001b[38;5;124mtranslated_to\u001b[39m\u001b[38;5;124m'\u001b[39m,\n",
      "                           \u001b[38;5;124m'\u001b[39m\u001b[38;5;124mhas_located_rna\u001b[39m\u001b[38;5;124m'\u001b[39m,\n",
      "                           \u001b[38;5;124m'\u001b[39m\u001b[38;5;124mhas_variant_rna\u001b[39m\u001b[38;5;124m'\u001b[39m],\n",
      "         \u001b[38;5;124m'\u001b[39m\u001b[38;5;124mparents_path\u001b[39m\u001b[38;5;124m'\u001b[39m: [\u001b[38;5;124m'\u001b[39m\u001b[38;5;124mrna\u001b[39m\u001b[38;5;124m'\u001b[39m, \u001b[38;5;124m'\u001b[39m\u001b[38;5;124mgenetic_flow\u001b[39m\u001b[38;5;124m'\u001b[39m, \u001b[38;5;124m'\u001b[39m\u001b[38;5;124mbio_object\u001b[39m\u001b[38;5;124m'\u001b[39m, \u001b[38;5;124m'\u001b[39m\u001b[38;5;124mbel\u001b[39m\u001b[38;5;124m'\u001b[39m, \u001b[38;5;124m'\u001b[39m\u001b[38;5;124mV\u001b[39m\u001b[38;5;124m'\u001b[39m]},\n",
      " \u001b[38;5;124m'\u001b[39m\u001b[38;5;124mtranslocation\u001b[39m\u001b[38;5;124m'\u001b[39m: {\u001b[38;5;124m'\u001b[39m\u001b[38;5;124mabstract\u001b[39m\u001b[38;5;124m'\u001b[39m: \u001b[38;5;28;01mFalse\u001b[39;00m,\n",
      "                   \u001b[38;5;124m'\u001b[39m\u001b[38;5;124mchildren\u001b[39m\u001b[38;5;124m'\u001b[39m: [],\n",
      "                   \u001b[38;5;124m'\u001b[39m\u001b[38;5;124mparents_path\u001b[39m\u001b[38;5;124m'\u001b[39m: [\u001b[38;5;124m'\u001b[39m\u001b[38;5;124mtranslocation\u001b[39m\u001b[38;5;124m'\u001b[39m, \u001b[38;5;124m'\u001b[39m\u001b[38;5;124mbio_act\u001b[39m\u001b[38;5;124m'\u001b[39m, \u001b[38;5;124m'\u001b[39m\u001b[38;5;124mbel\u001b[39m\u001b[38;5;124m'\u001b[39m, \u001b[38;5;124m'\u001b[39m\u001b[38;5;124mV\u001b[39m\u001b[38;5;124m'\u001b[39m]}}\n",
      "\n",
      "For further testing go to http://0.0.0.0:5000/ui/#/BEL/ebel.web.api.ebel.v1.bel.get_bel_node_types\n"
     ]
    },
    {
     "data": {
      "text/html": [
       "<h2>11. Get child nodes, abstract status of childs, parents path, number of entries, abstract status for all BEL node types</h2>"
      ],
      "text/plain": [
       "<IPython.core.display.HTML object>"
      ]
     },
     "metadata": {},
     "output_type": "display_data"
    },
    {
     "data": {
      "text/html": [
       "<b style=\"color: rgb(98,98,98); text-decoration: underline;\">Description:</b> <p>Get child nodes, abstract status of childs, parents path, number of entries, abstract status for all BEL node types</p>"
      ],
      "text/plain": [
       "<IPython.core.display.HTML object>"
      ]
     },
     "metadata": {},
     "output_type": "display_data"
    },
    {
     "data": {
      "text/html": [
       "<b>Tags:</b> ['BEL']"
      ],
      "text/plain": [
       "<IPython.core.display.HTML object>"
      ]
     },
     "metadata": {},
     "output_type": "display_data"
    },
    {
     "data": {
      "text/html": [
       "<b>Server path:</b> /api/v1/bel/node_types_as_dot"
      ],
      "text/plain": [
       "<IPython.core.display.HTML object>"
      ]
     },
     "metadata": {},
     "output_type": "display_data"
    },
    {
     "name": "stdout",
     "output_type": "stream",
     "text": [
      "without paramters\n"
     ]
    },
    {
     "data": {
      "text/html": [
       "<b>Example URL:</b> <a href=\"http://0.0.0.0:5000/api/v1/bel/node_types_as_dot\">http://0.0.0.0:5000/api/v1/bel/node_types_as_dot</a>"
      ],
      "text/plain": [
       "<IPython.core.display.HTML object>"
      ]
     },
     "metadata": {},
     "output_type": "display_data"
    },
    {
     "data": {
      "text/html": [
       "<b style=\"color: rgb(98,98,98); text-decoration: underline;\">Example response:</b>"
      ],
      "text/plain": [
       "<IPython.core.display.HTML object>"
      ]
     },
     "metadata": {},
     "output_type": "display_data"
    },
    {
     "name": "stdout",
     "output_type": "stream",
     "text": [
      "(\u001b[38;5;124m'\u001b[39m\u001b[38;5;124mdigraph \u001b[39m\u001b[38;5;124m{\u001b[39m\u001b[38;5;130;01m\\n\u001b[39;00m\u001b[38;5;124m'\u001b[39m\n",
      " \u001b[38;5;124m'\u001b[39m\u001b[38;5;130;01m\\t\u001b[39;00m\u001b[38;5;124mgraph [rankdir=LR]\u001b[39m\u001b[38;5;130;01m\\n\u001b[39;00m\u001b[38;5;124m'\u001b[39m\n",
      " \u001b[38;5;124m'\u001b[39m\u001b[38;5;130;01m\\t\u001b[39;00m\u001b[38;5;124mnode [shape=plaintext]\u001b[39m\u001b[38;5;130;01m\\n\u001b[39;00m\u001b[38;5;124m'\u001b[39m\n",
      " \u001b[38;5;124m'\u001b[39m\u001b[38;5;130;01m\\t\u001b[39;00m\u001b[38;5;124mbio_act -> degradation\u001b[39m\u001b[38;5;130;01m\\n\u001b[39;00m\u001b[38;5;124m'\u001b[39m\n",
      " \u001b[38;5;124m'\u001b[39m\u001b[38;5;130;01m\\t\u001b[39;00m\u001b[38;5;124mbio_act -> reaction\u001b[39m\u001b[38;5;130;01m\\n\u001b[39;00m\u001b[38;5;124m'\u001b[39m\n",
      " \u001b[38;5;124m'\u001b[39m\u001b[38;5;130;01m\\t\u001b[39;00m\u001b[38;5;124mbio_act -> cell_secretion\u001b[39m\u001b[38;5;130;01m\\n\u001b[39;00m\u001b[38;5;124m'\u001b[39m\n",
      " \u001b[38;5;124m'\u001b[39m\u001b[38;5;130;01m\\t\u001b[39;00m\u001b[38;5;124mbio_act -> translocation\u001b[39m\u001b[38;5;130;01m\\n\u001b[39;00m\u001b[38;5;124m'\u001b[39m\n",
      " \u001b[38;5;124m'\u001b[39m\u001b[38;5;130;01m\\t\u001b[39;00m\u001b[38;5;124mbio_act -> activity\u001b[39m\u001b[38;5;130;01m\\n\u001b[39;00m\u001b[38;5;124m'\u001b[39m\n",
      " \u001b[38;5;124m'\u001b[39m\u001b[38;5;130;01m\\t\u001b[39;00m\u001b[38;5;124mbio_act -> cell_surface_expression\u001b[39m\u001b[38;5;130;01m\\n\u001b[39;00m\u001b[38;5;124m'\u001b[39m\n",
      " \u001b[38;5;124m'\u001b[39m\u001b[38;5;130;01m\\t\u001b[39;00m\u001b[38;5;124mbio_concept -> pathology\u001b[39m\u001b[38;5;130;01m\\n\u001b[39;00m\u001b[38;5;124m'\u001b[39m\n",
      " \u001b[38;5;124m'\u001b[39m\u001b[38;5;130;01m\\t\u001b[39;00m\u001b[38;5;124mbio_concept -> biological_process\u001b[39m\u001b[38;5;130;01m\\n\u001b[39;00m\u001b[38;5;124m'\u001b[39m\n",
      " \u001b[38;5;124m'\u001b[39m\u001b[38;5;130;01m\\t\u001b[39;00m\u001b[38;5;124mbel -> bio_act\u001b[39m\u001b[38;5;130;01m\\n\u001b[39;00m\u001b[38;5;124m'\u001b[39m\n",
      " \u001b[38;5;124m'\u001b[39m\u001b[38;5;130;01m\\t\u001b[39;00m\u001b[38;5;124mbel -> fusion_protein\u001b[39m\u001b[38;5;130;01m\\n\u001b[39;00m\u001b[38;5;124m'\u001b[39m\n",
      " \u001b[38;5;124m'\u001b[39m\u001b[38;5;130;01m\\t\u001b[39;00m\u001b[38;5;124mbel -> fusion_gene\u001b[39m\u001b[38;5;130;01m\\n\u001b[39;00m\u001b[38;5;124m'\u001b[39m\n",
      " \u001b[38;5;124m'\u001b[39m\u001b[38;5;130;01m\\t\u001b[39;00m\u001b[38;5;124mbel -> bio_concept\u001b[39m\u001b[38;5;130;01m\\n\u001b[39;00m\u001b[38;5;124m'\u001b[39m\n",
      " \u001b[38;5;124m'\u001b[39m\u001b[38;5;130;01m\\t\u001b[39;00m\u001b[38;5;124mbel -> bio_list\u001b[39m\u001b[38;5;130;01m\\n\u001b[39;00m\u001b[38;5;124m'\u001b[39m\n",
      " \u001b[38;5;124m'\u001b[39m\u001b[38;5;130;01m\\t\u001b[39;00m\u001b[38;5;124mbel -> bio_object\u001b[39m\u001b[38;5;130;01m\\n\u001b[39;00m\u001b[38;5;124m'\u001b[39m\n",
      " \u001b[38;5;124m'\u001b[39m\u001b[38;5;130;01m\\t\u001b[39;00m\u001b[38;5;124mbel -> fusion_rna\u001b[39m\u001b[38;5;130;01m\\n\u001b[39;00m\u001b[38;5;124m'\u001b[39m\n",
      " \u001b[38;5;124m'\u001b[39m\u001b[38;5;130;01m\\t\u001b[39;00m\u001b[38;5;124mbio_list -> list\u001b[39m\u001b[38;5;130;01m\\n\u001b[39;00m\u001b[38;5;124m'\u001b[39m\n",
      " \u001b[38;5;124m'\u001b[39m\u001b[38;5;130;01m\\t\u001b[39;00m\u001b[38;5;124mbio_list -> composite\u001b[39m\u001b[38;5;130;01m\\n\u001b[39;00m\u001b[38;5;124m'\u001b[39m\n",
      " \u001b[38;5;124m'\u001b[39m\u001b[38;5;130;01m\\t\u001b[39;00m\u001b[38;5;124mbio_object -> micro_rna\u001b[39m\u001b[38;5;130;01m\\n\u001b[39;00m\u001b[38;5;124m'\u001b[39m\n",
      " \u001b[38;5;124m'\u001b[39m\u001b[38;5;130;01m\\t\u001b[39;00m\u001b[38;5;124mbio_object -> abundance\u001b[39m\u001b[38;5;130;01m\\n\u001b[39;00m\u001b[38;5;124m'\u001b[39m\n",
      " \u001b[38;5;124m'\u001b[39m\u001b[38;5;130;01m\\t\u001b[39;00m\u001b[38;5;124mbio_object -> complex\u001b[39m\u001b[38;5;130;01m\\n\u001b[39;00m\u001b[38;5;124m'\u001b[39m\n",
      " \u001b[38;5;124m'\u001b[39m\u001b[38;5;130;01m\\t\u001b[39;00m\u001b[38;5;124mbio_object -> population\u001b[39m\u001b[38;5;130;01m\\n\u001b[39;00m\u001b[38;5;124m'\u001b[39m\n",
      " \u001b[38;5;124m'\u001b[39m\u001b[38;5;130;01m\\t\u001b[39;00m\u001b[38;5;124mbio_object -> genetic_flow\u001b[39m\u001b[38;5;130;01m\\n\u001b[39;00m\u001b[38;5;124m'\u001b[39m\n",
      " \u001b[38;5;124m'\u001b[39m\u001b[38;5;130;01m\\t\u001b[39;00m\u001b[38;5;124mgenetic_flow -> rna\u001b[39m\u001b[38;5;130;01m\\n\u001b[39;00m\u001b[38;5;124m'\u001b[39m\n",
      " \u001b[38;5;124m'\u001b[39m\u001b[38;5;130;01m\\t\u001b[39;00m\u001b[38;5;124mgenetic_flow -> gene\u001b[39m\u001b[38;5;130;01m\\n\u001b[39;00m\u001b[38;5;124m'\u001b[39m\n",
      " \u001b[38;5;124m'\u001b[39m\u001b[38;5;130;01m\\t\u001b[39;00m\u001b[38;5;124mgenetic_flow -> protein\u001b[39m\u001b[38;5;130;01m\\n\u001b[39;00m\u001b[38;5;124m'\u001b[39m\n",
      " \u001b[38;5;124m'\u001b[39m\u001b[38;5;124m}\u001b[39m\u001b[38;5;124m'\u001b[39m)\n",
      "\n",
      "For further testing go to http://0.0.0.0:5000/ui/#/BEL/ebel.web.api.ebel.v1.bel.get_bel_node_types_as_dot\n"
     ]
    },
    {
     "data": {
      "text/html": [
       "<h2>12. Get all BEL nodes with name and namespace</h2>"
      ],
      "text/plain": [
       "<IPython.core.display.HTML object>"
      ]
     },
     "metadata": {},
     "output_type": "display_data"
    },
    {
     "data": {
      "text/html": [
       "<b style=\"color: rgb(98,98,98); text-decoration: underline;\">Description:</b> <p>Get all BEL nodes with name and namespace</p>"
      ],
      "text/plain": [
       "<IPython.core.display.HTML object>"
      ]
     },
     "metadata": {},
     "output_type": "display_data"
    },
    {
     "data": {
      "text/html": [
       "<b>Tags:</b> ['BEL']"
      ],
      "text/plain": [
       "<IPython.core.display.HTML object>"
      ]
     },
     "metadata": {},
     "output_type": "display_data"
    },
    {
     "data": {
      "text/html": [
       "<b>Server path:</b> /api/v1/bel/nodes"
      ],
      "text/plain": [
       "<IPython.core.display.HTML object>"
      ]
     },
     "metadata": {},
     "output_type": "display_data"
    },
    {
     "data": {
      "text/html": [
       "<div>\n",
       "<style scoped>\n",
       "    .dataframe tbody tr th:only-of-type {\n",
       "        vertical-align: middle;\n",
       "    }\n",
       "\n",
       "    .dataframe tbody tr th {\n",
       "        vertical-align: top;\n",
       "    }\n",
       "\n",
       "    .dataframe thead th {\n",
       "        text-align: right;\n",
       "    }\n",
       "</style>\n",
       "<table border=\"1\" class=\"dataframe\">\n",
       "  <thead>\n",
       "    <tr style=\"text-align: right;\">\n",
       "      <th></th>\n",
       "      <th>data type</th>\n",
       "      <th>description</th>\n",
       "      <th>example</th>\n",
       "      <th>options</th>\n",
       "      <th>default</th>\n",
       "      <th>required</th>\n",
       "    </tr>\n",
       "    <tr>\n",
       "      <th>parameter name</th>\n",
       "      <th></th>\n",
       "      <th></th>\n",
       "      <th></th>\n",
       "      <th></th>\n",
       "      <th></th>\n",
       "      <th></th>\n",
       "    </tr>\n",
       "  </thead>\n",
       "  <tbody>\n",
       "    <tr>\n",
       "      <th>node_class</th>\n",
       "      <td>string</td>\n",
       "      <td></td>\n",
       "      <td>protein</td>\n",
       "      <td>[bel, genetic_flow, gene, rna, protein, abunda...</td>\n",
       "      <td></td>\n",
       "      <td>True</td>\n",
       "    </tr>\n",
       "    <tr>\n",
       "      <th>namespace</th>\n",
       "      <td>string</td>\n",
       "      <td></td>\n",
       "      <td></td>\n",
       "      <td></td>\n",
       "      <td></td>\n",
       "      <td>False</td>\n",
       "    </tr>\n",
       "    <tr>\n",
       "      <th>name</th>\n",
       "      <td>string</td>\n",
       "      <td></td>\n",
       "      <td></td>\n",
       "      <td></td>\n",
       "      <td></td>\n",
       "      <td>False</td>\n",
       "    </tr>\n",
       "    <tr>\n",
       "      <th>pure</th>\n",
       "      <td>boolean</td>\n",
       "      <td>'pure' is a tag for no modification (mod), var...</td>\n",
       "      <td></td>\n",
       "      <td></td>\n",
       "      <td></td>\n",
       "      <td>False</td>\n",
       "    </tr>\n",
       "    <tr>\n",
       "      <th>connected_to_bel_relation</th>\n",
       "      <td>string</td>\n",
       "      <td>Select BEL relation the node is conneceted to.</td>\n",
       "      <td></td>\n",
       "      <td>[acts_in, analogous_to, association, bel_relat...</td>\n",
       "      <td></td>\n",
       "      <td>False</td>\n",
       "    </tr>\n",
       "    <tr>\n",
       "      <th>connected_to_bel_relation_direction</th>\n",
       "      <td>string</td>\n",
       "      <td>Only valid if connected_to_bel_relation is set.</td>\n",
       "      <td></td>\n",
       "      <td>[in, out, both]</td>\n",
       "      <td>both</td>\n",
       "      <td>False</td>\n",
       "    </tr>\n",
       "    <tr>\n",
       "      <th>connected_to_ebel_relation</th>\n",
       "      <td>string</td>\n",
       "      <td>Select e(BE:L) relation the node is conneceted...</td>\n",
       "      <td></td>\n",
       "      <td>[activates__iu, activates_st, agonist_of__iu, ...</td>\n",
       "      <td></td>\n",
       "      <td>False</td>\n",
       "    </tr>\n",
       "    <tr>\n",
       "      <th>connected_to_ebel_relation_direction</th>\n",
       "      <td>string</td>\n",
       "      <td>Only valid if connected_to_ebel_relation is set.</td>\n",
       "      <td></td>\n",
       "      <td>[in, out, both]</td>\n",
       "      <td>both</td>\n",
       "      <td>False</td>\n",
       "    </tr>\n",
       "    <tr>\n",
       "      <th>page_size</th>\n",
       "      <td>integer</td>\n",
       "      <td>Results per page</td>\n",
       "      <td>1</td>\n",
       "      <td></td>\n",
       "      <td>10</td>\n",
       "      <td>False</td>\n",
       "    </tr>\n",
       "    <tr>\n",
       "      <th>page</th>\n",
       "      <td>integer</td>\n",
       "      <td>Page number (starting with 1)</td>\n",
       "      <td>1</td>\n",
       "      <td></td>\n",
       "      <td>1</td>\n",
       "      <td>False</td>\n",
       "    </tr>\n",
       "  </tbody>\n",
       "</table>\n",
       "</div>"
      ],
      "text/plain": [
       "                                     data type  \\\n",
       "parameter name                                   \n",
       "node_class                              string   \n",
       "namespace                               string   \n",
       "name                                    string   \n",
       "pure                                   boolean   \n",
       "connected_to_bel_relation               string   \n",
       "connected_to_bel_relation_direction     string   \n",
       "connected_to_ebel_relation              string   \n",
       "connected_to_ebel_relation_direction    string   \n",
       "page_size                              integer   \n",
       "page                                   integer   \n",
       "\n",
       "                                                                            description  \\\n",
       "parameter name                                                                            \n",
       "node_class                                                                                \n",
       "namespace                                                                                 \n",
       "name                                                                                      \n",
       "pure                                  'pure' is a tag for no modification (mod), var...   \n",
       "connected_to_bel_relation                Select BEL relation the node is conneceted to.   \n",
       "connected_to_bel_relation_direction     Only valid if connected_to_bel_relation is set.   \n",
       "connected_to_ebel_relation            Select e(BE:L) relation the node is conneceted...   \n",
       "connected_to_ebel_relation_direction   Only valid if connected_to_ebel_relation is set.   \n",
       "page_size                                                              Results per page   \n",
       "page                                                      Page number (starting with 1)   \n",
       "\n",
       "                                      example  \\\n",
       "parameter name                                  \n",
       "node_class                            protein   \n",
       "namespace                                       \n",
       "name                                            \n",
       "pure                                            \n",
       "connected_to_bel_relation                       \n",
       "connected_to_bel_relation_direction             \n",
       "connected_to_ebel_relation                      \n",
       "connected_to_ebel_relation_direction            \n",
       "page_size                                   1   \n",
       "page                                        1   \n",
       "\n",
       "                                                                                options  \\\n",
       "parameter name                                                                            \n",
       "node_class                            [bel, genetic_flow, gene, rna, protein, abunda...   \n",
       "namespace                                                                                 \n",
       "name                                                                                      \n",
       "pure                                                                                      \n",
       "connected_to_bel_relation             [acts_in, analogous_to, association, bel_relat...   \n",
       "connected_to_bel_relation_direction                                     [in, out, both]   \n",
       "connected_to_ebel_relation            [activates__iu, activates_st, agonist_of__iu, ...   \n",
       "connected_to_ebel_relation_direction                                    [in, out, both]   \n",
       "page_size                                                                                 \n",
       "page                                                                                      \n",
       "\n",
       "                                     default  required  \n",
       "parameter name                                          \n",
       "node_class                                        True  \n",
       "namespace                                        False  \n",
       "name                                             False  \n",
       "pure                                             False  \n",
       "connected_to_bel_relation                        False  \n",
       "connected_to_bel_relation_direction     both     False  \n",
       "connected_to_ebel_relation                       False  \n",
       "connected_to_ebel_relation_direction    both     False  \n",
       "page_size                                 10     False  \n",
       "page                                       1     False  "
      ]
     },
     "metadata": {},
     "output_type": "display_data"
    },
    {
     "data": {
      "text/html": [
       "<b>Example URL:</b> <a href=\"http://0.0.0.0:5000/api/v1/bel/nodes?node_class=protein&page_size=1&page=1\">http://0.0.0.0:5000/api/v1/bel/nodes?node_class=protein&page_size=1&page=1</a>"
      ],
      "text/plain": [
       "<IPython.core.display.HTML object>"
      ]
     },
     "metadata": {},
     "output_type": "display_data"
    },
    {
     "data": {
      "text/html": [
       "<b style=\"color: rgb(98,98,98); text-decoration: underline;\">Example response:</b>"
      ],
      "text/plain": [
       "<IPython.core.display.HTML object>"
      ]
     },
     "metadata": {},
     "output_type": "display_data"
    },
    {
     "name": "stdout",
     "output_type": "stream",
     "text": [
      "{\u001b[38;5;124m'\u001b[39m\u001b[38;5;124mnumber_of_results\u001b[39m\u001b[38;5;124m'\u001b[39m: \u001b[38;5;241m19562\u001b[39m,\n",
      " \u001b[38;5;124m'\u001b[39m\u001b[38;5;124mpage\u001b[39m\u001b[38;5;124m'\u001b[39m: \u001b[38;5;241m1\u001b[39m,\n",
      " \u001b[38;5;124m'\u001b[39m\u001b[38;5;124mpage_size\u001b[39m\u001b[38;5;124m'\u001b[39m: \u001b[38;5;241m1\u001b[39m,\n",
      " \u001b[38;5;124m'\u001b[39m\u001b[38;5;124mpages\u001b[39m\u001b[38;5;124m'\u001b[39m: \u001b[38;5;241m19562\u001b[39m,\n",
      " \u001b[38;5;124m'\u001b[39m\u001b[38;5;124mresults\u001b[39m\u001b[38;5;124m'\u001b[39m: [{\u001b[38;5;124m'\u001b[39m\u001b[38;5;124mbel\u001b[39m\u001b[38;5;124m'\u001b[39m: \u001b[38;5;124m'\u001b[39m\u001b[38;5;124mp(HGNC:\u001b[39m\u001b[38;5;124m\"\u001b[39m\u001b[38;5;124mTREM2\u001b[39m\u001b[38;5;124m\"\u001b[39m\u001b[38;5;124m,loc(MESHA:\u001b[39m\u001b[38;5;124m\"\u001b[39m\u001b[38;5;124mExtracellular Space\u001b[39m\u001b[38;5;124m\"\u001b[39m\u001b[38;5;124m))\u001b[39m\u001b[38;5;124m'\u001b[39m,\n",
      "              \u001b[38;5;124m'\u001b[39m\u001b[38;5;124minvolved_genes\u001b[39m\u001b[38;5;124m'\u001b[39m: [\u001b[38;5;124m'\u001b[39m\u001b[38;5;124mTREM2\u001b[39m\u001b[38;5;124m'\u001b[39m],\n",
      "              \u001b[38;5;124m'\u001b[39m\u001b[38;5;124minvolved_other\u001b[39m\u001b[38;5;124m'\u001b[39m: [],\n",
      "              \u001b[38;5;124m'\u001b[39m\u001b[38;5;124mname\u001b[39m\u001b[38;5;124m'\u001b[39m: \u001b[38;5;124m'\u001b[39m\u001b[38;5;124mTREM2\u001b[39m\u001b[38;5;124m'\u001b[39m,\n",
      "              \u001b[38;5;124m'\u001b[39m\u001b[38;5;124mnamespace\u001b[39m\u001b[38;5;124m'\u001b[39m: \u001b[38;5;124m'\u001b[39m\u001b[38;5;124mHGNC\u001b[39m\u001b[38;5;124m'\u001b[39m,\n",
      "              \u001b[38;5;124m'\u001b[39m\u001b[38;5;124mrid\u001b[39m\u001b[38;5;124m'\u001b[39m: \u001b[38;5;124m'\u001b[39m\u001b[38;5;124m#186:0\u001b[39m\u001b[38;5;124m'\u001b[39m}]}\n",
      "\n",
      "For further testing go to http://0.0.0.0:5000/ui/#/BEL/ebel.web.api.ebel.v1.bel.get_nodes\n"
     ]
    },
    {
     "data": {
      "text/html": [
       "<h2>13. Get number of edges by relation</h2>"
      ],
      "text/plain": [
       "<IPython.core.display.HTML object>"
      ]
     },
     "metadata": {},
     "output_type": "display_data"
    },
    {
     "data": {
      "text/html": [
       "<b style=\"color: rgb(98,98,98); text-decoration: underline;\">Description:</b> <p>Get number of edges by relation</p>"
      ],
      "text/plain": [
       "<IPython.core.display.HTML object>"
      ]
     },
     "metadata": {},
     "output_type": "display_data"
    },
    {
     "data": {
      "text/html": [
       "<b>Tags:</b> ['BEL']"
      ],
      "text/plain": [
       "<IPython.core.display.HTML object>"
      ]
     },
     "metadata": {},
     "output_type": "display_data"
    },
    {
     "data": {
      "text/html": [
       "<b>Server path:</b> /api/v1/bel/number_of_edges"
      ],
      "text/plain": [
       "<IPython.core.display.HTML object>"
      ]
     },
     "metadata": {},
     "output_type": "display_data"
    },
    {
     "data": {
      "text/html": [
       "<div>\n",
       "<style scoped>\n",
       "    .dataframe tbody tr th:only-of-type {\n",
       "        vertical-align: middle;\n",
       "    }\n",
       "\n",
       "    .dataframe tbody tr th {\n",
       "        vertical-align: top;\n",
       "    }\n",
       "\n",
       "    .dataframe thead th {\n",
       "        text-align: right;\n",
       "    }\n",
       "</style>\n",
       "<table border=\"1\" class=\"dataframe\">\n",
       "  <thead>\n",
       "    <tr style=\"text-align: right;\">\n",
       "      <th></th>\n",
       "      <th>data type</th>\n",
       "      <th>description</th>\n",
       "      <th>example</th>\n",
       "      <th>options</th>\n",
       "      <th>default</th>\n",
       "      <th>required</th>\n",
       "    </tr>\n",
       "    <tr>\n",
       "      <th>parameter name</th>\n",
       "      <th></th>\n",
       "      <th></th>\n",
       "      <th></th>\n",
       "      <th></th>\n",
       "      <th></th>\n",
       "      <th></th>\n",
       "    </tr>\n",
       "  </thead>\n",
       "  <tbody>\n",
       "    <tr>\n",
       "      <th>relation</th>\n",
       "      <td>string</td>\n",
       "      <td></td>\n",
       "      <td>increases</td>\n",
       "      <td></td>\n",
       "      <td></td>\n",
       "      <td>False</td>\n",
       "    </tr>\n",
       "  </tbody>\n",
       "</table>\n",
       "</div>"
      ],
      "text/plain": [
       "               data type description    example options default  required\n",
       "parameter name                                                           \n",
       "relation          string              increases                     False"
      ]
     },
     "metadata": {},
     "output_type": "display_data"
    },
    {
     "data": {
      "text/html": [
       "<b>Example URL:</b> <a href=\"http://0.0.0.0:5000/api/v1/bel/number_of_edges?relation=increases\">http://0.0.0.0:5000/api/v1/bel/number_of_edges?relation=increases</a>"
      ],
      "text/plain": [
       "<IPython.core.display.HTML object>"
      ]
     },
     "metadata": {},
     "output_type": "display_data"
    },
    {
     "data": {
      "text/html": [
       "<b style=\"color: rgb(98,98,98); text-decoration: underline;\">Example response:</b>"
      ],
      "text/plain": [
       "<IPython.core.display.HTML object>"
      ]
     },
     "metadata": {},
     "output_type": "display_data"
    },
    {
     "name": "stdout",
     "output_type": "stream",
     "text": [
      "\u001b[38;5;241m1817\u001b[39m\n",
      "\n",
      "For further testing go to http://0.0.0.0:5000/ui/#/BEL/ebel.web.api.ebel.v1.bel.get_number_of_edges\n"
     ]
    },
    {
     "data": {
      "text/html": [
       "<h2>14. Get number of nodes by node class</h2>"
      ],
      "text/plain": [
       "<IPython.core.display.HTML object>"
      ]
     },
     "metadata": {},
     "output_type": "display_data"
    },
    {
     "data": {
      "text/html": [
       "<b style=\"color: rgb(98,98,98); text-decoration: underline;\">Description:</b> <p>Get number of nodes by node class</p>"
      ],
      "text/plain": [
       "<IPython.core.display.HTML object>"
      ]
     },
     "metadata": {},
     "output_type": "display_data"
    },
    {
     "data": {
      "text/html": [
       "<b>Tags:</b> ['BEL']"
      ],
      "text/plain": [
       "<IPython.core.display.HTML object>"
      ]
     },
     "metadata": {},
     "output_type": "display_data"
    },
    {
     "data": {
      "text/html": [
       "<b>Server path:</b> /api/v1/bel/number_of_nodes"
      ],
      "text/plain": [
       "<IPython.core.display.HTML object>"
      ]
     },
     "metadata": {},
     "output_type": "display_data"
    },
    {
     "data": {
      "text/html": [
       "<div>\n",
       "<style scoped>\n",
       "    .dataframe tbody tr th:only-of-type {\n",
       "        vertical-align: middle;\n",
       "    }\n",
       "\n",
       "    .dataframe tbody tr th {\n",
       "        vertical-align: top;\n",
       "    }\n",
       "\n",
       "    .dataframe thead th {\n",
       "        text-align: right;\n",
       "    }\n",
       "</style>\n",
       "<table border=\"1\" class=\"dataframe\">\n",
       "  <thead>\n",
       "    <tr style=\"text-align: right;\">\n",
       "      <th></th>\n",
       "      <th>data type</th>\n",
       "      <th>description</th>\n",
       "      <th>example</th>\n",
       "      <th>options</th>\n",
       "      <th>default</th>\n",
       "      <th>required</th>\n",
       "    </tr>\n",
       "    <tr>\n",
       "      <th>parameter name</th>\n",
       "      <th></th>\n",
       "      <th></th>\n",
       "      <th></th>\n",
       "      <th></th>\n",
       "      <th></th>\n",
       "      <th></th>\n",
       "    </tr>\n",
       "  </thead>\n",
       "  <tbody>\n",
       "    <tr>\n",
       "      <th>node_class</th>\n",
       "      <td>string</td>\n",
       "      <td></td>\n",
       "      <td>protein</td>\n",
       "      <td>[abundance, activity, bel, bio_act, bio_concep...</td>\n",
       "      <td></td>\n",
       "      <td>False</td>\n",
       "    </tr>\n",
       "    <tr>\n",
       "      <th>pure</th>\n",
       "      <td>boolean</td>\n",
       "      <td>'pure' is a tag for no modification (mod), var...</td>\n",
       "      <td></td>\n",
       "      <td></td>\n",
       "      <td></td>\n",
       "      <td>False</td>\n",
       "    </tr>\n",
       "  </tbody>\n",
       "</table>\n",
       "</div>"
      ],
      "text/plain": [
       "               data type                                        description  \\\n",
       "parameter name                                                                \n",
       "node_class        string                                                      \n",
       "pure             boolean  'pure' is a tag for no modification (mod), var...   \n",
       "\n",
       "                example                                            options  \\\n",
       "parameter name                                                               \n",
       "node_class      protein  [abundance, activity, bel, bio_act, bio_concep...   \n",
       "pure                                                                         \n",
       "\n",
       "               default  required  \n",
       "parameter name                    \n",
       "node_class                 False  \n",
       "pure                       False  "
      ]
     },
     "metadata": {},
     "output_type": "display_data"
    },
    {
     "data": {
      "text/html": [
       "<b>Example URL:</b> <a href=\"http://0.0.0.0:5000/api/v1/bel/number_of_nodes?node_class=protein\">http://0.0.0.0:5000/api/v1/bel/number_of_nodes?node_class=protein</a>"
      ],
      "text/plain": [
       "<IPython.core.display.HTML object>"
      ]
     },
     "metadata": {},
     "output_type": "display_data"
    },
    {
     "data": {
      "text/html": [
       "<b style=\"color: rgb(98,98,98); text-decoration: underline;\">Example response:</b>"
      ],
      "text/plain": [
       "<IPython.core.display.HTML object>"
      ]
     },
     "metadata": {},
     "output_type": "display_data"
    },
    {
     "name": "stdout",
     "output_type": "stream",
     "text": [
      "\u001b[38;5;241m19562\u001b[39m\n",
      "\n",
      "For further testing go to http://0.0.0.0:5000/ui/#/BEL/ebel.web.api.ebel.v1.bel.get_number_of_nodes\n"
     ]
    },
    {
     "data": {
      "text/html": [
       "<h2>15. Causal pathway search by gene names</h2>"
      ],
      "text/plain": [
       "<IPython.core.display.HTML object>"
      ]
     },
     "metadata": {},
     "output_type": "display_data"
    },
    {
     "data": {
      "text/html": [
       "<b style=\"color: rgb(98,98,98); text-decoration: underline;\">Description:</b> <p>Method to find all directed paths between nodes using BEL or e(BE:L) edges. </p>"
      ],
      "text/plain": [
       "<IPython.core.display.HTML object>"
      ]
     },
     "metadata": {},
     "output_type": "display_data"
    },
    {
     "data": {
      "text/html": [
       "<b>Tags:</b> ['BEL']"
      ],
      "text/plain": [
       "<IPython.core.display.HTML object>"
      ]
     },
     "metadata": {},
     "output_type": "display_data"
    },
    {
     "data": {
      "text/html": [
       "<b>Server path:</b> /api/v1/bel/paths"
      ],
      "text/plain": [
       "<IPython.core.display.HTML object>"
      ]
     },
     "metadata": {},
     "output_type": "display_data"
    },
    {
     "data": {
      "text/html": [
       "<div>\n",
       "<style scoped>\n",
       "    .dataframe tbody tr th:only-of-type {\n",
       "        vertical-align: middle;\n",
       "    }\n",
       "\n",
       "    .dataframe tbody tr th {\n",
       "        vertical-align: top;\n",
       "    }\n",
       "\n",
       "    .dataframe thead th {\n",
       "        text-align: right;\n",
       "    }\n",
       "</style>\n",
       "<table border=\"1\" class=\"dataframe\">\n",
       "  <thead>\n",
       "    <tr style=\"text-align: right;\">\n",
       "      <th></th>\n",
       "      <th>data type</th>\n",
       "      <th>description</th>\n",
       "      <th>example</th>\n",
       "      <th>options</th>\n",
       "      <th>default</th>\n",
       "      <th>required</th>\n",
       "    </tr>\n",
       "    <tr>\n",
       "      <th>parameter name</th>\n",
       "      <th></th>\n",
       "      <th></th>\n",
       "      <th></th>\n",
       "      <th></th>\n",
       "      <th></th>\n",
       "      <th></th>\n",
       "    </tr>\n",
       "  </thead>\n",
       "  <tbody>\n",
       "    <tr>\n",
       "      <th>start_node_class</th>\n",
       "      <td>string</td>\n",
       "      <td></td>\n",
       "      <td>protein</td>\n",
       "      <td>[abundance, activity, bel, bio_act, bio_concep...</td>\n",
       "      <td></td>\n",
       "      <td>False</td>\n",
       "    </tr>\n",
       "    <tr>\n",
       "      <th>start_node_namespace</th>\n",
       "      <td>string</td>\n",
       "      <td></td>\n",
       "      <td></td>\n",
       "      <td></td>\n",
       "      <td></td>\n",
       "      <td>False</td>\n",
       "    </tr>\n",
       "    <tr>\n",
       "      <th>start_node_name</th>\n",
       "      <td>string</td>\n",
       "      <td></td>\n",
       "      <td></td>\n",
       "      <td></td>\n",
       "      <td></td>\n",
       "      <td>False</td>\n",
       "    </tr>\n",
       "    <tr>\n",
       "      <th>connecting_relation</th>\n",
       "      <td>string</td>\n",
       "      <td></td>\n",
       "      <td></td>\n",
       "      <td>[activates__iu, activates_st, acts_in, agonist...</td>\n",
       "      <td></td>\n",
       "      <td>False</td>\n",
       "    </tr>\n",
       "    <tr>\n",
       "      <th>multiple_connecting_relations</th>\n",
       "      <td>string</td>\n",
       "      <td>multiple connecting relation types seperated b...</td>\n",
       "      <td></td>\n",
       "      <td></td>\n",
       "      <td></td>\n",
       "      <td>False</td>\n",
       "    </tr>\n",
       "    <tr>\n",
       "      <th>connecting_node_class</th>\n",
       "      <td>string</td>\n",
       "      <td></td>\n",
       "      <td></td>\n",
       "      <td></td>\n",
       "      <td></td>\n",
       "      <td>False</td>\n",
       "    </tr>\n",
       "    <tr>\n",
       "      <th>mesh_term</th>\n",
       "      <td>string</td>\n",
       "      <td>One or several [MeSH term](https://www.ncbi.nl...</td>\n",
       "      <td></td>\n",
       "      <td></td>\n",
       "      <td></td>\n",
       "      <td>False</td>\n",
       "    </tr>\n",
       "    <tr>\n",
       "      <th>pmid</th>\n",
       "      <td>number</td>\n",
       "      <td></td>\n",
       "      <td></td>\n",
       "      <td></td>\n",
       "      <td></td>\n",
       "      <td>False</td>\n",
       "    </tr>\n",
       "    <tr>\n",
       "      <th>end_node_class</th>\n",
       "      <td>string</td>\n",
       "      <td></td>\n",
       "      <td></td>\n",
       "      <td>[abundance, activity, bel, bio_act, bio_concep...</td>\n",
       "      <td></td>\n",
       "      <td>False</td>\n",
       "    </tr>\n",
       "    <tr>\n",
       "      <th>end_node_namespace</th>\n",
       "      <td>string</td>\n",
       "      <td></td>\n",
       "      <td></td>\n",
       "      <td></td>\n",
       "      <td></td>\n",
       "      <td>False</td>\n",
       "    </tr>\n",
       "    <tr>\n",
       "      <th>end_node_name</th>\n",
       "      <td>string</td>\n",
       "      <td></td>\n",
       "      <td></td>\n",
       "      <td></td>\n",
       "      <td></td>\n",
       "      <td>False</td>\n",
       "    </tr>\n",
       "    <tr>\n",
       "      <th>only_gene_related_nodes_on_path</th>\n",
       "      <td>boolean</td>\n",
       "      <td>Only gene realted nodes like gene, rna or prot...</td>\n",
       "      <td></td>\n",
       "      <td></td>\n",
       "      <td></td>\n",
       "      <td>False</td>\n",
       "    </tr>\n",
       "    <tr>\n",
       "      <th>min_path_length</th>\n",
       "      <td>number</td>\n",
       "      <td></td>\n",
       "      <td>1</td>\n",
       "      <td></td>\n",
       "      <td></td>\n",
       "      <td>False</td>\n",
       "    </tr>\n",
       "    <tr>\n",
       "      <th>max_path_length</th>\n",
       "      <td>number</td>\n",
       "      <td></td>\n",
       "      <td>3</td>\n",
       "      <td></td>\n",
       "      <td></td>\n",
       "      <td>False</td>\n",
       "    </tr>\n",
       "    <tr>\n",
       "      <th>limit</th>\n",
       "      <td>number</td>\n",
       "      <td></td>\n",
       "      <td>1</td>\n",
       "      <td></td>\n",
       "      <td></td>\n",
       "      <td>False</td>\n",
       "    </tr>\n",
       "  </tbody>\n",
       "</table>\n",
       "</div>"
      ],
      "text/plain": [
       "                                data type  \\\n",
       "parameter name                              \n",
       "start_node_class                   string   \n",
       "start_node_namespace               string   \n",
       "start_node_name                    string   \n",
       "connecting_relation                string   \n",
       "multiple_connecting_relations      string   \n",
       "connecting_node_class              string   \n",
       "mesh_term                          string   \n",
       "pmid                               number   \n",
       "end_node_class                     string   \n",
       "end_node_namespace                 string   \n",
       "end_node_name                      string   \n",
       "only_gene_related_nodes_on_path   boolean   \n",
       "min_path_length                    number   \n",
       "max_path_length                    number   \n",
       "limit                              number   \n",
       "\n",
       "                                                                       description  \\\n",
       "parameter name                                                                       \n",
       "start_node_class                                                                     \n",
       "start_node_namespace                                                                 \n",
       "start_node_name                                                                      \n",
       "connecting_relation                                                                  \n",
       "multiple_connecting_relations    multiple connecting relation types seperated b...   \n",
       "connecting_node_class                                                                \n",
       "mesh_term                        One or several [MeSH term](https://www.ncbi.nl...   \n",
       "pmid                                                                                 \n",
       "end_node_class                                                                       \n",
       "end_node_namespace                                                                   \n",
       "end_node_name                                                                        \n",
       "only_gene_related_nodes_on_path  Only gene realted nodes like gene, rna or prot...   \n",
       "min_path_length                                                                      \n",
       "max_path_length                                                                      \n",
       "limit                                                                                \n",
       "\n",
       "                                 example  \\\n",
       "parameter name                             \n",
       "start_node_class                 protein   \n",
       "start_node_namespace                       \n",
       "start_node_name                            \n",
       "connecting_relation                        \n",
       "multiple_connecting_relations              \n",
       "connecting_node_class                      \n",
       "mesh_term                                  \n",
       "pmid                                       \n",
       "end_node_class                             \n",
       "end_node_namespace                         \n",
       "end_node_name                              \n",
       "only_gene_related_nodes_on_path            \n",
       "min_path_length                        1   \n",
       "max_path_length                        3   \n",
       "limit                                  1   \n",
       "\n",
       "                                                                           options  \\\n",
       "parameter name                                                                       \n",
       "start_node_class                 [abundance, activity, bel, bio_act, bio_concep...   \n",
       "start_node_namespace                                                                 \n",
       "start_node_name                                                                      \n",
       "connecting_relation              [activates__iu, activates_st, acts_in, agonist...   \n",
       "multiple_connecting_relations                                                        \n",
       "connecting_node_class                                                                \n",
       "mesh_term                                                                            \n",
       "pmid                                                                                 \n",
       "end_node_class                   [abundance, activity, bel, bio_act, bio_concep...   \n",
       "end_node_namespace                                                                   \n",
       "end_node_name                                                                        \n",
       "only_gene_related_nodes_on_path                                                      \n",
       "min_path_length                                                                      \n",
       "max_path_length                                                                      \n",
       "limit                                                                                \n",
       "\n",
       "                                default  required  \n",
       "parameter name                                     \n",
       "start_node_class                            False  \n",
       "start_node_namespace                        False  \n",
       "start_node_name                             False  \n",
       "connecting_relation                         False  \n",
       "multiple_connecting_relations               False  \n",
       "connecting_node_class                       False  \n",
       "mesh_term                                   False  \n",
       "pmid                                        False  \n",
       "end_node_class                              False  \n",
       "end_node_namespace                          False  \n",
       "end_node_name                               False  \n",
       "only_gene_related_nodes_on_path             False  \n",
       "min_path_length                             False  \n",
       "max_path_length                             False  \n",
       "limit                                       False  "
      ]
     },
     "metadata": {},
     "output_type": "display_data"
    },
    {
     "data": {
      "text/html": [
       "<b>Example URL:</b> <a href=\"http://0.0.0.0:5000/api/v1/bel/paths?start_node_class=protein&min_path_length=1&max_path_length=3&limit=1\">http://0.0.0.0:5000/api/v1/bel/paths?start_node_class=protein&min_path_length=1&max_path_length=3&limit=1</a>"
      ],
      "text/plain": [
       "<IPython.core.display.HTML object>"
      ]
     },
     "metadata": {},
     "output_type": "display_data"
    },
    {
     "data": {
      "text/html": [
       "<b style=\"color: rgb(98,98,98); text-decoration: underline;\">Example response:</b>"
      ],
      "text/plain": [
       "<IPython.core.display.HTML object>"
      ]
     },
     "metadata": {},
     "output_type": "display_data"
    },
    {
     "name": "stdout",
     "output_type": "stream",
     "text": [
      "{\u001b[38;5;124m'\u001b[39m\u001b[38;5;124medge_paths_by_length\u001b[39m\u001b[38;5;124m'\u001b[39m: {\u001b[38;5;124m'\u001b[39m\u001b[38;5;124m1\u001b[39m\u001b[38;5;124m'\u001b[39m: [[\u001b[38;5;124m'\u001b[39m\u001b[38;5;124m#1805:927\u001b[39m\u001b[38;5;124m'\u001b[39m]],\n",
      "                          \u001b[38;5;124m'\u001b[39m\u001b[38;5;124m2\u001b[39m\u001b[38;5;124m'\u001b[39m: [[\u001b[38;5;124m'\u001b[39m\u001b[38;5;124m#1805:927\u001b[39m\u001b[38;5;124m'\u001b[39m, \u001b[38;5;124m'\u001b[39m\u001b[38;5;124m#1348:43\u001b[39m\u001b[38;5;124m'\u001b[39m]],\n",
      "                          \u001b[38;5;124m'\u001b[39m\u001b[38;5;124m3\u001b[39m\u001b[38;5;124m'\u001b[39m: [[\u001b[38;5;124m'\u001b[39m\u001b[38;5;124m#1805:927\u001b[39m\u001b[38;5;124m'\u001b[39m, \u001b[38;5;124m'\u001b[39m\u001b[38;5;124m#1348:43\u001b[39m\u001b[38;5;124m'\u001b[39m, \u001b[38;5;124m'\u001b[39m\u001b[38;5;124m#1208:43\u001b[39m\u001b[38;5;124m'\u001b[39m]]},\n",
      " \u001b[38;5;124m'\u001b[39m\u001b[38;5;124munique_edges\u001b[39m\u001b[38;5;124m'\u001b[39m: {\u001b[38;5;124m'\u001b[39m\u001b[38;5;124m#1208:43\u001b[39m\u001b[38;5;124m'\u001b[39m: {\u001b[38;5;124m'\u001b[39m\u001b[38;5;124mclass\u001b[39m\u001b[38;5;124m'\u001b[39m: \u001b[38;5;124m'\u001b[39m\u001b[38;5;124mhas__pmod\u001b[39m\u001b[38;5;124m'\u001b[39m,\n",
      "                               \u001b[38;5;124m'\u001b[39m\u001b[38;5;124mobject_bel\u001b[39m\u001b[38;5;124m'\u001b[39m: \u001b[38;5;124m'\u001b[39m\u001b[38;5;124mpmod(Ph)\u001b[39m\u001b[38;5;124m'\u001b[39m,\n",
      "                               \u001b[38;5;124m'\u001b[39m\u001b[38;5;124mobject_rid\u001b[39m\u001b[38;5;124m'\u001b[39m: \u001b[38;5;124m'\u001b[39m\u001b[38;5;124m#424:43\u001b[39m\u001b[38;5;124m'\u001b[39m,\n",
      "                               \u001b[38;5;124m'\u001b[39m\u001b[38;5;124msubject_bel\u001b[39m\u001b[38;5;124m'\u001b[39m: \u001b[38;5;124m'\u001b[39m\u001b[38;5;124mp(HGNC:\u001b[39m\u001b[38;5;124m\"\u001b[39m\u001b[38;5;124mCLU\u001b[39m\u001b[38;5;124m\"\u001b[39m\u001b[38;5;124m,pmod(Ph))\u001b[39m\u001b[38;5;124m'\u001b[39m,\n",
      "                               \u001b[38;5;124m'\u001b[39m\u001b[38;5;124msubject_rid\u001b[39m\u001b[38;5;124m'\u001b[39m: \u001b[38;5;124m'\u001b[39m\u001b[38;5;124m#201:790\u001b[39m\u001b[38;5;124m'\u001b[39m},\n",
      "                  \u001b[38;5;124m'\u001b[39m\u001b[38;5;124m#1348:43\u001b[39m\u001b[38;5;124m'\u001b[39m: {\u001b[38;5;124m'\u001b[39m\u001b[38;5;124mclass\u001b[39m\u001b[38;5;124m'\u001b[39m: \u001b[38;5;124m'\u001b[39m\u001b[38;5;124mhas_modified_protein\u001b[39m\u001b[38;5;124m'\u001b[39m,\n",
      "                               \u001b[38;5;124m'\u001b[39m\u001b[38;5;124mobject_bel\u001b[39m\u001b[38;5;124m'\u001b[39m: \u001b[38;5;124m'\u001b[39m\u001b[38;5;124mp(HGNC:\u001b[39m\u001b[38;5;124m\"\u001b[39m\u001b[38;5;124mCLU\u001b[39m\u001b[38;5;124m\"\u001b[39m\u001b[38;5;124m,pmod(Ph))\u001b[39m\u001b[38;5;124m'\u001b[39m,\n",
      "                               \u001b[38;5;124m'\u001b[39m\u001b[38;5;124mobject_rid\u001b[39m\u001b[38;5;124m'\u001b[39m: \u001b[38;5;124m'\u001b[39m\u001b[38;5;124m#201:790\u001b[39m\u001b[38;5;124m'\u001b[39m,\n",
      "                               \u001b[38;5;124m'\u001b[39m\u001b[38;5;124msubject_bel\u001b[39m\u001b[38;5;124m'\u001b[39m: \u001b[38;5;124m'\u001b[39m\u001b[38;5;124mp(HGNC:\u001b[39m\u001b[38;5;124m\"\u001b[39m\u001b[38;5;124mCLU\u001b[39m\u001b[38;5;124m\"\u001b[39m\u001b[38;5;124m)\u001b[39m\u001b[38;5;124m'\u001b[39m,\n",
      "                               \u001b[38;5;124m'\u001b[39m\u001b[38;5;124msubject_rid\u001b[39m\u001b[38;5;124m'\u001b[39m: \u001b[38;5;124m'\u001b[39m\u001b[38;5;124m#190:15\u001b[39m\u001b[38;5;124m'\u001b[39m},\n",
      "                  \u001b[38;5;124m'\u001b[39m\u001b[38;5;124m#1805:927\u001b[39m\u001b[38;5;124m'\u001b[39m: {\u001b[38;5;124m'\u001b[39m\u001b[38;5;124mclass\u001b[39m\u001b[38;5;124m'\u001b[39m: \u001b[38;5;124m'\u001b[39m\u001b[38;5;124mhas_ppi_ia\u001b[39m\u001b[38;5;124m'\u001b[39m,\n",
      "                                \u001b[38;5;124m'\u001b[39m\u001b[38;5;124mobject_bel\u001b[39m\u001b[38;5;124m'\u001b[39m: \u001b[38;5;124m'\u001b[39m\u001b[38;5;124mp(HGNC:\u001b[39m\u001b[38;5;124m\"\u001b[39m\u001b[38;5;124mCLU\u001b[39m\u001b[38;5;124m\"\u001b[39m\u001b[38;5;124m)\u001b[39m\u001b[38;5;124m'\u001b[39m,\n",
      "                                \u001b[38;5;124m'\u001b[39m\u001b[38;5;124mobject_rid\u001b[39m\u001b[38;5;124m'\u001b[39m: \u001b[38;5;124m'\u001b[39m\u001b[38;5;124m#190:15\u001b[39m\u001b[38;5;124m'\u001b[39m,\n",
      "                                \u001b[38;5;124m'\u001b[39m\u001b[38;5;124mpmid\u001b[39m\u001b[38;5;124m'\u001b[39m: \u001b[38;5;241m31413325\u001b[39m,\n",
      "                                \u001b[38;5;124m'\u001b[39m\u001b[38;5;124msubject_bel\u001b[39m\u001b[38;5;124m'\u001b[39m: \u001b[38;5;124m'\u001b[39m\u001b[38;5;124mp(HGNC:\u001b[39m\u001b[38;5;124m\"\u001b[39m\u001b[38;5;124mSPARCL1\u001b[39m\u001b[38;5;124m\"\u001b[39m\u001b[38;5;124m)\u001b[39m\u001b[38;5;124m'\u001b[39m,\n",
      "                                \u001b[38;5;124m'\u001b[39m\u001b[38;5;124msubject_rid\u001b[39m\u001b[38;5;124m'\u001b[39m: \u001b[38;5;124m'\u001b[39m\u001b[38;5;124m#187:580\u001b[39m\u001b[38;5;124m'\u001b[39m}},\n",
      " \u001b[38;5;124m'\u001b[39m\u001b[38;5;124munique_nodes\u001b[39m\u001b[38;5;124m'\u001b[39m: {\u001b[38;5;124m'\u001b[39m\u001b[38;5;124m#187:580\u001b[39m\u001b[38;5;124m'\u001b[39m: {\u001b[38;5;124m'\u001b[39m\u001b[38;5;124mbel\u001b[39m\u001b[38;5;124m'\u001b[39m: \u001b[38;5;124m'\u001b[39m\u001b[38;5;124mp(HGNC:\u001b[39m\u001b[38;5;124m\"\u001b[39m\u001b[38;5;124mSPARCL1\u001b[39m\u001b[38;5;124m\"\u001b[39m\u001b[38;5;124m)\u001b[39m\u001b[38;5;124m'\u001b[39m,\n",
      "                               \u001b[38;5;124m'\u001b[39m\u001b[38;5;124mclass\u001b[39m\u001b[38;5;124m'\u001b[39m: \u001b[38;5;124m'\u001b[39m\u001b[38;5;124mprotein\u001b[39m\u001b[38;5;124m'\u001b[39m,\n",
      "                               \u001b[38;5;124m'\u001b[39m\u001b[38;5;124minvolved_genes\u001b[39m\u001b[38;5;124m'\u001b[39m: [\u001b[38;5;124m'\u001b[39m\u001b[38;5;124mSPARCL1\u001b[39m\u001b[38;5;124m'\u001b[39m],\n",
      "                               \u001b[38;5;124m'\u001b[39m\u001b[38;5;124minvolved_other\u001b[39m\u001b[38;5;124m'\u001b[39m: [],\n",
      "                               \u001b[38;5;124m'\u001b[39m\u001b[38;5;124mlabel\u001b[39m\u001b[38;5;124m'\u001b[39m: \u001b[38;5;124m'\u001b[39m\u001b[38;5;124mSPARC like 1\u001b[39m\u001b[38;5;124m'\u001b[39m,\n",
      "                               \u001b[38;5;124m'\u001b[39m\u001b[38;5;124mname\u001b[39m\u001b[38;5;124m'\u001b[39m: \u001b[38;5;124m'\u001b[39m\u001b[38;5;124mSPARCL1\u001b[39m\u001b[38;5;124m'\u001b[39m,\n",
      "                               \u001b[38;5;124m'\u001b[39m\u001b[38;5;124mnamespace\u001b[39m\u001b[38;5;124m'\u001b[39m: \u001b[38;5;124m'\u001b[39m\u001b[38;5;124mHGNC\u001b[39m\u001b[38;5;124m'\u001b[39m,\n",
      "                               \u001b[38;5;124m'\u001b[39m\u001b[38;5;124mpure\u001b[39m\u001b[38;5;124m'\u001b[39m: \u001b[38;5;28;01mTrue\u001b[39;00m,\n",
      "                               \u001b[38;5;124m'\u001b[39m\u001b[38;5;124muniprot\u001b[39m\u001b[38;5;124m'\u001b[39m: \u001b[38;5;124m'\u001b[39m\u001b[38;5;124mQ14515\u001b[39m\u001b[38;5;124m'\u001b[39m},\n",
      "                  \u001b[38;5;124m'\u001b[39m\u001b[38;5;124m#190:15\u001b[39m\u001b[38;5;124m'\u001b[39m: {\u001b[38;5;124m'\u001b[39m\u001b[38;5;124mbel\u001b[39m\u001b[38;5;124m'\u001b[39m: \u001b[38;5;124m'\u001b[39m\u001b[38;5;124mp(HGNC:\u001b[39m\u001b[38;5;124m\"\u001b[39m\u001b[38;5;124mCLU\u001b[39m\u001b[38;5;124m\"\u001b[39m\u001b[38;5;124m)\u001b[39m\u001b[38;5;124m'\u001b[39m,\n",
      "                              \u001b[38;5;124m'\u001b[39m\u001b[38;5;124mclass\u001b[39m\u001b[38;5;124m'\u001b[39m: \u001b[38;5;124m'\u001b[39m\u001b[38;5;124mprotein\u001b[39m\u001b[38;5;124m'\u001b[39m,\n",
      "                              \u001b[38;5;124m'\u001b[39m\u001b[38;5;124minvolved_genes\u001b[39m\u001b[38;5;124m'\u001b[39m: [\u001b[38;5;124m'\u001b[39m\u001b[38;5;124mCLU\u001b[39m\u001b[38;5;124m'\u001b[39m],\n",
      "                              \u001b[38;5;124m'\u001b[39m\u001b[38;5;124minvolved_other\u001b[39m\u001b[38;5;124m'\u001b[39m: [],\n",
      "                              \u001b[38;5;124m'\u001b[39m\u001b[38;5;124mlabel\u001b[39m\u001b[38;5;124m'\u001b[39m: \u001b[38;5;124m'\u001b[39m\u001b[38;5;124mclusterin\u001b[39m\u001b[38;5;124m'\u001b[39m,\n",
      "                              \u001b[38;5;124m'\u001b[39m\u001b[38;5;124mname\u001b[39m\u001b[38;5;124m'\u001b[39m: \u001b[38;5;124m'\u001b[39m\u001b[38;5;124mCLU\u001b[39m\u001b[38;5;124m'\u001b[39m,\n",
      "                              \u001b[38;5;124m'\u001b[39m\u001b[38;5;124mnamespace\u001b[39m\u001b[38;5;124m'\u001b[39m: \u001b[38;5;124m'\u001b[39m\u001b[38;5;124mHGNC\u001b[39m\u001b[38;5;124m'\u001b[39m,\n",
      "                              \u001b[38;5;124m'\u001b[39m\u001b[38;5;124mpure\u001b[39m\u001b[38;5;124m'\u001b[39m: \u001b[38;5;28;01mTrue\u001b[39;00m,\n",
      "                              \u001b[38;5;124m'\u001b[39m\u001b[38;5;124mreactome_pathways\u001b[39m\u001b[38;5;124m'\u001b[39m: [\u001b[38;5;124m'\u001b[39m\u001b[38;5;124mRegulation of Complement \u001b[39m\u001b[38;5;124m'\u001b[39m\n",
      "                                                    \u001b[38;5;124m'\u001b[39m\u001b[38;5;124mcascade\u001b[39m\u001b[38;5;124m'\u001b[39m,\n",
      "                                                    \u001b[38;5;124m'\u001b[39m\u001b[38;5;124mAntimicrobial peptides\u001b[39m\u001b[38;5;124m'\u001b[39m,\n",
      "                                                    \u001b[38;5;124m'\u001b[39m\u001b[38;5;124mPlatelet degranulation\u001b[39m\u001b[38;5;124m'\u001b[39m,\n",
      "                                                    \u001b[38;5;124m'\u001b[39m\u001b[38;5;124mTerminal pathway of \u001b[39m\u001b[38;5;124m'\u001b[39m\n",
      "                                                    \u001b[38;5;124m'\u001b[39m\u001b[38;5;124mcomplement\u001b[39m\u001b[38;5;124m'\u001b[39m],\n",
      "                              \u001b[38;5;124m'\u001b[39m\u001b[38;5;124mspecies\u001b[39m\u001b[38;5;124m'\u001b[39m: \u001b[38;5;241m9606\u001b[39m,\n",
      "                              \u001b[38;5;124m'\u001b[39m\u001b[38;5;124muniprot\u001b[39m\u001b[38;5;124m'\u001b[39m: \u001b[38;5;124m'\u001b[39m\u001b[38;5;124mP10909\u001b[39m\u001b[38;5;124m'\u001b[39m},\n",
      "                  \u001b[38;5;124m'\u001b[39m\u001b[38;5;124m#201:790\u001b[39m\u001b[38;5;124m'\u001b[39m: {\u001b[38;5;124m'\u001b[39m\u001b[38;5;124mbel\u001b[39m\u001b[38;5;124m'\u001b[39m: \u001b[38;5;124m'\u001b[39m\u001b[38;5;124mp(HGNC:\u001b[39m\u001b[38;5;124m\"\u001b[39m\u001b[38;5;124mCLU\u001b[39m\u001b[38;5;124m\"\u001b[39m\u001b[38;5;124m,pmod(Ph))\u001b[39m\u001b[38;5;124m'\u001b[39m,\n",
      "                               \u001b[38;5;124m'\u001b[39m\u001b[38;5;124mclass\u001b[39m\u001b[38;5;124m'\u001b[39m: \u001b[38;5;124m'\u001b[39m\u001b[38;5;124mprotein\u001b[39m\u001b[38;5;124m'\u001b[39m,\n",
      "                               \u001b[38;5;124m'\u001b[39m\u001b[38;5;124minvolved_genes\u001b[39m\u001b[38;5;124m'\u001b[39m: [\u001b[38;5;124m'\u001b[39m\u001b[38;5;124mCLU\u001b[39m\u001b[38;5;124m'\u001b[39m],\n",
      "                               \u001b[38;5;124m'\u001b[39m\u001b[38;5;124minvolved_other\u001b[39m\u001b[38;5;124m'\u001b[39m: [],\n",
      "                               \u001b[38;5;124m'\u001b[39m\u001b[38;5;124mlabel\u001b[39m\u001b[38;5;124m'\u001b[39m: \u001b[38;5;124m'\u001b[39m\u001b[38;5;124mclusterin\u001b[39m\u001b[38;5;124m'\u001b[39m,\n",
      "                               \u001b[38;5;124m'\u001b[39m\u001b[38;5;124mname\u001b[39m\u001b[38;5;124m'\u001b[39m: \u001b[38;5;124m'\u001b[39m\u001b[38;5;124mCLU\u001b[39m\u001b[38;5;124m'\u001b[39m,\n",
      "                               \u001b[38;5;124m'\u001b[39m\u001b[38;5;124mnamespace\u001b[39m\u001b[38;5;124m'\u001b[39m: \u001b[38;5;124m'\u001b[39m\u001b[38;5;124mHGNC\u001b[39m\u001b[38;5;124m'\u001b[39m,\n",
      "                               \u001b[38;5;124m'\u001b[39m\u001b[38;5;124muniprot\u001b[39m\u001b[38;5;124m'\u001b[39m: \u001b[38;5;124m'\u001b[39m\u001b[38;5;124mP10909\u001b[39m\u001b[38;5;124m'\u001b[39m},\n",
      "                  \u001b[38;5;124m'\u001b[39m\u001b[38;5;124m#424:43\u001b[39m\u001b[38;5;124m'\u001b[39m: {\u001b[38;5;124m'\u001b[39m\u001b[38;5;124mbel\u001b[39m\u001b[38;5;124m'\u001b[39m: \u001b[38;5;124m'\u001b[39m\u001b[38;5;124mpmod(Ph)\u001b[39m\u001b[38;5;124m'\u001b[39m,\n",
      "                              \u001b[38;5;124m'\u001b[39m\u001b[38;5;124mclass\u001b[39m\u001b[38;5;124m'\u001b[39m: \u001b[38;5;124m'\u001b[39m\u001b[38;5;124mpmod\u001b[39m\u001b[38;5;124m'\u001b[39m,\n",
      "                              \u001b[38;5;124m'\u001b[39m\u001b[38;5;124mtype\u001b[39m\u001b[38;5;124m'\u001b[39m: \u001b[38;5;124m'\u001b[39m\u001b[38;5;124mpho\u001b[39m\u001b[38;5;124m'\u001b[39m}}}\n",
      "\n",
      "For further testing go to http://0.0.0.0:5000/ui/#/BEL/ebel.web.api.ebel.v1.bel.get_paths\n"
     ]
    },
    {
     "data": {
      "text/html": [
       "<h2>16. Causal pathway search by gene names as DOT graph string</h2>"
      ],
      "text/plain": [
       "<IPython.core.display.HTML object>"
      ]
     },
     "metadata": {},
     "output_type": "display_data"
    },
    {
     "data": {
      "text/html": [
       "<b style=\"color: rgb(98,98,98); text-decoration: underline;\">Description:</b> <p>Method to find all directed paths between genes using BEL or e(BE:L) edges. \n",
       "The search algorithm is an iterative process starting from 1 up to 5 edges.\n",
       "The method returns a DOT string which can be used to visualize the graph.\n",
       "See also the method paths to get objets for paths, unique edge and nodes.</p>"
      ],
      "text/plain": [
       "<IPython.core.display.HTML object>"
      ]
     },
     "metadata": {},
     "output_type": "display_data"
    },
    {
     "data": {
      "text/html": [
       "<b>Tags:</b> ['BEL']"
      ],
      "text/plain": [
       "<IPython.core.display.HTML object>"
      ]
     },
     "metadata": {},
     "output_type": "display_data"
    },
    {
     "data": {
      "text/html": [
       "<b>Server path:</b> /api/v1/bel/paths_as_dot"
      ],
      "text/plain": [
       "<IPython.core.display.HTML object>"
      ]
     },
     "metadata": {},
     "output_type": "display_data"
    },
    {
     "data": {
      "text/html": [
       "<div>\n",
       "<style scoped>\n",
       "    .dataframe tbody tr th:only-of-type {\n",
       "        vertical-align: middle;\n",
       "    }\n",
       "\n",
       "    .dataframe tbody tr th {\n",
       "        vertical-align: top;\n",
       "    }\n",
       "\n",
       "    .dataframe thead th {\n",
       "        text-align: right;\n",
       "    }\n",
       "</style>\n",
       "<table border=\"1\" class=\"dataframe\">\n",
       "  <thead>\n",
       "    <tr style=\"text-align: right;\">\n",
       "      <th></th>\n",
       "      <th>data type</th>\n",
       "      <th>description</th>\n",
       "      <th>example</th>\n",
       "      <th>options</th>\n",
       "      <th>default</th>\n",
       "      <th>required</th>\n",
       "    </tr>\n",
       "    <tr>\n",
       "      <th>parameter name</th>\n",
       "      <th></th>\n",
       "      <th></th>\n",
       "      <th></th>\n",
       "      <th></th>\n",
       "      <th></th>\n",
       "      <th></th>\n",
       "    </tr>\n",
       "  </thead>\n",
       "  <tbody>\n",
       "    <tr>\n",
       "      <th>start_node_class</th>\n",
       "      <td>string</td>\n",
       "      <td>Start node class of a path like protein</td>\n",
       "      <td>protein</td>\n",
       "      <td>[abundance, activity, bel, bio_act, bio_concep...</td>\n",
       "      <td></td>\n",
       "      <td>False</td>\n",
       "    </tr>\n",
       "    <tr>\n",
       "      <th>start_node_namespace</th>\n",
       "      <td>string</td>\n",
       "      <td>Namespace of start node in which a name is valid.</td>\n",
       "      <td></td>\n",
       "      <td></td>\n",
       "      <td></td>\n",
       "      <td>False</td>\n",
       "    </tr>\n",
       "    <tr>\n",
       "      <th>start_node_name</th>\n",
       "      <td>string</td>\n",
       "      <td>Start node name of a path.</td>\n",
       "      <td></td>\n",
       "      <td></td>\n",
       "      <td></td>\n",
       "      <td>False</td>\n",
       "    </tr>\n",
       "    <tr>\n",
       "      <th>connecting_relation</th>\n",
       "      <td>string</td>\n",
       "      <td>Connecting relation types over all edges in th...</td>\n",
       "      <td></td>\n",
       "      <td>[activates__iu, activates_st, acts_in, agonist...</td>\n",
       "      <td></td>\n",
       "      <td>False</td>\n",
       "    </tr>\n",
       "    <tr>\n",
       "      <th>multiple_connecting_relations</th>\n",
       "      <td>string</td>\n",
       "      <td>Multiple connecting relation types seperated b...</td>\n",
       "      <td></td>\n",
       "      <td></td>\n",
       "      <td></td>\n",
       "      <td>False</td>\n",
       "    </tr>\n",
       "    <tr>\n",
       "      <th>connecting_node_class</th>\n",
       "      <td>string</td>\n",
       "      <td>All node classes between start and end.</td>\n",
       "      <td></td>\n",
       "      <td></td>\n",
       "      <td></td>\n",
       "      <td>False</td>\n",
       "    </tr>\n",
       "    <tr>\n",
       "      <th>mesh_term</th>\n",
       "      <td>string</td>\n",
       "      <td>One or several MeSH term(s) seperated by semic...</td>\n",
       "      <td></td>\n",
       "      <td></td>\n",
       "      <td></td>\n",
       "      <td>False</td>\n",
       "    </tr>\n",
       "    <tr>\n",
       "      <th>pmid</th>\n",
       "      <td>string</td>\n",
       "      <td>One or several PubMed Identifier(s) seperated ...</td>\n",
       "      <td></td>\n",
       "      <td></td>\n",
       "      <td></td>\n",
       "      <td>False</td>\n",
       "    </tr>\n",
       "    <tr>\n",
       "      <th>end_node_class</th>\n",
       "      <td>string</td>\n",
       "      <td>End node class of a path like protein</td>\n",
       "      <td></td>\n",
       "      <td>[abundance, activity, bel, bio_act, bio_concep...</td>\n",
       "      <td></td>\n",
       "      <td>False</td>\n",
       "    </tr>\n",
       "    <tr>\n",
       "      <th>end_node_namespace</th>\n",
       "      <td>string</td>\n",
       "      <td>Namespace of end node in which a name is valid.</td>\n",
       "      <td></td>\n",
       "      <td></td>\n",
       "      <td></td>\n",
       "      <td>False</td>\n",
       "    </tr>\n",
       "    <tr>\n",
       "      <th>end_node_name</th>\n",
       "      <td>string</td>\n",
       "      <td>End node name of a path.</td>\n",
       "      <td></td>\n",
       "      <td></td>\n",
       "      <td></td>\n",
       "      <td>False</td>\n",
       "    </tr>\n",
       "    <tr>\n",
       "      <th>only_gene_related_nodes_on_path</th>\n",
       "      <td>boolean</td>\n",
       "      <td>Only gene realted nodes like gene, rna or prot...</td>\n",
       "      <td></td>\n",
       "      <td></td>\n",
       "      <td></td>\n",
       "      <td>False</td>\n",
       "    </tr>\n",
       "    <tr>\n",
       "      <th>min_path_length</th>\n",
       "      <td>number</td>\n",
       "      <td>Minimum path length.</td>\n",
       "      <td>1</td>\n",
       "      <td></td>\n",
       "      <td></td>\n",
       "      <td>False</td>\n",
       "    </tr>\n",
       "    <tr>\n",
       "      <th>max_path_length</th>\n",
       "      <td>number</td>\n",
       "      <td>Maximum path length.</td>\n",
       "      <td>3</td>\n",
       "      <td></td>\n",
       "      <td></td>\n",
       "      <td>False</td>\n",
       "    </tr>\n",
       "    <tr>\n",
       "      <th>limit</th>\n",
       "      <td>number</td>\n",
       "      <td>Limit the number of results per path length.</td>\n",
       "      <td>3</td>\n",
       "      <td></td>\n",
       "      <td></td>\n",
       "      <td>False</td>\n",
       "    </tr>\n",
       "  </tbody>\n",
       "</table>\n",
       "</div>"
      ],
      "text/plain": [
       "                                data type  \\\n",
       "parameter name                              \n",
       "start_node_class                   string   \n",
       "start_node_namespace               string   \n",
       "start_node_name                    string   \n",
       "connecting_relation                string   \n",
       "multiple_connecting_relations      string   \n",
       "connecting_node_class              string   \n",
       "mesh_term                          string   \n",
       "pmid                               string   \n",
       "end_node_class                     string   \n",
       "end_node_namespace                 string   \n",
       "end_node_name                      string   \n",
       "only_gene_related_nodes_on_path   boolean   \n",
       "min_path_length                    number   \n",
       "max_path_length                    number   \n",
       "limit                              number   \n",
       "\n",
       "                                                                       description  \\\n",
       "parameter name                                                                       \n",
       "start_node_class                           Start node class of a path like protein   \n",
       "start_node_namespace             Namespace of start node in which a name is valid.   \n",
       "start_node_name                                         Start node name of a path.   \n",
       "connecting_relation              Connecting relation types over all edges in th...   \n",
       "multiple_connecting_relations    Multiple connecting relation types seperated b...   \n",
       "connecting_node_class                      All node classes between start and end.   \n",
       "mesh_term                        One or several MeSH term(s) seperated by semic...   \n",
       "pmid                             One or several PubMed Identifier(s) seperated ...   \n",
       "end_node_class                               End node class of a path like protein   \n",
       "end_node_namespace                 Namespace of end node in which a name is valid.   \n",
       "end_node_name                                             End node name of a path.   \n",
       "only_gene_related_nodes_on_path  Only gene realted nodes like gene, rna or prot...   \n",
       "min_path_length                                               Minimum path length.   \n",
       "max_path_length                                               Maximum path length.   \n",
       "limit                                 Limit the number of results per path length.   \n",
       "\n",
       "                                 example  \\\n",
       "parameter name                             \n",
       "start_node_class                 protein   \n",
       "start_node_namespace                       \n",
       "start_node_name                            \n",
       "connecting_relation                        \n",
       "multiple_connecting_relations              \n",
       "connecting_node_class                      \n",
       "mesh_term                                  \n",
       "pmid                                       \n",
       "end_node_class                             \n",
       "end_node_namespace                         \n",
       "end_node_name                              \n",
       "only_gene_related_nodes_on_path            \n",
       "min_path_length                        1   \n",
       "max_path_length                        3   \n",
       "limit                                  3   \n",
       "\n",
       "                                                                           options  \\\n",
       "parameter name                                                                       \n",
       "start_node_class                 [abundance, activity, bel, bio_act, bio_concep...   \n",
       "start_node_namespace                                                                 \n",
       "start_node_name                                                                      \n",
       "connecting_relation              [activates__iu, activates_st, acts_in, agonist...   \n",
       "multiple_connecting_relations                                                        \n",
       "connecting_node_class                                                                \n",
       "mesh_term                                                                            \n",
       "pmid                                                                                 \n",
       "end_node_class                   [abundance, activity, bel, bio_act, bio_concep...   \n",
       "end_node_namespace                                                                   \n",
       "end_node_name                                                                        \n",
       "only_gene_related_nodes_on_path                                                      \n",
       "min_path_length                                                                      \n",
       "max_path_length                                                                      \n",
       "limit                                                                                \n",
       "\n",
       "                                default  required  \n",
       "parameter name                                     \n",
       "start_node_class                            False  \n",
       "start_node_namespace                        False  \n",
       "start_node_name                             False  \n",
       "connecting_relation                         False  \n",
       "multiple_connecting_relations               False  \n",
       "connecting_node_class                       False  \n",
       "mesh_term                                   False  \n",
       "pmid                                        False  \n",
       "end_node_class                              False  \n",
       "end_node_namespace                          False  \n",
       "end_node_name                               False  \n",
       "only_gene_related_nodes_on_path             False  \n",
       "min_path_length                             False  \n",
       "max_path_length                             False  \n",
       "limit                                       False  "
      ]
     },
     "metadata": {},
     "output_type": "display_data"
    },
    {
     "data": {
      "text/html": [
       "<b>Example URL:</b> <a href=\"http://0.0.0.0:5000/api/v1/bel/paths_as_dot?start_node_class=protein&min_path_length=1&max_path_length=3&limit=3\">http://0.0.0.0:5000/api/v1/bel/paths_as_dot?start_node_class=protein&min_path_length=1&max_path_length=3&limit=3</a>"
      ],
      "text/plain": [
       "<IPython.core.display.HTML object>"
      ]
     },
     "metadata": {},
     "output_type": "display_data"
    },
    {
     "data": {
      "text/html": [
       "<b style=\"color: rgb(98,98,98); text-decoration: underline;\">Example response:</b>"
      ],
      "text/plain": [
       "<IPython.core.display.HTML object>"
      ]
     },
     "metadata": {},
     "output_type": "display_data"
    },
    {
     "name": "stdout",
     "output_type": "stream",
     "text": [
      "(\u001b[38;5;124m'\u001b[39m\u001b[38;5;124mdigraph \u001b[39m\u001b[38;5;124m{\u001b[39m\u001b[38;5;130;01m\\n\u001b[39;00m\u001b[38;5;124m'\u001b[39m\n",
      " \u001b[38;5;124m'\u001b[39m\u001b[38;5;130;01m\\t\u001b[39;00m\u001b[38;5;124mgraph [fontname=helvetica]\u001b[39m\u001b[38;5;130;01m\\n\u001b[39;00m\u001b[38;5;124m'\u001b[39m\n",
      " \u001b[38;5;124m'\u001b[39m\u001b[38;5;130;01m\\t\u001b[39;00m\u001b[38;5;124mnode [shape=note]\u001b[39m\u001b[38;5;130;01m\\n\u001b[39;00m\u001b[38;5;124m'\u001b[39m\n",
      " \u001b[38;5;124m'\u001b[39m\u001b[38;5;130;01m\\t\u001b[39;00m\u001b[38;5;124mnode [shape=box]\u001b[39m\u001b[38;5;130;01m\\n\u001b[39;00m\u001b[38;5;124m'\u001b[39m\n",
      " \u001b[38;5;124m'\u001b[39m\u001b[38;5;130;01m\\t\u001b[39;00m\u001b[38;5;124mnode [style=filled]\u001b[39m\u001b[38;5;130;01m\\n\u001b[39;00m\u001b[38;5;124m'\u001b[39m\n",
      " \u001b[38;5;124m'\u001b[39m\u001b[38;5;130;01m\\t\u001b[39;00m\u001b[38;5;124mnode [fillcolor=grey]\u001b[39m\u001b[38;5;130;01m\\n\u001b[39;00m\u001b[38;5;124m'\u001b[39m\n",
      " \u001b[38;5;124m'\u001b[39m\u001b[38;5;130;01m\\t\u001b[39;00m\u001b[38;5;124m\"\u001b[39m\u001b[38;5;124m#414.51\u001b[39m\u001b[38;5;124m\"\u001b[39m\u001b[38;5;124m [label=<<FONT POINT-SIZE=\u001b[39m\u001b[38;5;124m\"\u001b[39m\u001b[38;5;124m10\u001b[39m\u001b[38;5;124m\"\u001b[39m\u001b[38;5;124m>pmod</FONT><BR/><FONT \u001b[39m\u001b[38;5;124m'\u001b[39m\n",
      " \u001b[38;5;124m'\u001b[39m\u001b[38;5;124mPOINT-SIZE=\u001b[39m\u001b[38;5;124m\"\u001b[39m\u001b[38;5;124m16\u001b[39m\u001b[38;5;124m\"\u001b[39m\u001b[38;5;124m>; ubi; </FONT>>]\u001b[39m\u001b[38;5;130;01m\\n\u001b[39;00m\u001b[38;5;124m'\u001b[39m\n",
      " \u001b[38;5;124m'\u001b[39m\u001b[38;5;130;01m\\t\u001b[39;00m\u001b[38;5;124mnode [fillcolor=lightblue1]\u001b[39m\u001b[38;5;130;01m\\n\u001b[39;00m\u001b[38;5;124m'\u001b[39m\n",
      " \u001b[38;5;124m'\u001b[39m\u001b[38;5;130;01m\\t\u001b[39;00m\u001b[38;5;124m\"\u001b[39m\u001b[38;5;124m#187.580\u001b[39m\u001b[38;5;124m\"\u001b[39m\u001b[38;5;124m [label=<<FONT POINT-SIZE=\u001b[39m\u001b[38;5;124m\"\u001b[39m\u001b[38;5;124m10\u001b[39m\u001b[38;5;124m\"\u001b[39m\u001b[38;5;124m>protein</FONT><BR/><FONT \u001b[39m\u001b[38;5;124m'\u001b[39m\n",
      " \u001b[38;5;124m'\u001b[39m\u001b[38;5;124mPOINT-SIZE=\u001b[39m\u001b[38;5;124m\"\u001b[39m\u001b[38;5;124m16\u001b[39m\u001b[38;5;124m\"\u001b[39m\u001b[38;5;124m>SPARCL1</FONT><BR/><FONT \u001b[39m\u001b[38;5;124m'\u001b[39m\n",
      " \u001b[38;5;124m'\u001b[39m\u001b[38;5;124mPOINT-SIZE=\u001b[39m\u001b[38;5;124m\"\u001b[39m\u001b[38;5;124m6\u001b[39m\u001b[38;5;124m\"\u001b[39m\u001b[38;5;124m>p(HGNC:\u001b[39m\u001b[38;5;124m\"\u001b[39m\u001b[38;5;124mSPARCL1\u001b[39m\u001b[38;5;124m\"\u001b[39m\u001b[38;5;124m)</FONT>>]\u001b[39m\u001b[38;5;130;01m\\n\u001b[39;00m\u001b[38;5;124m'\u001b[39m\n",
      " \u001b[38;5;124m'\u001b[39m\u001b[38;5;130;01m\\t\u001b[39;00m\u001b[38;5;124mnode [fillcolor=lightblue1]\u001b[39m\u001b[38;5;130;01m\\n\u001b[39;00m\u001b[38;5;124m'\u001b[39m\n",
      " \u001b[38;5;124m'\u001b[39m\u001b[38;5;130;01m\\t\u001b[39;00m\u001b[38;5;124m\"\u001b[39m\u001b[38;5;124m#200.34\u001b[39m\u001b[38;5;124m\"\u001b[39m\u001b[38;5;124m [label=<<FONT POINT-SIZE=\u001b[39m\u001b[38;5;124m\"\u001b[39m\u001b[38;5;124m10\u001b[39m\u001b[38;5;124m\"\u001b[39m\u001b[38;5;124m>protein</FONT><BR/><FONT \u001b[39m\u001b[38;5;124m'\u001b[39m\n",
      " \u001b[38;5;124m'\u001b[39m\u001b[38;5;124mPOINT-SIZE=\u001b[39m\u001b[38;5;124m\"\u001b[39m\u001b[38;5;124m16\u001b[39m\u001b[38;5;124m\"\u001b[39m\u001b[38;5;124m>TRAF6</FONT><BR/><FONT \u001b[39m\u001b[38;5;124m'\u001b[39m\n",
      " \u001b[38;5;124m'\u001b[39m\u001b[38;5;124mPOINT-SIZE=\u001b[39m\u001b[38;5;124m\"\u001b[39m\u001b[38;5;124m6\u001b[39m\u001b[38;5;124m\"\u001b[39m\u001b[38;5;124m>p(HGNC:\u001b[39m\u001b[38;5;124m\"\u001b[39m\u001b[38;5;124mTRAF6\u001b[39m\u001b[38;5;124m\"\u001b[39m\u001b[38;5;124m)</FONT>>]\u001b[39m\u001b[38;5;130;01m\\n\u001b[39;00m\u001b[38;5;124m'\u001b[39m\n",
      " \u001b[38;5;124m'\u001b[39m\u001b[38;5;130;01m\\t\u001b[39;00m\u001b[38;5;124mnode [fillcolor=lightblue1]\u001b[39m\u001b[38;5;130;01m\\n\u001b[39;00m\u001b[38;5;124m'\u001b[39m\n",
      " \u001b[38;5;124m'\u001b[39m\u001b[38;5;130;01m\\t\u001b[39;00m\u001b[38;5;124m\"\u001b[39m\u001b[38;5;124m#192.759\u001b[39m\u001b[38;5;124m\"\u001b[39m\u001b[38;5;124m [label=<<FONT POINT-SIZE=\u001b[39m\u001b[38;5;124m\"\u001b[39m\u001b[38;5;124m10\u001b[39m\u001b[38;5;124m\"\u001b[39m\u001b[38;5;124m>protein</FONT><BR/><FONT \u001b[39m\u001b[38;5;124m'\u001b[39m\n",
      " \u001b[38;5;124m'\u001b[39m\u001b[38;5;124mPOINT-SIZE=\u001b[39m\u001b[38;5;124m\"\u001b[39m\u001b[38;5;124m16\u001b[39m\u001b[38;5;124m\"\u001b[39m\u001b[38;5;124m>CASP3</FONT><BR/><FONT \u001b[39m\u001b[38;5;124m'\u001b[39m\n",
      " \u001b[38;5;124m'\u001b[39m\u001b[38;5;124mPOINT-SIZE=\u001b[39m\u001b[38;5;124m\"\u001b[39m\u001b[38;5;124m6\u001b[39m\u001b[38;5;124m\"\u001b[39m\u001b[38;5;124m>p(HGNC:\u001b[39m\u001b[38;5;124m\"\u001b[39m\u001b[38;5;124mCASP3\u001b[39m\u001b[38;5;124m\"\u001b[39m\u001b[38;5;124m,pmod(Ub))</FONT>>]\u001b[39m\u001b[38;5;130;01m\\n\u001b[39;00m\u001b[38;5;124m'\u001b[39m\n",
      " \u001b[38;5;124m'\u001b[39m\u001b[38;5;130;01m\\t\u001b[39;00m\u001b[38;5;124mnode [fillcolor=lightblue1]\u001b[39m\u001b[38;5;130;01m\\n\u001b[39;00m\u001b[38;5;124m'\u001b[39m\n",
      " \u001b[38;5;124m'\u001b[39m\u001b[38;5;130;01m\\t\u001b[39;00m\u001b[38;5;124m\"\u001b[39m\u001b[38;5;124m#201.3\u001b[39m\u001b[38;5;124m\"\u001b[39m\u001b[38;5;124m [label=<<FONT POINT-SIZE=\u001b[39m\u001b[38;5;124m\"\u001b[39m\u001b[38;5;124m10\u001b[39m\u001b[38;5;124m\"\u001b[39m\u001b[38;5;124m>protein</FONT><BR/><FONT \u001b[39m\u001b[38;5;124m'\u001b[39m\n",
      " \u001b[38;5;124m'\u001b[39m\u001b[38;5;124mPOINT-SIZE=\u001b[39m\u001b[38;5;124m\"\u001b[39m\u001b[38;5;124m16\u001b[39m\u001b[38;5;124m\"\u001b[39m\u001b[38;5;124m>CASP3</FONT><BR/><FONT \u001b[39m\u001b[38;5;124m'\u001b[39m\n",
      " \u001b[38;5;124m'\u001b[39m\u001b[38;5;124mPOINT-SIZE=\u001b[39m\u001b[38;5;124m\"\u001b[39m\u001b[38;5;124m6\u001b[39m\u001b[38;5;124m\"\u001b[39m\u001b[38;5;124m>p(HGNC:\u001b[39m\u001b[38;5;124m\"\u001b[39m\u001b[38;5;124mCASP3\u001b[39m\u001b[38;5;124m\"\u001b[39m\u001b[38;5;124m)</FONT>>]\u001b[39m\u001b[38;5;130;01m\\n\u001b[39;00m\u001b[38;5;124m'\u001b[39m\n",
      " \u001b[38;5;124m'\u001b[39m\u001b[38;5;130;01m\\t\u001b[39;00m\u001b[38;5;124mnode [fillcolor=lightblue1]\u001b[39m\u001b[38;5;130;01m\\n\u001b[39;00m\u001b[38;5;124m'\u001b[39m\n",
      " \u001b[38;5;124m'\u001b[39m\u001b[38;5;130;01m\\t\u001b[39;00m\u001b[38;5;124m\"\u001b[39m\u001b[38;5;124m#190.799\u001b[39m\u001b[38;5;124m\"\u001b[39m\u001b[38;5;124m [label=<<FONT POINT-SIZE=\u001b[39m\u001b[38;5;124m\"\u001b[39m\u001b[38;5;124m10\u001b[39m\u001b[38;5;124m\"\u001b[39m\u001b[38;5;124m>protein</FONT><BR/><FONT \u001b[39m\u001b[38;5;124m'\u001b[39m\n",
      " \u001b[38;5;124m'\u001b[39m\u001b[38;5;124mPOINT-SIZE=\u001b[39m\u001b[38;5;124m\"\u001b[39m\u001b[38;5;124m16\u001b[39m\u001b[38;5;124m\"\u001b[39m\u001b[38;5;124m>CLU</FONT><BR/><FONT \u001b[39m\u001b[38;5;124m'\u001b[39m\n",
      " \u001b[38;5;124m'\u001b[39m\u001b[38;5;124mPOINT-SIZE=\u001b[39m\u001b[38;5;124m\"\u001b[39m\u001b[38;5;124m6\u001b[39m\u001b[38;5;124m\"\u001b[39m\u001b[38;5;124m>p(HGNC:\u001b[39m\u001b[38;5;124m\"\u001b[39m\u001b[38;5;124mCLU\u001b[39m\u001b[38;5;124m\"\u001b[39m\u001b[38;5;124m,pmod(Ub))</FONT>>]\u001b[39m\u001b[38;5;130;01m\\n\u001b[39;00m\u001b[38;5;124m'\u001b[39m\n",
      " \u001b[38;5;124m'\u001b[39m\u001b[38;5;130;01m\\t\u001b[39;00m\u001b[38;5;124mnode [fillcolor=grey]\u001b[39m\u001b[38;5;130;01m\\n\u001b[39;00m\u001b[38;5;124m'\u001b[39m\n",
      " \u001b[38;5;124m'\u001b[39m\u001b[38;5;130;01m\\t\u001b[39;00m\u001b[38;5;124m\"\u001b[39m\u001b[38;5;124m#424.43\u001b[39m\u001b[38;5;124m\"\u001b[39m\u001b[38;5;124m [label=<<FONT POINT-SIZE=\u001b[39m\u001b[38;5;124m\"\u001b[39m\u001b[38;5;124m10\u001b[39m\u001b[38;5;124m\"\u001b[39m\u001b[38;5;124m>pmod</FONT><BR/><FONT \u001b[39m\u001b[38;5;124m'\u001b[39m\n",
      " \u001b[38;5;124m'\u001b[39m\u001b[38;5;124mPOINT-SIZE=\u001b[39m\u001b[38;5;124m\"\u001b[39m\u001b[38;5;124m16\u001b[39m\u001b[38;5;124m\"\u001b[39m\u001b[38;5;124m>; pho; </FONT>>]\u001b[39m\u001b[38;5;130;01m\\n\u001b[39;00m\u001b[38;5;124m'\u001b[39m\n",
      " \u001b[38;5;124m'\u001b[39m\u001b[38;5;130;01m\\t\u001b[39;00m\u001b[38;5;124mnode [fillcolor=lightblue1]\u001b[39m\u001b[38;5;130;01m\\n\u001b[39;00m\u001b[38;5;124m'\u001b[39m\n",
      " \u001b[38;5;124m'\u001b[39m\u001b[38;5;130;01m\\t\u001b[39;00m\u001b[38;5;124m\"\u001b[39m\u001b[38;5;124m#190.261\u001b[39m\u001b[38;5;124m\"\u001b[39m\u001b[38;5;124m [label=<<FONT POINT-SIZE=\u001b[39m\u001b[38;5;124m\"\u001b[39m\u001b[38;5;124m10\u001b[39m\u001b[38;5;124m\"\u001b[39m\u001b[38;5;124m>protein</FONT><BR/><FONT \u001b[39m\u001b[38;5;124m'\u001b[39m\n",
      " \u001b[38;5;124m'\u001b[39m\u001b[38;5;124mPOINT-SIZE=\u001b[39m\u001b[38;5;124m\"\u001b[39m\u001b[38;5;124m16\u001b[39m\u001b[38;5;124m\"\u001b[39m\u001b[38;5;124m>EIF2S1</FONT><BR/><FONT \u001b[39m\u001b[38;5;124m'\u001b[39m\n",
      " \u001b[38;5;124m'\u001b[39m\u001b[38;5;124mPOINT-SIZE=\u001b[39m\u001b[38;5;124m\"\u001b[39m\u001b[38;5;124m6\u001b[39m\u001b[38;5;124m\"\u001b[39m\u001b[38;5;124m>p(HGNC:\u001b[39m\u001b[38;5;124m\"\u001b[39m\u001b[38;5;124mEIF2S1\u001b[39m\u001b[38;5;124m\"\u001b[39m\u001b[38;5;124m)</FONT>>]\u001b[39m\u001b[38;5;130;01m\\n\u001b[39;00m\u001b[38;5;124m'\u001b[39m\n",
      " \u001b[38;5;124m'\u001b[39m\u001b[38;5;130;01m\\t\u001b[39;00m\u001b[38;5;124mnode [fillcolor=lightblue1]\u001b[39m\u001b[38;5;130;01m\\n\u001b[39;00m\u001b[38;5;124m'\u001b[39m\n",
      " \u001b[38;5;124m'\u001b[39m\u001b[38;5;130;01m\\t\u001b[39;00m\u001b[38;5;124m\"\u001b[39m\u001b[38;5;124m#201.790\u001b[39m\u001b[38;5;124m\"\u001b[39m\u001b[38;5;124m [label=<<FONT POINT-SIZE=\u001b[39m\u001b[38;5;124m\"\u001b[39m\u001b[38;5;124m10\u001b[39m\u001b[38;5;124m\"\u001b[39m\u001b[38;5;124m>protein</FONT><BR/><FONT \u001b[39m\u001b[38;5;124m'\u001b[39m\n",
      " \u001b[38;5;124m'\u001b[39m\u001b[38;5;124mPOINT-SIZE=\u001b[39m\u001b[38;5;124m\"\u001b[39m\u001b[38;5;124m16\u001b[39m\u001b[38;5;124m\"\u001b[39m\u001b[38;5;124m>CLU</FONT><BR/><FONT \u001b[39m\u001b[38;5;124m'\u001b[39m\n",
      " \u001b[38;5;124m'\u001b[39m\u001b[38;5;124mPOINT-SIZE=\u001b[39m\u001b[38;5;124m\"\u001b[39m\u001b[38;5;124m6\u001b[39m\u001b[38;5;124m\"\u001b[39m\u001b[38;5;124m>p(HGNC:\u001b[39m\u001b[38;5;124m\"\u001b[39m\u001b[38;5;124mCLU\u001b[39m\u001b[38;5;124m\"\u001b[39m\u001b[38;5;124m,pmod(Ph))</FONT>>]\u001b[39m\u001b[38;5;130;01m\\n\u001b[39;00m\u001b[38;5;124m'\u001b[39m\n",
      " \u001b[38;5;124m'\u001b[39m\u001b[38;5;130;01m\\t\u001b[39;00m\u001b[38;5;124mnode [fillcolor=lightblue1]\u001b[39m\u001b[38;5;130;01m\\n\u001b[39;00m\u001b[38;5;124m'\u001b[39m\n",
      " \u001b[38;5;124m'\u001b[39m\u001b[38;5;130;01m\\t\u001b[39;00m\u001b[38;5;124m\"\u001b[39m\u001b[38;5;124m#190.15\u001b[39m\u001b[38;5;124m\"\u001b[39m\u001b[38;5;124m [label=<<FONT POINT-SIZE=\u001b[39m\u001b[38;5;124m\"\u001b[39m\u001b[38;5;124m10\u001b[39m\u001b[38;5;124m\"\u001b[39m\u001b[38;5;124m>protein</FONT><BR/><FONT \u001b[39m\u001b[38;5;124m'\u001b[39m\n",
      " \u001b[38;5;124m'\u001b[39m\u001b[38;5;124mPOINT-SIZE=\u001b[39m\u001b[38;5;124m\"\u001b[39m\u001b[38;5;124m16\u001b[39m\u001b[38;5;124m\"\u001b[39m\u001b[38;5;124m>CLU</FONT><BR/><FONT POINT-SIZE=\u001b[39m\u001b[38;5;124m\"\u001b[39m\u001b[38;5;124m6\u001b[39m\u001b[38;5;124m\"\u001b[39m\u001b[38;5;124m>p(HGNC:\u001b[39m\u001b[38;5;124m\"\u001b[39m\u001b[38;5;124mCLU\u001b[39m\u001b[38;5;124m\"\u001b[39m\u001b[38;5;124m)</FONT>>]\u001b[39m\u001b[38;5;130;01m\\n\u001b[39;00m\u001b[38;5;124m'\u001b[39m\n",
      " \u001b[38;5;124m'\u001b[39m\u001b[38;5;130;01m\\t\u001b[39;00m\u001b[38;5;124mnode [fillcolor=lightblue1]\u001b[39m\u001b[38;5;130;01m\\n\u001b[39;00m\u001b[38;5;124m'\u001b[39m\n",
      " \u001b[38;5;124m'\u001b[39m\u001b[38;5;130;01m\\t\u001b[39;00m\u001b[38;5;124m\"\u001b[39m\u001b[38;5;124m#197.16\u001b[39m\u001b[38;5;124m\"\u001b[39m\u001b[38;5;124m [label=<<FONT POINT-SIZE=\u001b[39m\u001b[38;5;124m\"\u001b[39m\u001b[38;5;124m10\u001b[39m\u001b[38;5;124m\"\u001b[39m\u001b[38;5;124m>protein</FONT><BR/><FONT \u001b[39m\u001b[38;5;124m'\u001b[39m\n",
      " \u001b[38;5;124m'\u001b[39m\u001b[38;5;124mPOINT-SIZE=\u001b[39m\u001b[38;5;124m\"\u001b[39m\u001b[38;5;124m16\u001b[39m\u001b[38;5;124m\"\u001b[39m\u001b[38;5;124m>BECN1</FONT><BR/><FONT \u001b[39m\u001b[38;5;124m'\u001b[39m\n",
      " \u001b[38;5;124m'\u001b[39m\u001b[38;5;124mPOINT-SIZE=\u001b[39m\u001b[38;5;124m\"\u001b[39m\u001b[38;5;124m6\u001b[39m\u001b[38;5;124m\"\u001b[39m\u001b[38;5;124m>p(HGNC:\u001b[39m\u001b[38;5;124m\"\u001b[39m\u001b[38;5;124mBECN1\u001b[39m\u001b[38;5;124m\"\u001b[39m\u001b[38;5;124m)</FONT>>]\u001b[39m\u001b[38;5;130;01m\\n\u001b[39;00m\u001b[38;5;124m'\u001b[39m\n",
      " \u001b[38;5;124m'\u001b[39m\u001b[38;5;130;01m\\t\u001b[39;00m\u001b[38;5;124medge [color=grey]\u001b[39m\u001b[38;5;130;01m\\n\u001b[39;00m\u001b[38;5;124m'\u001b[39m\n",
      " \u001b[38;5;124m'\u001b[39m\u001b[38;5;130;01m\\t\u001b[39;00m\u001b[38;5;124m\"\u001b[39m\u001b[38;5;124m#190.15\u001b[39m\u001b[38;5;124m\"\u001b[39m\u001b[38;5;124m -> \u001b[39m\u001b[38;5;124m\"\u001b[39m\u001b[38;5;124m#201.790\u001b[39m\u001b[38;5;124m\"\u001b[39m\u001b[38;5;124m [label=<<FONT POINT-SIZE=\u001b[39m\u001b[38;5;124m\"\u001b[39m\u001b[38;5;124m8\u001b[39m\u001b[38;5;124m\"\u001b[39m\u001b[38;5;124m>has_modified_protein \u001b[39m\u001b[38;5;124m'\u001b[39m\n",
      " \u001b[38;5;124m'\u001b[39m\u001b[38;5;124m[1]</FONT>>]\u001b[39m\u001b[38;5;130;01m\\n\u001b[39;00m\u001b[38;5;124m'\u001b[39m\n",
      " \u001b[38;5;124m'\u001b[39m\u001b[38;5;130;01m\\t\u001b[39;00m\u001b[38;5;124medge [color=grey]\u001b[39m\u001b[38;5;130;01m\\n\u001b[39;00m\u001b[38;5;124m'\u001b[39m\n",
      " \u001b[38;5;124m'\u001b[39m\u001b[38;5;130;01m\\t\u001b[39;00m\u001b[38;5;124m\"\u001b[39m\u001b[38;5;124m#201.790\u001b[39m\u001b[38;5;124m\"\u001b[39m\u001b[38;5;124m -> \u001b[39m\u001b[38;5;124m\"\u001b[39m\u001b[38;5;124m#424.43\u001b[39m\u001b[38;5;124m\"\u001b[39m\u001b[38;5;124m [label=<<FONT POINT-SIZE=\u001b[39m\u001b[38;5;124m\"\u001b[39m\u001b[38;5;124m8\u001b[39m\u001b[38;5;124m\"\u001b[39m\u001b[38;5;124m>has__pmod \u001b[39m\u001b[38;5;124m'\u001b[39m\n",
      " \u001b[38;5;124m'\u001b[39m\u001b[38;5;124m[1]</FONT>>]\u001b[39m\u001b[38;5;130;01m\\n\u001b[39;00m\u001b[38;5;124m'\u001b[39m\n",
      " \u001b[38;5;124m'\u001b[39m\u001b[38;5;130;01m\\t\u001b[39;00m\u001b[38;5;124medge [color=grey]\u001b[39m\u001b[38;5;130;01m\\n\u001b[39;00m\u001b[38;5;124m'\u001b[39m\n",
      " \u001b[38;5;124m'\u001b[39m\u001b[38;5;130;01m\\t\u001b[39;00m\u001b[38;5;124m\"\u001b[39m\u001b[38;5;124m#190.15\u001b[39m\u001b[38;5;124m\"\u001b[39m\u001b[38;5;124m -> \u001b[39m\u001b[38;5;124m\"\u001b[39m\u001b[38;5;124m#190.799\u001b[39m\u001b[38;5;124m\"\u001b[39m\u001b[38;5;124m [label=<<FONT POINT-SIZE=\u001b[39m\u001b[38;5;124m\"\u001b[39m\u001b[38;5;124m8\u001b[39m\u001b[38;5;124m\"\u001b[39m\u001b[38;5;124m>has_modified_protein \u001b[39m\u001b[38;5;124m'\u001b[39m\n",
      " \u001b[38;5;124m'\u001b[39m\u001b[38;5;124m[1]</FONT>>]\u001b[39m\u001b[38;5;130;01m\\n\u001b[39;00m\u001b[38;5;124m'\u001b[39m\n",
      " \u001b[38;5;124m'\u001b[39m\u001b[38;5;130;01m\\t\u001b[39;00m\u001b[38;5;124medge [color=grey]\u001b[39m\u001b[38;5;130;01m\\n\u001b[39;00m\u001b[38;5;124m'\u001b[39m\n",
      " \u001b[38;5;124m'\u001b[39m\u001b[38;5;130;01m\\t\u001b[39;00m\u001b[38;5;124m\"\u001b[39m\u001b[38;5;124m#190.261\u001b[39m\u001b[38;5;124m\"\u001b[39m\u001b[38;5;124m -> \u001b[39m\u001b[38;5;124m\"\u001b[39m\u001b[38;5;124m#200.34\u001b[39m\u001b[38;5;124m\"\u001b[39m\u001b[38;5;124m [label=<<FONT POINT-SIZE=\u001b[39m\u001b[38;5;124m\"\u001b[39m\u001b[38;5;124m8\u001b[39m\u001b[38;5;124m\"\u001b[39m\u001b[38;5;124m>has_ppi_ia \u001b[39m\u001b[38;5;124m'\u001b[39m\n",
      " \u001b[38;5;124m'\u001b[39m\u001b[38;5;124m[1]</FONT>>]\u001b[39m\u001b[38;5;130;01m\\n\u001b[39;00m\u001b[38;5;124m'\u001b[39m\n",
      " \u001b[38;5;124m'\u001b[39m\u001b[38;5;130;01m\\t\u001b[39;00m\u001b[38;5;124medge [color=grey]\u001b[39m\u001b[38;5;130;01m\\n\u001b[39;00m\u001b[38;5;124m'\u001b[39m\n",
      " \u001b[38;5;124m'\u001b[39m\u001b[38;5;130;01m\\t\u001b[39;00m\u001b[38;5;124m\"\u001b[39m\u001b[38;5;124m#187.580\u001b[39m\u001b[38;5;124m\"\u001b[39m\u001b[38;5;124m -> \u001b[39m\u001b[38;5;124m\"\u001b[39m\u001b[38;5;124m#190.15\u001b[39m\u001b[38;5;124m\"\u001b[39m\u001b[38;5;124m [label=<<FONT POINT-SIZE=\u001b[39m\u001b[38;5;124m\"\u001b[39m\u001b[38;5;124m8\u001b[39m\u001b[38;5;124m\"\u001b[39m\u001b[38;5;124m>has_ppi_ia \u001b[39m\u001b[38;5;124m'\u001b[39m\n",
      " \u001b[38;5;124m'\u001b[39m\u001b[38;5;124m[1]</FONT>>]\u001b[39m\u001b[38;5;130;01m\\n\u001b[39;00m\u001b[38;5;124m'\u001b[39m\n",
      " \u001b[38;5;124m'\u001b[39m\u001b[38;5;130;01m\\t\u001b[39;00m\u001b[38;5;124medge [color=grey]\u001b[39m\u001b[38;5;130;01m\\n\u001b[39;00m\u001b[38;5;124m'\u001b[39m\n",
      " \u001b[38;5;124m'\u001b[39m\u001b[38;5;130;01m\\t\u001b[39;00m\u001b[38;5;124m\"\u001b[39m\u001b[38;5;124m#190.799\u001b[39m\u001b[38;5;124m\"\u001b[39m\u001b[38;5;124m -> \u001b[39m\u001b[38;5;124m\"\u001b[39m\u001b[38;5;124m#414.51\u001b[39m\u001b[38;5;124m\"\u001b[39m\u001b[38;5;124m [label=<<FONT POINT-SIZE=\u001b[39m\u001b[38;5;124m\"\u001b[39m\u001b[38;5;124m8\u001b[39m\u001b[38;5;124m\"\u001b[39m\u001b[38;5;124m>has__pmod \u001b[39m\u001b[38;5;124m'\u001b[39m\n",
      " \u001b[38;5;124m'\u001b[39m\u001b[38;5;124m[1]</FONT>>]\u001b[39m\u001b[38;5;130;01m\\n\u001b[39;00m\u001b[38;5;124m'\u001b[39m\n",
      " \u001b[38;5;124m'\u001b[39m\u001b[38;5;130;01m\\t\u001b[39;00m\u001b[38;5;124medge [color=grey]\u001b[39m\u001b[38;5;130;01m\\n\u001b[39;00m\u001b[38;5;124m'\u001b[39m\n",
      " \u001b[38;5;124m'\u001b[39m\u001b[38;5;130;01m\\t\u001b[39;00m\u001b[38;5;124m\"\u001b[39m\u001b[38;5;124m#201.3\u001b[39m\u001b[38;5;124m\"\u001b[39m\u001b[38;5;124m -> \u001b[39m\u001b[38;5;124m\"\u001b[39m\u001b[38;5;124m#192.759\u001b[39m\u001b[38;5;124m\"\u001b[39m\u001b[38;5;124m [label=<<FONT POINT-SIZE=\u001b[39m\u001b[38;5;124m\"\u001b[39m\u001b[38;5;124m8\u001b[39m\u001b[38;5;124m\"\u001b[39m\u001b[38;5;124m>has_modified_protein \u001b[39m\u001b[38;5;124m'\u001b[39m\n",
      " \u001b[38;5;124m'\u001b[39m\u001b[38;5;124m[1]</FONT>>]\u001b[39m\u001b[38;5;130;01m\\n\u001b[39;00m\u001b[38;5;124m'\u001b[39m\n",
      " \u001b[38;5;124m'\u001b[39m\u001b[38;5;130;01m\\t\u001b[39;00m\u001b[38;5;124medge [color=grey]\u001b[39m\u001b[38;5;130;01m\\n\u001b[39;00m\u001b[38;5;124m'\u001b[39m\n",
      " \u001b[38;5;124m'\u001b[39m\u001b[38;5;130;01m\\t\u001b[39;00m\u001b[38;5;124m\"\u001b[39m\u001b[38;5;124m#190.15\u001b[39m\u001b[38;5;124m\"\u001b[39m\u001b[38;5;124m -> \u001b[39m\u001b[38;5;124m\"\u001b[39m\u001b[38;5;124m#201.3\u001b[39m\u001b[38;5;124m\"\u001b[39m\u001b[38;5;124m [label=<<FONT \u001b[39m\u001b[38;5;124m'\u001b[39m\n",
      " \u001b[38;5;124m'\u001b[39m\u001b[38;5;124mPOINT-SIZE=\u001b[39m\u001b[38;5;124m\"\u001b[39m\u001b[38;5;124m8\u001b[39m\u001b[38;5;124m\"\u001b[39m\u001b[38;5;124m>controls_expression_of_pc [1]</FONT>>]\u001b[39m\u001b[38;5;130;01m\\n\u001b[39;00m\u001b[38;5;124m'\u001b[39m\n",
      " \u001b[38;5;124m'\u001b[39m\u001b[38;5;130;01m\\t\u001b[39;00m\u001b[38;5;124medge [color=grey]\u001b[39m\u001b[38;5;130;01m\\n\u001b[39;00m\u001b[38;5;124m'\u001b[39m\n",
      " \u001b[38;5;124m'\u001b[39m\u001b[38;5;130;01m\\t\u001b[39;00m\u001b[38;5;124m\"\u001b[39m\u001b[38;5;124m#190.261\u001b[39m\u001b[38;5;124m\"\u001b[39m\u001b[38;5;124m -> \u001b[39m\u001b[38;5;124m\"\u001b[39m\u001b[38;5;124m#197.16\u001b[39m\u001b[38;5;124m\"\u001b[39m\u001b[38;5;124m [label=<<FONT \u001b[39m\u001b[38;5;124m'\u001b[39m\n",
      " \u001b[38;5;124m'\u001b[39m\u001b[38;5;124mPOINT-SIZE=\u001b[39m\u001b[38;5;124m\"\u001b[39m\u001b[38;5;124m8\u001b[39m\u001b[38;5;124m\"\u001b[39m\u001b[38;5;124m>controls_expression_of_pc [1]</FONT>>]\u001b[39m\u001b[38;5;130;01m\\n\u001b[39;00m\u001b[38;5;124m'\u001b[39m\n",
      " \u001b[38;5;124m'\u001b[39m\u001b[38;5;124m}\u001b[39m\u001b[38;5;124m'\u001b[39m)\n",
      "\n",
      "For further testing go to http://0.0.0.0:5000/ui/#/BEL/ebel.web.api.ebel.v1.bel.get_paths_as_dot\n"
     ]
    },
    {
     "data": {
      "text/html": [
       "<h2>17. Get paths by BELish</h2>"
      ],
      "text/plain": [
       "<IPython.core.display.HTML object>"
      ]
     },
     "metadata": {},
     "output_type": "display_data"
    },
    {
     "data": {
      "text/html": [
       "<b style=\"color: rgb(98,98,98); text-decoration: underline;\">Description:</b> <p>Get paths by BELish</p>"
      ],
      "text/plain": [
       "<IPython.core.display.HTML object>"
      ]
     },
     "metadata": {},
     "output_type": "display_data"
    },
    {
     "data": {
      "text/html": [
       "<b>Tags:</b> ['BEL', 'e(BE:L)']"
      ],
      "text/plain": [
       "<IPython.core.display.HTML object>"
      ]
     },
     "metadata": {},
     "output_type": "display_data"
    },
    {
     "data": {
      "text/html": [
       "<b>Server path:</b> /api/v1/bel/paths_by_belish"
      ],
      "text/plain": [
       "<IPython.core.display.HTML object>"
      ]
     },
     "metadata": {},
     "output_type": "display_data"
    },
    {
     "data": {
      "text/html": [
       "<div>\n",
       "<style scoped>\n",
       "    .dataframe tbody tr th:only-of-type {\n",
       "        vertical-align: middle;\n",
       "    }\n",
       "\n",
       "    .dataframe tbody tr th {\n",
       "        vertical-align: top;\n",
       "    }\n",
       "\n",
       "    .dataframe thead th {\n",
       "        text-align: right;\n",
       "    }\n",
       "</style>\n",
       "<table border=\"1\" class=\"dataframe\">\n",
       "  <thead>\n",
       "    <tr style=\"text-align: right;\">\n",
       "      <th></th>\n",
       "      <th>data type</th>\n",
       "      <th>description</th>\n",
       "      <th>example</th>\n",
       "      <th>options</th>\n",
       "      <th>default</th>\n",
       "      <th>required</th>\n",
       "    </tr>\n",
       "    <tr>\n",
       "      <th>parameter name</th>\n",
       "      <th></th>\n",
       "      <th></th>\n",
       "      <th></th>\n",
       "      <th></th>\n",
       "      <th></th>\n",
       "      <th></th>\n",
       "    </tr>\n",
       "  </thead>\n",
       "  <tbody>\n",
       "    <tr>\n",
       "      <th>belish</th>\n",
       "      <td>string</td>\n",
       "      <td></td>\n",
       "      <td>p(HGNC:\"%\") -increases-&gt; p(%) &lt;-decreases- p(H...</td>\n",
       "      <td></td>\n",
       "      <td></td>\n",
       "      <td>True</td>\n",
       "    </tr>\n",
       "    <tr>\n",
       "      <th>limit</th>\n",
       "      <td>integer</td>\n",
       "      <td></td>\n",
       "      <td>1</td>\n",
       "      <td></td>\n",
       "      <td>30.0</td>\n",
       "      <td>False</td>\n",
       "    </tr>\n",
       "  </tbody>\n",
       "</table>\n",
       "</div>"
      ],
      "text/plain": [
       "               data type description  \\\n",
       "parameter name                         \n",
       "belish            string               \n",
       "limit            integer               \n",
       "\n",
       "                                                          example options  \\\n",
       "parameter name                                                              \n",
       "belish          p(HGNC:\"%\") -increases-> p(%) <-decreases- p(H...           \n",
       "limit                                                           1           \n",
       "\n",
       "               default  required  \n",
       "parameter name                    \n",
       "belish                      True  \n",
       "limit             30.0     False  "
      ]
     },
     "metadata": {},
     "output_type": "display_data"
    },
    {
     "data": {
      "text/html": [
       "<b>Example URL:</b> <a href=\"http://0.0.0.0:5000/api/v1/bel/paths_by_belish?belish=p%28HGNC%3A%22%25%22%29+-increases-%3E+p%28%25%29+%3C-decreases-+p%28HGNC%3A%22%25%22%29&limit=1\">http://0.0.0.0:5000/api/v1/bel/paths_by_belish?belish=p%28HGNC%3A%22%25%22%29+-increases-%3E+p%28%25%29+%3C-decreases-+p%28HGNC%3A%22%25%22%29&limit=1</a>"
      ],
      "text/plain": [
       "<IPython.core.display.HTML object>"
      ]
     },
     "metadata": {},
     "output_type": "display_data"
    },
    {
     "data": {
      "text/html": [
       "<b style=\"color: rgb(98,98,98); text-decoration: underline;\">Example response:</b>"
      ],
      "text/plain": [
       "<IPython.core.display.HTML object>"
      ]
     },
     "metadata": {},
     "output_type": "display_data"
    },
    {
     "name": "stdout",
     "output_type": "stream",
     "text": [
      "{\u001b[38;5;124m'\u001b[39m\u001b[38;5;124medge_paths_by_length\u001b[39m\u001b[38;5;124m'\u001b[39m: {\u001b[38;5;124m'\u001b[39m\u001b[38;5;124m2\u001b[39m\u001b[38;5;124m'\u001b[39m: [[\u001b[38;5;124m'\u001b[39m\u001b[38;5;124m#569:1\u001b[39m\u001b[38;5;124m'\u001b[39m, \u001b[38;5;124m'\u001b[39m\u001b[38;5;124m#595:0\u001b[39m\u001b[38;5;124m'\u001b[39m]]},\n",
      " \u001b[38;5;124m'\u001b[39m\u001b[38;5;124munique_edges\u001b[39m\u001b[38;5;124m'\u001b[39m: {\u001b[38;5;124m'\u001b[39m\u001b[38;5;124m#569:1\u001b[39m\u001b[38;5;124m'\u001b[39m: {\u001b[38;5;124m'\u001b[39m\u001b[38;5;124mannotation\u001b[39m\u001b[38;5;124m'\u001b[39m: [\u001b[38;5;124m'\u001b[39m\u001b[38;5;124mAnimals\u001b[39m\u001b[38;5;124m'\u001b[39m,\n",
      "                                            \u001b[38;5;124m'\u001b[39m\u001b[38;5;124mBiomarkers\u001b[39m\u001b[38;5;124m'\u001b[39m,\n",
      "                                            \u001b[38;5;124m'\u001b[39m\u001b[38;5;124mDisease Models, Animal\u001b[39m\u001b[38;5;124m'\u001b[39m,\n",
      "                                            \u001b[38;5;124m'\u001b[39m\u001b[38;5;124mDisease Progression\u001b[39m\u001b[38;5;124m'\u001b[39m,\n",
      "                                            \u001b[38;5;124m'\u001b[39m\u001b[38;5;124mHumans\u001b[39m\u001b[38;5;124m'\u001b[39m,\n",
      "                                            \u001b[38;5;124m'\u001b[39m\u001b[38;5;124mMembrane Glycoproteins\u001b[39m\u001b[38;5;124m'\u001b[39m,\n",
      "                                            \u001b[38;5;124m'\u001b[39m\u001b[38;5;124mMicroglia\u001b[39m\u001b[38;5;124m'\u001b[39m,\n",
      "                                            \u001b[38;5;124m'\u001b[39m\u001b[38;5;124mNeurodegenerative Diseases\u001b[39m\u001b[38;5;124m'\u001b[39m,\n",
      "                                            \u001b[38;5;124m'\u001b[39m\u001b[38;5;124mReceptors, Immunologic\u001b[39m\u001b[38;5;124m'\u001b[39m],\n",
      "                             \u001b[38;5;124m'\u001b[39m\u001b[38;5;124mcitation\u001b[39m\u001b[38;5;124m'\u001b[39m: {\u001b[38;5;124m'\u001b[39m\u001b[38;5;124mauthor_list\u001b[39m\u001b[38;5;124m'\u001b[39m: [\u001b[38;5;124m'\u001b[39m\u001b[38;5;124mJay TR\u001b[39m\u001b[38;5;124m'\u001b[39m,\n",
      "                                                          \u001b[38;5;124m'\u001b[39m\u001b[38;5;124mvon Saucken VE\u001b[39m\u001b[38;5;124m'\u001b[39m,\n",
      "                                                          \u001b[38;5;124m'\u001b[39m\u001b[38;5;124mLandreth GE\u001b[39m\u001b[38;5;124m'\u001b[39m],\n",
      "                                          \u001b[38;5;124m'\u001b[39m\u001b[38;5;124mdoi\u001b[39m\u001b[38;5;124m'\u001b[39m: \u001b[38;5;124m'\u001b[39m\u001b[38;5;124m10.1186/s13024-017-0197-5\u001b[39m\u001b[38;5;124m'\u001b[39m,\n",
      "                                          \u001b[38;5;124m'\u001b[39m\u001b[38;5;124mfull_journal_name\u001b[39m\u001b[38;5;124m'\u001b[39m: \u001b[38;5;124m'\u001b[39m\u001b[38;5;124mMolecular \u001b[39m\u001b[38;5;124m'\u001b[39m\n",
      "                                                               \u001b[38;5;124m'\u001b[39m\u001b[38;5;124mneurodegeneration\u001b[39m\u001b[38;5;124m'\u001b[39m,\n",
      "                                          \u001b[38;5;124m'\u001b[39m\u001b[38;5;124mlast_author\u001b[39m\u001b[38;5;124m'\u001b[39m: \u001b[38;5;124m'\u001b[39m\u001b[38;5;124mLandreth GE\u001b[39m\u001b[38;5;124m'\u001b[39m,\n",
      "                                          \u001b[38;5;124m'\u001b[39m\u001b[38;5;124mpub_date\u001b[39m\u001b[38;5;124m'\u001b[39m: \u001b[38;5;124m'\u001b[39m\u001b[38;5;124m2018-06-12\u001b[39m\u001b[38;5;124m'\u001b[39m,\n",
      "                                          \u001b[38;5;124m'\u001b[39m\u001b[38;5;124mpub_year\u001b[39m\u001b[38;5;124m'\u001b[39m: \u001b[38;5;241m2018\u001b[39m,\n",
      "                                          \u001b[38;5;124m'\u001b[39m\u001b[38;5;124mref\u001b[39m\u001b[38;5;124m'\u001b[39m: \u001b[38;5;124m'\u001b[39m\u001b[38;5;124m28768545\u001b[39m\u001b[38;5;124m'\u001b[39m,\n",
      "                                          \u001b[38;5;124m'\u001b[39m\u001b[38;5;124mtitle\u001b[39m\u001b[38;5;124m'\u001b[39m: \u001b[38;5;124m'\u001b[39m\u001b[38;5;124mTREM2 in Neurodegenerative \u001b[39m\u001b[38;5;124m'\u001b[39m\n",
      "                                                   \u001b[38;5;124m'\u001b[39m\u001b[38;5;124mDiseases.\u001b[39m\u001b[38;5;124m'\u001b[39m,\n",
      "                                          \u001b[38;5;124m'\u001b[39m\u001b[38;5;124mtype\u001b[39m\u001b[38;5;124m'\u001b[39m: \u001b[38;5;124m'\u001b[39m\u001b[38;5;124mPubMed\u001b[39m\u001b[38;5;124m'\u001b[39m},\n",
      "                             \u001b[38;5;124m'\u001b[39m\u001b[38;5;124mclass\u001b[39m\u001b[38;5;124m'\u001b[39m: \u001b[38;5;124m'\u001b[39m\u001b[38;5;124mincreases\u001b[39m\u001b[38;5;124m'\u001b[39m,\n",
      "                             \u001b[38;5;124m'\u001b[39m\u001b[38;5;124mevidence\u001b[39m\u001b[38;5;124m'\u001b[39m: \u001b[38;5;124m'\u001b[39m\u001b[38;5;124mIn vitro, application of classically \u001b[39m\u001b[38;5;124m'\u001b[39m\n",
      "                                         \u001b[38;5;124m'\u001b[39m\u001b[38;5;124mpro-inflammatory molecules (TNFalpha \u001b[39m\u001b[38;5;124m'\u001b[39m\n",
      "                                         \u001b[38;5;124m'\u001b[39m\u001b[38;5;124m[117, 136], IL1beta [107, 136, 166], \u001b[39m\u001b[38;5;124m'\u001b[39m\n",
      "                                         \u001b[38;5;124m'\u001b[39m\u001b[38;5;124mROS [166, 167], IFNGamma[168], TLR \u001b[39m\u001b[38;5;124m'\u001b[39m\n",
      "                                         \u001b[38;5;124m'\u001b[39m\u001b[38;5;124magonists, including \u001b[39m\u001b[38;5;124m'\u001b[39m\n",
      "                                         \u001b[38;5;124m'\u001b[39m\u001b[38;5;124mlipopolysaccharide LPS) [106, 114, \u001b[39m\u001b[38;5;124m'\u001b[39m\n",
      "                                         \u001b[38;5;124m'\u001b[39m\u001b[38;5;124m135, 136, 167‚Äì170], CpGs [171] and \u001b[39m\u001b[38;5;124m'\u001b[39m\n",
      "                                         \u001b[38;5;124m'\u001b[39m\u001b[38;5;124mother TLR ligands [114, 127, 138, \u001b[39m\u001b[38;5;124m'\u001b[39m\n",
      "                                         \u001b[38;5;124m'\u001b[39m\u001b[38;5;124m150], mitochondrial lysates [172] \u001b[39m\u001b[38;5;124m'\u001b[39m\n",
      "                                         \u001b[38;5;124m'\u001b[39m\u001b[38;5;124mand bacteria [173]) decreased TREM2 \u001b[39m\u001b[38;5;124m'\u001b[39m\n",
      "                                         \u001b[38;5;124m'\u001b[39m\u001b[38;5;124mexpression, while anti-inflammatory \u001b[39m\u001b[38;5;124m'\u001b[39m\n",
      "                                         \u001b[38;5;124m'\u001b[39m\u001b[38;5;124mmolecules (vasoactive intestinal \u001b[39m\u001b[38;5;124m'\u001b[39m\n",
      "                                         \u001b[38;5;124m'\u001b[39m\u001b[38;5;124mpeptide [174] and IL4 [168]) \u001b[39m\u001b[38;5;124m'\u001b[39m\n",
      "                                         \u001b[38;5;124m'\u001b[39m\u001b[38;5;124mincreased TREM2 expression.\u001b[39m\u001b[38;5;124m'\u001b[39m,\n",
      "                             \u001b[38;5;124m'\u001b[39m\u001b[38;5;124mobject_bel\u001b[39m\u001b[38;5;124m'\u001b[39m: \u001b[38;5;124m'\u001b[39m\u001b[38;5;124mp(HGNC:\u001b[39m\u001b[38;5;124m\"\u001b[39m\u001b[38;5;124mTREM2\u001b[39m\u001b[38;5;124m\"\u001b[39m\u001b[38;5;124m)\u001b[39m\u001b[38;5;124m'\u001b[39m,\n",
      "                             \u001b[38;5;124m'\u001b[39m\u001b[38;5;124mobject_rid\u001b[39m\u001b[38;5;124m'\u001b[39m: \u001b[38;5;124m'\u001b[39m\u001b[38;5;124m#195:0\u001b[39m\u001b[38;5;124m'\u001b[39m,\n",
      "                             \u001b[38;5;124m'\u001b[39m\u001b[38;5;124mpmid\u001b[39m\u001b[38;5;124m'\u001b[39m: \u001b[38;5;241m28768545\u001b[39m,\n",
      "                             \u001b[38;5;124m'\u001b[39m\u001b[38;5;124msubject_bel\u001b[39m\u001b[38;5;124m'\u001b[39m: \u001b[38;5;124m'\u001b[39m\u001b[38;5;124mp(HGNC:\u001b[39m\u001b[38;5;124m\"\u001b[39m\u001b[38;5;124mVIP\u001b[39m\u001b[38;5;124m\"\u001b[39m\u001b[38;5;124m)\u001b[39m\u001b[38;5;124m'\u001b[39m,\n",
      "                             \u001b[38;5;124m'\u001b[39m\u001b[38;5;124msubject_rid\u001b[39m\u001b[38;5;124m'\u001b[39m: \u001b[38;5;124m'\u001b[39m\u001b[38;5;124m#186:3\u001b[39m\u001b[38;5;124m'\u001b[39m},\n",
      "                  \u001b[38;5;124m'\u001b[39m\u001b[38;5;124m#595:0\u001b[39m\u001b[38;5;124m'\u001b[39m: {\u001b[38;5;124m'\u001b[39m\u001b[38;5;124mannotation\u001b[39m\u001b[38;5;124m'\u001b[39m: [\u001b[38;5;124m'\u001b[39m\u001b[38;5;124mAnimals\u001b[39m\u001b[38;5;124m'\u001b[39m,\n",
      "                                            \u001b[38;5;124m'\u001b[39m\u001b[38;5;124mBiomarkers\u001b[39m\u001b[38;5;124m'\u001b[39m,\n",
      "                                            \u001b[38;5;124m'\u001b[39m\u001b[38;5;124mDisease Models, Animal\u001b[39m\u001b[38;5;124m'\u001b[39m,\n",
      "                                            \u001b[38;5;124m'\u001b[39m\u001b[38;5;124mDisease Progression\u001b[39m\u001b[38;5;124m'\u001b[39m,\n",
      "                                            \u001b[38;5;124m'\u001b[39m\u001b[38;5;124mHumans\u001b[39m\u001b[38;5;124m'\u001b[39m,\n",
      "                                            \u001b[38;5;124m'\u001b[39m\u001b[38;5;124mMembrane Glycoproteins\u001b[39m\u001b[38;5;124m'\u001b[39m,\n",
      "                                            \u001b[38;5;124m'\u001b[39m\u001b[38;5;124mMicroglia\u001b[39m\u001b[38;5;124m'\u001b[39m,\n",
      "                                            \u001b[38;5;124m'\u001b[39m\u001b[38;5;124mNeurodegenerative Diseases\u001b[39m\u001b[38;5;124m'\u001b[39m,\n",
      "                                            \u001b[38;5;124m'\u001b[39m\u001b[38;5;124mReceptors, Immunologic\u001b[39m\u001b[38;5;124m'\u001b[39m],\n",
      "                             \u001b[38;5;124m'\u001b[39m\u001b[38;5;124mcitation\u001b[39m\u001b[38;5;124m'\u001b[39m: {\u001b[38;5;124m'\u001b[39m\u001b[38;5;124mauthor_list\u001b[39m\u001b[38;5;124m'\u001b[39m: [\u001b[38;5;124m'\u001b[39m\u001b[38;5;124mJay TR\u001b[39m\u001b[38;5;124m'\u001b[39m,\n",
      "                                                          \u001b[38;5;124m'\u001b[39m\u001b[38;5;124mvon Saucken VE\u001b[39m\u001b[38;5;124m'\u001b[39m,\n",
      "                                                          \u001b[38;5;124m'\u001b[39m\u001b[38;5;124mLandreth GE\u001b[39m\u001b[38;5;124m'\u001b[39m],\n",
      "                                          \u001b[38;5;124m'\u001b[39m\u001b[38;5;124mdoi\u001b[39m\u001b[38;5;124m'\u001b[39m: \u001b[38;5;124m'\u001b[39m\u001b[38;5;124m10.1186/s13024-017-0197-5\u001b[39m\u001b[38;5;124m'\u001b[39m,\n",
      "                                          \u001b[38;5;124m'\u001b[39m\u001b[38;5;124mfull_journal_name\u001b[39m\u001b[38;5;124m'\u001b[39m: \u001b[38;5;124m'\u001b[39m\u001b[38;5;124mMolecular \u001b[39m\u001b[38;5;124m'\u001b[39m\n",
      "                                                               \u001b[38;5;124m'\u001b[39m\u001b[38;5;124mneurodegeneration\u001b[39m\u001b[38;5;124m'\u001b[39m,\n",
      "                                          \u001b[38;5;124m'\u001b[39m\u001b[38;5;124mlast_author\u001b[39m\u001b[38;5;124m'\u001b[39m: \u001b[38;5;124m'\u001b[39m\u001b[38;5;124mLandreth GE\u001b[39m\u001b[38;5;124m'\u001b[39m,\n",
      "                                          \u001b[38;5;124m'\u001b[39m\u001b[38;5;124mpub_date\u001b[39m\u001b[38;5;124m'\u001b[39m: \u001b[38;5;124m'\u001b[39m\u001b[38;5;124m2018-06-12\u001b[39m\u001b[38;5;124m'\u001b[39m,\n",
      "                                          \u001b[38;5;124m'\u001b[39m\u001b[38;5;124mpub_year\u001b[39m\u001b[38;5;124m'\u001b[39m: \u001b[38;5;241m2018\u001b[39m,\n",
      "                                          \u001b[38;5;124m'\u001b[39m\u001b[38;5;124mref\u001b[39m\u001b[38;5;124m'\u001b[39m: \u001b[38;5;124m'\u001b[39m\u001b[38;5;124m28768545\u001b[39m\u001b[38;5;124m'\u001b[39m,\n",
      "                                          \u001b[38;5;124m'\u001b[39m\u001b[38;5;124mtitle\u001b[39m\u001b[38;5;124m'\u001b[39m: \u001b[38;5;124m'\u001b[39m\u001b[38;5;124mTREM2 in Neurodegenerative \u001b[39m\u001b[38;5;124m'\u001b[39m\n",
      "                                                   \u001b[38;5;124m'\u001b[39m\u001b[38;5;124mDiseases.\u001b[39m\u001b[38;5;124m'\u001b[39m,\n",
      "                                          \u001b[38;5;124m'\u001b[39m\u001b[38;5;124mtype\u001b[39m\u001b[38;5;124m'\u001b[39m: \u001b[38;5;124m'\u001b[39m\u001b[38;5;124mPubMed\u001b[39m\u001b[38;5;124m'\u001b[39m},\n",
      "                             \u001b[38;5;124m'\u001b[39m\u001b[38;5;124mclass\u001b[39m\u001b[38;5;124m'\u001b[39m: \u001b[38;5;124m'\u001b[39m\u001b[38;5;124mdecreases\u001b[39m\u001b[38;5;124m'\u001b[39m,\n",
      "                             \u001b[38;5;124m'\u001b[39m\u001b[38;5;124mevidence\u001b[39m\u001b[38;5;124m'\u001b[39m: \u001b[38;5;124m'\u001b[39m\u001b[38;5;124mIn vitro, application of classically \u001b[39m\u001b[38;5;124m'\u001b[39m\n",
      "                                         \u001b[38;5;124m'\u001b[39m\u001b[38;5;124mpro-inflammatory molecules (TNFalpha \u001b[39m\u001b[38;5;124m'\u001b[39m\n",
      "                                         \u001b[38;5;124m'\u001b[39m\u001b[38;5;124m[117, 136], IL1beta [107, 136, 166], \u001b[39m\u001b[38;5;124m'\u001b[39m\n",
      "                                         \u001b[38;5;124m'\u001b[39m\u001b[38;5;124mROS [166, 167], IFNGamma[168], TLR \u001b[39m\u001b[38;5;124m'\u001b[39m\n",
      "                                         \u001b[38;5;124m'\u001b[39m\u001b[38;5;124magonists, including \u001b[39m\u001b[38;5;124m'\u001b[39m\n",
      "                                         \u001b[38;5;124m'\u001b[39m\u001b[38;5;124mlipopolysaccharide LPS) [106, 114, \u001b[39m\u001b[38;5;124m'\u001b[39m\n",
      "                                         \u001b[38;5;124m'\u001b[39m\u001b[38;5;124m135, 136, 167‚Äì170], CpGs [171] and \u001b[39m\u001b[38;5;124m'\u001b[39m\n",
      "                                         \u001b[38;5;124m'\u001b[39m\u001b[38;5;124mother TLR ligands [114, 127, 138, \u001b[39m\u001b[38;5;124m'\u001b[39m\n",
      "                                         \u001b[38;5;124m'\u001b[39m\u001b[38;5;124m150], mitochondrial lysates [172] \u001b[39m\u001b[38;5;124m'\u001b[39m\n",
      "                                         \u001b[38;5;124m'\u001b[39m\u001b[38;5;124mand bacteria [173]) decreased TREM2 \u001b[39m\u001b[38;5;124m'\u001b[39m\n",
      "                                         \u001b[38;5;124m'\u001b[39m\u001b[38;5;124mexpression, while anti-inflammatory \u001b[39m\u001b[38;5;124m'\u001b[39m\n",
      "                                         \u001b[38;5;124m'\u001b[39m\u001b[38;5;124mmolecules (vasoactive intestinal \u001b[39m\u001b[38;5;124m'\u001b[39m\n",
      "                                         \u001b[38;5;124m'\u001b[39m\u001b[38;5;124mpeptide [174] and IL4 [168]) \u001b[39m\u001b[38;5;124m'\u001b[39m\n",
      "                                         \u001b[38;5;124m'\u001b[39m\u001b[38;5;124mincreased TREM2 expression.\u001b[39m\u001b[38;5;124m'\u001b[39m,\n",
      "                             \u001b[38;5;124m'\u001b[39m\u001b[38;5;124mobject_bel\u001b[39m\u001b[38;5;124m'\u001b[39m: \u001b[38;5;124m'\u001b[39m\u001b[38;5;124mp(HGNC:\u001b[39m\u001b[38;5;124m\"\u001b[39m\u001b[38;5;124mTREM2\u001b[39m\u001b[38;5;124m\"\u001b[39m\u001b[38;5;124m)\u001b[39m\u001b[38;5;124m'\u001b[39m,\n",
      "                             \u001b[38;5;124m'\u001b[39m\u001b[38;5;124mobject_rid\u001b[39m\u001b[38;5;124m'\u001b[39m: \u001b[38;5;124m'\u001b[39m\u001b[38;5;124m#195:0\u001b[39m\u001b[38;5;124m'\u001b[39m,\n",
      "                             \u001b[38;5;124m'\u001b[39m\u001b[38;5;124mpmid\u001b[39m\u001b[38;5;124m'\u001b[39m: \u001b[38;5;241m28768545\u001b[39m,\n",
      "                             \u001b[38;5;124m'\u001b[39m\u001b[38;5;124msubject_bel\u001b[39m\u001b[38;5;124m'\u001b[39m: \u001b[38;5;124m'\u001b[39m\u001b[38;5;124mp(HGNC:\u001b[39m\u001b[38;5;124m\"\u001b[39m\u001b[38;5;124mTNF\u001b[39m\u001b[38;5;124m\"\u001b[39m\u001b[38;5;124m)\u001b[39m\u001b[38;5;124m'\u001b[39m,\n",
      "                             \u001b[38;5;124m'\u001b[39m\u001b[38;5;124msubject_rid\u001b[39m\u001b[38;5;124m'\u001b[39m: \u001b[38;5;124m'\u001b[39m\u001b[38;5;124m#197:2\u001b[39m\u001b[38;5;124m'\u001b[39m}},\n",
      " \u001b[38;5;124m'\u001b[39m\u001b[38;5;124munique_nodes\u001b[39m\u001b[38;5;124m'\u001b[39m: {\u001b[38;5;124m'\u001b[39m\u001b[38;5;124m#186:3\u001b[39m\u001b[38;5;124m'\u001b[39m: {\u001b[38;5;124m'\u001b[39m\u001b[38;5;124mbel\u001b[39m\u001b[38;5;124m'\u001b[39m: \u001b[38;5;124m'\u001b[39m\u001b[38;5;124mp(HGNC:\u001b[39m\u001b[38;5;124m\"\u001b[39m\u001b[38;5;124mVIP\u001b[39m\u001b[38;5;124m\"\u001b[39m\u001b[38;5;124m)\u001b[39m\u001b[38;5;124m'\u001b[39m,\n",
      "                             \u001b[38;5;124m'\u001b[39m\u001b[38;5;124mclass\u001b[39m\u001b[38;5;124m'\u001b[39m: \u001b[38;5;124m'\u001b[39m\u001b[38;5;124mprotein\u001b[39m\u001b[38;5;124m'\u001b[39m,\n",
      "                             \u001b[38;5;124m'\u001b[39m\u001b[38;5;124minvolved_genes\u001b[39m\u001b[38;5;124m'\u001b[39m: [\u001b[38;5;124m'\u001b[39m\u001b[38;5;124mVIP\u001b[39m\u001b[38;5;124m'\u001b[39m],\n",
      "                             \u001b[38;5;124m'\u001b[39m\u001b[38;5;124minvolved_other\u001b[39m\u001b[38;5;124m'\u001b[39m: [],\n",
      "                             \u001b[38;5;124m'\u001b[39m\u001b[38;5;124mlabel\u001b[39m\u001b[38;5;124m'\u001b[39m: \u001b[38;5;124m'\u001b[39m\u001b[38;5;124mVIP peptides\u001b[39m\u001b[38;5;124m'\u001b[39m,\n",
      "                             \u001b[38;5;124m'\u001b[39m\u001b[38;5;124mname\u001b[39m\u001b[38;5;124m'\u001b[39m: \u001b[38;5;124m'\u001b[39m\u001b[38;5;124mVIP\u001b[39m\u001b[38;5;124m'\u001b[39m,\n",
      "                             \u001b[38;5;124m'\u001b[39m\u001b[38;5;124mnamespace\u001b[39m\u001b[38;5;124m'\u001b[39m: \u001b[38;5;124m'\u001b[39m\u001b[38;5;124mHGNC\u001b[39m\u001b[38;5;124m'\u001b[39m,\n",
      "                             \u001b[38;5;124m'\u001b[39m\u001b[38;5;124mpure\u001b[39m\u001b[38;5;124m'\u001b[39m: \u001b[38;5;28;01mTrue\u001b[39;00m,\n",
      "                             \u001b[38;5;124m'\u001b[39m\u001b[38;5;124mreactome_pathways\u001b[39m\u001b[38;5;124m'\u001b[39m: [\u001b[38;5;124m'\u001b[39m\u001b[38;5;124mG alpha (s) signalling \u001b[39m\u001b[38;5;124m'\u001b[39m\n",
      "                                                   \u001b[38;5;124m'\u001b[39m\u001b[38;5;124mevents\u001b[39m\u001b[38;5;124m'\u001b[39m,\n",
      "                                                   \u001b[38;5;124m'\u001b[39m\u001b[38;5;124mGlucagon-type ligand \u001b[39m\u001b[38;5;124m'\u001b[39m\n",
      "                                                   \u001b[38;5;124m'\u001b[39m\u001b[38;5;124mreceptors\u001b[39m\u001b[38;5;124m'\u001b[39m,\n",
      "                                                   \u001b[38;5;124m'\u001b[39m\u001b[38;5;124mADORA2B mediated \u001b[39m\u001b[38;5;124m'\u001b[39m\n",
      "                                                   \u001b[38;5;124m'\u001b[39m\u001b[38;5;124manti-inflammatory \u001b[39m\u001b[38;5;124m'\u001b[39m\n",
      "                                                   \u001b[38;5;124m'\u001b[39m\u001b[38;5;124mcytokines production\u001b[39m\u001b[38;5;124m'\u001b[39m],\n",
      "                             \u001b[38;5;124m'\u001b[39m\u001b[38;5;124mspecies\u001b[39m\u001b[38;5;124m'\u001b[39m: \u001b[38;5;241m9606\u001b[39m,\n",
      "                             \u001b[38;5;124m'\u001b[39m\u001b[38;5;124muniprot\u001b[39m\u001b[38;5;124m'\u001b[39m: \u001b[38;5;124m'\u001b[39m\u001b[38;5;124mP01282\u001b[39m\u001b[38;5;124m'\u001b[39m},\n",
      "                  \u001b[38;5;124m'\u001b[39m\u001b[38;5;124m#195:0\u001b[39m\u001b[38;5;124m'\u001b[39m: {\u001b[38;5;124m'\u001b[39m\u001b[38;5;124mbel\u001b[39m\u001b[38;5;124m'\u001b[39m: \u001b[38;5;124m'\u001b[39m\u001b[38;5;124mp(HGNC:\u001b[39m\u001b[38;5;124m\"\u001b[39m\u001b[38;5;124mTREM2\u001b[39m\u001b[38;5;124m\"\u001b[39m\u001b[38;5;124m)\u001b[39m\u001b[38;5;124m'\u001b[39m,\n",
      "                             \u001b[38;5;124m'\u001b[39m\u001b[38;5;124mclass\u001b[39m\u001b[38;5;124m'\u001b[39m: \u001b[38;5;124m'\u001b[39m\u001b[38;5;124mprotein\u001b[39m\u001b[38;5;124m'\u001b[39m,\n",
      "                             \u001b[38;5;124m'\u001b[39m\u001b[38;5;124minvolved_genes\u001b[39m\u001b[38;5;124m'\u001b[39m: [\u001b[38;5;124m'\u001b[39m\u001b[38;5;124mTREM2\u001b[39m\u001b[38;5;124m'\u001b[39m],\n",
      "                             \u001b[38;5;124m'\u001b[39m\u001b[38;5;124minvolved_other\u001b[39m\u001b[38;5;124m'\u001b[39m: [],\n",
      "                             \u001b[38;5;124m'\u001b[39m\u001b[38;5;124mlabel\u001b[39m\u001b[38;5;124m'\u001b[39m: \u001b[38;5;124m'\u001b[39m\u001b[38;5;124mTriggering receptor expressed on \u001b[39m\u001b[38;5;124m'\u001b[39m\n",
      "                                      \u001b[38;5;124m'\u001b[39m\u001b[38;5;124mmyeloid cells 2\u001b[39m\u001b[38;5;124m'\u001b[39m,\n",
      "                             \u001b[38;5;124m'\u001b[39m\u001b[38;5;124mname\u001b[39m\u001b[38;5;124m'\u001b[39m: \u001b[38;5;124m'\u001b[39m\u001b[38;5;124mTREM2\u001b[39m\u001b[38;5;124m'\u001b[39m,\n",
      "                             \u001b[38;5;124m'\u001b[39m\u001b[38;5;124mnamespace\u001b[39m\u001b[38;5;124m'\u001b[39m: \u001b[38;5;124m'\u001b[39m\u001b[38;5;124mHGNC\u001b[39m\u001b[38;5;124m'\u001b[39m,\n",
      "                             \u001b[38;5;124m'\u001b[39m\u001b[38;5;124mpure\u001b[39m\u001b[38;5;124m'\u001b[39m: \u001b[38;5;28;01mTrue\u001b[39;00m,\n",
      "                             \u001b[38;5;124m'\u001b[39m\u001b[38;5;124mreactome_pathways\u001b[39m\u001b[38;5;124m'\u001b[39m: [\u001b[38;5;124m'\u001b[39m\u001b[38;5;124mDAP12 signaling\u001b[39m\u001b[38;5;124m'\u001b[39m,\n",
      "                                                   \u001b[38;5;124m'\u001b[39m\u001b[38;5;124mImmunoregulatory \u001b[39m\u001b[38;5;124m'\u001b[39m\n",
      "                                                   \u001b[38;5;124m'\u001b[39m\u001b[38;5;124minteractions between a \u001b[39m\u001b[38;5;124m'\u001b[39m\n",
      "                                                   \u001b[38;5;124m'\u001b[39m\u001b[38;5;124mLymphoid and a \u001b[39m\u001b[38;5;124m'\u001b[39m\n",
      "                                                   \u001b[38;5;124m'\u001b[39m\u001b[38;5;124mnon-Lymphoid cell\u001b[39m\u001b[38;5;124m'\u001b[39m,\n",
      "                                                   \u001b[38;5;124m'\u001b[39m\u001b[38;5;124mOther semaphorin \u001b[39m\u001b[38;5;124m'\u001b[39m\n",
      "                                                   \u001b[38;5;124m'\u001b[39m\u001b[38;5;124minteractions\u001b[39m\u001b[38;5;124m'\u001b[39m,\n",
      "                                                   \u001b[38;5;124m'\u001b[39m\u001b[38;5;124mDAP12 interactions\u001b[39m\u001b[38;5;124m'\u001b[39m],\n",
      "                             \u001b[38;5;124m'\u001b[39m\u001b[38;5;124mspecies\u001b[39m\u001b[38;5;124m'\u001b[39m: \u001b[38;5;241m9606\u001b[39m,\n",
      "                             \u001b[38;5;124m'\u001b[39m\u001b[38;5;124muniprot\u001b[39m\u001b[38;5;124m'\u001b[39m: \u001b[38;5;124m'\u001b[39m\u001b[38;5;124mQ9NZC2\u001b[39m\u001b[38;5;124m'\u001b[39m},\n",
      "                  \u001b[38;5;124m'\u001b[39m\u001b[38;5;124m#197:2\u001b[39m\u001b[38;5;124m'\u001b[39m: {\u001b[38;5;124m'\u001b[39m\u001b[38;5;124mbel\u001b[39m\u001b[38;5;124m'\u001b[39m: \u001b[38;5;124m'\u001b[39m\u001b[38;5;124mp(HGNC:\u001b[39m\u001b[38;5;124m\"\u001b[39m\u001b[38;5;124mTNF\u001b[39m\u001b[38;5;124m\"\u001b[39m\u001b[38;5;124m)\u001b[39m\u001b[38;5;124m'\u001b[39m,\n",
      "                             \u001b[38;5;124m'\u001b[39m\u001b[38;5;124mclass\u001b[39m\u001b[38;5;124m'\u001b[39m: \u001b[38;5;124m'\u001b[39m\u001b[38;5;124mprotein\u001b[39m\u001b[38;5;124m'\u001b[39m,\n",
      "                             \u001b[38;5;124m'\u001b[39m\u001b[38;5;124minvolved_genes\u001b[39m\u001b[38;5;124m'\u001b[39m: [\u001b[38;5;124m'\u001b[39m\u001b[38;5;124mTNF\u001b[39m\u001b[38;5;124m'\u001b[39m],\n",
      "                             \u001b[38;5;124m'\u001b[39m\u001b[38;5;124minvolved_other\u001b[39m\u001b[38;5;124m'\u001b[39m: [],\n",
      "                             \u001b[38;5;124m'\u001b[39m\u001b[38;5;124mlabel\u001b[39m\u001b[38;5;124m'\u001b[39m: \u001b[38;5;124m'\u001b[39m\u001b[38;5;124mtumor necrosis factor\u001b[39m\u001b[38;5;124m'\u001b[39m,\n",
      "                             \u001b[38;5;124m'\u001b[39m\u001b[38;5;124mname\u001b[39m\u001b[38;5;124m'\u001b[39m: \u001b[38;5;124m'\u001b[39m\u001b[38;5;124mTNF\u001b[39m\u001b[38;5;124m'\u001b[39m,\n",
      "                             \u001b[38;5;124m'\u001b[39m\u001b[38;5;124mnamespace\u001b[39m\u001b[38;5;124m'\u001b[39m: \u001b[38;5;124m'\u001b[39m\u001b[38;5;124mHGNC\u001b[39m\u001b[38;5;124m'\u001b[39m,\n",
      "                             \u001b[38;5;124m'\u001b[39m\u001b[38;5;124mpure\u001b[39m\u001b[38;5;124m'\u001b[39m: \u001b[38;5;28;01mTrue\u001b[39;00m,\n",
      "                             \u001b[38;5;124m'\u001b[39m\u001b[38;5;124mreactome_pathways\u001b[39m\u001b[38;5;124m'\u001b[39m: [\u001b[38;5;124m'\u001b[39m\u001b[38;5;124mTNFR1-induced NFkappaB \u001b[39m\u001b[38;5;124m'\u001b[39m\n",
      "                                                   \u001b[38;5;124m'\u001b[39m\u001b[38;5;124msignaling pathway\u001b[39m\u001b[38;5;124m'\u001b[39m,\n",
      "                                                   \u001b[38;5;124m'\u001b[39m\u001b[38;5;124mTNFR2 non-canonical NF-kB \u001b[39m\u001b[38;5;124m'\u001b[39m\n",
      "                                                   \u001b[38;5;124m'\u001b[39m\u001b[38;5;124mpathway\u001b[39m\u001b[38;5;124m'\u001b[39m,\n",
      "                                                   \u001b[38;5;124m'\u001b[39m\u001b[38;5;124mInterleukin-4 and \u001b[39m\u001b[38;5;124m'\u001b[39m\n",
      "                                                   \u001b[38;5;124m'\u001b[39m\u001b[38;5;124mInterleukin-13 signaling\u001b[39m\u001b[38;5;124m'\u001b[39m,\n",
      "                                                   \u001b[38;5;124m'\u001b[39m\u001b[38;5;124mTNF signaling\u001b[39m\u001b[38;5;124m'\u001b[39m,\n",
      "                                                   \u001b[38;5;124m'\u001b[39m\u001b[38;5;124mTranscriptional regulation \u001b[39m\u001b[38;5;124m'\u001b[39m\n",
      "                                                   \u001b[38;5;124m'\u001b[39m\u001b[38;5;124mof white adipocyte \u001b[39m\u001b[38;5;124m'\u001b[39m\n",
      "                                                   \u001b[38;5;124m'\u001b[39m\u001b[38;5;124mdifferentiation\u001b[39m\u001b[38;5;124m'\u001b[39m,\n",
      "                                                   \u001b[38;5;124m'\u001b[39m\u001b[38;5;124mTNFR1-mediated ceramide \u001b[39m\u001b[38;5;124m'\u001b[39m\n",
      "                                                   \u001b[38;5;124m'\u001b[39m\u001b[38;5;124mproduction\u001b[39m\u001b[38;5;124m'\u001b[39m,\n",
      "                                                   \u001b[38;5;124m'\u001b[39m\u001b[38;5;124mTNFR1-induced proapoptotic \u001b[39m\u001b[38;5;124m'\u001b[39m\n",
      "                                                   \u001b[38;5;124m'\u001b[39m\u001b[38;5;124msignaling\u001b[39m\u001b[38;5;124m'\u001b[39m,\n",
      "                                                   \u001b[38;5;124m'\u001b[39m\u001b[38;5;124mRegulation of TNFR1 \u001b[39m\u001b[38;5;124m'\u001b[39m\n",
      "                                                   \u001b[38;5;124m'\u001b[39m\u001b[38;5;124msignaling\u001b[39m\u001b[38;5;124m'\u001b[39m,\n",
      "                                                   \u001b[38;5;124m'\u001b[39m\u001b[38;5;124mInterleukin-10 signaling\u001b[39m\u001b[38;5;124m'\u001b[39m],\n",
      "                             \u001b[38;5;124m'\u001b[39m\u001b[38;5;124mspecies\u001b[39m\u001b[38;5;124m'\u001b[39m: \u001b[38;5;241m9606\u001b[39m,\n",
      "                             \u001b[38;5;124m'\u001b[39m\u001b[38;5;124muniprot\u001b[39m\u001b[38;5;124m'\u001b[39m: \u001b[38;5;124m'\u001b[39m\u001b[38;5;124mP01375\u001b[39m\u001b[38;5;124m'\u001b[39m}}}\n",
      "\n",
      "For further testing go to http://0.0.0.0:5000/ui/#/BEL/ebel.web.api.ebel.v1.bel.get_paths_by_belish\n"
     ]
    },
    {
     "data": {
      "text/html": [
       "<h2>18. Causal pathway search by gene names as DOT graph string by BELish</h2>"
      ],
      "text/plain": [
       "<IPython.core.display.HTML object>"
      ]
     },
     "metadata": {},
     "output_type": "display_data"
    },
    {
     "data": {
      "text/html": [
       "<b style=\"color: rgb(98,98,98); text-decoration: underline;\">Description:</b> <p>See <code>paths</code> method</p>"
      ],
      "text/plain": [
       "<IPython.core.display.HTML object>"
      ]
     },
     "metadata": {},
     "output_type": "display_data"
    },
    {
     "data": {
      "text/html": [
       "<b>Tags:</b> ['BEL']"
      ],
      "text/plain": [
       "<IPython.core.display.HTML object>"
      ]
     },
     "metadata": {},
     "output_type": "display_data"
    },
    {
     "data": {
      "text/html": [
       "<b>Server path:</b> /api/v1/bel/paths_by_belish_as_dot"
      ],
      "text/plain": [
       "<IPython.core.display.HTML object>"
      ]
     },
     "metadata": {},
     "output_type": "display_data"
    },
    {
     "data": {
      "text/html": [
       "<div>\n",
       "<style scoped>\n",
       "    .dataframe tbody tr th:only-of-type {\n",
       "        vertical-align: middle;\n",
       "    }\n",
       "\n",
       "    .dataframe tbody tr th {\n",
       "        vertical-align: top;\n",
       "    }\n",
       "\n",
       "    .dataframe thead th {\n",
       "        text-align: right;\n",
       "    }\n",
       "</style>\n",
       "<table border=\"1\" class=\"dataframe\">\n",
       "  <thead>\n",
       "    <tr style=\"text-align: right;\">\n",
       "      <th></th>\n",
       "      <th>data type</th>\n",
       "      <th>description</th>\n",
       "      <th>example</th>\n",
       "      <th>options</th>\n",
       "      <th>default</th>\n",
       "      <th>required</th>\n",
       "    </tr>\n",
       "    <tr>\n",
       "      <th>parameter name</th>\n",
       "      <th></th>\n",
       "      <th></th>\n",
       "      <th></th>\n",
       "      <th></th>\n",
       "      <th></th>\n",
       "      <th></th>\n",
       "    </tr>\n",
       "  </thead>\n",
       "  <tbody>\n",
       "    <tr>\n",
       "      <th>belish</th>\n",
       "      <td>string</td>\n",
       "      <td></td>\n",
       "      <td>p(HGNC:\"%\") -increases-&gt; p(%) &lt;-decreases- p(H...</td>\n",
       "      <td></td>\n",
       "      <td></td>\n",
       "      <td>False</td>\n",
       "    </tr>\n",
       "    <tr>\n",
       "      <th>limit</th>\n",
       "      <td>integer</td>\n",
       "      <td></td>\n",
       "      <td>1</td>\n",
       "      <td></td>\n",
       "      <td>30.0</td>\n",
       "      <td>False</td>\n",
       "    </tr>\n",
       "  </tbody>\n",
       "</table>\n",
       "</div>"
      ],
      "text/plain": [
       "               data type description  \\\n",
       "parameter name                         \n",
       "belish            string               \n",
       "limit            integer               \n",
       "\n",
       "                                                          example options  \\\n",
       "parameter name                                                              \n",
       "belish          p(HGNC:\"%\") -increases-> p(%) <-decreases- p(H...           \n",
       "limit                                                           1           \n",
       "\n",
       "               default  required  \n",
       "parameter name                    \n",
       "belish                     False  \n",
       "limit             30.0     False  "
      ]
     },
     "metadata": {},
     "output_type": "display_data"
    },
    {
     "data": {
      "text/html": [
       "<b>Example URL:</b> <a href=\"http://0.0.0.0:5000/api/v1/bel/paths_by_belish_as_dot?belish=p%28HGNC%3A%22%25%22%29+-increases-%3E+p%28%25%29+%3C-decreases-+p%28HGNC%3A%22%25%22%29&limit=1\">http://0.0.0.0:5000/api/v1/bel/paths_by_belish_as_dot?belish=p%28HGNC%3A%22%25%22%29+-increases-%3E+p%28%25%29+%3C-decreases-+p%28HGNC%3A%22%25%22%29&limit=1</a>"
      ],
      "text/plain": [
       "<IPython.core.display.HTML object>"
      ]
     },
     "metadata": {},
     "output_type": "display_data"
    },
    {
     "data": {
      "text/html": [
       "<b style=\"color: rgb(98,98,98); text-decoration: underline;\">Example response:</b>"
      ],
      "text/plain": [
       "<IPython.core.display.HTML object>"
      ]
     },
     "metadata": {},
     "output_type": "display_data"
    },
    {
     "name": "stdout",
     "output_type": "stream",
     "text": [
      "(\u001b[38;5;124m'\u001b[39m\u001b[38;5;124mdigraph \u001b[39m\u001b[38;5;124m{\u001b[39m\u001b[38;5;130;01m\\n\u001b[39;00m\u001b[38;5;124m'\u001b[39m\n",
      " \u001b[38;5;124m'\u001b[39m\u001b[38;5;130;01m\\t\u001b[39;00m\u001b[38;5;124mgraph [fontname=helvetica]\u001b[39m\u001b[38;5;130;01m\\n\u001b[39;00m\u001b[38;5;124m'\u001b[39m\n",
      " \u001b[38;5;124m'\u001b[39m\u001b[38;5;130;01m\\t\u001b[39;00m\u001b[38;5;124mnode [shape=note]\u001b[39m\u001b[38;5;130;01m\\n\u001b[39;00m\u001b[38;5;124m'\u001b[39m\n",
      " \u001b[38;5;124m'\u001b[39m\u001b[38;5;130;01m\\t\u001b[39;00m\u001b[38;5;124mnode [shape=box]\u001b[39m\u001b[38;5;130;01m\\n\u001b[39;00m\u001b[38;5;124m'\u001b[39m\n",
      " \u001b[38;5;124m'\u001b[39m\u001b[38;5;130;01m\\t\u001b[39;00m\u001b[38;5;124mnode [style=filled]\u001b[39m\u001b[38;5;130;01m\\n\u001b[39;00m\u001b[38;5;124m'\u001b[39m\n",
      " \u001b[38;5;124m'\u001b[39m\u001b[38;5;130;01m\\t\u001b[39;00m\u001b[38;5;124mnode [fillcolor=lightblue1]\u001b[39m\u001b[38;5;130;01m\\n\u001b[39;00m\u001b[38;5;124m'\u001b[39m\n",
      " \u001b[38;5;124m'\u001b[39m\u001b[38;5;130;01m\\t\u001b[39;00m\u001b[38;5;124m\"\u001b[39m\u001b[38;5;124m#197.2\u001b[39m\u001b[38;5;124m\"\u001b[39m\u001b[38;5;124m [label=<<FONT POINT-SIZE=\u001b[39m\u001b[38;5;124m\"\u001b[39m\u001b[38;5;124m10\u001b[39m\u001b[38;5;124m\"\u001b[39m\u001b[38;5;124m>protein</FONT><BR/><FONT \u001b[39m\u001b[38;5;124m'\u001b[39m\n",
      " \u001b[38;5;124m'\u001b[39m\u001b[38;5;124mPOINT-SIZE=\u001b[39m\u001b[38;5;124m\"\u001b[39m\u001b[38;5;124m16\u001b[39m\u001b[38;5;124m\"\u001b[39m\u001b[38;5;124m>TNF</FONT><BR/><FONT POINT-SIZE=\u001b[39m\u001b[38;5;124m\"\u001b[39m\u001b[38;5;124m6\u001b[39m\u001b[38;5;124m\"\u001b[39m\u001b[38;5;124m>p(HGNC:\u001b[39m\u001b[38;5;124m\"\u001b[39m\u001b[38;5;124mTNF\u001b[39m\u001b[38;5;124m\"\u001b[39m\u001b[38;5;124m)</FONT>>]\u001b[39m\u001b[38;5;130;01m\\n\u001b[39;00m\u001b[38;5;124m'\u001b[39m\n",
      " \u001b[38;5;124m'\u001b[39m\u001b[38;5;130;01m\\t\u001b[39;00m\u001b[38;5;124mnode [fillcolor=lightblue1]\u001b[39m\u001b[38;5;130;01m\\n\u001b[39;00m\u001b[38;5;124m'\u001b[39m\n",
      " \u001b[38;5;124m'\u001b[39m\u001b[38;5;130;01m\\t\u001b[39;00m\u001b[38;5;124m\"\u001b[39m\u001b[38;5;124m#186.3\u001b[39m\u001b[38;5;124m\"\u001b[39m\u001b[38;5;124m [label=<<FONT POINT-SIZE=\u001b[39m\u001b[38;5;124m\"\u001b[39m\u001b[38;5;124m10\u001b[39m\u001b[38;5;124m\"\u001b[39m\u001b[38;5;124m>protein</FONT><BR/><FONT \u001b[39m\u001b[38;5;124m'\u001b[39m\n",
      " \u001b[38;5;124m'\u001b[39m\u001b[38;5;124mPOINT-SIZE=\u001b[39m\u001b[38;5;124m\"\u001b[39m\u001b[38;5;124m16\u001b[39m\u001b[38;5;124m\"\u001b[39m\u001b[38;5;124m>VIP</FONT><BR/><FONT POINT-SIZE=\u001b[39m\u001b[38;5;124m\"\u001b[39m\u001b[38;5;124m6\u001b[39m\u001b[38;5;124m\"\u001b[39m\u001b[38;5;124m>p(HGNC:\u001b[39m\u001b[38;5;124m\"\u001b[39m\u001b[38;5;124mVIP\u001b[39m\u001b[38;5;124m\"\u001b[39m\u001b[38;5;124m)</FONT>>]\u001b[39m\u001b[38;5;130;01m\\n\u001b[39;00m\u001b[38;5;124m'\u001b[39m\n",
      " \u001b[38;5;124m'\u001b[39m\u001b[38;5;130;01m\\t\u001b[39;00m\u001b[38;5;124mnode [fillcolor=lightblue1]\u001b[39m\u001b[38;5;130;01m\\n\u001b[39;00m\u001b[38;5;124m'\u001b[39m\n",
      " \u001b[38;5;124m'\u001b[39m\u001b[38;5;130;01m\\t\u001b[39;00m\u001b[38;5;124m\"\u001b[39m\u001b[38;5;124m#195.0\u001b[39m\u001b[38;5;124m\"\u001b[39m\u001b[38;5;124m [label=<<FONT POINT-SIZE=\u001b[39m\u001b[38;5;124m\"\u001b[39m\u001b[38;5;124m10\u001b[39m\u001b[38;5;124m\"\u001b[39m\u001b[38;5;124m>protein</FONT><BR/><FONT \u001b[39m\u001b[38;5;124m'\u001b[39m\n",
      " \u001b[38;5;124m'\u001b[39m\u001b[38;5;124mPOINT-SIZE=\u001b[39m\u001b[38;5;124m\"\u001b[39m\u001b[38;5;124m16\u001b[39m\u001b[38;5;124m\"\u001b[39m\u001b[38;5;124m>TREM2</FONT><BR/><FONT \u001b[39m\u001b[38;5;124m'\u001b[39m\n",
      " \u001b[38;5;124m'\u001b[39m\u001b[38;5;124mPOINT-SIZE=\u001b[39m\u001b[38;5;124m\"\u001b[39m\u001b[38;5;124m6\u001b[39m\u001b[38;5;124m\"\u001b[39m\u001b[38;5;124m>p(HGNC:\u001b[39m\u001b[38;5;124m\"\u001b[39m\u001b[38;5;124mTREM2\u001b[39m\u001b[38;5;124m\"\u001b[39m\u001b[38;5;124m)</FONT>>]\u001b[39m\u001b[38;5;130;01m\\n\u001b[39;00m\u001b[38;5;124m'\u001b[39m\n",
      " \u001b[38;5;124m'\u001b[39m\u001b[38;5;130;01m\\t\u001b[39;00m\u001b[38;5;124medge [color=orangered]\u001b[39m\u001b[38;5;130;01m\\n\u001b[39;00m\u001b[38;5;124m'\u001b[39m\n",
      " \u001b[38;5;124m'\u001b[39m\u001b[38;5;130;01m\\t\u001b[39;00m\u001b[38;5;124m\"\u001b[39m\u001b[38;5;124m#197.2\u001b[39m\u001b[38;5;124m\"\u001b[39m\u001b[38;5;124m -> \u001b[39m\u001b[38;5;124m\"\u001b[39m\u001b[38;5;124m#195.0\u001b[39m\u001b[38;5;124m\"\u001b[39m\u001b[38;5;124m [label=<<FONT POINT-SIZE=\u001b[39m\u001b[38;5;124m\"\u001b[39m\u001b[38;5;124m8\u001b[39m\u001b[38;5;124m\"\u001b[39m\u001b[38;5;124m>decreases [1]</FONT>>]\u001b[39m\u001b[38;5;130;01m\\n\u001b[39;00m\u001b[38;5;124m'\u001b[39m\n",
      " \u001b[38;5;124m'\u001b[39m\u001b[38;5;130;01m\\t\u001b[39;00m\u001b[38;5;124medge [color=limegreen]\u001b[39m\u001b[38;5;130;01m\\n\u001b[39;00m\u001b[38;5;124m'\u001b[39m\n",
      " \u001b[38;5;124m'\u001b[39m\u001b[38;5;130;01m\\t\u001b[39;00m\u001b[38;5;124m\"\u001b[39m\u001b[38;5;124m#186.3\u001b[39m\u001b[38;5;124m\"\u001b[39m\u001b[38;5;124m -> \u001b[39m\u001b[38;5;124m\"\u001b[39m\u001b[38;5;124m#195.0\u001b[39m\u001b[38;5;124m\"\u001b[39m\u001b[38;5;124m [label=<<FONT POINT-SIZE=\u001b[39m\u001b[38;5;124m\"\u001b[39m\u001b[38;5;124m8\u001b[39m\u001b[38;5;124m\"\u001b[39m\u001b[38;5;124m>increases [1]</FONT>>]\u001b[39m\u001b[38;5;130;01m\\n\u001b[39;00m\u001b[38;5;124m'\u001b[39m\n",
      " \u001b[38;5;124m'\u001b[39m\u001b[38;5;124m}\u001b[39m\u001b[38;5;124m'\u001b[39m)\n",
      "\n",
      "For further testing go to http://0.0.0.0:5000/ui/#/BEL/ebel.web.api.ebel.v1.bel.get_paths_by_belish_as_dot\n"
     ]
    },
    {
     "data": {
      "text/html": [
       "<h2>19. All PubMed IDs connected to BEL relations.</h2>"
      ],
      "text/plain": [
       "<IPython.core.display.HTML object>"
      ]
     },
     "metadata": {},
     "output_type": "display_data"
    },
    {
     "data": {
      "text/html": [
       "<b style=\"color: rgb(98,98,98); text-decoration: underline;\">Description:</b> <p>All PubMed IDs connected to BEL relations.</p>"
      ],
      "text/plain": [
       "<IPython.core.display.HTML object>"
      ]
     },
     "metadata": {},
     "output_type": "display_data"
    },
    {
     "data": {
      "text/html": [
       "<b>Tags:</b> ['BEL']"
      ],
      "text/plain": [
       "<IPython.core.display.HTML object>"
      ]
     },
     "metadata": {},
     "output_type": "display_data"
    },
    {
     "data": {
      "text/html": [
       "<b>Server path:</b> /api/v1/bel/pmids"
      ],
      "text/plain": [
       "<IPython.core.display.HTML object>"
      ]
     },
     "metadata": {},
     "output_type": "display_data"
    },
    {
     "name": "stdout",
     "output_type": "stream",
     "text": [
      "without paramters\n"
     ]
    },
    {
     "data": {
      "text/html": [
       "<b>Example URL:</b> <a href=\"http://0.0.0.0:5000/api/v1/bel/pmids\">http://0.0.0.0:5000/api/v1/bel/pmids</a>"
      ],
      "text/plain": [
       "<IPython.core.display.HTML object>"
      ]
     },
     "metadata": {},
     "output_type": "display_data"
    },
    {
     "name": "stdout",
     "output_type": "stream",
     "text": [
      "\n",
      "The result is a list and have 125 entries. Here we show only the first entry.\n",
      "\n"
     ]
    },
    {
     "data": {
      "text/html": [
       "<b style=\"color: rgb(98,98,98); text-decoration: underline;\">Example response:</b>"
      ],
      "text/plain": [
       "<IPython.core.display.HTML object>"
      ]
     },
     "metadata": {},
     "output_type": "display_data"
    },
    {
     "name": "stdout",
     "output_type": "stream",
     "text": [
      "{\u001b[38;5;124m'\u001b[39m\u001b[38;5;124mcitation\u001b[39m\u001b[38;5;124m'\u001b[39m: {\u001b[38;5;124m'\u001b[39m\u001b[38;5;124mauthor_list\u001b[39m\u001b[38;5;124m'\u001b[39m: [\u001b[38;5;124m'\u001b[39m\u001b[38;5;124mXie P\u001b[39m\u001b[38;5;124m'\u001b[39m],\n",
      "              \u001b[38;5;124m'\u001b[39m\u001b[38;5;124mdoi\u001b[39m\u001b[38;5;124m'\u001b[39m: \u001b[38;5;124m'\u001b[39m\u001b[38;5;124m10.1186/1750-2187-8-7\u001b[39m\u001b[38;5;124m'\u001b[39m,\n",
      "              \u001b[38;5;124m'\u001b[39m\u001b[38;5;124mfull_journal_name\u001b[39m\u001b[38;5;124m'\u001b[39m: \u001b[38;5;124m'\u001b[39m\u001b[38;5;124mJournal of molecular signaling\u001b[39m\u001b[38;5;124m'\u001b[39m,\n",
      "              \u001b[38;5;124m'\u001b[39m\u001b[38;5;124mlast_author\u001b[39m\u001b[38;5;124m'\u001b[39m: \u001b[38;5;124m'\u001b[39m\u001b[38;5;124mXie P\u001b[39m\u001b[38;5;124m'\u001b[39m,\n",
      "              \u001b[38;5;124m'\u001b[39m\u001b[38;5;124mpub_date\u001b[39m\u001b[38;5;124m'\u001b[39m: \u001b[38;5;124m'\u001b[39m\u001b[38;5;124m2013-07-03\u001b[39m\u001b[38;5;124m'\u001b[39m,\n",
      "              \u001b[38;5;124m'\u001b[39m\u001b[38;5;124mpub_year\u001b[39m\u001b[38;5;124m'\u001b[39m: \u001b[38;5;241m2013\u001b[39m,\n",
      "              \u001b[38;5;124m'\u001b[39m\u001b[38;5;124mref\u001b[39m\u001b[38;5;124m'\u001b[39m: \u001b[38;5;124m'\u001b[39m\u001b[38;5;124m23758787\u001b[39m\u001b[38;5;124m'\u001b[39m,\n",
      "              \u001b[38;5;124m'\u001b[39m\u001b[38;5;124mtitle\u001b[39m\u001b[38;5;124m'\u001b[39m: \u001b[38;5;124m'\u001b[39m\u001b[38;5;124mTRAF molecules in cell signaling and in human \u001b[39m\u001b[38;5;124m'\u001b[39m\n",
      "                       \u001b[38;5;124m'\u001b[39m\u001b[38;5;124mdiseases.\u001b[39m\u001b[38;5;124m'\u001b[39m,\n",
      "              \u001b[38;5;124m'\u001b[39m\u001b[38;5;124mtype\u001b[39m\u001b[38;5;124m'\u001b[39m: \u001b[38;5;124m'\u001b[39m\u001b[38;5;124mPubMed\u001b[39m\u001b[38;5;124m'\u001b[39m},\n",
      " \u001b[38;5;124m'\u001b[39m\u001b[38;5;124mnumber_of_edges\u001b[39m\u001b[38;5;124m'\u001b[39m: \u001b[38;5;241m644\u001b[39m,\n",
      " \u001b[38;5;124m'\u001b[39m\u001b[38;5;124mpmid\u001b[39m\u001b[38;5;124m'\u001b[39m: \u001b[38;5;241m23758787\u001b[39m}\n",
      "\n",
      "For further testing go to http://0.0.0.0:5000/ui/#/BEL/ebel.web.api.ebel.v1.bel.get_pmids\n"
     ]
    },
    {
     "data": {
      "text/html": [
       "<h2>20. Get publication year statistics</h2>"
      ],
      "text/plain": [
       "<IPython.core.display.HTML object>"
      ]
     },
     "metadata": {},
     "output_type": "display_data"
    },
    {
     "data": {
      "text/html": [
       "<b style=\"color: rgb(98,98,98); text-decoration: underline;\">Description:</b> <p>Get publication year statistics</p>"
      ],
      "text/plain": [
       "<IPython.core.display.HTML object>"
      ]
     },
     "metadata": {},
     "output_type": "display_data"
    },
    {
     "data": {
      "text/html": [
       "<b>Tags:</b> ['BEL']"
      ],
      "text/plain": [
       "<IPython.core.display.HTML object>"
      ]
     },
     "metadata": {},
     "output_type": "display_data"
    },
    {
     "data": {
      "text/html": [
       "<b>Server path:</b> /api/v1/bel/publication_year_statistics"
      ],
      "text/plain": [
       "<IPython.core.display.HTML object>"
      ]
     },
     "metadata": {},
     "output_type": "display_data"
    },
    {
     "name": "stdout",
     "output_type": "stream",
     "text": [
      "without paramters\n"
     ]
    },
    {
     "data": {
      "text/html": [
       "<b>Example URL:</b> <a href=\"http://0.0.0.0:5000/api/v1/bel/publication_year_statistics\">http://0.0.0.0:5000/api/v1/bel/publication_year_statistics</a>"
      ],
      "text/plain": [
       "<IPython.core.display.HTML object>"
      ]
     },
     "metadata": {},
     "output_type": "display_data"
    },
    {
     "name": "stdout",
     "output_type": "stream",
     "text": [
      "\n",
      "The result is a list and have 17 entries. Here we show only the first entry.\n",
      "\n"
     ]
    },
    {
     "data": {
      "text/html": [
       "<b style=\"color: rgb(98,98,98); text-decoration: underline;\">Example response:</b>"
      ],
      "text/plain": [
       "<IPython.core.display.HTML object>"
      ]
     },
     "metadata": {},
     "output_type": "display_data"
    },
    {
     "name": "stdout",
     "output_type": "stream",
     "text": [
      "{\u001b[38;5;124m'\u001b[39m\u001b[38;5;124mnumber_of_edges\u001b[39m\u001b[38;5;124m'\u001b[39m: \u001b[38;5;241m213\u001b[39m, \u001b[38;5;124m'\u001b[39m\u001b[38;5;124myear\u001b[39m\u001b[38;5;124m'\u001b[39m: \u001b[38;5;124m'\u001b[39m\u001b[38;5;124m2021\u001b[39m\u001b[38;5;124m'\u001b[39m}\n",
      "\n",
      "For further testing go to http://0.0.0.0:5000/ui/#/BEL/ebel.web.api.ebel.v1.bel.get_publication_year_statistics\n"
     ]
    },
    {
     "data": {
      "text/html": [
       "<h2>21. Get rid for protein, rna or gene without any modification or location</h2>"
      ],
      "text/plain": [
       "<IPython.core.display.HTML object>"
      ]
     },
     "metadata": {},
     "output_type": "display_data"
    },
    {
     "data": {
      "text/html": [
       "<b style=\"color: rgb(98,98,98); text-decoration: underline;\">Description:</b> <p>Get rid for protein, rna or gene without any modification or location</p>"
      ],
      "text/plain": [
       "<IPython.core.display.HTML object>"
      ]
     },
     "metadata": {},
     "output_type": "display_data"
    },
    {
     "data": {
      "text/html": [
       "<b>Tags:</b> ['BEL']"
      ],
      "text/plain": [
       "<IPython.core.display.HTML object>"
      ]
     },
     "metadata": {},
     "output_type": "display_data"
    },
    {
     "data": {
      "text/html": [
       "<b>Server path:</b> /api/v1/bel/pure_rid"
      ],
      "text/plain": [
       "<IPython.core.display.HTML object>"
      ]
     },
     "metadata": {},
     "output_type": "display_data"
    },
    {
     "data": {
      "text/html": [
       "<div>\n",
       "<style scoped>\n",
       "    .dataframe tbody tr th:only-of-type {\n",
       "        vertical-align: middle;\n",
       "    }\n",
       "\n",
       "    .dataframe tbody tr th {\n",
       "        vertical-align: top;\n",
       "    }\n",
       "\n",
       "    .dataframe thead th {\n",
       "        text-align: right;\n",
       "    }\n",
       "</style>\n",
       "<table border=\"1\" class=\"dataframe\">\n",
       "  <thead>\n",
       "    <tr style=\"text-align: right;\">\n",
       "      <th></th>\n",
       "      <th>data type</th>\n",
       "      <th>description</th>\n",
       "      <th>example</th>\n",
       "      <th>options</th>\n",
       "      <th>default</th>\n",
       "      <th>required</th>\n",
       "    </tr>\n",
       "    <tr>\n",
       "      <th>parameter name</th>\n",
       "      <th></th>\n",
       "      <th></th>\n",
       "      <th></th>\n",
       "      <th></th>\n",
       "      <th></th>\n",
       "      <th></th>\n",
       "    </tr>\n",
       "  </thead>\n",
       "  <tbody>\n",
       "    <tr>\n",
       "      <th>node_class</th>\n",
       "      <td>string</td>\n",
       "      <td></td>\n",
       "      <td>protein</td>\n",
       "      <td>[protein, rna, gene]</td>\n",
       "      <td>protein</td>\n",
       "      <td>True</td>\n",
       "    </tr>\n",
       "    <tr>\n",
       "      <th>name</th>\n",
       "      <td>string</td>\n",
       "      <td></td>\n",
       "      <td></td>\n",
       "      <td></td>\n",
       "      <td></td>\n",
       "      <td>True</td>\n",
       "    </tr>\n",
       "    <tr>\n",
       "      <th>namespace</th>\n",
       "      <td>string</td>\n",
       "      <td></td>\n",
       "      <td></td>\n",
       "      <td></td>\n",
       "      <td></td>\n",
       "      <td>True</td>\n",
       "    </tr>\n",
       "  </tbody>\n",
       "</table>\n",
       "</div>"
      ],
      "text/plain": [
       "               data type description  example               options  default  \\\n",
       "parameter name                                                                 \n",
       "node_class        string              protein  [protein, rna, gene]  protein   \n",
       "name              string                                                       \n",
       "namespace         string                                                       \n",
       "\n",
       "                required  \n",
       "parameter name            \n",
       "node_class          True  \n",
       "name                True  \n",
       "namespace           True  "
      ]
     },
     "metadata": {},
     "output_type": "display_data"
    },
    {
     "name": "stdout",
     "output_type": "stream",
     "text": [
      "Because values in the knowledge graph are dependent from the imported BEL docuemnts, we added to the parameters (name, namespace) the following values:\n"
     ]
    },
    {
     "data": {
      "text/html": [
       "<div>\n",
       "<style scoped>\n",
       "    .dataframe tbody tr th:only-of-type {\n",
       "        vertical-align: middle;\n",
       "    }\n",
       "\n",
       "    .dataframe tbody tr th {\n",
       "        vertical-align: top;\n",
       "    }\n",
       "\n",
       "    .dataframe thead th {\n",
       "        text-align: right;\n",
       "    }\n",
       "</style>\n",
       "<table border=\"1\" class=\"dataframe\">\n",
       "  <thead>\n",
       "    <tr style=\"text-align: right;\">\n",
       "      <th></th>\n",
       "      <th>value</th>\n",
       "    </tr>\n",
       "    <tr>\n",
       "      <th>paramter</th>\n",
       "      <th></th>\n",
       "    </tr>\n",
       "  </thead>\n",
       "  <tbody>\n",
       "    <tr>\n",
       "      <th>name</th>\n",
       "      <td>TREM2</td>\n",
       "    </tr>\n",
       "    <tr>\n",
       "      <th>namespace</th>\n",
       "      <td>HGNC</td>\n",
       "    </tr>\n",
       "  </tbody>\n",
       "</table>\n",
       "</div>"
      ],
      "text/plain": [
       "           value\n",
       "paramter        \n",
       "name       TREM2\n",
       "namespace   HGNC"
      ]
     },
     "metadata": {},
     "output_type": "display_data"
    },
    {
     "data": {
      "text/html": [
       "<b>Example URL:</b> <a href=\"http://0.0.0.0:5000/api/v1/bel/pure_rid?node_class=protein&name=TREM2&namespace=HGNC\">http://0.0.0.0:5000/api/v1/bel/pure_rid?node_class=protein&name=TREM2&namespace=HGNC</a>"
      ],
      "text/plain": [
       "<IPython.core.display.HTML object>"
      ]
     },
     "metadata": {},
     "output_type": "display_data"
    },
    {
     "data": {
      "text/html": [
       "<b style=\"color: rgb(98,98,98); text-decoration: underline;\">Example response:</b>"
      ],
      "text/plain": [
       "<IPython.core.display.HTML object>"
      ]
     },
     "metadata": {},
     "output_type": "display_data"
    },
    {
     "name": "stdout",
     "output_type": "stream",
     "text": [
      "\u001b[38;5;124m'\u001b[39m\u001b[38;5;124m#195:0\u001b[39m\u001b[38;5;124m'\u001b[39m\n",
      "\n",
      "For further testing go to http://0.0.0.0:5000/ui/#/BEL/ebel.web.api.ebel.v1.bel.get_pure_rid\n"
     ]
    },
    {
     "data": {
      "text/html": [
       "<h2>22. Get child nodes, abstract status of childs, parents path, number of entries, abstract status for all BEL relation types</h2>"
      ],
      "text/plain": [
       "<IPython.core.display.HTML object>"
      ]
     },
     "metadata": {},
     "output_type": "display_data"
    },
    {
     "data": {
      "text/html": [
       "<b style=\"color: rgb(98,98,98); text-decoration: underline;\">Description:</b> <p>Get child nodes, abstract status of childs, parents path, number of entries, abstract status for all BEL relation types</p>"
      ],
      "text/plain": [
       "<IPython.core.display.HTML object>"
      ]
     },
     "metadata": {},
     "output_type": "display_data"
    },
    {
     "data": {
      "text/html": [
       "<b>Tags:</b> ['BEL']"
      ],
      "text/plain": [
       "<IPython.core.display.HTML object>"
      ]
     },
     "metadata": {},
     "output_type": "display_data"
    },
    {
     "data": {
      "text/html": [
       "<b>Server path:</b> /api/v1/bel/relation_types"
      ],
      "text/plain": [
       "<IPython.core.display.HTML object>"
      ]
     },
     "metadata": {},
     "output_type": "display_data"
    },
    {
     "name": "stdout",
     "output_type": "stream",
     "text": [
      "without paramters\n"
     ]
    },
    {
     "data": {
      "text/html": [
       "<b>Example URL:</b> <a href=\"http://0.0.0.0:5000/api/v1/bel/relation_types\">http://0.0.0.0:5000/api/v1/bel/relation_types</a>"
      ],
      "text/plain": [
       "<IPython.core.display.HTML object>"
      ]
     },
     "metadata": {},
     "output_type": "display_data"
    },
    {
     "data": {
      "text/html": [
       "<b style=\"color: rgb(98,98,98); text-decoration: underline;\">Example response:</b>"
      ],
      "text/plain": [
       "<IPython.core.display.HTML object>"
      ]
     },
     "metadata": {},
     "output_type": "display_data"
    },
    {
     "name": "stdout",
     "output_type": "stream",
     "text": [
      "{\u001b[38;5;124m'\u001b[39m\u001b[38;5;124macts_in\u001b[39m\u001b[38;5;124m'\u001b[39m: {\u001b[38;5;124m'\u001b[39m\u001b[38;5;124mabstract\u001b[39m\u001b[38;5;124m'\u001b[39m: \u001b[38;5;28;01mFalse\u001b[39;00m,\n",
      "             \u001b[38;5;124m'\u001b[39m\u001b[38;5;124mchildren\u001b[39m\u001b[38;5;124m'\u001b[39m: [],\n",
      "             \u001b[38;5;124m'\u001b[39m\u001b[38;5;124min_out\u001b[39m\u001b[38;5;124m'\u001b[39m: {\u001b[38;5;124m'\u001b[39m\u001b[38;5;124min\u001b[39m\u001b[38;5;124m'\u001b[39m: \u001b[38;5;124m'\u001b[39m\u001b[38;5;124mbel\u001b[39m\u001b[38;5;124m'\u001b[39m, \u001b[38;5;124m'\u001b[39m\u001b[38;5;124mout\u001b[39m\u001b[38;5;124m'\u001b[39m: \u001b[38;5;124m'\u001b[39m\u001b[38;5;124mbel\u001b[39m\u001b[38;5;124m'\u001b[39m},\n",
      "             \u001b[38;5;124m'\u001b[39m\u001b[38;5;124mparents_path\u001b[39m\u001b[38;5;124m'\u001b[39m: [\u001b[38;5;124m'\u001b[39m\u001b[38;5;124macts_in\u001b[39m\u001b[38;5;124m'\u001b[39m, \u001b[38;5;124m'\u001b[39m\u001b[38;5;124mcompiler\u001b[39m\u001b[38;5;124m'\u001b[39m, \u001b[38;5;124m'\u001b[39m\u001b[38;5;124mbel_relation\u001b[39m\u001b[38;5;124m'\u001b[39m, \u001b[38;5;124m'\u001b[39m\u001b[38;5;124mE\u001b[39m\u001b[38;5;124m'\u001b[39m]},\n",
      " \u001b[38;5;124m'\u001b[39m\u001b[38;5;124manalogous_to\u001b[39m\u001b[38;5;124m'\u001b[39m: {\u001b[38;5;124m'\u001b[39m\u001b[38;5;124mabstract\u001b[39m\u001b[38;5;124m'\u001b[39m: \u001b[38;5;28;01mFalse\u001b[39;00m,\n",
      "                  \u001b[38;5;124m'\u001b[39m\u001b[38;5;124mchildren\u001b[39m\u001b[38;5;124m'\u001b[39m: [],\n",
      "                  \u001b[38;5;124m'\u001b[39m\u001b[38;5;124min_out\u001b[39m\u001b[38;5;124m'\u001b[39m: {\u001b[38;5;124m'\u001b[39m\u001b[38;5;124min\u001b[39m\u001b[38;5;124m'\u001b[39m: \u001b[38;5;124m'\u001b[39m\u001b[38;5;124mbel\u001b[39m\u001b[38;5;124m'\u001b[39m, \u001b[38;5;124m'\u001b[39m\u001b[38;5;124mout\u001b[39m\u001b[38;5;124m'\u001b[39m: \u001b[38;5;124m'\u001b[39m\u001b[38;5;124mbel\u001b[39m\u001b[38;5;124m'\u001b[39m},\n",
      "                  \u001b[38;5;124m'\u001b[39m\u001b[38;5;124mparents_path\u001b[39m\u001b[38;5;124m'\u001b[39m: [\u001b[38;5;124m'\u001b[39m\u001b[38;5;124manalogous_to\u001b[39m\u001b[38;5;124m'\u001b[39m,\n",
      "                                   \u001b[38;5;124m'\u001b[39m\u001b[38;5;124mdeprecated\u001b[39m\u001b[38;5;124m'\u001b[39m,\n",
      "                                   \u001b[38;5;124m'\u001b[39m\u001b[38;5;124mbel_relation\u001b[39m\u001b[38;5;124m'\u001b[39m,\n",
      "                                   \u001b[38;5;124m'\u001b[39m\u001b[38;5;124mE\u001b[39m\u001b[38;5;124m'\u001b[39m]},\n",
      " \u001b[38;5;124m'\u001b[39m\u001b[38;5;124massociation\u001b[39m\u001b[38;5;124m'\u001b[39m: {\u001b[38;5;124m'\u001b[39m\u001b[38;5;124mabstract\u001b[39m\u001b[38;5;124m'\u001b[39m: \u001b[38;5;28;01mFalse\u001b[39;00m,\n",
      "                 \u001b[38;5;124m'\u001b[39m\u001b[38;5;124mchildren\u001b[39m\u001b[38;5;124m'\u001b[39m: [],\n",
      "                 \u001b[38;5;124m'\u001b[39m\u001b[38;5;124min_out\u001b[39m\u001b[38;5;124m'\u001b[39m: {\u001b[38;5;124m'\u001b[39m\u001b[38;5;124min\u001b[39m\u001b[38;5;124m'\u001b[39m: \u001b[38;5;124m'\u001b[39m\u001b[38;5;124mbel\u001b[39m\u001b[38;5;124m'\u001b[39m, \u001b[38;5;124m'\u001b[39m\u001b[38;5;124mout\u001b[39m\u001b[38;5;124m'\u001b[39m: \u001b[38;5;124m'\u001b[39m\u001b[38;5;124mbel\u001b[39m\u001b[38;5;124m'\u001b[39m},\n",
      "                 \u001b[38;5;124m'\u001b[39m\u001b[38;5;124mparents_path\u001b[39m\u001b[38;5;124m'\u001b[39m: [\u001b[38;5;124m'\u001b[39m\u001b[38;5;124massociation\u001b[39m\u001b[38;5;124m'\u001b[39m,\n",
      "                                  \u001b[38;5;124m'\u001b[39m\u001b[38;5;124mcorrelative\u001b[39m\u001b[38;5;124m'\u001b[39m,\n",
      "                                  \u001b[38;5;124m'\u001b[39m\u001b[38;5;124mbel_relation\u001b[39m\u001b[38;5;124m'\u001b[39m,\n",
      "                                  \u001b[38;5;124m'\u001b[39m\u001b[38;5;124mE\u001b[39m\u001b[38;5;124m'\u001b[39m]},\n",
      " \u001b[38;5;124m'\u001b[39m\u001b[38;5;124mbel_relation\u001b[39m\u001b[38;5;124m'\u001b[39m: {\u001b[38;5;124m'\u001b[39m\u001b[38;5;124mabstract\u001b[39m\u001b[38;5;124m'\u001b[39m: \u001b[38;5;28;01mTrue\u001b[39;00m,\n",
      "                  \u001b[38;5;124m'\u001b[39m\u001b[38;5;124mchildren\u001b[39m\u001b[38;5;124m'\u001b[39m: [{\u001b[38;5;124m'\u001b[39m\u001b[38;5;124mabstract\u001b[39m\u001b[38;5;124m'\u001b[39m: \u001b[38;5;28;01mTrue\u001b[39;00m, \u001b[38;5;124m'\u001b[39m\u001b[38;5;124mname\u001b[39m\u001b[38;5;124m'\u001b[39m: \u001b[38;5;124m'\u001b[39m\u001b[38;5;124mcorrelative\u001b[39m\u001b[38;5;124m'\u001b[39m},\n",
      "                               {\u001b[38;5;124m'\u001b[39m\u001b[38;5;124mabstract\u001b[39m\u001b[38;5;124m'\u001b[39m: \u001b[38;5;28;01mTrue\u001b[39;00m, \u001b[38;5;124m'\u001b[39m\u001b[38;5;124mname\u001b[39m\u001b[38;5;124m'\u001b[39m: \u001b[38;5;124m'\u001b[39m\u001b[38;5;124mdeprecated\u001b[39m\u001b[38;5;124m'\u001b[39m},\n",
      "                               {\u001b[38;5;124m'\u001b[39m\u001b[38;5;124mabstract\u001b[39m\u001b[38;5;124m'\u001b[39m: \u001b[38;5;28;01mTrue\u001b[39;00m, \u001b[38;5;124m'\u001b[39m\u001b[38;5;124mname\u001b[39m\u001b[38;5;124m'\u001b[39m: \u001b[38;5;124m'\u001b[39m\u001b[38;5;124mgenomic\u001b[39m\u001b[38;5;124m'\u001b[39m},\n",
      "                               {\u001b[38;5;124m'\u001b[39m\u001b[38;5;124mabstract\u001b[39m\u001b[38;5;124m'\u001b[39m: \u001b[38;5;28;01mTrue\u001b[39;00m, \u001b[38;5;124m'\u001b[39m\u001b[38;5;124mname\u001b[39m\u001b[38;5;124m'\u001b[39m: \u001b[38;5;124m'\u001b[39m\u001b[38;5;124mcompiler\u001b[39m\u001b[38;5;124m'\u001b[39m},\n",
      "                               {\u001b[38;5;124m'\u001b[39m\u001b[38;5;124mabstract\u001b[39m\u001b[38;5;124m'\u001b[39m: \u001b[38;5;28;01mTrue\u001b[39;00m, \u001b[38;5;124m'\u001b[39m\u001b[38;5;124mname\u001b[39m\u001b[38;5;124m'\u001b[39m: \u001b[38;5;124m'\u001b[39m\u001b[38;5;124mcausal\u001b[39m\u001b[38;5;124m'\u001b[39m}],\n",
      "                  \u001b[38;5;124m'\u001b[39m\u001b[38;5;124mparents_path\u001b[39m\u001b[38;5;124m'\u001b[39m: [\u001b[38;5;124m'\u001b[39m\u001b[38;5;124mbel_relation\u001b[39m\u001b[38;5;124m'\u001b[39m, \u001b[38;5;124m'\u001b[39m\u001b[38;5;124mE\u001b[39m\u001b[38;5;124m'\u001b[39m]},\n",
      " \u001b[38;5;124m'\u001b[39m\u001b[38;5;124mbiomarker_for\u001b[39m\u001b[38;5;124m'\u001b[39m: {\u001b[38;5;124m'\u001b[39m\u001b[38;5;124mabstract\u001b[39m\u001b[38;5;124m'\u001b[39m: \u001b[38;5;28;01mFalse\u001b[39;00m,\n",
      "                   \u001b[38;5;124m'\u001b[39m\u001b[38;5;124mchildren\u001b[39m\u001b[38;5;124m'\u001b[39m: [],\n",
      "                   \u001b[38;5;124m'\u001b[39m\u001b[38;5;124min_out\u001b[39m\u001b[38;5;124m'\u001b[39m: {\u001b[38;5;124m'\u001b[39m\u001b[38;5;124min\u001b[39m\u001b[38;5;124m'\u001b[39m: \u001b[38;5;124m'\u001b[39m\u001b[38;5;124mbel\u001b[39m\u001b[38;5;124m'\u001b[39m, \u001b[38;5;124m'\u001b[39m\u001b[38;5;124mout\u001b[39m\u001b[38;5;124m'\u001b[39m: \u001b[38;5;124m'\u001b[39m\u001b[38;5;124mbel\u001b[39m\u001b[38;5;124m'\u001b[39m},\n",
      "                   \u001b[38;5;124m'\u001b[39m\u001b[38;5;124mparents_path\u001b[39m\u001b[38;5;124m'\u001b[39m: [\u001b[38;5;124m'\u001b[39m\u001b[38;5;124mbiomarker_for\u001b[39m\u001b[38;5;124m'\u001b[39m,\n",
      "                                    \u001b[38;5;124m'\u001b[39m\u001b[38;5;124mdeprecated\u001b[39m\u001b[38;5;124m'\u001b[39m,\n",
      "                                    \u001b[38;5;124m'\u001b[39m\u001b[38;5;124mbel_relation\u001b[39m\u001b[38;5;124m'\u001b[39m,\n",
      "                                    \u001b[38;5;124m'\u001b[39m\u001b[38;5;124mE\u001b[39m\u001b[38;5;124m'\u001b[39m]},\n",
      " \u001b[38;5;124m'\u001b[39m\u001b[38;5;124mcausal\u001b[39m\u001b[38;5;124m'\u001b[39m: {\u001b[38;5;124m'\u001b[39m\u001b[38;5;124mabstract\u001b[39m\u001b[38;5;124m'\u001b[39m: \u001b[38;5;28;01mTrue\u001b[39;00m,\n",
      "            \u001b[38;5;124m'\u001b[39m\u001b[38;5;124mchildren\u001b[39m\u001b[38;5;124m'\u001b[39m: [{\u001b[38;5;124m'\u001b[39m\u001b[38;5;124mabstract\u001b[39m\u001b[38;5;124m'\u001b[39m: \u001b[38;5;28;01mFalse\u001b[39;00m, \u001b[38;5;124m'\u001b[39m\u001b[38;5;124mname\u001b[39m\u001b[38;5;124m'\u001b[39m: \u001b[38;5;124m'\u001b[39m\u001b[38;5;124mregulates\u001b[39m\u001b[38;5;124m'\u001b[39m},\n",
      "                         {\u001b[38;5;124m'\u001b[39m\u001b[38;5;124mabstract\u001b[39m\u001b[38;5;124m'\u001b[39m: \u001b[38;5;28;01mFalse\u001b[39;00m, \u001b[38;5;124m'\u001b[39m\u001b[38;5;124mname\u001b[39m\u001b[38;5;124m'\u001b[39m: \u001b[38;5;124m'\u001b[39m\u001b[38;5;124mcauses_no_change\u001b[39m\u001b[38;5;124m'\u001b[39m},\n",
      "                         {\u001b[38;5;124m'\u001b[39m\u001b[38;5;124mabstract\u001b[39m\u001b[38;5;124m'\u001b[39m: \u001b[38;5;28;01mFalse\u001b[39;00m, \u001b[38;5;124m'\u001b[39m\u001b[38;5;124mname\u001b[39m\u001b[38;5;124m'\u001b[39m: \u001b[38;5;124m'\u001b[39m\u001b[38;5;124mincreases\u001b[39m\u001b[38;5;124m'\u001b[39m},\n",
      "                         {\u001b[38;5;124m'\u001b[39m\u001b[38;5;124mabstract\u001b[39m\u001b[38;5;124m'\u001b[39m: \u001b[38;5;28;01mFalse\u001b[39;00m, \u001b[38;5;124m'\u001b[39m\u001b[38;5;124mname\u001b[39m\u001b[38;5;124m'\u001b[39m: \u001b[38;5;124m'\u001b[39m\u001b[38;5;124mdirectly_decreases\u001b[39m\u001b[38;5;124m'\u001b[39m},\n",
      "                         {\u001b[38;5;124m'\u001b[39m\u001b[38;5;124mabstract\u001b[39m\u001b[38;5;124m'\u001b[39m: \u001b[38;5;28;01mFalse\u001b[39;00m, \u001b[38;5;124m'\u001b[39m\u001b[38;5;124mname\u001b[39m\u001b[38;5;124m'\u001b[39m: \u001b[38;5;124m'\u001b[39m\u001b[38;5;124mrate_limiting_step_of\u001b[39m\u001b[38;5;124m'\u001b[39m},\n",
      "                         {\u001b[38;5;124m'\u001b[39m\u001b[38;5;124mabstract\u001b[39m\u001b[38;5;124m'\u001b[39m: \u001b[38;5;28;01mFalse\u001b[39;00m, \u001b[38;5;124m'\u001b[39m\u001b[38;5;124mname\u001b[39m\u001b[38;5;124m'\u001b[39m: \u001b[38;5;124m'\u001b[39m\u001b[38;5;124mdecreases\u001b[39m\u001b[38;5;124m'\u001b[39m},\n",
      "                         {\u001b[38;5;124m'\u001b[39m\u001b[38;5;124mabstract\u001b[39m\u001b[38;5;124m'\u001b[39m: \u001b[38;5;28;01mFalse\u001b[39;00m, \u001b[38;5;124m'\u001b[39m\u001b[38;5;124mname\u001b[39m\u001b[38;5;124m'\u001b[39m: \u001b[38;5;124m'\u001b[39m\u001b[38;5;124mdirectly_increases\u001b[39m\u001b[38;5;124m'\u001b[39m}],\n",
      "            \u001b[38;5;124m'\u001b[39m\u001b[38;5;124min_out\u001b[39m\u001b[38;5;124m'\u001b[39m: {\u001b[38;5;124m'\u001b[39m\u001b[38;5;124min\u001b[39m\u001b[38;5;124m'\u001b[39m: \u001b[38;5;124m'\u001b[39m\u001b[38;5;124mbel\u001b[39m\u001b[38;5;124m'\u001b[39m, \u001b[38;5;124m'\u001b[39m\u001b[38;5;124mout\u001b[39m\u001b[38;5;124m'\u001b[39m: \u001b[38;5;124m'\u001b[39m\u001b[38;5;124mbel\u001b[39m\u001b[38;5;124m'\u001b[39m},\n",
      "            \u001b[38;5;124m'\u001b[39m\u001b[38;5;124mparents_path\u001b[39m\u001b[38;5;124m'\u001b[39m: [\u001b[38;5;124m'\u001b[39m\u001b[38;5;124mcausal\u001b[39m\u001b[38;5;124m'\u001b[39m, \u001b[38;5;124m'\u001b[39m\u001b[38;5;124mbel_relation\u001b[39m\u001b[38;5;124m'\u001b[39m, \u001b[38;5;124m'\u001b[39m\u001b[38;5;124mE\u001b[39m\u001b[38;5;124m'\u001b[39m]},\n",
      " \u001b[38;5;124m'\u001b[39m\u001b[38;5;124mcauses_no_change\u001b[39m\u001b[38;5;124m'\u001b[39m: {\u001b[38;5;124m'\u001b[39m\u001b[38;5;124mabstract\u001b[39m\u001b[38;5;124m'\u001b[39m: \u001b[38;5;28;01mFalse\u001b[39;00m,\n",
      "                      \u001b[38;5;124m'\u001b[39m\u001b[38;5;124mchildren\u001b[39m\u001b[38;5;124m'\u001b[39m: [],\n",
      "                      \u001b[38;5;124m'\u001b[39m\u001b[38;5;124min_out\u001b[39m\u001b[38;5;124m'\u001b[39m: {\u001b[38;5;124m'\u001b[39m\u001b[38;5;124min\u001b[39m\u001b[38;5;124m'\u001b[39m: \u001b[38;5;124m'\u001b[39m\u001b[38;5;124mbel\u001b[39m\u001b[38;5;124m'\u001b[39m, \u001b[38;5;124m'\u001b[39m\u001b[38;5;124mout\u001b[39m\u001b[38;5;124m'\u001b[39m: \u001b[38;5;124m'\u001b[39m\u001b[38;5;124mbel\u001b[39m\u001b[38;5;124m'\u001b[39m},\n",
      "                      \u001b[38;5;124m'\u001b[39m\u001b[38;5;124mparents_path\u001b[39m\u001b[38;5;124m'\u001b[39m: [\u001b[38;5;124m'\u001b[39m\u001b[38;5;124mcauses_no_change\u001b[39m\u001b[38;5;124m'\u001b[39m,\n",
      "                                       \u001b[38;5;124m'\u001b[39m\u001b[38;5;124mcausal\u001b[39m\u001b[38;5;124m'\u001b[39m,\n",
      "                                       \u001b[38;5;124m'\u001b[39m\u001b[38;5;124mbel_relation\u001b[39m\u001b[38;5;124m'\u001b[39m,\n",
      "                                       \u001b[38;5;124m'\u001b[39m\u001b[38;5;124mE\u001b[39m\u001b[38;5;124m'\u001b[39m]},\n",
      " \u001b[38;5;124m'\u001b[39m\u001b[38;5;124mcompiler\u001b[39m\u001b[38;5;124m'\u001b[39m: {\u001b[38;5;124m'\u001b[39m\u001b[38;5;124mabstract\u001b[39m\u001b[38;5;124m'\u001b[39m: \u001b[38;5;28;01mTrue\u001b[39;00m,\n",
      "              \u001b[38;5;124m'\u001b[39m\u001b[38;5;124mchildren\u001b[39m\u001b[38;5;124m'\u001b[39m: [{\u001b[38;5;124m'\u001b[39m\u001b[38;5;124mabstract\u001b[39m\u001b[38;5;124m'\u001b[39m: \u001b[38;5;28;01mFalse\u001b[39;00m, \u001b[38;5;124m'\u001b[39m\u001b[38;5;124mname\u001b[39m\u001b[38;5;124m'\u001b[39m: \u001b[38;5;124m'\u001b[39m\u001b[38;5;124mtranslocates\u001b[39m\u001b[38;5;124m'\u001b[39m},\n",
      "                           {\u001b[38;5;124m'\u001b[39m\u001b[38;5;124mabstract\u001b[39m\u001b[38;5;124m'\u001b[39m: \u001b[38;5;28;01mFalse\u001b[39;00m, \u001b[38;5;124m'\u001b[39m\u001b[38;5;124mname\u001b[39m\u001b[38;5;124m'\u001b[39m: \u001b[38;5;124m'\u001b[39m\u001b[38;5;124mhas_product\u001b[39m\u001b[38;5;124m'\u001b[39m},\n",
      "                           {\u001b[38;5;124m'\u001b[39m\u001b[38;5;124mabstract\u001b[39m\u001b[38;5;124m'\u001b[39m: \u001b[38;5;28;01mFalse\u001b[39;00m, \u001b[38;5;124m'\u001b[39m\u001b[38;5;124mname\u001b[39m\u001b[38;5;124m'\u001b[39m: \u001b[38;5;124m'\u001b[39m\u001b[38;5;124mreactant_in\u001b[39m\u001b[38;5;124m'\u001b[39m},\n",
      "                           {\u001b[38;5;124m'\u001b[39m\u001b[38;5;124mabstract\u001b[39m\u001b[38;5;124m'\u001b[39m: \u001b[38;5;28;01mFalse\u001b[39;00m, \u001b[38;5;124m'\u001b[39m\u001b[38;5;124mname\u001b[39m\u001b[38;5;124m'\u001b[39m: \u001b[38;5;124m'\u001b[39m\u001b[38;5;124mincludes\u001b[39m\u001b[38;5;124m'\u001b[39m},\n",
      "                           {\u001b[38;5;124m'\u001b[39m\u001b[38;5;124mabstract\u001b[39m\u001b[38;5;124m'\u001b[39m: \u001b[38;5;28;01mFalse\u001b[39;00m, \u001b[38;5;124m'\u001b[39m\u001b[38;5;124mname\u001b[39m\u001b[38;5;124m'\u001b[39m: \u001b[38;5;124m'\u001b[39m\u001b[38;5;124mhas_modification\u001b[39m\u001b[38;5;124m'\u001b[39m},\n",
      "                           {\u001b[38;5;124m'\u001b[39m\u001b[38;5;124mabstract\u001b[39m\u001b[38;5;124m'\u001b[39m: \u001b[38;5;28;01mFalse\u001b[39;00m, \u001b[38;5;124m'\u001b[39m\u001b[38;5;124mname\u001b[39m\u001b[38;5;124m'\u001b[39m: \u001b[38;5;124m'\u001b[39m\u001b[38;5;124mhas_variant\u001b[39m\u001b[38;5;124m'\u001b[39m},\n",
      "                           {\u001b[38;5;124m'\u001b[39m\u001b[38;5;124mabstract\u001b[39m\u001b[38;5;124m'\u001b[39m: \u001b[38;5;28;01mFalse\u001b[39;00m, \u001b[38;5;124m'\u001b[39m\u001b[38;5;124mname\u001b[39m\u001b[38;5;124m'\u001b[39m: \u001b[38;5;124m'\u001b[39m\u001b[38;5;124macts_in\u001b[39m\u001b[38;5;124m'\u001b[39m}],\n",
      "              \u001b[38;5;124m'\u001b[39m\u001b[38;5;124mparents_path\u001b[39m\u001b[38;5;124m'\u001b[39m: [\u001b[38;5;124m'\u001b[39m\u001b[38;5;124mcompiler\u001b[39m\u001b[38;5;124m'\u001b[39m, \u001b[38;5;124m'\u001b[39m\u001b[38;5;124mbel_relation\u001b[39m\u001b[38;5;124m'\u001b[39m, \u001b[38;5;124m'\u001b[39m\u001b[38;5;124mE\u001b[39m\u001b[38;5;124m'\u001b[39m]},\n",
      " \u001b[38;5;124m'\u001b[39m\u001b[38;5;124mcorrelative\u001b[39m\u001b[38;5;124m'\u001b[39m: {\u001b[38;5;124m'\u001b[39m\u001b[38;5;124mabstract\u001b[39m\u001b[38;5;124m'\u001b[39m: \u001b[38;5;28;01mTrue\u001b[39;00m,\n",
      "                 \u001b[38;5;124m'\u001b[39m\u001b[38;5;124mchildren\u001b[39m\u001b[38;5;124m'\u001b[39m: [{\u001b[38;5;124m'\u001b[39m\u001b[38;5;124mabstract\u001b[39m\u001b[38;5;124m'\u001b[39m: \u001b[38;5;28;01mFalse\u001b[39;00m, \u001b[38;5;124m'\u001b[39m\u001b[38;5;124mname\u001b[39m\u001b[38;5;124m'\u001b[39m: \u001b[38;5;124m'\u001b[39m\u001b[38;5;124massociation\u001b[39m\u001b[38;5;124m'\u001b[39m},\n",
      "                              {\u001b[38;5;124m'\u001b[39m\u001b[38;5;124mabstract\u001b[39m\u001b[38;5;124m'\u001b[39m: \u001b[38;5;28;01mFalse\u001b[39;00m,\n",
      "                               \u001b[38;5;124m'\u001b[39m\u001b[38;5;124mname\u001b[39m\u001b[38;5;124m'\u001b[39m: \u001b[38;5;124m'\u001b[39m\u001b[38;5;124mnegative_correlation\u001b[39m\u001b[38;5;124m'\u001b[39m},\n",
      "                              {\u001b[38;5;124m'\u001b[39m\u001b[38;5;124mabstract\u001b[39m\u001b[38;5;124m'\u001b[39m: \u001b[38;5;28;01mFalse\u001b[39;00m,\n",
      "                               \u001b[38;5;124m'\u001b[39m\u001b[38;5;124mname\u001b[39m\u001b[38;5;124m'\u001b[39m: \u001b[38;5;124m'\u001b[39m\u001b[38;5;124mpositive_correlation\u001b[39m\u001b[38;5;124m'\u001b[39m},\n",
      "                              {\u001b[38;5;124m'\u001b[39m\u001b[38;5;124mabstract\u001b[39m\u001b[38;5;124m'\u001b[39m: \u001b[38;5;28;01mFalse\u001b[39;00m, \u001b[38;5;124m'\u001b[39m\u001b[38;5;124mname\u001b[39m\u001b[38;5;124m'\u001b[39m: \u001b[38;5;124m'\u001b[39m\u001b[38;5;124mno_correlation\u001b[39m\u001b[38;5;124m'\u001b[39m}],\n",
      "                 \u001b[38;5;124m'\u001b[39m\u001b[38;5;124min_out\u001b[39m\u001b[38;5;124m'\u001b[39m: {\u001b[38;5;124m'\u001b[39m\u001b[38;5;124min\u001b[39m\u001b[38;5;124m'\u001b[39m: \u001b[38;5;124m'\u001b[39m\u001b[38;5;124mbel\u001b[39m\u001b[38;5;124m'\u001b[39m, \u001b[38;5;124m'\u001b[39m\u001b[38;5;124mout\u001b[39m\u001b[38;5;124m'\u001b[39m: \u001b[38;5;124m'\u001b[39m\u001b[38;5;124mbel\u001b[39m\u001b[38;5;124m'\u001b[39m},\n",
      "                 \u001b[38;5;124m'\u001b[39m\u001b[38;5;124mparents_path\u001b[39m\u001b[38;5;124m'\u001b[39m: [\u001b[38;5;124m'\u001b[39m\u001b[38;5;124mcorrelative\u001b[39m\u001b[38;5;124m'\u001b[39m, \u001b[38;5;124m'\u001b[39m\u001b[38;5;124mbel_relation\u001b[39m\u001b[38;5;124m'\u001b[39m, \u001b[38;5;124m'\u001b[39m\u001b[38;5;124mE\u001b[39m\u001b[38;5;124m'\u001b[39m]},\n",
      " \u001b[38;5;124m'\u001b[39m\u001b[38;5;124mdecreases\u001b[39m\u001b[38;5;124m'\u001b[39m: {\u001b[38;5;124m'\u001b[39m\u001b[38;5;124mabstract\u001b[39m\u001b[38;5;124m'\u001b[39m: \u001b[38;5;28;01mFalse\u001b[39;00m,\n",
      "               \u001b[38;5;124m'\u001b[39m\u001b[38;5;124mchildren\u001b[39m\u001b[38;5;124m'\u001b[39m: [],\n",
      "               \u001b[38;5;124m'\u001b[39m\u001b[38;5;124min_out\u001b[39m\u001b[38;5;124m'\u001b[39m: {\u001b[38;5;124m'\u001b[39m\u001b[38;5;124min\u001b[39m\u001b[38;5;124m'\u001b[39m: \u001b[38;5;124m'\u001b[39m\u001b[38;5;124mbel\u001b[39m\u001b[38;5;124m'\u001b[39m, \u001b[38;5;124m'\u001b[39m\u001b[38;5;124mout\u001b[39m\u001b[38;5;124m'\u001b[39m: \u001b[38;5;124m'\u001b[39m\u001b[38;5;124mbel\u001b[39m\u001b[38;5;124m'\u001b[39m},\n",
      "               \u001b[38;5;124m'\u001b[39m\u001b[38;5;124mparents_path\u001b[39m\u001b[38;5;124m'\u001b[39m: [\u001b[38;5;124m'\u001b[39m\u001b[38;5;124mdecreases\u001b[39m\u001b[38;5;124m'\u001b[39m, \u001b[38;5;124m'\u001b[39m\u001b[38;5;124mcausal\u001b[39m\u001b[38;5;124m'\u001b[39m, \u001b[38;5;124m'\u001b[39m\u001b[38;5;124mbel_relation\u001b[39m\u001b[38;5;124m'\u001b[39m, \u001b[38;5;124m'\u001b[39m\u001b[38;5;124mE\u001b[39m\u001b[38;5;124m'\u001b[39m]},\n",
      " \u001b[38;5;124m'\u001b[39m\u001b[38;5;124mdeprecated\u001b[39m\u001b[38;5;124m'\u001b[39m: {\u001b[38;5;124m'\u001b[39m\u001b[38;5;124mabstract\u001b[39m\u001b[38;5;124m'\u001b[39m: \u001b[38;5;28;01mTrue\u001b[39;00m,\n",
      "                \u001b[38;5;124m'\u001b[39m\u001b[38;5;124mchildren\u001b[39m\u001b[38;5;124m'\u001b[39m: [{\u001b[38;5;124m'\u001b[39m\u001b[38;5;124mabstract\u001b[39m\u001b[38;5;124m'\u001b[39m: \u001b[38;5;28;01mFalse\u001b[39;00m, \u001b[38;5;124m'\u001b[39m\u001b[38;5;124mname\u001b[39m\u001b[38;5;124m'\u001b[39m: \u001b[38;5;124m'\u001b[39m\u001b[38;5;124manalogous_to\u001b[39m\u001b[38;5;124m'\u001b[39m},\n",
      "                             {\u001b[38;5;124m'\u001b[39m\u001b[38;5;124mabstract\u001b[39m\u001b[38;5;124m'\u001b[39m: \u001b[38;5;28;01mFalse\u001b[39;00m, \u001b[38;5;124m'\u001b[39m\u001b[38;5;124mname\u001b[39m\u001b[38;5;124m'\u001b[39m: \u001b[38;5;124m'\u001b[39m\u001b[38;5;124mbiomarker_for\u001b[39m\u001b[38;5;124m'\u001b[39m},\n",
      "                             {\u001b[38;5;124m'\u001b[39m\u001b[38;5;124mabstract\u001b[39m\u001b[38;5;124m'\u001b[39m: \u001b[38;5;28;01mFalse\u001b[39;00m,\n",
      "                              \u001b[38;5;124m'\u001b[39m\u001b[38;5;124mname\u001b[39m\u001b[38;5;124m'\u001b[39m: \u001b[38;5;124m'\u001b[39m\u001b[38;5;124mprognostic_biomarker_for\u001b[39m\u001b[38;5;124m'\u001b[39m}],\n",
      "                \u001b[38;5;124m'\u001b[39m\u001b[38;5;124mparents_path\u001b[39m\u001b[38;5;124m'\u001b[39m: [\u001b[38;5;124m'\u001b[39m\u001b[38;5;124mdeprecated\u001b[39m\u001b[38;5;124m'\u001b[39m, \u001b[38;5;124m'\u001b[39m\u001b[38;5;124mbel_relation\u001b[39m\u001b[38;5;124m'\u001b[39m, \u001b[38;5;124m'\u001b[39m\u001b[38;5;124mE\u001b[39m\u001b[38;5;124m'\u001b[39m]},\n",
      " \u001b[38;5;124m'\u001b[39m\u001b[38;5;124mdirectly_decreases\u001b[39m\u001b[38;5;124m'\u001b[39m: {\u001b[38;5;124m'\u001b[39m\u001b[38;5;124mabstract\u001b[39m\u001b[38;5;124m'\u001b[39m: \u001b[38;5;28;01mFalse\u001b[39;00m,\n",
      "                        \u001b[38;5;124m'\u001b[39m\u001b[38;5;124mchildren\u001b[39m\u001b[38;5;124m'\u001b[39m: [],\n",
      "                        \u001b[38;5;124m'\u001b[39m\u001b[38;5;124min_out\u001b[39m\u001b[38;5;124m'\u001b[39m: {\u001b[38;5;124m'\u001b[39m\u001b[38;5;124min\u001b[39m\u001b[38;5;124m'\u001b[39m: \u001b[38;5;124m'\u001b[39m\u001b[38;5;124mbel\u001b[39m\u001b[38;5;124m'\u001b[39m, \u001b[38;5;124m'\u001b[39m\u001b[38;5;124mout\u001b[39m\u001b[38;5;124m'\u001b[39m: \u001b[38;5;124m'\u001b[39m\u001b[38;5;124mbel\u001b[39m\u001b[38;5;124m'\u001b[39m},\n",
      "                        \u001b[38;5;124m'\u001b[39m\u001b[38;5;124mparents_path\u001b[39m\u001b[38;5;124m'\u001b[39m: [\u001b[38;5;124m'\u001b[39m\u001b[38;5;124mdirectly_decreases\u001b[39m\u001b[38;5;124m'\u001b[39m,\n",
      "                                         \u001b[38;5;124m'\u001b[39m\u001b[38;5;124mcausal\u001b[39m\u001b[38;5;124m'\u001b[39m,\n",
      "                                         \u001b[38;5;124m'\u001b[39m\u001b[38;5;124mbel_relation\u001b[39m\u001b[38;5;124m'\u001b[39m,\n",
      "                                         \u001b[38;5;124m'\u001b[39m\u001b[38;5;124mE\u001b[39m\u001b[38;5;124m'\u001b[39m]},\n",
      " \u001b[38;5;124m'\u001b[39m\u001b[38;5;124mdirectly_increases\u001b[39m\u001b[38;5;124m'\u001b[39m: {\u001b[38;5;124m'\u001b[39m\u001b[38;5;124mabstract\u001b[39m\u001b[38;5;124m'\u001b[39m: \u001b[38;5;28;01mFalse\u001b[39;00m,\n",
      "                        \u001b[38;5;124m'\u001b[39m\u001b[38;5;124mchildren\u001b[39m\u001b[38;5;124m'\u001b[39m: [],\n",
      "                        \u001b[38;5;124m'\u001b[39m\u001b[38;5;124min_out\u001b[39m\u001b[38;5;124m'\u001b[39m: {\u001b[38;5;124m'\u001b[39m\u001b[38;5;124min\u001b[39m\u001b[38;5;124m'\u001b[39m: \u001b[38;5;124m'\u001b[39m\u001b[38;5;124mbel\u001b[39m\u001b[38;5;124m'\u001b[39m, \u001b[38;5;124m'\u001b[39m\u001b[38;5;124mout\u001b[39m\u001b[38;5;124m'\u001b[39m: \u001b[38;5;124m'\u001b[39m\u001b[38;5;124mbel\u001b[39m\u001b[38;5;124m'\u001b[39m},\n",
      "                        \u001b[38;5;124m'\u001b[39m\u001b[38;5;124mparents_path\u001b[39m\u001b[38;5;124m'\u001b[39m: [\u001b[38;5;124m'\u001b[39m\u001b[38;5;124mdirectly_increases\u001b[39m\u001b[38;5;124m'\u001b[39m,\n",
      "                                         \u001b[38;5;124m'\u001b[39m\u001b[38;5;124mcausal\u001b[39m\u001b[38;5;124m'\u001b[39m,\n",
      "                                         \u001b[38;5;124m'\u001b[39m\u001b[38;5;124mbel_relation\u001b[39m\u001b[38;5;124m'\u001b[39m,\n",
      "                                         \u001b[38;5;124m'\u001b[39m\u001b[38;5;124mE\u001b[39m\u001b[38;5;124m'\u001b[39m]},\n",
      " \u001b[38;5;124m'\u001b[39m\u001b[38;5;124mgenomic\u001b[39m\u001b[38;5;124m'\u001b[39m: {\u001b[38;5;124m'\u001b[39m\u001b[38;5;124mabstract\u001b[39m\u001b[38;5;124m'\u001b[39m: \u001b[38;5;28;01mTrue\u001b[39;00m,\n",
      "             \u001b[38;5;124m'\u001b[39m\u001b[38;5;124mchildren\u001b[39m\u001b[38;5;124m'\u001b[39m: [{\u001b[38;5;124m'\u001b[39m\u001b[38;5;124mabstract\u001b[39m\u001b[38;5;124m'\u001b[39m: \u001b[38;5;28;01mFalse\u001b[39;00m, \u001b[38;5;124m'\u001b[39m\u001b[38;5;124mname\u001b[39m\u001b[38;5;124m'\u001b[39m: \u001b[38;5;124m'\u001b[39m\u001b[38;5;124mtranslated_to\u001b[39m\u001b[38;5;124m'\u001b[39m},\n",
      "                          {\u001b[38;5;124m'\u001b[39m\u001b[38;5;124mabstract\u001b[39m\u001b[38;5;124m'\u001b[39m: \u001b[38;5;28;01mFalse\u001b[39;00m, \u001b[38;5;124m'\u001b[39m\u001b[38;5;124mname\u001b[39m\u001b[38;5;124m'\u001b[39m: \u001b[38;5;124m'\u001b[39m\u001b[38;5;124mtranscribed_to\u001b[39m\u001b[38;5;124m'\u001b[39m}],\n",
      "             \u001b[38;5;124m'\u001b[39m\u001b[38;5;124mparents_path\u001b[39m\u001b[38;5;124m'\u001b[39m: [\u001b[38;5;124m'\u001b[39m\u001b[38;5;124mgenomic\u001b[39m\u001b[38;5;124m'\u001b[39m, \u001b[38;5;124m'\u001b[39m\u001b[38;5;124mbel_relation\u001b[39m\u001b[38;5;124m'\u001b[39m, \u001b[38;5;124m'\u001b[39m\u001b[38;5;124mE\u001b[39m\u001b[38;5;124m'\u001b[39m]},\n",
      " \u001b[38;5;124m'\u001b[39m\u001b[38;5;124mhas_modification\u001b[39m\u001b[38;5;124m'\u001b[39m: {\u001b[38;5;124m'\u001b[39m\u001b[38;5;124mabstract\u001b[39m\u001b[38;5;124m'\u001b[39m: \u001b[38;5;28;01mFalse\u001b[39;00m,\n",
      "                      \u001b[38;5;124m'\u001b[39m\u001b[38;5;124mchildren\u001b[39m\u001b[38;5;124m'\u001b[39m: [],\n",
      "                      \u001b[38;5;124m'\u001b[39m\u001b[38;5;124min_out\u001b[39m\u001b[38;5;124m'\u001b[39m: {\u001b[38;5;124m'\u001b[39m\u001b[38;5;124min\u001b[39m\u001b[38;5;124m'\u001b[39m: \u001b[38;5;124m'\u001b[39m\u001b[38;5;124mbel\u001b[39m\u001b[38;5;124m'\u001b[39m, \u001b[38;5;124m'\u001b[39m\u001b[38;5;124mout\u001b[39m\u001b[38;5;124m'\u001b[39m: \u001b[38;5;124m'\u001b[39m\u001b[38;5;124mbel\u001b[39m\u001b[38;5;124m'\u001b[39m},\n",
      "                      \u001b[38;5;124m'\u001b[39m\u001b[38;5;124mparents_path\u001b[39m\u001b[38;5;124m'\u001b[39m: [\u001b[38;5;124m'\u001b[39m\u001b[38;5;124mhas_modification\u001b[39m\u001b[38;5;124m'\u001b[39m,\n",
      "                                       \u001b[38;5;124m'\u001b[39m\u001b[38;5;124mcompiler\u001b[39m\u001b[38;5;124m'\u001b[39m,\n",
      "                                       \u001b[38;5;124m'\u001b[39m\u001b[38;5;124mbel_relation\u001b[39m\u001b[38;5;124m'\u001b[39m,\n",
      "                                       \u001b[38;5;124m'\u001b[39m\u001b[38;5;124mE\u001b[39m\u001b[38;5;124m'\u001b[39m]},\n",
      " \u001b[38;5;124m'\u001b[39m\u001b[38;5;124mhas_product\u001b[39m\u001b[38;5;124m'\u001b[39m: {\u001b[38;5;124m'\u001b[39m\u001b[38;5;124mabstract\u001b[39m\u001b[38;5;124m'\u001b[39m: \u001b[38;5;28;01mFalse\u001b[39;00m,\n",
      "                 \u001b[38;5;124m'\u001b[39m\u001b[38;5;124mchildren\u001b[39m\u001b[38;5;124m'\u001b[39m: [],\n",
      "                 \u001b[38;5;124m'\u001b[39m\u001b[38;5;124min_out\u001b[39m\u001b[38;5;124m'\u001b[39m: {\u001b[38;5;124m'\u001b[39m\u001b[38;5;124min\u001b[39m\u001b[38;5;124m'\u001b[39m: \u001b[38;5;124m'\u001b[39m\u001b[38;5;124mbel\u001b[39m\u001b[38;5;124m'\u001b[39m, \u001b[38;5;124m'\u001b[39m\u001b[38;5;124mout\u001b[39m\u001b[38;5;124m'\u001b[39m: \u001b[38;5;124m'\u001b[39m\u001b[38;5;124mbel\u001b[39m\u001b[38;5;124m'\u001b[39m},\n",
      "                 \u001b[38;5;124m'\u001b[39m\u001b[38;5;124mparents_path\u001b[39m\u001b[38;5;124m'\u001b[39m: [\u001b[38;5;124m'\u001b[39m\u001b[38;5;124mhas_product\u001b[39m\u001b[38;5;124m'\u001b[39m,\n",
      "                                  \u001b[38;5;124m'\u001b[39m\u001b[38;5;124mcompiler\u001b[39m\u001b[38;5;124m'\u001b[39m,\n",
      "                                  \u001b[38;5;124m'\u001b[39m\u001b[38;5;124mbel_relation\u001b[39m\u001b[38;5;124m'\u001b[39m,\n",
      "                                  \u001b[38;5;124m'\u001b[39m\u001b[38;5;124mE\u001b[39m\u001b[38;5;124m'\u001b[39m]},\n",
      " \u001b[38;5;124m'\u001b[39m\u001b[38;5;124mhas_variant\u001b[39m\u001b[38;5;124m'\u001b[39m: {\u001b[38;5;124m'\u001b[39m\u001b[38;5;124mabstract\u001b[39m\u001b[38;5;124m'\u001b[39m: \u001b[38;5;28;01mFalse\u001b[39;00m,\n",
      "                 \u001b[38;5;124m'\u001b[39m\u001b[38;5;124mchildren\u001b[39m\u001b[38;5;124m'\u001b[39m: [],\n",
      "                 \u001b[38;5;124m'\u001b[39m\u001b[38;5;124min_out\u001b[39m\u001b[38;5;124m'\u001b[39m: {\u001b[38;5;124m'\u001b[39m\u001b[38;5;124min\u001b[39m\u001b[38;5;124m'\u001b[39m: \u001b[38;5;124m'\u001b[39m\u001b[38;5;124mbel\u001b[39m\u001b[38;5;124m'\u001b[39m, \u001b[38;5;124m'\u001b[39m\u001b[38;5;124mout\u001b[39m\u001b[38;5;124m'\u001b[39m: \u001b[38;5;124m'\u001b[39m\u001b[38;5;124mbel\u001b[39m\u001b[38;5;124m'\u001b[39m},\n",
      "                 \u001b[38;5;124m'\u001b[39m\u001b[38;5;124mparents_path\u001b[39m\u001b[38;5;124m'\u001b[39m: [\u001b[38;5;124m'\u001b[39m\u001b[38;5;124mhas_variant\u001b[39m\u001b[38;5;124m'\u001b[39m,\n",
      "                                  \u001b[38;5;124m'\u001b[39m\u001b[38;5;124mcompiler\u001b[39m\u001b[38;5;124m'\u001b[39m,\n",
      "                                  \u001b[38;5;124m'\u001b[39m\u001b[38;5;124mbel_relation\u001b[39m\u001b[38;5;124m'\u001b[39m,\n",
      "                                  \u001b[38;5;124m'\u001b[39m\u001b[38;5;124mE\u001b[39m\u001b[38;5;124m'\u001b[39m]},\n",
      " \u001b[38;5;124m'\u001b[39m\u001b[38;5;124mincludes\u001b[39m\u001b[38;5;124m'\u001b[39m: {\u001b[38;5;124m'\u001b[39m\u001b[38;5;124mabstract\u001b[39m\u001b[38;5;124m'\u001b[39m: \u001b[38;5;28;01mFalse\u001b[39;00m,\n",
      "              \u001b[38;5;124m'\u001b[39m\u001b[38;5;124mchildren\u001b[39m\u001b[38;5;124m'\u001b[39m: [],\n",
      "              \u001b[38;5;124m'\u001b[39m\u001b[38;5;124min_out\u001b[39m\u001b[38;5;124m'\u001b[39m: {\u001b[38;5;124m'\u001b[39m\u001b[38;5;124min\u001b[39m\u001b[38;5;124m'\u001b[39m: \u001b[38;5;124m'\u001b[39m\u001b[38;5;124mbel\u001b[39m\u001b[38;5;124m'\u001b[39m, \u001b[38;5;124m'\u001b[39m\u001b[38;5;124mout\u001b[39m\u001b[38;5;124m'\u001b[39m: \u001b[38;5;124m'\u001b[39m\u001b[38;5;124mbel\u001b[39m\u001b[38;5;124m'\u001b[39m},\n",
      "              \u001b[38;5;124m'\u001b[39m\u001b[38;5;124mparents_path\u001b[39m\u001b[38;5;124m'\u001b[39m: [\u001b[38;5;124m'\u001b[39m\u001b[38;5;124mincludes\u001b[39m\u001b[38;5;124m'\u001b[39m, \u001b[38;5;124m'\u001b[39m\u001b[38;5;124mcompiler\u001b[39m\u001b[38;5;124m'\u001b[39m, \u001b[38;5;124m'\u001b[39m\u001b[38;5;124mbel_relation\u001b[39m\u001b[38;5;124m'\u001b[39m, \u001b[38;5;124m'\u001b[39m\u001b[38;5;124mE\u001b[39m\u001b[38;5;124m'\u001b[39m]},\n",
      " \u001b[38;5;124m'\u001b[39m\u001b[38;5;124mincreases\u001b[39m\u001b[38;5;124m'\u001b[39m: {\u001b[38;5;124m'\u001b[39m\u001b[38;5;124mabstract\u001b[39m\u001b[38;5;124m'\u001b[39m: \u001b[38;5;28;01mFalse\u001b[39;00m,\n",
      "               \u001b[38;5;124m'\u001b[39m\u001b[38;5;124mchildren\u001b[39m\u001b[38;5;124m'\u001b[39m: [],\n",
      "               \u001b[38;5;124m'\u001b[39m\u001b[38;5;124min_out\u001b[39m\u001b[38;5;124m'\u001b[39m: {\u001b[38;5;124m'\u001b[39m\u001b[38;5;124min\u001b[39m\u001b[38;5;124m'\u001b[39m: \u001b[38;5;124m'\u001b[39m\u001b[38;5;124mbel\u001b[39m\u001b[38;5;124m'\u001b[39m, \u001b[38;5;124m'\u001b[39m\u001b[38;5;124mout\u001b[39m\u001b[38;5;124m'\u001b[39m: \u001b[38;5;124m'\u001b[39m\u001b[38;5;124mbel\u001b[39m\u001b[38;5;124m'\u001b[39m},\n",
      "               \u001b[38;5;124m'\u001b[39m\u001b[38;5;124mparents_path\u001b[39m\u001b[38;5;124m'\u001b[39m: [\u001b[38;5;124m'\u001b[39m\u001b[38;5;124mincreases\u001b[39m\u001b[38;5;124m'\u001b[39m, \u001b[38;5;124m'\u001b[39m\u001b[38;5;124mcausal\u001b[39m\u001b[38;5;124m'\u001b[39m, \u001b[38;5;124m'\u001b[39m\u001b[38;5;124mbel_relation\u001b[39m\u001b[38;5;124m'\u001b[39m, \u001b[38;5;124m'\u001b[39m\u001b[38;5;124mE\u001b[39m\u001b[38;5;124m'\u001b[39m]},\n",
      " \u001b[38;5;124m'\u001b[39m\u001b[38;5;124mnegative_correlation\u001b[39m\u001b[38;5;124m'\u001b[39m: {\u001b[38;5;124m'\u001b[39m\u001b[38;5;124mabstract\u001b[39m\u001b[38;5;124m'\u001b[39m: \u001b[38;5;28;01mFalse\u001b[39;00m,\n",
      "                          \u001b[38;5;124m'\u001b[39m\u001b[38;5;124mchildren\u001b[39m\u001b[38;5;124m'\u001b[39m: [],\n",
      "                          \u001b[38;5;124m'\u001b[39m\u001b[38;5;124min_out\u001b[39m\u001b[38;5;124m'\u001b[39m: {\u001b[38;5;124m'\u001b[39m\u001b[38;5;124min\u001b[39m\u001b[38;5;124m'\u001b[39m: \u001b[38;5;124m'\u001b[39m\u001b[38;5;124mbel\u001b[39m\u001b[38;5;124m'\u001b[39m, \u001b[38;5;124m'\u001b[39m\u001b[38;5;124mout\u001b[39m\u001b[38;5;124m'\u001b[39m: \u001b[38;5;124m'\u001b[39m\u001b[38;5;124mbel\u001b[39m\u001b[38;5;124m'\u001b[39m},\n",
      "                          \u001b[38;5;124m'\u001b[39m\u001b[38;5;124mparents_path\u001b[39m\u001b[38;5;124m'\u001b[39m: [\u001b[38;5;124m'\u001b[39m\u001b[38;5;124mnegative_correlation\u001b[39m\u001b[38;5;124m'\u001b[39m,\n",
      "                                           \u001b[38;5;124m'\u001b[39m\u001b[38;5;124mcorrelative\u001b[39m\u001b[38;5;124m'\u001b[39m,\n",
      "                                           \u001b[38;5;124m'\u001b[39m\u001b[38;5;124mbel_relation\u001b[39m\u001b[38;5;124m'\u001b[39m,\n",
      "                                           \u001b[38;5;124m'\u001b[39m\u001b[38;5;124mE\u001b[39m\u001b[38;5;124m'\u001b[39m]},\n",
      " \u001b[38;5;124m'\u001b[39m\u001b[38;5;124mno_correlation\u001b[39m\u001b[38;5;124m'\u001b[39m: {\u001b[38;5;124m'\u001b[39m\u001b[38;5;124mabstract\u001b[39m\u001b[38;5;124m'\u001b[39m: \u001b[38;5;28;01mFalse\u001b[39;00m,\n",
      "                    \u001b[38;5;124m'\u001b[39m\u001b[38;5;124mchildren\u001b[39m\u001b[38;5;124m'\u001b[39m: [],\n",
      "                    \u001b[38;5;124m'\u001b[39m\u001b[38;5;124min_out\u001b[39m\u001b[38;5;124m'\u001b[39m: {\u001b[38;5;124m'\u001b[39m\u001b[38;5;124min\u001b[39m\u001b[38;5;124m'\u001b[39m: \u001b[38;5;124m'\u001b[39m\u001b[38;5;124mbel\u001b[39m\u001b[38;5;124m'\u001b[39m, \u001b[38;5;124m'\u001b[39m\u001b[38;5;124mout\u001b[39m\u001b[38;5;124m'\u001b[39m: \u001b[38;5;124m'\u001b[39m\u001b[38;5;124mbel\u001b[39m\u001b[38;5;124m'\u001b[39m},\n",
      "                    \u001b[38;5;124m'\u001b[39m\u001b[38;5;124mparents_path\u001b[39m\u001b[38;5;124m'\u001b[39m: [\u001b[38;5;124m'\u001b[39m\u001b[38;5;124mno_correlation\u001b[39m\u001b[38;5;124m'\u001b[39m,\n",
      "                                     \u001b[38;5;124m'\u001b[39m\u001b[38;5;124mcorrelative\u001b[39m\u001b[38;5;124m'\u001b[39m,\n",
      "                                     \u001b[38;5;124m'\u001b[39m\u001b[38;5;124mbel_relation\u001b[39m\u001b[38;5;124m'\u001b[39m,\n",
      "                                     \u001b[38;5;124m'\u001b[39m\u001b[38;5;124mE\u001b[39m\u001b[38;5;124m'\u001b[39m]},\n",
      " \u001b[38;5;124m'\u001b[39m\u001b[38;5;124mpositive_correlation\u001b[39m\u001b[38;5;124m'\u001b[39m: {\u001b[38;5;124m'\u001b[39m\u001b[38;5;124mabstract\u001b[39m\u001b[38;5;124m'\u001b[39m: \u001b[38;5;28;01mFalse\u001b[39;00m,\n",
      "                          \u001b[38;5;124m'\u001b[39m\u001b[38;5;124mchildren\u001b[39m\u001b[38;5;124m'\u001b[39m: [],\n",
      "                          \u001b[38;5;124m'\u001b[39m\u001b[38;5;124min_out\u001b[39m\u001b[38;5;124m'\u001b[39m: {\u001b[38;5;124m'\u001b[39m\u001b[38;5;124min\u001b[39m\u001b[38;5;124m'\u001b[39m: \u001b[38;5;124m'\u001b[39m\u001b[38;5;124mbel\u001b[39m\u001b[38;5;124m'\u001b[39m, \u001b[38;5;124m'\u001b[39m\u001b[38;5;124mout\u001b[39m\u001b[38;5;124m'\u001b[39m: \u001b[38;5;124m'\u001b[39m\u001b[38;5;124mbel\u001b[39m\u001b[38;5;124m'\u001b[39m},\n",
      "                          \u001b[38;5;124m'\u001b[39m\u001b[38;5;124mparents_path\u001b[39m\u001b[38;5;124m'\u001b[39m: [\u001b[38;5;124m'\u001b[39m\u001b[38;5;124mpositive_correlation\u001b[39m\u001b[38;5;124m'\u001b[39m,\n",
      "                                           \u001b[38;5;124m'\u001b[39m\u001b[38;5;124mcorrelative\u001b[39m\u001b[38;5;124m'\u001b[39m,\n",
      "                                           \u001b[38;5;124m'\u001b[39m\u001b[38;5;124mbel_relation\u001b[39m\u001b[38;5;124m'\u001b[39m,\n",
      "                                           \u001b[38;5;124m'\u001b[39m\u001b[38;5;124mE\u001b[39m\u001b[38;5;124m'\u001b[39m]},\n",
      " \u001b[38;5;124m'\u001b[39m\u001b[38;5;124mprognostic_biomarker_for\u001b[39m\u001b[38;5;124m'\u001b[39m: {\u001b[38;5;124m'\u001b[39m\u001b[38;5;124mabstract\u001b[39m\u001b[38;5;124m'\u001b[39m: \u001b[38;5;28;01mFalse\u001b[39;00m,\n",
      "                              \u001b[38;5;124m'\u001b[39m\u001b[38;5;124mchildren\u001b[39m\u001b[38;5;124m'\u001b[39m: [],\n",
      "                              \u001b[38;5;124m'\u001b[39m\u001b[38;5;124mparents_path\u001b[39m\u001b[38;5;124m'\u001b[39m: [\u001b[38;5;124m'\u001b[39m\u001b[38;5;124mprognostic_biomarker_for\u001b[39m\u001b[38;5;124m'\u001b[39m,\n",
      "                                               \u001b[38;5;124m'\u001b[39m\u001b[38;5;124mdeprecated\u001b[39m\u001b[38;5;124m'\u001b[39m,\n",
      "                                               \u001b[38;5;124m'\u001b[39m\u001b[38;5;124mbel_relation\u001b[39m\u001b[38;5;124m'\u001b[39m,\n",
      "                                               \u001b[38;5;124m'\u001b[39m\u001b[38;5;124mE\u001b[39m\u001b[38;5;124m'\u001b[39m]},\n",
      " \u001b[38;5;124m'\u001b[39m\u001b[38;5;124mrate_limiting_step_of\u001b[39m\u001b[38;5;124m'\u001b[39m: {\u001b[38;5;124m'\u001b[39m\u001b[38;5;124mabstract\u001b[39m\u001b[38;5;124m'\u001b[39m: \u001b[38;5;28;01mFalse\u001b[39;00m,\n",
      "                           \u001b[38;5;124m'\u001b[39m\u001b[38;5;124mchildren\u001b[39m\u001b[38;5;124m'\u001b[39m: [],\n",
      "                           \u001b[38;5;124m'\u001b[39m\u001b[38;5;124min_out\u001b[39m\u001b[38;5;124m'\u001b[39m: {\u001b[38;5;124m'\u001b[39m\u001b[38;5;124min\u001b[39m\u001b[38;5;124m'\u001b[39m: \u001b[38;5;124m'\u001b[39m\u001b[38;5;124mbel\u001b[39m\u001b[38;5;124m'\u001b[39m, \u001b[38;5;124m'\u001b[39m\u001b[38;5;124mout\u001b[39m\u001b[38;5;124m'\u001b[39m: \u001b[38;5;124m'\u001b[39m\u001b[38;5;124mbel\u001b[39m\u001b[38;5;124m'\u001b[39m},\n",
      "                           \u001b[38;5;124m'\u001b[39m\u001b[38;5;124mparents_path\u001b[39m\u001b[38;5;124m'\u001b[39m: [\u001b[38;5;124m'\u001b[39m\u001b[38;5;124mrate_limiting_step_of\u001b[39m\u001b[38;5;124m'\u001b[39m,\n",
      "                                            \u001b[38;5;124m'\u001b[39m\u001b[38;5;124mcausal\u001b[39m\u001b[38;5;124m'\u001b[39m,\n",
      "                                            \u001b[38;5;124m'\u001b[39m\u001b[38;5;124mbel_relation\u001b[39m\u001b[38;5;124m'\u001b[39m,\n",
      "                                            \u001b[38;5;124m'\u001b[39m\u001b[38;5;124mE\u001b[39m\u001b[38;5;124m'\u001b[39m]},\n",
      " \u001b[38;5;124m'\u001b[39m\u001b[38;5;124mreactant_in\u001b[39m\u001b[38;5;124m'\u001b[39m: {\u001b[38;5;124m'\u001b[39m\u001b[38;5;124mabstract\u001b[39m\u001b[38;5;124m'\u001b[39m: \u001b[38;5;28;01mFalse\u001b[39;00m,\n",
      "                 \u001b[38;5;124m'\u001b[39m\u001b[38;5;124mchildren\u001b[39m\u001b[38;5;124m'\u001b[39m: [],\n",
      "                 \u001b[38;5;124m'\u001b[39m\u001b[38;5;124min_out\u001b[39m\u001b[38;5;124m'\u001b[39m: {\u001b[38;5;124m'\u001b[39m\u001b[38;5;124min\u001b[39m\u001b[38;5;124m'\u001b[39m: \u001b[38;5;124m'\u001b[39m\u001b[38;5;124mbel\u001b[39m\u001b[38;5;124m'\u001b[39m, \u001b[38;5;124m'\u001b[39m\u001b[38;5;124mout\u001b[39m\u001b[38;5;124m'\u001b[39m: \u001b[38;5;124m'\u001b[39m\u001b[38;5;124mbel\u001b[39m\u001b[38;5;124m'\u001b[39m},\n",
      "                 \u001b[38;5;124m'\u001b[39m\u001b[38;5;124mparents_path\u001b[39m\u001b[38;5;124m'\u001b[39m: [\u001b[38;5;124m'\u001b[39m\u001b[38;5;124mreactant_in\u001b[39m\u001b[38;5;124m'\u001b[39m,\n",
      "                                  \u001b[38;5;124m'\u001b[39m\u001b[38;5;124mcompiler\u001b[39m\u001b[38;5;124m'\u001b[39m,\n",
      "                                  \u001b[38;5;124m'\u001b[39m\u001b[38;5;124mbel_relation\u001b[39m\u001b[38;5;124m'\u001b[39m,\n",
      "                                  \u001b[38;5;124m'\u001b[39m\u001b[38;5;124mE\u001b[39m\u001b[38;5;124m'\u001b[39m]},\n",
      " \u001b[38;5;124m'\u001b[39m\u001b[38;5;124mregulates\u001b[39m\u001b[38;5;124m'\u001b[39m: {\u001b[38;5;124m'\u001b[39m\u001b[38;5;124mabstract\u001b[39m\u001b[38;5;124m'\u001b[39m: \u001b[38;5;28;01mFalse\u001b[39;00m,\n",
      "               \u001b[38;5;124m'\u001b[39m\u001b[38;5;124mchildren\u001b[39m\u001b[38;5;124m'\u001b[39m: [],\n",
      "               \u001b[38;5;124m'\u001b[39m\u001b[38;5;124min_out\u001b[39m\u001b[38;5;124m'\u001b[39m: {\u001b[38;5;124m'\u001b[39m\u001b[38;5;124min\u001b[39m\u001b[38;5;124m'\u001b[39m: \u001b[38;5;124m'\u001b[39m\u001b[38;5;124mbel\u001b[39m\u001b[38;5;124m'\u001b[39m, \u001b[38;5;124m'\u001b[39m\u001b[38;5;124mout\u001b[39m\u001b[38;5;124m'\u001b[39m: \u001b[38;5;124m'\u001b[39m\u001b[38;5;124mbel\u001b[39m\u001b[38;5;124m'\u001b[39m},\n",
      "               \u001b[38;5;124m'\u001b[39m\u001b[38;5;124mparents_path\u001b[39m\u001b[38;5;124m'\u001b[39m: [\u001b[38;5;124m'\u001b[39m\u001b[38;5;124mregulates\u001b[39m\u001b[38;5;124m'\u001b[39m, \u001b[38;5;124m'\u001b[39m\u001b[38;5;124mcausal\u001b[39m\u001b[38;5;124m'\u001b[39m, \u001b[38;5;124m'\u001b[39m\u001b[38;5;124mbel_relation\u001b[39m\u001b[38;5;124m'\u001b[39m, \u001b[38;5;124m'\u001b[39m\u001b[38;5;124mE\u001b[39m\u001b[38;5;124m'\u001b[39m]},\n",
      " \u001b[38;5;124m'\u001b[39m\u001b[38;5;124mtranscribed_to\u001b[39m\u001b[38;5;124m'\u001b[39m: {\u001b[38;5;124m'\u001b[39m\u001b[38;5;124mabstract\u001b[39m\u001b[38;5;124m'\u001b[39m: \u001b[38;5;28;01mFalse\u001b[39;00m,\n",
      "                    \u001b[38;5;124m'\u001b[39m\u001b[38;5;124mchildren\u001b[39m\u001b[38;5;124m'\u001b[39m: [],\n",
      "                    \u001b[38;5;124m'\u001b[39m\u001b[38;5;124min_out\u001b[39m\u001b[38;5;124m'\u001b[39m: {\u001b[38;5;124m'\u001b[39m\u001b[38;5;124min\u001b[39m\u001b[38;5;124m'\u001b[39m: \u001b[38;5;124m'\u001b[39m\u001b[38;5;124mrna\u001b[39m\u001b[38;5;124m'\u001b[39m, \u001b[38;5;124m'\u001b[39m\u001b[38;5;124mout\u001b[39m\u001b[38;5;124m'\u001b[39m: \u001b[38;5;124m'\u001b[39m\u001b[38;5;124mgene\u001b[39m\u001b[38;5;124m'\u001b[39m},\n",
      "                    \u001b[38;5;124m'\u001b[39m\u001b[38;5;124mparents_path\u001b[39m\u001b[38;5;124m'\u001b[39m: [\u001b[38;5;124m'\u001b[39m\u001b[38;5;124mtranscribed_to\u001b[39m\u001b[38;5;124m'\u001b[39m,\n",
      "                                     \u001b[38;5;124m'\u001b[39m\u001b[38;5;124mgenomic\u001b[39m\u001b[38;5;124m'\u001b[39m,\n",
      "                                     \u001b[38;5;124m'\u001b[39m\u001b[38;5;124mbel_relation\u001b[39m\u001b[38;5;124m'\u001b[39m,\n",
      "                                     \u001b[38;5;124m'\u001b[39m\u001b[38;5;124mE\u001b[39m\u001b[38;5;124m'\u001b[39m]},\n",
      " \u001b[38;5;124m'\u001b[39m\u001b[38;5;124mtranslated_to\u001b[39m\u001b[38;5;124m'\u001b[39m: {\u001b[38;5;124m'\u001b[39m\u001b[38;5;124mabstract\u001b[39m\u001b[38;5;124m'\u001b[39m: \u001b[38;5;28;01mFalse\u001b[39;00m,\n",
      "                   \u001b[38;5;124m'\u001b[39m\u001b[38;5;124mchildren\u001b[39m\u001b[38;5;124m'\u001b[39m: [],\n",
      "                   \u001b[38;5;124m'\u001b[39m\u001b[38;5;124min_out\u001b[39m\u001b[38;5;124m'\u001b[39m: {\u001b[38;5;124m'\u001b[39m\u001b[38;5;124min\u001b[39m\u001b[38;5;124m'\u001b[39m: \u001b[38;5;124m'\u001b[39m\u001b[38;5;124mprotein\u001b[39m\u001b[38;5;124m'\u001b[39m, \u001b[38;5;124m'\u001b[39m\u001b[38;5;124mout\u001b[39m\u001b[38;5;124m'\u001b[39m: \u001b[38;5;124m'\u001b[39m\u001b[38;5;124mrna\u001b[39m\u001b[38;5;124m'\u001b[39m},\n",
      "                   \u001b[38;5;124m'\u001b[39m\u001b[38;5;124mparents_path\u001b[39m\u001b[38;5;124m'\u001b[39m: [\u001b[38;5;124m'\u001b[39m\u001b[38;5;124mtranslated_to\u001b[39m\u001b[38;5;124m'\u001b[39m,\n",
      "                                    \u001b[38;5;124m'\u001b[39m\u001b[38;5;124mgenomic\u001b[39m\u001b[38;5;124m'\u001b[39m,\n",
      "                                    \u001b[38;5;124m'\u001b[39m\u001b[38;5;124mbel_relation\u001b[39m\u001b[38;5;124m'\u001b[39m,\n",
      "                                    \u001b[38;5;124m'\u001b[39m\u001b[38;5;124mE\u001b[39m\u001b[38;5;124m'\u001b[39m]},\n",
      " \u001b[38;5;124m'\u001b[39m\u001b[38;5;124mtranslocates\u001b[39m\u001b[38;5;124m'\u001b[39m: {\u001b[38;5;124m'\u001b[39m\u001b[38;5;124mabstract\u001b[39m\u001b[38;5;124m'\u001b[39m: \u001b[38;5;28;01mFalse\u001b[39;00m,\n",
      "                  \u001b[38;5;124m'\u001b[39m\u001b[38;5;124mchildren\u001b[39m\u001b[38;5;124m'\u001b[39m: [],\n",
      "                  \u001b[38;5;124m'\u001b[39m\u001b[38;5;124min_out\u001b[39m\u001b[38;5;124m'\u001b[39m: {\u001b[38;5;124m'\u001b[39m\u001b[38;5;124min\u001b[39m\u001b[38;5;124m'\u001b[39m: \u001b[38;5;124m'\u001b[39m\u001b[38;5;124mbel\u001b[39m\u001b[38;5;124m'\u001b[39m, \u001b[38;5;124m'\u001b[39m\u001b[38;5;124mout\u001b[39m\u001b[38;5;124m'\u001b[39m: \u001b[38;5;124m'\u001b[39m\u001b[38;5;124mbel\u001b[39m\u001b[38;5;124m'\u001b[39m},\n",
      "                  \u001b[38;5;124m'\u001b[39m\u001b[38;5;124mparents_path\u001b[39m\u001b[38;5;124m'\u001b[39m: [\u001b[38;5;124m'\u001b[39m\u001b[38;5;124mtranslocates\u001b[39m\u001b[38;5;124m'\u001b[39m,\n",
      "                                   \u001b[38;5;124m'\u001b[39m\u001b[38;5;124mcompiler\u001b[39m\u001b[38;5;124m'\u001b[39m,\n",
      "                                   \u001b[38;5;124m'\u001b[39m\u001b[38;5;124mbel_relation\u001b[39m\u001b[38;5;124m'\u001b[39m,\n",
      "                                   \u001b[38;5;124m'\u001b[39m\u001b[38;5;124mE\u001b[39m\u001b[38;5;124m'\u001b[39m]}}\n",
      "\n",
      "For further testing go to http://0.0.0.0:5000/ui/#/BEL/ebel.web.api.ebel.v1.bel.get_bel_relation_types\n"
     ]
    },
    {
     "data": {
      "text/html": [
       "<h2>23. Get child nodes, abstract status of childs, parents path, number of entries, abstract status for all BEL relation types</h2>"
      ],
      "text/plain": [
       "<IPython.core.display.HTML object>"
      ]
     },
     "metadata": {},
     "output_type": "display_data"
    },
    {
     "data": {
      "text/html": [
       "<b style=\"color: rgb(98,98,98); text-decoration: underline;\">Description:</b> <p>Get child nodes, abstract status of childs, parents path, number of entries, abstract status for all BEL relation types</p>"
      ],
      "text/plain": [
       "<IPython.core.display.HTML object>"
      ]
     },
     "metadata": {},
     "output_type": "display_data"
    },
    {
     "data": {
      "text/html": [
       "<b>Tags:</b> ['BEL']"
      ],
      "text/plain": [
       "<IPython.core.display.HTML object>"
      ]
     },
     "metadata": {},
     "output_type": "display_data"
    },
    {
     "data": {
      "text/html": [
       "<b>Server path:</b> /api/v1/bel/relation_types_as_dot"
      ],
      "text/plain": [
       "<IPython.core.display.HTML object>"
      ]
     },
     "metadata": {},
     "output_type": "display_data"
    },
    {
     "name": "stdout",
     "output_type": "stream",
     "text": [
      "without paramters\n"
     ]
    },
    {
     "data": {
      "text/html": [
       "<b>Example URL:</b> <a href=\"http://0.0.0.0:5000/api/v1/bel/relation_types_as_dot\">http://0.0.0.0:5000/api/v1/bel/relation_types_as_dot</a>"
      ],
      "text/plain": [
       "<IPython.core.display.HTML object>"
      ]
     },
     "metadata": {},
     "output_type": "display_data"
    },
    {
     "data": {
      "text/html": [
       "<b style=\"color: rgb(98,98,98); text-decoration: underline;\">Example response:</b>"
      ],
      "text/plain": [
       "<IPython.core.display.HTML object>"
      ]
     },
     "metadata": {},
     "output_type": "display_data"
    },
    {
     "name": "stdout",
     "output_type": "stream",
     "text": [
      "(\u001b[38;5;124m'\u001b[39m\u001b[38;5;124mdigraph \u001b[39m\u001b[38;5;124m{\u001b[39m\u001b[38;5;130;01m\\n\u001b[39;00m\u001b[38;5;124m'\u001b[39m\n",
      " \u001b[38;5;124m'\u001b[39m\u001b[38;5;130;01m\\t\u001b[39;00m\u001b[38;5;124mgraph [rankdir=LR]\u001b[39m\u001b[38;5;130;01m\\n\u001b[39;00m\u001b[38;5;124m'\u001b[39m\n",
      " \u001b[38;5;124m'\u001b[39m\u001b[38;5;130;01m\\t\u001b[39;00m\u001b[38;5;124mnode [shape=plaintext]\u001b[39m\u001b[38;5;130;01m\\n\u001b[39;00m\u001b[38;5;124m'\u001b[39m\n",
      " \u001b[38;5;124m'\u001b[39m\u001b[38;5;130;01m\\t\u001b[39;00m\u001b[38;5;124mcorrelative -> association\u001b[39m\u001b[38;5;130;01m\\n\u001b[39;00m\u001b[38;5;124m'\u001b[39m\n",
      " \u001b[38;5;124m'\u001b[39m\u001b[38;5;130;01m\\t\u001b[39;00m\u001b[38;5;124mcorrelative -> negative_correlation\u001b[39m\u001b[38;5;130;01m\\n\u001b[39;00m\u001b[38;5;124m'\u001b[39m\n",
      " \u001b[38;5;124m'\u001b[39m\u001b[38;5;130;01m\\t\u001b[39;00m\u001b[38;5;124mcorrelative -> positive_correlation\u001b[39m\u001b[38;5;130;01m\\n\u001b[39;00m\u001b[38;5;124m'\u001b[39m\n",
      " \u001b[38;5;124m'\u001b[39m\u001b[38;5;130;01m\\t\u001b[39;00m\u001b[38;5;124mcorrelative -> no_correlation\u001b[39m\u001b[38;5;130;01m\\n\u001b[39;00m\u001b[38;5;124m'\u001b[39m\n",
      " \u001b[38;5;124m'\u001b[39m\u001b[38;5;130;01m\\t\u001b[39;00m\u001b[38;5;124mdeprecated -> analogous_to\u001b[39m\u001b[38;5;130;01m\\n\u001b[39;00m\u001b[38;5;124m'\u001b[39m\n",
      " \u001b[38;5;124m'\u001b[39m\u001b[38;5;130;01m\\t\u001b[39;00m\u001b[38;5;124mdeprecated -> biomarker_for\u001b[39m\u001b[38;5;130;01m\\n\u001b[39;00m\u001b[38;5;124m'\u001b[39m\n",
      " \u001b[38;5;124m'\u001b[39m\u001b[38;5;130;01m\\t\u001b[39;00m\u001b[38;5;124mdeprecated -> prognostic_biomarker_for\u001b[39m\u001b[38;5;130;01m\\n\u001b[39;00m\u001b[38;5;124m'\u001b[39m\n",
      " \u001b[38;5;124m'\u001b[39m\u001b[38;5;130;01m\\t\u001b[39;00m\u001b[38;5;124mgenomic -> translated_to\u001b[39m\u001b[38;5;130;01m\\n\u001b[39;00m\u001b[38;5;124m'\u001b[39m\n",
      " \u001b[38;5;124m'\u001b[39m\u001b[38;5;130;01m\\t\u001b[39;00m\u001b[38;5;124mgenomic -> transcribed_to\u001b[39m\u001b[38;5;130;01m\\n\u001b[39;00m\u001b[38;5;124m'\u001b[39m\n",
      " \u001b[38;5;124m'\u001b[39m\u001b[38;5;130;01m\\t\u001b[39;00m\u001b[38;5;124mcompiler -> translocates\u001b[39m\u001b[38;5;130;01m\\n\u001b[39;00m\u001b[38;5;124m'\u001b[39m\n",
      " \u001b[38;5;124m'\u001b[39m\u001b[38;5;130;01m\\t\u001b[39;00m\u001b[38;5;124mcompiler -> has_product\u001b[39m\u001b[38;5;130;01m\\n\u001b[39;00m\u001b[38;5;124m'\u001b[39m\n",
      " \u001b[38;5;124m'\u001b[39m\u001b[38;5;130;01m\\t\u001b[39;00m\u001b[38;5;124mcompiler -> reactant_in\u001b[39m\u001b[38;5;130;01m\\n\u001b[39;00m\u001b[38;5;124m'\u001b[39m\n",
      " \u001b[38;5;124m'\u001b[39m\u001b[38;5;130;01m\\t\u001b[39;00m\u001b[38;5;124mcompiler -> includes\u001b[39m\u001b[38;5;130;01m\\n\u001b[39;00m\u001b[38;5;124m'\u001b[39m\n",
      " \u001b[38;5;124m'\u001b[39m\u001b[38;5;130;01m\\t\u001b[39;00m\u001b[38;5;124mcompiler -> has_modification\u001b[39m\u001b[38;5;130;01m\\n\u001b[39;00m\u001b[38;5;124m'\u001b[39m\n",
      " \u001b[38;5;124m'\u001b[39m\u001b[38;5;130;01m\\t\u001b[39;00m\u001b[38;5;124mcompiler -> has_variant\u001b[39m\u001b[38;5;130;01m\\n\u001b[39;00m\u001b[38;5;124m'\u001b[39m\n",
      " \u001b[38;5;124m'\u001b[39m\u001b[38;5;130;01m\\t\u001b[39;00m\u001b[38;5;124mcompiler -> acts_in\u001b[39m\u001b[38;5;130;01m\\n\u001b[39;00m\u001b[38;5;124m'\u001b[39m\n",
      " \u001b[38;5;124m'\u001b[39m\u001b[38;5;130;01m\\t\u001b[39;00m\u001b[38;5;124mbel_relation -> correlative\u001b[39m\u001b[38;5;130;01m\\n\u001b[39;00m\u001b[38;5;124m'\u001b[39m\n",
      " \u001b[38;5;124m'\u001b[39m\u001b[38;5;130;01m\\t\u001b[39;00m\u001b[38;5;124mbel_relation -> deprecated\u001b[39m\u001b[38;5;130;01m\\n\u001b[39;00m\u001b[38;5;124m'\u001b[39m\n",
      " \u001b[38;5;124m'\u001b[39m\u001b[38;5;130;01m\\t\u001b[39;00m\u001b[38;5;124mbel_relation -> genomic\u001b[39m\u001b[38;5;130;01m\\n\u001b[39;00m\u001b[38;5;124m'\u001b[39m\n",
      " \u001b[38;5;124m'\u001b[39m\u001b[38;5;130;01m\\t\u001b[39;00m\u001b[38;5;124mbel_relation -> compiler\u001b[39m\u001b[38;5;130;01m\\n\u001b[39;00m\u001b[38;5;124m'\u001b[39m\n",
      " \u001b[38;5;124m'\u001b[39m\u001b[38;5;130;01m\\t\u001b[39;00m\u001b[38;5;124mbel_relation -> causal\u001b[39m\u001b[38;5;130;01m\\n\u001b[39;00m\u001b[38;5;124m'\u001b[39m\n",
      " \u001b[38;5;124m'\u001b[39m\u001b[38;5;130;01m\\t\u001b[39;00m\u001b[38;5;124mcausal -> regulates\u001b[39m\u001b[38;5;130;01m\\n\u001b[39;00m\u001b[38;5;124m'\u001b[39m\n",
      " \u001b[38;5;124m'\u001b[39m\u001b[38;5;130;01m\\t\u001b[39;00m\u001b[38;5;124mcausal -> causes_no_change\u001b[39m\u001b[38;5;130;01m\\n\u001b[39;00m\u001b[38;5;124m'\u001b[39m\n",
      " \u001b[38;5;124m'\u001b[39m\u001b[38;5;130;01m\\t\u001b[39;00m\u001b[38;5;124mcausal -> increases\u001b[39m\u001b[38;5;130;01m\\n\u001b[39;00m\u001b[38;5;124m'\u001b[39m\n",
      " \u001b[38;5;124m'\u001b[39m\u001b[38;5;130;01m\\t\u001b[39;00m\u001b[38;5;124mcausal -> directly_decreases\u001b[39m\u001b[38;5;130;01m\\n\u001b[39;00m\u001b[38;5;124m'\u001b[39m\n",
      " \u001b[38;5;124m'\u001b[39m\u001b[38;5;130;01m\\t\u001b[39;00m\u001b[38;5;124mcausal -> rate_limiting_step_of\u001b[39m\u001b[38;5;130;01m\\n\u001b[39;00m\u001b[38;5;124m'\u001b[39m\n",
      " \u001b[38;5;124m'\u001b[39m\u001b[38;5;130;01m\\t\u001b[39;00m\u001b[38;5;124mcausal -> decreases\u001b[39m\u001b[38;5;130;01m\\n\u001b[39;00m\u001b[38;5;124m'\u001b[39m\n",
      " \u001b[38;5;124m'\u001b[39m\u001b[38;5;130;01m\\t\u001b[39;00m\u001b[38;5;124mcausal -> directly_increases\u001b[39m\u001b[38;5;130;01m\\n\u001b[39;00m\u001b[38;5;124m'\u001b[39m\n",
      " \u001b[38;5;124m'\u001b[39m\u001b[38;5;124m}\u001b[39m\u001b[38;5;124m'\u001b[39m)\n",
      "\n",
      "For further testing go to http://0.0.0.0:5000/ui/#/BEL/ebel.web.api.ebel.v1.bel.get_bel_relation_types_as_dot\n"
     ]
    }
   ],
   "source": [
    "import api_doc\n",
    "api_doc.get_api_methods_by_tag('BEL')"
   ]
  }
 ],
 "metadata": {
  "kernelspec": {
   "display_name": "Python 3 (ipykernel)",
   "language": "python",
   "name": "python3"
  },
  "language_info": {
   "codemirror_mode": {
    "name": "ipython",
    "version": 3
   },
   "file_extension": ".py",
   "mimetype": "text/x-python",
   "name": "python",
   "nbconvert_exporter": "python",
   "pygments_lexer": "ipython3",
   "version": "3.8.10"
  },
  "toc": {
   "base_numbering": 1,
   "nav_menu": {},
   "number_sections": true,
   "sideBar": true,
   "skip_h1_title": true,
   "title_cell": "Table of Contents",
   "title_sidebar": "Contents",
   "toc_cell": false,
   "toc_position": {},
   "toc_section_display": true,
   "toc_window_display": false
  }
 },
 "nbformat": 4,
 "nbformat_minor": 5
}
