{
 "cells": [
  {
   "cell_type": "markdown",
   "id": "bf137ffa",
   "metadata": {},
   "source": [
    "# NCBI Gene API methods"
   ]
  },
  {
   "cell_type": "code",
   "execution_count": 1,
   "id": "47e282e4",
   "metadata": {
    "scrolled": false
   },
   "outputs": [
    {
     "data": {
      "text/html": [
       "<h2>1. NCBI Gene IDs by Ensembl</h2>"
      ],
      "text/plain": [
       "<IPython.core.display.HTML object>"
      ]
     },
     "metadata": {},
     "output_type": "display_data"
    },
    {
     "data": {
      "text/html": [
       "<b style=\"color: rgb(98,98,98); text-decoration: underline;\">Description:</b> <p>NCBI Gene IDs by Ensembl</p>"
      ],
      "text/plain": [
       "<IPython.core.display.HTML object>"
      ]
     },
     "metadata": {},
     "output_type": "display_data"
    },
    {
     "data": {
      "text/html": [
       "<b>Tags:</b> ['NCBI Gene']"
      ],
      "text/plain": [
       "<IPython.core.display.HTML object>"
      ]
     },
     "metadata": {},
     "output_type": "display_data"
    },
    {
     "data": {
      "text/html": [
       "<b>Server path:</b> /api/v1/ebel/ncbi/gene/by_ensembl"
      ],
      "text/plain": [
       "<IPython.core.display.HTML object>"
      ]
     },
     "metadata": {},
     "output_type": "display_data"
    },
    {
     "data": {
      "text/html": [
       "<div>\n",
       "<style scoped>\n",
       "    .dataframe tbody tr th:only-of-type {\n",
       "        vertical-align: middle;\n",
       "    }\n",
       "\n",
       "    .dataframe tbody tr th {\n",
       "        vertical-align: top;\n",
       "    }\n",
       "\n",
       "    .dataframe thead th {\n",
       "        text-align: right;\n",
       "    }\n",
       "</style>\n",
       "<table border=\"1\" class=\"dataframe\">\n",
       "  <thead>\n",
       "    <tr style=\"text-align: right;\">\n",
       "      <th></th>\n",
       "      <th>data type</th>\n",
       "      <th>description</th>\n",
       "      <th>example</th>\n",
       "      <th>options</th>\n",
       "      <th>default</th>\n",
       "      <th>required</th>\n",
       "    </tr>\n",
       "    <tr>\n",
       "      <th>parameter name</th>\n",
       "      <th></th>\n",
       "      <th></th>\n",
       "      <th></th>\n",
       "      <th></th>\n",
       "      <th></th>\n",
       "      <th></th>\n",
       "    </tr>\n",
       "  </thead>\n",
       "  <tbody>\n",
       "    <tr>\n",
       "      <th>tax_id</th>\n",
       "      <td>string</td>\n",
       "      <td></td>\n",
       "      <td>9606</td>\n",
       "      <td></td>\n",
       "      <td></td>\n",
       "      <td>False</td>\n",
       "    </tr>\n",
       "    <tr>\n",
       "      <th>gene_id</th>\n",
       "      <td>string</td>\n",
       "      <td></td>\n",
       "      <td>945</td>\n",
       "      <td></td>\n",
       "      <td></td>\n",
       "      <td>False</td>\n",
       "    </tr>\n",
       "    <tr>\n",
       "      <th>ensembl_gene_identifier</th>\n",
       "      <td>string</td>\n",
       "      <td></td>\n",
       "      <td>ENSG00000105383</td>\n",
       "      <td></td>\n",
       "      <td></td>\n",
       "      <td>False</td>\n",
       "    </tr>\n",
       "    <tr>\n",
       "      <th>rna_nucleotide_accession_version</th>\n",
       "      <td>string</td>\n",
       "      <td></td>\n",
       "      <td>NM_001082618.2</td>\n",
       "      <td></td>\n",
       "      <td></td>\n",
       "      <td>False</td>\n",
       "    </tr>\n",
       "    <tr>\n",
       "      <th>ensembl_rna_identifier</th>\n",
       "      <td>string</td>\n",
       "      <td></td>\n",
       "      <td>ENST00000421133.6</td>\n",
       "      <td></td>\n",
       "      <td></td>\n",
       "      <td>False</td>\n",
       "    </tr>\n",
       "    <tr>\n",
       "      <th>protein_accession_version</th>\n",
       "      <td>string</td>\n",
       "      <td></td>\n",
       "      <td>NP_001076087.1</td>\n",
       "      <td></td>\n",
       "      <td></td>\n",
       "      <td>False</td>\n",
       "    </tr>\n",
       "    <tr>\n",
       "      <th>ensembl_protein_identifier</th>\n",
       "      <td>string</td>\n",
       "      <td></td>\n",
       "      <td>ENSP00000410126.1</td>\n",
       "      <td></td>\n",
       "      <td></td>\n",
       "      <td>False</td>\n",
       "    </tr>\n",
       "    <tr>\n",
       "      <th>page_size</th>\n",
       "      <td>integer</td>\n",
       "      <td>Results per page</td>\n",
       "      <td>1</td>\n",
       "      <td></td>\n",
       "      <td>10.0</td>\n",
       "      <td>False</td>\n",
       "    </tr>\n",
       "    <tr>\n",
       "      <th>page</th>\n",
       "      <td>integer</td>\n",
       "      <td>Page number (starting with 1)</td>\n",
       "      <td>1</td>\n",
       "      <td></td>\n",
       "      <td>1.0</td>\n",
       "      <td>False</td>\n",
       "    </tr>\n",
       "  </tbody>\n",
       "</table>\n",
       "</div>"
      ],
      "text/plain": [
       "                                 data type                    description  \\\n",
       "parameter name                                                              \n",
       "tax_id                              string                                  \n",
       "gene_id                             string                                  \n",
       "ensembl_gene_identifier             string                                  \n",
       "rna_nucleotide_accession_version    string                                  \n",
       "ensembl_rna_identifier              string                                  \n",
       "protein_accession_version           string                                  \n",
       "ensembl_protein_identifier          string                                  \n",
       "page_size                          integer               Results per page   \n",
       "page                               integer  Page number (starting with 1)   \n",
       "\n",
       "                                            example options default  required  \n",
       "parameter name                                                                 \n",
       "tax_id                                         9606                     False  \n",
       "gene_id                                         945                     False  \n",
       "ensembl_gene_identifier             ENSG00000105383                     False  \n",
       "rna_nucleotide_accession_version     NM_001082618.2                     False  \n",
       "ensembl_rna_identifier            ENST00000421133.6                     False  \n",
       "protein_accession_version            NP_001076087.1                     False  \n",
       "ensembl_protein_identifier        ENSP00000410126.1                     False  \n",
       "page_size                                         1            10.0     False  \n",
       "page                                              1             1.0     False  "
      ]
     },
     "metadata": {},
     "output_type": "display_data"
    },
    {
     "data": {
      "text/html": [
       "<b>Example URL:</b> <a href=\"http://0.0.0.0:5000/api/v1/ebel/ncbi/gene/by_ensembl?tax_id=9606&gene_id=945&ensembl_gene_identifier=ENSG00000105383&rna_nucleotide_accession_version=NM_001082618.2&ensembl_rna_identifier=ENST00000421133.6&protein_accession_version=NP_001076087.1&ensembl_protein_identifier=ENSP00000410126.1&page_size=1&page=1\">http://0.0.0.0:5000/api/v1/ebel/ncbi/gene/by_ensembl?tax_id=9606&gene_id=945&ensembl_gene_identifier=ENSG00000105383&rna_nucleotide_accession_version=NM_001082618.2&ensembl_rna_identifier=ENST00000421133.6&protein_accession_version=NP_001076087.1&ensembl_protein_identifier=ENSP00000410126.1&page_size=1&page=1</a>"
      ],
      "text/plain": [
       "<IPython.core.display.HTML object>"
      ]
     },
     "metadata": {},
     "output_type": "display_data"
    },
    {
     "data": {
      "text/html": [
       "<b style=\"color: rgb(98,98,98); text-decoration: underline;\">Example response:</b>"
      ],
      "text/plain": [
       "<IPython.core.display.HTML object>"
      ]
     },
     "metadata": {},
     "output_type": "display_data"
    },
    {
     "name": "stdout",
     "output_type": "stream",
     "text": [
      "{\u001b[38;5;124m'\u001b[39m\u001b[38;5;124mnumber_of_results\u001b[39m\u001b[38;5;124m'\u001b[39m: \u001b[38;5;241m1\u001b[39m,\n",
      " \u001b[38;5;124m'\u001b[39m\u001b[38;5;124mpage\u001b[39m\u001b[38;5;124m'\u001b[39m: \u001b[38;5;241m1\u001b[39m,\n",
      " \u001b[38;5;124m'\u001b[39m\u001b[38;5;124mpage_size\u001b[39m\u001b[38;5;124m'\u001b[39m: \u001b[38;5;241m1\u001b[39m,\n",
      " \u001b[38;5;124m'\u001b[39m\u001b[38;5;124mpages\u001b[39m\u001b[38;5;124m'\u001b[39m: \u001b[38;5;241m1\u001b[39m,\n",
      " \u001b[38;5;124m'\u001b[39m\u001b[38;5;124mresults\u001b[39m\u001b[38;5;124m'\u001b[39m: [{\u001b[38;5;124m'\u001b[39m\u001b[38;5;124mensembl_gene_identifier\u001b[39m\u001b[38;5;124m'\u001b[39m: \u001b[38;5;124m'\u001b[39m\u001b[38;5;124mENSG00000105383\u001b[39m\u001b[38;5;124m'\u001b[39m,\n",
      "              \u001b[38;5;124m'\u001b[39m\u001b[38;5;124mensembl_protein_identifier\u001b[39m\u001b[38;5;124m'\u001b[39m: \u001b[38;5;124m'\u001b[39m\u001b[38;5;124mENSP00000410126.1\u001b[39m\u001b[38;5;124m'\u001b[39m,\n",
      "              \u001b[38;5;124m'\u001b[39m\u001b[38;5;124mensembl_rna_identifier\u001b[39m\u001b[38;5;124m'\u001b[39m: \u001b[38;5;124m'\u001b[39m\u001b[38;5;124mENST00000421133.6\u001b[39m\u001b[38;5;124m'\u001b[39m,\n",
      "              \u001b[38;5;124m'\u001b[39m\u001b[38;5;124mgene_id\u001b[39m\u001b[38;5;124m'\u001b[39m: \u001b[38;5;241m945\u001b[39m,\n",
      "              \u001b[38;5;124m'\u001b[39m\u001b[38;5;124mprotein_accession_version\u001b[39m\u001b[38;5;124m'\u001b[39m: \u001b[38;5;124m'\u001b[39m\u001b[38;5;124mNP_001076087.1\u001b[39m\u001b[38;5;124m'\u001b[39m,\n",
      "              \u001b[38;5;124m'\u001b[39m\u001b[38;5;124mrna_nucleotide_accession_version\u001b[39m\u001b[38;5;124m'\u001b[39m: \u001b[38;5;124m'\u001b[39m\u001b[38;5;124mNM_001082618.2\u001b[39m\u001b[38;5;124m'\u001b[39m,\n",
      "              \u001b[38;5;124m'\u001b[39m\u001b[38;5;124mtax_id\u001b[39m\u001b[38;5;124m'\u001b[39m: \u001b[38;5;241m9606\u001b[39m}]}\n",
      "\n",
      "For further testing go to http://0.0.0.0:5000/ui/#/NCBI Gene/ebel.web.api.ebel.v1.ncbi.get_gene_by_ensembl\n"
     ]
    },
    {
     "data": {
      "text/html": [
       "<h2>2. NCBI Gene ID</h2>"
      ],
      "text/plain": [
       "<IPython.core.display.HTML object>"
      ]
     },
     "metadata": {},
     "output_type": "display_data"
    },
    {
     "data": {
      "text/html": [
       "<b style=\"color: rgb(98,98,98); text-decoration: underline;\">Description:</b> <p>NCBI Gene ID</p>"
      ],
      "text/plain": [
       "<IPython.core.display.HTML object>"
      ]
     },
     "metadata": {},
     "output_type": "display_data"
    },
    {
     "data": {
      "text/html": [
       "<b>Tags:</b> ['NCBI Gene']"
      ],
      "text/plain": [
       "<IPython.core.display.HTML object>"
      ]
     },
     "metadata": {},
     "output_type": "display_data"
    },
    {
     "data": {
      "text/html": [
       "<b>Server path:</b> /api/v1/ebel/ncbi/gene/by_go"
      ],
      "text/plain": [
       "<IPython.core.display.HTML object>"
      ]
     },
     "metadata": {},
     "output_type": "display_data"
    },
    {
     "data": {
      "text/html": [
       "<div>\n",
       "<style scoped>\n",
       "    .dataframe tbody tr th:only-of-type {\n",
       "        vertical-align: middle;\n",
       "    }\n",
       "\n",
       "    .dataframe tbody tr th {\n",
       "        vertical-align: top;\n",
       "    }\n",
       "\n",
       "    .dataframe thead th {\n",
       "        text-align: right;\n",
       "    }\n",
       "</style>\n",
       "<table border=\"1\" class=\"dataframe\">\n",
       "  <thead>\n",
       "    <tr style=\"text-align: right;\">\n",
       "      <th></th>\n",
       "      <th>data type</th>\n",
       "      <th>description</th>\n",
       "      <th>example</th>\n",
       "      <th>options</th>\n",
       "      <th>default</th>\n",
       "      <th>required</th>\n",
       "    </tr>\n",
       "    <tr>\n",
       "      <th>parameter name</th>\n",
       "      <th></th>\n",
       "      <th></th>\n",
       "      <th></th>\n",
       "      <th></th>\n",
       "      <th></th>\n",
       "      <th></th>\n",
       "    </tr>\n",
       "  </thead>\n",
       "  <tbody>\n",
       "    <tr>\n",
       "      <th>tax_id</th>\n",
       "      <td>string</td>\n",
       "      <td></td>\n",
       "      <td>9606</td>\n",
       "      <td></td>\n",
       "      <td></td>\n",
       "      <td>False</td>\n",
       "    </tr>\n",
       "    <tr>\n",
       "      <th>gene_id</th>\n",
       "      <td>string</td>\n",
       "      <td></td>\n",
       "      <td>945</td>\n",
       "      <td></td>\n",
       "      <td></td>\n",
       "      <td>False</td>\n",
       "    </tr>\n",
       "    <tr>\n",
       "      <th>go_id</th>\n",
       "      <td>string</td>\n",
       "      <td></td>\n",
       "      <td>GO:0002765</td>\n",
       "      <td></td>\n",
       "      <td></td>\n",
       "      <td>False</td>\n",
       "    </tr>\n",
       "    <tr>\n",
       "      <th>evidence</th>\n",
       "      <td>string</td>\n",
       "      <td></td>\n",
       "      <td>IDA</td>\n",
       "      <td></td>\n",
       "      <td></td>\n",
       "      <td>False</td>\n",
       "    </tr>\n",
       "    <tr>\n",
       "      <th>qualifier</th>\n",
       "      <td>string</td>\n",
       "      <td></td>\n",
       "      <td>involved_in</td>\n",
       "      <td></td>\n",
       "      <td></td>\n",
       "      <td>False</td>\n",
       "    </tr>\n",
       "    <tr>\n",
       "      <th>go_term</th>\n",
       "      <td>string</td>\n",
       "      <td></td>\n",
       "      <td>immune response-inhibiting signal transduction</td>\n",
       "      <td></td>\n",
       "      <td></td>\n",
       "      <td>False</td>\n",
       "    </tr>\n",
       "    <tr>\n",
       "      <th>category</th>\n",
       "      <td>string</td>\n",
       "      <td></td>\n",
       "      <td>Process</td>\n",
       "      <td></td>\n",
       "      <td></td>\n",
       "      <td>False</td>\n",
       "    </tr>\n",
       "    <tr>\n",
       "      <th>page_size</th>\n",
       "      <td>integer</td>\n",
       "      <td>Results per page</td>\n",
       "      <td>1</td>\n",
       "      <td></td>\n",
       "      <td>10.0</td>\n",
       "      <td>False</td>\n",
       "    </tr>\n",
       "    <tr>\n",
       "      <th>page</th>\n",
       "      <td>integer</td>\n",
       "      <td>Page number (starting with 1)</td>\n",
       "      <td>1</td>\n",
       "      <td></td>\n",
       "      <td>1.0</td>\n",
       "      <td>False</td>\n",
       "    </tr>\n",
       "  </tbody>\n",
       "</table>\n",
       "</div>"
      ],
      "text/plain": [
       "               data type                    description  \\\n",
       "parameter name                                            \n",
       "tax_id            string                                  \n",
       "gene_id           string                                  \n",
       "go_id             string                                  \n",
       "evidence          string                                  \n",
       "qualifier         string                                  \n",
       "go_term           string                                  \n",
       "category          string                                  \n",
       "page_size        integer               Results per page   \n",
       "page             integer  Page number (starting with 1)   \n",
       "\n",
       "                                                       example options  \\\n",
       "parameter name                                                           \n",
       "tax_id                                                    9606           \n",
       "gene_id                                                    945           \n",
       "go_id                                               GO:0002765           \n",
       "evidence                                                   IDA           \n",
       "qualifier                                          involved_in           \n",
       "go_term         immune response-inhibiting signal transduction           \n",
       "category                                               Process           \n",
       "page_size                                                    1           \n",
       "page                                                         1           \n",
       "\n",
       "               default  required  \n",
       "parameter name                    \n",
       "tax_id                     False  \n",
       "gene_id                    False  \n",
       "go_id                      False  \n",
       "evidence                   False  \n",
       "qualifier                  False  \n",
       "go_term                    False  \n",
       "category                   False  \n",
       "page_size         10.0     False  \n",
       "page               1.0     False  "
      ]
     },
     "metadata": {},
     "output_type": "display_data"
    },
    {
     "data": {
      "text/html": [
       "<b>Example URL:</b> <a href=\"http://0.0.0.0:5000/api/v1/ebel/ncbi/gene/by_go?tax_id=9606&gene_id=945&go_id=GO%3A0002765&evidence=IDA&qualifier=involved_in&go_term=immune+response-inhibiting+signal+transduction&category=Process&page_size=1&page=1\">http://0.0.0.0:5000/api/v1/ebel/ncbi/gene/by_go?tax_id=9606&gene_id=945&go_id=GO%3A0002765&evidence=IDA&qualifier=involved_in&go_term=immune+response-inhibiting+signal+transduction&category=Process&page_size=1&page=1</a>"
      ],
      "text/plain": [
       "<IPython.core.display.HTML object>"
      ]
     },
     "metadata": {},
     "output_type": "display_data"
    },
    {
     "data": {
      "text/html": [
       "<b style=\"color: rgb(98,98,98); text-decoration: underline;\">Example response:</b>"
      ],
      "text/plain": [
       "<IPython.core.display.HTML object>"
      ]
     },
     "metadata": {},
     "output_type": "display_data"
    },
    {
     "name": "stdout",
     "output_type": "stream",
     "text": [
      "{\u001b[38;5;124m'\u001b[39m\u001b[38;5;124mnumber_of_results\u001b[39m\u001b[38;5;124m'\u001b[39m: \u001b[38;5;241m1\u001b[39m,\n",
      " \u001b[38;5;124m'\u001b[39m\u001b[38;5;124mpage\u001b[39m\u001b[38;5;124m'\u001b[39m: \u001b[38;5;241m1\u001b[39m,\n",
      " \u001b[38;5;124m'\u001b[39m\u001b[38;5;124mpage_size\u001b[39m\u001b[38;5;124m'\u001b[39m: \u001b[38;5;241m1\u001b[39m,\n",
      " \u001b[38;5;124m'\u001b[39m\u001b[38;5;124mpages\u001b[39m\u001b[38;5;124m'\u001b[39m: \u001b[38;5;241m1\u001b[39m,\n",
      " \u001b[38;5;124m'\u001b[39m\u001b[38;5;124mresults\u001b[39m\u001b[38;5;124m'\u001b[39m: [{\u001b[38;5;124m'\u001b[39m\u001b[38;5;124mcategory\u001b[39m\u001b[38;5;124m'\u001b[39m: \u001b[38;5;124m'\u001b[39m\u001b[38;5;124mProcess\u001b[39m\u001b[38;5;124m'\u001b[39m,\n",
      "              \u001b[38;5;124m'\u001b[39m\u001b[38;5;124mevidence\u001b[39m\u001b[38;5;124m'\u001b[39m: \u001b[38;5;124m'\u001b[39m\u001b[38;5;124mIDA\u001b[39m\u001b[38;5;124m'\u001b[39m,\n",
      "              \u001b[38;5;124m'\u001b[39m\u001b[38;5;124mgene_id\u001b[39m\u001b[38;5;124m'\u001b[39m: \u001b[38;5;241m945\u001b[39m,\n",
      "              \u001b[38;5;124m'\u001b[39m\u001b[38;5;124mgo_id\u001b[39m\u001b[38;5;124m'\u001b[39m: \u001b[38;5;124m'\u001b[39m\u001b[38;5;124mGO:0002765\u001b[39m\u001b[38;5;124m'\u001b[39m,\n",
      "              \u001b[38;5;124m'\u001b[39m\u001b[38;5;124mgo_term\u001b[39m\u001b[38;5;124m'\u001b[39m: \u001b[38;5;124m'\u001b[39m\u001b[38;5;124mimmune response-inhibiting signal transduction\u001b[39m\u001b[38;5;124m'\u001b[39m,\n",
      "              \u001b[38;5;124m'\u001b[39m\u001b[38;5;124mpmids\u001b[39m\u001b[38;5;124m'\u001b[39m: [\u001b[38;5;241m10887109\u001b[39m],\n",
      "              \u001b[38;5;124m'\u001b[39m\u001b[38;5;124mqualifier\u001b[39m\u001b[38;5;124m'\u001b[39m: \u001b[38;5;124m'\u001b[39m\u001b[38;5;124minvolved_in\u001b[39m\u001b[38;5;124m'\u001b[39m,\n",
      "              \u001b[38;5;124m'\u001b[39m\u001b[38;5;124mtax_id\u001b[39m\u001b[38;5;124m'\u001b[39m: \u001b[38;5;241m9606\u001b[39m}]}\n",
      "\n",
      "For further testing go to http://0.0.0.0:5000/ui/#/NCBI Gene/ebel.web.api.ebel.v1.ncbi.get_gene_by_go\n"
     ]
    },
    {
     "data": {
      "text/html": [
       "<h2>3. NCBI Gene IDs by MIM</h2>"
      ],
      "text/plain": [
       "<IPython.core.display.HTML object>"
      ]
     },
     "metadata": {},
     "output_type": "display_data"
    },
    {
     "data": {
      "text/html": [
       "<b style=\"color: rgb(98,98,98); text-decoration: underline;\">Description:</b> <p>NCBI Gene IDs by MIM</p>"
      ],
      "text/plain": [
       "<IPython.core.display.HTML object>"
      ]
     },
     "metadata": {},
     "output_type": "display_data"
    },
    {
     "data": {
      "text/html": [
       "<b>Tags:</b> ['NCBI Gene']"
      ],
      "text/plain": [
       "<IPython.core.display.HTML object>"
      ]
     },
     "metadata": {},
     "output_type": "display_data"
    },
    {
     "data": {
      "text/html": [
       "<b>Server path:</b> /api/v1/ebel/ncbi/gene/by_mim"
      ],
      "text/plain": [
       "<IPython.core.display.HTML object>"
      ]
     },
     "metadata": {},
     "output_type": "display_data"
    },
    {
     "data": {
      "text/html": [
       "<div>\n",
       "<style scoped>\n",
       "    .dataframe tbody tr th:only-of-type {\n",
       "        vertical-align: middle;\n",
       "    }\n",
       "\n",
       "    .dataframe tbody tr th {\n",
       "        vertical-align: top;\n",
       "    }\n",
       "\n",
       "    .dataframe thead th {\n",
       "        text-align: right;\n",
       "    }\n",
       "</style>\n",
       "<table border=\"1\" class=\"dataframe\">\n",
       "  <thead>\n",
       "    <tr style=\"text-align: right;\">\n",
       "      <th></th>\n",
       "      <th>data type</th>\n",
       "      <th>description</th>\n",
       "      <th>example</th>\n",
       "      <th>options</th>\n",
       "      <th>default</th>\n",
       "      <th>required</th>\n",
       "    </tr>\n",
       "    <tr>\n",
       "      <th>parameter name</th>\n",
       "      <th></th>\n",
       "      <th></th>\n",
       "      <th></th>\n",
       "      <th></th>\n",
       "      <th></th>\n",
       "      <th></th>\n",
       "    </tr>\n",
       "  </thead>\n",
       "  <tbody>\n",
       "    <tr>\n",
       "      <th>mim_number</th>\n",
       "      <td>string</td>\n",
       "      <td></td>\n",
       "      <td>159590</td>\n",
       "      <td></td>\n",
       "      <td></td>\n",
       "      <td>False</td>\n",
       "    </tr>\n",
       "    <tr>\n",
       "      <th>gene_id</th>\n",
       "      <td>string</td>\n",
       "      <td></td>\n",
       "      <td>945</td>\n",
       "      <td></td>\n",
       "      <td></td>\n",
       "      <td>False</td>\n",
       "    </tr>\n",
       "    <tr>\n",
       "      <th>type</th>\n",
       "      <td>string</td>\n",
       "      <td></td>\n",
       "      <td>gene</td>\n",
       "      <td></td>\n",
       "      <td></td>\n",
       "      <td>False</td>\n",
       "    </tr>\n",
       "    <tr>\n",
       "      <th>source</th>\n",
       "      <td>string</td>\n",
       "      <td></td>\n",
       "      <td></td>\n",
       "      <td></td>\n",
       "      <td></td>\n",
       "      <td>False</td>\n",
       "    </tr>\n",
       "    <tr>\n",
       "      <th>med_gen_cui</th>\n",
       "      <td>string</td>\n",
       "      <td></td>\n",
       "      <td></td>\n",
       "      <td></td>\n",
       "      <td></td>\n",
       "      <td>False</td>\n",
       "    </tr>\n",
       "    <tr>\n",
       "      <th>comment</th>\n",
       "      <td>string</td>\n",
       "      <td></td>\n",
       "      <td></td>\n",
       "      <td></td>\n",
       "      <td></td>\n",
       "      <td>False</td>\n",
       "    </tr>\n",
       "    <tr>\n",
       "      <th>page_size</th>\n",
       "      <td>integer</td>\n",
       "      <td>Results per page</td>\n",
       "      <td>1</td>\n",
       "      <td></td>\n",
       "      <td>10.0</td>\n",
       "      <td>False</td>\n",
       "    </tr>\n",
       "    <tr>\n",
       "      <th>page</th>\n",
       "      <td>integer</td>\n",
       "      <td>Page number (starting with 1)</td>\n",
       "      <td>1</td>\n",
       "      <td></td>\n",
       "      <td>1.0</td>\n",
       "      <td>False</td>\n",
       "    </tr>\n",
       "  </tbody>\n",
       "</table>\n",
       "</div>"
      ],
      "text/plain": [
       "               data type                    description example options  \\\n",
       "parameter name                                                            \n",
       "mim_number        string                                 159590           \n",
       "gene_id           string                                    945           \n",
       "type              string                                   gene           \n",
       "source            string                                                  \n",
       "med_gen_cui       string                                                  \n",
       "comment           string                                                  \n",
       "page_size        integer               Results per page       1           \n",
       "page             integer  Page number (starting with 1)       1           \n",
       "\n",
       "               default  required  \n",
       "parameter name                    \n",
       "mim_number                 False  \n",
       "gene_id                    False  \n",
       "type                       False  \n",
       "source                     False  \n",
       "med_gen_cui                False  \n",
       "comment                    False  \n",
       "page_size         10.0     False  \n",
       "page               1.0     False  "
      ]
     },
     "metadata": {},
     "output_type": "display_data"
    },
    {
     "data": {
      "text/html": [
       "<b>Example URL:</b> <a href=\"http://0.0.0.0:5000/api/v1/ebel/ncbi/gene/by_mim?mim_number=159590&gene_id=945&type=gene&page_size=1&page=1\">http://0.0.0.0:5000/api/v1/ebel/ncbi/gene/by_mim?mim_number=159590&gene_id=945&type=gene&page_size=1&page=1</a>"
      ],
      "text/plain": [
       "<IPython.core.display.HTML object>"
      ]
     },
     "metadata": {},
     "output_type": "display_data"
    },
    {
     "data": {
      "text/html": [
       "<b style=\"color: rgb(98,98,98); text-decoration: underline;\">Example response:</b>"
      ],
      "text/plain": [
       "<IPython.core.display.HTML object>"
      ]
     },
     "metadata": {},
     "output_type": "display_data"
    },
    {
     "name": "stdout",
     "output_type": "stream",
     "text": [
      "{\u001b[38;5;124m'\u001b[39m\u001b[38;5;124mnumber_of_results\u001b[39m\u001b[38;5;124m'\u001b[39m: \u001b[38;5;241m1\u001b[39m,\n",
      " \u001b[38;5;124m'\u001b[39m\u001b[38;5;124mpage\u001b[39m\u001b[38;5;124m'\u001b[39m: \u001b[38;5;241m1\u001b[39m,\n",
      " \u001b[38;5;124m'\u001b[39m\u001b[38;5;124mpage_size\u001b[39m\u001b[38;5;124m'\u001b[39m: \u001b[38;5;241m1\u001b[39m,\n",
      " \u001b[38;5;124m'\u001b[39m\u001b[38;5;124mpages\u001b[39m\u001b[38;5;124m'\u001b[39m: \u001b[38;5;241m1\u001b[39m,\n",
      " \u001b[38;5;124m'\u001b[39m\u001b[38;5;124mresults\u001b[39m\u001b[38;5;124m'\u001b[39m: [{\u001b[38;5;124m'\u001b[39m\u001b[38;5;124mcomment\u001b[39m\u001b[38;5;124m'\u001b[39m: \u001b[38;5;28;01mNone\u001b[39;00m,\n",
      "              \u001b[38;5;124m'\u001b[39m\u001b[38;5;124mgene_id\u001b[39m\u001b[38;5;124m'\u001b[39m: \u001b[38;5;241m945\u001b[39m,\n",
      "              \u001b[38;5;124m'\u001b[39m\u001b[38;5;124mmed_gen_cui\u001b[39m\u001b[38;5;124m'\u001b[39m: \u001b[38;5;28;01mNone\u001b[39;00m,\n",
      "              \u001b[38;5;124m'\u001b[39m\u001b[38;5;124mmim_number\u001b[39m\u001b[38;5;124m'\u001b[39m: \u001b[38;5;241m159590\u001b[39m,\n",
      "              \u001b[38;5;124m'\u001b[39m\u001b[38;5;124msource\u001b[39m\u001b[38;5;124m'\u001b[39m: \u001b[38;5;28;01mNone\u001b[39;00m,\n",
      "              \u001b[38;5;124m'\u001b[39m\u001b[38;5;124mtype\u001b[39m\u001b[38;5;124m'\u001b[39m: \u001b[38;5;124m'\u001b[39m\u001b[38;5;124mgene\u001b[39m\u001b[38;5;124m'\u001b[39m}]}\n",
      "\n",
      "For further testing go to http://0.0.0.0:5000/ui/#/NCBI Gene/ebel.web.api.ebel.v1.ncbi.get_gene_by_mim\n"
     ]
    },
    {
     "data": {
      "text/html": [
       "<h2>4. Find NCBI medgen by pmid</h2>"
      ],
      "text/plain": [
       "<IPython.core.display.HTML object>"
      ]
     },
     "metadata": {},
     "output_type": "display_data"
    },
    {
     "data": {
      "text/html": [
       "<b style=\"color: rgb(98,98,98); text-decoration: underline;\">Description:</b> <p>Find NCBI medgen by pmid</p>"
      ],
      "text/plain": [
       "<IPython.core.display.HTML object>"
      ]
     },
     "metadata": {},
     "output_type": "display_data"
    },
    {
     "data": {
      "text/html": [
       "<b>Tags:</b> ['NCBI Gene']"
      ],
      "text/plain": [
       "<IPython.core.display.HTML object>"
      ]
     },
     "metadata": {},
     "output_type": "display_data"
    },
    {
     "data": {
      "text/html": [
       "<b>Server path:</b> /api/v1/ebel/ncbi/gene/go/by_pmid"
      ],
      "text/plain": [
       "<IPython.core.display.HTML object>"
      ]
     },
     "metadata": {},
     "output_type": "display_data"
    },
    {
     "data": {
      "text/html": [
       "<div>\n",
       "<style scoped>\n",
       "    .dataframe tbody tr th:only-of-type {\n",
       "        vertical-align: middle;\n",
       "    }\n",
       "\n",
       "    .dataframe tbody tr th {\n",
       "        vertical-align: top;\n",
       "    }\n",
       "\n",
       "    .dataframe thead th {\n",
       "        text-align: right;\n",
       "    }\n",
       "</style>\n",
       "<table border=\"1\" class=\"dataframe\">\n",
       "  <thead>\n",
       "    <tr style=\"text-align: right;\">\n",
       "      <th></th>\n",
       "      <th>data type</th>\n",
       "      <th>description</th>\n",
       "      <th>example</th>\n",
       "      <th>options</th>\n",
       "      <th>default</th>\n",
       "      <th>required</th>\n",
       "    </tr>\n",
       "    <tr>\n",
       "      <th>parameter name</th>\n",
       "      <th></th>\n",
       "      <th></th>\n",
       "      <th></th>\n",
       "      <th></th>\n",
       "      <th></th>\n",
       "      <th></th>\n",
       "    </tr>\n",
       "  </thead>\n",
       "  <tbody>\n",
       "    <tr>\n",
       "      <th>pmid</th>\n",
       "      <td>integer</td>\n",
       "      <td></td>\n",
       "      <td>10887109</td>\n",
       "      <td></td>\n",
       "      <td></td>\n",
       "      <td>False</td>\n",
       "    </tr>\n",
       "    <tr>\n",
       "      <th>page_size</th>\n",
       "      <td>integer</td>\n",
       "      <td>Results per page</td>\n",
       "      <td>1</td>\n",
       "      <td></td>\n",
       "      <td>10.0</td>\n",
       "      <td>False</td>\n",
       "    </tr>\n",
       "    <tr>\n",
       "      <th>page</th>\n",
       "      <td>integer</td>\n",
       "      <td>Page number (starting with 1)</td>\n",
       "      <td>1</td>\n",
       "      <td></td>\n",
       "      <td>1.0</td>\n",
       "      <td>False</td>\n",
       "    </tr>\n",
       "  </tbody>\n",
       "</table>\n",
       "</div>"
      ],
      "text/plain": [
       "               data type                    description   example options  \\\n",
       "parameter name                                                              \n",
       "pmid             integer                                 10887109           \n",
       "page_size        integer               Results per page         1           \n",
       "page             integer  Page number (starting with 1)         1           \n",
       "\n",
       "               default  required  \n",
       "parameter name                    \n",
       "pmid                       False  \n",
       "page_size         10.0     False  \n",
       "page               1.0     False  "
      ]
     },
     "metadata": {},
     "output_type": "display_data"
    },
    {
     "data": {
      "text/html": [
       "<b>Example URL:</b> <a href=\"http://0.0.0.0:5000/api/v1/ebel/ncbi/gene/go/by_pmid?pmid=10887109&page_size=1&page=1\">http://0.0.0.0:5000/api/v1/ebel/ncbi/gene/go/by_pmid?pmid=10887109&page_size=1&page=1</a>"
      ],
      "text/plain": [
       "<IPython.core.display.HTML object>"
      ]
     },
     "metadata": {},
     "output_type": "display_data"
    },
    {
     "data": {
      "text/html": [
       "<b style=\"color: rgb(98,98,98); text-decoration: underline;\">Example response:</b>"
      ],
      "text/plain": [
       "<IPython.core.display.HTML object>"
      ]
     },
     "metadata": {},
     "output_type": "display_data"
    },
    {
     "name": "stdout",
     "output_type": "stream",
     "text": [
      "{\u001b[38;5;124m'\u001b[39m\u001b[38;5;124mnumber_of_results\u001b[39m\u001b[38;5;124m'\u001b[39m: \u001b[38;5;241m4\u001b[39m,\n",
      " \u001b[38;5;124m'\u001b[39m\u001b[38;5;124mpage\u001b[39m\u001b[38;5;124m'\u001b[39m: \u001b[38;5;241m1\u001b[39m,\n",
      " \u001b[38;5;124m'\u001b[39m\u001b[38;5;124mpage_size\u001b[39m\u001b[38;5;124m'\u001b[39m: \u001b[38;5;241m1\u001b[39m,\n",
      " \u001b[38;5;124m'\u001b[39m\u001b[38;5;124mpages\u001b[39m\u001b[38;5;124m'\u001b[39m: \u001b[38;5;241m4\u001b[39m,\n",
      " \u001b[38;5;124m'\u001b[39m\u001b[38;5;124mresults\u001b[39m\u001b[38;5;124m'\u001b[39m: [{\u001b[38;5;124m'\u001b[39m\u001b[38;5;124mcategory\u001b[39m\u001b[38;5;124m'\u001b[39m: \u001b[38;5;124m'\u001b[39m\u001b[38;5;124mProcess\u001b[39m\u001b[38;5;124m'\u001b[39m,\n",
      "              \u001b[38;5;124m'\u001b[39m\u001b[38;5;124mevidence\u001b[39m\u001b[38;5;124m'\u001b[39m: \u001b[38;5;124m'\u001b[39m\u001b[38;5;124mIDA\u001b[39m\u001b[38;5;124m'\u001b[39m,\n",
      "              \u001b[38;5;124m'\u001b[39m\u001b[38;5;124mgene_id\u001b[39m\u001b[38;5;124m'\u001b[39m: \u001b[38;5;241m945\u001b[39m,\n",
      "              \u001b[38;5;124m'\u001b[39m\u001b[38;5;124mgo_id\u001b[39m\u001b[38;5;124m'\u001b[39m: \u001b[38;5;124m'\u001b[39m\u001b[38;5;124mGO:0002765\u001b[39m\u001b[38;5;124m'\u001b[39m,\n",
      "              \u001b[38;5;124m'\u001b[39m\u001b[38;5;124mgo_term\u001b[39m\u001b[38;5;124m'\u001b[39m: \u001b[38;5;124m'\u001b[39m\u001b[38;5;124mimmune response-inhibiting signal transduction\u001b[39m\u001b[38;5;124m'\u001b[39m,\n",
      "              \u001b[38;5;124m'\u001b[39m\u001b[38;5;124mpmids\u001b[39m\u001b[38;5;124m'\u001b[39m: [\u001b[38;5;241m10887109\u001b[39m],\n",
      "              \u001b[38;5;124m'\u001b[39m\u001b[38;5;124mqualifier\u001b[39m\u001b[38;5;124m'\u001b[39m: \u001b[38;5;124m'\u001b[39m\u001b[38;5;124minvolved_in\u001b[39m\u001b[38;5;124m'\u001b[39m,\n",
      "              \u001b[38;5;124m'\u001b[39m\u001b[38;5;124mtax_id\u001b[39m\u001b[38;5;124m'\u001b[39m: \u001b[38;5;241m9606\u001b[39m}]}\n",
      "\n",
      "For further testing go to http://0.0.0.0:5000/ui/#/NCBI Gene/ebel.web.api.ebel.v1.ncbi.get_go_by_pmid\n"
     ]
    },
    {
     "data": {
      "text/html": [
       "<h2>5. NCBI Gene IDs by Ensembl</h2>"
      ],
      "text/plain": [
       "<IPython.core.display.HTML object>"
      ]
     },
     "metadata": {},
     "output_type": "display_data"
    },
    {
     "data": {
      "text/html": [
       "<b style=\"color: rgb(98,98,98); text-decoration: underline;\">Description:</b> <p>NCBI Gene IDs by Ensembl</p>"
      ],
      "text/plain": [
       "<IPython.core.display.HTML object>"
      ]
     },
     "metadata": {},
     "output_type": "display_data"
    },
    {
     "data": {
      "text/html": [
       "<b>Tags:</b> ['NCBI Gene']"
      ],
      "text/plain": [
       "<IPython.core.display.HTML object>"
      ]
     },
     "metadata": {},
     "output_type": "display_data"
    },
    {
     "data": {
      "text/html": [
       "<b>Server path:</b> /api/v1/ebel/ncbi/gene/info"
      ],
      "text/plain": [
       "<IPython.core.display.HTML object>"
      ]
     },
     "metadata": {},
     "output_type": "display_data"
    },
    {
     "data": {
      "text/html": [
       "<div>\n",
       "<style scoped>\n",
       "    .dataframe tbody tr th:only-of-type {\n",
       "        vertical-align: middle;\n",
       "    }\n",
       "\n",
       "    .dataframe tbody tr th {\n",
       "        vertical-align: top;\n",
       "    }\n",
       "\n",
       "    .dataframe thead th {\n",
       "        text-align: right;\n",
       "    }\n",
       "</style>\n",
       "<table border=\"1\" class=\"dataframe\">\n",
       "  <thead>\n",
       "    <tr style=\"text-align: right;\">\n",
       "      <th></th>\n",
       "      <th>data type</th>\n",
       "      <th>description</th>\n",
       "      <th>example</th>\n",
       "      <th>options</th>\n",
       "      <th>default</th>\n",
       "      <th>required</th>\n",
       "    </tr>\n",
       "    <tr>\n",
       "      <th>parameter name</th>\n",
       "      <th></th>\n",
       "      <th></th>\n",
       "      <th></th>\n",
       "      <th></th>\n",
       "      <th></th>\n",
       "      <th></th>\n",
       "    </tr>\n",
       "  </thead>\n",
       "  <tbody>\n",
       "    <tr>\n",
       "      <th>gene_id</th>\n",
       "      <td>string</td>\n",
       "      <td></td>\n",
       "      <td>945</td>\n",
       "      <td></td>\n",
       "      <td></td>\n",
       "      <td>False</td>\n",
       "    </tr>\n",
       "    <tr>\n",
       "      <th>tax_id</th>\n",
       "      <td>string</td>\n",
       "      <td></td>\n",
       "      <td>9606</td>\n",
       "      <td></td>\n",
       "      <td></td>\n",
       "      <td>False</td>\n",
       "    </tr>\n",
       "    <tr>\n",
       "      <th>symbol</th>\n",
       "      <td>string</td>\n",
       "      <td></td>\n",
       "      <td>CD33</td>\n",
       "      <td></td>\n",
       "      <td></td>\n",
       "      <td>False</td>\n",
       "    </tr>\n",
       "    <tr>\n",
       "      <th>type_of_gene</th>\n",
       "      <td>string</td>\n",
       "      <td></td>\n",
       "      <td>protein-coding</td>\n",
       "      <td></td>\n",
       "      <td></td>\n",
       "      <td>False</td>\n",
       "    </tr>\n",
       "    <tr>\n",
       "      <th>locus_tag</th>\n",
       "      <td>string</td>\n",
       "      <td></td>\n",
       "      <td></td>\n",
       "      <td></td>\n",
       "      <td></td>\n",
       "      <td>False</td>\n",
       "    </tr>\n",
       "    <tr>\n",
       "      <th>chromosome</th>\n",
       "      <td>string</td>\n",
       "      <td></td>\n",
       "      <td>19</td>\n",
       "      <td></td>\n",
       "      <td></td>\n",
       "      <td>False</td>\n",
       "    </tr>\n",
       "    <tr>\n",
       "      <th>map_location</th>\n",
       "      <td>string</td>\n",
       "      <td></td>\n",
       "      <td>19q13.41</td>\n",
       "      <td></td>\n",
       "      <td></td>\n",
       "      <td>False</td>\n",
       "    </tr>\n",
       "    <tr>\n",
       "      <th>description_id</th>\n",
       "      <td>string</td>\n",
       "      <td></td>\n",
       "      <td></td>\n",
       "      <td></td>\n",
       "      <td></td>\n",
       "      <td>False</td>\n",
       "    </tr>\n",
       "    <tr>\n",
       "      <th>page_size</th>\n",
       "      <td>integer</td>\n",
       "      <td>Results per page</td>\n",
       "      <td>1</td>\n",
       "      <td></td>\n",
       "      <td>10.0</td>\n",
       "      <td>False</td>\n",
       "    </tr>\n",
       "    <tr>\n",
       "      <th>page</th>\n",
       "      <td>integer</td>\n",
       "      <td>Page number (starting with 1)</td>\n",
       "      <td>1</td>\n",
       "      <td></td>\n",
       "      <td>1.0</td>\n",
       "      <td>False</td>\n",
       "    </tr>\n",
       "  </tbody>\n",
       "</table>\n",
       "</div>"
      ],
      "text/plain": [
       "               data type                    description         example  \\\n",
       "parameter name                                                            \n",
       "gene_id           string                                            945   \n",
       "tax_id            string                                           9606   \n",
       "symbol            string                                           CD33   \n",
       "type_of_gene      string                                 protein-coding   \n",
       "locus_tag         string                                                  \n",
       "chromosome        string                                             19   \n",
       "map_location      string                                       19q13.41   \n",
       "description_id    string                                                  \n",
       "page_size        integer               Results per page               1   \n",
       "page             integer  Page number (starting with 1)               1   \n",
       "\n",
       "               options default  required  \n",
       "parameter name                            \n",
       "gene_id                            False  \n",
       "tax_id                             False  \n",
       "symbol                             False  \n",
       "type_of_gene                       False  \n",
       "locus_tag                          False  \n",
       "chromosome                         False  \n",
       "map_location                       False  \n",
       "description_id                     False  \n",
       "page_size                 10.0     False  \n",
       "page                       1.0     False  "
      ]
     },
     "metadata": {},
     "output_type": "display_data"
    },
    {
     "data": {
      "text/html": [
       "<b>Example URL:</b> <a href=\"http://0.0.0.0:5000/api/v1/ebel/ncbi/gene/info?gene_id=945&tax_id=9606&symbol=CD33&type_of_gene=protein-coding&chromosome=19&map_location=19q13.41&page_size=1&page=1\">http://0.0.0.0:5000/api/v1/ebel/ncbi/gene/info?gene_id=945&tax_id=9606&symbol=CD33&type_of_gene=protein-coding&chromosome=19&map_location=19q13.41&page_size=1&page=1</a>"
      ],
      "text/plain": [
       "<IPython.core.display.HTML object>"
      ]
     },
     "metadata": {},
     "output_type": "display_data"
    },
    {
     "data": {
      "text/html": [
       "<b style=\"color: rgb(98,98,98); text-decoration: underline;\">Example response:</b>"
      ],
      "text/plain": [
       "<IPython.core.display.HTML object>"
      ]
     },
     "metadata": {},
     "output_type": "display_data"
    },
    {
     "name": "stdout",
     "output_type": "stream",
     "text": [
      "{\u001b[38;5;124m'\u001b[39m\u001b[38;5;124mnumber_of_results\u001b[39m\u001b[38;5;124m'\u001b[39m: \u001b[38;5;241m1\u001b[39m,\n",
      " \u001b[38;5;124m'\u001b[39m\u001b[38;5;124mpage\u001b[39m\u001b[38;5;124m'\u001b[39m: \u001b[38;5;241m1\u001b[39m,\n",
      " \u001b[38;5;124m'\u001b[39m\u001b[38;5;124mpage_size\u001b[39m\u001b[38;5;124m'\u001b[39m: \u001b[38;5;241m1\u001b[39m,\n",
      " \u001b[38;5;124m'\u001b[39m\u001b[38;5;124mpages\u001b[39m\u001b[38;5;124m'\u001b[39m: \u001b[38;5;241m1\u001b[39m,\n",
      " \u001b[38;5;124m'\u001b[39m\u001b[38;5;124mresults\u001b[39m\u001b[38;5;124m'\u001b[39m: [{\u001b[38;5;124m'\u001b[39m\u001b[38;5;124mchromosome\u001b[39m\u001b[38;5;124m'\u001b[39m: \u001b[38;5;124m'\u001b[39m\u001b[38;5;124m19\u001b[39m\u001b[38;5;124m'\u001b[39m,\n",
      "              \u001b[38;5;124m'\u001b[39m\u001b[38;5;124mdescription\u001b[39m\u001b[38;5;124m'\u001b[39m: \u001b[38;5;124m'\u001b[39m\u001b[38;5;124mCD33 molecule\u001b[39m\u001b[38;5;124m'\u001b[39m,\n",
      "              \u001b[38;5;124m'\u001b[39m\u001b[38;5;124mensembls\u001b[39m\u001b[38;5;124m'\u001b[39m: [\u001b[38;5;124m'\u001b[39m\u001b[38;5;124mENSG00000105383\u001b[39m\u001b[38;5;124m'\u001b[39m,\n",
      "                           \u001b[38;5;124m'\u001b[39m\u001b[38;5;124mENSG00000105383\u001b[39m\u001b[38;5;124m'\u001b[39m,\n",
      "                           \u001b[38;5;124m'\u001b[39m\u001b[38;5;124mENSG00000105383\u001b[39m\u001b[38;5;124m'\u001b[39m],\n",
      "              \u001b[38;5;124m'\u001b[39m\u001b[38;5;124mgene_id\u001b[39m\u001b[38;5;124m'\u001b[39m: \u001b[38;5;241m945\u001b[39m,\n",
      "              \u001b[38;5;124m'\u001b[39m\u001b[38;5;124mgene_ids_left\u001b[39m\u001b[38;5;124m'\u001b[39m: [\u001b[38;5;241m114194\u001b[39m, \u001b[38;5;241m102465873\u001b[39m],\n",
      "              \u001b[38;5;124m'\u001b[39m\u001b[38;5;124mgene_ids_overlapping\u001b[39m\u001b[38;5;124m'\u001b[39m: [\u001b[38;5;241m114195\u001b[39m],\n",
      "              \u001b[38;5;124m'\u001b[39m\u001b[38;5;124mgene_ids_right\u001b[39m\u001b[38;5;124m'\u001b[39m: [\u001b[38;5;241m114196\u001b[39m, \u001b[38;5;241m284369\u001b[39m, \u001b[38;5;241m105372444\u001b[39m, \u001b[38;5;241m107985327\u001b[39m],\n",
      "              \u001b[38;5;124m'\u001b[39m\u001b[38;5;124mlocus_tag\u001b[39m\u001b[38;5;124m'\u001b[39m: \u001b[38;5;28;01mNone\u001b[39;00m,\n",
      "              \u001b[38;5;124m'\u001b[39m\u001b[38;5;124mmap_location\u001b[39m\u001b[38;5;124m'\u001b[39m: \u001b[38;5;124m'\u001b[39m\u001b[38;5;124m19q13.41\u001b[39m\u001b[38;5;124m'\u001b[39m,\n",
      "              \u001b[38;5;124m'\u001b[39m\u001b[38;5;124mmims\u001b[39m\u001b[38;5;124m'\u001b[39m: [\u001b[38;5;241m159590\u001b[39m],\n",
      "              \u001b[38;5;124m'\u001b[39m\u001b[38;5;124morthologs\u001b[39m\u001b[38;5;124m'\u001b[39m: [\u001b[38;5;241m105595357\u001b[39m,\n",
      "                            \u001b[38;5;241m102117580\u001b[39m,\n",
      "                            \u001b[38;5;241m719855\u001b[39m,\n",
      "                            \u001b[38;5;241m101012608\u001b[39m,\n",
      "                            \u001b[38;5;241m112612464\u001b[39m,\n",
      "                            \u001b[38;5;241m105528924\u001b[39m,\n",
      "                            \u001b[38;5;241m101152771\u001b[39m,\n",
      "                            \u001b[38;5;241m456242\u001b[39m,\n",
      "                            \u001b[38;5;241m100442502\u001b[39m,\n",
      "                            \u001b[38;5;241m118543259\u001b[39m,\n",
      "                            \u001b[38;5;241m105748929\u001b[39m,\n",
      "                            \u001b[38;5;241m12489\u001b[39m,\n",
      "                            \u001b[38;5;241m118638321\u001b[39m,\n",
      "                            \u001b[38;5;241m101044930\u001b[39m,\n",
      "                            \u001b[38;5;241m103657340\u001b[39m,\n",
      "                            \u001b[38;5;241m110572962\u001b[39m,\n",
      "                            \u001b[38;5;241m115279626\u001b[39m,\n",
      "                            \u001b[38;5;241m118591788\u001b[39m,\n",
      "                            \u001b[38;5;241m118649279\u001b[39m,\n",
      "                            \u001b[38;5;241m117091669\u001b[39m,\n",
      "                            \u001b[38;5;241m103235122\u001b[39m,\n",
      "                            \u001b[38;5;241m108532402\u001b[39m,\n",
      "                            \u001b[38;5;241m104667261\u001b[39m,\n",
      "                            \u001b[38;5;241m116478148\u001b[39m,\n",
      "                            \u001b[38;5;241m120243626\u001b[39m,\n",
      "                            \u001b[38;5;241m113247272\u001b[39m,\n",
      "                            \u001b[38;5;241m103071961\u001b[39m,\n",
      "                            \u001b[38;5;241m105308569\u001b[39m,\n",
      "                            \u001b[38;5;241m105514711\u001b[39m,\n",
      "                            \u001b[38;5;241m105809255\u001b[39m,\n",
      "                            \u001b[38;5;241m111520034\u001b[39m,\n",
      "                            \u001b[38;5;241m103211615\u001b[39m],\n",
      "              \u001b[38;5;124m'\u001b[39m\u001b[38;5;124msymbol\u001b[39m\u001b[38;5;124m'\u001b[39m: \u001b[38;5;124m'\u001b[39m\u001b[38;5;124mCD33\u001b[39m\u001b[38;5;124m'\u001b[39m,\n",
      "              \u001b[38;5;124m'\u001b[39m\u001b[38;5;124mtax_id\u001b[39m\u001b[38;5;124m'\u001b[39m: \u001b[38;5;241m9606\u001b[39m,\n",
      "              \u001b[38;5;124m'\u001b[39m\u001b[38;5;124mtype_of_gene\u001b[39m\u001b[38;5;124m'\u001b[39m: \u001b[38;5;124m'\u001b[39m\u001b[38;5;124mprotein-coding\u001b[39m\u001b[38;5;124m'\u001b[39m,\n",
      "              \u001b[38;5;124m'\u001b[39m\u001b[38;5;124mxrefs\u001b[39m\u001b[38;5;124m'\u001b[39m: [{\u001b[38;5;124m'\u001b[39m\u001b[38;5;124mdb\u001b[39m\u001b[38;5;124m'\u001b[39m: \u001b[38;5;124m'\u001b[39m\u001b[38;5;124mMIM\u001b[39m\u001b[38;5;124m'\u001b[39m, \u001b[38;5;124m'\u001b[39m\u001b[38;5;124mdbid\u001b[39m\u001b[38;5;124m'\u001b[39m: \u001b[38;5;124m'\u001b[39m\u001b[38;5;124m159590\u001b[39m\u001b[38;5;124m'\u001b[39m},\n",
      "                        {\u001b[38;5;124m'\u001b[39m\u001b[38;5;124mdb\u001b[39m\u001b[38;5;124m'\u001b[39m: \u001b[38;5;124m'\u001b[39m\u001b[38;5;124mHGNC\u001b[39m\u001b[38;5;124m'\u001b[39m, \u001b[38;5;124m'\u001b[39m\u001b[38;5;124mdbid\u001b[39m\u001b[38;5;124m'\u001b[39m: \u001b[38;5;124m'\u001b[39m\u001b[38;5;124mHGNC:1659\u001b[39m\u001b[38;5;124m'\u001b[39m},\n",
      "                        {\u001b[38;5;124m'\u001b[39m\u001b[38;5;124mdb\u001b[39m\u001b[38;5;124m'\u001b[39m: \u001b[38;5;124m'\u001b[39m\u001b[38;5;124mEnsembl\u001b[39m\u001b[38;5;124m'\u001b[39m, \u001b[38;5;124m'\u001b[39m\u001b[38;5;124mdbid\u001b[39m\u001b[38;5;124m'\u001b[39m: \u001b[38;5;124m'\u001b[39m\u001b[38;5;124mENSG00000105383\u001b[39m\u001b[38;5;124m'\u001b[39m}]}]}\n",
      "\n",
      "For further testing go to http://0.0.0.0:5000/ui/#/NCBI Gene/ebel.web.api.ebel.v1.ncbi.get_gene_info\n"
     ]
    },
    {
     "data": {
      "text/html": [
       "<h2>6. Find NCBI medgen</h2>"
      ],
      "text/plain": [
       "<IPython.core.display.HTML object>"
      ]
     },
     "metadata": {},
     "output_type": "display_data"
    },
    {
     "data": {
      "text/html": [
       "<b style=\"color: rgb(98,98,98); text-decoration: underline;\">Description:</b> <p>Find NCBI medgen</p>"
      ],
      "text/plain": [
       "<IPython.core.display.HTML object>"
      ]
     },
     "metadata": {},
     "output_type": "display_data"
    },
    {
     "data": {
      "text/html": [
       "<b>Tags:</b> ['NCBI Gene']"
      ],
      "text/plain": [
       "<IPython.core.display.HTML object>"
      ]
     },
     "metadata": {},
     "output_type": "display_data"
    },
    {
     "data": {
      "text/html": [
       "<b>Server path:</b> /api/v1/ebel/ncbi/medgen"
      ],
      "text/plain": [
       "<IPython.core.display.HTML object>"
      ]
     },
     "metadata": {},
     "output_type": "display_data"
    },
    {
     "data": {
      "text/html": [
       "<div>\n",
       "<style scoped>\n",
       "    .dataframe tbody tr th:only-of-type {\n",
       "        vertical-align: middle;\n",
       "    }\n",
       "\n",
       "    .dataframe tbody tr th {\n",
       "        vertical-align: top;\n",
       "    }\n",
       "\n",
       "    .dataframe thead th {\n",
       "        text-align: right;\n",
       "    }\n",
       "</style>\n",
       "<table border=\"1\" class=\"dataframe\">\n",
       "  <thead>\n",
       "    <tr style=\"text-align: right;\">\n",
       "      <th></th>\n",
       "      <th>data type</th>\n",
       "      <th>description</th>\n",
       "      <th>example</th>\n",
       "      <th>options</th>\n",
       "      <th>default</th>\n",
       "      <th>required</th>\n",
       "    </tr>\n",
       "    <tr>\n",
       "      <th>parameter name</th>\n",
       "      <th></th>\n",
       "      <th></th>\n",
       "      <th></th>\n",
       "      <th></th>\n",
       "      <th></th>\n",
       "      <th></th>\n",
       "    </tr>\n",
       "  </thead>\n",
       "  <tbody>\n",
       "    <tr>\n",
       "      <th>cui</th>\n",
       "      <td>string</td>\n",
       "      <td></td>\n",
       "      <td>C4021990</td>\n",
       "      <td></td>\n",
       "      <td></td>\n",
       "      <td>False</td>\n",
       "    </tr>\n",
       "    <tr>\n",
       "      <th>name</th>\n",
       "      <td>string</td>\n",
       "      <td></td>\n",
       "      <td>Abnormality of the microglia</td>\n",
       "      <td></td>\n",
       "      <td></td>\n",
       "      <td>False</td>\n",
       "    </tr>\n",
       "    <tr>\n",
       "      <th>source</th>\n",
       "      <td>string</td>\n",
       "      <td></td>\n",
       "      <td>GTR</td>\n",
       "      <td></td>\n",
       "      <td></td>\n",
       "      <td>False</td>\n",
       "    </tr>\n",
       "    <tr>\n",
       "      <th>suppress</th>\n",
       "      <td>string</td>\n",
       "      <td></td>\n",
       "      <td>N</td>\n",
       "      <td></td>\n",
       "      <td></td>\n",
       "      <td>False</td>\n",
       "    </tr>\n",
       "    <tr>\n",
       "      <th>page_size</th>\n",
       "      <td>integer</td>\n",
       "      <td>Results per page</td>\n",
       "      <td>1</td>\n",
       "      <td></td>\n",
       "      <td>10.0</td>\n",
       "      <td>False</td>\n",
       "    </tr>\n",
       "    <tr>\n",
       "      <th>page</th>\n",
       "      <td>integer</td>\n",
       "      <td>Page number (starting with 1)</td>\n",
       "      <td>1</td>\n",
       "      <td></td>\n",
       "      <td>1.0</td>\n",
       "      <td>False</td>\n",
       "    </tr>\n",
       "  </tbody>\n",
       "</table>\n",
       "</div>"
      ],
      "text/plain": [
       "               data type                    description  \\\n",
       "parameter name                                            \n",
       "cui               string                                  \n",
       "name              string                                  \n",
       "source            string                                  \n",
       "suppress          string                                  \n",
       "page_size        integer               Results per page   \n",
       "page             integer  Page number (starting with 1)   \n",
       "\n",
       "                                     example options default  required  \n",
       "parameter name                                                          \n",
       "cui                                 C4021990                     False  \n",
       "name            Abnormality of the microglia                     False  \n",
       "source                                   GTR                     False  \n",
       "suppress                                   N                     False  \n",
       "page_size                                  1            10.0     False  \n",
       "page                                       1             1.0     False  "
      ]
     },
     "metadata": {},
     "output_type": "display_data"
    },
    {
     "data": {
      "text/html": [
       "<b>Example URL:</b> <a href=\"http://0.0.0.0:5000/api/v1/ebel/ncbi/medgen?cui=C4021990&name=Abnormality+of+the+microglia&source=GTR&suppress=N&page_size=1&page=1\">http://0.0.0.0:5000/api/v1/ebel/ncbi/medgen?cui=C4021990&name=Abnormality+of+the+microglia&source=GTR&suppress=N&page_size=1&page=1</a>"
      ],
      "text/plain": [
       "<IPython.core.display.HTML object>"
      ]
     },
     "metadata": {},
     "output_type": "display_data"
    },
    {
     "data": {
      "text/html": [
       "<b style=\"color: rgb(98,98,98); text-decoration: underline;\">Example response:</b>"
      ],
      "text/plain": [
       "<IPython.core.display.HTML object>"
      ]
     },
     "metadata": {},
     "output_type": "display_data"
    },
    {
     "name": "stdout",
     "output_type": "stream",
     "text": [
      "{\u001b[38;5;124m'\u001b[39m\u001b[38;5;124mnumber_of_results\u001b[39m\u001b[38;5;124m'\u001b[39m: \u001b[38;5;241m1\u001b[39m,\n",
      " \u001b[38;5;124m'\u001b[39m\u001b[38;5;124mpage\u001b[39m\u001b[38;5;124m'\u001b[39m: \u001b[38;5;241m1\u001b[39m,\n",
      " \u001b[38;5;124m'\u001b[39m\u001b[38;5;124mpage_size\u001b[39m\u001b[38;5;124m'\u001b[39m: \u001b[38;5;241m1\u001b[39m,\n",
      " \u001b[38;5;124m'\u001b[39m\u001b[38;5;124mpages\u001b[39m\u001b[38;5;124m'\u001b[39m: \u001b[38;5;241m1\u001b[39m,\n",
      " \u001b[38;5;124m'\u001b[39m\u001b[38;5;124mresults\u001b[39m\u001b[38;5;124m'\u001b[39m: [{\u001b[38;5;124m'\u001b[39m\u001b[38;5;124mcui\u001b[39m\u001b[38;5;124m'\u001b[39m: \u001b[38;5;124m'\u001b[39m\u001b[38;5;124mC4021990\u001b[39m\u001b[38;5;124m'\u001b[39m,\n",
      "              \u001b[38;5;124m'\u001b[39m\u001b[38;5;124mname\u001b[39m\u001b[38;5;124m'\u001b[39m: \u001b[38;5;124m'\u001b[39m\u001b[38;5;124mAbnormality of the microglia\u001b[39m\u001b[38;5;124m'\u001b[39m,\n",
      "              \u001b[38;5;124m'\u001b[39m\u001b[38;5;124mpmids\u001b[39m\u001b[38;5;124m'\u001b[39m: [\u001b[38;5;241m7572282\u001b[39m,\n",
      "                        \u001b[38;5;241m7808590\u001b[39m,\n",
      "                        \u001b[38;5;241m8824314\u001b[39m,\n",
      "                        \u001b[38;5;241m8940623\u001b[39m,\n",
      "                        \u001b[38;5;241m9648853\u001b[39m,\n",
      "                        \u001b[38;5;241m10233972\u001b[39m,\n",
      "                        \u001b[38;5;241m10764045\u001b[39m,\n",
      "                        \u001b[38;5;241m11172787\u001b[39m,\n",
      "                        \u001b[38;5;241m11307159\u001b[39m,\n",
      "                        \u001b[38;5;241m11329064\u001b[39m,\n",
      "                        \u001b[38;5;241m11844868\u001b[39m,\n",
      "                        \u001b[38;5;241m12009762\u001b[39m,\n",
      "                        \u001b[38;5;241m12528182\u001b[39m,\n",
      "                        \u001b[38;5;241m12690661\u001b[39m,\n",
      "                        \u001b[38;5;241m12716930\u001b[39m,\n",
      "                        \u001b[38;5;241m15191808\u001b[39m,\n",
      "                        \u001b[38;5;241m15512905\u001b[39m,\n",
      "                        \u001b[38;5;241m15614785\u001b[39m,\n",
      "                        \u001b[38;5;241m15632019\u001b[39m,\n",
      "                        \u001b[38;5;241m15941905\u001b[39m,\n",
      "                        \u001b[38;5;241m16092091\u001b[39m,\n",
      "                        \u001b[38;5;241m16265671\u001b[39m,\n",
      "                        \u001b[38;5;241m16565505\u001b[39m,\n",
      "                        \u001b[38;5;241m16815028\u001b[39m,\n",
      "                        \u001b[38;5;241m16920084\u001b[39m,\n",
      "                        \u001b[38;5;241m17086101\u001b[39m,\n",
      "                        \u001b[38;5;241m17328801\u001b[39m,\n",
      "                        \u001b[38;5;241m17341491\u001b[39m,\n",
      "                        \u001b[38;5;241m17346981\u001b[39m,\n",
      "                        \u001b[38;5;241m17531384\u001b[39m,\n",
      "                        \u001b[38;5;241m17828604\u001b[39m,\n",
      "                        \u001b[38;5;241m17909623\u001b[39m,\n",
      "                        \u001b[38;5;241m18066056\u001b[39m,\n",
      "                        \u001b[38;5;241m18190258\u001b[39m,\n",
      "                        \u001b[38;5;241m18199761\u001b[39m,\n",
      "                        \u001b[38;5;241m18206135\u001b[39m,\n",
      "                        \u001b[38;5;241m18394170\u001b[39m,\n",
      "                        \u001b[38;5;241m18457819\u001b[39m,\n",
      "                        \u001b[38;5;241m18625748\u001b[39m,\n",
      "                        \u001b[38;5;241m18640988\u001b[39m,\n",
      "                        \u001b[38;5;241m18650345\u001b[39m,\n",
      "                        \u001b[38;5;241m18716207\u001b[39m,\n",
      "                        \u001b[38;5;241m18756527\u001b[39m,\n",
      "                        \u001b[38;5;241m18821826\u001b[39m,\n",
      "                        \u001b[38;5;241m19011009\u001b[39m,\n",
      "                        \u001b[38;5;241m19295150\u001b[39m,\n",
      "                        \u001b[38;5;241m19302485\u001b[39m,\n",
      "                        \u001b[38;5;241m19384583\u001b[39m,\n",
      "                        \u001b[38;5;241m19606064\u001b[39m,\n",
      "                        \u001b[38;5;241m19666022\u001b[39m,\n",
      "                        \u001b[38;5;241m19900216\u001b[39m,\n",
      "                        \u001b[38;5;241m19931230\u001b[39m,\n",
      "                        \u001b[38;5;241m20084016\u001b[39m,\n",
      "                        \u001b[38;5;241m20160456\u001b[39m,\n",
      "                        \u001b[38;5;241m20381617\u001b[39m,\n",
      "                        \u001b[38;5;241m20392956\u001b[39m,\n",
      "                        \u001b[38;5;241m20470406\u001b[39m,\n",
      "                        \u001b[38;5;241m21029241\u001b[39m,\n",
      "                        \u001b[38;5;241m21255222\u001b[39m,\n",
      "                        \u001b[38;5;241m21264952\u001b[39m,\n",
      "                        \u001b[38;5;241m21492414\u001b[39m,\n",
      "                        \u001b[38;5;241m21602119\u001b[39m,\n",
      "                        \u001b[38;5;241m21705317\u001b[39m,\n",
      "                        \u001b[38;5;241m21863317\u001b[39m,\n",
      "                        \u001b[38;5;241m21993208\u001b[39m,\n",
      "                        \u001b[38;5;241m22046428\u001b[39m,\n",
      "                        \u001b[38;5;241m22048958\u001b[39m,\n",
      "                        \u001b[38;5;241m22204304\u001b[39m,\n",
      "                        \u001b[38;5;241m22403656\u001b[39m,\n",
      "                        \u001b[38;5;241m22443196\u001b[39m,\n",
      "                        \u001b[38;5;241m22455980\u001b[39m,\n",
      "                        \u001b[38;5;241m22694171\u001b[39m,\n",
      "                        \u001b[38;5;241m22960381\u001b[39m,\n",
      "                        \u001b[38;5;241m22961477\u001b[39m,\n",
      "                        \u001b[38;5;241m22977300\u001b[39m,\n",
      "                        \u001b[38;5;241m22996553\u001b[39m,\n",
      "                        \u001b[38;5;241m23015436\u001b[39m,\n",
      "                        \u001b[38;5;241m23036276\u001b[39m,\n",
      "                        \u001b[38;5;241m23376588\u001b[39m,\n",
      "                        \u001b[38;5;241m23526370\u001b[39m,\n",
      "                        \u001b[38;5;241m23652834\u001b[39m,\n",
      "                        \u001b[38;5;241m23771221\u001b[39m,\n",
      "                        \u001b[38;5;241m23774255\u001b[39m,\n",
      "                        \u001b[38;5;241m23833031\u001b[39m,\n",
      "                        \u001b[38;5;241m23860032\u001b[39m,\n",
      "                        \u001b[38;5;241m24052108\u001b[39m,\n",
      "                        \u001b[38;5;241m24058406\u001b[39m,\n",
      "                        \u001b[38;5;241m24141020\u001b[39m,\n",
      "                        \u001b[38;5;241m24161284\u001b[39m,\n",
      "                        \u001b[38;5;241m24361555\u001b[39m,\n",
      "                        \u001b[38;5;241m24423646\u001b[39m,\n",
      "                        \u001b[38;5;241m24583405\u001b[39m,\n",
      "                        \u001b[38;5;241m24644136\u001b[39m,\n",
      "                        \u001b[38;5;241m24719316\u001b[39m,\n",
      "                        \u001b[38;5;241m24735929\u001b[39m,\n",
      "                        \u001b[38;5;241m24812553\u001b[39m,\n",
      "                        \u001b[38;5;241m25126568\u001b[39m,\n",
      "                        \u001b[38;5;241m25178488\u001b[39m,\n",
      "                        \u001b[38;5;241m25186950\u001b[39m,\n",
      "                        \u001b[38;5;241m25273269\u001b[39m,\n",
      "                        \u001b[38;5;241m25381879\u001b[39m,\n",
      "                        \u001b[38;5;241m25516101\u001b[39m,\n",
      "                        \u001b[38;5;241m25567323\u001b[39m,\n",
      "                        \u001b[38;5;241m25571780\u001b[39m,\n",
      "                        \u001b[38;5;241m25628091\u001b[39m,\n",
      "                        \u001b[38;5;241m25751136\u001b[39m,\n",
      "                        \u001b[38;5;241m25856311\u001b[39m,\n",
      "                        \u001b[38;5;241m25893602\u001b[39m,\n",
      "                        \u001b[38;5;241m25959200\u001b[39m,\n",
      "                        \u001b[38;5;241m25966683\u001b[39m,\n",
      "                        \u001b[38;5;241m25998393\u001b[39m,\n",
      "                        \u001b[38;5;241m26016857\u001b[39m,\n",
      "                        \u001b[38;5;241m26242736\u001b[39m,\n",
      "                        \u001b[38;5;241m26293123\u001b[39m,\n",
      "                        \u001b[38;5;241m26338321\u001b[39m,\n",
      "                        \u001b[38;5;241m26384962\u001b[39m,\n",
      "                        \u001b[38;5;241m26386401\u001b[39m,\n",
      "                        \u001b[38;5;241m26516618\u001b[39m,\n",
      "                        \u001b[38;5;241m26638112\u001b[39m,\n",
      "                        \u001b[38;5;241m26639668\u001b[39m,\n",
      "                        \u001b[38;5;241m26671983\u001b[39m,\n",
      "                        \u001b[38;5;241m26733586\u001b[39m,\n",
      "                        \u001b[38;5;241m26861289\u001b[39m,\n",
      "                        \u001b[38;5;241m26916334\u001b[39m,\n",
      "                        \u001b[38;5;241m26926566\u001b[39m,\n",
      "                        \u001b[38;5;241m27041370\u001b[39m,\n",
      "                        \u001b[38;5;241m27046121\u001b[39m,\n",
      "                        \u001b[38;5;241m27101989\u001b[39m,\n",
      "                        \u001b[38;5;241m27116544\u001b[39m,\n",
      "                        \u001b[38;5;241m27236019\u001b[39m,\n",
      "                        \u001b[38;5;241m27263494\u001b[39m,\n",
      "                        \u001b[38;5;241m27325285\u001b[39m,\n",
      "                        \u001b[38;5;241m27466204\u001b[39m,\n",
      "                        \u001b[38;5;241m27486879\u001b[39m,\n",
      "                        \u001b[38;5;241m27637804\u001b[39m,\n",
      "                        \u001b[38;5;241m27687148\u001b[39m,\n",
      "                        \u001b[38;5;241m27697481\u001b[39m,\n",
      "                        \u001b[38;5;241m27888476\u001b[39m,\n",
      "                        \u001b[38;5;241m27911303\u001b[39m,\n",
      "                        \u001b[38;5;241m28124772\u001b[39m,\n",
      "                        \u001b[38;5;241m28129859\u001b[39m,\n",
      "                        \u001b[38;5;241m28148299\u001b[39m,\n",
      "                        \u001b[38;5;241m28295292\u001b[39m,\n",
      "                        \u001b[38;5;241m28409281\u001b[39m,\n",
      "                        \u001b[38;5;241m28427446\u001b[39m,\n",
      "                        \u001b[38;5;241m28459434\u001b[39m,\n",
      "                        \u001b[38;5;241m28511934\u001b[39m,\n",
      "                        \u001b[38;5;241m28539349\u001b[39m,\n",
      "                        \u001b[38;5;241m28545141\u001b[39m,\n",
      "                        \u001b[38;5;241m28623134\u001b[39m,\n",
      "                        \u001b[38;5;241m28624505\u001b[39m,\n",
      "                        \u001b[38;5;241m28634261\u001b[39m,\n",
      "                        \u001b[38;5;241m28645308\u001b[39m,\n",
      "                        \u001b[38;5;241m28645622\u001b[39m,\n",
      "                        \u001b[38;5;241m28687233\u001b[39m,\n",
      "                        \u001b[38;5;241m28760504\u001b[39m,\n",
      "                        \u001b[38;5;241m28874660\u001b[39m,\n",
      "                        \u001b[38;5;241m29017573\u001b[39m,\n",
      "                        \u001b[38;5;241m29041969\u001b[39m,\n",
      "                        \u001b[38;5;241m29117499\u001b[39m,\n",
      "                        \u001b[38;5;241m29133437\u001b[39m,\n",
      "                        \u001b[38;5;241m29274095\u001b[39m,\n",
      "                        \u001b[38;5;241m29298733\u001b[39m,\n",
      "                        \u001b[38;5;241m29321620\u001b[39m,\n",
      "                        \u001b[38;5;241m29378861\u001b[39m,\n",
      "                        \u001b[38;5;241m29406995\u001b[39m,\n",
      "                        \u001b[38;5;241m29496642\u001b[39m,\n",
      "                        \u001b[38;5;241m29567262\u001b[39m,\n",
      "                        \u001b[38;5;241m29662056\u001b[39m,\n",
      "                        \u001b[38;5;241m29685134\u001b[39m,\n",
      "                        \u001b[38;5;241m29775986\u001b[39m,\n",
      "                        \u001b[38;5;241m29776428\u001b[39m,\n",
      "                        \u001b[38;5;241m29920821\u001b[39m,\n",
      "                        \u001b[38;5;241m30010003\u001b[39m,\n",
      "                        \u001b[38;5;241m30089511\u001b[39m,\n",
      "                        \u001b[38;5;241m30208760\u001b[39m,\n",
      "                        \u001b[38;5;241m30232263\u001b[39m,\n",
      "                        \u001b[38;5;241m30289236\u001b[39m,\n",
      "                        \u001b[38;5;241m30389461\u001b[39m,\n",
      "                        \u001b[38;5;241m30417362\u001b[39m,\n",
      "                        \u001b[38;5;241m30447707\u001b[39m,\n",
      "                        \u001b[38;5;241m30506969\u001b[39m,\n",
      "                        \u001b[38;5;241m30630532\u001b[39m,\n",
      "                        \u001b[38;5;241m30666961\u001b[39m,\n",
      "                        \u001b[38;5;241m30763568\u001b[39m,\n",
      "                        \u001b[38;5;241m30852743\u001b[39m,\n",
      "                        \u001b[38;5;241m30927920\u001b[39m,\n",
      "                        \u001b[38;5;241m30982609\u001b[39m,\n",
      "                        \u001b[38;5;241m31053149\u001b[39m,\n",
      "                        \u001b[38;5;241m31060780\u001b[39m,\n",
      "                        \u001b[38;5;241m31208073\u001b[39m,\n",
      "                        \u001b[38;5;241m31242765\u001b[39m,\n",
      "                        \u001b[38;5;241m31271761\u001b[39m,\n",
      "                        \u001b[38;5;241m31322787\u001b[39m,\n",
      "                        \u001b[38;5;241m31344492\u001b[39m,\n",
      "                        \u001b[38;5;241m31344805\u001b[39m,\n",
      "                        \u001b[38;5;241m31359456\u001b[39m,\n",
      "                        \u001b[38;5;241m31364823\u001b[39m,\n",
      "                        \u001b[38;5;241m31387311\u001b[39m,\n",
      "                        \u001b[38;5;241m31388087\u001b[39m,\n",
      "                        \u001b[38;5;241m31486773\u001b[39m,\n",
      "                        \u001b[38;5;241m31561281\u001b[39m,\n",
      "                        \u001b[38;5;241m31599329\u001b[39m,\n",
      "                        \u001b[38;5;241m31690660\u001b[39m,\n",
      "                        \u001b[38;5;241m31712428\u001b[39m,\n",
      "                        \u001b[38;5;241m31733940\u001b[39m,\n",
      "                        \u001b[38;5;241m31757021\u001b[39m,\n",
      "                        \u001b[38;5;241m31800167\u001b[39m,\n",
      "                        \u001b[38;5;241m31818364\u001b[39m,\n",
      "                        \u001b[38;5;241m31838149\u001b[39m,\n",
      "                        \u001b[38;5;241m31840744\u001b[39m,\n",
      "                        \u001b[38;5;241m31865964\u001b[39m,\n",
      "                        \u001b[38;5;241m31883529\u001b[39m,\n",
      "                        \u001b[38;5;241m31915256\u001b[39m,\n",
      "                        \u001b[38;5;241m31943063\u001b[39m,\n",
      "                        \u001b[38;5;241m32033960\u001b[39m,\n",
      "                        \u001b[38;5;241m32043530\u001b[39m,\n",
      "                        \u001b[38;5;241m32147541\u001b[39m,\n",
      "                        \u001b[38;5;241m32212285\u001b[39m,\n",
      "                        \u001b[38;5;241m32318056\u001b[39m,\n",
      "                        \u001b[38;5;241m32715522\u001b[39m,\n",
      "                        \u001b[38;5;241m32915525\u001b[39m,\n",
      "                        \u001b[38;5;241m33002631\u001b[39m,\n",
      "                        \u001b[38;5;241m33122395\u001b[39m,\n",
      "                        \u001b[38;5;241m33170892\u001b[39m,\n",
      "                        \u001b[38;5;241m33353966\u001b[39m,\n",
      "                        \u001b[38;5;241m33359984\u001b[39m,\n",
      "                        \u001b[38;5;241m33517129\u001b[39m,\n",
      "                        \u001b[38;5;241m33607076\u001b[39m,\n",
      "                        \u001b[38;5;241m33754051\u001b[39m,\n",
      "                        \u001b[38;5;241m34158851\u001b[39m],\n",
      "              \u001b[38;5;124m'\u001b[39m\u001b[38;5;124msource\u001b[39m\u001b[38;5;124m'\u001b[39m: \u001b[38;5;124m'\u001b[39m\u001b[38;5;124mGTR\u001b[39m\u001b[38;5;124m'\u001b[39m,\n",
      "              \u001b[38;5;124m'\u001b[39m\u001b[38;5;124msuppress\u001b[39m\u001b[38;5;124m'\u001b[39m: \u001b[38;5;124m'\u001b[39m\u001b[38;5;124mN\u001b[39m\u001b[38;5;124m'\u001b[39m}]}\n",
      "\n",
      "For further testing go to http://0.0.0.0:5000/ui/#/NCBI Gene/ebel.web.api.ebel.v1.ncbi.get_medgen\n"
     ]
    },
    {
     "data": {
      "text/html": [
       "<h2>7. Find NCBI medgen by pmid</h2>"
      ],
      "text/plain": [
       "<IPython.core.display.HTML object>"
      ]
     },
     "metadata": {},
     "output_type": "display_data"
    },
    {
     "data": {
      "text/html": [
       "<b style=\"color: rgb(98,98,98); text-decoration: underline;\">Description:</b> <p>Find NCBI medgen by pmid</p>"
      ],
      "text/plain": [
       "<IPython.core.display.HTML object>"
      ]
     },
     "metadata": {},
     "output_type": "display_data"
    },
    {
     "data": {
      "text/html": [
       "<b>Tags:</b> ['NCBI Gene']"
      ],
      "text/plain": [
       "<IPython.core.display.HTML object>"
      ]
     },
     "metadata": {},
     "output_type": "display_data"
    },
    {
     "data": {
      "text/html": [
       "<b>Server path:</b> /api/v1/ebel/ncbi/medgen/by_pmid"
      ],
      "text/plain": [
       "<IPython.core.display.HTML object>"
      ]
     },
     "metadata": {},
     "output_type": "display_data"
    },
    {
     "data": {
      "text/html": [
       "<div>\n",
       "<style scoped>\n",
       "    .dataframe tbody tr th:only-of-type {\n",
       "        vertical-align: middle;\n",
       "    }\n",
       "\n",
       "    .dataframe tbody tr th {\n",
       "        vertical-align: top;\n",
       "    }\n",
       "\n",
       "    .dataframe thead th {\n",
       "        text-align: right;\n",
       "    }\n",
       "</style>\n",
       "<table border=\"1\" class=\"dataframe\">\n",
       "  <thead>\n",
       "    <tr style=\"text-align: right;\">\n",
       "      <th></th>\n",
       "      <th>data type</th>\n",
       "      <th>description</th>\n",
       "      <th>example</th>\n",
       "      <th>options</th>\n",
       "      <th>default</th>\n",
       "      <th>required</th>\n",
       "    </tr>\n",
       "    <tr>\n",
       "      <th>parameter name</th>\n",
       "      <th></th>\n",
       "      <th></th>\n",
       "      <th></th>\n",
       "      <th></th>\n",
       "      <th></th>\n",
       "      <th></th>\n",
       "    </tr>\n",
       "  </thead>\n",
       "  <tbody>\n",
       "    <tr>\n",
       "      <th>pmid</th>\n",
       "      <td>integer</td>\n",
       "      <td></td>\n",
       "      <td>29856956</td>\n",
       "      <td></td>\n",
       "      <td></td>\n",
       "      <td>False</td>\n",
       "    </tr>\n",
       "    <tr>\n",
       "      <th>page_size</th>\n",
       "      <td>integer</td>\n",
       "      <td>Results per page</td>\n",
       "      <td>1</td>\n",
       "      <td></td>\n",
       "      <td>10.0</td>\n",
       "      <td>False</td>\n",
       "    </tr>\n",
       "    <tr>\n",
       "      <th>page</th>\n",
       "      <td>integer</td>\n",
       "      <td>Page number (starting with 1)</td>\n",
       "      <td>1</td>\n",
       "      <td></td>\n",
       "      <td>1.0</td>\n",
       "      <td>False</td>\n",
       "    </tr>\n",
       "  </tbody>\n",
       "</table>\n",
       "</div>"
      ],
      "text/plain": [
       "               data type                    description   example options  \\\n",
       "parameter name                                                              \n",
       "pmid             integer                                 29856956           \n",
       "page_size        integer               Results per page         1           \n",
       "page             integer  Page number (starting with 1)         1           \n",
       "\n",
       "               default  required  \n",
       "parameter name                    \n",
       "pmid                       False  \n",
       "page_size         10.0     False  \n",
       "page               1.0     False  "
      ]
     },
     "metadata": {},
     "output_type": "display_data"
    },
    {
     "data": {
      "text/html": [
       "<b>Example URL:</b> <a href=\"http://0.0.0.0:5000/api/v1/ebel/ncbi/medgen/by_pmid?pmid=29856956&page_size=1&page=1\">http://0.0.0.0:5000/api/v1/ebel/ncbi/medgen/by_pmid?pmid=29856956&page_size=1&page=1</a>"
      ],
      "text/plain": [
       "<IPython.core.display.HTML object>"
      ]
     },
     "metadata": {},
     "output_type": "display_data"
    },
    {
     "data": {
      "text/html": [
       "<b style=\"color: rgb(98,98,98); text-decoration: underline;\">Example response:</b>"
      ],
      "text/plain": [
       "<IPython.core.display.HTML object>"
      ]
     },
     "metadata": {},
     "output_type": "display_data"
    },
    {
     "name": "stdout",
     "output_type": "stream",
     "text": [
      "{\u001b[38;5;124m'\u001b[39m\u001b[38;5;124mnumber_of_results\u001b[39m\u001b[38;5;124m'\u001b[39m: \u001b[38;5;241m21\u001b[39m,\n",
      " \u001b[38;5;124m'\u001b[39m\u001b[38;5;124mpage\u001b[39m\u001b[38;5;124m'\u001b[39m: \u001b[38;5;241m1\u001b[39m,\n",
      " \u001b[38;5;124m'\u001b[39m\u001b[38;5;124mpage_size\u001b[39m\u001b[38;5;124m'\u001b[39m: \u001b[38;5;241m1\u001b[39m,\n",
      " \u001b[38;5;124m'\u001b[39m\u001b[38;5;124mpages\u001b[39m\u001b[38;5;124m'\u001b[39m: \u001b[38;5;241m21\u001b[39m,\n",
      " \u001b[38;5;124m'\u001b[39m\u001b[38;5;124mresults\u001b[39m\u001b[38;5;124m'\u001b[39m: [{\u001b[38;5;124m'\u001b[39m\u001b[38;5;124mcui\u001b[39m\u001b[38;5;124m'\u001b[39m: \u001b[38;5;124m'\u001b[39m\u001b[38;5;124mC0023470\u001b[39m\u001b[38;5;124m'\u001b[39m, \u001b[38;5;124m'\u001b[39m\u001b[38;5;124mname\u001b[39m\u001b[38;5;124m'\u001b[39m: \u001b[38;5;124m'\u001b[39m\u001b[38;5;124mMyeloid leukemia\u001b[39m\u001b[38;5;124m'\u001b[39m}]}\n",
      "\n",
      "For further testing go to http://0.0.0.0:5000/ui/#/NCBI Gene/ebel.web.api.ebel.v1.ncbi.get_medgen_by_pmid\n"
     ]
    }
   ],
   "source": [
    "import api_doc\n",
    "api_doc.get_api_methods_by_tag('NCBI Gene')"
   ]
  }
 ],
 "metadata": {
  "kernelspec": {
   "display_name": "Python 3 (ipykernel)",
   "language": "python",
   "name": "python3"
  },
  "language_info": {
   "codemirror_mode": {
    "name": "ipython",
    "version": 3
   },
   "file_extension": ".py",
   "mimetype": "text/x-python",
   "name": "python",
   "nbconvert_exporter": "python",
   "pygments_lexer": "ipython3",
   "version": "3.8.10"
  },
  "toc": {
   "base_numbering": 1,
   "nav_menu": {},
   "number_sections": true,
   "sideBar": true,
   "skip_h1_title": true,
   "title_cell": "Table of Contents",
   "title_sidebar": "Contents",
   "toc_cell": false,
   "toc_position": {},
   "toc_section_display": true,
   "toc_window_display": false
  }
 },
 "nbformat": 4,
 "nbformat_minor": 5
}
