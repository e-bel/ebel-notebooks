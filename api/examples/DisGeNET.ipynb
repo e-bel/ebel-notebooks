{
 "cells": [
  {
   "cell_type": "markdown",
   "id": "bf137ffa",
   "metadata": {},
   "source": [
    "# DisGeNET API methods"
   ]
  },
  {
   "cell_type": "code",
   "execution_count": 1,
   "id": "47e282e4",
   "metadata": {
    "scrolled": false
   },
   "outputs": [
    {
     "data": {
      "text/html": [
       "<h2>1. DisGeNET disease names starts with</h2>"
      ],
      "text/plain": [
       "<IPython.core.display.HTML object>"
      ]
     },
     "metadata": {},
     "output_type": "display_data"
    },
    {
     "data": {
      "text/html": [
       "<b style=\"color: rgb(98,98,98); text-decoration: underline;\">Description:</b> <p>DisGeNET MeSH term starts with</p>"
      ],
      "text/plain": [
       "<IPython.core.display.HTML object>"
      ]
     },
     "metadata": {},
     "output_type": "display_data"
    },
    {
     "data": {
      "text/html": [
       "<b>Tags:</b> ['DisGeNET']"
      ],
      "text/plain": [
       "<IPython.core.display.HTML object>"
      ]
     },
     "metadata": {},
     "output_type": "display_data"
    },
    {
     "data": {
      "text/html": [
       "<b>Server path:</b> /api/v1/disgenet/disease_name/starts_with"
      ],
      "text/plain": [
       "<IPython.core.display.HTML object>"
      ]
     },
     "metadata": {},
     "output_type": "display_data"
    },
    {
     "data": {
      "text/html": [
       "<div>\n",
       "<style scoped>\n",
       "    .dataframe tbody tr th:only-of-type {\n",
       "        vertical-align: middle;\n",
       "    }\n",
       "\n",
       "    .dataframe tbody tr th {\n",
       "        vertical-align: top;\n",
       "    }\n",
       "\n",
       "    .dataframe thead th {\n",
       "        text-align: right;\n",
       "    }\n",
       "</style>\n",
       "<table border=\"1\" class=\"dataframe\">\n",
       "  <thead>\n",
       "    <tr style=\"text-align: right;\">\n",
       "      <th></th>\n",
       "      <th>data type</th>\n",
       "      <th>description</th>\n",
       "      <th>example</th>\n",
       "      <th>options</th>\n",
       "      <th>default</th>\n",
       "      <th>required</th>\n",
       "    </tr>\n",
       "    <tr>\n",
       "      <th>parameter name</th>\n",
       "      <th></th>\n",
       "      <th></th>\n",
       "      <th></th>\n",
       "      <th></th>\n",
       "      <th></th>\n",
       "      <th></th>\n",
       "    </tr>\n",
       "  </thead>\n",
       "  <tbody>\n",
       "    <tr>\n",
       "      <th>disease_name</th>\n",
       "      <td>string</td>\n",
       "      <td></td>\n",
       "      <td>alz</td>\n",
       "      <td></td>\n",
       "      <td></td>\n",
       "      <td>True</td>\n",
       "    </tr>\n",
       "    <tr>\n",
       "      <th>page_size</th>\n",
       "      <td>integer</td>\n",
       "      <td>Results per page</td>\n",
       "      <td>1</td>\n",
       "      <td></td>\n",
       "      <td>10.0</td>\n",
       "      <td>False</td>\n",
       "    </tr>\n",
       "    <tr>\n",
       "      <th>page</th>\n",
       "      <td>integer</td>\n",
       "      <td>Page number (starting with 1)</td>\n",
       "      <td>1</td>\n",
       "      <td></td>\n",
       "      <td>1.0</td>\n",
       "      <td>False</td>\n",
       "    </tr>\n",
       "  </tbody>\n",
       "</table>\n",
       "</div>"
      ],
      "text/plain": [
       "               data type                    description example options  \\\n",
       "parameter name                                                            \n",
       "disease_name      string                                    alz           \n",
       "page_size        integer               Results per page       1           \n",
       "page             integer  Page number (starting with 1)       1           \n",
       "\n",
       "               default  required  \n",
       "parameter name                    \n",
       "disease_name                True  \n",
       "page_size         10.0     False  \n",
       "page               1.0     False  "
      ]
     },
     "metadata": {},
     "output_type": "display_data"
    },
    {
     "data": {
      "text/html": [
       "<b>Example URL:</b> <a href=\"http://0.0.0.0:5000/api/v1/disgenet/disease_name/starts_with?disease_name=alz&page_size=1&page=1\">http://0.0.0.0:5000/api/v1/disgenet/disease_name/starts_with?disease_name=alz&page_size=1&page=1</a>"
      ],
      "text/plain": [
       "<IPython.core.display.HTML object>"
      ]
     },
     "metadata": {},
     "output_type": "display_data"
    },
    {
     "data": {
      "text/html": [
       "<b style=\"color: rgb(98,98,98); text-decoration: underline;\">Example response:</b>"
      ],
      "text/plain": [
       "<IPython.core.display.HTML object>"
      ]
     },
     "metadata": {},
     "output_type": "display_data"
    },
    {
     "name": "stdout",
     "output_type": "stream",
     "text": [
      "{\u001b[38;5;124m'\u001b[39m\u001b[38;5;124mnumber_of_results\u001b[39m\u001b[38;5;124m'\u001b[39m: \u001b[38;5;241m26\u001b[39m,\n",
      " \u001b[38;5;124m'\u001b[39m\u001b[38;5;124mpage\u001b[39m\u001b[38;5;124m'\u001b[39m: \u001b[38;5;241m1\u001b[39m,\n",
      " \u001b[38;5;124m'\u001b[39m\u001b[38;5;124mpage_size\u001b[39m\u001b[38;5;124m'\u001b[39m: \u001b[38;5;241m1\u001b[39m,\n",
      " \u001b[38;5;124m'\u001b[39m\u001b[38;5;124mpages\u001b[39m\u001b[38;5;124m'\u001b[39m: \u001b[38;5;241m26\u001b[39m,\n",
      " \u001b[38;5;124m'\u001b[39m\u001b[38;5;124mresults\u001b[39m\u001b[38;5;124m'\u001b[39m: {\u001b[38;5;124m'\u001b[39m\u001b[38;5;124mALZHEIMER DISEASE 10\u001b[39m\u001b[38;5;124m'\u001b[39m: \u001b[38;5;124m'\u001b[39m\u001b[38;5;124mC1864828\u001b[39m\u001b[38;5;124m'\u001b[39m}}\n",
      "\n",
      "For further testing go to http://0.0.0.0:5000/ui/#/DisGeNET/ebel.web.api.ebel.v1.disgenet.get_disease_name_starts_with\n"
     ]
    },
    {
     "data": {
      "text/html": [
       "<h2>2. DisGeNET SNP-gene relation from e(BE:L) knowledge graph</h2>"
      ],
      "text/plain": [
       "<IPython.core.display.HTML object>"
      ]
     },
     "metadata": {},
     "output_type": "display_data"
    },
    {
     "data": {
      "text/html": [
       "<b style=\"color: rgb(98,98,98); text-decoration: underline;\">Description:</b> <p>DisGeNET SNP-gene relation from e(BE:L) knowledge graph</p>"
      ],
      "text/plain": [
       "<IPython.core.display.HTML object>"
      ]
     },
     "metadata": {},
     "output_type": "display_data"
    },
    {
     "data": {
      "text/html": [
       "<b>Tags:</b> ['DisGeNET', 'e(BE:L)']"
      ],
      "text/plain": [
       "<IPython.core.display.HTML object>"
      ]
     },
     "metadata": {},
     "output_type": "display_data"
    },
    {
     "data": {
      "text/html": [
       "<b>Server path:</b> /api/v1/disgenet/ebel"
      ],
      "text/plain": [
       "<IPython.core.display.HTML object>"
      ]
     },
     "metadata": {},
     "output_type": "display_data"
    },
    {
     "data": {
      "text/html": [
       "<div>\n",
       "<style scoped>\n",
       "    .dataframe tbody tr th:only-of-type {\n",
       "        vertical-align: middle;\n",
       "    }\n",
       "\n",
       "    .dataframe tbody tr th {\n",
       "        vertical-align: top;\n",
       "    }\n",
       "\n",
       "    .dataframe thead th {\n",
       "        text-align: right;\n",
       "    }\n",
       "</style>\n",
       "<table border=\"1\" class=\"dataframe\">\n",
       "  <thead>\n",
       "    <tr style=\"text-align: right;\">\n",
       "      <th></th>\n",
       "      <th>data type</th>\n",
       "      <th>description</th>\n",
       "      <th>example</th>\n",
       "      <th>options</th>\n",
       "      <th>default</th>\n",
       "      <th>required</th>\n",
       "    </tr>\n",
       "    <tr>\n",
       "      <th>parameter name</th>\n",
       "      <th></th>\n",
       "      <th></th>\n",
       "      <th></th>\n",
       "      <th></th>\n",
       "      <th></th>\n",
       "      <th></th>\n",
       "    </tr>\n",
       "  </thead>\n",
       "  <tbody>\n",
       "    <tr>\n",
       "      <th>relation</th>\n",
       "      <td>string</td>\n",
       "      <td></td>\n",
       "      <td>has_dgn_snp</td>\n",
       "      <td>[has_dgn_snp, has_downstream_snp_dgn, has_mapp...</td>\n",
       "      <td></td>\n",
       "      <td>False</td>\n",
       "    </tr>\n",
       "    <tr>\n",
       "      <th>disease_name</th>\n",
       "      <td>string</td>\n",
       "      <td></td>\n",
       "      <td>Alzheimer's Disease</td>\n",
       "      <td></td>\n",
       "      <td></td>\n",
       "      <td>False</td>\n",
       "    </tr>\n",
       "    <tr>\n",
       "      <th>rs_number</th>\n",
       "      <td>string</td>\n",
       "      <td></td>\n",
       "      <td>rs10408847</td>\n",
       "      <td></td>\n",
       "      <td></td>\n",
       "      <td>False</td>\n",
       "    </tr>\n",
       "    <tr>\n",
       "      <th>pmid</th>\n",
       "      <td>integer</td>\n",
       "      <td></td>\n",
       "      <td>29777097</td>\n",
       "      <td></td>\n",
       "      <td></td>\n",
       "      <td>False</td>\n",
       "    </tr>\n",
       "    <tr>\n",
       "      <th>source</th>\n",
       "      <td>string</td>\n",
       "      <td></td>\n",
       "      <td>GWASCAT</td>\n",
       "      <td></td>\n",
       "      <td></td>\n",
       "      <td>False</td>\n",
       "    </tr>\n",
       "    <tr>\n",
       "      <th>name</th>\n",
       "      <td>string</td>\n",
       "      <td>Gene symbol</td>\n",
       "      <td>MARK4</td>\n",
       "      <td></td>\n",
       "      <td></td>\n",
       "      <td>False</td>\n",
       "    </tr>\n",
       "    <tr>\n",
       "      <th>namespace</th>\n",
       "      <td>string</td>\n",
       "      <td>Gene symbol namespace</td>\n",
       "      <td>HGNC</td>\n",
       "      <td></td>\n",
       "      <td></td>\n",
       "      <td>False</td>\n",
       "    </tr>\n",
       "    <tr>\n",
       "      <th>page_size</th>\n",
       "      <td>integer</td>\n",
       "      <td>Results per page</td>\n",
       "      <td>1</td>\n",
       "      <td></td>\n",
       "      <td>10.0</td>\n",
       "      <td>False</td>\n",
       "    </tr>\n",
       "    <tr>\n",
       "      <th>page</th>\n",
       "      <td>integer</td>\n",
       "      <td>Page number (starting with 1)</td>\n",
       "      <td>1</td>\n",
       "      <td></td>\n",
       "      <td>1.0</td>\n",
       "      <td>False</td>\n",
       "    </tr>\n",
       "  </tbody>\n",
       "</table>\n",
       "</div>"
      ],
      "text/plain": [
       "               data type                    description              example  \\\n",
       "parameter name                                                                 \n",
       "relation          string                                         has_dgn_snp   \n",
       "disease_name      string                                 Alzheimer's Disease   \n",
       "rs_number         string                                          rs10408847   \n",
       "pmid             integer                                            29777097   \n",
       "source            string                                             GWASCAT   \n",
       "name              string                    Gene symbol                MARK4   \n",
       "namespace         string          Gene symbol namespace                 HGNC   \n",
       "page_size        integer               Results per page                    1   \n",
       "page             integer  Page number (starting with 1)                    1   \n",
       "\n",
       "                                                          options default  \\\n",
       "parameter name                                                              \n",
       "relation        [has_dgn_snp, has_downstream_snp_dgn, has_mapp...           \n",
       "disease_name                                                                \n",
       "rs_number                                                                   \n",
       "pmid                                                                        \n",
       "source                                                                      \n",
       "name                                                                        \n",
       "namespace                                                                   \n",
       "page_size                                                            10.0   \n",
       "page                                                                  1.0   \n",
       "\n",
       "                required  \n",
       "parameter name            \n",
       "relation           False  \n",
       "disease_name       False  \n",
       "rs_number          False  \n",
       "pmid               False  \n",
       "source             False  \n",
       "name               False  \n",
       "namespace          False  \n",
       "page_size          False  \n",
       "page               False  "
      ]
     },
     "metadata": {},
     "output_type": "display_data"
    },
    {
     "data": {
      "text/html": [
       "<b>Example URL:</b> <a href=\"http://0.0.0.0:5000/api/v1/disgenet/ebel?relation=has_dgn_snp&disease_name=Alzheimer%27s+Disease&rs_number=rs10408847&pmid=29777097&source=GWASCAT&name=MARK4&namespace=HGNC&page_size=1&page=1\">http://0.0.0.0:5000/api/v1/disgenet/ebel?relation=has_dgn_snp&disease_name=Alzheimer%27s+Disease&rs_number=rs10408847&pmid=29777097&source=GWASCAT&name=MARK4&namespace=HGNC&page_size=1&page=1</a>"
      ],
      "text/plain": [
       "<IPython.core.display.HTML object>"
      ]
     },
     "metadata": {},
     "output_type": "display_data"
    },
    {
     "data": {
      "text/html": [
       "<b style=\"color: rgb(98,98,98); text-decoration: underline;\">Example response:</b>"
      ],
      "text/plain": [
       "<IPython.core.display.HTML object>"
      ]
     },
     "metadata": {},
     "output_type": "display_data"
    },
    {
     "name": "stdout",
     "output_type": "stream",
     "text": [
      "{\u001b[38;5;124m'\u001b[39m\u001b[38;5;124mnumber_of_results\u001b[39m\u001b[38;5;124m'\u001b[39m: \u001b[38;5;241m1\u001b[39m,\n",
      " \u001b[38;5;124m'\u001b[39m\u001b[38;5;124mpage\u001b[39m\u001b[38;5;124m'\u001b[39m: \u001b[38;5;241m1\u001b[39m,\n",
      " \u001b[38;5;124m'\u001b[39m\u001b[38;5;124mpage_size\u001b[39m\u001b[38;5;124m'\u001b[39m: \u001b[38;5;241m1\u001b[39m,\n",
      " \u001b[38;5;124m'\u001b[39m\u001b[38;5;124mpages\u001b[39m\u001b[38;5;124m'\u001b[39m: \u001b[38;5;241m1\u001b[39m,\n",
      " \u001b[38;5;124m'\u001b[39m\u001b[38;5;124mresults\u001b[39m\u001b[38;5;124m'\u001b[39m: [{\u001b[38;5;124m'\u001b[39m\u001b[38;5;124mdisease_name\u001b[39m\u001b[38;5;124m'\u001b[39m: \u001b[38;5;124m\"\u001b[39m\u001b[38;5;124mAlzheimer\u001b[39m\u001b[38;5;124m'\u001b[39m\u001b[38;5;124ms Disease\u001b[39m\u001b[38;5;124m\"\u001b[39m,\n",
      "              \u001b[38;5;124m'\u001b[39m\u001b[38;5;124mgene_rid\u001b[39m\u001b[38;5;124m'\u001b[39m: \u001b[38;5;124m'\u001b[39m\u001b[38;5;124m#159:63\u001b[39m\u001b[38;5;124m'\u001b[39m,\n",
      "              \u001b[38;5;124m'\u001b[39m\u001b[38;5;124mgene_symbol\u001b[39m\u001b[38;5;124m'\u001b[39m: \u001b[38;5;124m'\u001b[39m\u001b[38;5;124mMARK4\u001b[39m\u001b[38;5;124m'\u001b[39m,\n",
      "              \u001b[38;5;124m'\u001b[39m\u001b[38;5;124mpmids\u001b[39m\u001b[38;5;124m'\u001b[39m: [\u001b[38;5;241m29777097\u001b[39m],\n",
      "              \u001b[38;5;124m'\u001b[39m\u001b[38;5;124mrelation\u001b[39m\u001b[38;5;124m'\u001b[39m: \u001b[38;5;124m'\u001b[39m\u001b[38;5;124mhas_mapped_snp_dgn\u001b[39m\u001b[38;5;124m'\u001b[39m,\n",
      "              \u001b[38;5;124m'\u001b[39m\u001b[38;5;124mrid\u001b[39m\u001b[38;5;124m'\u001b[39m: \u001b[38;5;124m'\u001b[39m\u001b[38;5;124m#3029:0\u001b[39m\u001b[38;5;124m'\u001b[39m,\n",
      "              \u001b[38;5;124m'\u001b[39m\u001b[38;5;124mscore\u001b[39m\u001b[38;5;124m'\u001b[39m: \u001b[38;5;241m0.7\u001b[39m,\n",
      "              \u001b[38;5;124m'\u001b[39m\u001b[38;5;124msnp_rid\u001b[39m\u001b[38;5;124m'\u001b[39m: \u001b[38;5;124m'\u001b[39m\u001b[38;5;124m#1607:8\u001b[39m\u001b[38;5;124m'\u001b[39m,\n",
      "              \u001b[38;5;124m'\u001b[39m\u001b[38;5;124msnp_rs_number\u001b[39m\u001b[38;5;124m'\u001b[39m: \u001b[38;5;124m'\u001b[39m\u001b[38;5;124mrs10408847\u001b[39m\u001b[38;5;124m'\u001b[39m,\n",
      "              \u001b[38;5;124m'\u001b[39m\u001b[38;5;124msource\u001b[39m\u001b[38;5;124m'\u001b[39m: \u001b[38;5;124m'\u001b[39m\u001b[38;5;124mGWASCAT\u001b[39m\u001b[38;5;124m'\u001b[39m}]}\n",
      "\n",
      "For further testing go to http://0.0.0.0:5000/ui/#/DisGeNET/ebel.web.api.ebel.v1.disgenet.get_ebel_has_snp_disgenet\n"
     ]
    },
    {
     "data": {
      "text/html": [
       "<h2>3. DisGeNET Gene-Disease-PubMed associations</h2>"
      ],
      "text/plain": [
       "<IPython.core.display.HTML object>"
      ]
     },
     "metadata": {},
     "output_type": "display_data"
    },
    {
     "data": {
      "text/html": [
       "<b style=\"color: rgb(98,98,98); text-decoration: underline;\">Description:</b> <p>DisGeNET Gene-Disease-PubMed associations</p>"
      ],
      "text/plain": [
       "<IPython.core.display.HTML object>"
      ]
     },
     "metadata": {},
     "output_type": "display_data"
    },
    {
     "data": {
      "text/html": [
       "<b>Tags:</b> ['DisGeNET']"
      ],
      "text/plain": [
       "<IPython.core.display.HTML object>"
      ]
     },
     "metadata": {},
     "output_type": "display_data"
    },
    {
     "data": {
      "text/html": [
       "<b>Server path:</b> /api/v1/disgenet/gene_disease_pmid_associations"
      ],
      "text/plain": [
       "<IPython.core.display.HTML object>"
      ]
     },
     "metadata": {},
     "output_type": "display_data"
    },
    {
     "data": {
      "text/html": [
       "<div>\n",
       "<style scoped>\n",
       "    .dataframe tbody tr th:only-of-type {\n",
       "        vertical-align: middle;\n",
       "    }\n",
       "\n",
       "    .dataframe tbody tr th {\n",
       "        vertical-align: top;\n",
       "    }\n",
       "\n",
       "    .dataframe thead th {\n",
       "        text-align: right;\n",
       "    }\n",
       "</style>\n",
       "<table border=\"1\" class=\"dataframe\">\n",
       "  <thead>\n",
       "    <tr style=\"text-align: right;\">\n",
       "      <th></th>\n",
       "      <th>data type</th>\n",
       "      <th>description</th>\n",
       "      <th>example</th>\n",
       "      <th>options</th>\n",
       "      <th>default</th>\n",
       "      <th>required</th>\n",
       "    </tr>\n",
       "    <tr>\n",
       "      <th>parameter name</th>\n",
       "      <th></th>\n",
       "      <th></th>\n",
       "      <th></th>\n",
       "      <th></th>\n",
       "      <th></th>\n",
       "      <th></th>\n",
       "    </tr>\n",
       "  </thead>\n",
       "  <tbody>\n",
       "    <tr>\n",
       "      <th>gene_id</th>\n",
       "      <td>integer</td>\n",
       "      <td></td>\n",
       "      <td>945</td>\n",
       "      <td></td>\n",
       "      <td></td>\n",
       "      <td>False</td>\n",
       "    </tr>\n",
       "    <tr>\n",
       "      <th>gene_symbol</th>\n",
       "      <td>string</td>\n",
       "      <td>Gene symbol  (use % as wildcard)</td>\n",
       "      <td>CD33</td>\n",
       "      <td></td>\n",
       "      <td></td>\n",
       "      <td>False</td>\n",
       "    </tr>\n",
       "    <tr>\n",
       "      <th>disease_id</th>\n",
       "      <td>string</td>\n",
       "      <td></td>\n",
       "      <td>C0023418</td>\n",
       "      <td></td>\n",
       "      <td></td>\n",
       "      <td>False</td>\n",
       "    </tr>\n",
       "    <tr>\n",
       "      <th>disease_name</th>\n",
       "      <td>string</td>\n",
       "      <td>Disease name  (use % as wildcard)</td>\n",
       "      <td>leukemia</td>\n",
       "      <td></td>\n",
       "      <td></td>\n",
       "      <td>False</td>\n",
       "    </tr>\n",
       "    <tr>\n",
       "      <th>pmid</th>\n",
       "      <td>integer</td>\n",
       "      <td></td>\n",
       "      <td>15388576</td>\n",
       "      <td></td>\n",
       "      <td></td>\n",
       "      <td>False</td>\n",
       "    </tr>\n",
       "    <tr>\n",
       "      <th>source</th>\n",
       "      <td>string</td>\n",
       "      <td>Source  (use % as wildcard)</td>\n",
       "      <td>LHGDN</td>\n",
       "      <td></td>\n",
       "      <td></td>\n",
       "      <td>False</td>\n",
       "    </tr>\n",
       "    <tr>\n",
       "      <th>page_size</th>\n",
       "      <td>integer</td>\n",
       "      <td>Results per page</td>\n",
       "      <td>1</td>\n",
       "      <td></td>\n",
       "      <td>10.0</td>\n",
       "      <td>False</td>\n",
       "    </tr>\n",
       "    <tr>\n",
       "      <th>page</th>\n",
       "      <td>integer</td>\n",
       "      <td>Page number (starting with 1)</td>\n",
       "      <td>1</td>\n",
       "      <td></td>\n",
       "      <td>1.0</td>\n",
       "      <td>False</td>\n",
       "    </tr>\n",
       "  </tbody>\n",
       "</table>\n",
       "</div>"
      ],
      "text/plain": [
       "               data type                        description   example options  \\\n",
       "parameter name                                                                  \n",
       "gene_id          integer                                          945           \n",
       "gene_symbol       string   Gene symbol  (use % as wildcard)      CD33           \n",
       "disease_id        string                                     C0023418           \n",
       "disease_name      string  Disease name  (use % as wildcard)  leukemia           \n",
       "pmid             integer                                     15388576           \n",
       "source            string        Source  (use % as wildcard)     LHGDN           \n",
       "page_size        integer                   Results per page         1           \n",
       "page             integer      Page number (starting with 1)         1           \n",
       "\n",
       "               default  required  \n",
       "parameter name                    \n",
       "gene_id                    False  \n",
       "gene_symbol                False  \n",
       "disease_id                 False  \n",
       "disease_name               False  \n",
       "pmid                       False  \n",
       "source                     False  \n",
       "page_size         10.0     False  \n",
       "page               1.0     False  "
      ]
     },
     "metadata": {},
     "output_type": "display_data"
    },
    {
     "data": {
      "text/html": [
       "<b>Example URL:</b> <a href=\"http://0.0.0.0:5000/api/v1/disgenet/gene_disease_pmid_associations?gene_id=945&gene_symbol=CD33&disease_id=C0023418&disease_name=leukemia&pmid=15388576&source=LHGDN&page_size=1&page=1\">http://0.0.0.0:5000/api/v1/disgenet/gene_disease_pmid_associations?gene_id=945&gene_symbol=CD33&disease_id=C0023418&disease_name=leukemia&pmid=15388576&source=LHGDN&page_size=1&page=1</a>"
      ],
      "text/plain": [
       "<IPython.core.display.HTML object>"
      ]
     },
     "metadata": {},
     "output_type": "display_data"
    },
    {
     "data": {
      "text/html": [
       "<b style=\"color: rgb(98,98,98); text-decoration: underline;\">Example response:</b>"
      ],
      "text/plain": [
       "<IPython.core.display.HTML object>"
      ]
     },
     "metadata": {},
     "output_type": "display_data"
    },
    {
     "name": "stdout",
     "output_type": "stream",
     "text": [
      "{\u001b[38;5;124m'\u001b[39m\u001b[38;5;124mnumber_of_results\u001b[39m\u001b[38;5;124m'\u001b[39m: \u001b[38;5;241m1\u001b[39m,\n",
      " \u001b[38;5;124m'\u001b[39m\u001b[38;5;124mpage\u001b[39m\u001b[38;5;124m'\u001b[39m: \u001b[38;5;241m1\u001b[39m,\n",
      " \u001b[38;5;124m'\u001b[39m\u001b[38;5;124mpage_size\u001b[39m\u001b[38;5;124m'\u001b[39m: \u001b[38;5;241m1\u001b[39m,\n",
      " \u001b[38;5;124m'\u001b[39m\u001b[38;5;124mpages\u001b[39m\u001b[38;5;124m'\u001b[39m: \u001b[38;5;241m1\u001b[39m,\n",
      " \u001b[38;5;124m'\u001b[39m\u001b[38;5;124mresults\u001b[39m\u001b[38;5;124m'\u001b[39m: [{\u001b[38;5;124m'\u001b[39m\u001b[38;5;124mdisease_id\u001b[39m\u001b[38;5;124m'\u001b[39m: \u001b[38;5;124m'\u001b[39m\u001b[38;5;124mC0023418\u001b[39m\u001b[38;5;124m'\u001b[39m,\n",
      "              \u001b[38;5;124m'\u001b[39m\u001b[38;5;124mdisease_name\u001b[39m\u001b[38;5;124m'\u001b[39m: \u001b[38;5;124m'\u001b[39m\u001b[38;5;124mleukemia\u001b[39m\u001b[38;5;124m'\u001b[39m,\n",
      "              \u001b[38;5;124m'\u001b[39m\u001b[38;5;124mgene_id\u001b[39m\u001b[38;5;124m'\u001b[39m: \u001b[38;5;241m945\u001b[39m,\n",
      "              \u001b[38;5;124m'\u001b[39m\u001b[38;5;124mgene_symbol\u001b[39m\u001b[38;5;124m'\u001b[39m: \u001b[38;5;124m'\u001b[39m\u001b[38;5;124mCD33\u001b[39m\u001b[38;5;124m'\u001b[39m,\n",
      "              \u001b[38;5;124m'\u001b[39m\u001b[38;5;124mpmid\u001b[39m\u001b[38;5;124m'\u001b[39m: \u001b[38;5;241m15388576\u001b[39m,\n",
      "              \u001b[38;5;124m'\u001b[39m\u001b[38;5;124mscore\u001b[39m\u001b[38;5;124m'\u001b[39m: \u001b[38;5;241m0.1\u001b[39m,\n",
      "              \u001b[38;5;124m'\u001b[39m\u001b[38;5;124msource\u001b[39m\u001b[38;5;124m'\u001b[39m: \u001b[38;5;124m'\u001b[39m\u001b[38;5;124mLHGDN\u001b[39m\u001b[38;5;124m'\u001b[39m}]}\n",
      "\n",
      "For further testing go to http://0.0.0.0:5000/ui/#/DisGeNET/ebel.web.api.ebel.v1.disgenet.get_gene_disease_pmid_associations\n"
     ]
    },
    {
     "data": {
      "text/html": [
       "<h2>4. DisGeNET gene symbol starts with</h2>"
      ],
      "text/plain": [
       "<IPython.core.display.HTML object>"
      ]
     },
     "metadata": {},
     "output_type": "display_data"
    },
    {
     "data": {
      "text/html": [
       "<b style=\"color: rgb(98,98,98); text-decoration: underline;\">Description:</b> <p>DisGeNET gene symbol starts with</p>"
      ],
      "text/plain": [
       "<IPython.core.display.HTML object>"
      ]
     },
     "metadata": {},
     "output_type": "display_data"
    },
    {
     "data": {
      "text/html": [
       "<b>Tags:</b> ['DisGeNET']"
      ],
      "text/plain": [
       "<IPython.core.display.HTML object>"
      ]
     },
     "metadata": {},
     "output_type": "display_data"
    },
    {
     "data": {
      "text/html": [
       "<b>Server path:</b> /api/v1/disgenet/gene_symbol/starts_with"
      ],
      "text/plain": [
       "<IPython.core.display.HTML object>"
      ]
     },
     "metadata": {},
     "output_type": "display_data"
    },
    {
     "data": {
      "text/html": [
       "<div>\n",
       "<style scoped>\n",
       "    .dataframe tbody tr th:only-of-type {\n",
       "        vertical-align: middle;\n",
       "    }\n",
       "\n",
       "    .dataframe tbody tr th {\n",
       "        vertical-align: top;\n",
       "    }\n",
       "\n",
       "    .dataframe thead th {\n",
       "        text-align: right;\n",
       "    }\n",
       "</style>\n",
       "<table border=\"1\" class=\"dataframe\">\n",
       "  <thead>\n",
       "    <tr style=\"text-align: right;\">\n",
       "      <th></th>\n",
       "      <th>data type</th>\n",
       "      <th>description</th>\n",
       "      <th>example</th>\n",
       "      <th>options</th>\n",
       "      <th>default</th>\n",
       "      <th>required</th>\n",
       "    </tr>\n",
       "    <tr>\n",
       "      <th>parameter name</th>\n",
       "      <th></th>\n",
       "      <th></th>\n",
       "      <th></th>\n",
       "      <th></th>\n",
       "      <th></th>\n",
       "      <th></th>\n",
       "    </tr>\n",
       "  </thead>\n",
       "  <tbody>\n",
       "    <tr>\n",
       "      <th>gene_symbol</th>\n",
       "      <td>string</td>\n",
       "      <td></td>\n",
       "      <td>CD</td>\n",
       "      <td></td>\n",
       "      <td></td>\n",
       "      <td>True</td>\n",
       "    </tr>\n",
       "    <tr>\n",
       "      <th>page_size</th>\n",
       "      <td>integer</td>\n",
       "      <td>Results per page</td>\n",
       "      <td>1</td>\n",
       "      <td></td>\n",
       "      <td>10.0</td>\n",
       "      <td>False</td>\n",
       "    </tr>\n",
       "    <tr>\n",
       "      <th>page</th>\n",
       "      <td>integer</td>\n",
       "      <td>Page number (starting with 1)</td>\n",
       "      <td>1</td>\n",
       "      <td></td>\n",
       "      <td>1.0</td>\n",
       "      <td>False</td>\n",
       "    </tr>\n",
       "  </tbody>\n",
       "</table>\n",
       "</div>"
      ],
      "text/plain": [
       "               data type                    description example options  \\\n",
       "parameter name                                                            \n",
       "gene_symbol       string                                     CD           \n",
       "page_size        integer               Results per page       1           \n",
       "page             integer  Page number (starting with 1)       1           \n",
       "\n",
       "               default  required  \n",
       "parameter name                    \n",
       "gene_symbol                 True  \n",
       "page_size         10.0     False  \n",
       "page               1.0     False  "
      ]
     },
     "metadata": {},
     "output_type": "display_data"
    },
    {
     "data": {
      "text/html": [
       "<b>Example URL:</b> <a href=\"http://0.0.0.0:5000/api/v1/disgenet/gene_symbol/starts_with?gene_symbol=CD&page_size=1&page=1\">http://0.0.0.0:5000/api/v1/disgenet/gene_symbol/starts_with?gene_symbol=CD&page_size=1&page=1</a>"
      ],
      "text/plain": [
       "<IPython.core.display.HTML object>"
      ]
     },
     "metadata": {},
     "output_type": "display_data"
    },
    {
     "data": {
      "text/html": [
       "<b style=\"color: rgb(98,98,98); text-decoration: underline;\">Example response:</b>"
      ],
      "text/plain": [
       "<IPython.core.display.HTML object>"
      ]
     },
     "metadata": {},
     "output_type": "display_data"
    },
    {
     "name": "stdout",
     "output_type": "stream",
     "text": [
      "{\u001b[38;5;124m'\u001b[39m\u001b[38;5;124mnumber_of_results\u001b[39m\u001b[38;5;124m'\u001b[39m: \u001b[38;5;241m240\u001b[39m,\n",
      " \u001b[38;5;124m'\u001b[39m\u001b[38;5;124mpage\u001b[39m\u001b[38;5;124m'\u001b[39m: \u001b[38;5;241m1\u001b[39m,\n",
      " \u001b[38;5;124m'\u001b[39m\u001b[38;5;124mpage_size\u001b[39m\u001b[38;5;124m'\u001b[39m: \u001b[38;5;241m1\u001b[39m,\n",
      " \u001b[38;5;124m'\u001b[39m\u001b[38;5;124mpages\u001b[39m\u001b[38;5;124m'\u001b[39m: \u001b[38;5;241m240\u001b[39m,\n",
      " \u001b[38;5;124m'\u001b[39m\u001b[38;5;124mresults\u001b[39m\u001b[38;5;124m'\u001b[39m: {\u001b[38;5;124m'\u001b[39m\u001b[38;5;124mCD101\u001b[39m\u001b[38;5;124m'\u001b[39m: \u001b[38;5;241m9398\u001b[39m}}\n",
      "\n",
      "For further testing go to http://0.0.0.0:5000/ui/#/DisGeNET/ebel.web.api.ebel.v1.disgenet.get_gene_symbol_starts_with\n"
     ]
    },
    {
     "data": {
      "text/html": [
       "<h2>5. DisGeNET sources</h2>"
      ],
      "text/plain": [
       "<IPython.core.display.HTML object>"
      ]
     },
     "metadata": {},
     "output_type": "display_data"
    },
    {
     "data": {
      "text/html": [
       "<b style=\"color: rgb(98,98,98); text-decoration: underline;\">Description:</b> <p>DisGeNET sources</p>"
      ],
      "text/plain": [
       "<IPython.core.display.HTML object>"
      ]
     },
     "metadata": {},
     "output_type": "display_data"
    },
    {
     "data": {
      "text/html": [
       "<b>Tags:</b> ['DisGeNET']"
      ],
      "text/plain": [
       "<IPython.core.display.HTML object>"
      ]
     },
     "metadata": {},
     "output_type": "display_data"
    },
    {
     "data": {
      "text/html": [
       "<b>Server path:</b> /api/v1/disgenet/sources"
      ],
      "text/plain": [
       "<IPython.core.display.HTML object>"
      ]
     },
     "metadata": {},
     "output_type": "display_data"
    },
    {
     "name": "stdout",
     "output_type": "stream",
     "text": [
      "without paramters\n"
     ]
    },
    {
     "data": {
      "text/html": [
       "<b>Example URL:</b> <a href=\"http://0.0.0.0:5000/api/v1/disgenet/sources\">http://0.0.0.0:5000/api/v1/disgenet/sources</a>"
      ],
      "text/plain": [
       "<IPython.core.display.HTML object>"
      ]
     },
     "metadata": {},
     "output_type": "display_data"
    },
    {
     "data": {
      "text/html": [
       "<b style=\"color: rgb(98,98,98); text-decoration: underline;\">Example response:</b>"
      ],
      "text/plain": [
       "<IPython.core.display.HTML object>"
      ]
     },
     "metadata": {},
     "output_type": "display_data"
    },
    {
     "name": "stdout",
     "output_type": "stream",
     "text": [
      "{\u001b[38;5;124m'\u001b[39m\u001b[38;5;124mBEFREE\u001b[39m\u001b[38;5;124m'\u001b[39m: \u001b[38;5;241m2\u001b[39m,\n",
      " \u001b[38;5;124m'\u001b[39m\u001b[38;5;124mCGI\u001b[39m\u001b[38;5;124m'\u001b[39m: \u001b[38;5;241m15\u001b[39m,\n",
      " \u001b[38;5;124m'\u001b[39m\u001b[38;5;124mCLINGEN\u001b[39m\u001b[38;5;124m'\u001b[39m: \u001b[38;5;241m16\u001b[39m,\n",
      " \u001b[38;5;124m'\u001b[39m\u001b[38;5;124mCLINVAR\u001b[39m\u001b[38;5;124m'\u001b[39m: \u001b[38;5;241m8\u001b[39m,\n",
      " \u001b[38;5;124m'\u001b[39m\u001b[38;5;124mCTD_human\u001b[39m\u001b[38;5;124m'\u001b[39m: \u001b[38;5;241m3\u001b[39m,\n",
      " \u001b[38;5;124m'\u001b[39m\u001b[38;5;124mCTD_mouse\u001b[39m\u001b[38;5;124m'\u001b[39m: \u001b[38;5;241m10\u001b[39m,\n",
      " \u001b[38;5;124m'\u001b[39m\u001b[38;5;124mCTD_rat\u001b[39m\u001b[38;5;124m'\u001b[39m: \u001b[38;5;241m17\u001b[39m,\n",
      " \u001b[38;5;124m'\u001b[39m\u001b[38;5;124mGENOMICS_ENGLAND\u001b[39m\u001b[38;5;124m'\u001b[39m: \u001b[38;5;241m12\u001b[39m,\n",
      " \u001b[38;5;124m'\u001b[39m\u001b[38;5;124mGWASCAT\u001b[39m\u001b[38;5;124m'\u001b[39m: \u001b[38;5;241m7\u001b[39m,\n",
      " \u001b[38;5;124m'\u001b[39m\u001b[38;5;124mGWASDB\u001b[39m\u001b[38;5;124m'\u001b[39m: \u001b[38;5;241m9\u001b[39m,\n",
      " \u001b[38;5;124m'\u001b[39m\u001b[38;5;124mHPO\u001b[39m\u001b[38;5;124m'\u001b[39m: \u001b[38;5;241m4\u001b[39m,\n",
      " \u001b[38;5;124m'\u001b[39m\u001b[38;5;124mLHGDN\u001b[39m\u001b[38;5;124m'\u001b[39m: \u001b[38;5;241m1\u001b[39m,\n",
      " \u001b[38;5;124m'\u001b[39m\u001b[38;5;124mMGD\u001b[39m\u001b[38;5;124m'\u001b[39m: \u001b[38;5;241m14\u001b[39m,\n",
      " \u001b[38;5;124m'\u001b[39m\u001b[38;5;124mORPHANET\u001b[39m\u001b[38;5;124m'\u001b[39m: \u001b[38;5;241m13\u001b[39m,\n",
      " \u001b[38;5;124m'\u001b[39m\u001b[38;5;124mPSYGENET\u001b[39m\u001b[38;5;124m'\u001b[39m: \u001b[38;5;241m6\u001b[39m,\n",
      " \u001b[38;5;124m'\u001b[39m\u001b[38;5;124mRGD\u001b[39m\u001b[38;5;124m'\u001b[39m: \u001b[38;5;241m5\u001b[39m,\n",
      " \u001b[38;5;124m'\u001b[39m\u001b[38;5;124mUNIPROT\u001b[39m\u001b[38;5;124m'\u001b[39m: \u001b[38;5;241m11\u001b[39m}\n",
      "\n",
      "For further testing go to http://0.0.0.0:5000/ui/#/DisGeNET/ebel.web.api.ebel.v1.disgenet.get_sources\n"
     ]
    },
    {
     "data": {
      "text/html": [
       "<h2>6. DisGeNET variant_disease_pmid_associations</h2>"
      ],
      "text/plain": [
       "<IPython.core.display.HTML object>"
      ]
     },
     "metadata": {},
     "output_type": "display_data"
    },
    {
     "data": {
      "text/html": [
       "<b style=\"color: rgb(98,98,98); text-decoration: underline;\">Description:</b> <p>DisGeNET Variant-Disease-PMID associations</p>"
      ],
      "text/plain": [
       "<IPython.core.display.HTML object>"
      ]
     },
     "metadata": {},
     "output_type": "display_data"
    },
    {
     "data": {
      "text/html": [
       "<b>Tags:</b> ['DisGeNET']"
      ],
      "text/plain": [
       "<IPython.core.display.HTML object>"
      ]
     },
     "metadata": {},
     "output_type": "display_data"
    },
    {
     "data": {
      "text/html": [
       "<b>Server path:</b> /api/v1/disgenet/variant_disease_pmid_associations"
      ],
      "text/plain": [
       "<IPython.core.display.HTML object>"
      ]
     },
     "metadata": {},
     "output_type": "display_data"
    },
    {
     "data": {
      "text/html": [
       "<div>\n",
       "<style scoped>\n",
       "    .dataframe tbody tr th:only-of-type {\n",
       "        vertical-align: middle;\n",
       "    }\n",
       "\n",
       "    .dataframe tbody tr th {\n",
       "        vertical-align: top;\n",
       "    }\n",
       "\n",
       "    .dataframe thead th {\n",
       "        text-align: right;\n",
       "    }\n",
       "</style>\n",
       "<table border=\"1\" class=\"dataframe\">\n",
       "  <thead>\n",
       "    <tr style=\"text-align: right;\">\n",
       "      <th></th>\n",
       "      <th>data type</th>\n",
       "      <th>description</th>\n",
       "      <th>example</th>\n",
       "      <th>options</th>\n",
       "      <th>default</th>\n",
       "      <th>required</th>\n",
       "    </tr>\n",
       "    <tr>\n",
       "      <th>parameter name</th>\n",
       "      <th></th>\n",
       "      <th></th>\n",
       "      <th></th>\n",
       "      <th></th>\n",
       "      <th></th>\n",
       "      <th></th>\n",
       "    </tr>\n",
       "  </thead>\n",
       "  <tbody>\n",
       "    <tr>\n",
       "      <th>snp_id</th>\n",
       "      <td>string</td>\n",
       "      <td></td>\n",
       "      <td>rs1001179</td>\n",
       "      <td></td>\n",
       "      <td></td>\n",
       "      <td>False</td>\n",
       "    </tr>\n",
       "    <tr>\n",
       "      <th>chromosome</th>\n",
       "      <td>string</td>\n",
       "      <td></td>\n",
       "      <td>11</td>\n",
       "      <td></td>\n",
       "      <td></td>\n",
       "      <td>False</td>\n",
       "    </tr>\n",
       "    <tr>\n",
       "      <th>position</th>\n",
       "      <td>integer</td>\n",
       "      <td></td>\n",
       "      <td>34438684</td>\n",
       "      <td></td>\n",
       "      <td></td>\n",
       "      <td>False</td>\n",
       "    </tr>\n",
       "    <tr>\n",
       "      <th>disease_id</th>\n",
       "      <td>string</td>\n",
       "      <td></td>\n",
       "      <td>C0002395</td>\n",
       "      <td></td>\n",
       "      <td></td>\n",
       "      <td>False</td>\n",
       "    </tr>\n",
       "    <tr>\n",
       "      <th>disease_name</th>\n",
       "      <td>string</td>\n",
       "      <td>Disease name  (use % as wildcard)</td>\n",
       "      <td>Alzheimer's Disease</td>\n",
       "      <td></td>\n",
       "      <td></td>\n",
       "      <td>False</td>\n",
       "    </tr>\n",
       "    <tr>\n",
       "      <th>pmid</th>\n",
       "      <td>integer</td>\n",
       "      <td></td>\n",
       "      <td>18248894</td>\n",
       "      <td></td>\n",
       "      <td></td>\n",
       "      <td>False</td>\n",
       "    </tr>\n",
       "    <tr>\n",
       "      <th>source</th>\n",
       "      <td>string</td>\n",
       "      <td>Source  (use % as wildcard)</td>\n",
       "      <td>BEFREE</td>\n",
       "      <td></td>\n",
       "      <td></td>\n",
       "      <td>False</td>\n",
       "    </tr>\n",
       "    <tr>\n",
       "      <th>page_size</th>\n",
       "      <td>integer</td>\n",
       "      <td>Results per page</td>\n",
       "      <td>1</td>\n",
       "      <td></td>\n",
       "      <td>10.0</td>\n",
       "      <td>False</td>\n",
       "    </tr>\n",
       "    <tr>\n",
       "      <th>page</th>\n",
       "      <td>integer</td>\n",
       "      <td>Page number (starting with 1)</td>\n",
       "      <td>1</td>\n",
       "      <td></td>\n",
       "      <td>1.0</td>\n",
       "      <td>False</td>\n",
       "    </tr>\n",
       "  </tbody>\n",
       "</table>\n",
       "</div>"
      ],
      "text/plain": [
       "               data type                        description  \\\n",
       "parameter name                                                \n",
       "snp_id            string                                      \n",
       "chromosome        string                                      \n",
       "position         integer                                      \n",
       "disease_id        string                                      \n",
       "disease_name      string  Disease name  (use % as wildcard)   \n",
       "pmid             integer                                      \n",
       "source            string        Source  (use % as wildcard)   \n",
       "page_size        integer                   Results per page   \n",
       "page             integer      Page number (starting with 1)   \n",
       "\n",
       "                            example options default  required  \n",
       "parameter name                                                 \n",
       "snp_id                    rs1001179                     False  \n",
       "chromosome                       11                     False  \n",
       "position                   34438684                     False  \n",
       "disease_id                 C0002395                     False  \n",
       "disease_name    Alzheimer's Disease                     False  \n",
       "pmid                       18248894                     False  \n",
       "source                       BEFREE                     False  \n",
       "page_size                         1            10.0     False  \n",
       "page                              1             1.0     False  "
      ]
     },
     "metadata": {},
     "output_type": "display_data"
    },
    {
     "data": {
      "text/html": [
       "<b>Example URL:</b> <a href=\"http://0.0.0.0:5000/api/v1/disgenet/variant_disease_pmid_associations?snp_id=rs1001179&chromosome=11&position=34438684&disease_id=C0002395&disease_name=Alzheimer%27s+Disease&pmid=18248894&source=BEFREE&page_size=1&page=1\">http://0.0.0.0:5000/api/v1/disgenet/variant_disease_pmid_associations?snp_id=rs1001179&chromosome=11&position=34438684&disease_id=C0002395&disease_name=Alzheimer%27s+Disease&pmid=18248894&source=BEFREE&page_size=1&page=1</a>"
      ],
      "text/plain": [
       "<IPython.core.display.HTML object>"
      ]
     },
     "metadata": {},
     "output_type": "display_data"
    },
    {
     "data": {
      "text/html": [
       "<b style=\"color: rgb(98,98,98); text-decoration: underline;\">Example response:</b>"
      ],
      "text/plain": [
       "<IPython.core.display.HTML object>"
      ]
     },
     "metadata": {},
     "output_type": "display_data"
    },
    {
     "name": "stdout",
     "output_type": "stream",
     "text": [
      "{\u001b[38;5;124m'\u001b[39m\u001b[38;5;124mnumber_of_results\u001b[39m\u001b[38;5;124m'\u001b[39m: \u001b[38;5;241m1\u001b[39m,\n",
      " \u001b[38;5;124m'\u001b[39m\u001b[38;5;124mpage\u001b[39m\u001b[38;5;124m'\u001b[39m: \u001b[38;5;241m1\u001b[39m,\n",
      " \u001b[38;5;124m'\u001b[39m\u001b[38;5;124mpage_size\u001b[39m\u001b[38;5;124m'\u001b[39m: \u001b[38;5;241m1\u001b[39m,\n",
      " \u001b[38;5;124m'\u001b[39m\u001b[38;5;124mpages\u001b[39m\u001b[38;5;124m'\u001b[39m: \u001b[38;5;241m1\u001b[39m,\n",
      " \u001b[38;5;124m'\u001b[39m\u001b[38;5;124mresults\u001b[39m\u001b[38;5;124m'\u001b[39m: [{\u001b[38;5;124m'\u001b[39m\u001b[38;5;124mchromosome\u001b[39m\u001b[38;5;124m'\u001b[39m: \u001b[38;5;124m'\u001b[39m\u001b[38;5;124m11\u001b[39m\u001b[38;5;124m'\u001b[39m,\n",
      "              \u001b[38;5;124m'\u001b[39m\u001b[38;5;124mdisease_id\u001b[39m\u001b[38;5;124m'\u001b[39m: \u001b[38;5;124m'\u001b[39m\u001b[38;5;124mC0002395\u001b[39m\u001b[38;5;124m'\u001b[39m,\n",
      "              \u001b[38;5;124m'\u001b[39m\u001b[38;5;124mdisease_name\u001b[39m\u001b[38;5;124m'\u001b[39m: \u001b[38;5;124m\"\u001b[39m\u001b[38;5;124mAlzheimer\u001b[39m\u001b[38;5;124m'\u001b[39m\u001b[38;5;124ms Disease\u001b[39m\u001b[38;5;124m\"\u001b[39m,\n",
      "              \u001b[38;5;124m'\u001b[39m\u001b[38;5;124mpmid\u001b[39m\u001b[38;5;124m'\u001b[39m: \u001b[38;5;241m18248894\u001b[39m,\n",
      "              \u001b[38;5;124m'\u001b[39m\u001b[38;5;124mposition\u001b[39m\u001b[38;5;124m'\u001b[39m: \u001b[38;5;241m34438684\u001b[39m,\n",
      "              \u001b[38;5;124m'\u001b[39m\u001b[38;5;124mscore\u001b[39m\u001b[38;5;124m'\u001b[39m: \u001b[38;5;241m0.01\u001b[39m,\n",
      "              \u001b[38;5;124m'\u001b[39m\u001b[38;5;124msnp_id\u001b[39m\u001b[38;5;124m'\u001b[39m: \u001b[38;5;124m'\u001b[39m\u001b[38;5;124mrs1001179\u001b[39m\u001b[38;5;124m'\u001b[39m,\n",
      "              \u001b[38;5;124m'\u001b[39m\u001b[38;5;124msource\u001b[39m\u001b[38;5;124m'\u001b[39m: \u001b[38;5;124m'\u001b[39m\u001b[38;5;124mBEFREE\u001b[39m\u001b[38;5;124m'\u001b[39m}]}\n",
      "\n",
      "For further testing go to http://0.0.0.0:5000/ui/#/DisGeNET/ebel.web.api.ebel.v1.disgenet.get_variant_disease_pmid_associations\n"
     ]
    }
   ],
   "source": [
    "import api_doc\n",
    "api_doc.get_api_methods_by_tag('DisGeNET')"
   ]
  }
 ],
 "metadata": {
  "kernelspec": {
   "display_name": "Python 3 (ipykernel)",
   "language": "python",
   "name": "python3"
  },
  "language_info": {
   "codemirror_mode": {
    "name": "ipython",
    "version": 3
   },
   "file_extension": ".py",
   "mimetype": "text/x-python",
   "name": "python",
   "nbconvert_exporter": "python",
   "pygments_lexer": "ipython3",
   "version": "3.8.10"
  },
  "toc": {
   "base_numbering": 1,
   "nav_menu": {},
   "number_sections": true,
   "sideBar": true,
   "skip_h1_title": true,
   "title_cell": "Table of Contents",
   "title_sidebar": "Contents",
   "toc_cell": false,
   "toc_position": {},
   "toc_section_display": true,
   "toc_window_display": false
  }
 },
 "nbformat": 4,
 "nbformat_minor": 5
}
