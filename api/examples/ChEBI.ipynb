{
 "cells": [
  {
   "cell_type": "markdown",
   "id": "b44be455",
   "metadata": {},
   "source": [
    "# ChEBI API methods"
   ]
  },
  {
   "cell_type": "code",
   "execution_count": 2,
   "id": "47e282e4",
   "metadata": {
    "scrolled": false
   },
   "outputs": [
    {
     "data": {
      "text/html": [
       "<h2>1. Get ChEBI compound by ChEBI ID</h2>"
      ],
      "text/plain": [
       "<IPython.core.display.HTML object>"
      ]
     },
     "metadata": {},
     "output_type": "display_data"
    },
    {
     "data": {
      "text/html": [
       "<b style=\"color: rgb(98,98,98); text-decoration: underline;\">Description:</b> <p>Get ChEBI compound by ChEBI ID</p>"
      ],
      "text/plain": [
       "<IPython.core.display.HTML object>"
      ]
     },
     "metadata": {},
     "output_type": "display_data"
    },
    {
     "data": {
      "text/html": [
       "<b>Tags:</b> ['ChEBI']"
      ],
      "text/plain": [
       "<IPython.core.display.HTML object>"
      ]
     },
     "metadata": {},
     "output_type": "display_data"
    },
    {
     "data": {
      "text/html": [
       "<b>Server path:</b> /api/v1/chebi/compound/by_id"
      ],
      "text/plain": [
       "<IPython.core.display.HTML object>"
      ]
     },
     "metadata": {},
     "output_type": "display_data"
    },
    {
     "data": {
      "text/html": [
       "<div>\n",
       "<style scoped>\n",
       "    .dataframe tbody tr th:only-of-type {\n",
       "        vertical-align: middle;\n",
       "    }\n",
       "\n",
       "    .dataframe tbody tr th {\n",
       "        vertical-align: top;\n",
       "    }\n",
       "\n",
       "    .dataframe thead th {\n",
       "        text-align: right;\n",
       "    }\n",
       "</style>\n",
       "<table border=\"1\" class=\"dataframe\">\n",
       "  <thead>\n",
       "    <tr style=\"text-align: right;\">\n",
       "      <th></th>\n",
       "      <th>data type</th>\n",
       "      <th>description</th>\n",
       "      <th>example</th>\n",
       "      <th>options</th>\n",
       "      <th>default</th>\n",
       "      <th>required</th>\n",
       "    </tr>\n",
       "    <tr>\n",
       "      <th>parameter name</th>\n",
       "      <th></th>\n",
       "      <th></th>\n",
       "      <th></th>\n",
       "      <th></th>\n",
       "      <th></th>\n",
       "      <th></th>\n",
       "    </tr>\n",
       "  </thead>\n",
       "  <tbody>\n",
       "    <tr>\n",
       "      <th>id</th>\n",
       "      <td>integer</td>\n",
       "      <td>Compound ChEBI ID</td>\n",
       "      <td>53289</td>\n",
       "      <td></td>\n",
       "      <td></td>\n",
       "      <td>False</td>\n",
       "    </tr>\n",
       "  </tbody>\n",
       "</table>\n",
       "</div>"
      ],
      "text/plain": [
       "               data type        description  example options default  required\n",
       "parameter name                                                                \n",
       "id               integer  Compound ChEBI ID    53289                     False"
      ]
     },
     "metadata": {},
     "output_type": "display_data"
    },
    {
     "data": {
      "text/html": [
       "<b>Example URL:</b> <a href=\"http://0.0.0.0:5000/api/v1/chebi/compound/by_id?id=53289\">http://0.0.0.0:5000/api/v1/chebi/compound/by_id?id=53289</a>"
      ],
      "text/plain": [
       "<IPython.core.display.HTML object>"
      ]
     },
     "metadata": {},
     "output_type": "display_data"
    },
    {
     "data": {
      "text/html": [
       "<b style=\"color: rgb(98,98,98); text-decoration: underline;\">Example response:</b>"
      ],
      "text/plain": [
       "<IPython.core.display.HTML object>"
      ]
     },
     "metadata": {},
     "output_type": "display_data"
    },
    {
     "name": "stdout",
     "output_type": "stream",
     "text": [
      "{\u001b[38;5;124m'\u001b[39m\u001b[38;5;124mchebi_accession\u001b[39m\u001b[38;5;124m'\u001b[39m: \u001b[38;5;124m'\u001b[39m\u001b[38;5;124mCHEBI:53289\u001b[39m\u001b[38;5;124m'\u001b[39m,\n",
      " \u001b[38;5;124m'\u001b[39m\u001b[38;5;124mchemicalData\u001b[39m\u001b[38;5;124m'\u001b[39m: [{\u001b[38;5;124m'\u001b[39m\u001b[38;5;124mchemical_data\u001b[39m\u001b[38;5;124m'\u001b[39m: \u001b[38;5;124m'\u001b[39m\u001b[38;5;124m379.500\u001b[39m\u001b[38;5;124m'\u001b[39m,\n",
      "                   \u001b[38;5;124m'\u001b[39m\u001b[38;5;124msource\u001b[39m\u001b[38;5;124m'\u001b[39m: \u001b[38;5;124m'\u001b[39m\u001b[38;5;124mChEBI\u001b[39m\u001b[38;5;124m'\u001b[39m,\n",
      "                   \u001b[38;5;124m'\u001b[39m\u001b[38;5;124mtype\u001b[39m\u001b[38;5;124m'\u001b[39m: \u001b[38;5;124m'\u001b[39m\u001b[38;5;124mMASS\u001b[39m\u001b[38;5;124m'\u001b[39m},\n",
      "                  {\u001b[38;5;124m'\u001b[39m\u001b[38;5;124mchemical_data\u001b[39m\u001b[38;5;124m'\u001b[39m: \u001b[38;5;124m'\u001b[39m\u001b[38;5;124m0\u001b[39m\u001b[38;5;124m'\u001b[39m, \u001b[38;5;124m'\u001b[39m\u001b[38;5;124msource\u001b[39m\u001b[38;5;124m'\u001b[39m: \u001b[38;5;124m'\u001b[39m\u001b[38;5;124mChEBI\u001b[39m\u001b[38;5;124m'\u001b[39m, \u001b[38;5;124m'\u001b[39m\u001b[38;5;124mtype\u001b[39m\u001b[38;5;124m'\u001b[39m: \u001b[38;5;124m'\u001b[39m\u001b[38;5;124mCHARGE\u001b[39m\u001b[38;5;124m'\u001b[39m},\n",
      "                  {\u001b[38;5;124m'\u001b[39m\u001b[38;5;124mchemical_data\u001b[39m\u001b[38;5;124m'\u001b[39m: \u001b[38;5;124m'\u001b[39m\u001b[38;5;124mC24H29NO3\u001b[39m\u001b[38;5;124m'\u001b[39m,\n",
      "                   \u001b[38;5;124m'\u001b[39m\u001b[38;5;124msource\u001b[39m\u001b[38;5;124m'\u001b[39m: \u001b[38;5;124m'\u001b[39m\u001b[38;5;124mChEBI\u001b[39m\u001b[38;5;124m'\u001b[39m,\n",
      "                   \u001b[38;5;124m'\u001b[39m\u001b[38;5;124mtype\u001b[39m\u001b[38;5;124m'\u001b[39m: \u001b[38;5;124m'\u001b[39m\u001b[38;5;124mFORMULA\u001b[39m\u001b[38;5;124m'\u001b[39m},\n",
      "                  {\u001b[38;5;124m'\u001b[39m\u001b[38;5;124mchemical_data\u001b[39m\u001b[38;5;124m'\u001b[39m: \u001b[38;5;124m'\u001b[39m\u001b[38;5;124m379.21474\u001b[39m\u001b[38;5;124m'\u001b[39m,\n",
      "                   \u001b[38;5;124m'\u001b[39m\u001b[38;5;124msource\u001b[39m\u001b[38;5;124m'\u001b[39m: \u001b[38;5;124m'\u001b[39m\u001b[38;5;124mChEBI\u001b[39m\u001b[38;5;124m'\u001b[39m,\n",
      "                   \u001b[38;5;124m'\u001b[39m\u001b[38;5;124mtype\u001b[39m\u001b[38;5;124m'\u001b[39m: \u001b[38;5;124m'\u001b[39m\u001b[38;5;124mMONOISOTOPIC MASS\u001b[39m\u001b[38;5;124m'\u001b[39m}],\n",
      " \u001b[38;5;124m'\u001b[39m\u001b[38;5;124mcomments\u001b[39m\u001b[38;5;124m'\u001b[39m: [],\n",
      " \u001b[38;5;124m'\u001b[39m\u001b[38;5;124mdatabase_accessions\u001b[39m\u001b[38;5;124m'\u001b[39m: [{\u001b[38;5;124m'\u001b[39m\u001b[38;5;124maccession_number\u001b[39m\u001b[38;5;124m'\u001b[39m: \u001b[38;5;124m'\u001b[39m\u001b[38;5;124mD07869\u001b[39m\u001b[38;5;124m'\u001b[39m,\n",
      "                          \u001b[38;5;124m'\u001b[39m\u001b[38;5;124msource\u001b[39m\u001b[38;5;124m'\u001b[39m: \u001b[38;5;124m'\u001b[39m\u001b[38;5;124mKEGG DRUG\u001b[39m\u001b[38;5;124m'\u001b[39m,\n",
      "                          \u001b[38;5;124m'\u001b[39m\u001b[38;5;124mtype\u001b[39m\u001b[38;5;124m'\u001b[39m: \u001b[38;5;124m'\u001b[39m\u001b[38;5;124mKEGG DRUG accession\u001b[39m\u001b[38;5;124m'\u001b[39m},\n",
      "                         {\u001b[38;5;124m'\u001b[39m\u001b[38;5;124maccession_number\u001b[39m\u001b[38;5;124m'\u001b[39m: \u001b[38;5;124m'\u001b[39m\u001b[38;5;124mDB00843\u001b[39m\u001b[38;5;124m'\u001b[39m,\n",
      "                          \u001b[38;5;124m'\u001b[39m\u001b[38;5;124msource\u001b[39m\u001b[38;5;124m'\u001b[39m: \u001b[38;5;124m'\u001b[39m\u001b[38;5;124mDrugBank\u001b[39m\u001b[38;5;124m'\u001b[39m,\n",
      "                          \u001b[38;5;124m'\u001b[39m\u001b[38;5;124mtype\u001b[39m\u001b[38;5;124m'\u001b[39m: \u001b[38;5;124m'\u001b[39m\u001b[38;5;124mDrugBank accession\u001b[39m\u001b[38;5;124m'\u001b[39m},\n",
      "                         {\u001b[38;5;124m'\u001b[39m\u001b[38;5;124maccession_number\u001b[39m\u001b[38;5;124m'\u001b[39m: \u001b[38;5;124m'\u001b[39m\u001b[38;5;124m120014-06-4\u001b[39m\u001b[38;5;124m'\u001b[39m,\n",
      "                          \u001b[38;5;124m'\u001b[39m\u001b[38;5;124msource\u001b[39m\u001b[38;5;124m'\u001b[39m: \u001b[38;5;124m'\u001b[39m\u001b[38;5;124mKEGG DRUG\u001b[39m\u001b[38;5;124m'\u001b[39m,\n",
      "                          \u001b[38;5;124m'\u001b[39m\u001b[38;5;124mtype\u001b[39m\u001b[38;5;124m'\u001b[39m: \u001b[38;5;124m'\u001b[39m\u001b[38;5;124mCAS Registry Number\u001b[39m\u001b[38;5;124m'\u001b[39m},\n",
      "                         {\u001b[38;5;124m'\u001b[39m\u001b[38;5;124maccession_number\u001b[39m\u001b[38;5;124m'\u001b[39m: \u001b[38;5;124m'\u001b[39m\u001b[38;5;124m7081955\u001b[39m\u001b[38;5;124m'\u001b[39m,\n",
      "                          \u001b[38;5;124m'\u001b[39m\u001b[38;5;124msource\u001b[39m\u001b[38;5;124m'\u001b[39m: \u001b[38;5;124m'\u001b[39m\u001b[38;5;124mBeilstein\u001b[39m\u001b[38;5;124m'\u001b[39m,\n",
      "                          \u001b[38;5;124m'\u001b[39m\u001b[38;5;124mtype\u001b[39m\u001b[38;5;124m'\u001b[39m: \u001b[38;5;124m'\u001b[39m\u001b[38;5;124mBeilstein Registry Number\u001b[39m\u001b[38;5;124m'\u001b[39m},\n",
      "                         {\u001b[38;5;124m'\u001b[39m\u001b[38;5;124maccession_number\u001b[39m\u001b[38;5;124m'\u001b[39m: \u001b[38;5;124m'\u001b[39m\u001b[38;5;124m120014-06-4\u001b[39m\u001b[38;5;124m'\u001b[39m,\n",
      "                          \u001b[38;5;124m'\u001b[39m\u001b[38;5;124msource\u001b[39m\u001b[38;5;124m'\u001b[39m: \u001b[38;5;124m'\u001b[39m\u001b[38;5;124mChemIDplus\u001b[39m\u001b[38;5;124m'\u001b[39m,\n",
      "                          \u001b[38;5;124m'\u001b[39m\u001b[38;5;124mtype\u001b[39m\u001b[38;5;124m'\u001b[39m: \u001b[38;5;124m'\u001b[39m\u001b[38;5;124mCAS Registry Number\u001b[39m\u001b[38;5;124m'\u001b[39m},\n",
      "                         {\u001b[38;5;124m'\u001b[39m\u001b[38;5;124maccession_number\u001b[39m\u001b[38;5;124m'\u001b[39m: \u001b[38;5;124m'\u001b[39m\u001b[38;5;124m120014-06-4\u001b[39m\u001b[38;5;124m'\u001b[39m,\n",
      "                          \u001b[38;5;124m'\u001b[39m\u001b[38;5;124msource\u001b[39m\u001b[38;5;124m'\u001b[39m: \u001b[38;5;124m'\u001b[39m\u001b[38;5;124mDrugBank\u001b[39m\u001b[38;5;124m'\u001b[39m,\n",
      "                          \u001b[38;5;124m'\u001b[39m\u001b[38;5;124mtype\u001b[39m\u001b[38;5;124m'\u001b[39m: \u001b[38;5;124m'\u001b[39m\u001b[38;5;124mCAS Registry Number\u001b[39m\u001b[38;5;124m'\u001b[39m},\n",
      "                         {\u001b[38;5;124m'\u001b[39m\u001b[38;5;124maccession_number\u001b[39m\u001b[38;5;124m'\u001b[39m: \u001b[38;5;124m'\u001b[39m\u001b[38;5;124mDonepezil\u001b[39m\u001b[38;5;124m'\u001b[39m,\n",
      "                          \u001b[38;5;124m'\u001b[39m\u001b[38;5;124msource\u001b[39m\u001b[38;5;124m'\u001b[39m: \u001b[38;5;124m'\u001b[39m\u001b[38;5;124mWikipedia\u001b[39m\u001b[38;5;124m'\u001b[39m,\n",
      "                          \u001b[38;5;124m'\u001b[39m\u001b[38;5;124mtype\u001b[39m\u001b[38;5;124m'\u001b[39m: \u001b[38;5;124m'\u001b[39m\u001b[38;5;124mWikipedia accession\u001b[39m\u001b[38;5;124m'\u001b[39m},\n",
      "                         {\u001b[38;5;124m'\u001b[39m\u001b[38;5;124maccession_number\u001b[39m\u001b[38;5;124m'\u001b[39m: \u001b[38;5;124m'\u001b[39m\u001b[38;5;124m7081955\u001b[39m\u001b[38;5;124m'\u001b[39m,\n",
      "                          \u001b[38;5;124m'\u001b[39m\u001b[38;5;124msource\u001b[39m\u001b[38;5;124m'\u001b[39m: \u001b[38;5;124m'\u001b[39m\u001b[38;5;124mReaxys\u001b[39m\u001b[38;5;124m'\u001b[39m,\n",
      "                          \u001b[38;5;124m'\u001b[39m\u001b[38;5;124mtype\u001b[39m\u001b[38;5;124m'\u001b[39m: \u001b[38;5;124m'\u001b[39m\u001b[38;5;124mReaxys Registry Number\u001b[39m\u001b[38;5;124m'\u001b[39m},\n",
      "                         {\u001b[38;5;124m'\u001b[39m\u001b[38;5;124maccession_number\u001b[39m\u001b[38;5;124m'\u001b[39m: \u001b[38;5;124m'\u001b[39m\u001b[38;5;124mLSM-1598\u001b[39m\u001b[38;5;124m'\u001b[39m,\n",
      "                          \u001b[38;5;124m'\u001b[39m\u001b[38;5;124msource\u001b[39m\u001b[38;5;124m'\u001b[39m: \u001b[38;5;124m'\u001b[39m\u001b[38;5;124mLINCS\u001b[39m\u001b[38;5;124m'\u001b[39m,\n",
      "                          \u001b[38;5;124m'\u001b[39m\u001b[38;5;124mtype\u001b[39m\u001b[38;5;124m'\u001b[39m: \u001b[38;5;124m'\u001b[39m\u001b[38;5;124mLINCS accession\u001b[39m\u001b[38;5;124m'\u001b[39m},\n",
      "                         {\u001b[38;5;124m'\u001b[39m\u001b[38;5;124maccession_number\u001b[39m\u001b[38;5;124m'\u001b[39m: \u001b[38;5;124m'\u001b[39m\u001b[38;5;124m946\u001b[39m\u001b[38;5;124m'\u001b[39m,\n",
      "                          \u001b[38;5;124m'\u001b[39m\u001b[38;5;124msource\u001b[39m\u001b[38;5;124m'\u001b[39m: \u001b[38;5;124m'\u001b[39m\u001b[38;5;124mDrugCentral\u001b[39m\u001b[38;5;124m'\u001b[39m,\n",
      "                          \u001b[38;5;124m'\u001b[39m\u001b[38;5;124mtype\u001b[39m\u001b[38;5;124m'\u001b[39m: \u001b[38;5;124m'\u001b[39m\u001b[38;5;124mDrug Central accession\u001b[39m\u001b[38;5;124m'\u001b[39m}],\n",
      " \u001b[38;5;124m'\u001b[39m\u001b[38;5;124mdefinition\u001b[39m\u001b[38;5;124m'\u001b[39m: \u001b[38;5;124m'\u001b[39m\u001b[38;5;124mA racemate comprising equimolar amounts of (R)- and \u001b[39m\u001b[38;5;124m'\u001b[39m\n",
      "               \u001b[38;5;124m'\u001b[39m\u001b[38;5;124m(S)-donepezil. A centrally acting reversible \u001b[39m\u001b[38;5;124m'\u001b[39m\n",
      "               \u001b[38;5;124m'\u001b[39m\u001b[38;5;124macetylcholinesterase inhibitor, its main therapeutic use is in \u001b[39m\u001b[38;5;124m'\u001b[39m\n",
      "               \u001b[38;5;124m\"\u001b[39m\u001b[38;5;124mthe treatment of Alzheimer\u001b[39m\u001b[38;5;124m'\u001b[39m\u001b[38;5;124ms disease where it is used to \u001b[39m\u001b[38;5;124m\"\u001b[39m\n",
      "               \u001b[38;5;124m'\u001b[39m\u001b[38;5;124mincrease cortical acetylcholine.\u001b[39m\u001b[38;5;124m'\u001b[39m,\n",
      " \u001b[38;5;124m'\u001b[39m\u001b[38;5;124minchis\u001b[39m\u001b[38;5;124m'\u001b[39m: [{\u001b[38;5;124m'\u001b[39m\u001b[38;5;124minchi\u001b[39m\u001b[38;5;124m'\u001b[39m: \u001b[38;5;124m'\u001b[39m\u001b[38;5;124mInChI=1S/C24H29NO3/c1-27-22-14-19-13-20(24(26)21(19)15-23(22)28-2)12-17-8-10-25(11-9-17)16-18-6-4-3-5-7-18/h3-7,14-15,17,20H,8-13,16H2,1-2H3\u001b[39m\u001b[38;5;124m'\u001b[39m}],\n",
      " \u001b[38;5;124m'\u001b[39m\u001b[38;5;124mname\u001b[39m\u001b[38;5;124m'\u001b[39m: \u001b[38;5;124m'\u001b[39m\u001b[38;5;124mdonepezil\u001b[39m\u001b[38;5;124m'\u001b[39m,\n",
      " \u001b[38;5;124m'\u001b[39m\u001b[38;5;124mnames\u001b[39m\u001b[38;5;124m'\u001b[39m: [{\u001b[38;5;124m'\u001b[39m\u001b[38;5;124madapted\u001b[39m\u001b[38;5;124m'\u001b[39m: \u001b[38;5;124m'\u001b[39m\u001b[38;5;124mT\u001b[39m\u001b[38;5;124m'\u001b[39m,\n",
      "            \u001b[38;5;124m'\u001b[39m\u001b[38;5;124mlanguage\u001b[39m\u001b[38;5;124m'\u001b[39m: \u001b[38;5;124m'\u001b[39m\u001b[38;5;124men\u001b[39m\u001b[38;5;124m'\u001b[39m,\n",
      "            \u001b[38;5;124m'\u001b[39m\u001b[38;5;124mname\u001b[39m\u001b[38;5;124m'\u001b[39m: \u001b[38;5;124m'\u001b[39m\u001b[38;5;124mdonepezil\u001b[39m\u001b[38;5;124m'\u001b[39m,\n",
      "            \u001b[38;5;124m'\u001b[39m\u001b[38;5;124msource\u001b[39m\u001b[38;5;124m'\u001b[39m: \u001b[38;5;124m'\u001b[39m\u001b[38;5;124mChemIDplus\u001b[39m\u001b[38;5;124m'\u001b[39m,\n",
      "            \u001b[38;5;124m'\u001b[39m\u001b[38;5;124mtype\u001b[39m\u001b[38;5;124m'\u001b[39m: \u001b[38;5;124m'\u001b[39m\u001b[38;5;124mINN\u001b[39m\u001b[38;5;124m'\u001b[39m},\n",
      "           {\u001b[38;5;124m'\u001b[39m\u001b[38;5;124madapted\u001b[39m\u001b[38;5;124m'\u001b[39m: \u001b[38;5;124m'\u001b[39m\u001b[38;5;124mF\u001b[39m\u001b[38;5;124m'\u001b[39m,\n",
      "            \u001b[38;5;124m'\u001b[39m\u001b[38;5;124mlanguage\u001b[39m\u001b[38;5;124m'\u001b[39m: \u001b[38;5;124m'\u001b[39m\u001b[38;5;124mfr\u001b[39m\u001b[38;5;124m'\u001b[39m,\n",
      "            \u001b[38;5;124m'\u001b[39m\u001b[38;5;124mname\u001b[39m\u001b[38;5;124m'\u001b[39m: \u001b[38;5;124m'\u001b[39m\u001b[38;5;124mdonepezil\u001b[39m\u001b[38;5;124m'\u001b[39m,\n",
      "            \u001b[38;5;124m'\u001b[39m\u001b[38;5;124msource\u001b[39m\u001b[38;5;124m'\u001b[39m: \u001b[38;5;124m'\u001b[39m\u001b[38;5;124mWHO MedNet\u001b[39m\u001b[38;5;124m'\u001b[39m,\n",
      "            \u001b[38;5;124m'\u001b[39m\u001b[38;5;124mtype\u001b[39m\u001b[38;5;124m'\u001b[39m: \u001b[38;5;124m'\u001b[39m\u001b[38;5;124mINN\u001b[39m\u001b[38;5;124m'\u001b[39m},\n",
      "           {\u001b[38;5;124m'\u001b[39m\u001b[38;5;124madapted\u001b[39m\u001b[38;5;124m'\u001b[39m: \u001b[38;5;124m'\u001b[39m\u001b[38;5;124mF\u001b[39m\u001b[38;5;124m'\u001b[39m,\n",
      "            \u001b[38;5;124m'\u001b[39m\u001b[38;5;124mlanguage\u001b[39m\u001b[38;5;124m'\u001b[39m: \u001b[38;5;124m'\u001b[39m\u001b[38;5;124mes\u001b[39m\u001b[38;5;124m'\u001b[39m,\n",
      "            \u001b[38;5;124m'\u001b[39m\u001b[38;5;124mname\u001b[39m\u001b[38;5;124m'\u001b[39m: \u001b[38;5;124m'\u001b[39m\u001b[38;5;124mdonepezilo\u001b[39m\u001b[38;5;124m'\u001b[39m,\n",
      "            \u001b[38;5;124m'\u001b[39m\u001b[38;5;124msource\u001b[39m\u001b[38;5;124m'\u001b[39m: \u001b[38;5;124m'\u001b[39m\u001b[38;5;124mWHO MedNet\u001b[39m\u001b[38;5;124m'\u001b[39m,\n",
      "            \u001b[38;5;124m'\u001b[39m\u001b[38;5;124mtype\u001b[39m\u001b[38;5;124m'\u001b[39m: \u001b[38;5;124m'\u001b[39m\u001b[38;5;124mINN\u001b[39m\u001b[38;5;124m'\u001b[39m},\n",
      "           {\u001b[38;5;124m'\u001b[39m\u001b[38;5;124madapted\u001b[39m\u001b[38;5;124m'\u001b[39m: \u001b[38;5;124m'\u001b[39m\u001b[38;5;124mF\u001b[39m\u001b[38;5;124m'\u001b[39m,\n",
      "            \u001b[38;5;124m'\u001b[39m\u001b[38;5;124mlanguage\u001b[39m\u001b[38;5;124m'\u001b[39m: \u001b[38;5;124m'\u001b[39m\u001b[38;5;124mla\u001b[39m\u001b[38;5;124m'\u001b[39m,\n",
      "            \u001b[38;5;124m'\u001b[39m\u001b[38;5;124mname\u001b[39m\u001b[38;5;124m'\u001b[39m: \u001b[38;5;124m'\u001b[39m\u001b[38;5;124mdonepezilum\u001b[39m\u001b[38;5;124m'\u001b[39m,\n",
      "            \u001b[38;5;124m'\u001b[39m\u001b[38;5;124msource\u001b[39m\u001b[38;5;124m'\u001b[39m: \u001b[38;5;124m'\u001b[39m\u001b[38;5;124mWHO MedNet\u001b[39m\u001b[38;5;124m'\u001b[39m,\n",
      "            \u001b[38;5;124m'\u001b[39m\u001b[38;5;124mtype\u001b[39m\u001b[38;5;124m'\u001b[39m: \u001b[38;5;124m'\u001b[39m\u001b[38;5;124mINN\u001b[39m\u001b[38;5;124m'\u001b[39m}],\n",
      " \u001b[38;5;124m'\u001b[39m\u001b[38;5;124mparent_id\u001b[39m\u001b[38;5;124m'\u001b[39m: \u001b[38;5;28;01mNone\u001b[39;00m,\n",
      " \u001b[38;5;124m'\u001b[39m\u001b[38;5;124mreferences\u001b[39m\u001b[38;5;124m'\u001b[39m: [{\u001b[38;5;124m'\u001b[39m\u001b[38;5;124mlocation_in_ref\u001b[39m\u001b[38;5;124m'\u001b[39m: \u001b[38;5;124m'\u001b[39m\u001b[38;5;124mCC - DISRUPTION PHENOTYPE\u001b[39m\u001b[38;5;124m'\u001b[39m,\n",
      "                 \u001b[38;5;124m'\u001b[39m\u001b[38;5;124mreference_db_name\u001b[39m\u001b[38;5;124m'\u001b[39m: \u001b[38;5;124m'\u001b[39m\u001b[38;5;124mUniProt\u001b[39m\u001b[38;5;124m'\u001b[39m,\n",
      "                 \u001b[38;5;124m'\u001b[39m\u001b[38;5;124mreference_id\u001b[39m\u001b[38;5;124m'\u001b[39m: \u001b[38;5;124m'\u001b[39m\u001b[38;5;124mQ03311\u001b[39m\u001b[38;5;124m'\u001b[39m,\n",
      "                 \u001b[38;5;124m'\u001b[39m\u001b[38;5;124mreference_name\u001b[39m\u001b[38;5;124m'\u001b[39m: \u001b[38;5;124m'\u001b[39m\u001b[38;5;124mCholinesterase\u001b[39m\u001b[38;5;124m'\u001b[39m},\n",
      "                {\u001b[38;5;124m'\u001b[39m\u001b[38;5;124mlocation_in_ref\u001b[39m\u001b[38;5;124m'\u001b[39m: \u001b[38;5;28;01mNone\u001b[39;00m,\n",
      "                 \u001b[38;5;124m'\u001b[39m\u001b[38;5;124mreference_db_name\u001b[39m\u001b[38;5;124m'\u001b[39m: \u001b[38;5;124m'\u001b[39m\u001b[38;5;124mBRENDA\u001b[39m\u001b[38;5;124m'\u001b[39m,\n",
      "                 \u001b[38;5;124m'\u001b[39m\u001b[38;5;124mreference_id\u001b[39m\u001b[38;5;124m'\u001b[39m: \u001b[38;5;124m'\u001b[39m\u001b[38;5;124mEC 1.3.1.21\u001b[39m\u001b[38;5;124m'\u001b[39m,\n",
      "                 \u001b[38;5;124m'\u001b[39m\u001b[38;5;124mreference_name\u001b[39m\u001b[38;5;124m'\u001b[39m: \u001b[38;5;124m'\u001b[39m\u001b[38;5;124m7-dehydrocholesterol reductase\u001b[39m\u001b[38;5;124m'\u001b[39m},\n",
      "                {\u001b[38;5;124m'\u001b[39m\u001b[38;5;124mlocation_in_ref\u001b[39m\u001b[38;5;124m'\u001b[39m: \u001b[38;5;28;01mNone\u001b[39;00m,\n",
      "                 \u001b[38;5;124m'\u001b[39m\u001b[38;5;124mreference_db_name\u001b[39m\u001b[38;5;124m'\u001b[39m: \u001b[38;5;124m'\u001b[39m\u001b[38;5;124mBRENDA\u001b[39m\u001b[38;5;124m'\u001b[39m,\n",
      "                 \u001b[38;5;124m'\u001b[39m\u001b[38;5;124mreference_id\u001b[39m\u001b[38;5;124m'\u001b[39m: \u001b[38;5;124m'\u001b[39m\u001b[38;5;124mEC 3.1.1.7\u001b[39m\u001b[38;5;124m'\u001b[39m,\n",
      "                 \u001b[38;5;124m'\u001b[39m\u001b[38;5;124mreference_name\u001b[39m\u001b[38;5;124m'\u001b[39m: \u001b[38;5;124m'\u001b[39m\u001b[38;5;124macetylcholinesterase\u001b[39m\u001b[38;5;124m'\u001b[39m},\n",
      "                {\u001b[38;5;124m'\u001b[39m\u001b[38;5;124mlocation_in_ref\u001b[39m\u001b[38;5;124m'\u001b[39m: \u001b[38;5;28;01mNone\u001b[39;00m,\n",
      "                 \u001b[38;5;124m'\u001b[39m\u001b[38;5;124mreference_db_name\u001b[39m\u001b[38;5;124m'\u001b[39m: \u001b[38;5;124m'\u001b[39m\u001b[38;5;124mBRENDA\u001b[39m\u001b[38;5;124m'\u001b[39m,\n",
      "                 \u001b[38;5;124m'\u001b[39m\u001b[38;5;124mreference_id\u001b[39m\u001b[38;5;124m'\u001b[39m: \u001b[38;5;124m'\u001b[39m\u001b[38;5;124mEC 3.1.1.8\u001b[39m\u001b[38;5;124m'\u001b[39m,\n",
      "                 \u001b[38;5;124m'\u001b[39m\u001b[38;5;124mreference_name\u001b[39m\u001b[38;5;124m'\u001b[39m: \u001b[38;5;124m'\u001b[39m\u001b[38;5;124mcholinesterase\u001b[39m\u001b[38;5;124m'\u001b[39m},\n",
      "                {\u001b[38;5;124m'\u001b[39m\u001b[38;5;124mlocation_in_ref\u001b[39m\u001b[38;5;124m'\u001b[39m: \u001b[38;5;28;01mNone\u001b[39;00m,\n",
      "                 \u001b[38;5;124m'\u001b[39m\u001b[38;5;124mreference_db_name\u001b[39m\u001b[38;5;124m'\u001b[39m: \u001b[38;5;124m'\u001b[39m\u001b[38;5;124mBRENDA\u001b[39m\u001b[38;5;124m'\u001b[39m,\n",
      "                 \u001b[38;5;124m'\u001b[39m\u001b[38;5;124mreference_id\u001b[39m\u001b[38;5;124m'\u001b[39m: \u001b[38;5;124m'\u001b[39m\u001b[38;5;124mEC 3.4.24.81\u001b[39m\u001b[38;5;124m'\u001b[39m,\n",
      "                 \u001b[38;5;124m'\u001b[39m\u001b[38;5;124mreference_name\u001b[39m\u001b[38;5;124m'\u001b[39m: \u001b[38;5;124m'\u001b[39m\u001b[38;5;124mADAM10 endopeptidase\u001b[39m\u001b[38;5;124m'\u001b[39m},\n",
      "                {\u001b[38;5;124m'\u001b[39m\u001b[38;5;124mlocation_in_ref\u001b[39m\u001b[38;5;124m'\u001b[39m: \u001b[38;5;28;01mNone\u001b[39;00m,\n",
      "                 \u001b[38;5;124m'\u001b[39m\u001b[38;5;124mreference_db_name\u001b[39m\u001b[38;5;124m'\u001b[39m: \u001b[38;5;124m'\u001b[39m\u001b[38;5;124mBRENDA\u001b[39m\u001b[38;5;124m'\u001b[39m,\n",
      "                 \u001b[38;5;124m'\u001b[39m\u001b[38;5;124mreference_id\u001b[39m\u001b[38;5;124m'\u001b[39m: \u001b[38;5;124m'\u001b[39m\u001b[38;5;124mEC 3.5.1.13\u001b[39m\u001b[38;5;124m'\u001b[39m,\n",
      "                 \u001b[38;5;124m'\u001b[39m\u001b[38;5;124mreference_name\u001b[39m\u001b[38;5;124m'\u001b[39m: \u001b[38;5;124m'\u001b[39m\u001b[38;5;124maryl-acylamidase\u001b[39m\u001b[38;5;124m'\u001b[39m},\n",
      "                {\u001b[38;5;124m'\u001b[39m\u001b[38;5;124mlocation_in_ref\u001b[39m\u001b[38;5;124m'\u001b[39m: \u001b[38;5;28;01mNone\u001b[39;00m,\n",
      "                 \u001b[38;5;124m'\u001b[39m\u001b[38;5;124mreference_db_name\u001b[39m\u001b[38;5;124m'\u001b[39m: \u001b[38;5;124m'\u001b[39m\u001b[38;5;124mPubChem\u001b[39m\u001b[38;5;124m'\u001b[39m,\n",
      "                 \u001b[38;5;124m'\u001b[39m\u001b[38;5;124mreference_id\u001b[39m\u001b[38;5;124m'\u001b[39m: \u001b[38;5;124m'\u001b[39m\u001b[38;5;124mSID: 85730950\u001b[39m\u001b[38;5;124m'\u001b[39m,\n",
      "                 \u001b[38;5;124m'\u001b[39m\u001b[38;5;124mreference_name\u001b[39m\u001b[38;5;124m'\u001b[39m: \u001b[38;5;28;01mNone\u001b[39;00m},\n",
      "                {\u001b[38;5;124m'\u001b[39m\u001b[38;5;124mlocation_in_ref\u001b[39m\u001b[38;5;124m'\u001b[39m: \u001b[38;5;28;01mNone\u001b[39;00m,\n",
      "                 \u001b[38;5;124m'\u001b[39m\u001b[38;5;124mreference_db_name\u001b[39m\u001b[38;5;124m'\u001b[39m: \u001b[38;5;124m'\u001b[39m\u001b[38;5;124mPubChem\u001b[39m\u001b[38;5;124m'\u001b[39m,\n",
      "                 \u001b[38;5;124m'\u001b[39m\u001b[38;5;124mreference_id\u001b[39m\u001b[38;5;124m'\u001b[39m: \u001b[38;5;124m'\u001b[39m\u001b[38;5;124mCID: 3152\u001b[39m\u001b[38;5;124m'\u001b[39m,\n",
      "                 \u001b[38;5;124m'\u001b[39m\u001b[38;5;124mreference_name\u001b[39m\u001b[38;5;124m'\u001b[39m: \u001b[38;5;28;01mNone\u001b[39;00m},\n",
      "                {\u001b[38;5;124m'\u001b[39m\u001b[38;5;124mlocation_in_ref\u001b[39m\u001b[38;5;124m'\u001b[39m: \u001b[38;5;28;01mNone\u001b[39;00m,\n",
      "                 \u001b[38;5;124m'\u001b[39m\u001b[38;5;124mreference_db_name\u001b[39m\u001b[38;5;124m'\u001b[39m: \u001b[38;5;124m'\u001b[39m\u001b[38;5;124mReactome\u001b[39m\u001b[38;5;124m'\u001b[39m,\n",
      "                 \u001b[38;5;124m'\u001b[39m\u001b[38;5;124mreference_id\u001b[39m\u001b[38;5;124m'\u001b[39m: \u001b[38;5;124m'\u001b[39m\u001b[38;5;124mR-HSA-372519\u001b[39m\u001b[38;5;124m'\u001b[39m,\n",
      "                 \u001b[38;5;124m'\u001b[39m\u001b[38;5;124mreference_name\u001b[39m\u001b[38;5;124m'\u001b[39m: \u001b[38;5;124m'\u001b[39m\u001b[38;5;124mAcCho is hydrolyzed to Cho and acetate by \u001b[39m\u001b[38;5;124m'\u001b[39m\n",
      "                                   \u001b[38;5;124m'\u001b[39m\u001b[38;5;124mACHE\u001b[39m\u001b[38;5;124m'\u001b[39m},\n",
      "                {\u001b[38;5;124m'\u001b[39m\u001b[38;5;124mlocation_in_ref\u001b[39m\u001b[38;5;124m'\u001b[39m: \u001b[38;5;28;01mNone\u001b[39;00m,\n",
      "                 \u001b[38;5;124m'\u001b[39m\u001b[38;5;124mreference_db_name\u001b[39m\u001b[38;5;124m'\u001b[39m: \u001b[38;5;124m'\u001b[39m\u001b[38;5;124mReactome\u001b[39m\u001b[38;5;124m'\u001b[39m,\n",
      "                 \u001b[38;5;124m'\u001b[39m\u001b[38;5;124mreference_id\u001b[39m\u001b[38;5;124m'\u001b[39m: \u001b[38;5;124m'\u001b[39m\u001b[38;5;124mR-HSA-9634834\u001b[39m\u001b[38;5;124m'\u001b[39m,\n",
      "                 \u001b[38;5;124m'\u001b[39m\u001b[38;5;124mreference_name\u001b[39m\u001b[38;5;124m'\u001b[39m: \u001b[38;5;124m'\u001b[39m\u001b[38;5;124mACHEIs bind ACHE\u001b[39m\u001b[38;5;124m'\u001b[39m},\n",
      "                {\u001b[38;5;124m'\u001b[39m\u001b[38;5;124mlocation_in_ref\u001b[39m\u001b[38;5;124m'\u001b[39m: \u001b[38;5;28;01mNone\u001b[39;00m,\n",
      "                 \u001b[38;5;124m'\u001b[39m\u001b[38;5;124mreference_db_name\u001b[39m\u001b[38;5;124m'\u001b[39m: \u001b[38;5;124m'\u001b[39m\u001b[38;5;124mMetaboLights\u001b[39m\u001b[38;5;124m'\u001b[39m,\n",
      "                 \u001b[38;5;124m'\u001b[39m\u001b[38;5;124mreference_id\u001b[39m\u001b[38;5;124m'\u001b[39m: \u001b[38;5;124m'\u001b[39m\u001b[38;5;124mMTBLS2145\u001b[39m\u001b[38;5;124m'\u001b[39m,\n",
      "                 \u001b[38;5;124m'\u001b[39m\u001b[38;5;124mreference_name\u001b[39m\u001b[38;5;124m'\u001b[39m: \u001b[38;5;124m'\u001b[39m\u001b[38;5;124mMetabolic Dynamics of In Vitro CD8+ T Cell \u001b[39m\u001b[38;5;124m'\u001b[39m\n",
      "                                   \u001b[38;5;124m'\u001b[39m\u001b[38;5;124mActivation.\u001b[39m\u001b[38;5;124m'\u001b[39m},\n",
      "                {\u001b[38;5;124m'\u001b[39m\u001b[38;5;124mlocation_in_ref\u001b[39m\u001b[38;5;124m'\u001b[39m: \u001b[38;5;28;01mNone\u001b[39;00m,\n",
      "                 \u001b[38;5;124m'\u001b[39m\u001b[38;5;124mreference_db_name\u001b[39m\u001b[38;5;124m'\u001b[39m: \u001b[38;5;124m'\u001b[39m\u001b[38;5;124mChEMBL\u001b[39m\u001b[38;5;124m'\u001b[39m,\n",
      "                 \u001b[38;5;124m'\u001b[39m\u001b[38;5;124mreference_id\u001b[39m\u001b[38;5;124m'\u001b[39m: \u001b[38;5;124m'\u001b[39m\u001b[38;5;124mCHEMBL502\u001b[39m\u001b[38;5;124m'\u001b[39m,\n",
      "                 \u001b[38;5;124m'\u001b[39m\u001b[38;5;124mreference_name\u001b[39m\u001b[38;5;124m'\u001b[39m: \u001b[38;5;28;01mNone\u001b[39;00m},\n",
      "                {\u001b[38;5;124m'\u001b[39m\u001b[38;5;124mlocation_in_ref\u001b[39m\u001b[38;5;124m'\u001b[39m: \u001b[38;5;28;01mNone\u001b[39;00m,\n",
      "                 \u001b[38;5;124m'\u001b[39m\u001b[38;5;124mreference_db_name\u001b[39m\u001b[38;5;124m'\u001b[39m: \u001b[38;5;124m'\u001b[39m\u001b[38;5;124mCompTox\u001b[39m\u001b[38;5;124m'\u001b[39m,\n",
      "                 \u001b[38;5;124m'\u001b[39m\u001b[38;5;124mreference_id\u001b[39m\u001b[38;5;124m'\u001b[39m: \u001b[38;5;124m'\u001b[39m\u001b[38;5;124mDTXSID8048317\u001b[39m\u001b[38;5;124m'\u001b[39m,\n",
      "                 \u001b[38;5;124m'\u001b[39m\u001b[38;5;124mreference_name\u001b[39m\u001b[38;5;124m'\u001b[39m: \u001b[38;5;28;01mNone\u001b[39;00m},\n",
      "                {\u001b[38;5;124m'\u001b[39m\u001b[38;5;124mlocation_in_ref\u001b[39m\u001b[38;5;124m'\u001b[39m: \u001b[38;5;28;01mNone\u001b[39;00m,\n",
      "                 \u001b[38;5;124m'\u001b[39m\u001b[38;5;124mreference_db_name\u001b[39m\u001b[38;5;124m'\u001b[39m: \u001b[38;5;124m'\u001b[39m\u001b[38;5;124mSureChEMBL\u001b[39m\u001b[38;5;124m'\u001b[39m,\n",
      "                 \u001b[38;5;124m'\u001b[39m\u001b[38;5;124mreference_id\u001b[39m\u001b[38;5;124m'\u001b[39m: \u001b[38;5;124m'\u001b[39m\u001b[38;5;124mSCHEMBL2149\u001b[39m\u001b[38;5;124m'\u001b[39m,\n",
      "                 \u001b[38;5;124m'\u001b[39m\u001b[38;5;124mreference_name\u001b[39m\u001b[38;5;124m'\u001b[39m: \u001b[38;5;28;01mNone\u001b[39;00m},\n",
      "                {\u001b[38;5;124m'\u001b[39m\u001b[38;5;124mlocation_in_ref\u001b[39m\u001b[38;5;124m'\u001b[39m: \u001b[38;5;28;01mNone\u001b[39;00m,\n",
      "                 \u001b[38;5;124m'\u001b[39m\u001b[38;5;124mreference_db_name\u001b[39m\u001b[38;5;124m'\u001b[39m: \u001b[38;5;124m'\u001b[39m\u001b[38;5;124mBRENDALigand\u001b[39m\u001b[38;5;124m'\u001b[39m,\n",
      "                 \u001b[38;5;124m'\u001b[39m\u001b[38;5;124mreference_id\u001b[39m\u001b[38;5;124m'\u001b[39m: \u001b[38;5;124m'\u001b[39m\u001b[38;5;124m55195\u001b[39m\u001b[38;5;124m'\u001b[39m,\n",
      "                 \u001b[38;5;124m'\u001b[39m\u001b[38;5;124mreference_name\u001b[39m\u001b[38;5;124m'\u001b[39m: \u001b[38;5;28;01mNone\u001b[39;00m},\n",
      "                {\u001b[38;5;124m'\u001b[39m\u001b[38;5;124mlocation_in_ref\u001b[39m\u001b[38;5;124m'\u001b[39m: \u001b[38;5;28;01mNone\u001b[39;00m,\n",
      "                 \u001b[38;5;124m'\u001b[39m\u001b[38;5;124mreference_db_name\u001b[39m\u001b[38;5;124m'\u001b[39m: \u001b[38;5;124m'\u001b[39m\u001b[38;5;124mBRENDALigand\u001b[39m\u001b[38;5;124m'\u001b[39m,\n",
      "                 \u001b[38;5;124m'\u001b[39m\u001b[38;5;124mreference_id\u001b[39m\u001b[38;5;124m'\u001b[39m: \u001b[38;5;124m'\u001b[39m\u001b[38;5;124m240553\u001b[39m\u001b[38;5;124m'\u001b[39m,\n",
      "                 \u001b[38;5;124m'\u001b[39m\u001b[38;5;124mreference_name\u001b[39m\u001b[38;5;124m'\u001b[39m: \u001b[38;5;28;01mNone\u001b[39;00m},\n",
      "                {\u001b[38;5;124m'\u001b[39m\u001b[38;5;124mlocation_in_ref\u001b[39m\u001b[38;5;124m'\u001b[39m: \u001b[38;5;28;01mNone\u001b[39;00m,\n",
      "                 \u001b[38;5;124m'\u001b[39m\u001b[38;5;124mreference_db_name\u001b[39m\u001b[38;5;124m'\u001b[39m: \u001b[38;5;124m'\u001b[39m\u001b[38;5;124mBRENDALigand\u001b[39m\u001b[38;5;124m'\u001b[39m,\n",
      "                 \u001b[38;5;124m'\u001b[39m\u001b[38;5;124mreference_id\u001b[39m\u001b[38;5;124m'\u001b[39m: \u001b[38;5;124m'\u001b[39m\u001b[38;5;124m2444\u001b[39m\u001b[38;5;124m'\u001b[39m,\n",
      "                 \u001b[38;5;124m'\u001b[39m\u001b[38;5;124mreference_name\u001b[39m\u001b[38;5;124m'\u001b[39m: \u001b[38;5;28;01mNone\u001b[39;00m},\n",
      "                {\u001b[38;5;124m'\u001b[39m\u001b[38;5;124mlocation_in_ref\u001b[39m\u001b[38;5;124m'\u001b[39m: \u001b[38;5;28;01mNone\u001b[39;00m,\n",
      "                 \u001b[38;5;124m'\u001b[39m\u001b[38;5;124mreference_db_name\u001b[39m\u001b[38;5;124m'\u001b[39m: \u001b[38;5;124m'\u001b[39m\u001b[38;5;124mBRENDALigand\u001b[39m\u001b[38;5;124m'\u001b[39m,\n",
      "                 \u001b[38;5;124m'\u001b[39m\u001b[38;5;124mreference_id\u001b[39m\u001b[38;5;124m'\u001b[39m: \u001b[38;5;124m'\u001b[39m\u001b[38;5;124m3770\u001b[39m\u001b[38;5;124m'\u001b[39m,\n",
      "                 \u001b[38;5;124m'\u001b[39m\u001b[38;5;124mreference_name\u001b[39m\u001b[38;5;124m'\u001b[39m: \u001b[38;5;28;01mNone\u001b[39;00m},\n",
      "                {\u001b[38;5;124m'\u001b[39m\u001b[38;5;124mlocation_in_ref\u001b[39m\u001b[38;5;124m'\u001b[39m: \u001b[38;5;28;01mNone\u001b[39;00m,\n",
      "                 \u001b[38;5;124m'\u001b[39m\u001b[38;5;124mreference_db_name\u001b[39m\u001b[38;5;124m'\u001b[39m: \u001b[38;5;124m'\u001b[39m\u001b[38;5;124mBRENDALigand\u001b[39m\u001b[38;5;124m'\u001b[39m,\n",
      "                 \u001b[38;5;124m'\u001b[39m\u001b[38;5;124mreference_id\u001b[39m\u001b[38;5;124m'\u001b[39m: \u001b[38;5;124m'\u001b[39m\u001b[38;5;124m80306\u001b[39m\u001b[38;5;124m'\u001b[39m,\n",
      "                 \u001b[38;5;124m'\u001b[39m\u001b[38;5;124mreference_name\u001b[39m\u001b[38;5;124m'\u001b[39m: \u001b[38;5;28;01mNone\u001b[39;00m},\n",
      "                {\u001b[38;5;124m'\u001b[39m\u001b[38;5;124mlocation_in_ref\u001b[39m\u001b[38;5;124m'\u001b[39m: \u001b[38;5;28;01mNone\u001b[39;00m,\n",
      "                 \u001b[38;5;124m'\u001b[39m\u001b[38;5;124mreference_db_name\u001b[39m\u001b[38;5;124m'\u001b[39m: \u001b[38;5;124m'\u001b[39m\u001b[38;5;124mBKMS-react\u001b[39m\u001b[38;5;124m'\u001b[39m,\n",
      "                 \u001b[38;5;124m'\u001b[39m\u001b[38;5;124mreference_id\u001b[39m\u001b[38;5;124m'\u001b[39m: \u001b[38;5;124m'\u001b[39m\u001b[38;5;124m55195\u001b[39m\u001b[38;5;124m'\u001b[39m,\n",
      "                 \u001b[38;5;124m'\u001b[39m\u001b[38;5;124mreference_name\u001b[39m\u001b[38;5;124m'\u001b[39m: \u001b[38;5;28;01mNone\u001b[39;00m},\n",
      "                {\u001b[38;5;124m'\u001b[39m\u001b[38;5;124mlocation_in_ref\u001b[39m\u001b[38;5;124m'\u001b[39m: \u001b[38;5;28;01mNone\u001b[39;00m,\n",
      "                 \u001b[38;5;124m'\u001b[39m\u001b[38;5;124mreference_db_name\u001b[39m\u001b[38;5;124m'\u001b[39m: \u001b[38;5;124m'\u001b[39m\u001b[38;5;124mBKMS-react\u001b[39m\u001b[38;5;124m'\u001b[39m,\n",
      "                 \u001b[38;5;124m'\u001b[39m\u001b[38;5;124mreference_id\u001b[39m\u001b[38;5;124m'\u001b[39m: \u001b[38;5;124m'\u001b[39m\u001b[38;5;124m2444\u001b[39m\u001b[38;5;124m'\u001b[39m,\n",
      "                 \u001b[38;5;124m'\u001b[39m\u001b[38;5;124mreference_name\u001b[39m\u001b[38;5;124m'\u001b[39m: \u001b[38;5;28;01mNone\u001b[39;00m},\n",
      "                {\u001b[38;5;124m'\u001b[39m\u001b[38;5;124mlocation_in_ref\u001b[39m\u001b[38;5;124m'\u001b[39m: \u001b[38;5;28;01mNone\u001b[39;00m,\n",
      "                 \u001b[38;5;124m'\u001b[39m\u001b[38;5;124mreference_db_name\u001b[39m\u001b[38;5;124m'\u001b[39m: \u001b[38;5;124m'\u001b[39m\u001b[38;5;124mBKMS-react\u001b[39m\u001b[38;5;124m'\u001b[39m,\n",
      "                 \u001b[38;5;124m'\u001b[39m\u001b[38;5;124mreference_id\u001b[39m\u001b[38;5;124m'\u001b[39m: \u001b[38;5;124m'\u001b[39m\u001b[38;5;124m240553\u001b[39m\u001b[38;5;124m'\u001b[39m,\n",
      "                 \u001b[38;5;124m'\u001b[39m\u001b[38;5;124mreference_name\u001b[39m\u001b[38;5;124m'\u001b[39m: \u001b[38;5;28;01mNone\u001b[39;00m},\n",
      "                {\u001b[38;5;124m'\u001b[39m\u001b[38;5;124mlocation_in_ref\u001b[39m\u001b[38;5;124m'\u001b[39m: \u001b[38;5;28;01mNone\u001b[39;00m,\n",
      "                 \u001b[38;5;124m'\u001b[39m\u001b[38;5;124mreference_db_name\u001b[39m\u001b[38;5;124m'\u001b[39m: \u001b[38;5;124m'\u001b[39m\u001b[38;5;124mBKMS-react\u001b[39m\u001b[38;5;124m'\u001b[39m,\n",
      "                 \u001b[38;5;124m'\u001b[39m\u001b[38;5;124mreference_id\u001b[39m\u001b[38;5;124m'\u001b[39m: \u001b[38;5;124m'\u001b[39m\u001b[38;5;124m3770\u001b[39m\u001b[38;5;124m'\u001b[39m,\n",
      "                 \u001b[38;5;124m'\u001b[39m\u001b[38;5;124mreference_name\u001b[39m\u001b[38;5;124m'\u001b[39m: \u001b[38;5;28;01mNone\u001b[39;00m},\n",
      "                {\u001b[38;5;124m'\u001b[39m\u001b[38;5;124mlocation_in_ref\u001b[39m\u001b[38;5;124m'\u001b[39m: \u001b[38;5;28;01mNone\u001b[39;00m,\n",
      "                 \u001b[38;5;124m'\u001b[39m\u001b[38;5;124mreference_db_name\u001b[39m\u001b[38;5;124m'\u001b[39m: \u001b[38;5;124m'\u001b[39m\u001b[38;5;124mBKMS-react\u001b[39m\u001b[38;5;124m'\u001b[39m,\n",
      "                 \u001b[38;5;124m'\u001b[39m\u001b[38;5;124mreference_id\u001b[39m\u001b[38;5;124m'\u001b[39m: \u001b[38;5;124m'\u001b[39m\u001b[38;5;124m80306\u001b[39m\u001b[38;5;124m'\u001b[39m,\n",
      "                 \u001b[38;5;124m'\u001b[39m\u001b[38;5;124mreference_name\u001b[39m\u001b[38;5;124m'\u001b[39m: \u001b[38;5;28;01mNone\u001b[39;00m},\n",
      "                {\u001b[38;5;124m'\u001b[39m\u001b[38;5;124mlocation_in_ref\u001b[39m\u001b[38;5;124m'\u001b[39m: \u001b[38;5;28;01mNone\u001b[39;00m,\n",
      "                 \u001b[38;5;124m'\u001b[39m\u001b[38;5;124mreference_db_name\u001b[39m\u001b[38;5;124m'\u001b[39m: \u001b[38;5;124m'\u001b[39m\u001b[38;5;124mACToR\u001b[39m\u001b[38;5;124m'\u001b[39m,\n",
      "                 \u001b[38;5;124m'\u001b[39m\u001b[38;5;124mreference_id\u001b[39m\u001b[38;5;124m'\u001b[39m: \u001b[38;5;124m'\u001b[39m\u001b[38;5;124m120014-06-4\u001b[39m\u001b[38;5;124m'\u001b[39m,\n",
      "                 \u001b[38;5;124m'\u001b[39m\u001b[38;5;124mreference_name\u001b[39m\u001b[38;5;124m'\u001b[39m: \u001b[38;5;28;01mNone\u001b[39;00m},\n",
      "                {\u001b[38;5;124m'\u001b[39m\u001b[38;5;124mlocation_in_ref\u001b[39m\u001b[38;5;124m'\u001b[39m: \u001b[38;5;28;01mNone\u001b[39;00m,\n",
      "                 \u001b[38;5;124m'\u001b[39m\u001b[38;5;124mreference_db_name\u001b[39m\u001b[38;5;124m'\u001b[39m: \u001b[38;5;124m'\u001b[39m\u001b[38;5;124mBindingDB\u001b[39m\u001b[38;5;124m'\u001b[39m,\n",
      "                 \u001b[38;5;124m'\u001b[39m\u001b[38;5;124mreference_id\u001b[39m\u001b[38;5;124m'\u001b[39m: \u001b[38;5;124m'\u001b[39m\u001b[38;5;124m8960\u001b[39m\u001b[38;5;124m'\u001b[39m,\n",
      "                 \u001b[38;5;124m'\u001b[39m\u001b[38;5;124mreference_name\u001b[39m\u001b[38;5;124m'\u001b[39m: \u001b[38;5;28;01mNone\u001b[39;00m}],\n",
      " \u001b[38;5;124m'\u001b[39m\u001b[38;5;124msource\u001b[39m\u001b[38;5;124m'\u001b[39m: \u001b[38;5;124m'\u001b[39m\u001b[38;5;124mChEBI\u001b[39m\u001b[38;5;124m'\u001b[39m,\n",
      " \u001b[38;5;124m'\u001b[39m\u001b[38;5;124mstatus\u001b[39m\u001b[38;5;124m'\u001b[39m: \u001b[38;5;124m'\u001b[39m\u001b[38;5;124mC\u001b[39m\u001b[38;5;124m'\u001b[39m}\n",
      "\n",
      "For further testing go to http://0.0.0.0:5000/ui/#/ChEBI/ebel.web.api.ebel.v1.chebi.get_compound_by_id\n"
     ]
    },
    {
     "data": {
      "text/html": [
       "<h2>2. Get ChEBI compound by name</h2>"
      ],
      "text/plain": [
       "<IPython.core.display.HTML object>"
      ]
     },
     "metadata": {},
     "output_type": "display_data"
    },
    {
     "data": {
      "text/html": [
       "<b style=\"color: rgb(98,98,98); text-decoration: underline;\">Description:</b> <p>Get ChEBI compound by name</p>"
      ],
      "text/plain": [
       "<IPython.core.display.HTML object>"
      ]
     },
     "metadata": {},
     "output_type": "display_data"
    },
    {
     "data": {
      "text/html": [
       "<b>Tags:</b> ['ChEBI']"
      ],
      "text/plain": [
       "<IPython.core.display.HTML object>"
      ]
     },
     "metadata": {},
     "output_type": "display_data"
    },
    {
     "data": {
      "text/html": [
       "<b>Server path:</b> /api/v1/chebi/compound/by_name"
      ],
      "text/plain": [
       "<IPython.core.display.HTML object>"
      ]
     },
     "metadata": {},
     "output_type": "display_data"
    },
    {
     "data": {
      "text/html": [
       "<div>\n",
       "<style scoped>\n",
       "    .dataframe tbody tr th:only-of-type {\n",
       "        vertical-align: middle;\n",
       "    }\n",
       "\n",
       "    .dataframe tbody tr th {\n",
       "        vertical-align: top;\n",
       "    }\n",
       "\n",
       "    .dataframe thead th {\n",
       "        text-align: right;\n",
       "    }\n",
       "</style>\n",
       "<table border=\"1\" class=\"dataframe\">\n",
       "  <thead>\n",
       "    <tr style=\"text-align: right;\">\n",
       "      <th></th>\n",
       "      <th>data type</th>\n",
       "      <th>description</th>\n",
       "      <th>example</th>\n",
       "      <th>options</th>\n",
       "      <th>default</th>\n",
       "      <th>required</th>\n",
       "    </tr>\n",
       "    <tr>\n",
       "      <th>parameter name</th>\n",
       "      <th></th>\n",
       "      <th></th>\n",
       "      <th></th>\n",
       "      <th></th>\n",
       "      <th></th>\n",
       "      <th></th>\n",
       "    </tr>\n",
       "  </thead>\n",
       "  <tbody>\n",
       "    <tr>\n",
       "      <th>name</th>\n",
       "      <td>string</td>\n",
       "      <td>Compound name</td>\n",
       "      <td>donepezil</td>\n",
       "      <td></td>\n",
       "      <td></td>\n",
       "      <td>False</td>\n",
       "    </tr>\n",
       "  </tbody>\n",
       "</table>\n",
       "</div>"
      ],
      "text/plain": [
       "               data type    description    example options default  required\n",
       "parameter name                                                              \n",
       "name              string  Compound name  donepezil                     False"
      ]
     },
     "metadata": {},
     "output_type": "display_data"
    },
    {
     "data": {
      "text/html": [
       "<b>Example URL:</b> <a href=\"http://0.0.0.0:5000/api/v1/chebi/compound/by_name?name=donepezil\">http://0.0.0.0:5000/api/v1/chebi/compound/by_name?name=donepezil</a>"
      ],
      "text/plain": [
       "<IPython.core.display.HTML object>"
      ]
     },
     "metadata": {},
     "output_type": "display_data"
    },
    {
     "name": "stdout",
     "output_type": "stream",
     "text": [
      "\n",
      "The result is a list and have 1 entries. Here we show only the first entry.\n",
      "\n"
     ]
    },
    {
     "data": {
      "text/html": [
       "<b style=\"color: rgb(98,98,98); text-decoration: underline;\">Example response:</b>"
      ],
      "text/plain": [
       "<IPython.core.display.HTML object>"
      ]
     },
     "metadata": {},
     "output_type": "display_data"
    },
    {
     "name": "stdout",
     "output_type": "stream",
     "text": [
      "{\u001b[38;5;124m'\u001b[39m\u001b[38;5;124mchebi_accession\u001b[39m\u001b[38;5;124m'\u001b[39m: \u001b[38;5;124m'\u001b[39m\u001b[38;5;124mCHEBI:53289\u001b[39m\u001b[38;5;124m'\u001b[39m,\n",
      " \u001b[38;5;124m'\u001b[39m\u001b[38;5;124mchemicalData\u001b[39m\u001b[38;5;124m'\u001b[39m: [{\u001b[38;5;124m'\u001b[39m\u001b[38;5;124mchemical_data\u001b[39m\u001b[38;5;124m'\u001b[39m: \u001b[38;5;124m'\u001b[39m\u001b[38;5;124m379.500\u001b[39m\u001b[38;5;124m'\u001b[39m,\n",
      "                   \u001b[38;5;124m'\u001b[39m\u001b[38;5;124msource\u001b[39m\u001b[38;5;124m'\u001b[39m: \u001b[38;5;124m'\u001b[39m\u001b[38;5;124mChEBI\u001b[39m\u001b[38;5;124m'\u001b[39m,\n",
      "                   \u001b[38;5;124m'\u001b[39m\u001b[38;5;124mtype\u001b[39m\u001b[38;5;124m'\u001b[39m: \u001b[38;5;124m'\u001b[39m\u001b[38;5;124mMASS\u001b[39m\u001b[38;5;124m'\u001b[39m},\n",
      "                  {\u001b[38;5;124m'\u001b[39m\u001b[38;5;124mchemical_data\u001b[39m\u001b[38;5;124m'\u001b[39m: \u001b[38;5;124m'\u001b[39m\u001b[38;5;124m0\u001b[39m\u001b[38;5;124m'\u001b[39m, \u001b[38;5;124m'\u001b[39m\u001b[38;5;124msource\u001b[39m\u001b[38;5;124m'\u001b[39m: \u001b[38;5;124m'\u001b[39m\u001b[38;5;124mChEBI\u001b[39m\u001b[38;5;124m'\u001b[39m, \u001b[38;5;124m'\u001b[39m\u001b[38;5;124mtype\u001b[39m\u001b[38;5;124m'\u001b[39m: \u001b[38;5;124m'\u001b[39m\u001b[38;5;124mCHARGE\u001b[39m\u001b[38;5;124m'\u001b[39m},\n",
      "                  {\u001b[38;5;124m'\u001b[39m\u001b[38;5;124mchemical_data\u001b[39m\u001b[38;5;124m'\u001b[39m: \u001b[38;5;124m'\u001b[39m\u001b[38;5;124mC24H29NO3\u001b[39m\u001b[38;5;124m'\u001b[39m,\n",
      "                   \u001b[38;5;124m'\u001b[39m\u001b[38;5;124msource\u001b[39m\u001b[38;5;124m'\u001b[39m: \u001b[38;5;124m'\u001b[39m\u001b[38;5;124mChEBI\u001b[39m\u001b[38;5;124m'\u001b[39m,\n",
      "                   \u001b[38;5;124m'\u001b[39m\u001b[38;5;124mtype\u001b[39m\u001b[38;5;124m'\u001b[39m: \u001b[38;5;124m'\u001b[39m\u001b[38;5;124mFORMULA\u001b[39m\u001b[38;5;124m'\u001b[39m},\n",
      "                  {\u001b[38;5;124m'\u001b[39m\u001b[38;5;124mchemical_data\u001b[39m\u001b[38;5;124m'\u001b[39m: \u001b[38;5;124m'\u001b[39m\u001b[38;5;124m379.21474\u001b[39m\u001b[38;5;124m'\u001b[39m,\n",
      "                   \u001b[38;5;124m'\u001b[39m\u001b[38;5;124msource\u001b[39m\u001b[38;5;124m'\u001b[39m: \u001b[38;5;124m'\u001b[39m\u001b[38;5;124mChEBI\u001b[39m\u001b[38;5;124m'\u001b[39m,\n",
      "                   \u001b[38;5;124m'\u001b[39m\u001b[38;5;124mtype\u001b[39m\u001b[38;5;124m'\u001b[39m: \u001b[38;5;124m'\u001b[39m\u001b[38;5;124mMONOISOTOPIC MASS\u001b[39m\u001b[38;5;124m'\u001b[39m}],\n",
      " \u001b[38;5;124m'\u001b[39m\u001b[38;5;124mcomments\u001b[39m\u001b[38;5;124m'\u001b[39m: [],\n",
      " \u001b[38;5;124m'\u001b[39m\u001b[38;5;124mdatabase_accessions\u001b[39m\u001b[38;5;124m'\u001b[39m: [{\u001b[38;5;124m'\u001b[39m\u001b[38;5;124maccession_number\u001b[39m\u001b[38;5;124m'\u001b[39m: \u001b[38;5;124m'\u001b[39m\u001b[38;5;124mD07869\u001b[39m\u001b[38;5;124m'\u001b[39m,\n",
      "                          \u001b[38;5;124m'\u001b[39m\u001b[38;5;124msource\u001b[39m\u001b[38;5;124m'\u001b[39m: \u001b[38;5;124m'\u001b[39m\u001b[38;5;124mKEGG DRUG\u001b[39m\u001b[38;5;124m'\u001b[39m,\n",
      "                          \u001b[38;5;124m'\u001b[39m\u001b[38;5;124mtype\u001b[39m\u001b[38;5;124m'\u001b[39m: \u001b[38;5;124m'\u001b[39m\u001b[38;5;124mKEGG DRUG accession\u001b[39m\u001b[38;5;124m'\u001b[39m},\n",
      "                         {\u001b[38;5;124m'\u001b[39m\u001b[38;5;124maccession_number\u001b[39m\u001b[38;5;124m'\u001b[39m: \u001b[38;5;124m'\u001b[39m\u001b[38;5;124mDB00843\u001b[39m\u001b[38;5;124m'\u001b[39m,\n",
      "                          \u001b[38;5;124m'\u001b[39m\u001b[38;5;124msource\u001b[39m\u001b[38;5;124m'\u001b[39m: \u001b[38;5;124m'\u001b[39m\u001b[38;5;124mDrugBank\u001b[39m\u001b[38;5;124m'\u001b[39m,\n",
      "                          \u001b[38;5;124m'\u001b[39m\u001b[38;5;124mtype\u001b[39m\u001b[38;5;124m'\u001b[39m: \u001b[38;5;124m'\u001b[39m\u001b[38;5;124mDrugBank accession\u001b[39m\u001b[38;5;124m'\u001b[39m},\n",
      "                         {\u001b[38;5;124m'\u001b[39m\u001b[38;5;124maccession_number\u001b[39m\u001b[38;5;124m'\u001b[39m: \u001b[38;5;124m'\u001b[39m\u001b[38;5;124m120014-06-4\u001b[39m\u001b[38;5;124m'\u001b[39m,\n",
      "                          \u001b[38;5;124m'\u001b[39m\u001b[38;5;124msource\u001b[39m\u001b[38;5;124m'\u001b[39m: \u001b[38;5;124m'\u001b[39m\u001b[38;5;124mKEGG DRUG\u001b[39m\u001b[38;5;124m'\u001b[39m,\n",
      "                          \u001b[38;5;124m'\u001b[39m\u001b[38;5;124mtype\u001b[39m\u001b[38;5;124m'\u001b[39m: \u001b[38;5;124m'\u001b[39m\u001b[38;5;124mCAS Registry Number\u001b[39m\u001b[38;5;124m'\u001b[39m},\n",
      "                         {\u001b[38;5;124m'\u001b[39m\u001b[38;5;124maccession_number\u001b[39m\u001b[38;5;124m'\u001b[39m: \u001b[38;5;124m'\u001b[39m\u001b[38;5;124m7081955\u001b[39m\u001b[38;5;124m'\u001b[39m,\n",
      "                          \u001b[38;5;124m'\u001b[39m\u001b[38;5;124msource\u001b[39m\u001b[38;5;124m'\u001b[39m: \u001b[38;5;124m'\u001b[39m\u001b[38;5;124mBeilstein\u001b[39m\u001b[38;5;124m'\u001b[39m,\n",
      "                          \u001b[38;5;124m'\u001b[39m\u001b[38;5;124mtype\u001b[39m\u001b[38;5;124m'\u001b[39m: \u001b[38;5;124m'\u001b[39m\u001b[38;5;124mBeilstein Registry Number\u001b[39m\u001b[38;5;124m'\u001b[39m},\n",
      "                         {\u001b[38;5;124m'\u001b[39m\u001b[38;5;124maccession_number\u001b[39m\u001b[38;5;124m'\u001b[39m: \u001b[38;5;124m'\u001b[39m\u001b[38;5;124m120014-06-4\u001b[39m\u001b[38;5;124m'\u001b[39m,\n",
      "                          \u001b[38;5;124m'\u001b[39m\u001b[38;5;124msource\u001b[39m\u001b[38;5;124m'\u001b[39m: \u001b[38;5;124m'\u001b[39m\u001b[38;5;124mChemIDplus\u001b[39m\u001b[38;5;124m'\u001b[39m,\n",
      "                          \u001b[38;5;124m'\u001b[39m\u001b[38;5;124mtype\u001b[39m\u001b[38;5;124m'\u001b[39m: \u001b[38;5;124m'\u001b[39m\u001b[38;5;124mCAS Registry Number\u001b[39m\u001b[38;5;124m'\u001b[39m},\n",
      "                         {\u001b[38;5;124m'\u001b[39m\u001b[38;5;124maccession_number\u001b[39m\u001b[38;5;124m'\u001b[39m: \u001b[38;5;124m'\u001b[39m\u001b[38;5;124m120014-06-4\u001b[39m\u001b[38;5;124m'\u001b[39m,\n",
      "                          \u001b[38;5;124m'\u001b[39m\u001b[38;5;124msource\u001b[39m\u001b[38;5;124m'\u001b[39m: \u001b[38;5;124m'\u001b[39m\u001b[38;5;124mDrugBank\u001b[39m\u001b[38;5;124m'\u001b[39m,\n",
      "                          \u001b[38;5;124m'\u001b[39m\u001b[38;5;124mtype\u001b[39m\u001b[38;5;124m'\u001b[39m: \u001b[38;5;124m'\u001b[39m\u001b[38;5;124mCAS Registry Number\u001b[39m\u001b[38;5;124m'\u001b[39m},\n",
      "                         {\u001b[38;5;124m'\u001b[39m\u001b[38;5;124maccession_number\u001b[39m\u001b[38;5;124m'\u001b[39m: \u001b[38;5;124m'\u001b[39m\u001b[38;5;124mDonepezil\u001b[39m\u001b[38;5;124m'\u001b[39m,\n",
      "                          \u001b[38;5;124m'\u001b[39m\u001b[38;5;124msource\u001b[39m\u001b[38;5;124m'\u001b[39m: \u001b[38;5;124m'\u001b[39m\u001b[38;5;124mWikipedia\u001b[39m\u001b[38;5;124m'\u001b[39m,\n",
      "                          \u001b[38;5;124m'\u001b[39m\u001b[38;5;124mtype\u001b[39m\u001b[38;5;124m'\u001b[39m: \u001b[38;5;124m'\u001b[39m\u001b[38;5;124mWikipedia accession\u001b[39m\u001b[38;5;124m'\u001b[39m},\n",
      "                         {\u001b[38;5;124m'\u001b[39m\u001b[38;5;124maccession_number\u001b[39m\u001b[38;5;124m'\u001b[39m: \u001b[38;5;124m'\u001b[39m\u001b[38;5;124m7081955\u001b[39m\u001b[38;5;124m'\u001b[39m,\n",
      "                          \u001b[38;5;124m'\u001b[39m\u001b[38;5;124msource\u001b[39m\u001b[38;5;124m'\u001b[39m: \u001b[38;5;124m'\u001b[39m\u001b[38;5;124mReaxys\u001b[39m\u001b[38;5;124m'\u001b[39m,\n",
      "                          \u001b[38;5;124m'\u001b[39m\u001b[38;5;124mtype\u001b[39m\u001b[38;5;124m'\u001b[39m: \u001b[38;5;124m'\u001b[39m\u001b[38;5;124mReaxys Registry Number\u001b[39m\u001b[38;5;124m'\u001b[39m},\n",
      "                         {\u001b[38;5;124m'\u001b[39m\u001b[38;5;124maccession_number\u001b[39m\u001b[38;5;124m'\u001b[39m: \u001b[38;5;124m'\u001b[39m\u001b[38;5;124mLSM-1598\u001b[39m\u001b[38;5;124m'\u001b[39m,\n",
      "                          \u001b[38;5;124m'\u001b[39m\u001b[38;5;124msource\u001b[39m\u001b[38;5;124m'\u001b[39m: \u001b[38;5;124m'\u001b[39m\u001b[38;5;124mLINCS\u001b[39m\u001b[38;5;124m'\u001b[39m,\n",
      "                          \u001b[38;5;124m'\u001b[39m\u001b[38;5;124mtype\u001b[39m\u001b[38;5;124m'\u001b[39m: \u001b[38;5;124m'\u001b[39m\u001b[38;5;124mLINCS accession\u001b[39m\u001b[38;5;124m'\u001b[39m},\n",
      "                         {\u001b[38;5;124m'\u001b[39m\u001b[38;5;124maccession_number\u001b[39m\u001b[38;5;124m'\u001b[39m: \u001b[38;5;124m'\u001b[39m\u001b[38;5;124m946\u001b[39m\u001b[38;5;124m'\u001b[39m,\n",
      "                          \u001b[38;5;124m'\u001b[39m\u001b[38;5;124msource\u001b[39m\u001b[38;5;124m'\u001b[39m: \u001b[38;5;124m'\u001b[39m\u001b[38;5;124mDrugCentral\u001b[39m\u001b[38;5;124m'\u001b[39m,\n",
      "                          \u001b[38;5;124m'\u001b[39m\u001b[38;5;124mtype\u001b[39m\u001b[38;5;124m'\u001b[39m: \u001b[38;5;124m'\u001b[39m\u001b[38;5;124mDrug Central accession\u001b[39m\u001b[38;5;124m'\u001b[39m}],\n",
      " \u001b[38;5;124m'\u001b[39m\u001b[38;5;124mdefinition\u001b[39m\u001b[38;5;124m'\u001b[39m: \u001b[38;5;124m'\u001b[39m\u001b[38;5;124mA racemate comprising equimolar amounts of (R)- and \u001b[39m\u001b[38;5;124m'\u001b[39m\n",
      "               \u001b[38;5;124m'\u001b[39m\u001b[38;5;124m(S)-donepezil. A centrally acting reversible \u001b[39m\u001b[38;5;124m'\u001b[39m\n",
      "               \u001b[38;5;124m'\u001b[39m\u001b[38;5;124macetylcholinesterase inhibitor, its main therapeutic use is in \u001b[39m\u001b[38;5;124m'\u001b[39m\n",
      "               \u001b[38;5;124m\"\u001b[39m\u001b[38;5;124mthe treatment of Alzheimer\u001b[39m\u001b[38;5;124m'\u001b[39m\u001b[38;5;124ms disease where it is used to \u001b[39m\u001b[38;5;124m\"\u001b[39m\n",
      "               \u001b[38;5;124m'\u001b[39m\u001b[38;5;124mincrease cortical acetylcholine.\u001b[39m\u001b[38;5;124m'\u001b[39m,\n",
      " \u001b[38;5;124m'\u001b[39m\u001b[38;5;124minchis\u001b[39m\u001b[38;5;124m'\u001b[39m: [{\u001b[38;5;124m'\u001b[39m\u001b[38;5;124minchi\u001b[39m\u001b[38;5;124m'\u001b[39m: \u001b[38;5;124m'\u001b[39m\u001b[38;5;124mInChI=1S/C24H29NO3/c1-27-22-14-19-13-20(24(26)21(19)15-23(22)28-2)12-17-8-10-25(11-9-17)16-18-6-4-3-5-7-18/h3-7,14-15,17,20H,8-13,16H2,1-2H3\u001b[39m\u001b[38;5;124m'\u001b[39m}],\n",
      " \u001b[38;5;124m'\u001b[39m\u001b[38;5;124mname\u001b[39m\u001b[38;5;124m'\u001b[39m: \u001b[38;5;124m'\u001b[39m\u001b[38;5;124mdonepezil\u001b[39m\u001b[38;5;124m'\u001b[39m,\n",
      " \u001b[38;5;124m'\u001b[39m\u001b[38;5;124mnames\u001b[39m\u001b[38;5;124m'\u001b[39m: [{\u001b[38;5;124m'\u001b[39m\u001b[38;5;124madapted\u001b[39m\u001b[38;5;124m'\u001b[39m: \u001b[38;5;124m'\u001b[39m\u001b[38;5;124mT\u001b[39m\u001b[38;5;124m'\u001b[39m,\n",
      "            \u001b[38;5;124m'\u001b[39m\u001b[38;5;124mlanguage\u001b[39m\u001b[38;5;124m'\u001b[39m: \u001b[38;5;124m'\u001b[39m\u001b[38;5;124men\u001b[39m\u001b[38;5;124m'\u001b[39m,\n",
      "            \u001b[38;5;124m'\u001b[39m\u001b[38;5;124mname\u001b[39m\u001b[38;5;124m'\u001b[39m: \u001b[38;5;124m'\u001b[39m\u001b[38;5;124mdonepezil\u001b[39m\u001b[38;5;124m'\u001b[39m,\n",
      "            \u001b[38;5;124m'\u001b[39m\u001b[38;5;124msource\u001b[39m\u001b[38;5;124m'\u001b[39m: \u001b[38;5;124m'\u001b[39m\u001b[38;5;124mChemIDplus\u001b[39m\u001b[38;5;124m'\u001b[39m,\n",
      "            \u001b[38;5;124m'\u001b[39m\u001b[38;5;124mtype\u001b[39m\u001b[38;5;124m'\u001b[39m: \u001b[38;5;124m'\u001b[39m\u001b[38;5;124mINN\u001b[39m\u001b[38;5;124m'\u001b[39m},\n",
      "           {\u001b[38;5;124m'\u001b[39m\u001b[38;5;124madapted\u001b[39m\u001b[38;5;124m'\u001b[39m: \u001b[38;5;124m'\u001b[39m\u001b[38;5;124mF\u001b[39m\u001b[38;5;124m'\u001b[39m,\n",
      "            \u001b[38;5;124m'\u001b[39m\u001b[38;5;124mlanguage\u001b[39m\u001b[38;5;124m'\u001b[39m: \u001b[38;5;124m'\u001b[39m\u001b[38;5;124mfr\u001b[39m\u001b[38;5;124m'\u001b[39m,\n",
      "            \u001b[38;5;124m'\u001b[39m\u001b[38;5;124mname\u001b[39m\u001b[38;5;124m'\u001b[39m: \u001b[38;5;124m'\u001b[39m\u001b[38;5;124mdonepezil\u001b[39m\u001b[38;5;124m'\u001b[39m,\n",
      "            \u001b[38;5;124m'\u001b[39m\u001b[38;5;124msource\u001b[39m\u001b[38;5;124m'\u001b[39m: \u001b[38;5;124m'\u001b[39m\u001b[38;5;124mWHO MedNet\u001b[39m\u001b[38;5;124m'\u001b[39m,\n",
      "            \u001b[38;5;124m'\u001b[39m\u001b[38;5;124mtype\u001b[39m\u001b[38;5;124m'\u001b[39m: \u001b[38;5;124m'\u001b[39m\u001b[38;5;124mINN\u001b[39m\u001b[38;5;124m'\u001b[39m},\n",
      "           {\u001b[38;5;124m'\u001b[39m\u001b[38;5;124madapted\u001b[39m\u001b[38;5;124m'\u001b[39m: \u001b[38;5;124m'\u001b[39m\u001b[38;5;124mF\u001b[39m\u001b[38;5;124m'\u001b[39m,\n",
      "            \u001b[38;5;124m'\u001b[39m\u001b[38;5;124mlanguage\u001b[39m\u001b[38;5;124m'\u001b[39m: \u001b[38;5;124m'\u001b[39m\u001b[38;5;124mes\u001b[39m\u001b[38;5;124m'\u001b[39m,\n",
      "            \u001b[38;5;124m'\u001b[39m\u001b[38;5;124mname\u001b[39m\u001b[38;5;124m'\u001b[39m: \u001b[38;5;124m'\u001b[39m\u001b[38;5;124mdonepezilo\u001b[39m\u001b[38;5;124m'\u001b[39m,\n",
      "            \u001b[38;5;124m'\u001b[39m\u001b[38;5;124msource\u001b[39m\u001b[38;5;124m'\u001b[39m: \u001b[38;5;124m'\u001b[39m\u001b[38;5;124mWHO MedNet\u001b[39m\u001b[38;5;124m'\u001b[39m,\n",
      "            \u001b[38;5;124m'\u001b[39m\u001b[38;5;124mtype\u001b[39m\u001b[38;5;124m'\u001b[39m: \u001b[38;5;124m'\u001b[39m\u001b[38;5;124mINN\u001b[39m\u001b[38;5;124m'\u001b[39m},\n",
      "           {\u001b[38;5;124m'\u001b[39m\u001b[38;5;124madapted\u001b[39m\u001b[38;5;124m'\u001b[39m: \u001b[38;5;124m'\u001b[39m\u001b[38;5;124mF\u001b[39m\u001b[38;5;124m'\u001b[39m,\n",
      "            \u001b[38;5;124m'\u001b[39m\u001b[38;5;124mlanguage\u001b[39m\u001b[38;5;124m'\u001b[39m: \u001b[38;5;124m'\u001b[39m\u001b[38;5;124mla\u001b[39m\u001b[38;5;124m'\u001b[39m,\n",
      "            \u001b[38;5;124m'\u001b[39m\u001b[38;5;124mname\u001b[39m\u001b[38;5;124m'\u001b[39m: \u001b[38;5;124m'\u001b[39m\u001b[38;5;124mdonepezilum\u001b[39m\u001b[38;5;124m'\u001b[39m,\n",
      "            \u001b[38;5;124m'\u001b[39m\u001b[38;5;124msource\u001b[39m\u001b[38;5;124m'\u001b[39m: \u001b[38;5;124m'\u001b[39m\u001b[38;5;124mWHO MedNet\u001b[39m\u001b[38;5;124m'\u001b[39m,\n",
      "            \u001b[38;5;124m'\u001b[39m\u001b[38;5;124mtype\u001b[39m\u001b[38;5;124m'\u001b[39m: \u001b[38;5;124m'\u001b[39m\u001b[38;5;124mINN\u001b[39m\u001b[38;5;124m'\u001b[39m}],\n",
      " \u001b[38;5;124m'\u001b[39m\u001b[38;5;124mparent_id\u001b[39m\u001b[38;5;124m'\u001b[39m: \u001b[38;5;28;01mNone\u001b[39;00m,\n",
      " \u001b[38;5;124m'\u001b[39m\u001b[38;5;124mreferences\u001b[39m\u001b[38;5;124m'\u001b[39m: [{\u001b[38;5;124m'\u001b[39m\u001b[38;5;124mlocation_in_ref\u001b[39m\u001b[38;5;124m'\u001b[39m: \u001b[38;5;124m'\u001b[39m\u001b[38;5;124mCC - DISRUPTION PHENOTYPE\u001b[39m\u001b[38;5;124m'\u001b[39m,\n",
      "                 \u001b[38;5;124m'\u001b[39m\u001b[38;5;124mreference_db_name\u001b[39m\u001b[38;5;124m'\u001b[39m: \u001b[38;5;124m'\u001b[39m\u001b[38;5;124mUniProt\u001b[39m\u001b[38;5;124m'\u001b[39m,\n",
      "                 \u001b[38;5;124m'\u001b[39m\u001b[38;5;124mreference_id\u001b[39m\u001b[38;5;124m'\u001b[39m: \u001b[38;5;124m'\u001b[39m\u001b[38;5;124mQ03311\u001b[39m\u001b[38;5;124m'\u001b[39m,\n",
      "                 \u001b[38;5;124m'\u001b[39m\u001b[38;5;124mreference_name\u001b[39m\u001b[38;5;124m'\u001b[39m: \u001b[38;5;124m'\u001b[39m\u001b[38;5;124mCholinesterase\u001b[39m\u001b[38;5;124m'\u001b[39m},\n",
      "                {\u001b[38;5;124m'\u001b[39m\u001b[38;5;124mlocation_in_ref\u001b[39m\u001b[38;5;124m'\u001b[39m: \u001b[38;5;28;01mNone\u001b[39;00m,\n",
      "                 \u001b[38;5;124m'\u001b[39m\u001b[38;5;124mreference_db_name\u001b[39m\u001b[38;5;124m'\u001b[39m: \u001b[38;5;124m'\u001b[39m\u001b[38;5;124mBRENDA\u001b[39m\u001b[38;5;124m'\u001b[39m,\n",
      "                 \u001b[38;5;124m'\u001b[39m\u001b[38;5;124mreference_id\u001b[39m\u001b[38;5;124m'\u001b[39m: \u001b[38;5;124m'\u001b[39m\u001b[38;5;124mEC 1.3.1.21\u001b[39m\u001b[38;5;124m'\u001b[39m,\n",
      "                 \u001b[38;5;124m'\u001b[39m\u001b[38;5;124mreference_name\u001b[39m\u001b[38;5;124m'\u001b[39m: \u001b[38;5;124m'\u001b[39m\u001b[38;5;124m7-dehydrocholesterol reductase\u001b[39m\u001b[38;5;124m'\u001b[39m},\n",
      "                {\u001b[38;5;124m'\u001b[39m\u001b[38;5;124mlocation_in_ref\u001b[39m\u001b[38;5;124m'\u001b[39m: \u001b[38;5;28;01mNone\u001b[39;00m,\n",
      "                 \u001b[38;5;124m'\u001b[39m\u001b[38;5;124mreference_db_name\u001b[39m\u001b[38;5;124m'\u001b[39m: \u001b[38;5;124m'\u001b[39m\u001b[38;5;124mBRENDA\u001b[39m\u001b[38;5;124m'\u001b[39m,\n",
      "                 \u001b[38;5;124m'\u001b[39m\u001b[38;5;124mreference_id\u001b[39m\u001b[38;5;124m'\u001b[39m: \u001b[38;5;124m'\u001b[39m\u001b[38;5;124mEC 3.1.1.7\u001b[39m\u001b[38;5;124m'\u001b[39m,\n",
      "                 \u001b[38;5;124m'\u001b[39m\u001b[38;5;124mreference_name\u001b[39m\u001b[38;5;124m'\u001b[39m: \u001b[38;5;124m'\u001b[39m\u001b[38;5;124macetylcholinesterase\u001b[39m\u001b[38;5;124m'\u001b[39m},\n",
      "                {\u001b[38;5;124m'\u001b[39m\u001b[38;5;124mlocation_in_ref\u001b[39m\u001b[38;5;124m'\u001b[39m: \u001b[38;5;28;01mNone\u001b[39;00m,\n",
      "                 \u001b[38;5;124m'\u001b[39m\u001b[38;5;124mreference_db_name\u001b[39m\u001b[38;5;124m'\u001b[39m: \u001b[38;5;124m'\u001b[39m\u001b[38;5;124mBRENDA\u001b[39m\u001b[38;5;124m'\u001b[39m,\n",
      "                 \u001b[38;5;124m'\u001b[39m\u001b[38;5;124mreference_id\u001b[39m\u001b[38;5;124m'\u001b[39m: \u001b[38;5;124m'\u001b[39m\u001b[38;5;124mEC 3.1.1.8\u001b[39m\u001b[38;5;124m'\u001b[39m,\n",
      "                 \u001b[38;5;124m'\u001b[39m\u001b[38;5;124mreference_name\u001b[39m\u001b[38;5;124m'\u001b[39m: \u001b[38;5;124m'\u001b[39m\u001b[38;5;124mcholinesterase\u001b[39m\u001b[38;5;124m'\u001b[39m},\n",
      "                {\u001b[38;5;124m'\u001b[39m\u001b[38;5;124mlocation_in_ref\u001b[39m\u001b[38;5;124m'\u001b[39m: \u001b[38;5;28;01mNone\u001b[39;00m,\n",
      "                 \u001b[38;5;124m'\u001b[39m\u001b[38;5;124mreference_db_name\u001b[39m\u001b[38;5;124m'\u001b[39m: \u001b[38;5;124m'\u001b[39m\u001b[38;5;124mBRENDA\u001b[39m\u001b[38;5;124m'\u001b[39m,\n",
      "                 \u001b[38;5;124m'\u001b[39m\u001b[38;5;124mreference_id\u001b[39m\u001b[38;5;124m'\u001b[39m: \u001b[38;5;124m'\u001b[39m\u001b[38;5;124mEC 3.4.24.81\u001b[39m\u001b[38;5;124m'\u001b[39m,\n",
      "                 \u001b[38;5;124m'\u001b[39m\u001b[38;5;124mreference_name\u001b[39m\u001b[38;5;124m'\u001b[39m: \u001b[38;5;124m'\u001b[39m\u001b[38;5;124mADAM10 endopeptidase\u001b[39m\u001b[38;5;124m'\u001b[39m},\n",
      "                {\u001b[38;5;124m'\u001b[39m\u001b[38;5;124mlocation_in_ref\u001b[39m\u001b[38;5;124m'\u001b[39m: \u001b[38;5;28;01mNone\u001b[39;00m,\n",
      "                 \u001b[38;5;124m'\u001b[39m\u001b[38;5;124mreference_db_name\u001b[39m\u001b[38;5;124m'\u001b[39m: \u001b[38;5;124m'\u001b[39m\u001b[38;5;124mBRENDA\u001b[39m\u001b[38;5;124m'\u001b[39m,\n",
      "                 \u001b[38;5;124m'\u001b[39m\u001b[38;5;124mreference_id\u001b[39m\u001b[38;5;124m'\u001b[39m: \u001b[38;5;124m'\u001b[39m\u001b[38;5;124mEC 3.5.1.13\u001b[39m\u001b[38;5;124m'\u001b[39m,\n",
      "                 \u001b[38;5;124m'\u001b[39m\u001b[38;5;124mreference_name\u001b[39m\u001b[38;5;124m'\u001b[39m: \u001b[38;5;124m'\u001b[39m\u001b[38;5;124maryl-acylamidase\u001b[39m\u001b[38;5;124m'\u001b[39m},\n",
      "                {\u001b[38;5;124m'\u001b[39m\u001b[38;5;124mlocation_in_ref\u001b[39m\u001b[38;5;124m'\u001b[39m: \u001b[38;5;28;01mNone\u001b[39;00m,\n",
      "                 \u001b[38;5;124m'\u001b[39m\u001b[38;5;124mreference_db_name\u001b[39m\u001b[38;5;124m'\u001b[39m: \u001b[38;5;124m'\u001b[39m\u001b[38;5;124mPubChem\u001b[39m\u001b[38;5;124m'\u001b[39m,\n",
      "                 \u001b[38;5;124m'\u001b[39m\u001b[38;5;124mreference_id\u001b[39m\u001b[38;5;124m'\u001b[39m: \u001b[38;5;124m'\u001b[39m\u001b[38;5;124mSID: 85730950\u001b[39m\u001b[38;5;124m'\u001b[39m,\n",
      "                 \u001b[38;5;124m'\u001b[39m\u001b[38;5;124mreference_name\u001b[39m\u001b[38;5;124m'\u001b[39m: \u001b[38;5;28;01mNone\u001b[39;00m},\n",
      "                {\u001b[38;5;124m'\u001b[39m\u001b[38;5;124mlocation_in_ref\u001b[39m\u001b[38;5;124m'\u001b[39m: \u001b[38;5;28;01mNone\u001b[39;00m,\n",
      "                 \u001b[38;5;124m'\u001b[39m\u001b[38;5;124mreference_db_name\u001b[39m\u001b[38;5;124m'\u001b[39m: \u001b[38;5;124m'\u001b[39m\u001b[38;5;124mPubChem\u001b[39m\u001b[38;5;124m'\u001b[39m,\n",
      "                 \u001b[38;5;124m'\u001b[39m\u001b[38;5;124mreference_id\u001b[39m\u001b[38;5;124m'\u001b[39m: \u001b[38;5;124m'\u001b[39m\u001b[38;5;124mCID: 3152\u001b[39m\u001b[38;5;124m'\u001b[39m,\n",
      "                 \u001b[38;5;124m'\u001b[39m\u001b[38;5;124mreference_name\u001b[39m\u001b[38;5;124m'\u001b[39m: \u001b[38;5;28;01mNone\u001b[39;00m},\n",
      "                {\u001b[38;5;124m'\u001b[39m\u001b[38;5;124mlocation_in_ref\u001b[39m\u001b[38;5;124m'\u001b[39m: \u001b[38;5;28;01mNone\u001b[39;00m,\n",
      "                 \u001b[38;5;124m'\u001b[39m\u001b[38;5;124mreference_db_name\u001b[39m\u001b[38;5;124m'\u001b[39m: \u001b[38;5;124m'\u001b[39m\u001b[38;5;124mReactome\u001b[39m\u001b[38;5;124m'\u001b[39m,\n",
      "                 \u001b[38;5;124m'\u001b[39m\u001b[38;5;124mreference_id\u001b[39m\u001b[38;5;124m'\u001b[39m: \u001b[38;5;124m'\u001b[39m\u001b[38;5;124mR-HSA-372519\u001b[39m\u001b[38;5;124m'\u001b[39m,\n",
      "                 \u001b[38;5;124m'\u001b[39m\u001b[38;5;124mreference_name\u001b[39m\u001b[38;5;124m'\u001b[39m: \u001b[38;5;124m'\u001b[39m\u001b[38;5;124mAcCho is hydrolyzed to Cho and acetate by \u001b[39m\u001b[38;5;124m'\u001b[39m\n",
      "                                   \u001b[38;5;124m'\u001b[39m\u001b[38;5;124mACHE\u001b[39m\u001b[38;5;124m'\u001b[39m},\n",
      "                {\u001b[38;5;124m'\u001b[39m\u001b[38;5;124mlocation_in_ref\u001b[39m\u001b[38;5;124m'\u001b[39m: \u001b[38;5;28;01mNone\u001b[39;00m,\n",
      "                 \u001b[38;5;124m'\u001b[39m\u001b[38;5;124mreference_db_name\u001b[39m\u001b[38;5;124m'\u001b[39m: \u001b[38;5;124m'\u001b[39m\u001b[38;5;124mReactome\u001b[39m\u001b[38;5;124m'\u001b[39m,\n",
      "                 \u001b[38;5;124m'\u001b[39m\u001b[38;5;124mreference_id\u001b[39m\u001b[38;5;124m'\u001b[39m: \u001b[38;5;124m'\u001b[39m\u001b[38;5;124mR-HSA-9634834\u001b[39m\u001b[38;5;124m'\u001b[39m,\n",
      "                 \u001b[38;5;124m'\u001b[39m\u001b[38;5;124mreference_name\u001b[39m\u001b[38;5;124m'\u001b[39m: \u001b[38;5;124m'\u001b[39m\u001b[38;5;124mACHEIs bind ACHE\u001b[39m\u001b[38;5;124m'\u001b[39m},\n",
      "                {\u001b[38;5;124m'\u001b[39m\u001b[38;5;124mlocation_in_ref\u001b[39m\u001b[38;5;124m'\u001b[39m: \u001b[38;5;28;01mNone\u001b[39;00m,\n",
      "                 \u001b[38;5;124m'\u001b[39m\u001b[38;5;124mreference_db_name\u001b[39m\u001b[38;5;124m'\u001b[39m: \u001b[38;5;124m'\u001b[39m\u001b[38;5;124mMetaboLights\u001b[39m\u001b[38;5;124m'\u001b[39m,\n",
      "                 \u001b[38;5;124m'\u001b[39m\u001b[38;5;124mreference_id\u001b[39m\u001b[38;5;124m'\u001b[39m: \u001b[38;5;124m'\u001b[39m\u001b[38;5;124mMTBLS2145\u001b[39m\u001b[38;5;124m'\u001b[39m,\n",
      "                 \u001b[38;5;124m'\u001b[39m\u001b[38;5;124mreference_name\u001b[39m\u001b[38;5;124m'\u001b[39m: \u001b[38;5;124m'\u001b[39m\u001b[38;5;124mMetabolic Dynamics of In Vitro CD8+ T Cell \u001b[39m\u001b[38;5;124m'\u001b[39m\n",
      "                                   \u001b[38;5;124m'\u001b[39m\u001b[38;5;124mActivation.\u001b[39m\u001b[38;5;124m'\u001b[39m},\n",
      "                {\u001b[38;5;124m'\u001b[39m\u001b[38;5;124mlocation_in_ref\u001b[39m\u001b[38;5;124m'\u001b[39m: \u001b[38;5;28;01mNone\u001b[39;00m,\n",
      "                 \u001b[38;5;124m'\u001b[39m\u001b[38;5;124mreference_db_name\u001b[39m\u001b[38;5;124m'\u001b[39m: \u001b[38;5;124m'\u001b[39m\u001b[38;5;124mChEMBL\u001b[39m\u001b[38;5;124m'\u001b[39m,\n",
      "                 \u001b[38;5;124m'\u001b[39m\u001b[38;5;124mreference_id\u001b[39m\u001b[38;5;124m'\u001b[39m: \u001b[38;5;124m'\u001b[39m\u001b[38;5;124mCHEMBL502\u001b[39m\u001b[38;5;124m'\u001b[39m,\n",
      "                 \u001b[38;5;124m'\u001b[39m\u001b[38;5;124mreference_name\u001b[39m\u001b[38;5;124m'\u001b[39m: \u001b[38;5;28;01mNone\u001b[39;00m},\n",
      "                {\u001b[38;5;124m'\u001b[39m\u001b[38;5;124mlocation_in_ref\u001b[39m\u001b[38;5;124m'\u001b[39m: \u001b[38;5;28;01mNone\u001b[39;00m,\n",
      "                 \u001b[38;5;124m'\u001b[39m\u001b[38;5;124mreference_db_name\u001b[39m\u001b[38;5;124m'\u001b[39m: \u001b[38;5;124m'\u001b[39m\u001b[38;5;124mCompTox\u001b[39m\u001b[38;5;124m'\u001b[39m,\n",
      "                 \u001b[38;5;124m'\u001b[39m\u001b[38;5;124mreference_id\u001b[39m\u001b[38;5;124m'\u001b[39m: \u001b[38;5;124m'\u001b[39m\u001b[38;5;124mDTXSID8048317\u001b[39m\u001b[38;5;124m'\u001b[39m,\n",
      "                 \u001b[38;5;124m'\u001b[39m\u001b[38;5;124mreference_name\u001b[39m\u001b[38;5;124m'\u001b[39m: \u001b[38;5;28;01mNone\u001b[39;00m},\n",
      "                {\u001b[38;5;124m'\u001b[39m\u001b[38;5;124mlocation_in_ref\u001b[39m\u001b[38;5;124m'\u001b[39m: \u001b[38;5;28;01mNone\u001b[39;00m,\n",
      "                 \u001b[38;5;124m'\u001b[39m\u001b[38;5;124mreference_db_name\u001b[39m\u001b[38;5;124m'\u001b[39m: \u001b[38;5;124m'\u001b[39m\u001b[38;5;124mSureChEMBL\u001b[39m\u001b[38;5;124m'\u001b[39m,\n",
      "                 \u001b[38;5;124m'\u001b[39m\u001b[38;5;124mreference_id\u001b[39m\u001b[38;5;124m'\u001b[39m: \u001b[38;5;124m'\u001b[39m\u001b[38;5;124mSCHEMBL2149\u001b[39m\u001b[38;5;124m'\u001b[39m,\n",
      "                 \u001b[38;5;124m'\u001b[39m\u001b[38;5;124mreference_name\u001b[39m\u001b[38;5;124m'\u001b[39m: \u001b[38;5;28;01mNone\u001b[39;00m},\n",
      "                {\u001b[38;5;124m'\u001b[39m\u001b[38;5;124mlocation_in_ref\u001b[39m\u001b[38;5;124m'\u001b[39m: \u001b[38;5;28;01mNone\u001b[39;00m,\n",
      "                 \u001b[38;5;124m'\u001b[39m\u001b[38;5;124mreference_db_name\u001b[39m\u001b[38;5;124m'\u001b[39m: \u001b[38;5;124m'\u001b[39m\u001b[38;5;124mBRENDALigand\u001b[39m\u001b[38;5;124m'\u001b[39m,\n",
      "                 \u001b[38;5;124m'\u001b[39m\u001b[38;5;124mreference_id\u001b[39m\u001b[38;5;124m'\u001b[39m: \u001b[38;5;124m'\u001b[39m\u001b[38;5;124m55195\u001b[39m\u001b[38;5;124m'\u001b[39m,\n",
      "                 \u001b[38;5;124m'\u001b[39m\u001b[38;5;124mreference_name\u001b[39m\u001b[38;5;124m'\u001b[39m: \u001b[38;5;28;01mNone\u001b[39;00m},\n",
      "                {\u001b[38;5;124m'\u001b[39m\u001b[38;5;124mlocation_in_ref\u001b[39m\u001b[38;5;124m'\u001b[39m: \u001b[38;5;28;01mNone\u001b[39;00m,\n",
      "                 \u001b[38;5;124m'\u001b[39m\u001b[38;5;124mreference_db_name\u001b[39m\u001b[38;5;124m'\u001b[39m: \u001b[38;5;124m'\u001b[39m\u001b[38;5;124mBRENDALigand\u001b[39m\u001b[38;5;124m'\u001b[39m,\n",
      "                 \u001b[38;5;124m'\u001b[39m\u001b[38;5;124mreference_id\u001b[39m\u001b[38;5;124m'\u001b[39m: \u001b[38;5;124m'\u001b[39m\u001b[38;5;124m240553\u001b[39m\u001b[38;5;124m'\u001b[39m,\n",
      "                 \u001b[38;5;124m'\u001b[39m\u001b[38;5;124mreference_name\u001b[39m\u001b[38;5;124m'\u001b[39m: \u001b[38;5;28;01mNone\u001b[39;00m},\n",
      "                {\u001b[38;5;124m'\u001b[39m\u001b[38;5;124mlocation_in_ref\u001b[39m\u001b[38;5;124m'\u001b[39m: \u001b[38;5;28;01mNone\u001b[39;00m,\n",
      "                 \u001b[38;5;124m'\u001b[39m\u001b[38;5;124mreference_db_name\u001b[39m\u001b[38;5;124m'\u001b[39m: \u001b[38;5;124m'\u001b[39m\u001b[38;5;124mBRENDALigand\u001b[39m\u001b[38;5;124m'\u001b[39m,\n",
      "                 \u001b[38;5;124m'\u001b[39m\u001b[38;5;124mreference_id\u001b[39m\u001b[38;5;124m'\u001b[39m: \u001b[38;5;124m'\u001b[39m\u001b[38;5;124m2444\u001b[39m\u001b[38;5;124m'\u001b[39m,\n",
      "                 \u001b[38;5;124m'\u001b[39m\u001b[38;5;124mreference_name\u001b[39m\u001b[38;5;124m'\u001b[39m: \u001b[38;5;28;01mNone\u001b[39;00m},\n",
      "                {\u001b[38;5;124m'\u001b[39m\u001b[38;5;124mlocation_in_ref\u001b[39m\u001b[38;5;124m'\u001b[39m: \u001b[38;5;28;01mNone\u001b[39;00m,\n",
      "                 \u001b[38;5;124m'\u001b[39m\u001b[38;5;124mreference_db_name\u001b[39m\u001b[38;5;124m'\u001b[39m: \u001b[38;5;124m'\u001b[39m\u001b[38;5;124mBRENDALigand\u001b[39m\u001b[38;5;124m'\u001b[39m,\n",
      "                 \u001b[38;5;124m'\u001b[39m\u001b[38;5;124mreference_id\u001b[39m\u001b[38;5;124m'\u001b[39m: \u001b[38;5;124m'\u001b[39m\u001b[38;5;124m3770\u001b[39m\u001b[38;5;124m'\u001b[39m,\n",
      "                 \u001b[38;5;124m'\u001b[39m\u001b[38;5;124mreference_name\u001b[39m\u001b[38;5;124m'\u001b[39m: \u001b[38;5;28;01mNone\u001b[39;00m},\n",
      "                {\u001b[38;5;124m'\u001b[39m\u001b[38;5;124mlocation_in_ref\u001b[39m\u001b[38;5;124m'\u001b[39m: \u001b[38;5;28;01mNone\u001b[39;00m,\n",
      "                 \u001b[38;5;124m'\u001b[39m\u001b[38;5;124mreference_db_name\u001b[39m\u001b[38;5;124m'\u001b[39m: \u001b[38;5;124m'\u001b[39m\u001b[38;5;124mBRENDALigand\u001b[39m\u001b[38;5;124m'\u001b[39m,\n",
      "                 \u001b[38;5;124m'\u001b[39m\u001b[38;5;124mreference_id\u001b[39m\u001b[38;5;124m'\u001b[39m: \u001b[38;5;124m'\u001b[39m\u001b[38;5;124m80306\u001b[39m\u001b[38;5;124m'\u001b[39m,\n",
      "                 \u001b[38;5;124m'\u001b[39m\u001b[38;5;124mreference_name\u001b[39m\u001b[38;5;124m'\u001b[39m: \u001b[38;5;28;01mNone\u001b[39;00m},\n",
      "                {\u001b[38;5;124m'\u001b[39m\u001b[38;5;124mlocation_in_ref\u001b[39m\u001b[38;5;124m'\u001b[39m: \u001b[38;5;28;01mNone\u001b[39;00m,\n",
      "                 \u001b[38;5;124m'\u001b[39m\u001b[38;5;124mreference_db_name\u001b[39m\u001b[38;5;124m'\u001b[39m: \u001b[38;5;124m'\u001b[39m\u001b[38;5;124mBKMS-react\u001b[39m\u001b[38;5;124m'\u001b[39m,\n",
      "                 \u001b[38;5;124m'\u001b[39m\u001b[38;5;124mreference_id\u001b[39m\u001b[38;5;124m'\u001b[39m: \u001b[38;5;124m'\u001b[39m\u001b[38;5;124m55195\u001b[39m\u001b[38;5;124m'\u001b[39m,\n",
      "                 \u001b[38;5;124m'\u001b[39m\u001b[38;5;124mreference_name\u001b[39m\u001b[38;5;124m'\u001b[39m: \u001b[38;5;28;01mNone\u001b[39;00m},\n",
      "                {\u001b[38;5;124m'\u001b[39m\u001b[38;5;124mlocation_in_ref\u001b[39m\u001b[38;5;124m'\u001b[39m: \u001b[38;5;28;01mNone\u001b[39;00m,\n",
      "                 \u001b[38;5;124m'\u001b[39m\u001b[38;5;124mreference_db_name\u001b[39m\u001b[38;5;124m'\u001b[39m: \u001b[38;5;124m'\u001b[39m\u001b[38;5;124mBKMS-react\u001b[39m\u001b[38;5;124m'\u001b[39m,\n",
      "                 \u001b[38;5;124m'\u001b[39m\u001b[38;5;124mreference_id\u001b[39m\u001b[38;5;124m'\u001b[39m: \u001b[38;5;124m'\u001b[39m\u001b[38;5;124m2444\u001b[39m\u001b[38;5;124m'\u001b[39m,\n",
      "                 \u001b[38;5;124m'\u001b[39m\u001b[38;5;124mreference_name\u001b[39m\u001b[38;5;124m'\u001b[39m: \u001b[38;5;28;01mNone\u001b[39;00m},\n",
      "                {\u001b[38;5;124m'\u001b[39m\u001b[38;5;124mlocation_in_ref\u001b[39m\u001b[38;5;124m'\u001b[39m: \u001b[38;5;28;01mNone\u001b[39;00m,\n",
      "                 \u001b[38;5;124m'\u001b[39m\u001b[38;5;124mreference_db_name\u001b[39m\u001b[38;5;124m'\u001b[39m: \u001b[38;5;124m'\u001b[39m\u001b[38;5;124mBKMS-react\u001b[39m\u001b[38;5;124m'\u001b[39m,\n",
      "                 \u001b[38;5;124m'\u001b[39m\u001b[38;5;124mreference_id\u001b[39m\u001b[38;5;124m'\u001b[39m: \u001b[38;5;124m'\u001b[39m\u001b[38;5;124m240553\u001b[39m\u001b[38;5;124m'\u001b[39m,\n",
      "                 \u001b[38;5;124m'\u001b[39m\u001b[38;5;124mreference_name\u001b[39m\u001b[38;5;124m'\u001b[39m: \u001b[38;5;28;01mNone\u001b[39;00m},\n",
      "                {\u001b[38;5;124m'\u001b[39m\u001b[38;5;124mlocation_in_ref\u001b[39m\u001b[38;5;124m'\u001b[39m: \u001b[38;5;28;01mNone\u001b[39;00m,\n",
      "                 \u001b[38;5;124m'\u001b[39m\u001b[38;5;124mreference_db_name\u001b[39m\u001b[38;5;124m'\u001b[39m: \u001b[38;5;124m'\u001b[39m\u001b[38;5;124mBKMS-react\u001b[39m\u001b[38;5;124m'\u001b[39m,\n",
      "                 \u001b[38;5;124m'\u001b[39m\u001b[38;5;124mreference_id\u001b[39m\u001b[38;5;124m'\u001b[39m: \u001b[38;5;124m'\u001b[39m\u001b[38;5;124m3770\u001b[39m\u001b[38;5;124m'\u001b[39m,\n",
      "                 \u001b[38;5;124m'\u001b[39m\u001b[38;5;124mreference_name\u001b[39m\u001b[38;5;124m'\u001b[39m: \u001b[38;5;28;01mNone\u001b[39;00m},\n",
      "                {\u001b[38;5;124m'\u001b[39m\u001b[38;5;124mlocation_in_ref\u001b[39m\u001b[38;5;124m'\u001b[39m: \u001b[38;5;28;01mNone\u001b[39;00m,\n",
      "                 \u001b[38;5;124m'\u001b[39m\u001b[38;5;124mreference_db_name\u001b[39m\u001b[38;5;124m'\u001b[39m: \u001b[38;5;124m'\u001b[39m\u001b[38;5;124mBKMS-react\u001b[39m\u001b[38;5;124m'\u001b[39m,\n",
      "                 \u001b[38;5;124m'\u001b[39m\u001b[38;5;124mreference_id\u001b[39m\u001b[38;5;124m'\u001b[39m: \u001b[38;5;124m'\u001b[39m\u001b[38;5;124m80306\u001b[39m\u001b[38;5;124m'\u001b[39m,\n",
      "                 \u001b[38;5;124m'\u001b[39m\u001b[38;5;124mreference_name\u001b[39m\u001b[38;5;124m'\u001b[39m: \u001b[38;5;28;01mNone\u001b[39;00m},\n",
      "                {\u001b[38;5;124m'\u001b[39m\u001b[38;5;124mlocation_in_ref\u001b[39m\u001b[38;5;124m'\u001b[39m: \u001b[38;5;28;01mNone\u001b[39;00m,\n",
      "                 \u001b[38;5;124m'\u001b[39m\u001b[38;5;124mreference_db_name\u001b[39m\u001b[38;5;124m'\u001b[39m: \u001b[38;5;124m'\u001b[39m\u001b[38;5;124mACToR\u001b[39m\u001b[38;5;124m'\u001b[39m,\n",
      "                 \u001b[38;5;124m'\u001b[39m\u001b[38;5;124mreference_id\u001b[39m\u001b[38;5;124m'\u001b[39m: \u001b[38;5;124m'\u001b[39m\u001b[38;5;124m120014-06-4\u001b[39m\u001b[38;5;124m'\u001b[39m,\n",
      "                 \u001b[38;5;124m'\u001b[39m\u001b[38;5;124mreference_name\u001b[39m\u001b[38;5;124m'\u001b[39m: \u001b[38;5;28;01mNone\u001b[39;00m},\n",
      "                {\u001b[38;5;124m'\u001b[39m\u001b[38;5;124mlocation_in_ref\u001b[39m\u001b[38;5;124m'\u001b[39m: \u001b[38;5;28;01mNone\u001b[39;00m,\n",
      "                 \u001b[38;5;124m'\u001b[39m\u001b[38;5;124mreference_db_name\u001b[39m\u001b[38;5;124m'\u001b[39m: \u001b[38;5;124m'\u001b[39m\u001b[38;5;124mBindingDB\u001b[39m\u001b[38;5;124m'\u001b[39m,\n",
      "                 \u001b[38;5;124m'\u001b[39m\u001b[38;5;124mreference_id\u001b[39m\u001b[38;5;124m'\u001b[39m: \u001b[38;5;124m'\u001b[39m\u001b[38;5;124m8960\u001b[39m\u001b[38;5;124m'\u001b[39m,\n",
      "                 \u001b[38;5;124m'\u001b[39m\u001b[38;5;124mreference_name\u001b[39m\u001b[38;5;124m'\u001b[39m: \u001b[38;5;28;01mNone\u001b[39;00m}],\n",
      " \u001b[38;5;124m'\u001b[39m\u001b[38;5;124msource\u001b[39m\u001b[38;5;124m'\u001b[39m: \u001b[38;5;124m'\u001b[39m\u001b[38;5;124mChEBI\u001b[39m\u001b[38;5;124m'\u001b[39m,\n",
      " \u001b[38;5;124m'\u001b[39m\u001b[38;5;124mstatus\u001b[39m\u001b[38;5;124m'\u001b[39m: \u001b[38;5;124m'\u001b[39m\u001b[38;5;124mC\u001b[39m\u001b[38;5;124m'\u001b[39m}\n",
      "\n",
      "For further testing go to http://0.0.0.0:5000/ui/#/ChEBI/ebel.web.api.ebel.v1.chebi.get_compound_by_name\n"
     ]
    },
    {
     "data": {
      "text/html": [
       "<h2>3. Get ChEBI compound by other database accession number</h2>"
      ],
      "text/plain": [
       "<IPython.core.display.HTML object>"
      ]
     },
     "metadata": {},
     "output_type": "display_data"
    },
    {
     "data": {
      "text/html": [
       "<b style=\"color: rgb(98,98,98); text-decoration: underline;\">Description:</b> <p>Get ChEBI compound by other database accession number</p>"
      ],
      "text/plain": [
       "<IPython.core.display.HTML object>"
      ]
     },
     "metadata": {},
     "output_type": "display_data"
    },
    {
     "data": {
      "text/html": [
       "<b>Tags:</b> ['ChEBI']"
      ],
      "text/plain": [
       "<IPython.core.display.HTML object>"
      ]
     },
     "metadata": {},
     "output_type": "display_data"
    },
    {
     "data": {
      "text/html": [
       "<b>Server path:</b> /api/v1/chebi/compound/by_other_db_accession"
      ],
      "text/plain": [
       "<IPython.core.display.HTML object>"
      ]
     },
     "metadata": {},
     "output_type": "display_data"
    },
    {
     "data": {
      "text/html": [
       "<div>\n",
       "<style scoped>\n",
       "    .dataframe tbody tr th:only-of-type {\n",
       "        vertical-align: middle;\n",
       "    }\n",
       "\n",
       "    .dataframe tbody tr th {\n",
       "        vertical-align: top;\n",
       "    }\n",
       "\n",
       "    .dataframe thead th {\n",
       "        text-align: right;\n",
       "    }\n",
       "</style>\n",
       "<table border=\"1\" class=\"dataframe\">\n",
       "  <thead>\n",
       "    <tr style=\"text-align: right;\">\n",
       "      <th></th>\n",
       "      <th>data type</th>\n",
       "      <th>description</th>\n",
       "      <th>example</th>\n",
       "      <th>options</th>\n",
       "      <th>default</th>\n",
       "      <th>required</th>\n",
       "    </tr>\n",
       "    <tr>\n",
       "      <th>parameter name</th>\n",
       "      <th></th>\n",
       "      <th></th>\n",
       "      <th></th>\n",
       "      <th></th>\n",
       "      <th></th>\n",
       "      <th></th>\n",
       "    </tr>\n",
       "  </thead>\n",
       "  <tbody>\n",
       "    <tr>\n",
       "      <th>db_name</th>\n",
       "      <td>string</td>\n",
       "      <td>Database name</td>\n",
       "      <td>DrugBank accession</td>\n",
       "      <td></td>\n",
       "      <td></td>\n",
       "      <td>False</td>\n",
       "    </tr>\n",
       "    <tr>\n",
       "      <th>accession_number</th>\n",
       "      <td>string</td>\n",
       "      <td>Accession number/name</td>\n",
       "      <td>DB00843</td>\n",
       "      <td></td>\n",
       "      <td></td>\n",
       "      <td>True</td>\n",
       "    </tr>\n",
       "  </tbody>\n",
       "</table>\n",
       "</div>"
      ],
      "text/plain": [
       "                 data type            description             example options  \\\n",
       "parameter name                                                                  \n",
       "db_name             string          Database name  DrugBank accession           \n",
       "accession_number    string  Accession number/name             DB00843           \n",
       "\n",
       "                 default  required  \n",
       "parameter name                      \n",
       "db_name                      False  \n",
       "accession_number              True  "
      ]
     },
     "metadata": {},
     "output_type": "display_data"
    },
    {
     "data": {
      "text/html": [
       "<b>Example URL:</b> <a href=\"http://0.0.0.0:5000/api/v1/chebi/compound/by_other_db_accession?db_name=DrugBank+accession&accession_number=DB00843\">http://0.0.0.0:5000/api/v1/chebi/compound/by_other_db_accession?db_name=DrugBank+accession&accession_number=DB00843</a>"
      ],
      "text/plain": [
       "<IPython.core.display.HTML object>"
      ]
     },
     "metadata": {},
     "output_type": "display_data"
    },
    {
     "name": "stdout",
     "output_type": "stream",
     "text": [
      "\n",
      "The result is a list and have 2 entries. Here we show only the first entry.\n",
      "\n"
     ]
    },
    {
     "data": {
      "text/html": [
       "<b style=\"color: rgb(98,98,98); text-decoration: underline;\">Example response:</b>"
      ],
      "text/plain": [
       "<IPython.core.display.HTML object>"
      ]
     },
     "metadata": {},
     "output_type": "display_data"
    },
    {
     "name": "stdout",
     "output_type": "stream",
     "text": [
      "{\u001b[38;5;124m'\u001b[39m\u001b[38;5;124mchebi_accession\u001b[39m\u001b[38;5;124m'\u001b[39m: \u001b[38;5;124m'\u001b[39m\u001b[38;5;124mCHEBI:4696\u001b[39m\u001b[38;5;124m'\u001b[39m,\n",
      " \u001b[38;5;124m'\u001b[39m\u001b[38;5;124mchemicalData\u001b[39m\u001b[38;5;124m'\u001b[39m: [{\u001b[38;5;124m'\u001b[39m\u001b[38;5;124mchemical_data\u001b[39m\u001b[38;5;124m'\u001b[39m: \u001b[38;5;124m'\u001b[39m\u001b[38;5;124mC24H29NO3.HCl\u001b[39m\u001b[38;5;124m'\u001b[39m,\n",
      "                   \u001b[38;5;124m'\u001b[39m\u001b[38;5;124msource\u001b[39m\u001b[38;5;124m'\u001b[39m: \u001b[38;5;124m'\u001b[39m\u001b[38;5;124mKEGG COMPOUND\u001b[39m\u001b[38;5;124m'\u001b[39m,\n",
      "                   \u001b[38;5;124m'\u001b[39m\u001b[38;5;124mtype\u001b[39m\u001b[38;5;124m'\u001b[39m: \u001b[38;5;124m'\u001b[39m\u001b[38;5;124mFORMULA\u001b[39m\u001b[38;5;124m'\u001b[39m},\n",
      "                  {\u001b[38;5;124m'\u001b[39m\u001b[38;5;124mchemical_data\u001b[39m\u001b[38;5;124m'\u001b[39m: \u001b[38;5;124m'\u001b[39m\u001b[38;5;124m0\u001b[39m\u001b[38;5;124m'\u001b[39m, \u001b[38;5;124m'\u001b[39m\u001b[38;5;124msource\u001b[39m\u001b[38;5;124m'\u001b[39m: \u001b[38;5;124m'\u001b[39m\u001b[38;5;124mChEBI\u001b[39m\u001b[38;5;124m'\u001b[39m, \u001b[38;5;124m'\u001b[39m\u001b[38;5;124mtype\u001b[39m\u001b[38;5;124m'\u001b[39m: \u001b[38;5;124m'\u001b[39m\u001b[38;5;124mCHARGE\u001b[39m\u001b[38;5;124m'\u001b[39m},\n",
      "                  {\u001b[38;5;124m'\u001b[39m\u001b[38;5;124mchemical_data\u001b[39m\u001b[38;5;124m'\u001b[39m: \u001b[38;5;124m'\u001b[39m\u001b[38;5;124m415.960\u001b[39m\u001b[38;5;124m'\u001b[39m,\n",
      "                   \u001b[38;5;124m'\u001b[39m\u001b[38;5;124msource\u001b[39m\u001b[38;5;124m'\u001b[39m: \u001b[38;5;124m'\u001b[39m\u001b[38;5;124mChEBI\u001b[39m\u001b[38;5;124m'\u001b[39m,\n",
      "                   \u001b[38;5;124m'\u001b[39m\u001b[38;5;124mtype\u001b[39m\u001b[38;5;124m'\u001b[39m: \u001b[38;5;124m'\u001b[39m\u001b[38;5;124mMASS\u001b[39m\u001b[38;5;124m'\u001b[39m},\n",
      "                  {\u001b[38;5;124m'\u001b[39m\u001b[38;5;124mchemical_data\u001b[39m\u001b[38;5;124m'\u001b[39m: \u001b[38;5;124m'\u001b[39m\u001b[38;5;124m415.19142\u001b[39m\u001b[38;5;124m'\u001b[39m,\n",
      "                   \u001b[38;5;124m'\u001b[39m\u001b[38;5;124msource\u001b[39m\u001b[38;5;124m'\u001b[39m: \u001b[38;5;124m'\u001b[39m\u001b[38;5;124mChEBI\u001b[39m\u001b[38;5;124m'\u001b[39m,\n",
      "                   \u001b[38;5;124m'\u001b[39m\u001b[38;5;124mtype\u001b[39m\u001b[38;5;124m'\u001b[39m: \u001b[38;5;124m'\u001b[39m\u001b[38;5;124mMONOISOTOPIC MASS\u001b[39m\u001b[38;5;124m'\u001b[39m}],\n",
      " \u001b[38;5;124m'\u001b[39m\u001b[38;5;124mcomments\u001b[39m\u001b[38;5;124m'\u001b[39m: [],\n",
      " \u001b[38;5;124m'\u001b[39m\u001b[38;5;124mdatabase_accessions\u001b[39m\u001b[38;5;124m'\u001b[39m: [{\u001b[38;5;124m'\u001b[39m\u001b[38;5;124maccession_number\u001b[39m\u001b[38;5;124m'\u001b[39m: \u001b[38;5;124m'\u001b[39m\u001b[38;5;124mD00670\u001b[39m\u001b[38;5;124m'\u001b[39m,\n",
      "                          \u001b[38;5;124m'\u001b[39m\u001b[38;5;124msource\u001b[39m\u001b[38;5;124m'\u001b[39m: \u001b[38;5;124m'\u001b[39m\u001b[38;5;124mKEGG DRUG\u001b[39m\u001b[38;5;124m'\u001b[39m,\n",
      "                          \u001b[38;5;124m'\u001b[39m\u001b[38;5;124mtype\u001b[39m\u001b[38;5;124m'\u001b[39m: \u001b[38;5;124m'\u001b[39m\u001b[38;5;124mKEGG DRUG accession\u001b[39m\u001b[38;5;124m'\u001b[39m},\n",
      "                         {\u001b[38;5;124m'\u001b[39m\u001b[38;5;124maccession_number\u001b[39m\u001b[38;5;124m'\u001b[39m: \u001b[38;5;124m'\u001b[39m\u001b[38;5;124m120011-70-3\u001b[39m\u001b[38;5;124m'\u001b[39m,\n",
      "                          \u001b[38;5;124m'\u001b[39m\u001b[38;5;124msource\u001b[39m\u001b[38;5;124m'\u001b[39m: \u001b[38;5;124m'\u001b[39m\u001b[38;5;124mKEGG DRUG\u001b[39m\u001b[38;5;124m'\u001b[39m,\n",
      "                          \u001b[38;5;124m'\u001b[39m\u001b[38;5;124mtype\u001b[39m\u001b[38;5;124m'\u001b[39m: \u001b[38;5;124m'\u001b[39m\u001b[38;5;124mCAS Registry Number\u001b[39m\u001b[38;5;124m'\u001b[39m},\n",
      "                         {\u001b[38;5;124m'\u001b[39m\u001b[38;5;124maccession_number\u001b[39m\u001b[38;5;124m'\u001b[39m: \u001b[38;5;124m'\u001b[39m\u001b[38;5;124m7062905\u001b[39m\u001b[38;5;124m'\u001b[39m,\n",
      "                          \u001b[38;5;124m'\u001b[39m\u001b[38;5;124msource\u001b[39m\u001b[38;5;124m'\u001b[39m: \u001b[38;5;124m'\u001b[39m\u001b[38;5;124mBeilstein\u001b[39m\u001b[38;5;124m'\u001b[39m,\n",
      "                          \u001b[38;5;124m'\u001b[39m\u001b[38;5;124mtype\u001b[39m\u001b[38;5;124m'\u001b[39m: \u001b[38;5;124m'\u001b[39m\u001b[38;5;124mBeilstein Registry Number\u001b[39m\u001b[38;5;124m'\u001b[39m},\n",
      "                         {\u001b[38;5;124m'\u001b[39m\u001b[38;5;124maccession_number\u001b[39m\u001b[38;5;124m'\u001b[39m: \u001b[38;5;124m'\u001b[39m\u001b[38;5;124m120011-70-3\u001b[39m\u001b[38;5;124m'\u001b[39m,\n",
      "                          \u001b[38;5;124m'\u001b[39m\u001b[38;5;124msource\u001b[39m\u001b[38;5;124m'\u001b[39m: \u001b[38;5;124m'\u001b[39m\u001b[38;5;124mChemIDplus\u001b[39m\u001b[38;5;124m'\u001b[39m,\n",
      "                          \u001b[38;5;124m'\u001b[39m\u001b[38;5;124mtype\u001b[39m\u001b[38;5;124m'\u001b[39m: \u001b[38;5;124m'\u001b[39m\u001b[38;5;124mCAS Registry Number\u001b[39m\u001b[38;5;124m'\u001b[39m},\n",
      "                         {\u001b[38;5;124m'\u001b[39m\u001b[38;5;124maccession_number\u001b[39m\u001b[38;5;124m'\u001b[39m: \u001b[38;5;124m'\u001b[39m\u001b[38;5;124mDB00843\u001b[39m\u001b[38;5;124m'\u001b[39m,\n",
      "                          \u001b[38;5;124m'\u001b[39m\u001b[38;5;124msource\u001b[39m\u001b[38;5;124m'\u001b[39m: \u001b[38;5;124m'\u001b[39m\u001b[38;5;124mDrugBank\u001b[39m\u001b[38;5;124m'\u001b[39m,\n",
      "                          \u001b[38;5;124m'\u001b[39m\u001b[38;5;124mtype\u001b[39m\u001b[38;5;124m'\u001b[39m: \u001b[38;5;124m'\u001b[39m\u001b[38;5;124mDrugBank accession\u001b[39m\u001b[38;5;124m'\u001b[39m}],\n",
      " \u001b[38;5;124m'\u001b[39m\u001b[38;5;124mdefinition\u001b[39m\u001b[38;5;124m'\u001b[39m: \u001b[38;5;124m'\u001b[39m\u001b[38;5;124mA racemate comprising equimolar amounts of (R)- and (S)- \u001b[39m\u001b[38;5;124m'\u001b[39m\n",
      "               \u001b[38;5;124m'\u001b[39m\u001b[38;5;124mdonepezil hydrochloride. Its main therapeutic use is in the \u001b[39m\u001b[38;5;124m'\u001b[39m\n",
      "               \u001b[38;5;124m\"\u001b[39m\u001b[38;5;124mtreatment of Alzheimer\u001b[39m\u001b[38;5;124m'\u001b[39m\u001b[38;5;124ms disease where it is used to increase \u001b[39m\u001b[38;5;124m\"\u001b[39m\n",
      "               \u001b[38;5;124m'\u001b[39m\u001b[38;5;124mcortical acetylcholine.\u001b[39m\u001b[38;5;124m'\u001b[39m,\n",
      " \u001b[38;5;124m'\u001b[39m\u001b[38;5;124minchis\u001b[39m\u001b[38;5;124m'\u001b[39m: [],\n",
      " \u001b[38;5;124m'\u001b[39m\u001b[38;5;124mname\u001b[39m\u001b[38;5;124m'\u001b[39m: \u001b[38;5;124m'\u001b[39m\u001b[38;5;124mdonepezil hydrochloride\u001b[39m\u001b[38;5;124m'\u001b[39m,\n",
      " \u001b[38;5;124m'\u001b[39m\u001b[38;5;124mnames\u001b[39m\u001b[38;5;124m'\u001b[39m: [{\u001b[38;5;124m'\u001b[39m\u001b[38;5;124madapted\u001b[39m\u001b[38;5;124m'\u001b[39m: \u001b[38;5;124m'\u001b[39m\u001b[38;5;124mF\u001b[39m\u001b[38;5;124m'\u001b[39m,\n",
      "            \u001b[38;5;124m'\u001b[39m\u001b[38;5;124mlanguage\u001b[39m\u001b[38;5;124m'\u001b[39m: \u001b[38;5;124m'\u001b[39m\u001b[38;5;124men\u001b[39m\u001b[38;5;124m'\u001b[39m,\n",
      "            \u001b[38;5;124m'\u001b[39m\u001b[38;5;124mname\u001b[39m\u001b[38;5;124m'\u001b[39m: \u001b[38;5;124m'\u001b[39m\u001b[38;5;124m(+-)-2-((1-Benzyl-4-piperidyl)methyl)-5,6-dimethoxy-1-indanone \u001b[39m\u001b[38;5;124m'\u001b[39m\n",
      "                    \u001b[38;5;124m'\u001b[39m\u001b[38;5;124mhydrochloride\u001b[39m\u001b[38;5;124m'\u001b[39m,\n",
      "            \u001b[38;5;124m'\u001b[39m\u001b[38;5;124msource\u001b[39m\u001b[38;5;124m'\u001b[39m: \u001b[38;5;124m'\u001b[39m\u001b[38;5;124mChemIDplus\u001b[39m\u001b[38;5;124m'\u001b[39m,\n",
      "            \u001b[38;5;124m'\u001b[39m\u001b[38;5;124mtype\u001b[39m\u001b[38;5;124m'\u001b[39m: \u001b[38;5;124m'\u001b[39m\u001b[38;5;124mSYNONYM\u001b[39m\u001b[38;5;124m'\u001b[39m},\n",
      "           {\u001b[38;5;124m'\u001b[39m\u001b[38;5;124madapted\u001b[39m\u001b[38;5;124m'\u001b[39m: \u001b[38;5;124m'\u001b[39m\u001b[38;5;124mF\u001b[39m\u001b[38;5;124m'\u001b[39m,\n",
      "            \u001b[38;5;124m'\u001b[39m\u001b[38;5;124mlanguage\u001b[39m\u001b[38;5;124m'\u001b[39m: \u001b[38;5;124m'\u001b[39m\u001b[38;5;124men\u001b[39m\u001b[38;5;124m'\u001b[39m,\n",
      "            \u001b[38;5;124m'\u001b[39m\u001b[38;5;124mname\u001b[39m\u001b[38;5;124m'\u001b[39m: \u001b[38;5;124m'\u001b[39m\u001b[38;5;124m1-Benzyl-4-((5,6-dimethoxy-1-indanon)-2-yl)methylpiperidine \u001b[39m\u001b[38;5;124m'\u001b[39m\n",
      "                    \u001b[38;5;124m'\u001b[39m\u001b[38;5;124mhcl\u001b[39m\u001b[38;5;124m'\u001b[39m,\n",
      "            \u001b[38;5;124m'\u001b[39m\u001b[38;5;124msource\u001b[39m\u001b[38;5;124m'\u001b[39m: \u001b[38;5;124m'\u001b[39m\u001b[38;5;124mChemIDplus\u001b[39m\u001b[38;5;124m'\u001b[39m,\n",
      "            \u001b[38;5;124m'\u001b[39m\u001b[38;5;124mtype\u001b[39m\u001b[38;5;124m'\u001b[39m: \u001b[38;5;124m'\u001b[39m\u001b[38;5;124mSYNONYM\u001b[39m\u001b[38;5;124m'\u001b[39m},\n",
      "           {\u001b[38;5;124m'\u001b[39m\u001b[38;5;124madapted\u001b[39m\u001b[38;5;124m'\u001b[39m: \u001b[38;5;124m'\u001b[39m\u001b[38;5;124mF\u001b[39m\u001b[38;5;124m'\u001b[39m,\n",
      "            \u001b[38;5;124m'\u001b[39m\u001b[38;5;124mlanguage\u001b[39m\u001b[38;5;124m'\u001b[39m: \u001b[38;5;124m'\u001b[39m\u001b[38;5;124men\u001b[39m\u001b[38;5;124m'\u001b[39m,\n",
      "            \u001b[38;5;124m'\u001b[39m\u001b[38;5;124mname\u001b[39m\u001b[38;5;124m'\u001b[39m: \u001b[38;5;124m'\u001b[39m\u001b[38;5;124mDonepezil HCl\u001b[39m\u001b[38;5;124m'\u001b[39m,\n",
      "            \u001b[38;5;124m'\u001b[39m\u001b[38;5;124msource\u001b[39m\u001b[38;5;124m'\u001b[39m: \u001b[38;5;124m'\u001b[39m\u001b[38;5;124mChemIDplus\u001b[39m\u001b[38;5;124m'\u001b[39m,\n",
      "            \u001b[38;5;124m'\u001b[39m\u001b[38;5;124mtype\u001b[39m\u001b[38;5;124m'\u001b[39m: \u001b[38;5;124m'\u001b[39m\u001b[38;5;124mSYNONYM\u001b[39m\u001b[38;5;124m'\u001b[39m},\n",
      "           {\u001b[38;5;124m'\u001b[39m\u001b[38;5;124madapted\u001b[39m\u001b[38;5;124m'\u001b[39m: \u001b[38;5;124m'\u001b[39m\u001b[38;5;124mF\u001b[39m\u001b[38;5;124m'\u001b[39m,\n",
      "            \u001b[38;5;124m'\u001b[39m\u001b[38;5;124mlanguage\u001b[39m\u001b[38;5;124m'\u001b[39m: \u001b[38;5;124m'\u001b[39m\u001b[38;5;124men\u001b[39m\u001b[38;5;124m'\u001b[39m,\n",
      "            \u001b[38;5;124m'\u001b[39m\u001b[38;5;124mname\u001b[39m\u001b[38;5;124m'\u001b[39m: \u001b[38;5;124m'\u001b[39m\u001b[38;5;124mrac-1-benzyl-4-[(5,6-dimethoxy-1-oxo-2,3-dihydro-1H-inden-2-yl)methyl]piperidinium \u001b[39m\u001b[38;5;124m'\u001b[39m\n",
      "                    \u001b[38;5;124m'\u001b[39m\u001b[38;5;124mchloride\u001b[39m\u001b[38;5;124m'\u001b[39m,\n",
      "            \u001b[38;5;124m'\u001b[39m\u001b[38;5;124msource\u001b[39m\u001b[38;5;124m'\u001b[39m: \u001b[38;5;124m'\u001b[39m\u001b[38;5;124mIUPAC\u001b[39m\u001b[38;5;124m'\u001b[39m,\n",
      "            \u001b[38;5;124m'\u001b[39m\u001b[38;5;124mtype\u001b[39m\u001b[38;5;124m'\u001b[39m: \u001b[38;5;124m'\u001b[39m\u001b[38;5;124mIUPAC NAME\u001b[39m\u001b[38;5;124m'\u001b[39m},\n",
      "           {\u001b[38;5;124m'\u001b[39m\u001b[38;5;124madapted\u001b[39m\u001b[38;5;124m'\u001b[39m: \u001b[38;5;124m'\u001b[39m\u001b[38;5;124mF\u001b[39m\u001b[38;5;124m'\u001b[39m,\n",
      "            \u001b[38;5;124m'\u001b[39m\u001b[38;5;124mlanguage\u001b[39m\u001b[38;5;124m'\u001b[39m: \u001b[38;5;124m'\u001b[39m\u001b[38;5;124men\u001b[39m\u001b[38;5;124m'\u001b[39m,\n",
      "            \u001b[38;5;124m'\u001b[39m\u001b[38;5;124mname\u001b[39m\u001b[38;5;124m'\u001b[39m: \u001b[38;5;124m'\u001b[39m\u001b[38;5;124mrac-2-[(1-benzylpiperidin-4-yl)methyl]-5,6-dimethoxyindan-1-one \u001b[39m\u001b[38;5;124m'\u001b[39m\n",
      "                    \u001b[38;5;124m'\u001b[39m\u001b[38;5;124mhydrochloride\u001b[39m\u001b[38;5;124m'\u001b[39m,\n",
      "            \u001b[38;5;124m'\u001b[39m\u001b[38;5;124msource\u001b[39m\u001b[38;5;124m'\u001b[39m: \u001b[38;5;124m'\u001b[39m\u001b[38;5;124mIUPAC\u001b[39m\u001b[38;5;124m'\u001b[39m,\n",
      "            \u001b[38;5;124m'\u001b[39m\u001b[38;5;124mtype\u001b[39m\u001b[38;5;124m'\u001b[39m: \u001b[38;5;124m'\u001b[39m\u001b[38;5;124mIUPAC NAME\u001b[39m\u001b[38;5;124m'\u001b[39m}],\n",
      " \u001b[38;5;124m'\u001b[39m\u001b[38;5;124mparent_id\u001b[39m\u001b[38;5;124m'\u001b[39m: \u001b[38;5;28;01mNone\u001b[39;00m,\n",
      " \u001b[38;5;124m'\u001b[39m\u001b[38;5;124mreferences\u001b[39m\u001b[38;5;124m'\u001b[39m: [],\n",
      " \u001b[38;5;124m'\u001b[39m\u001b[38;5;124msource\u001b[39m\u001b[38;5;124m'\u001b[39m: \u001b[38;5;124m'\u001b[39m\u001b[38;5;124mKEGG COMPOUND\u001b[39m\u001b[38;5;124m'\u001b[39m,\n",
      " \u001b[38;5;124m'\u001b[39m\u001b[38;5;124mstatus\u001b[39m\u001b[38;5;124m'\u001b[39m: \u001b[38;5;124m'\u001b[39m\u001b[38;5;124mC\u001b[39m\u001b[38;5;124m'\u001b[39m}\n",
      "\n",
      "For further testing go to http://0.0.0.0:5000/ui/#/ChEBI/ebel.web.api.ebel.v1.chebi.get_compound_by_other_db_accession\n"
     ]
    },
    {
     "data": {
      "text/html": [
       "<h2>4. Get ChEBI compound by name</h2>"
      ],
      "text/plain": [
       "<IPython.core.display.HTML object>"
      ]
     },
     "metadata": {},
     "output_type": "display_data"
    },
    {
     "data": {
      "text/html": [
       "<b style=\"color: rgb(98,98,98); text-decoration: underline;\">Description:</b> <p>Get ChEBI compound by name</p>"
      ],
      "text/plain": [
       "<IPython.core.display.HTML object>"
      ]
     },
     "metadata": {},
     "output_type": "display_data"
    },
    {
     "data": {
      "text/html": [
       "<b>Tags:</b> ['ChEBI']"
      ],
      "text/plain": [
       "<IPython.core.display.HTML object>"
      ]
     },
     "metadata": {},
     "output_type": "display_data"
    },
    {
     "data": {
      "text/html": [
       "<b>Server path:</b> /api/v1/chebi/compound_name/by_name_starts_with"
      ],
      "text/plain": [
       "<IPython.core.display.HTML object>"
      ]
     },
     "metadata": {},
     "output_type": "display_data"
    },
    {
     "data": {
      "text/html": [
       "<div>\n",
       "<style scoped>\n",
       "    .dataframe tbody tr th:only-of-type {\n",
       "        vertical-align: middle;\n",
       "    }\n",
       "\n",
       "    .dataframe tbody tr th {\n",
       "        vertical-align: top;\n",
       "    }\n",
       "\n",
       "    .dataframe thead th {\n",
       "        text-align: right;\n",
       "    }\n",
       "</style>\n",
       "<table border=\"1\" class=\"dataframe\">\n",
       "  <thead>\n",
       "    <tr style=\"text-align: right;\">\n",
       "      <th></th>\n",
       "      <th>data type</th>\n",
       "      <th>description</th>\n",
       "      <th>example</th>\n",
       "      <th>options</th>\n",
       "      <th>default</th>\n",
       "      <th>required</th>\n",
       "    </tr>\n",
       "    <tr>\n",
       "      <th>parameter name</th>\n",
       "      <th></th>\n",
       "      <th></th>\n",
       "      <th></th>\n",
       "      <th></th>\n",
       "      <th></th>\n",
       "      <th></th>\n",
       "    </tr>\n",
       "  </thead>\n",
       "  <tbody>\n",
       "    <tr>\n",
       "      <th>name</th>\n",
       "      <td>string</td>\n",
       "      <td>Compound name</td>\n",
       "      <td>don</td>\n",
       "      <td></td>\n",
       "      <td></td>\n",
       "      <td>True</td>\n",
       "    </tr>\n",
       "  </tbody>\n",
       "</table>\n",
       "</div>"
      ],
      "text/plain": [
       "               data type    description example options default  required\n",
       "parameter name                                                           \n",
       "name              string  Compound name     don                      True"
      ]
     },
     "metadata": {},
     "output_type": "display_data"
    },
    {
     "data": {
      "text/html": [
       "<b>Example URL:</b> <a href=\"http://0.0.0.0:5000/api/v1/chebi/compound_name/by_name_starts_with?name=don\">http://0.0.0.0:5000/api/v1/chebi/compound_name/by_name_starts_with?name=don</a>"
      ],
      "text/plain": [
       "<IPython.core.display.HTML object>"
      ]
     },
     "metadata": {},
     "output_type": "display_data"
    },
    {
     "data": {
      "text/html": [
       "<b style=\"color: rgb(98,98,98); text-decoration: underline;\">Example response:</b>"
      ],
      "text/plain": [
       "<IPython.core.display.HTML object>"
      ]
     },
     "metadata": {},
     "output_type": "display_data"
    },
    {
     "name": "stdout",
     "output_type": "stream",
     "text": [
      "{\u001b[38;5;124m'\u001b[39m\u001b[38;5;124mDON-10-S-cysteine\u001b[39m\u001b[38;5;124m'\u001b[39m: \u001b[38;5;241m149447\u001b[39m,\n",
      " \u001b[38;5;124m'\u001b[39m\u001b[38;5;124mDON-10-gamma-glutamylcysteine\u001b[39m\u001b[38;5;124m'\u001b[39m: \u001b[38;5;241m149450\u001b[39m,\n",
      " \u001b[38;5;124m'\u001b[39m\u001b[38;5;124mDON-10-glutathione\u001b[39m\u001b[38;5;124m'\u001b[39m: \u001b[38;5;241m149452\u001b[39m,\n",
      " \u001b[38;5;124m'\u001b[39m\u001b[38;5;124mDON-10-isoleucine\u001b[39m\u001b[38;5;124m'\u001b[39m: \u001b[38;5;241m149454\u001b[39m,\n",
      " \u001b[38;5;124m'\u001b[39m\u001b[38;5;124mDON-10-leucine\u001b[39m\u001b[38;5;124m'\u001b[39m: \u001b[38;5;241m149456\u001b[39m,\n",
      " \u001b[38;5;124m'\u001b[39m\u001b[38;5;124mDON-10-phenylalanine\u001b[39m\u001b[38;5;124m'\u001b[39m: \u001b[38;5;241m149457\u001b[39m,\n",
      " \u001b[38;5;124m'\u001b[39m\u001b[38;5;124mDON-10-tyrosine\u001b[39m\u001b[38;5;124m'\u001b[39m: \u001b[38;5;241m149459\u001b[39m,\n",
      " \u001b[38;5;124m'\u001b[39m\u001b[38;5;124mDON-13-S-cysteine\u001b[39m\u001b[38;5;124m'\u001b[39m: \u001b[38;5;241m149448\u001b[39m,\n",
      " \u001b[38;5;124m'\u001b[39m\u001b[38;5;124mDON-15-penicillin G\u001b[39m\u001b[38;5;124m'\u001b[39m: \u001b[38;5;241m149460\u001b[39m,\n",
      " \u001b[38;5;124m'\u001b[39m\u001b[38;5;124mDON-15-sulfate\u001b[39m\u001b[38;5;124m'\u001b[39m: \u001b[38;5;241m149455\u001b[39m,\n",
      " \u001b[38;5;124m'\u001b[39m\u001b[38;5;124mDON-3-sulfate\u001b[39m\u001b[38;5;124m'\u001b[39m: \u001b[38;5;241m149449\u001b[39m,\n",
      " \u001b[38;5;124m'\u001b[39m\u001b[38;5;124mDON-sulfonate 1\u001b[39m\u001b[38;5;124m'\u001b[39m: \u001b[38;5;241m149440\u001b[39m,\n",
      " \u001b[38;5;124m'\u001b[39m\u001b[38;5;124mDON-sulfonate 2\u001b[39m\u001b[38;5;124m'\u001b[39m: \u001b[38;5;241m149442\u001b[39m,\n",
      " \u001b[38;5;124m'\u001b[39m\u001b[38;5;124mDON-sulfonate 3\u001b[39m\u001b[38;5;124m'\u001b[39m: \u001b[38;5;241m149446\u001b[39m,\n",
      " \u001b[38;5;124m'\u001b[39m\u001b[38;5;124mDonepezil metabolite M4\u001b[39m\u001b[38;5;124m'\u001b[39m: \u001b[38;5;241m174058\u001b[39m,\n",
      " \u001b[38;5;124m'\u001b[39m\u001b[38;5;124mDonhexocin\u001b[39m\u001b[38;5;124m'\u001b[39m: \u001b[38;5;241m173302\u001b[39m,\n",
      " \u001b[38;5;124m'\u001b[39m\u001b[38;5;124mdonepezil\u001b[39m\u001b[38;5;124m'\u001b[39m: \u001b[38;5;241m53289\u001b[39m,\n",
      " \u001b[38;5;124m'\u001b[39m\u001b[38;5;124mdonepezil (1+)\u001b[39m\u001b[38;5;124m'\u001b[39m: \u001b[38;5;241m145498\u001b[39m,\n",
      " \u001b[38;5;124m'\u001b[39m\u001b[38;5;124mdonepezil hydrochloride\u001b[39m\u001b[38;5;124m'\u001b[39m: \u001b[38;5;241m4696\u001b[39m,\n",
      " \u001b[38;5;124m'\u001b[39m\u001b[38;5;124mdonor\u001b[39m\u001b[38;5;124m'\u001b[39m: \u001b[38;5;241m17891\u001b[39m}\n",
      "\n",
      "For further testing go to http://0.0.0.0:5000/ui/#/ChEBI/ebel.web.api.ebel.v1.chebi.get_compound_name_by_name_starts_with\n"
     ]
    },
    {
     "data": {
      "text/html": [
       "<h2>5. Get ChEBI compound reference (like patents)</h2>"
      ],
      "text/plain": [
       "<IPython.core.display.HTML object>"
      ]
     },
     "metadata": {},
     "output_type": "display_data"
    },
    {
     "data": {
      "text/html": [
       "<b style=\"color: rgb(98,98,98); text-decoration: underline;\">Description:</b> <p>Get ChEBI compound reference</p>"
      ],
      "text/plain": [
       "<IPython.core.display.HTML object>"
      ]
     },
     "metadata": {},
     "output_type": "display_data"
    },
    {
     "data": {
      "text/html": [
       "<b>Tags:</b> ['ChEBI']"
      ],
      "text/plain": [
       "<IPython.core.display.HTML object>"
      ]
     },
     "metadata": {},
     "output_type": "display_data"
    },
    {
     "data": {
      "text/html": [
       "<b>Server path:</b> /api/v1/chebi/compound_reference"
      ],
      "text/plain": [
       "<IPython.core.display.HTML object>"
      ]
     },
     "metadata": {},
     "output_type": "display_data"
    },
    {
     "data": {
      "text/html": [
       "<div>\n",
       "<style scoped>\n",
       "    .dataframe tbody tr th:only-of-type {\n",
       "        vertical-align: middle;\n",
       "    }\n",
       "\n",
       "    .dataframe tbody tr th {\n",
       "        vertical-align: top;\n",
       "    }\n",
       "\n",
       "    .dataframe thead th {\n",
       "        text-align: right;\n",
       "    }\n",
       "</style>\n",
       "<table border=\"1\" class=\"dataframe\">\n",
       "  <thead>\n",
       "    <tr style=\"text-align: right;\">\n",
       "      <th></th>\n",
       "      <th>data type</th>\n",
       "      <th>description</th>\n",
       "      <th>example</th>\n",
       "      <th>options</th>\n",
       "      <th>default</th>\n",
       "      <th>required</th>\n",
       "    </tr>\n",
       "    <tr>\n",
       "      <th>parameter name</th>\n",
       "      <th></th>\n",
       "      <th></th>\n",
       "      <th></th>\n",
       "      <th></th>\n",
       "      <th></th>\n",
       "      <th></th>\n",
       "    </tr>\n",
       "  </thead>\n",
       "  <tbody>\n",
       "    <tr>\n",
       "      <th>reference_id</th>\n",
       "      <td>string</td>\n",
       "      <td></td>\n",
       "      <td>US2006025345</td>\n",
       "      <td></td>\n",
       "      <td></td>\n",
       "      <td>False</td>\n",
       "    </tr>\n",
       "    <tr>\n",
       "      <th>reference_db_name</th>\n",
       "      <td>string</td>\n",
       "      <td></td>\n",
       "      <td>Patent</td>\n",
       "      <td></td>\n",
       "      <td></td>\n",
       "      <td>False</td>\n",
       "    </tr>\n",
       "    <tr>\n",
       "      <th>location_in_ref</th>\n",
       "      <td>string</td>\n",
       "      <td></td>\n",
       "      <td></td>\n",
       "      <td></td>\n",
       "      <td></td>\n",
       "      <td>False</td>\n",
       "    </tr>\n",
       "    <tr>\n",
       "      <th>reference_name</th>\n",
       "      <td>string</td>\n",
       "      <td></td>\n",
       "      <td>Substituted ethane-1,2-diamines for the treatm...</td>\n",
       "      <td></td>\n",
       "      <td></td>\n",
       "      <td>False</td>\n",
       "    </tr>\n",
       "    <tr>\n",
       "      <th>compound_id</th>\n",
       "      <td>integer</td>\n",
       "      <td>ChEBI compound ID</td>\n",
       "      <td></td>\n",
       "      <td></td>\n",
       "      <td></td>\n",
       "      <td>False</td>\n",
       "    </tr>\n",
       "    <tr>\n",
       "      <th>page_size</th>\n",
       "      <td>integer</td>\n",
       "      <td>Results per page</td>\n",
       "      <td>1</td>\n",
       "      <td></td>\n",
       "      <td>10.0</td>\n",
       "      <td>False</td>\n",
       "    </tr>\n",
       "    <tr>\n",
       "      <th>page</th>\n",
       "      <td>integer</td>\n",
       "      <td>Page number (starting with 1)</td>\n",
       "      <td>1</td>\n",
       "      <td></td>\n",
       "      <td>1.0</td>\n",
       "      <td>False</td>\n",
       "    </tr>\n",
       "  </tbody>\n",
       "</table>\n",
       "</div>"
      ],
      "text/plain": [
       "                  data type                    description  \\\n",
       "parameter name                                               \n",
       "reference_id         string                                  \n",
       "reference_db_name    string                                  \n",
       "location_in_ref      string                                  \n",
       "reference_name       string                                  \n",
       "compound_id         integer              ChEBI compound ID   \n",
       "page_size           integer               Results per page   \n",
       "page                integer  Page number (starting with 1)   \n",
       "\n",
       "                                                             example options  \\\n",
       "parameter name                                                                 \n",
       "reference_id                                            US2006025345           \n",
       "reference_db_name                                             Patent           \n",
       "location_in_ref                                                                \n",
       "reference_name     Substituted ethane-1,2-diamines for the treatm...           \n",
       "compound_id                                                                    \n",
       "page_size                                                          1           \n",
       "page                                                               1           \n",
       "\n",
       "                  default  required  \n",
       "parameter name                       \n",
       "reference_id                  False  \n",
       "reference_db_name             False  \n",
       "location_in_ref               False  \n",
       "reference_name                False  \n",
       "compound_id                   False  \n",
       "page_size            10.0     False  \n",
       "page                  1.0     False  "
      ]
     },
     "metadata": {},
     "output_type": "display_data"
    },
    {
     "data": {
      "text/html": [
       "<b>Example URL:</b> <a href=\"http://0.0.0.0:5000/api/v1/chebi/compound_reference?reference_id=US2006025345&reference_db_name=Patent&reference_name=Substituted+ethane-1%2C2-diamines+for+the+treatment+of+Alzheimer%27s+disease&page_size=1&page=1\">http://0.0.0.0:5000/api/v1/chebi/compound_reference?reference_id=US2006025345&reference_db_name=Patent&reference_name=Substituted+ethane-1%2C2-diamines+for+the+treatment+of+Alzheimer%27s+disease&page_size=1&page=1</a>"
      ],
      "text/plain": [
       "<IPython.core.display.HTML object>"
      ]
     },
     "metadata": {},
     "output_type": "display_data"
    },
    {
     "data": {
      "text/html": [
       "<b style=\"color: rgb(98,98,98); text-decoration: underline;\">Example response:</b>"
      ],
      "text/plain": [
       "<IPython.core.display.HTML object>"
      ]
     },
     "metadata": {},
     "output_type": "display_data"
    },
    {
     "name": "stdout",
     "output_type": "stream",
     "text": [
      "{\u001b[38;5;124m'\u001b[39m\u001b[38;5;124mnumber_of_results\u001b[39m\u001b[38;5;124m'\u001b[39m: \u001b[38;5;241m22\u001b[39m,\n",
      " \u001b[38;5;124m'\u001b[39m\u001b[38;5;124mpage\u001b[39m\u001b[38;5;124m'\u001b[39m: \u001b[38;5;241m1\u001b[39m,\n",
      " \u001b[38;5;124m'\u001b[39m\u001b[38;5;124mpage_size\u001b[39m\u001b[38;5;124m'\u001b[39m: \u001b[38;5;241m1\u001b[39m,\n",
      " \u001b[38;5;124m'\u001b[39m\u001b[38;5;124mpages\u001b[39m\u001b[38;5;124m'\u001b[39m: \u001b[38;5;241m22\u001b[39m,\n",
      " \u001b[38;5;124m'\u001b[39m\u001b[38;5;124mresults\u001b[39m\u001b[38;5;124m'\u001b[39m: [{\u001b[38;5;124m'\u001b[39m\u001b[38;5;124mcompound_id\u001b[39m\u001b[38;5;124m'\u001b[39m: \u001b[38;5;241m17596\u001b[39m,\n",
      "              \u001b[38;5;124m'\u001b[39m\u001b[38;5;124mlocation_in_ref\u001b[39m\u001b[38;5;124m'\u001b[39m: \u001b[38;5;28;01mNone\u001b[39;00m,\n",
      "              \u001b[38;5;124m'\u001b[39m\u001b[38;5;124mreference_db_name\u001b[39m\u001b[38;5;124m'\u001b[39m: \u001b[38;5;124m'\u001b[39m\u001b[38;5;124mPatent\u001b[39m\u001b[38;5;124m'\u001b[39m,\n",
      "              \u001b[38;5;124m'\u001b[39m\u001b[38;5;124mreference_id\u001b[39m\u001b[38;5;124m'\u001b[39m: \u001b[38;5;124m'\u001b[39m\u001b[38;5;124mUS2006025345\u001b[39m\u001b[38;5;124m'\u001b[39m,\n",
      "              \u001b[38;5;124m'\u001b[39m\u001b[38;5;124mreference_name\u001b[39m\u001b[38;5;124m'\u001b[39m: \u001b[38;5;124m'\u001b[39m\u001b[38;5;124mSubstituted ethane-1,2-diamines for the \u001b[39m\u001b[38;5;124m'\u001b[39m\n",
      "                                \u001b[38;5;124m\"\u001b[39m\u001b[38;5;124mtreatment of Alzheimer\u001b[39m\u001b[38;5;124m'\u001b[39m\u001b[38;5;124ms disease\u001b[39m\u001b[38;5;124m\"\u001b[39m}]}\n",
      "\n",
      "For further testing go to http://0.0.0.0:5000/ui/#/ChEBI/ebel.web.api.ebel.v1.chebi.get_compound_reference\n"
     ]
    },
    {
     "data": {
      "text/html": [
       "<h2>6. Get ChEBI nodes in e(BE:L) knowledge graph</h2>"
      ],
      "text/plain": [
       "<IPython.core.display.HTML object>"
      ]
     },
     "metadata": {},
     "output_type": "display_data"
    },
    {
     "data": {
      "text/html": [
       "<b style=\"color: rgb(98,98,98); text-decoration: underline;\">Description:</b> <p>Get ChEBI IDs in e(BE:L)</p>"
      ],
      "text/plain": [
       "<IPython.core.display.HTML object>"
      ]
     },
     "metadata": {},
     "output_type": "display_data"
    },
    {
     "data": {
      "text/html": [
       "<b>Tags:</b> ['ChEBI', 'e(BE:L)']"
      ],
      "text/plain": [
       "<IPython.core.display.HTML object>"
      ]
     },
     "metadata": {},
     "output_type": "display_data"
    },
    {
     "data": {
      "text/html": [
       "<b>Server path:</b> /api/v1/chebi/ebel/nodes"
      ],
      "text/plain": [
       "<IPython.core.display.HTML object>"
      ]
     },
     "metadata": {},
     "output_type": "display_data"
    },
    {
     "data": {
      "text/html": [
       "<div>\n",
       "<style scoped>\n",
       "    .dataframe tbody tr th:only-of-type {\n",
       "        vertical-align: middle;\n",
       "    }\n",
       "\n",
       "    .dataframe tbody tr th {\n",
       "        vertical-align: top;\n",
       "    }\n",
       "\n",
       "    .dataframe thead th {\n",
       "        text-align: right;\n",
       "    }\n",
       "</style>\n",
       "<table border=\"1\" class=\"dataframe\">\n",
       "  <thead>\n",
       "    <tr style=\"text-align: right;\">\n",
       "      <th></th>\n",
       "      <th>data type</th>\n",
       "      <th>description</th>\n",
       "      <th>example</th>\n",
       "      <th>options</th>\n",
       "      <th>default</th>\n",
       "      <th>required</th>\n",
       "    </tr>\n",
       "    <tr>\n",
       "      <th>parameter name</th>\n",
       "      <th></th>\n",
       "      <th></th>\n",
       "      <th></th>\n",
       "      <th></th>\n",
       "      <th></th>\n",
       "      <th></th>\n",
       "    </tr>\n",
       "  </thead>\n",
       "  <tbody>\n",
       "    <tr>\n",
       "      <th>name</th>\n",
       "      <td>string</td>\n",
       "      <td>BEL name</td>\n",
       "      <td>ATP</td>\n",
       "      <td></td>\n",
       "      <td></td>\n",
       "      <td>False</td>\n",
       "    </tr>\n",
       "    <tr>\n",
       "      <th>namespace</th>\n",
       "      <td>string</td>\n",
       "      <td>BEL namespace</td>\n",
       "      <td>CHEBI</td>\n",
       "      <td></td>\n",
       "      <td></td>\n",
       "      <td>False</td>\n",
       "    </tr>\n",
       "    <tr>\n",
       "      <th>chebi</th>\n",
       "      <td>integer</td>\n",
       "      <td>CHEBI identifer</td>\n",
       "      <td>15422</td>\n",
       "      <td></td>\n",
       "      <td></td>\n",
       "      <td>False</td>\n",
       "    </tr>\n",
       "    <tr>\n",
       "      <th>page_size</th>\n",
       "      <td>integer</td>\n",
       "      <td>Results per page</td>\n",
       "      <td>1</td>\n",
       "      <td></td>\n",
       "      <td>10.0</td>\n",
       "      <td>False</td>\n",
       "    </tr>\n",
       "    <tr>\n",
       "      <th>page</th>\n",
       "      <td>integer</td>\n",
       "      <td>Page number (starting with 1)</td>\n",
       "      <td>1</td>\n",
       "      <td></td>\n",
       "      <td>1.0</td>\n",
       "      <td>False</td>\n",
       "    </tr>\n",
       "  </tbody>\n",
       "</table>\n",
       "</div>"
      ],
      "text/plain": [
       "               data type                    description example options  \\\n",
       "parameter name                                                            \n",
       "name              string                       BEL name     ATP           \n",
       "namespace         string                  BEL namespace   CHEBI           \n",
       "chebi            integer                CHEBI identifer   15422           \n",
       "page_size        integer               Results per page       1           \n",
       "page             integer  Page number (starting with 1)       1           \n",
       "\n",
       "               default  required  \n",
       "parameter name                    \n",
       "name                       False  \n",
       "namespace                  False  \n",
       "chebi                      False  \n",
       "page_size         10.0     False  \n",
       "page               1.0     False  "
      ]
     },
     "metadata": {},
     "output_type": "display_data"
    },
    {
     "data": {
      "text/html": [
       "<b>Example URL:</b> <a href=\"http://0.0.0.0:5000/api/v1/chebi/ebel/nodes?name=ATP&namespace=CHEBI&chebi=15422&page_size=1&page=1\">http://0.0.0.0:5000/api/v1/chebi/ebel/nodes?name=ATP&namespace=CHEBI&chebi=15422&page_size=1&page=1</a>"
      ],
      "text/plain": [
       "<IPython.core.display.HTML object>"
      ]
     },
     "metadata": {},
     "output_type": "display_data"
    },
    {
     "data": {
      "text/html": [
       "<b style=\"color: rgb(98,98,98); text-decoration: underline;\">Example response:</b>"
      ],
      "text/plain": [
       "<IPython.core.display.HTML object>"
      ]
     },
     "metadata": {},
     "output_type": "display_data"
    },
    {
     "name": "stdout",
     "output_type": "stream",
     "text": [
      "{\u001b[38;5;124m'\u001b[39m\u001b[38;5;124mnumber_of_results\u001b[39m\u001b[38;5;124m'\u001b[39m: \u001b[38;5;241m73\u001b[39m,\n",
      " \u001b[38;5;124m'\u001b[39m\u001b[38;5;124mpage\u001b[39m\u001b[38;5;124m'\u001b[39m: \u001b[38;5;241m1\u001b[39m,\n",
      " \u001b[38;5;124m'\u001b[39m\u001b[38;5;124mpage_size\u001b[39m\u001b[38;5;124m'\u001b[39m: \u001b[38;5;241m1\u001b[39m,\n",
      " \u001b[38;5;124m'\u001b[39m\u001b[38;5;124mpages\u001b[39m\u001b[38;5;124m'\u001b[39m: \u001b[38;5;241m73\u001b[39m,\n",
      " \u001b[38;5;124m'\u001b[39m\u001b[38;5;124mresults\u001b[39m\u001b[38;5;124m'\u001b[39m: [{\u001b[38;5;124m'\u001b[39m\u001b[38;5;124mbel\u001b[39m\u001b[38;5;124m'\u001b[39m: \u001b[38;5;124m'\u001b[39m\u001b[38;5;124ma(CHEBI:\u001b[39m\u001b[38;5;124m\"\u001b[39m\u001b[38;5;124mATP\u001b[39m\u001b[38;5;124m\"\u001b[39m\u001b[38;5;124m)\u001b[39m\u001b[38;5;124m'\u001b[39m,\n",
      "              \u001b[38;5;124m'\u001b[39m\u001b[38;5;124mchebi\u001b[39m\u001b[38;5;124m'\u001b[39m: \u001b[38;5;241m15422\u001b[39m,\n",
      "              \u001b[38;5;124m'\u001b[39m\u001b[38;5;124mname\u001b[39m\u001b[38;5;124m'\u001b[39m: \u001b[38;5;124m'\u001b[39m\u001b[38;5;124mATP\u001b[39m\u001b[38;5;124m'\u001b[39m,\n",
      "              \u001b[38;5;124m'\u001b[39m\u001b[38;5;124mnamespace\u001b[39m\u001b[38;5;124m'\u001b[39m: \u001b[38;5;124m'\u001b[39m\u001b[38;5;124mCHEBI\u001b[39m\u001b[38;5;124m'\u001b[39m,\n",
      "              \u001b[38;5;124m'\u001b[39m\u001b[38;5;124mrid\u001b[39m\u001b[38;5;124m'\u001b[39m: \u001b[38;5;124m'\u001b[39m\u001b[38;5;124m#122:6\u001b[39m\u001b[38;5;124m'\u001b[39m}]}\n",
      "\n",
      "For further testing go to http://0.0.0.0:5000/ui/#/ChEBI/ebel.web.api.ebel.v1.chebi.get_bel_chebi_ids\n"
     ]
    },
    {
     "data": {
      "text/html": [
       "<h2>7. Get ChEBI relation</h2>"
      ],
      "text/plain": [
       "<IPython.core.display.HTML object>"
      ]
     },
     "metadata": {},
     "output_type": "display_data"
    },
    {
     "data": {
      "text/html": [
       "<b style=\"color: rgb(98,98,98); text-decoration: underline;\">Description:</b> <p>Get ChEBI relation</p>"
      ],
      "text/plain": [
       "<IPython.core.display.HTML object>"
      ]
     },
     "metadata": {},
     "output_type": "display_data"
    },
    {
     "data": {
      "text/html": [
       "<b>Tags:</b> ['ChEBI', 'e(BE:L)']"
      ],
      "text/plain": [
       "<IPython.core.display.HTML object>"
      ]
     },
     "metadata": {},
     "output_type": "display_data"
    },
    {
     "data": {
      "text/html": [
       "<b>Server path:</b> /api/v1/chebi/relation"
      ],
      "text/plain": [
       "<IPython.core.display.HTML object>"
      ]
     },
     "metadata": {},
     "output_type": "display_data"
    },
    {
     "data": {
      "text/html": [
       "<div>\n",
       "<style scoped>\n",
       "    .dataframe tbody tr th:only-of-type {\n",
       "        vertical-align: middle;\n",
       "    }\n",
       "\n",
       "    .dataframe tbody tr th {\n",
       "        vertical-align: top;\n",
       "    }\n",
       "\n",
       "    .dataframe thead th {\n",
       "        text-align: right;\n",
       "    }\n",
       "</style>\n",
       "<table border=\"1\" class=\"dataframe\">\n",
       "  <thead>\n",
       "    <tr style=\"text-align: right;\">\n",
       "      <th></th>\n",
       "      <th>data type</th>\n",
       "      <th>description</th>\n",
       "      <th>example</th>\n",
       "      <th>options</th>\n",
       "      <th>default</th>\n",
       "      <th>required</th>\n",
       "    </tr>\n",
       "    <tr>\n",
       "      <th>parameter name</th>\n",
       "      <th></th>\n",
       "      <th></th>\n",
       "      <th></th>\n",
       "      <th></th>\n",
       "      <th></th>\n",
       "      <th></th>\n",
       "    </tr>\n",
       "  </thead>\n",
       "  <tbody>\n",
       "    <tr>\n",
       "      <th>type</th>\n",
       "      <td>string</td>\n",
       "      <td></td>\n",
       "      <td></td>\n",
       "      <td>[is_a, has_functional_parent, has_role, is_con...</td>\n",
       "      <td></td>\n",
       "      <td>False</td>\n",
       "    </tr>\n",
       "    <tr>\n",
       "      <th>status</th>\n",
       "      <td>string</td>\n",
       "      <td></td>\n",
       "      <td></td>\n",
       "      <td>[C, E, S]</td>\n",
       "      <td></td>\n",
       "      <td>False</td>\n",
       "    </tr>\n",
       "    <tr>\n",
       "      <th>final_id</th>\n",
       "      <td>integer</td>\n",
       "      <td></td>\n",
       "      <td>53289.0</td>\n",
       "      <td></td>\n",
       "      <td></td>\n",
       "      <td>False</td>\n",
       "    </tr>\n",
       "    <tr>\n",
       "      <th>init_id</th>\n",
       "      <td>integer</td>\n",
       "      <td></td>\n",
       "      <td></td>\n",
       "      <td></td>\n",
       "      <td></td>\n",
       "      <td>False</td>\n",
       "    </tr>\n",
       "  </tbody>\n",
       "</table>\n",
       "</div>"
      ],
      "text/plain": [
       "               data type description  example  \\\n",
       "parameter name                                  \n",
       "type              string                        \n",
       "status            string                        \n",
       "final_id         integer              53289.0   \n",
       "init_id          integer                        \n",
       "\n",
       "                                                          options default  \\\n",
       "parameter name                                                              \n",
       "type            [is_a, has_functional_parent, has_role, is_con...           \n",
       "status                                                  [C, E, S]           \n",
       "final_id                                                                    \n",
       "init_id                                                                     \n",
       "\n",
       "                required  \n",
       "parameter name            \n",
       "type               False  \n",
       "status             False  \n",
       "final_id           False  \n",
       "init_id            False  "
      ]
     },
     "metadata": {},
     "output_type": "display_data"
    },
    {
     "data": {
      "text/html": [
       "<b>Example URL:</b> <a href=\"http://0.0.0.0:5000/api/v1/chebi/relation?final_id=53289\">http://0.0.0.0:5000/api/v1/chebi/relation?final_id=53289</a>"
      ],
      "text/plain": [
       "<IPython.core.display.HTML object>"
      ]
     },
     "metadata": {},
     "output_type": "display_data"
    },
    {
     "name": "stdout",
     "output_type": "stream",
     "text": [
      "\n",
      "The result is a list and have 7 entries. Here we show only the first entry.\n",
      "\n"
     ]
    },
    {
     "data": {
      "text/html": [
       "<b style=\"color: rgb(98,98,98); text-decoration: underline;\">Example response:</b>"
      ],
      "text/plain": [
       "<IPython.core.display.HTML object>"
      ]
     },
     "metadata": {},
     "output_type": "display_data"
    },
    {
     "name": "stdout",
     "output_type": "stream",
     "text": [
      "{\u001b[38;5;124m'\u001b[39m\u001b[38;5;124mfinal_id\u001b[39m\u001b[38;5;124m'\u001b[39m: \u001b[38;5;241m53289\u001b[39m, \u001b[38;5;124m'\u001b[39m\u001b[38;5;124minit_id\u001b[39m\u001b[38;5;124m'\u001b[39m: \u001b[38;5;241m38462\u001b[39m, \u001b[38;5;124m'\u001b[39m\u001b[38;5;124mstatus\u001b[39m\u001b[38;5;124m'\u001b[39m: \u001b[38;5;124m'\u001b[39m\u001b[38;5;124mC\u001b[39m\u001b[38;5;124m'\u001b[39m, \u001b[38;5;124m'\u001b[39m\u001b[38;5;124mtype\u001b[39m\u001b[38;5;124m'\u001b[39m: \u001b[38;5;124m'\u001b[39m\u001b[38;5;124mhas_role\u001b[39m\u001b[38;5;124m'\u001b[39m}\n",
      "\n",
      "For further testing go to http://0.0.0.0:5000/ui/#/ChEBI/ebel.web.api.ebel.v1.chebi.get_relation\n"
     ]
    }
   ],
   "source": [
    "import api_doc\n",
    "api_doc.get_api_methods_by_tag('ChEBI')"
   ]
  }
 ],
 "metadata": {
  "kernelspec": {
   "display_name": "Python 3 (ipykernel)",
   "language": "python",
   "name": "python3"
  },
  "language_info": {
   "codemirror_mode": {
    "name": "ipython",
    "version": 3
   },
   "file_extension": ".py",
   "mimetype": "text/x-python",
   "name": "python",
   "nbconvert_exporter": "python",
   "pygments_lexer": "ipython3",
   "version": "3.8.10"
  },
  "toc": {
   "base_numbering": 1,
   "nav_menu": {},
   "number_sections": true,
   "sideBar": true,
   "skip_h1_title": true,
   "title_cell": "Table of Contents",
   "title_sidebar": "Contents",
   "toc_cell": false,
   "toc_position": {},
   "toc_section_display": true,
   "toc_window_display": false
  }
 },
 "nbformat": 4,
 "nbformat_minor": 5
}
