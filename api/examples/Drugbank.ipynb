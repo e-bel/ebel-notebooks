{
 "cells": [
  {
   "cell_type": "markdown",
   "id": "bf137ffa",
   "metadata": {},
   "source": [
    "# Drugbank API methods"
   ]
  },
  {
   "cell_type": "code",
   "execution_count": 1,
   "id": "47e282e4",
   "metadata": {
    "scrolled": false
   },
   "outputs": [
    {
     "data": {
      "text/html": [
       "<h2>1. Drug by DrugBank identifier</h2>"
      ],
      "text/plain": [
       "<IPython.core.display.HTML object>"
      ]
     },
     "metadata": {},
     "output_type": "display_data"
    },
    {
     "data": {
      "text/html": [
       "<b style=\"color: rgb(98,98,98); text-decoration: underline;\">Description:</b> <p>Drug by DrugBank identifier</p>"
      ],
      "text/plain": [
       "<IPython.core.display.HTML object>"
      ]
     },
     "metadata": {},
     "output_type": "display_data"
    },
    {
     "data": {
      "text/html": [
       "<b>Tags:</b> ['Drugbank']"
      ],
      "text/plain": [
       "<IPython.core.display.HTML object>"
      ]
     },
     "metadata": {},
     "output_type": "display_data"
    },
    {
     "data": {
      "text/html": [
       "<b>Server path:</b> /api/v1/drugbank"
      ],
      "text/plain": [
       "<IPython.core.display.HTML object>"
      ]
     },
     "metadata": {},
     "output_type": "display_data"
    },
    {
     "data": {
      "text/html": [
       "<div>\n",
       "<style scoped>\n",
       "    .dataframe tbody tr th:only-of-type {\n",
       "        vertical-align: middle;\n",
       "    }\n",
       "\n",
       "    .dataframe tbody tr th {\n",
       "        vertical-align: top;\n",
       "    }\n",
       "\n",
       "    .dataframe thead th {\n",
       "        text-align: right;\n",
       "    }\n",
       "</style>\n",
       "<table border=\"1\" class=\"dataframe\">\n",
       "  <thead>\n",
       "    <tr style=\"text-align: right;\">\n",
       "      <th></th>\n",
       "      <th>data type</th>\n",
       "      <th>description</th>\n",
       "      <th>example</th>\n",
       "      <th>options</th>\n",
       "      <th>default</th>\n",
       "      <th>required</th>\n",
       "    </tr>\n",
       "    <tr>\n",
       "      <th>parameter name</th>\n",
       "      <th></th>\n",
       "      <th></th>\n",
       "      <th></th>\n",
       "      <th></th>\n",
       "      <th></th>\n",
       "      <th></th>\n",
       "    </tr>\n",
       "  </thead>\n",
       "  <tbody>\n",
       "    <tr>\n",
       "      <th>drugbank_id</th>\n",
       "      <td>string</td>\n",
       "      <td></td>\n",
       "      <td>DB00843</td>\n",
       "      <td></td>\n",
       "      <td></td>\n",
       "      <td>False</td>\n",
       "    </tr>\n",
       "    <tr>\n",
       "      <th>name</th>\n",
       "      <td>string</td>\n",
       "      <td></td>\n",
       "      <td>Donepezil</td>\n",
       "      <td></td>\n",
       "      <td></td>\n",
       "      <td>False</td>\n",
       "    </tr>\n",
       "    <tr>\n",
       "      <th>description</th>\n",
       "      <td>string</td>\n",
       "      <td></td>\n",
       "      <td>%Aricept%</td>\n",
       "      <td></td>\n",
       "      <td></td>\n",
       "      <td>False</td>\n",
       "    </tr>\n",
       "    <tr>\n",
       "      <th>cas_number</th>\n",
       "      <td>string</td>\n",
       "      <td></td>\n",
       "      <td>120014-06-4</td>\n",
       "      <td></td>\n",
       "      <td></td>\n",
       "      <td>False</td>\n",
       "    </tr>\n",
       "    <tr>\n",
       "      <th>unii</th>\n",
       "      <td>string</td>\n",
       "      <td></td>\n",
       "      <td>8SSC91326P</td>\n",
       "      <td></td>\n",
       "      <td></td>\n",
       "      <td>False</td>\n",
       "    </tr>\n",
       "    <tr>\n",
       "      <th>state</th>\n",
       "      <td>string</td>\n",
       "      <td></td>\n",
       "      <td>solid</td>\n",
       "      <td></td>\n",
       "      <td></td>\n",
       "      <td>False</td>\n",
       "    </tr>\n",
       "    <tr>\n",
       "      <th>indication</th>\n",
       "      <td>string</td>\n",
       "      <td></td>\n",
       "      <td>%mild to moderate Alzheimer’s Disease%</td>\n",
       "      <td></td>\n",
       "      <td></td>\n",
       "      <td>False</td>\n",
       "    </tr>\n",
       "    <tr>\n",
       "      <th>pharmacodynamics</th>\n",
       "      <td>string</td>\n",
       "      <td></td>\n",
       "      <td>%inhibiting%</td>\n",
       "      <td></td>\n",
       "      <td></td>\n",
       "      <td>False</td>\n",
       "    </tr>\n",
       "    <tr>\n",
       "      <th>toxicity</th>\n",
       "      <td>string</td>\n",
       "      <td></td>\n",
       "      <td>%rat oral LD50%</td>\n",
       "      <td></td>\n",
       "      <td></td>\n",
       "      <td>False</td>\n",
       "    </tr>\n",
       "    <tr>\n",
       "      <th>metabolism</th>\n",
       "      <td>string</td>\n",
       "      <td></td>\n",
       "      <td>%CYP3A4%</td>\n",
       "      <td></td>\n",
       "      <td></td>\n",
       "      <td>False</td>\n",
       "    </tr>\n",
       "    <tr>\n",
       "      <th>absorption</th>\n",
       "      <td>string</td>\n",
       "      <td></td>\n",
       "      <td>%gastrointestinal tract%</td>\n",
       "      <td></td>\n",
       "      <td></td>\n",
       "      <td>False</td>\n",
       "    </tr>\n",
       "    <tr>\n",
       "      <th>half_life</th>\n",
       "      <td>string</td>\n",
       "      <td></td>\n",
       "      <td>%hours%</td>\n",
       "      <td></td>\n",
       "      <td></td>\n",
       "      <td>False</td>\n",
       "    </tr>\n",
       "    <tr>\n",
       "      <th>route_of_elimination</th>\n",
       "      <td>string</td>\n",
       "      <td></td>\n",
       "      <td>%urine%</td>\n",
       "      <td></td>\n",
       "      <td></td>\n",
       "      <td>False</td>\n",
       "    </tr>\n",
       "    <tr>\n",
       "      <th>volume_of_distribution</th>\n",
       "      <td>string</td>\n",
       "      <td></td>\n",
       "      <td>%mg dose%</td>\n",
       "      <td></td>\n",
       "      <td></td>\n",
       "      <td>False</td>\n",
       "    </tr>\n",
       "    <tr>\n",
       "      <th>clearance</th>\n",
       "      <td>string</td>\n",
       "      <td></td>\n",
       "      <td>%plasma%</td>\n",
       "      <td></td>\n",
       "      <td></td>\n",
       "      <td>False</td>\n",
       "    </tr>\n",
       "    <tr>\n",
       "      <th>mechanism_of_action</th>\n",
       "      <td>string</td>\n",
       "      <td></td>\n",
       "      <td>%cognitive and behavioral decline%</td>\n",
       "      <td></td>\n",
       "      <td></td>\n",
       "      <td>False</td>\n",
       "    </tr>\n",
       "    <tr>\n",
       "      <th>fda_label</th>\n",
       "      <td>string</td>\n",
       "      <td></td>\n",
       "      <td></td>\n",
       "      <td></td>\n",
       "      <td></td>\n",
       "      <td>False</td>\n",
       "    </tr>\n",
       "    <tr>\n",
       "      <th>page_size</th>\n",
       "      <td>integer</td>\n",
       "      <td>Results per page</td>\n",
       "      <td>1</td>\n",
       "      <td></td>\n",
       "      <td>10.0</td>\n",
       "      <td>False</td>\n",
       "    </tr>\n",
       "    <tr>\n",
       "      <th>page</th>\n",
       "      <td>integer</td>\n",
       "      <td>Page number (starting with 1)</td>\n",
       "      <td>1</td>\n",
       "      <td></td>\n",
       "      <td>1.0</td>\n",
       "      <td>False</td>\n",
       "    </tr>\n",
       "  </tbody>\n",
       "</table>\n",
       "</div>"
      ],
      "text/plain": [
       "                       data type                    description  \\\n",
       "parameter name                                                    \n",
       "drugbank_id               string                                  \n",
       "name                      string                                  \n",
       "description               string                                  \n",
       "cas_number                string                                  \n",
       "unii                      string                                  \n",
       "state                     string                                  \n",
       "indication                string                                  \n",
       "pharmacodynamics          string                                  \n",
       "toxicity                  string                                  \n",
       "metabolism                string                                  \n",
       "absorption                string                                  \n",
       "half_life                 string                                  \n",
       "route_of_elimination      string                                  \n",
       "volume_of_distribution    string                                  \n",
       "clearance                 string                                  \n",
       "mechanism_of_action       string                                  \n",
       "fda_label                 string                                  \n",
       "page_size                integer               Results per page   \n",
       "page                     integer  Page number (starting with 1)   \n",
       "\n",
       "                                                       example options  \\\n",
       "parameter name                                                           \n",
       "drugbank_id                                            DB00843           \n",
       "name                                                 Donepezil           \n",
       "description                                          %Aricept%           \n",
       "cas_number                                         120014-06-4           \n",
       "unii                                                8SSC91326P           \n",
       "state                                                    solid           \n",
       "indication              %mild to moderate Alzheimer’s Disease%           \n",
       "pharmacodynamics                                  %inhibiting%           \n",
       "toxicity                                       %rat oral LD50%           \n",
       "metabolism                                            %CYP3A4%           \n",
       "absorption                            %gastrointestinal tract%           \n",
       "half_life                                              %hours%           \n",
       "route_of_elimination                                   %urine%           \n",
       "volume_of_distribution                               %mg dose%           \n",
       "clearance                                             %plasma%           \n",
       "mechanism_of_action         %cognitive and behavioral decline%           \n",
       "fda_label                                                                \n",
       "page_size                                                    1           \n",
       "page                                                         1           \n",
       "\n",
       "                       default  required  \n",
       "parameter name                            \n",
       "drugbank_id                        False  \n",
       "name                               False  \n",
       "description                        False  \n",
       "cas_number                         False  \n",
       "unii                               False  \n",
       "state                              False  \n",
       "indication                         False  \n",
       "pharmacodynamics                   False  \n",
       "toxicity                           False  \n",
       "metabolism                         False  \n",
       "absorption                         False  \n",
       "half_life                          False  \n",
       "route_of_elimination               False  \n",
       "volume_of_distribution             False  \n",
       "clearance                          False  \n",
       "mechanism_of_action                False  \n",
       "fda_label                          False  \n",
       "page_size                 10.0     False  \n",
       "page                       1.0     False  "
      ]
     },
     "metadata": {},
     "output_type": "display_data"
    },
    {
     "data": {
      "text/html": [
       "<b>Example URL:</b> <a href=\"http://0.0.0.0:5000/api/v1/drugbank?drugbank_id=DB00843&name=Donepezil&description=%25Aricept%25&cas_number=120014-06-4&unii=8SSC91326P&state=solid&indication=%25mild+to+moderate+Alzheimer%E2%80%99s+Disease%25&pharmacodynamics=%25inhibiting%25&toxicity=%25rat+oral+LD50%25&metabolism=%25CYP3A4%25&absorption=%25gastrointestinal+tract%25&half_life=%25hours%25&route_of_elimination=%25urine%25&volume_of_distribution=%25mg+dose%25&clearance=%25plasma%25&mechanism_of_action=%25cognitive+and+behavioral+decline%25&page_size=1&page=1\">http://0.0.0.0:5000/api/v1/drugbank?drugbank_id=DB00843&name=Donepezil&description=%25Aricept%25&cas_number=120014-06-4&unii=8SSC91326P&state=solid&indication=%25mild+to+moderate+Alzheimer%E2%80%99s+Disease%25&pharmacodynamics=%25inhibiting%25&toxicity=%25rat+oral+LD50%25&metabolism=%25CYP3A4%25&absorption=%25gastrointestinal+tract%25&half_life=%25hours%25&route_of_elimination=%25urine%25&volume_of_distribution=%25mg+dose%25&clearance=%25plasma%25&mechanism_of_action=%25cognitive+and+behavioral+decline%25&page_size=1&page=1</a>"
      ],
      "text/plain": [
       "<IPython.core.display.HTML object>"
      ]
     },
     "metadata": {},
     "output_type": "display_data"
    },
    {
     "data": {
      "text/html": [
       "<b style=\"color: rgb(98,98,98); text-decoration: underline;\">Example response:</b>"
      ],
      "text/plain": [
       "<IPython.core.display.HTML object>"
      ]
     },
     "metadata": {},
     "output_type": "display_data"
    },
    {
     "name": "stdout",
     "output_type": "stream",
     "text": [
      "{\u001b[38;5;124m'\u001b[39m\u001b[38;5;124mnumber_of_results\u001b[39m\u001b[38;5;124m'\u001b[39m: \u001b[38;5;241m1\u001b[39m,\n",
      " \u001b[38;5;124m'\u001b[39m\u001b[38;5;124mpage\u001b[39m\u001b[38;5;124m'\u001b[39m: \u001b[38;5;241m1\u001b[39m,\n",
      " \u001b[38;5;124m'\u001b[39m\u001b[38;5;124mpage_size\u001b[39m\u001b[38;5;124m'\u001b[39m: \u001b[38;5;241m1\u001b[39m,\n",
      " \u001b[38;5;124m'\u001b[39m\u001b[38;5;124mpages\u001b[39m\u001b[38;5;124m'\u001b[39m: \u001b[38;5;241m1\u001b[39m,\n",
      " \u001b[38;5;124m'\u001b[39m\u001b[38;5;124mresults\u001b[39m\u001b[38;5;124m'\u001b[39m: [{\u001b[38;5;124m'\u001b[39m\u001b[38;5;124mabsorption\u001b[39m\u001b[38;5;124m'\u001b[39m: \u001b[38;5;124m'\u001b[39m\u001b[38;5;124mDonepezil is slowly absorbed via the \u001b[39m\u001b[38;5;124m'\u001b[39m\n",
      "                            \u001b[38;5;124m'\u001b[39m\u001b[38;5;124mgastrointestinal tract after oral administration. \u001b[39m\u001b[38;5;124m'\u001b[39m\n",
      "                            \u001b[38;5;124m'\u001b[39m\u001b[38;5;124mTmax is 3 to 4 hours with a bioavailability of \u001b[39m\u001b[38;5;124m'\u001b[39m\n",
      "                            \u001b[38;5;124m'\u001b[39m\u001b[38;5;124m100\u001b[39m\u001b[38;5;132;01m% a\u001b[39;00m\u001b[38;5;124mnd steady-state concentrations are attained \u001b[39m\u001b[38;5;124m'\u001b[39m\n",
      "                            \u001b[38;5;124m'\u001b[39m\u001b[38;5;124mwithin 15 to 21 days of administration.[A182333] \u001b[39m\u001b[38;5;124m'\u001b[39m\n",
      "                            \u001b[38;5;124m'\u001b[39m\u001b[38;5;124mThe Tmax in one pharmacokinetic study determined \u001b[39m\u001b[38;5;124m'\u001b[39m\n",
      "                            \u001b[38;5;124m'\u001b[39m\u001b[38;5;124ma Tmax of  4.1 ± 1.5 hours.[A182324] The Cmax of \u001b[39m\u001b[38;5;124m'\u001b[39m\n",
      "                            \u001b[38;5;124m'\u001b[39m\u001b[38;5;124m5 mg donepezil tablets is estimated to be 8.34 \u001b[39m\u001b[38;5;124m'\u001b[39m\n",
      "                            \u001b[38;5;124m'\u001b[39m\u001b[38;5;124mng/mL, according to the Canadian \u001b[39m\u001b[38;5;124m'\u001b[39m\n",
      "                            \u001b[38;5;124m'\u001b[39m\u001b[38;5;124mmonograph.[L7952] The AUC of 5 mg donepezil \u001b[39m\u001b[38;5;124m'\u001b[39m\n",
      "                            \u001b[38;5;124m'\u001b[39m\u001b[38;5;124mtablets has been determined to be 221.90-225.36 \u001b[39m\u001b[38;5;124m'\u001b[39m\n",
      "                            \u001b[38;5;124m'\u001b[39m\u001b[38;5;124mng.hr/mL.[L7952]\u001b[39m\u001b[38;5;124m'\u001b[39m,\n",
      "              \u001b[38;5;124m'\u001b[39m\u001b[38;5;124mcas_number\u001b[39m\u001b[38;5;124m'\u001b[39m: \u001b[38;5;124m'\u001b[39m\u001b[38;5;124m120014-06-4\u001b[39m\u001b[38;5;124m'\u001b[39m,\n",
      "              \u001b[38;5;124m'\u001b[39m\u001b[38;5;124mclearance\u001b[39m\u001b[38;5;124m'\u001b[39m: \u001b[38;5;124m'\u001b[39m\u001b[38;5;124mAccording to the FDA label, the average apparent \u001b[39m\u001b[38;5;124m'\u001b[39m\n",
      "                           \u001b[38;5;124m'\u001b[39m\u001b[38;5;124mplasma clearance of this drug is 0.13 – 0.19 \u001b[39m\u001b[38;5;124m'\u001b[39m\n",
      "                           \u001b[38;5;124m'\u001b[39m\u001b[38;5;124mL/hr/kg.[L7916] A 5 mg dose of donepezil in \u001b[39m\u001b[38;5;124m'\u001b[39m\n",
      "                           \u001b[38;5;124m'\u001b[39m\u001b[38;5;124mhealthy patients was shown to have a plasma \u001b[39m\u001b[38;5;124m'\u001b[39m\n",
      "                           \u001b[38;5;124m'\u001b[39m\u001b[38;5;124mclearance of 0.110±0.02 L/h/kg.[L7952] In 10 \u001b[39m\u001b[38;5;124m'\u001b[39m\n",
      "                           \u001b[38;5;124m'\u001b[39m\u001b[38;5;124mpatients diagnosed with alcoholic cirrhosis, \u001b[39m\u001b[38;5;124m'\u001b[39m\n",
      "                           \u001b[38;5;124m'\u001b[39m\u001b[38;5;124mshowed a mean decrease in clearance by 20\u001b[39m\u001b[38;5;124m%\u001b[39m\u001b[38;5;124m when \u001b[39m\u001b[38;5;124m'\u001b[39m\n",
      "                           \u001b[38;5;124m'\u001b[39m\u001b[38;5;124mcompared to the clearance in 10 healthy subjects. \u001b[39m\u001b[38;5;124m'\u001b[39m\n",
      "                           \u001b[38;5;124m'\u001b[39m\u001b[38;5;124mIn 4 patients with severe renal impairment \u001b[39m\u001b[38;5;124m'\u001b[39m\n",
      "                           \u001b[38;5;124m'\u001b[39m\u001b[38;5;124mcompared to 4 healthy subjects, no significant \u001b[39m\u001b[38;5;124m'\u001b[39m\n",
      "                           \u001b[38;5;124m'\u001b[39m\u001b[38;5;124mchange in clearance was noted.[L7952]\u001b[39m\u001b[38;5;124m'\u001b[39m,\n",
      "              \u001b[38;5;124m'\u001b[39m\u001b[38;5;124mdescription\u001b[39m\u001b[38;5;124m'\u001b[39m: \u001b[38;5;124m'\u001b[39m\u001b[38;5;124mIn 2016, the global burden of dementia was \u001b[39m\u001b[38;5;124m'\u001b[39m\n",
      "                             \u001b[38;5;124m'\u001b[39m\u001b[38;5;124mestimated to be 43.8 million, demonstrating a \u001b[39m\u001b[38;5;124m'\u001b[39m\n",
      "                             \u001b[38;5;124m'\u001b[39m\u001b[38;5;124msignificant increase from a global prevalence of \u001b[39m\u001b[38;5;124m'\u001b[39m\n",
      "                             \u001b[38;5;124m'\u001b[39m\u001b[38;5;124m20.2 million in 1990.[A182411] Donepezil, also \u001b[39m\u001b[38;5;124m'\u001b[39m\n",
      "                             \u001b[38;5;124m'\u001b[39m\u001b[38;5;124mknown as Aricept, is a piperidine derivative \u001b[39m\u001b[38;5;124m'\u001b[39m\n",
      "                             \u001b[38;5;124m'\u001b[39m\u001b[38;5;124macetylcholinesterase inhibitor used in the \u001b[39m\u001b[38;5;124m'\u001b[39m\n",
      "                             \u001b[38;5;124m\"\u001b[39m\u001b[38;5;124mmanagement of the dementia of Alzheimer\u001b[39m\u001b[38;5;124m'\u001b[39m\u001b[38;5;124ms \u001b[39m\u001b[38;5;124m\"\u001b[39m\n",
      "                             \u001b[38;5;124m'\u001b[39m\u001b[38;5;124mDisease, and in some cases, is used to manage \u001b[39m\u001b[38;5;124m'\u001b[39m\n",
      "                             \u001b[38;5;124m'\u001b[39m\u001b[38;5;124mother types of dementia. \u001b[39m\u001b[38;5;130;01m\\r\u001b[39;00m\u001b[38;5;130;01m\\n\u001b[39;00m\u001b[38;5;124m'\u001b[39m\n",
      "                             \u001b[38;5;124m'\u001b[39m\u001b[38;5;130;01m\\r\u001b[39;00m\u001b[38;5;130;01m\\n\u001b[39;00m\u001b[38;5;124m'\u001b[39m\n",
      "                             \u001b[38;5;124m'\u001b[39m\u001b[38;5;124mDonepezil was first approved by the FDA in 1996, \u001b[39m\u001b[38;5;124m'\u001b[39m\n",
      "                             \u001b[38;5;124m'\u001b[39m\u001b[38;5;124mand its extended-release form was approved in \u001b[39m\u001b[38;5;124m'\u001b[39m\n",
      "                             \u001b[38;5;124m'\u001b[39m\u001b[38;5;124mcombination with [Memantine] in 2014 to manage \u001b[39m\u001b[38;5;124m'\u001b[39m\n",
      "                             \u001b[38;5;124m\"\u001b[39m\u001b[38;5;124mmoderate and severe forms of Alzheimer\u001b[39m\u001b[38;5;124m'\u001b[39m\u001b[38;5;124ms \u001b[39m\u001b[38;5;124m\"\u001b[39m\n",
      "                             \u001b[38;5;124m'\u001b[39m\u001b[38;5;124mdementia.[L7916,L7937] Though it does not alter \u001b[39m\u001b[38;5;124m'\u001b[39m\n",
      "                             \u001b[38;5;124m\"\u001b[39m\u001b[38;5;124mthe progression of Alzheimer\u001b[39m\u001b[38;5;124m'\u001b[39m\u001b[38;5;124ms disease, \u001b[39m\u001b[38;5;124m\"\u001b[39m\n",
      "                             \u001b[38;5;124m'\u001b[39m\u001b[38;5;124mdonepezil is effective in managing the symptoms \u001b[39m\u001b[38;5;124m'\u001b[39m\n",
      "                             \u001b[38;5;124m'\u001b[39m\u001b[38;5;124mof its associated dementia.[T668]\u001b[39m\u001b[38;5;124m'\u001b[39m,\n",
      "              \u001b[38;5;124m'\u001b[39m\u001b[38;5;124mdrugbank_id\u001b[39m\u001b[38;5;124m'\u001b[39m: \u001b[38;5;124m'\u001b[39m\u001b[38;5;124mDB00843\u001b[39m\u001b[38;5;124m'\u001b[39m,\n",
      "              \u001b[38;5;124m'\u001b[39m\u001b[38;5;124mexternal_identifiers\u001b[39m\u001b[38;5;124m'\u001b[39m: [{\u001b[38;5;124m'\u001b[39m\u001b[38;5;124mdrugbank_id\u001b[39m\u001b[38;5;124m'\u001b[39m: \u001b[38;5;124m'\u001b[39m\u001b[38;5;124mDB00843\u001b[39m\u001b[38;5;124m'\u001b[39m,\n",
      "                                        \u001b[38;5;124m'\u001b[39m\u001b[38;5;124midentifier\u001b[39m\u001b[38;5;124m'\u001b[39m: \u001b[38;5;124m'\u001b[39m\u001b[38;5;124m11485\u001b[39m\u001b[38;5;124m'\u001b[39m,\n",
      "                                        \u001b[38;5;124m'\u001b[39m\u001b[38;5;124mresource\u001b[39m\u001b[38;5;124m'\u001b[39m: \u001b[38;5;124m'\u001b[39m\u001b[38;5;124mDrugs Product Database \u001b[39m\u001b[38;5;124m'\u001b[39m\n",
      "                                                    \u001b[38;5;124m'\u001b[39m\u001b[38;5;124m(DPD)\u001b[39m\u001b[38;5;124m'\u001b[39m},\n",
      "                                       {\u001b[38;5;124m'\u001b[39m\u001b[38;5;124mdrugbank_id\u001b[39m\u001b[38;5;124m'\u001b[39m: \u001b[38;5;124m'\u001b[39m\u001b[38;5;124mDB00843\u001b[39m\u001b[38;5;124m'\u001b[39m,\n",
      "                                        \u001b[38;5;124m'\u001b[39m\u001b[38;5;124midentifier\u001b[39m\u001b[38;5;124m'\u001b[39m: \u001b[38;5;124m'\u001b[39m\u001b[38;5;124m53289\u001b[39m\u001b[38;5;124m'\u001b[39m,\n",
      "                                        \u001b[38;5;124m'\u001b[39m\u001b[38;5;124mresource\u001b[39m\u001b[38;5;124m'\u001b[39m: \u001b[38;5;124m'\u001b[39m\u001b[38;5;124mChEBI\u001b[39m\u001b[38;5;124m'\u001b[39m},\n",
      "                                       {\u001b[38;5;124m'\u001b[39m\u001b[38;5;124mdrugbank_id\u001b[39m\u001b[38;5;124m'\u001b[39m: \u001b[38;5;124m'\u001b[39m\u001b[38;5;124mDB00843\u001b[39m\u001b[38;5;124m'\u001b[39m,\n",
      "                                        \u001b[38;5;124m'\u001b[39m\u001b[38;5;124midentifier\u001b[39m\u001b[38;5;124m'\u001b[39m: \u001b[38;5;124m'\u001b[39m\u001b[38;5;124m3152\u001b[39m\u001b[38;5;124m'\u001b[39m,\n",
      "                                        \u001b[38;5;124m'\u001b[39m\u001b[38;5;124mresource\u001b[39m\u001b[38;5;124m'\u001b[39m: \u001b[38;5;124m'\u001b[39m\u001b[38;5;124mPubChem Compound\u001b[39m\u001b[38;5;124m'\u001b[39m},\n",
      "                                       {\u001b[38;5;124m'\u001b[39m\u001b[38;5;124mdrugbank_id\u001b[39m\u001b[38;5;124m'\u001b[39m: \u001b[38;5;124m'\u001b[39m\u001b[38;5;124mDB00843\u001b[39m\u001b[38;5;124m'\u001b[39m,\n",
      "                                        \u001b[38;5;124m'\u001b[39m\u001b[38;5;124midentifier\u001b[39m\u001b[38;5;124m'\u001b[39m: \u001b[38;5;124m'\u001b[39m\u001b[38;5;124m46504803\u001b[39m\u001b[38;5;124m'\u001b[39m,\n",
      "                                        \u001b[38;5;124m'\u001b[39m\u001b[38;5;124mresource\u001b[39m\u001b[38;5;124m'\u001b[39m: \u001b[38;5;124m'\u001b[39m\u001b[38;5;124mPubChem Substance\u001b[39m\u001b[38;5;124m'\u001b[39m},\n",
      "                                       {\u001b[38;5;124m'\u001b[39m\u001b[38;5;124mdrugbank_id\u001b[39m\u001b[38;5;124m'\u001b[39m: \u001b[38;5;124m'\u001b[39m\u001b[38;5;124mDB00843\u001b[39m\u001b[38;5;124m'\u001b[39m,\n",
      "                                        \u001b[38;5;124m'\u001b[39m\u001b[38;5;124midentifier\u001b[39m\u001b[38;5;124m'\u001b[39m: \u001b[38;5;124m'\u001b[39m\u001b[38;5;124mD00670\u001b[39m\u001b[38;5;124m'\u001b[39m,\n",
      "                                        \u001b[38;5;124m'\u001b[39m\u001b[38;5;124mresource\u001b[39m\u001b[38;5;124m'\u001b[39m: \u001b[38;5;124m'\u001b[39m\u001b[38;5;124mKEGG Drug\u001b[39m\u001b[38;5;124m'\u001b[39m},\n",
      "                                       {\u001b[38;5;124m'\u001b[39m\u001b[38;5;124mdrugbank_id\u001b[39m\u001b[38;5;124m'\u001b[39m: \u001b[38;5;124m'\u001b[39m\u001b[38;5;124mDB00843\u001b[39m\u001b[38;5;124m'\u001b[39m,\n",
      "                                        \u001b[38;5;124m'\u001b[39m\u001b[38;5;124midentifier\u001b[39m\u001b[38;5;124m'\u001b[39m: \u001b[38;5;124m'\u001b[39m\u001b[38;5;124m3040\u001b[39m\u001b[38;5;124m'\u001b[39m,\n",
      "                                        \u001b[38;5;124m'\u001b[39m\u001b[38;5;124mresource\u001b[39m\u001b[38;5;124m'\u001b[39m: \u001b[38;5;124m'\u001b[39m\u001b[38;5;124mChemSpider\u001b[39m\u001b[38;5;124m'\u001b[39m},\n",
      "                                       {\u001b[38;5;124m'\u001b[39m\u001b[38;5;124mdrugbank_id\u001b[39m\u001b[38;5;124m'\u001b[39m: \u001b[38;5;124m'\u001b[39m\u001b[38;5;124mDB00843\u001b[39m\u001b[38;5;124m'\u001b[39m,\n",
      "                                        \u001b[38;5;124m'\u001b[39m\u001b[38;5;124midentifier\u001b[39m\u001b[38;5;124m'\u001b[39m: \u001b[38;5;124m'\u001b[39m\u001b[38;5;124m8960\u001b[39m\u001b[38;5;124m'\u001b[39m,\n",
      "                                        \u001b[38;5;124m'\u001b[39m\u001b[38;5;124mresource\u001b[39m\u001b[38;5;124m'\u001b[39m: \u001b[38;5;124m'\u001b[39m\u001b[38;5;124mBindingDB\u001b[39m\u001b[38;5;124m'\u001b[39m},\n",
      "                                       {\u001b[38;5;124m'\u001b[39m\u001b[38;5;124mdrugbank_id\u001b[39m\u001b[38;5;124m'\u001b[39m: \u001b[38;5;124m'\u001b[39m\u001b[38;5;124mDB00843\u001b[39m\u001b[38;5;124m'\u001b[39m,\n",
      "                                        \u001b[38;5;124m'\u001b[39m\u001b[38;5;124midentifier\u001b[39m\u001b[38;5;124m'\u001b[39m: \u001b[38;5;124m'\u001b[39m\u001b[38;5;124mPA449394\u001b[39m\u001b[38;5;124m'\u001b[39m,\n",
      "                                        \u001b[38;5;124m'\u001b[39m\u001b[38;5;124mresource\u001b[39m\u001b[38;5;124m'\u001b[39m: \u001b[38;5;124m'\u001b[39m\u001b[38;5;124mPharmGKB\u001b[39m\u001b[38;5;124m'\u001b[39m},\n",
      "                                       {\u001b[38;5;124m'\u001b[39m\u001b[38;5;124mdrugbank_id\u001b[39m\u001b[38;5;124m'\u001b[39m: \u001b[38;5;124m'\u001b[39m\u001b[38;5;124mDB00843\u001b[39m\u001b[38;5;124m'\u001b[39m,\n",
      "                                        \u001b[38;5;124m'\u001b[39m\u001b[38;5;124midentifier\u001b[39m\u001b[38;5;124m'\u001b[39m: \u001b[38;5;124m'\u001b[39m\u001b[38;5;124mDAP000560\u001b[39m\u001b[38;5;124m'\u001b[39m,\n",
      "                                        \u001b[38;5;124m'\u001b[39m\u001b[38;5;124mresource\u001b[39m\u001b[38;5;124m'\u001b[39m: \u001b[38;5;124m'\u001b[39m\u001b[38;5;124mTherapeutic Targets \u001b[39m\u001b[38;5;124m'\u001b[39m\n",
      "                                                    \u001b[38;5;124m'\u001b[39m\u001b[38;5;124mDatabase\u001b[39m\u001b[38;5;124m'\u001b[39m},\n",
      "                                       {\u001b[38;5;124m'\u001b[39m\u001b[38;5;124mdrugbank_id\u001b[39m\u001b[38;5;124m'\u001b[39m: \u001b[38;5;124m'\u001b[39m\u001b[38;5;124mDB00843\u001b[39m\u001b[38;5;124m'\u001b[39m,\n",
      "                                        \u001b[38;5;124m'\u001b[39m\u001b[38;5;124midentifier\u001b[39m\u001b[38;5;124m'\u001b[39m: \u001b[38;5;124m'\u001b[39m\u001b[38;5;124mDonepezil\u001b[39m\u001b[38;5;124m'\u001b[39m,\n",
      "                                        \u001b[38;5;124m'\u001b[39m\u001b[38;5;124mresource\u001b[39m\u001b[38;5;124m'\u001b[39m: \u001b[38;5;124m'\u001b[39m\u001b[38;5;124mWikipedia\u001b[39m\u001b[38;5;124m'\u001b[39m},\n",
      "                                       {\u001b[38;5;124m'\u001b[39m\u001b[38;5;124mdrugbank_id\u001b[39m\u001b[38;5;124m'\u001b[39m: \u001b[38;5;124m'\u001b[39m\u001b[38;5;124mDB00843\u001b[39m\u001b[38;5;124m'\u001b[39m,\n",
      "                                        \u001b[38;5;124m'\u001b[39m\u001b[38;5;124midentifier\u001b[39m\u001b[38;5;124m'\u001b[39m: \u001b[38;5;124m'\u001b[39m\u001b[38;5;124mCHEMBL502\u001b[39m\u001b[38;5;124m'\u001b[39m,\n",
      "                                        \u001b[38;5;124m'\u001b[39m\u001b[38;5;124mresource\u001b[39m\u001b[38;5;124m'\u001b[39m: \u001b[38;5;124m'\u001b[39m\u001b[38;5;124mChEMBL\u001b[39m\u001b[38;5;124m'\u001b[39m},\n",
      "                                       {\u001b[38;5;124m'\u001b[39m\u001b[38;5;124mdrugbank_id\u001b[39m\u001b[38;5;124m'\u001b[39m: \u001b[38;5;124m'\u001b[39m\u001b[38;5;124mDB00843\u001b[39m\u001b[38;5;124m'\u001b[39m,\n",
      "                                        \u001b[38;5;124m'\u001b[39m\u001b[38;5;124midentifier\u001b[39m\u001b[38;5;124m'\u001b[39m: \u001b[38;5;124m'\u001b[39m\u001b[38;5;124m135447\u001b[39m\u001b[38;5;124m'\u001b[39m,\n",
      "                                        \u001b[38;5;124m'\u001b[39m\u001b[38;5;124mresource\u001b[39m\u001b[38;5;124m'\u001b[39m: \u001b[38;5;124m'\u001b[39m\u001b[38;5;124mRxCUI\u001b[39m\u001b[38;5;124m'\u001b[39m}],\n",
      "              \u001b[38;5;124m'\u001b[39m\u001b[38;5;124mfda_label\u001b[39m\u001b[38;5;124m'\u001b[39m: \u001b[38;5;28;01mNone\u001b[39;00m,\n",
      "              \u001b[38;5;124m'\u001b[39m\u001b[38;5;124mhalf_life\u001b[39m\u001b[38;5;124m'\u001b[39m: \u001b[38;5;124m'\u001b[39m\u001b[38;5;124mThe average elimination half-life of donepezil is \u001b[39m\u001b[38;5;124m'\u001b[39m\n",
      "                           \u001b[38;5;124m'\u001b[39m\u001b[38;5;124mabout 70 hours according to the results of various \u001b[39m\u001b[38;5;124m'\u001b[39m\n",
      "                           \u001b[38;5;124m'\u001b[39m\u001b[38;5;124mstudies and the FDA label for \u001b[39m\u001b[38;5;124m'\u001b[39m\n",
      "                           \u001b[38;5;124m'\u001b[39m\u001b[38;5;124mdonepezil.[A182333,L7916]. One pharmacokinetic \u001b[39m\u001b[38;5;124m'\u001b[39m\n",
      "                           \u001b[38;5;124m'\u001b[39m\u001b[38;5;124mstudy determined the average terminal half-life to \u001b[39m\u001b[38;5;124m'\u001b[39m\n",
      "                           \u001b[38;5;124m'\u001b[39m\u001b[38;5;124mbe 81.5±22.0 h[A182324]\u001b[39m\u001b[38;5;124m'\u001b[39m,\n",
      "              \u001b[38;5;124m'\u001b[39m\u001b[38;5;124mindication\u001b[39m\u001b[38;5;124m'\u001b[39m: \u001b[38;5;124m'\u001b[39m\u001b[38;5;124mDonepezil is indicated for the management of mild \u001b[39m\u001b[38;5;124m'\u001b[39m\n",
      "                            \u001b[38;5;124m'\u001b[39m\u001b[38;5;124mto moderate Alzheimer’s Disease at doses of 5 mg \u001b[39m\u001b[38;5;124m'\u001b[39m\n",
      "                            \u001b[38;5;124m'\u001b[39m\u001b[38;5;124mor 10 mg.[L7916] It is also indicated for the \u001b[39m\u001b[38;5;124m'\u001b[39m\n",
      "                            \u001b[38;5;124m'\u001b[39m\u001b[38;5;124mmanagement of moderate to severe Alzheimer’s \u001b[39m\u001b[38;5;124m'\u001b[39m\n",
      "                            \u001b[38;5;124m'\u001b[39m\u001b[38;5;124mDisease in a higher dose of 10 mg or 23 mg \u001b[39m\u001b[38;5;124m'\u001b[39m\n",
      "                            \u001b[38;5;124m'\u001b[39m\u001b[38;5;124madministered once daily.[L7916] Off-label uses \u001b[39m\u001b[38;5;124m'\u001b[39m\n",
      "                            \u001b[38;5;124m'\u001b[39m\u001b[38;5;124minclude the management of vascular dementia, \u001b[39m\u001b[38;5;124m'\u001b[39m\n",
      "                            \u001b[38;5;124m\"\u001b[39m\u001b[38;5;124mParkinson\u001b[39m\u001b[38;5;124m'\u001b[39m\u001b[38;5;124ms Disease-associated dementia, and Lewy \u001b[39m\u001b[38;5;124m\"\u001b[39m\n",
      "                            \u001b[38;5;124m'\u001b[39m\u001b[38;5;124mbody dementia, among others.[A182333,T668] When \u001b[39m\u001b[38;5;124m'\u001b[39m\n",
      "                            \u001b[38;5;124m'\u001b[39m\u001b[38;5;124mcombined with memantine, the extended-release \u001b[39m\u001b[38;5;124m'\u001b[39m\n",
      "                            \u001b[38;5;124m'\u001b[39m\u001b[38;5;124mform of donepezil is indicated to treat the \u001b[39m\u001b[38;5;124m'\u001b[39m\n",
      "                            \u001b[38;5;124m'\u001b[39m\u001b[38;5;124msymptoms of moderate to severe dementia.[L7937]\u001b[39m\u001b[38;5;124m'\u001b[39m,\n",
      "              \u001b[38;5;124m'\u001b[39m\u001b[38;5;124mmechanism_of_action\u001b[39m\u001b[38;5;124m'\u001b[39m: \u001b[38;5;124m'\u001b[39m\u001b[38;5;130;01m\\r\u001b[39;00m\u001b[38;5;130;01m\\n\u001b[39;00m\u001b[38;5;124m'\u001b[39m\n",
      "                                     \u001b[38;5;124m'\u001b[39m\u001b[38;5;124mThe commonly accepted cholinergic \u001b[39m\u001b[38;5;124m'\u001b[39m\n",
      "                                     \u001b[38;5;124m'\u001b[39m\u001b[38;5;124mhypothesis[A182369] proposes that a \u001b[39m\u001b[38;5;124m'\u001b[39m\n",
      "                                     \u001b[38;5;124m'\u001b[39m\u001b[38;5;124mportion of the cognitive and behavioral \u001b[39m\u001b[38;5;124m'\u001b[39m\n",
      "                                     \u001b[38;5;124m\"\u001b[39m\u001b[38;5;124mdecline associated with Alzheimer\u001b[39m\u001b[38;5;124m'\u001b[39m\u001b[38;5;124ms are \u001b[39m\u001b[38;5;124m\"\u001b[39m\n",
      "                                     \u001b[38;5;124m'\u001b[39m\u001b[38;5;124mthe result of decreased cholinergic \u001b[39m\u001b[38;5;124m'\u001b[39m\n",
      "                                     \u001b[38;5;124m'\u001b[39m\u001b[38;5;124mtransmission in the central nervous \u001b[39m\u001b[38;5;124m'\u001b[39m\n",
      "                                     \u001b[38;5;124m'\u001b[39m\u001b[38;5;124msystem. Donepezil selectively and \u001b[39m\u001b[38;5;124m'\u001b[39m\n",
      "                                     \u001b[38;5;124m'\u001b[39m\u001b[38;5;124mreversibly inhibits the \u001b[39m\u001b[38;5;124m'\u001b[39m\n",
      "                                     \u001b[38;5;124m'\u001b[39m\u001b[38;5;124macetylcholinesterase enzyme, which \u001b[39m\u001b[38;5;124m'\u001b[39m\n",
      "                                     \u001b[38;5;124m'\u001b[39m\u001b[38;5;124mnormally breaks down acetylcholine. The \u001b[39m\u001b[38;5;124m'\u001b[39m\n",
      "                                     \u001b[38;5;124m'\u001b[39m\u001b[38;5;124mmain pharmacological actions of this \u001b[39m\u001b[38;5;124m'\u001b[39m\n",
      "                                     \u001b[38;5;124m'\u001b[39m\u001b[38;5;124mdrug are believed to occur as the result \u001b[39m\u001b[38;5;124m'\u001b[39m\n",
      "                                     \u001b[38;5;124m'\u001b[39m\u001b[38;5;124mof this enzyme inhibition, enhancing \u001b[39m\u001b[38;5;124m'\u001b[39m\n",
      "                                     \u001b[38;5;124m'\u001b[39m\u001b[38;5;124mcholinergic transmission, which relieves \u001b[39m\u001b[38;5;124m'\u001b[39m\n",
      "                                     \u001b[38;5;124m\"\u001b[39m\u001b[38;5;124mthe symptoms of Alzheimer\u001b[39m\u001b[38;5;124m'\u001b[39m\u001b[38;5;124ms dementia. In \u001b[39m\u001b[38;5;124m\"\u001b[39m\n",
      "                                     \u001b[38;5;124m'\u001b[39m\u001b[38;5;124maddition to the above, other mechanisms \u001b[39m\u001b[38;5;124m'\u001b[39m\n",
      "                                     \u001b[38;5;124m'\u001b[39m\u001b[38;5;124mof action of donepezil are possible, \u001b[39m\u001b[38;5;124m'\u001b[39m\n",
      "                                     \u001b[38;5;124m'\u001b[39m\u001b[38;5;124mincluding the opposition of \u001b[39m\u001b[38;5;124m'\u001b[39m\n",
      "                                     \u001b[38;5;124m'\u001b[39m\u001b[38;5;124mglutamate-induced excitatory \u001b[39m\u001b[38;5;124m'\u001b[39m\n",
      "                                     \u001b[38;5;124m'\u001b[39m\u001b[38;5;124mtransmission via downregulation of NMDA \u001b[39m\u001b[38;5;124m'\u001b[39m\n",
      "                                     \u001b[38;5;124m'\u001b[39m\u001b[38;5;124mreceptors and the regulation of amyloid \u001b[39m\u001b[38;5;124m'\u001b[39m\n",
      "                                     \u001b[38;5;124m'\u001b[39m\u001b[38;5;124mproteins, which have demonstrated \u001b[39m\u001b[38;5;124m'\u001b[39m\n",
      "                                     \u001b[38;5;124m'\u001b[39m\u001b[38;5;124msignificant effects on the disease \u001b[39m\u001b[38;5;124m'\u001b[39m\n",
      "                                     \u001b[38;5;124m'\u001b[39m\u001b[38;5;124mprocess of \u001b[39m\u001b[38;5;124m'\u001b[39m\n",
      "                                     \u001b[38;5;124m\"\u001b[39m\u001b[38;5;124mAlzheimer\u001b[39m\u001b[38;5;124m'\u001b[39m\u001b[38;5;124ms.[A182333,A182351,A182444] \u001b[39m\u001b[38;5;124m\"\u001b[39m\n",
      "                                     \u001b[38;5;124m'\u001b[39m\u001b[38;5;124mOther possible targets for donepezil may \u001b[39m\u001b[38;5;124m'\u001b[39m\n",
      "                                     \u001b[38;5;124m'\u001b[39m\u001b[38;5;124malso include the inhibition various \u001b[39m\u001b[38;5;124m'\u001b[39m\n",
      "                                     \u001b[38;5;124m'\u001b[39m\u001b[38;5;124minflammatory signaling pathways, \u001b[39m\u001b[38;5;124m'\u001b[39m\n",
      "                                     \u001b[38;5;124m'\u001b[39m\u001b[38;5;124mexerting neuroprotective \u001b[39m\u001b[38;5;124m'\u001b[39m\n",
      "                                     \u001b[38;5;124m'\u001b[39m\u001b[38;5;124meffects.[A182339,A182393]\u001b[39m\u001b[38;5;124m'\u001b[39m,\n",
      "              \u001b[38;5;124m'\u001b[39m\u001b[38;5;124mmetabolism\u001b[39m\u001b[38;5;124m'\u001b[39m: \u001b[38;5;124m'\u001b[39m\u001b[38;5;124mDonepezil is metabolized by first pass metabolism \u001b[39m\u001b[38;5;124m'\u001b[39m\n",
      "                            \u001b[38;5;124m'\u001b[39m\u001b[38;5;124min the liver, primarily by CYP3A4, in addition to \u001b[39m\u001b[38;5;124m'\u001b[39m\n",
      "                            \u001b[38;5;124m'\u001b[39m\u001b[38;5;124mCYP2D6. After this, O-dealkylation, \u001b[39m\u001b[38;5;124m'\u001b[39m\n",
      "                            \u001b[38;5;124m'\u001b[39m\u001b[38;5;124mhydroxylation, N-oxidation, hydrolysis, and \u001b[39m\u001b[38;5;124m'\u001b[39m\n",
      "                            \u001b[38;5;124m'\u001b[39m\u001b[38;5;124mO-glucuronidation occur, producing various \u001b[39m\u001b[38;5;124m'\u001b[39m\n",
      "                            \u001b[38;5;124m'\u001b[39m\u001b[38;5;124mmetabolites with similar half-lives to the \u001b[39m\u001b[38;5;124m'\u001b[39m\n",
      "                            \u001b[38;5;124m'\u001b[39m\u001b[38;5;124munchanged parent drug. A study of the \u001b[39m\u001b[38;5;124m'\u001b[39m\n",
      "                            \u001b[38;5;124m'\u001b[39m\u001b[38;5;124mpharmacokinetics of radiolabeled donepezil \u001b[39m\u001b[38;5;124m'\u001b[39m\n",
      "                            \u001b[38;5;124m'\u001b[39m\u001b[38;5;124mdemonstrated that about 53\u001b[39m\u001b[38;5;132;01m% o\u001b[39;00m\u001b[38;5;124mf plasma \u001b[39m\u001b[38;5;124m'\u001b[39m\n",
      "                            \u001b[38;5;124m'\u001b[39m\u001b[38;5;124mradioactivity appeared as donepezil in the \u001b[39m\u001b[38;5;124m'\u001b[39m\n",
      "                            \u001b[38;5;124m'\u001b[39m\u001b[38;5;124munchanged form, and 11\u001b[39m\u001b[38;5;124m%\u001b[39m\u001b[38;5;124m was identified as the \u001b[39m\u001b[38;5;124m'\u001b[39m\n",
      "                            \u001b[38;5;124m'\u001b[39m\u001b[38;5;124mmetabolite 6-O-desmethyl donepezil, which exerts \u001b[39m\u001b[38;5;124m'\u001b[39m\n",
      "                            \u001b[38;5;124m'\u001b[39m\u001b[38;5;124msimilar potency inhibition of the \u001b[39m\u001b[38;5;124m'\u001b[39m\n",
      "                            \u001b[38;5;124m'\u001b[39m\u001b[38;5;124macetylcholinesterase enzyme.[A182333,L7916]  This \u001b[39m\u001b[38;5;124m'\u001b[39m\n",
      "                            \u001b[38;5;124m'\u001b[39m\u001b[38;5;124mdrug is heavily metabolized to four primary \u001b[39m\u001b[38;5;124m'\u001b[39m\n",
      "                            \u001b[38;5;124m'\u001b[39m\u001b[38;5;124mmetabolites, two of which are considered \u001b[39m\u001b[38;5;124m'\u001b[39m\n",
      "                            \u001b[38;5;124m'\u001b[39m\u001b[38;5;124mpharmacologically active, as well as to multiple \u001b[39m\u001b[38;5;124m'\u001b[39m\n",
      "                            \u001b[38;5;124m'\u001b[39m\u001b[38;5;124minactive and unidentified metabolites.[L7916]\u001b[39m\u001b[38;5;124m'\u001b[39m,\n",
      "              \u001b[38;5;124m'\u001b[39m\u001b[38;5;124mname\u001b[39m\u001b[38;5;124m'\u001b[39m: \u001b[38;5;124m'\u001b[39m\u001b[38;5;124mDonepezil\u001b[39m\u001b[38;5;124m'\u001b[39m,\n",
      "              \u001b[38;5;124m'\u001b[39m\u001b[38;5;124mpatents\u001b[39m\u001b[38;5;124m'\u001b[39m: [{\u001b[38;5;124m'\u001b[39m\u001b[38;5;124mapproved\u001b[39m\u001b[38;5;124m'\u001b[39m: \u001b[38;5;124m'\u001b[39m\u001b[38;5;124m1990-01-23\u001b[39m\u001b[38;5;124m'\u001b[39m,\n",
      "                           \u001b[38;5;124m'\u001b[39m\u001b[38;5;124mcountry\u001b[39m\u001b[38;5;124m'\u001b[39m: \u001b[38;5;124m'\u001b[39m\u001b[38;5;124mUnited States\u001b[39m\u001b[38;5;124m'\u001b[39m,\n",
      "                           \u001b[38;5;124m'\u001b[39m\u001b[38;5;124mdrugbank_id\u001b[39m\u001b[38;5;124m'\u001b[39m: \u001b[38;5;124m'\u001b[39m\u001b[38;5;124mDB00843\u001b[39m\u001b[38;5;124m'\u001b[39m,\n",
      "                           \u001b[38;5;124m'\u001b[39m\u001b[38;5;124mexpires\u001b[39m\u001b[38;5;124m'\u001b[39m: \u001b[38;5;124m'\u001b[39m\u001b[38;5;124m2010-11-25\u001b[39m\u001b[38;5;124m'\u001b[39m,\n",
      "                           \u001b[38;5;124m'\u001b[39m\u001b[38;5;124mnumber\u001b[39m\u001b[38;5;124m'\u001b[39m: \u001b[38;5;124m'\u001b[39m\u001b[38;5;124m4895841\u001b[39m\u001b[38;5;124m'\u001b[39m,\n",
      "                           \u001b[38;5;124m'\u001b[39m\u001b[38;5;124mpediatric_extension\u001b[39m\u001b[38;5;124m'\u001b[39m: \u001b[38;5;124m'\u001b[39m\u001b[38;5;124mfalse\u001b[39m\u001b[38;5;124m'\u001b[39m},\n",
      "                          {\u001b[38;5;124m'\u001b[39m\u001b[38;5;124mapproved\u001b[39m\u001b[38;5;124m'\u001b[39m: \u001b[38;5;124m'\u001b[39m\u001b[38;5;124m2005-11-22\u001b[39m\u001b[38;5;124m'\u001b[39m,\n",
      "                           \u001b[38;5;124m'\u001b[39m\u001b[38;5;124mcountry\u001b[39m\u001b[38;5;124m'\u001b[39m: \u001b[38;5;124m'\u001b[39m\u001b[38;5;124mCanada\u001b[39m\u001b[38;5;124m'\u001b[39m,\n",
      "                           \u001b[38;5;124m'\u001b[39m\u001b[38;5;124mdrugbank_id\u001b[39m\u001b[38;5;124m'\u001b[39m: \u001b[38;5;124m'\u001b[39m\u001b[38;5;124mDB00843\u001b[39m\u001b[38;5;124m'\u001b[39m,\n",
      "                           \u001b[38;5;124m'\u001b[39m\u001b[38;5;124mexpires\u001b[39m\u001b[38;5;124m'\u001b[39m: \u001b[38;5;124m'\u001b[39m\u001b[38;5;124m2017-06-06\u001b[39m\u001b[38;5;124m'\u001b[39m,\n",
      "                           \u001b[38;5;124m'\u001b[39m\u001b[38;5;124mnumber\u001b[39m\u001b[38;5;124m'\u001b[39m: \u001b[38;5;124m'\u001b[39m\u001b[38;5;124m2252806\u001b[39m\u001b[38;5;124m'\u001b[39m,\n",
      "                           \u001b[38;5;124m'\u001b[39m\u001b[38;5;124mpediatric_extension\u001b[39m\u001b[38;5;124m'\u001b[39m: \u001b[38;5;124m'\u001b[39m\u001b[38;5;124mfalse\u001b[39m\u001b[38;5;124m'\u001b[39m},\n",
      "                          {\u001b[38;5;124m'\u001b[39m\u001b[38;5;124mapproved\u001b[39m\u001b[38;5;124m'\u001b[39m: \u001b[38;5;124m'\u001b[39m\u001b[38;5;124m1996-12-24\u001b[39m\u001b[38;5;124m'\u001b[39m,\n",
      "                           \u001b[38;5;124m'\u001b[39m\u001b[38;5;124mcountry\u001b[39m\u001b[38;5;124m'\u001b[39m: \u001b[38;5;124m'\u001b[39m\u001b[38;5;124mCanada\u001b[39m\u001b[38;5;124m'\u001b[39m,\n",
      "                           \u001b[38;5;124m'\u001b[39m\u001b[38;5;124mdrugbank_id\u001b[39m\u001b[38;5;124m'\u001b[39m: \u001b[38;5;124m'\u001b[39m\u001b[38;5;124mDB00843\u001b[39m\u001b[38;5;124m'\u001b[39m,\n",
      "                           \u001b[38;5;124m'\u001b[39m\u001b[38;5;124mexpires\u001b[39m\u001b[38;5;124m'\u001b[39m: \u001b[38;5;124m'\u001b[39m\u001b[38;5;124m2013-12-24\u001b[39m\u001b[38;5;124m'\u001b[39m,\n",
      "                           \u001b[38;5;124m'\u001b[39m\u001b[38;5;124mnumber\u001b[39m\u001b[38;5;124m'\u001b[39m: \u001b[38;5;124m'\u001b[39m\u001b[38;5;124m1338808\u001b[39m\u001b[38;5;124m'\u001b[39m,\n",
      "                           \u001b[38;5;124m'\u001b[39m\u001b[38;5;124mpediatric_extension\u001b[39m\u001b[38;5;124m'\u001b[39m: \u001b[38;5;124m'\u001b[39m\u001b[38;5;124mfalse\u001b[39m\u001b[38;5;124m'\u001b[39m},\n",
      "                          {\u001b[38;5;124m'\u001b[39m\u001b[38;5;124mapproved\u001b[39m\u001b[38;5;124m'\u001b[39m: \u001b[38;5;124m'\u001b[39m\u001b[38;5;124m2010-06-01\u001b[39m\u001b[38;5;124m'\u001b[39m,\n",
      "                           \u001b[38;5;124m'\u001b[39m\u001b[38;5;124mcountry\u001b[39m\u001b[38;5;124m'\u001b[39m: \u001b[38;5;124m'\u001b[39m\u001b[38;5;124mUnited States\u001b[39m\u001b[38;5;124m'\u001b[39m,\n",
      "                           \u001b[38;5;124m'\u001b[39m\u001b[38;5;124mdrugbank_id\u001b[39m\u001b[38;5;124m'\u001b[39m: \u001b[38;5;124m'\u001b[39m\u001b[38;5;124mDB00843\u001b[39m\u001b[38;5;124m'\u001b[39m,\n",
      "                           \u001b[38;5;124m'\u001b[39m\u001b[38;5;124mexpires\u001b[39m\u001b[38;5;124m'\u001b[39m: \u001b[38;5;124m'\u001b[39m\u001b[38;5;124m2022-06-23\u001b[39m\u001b[38;5;124m'\u001b[39m,\n",
      "                           \u001b[38;5;124m'\u001b[39m\u001b[38;5;124mnumber\u001b[39m\u001b[38;5;124m'\u001b[39m: \u001b[38;5;124m'\u001b[39m\u001b[38;5;124m7727548\u001b[39m\u001b[38;5;124m'\u001b[39m,\n",
      "                           \u001b[38;5;124m'\u001b[39m\u001b[38;5;124mpediatric_extension\u001b[39m\u001b[38;5;124m'\u001b[39m: \u001b[38;5;124m'\u001b[39m\u001b[38;5;124mfalse\u001b[39m\u001b[38;5;124m'\u001b[39m},\n",
      "                          {\u001b[38;5;124m'\u001b[39m\u001b[38;5;124mapproved\u001b[39m\u001b[38;5;124m'\u001b[39m: \u001b[38;5;124m'\u001b[39m\u001b[38;5;124m2010-06-01\u001b[39m\u001b[38;5;124m'\u001b[39m,\n",
      "                           \u001b[38;5;124m'\u001b[39m\u001b[38;5;124mcountry\u001b[39m\u001b[38;5;124m'\u001b[39m: \u001b[38;5;124m'\u001b[39m\u001b[38;5;124mUnited States\u001b[39m\u001b[38;5;124m'\u001b[39m,\n",
      "                           \u001b[38;5;124m'\u001b[39m\u001b[38;5;124mdrugbank_id\u001b[39m\u001b[38;5;124m'\u001b[39m: \u001b[38;5;124m'\u001b[39m\u001b[38;5;124mDB00843\u001b[39m\u001b[38;5;124m'\u001b[39m,\n",
      "                           \u001b[38;5;124m'\u001b[39m\u001b[38;5;124mexpires\u001b[39m\u001b[38;5;124m'\u001b[39m: \u001b[38;5;124m'\u001b[39m\u001b[38;5;124m2018-03-26\u001b[39m\u001b[38;5;124m'\u001b[39m,\n",
      "                           \u001b[38;5;124m'\u001b[39m\u001b[38;5;124mnumber\u001b[39m\u001b[38;5;124m'\u001b[39m: \u001b[38;5;124m'\u001b[39m\u001b[38;5;124m7727552\u001b[39m\u001b[38;5;124m'\u001b[39m,\n",
      "                           \u001b[38;5;124m'\u001b[39m\u001b[38;5;124mpediatric_extension\u001b[39m\u001b[38;5;124m'\u001b[39m: \u001b[38;5;124m'\u001b[39m\u001b[38;5;124mfalse\u001b[39m\u001b[38;5;124m'\u001b[39m},\n",
      "                          {\u001b[38;5;124m'\u001b[39m\u001b[38;5;124mapproved\u001b[39m\u001b[38;5;124m'\u001b[39m: \u001b[38;5;124m'\u001b[39m\u001b[38;5;124m2012-05-08\u001b[39m\u001b[38;5;124m'\u001b[39m,\n",
      "                           \u001b[38;5;124m'\u001b[39m\u001b[38;5;124mcountry\u001b[39m\u001b[38;5;124m'\u001b[39m: \u001b[38;5;124m'\u001b[39m\u001b[38;5;124mUnited States\u001b[39m\u001b[38;5;124m'\u001b[39m,\n",
      "                           \u001b[38;5;124m'\u001b[39m\u001b[38;5;124mdrugbank_id\u001b[39m\u001b[38;5;124m'\u001b[39m: \u001b[38;5;124m'\u001b[39m\u001b[38;5;124mDB00843\u001b[39m\u001b[38;5;124m'\u001b[39m,\n",
      "                           \u001b[38;5;124m'\u001b[39m\u001b[38;5;124mexpires\u001b[39m\u001b[38;5;124m'\u001b[39m: \u001b[38;5;124m'\u001b[39m\u001b[38;5;124m2026-05-22\u001b[39m\u001b[38;5;124m'\u001b[39m,\n",
      "                           \u001b[38;5;124m'\u001b[39m\u001b[38;5;124mnumber\u001b[39m\u001b[38;5;124m'\u001b[39m: \u001b[38;5;124m'\u001b[39m\u001b[38;5;124m8173708\u001b[39m\u001b[38;5;124m'\u001b[39m,\n",
      "                           \u001b[38;5;124m'\u001b[39m\u001b[38;5;124mpediatric_extension\u001b[39m\u001b[38;5;124m'\u001b[39m: \u001b[38;5;124m'\u001b[39m\u001b[38;5;124mtrue\u001b[39m\u001b[38;5;124m'\u001b[39m},\n",
      "                          {\u001b[38;5;124m'\u001b[39m\u001b[38;5;124mapproved\u001b[39m\u001b[38;5;124m'\u001b[39m: \u001b[38;5;124m'\u001b[39m\u001b[38;5;124m2012-10-09\u001b[39m\u001b[38;5;124m'\u001b[39m,\n",
      "                           \u001b[38;5;124m'\u001b[39m\u001b[38;5;124mcountry\u001b[39m\u001b[38;5;124m'\u001b[39m: \u001b[38;5;124m'\u001b[39m\u001b[38;5;124mUnited States\u001b[39m\u001b[38;5;124m'\u001b[39m,\n",
      "                           \u001b[38;5;124m'\u001b[39m\u001b[38;5;124mdrugbank_id\u001b[39m\u001b[38;5;124m'\u001b[39m: \u001b[38;5;124m'\u001b[39m\u001b[38;5;124mDB00843\u001b[39m\u001b[38;5;124m'\u001b[39m,\n",
      "                           \u001b[38;5;124m'\u001b[39m\u001b[38;5;124mexpires\u001b[39m\u001b[38;5;124m'\u001b[39m: \u001b[38;5;124m'\u001b[39m\u001b[38;5;124m2026-05-22\u001b[39m\u001b[38;5;124m'\u001b[39m,\n",
      "                           \u001b[38;5;124m'\u001b[39m\u001b[38;5;124mnumber\u001b[39m\u001b[38;5;124m'\u001b[39m: \u001b[38;5;124m'\u001b[39m\u001b[38;5;124m8283379\u001b[39m\u001b[38;5;124m'\u001b[39m,\n",
      "                           \u001b[38;5;124m'\u001b[39m\u001b[38;5;124mpediatric_extension\u001b[39m\u001b[38;5;124m'\u001b[39m: \u001b[38;5;124m'\u001b[39m\u001b[38;5;124mtrue\u001b[39m\u001b[38;5;124m'\u001b[39m},\n",
      "                          {\u001b[38;5;124m'\u001b[39m\u001b[38;5;124mapproved\u001b[39m\u001b[38;5;124m'\u001b[39m: \u001b[38;5;124m'\u001b[39m\u001b[38;5;124m2013-01-29\u001b[39m\u001b[38;5;124m'\u001b[39m,\n",
      "                           \u001b[38;5;124m'\u001b[39m\u001b[38;5;124mcountry\u001b[39m\u001b[38;5;124m'\u001b[39m: \u001b[38;5;124m'\u001b[39m\u001b[38;5;124mUnited States\u001b[39m\u001b[38;5;124m'\u001b[39m,\n",
      "                           \u001b[38;5;124m'\u001b[39m\u001b[38;5;124mdrugbank_id\u001b[39m\u001b[38;5;124m'\u001b[39m: \u001b[38;5;124m'\u001b[39m\u001b[38;5;124mDB00843\u001b[39m\u001b[38;5;124m'\u001b[39m,\n",
      "                           \u001b[38;5;124m'\u001b[39m\u001b[38;5;124mexpires\u001b[39m\u001b[38;5;124m'\u001b[39m: \u001b[38;5;124m'\u001b[39m\u001b[38;5;124m2026-05-22\u001b[39m\u001b[38;5;124m'\u001b[39m,\n",
      "                           \u001b[38;5;124m'\u001b[39m\u001b[38;5;124mnumber\u001b[39m\u001b[38;5;124m'\u001b[39m: \u001b[38;5;124m'\u001b[39m\u001b[38;5;124m8362085\u001b[39m\u001b[38;5;124m'\u001b[39m,\n",
      "                           \u001b[38;5;124m'\u001b[39m\u001b[38;5;124mpediatric_extension\u001b[39m\u001b[38;5;124m'\u001b[39m: \u001b[38;5;124m'\u001b[39m\u001b[38;5;124mtrue\u001b[39m\u001b[38;5;124m'\u001b[39m},\n",
      "                          {\u001b[38;5;124m'\u001b[39m\u001b[38;5;124mapproved\u001b[39m\u001b[38;5;124m'\u001b[39m: \u001b[38;5;124m'\u001b[39m\u001b[38;5;124m2011-10-18\u001b[39m\u001b[38;5;124m'\u001b[39m,\n",
      "                           \u001b[38;5;124m'\u001b[39m\u001b[38;5;124mcountry\u001b[39m\u001b[38;5;124m'\u001b[39m: \u001b[38;5;124m'\u001b[39m\u001b[38;5;124mUnited States\u001b[39m\u001b[38;5;124m'\u001b[39m,\n",
      "                           \u001b[38;5;124m'\u001b[39m\u001b[38;5;124mdrugbank_id\u001b[39m\u001b[38;5;124m'\u001b[39m: \u001b[38;5;124m'\u001b[39m\u001b[38;5;124mDB00843\u001b[39m\u001b[38;5;124m'\u001b[39m,\n",
      "                           \u001b[38;5;124m'\u001b[39m\u001b[38;5;124mexpires\u001b[39m\u001b[38;5;124m'\u001b[39m: \u001b[38;5;124m'\u001b[39m\u001b[38;5;124m2029-09-24\u001b[39m\u001b[38;5;124m'\u001b[39m,\n",
      "                           \u001b[38;5;124m'\u001b[39m\u001b[38;5;124mnumber\u001b[39m\u001b[38;5;124m'\u001b[39m: \u001b[38;5;124m'\u001b[39m\u001b[38;5;124m8039009\u001b[39m\u001b[38;5;124m'\u001b[39m,\n",
      "                           \u001b[38;5;124m'\u001b[39m\u001b[38;5;124mpediatric_extension\u001b[39m\u001b[38;5;124m'\u001b[39m: \u001b[38;5;124m'\u001b[39m\u001b[38;5;124mtrue\u001b[39m\u001b[38;5;124m'\u001b[39m},\n",
      "                          {\u001b[38;5;124m'\u001b[39m\u001b[38;5;124mapproved\u001b[39m\u001b[38;5;124m'\u001b[39m: \u001b[38;5;124m'\u001b[39m\u001b[38;5;124m2012-12-11\u001b[39m\u001b[38;5;124m'\u001b[39m,\n",
      "                           \u001b[38;5;124m'\u001b[39m\u001b[38;5;124mcountry\u001b[39m\u001b[38;5;124m'\u001b[39m: \u001b[38;5;124m'\u001b[39m\u001b[38;5;124mUnited States\u001b[39m\u001b[38;5;124m'\u001b[39m,\n",
      "                           \u001b[38;5;124m'\u001b[39m\u001b[38;5;124mdrugbank_id\u001b[39m\u001b[38;5;124m'\u001b[39m: \u001b[38;5;124m'\u001b[39m\u001b[38;5;124mDB00843\u001b[39m\u001b[38;5;124m'\u001b[39m,\n",
      "                           \u001b[38;5;124m'\u001b[39m\u001b[38;5;124mexpires\u001b[39m\u001b[38;5;124m'\u001b[39m: \u001b[38;5;124m'\u001b[39m\u001b[38;5;124m2026-05-22\u001b[39m\u001b[38;5;124m'\u001b[39m,\n",
      "                           \u001b[38;5;124m'\u001b[39m\u001b[38;5;124mnumber\u001b[39m\u001b[38;5;124m'\u001b[39m: \u001b[38;5;124m'\u001b[39m\u001b[38;5;124m8329752\u001b[39m\u001b[38;5;124m'\u001b[39m,\n",
      "                           \u001b[38;5;124m'\u001b[39m\u001b[38;5;124mpediatric_extension\u001b[39m\u001b[38;5;124m'\u001b[39m: \u001b[38;5;124m'\u001b[39m\u001b[38;5;124mtrue\u001b[39m\u001b[38;5;124m'\u001b[39m},\n",
      "                          {\u001b[38;5;124m'\u001b[39m\u001b[38;5;124mapproved\u001b[39m\u001b[38;5;124m'\u001b[39m: \u001b[38;5;124m'\u001b[39m\u001b[38;5;124m2013-12-03\u001b[39m\u001b[38;5;124m'\u001b[39m,\n",
      "                           \u001b[38;5;124m'\u001b[39m\u001b[38;5;124mcountry\u001b[39m\u001b[38;5;124m'\u001b[39m: \u001b[38;5;124m'\u001b[39m\u001b[38;5;124mUnited States\u001b[39m\u001b[38;5;124m'\u001b[39m,\n",
      "                           \u001b[38;5;124m'\u001b[39m\u001b[38;5;124mdrugbank_id\u001b[39m\u001b[38;5;124m'\u001b[39m: \u001b[38;5;124m'\u001b[39m\u001b[38;5;124mDB00843\u001b[39m\u001b[38;5;124m'\u001b[39m,\n",
      "                           \u001b[38;5;124m'\u001b[39m\u001b[38;5;124mexpires\u001b[39m\u001b[38;5;124m'\u001b[39m: \u001b[38;5;124m'\u001b[39m\u001b[38;5;124m2026-05-22\u001b[39m\u001b[38;5;124m'\u001b[39m,\n",
      "                           \u001b[38;5;124m'\u001b[39m\u001b[38;5;124mnumber\u001b[39m\u001b[38;5;124m'\u001b[39m: \u001b[38;5;124m'\u001b[39m\u001b[38;5;124m8598233\u001b[39m\u001b[38;5;124m'\u001b[39m,\n",
      "                           \u001b[38;5;124m'\u001b[39m\u001b[38;5;124mpediatric_extension\u001b[39m\u001b[38;5;124m'\u001b[39m: \u001b[38;5;124m'\u001b[39m\u001b[38;5;124mtrue\u001b[39m\u001b[38;5;124m'\u001b[39m},\n",
      "                          {\u001b[38;5;124m'\u001b[39m\u001b[38;5;124mapproved\u001b[39m\u001b[38;5;124m'\u001b[39m: \u001b[38;5;124m'\u001b[39m\u001b[38;5;124m2012-05-01\u001b[39m\u001b[38;5;124m'\u001b[39m,\n",
      "                           \u001b[38;5;124m'\u001b[39m\u001b[38;5;124mcountry\u001b[39m\u001b[38;5;124m'\u001b[39m: \u001b[38;5;124m'\u001b[39m\u001b[38;5;124mUnited States\u001b[39m\u001b[38;5;124m'\u001b[39m,\n",
      "                           \u001b[38;5;124m'\u001b[39m\u001b[38;5;124mdrugbank_id\u001b[39m\u001b[38;5;124m'\u001b[39m: \u001b[38;5;124m'\u001b[39m\u001b[38;5;124mDB00843\u001b[39m\u001b[38;5;124m'\u001b[39m,\n",
      "                           \u001b[38;5;124m'\u001b[39m\u001b[38;5;124mexpires\u001b[39m\u001b[38;5;124m'\u001b[39m: \u001b[38;5;124m'\u001b[39m\u001b[38;5;124m2026-05-22\u001b[39m\u001b[38;5;124m'\u001b[39m,\n",
      "                           \u001b[38;5;124m'\u001b[39m\u001b[38;5;124mnumber\u001b[39m\u001b[38;5;124m'\u001b[39m: \u001b[38;5;124m'\u001b[39m\u001b[38;5;124m8168209\u001b[39m\u001b[38;5;124m'\u001b[39m,\n",
      "                           \u001b[38;5;124m'\u001b[39m\u001b[38;5;124mpediatric_extension\u001b[39m\u001b[38;5;124m'\u001b[39m: \u001b[38;5;124m'\u001b[39m\u001b[38;5;124mtrue\u001b[39m\u001b[38;5;124m'\u001b[39m},\n",
      "                          {\u001b[38;5;124m'\u001b[39m\u001b[38;5;124mapproved\u001b[39m\u001b[38;5;124m'\u001b[39m: \u001b[38;5;124m'\u001b[39m\u001b[38;5;124m2013-07-09\u001b[39m\u001b[38;5;124m'\u001b[39m,\n",
      "                           \u001b[38;5;124m'\u001b[39m\u001b[38;5;124mcountry\u001b[39m\u001b[38;5;124m'\u001b[39m: \u001b[38;5;124m'\u001b[39m\u001b[38;5;124mUnited States\u001b[39m\u001b[38;5;124m'\u001b[39m,\n",
      "                           \u001b[38;5;124m'\u001b[39m\u001b[38;5;124mdrugbank_id\u001b[39m\u001b[38;5;124m'\u001b[39m: \u001b[38;5;124m'\u001b[39m\u001b[38;5;124mDB00843\u001b[39m\u001b[38;5;124m'\u001b[39m,\n",
      "                           \u001b[38;5;124m'\u001b[39m\u001b[38;5;124mexpires\u001b[39m\u001b[38;5;124m'\u001b[39m: \u001b[38;5;124m'\u001b[39m\u001b[38;5;124m2026-10-04\u001b[39m\u001b[38;5;124m'\u001b[39m,\n",
      "                           \u001b[38;5;124m'\u001b[39m\u001b[38;5;124mnumber\u001b[39m\u001b[38;5;124m'\u001b[39m: \u001b[38;5;124m'\u001b[39m\u001b[38;5;124m8481565\u001b[39m\u001b[38;5;124m'\u001b[39m,\n",
      "                           \u001b[38;5;124m'\u001b[39m\u001b[38;5;124mpediatric_extension\u001b[39m\u001b[38;5;124m'\u001b[39m: \u001b[38;5;124m'\u001b[39m\u001b[38;5;124mfalse\u001b[39m\u001b[38;5;124m'\u001b[39m},\n",
      "                          {\u001b[38;5;124m'\u001b[39m\u001b[38;5;124mapproved\u001b[39m\u001b[38;5;124m'\u001b[39m: \u001b[38;5;124m'\u001b[39m\u001b[38;5;124m2012-12-25\u001b[39m\u001b[38;5;124m'\u001b[39m,\n",
      "                           \u001b[38;5;124m'\u001b[39m\u001b[38;5;124mcountry\u001b[39m\u001b[38;5;124m'\u001b[39m: \u001b[38;5;124m'\u001b[39m\u001b[38;5;124mUnited States\u001b[39m\u001b[38;5;124m'\u001b[39m,\n",
      "                           \u001b[38;5;124m'\u001b[39m\u001b[38;5;124mdrugbank_id\u001b[39m\u001b[38;5;124m'\u001b[39m: \u001b[38;5;124m'\u001b[39m\u001b[38;5;124mDB00843\u001b[39m\u001b[38;5;124m'\u001b[39m,\n",
      "                           \u001b[38;5;124m'\u001b[39m\u001b[38;5;124mexpires\u001b[39m\u001b[38;5;124m'\u001b[39m: \u001b[38;5;124m'\u001b[39m\u001b[38;5;124m2025-11-22\u001b[39m\u001b[38;5;124m'\u001b[39m,\n",
      "                           \u001b[38;5;124m'\u001b[39m\u001b[38;5;124mnumber\u001b[39m\u001b[38;5;124m'\u001b[39m: \u001b[38;5;124m'\u001b[39m\u001b[38;5;124m8338486\u001b[39m\u001b[38;5;124m'\u001b[39m,\n",
      "                           \u001b[38;5;124m'\u001b[39m\u001b[38;5;124mpediatric_extension\u001b[39m\u001b[38;5;124m'\u001b[39m: \u001b[38;5;124m'\u001b[39m\u001b[38;5;124mfalse\u001b[39m\u001b[38;5;124m'\u001b[39m},\n",
      "                          {\u001b[38;5;124m'\u001b[39m\u001b[38;5;124mapproved\u001b[39m\u001b[38;5;124m'\u001b[39m: \u001b[38;5;124m'\u001b[39m\u001b[38;5;124m2011-11-15\u001b[39m\u001b[38;5;124m'\u001b[39m,\n",
      "                           \u001b[38;5;124m'\u001b[39m\u001b[38;5;124mcountry\u001b[39m\u001b[38;5;124m'\u001b[39m: \u001b[38;5;124m'\u001b[39m\u001b[38;5;124mUnited States\u001b[39m\u001b[38;5;124m'\u001b[39m,\n",
      "                           \u001b[38;5;124m'\u001b[39m\u001b[38;5;124mdrugbank_id\u001b[39m\u001b[38;5;124m'\u001b[39m: \u001b[38;5;124m'\u001b[39m\u001b[38;5;124mDB00843\u001b[39m\u001b[38;5;124m'\u001b[39m,\n",
      "                           \u001b[38;5;124m'\u001b[39m\u001b[38;5;124mexpires\u001b[39m\u001b[38;5;124m'\u001b[39m: \u001b[38;5;124m'\u001b[39m\u001b[38;5;124m2029-12-05\u001b[39m\u001b[38;5;124m'\u001b[39m,\n",
      "                           \u001b[38;5;124m'\u001b[39m\u001b[38;5;124mnumber\u001b[39m\u001b[38;5;124m'\u001b[39m: \u001b[38;5;124m'\u001b[39m\u001b[38;5;124m8058291\u001b[39m\u001b[38;5;124m'\u001b[39m,\n",
      "                           \u001b[38;5;124m'\u001b[39m\u001b[38;5;124mpediatric_extension\u001b[39m\u001b[38;5;124m'\u001b[39m: \u001b[38;5;124m'\u001b[39m\u001b[38;5;124mfalse\u001b[39m\u001b[38;5;124m'\u001b[39m},\n",
      "                          {\u001b[38;5;124m'\u001b[39m\u001b[38;5;124mapproved\u001b[39m\u001b[38;5;124m'\u001b[39m: \u001b[38;5;124m'\u001b[39m\u001b[38;5;124m2013-11-12\u001b[39m\u001b[38;5;124m'\u001b[39m,\n",
      "                           \u001b[38;5;124m'\u001b[39m\u001b[38;5;124mcountry\u001b[39m\u001b[38;5;124m'\u001b[39m: \u001b[38;5;124m'\u001b[39m\u001b[38;5;124mUnited States\u001b[39m\u001b[38;5;124m'\u001b[39m,\n",
      "                           \u001b[38;5;124m'\u001b[39m\u001b[38;5;124mdrugbank_id\u001b[39m\u001b[38;5;124m'\u001b[39m: \u001b[38;5;124m'\u001b[39m\u001b[38;5;124mDB00843\u001b[39m\u001b[38;5;124m'\u001b[39m,\n",
      "                           \u001b[38;5;124m'\u001b[39m\u001b[38;5;124mexpires\u001b[39m\u001b[38;5;124m'\u001b[39m: \u001b[38;5;124m'\u001b[39m\u001b[38;5;124m2025-11-22\u001b[39m\u001b[38;5;124m'\u001b[39m,\n",
      "                           \u001b[38;5;124m'\u001b[39m\u001b[38;5;124mnumber\u001b[39m\u001b[38;5;124m'\u001b[39m: \u001b[38;5;124m'\u001b[39m\u001b[38;5;124m8580858\u001b[39m\u001b[38;5;124m'\u001b[39m,\n",
      "                           \u001b[38;5;124m'\u001b[39m\u001b[38;5;124mpediatric_extension\u001b[39m\u001b[38;5;124m'\u001b[39m: \u001b[38;5;124m'\u001b[39m\u001b[38;5;124mfalse\u001b[39m\u001b[38;5;124m'\u001b[39m},\n",
      "                          {\u001b[38;5;124m'\u001b[39m\u001b[38;5;124mapproved\u001b[39m\u001b[38;5;124m'\u001b[39m: \u001b[38;5;124m'\u001b[39m\u001b[38;5;124m2012-12-25\u001b[39m\u001b[38;5;124m'\u001b[39m,\n",
      "                           \u001b[38;5;124m'\u001b[39m\u001b[38;5;124mcountry\u001b[39m\u001b[38;5;124m'\u001b[39m: \u001b[38;5;124m'\u001b[39m\u001b[38;5;124mUnited States\u001b[39m\u001b[38;5;124m'\u001b[39m,\n",
      "                           \u001b[38;5;124m'\u001b[39m\u001b[38;5;124mdrugbank_id\u001b[39m\u001b[38;5;124m'\u001b[39m: \u001b[38;5;124m'\u001b[39m\u001b[38;5;124mDB00843\u001b[39m\u001b[38;5;124m'\u001b[39m,\n",
      "                           \u001b[38;5;124m'\u001b[39m\u001b[38;5;124mexpires\u001b[39m\u001b[38;5;124m'\u001b[39m: \u001b[38;5;124m'\u001b[39m\u001b[38;5;124m2025-11-22\u001b[39m\u001b[38;5;124m'\u001b[39m,\n",
      "                           \u001b[38;5;124m'\u001b[39m\u001b[38;5;124mnumber\u001b[39m\u001b[38;5;124m'\u001b[39m: \u001b[38;5;124m'\u001b[39m\u001b[38;5;124m8338485\u001b[39m\u001b[38;5;124m'\u001b[39m,\n",
      "                           \u001b[38;5;124m'\u001b[39m\u001b[38;5;124mpediatric_extension\u001b[39m\u001b[38;5;124m'\u001b[39m: \u001b[38;5;124m'\u001b[39m\u001b[38;5;124mfalse\u001b[39m\u001b[38;5;124m'\u001b[39m},\n",
      "                          {\u001b[38;5;124m'\u001b[39m\u001b[38;5;124mapproved\u001b[39m\u001b[38;5;124m'\u001b[39m: \u001b[38;5;124m'\u001b[39m\u001b[38;5;124m2012-10-23\u001b[39m\u001b[38;5;124m'\u001b[39m,\n",
      "                           \u001b[38;5;124m'\u001b[39m\u001b[38;5;124mcountry\u001b[39m\u001b[38;5;124m'\u001b[39m: \u001b[38;5;124m'\u001b[39m\u001b[38;5;124mUnited States\u001b[39m\u001b[38;5;124m'\u001b[39m,\n",
      "                           \u001b[38;5;124m'\u001b[39m\u001b[38;5;124mdrugbank_id\u001b[39m\u001b[38;5;124m'\u001b[39m: \u001b[38;5;124m'\u001b[39m\u001b[38;5;124mDB00843\u001b[39m\u001b[38;5;124m'\u001b[39m,\n",
      "                           \u001b[38;5;124m'\u001b[39m\u001b[38;5;124mexpires\u001b[39m\u001b[38;5;124m'\u001b[39m: \u001b[38;5;124m'\u001b[39m\u001b[38;5;124m2025-11-22\u001b[39m\u001b[38;5;124m'\u001b[39m,\n",
      "                           \u001b[38;5;124m'\u001b[39m\u001b[38;5;124mnumber\u001b[39m\u001b[38;5;124m'\u001b[39m: \u001b[38;5;124m'\u001b[39m\u001b[38;5;124m8293794\u001b[39m\u001b[38;5;124m'\u001b[39m,\n",
      "                           \u001b[38;5;124m'\u001b[39m\u001b[38;5;124mpediatric_extension\u001b[39m\u001b[38;5;124m'\u001b[39m: \u001b[38;5;124m'\u001b[39m\u001b[38;5;124mfalse\u001b[39m\u001b[38;5;124m'\u001b[39m},\n",
      "                          {\u001b[38;5;124m'\u001b[39m\u001b[38;5;124mapproved\u001b[39m\u001b[38;5;124m'\u001b[39m: \u001b[38;5;124m'\u001b[39m\u001b[38;5;124m1991-10-29\u001b[39m\u001b[38;5;124m'\u001b[39m,\n",
      "                           \u001b[38;5;124m'\u001b[39m\u001b[38;5;124mcountry\u001b[39m\u001b[38;5;124m'\u001b[39m: \u001b[38;5;124m'\u001b[39m\u001b[38;5;124mUnited States\u001b[39m\u001b[38;5;124m'\u001b[39m,\n",
      "                           \u001b[38;5;124m'\u001b[39m\u001b[38;5;124mdrugbank_id\u001b[39m\u001b[38;5;124m'\u001b[39m: \u001b[38;5;124m'\u001b[39m\u001b[38;5;124mDB00843\u001b[39m\u001b[38;5;124m'\u001b[39m,\n",
      "                           \u001b[38;5;124m'\u001b[39m\u001b[38;5;124mexpires\u001b[39m\u001b[38;5;124m'\u001b[39m: \u001b[38;5;124m'\u001b[39m\u001b[38;5;124m2015-10-11\u001b[39m\u001b[38;5;124m'\u001b[39m,\n",
      "                           \u001b[38;5;124m'\u001b[39m\u001b[38;5;124mnumber\u001b[39m\u001b[38;5;124m'\u001b[39m: \u001b[38;5;124m'\u001b[39m\u001b[38;5;124m5061703\u001b[39m\u001b[38;5;124m'\u001b[39m,\n",
      "                           \u001b[38;5;124m'\u001b[39m\u001b[38;5;124mpediatric_extension\u001b[39m\u001b[38;5;124m'\u001b[39m: \u001b[38;5;124m'\u001b[39m\u001b[38;5;124mtrue\u001b[39m\u001b[38;5;124m'\u001b[39m}],\n",
      "              \u001b[38;5;124m'\u001b[39m\u001b[38;5;124mpathways\u001b[39m\u001b[38;5;124m'\u001b[39m: [],\n",
      "              \u001b[38;5;124m'\u001b[39m\u001b[38;5;124mpharmacodynamics\u001b[39m\u001b[38;5;124m'\u001b[39m: \u001b[38;5;124m'\u001b[39m\u001b[38;5;124mBy inhibiting the acetylcholinesterase \u001b[39m\u001b[38;5;124m'\u001b[39m\n",
      "                                  \u001b[38;5;124m'\u001b[39m\u001b[38;5;124menzyme, donepezil improves the cognitive \u001b[39m\u001b[38;5;124m'\u001b[39m\n",
      "                                  \u001b[38;5;124m'\u001b[39m\u001b[38;5;124mand behavioral signs and symptoms of \u001b[39m\u001b[38;5;124m'\u001b[39m\n",
      "                                  \u001b[38;5;124m\"\u001b[39m\u001b[38;5;124mAlzheimer\u001b[39m\u001b[38;5;124m'\u001b[39m\u001b[38;5;124ms Disease, which may include \u001b[39m\u001b[38;5;124m\"\u001b[39m\n",
      "                                  \u001b[38;5;124m'\u001b[39m\u001b[38;5;124mapathy, aggression, confusion, and \u001b[39m\u001b[38;5;124m'\u001b[39m\n",
      "                                  \u001b[38;5;124m'\u001b[39m\u001b[38;5;124mpsychosis.[A182333,A182408]\u001b[39m\u001b[38;5;124m'\u001b[39m,\n",
      "              \u001b[38;5;124m'\u001b[39m\u001b[38;5;124mproduct_names\u001b[39m\u001b[38;5;124m'\u001b[39m: [\u001b[38;5;124m'\u001b[39m\u001b[38;5;124mAct Donepezil\u001b[39m\u001b[38;5;124m'\u001b[39m,\n",
      "                                \u001b[38;5;124m'\u001b[39m\u001b[38;5;124mM-donepezil\u001b[39m\u001b[38;5;124m'\u001b[39m,\n",
      "                                \u001b[38;5;124m'\u001b[39m\u001b[38;5;124mAricept\u001b[39m\u001b[38;5;124m'\u001b[39m,\n",
      "                                \u001b[38;5;124m'\u001b[39m\u001b[38;5;124mDonepezil\u001b[39m\u001b[38;5;124m'\u001b[39m,\n",
      "                                \u001b[38;5;124m'\u001b[39m\u001b[38;5;124mPriva-donepezil\u001b[39m\u001b[38;5;124m'\u001b[39m,\n",
      "                                \u001b[38;5;124m'\u001b[39m\u001b[38;5;124mEcl-donepezil\u001b[39m\u001b[38;5;124m'\u001b[39m,\n",
      "                                \u001b[38;5;124m'\u001b[39m\u001b[38;5;124mAg-donepezil\u001b[39m\u001b[38;5;124m'\u001b[39m,\n",
      "                                \u001b[38;5;124m'\u001b[39m\u001b[38;5;124mDONEPEZIL HYDROCHLORIDE 10mg\u001b[39m\u001b[38;5;124m'\u001b[39m,\n",
      "                                \u001b[38;5;124m'\u001b[39m\u001b[38;5;124mSepta Donepezil\u001b[39m\u001b[38;5;124m'\u001b[39m,\n",
      "                                \u001b[38;5;124m'\u001b[39m\u001b[38;5;124mDonepezil Hydrochloride ODT\u001b[39m\u001b[38;5;124m'\u001b[39m,\n",
      "                                \u001b[38;5;124m'\u001b[39m\u001b[38;5;124mSandoz Donepezil\u001b[39m\u001b[38;5;124m'\u001b[39m,\n",
      "                                \u001b[38;5;124m'\u001b[39m\u001b[38;5;124mDonepezil Hydrochloride 10 mg\u001b[39m\u001b[38;5;124m'\u001b[39m,\n",
      "                                \u001b[38;5;124m'\u001b[39m\u001b[38;5;124mJamp-donepezil\u001b[39m\u001b[38;5;124m'\u001b[39m,\n",
      "                                \u001b[38;5;124m'\u001b[39m\u001b[38;5;124mNamzaric\u001b[39m\u001b[38;5;124m'\u001b[39m,\n",
      "                                \u001b[38;5;124m'\u001b[39m\u001b[38;5;124mdonepezil hydrochloride ODT\u001b[39m\u001b[38;5;124m'\u001b[39m,\n",
      "                                \u001b[38;5;124m'\u001b[39m\u001b[38;5;124mAuro-donepezil\u001b[39m\u001b[38;5;124m'\u001b[39m,\n",
      "                                \u001b[38;5;124m'\u001b[39m\u001b[38;5;124mMint-donepezil\u001b[39m\u001b[38;5;124m'\u001b[39m,\n",
      "                                \u001b[38;5;124m'\u001b[39m\u001b[38;5;124mMylan-donepezil\u001b[39m\u001b[38;5;124m'\u001b[39m,\n",
      "                                \u001b[38;5;124m'\u001b[39m\u001b[38;5;124mAccel-donepezil\u001b[39m\u001b[38;5;124m'\u001b[39m,\n",
      "                                \u001b[38;5;124m'\u001b[39m\u001b[38;5;124mTeva-donepezil\u001b[39m\u001b[38;5;124m'\u001b[39m,\n",
      "                                \u001b[38;5;124m'\u001b[39m\u001b[38;5;124mDonepezil Hydrochloride Tablets\u001b[39m\u001b[38;5;124m'\u001b[39m,\n",
      "                                \u001b[38;5;124m'\u001b[39m\u001b[38;5;124mVan-donepezil\u001b[39m\u001b[38;5;124m'\u001b[39m,\n",
      "                                \u001b[38;5;124m'\u001b[39m\u001b[38;5;124mMemantine and Donepezil Hydrochlorides \u001b[39m\u001b[38;5;124m'\u001b[39m\n",
      "                                \u001b[38;5;124m'\u001b[39m\u001b[38;5;124mExtended-release\u001b[39m\u001b[38;5;124m'\u001b[39m,\n",
      "                                \u001b[38;5;124m'\u001b[39m\u001b[38;5;124mDom-donepezil\u001b[39m\u001b[38;5;124m'\u001b[39m,\n",
      "                                \u001b[38;5;124m'\u001b[39m\u001b[38;5;124mBio-donepezil\u001b[39m\u001b[38;5;124m'\u001b[39m,\n",
      "                                \u001b[38;5;124m'\u001b[39m\u001b[38;5;124mDonepezil Hydrochloride\u001b[39m\u001b[38;5;124m'\u001b[39m,\n",
      "                                \u001b[38;5;124m'\u001b[39m\u001b[38;5;124mIpg-donepezil\u001b[39m\u001b[38;5;124m'\u001b[39m,\n",
      "                                \u001b[38;5;124m'\u001b[39m\u001b[38;5;124mAricept Rdt\u001b[39m\u001b[38;5;124m'\u001b[39m,\n",
      "                                \u001b[38;5;124m'\u001b[39m\u001b[38;5;124mRiva-donepezil\u001b[39m\u001b[38;5;124m'\u001b[39m,\n",
      "                                \u001b[38;5;124m'\u001b[39m\u001b[38;5;124mDonepezil Hydrochloride 10mg\u001b[39m\u001b[38;5;124m'\u001b[39m,\n",
      "                                \u001b[38;5;124m'\u001b[39m\u001b[38;5;124mAricept ODT\u001b[39m\u001b[38;5;124m'\u001b[39m,\n",
      "                                \u001b[38;5;124m'\u001b[39m\u001b[38;5;124mDonepezil hydrochloride\u001b[39m\u001b[38;5;124m'\u001b[39m,\n",
      "                                \u001b[38;5;124m'\u001b[39m\u001b[38;5;124mPMS-donepezil\u001b[39m\u001b[38;5;124m'\u001b[39m,\n",
      "                                \u001b[38;5;124m'\u001b[39m\u001b[38;5;124mNat-donepezil\u001b[39m\u001b[38;5;124m'\u001b[39m,\n",
      "                                \u001b[38;5;124m'\u001b[39m\u001b[38;5;124mDonepezil Hyrochloride 5mg\u001b[39m\u001b[38;5;124m'\u001b[39m,\n",
      "                                \u001b[38;5;124m'\u001b[39m\u001b[38;5;124mDonepezil Hydrochloride Tablets USP\u001b[39m\u001b[38;5;124m'\u001b[39m,\n",
      "                                \u001b[38;5;124m'\u001b[39m\u001b[38;5;124mAct Donepezil ODT\u001b[39m\u001b[38;5;124m'\u001b[39m,\n",
      "                                \u001b[38;5;124m'\u001b[39m\u001b[38;5;124mTaro-donepezil\u001b[39m\u001b[38;5;124m'\u001b[39m,\n",
      "                                \u001b[38;5;124m'\u001b[39m\u001b[38;5;124mDonepezil Hydrochloride 5 mg\u001b[39m\u001b[38;5;124m'\u001b[39m,\n",
      "                                \u001b[38;5;124m'\u001b[39m\u001b[38;5;124mMar-donepezil\u001b[39m\u001b[38;5;124m'\u001b[39m,\n",
      "                                \u001b[38;5;124m'\u001b[39m\u001b[38;5;124mSandoz Donepezil ODT\u001b[39m\u001b[38;5;124m'\u001b[39m,\n",
      "                                \u001b[38;5;124m'\u001b[39m\u001b[38;5;124mApo-donepezil\u001b[39m\u001b[38;5;124m'\u001b[39m,\n",
      "                                \u001b[38;5;124m'\u001b[39m\u001b[38;5;124mJamp-donepezil Tablets\u001b[39m\u001b[38;5;124m'\u001b[39m,\n",
      "                                \u001b[38;5;124m'\u001b[39m\u001b[38;5;124mDONEPEZIL HYROCHLORIDE 5mg\u001b[39m\u001b[38;5;124m'\u001b[39m],\n",
      "              \u001b[38;5;124m'\u001b[39m\u001b[38;5;124mreferences\u001b[39m\u001b[38;5;124m'\u001b[39m: [\u001b[38;5;241m15948662\u001b[39m,\n",
      "                             \u001b[38;5;241m12105320\u001b[39m,\n",
      "                             \u001b[38;5;241m11893059\u001b[39m,\n",
      "                             \u001b[38;5;241m29768996\u001b[39m,\n",
      "                             \u001b[38;5;241m24785550\u001b[39m,\n",
      "                             \u001b[38;5;241m9839758\u001b[39m,\n",
      "                             \u001b[38;5;241m9839761\u001b[39m,\n",
      "                             \u001b[38;5;241m16863459\u001b[39m,\n",
      "                             \u001b[38;5;241m27199640\u001b[39m,\n",
      "                             \u001b[38;5;241m20153342\u001b[39m,\n",
      "                             \u001b[38;5;241m27252988\u001b[39m,\n",
      "                             \u001b[38;5;241m20061647\u001b[39m,\n",
      "                             \u001b[38;5;241m12805474\u001b[39m,\n",
      "                             \u001b[38;5;241m25652642\u001b[39m,\n",
      "                             \u001b[38;5;241m25133184\u001b[39m,\n",
      "                             \u001b[38;5;241m30497964\u001b[39m,\n",
      "                             \u001b[38;5;241m20718745\u001b[39m],\n",
      "              \u001b[38;5;124m'\u001b[39m\u001b[38;5;124mroute_of_elimination\u001b[39m\u001b[38;5;124m'\u001b[39m: \u001b[38;5;124m'\u001b[39m\u001b[38;5;124m In a study of radiolabeled \u001b[39m\u001b[38;5;124m'\u001b[39m\n",
      "                                      \u001b[38;5;124m'\u001b[39m\u001b[38;5;124madministration donepezil in healthy \u001b[39m\u001b[38;5;124m'\u001b[39m\n",
      "                                      \u001b[38;5;124m'\u001b[39m\u001b[38;5;124madults, 57\u001b[39m\u001b[38;5;132;01m% o\u001b[39;00m\u001b[38;5;124mf measured radioactivity \u001b[39m\u001b[38;5;124m'\u001b[39m\n",
      "                                      \u001b[38;5;124m'\u001b[39m\u001b[38;5;124mwas identified in the urine, and 5\u001b[39m\u001b[38;5;124m%\u001b[39m\u001b[38;5;124m was \u001b[39m\u001b[38;5;124m'\u001b[39m\n",
      "                                      \u001b[38;5;124m'\u001b[39m\u001b[38;5;124midentified in the feces.[A182333]\u001b[39m\u001b[38;5;124m'\u001b[39m,\n",
      "              \u001b[38;5;124m'\u001b[39m\u001b[38;5;124mstatuses\u001b[39m\u001b[38;5;124m'\u001b[39m: [\u001b[38;5;124m'\u001b[39m\u001b[38;5;124mapproved\u001b[39m\u001b[38;5;124m'\u001b[39m],\n",
      "              \u001b[38;5;124m'\u001b[39m\u001b[38;5;124mtargets\u001b[39m\u001b[38;5;124m'\u001b[39m: [{\u001b[38;5;124m'\u001b[39m\u001b[38;5;124maction\u001b[39m\u001b[38;5;124m'\u001b[39m: \u001b[38;5;124m'\u001b[39m\u001b[38;5;124minhibitor\u001b[39m\u001b[38;5;124m'\u001b[39m,\n",
      "                           \u001b[38;5;124m'\u001b[39m\u001b[38;5;124mdrugbank_id\u001b[39m\u001b[38;5;124m'\u001b[39m: \u001b[38;5;124m'\u001b[39m\u001b[38;5;124mDB00843\u001b[39m\u001b[38;5;124m'\u001b[39m,\n",
      "                           \u001b[38;5;124m'\u001b[39m\u001b[38;5;124mknown_action\u001b[39m\u001b[38;5;124m'\u001b[39m: \u001b[38;5;124m'\u001b[39m\u001b[38;5;124myes\u001b[39m\u001b[38;5;124m'\u001b[39m,\n",
      "                           \u001b[38;5;124m'\u001b[39m\u001b[38;5;124muniprot\u001b[39m\u001b[38;5;124m'\u001b[39m: \u001b[38;5;124m'\u001b[39m\u001b[38;5;124mP22303\u001b[39m\u001b[38;5;124m'\u001b[39m},\n",
      "                          {\u001b[38;5;124m'\u001b[39m\u001b[38;5;124maction\u001b[39m\u001b[38;5;124m'\u001b[39m: \u001b[38;5;124m'\u001b[39m\u001b[38;5;124minducer\u001b[39m\u001b[38;5;124m'\u001b[39m,\n",
      "                           \u001b[38;5;124m'\u001b[39m\u001b[38;5;124mdrugbank_id\u001b[39m\u001b[38;5;124m'\u001b[39m: \u001b[38;5;124m'\u001b[39m\u001b[38;5;124mDB00843\u001b[39m\u001b[38;5;124m'\u001b[39m,\n",
      "                           \u001b[38;5;124m'\u001b[39m\u001b[38;5;124mknown_action\u001b[39m\u001b[38;5;124m'\u001b[39m: \u001b[38;5;124m'\u001b[39m\u001b[38;5;124munknown\u001b[39m\u001b[38;5;124m'\u001b[39m,\n",
      "                           \u001b[38;5;124m'\u001b[39m\u001b[38;5;124muniprot\u001b[39m\u001b[38;5;124m'\u001b[39m: \u001b[38;5;124m'\u001b[39m\u001b[38;5;124mP28223\u001b[39m\u001b[38;5;124m'\u001b[39m},\n",
      "                          {\u001b[38;5;124m'\u001b[39m\u001b[38;5;124maction\u001b[39m\u001b[38;5;124m'\u001b[39m: \u001b[38;5;124m'\u001b[39m\u001b[38;5;124minducer\u001b[39m\u001b[38;5;124m'\u001b[39m,\n",
      "                           \u001b[38;5;124m'\u001b[39m\u001b[38;5;124mdrugbank_id\u001b[39m\u001b[38;5;124m'\u001b[39m: \u001b[38;5;124m'\u001b[39m\u001b[38;5;124mDB00843\u001b[39m\u001b[38;5;124m'\u001b[39m,\n",
      "                           \u001b[38;5;124m'\u001b[39m\u001b[38;5;124mknown_action\u001b[39m\u001b[38;5;124m'\u001b[39m: \u001b[38;5;124m'\u001b[39m\u001b[38;5;124munknown\u001b[39m\u001b[38;5;124m'\u001b[39m,\n",
      "                           \u001b[38;5;124m'\u001b[39m\u001b[38;5;124muniprot\u001b[39m\u001b[38;5;124m'\u001b[39m: \u001b[38;5;124m'\u001b[39m\u001b[38;5;124mP06276\u001b[39m\u001b[38;5;124m'\u001b[39m},\n",
      "                          {\u001b[38;5;124m'\u001b[39m\u001b[38;5;124maction\u001b[39m\u001b[38;5;124m'\u001b[39m: \u001b[38;5;124m'\u001b[39m\u001b[38;5;124minhibitor\u001b[39m\u001b[38;5;124m'\u001b[39m,\n",
      "                           \u001b[38;5;124m'\u001b[39m\u001b[38;5;124mdrugbank_id\u001b[39m\u001b[38;5;124m'\u001b[39m: \u001b[38;5;124m'\u001b[39m\u001b[38;5;124mDB00843\u001b[39m\u001b[38;5;124m'\u001b[39m,\n",
      "                           \u001b[38;5;124m'\u001b[39m\u001b[38;5;124mknown_action\u001b[39m\u001b[38;5;124m'\u001b[39m: \u001b[38;5;124m'\u001b[39m\u001b[38;5;124munknown\u001b[39m\u001b[38;5;124m'\u001b[39m,\n",
      "                           \u001b[38;5;124m'\u001b[39m\u001b[38;5;124muniprot\u001b[39m\u001b[38;5;124m'\u001b[39m: \u001b[38;5;124m'\u001b[39m\u001b[38;5;124mP29475\u001b[39m\u001b[38;5;124m'\u001b[39m},\n",
      "                          {\u001b[38;5;124m'\u001b[39m\u001b[38;5;124maction\u001b[39m\u001b[38;5;124m'\u001b[39m: \u001b[38;5;124m'\u001b[39m\u001b[38;5;124minhibitor\u001b[39m\u001b[38;5;124m'\u001b[39m,\n",
      "                           \u001b[38;5;124m'\u001b[39m\u001b[38;5;124mdrugbank_id\u001b[39m\u001b[38;5;124m'\u001b[39m: \u001b[38;5;124m'\u001b[39m\u001b[38;5;124mDB00843\u001b[39m\u001b[38;5;124m'\u001b[39m,\n",
      "                           \u001b[38;5;124m'\u001b[39m\u001b[38;5;124mknown_action\u001b[39m\u001b[38;5;124m'\u001b[39m: \u001b[38;5;124m'\u001b[39m\u001b[38;5;124munknown\u001b[39m\u001b[38;5;124m'\u001b[39m,\n",
      "                           \u001b[38;5;124m'\u001b[39m\u001b[38;5;124muniprot\u001b[39m\u001b[38;5;124m'\u001b[39m: \u001b[38;5;124m'\u001b[39m\u001b[38;5;124mP98066\u001b[39m\u001b[38;5;124m'\u001b[39m},\n",
      "                          {\u001b[38;5;124m'\u001b[39m\u001b[38;5;124maction\u001b[39m\u001b[38;5;124m'\u001b[39m: \u001b[38;5;124m'\u001b[39m\u001b[38;5;124minhibitor\u001b[39m\u001b[38;5;124m'\u001b[39m,\n",
      "                           \u001b[38;5;124m'\u001b[39m\u001b[38;5;124mdrugbank_id\u001b[39m\u001b[38;5;124m'\u001b[39m: \u001b[38;5;124m'\u001b[39m\u001b[38;5;124mDB00843\u001b[39m\u001b[38;5;124m'\u001b[39m,\n",
      "                           \u001b[38;5;124m'\u001b[39m\u001b[38;5;124mknown_action\u001b[39m\u001b[38;5;124m'\u001b[39m: \u001b[38;5;124m'\u001b[39m\u001b[38;5;124munknown\u001b[39m\u001b[38;5;124m'\u001b[39m,\n",
      "                           \u001b[38;5;124m'\u001b[39m\u001b[38;5;124muniprot\u001b[39m\u001b[38;5;124m'\u001b[39m: \u001b[38;5;124m'\u001b[39m\u001b[38;5;124mP01584\u001b[39m\u001b[38;5;124m'\u001b[39m},\n",
      "                          {\u001b[38;5;124m'\u001b[39m\u001b[38;5;124maction\u001b[39m\u001b[38;5;124m'\u001b[39m: \u001b[38;5;124m'\u001b[39m\u001b[38;5;124minhibitor\u001b[39m\u001b[38;5;124m'\u001b[39m,\n",
      "                           \u001b[38;5;124m'\u001b[39m\u001b[38;5;124mdrugbank_id\u001b[39m\u001b[38;5;124m'\u001b[39m: \u001b[38;5;124m'\u001b[39m\u001b[38;5;124mDB00843\u001b[39m\u001b[38;5;124m'\u001b[39m,\n",
      "                           \u001b[38;5;124m'\u001b[39m\u001b[38;5;124mknown_action\u001b[39m\u001b[38;5;124m'\u001b[39m: \u001b[38;5;124m'\u001b[39m\u001b[38;5;124munknown\u001b[39m\u001b[38;5;124m'\u001b[39m,\n",
      "                           \u001b[38;5;124m'\u001b[39m\u001b[38;5;124muniprot\u001b[39m\u001b[38;5;124m'\u001b[39m: \u001b[38;5;124m'\u001b[39m\u001b[38;5;124mQ00653\u001b[39m\u001b[38;5;124m'\u001b[39m},\n",
      "                          {\u001b[38;5;124m'\u001b[39m\u001b[38;5;124maction\u001b[39m\u001b[38;5;124m'\u001b[39m: \u001b[38;5;124m'\u001b[39m\u001b[38;5;124mdownregulator\u001b[39m\u001b[38;5;124m'\u001b[39m,\n",
      "                           \u001b[38;5;124m'\u001b[39m\u001b[38;5;124mdrugbank_id\u001b[39m\u001b[38;5;124m'\u001b[39m: \u001b[38;5;124m'\u001b[39m\u001b[38;5;124mDB00843\u001b[39m\u001b[38;5;124m'\u001b[39m,\n",
      "                           \u001b[38;5;124m'\u001b[39m\u001b[38;5;124mknown_action\u001b[39m\u001b[38;5;124m'\u001b[39m: \u001b[38;5;124m'\u001b[39m\u001b[38;5;124munknown\u001b[39m\u001b[38;5;124m'\u001b[39m,\n",
      "                           \u001b[38;5;124m'\u001b[39m\u001b[38;5;124muniprot\u001b[39m\u001b[38;5;124m'\u001b[39m: \u001b[38;5;124m'\u001b[39m\u001b[38;5;124mQ05586\u001b[39m\u001b[38;5;124m'\u001b[39m}],\n",
      "              \u001b[38;5;124m'\u001b[39m\u001b[38;5;124mtoxicity\u001b[39m\u001b[38;5;124m'\u001b[39m: \u001b[38;5;124m'\u001b[39m\u001b[38;5;124mLD50\u001b[39m\u001b[38;5;130;01m\\r\u001b[39;00m\u001b[38;5;130;01m\\n\u001b[39;00m\u001b[38;5;124m'\u001b[39m\n",
      "                          \u001b[38;5;124m'\u001b[39m\u001b[38;5;130;01m\\r\u001b[39;00m\u001b[38;5;130;01m\\n\u001b[39;00m\u001b[38;5;124m'\u001b[39m\n",
      "                          \u001b[38;5;124m'\u001b[39m\u001b[38;5;124mThe rat oral LD50 of donepezil is 32.6 \u001b[39m\u001b[38;5;124m'\u001b[39m\n",
      "                          \u001b[38;5;124m'\u001b[39m\u001b[38;5;124mmg/kg.[L7928]\u001b[39m\u001b[38;5;130;01m\\r\u001b[39;00m\u001b[38;5;130;01m\\n\u001b[39;00m\u001b[38;5;124m'\u001b[39m\n",
      "                          \u001b[38;5;124m'\u001b[39m\u001b[38;5;130;01m\\r\u001b[39;00m\u001b[38;5;130;01m\\n\u001b[39;00m\u001b[38;5;124m'\u001b[39m\n",
      "                          \u001b[38;5;124m'\u001b[39m\u001b[38;5;124mOverdose information\u001b[39m\u001b[38;5;130;01m\\r\u001b[39;00m\u001b[38;5;130;01m\\n\u001b[39;00m\u001b[38;5;124m'\u001b[39m\n",
      "                          \u001b[38;5;124m'\u001b[39m\u001b[38;5;130;01m\\r\u001b[39;00m\u001b[38;5;130;01m\\n\u001b[39;00m\u001b[38;5;124m'\u001b[39m\n",
      "                          \u001b[38;5;124m'\u001b[39m\u001b[38;5;124mSigns and symptoms of overdose with cholinesterase \u001b[39m\u001b[38;5;124m'\u001b[39m\n",
      "                          \u001b[38;5;124m'\u001b[39m\u001b[38;5;124minhibitors such as donepezil can include severe \u001b[39m\u001b[38;5;124m'\u001b[39m\n",
      "                          \u001b[38;5;124m'\u001b[39m\u001b[38;5;124mnausea and vomiting, bradycardia, hypotension, \u001b[39m\u001b[38;5;124m'\u001b[39m\n",
      "                          \u001b[38;5;124m'\u001b[39m\u001b[38;5;124mperspiration, seizures, muscle weakness respiratory \u001b[39m\u001b[38;5;124m'\u001b[39m\n",
      "                          \u001b[38;5;124m'\u001b[39m\u001b[38;5;124mdepression, and collapse. Significant muscle \u001b[39m\u001b[38;5;124m'\u001b[39m\n",
      "                          \u001b[38;5;124m'\u001b[39m\u001b[38;5;124mweakness may result in death if the respiratory \u001b[39m\u001b[38;5;124m'\u001b[39m\n",
      "                          \u001b[38;5;124m'\u001b[39m\u001b[38;5;124mmuscles are affected by donepezil overdose. To \u001b[39m\u001b[38;5;124m'\u001b[39m\n",
      "                          \u001b[38;5;124m'\u001b[39m\u001b[38;5;124mmanage an overdose, anticholinergics can be \u001b[39m\u001b[38;5;124m'\u001b[39m\n",
      "                          \u001b[38;5;124m'\u001b[39m\u001b[38;5;124memployed as antidotes.  Atropine at intravenous \u001b[39m\u001b[38;5;124m'\u001b[39m\n",
      "                          \u001b[38;5;124m'\u001b[39m\u001b[38;5;124mdoses of 1.0 - 2.0 mg can be administered and \u001b[39m\u001b[38;5;124m'\u001b[39m\n",
      "                          \u001b[38;5;124m'\u001b[39m\u001b[38;5;124mtitrated according to the clinical response. \u001b[39m\u001b[38;5;124m'\u001b[39m\n",
      "                          \u001b[38;5;124m'\u001b[39m\u001b[38;5;124mConsult the local poison control center for the \u001b[39m\u001b[38;5;124m'\u001b[39m\n",
      "                          \u001b[38;5;124m'\u001b[39m\u001b[38;5;124mmost updated guidelines on the management of a \u001b[39m\u001b[38;5;124m'\u001b[39m\n",
      "                          \u001b[38;5;124m'\u001b[39m\u001b[38;5;124mdonepezil overdose. Whether donepezil can be \u001b[39m\u001b[38;5;124m'\u001b[39m\n",
      "                          \u001b[38;5;124m'\u001b[39m\u001b[38;5;124mremoved from the body with dialysis is unknown at \u001b[39m\u001b[38;5;124m'\u001b[39m\n",
      "                          \u001b[38;5;124m'\u001b[39m\u001b[38;5;124mthis time.[L7916]\u001b[39m\u001b[38;5;124m'\u001b[39m,\n",
      "              \u001b[38;5;124m'\u001b[39m\u001b[38;5;124mvolume_of_distribution\u001b[39m\u001b[38;5;124m'\u001b[39m: \u001b[38;5;124m'\u001b[39m\u001b[38;5;124mThe volume of distribution of \u001b[39m\u001b[38;5;124m'\u001b[39m\n",
      "                                        \u001b[38;5;124m'\u001b[39m\u001b[38;5;124mdonepezil is 11.8 ± 1.7 L/kg for a \u001b[39m\u001b[38;5;124m'\u001b[39m\n",
      "                                        \u001b[38;5;124m'\u001b[39m\u001b[38;5;124m5-mg dose and 11.6 ± 1.91 L/kg for a \u001b[39m\u001b[38;5;124m'\u001b[39m\n",
      "                                        \u001b[38;5;124m'\u001b[39m\u001b[38;5;124m10-mg dose. It is largely distributed \u001b[39m\u001b[38;5;124m'\u001b[39m\n",
      "                                        \u001b[38;5;124m'\u001b[39m\u001b[38;5;124min the extravascular compartments. \u001b[39m\u001b[38;5;124m'\u001b[39m\n",
      "                                        \u001b[38;5;124m'\u001b[39m\u001b[38;5;124mDonepezil crosses the blood-brain \u001b[39m\u001b[38;5;124m'\u001b[39m\n",
      "                                        \u001b[38;5;124m'\u001b[39m\u001b[38;5;124mbarrier and cerebrospinal fluid \u001b[39m\u001b[38;5;124m'\u001b[39m\n",
      "                                        \u001b[38;5;124m'\u001b[39m\u001b[38;5;124mconcentrations at the above doses \u001b[39m\u001b[38;5;124m'\u001b[39m\n",
      "                                        \u001b[38;5;124m'\u001b[39m\u001b[38;5;124mhave been measured at 15.7\u001b[39m\u001b[38;5;124m%\u001b[39m\u001b[38;5;124m.[A182333] \u001b[39m\u001b[38;5;124m'\u001b[39m\n",
      "                                        \u001b[38;5;124m'\u001b[39m\u001b[38;5;124mThe volume of distribution at \u001b[39m\u001b[38;5;124m'\u001b[39m\n",
      "                                        \u001b[38;5;124m'\u001b[39m\u001b[38;5;124msteady-state according to the FDA \u001b[39m\u001b[38;5;124m'\u001b[39m\n",
      "                                        \u001b[38;5;124m'\u001b[39m\u001b[38;5;124mlabel for donepezil ranges from 12 - \u001b[39m\u001b[38;5;124m'\u001b[39m\n",
      "                                        \u001b[38;5;124m'\u001b[39m\u001b[38;5;124m16 L/kg.[L7916]\u001b[39m\u001b[38;5;124m'\u001b[39m}]}\n",
      "\n",
      "For further testing go to http://0.0.0.0:5000/ui/#/Drugbank/ebel.web.api.ebel.v1.drugbank.get_drugbank\n"
     ]
    },
    {
     "data": {
      "text/html": [
       "<h2>2. Drug by DrugBank identifier</h2>"
      ],
      "text/plain": [
       "<IPython.core.display.HTML object>"
      ]
     },
     "metadata": {},
     "output_type": "display_data"
    },
    {
     "data": {
      "text/html": [
       "<b style=\"color: rgb(98,98,98); text-decoration: underline;\">Description:</b> <p>Drug by DrugBank identifier</p>"
      ],
      "text/plain": [
       "<IPython.core.display.HTML object>"
      ]
     },
     "metadata": {},
     "output_type": "display_data"
    },
    {
     "data": {
      "text/html": [
       "<b>Tags:</b> ['Drugbank']"
      ],
      "text/plain": [
       "<IPython.core.display.HTML object>"
      ]
     },
     "metadata": {},
     "output_type": "display_data"
    },
    {
     "data": {
      "text/html": [
       "<b>Server path:</b> /api/v1/drugbank/by_id"
      ],
      "text/plain": [
       "<IPython.core.display.HTML object>"
      ]
     },
     "metadata": {},
     "output_type": "display_data"
    },
    {
     "data": {
      "text/html": [
       "<div>\n",
       "<style scoped>\n",
       "    .dataframe tbody tr th:only-of-type {\n",
       "        vertical-align: middle;\n",
       "    }\n",
       "\n",
       "    .dataframe tbody tr th {\n",
       "        vertical-align: top;\n",
       "    }\n",
       "\n",
       "    .dataframe thead th {\n",
       "        text-align: right;\n",
       "    }\n",
       "</style>\n",
       "<table border=\"1\" class=\"dataframe\">\n",
       "  <thead>\n",
       "    <tr style=\"text-align: right;\">\n",
       "      <th></th>\n",
       "      <th>data type</th>\n",
       "      <th>description</th>\n",
       "      <th>example</th>\n",
       "      <th>options</th>\n",
       "      <th>default</th>\n",
       "      <th>required</th>\n",
       "    </tr>\n",
       "    <tr>\n",
       "      <th>parameter name</th>\n",
       "      <th></th>\n",
       "      <th></th>\n",
       "      <th></th>\n",
       "      <th></th>\n",
       "      <th></th>\n",
       "      <th></th>\n",
       "    </tr>\n",
       "  </thead>\n",
       "  <tbody>\n",
       "    <tr>\n",
       "      <th>drugbank_id</th>\n",
       "      <td>string</td>\n",
       "      <td></td>\n",
       "      <td>DB00001</td>\n",
       "      <td></td>\n",
       "      <td></td>\n",
       "      <td>False</td>\n",
       "    </tr>\n",
       "  </tbody>\n",
       "</table>\n",
       "</div>"
      ],
      "text/plain": [
       "               data type description  example options default  required\n",
       "parameter name                                                         \n",
       "drugbank_id       string              DB00001                     False"
      ]
     },
     "metadata": {},
     "output_type": "display_data"
    },
    {
     "data": {
      "text/html": [
       "<b>Example URL:</b> <a href=\"http://0.0.0.0:5000/api/v1/drugbank/by_id?drugbank_id=DB00001\">http://0.0.0.0:5000/api/v1/drugbank/by_id?drugbank_id=DB00001</a>"
      ],
      "text/plain": [
       "<IPython.core.display.HTML object>"
      ]
     },
     "metadata": {},
     "output_type": "display_data"
    },
    {
     "data": {
      "text/html": [
       "<b style=\"color: rgb(98,98,98); text-decoration: underline;\">Example response:</b>"
      ],
      "text/plain": [
       "<IPython.core.display.HTML object>"
      ]
     },
     "metadata": {},
     "output_type": "display_data"
    },
    {
     "name": "stdout",
     "output_type": "stream",
     "text": [
      "{\u001b[38;5;124m'\u001b[39m\u001b[38;5;124mabsorption\u001b[39m\u001b[38;5;124m'\u001b[39m: \u001b[38;5;124m'\u001b[39m\u001b[38;5;124mBioavailability is 100\u001b[39m\u001b[38;5;132;01m% f\u001b[39;00m\u001b[38;5;124mollowing injection.\u001b[39m\u001b[38;5;124m'\u001b[39m,\n",
      " \u001b[38;5;124m'\u001b[39m\u001b[38;5;124mcas_number\u001b[39m\u001b[38;5;124m'\u001b[39m: \u001b[38;5;124m'\u001b[39m\u001b[38;5;124m138068-37-8\u001b[39m\u001b[38;5;124m'\u001b[39m,\n",
      " \u001b[38;5;124m'\u001b[39m\u001b[38;5;124mclearance\u001b[39m\u001b[38;5;124m'\u001b[39m: \u001b[38;5;124m'\u001b[39m\u001b[38;5;124m* 164 ml/min [Healthy 18-60 yrs]\u001b[39m\u001b[38;5;130;01m\\r\u001b[39;00m\u001b[38;5;130;01m\\n\u001b[39;00m\u001b[38;5;124m'\u001b[39m\n",
      "              \u001b[38;5;124m'\u001b[39m\u001b[38;5;124m* 139 ml/min [Healthy 65-80 yrs]\u001b[39m\u001b[38;5;130;01m\\r\u001b[39;00m\u001b[38;5;130;01m\\n\u001b[39;00m\u001b[38;5;124m'\u001b[39m\n",
      "              \u001b[38;5;124m'\u001b[39m\u001b[38;5;124m* 61 ml/min [renal impaired]\u001b[39m\u001b[38;5;130;01m\\r\u001b[39;00m\u001b[38;5;130;01m\\n\u001b[39;00m\u001b[38;5;124m'\u001b[39m\n",
      "              \u001b[38;5;124m'\u001b[39m\u001b[38;5;124m* 114 ml/min [HIT (Heparin-induced thrombocytopenia)]\u001b[39m\u001b[38;5;124m'\u001b[39m,\n",
      " \u001b[38;5;124m'\u001b[39m\u001b[38;5;124mdescription\u001b[39m\u001b[38;5;124m'\u001b[39m: \u001b[38;5;124m'\u001b[39m\u001b[38;5;124mLepirudin is identical to natural hirudin except for \u001b[39m\u001b[38;5;124m'\u001b[39m\n",
      "                \u001b[38;5;124m'\u001b[39m\u001b[38;5;124msubstitution of leucine for isoleucine at the N-terminal end \u001b[39m\u001b[38;5;124m'\u001b[39m\n",
      "                \u001b[38;5;124m'\u001b[39m\u001b[38;5;124mof the molecule and the absence of a sulfate group on the \u001b[39m\u001b[38;5;124m'\u001b[39m\n",
      "                \u001b[38;5;124m'\u001b[39m\u001b[38;5;124mtyrosine at position 63. It is produced via yeast cells. \u001b[39m\u001b[38;5;124m'\u001b[39m\n",
      "                \u001b[38;5;124m'\u001b[39m\u001b[38;5;124mBayer ceased the production of lepirudin (Refludan) effective \u001b[39m\u001b[38;5;124m'\u001b[39m\n",
      "                \u001b[38;5;124m'\u001b[39m\u001b[38;5;124mMay 31, 2012.\u001b[39m\u001b[38;5;124m'\u001b[39m,\n",
      " \u001b[38;5;124m'\u001b[39m\u001b[38;5;124mdrugbank_id\u001b[39m\u001b[38;5;124m'\u001b[39m: \u001b[38;5;124m'\u001b[39m\u001b[38;5;124mDB00001\u001b[39m\u001b[38;5;124m'\u001b[39m,\n",
      " \u001b[38;5;124m'\u001b[39m\u001b[38;5;124mexternal_identifiers\u001b[39m\u001b[38;5;124m'\u001b[39m: [{\u001b[38;5;124m'\u001b[39m\u001b[38;5;124mdrugbank_id\u001b[39m\u001b[38;5;124m'\u001b[39m: \u001b[38;5;124m'\u001b[39m\u001b[38;5;124mDB00001\u001b[39m\u001b[38;5;124m'\u001b[39m,\n",
      "                           \u001b[38;5;124m'\u001b[39m\u001b[38;5;124midentifier\u001b[39m\u001b[38;5;124m'\u001b[39m: \u001b[38;5;124m'\u001b[39m\u001b[38;5;124m11916\u001b[39m\u001b[38;5;124m'\u001b[39m,\n",
      "                           \u001b[38;5;124m'\u001b[39m\u001b[38;5;124mresource\u001b[39m\u001b[38;5;124m'\u001b[39m: \u001b[38;5;124m'\u001b[39m\u001b[38;5;124mDrugs Product Database (DPD)\u001b[39m\u001b[38;5;124m'\u001b[39m},\n",
      "                          {\u001b[38;5;124m'\u001b[39m\u001b[38;5;124mdrugbank_id\u001b[39m\u001b[38;5;124m'\u001b[39m: \u001b[38;5;124m'\u001b[39m\u001b[38;5;124mDB00001\u001b[39m\u001b[38;5;124m'\u001b[39m,\n",
      "                           \u001b[38;5;124m'\u001b[39m\u001b[38;5;124midentifier\u001b[39m\u001b[38;5;124m'\u001b[39m: \u001b[38;5;124m'\u001b[39m\u001b[38;5;124m46507011\u001b[39m\u001b[38;5;124m'\u001b[39m,\n",
      "                           \u001b[38;5;124m'\u001b[39m\u001b[38;5;124mresource\u001b[39m\u001b[38;5;124m'\u001b[39m: \u001b[38;5;124m'\u001b[39m\u001b[38;5;124mPubChem Substance\u001b[39m\u001b[38;5;124m'\u001b[39m},\n",
      "                          {\u001b[38;5;124m'\u001b[39m\u001b[38;5;124mdrugbank_id\u001b[39m\u001b[38;5;124m'\u001b[39m: \u001b[38;5;124m'\u001b[39m\u001b[38;5;124mDB00001\u001b[39m\u001b[38;5;124m'\u001b[39m,\n",
      "                           \u001b[38;5;124m'\u001b[39m\u001b[38;5;124midentifier\u001b[39m\u001b[38;5;124m'\u001b[39m: \u001b[38;5;124m'\u001b[39m\u001b[38;5;124mD06880\u001b[39m\u001b[38;5;124m'\u001b[39m,\n",
      "                           \u001b[38;5;124m'\u001b[39m\u001b[38;5;124mresource\u001b[39m\u001b[38;5;124m'\u001b[39m: \u001b[38;5;124m'\u001b[39m\u001b[38;5;124mKEGG Drug\u001b[39m\u001b[38;5;124m'\u001b[39m},\n",
      "                          {\u001b[38;5;124m'\u001b[39m\u001b[38;5;124mdrugbank_id\u001b[39m\u001b[38;5;124m'\u001b[39m: \u001b[38;5;124m'\u001b[39m\u001b[38;5;124mDB00001\u001b[39m\u001b[38;5;124m'\u001b[39m,\n",
      "                           \u001b[38;5;124m'\u001b[39m\u001b[38;5;124midentifier\u001b[39m\u001b[38;5;124m'\u001b[39m: \u001b[38;5;124m'\u001b[39m\u001b[38;5;124mPA450195\u001b[39m\u001b[38;5;124m'\u001b[39m,\n",
      "                           \u001b[38;5;124m'\u001b[39m\u001b[38;5;124mresource\u001b[39m\u001b[38;5;124m'\u001b[39m: \u001b[38;5;124m'\u001b[39m\u001b[38;5;124mPharmGKB\u001b[39m\u001b[38;5;124m'\u001b[39m},\n",
      "                          {\u001b[38;5;124m'\u001b[39m\u001b[38;5;124mdrugbank_id\u001b[39m\u001b[38;5;124m'\u001b[39m: \u001b[38;5;124m'\u001b[39m\u001b[38;5;124mDB00001\u001b[39m\u001b[38;5;124m'\u001b[39m,\n",
      "                           \u001b[38;5;124m'\u001b[39m\u001b[38;5;124midentifier\u001b[39m\u001b[38;5;124m'\u001b[39m: \u001b[38;5;124m'\u001b[39m\u001b[38;5;124mP01050\u001b[39m\u001b[38;5;124m'\u001b[39m,\n",
      "                           \u001b[38;5;124m'\u001b[39m\u001b[38;5;124mresource\u001b[39m\u001b[38;5;124m'\u001b[39m: \u001b[38;5;124m'\u001b[39m\u001b[38;5;124mUniProtKB\u001b[39m\u001b[38;5;124m'\u001b[39m},\n",
      "                          {\u001b[38;5;124m'\u001b[39m\u001b[38;5;124mdrugbank_id\u001b[39m\u001b[38;5;124m'\u001b[39m: \u001b[38;5;124m'\u001b[39m\u001b[38;5;124mDB00001\u001b[39m\u001b[38;5;124m'\u001b[39m,\n",
      "                           \u001b[38;5;124m'\u001b[39m\u001b[38;5;124midentifier\u001b[39m\u001b[38;5;124m'\u001b[39m: \u001b[38;5;124m'\u001b[39m\u001b[38;5;124mDAP000541\u001b[39m\u001b[38;5;124m'\u001b[39m,\n",
      "                           \u001b[38;5;124m'\u001b[39m\u001b[38;5;124mresource\u001b[39m\u001b[38;5;124m'\u001b[39m: \u001b[38;5;124m'\u001b[39m\u001b[38;5;124mTherapeutic Targets Database\u001b[39m\u001b[38;5;124m'\u001b[39m},\n",
      "                          {\u001b[38;5;124m'\u001b[39m\u001b[38;5;124mdrugbank_id\u001b[39m\u001b[38;5;124m'\u001b[39m: \u001b[38;5;124m'\u001b[39m\u001b[38;5;124mDB00001\u001b[39m\u001b[38;5;124m'\u001b[39m,\n",
      "                           \u001b[38;5;124m'\u001b[39m\u001b[38;5;124midentifier\u001b[39m\u001b[38;5;124m'\u001b[39m: \u001b[38;5;124m'\u001b[39m\u001b[38;5;124mLepirudin\u001b[39m\u001b[38;5;124m'\u001b[39m,\n",
      "                           \u001b[38;5;124m'\u001b[39m\u001b[38;5;124mresource\u001b[39m\u001b[38;5;124m'\u001b[39m: \u001b[38;5;124m'\u001b[39m\u001b[38;5;124mWikipedia\u001b[39m\u001b[38;5;124m'\u001b[39m},\n",
      "                          {\u001b[38;5;124m'\u001b[39m\u001b[38;5;124mdrugbank_id\u001b[39m\u001b[38;5;124m'\u001b[39m: \u001b[38;5;124m'\u001b[39m\u001b[38;5;124mDB00001\u001b[39m\u001b[38;5;124m'\u001b[39m,\n",
      "                           \u001b[38;5;124m'\u001b[39m\u001b[38;5;124midentifier\u001b[39m\u001b[38;5;124m'\u001b[39m: \u001b[38;5;124m'\u001b[39m\u001b[38;5;124mCHEMBL1201666\u001b[39m\u001b[38;5;124m'\u001b[39m,\n",
      "                           \u001b[38;5;124m'\u001b[39m\u001b[38;5;124mresource\u001b[39m\u001b[38;5;124m'\u001b[39m: \u001b[38;5;124m'\u001b[39m\u001b[38;5;124mChEMBL\u001b[39m\u001b[38;5;124m'\u001b[39m},\n",
      "                          {\u001b[38;5;124m'\u001b[39m\u001b[38;5;124mdrugbank_id\u001b[39m\u001b[38;5;124m'\u001b[39m: \u001b[38;5;124m'\u001b[39m\u001b[38;5;124mDB00001\u001b[39m\u001b[38;5;124m'\u001b[39m,\n",
      "                           \u001b[38;5;124m'\u001b[39m\u001b[38;5;124midentifier\u001b[39m\u001b[38;5;124m'\u001b[39m: \u001b[38;5;124m'\u001b[39m\u001b[38;5;124m237057\u001b[39m\u001b[38;5;124m'\u001b[39m,\n",
      "                           \u001b[38;5;124m'\u001b[39m\u001b[38;5;124mresource\u001b[39m\u001b[38;5;124m'\u001b[39m: \u001b[38;5;124m'\u001b[39m\u001b[38;5;124mRxCUI\u001b[39m\u001b[38;5;124m'\u001b[39m}],\n",
      " \u001b[38;5;124m'\u001b[39m\u001b[38;5;124mfda_label\u001b[39m\u001b[38;5;124m'\u001b[39m: \u001b[38;5;124m'\u001b[39m\u001b[38;5;124m//s3-us-west-2.amazonaws.com/drugbank/fda_labels/DB00001.pdf?1265924858\u001b[39m\u001b[38;5;124m'\u001b[39m,\n",
      " \u001b[38;5;124m'\u001b[39m\u001b[38;5;124mhalf_life\u001b[39m\u001b[38;5;124m'\u001b[39m: \u001b[38;5;124m'\u001b[39m\u001b[38;5;124mApproximately 1.3 hours\u001b[39m\u001b[38;5;124m'\u001b[39m,\n",
      " \u001b[38;5;124m'\u001b[39m\u001b[38;5;124mindication\u001b[39m\u001b[38;5;124m'\u001b[39m: \u001b[38;5;124m'\u001b[39m\u001b[38;5;124mFor the treatment of heparin-induced thrombocytopenia\u001b[39m\u001b[38;5;124m'\u001b[39m,\n",
      " \u001b[38;5;124m'\u001b[39m\u001b[38;5;124mmechanism_of_action\u001b[39m\u001b[38;5;124m'\u001b[39m: \u001b[38;5;124m'\u001b[39m\u001b[38;5;124mLepirudin forms a stable non-covalent complex with \u001b[39m\u001b[38;5;124m'\u001b[39m\n",
      "                        \u001b[38;5;124m'\u001b[39m\u001b[38;5;124malpha-thrombin, thereby abolishing its ability to \u001b[39m\u001b[38;5;124m'\u001b[39m\n",
      "                        \u001b[38;5;124m'\u001b[39m\u001b[38;5;124mcleave fibrinogen and initiate the clotting cascade. \u001b[39m\u001b[38;5;124m'\u001b[39m\n",
      "                        \u001b[38;5;124m'\u001b[39m\u001b[38;5;124mThe inhibition of thrombin prevents the blood \u001b[39m\u001b[38;5;124m'\u001b[39m\n",
      "                        \u001b[38;5;124m'\u001b[39m\u001b[38;5;124mclotting cascade. \u001b[39m\u001b[38;5;124m'\u001b[39m,\n",
      " \u001b[38;5;124m'\u001b[39m\u001b[38;5;124mmetabolism\u001b[39m\u001b[38;5;124m'\u001b[39m: \u001b[38;5;124m'\u001b[39m\u001b[38;5;124mLepirudin is thought to be metabolized by release of amino \u001b[39m\u001b[38;5;124m'\u001b[39m\n",
      "               \u001b[38;5;124m'\u001b[39m\u001b[38;5;124macids via catabolic hydrolysis of the parent drug. However, \u001b[39m\u001b[38;5;124m'\u001b[39m\n",
      "               \u001b[38;5;124m'\u001b[39m\u001b[38;5;124mcon-clusive data are not available. About 48\u001b[39m\u001b[38;5;132;01m% o\u001b[39;00m\u001b[38;5;124mf the \u001b[39m\u001b[38;5;124m'\u001b[39m\n",
      "               \u001b[38;5;124m'\u001b[39m\u001b[38;5;124madministration dose is excreted in the urine which consists of \u001b[39m\u001b[38;5;124m'\u001b[39m\n",
      "               \u001b[38;5;124m'\u001b[39m\u001b[38;5;124munchanged drug (35\u001b[39m\u001b[38;5;124m%\u001b[39m\u001b[38;5;124m) and other fragments of the parent drug.\u001b[39m\u001b[38;5;124m'\u001b[39m,\n",
      " \u001b[38;5;124m'\u001b[39m\u001b[38;5;124mname\u001b[39m\u001b[38;5;124m'\u001b[39m: \u001b[38;5;124m'\u001b[39m\u001b[38;5;124mLepirudin\u001b[39m\u001b[38;5;124m'\u001b[39m,\n",
      " \u001b[38;5;124m'\u001b[39m\u001b[38;5;124mpatents\u001b[39m\u001b[38;5;124m'\u001b[39m: [{\u001b[38;5;124m'\u001b[39m\u001b[38;5;124mapproved\u001b[39m\u001b[38;5;124m'\u001b[39m: \u001b[38;5;124m'\u001b[39m\u001b[38;5;124m1993-01-19\u001b[39m\u001b[38;5;124m'\u001b[39m,\n",
      "              \u001b[38;5;124m'\u001b[39m\u001b[38;5;124mcountry\u001b[39m\u001b[38;5;124m'\u001b[39m: \u001b[38;5;124m'\u001b[39m\u001b[38;5;124mUnited States\u001b[39m\u001b[38;5;124m'\u001b[39m,\n",
      "              \u001b[38;5;124m'\u001b[39m\u001b[38;5;124mdrugbank_id\u001b[39m\u001b[38;5;124m'\u001b[39m: \u001b[38;5;124m'\u001b[39m\u001b[38;5;124mDB00001\u001b[39m\u001b[38;5;124m'\u001b[39m,\n",
      "              \u001b[38;5;124m'\u001b[39m\u001b[38;5;124mexpires\u001b[39m\u001b[38;5;124m'\u001b[39m: \u001b[38;5;124m'\u001b[39m\u001b[38;5;124m2010-01-19\u001b[39m\u001b[38;5;124m'\u001b[39m,\n",
      "              \u001b[38;5;124m'\u001b[39m\u001b[38;5;124mnumber\u001b[39m\u001b[38;5;124m'\u001b[39m: \u001b[38;5;124m'\u001b[39m\u001b[38;5;124m5180668\u001b[39m\u001b[38;5;124m'\u001b[39m,\n",
      "              \u001b[38;5;124m'\u001b[39m\u001b[38;5;124mpediatric_extension\u001b[39m\u001b[38;5;124m'\u001b[39m: \u001b[38;5;124m'\u001b[39m\u001b[38;5;124mfalse\u001b[39m\u001b[38;5;124m'\u001b[39m}],\n",
      " \u001b[38;5;124m'\u001b[39m\u001b[38;5;124mpathways\u001b[39m\u001b[38;5;124m'\u001b[39m: [\u001b[38;5;124m'\u001b[39m\u001b[38;5;124mSMP0000278\u001b[39m\u001b[38;5;124m'\u001b[39m],\n",
      " \u001b[38;5;124m'\u001b[39m\u001b[38;5;124mpharmacodynamics\u001b[39m\u001b[38;5;124m'\u001b[39m: \u001b[38;5;124m'\u001b[39m\u001b[38;5;124mLepirudin is used to break up clots and to reduce \u001b[39m\u001b[38;5;124m'\u001b[39m\n",
      "                     \u001b[38;5;124m'\u001b[39m\u001b[38;5;124mthrombocytopenia. It binds to thrombin and prevents \u001b[39m\u001b[38;5;124m'\u001b[39m\n",
      "                     \u001b[38;5;124m'\u001b[39m\u001b[38;5;124mthrombus or clot formation. It is a highly potent, \u001b[39m\u001b[38;5;124m'\u001b[39m\n",
      "                     \u001b[38;5;124m'\u001b[39m\u001b[38;5;124mselective, and essentially irreversible inhibitor of \u001b[39m\u001b[38;5;124m'\u001b[39m\n",
      "                     \u001b[38;5;124m'\u001b[39m\u001b[38;5;124mthrombin and clot-bond thrombin. Lepirudin requires no \u001b[39m\u001b[38;5;124m'\u001b[39m\n",
      "                     \u001b[38;5;124m'\u001b[39m\u001b[38;5;124mcofactor for its anticoagulant action. Lepirudin is a \u001b[39m\u001b[38;5;124m'\u001b[39m\n",
      "                     \u001b[38;5;124m'\u001b[39m\u001b[38;5;124mrecombinant form of hirudin, an endogenous anticoagulant \u001b[39m\u001b[38;5;124m'\u001b[39m\n",
      "                     \u001b[38;5;124m'\u001b[39m\u001b[38;5;124mfound in medicinal leeches.\u001b[39m\u001b[38;5;124m'\u001b[39m,\n",
      " \u001b[38;5;124m'\u001b[39m\u001b[38;5;124mproduct_names\u001b[39m\u001b[38;5;124m'\u001b[39m: [\u001b[38;5;124m'\u001b[39m\u001b[38;5;124mRefludan\u001b[39m\u001b[38;5;124m'\u001b[39m],\n",
      " \u001b[38;5;124m'\u001b[39m\u001b[38;5;124mreferences\u001b[39m\u001b[38;5;124m'\u001b[39m: [\u001b[38;5;241m16244762\u001b[39m, \u001b[38;5;241m16690967\u001b[39m, \u001b[38;5;241m16241940\u001b[39m],\n",
      " \u001b[38;5;124m'\u001b[39m\u001b[38;5;124mroute_of_elimination\u001b[39m\u001b[38;5;124m'\u001b[39m: \u001b[38;5;124m'\u001b[39m\u001b[38;5;124mLepirudin is thought to be metabolized by release of \u001b[39m\u001b[38;5;124m'\u001b[39m\n",
      "                         \u001b[38;5;124m'\u001b[39m\u001b[38;5;124mamino acids via catabolic hydrolysis of the parent \u001b[39m\u001b[38;5;124m'\u001b[39m\n",
      "                         \u001b[38;5;124m'\u001b[39m\u001b[38;5;124mdrug. About 48\u001b[39m\u001b[38;5;132;01m% o\u001b[39;00m\u001b[38;5;124mf the administration dose is \u001b[39m\u001b[38;5;124m'\u001b[39m\n",
      "                         \u001b[38;5;124m'\u001b[39m\u001b[38;5;124mexcreted in the urine which consists of unchanged \u001b[39m\u001b[38;5;124m'\u001b[39m\n",
      "                         \u001b[38;5;124m'\u001b[39m\u001b[38;5;124mdrug (35\u001b[39m\u001b[38;5;124m%\u001b[39m\u001b[38;5;124m) and other fragments of the parent drug.\u001b[39m\u001b[38;5;124m'\u001b[39m,\n",
      " \u001b[38;5;124m'\u001b[39m\u001b[38;5;124mstatuses\u001b[39m\u001b[38;5;124m'\u001b[39m: [\u001b[38;5;124m'\u001b[39m\u001b[38;5;124mapproved\u001b[39m\u001b[38;5;124m'\u001b[39m],\n",
      " \u001b[38;5;124m'\u001b[39m\u001b[38;5;124mtargets\u001b[39m\u001b[38;5;124m'\u001b[39m: [{\u001b[38;5;124m'\u001b[39m\u001b[38;5;124maction\u001b[39m\u001b[38;5;124m'\u001b[39m: \u001b[38;5;124m'\u001b[39m\u001b[38;5;124minhibitor\u001b[39m\u001b[38;5;124m'\u001b[39m,\n",
      "              \u001b[38;5;124m'\u001b[39m\u001b[38;5;124mdrugbank_id\u001b[39m\u001b[38;5;124m'\u001b[39m: \u001b[38;5;124m'\u001b[39m\u001b[38;5;124mDB00001\u001b[39m\u001b[38;5;124m'\u001b[39m,\n",
      "              \u001b[38;5;124m'\u001b[39m\u001b[38;5;124mknown_action\u001b[39m\u001b[38;5;124m'\u001b[39m: \u001b[38;5;124m'\u001b[39m\u001b[38;5;124myes\u001b[39m\u001b[38;5;124m'\u001b[39m,\n",
      "              \u001b[38;5;124m'\u001b[39m\u001b[38;5;124muniprot\u001b[39m\u001b[38;5;124m'\u001b[39m: \u001b[38;5;124m'\u001b[39m\u001b[38;5;124mP00734\u001b[39m\u001b[38;5;124m'\u001b[39m}],\n",
      " \u001b[38;5;124m'\u001b[39m\u001b[38;5;124mtoxicity\u001b[39m\u001b[38;5;124m'\u001b[39m: \u001b[38;5;124m'\u001b[39m\u001b[38;5;124mIn case of overdose (eg, suggested by excessively high aPTT \u001b[39m\u001b[38;5;124m'\u001b[39m\n",
      "             \u001b[38;5;124m'\u001b[39m\u001b[38;5;124mvalues) the risk of bleeding is increased.\u001b[39m\u001b[38;5;124m'\u001b[39m,\n",
      " \u001b[38;5;124m'\u001b[39m\u001b[38;5;124mvolume_of_distribution\u001b[39m\u001b[38;5;124m'\u001b[39m: \u001b[38;5;124m'\u001b[39m\u001b[38;5;124m* 12.2 L [Healthy young subjects (n = 18, age \u001b[39m\u001b[38;5;124m'\u001b[39m\n",
      "                           \u001b[38;5;124m'\u001b[39m\u001b[38;5;124m18-60 years)]\u001b[39m\u001b[38;5;130;01m\\r\u001b[39;00m\u001b[38;5;130;01m\\n\u001b[39;00m\u001b[38;5;124m'\u001b[39m\n",
      "                           \u001b[38;5;124m'\u001b[39m\u001b[38;5;124m* 18.7 L [Healthy elderly subjects (n = 10, age \u001b[39m\u001b[38;5;124m'\u001b[39m\n",
      "                           \u001b[38;5;124m'\u001b[39m\u001b[38;5;124m65-80 years)]\u001b[39m\u001b[38;5;130;01m\\r\u001b[39;00m\u001b[38;5;130;01m\\n\u001b[39;00m\u001b[38;5;124m'\u001b[39m\n",
      "                           \u001b[38;5;124m'\u001b[39m\u001b[38;5;124m* 18 L [Renally impaired patients (n = 16, \u001b[39m\u001b[38;5;124m'\u001b[39m\n",
      "                           \u001b[38;5;124m'\u001b[39m\u001b[38;5;124mcreatinine clearance below 80 mL/min)]\u001b[39m\u001b[38;5;130;01m\\r\u001b[39;00m\u001b[38;5;130;01m\\n\u001b[39;00m\u001b[38;5;124m'\u001b[39m\n",
      "                           \u001b[38;5;124m'\u001b[39m\u001b[38;5;124m* 32.1 L [HIT patients (n = 73)]\u001b[39m\u001b[38;5;124m'\u001b[39m}\n",
      "\n",
      "For further testing go to http://0.0.0.0:5000/ui/#/Drugbank/ebel.web.api.ebel.v1.drugbank.get_by_id\n"
     ]
    },
    {
     "data": {
      "text/html": [
       "<h2>3. Drug/target relation in e(BE:L) knowledge base</h2>"
      ],
      "text/plain": [
       "<IPython.core.display.HTML object>"
      ]
     },
     "metadata": {},
     "output_type": "display_data"
    },
    {
     "data": {
      "text/html": [
       "<b style=\"color: rgb(98,98,98); text-decoration: underline;\">Description:</b> <p>Drug/target relation in e(BE:L) knowledge base</p>"
      ],
      "text/plain": [
       "<IPython.core.display.HTML object>"
      ]
     },
     "metadata": {},
     "output_type": "display_data"
    },
    {
     "data": {
      "text/html": [
       "<b>Tags:</b> ['Drugbank', 'e(BE:L)']"
      ],
      "text/plain": [
       "<IPython.core.display.HTML object>"
      ]
     },
     "metadata": {},
     "output_type": "display_data"
    },
    {
     "data": {
      "text/html": [
       "<b>Server path:</b> /api/v1/drugbank/ebel/relation"
      ],
      "text/plain": [
       "<IPython.core.display.HTML object>"
      ]
     },
     "metadata": {},
     "output_type": "display_data"
    },
    {
     "data": {
      "text/html": [
       "<div>\n",
       "<style scoped>\n",
       "    .dataframe tbody tr th:only-of-type {\n",
       "        vertical-align: middle;\n",
       "    }\n",
       "\n",
       "    .dataframe tbody tr th {\n",
       "        vertical-align: top;\n",
       "    }\n",
       "\n",
       "    .dataframe thead th {\n",
       "        text-align: right;\n",
       "    }\n",
       "</style>\n",
       "<table border=\"1\" class=\"dataframe\">\n",
       "  <thead>\n",
       "    <tr style=\"text-align: right;\">\n",
       "      <th></th>\n",
       "      <th>data type</th>\n",
       "      <th>description</th>\n",
       "      <th>example</th>\n",
       "      <th>options</th>\n",
       "      <th>default</th>\n",
       "      <th>required</th>\n",
       "    </tr>\n",
       "    <tr>\n",
       "      <th>parameter name</th>\n",
       "      <th></th>\n",
       "      <th></th>\n",
       "      <th></th>\n",
       "      <th></th>\n",
       "      <th></th>\n",
       "      <th></th>\n",
       "    </tr>\n",
       "  </thead>\n",
       "  <tbody>\n",
       "    <tr>\n",
       "      <th>drug_rid</th>\n",
       "      <td>string</td>\n",
       "      <td>e(BE:L) rid</td>\n",
       "      <td></td>\n",
       "      <td></td>\n",
       "      <td></td>\n",
       "      <td>False</td>\n",
       "    </tr>\n",
       "    <tr>\n",
       "      <th>drug_name</th>\n",
       "      <td>string</td>\n",
       "      <td></td>\n",
       "      <td>Flortaucipir F-18</td>\n",
       "      <td></td>\n",
       "      <td></td>\n",
       "      <td>False</td>\n",
       "    </tr>\n",
       "    <tr>\n",
       "      <th>drugbank_id</th>\n",
       "      <td>string</td>\n",
       "      <td>e(BE:L) rid</td>\n",
       "      <td>DB14914</td>\n",
       "      <td></td>\n",
       "      <td></td>\n",
       "      <td>False</td>\n",
       "    </tr>\n",
       "    <tr>\n",
       "      <th>edge_rid</th>\n",
       "      <td>string</td>\n",
       "      <td></td>\n",
       "      <td></td>\n",
       "      <td></td>\n",
       "      <td></td>\n",
       "      <td>False</td>\n",
       "    </tr>\n",
       "    <tr>\n",
       "      <th>action</th>\n",
       "      <td>string</td>\n",
       "      <td></td>\n",
       "      <td>binder</td>\n",
       "      <td></td>\n",
       "      <td></td>\n",
       "      <td>False</td>\n",
       "    </tr>\n",
       "    <tr>\n",
       "      <th>known_action</th>\n",
       "      <td>string</td>\n",
       "      <td></td>\n",
       "      <td>yes</td>\n",
       "      <td></td>\n",
       "      <td></td>\n",
       "      <td>False</td>\n",
       "    </tr>\n",
       "    <tr>\n",
       "      <th>target_rid</th>\n",
       "      <td>string</td>\n",
       "      <td></td>\n",
       "      <td></td>\n",
       "      <td></td>\n",
       "      <td></td>\n",
       "      <td>False</td>\n",
       "    </tr>\n",
       "    <tr>\n",
       "      <th>target_name</th>\n",
       "      <td>string</td>\n",
       "      <td>e(BE:L) rid</td>\n",
       "      <td>MAPT</td>\n",
       "      <td></td>\n",
       "      <td></td>\n",
       "      <td>False</td>\n",
       "    </tr>\n",
       "    <tr>\n",
       "      <th>target_namespace</th>\n",
       "      <td>string</td>\n",
       "      <td></td>\n",
       "      <td>HGNC</td>\n",
       "      <td></td>\n",
       "      <td></td>\n",
       "      <td>False</td>\n",
       "    </tr>\n",
       "    <tr>\n",
       "      <th>target_uniprot_accession</th>\n",
       "      <td>string</td>\n",
       "      <td></td>\n",
       "      <td>P10636</td>\n",
       "      <td></td>\n",
       "      <td></td>\n",
       "      <td>False</td>\n",
       "    </tr>\n",
       "    <tr>\n",
       "      <th>page_size</th>\n",
       "      <td>integer</td>\n",
       "      <td>Results per page</td>\n",
       "      <td>1</td>\n",
       "      <td></td>\n",
       "      <td>10.0</td>\n",
       "      <td>False</td>\n",
       "    </tr>\n",
       "    <tr>\n",
       "      <th>page</th>\n",
       "      <td>integer</td>\n",
       "      <td>Page number (starting with 1)</td>\n",
       "      <td>1</td>\n",
       "      <td></td>\n",
       "      <td>1.0</td>\n",
       "      <td>False</td>\n",
       "    </tr>\n",
       "  </tbody>\n",
       "</table>\n",
       "</div>"
      ],
      "text/plain": [
       "                         data type                    description  \\\n",
       "parameter name                                                      \n",
       "drug_rid                    string                    e(BE:L) rid   \n",
       "drug_name                   string                                  \n",
       "drugbank_id                 string                    e(BE:L) rid   \n",
       "edge_rid                    string                                  \n",
       "action                      string                                  \n",
       "known_action                string                                  \n",
       "target_rid                  string                                  \n",
       "target_name                 string                    e(BE:L) rid   \n",
       "target_namespace            string                                  \n",
       "target_uniprot_accession    string                                  \n",
       "page_size                  integer               Results per page   \n",
       "page                       integer  Page number (starting with 1)   \n",
       "\n",
       "                                    example options default  required  \n",
       "parameter name                                                         \n",
       "drug_rid                                                        False  \n",
       "drug_name                 Flortaucipir F-18                     False  \n",
       "drugbank_id                         DB14914                     False  \n",
       "edge_rid                                                        False  \n",
       "action                               binder                     False  \n",
       "known_action                            yes                     False  \n",
       "target_rid                                                      False  \n",
       "target_name                            MAPT                     False  \n",
       "target_namespace                       HGNC                     False  \n",
       "target_uniprot_accession             P10636                     False  \n",
       "page_size                                 1            10.0     False  \n",
       "page                                      1             1.0     False  "
      ]
     },
     "metadata": {},
     "output_type": "display_data"
    },
    {
     "data": {
      "text/html": [
       "<b>Example URL:</b> <a href=\"http://0.0.0.0:5000/api/v1/drugbank/ebel/relation?drug_name=Flortaucipir+F-18&drugbank_id=DB14914&action=binder&known_action=yes&target_name=MAPT&target_namespace=HGNC&target_uniprot_accession=P10636&page_size=1&page=1\">http://0.0.0.0:5000/api/v1/drugbank/ebel/relation?drug_name=Flortaucipir+F-18&drugbank_id=DB14914&action=binder&known_action=yes&target_name=MAPT&target_namespace=HGNC&target_uniprot_accession=P10636&page_size=1&page=1</a>"
      ],
      "text/plain": [
       "<IPython.core.display.HTML object>"
      ]
     },
     "metadata": {},
     "output_type": "display_data"
    },
    {
     "data": {
      "text/html": [
       "<b style=\"color: rgb(98,98,98); text-decoration: underline;\">Example response:</b>"
      ],
      "text/plain": [
       "<IPython.core.display.HTML object>"
      ]
     },
     "metadata": {},
     "output_type": "display_data"
    },
    {
     "name": "stdout",
     "output_type": "stream",
     "text": [
      "{\u001b[38;5;124m'\u001b[39m\u001b[38;5;124mnumber_of_results\u001b[39m\u001b[38;5;124m'\u001b[39m: \u001b[38;5;241m1\u001b[39m,\n",
      " \u001b[38;5;124m'\u001b[39m\u001b[38;5;124mpage\u001b[39m\u001b[38;5;124m'\u001b[39m: \u001b[38;5;241m1\u001b[39m,\n",
      " \u001b[38;5;124m'\u001b[39m\u001b[38;5;124mpage_size\u001b[39m\u001b[38;5;124m'\u001b[39m: \u001b[38;5;241m1\u001b[39m,\n",
      " \u001b[38;5;124m'\u001b[39m\u001b[38;5;124mpages\u001b[39m\u001b[38;5;124m'\u001b[39m: \u001b[38;5;241m1\u001b[39m,\n",
      " \u001b[38;5;124m'\u001b[39m\u001b[38;5;124mresults\u001b[39m\u001b[38;5;124m'\u001b[39m: [{\u001b[38;5;124m'\u001b[39m\u001b[38;5;124maction\u001b[39m\u001b[38;5;124m'\u001b[39m: \u001b[38;5;124m'\u001b[39m\u001b[38;5;124mbinder\u001b[39m\u001b[38;5;124m'\u001b[39m,\n",
      "              \u001b[38;5;124m'\u001b[39m\u001b[38;5;124mdrug_name\u001b[39m\u001b[38;5;124m'\u001b[39m: \u001b[38;5;124m'\u001b[39m\u001b[38;5;124mFlortaucipir F-18\u001b[39m\u001b[38;5;124m'\u001b[39m,\n",
      "              \u001b[38;5;124m'\u001b[39m\u001b[38;5;124mdrug_rid\u001b[39m\u001b[38;5;124m'\u001b[39m: \u001b[38;5;124m'\u001b[39m\u001b[38;5;124m#1547:104\u001b[39m\u001b[38;5;124m'\u001b[39m,\n",
      "              \u001b[38;5;124m'\u001b[39m\u001b[38;5;124mdrugbank_id\u001b[39m\u001b[38;5;124m'\u001b[39m: \u001b[38;5;124m'\u001b[39m\u001b[38;5;124mDB14914\u001b[39m\u001b[38;5;124m'\u001b[39m,\n",
      "              \u001b[38;5;124m'\u001b[39m\u001b[38;5;124medge_rid\u001b[39m\u001b[38;5;124m'\u001b[39m: \u001b[38;5;124m'\u001b[39m\u001b[38;5;124m#1562:157\u001b[39m\u001b[38;5;124m'\u001b[39m,\n",
      "              \u001b[38;5;124m'\u001b[39m\u001b[38;5;124mknown_action\u001b[39m\u001b[38;5;124m'\u001b[39m: \u001b[38;5;124m'\u001b[39m\u001b[38;5;124myes\u001b[39m\u001b[38;5;124m'\u001b[39m,\n",
      "              \u001b[38;5;124m'\u001b[39m\u001b[38;5;124mtarget_name\u001b[39m\u001b[38;5;124m'\u001b[39m: \u001b[38;5;124m'\u001b[39m\u001b[38;5;124mMAPT\u001b[39m\u001b[38;5;124m'\u001b[39m,\n",
      "              \u001b[38;5;124m'\u001b[39m\u001b[38;5;124mtarget_namespace\u001b[39m\u001b[38;5;124m'\u001b[39m: \u001b[38;5;124m'\u001b[39m\u001b[38;5;124mHGNC\u001b[39m\u001b[38;5;124m'\u001b[39m,\n",
      "              \u001b[38;5;124m'\u001b[39m\u001b[38;5;124mtarget_rid\u001b[39m\u001b[38;5;124m'\u001b[39m: \u001b[38;5;124m'\u001b[39m\u001b[38;5;124m#190:5\u001b[39m\u001b[38;5;124m'\u001b[39m,\n",
      "              \u001b[38;5;124m'\u001b[39m\u001b[38;5;124mtarget_uniprot_accession\u001b[39m\u001b[38;5;124m'\u001b[39m: \u001b[38;5;124m'\u001b[39m\u001b[38;5;124mP10636\u001b[39m\u001b[38;5;124m'\u001b[39m}]}\n",
      "\n",
      "For further testing go to http://0.0.0.0:5000/ui/#/Drugbank/ebel.web.api.ebel.v1.drugbank.get_has_drug_target_db\n"
     ]
    },
    {
     "data": {
      "text/html": [
       "<h2>4. DrugBank external identifier</h2>"
      ],
      "text/plain": [
       "<IPython.core.display.HTML object>"
      ]
     },
     "metadata": {},
     "output_type": "display_data"
    },
    {
     "data": {
      "text/html": [
       "<b style=\"color: rgb(98,98,98); text-decoration: underline;\">Description:</b> <p>DrugBank external identifier</p>"
      ],
      "text/plain": [
       "<IPython.core.display.HTML object>"
      ]
     },
     "metadata": {},
     "output_type": "display_data"
    },
    {
     "data": {
      "text/html": [
       "<b>Tags:</b> ['Drugbank']"
      ],
      "text/plain": [
       "<IPython.core.display.HTML object>"
      ]
     },
     "metadata": {},
     "output_type": "display_data"
    },
    {
     "data": {
      "text/html": [
       "<b>Server path:</b> /api/v1/drugbank/external_identifier"
      ],
      "text/plain": [
       "<IPython.core.display.HTML object>"
      ]
     },
     "metadata": {},
     "output_type": "display_data"
    },
    {
     "data": {
      "text/html": [
       "<div>\n",
       "<style scoped>\n",
       "    .dataframe tbody tr th:only-of-type {\n",
       "        vertical-align: middle;\n",
       "    }\n",
       "\n",
       "    .dataframe tbody tr th {\n",
       "        vertical-align: top;\n",
       "    }\n",
       "\n",
       "    .dataframe thead th {\n",
       "        text-align: right;\n",
       "    }\n",
       "</style>\n",
       "<table border=\"1\" class=\"dataframe\">\n",
       "  <thead>\n",
       "    <tr style=\"text-align: right;\">\n",
       "      <th></th>\n",
       "      <th>data type</th>\n",
       "      <th>description</th>\n",
       "      <th>example</th>\n",
       "      <th>options</th>\n",
       "      <th>default</th>\n",
       "      <th>required</th>\n",
       "    </tr>\n",
       "    <tr>\n",
       "      <th>parameter name</th>\n",
       "      <th></th>\n",
       "      <th></th>\n",
       "      <th></th>\n",
       "      <th></th>\n",
       "      <th></th>\n",
       "      <th></th>\n",
       "    </tr>\n",
       "  </thead>\n",
       "  <tbody>\n",
       "    <tr>\n",
       "      <th>drugbank_id</th>\n",
       "      <td>string</td>\n",
       "      <td></td>\n",
       "      <td>DB00114</td>\n",
       "      <td></td>\n",
       "      <td></td>\n",
       "      <td>False</td>\n",
       "    </tr>\n",
       "    <tr>\n",
       "      <th>resource</th>\n",
       "      <td>string</td>\n",
       "      <td></td>\n",
       "      <td>BindingDB</td>\n",
       "      <td></td>\n",
       "      <td></td>\n",
       "      <td>False</td>\n",
       "    </tr>\n",
       "    <tr>\n",
       "      <th>identifier</th>\n",
       "      <td>string</td>\n",
       "      <td></td>\n",
       "      <td>50118216</td>\n",
       "      <td></td>\n",
       "      <td></td>\n",
       "      <td>False</td>\n",
       "    </tr>\n",
       "    <tr>\n",
       "      <th>page_size</th>\n",
       "      <td>integer</td>\n",
       "      <td>Results per page</td>\n",
       "      <td>1</td>\n",
       "      <td></td>\n",
       "      <td>10.0</td>\n",
       "      <td>False</td>\n",
       "    </tr>\n",
       "    <tr>\n",
       "      <th>page</th>\n",
       "      <td>integer</td>\n",
       "      <td>Page number (starting with 1)</td>\n",
       "      <td>1</td>\n",
       "      <td></td>\n",
       "      <td>1.0</td>\n",
       "      <td>False</td>\n",
       "    </tr>\n",
       "  </tbody>\n",
       "</table>\n",
       "</div>"
      ],
      "text/plain": [
       "               data type                    description    example options  \\\n",
       "parameter name                                                               \n",
       "drugbank_id       string                                   DB00114           \n",
       "resource          string                                 BindingDB           \n",
       "identifier        string                                  50118216           \n",
       "page_size        integer               Results per page          1           \n",
       "page             integer  Page number (starting with 1)          1           \n",
       "\n",
       "               default  required  \n",
       "parameter name                    \n",
       "drugbank_id                False  \n",
       "resource                   False  \n",
       "identifier                 False  \n",
       "page_size         10.0     False  \n",
       "page               1.0     False  "
      ]
     },
     "metadata": {},
     "output_type": "display_data"
    },
    {
     "data": {
      "text/html": [
       "<b>Example URL:</b> <a href=\"http://0.0.0.0:5000/api/v1/drugbank/external_identifier?drugbank_id=DB00114&resource=BindingDB&identifier=50118216&page_size=1&page=1\">http://0.0.0.0:5000/api/v1/drugbank/external_identifier?drugbank_id=DB00114&resource=BindingDB&identifier=50118216&page_size=1&page=1</a>"
      ],
      "text/plain": [
       "<IPython.core.display.HTML object>"
      ]
     },
     "metadata": {},
     "output_type": "display_data"
    },
    {
     "data": {
      "text/html": [
       "<b style=\"color: rgb(98,98,98); text-decoration: underline;\">Example response:</b>"
      ],
      "text/plain": [
       "<IPython.core.display.HTML object>"
      ]
     },
     "metadata": {},
     "output_type": "display_data"
    },
    {
     "name": "stdout",
     "output_type": "stream",
     "text": [
      "{\u001b[38;5;124m'\u001b[39m\u001b[38;5;124mnumber_of_results\u001b[39m\u001b[38;5;124m'\u001b[39m: \u001b[38;5;241m1\u001b[39m,\n",
      " \u001b[38;5;124m'\u001b[39m\u001b[38;5;124mpage\u001b[39m\u001b[38;5;124m'\u001b[39m: \u001b[38;5;241m1\u001b[39m,\n",
      " \u001b[38;5;124m'\u001b[39m\u001b[38;5;124mpage_size\u001b[39m\u001b[38;5;124m'\u001b[39m: \u001b[38;5;241m1\u001b[39m,\n",
      " \u001b[38;5;124m'\u001b[39m\u001b[38;5;124mpages\u001b[39m\u001b[38;5;124m'\u001b[39m: \u001b[38;5;241m1\u001b[39m,\n",
      " \u001b[38;5;124m'\u001b[39m\u001b[38;5;124mresults\u001b[39m\u001b[38;5;124m'\u001b[39m: [{\u001b[38;5;124m'\u001b[39m\u001b[38;5;124mdrugbank_id\u001b[39m\u001b[38;5;124m'\u001b[39m: \u001b[38;5;124m'\u001b[39m\u001b[38;5;124mDB00114\u001b[39m\u001b[38;5;124m'\u001b[39m,\n",
      "              \u001b[38;5;124m'\u001b[39m\u001b[38;5;124midentifier\u001b[39m\u001b[38;5;124m'\u001b[39m: \u001b[38;5;124m'\u001b[39m\u001b[38;5;124m50118216\u001b[39m\u001b[38;5;124m'\u001b[39m,\n",
      "              \u001b[38;5;124m'\u001b[39m\u001b[38;5;124mresource\u001b[39m\u001b[38;5;124m'\u001b[39m: \u001b[38;5;124m'\u001b[39m\u001b[38;5;124mBindingDB\u001b[39m\u001b[38;5;124m'\u001b[39m}]}\n",
      "\n",
      "For further testing go to http://0.0.0.0:5000/ui/#/Drugbank/ebel.web.api.ebel.v1.drugbank.get_external_identifier\n"
     ]
    },
    {
     "data": {
      "text/html": [
       "<h2>5. DrugBank interaction</h2>"
      ],
      "text/plain": [
       "<IPython.core.display.HTML object>"
      ]
     },
     "metadata": {},
     "output_type": "display_data"
    },
    {
     "data": {
      "text/html": [
       "<b style=\"color: rgb(98,98,98); text-decoration: underline;\">Description:</b> <p>DrugBank interaction</p>"
      ],
      "text/plain": [
       "<IPython.core.display.HTML object>"
      ]
     },
     "metadata": {},
     "output_type": "display_data"
    },
    {
     "data": {
      "text/html": [
       "<b>Tags:</b> ['Drugbank']"
      ],
      "text/plain": [
       "<IPython.core.display.HTML object>"
      ]
     },
     "metadata": {},
     "output_type": "display_data"
    },
    {
     "data": {
      "text/html": [
       "<b>Server path:</b> /api/v1/drugbank/interaction"
      ],
      "text/plain": [
       "<IPython.core.display.HTML object>"
      ]
     },
     "metadata": {},
     "output_type": "display_data"
    },
    {
     "data": {
      "text/html": [
       "<div>\n",
       "<style scoped>\n",
       "    .dataframe tbody tr th:only-of-type {\n",
       "        vertical-align: middle;\n",
       "    }\n",
       "\n",
       "    .dataframe tbody tr th {\n",
       "        vertical-align: top;\n",
       "    }\n",
       "\n",
       "    .dataframe thead th {\n",
       "        text-align: right;\n",
       "    }\n",
       "</style>\n",
       "<table border=\"1\" class=\"dataframe\">\n",
       "  <thead>\n",
       "    <tr style=\"text-align: right;\">\n",
       "      <th></th>\n",
       "      <th>data type</th>\n",
       "      <th>description</th>\n",
       "      <th>example</th>\n",
       "      <th>options</th>\n",
       "      <th>default</th>\n",
       "      <th>required</th>\n",
       "    </tr>\n",
       "    <tr>\n",
       "      <th>parameter name</th>\n",
       "      <th></th>\n",
       "      <th></th>\n",
       "      <th></th>\n",
       "      <th></th>\n",
       "      <th></th>\n",
       "      <th></th>\n",
       "    </tr>\n",
       "  </thead>\n",
       "  <tbody>\n",
       "    <tr>\n",
       "      <th>drugbank_id</th>\n",
       "      <td>string</td>\n",
       "      <td></td>\n",
       "      <td>DB06605</td>\n",
       "      <td></td>\n",
       "      <td></td>\n",
       "      <td>False</td>\n",
       "    </tr>\n",
       "    <tr>\n",
       "      <th>name</th>\n",
       "      <td>string</td>\n",
       "      <td></td>\n",
       "      <td>Apixaban</td>\n",
       "      <td></td>\n",
       "      <td></td>\n",
       "      <td>False</td>\n",
       "    </tr>\n",
       "    <tr>\n",
       "      <th>description</th>\n",
       "      <td>string</td>\n",
       "      <td></td>\n",
       "      <td>%hemorrhage%</td>\n",
       "      <td></td>\n",
       "      <td></td>\n",
       "      <td>False</td>\n",
       "    </tr>\n",
       "    <tr>\n",
       "      <th>page_size</th>\n",
       "      <td>integer</td>\n",
       "      <td>Results per page</td>\n",
       "      <td>1</td>\n",
       "      <td></td>\n",
       "      <td>10.0</td>\n",
       "      <td>False</td>\n",
       "    </tr>\n",
       "    <tr>\n",
       "      <th>page</th>\n",
       "      <td>integer</td>\n",
       "      <td>Page number (starting with 1)</td>\n",
       "      <td>1</td>\n",
       "      <td></td>\n",
       "      <td>1.0</td>\n",
       "      <td>False</td>\n",
       "    </tr>\n",
       "  </tbody>\n",
       "</table>\n",
       "</div>"
      ],
      "text/plain": [
       "               data type                    description       example options  \\\n",
       "parameter name                                                                  \n",
       "drugbank_id       string                                      DB06605           \n",
       "name              string                                     Apixaban           \n",
       "description       string                                 %hemorrhage%           \n",
       "page_size        integer               Results per page             1           \n",
       "page             integer  Page number (starting with 1)             1           \n",
       "\n",
       "               default  required  \n",
       "parameter name                    \n",
       "drugbank_id                False  \n",
       "name                       False  \n",
       "description                False  \n",
       "page_size         10.0     False  \n",
       "page               1.0     False  "
      ]
     },
     "metadata": {},
     "output_type": "display_data"
    },
    {
     "data": {
      "text/html": [
       "<b>Example URL:</b> <a href=\"http://0.0.0.0:5000/api/v1/drugbank/interaction?drugbank_id=DB06605&name=Apixaban&description=%25hemorrhage%25&page_size=1&page=1\">http://0.0.0.0:5000/api/v1/drugbank/interaction?drugbank_id=DB06605&name=Apixaban&description=%25hemorrhage%25&page_size=1&page=1</a>"
      ],
      "text/plain": [
       "<IPython.core.display.HTML object>"
      ]
     },
     "metadata": {},
     "output_type": "display_data"
    },
    {
     "data": {
      "text/html": [
       "<b style=\"color: rgb(98,98,98); text-decoration: underline;\">Example response:</b>"
      ],
      "text/plain": [
       "<IPython.core.display.HTML object>"
      ]
     },
     "metadata": {},
     "output_type": "display_data"
    },
    {
     "name": "stdout",
     "output_type": "stream",
     "text": [
      "{\u001b[38;5;124m'\u001b[39m\u001b[38;5;124mnumber_of_results\u001b[39m\u001b[38;5;124m'\u001b[39m: \u001b[38;5;241m150\u001b[39m,\n",
      " \u001b[38;5;124m'\u001b[39m\u001b[38;5;124mpage\u001b[39m\u001b[38;5;124m'\u001b[39m: \u001b[38;5;241m1\u001b[39m,\n",
      " \u001b[38;5;124m'\u001b[39m\u001b[38;5;124mpage_size\u001b[39m\u001b[38;5;124m'\u001b[39m: \u001b[38;5;241m1\u001b[39m,\n",
      " \u001b[38;5;124m'\u001b[39m\u001b[38;5;124mpages\u001b[39m\u001b[38;5;124m'\u001b[39m: \u001b[38;5;241m150\u001b[39m,\n",
      " \u001b[38;5;124m'\u001b[39m\u001b[38;5;124mresults\u001b[39m\u001b[38;5;124m'\u001b[39m: [{\u001b[38;5;124m'\u001b[39m\u001b[38;5;124mdescription\u001b[39m\u001b[38;5;124m'\u001b[39m: \u001b[38;5;124m'\u001b[39m\u001b[38;5;124mThe risk or severity of bleeding and hemorrhage \u001b[39m\u001b[38;5;124m'\u001b[39m\n",
      "                             \u001b[38;5;124m'\u001b[39m\u001b[38;5;124mcan be increased when Apixaban is combined with \u001b[39m\u001b[38;5;124m'\u001b[39m\n",
      "                             \u001b[38;5;124m'\u001b[39m\u001b[38;5;124mTositumomab.\u001b[39m\u001b[38;5;124m'\u001b[39m,\n",
      "              \u001b[38;5;124m'\u001b[39m\u001b[38;5;124mdrugbank_id\u001b[39m\u001b[38;5;124m'\u001b[39m: \u001b[38;5;124m'\u001b[39m\u001b[38;5;124mDB06605\u001b[39m\u001b[38;5;124m'\u001b[39m,\n",
      "              \u001b[38;5;124m'\u001b[39m\u001b[38;5;124minteractor_drugbank_id\u001b[39m\u001b[38;5;124m'\u001b[39m: \u001b[38;5;124m'\u001b[39m\u001b[38;5;124mDB00081\u001b[39m\u001b[38;5;124m'\u001b[39m,\n",
      "              \u001b[38;5;124m'\u001b[39m\u001b[38;5;124mname\u001b[39m\u001b[38;5;124m'\u001b[39m: \u001b[38;5;124m'\u001b[39m\u001b[38;5;124mApixaban\u001b[39m\u001b[38;5;124m'\u001b[39m}]}\n",
      "\n",
      "For further testing go to http://0.0.0.0:5000/ui/#/Drugbank/ebel.web.api.ebel.v1.drugbank.get_interaction\n"
     ]
    },
    {
     "data": {
      "text/html": [
       "<h2>6. DrugBank patent</h2>"
      ],
      "text/plain": [
       "<IPython.core.display.HTML object>"
      ]
     },
     "metadata": {},
     "output_type": "display_data"
    },
    {
     "data": {
      "text/html": [
       "<b style=\"color: rgb(98,98,98); text-decoration: underline;\">Description:</b> <p>DrugBank patent</p>"
      ],
      "text/plain": [
       "<IPython.core.display.HTML object>"
      ]
     },
     "metadata": {},
     "output_type": "display_data"
    },
    {
     "data": {
      "text/html": [
       "<b>Tags:</b> ['Drugbank']"
      ],
      "text/plain": [
       "<IPython.core.display.HTML object>"
      ]
     },
     "metadata": {},
     "output_type": "display_data"
    },
    {
     "data": {
      "text/html": [
       "<b>Server path:</b> /api/v1/drugbank/patent"
      ],
      "text/plain": [
       "<IPython.core.display.HTML object>"
      ]
     },
     "metadata": {},
     "output_type": "display_data"
    },
    {
     "data": {
      "text/html": [
       "<div>\n",
       "<style scoped>\n",
       "    .dataframe tbody tr th:only-of-type {\n",
       "        vertical-align: middle;\n",
       "    }\n",
       "\n",
       "    .dataframe tbody tr th {\n",
       "        vertical-align: top;\n",
       "    }\n",
       "\n",
       "    .dataframe thead th {\n",
       "        text-align: right;\n",
       "    }\n",
       "</style>\n",
       "<table border=\"1\" class=\"dataframe\">\n",
       "  <thead>\n",
       "    <tr style=\"text-align: right;\">\n",
       "      <th></th>\n",
       "      <th>data type</th>\n",
       "      <th>description</th>\n",
       "      <th>example</th>\n",
       "      <th>options</th>\n",
       "      <th>default</th>\n",
       "      <th>required</th>\n",
       "    </tr>\n",
       "    <tr>\n",
       "      <th>parameter name</th>\n",
       "      <th></th>\n",
       "      <th></th>\n",
       "      <th></th>\n",
       "      <th></th>\n",
       "      <th></th>\n",
       "      <th></th>\n",
       "    </tr>\n",
       "  </thead>\n",
       "  <tbody>\n",
       "    <tr>\n",
       "      <th>drugbank_id</th>\n",
       "      <td>string</td>\n",
       "      <td></td>\n",
       "      <td>DB00001</td>\n",
       "      <td></td>\n",
       "      <td></td>\n",
       "      <td>False</td>\n",
       "    </tr>\n",
       "    <tr>\n",
       "      <th>number</th>\n",
       "      <td>string</td>\n",
       "      <td></td>\n",
       "      <td></td>\n",
       "      <td></td>\n",
       "      <td></td>\n",
       "      <td>False</td>\n",
       "    </tr>\n",
       "    <tr>\n",
       "      <th>country</th>\n",
       "      <td>string</td>\n",
       "      <td></td>\n",
       "      <td></td>\n",
       "      <td></td>\n",
       "      <td></td>\n",
       "      <td>False</td>\n",
       "    </tr>\n",
       "    <tr>\n",
       "      <th>page_size</th>\n",
       "      <td>integer</td>\n",
       "      <td>Results per page</td>\n",
       "      <td>1</td>\n",
       "      <td></td>\n",
       "      <td>10.0</td>\n",
       "      <td>False</td>\n",
       "    </tr>\n",
       "    <tr>\n",
       "      <th>page</th>\n",
       "      <td>integer</td>\n",
       "      <td>Page number (starting with 1)</td>\n",
       "      <td>1</td>\n",
       "      <td></td>\n",
       "      <td>1.0</td>\n",
       "      <td>False</td>\n",
       "    </tr>\n",
       "  </tbody>\n",
       "</table>\n",
       "</div>"
      ],
      "text/plain": [
       "               data type                    description  example options  \\\n",
       "parameter name                                                             \n",
       "drugbank_id       string                                 DB00001           \n",
       "number            string                                                   \n",
       "country           string                                                   \n",
       "page_size        integer               Results per page        1           \n",
       "page             integer  Page number (starting with 1)        1           \n",
       "\n",
       "               default  required  \n",
       "parameter name                    \n",
       "drugbank_id                False  \n",
       "number                     False  \n",
       "country                    False  \n",
       "page_size         10.0     False  \n",
       "page               1.0     False  "
      ]
     },
     "metadata": {},
     "output_type": "display_data"
    },
    {
     "data": {
      "text/html": [
       "<b>Example URL:</b> <a href=\"http://0.0.0.0:5000/api/v1/drugbank/patent?drugbank_id=DB00001&page_size=1&page=1\">http://0.0.0.0:5000/api/v1/drugbank/patent?drugbank_id=DB00001&page_size=1&page=1</a>"
      ],
      "text/plain": [
       "<IPython.core.display.HTML object>"
      ]
     },
     "metadata": {},
     "output_type": "display_data"
    },
    {
     "data": {
      "text/html": [
       "<b style=\"color: rgb(98,98,98); text-decoration: underline;\">Example response:</b>"
      ],
      "text/plain": [
       "<IPython.core.display.HTML object>"
      ]
     },
     "metadata": {},
     "output_type": "display_data"
    },
    {
     "name": "stdout",
     "output_type": "stream",
     "text": [
      "{\u001b[38;5;124m'\u001b[39m\u001b[38;5;124mnumber_of_results\u001b[39m\u001b[38;5;124m'\u001b[39m: \u001b[38;5;241m1\u001b[39m,\n",
      " \u001b[38;5;124m'\u001b[39m\u001b[38;5;124mpage\u001b[39m\u001b[38;5;124m'\u001b[39m: \u001b[38;5;241m1\u001b[39m,\n",
      " \u001b[38;5;124m'\u001b[39m\u001b[38;5;124mpage_size\u001b[39m\u001b[38;5;124m'\u001b[39m: \u001b[38;5;241m1\u001b[39m,\n",
      " \u001b[38;5;124m'\u001b[39m\u001b[38;5;124mpages\u001b[39m\u001b[38;5;124m'\u001b[39m: \u001b[38;5;241m1\u001b[39m,\n",
      " \u001b[38;5;124m'\u001b[39m\u001b[38;5;124mresults\u001b[39m\u001b[38;5;124m'\u001b[39m: [{\u001b[38;5;124m'\u001b[39m\u001b[38;5;124mapproved\u001b[39m\u001b[38;5;124m'\u001b[39m: \u001b[38;5;124m'\u001b[39m\u001b[38;5;124m1993-01-19\u001b[39m\u001b[38;5;124m'\u001b[39m,\n",
      "              \u001b[38;5;124m'\u001b[39m\u001b[38;5;124mcountry\u001b[39m\u001b[38;5;124m'\u001b[39m: \u001b[38;5;124m'\u001b[39m\u001b[38;5;124mUnited States\u001b[39m\u001b[38;5;124m'\u001b[39m,\n",
      "              \u001b[38;5;124m'\u001b[39m\u001b[38;5;124mdrugbank_id\u001b[39m\u001b[38;5;124m'\u001b[39m: \u001b[38;5;124m'\u001b[39m\u001b[38;5;124mDB00001\u001b[39m\u001b[38;5;124m'\u001b[39m,\n",
      "              \u001b[38;5;124m'\u001b[39m\u001b[38;5;124mexpires\u001b[39m\u001b[38;5;124m'\u001b[39m: \u001b[38;5;124m'\u001b[39m\u001b[38;5;124m2010-01-19\u001b[39m\u001b[38;5;124m'\u001b[39m,\n",
      "              \u001b[38;5;124m'\u001b[39m\u001b[38;5;124mnumber\u001b[39m\u001b[38;5;124m'\u001b[39m: \u001b[38;5;124m'\u001b[39m\u001b[38;5;124m5180668\u001b[39m\u001b[38;5;124m'\u001b[39m,\n",
      "              \u001b[38;5;124m'\u001b[39m\u001b[38;5;124mpediatric_extension\u001b[39m\u001b[38;5;124m'\u001b[39m: \u001b[38;5;124m'\u001b[39m\u001b[38;5;124mfalse\u001b[39m\u001b[38;5;124m'\u001b[39m}]}\n",
      "\n",
      "For further testing go to http://0.0.0.0:5000/ui/#/Drugbank/ebel.web.api.ebel.v1.drugbank.get_patent\n"
     ]
    },
    {
     "data": {
      "text/html": [
       "<h2>7. DrugBank pathway</h2>"
      ],
      "text/plain": [
       "<IPython.core.display.HTML object>"
      ]
     },
     "metadata": {},
     "output_type": "display_data"
    },
    {
     "data": {
      "text/html": [
       "<b style=\"color: rgb(98,98,98); text-decoration: underline;\">Description:</b> <p>DrugBank pathway</p>"
      ],
      "text/plain": [
       "<IPython.core.display.HTML object>"
      ]
     },
     "metadata": {},
     "output_type": "display_data"
    },
    {
     "data": {
      "text/html": [
       "<b>Tags:</b> ['Drugbank']"
      ],
      "text/plain": [
       "<IPython.core.display.HTML object>"
      ]
     },
     "metadata": {},
     "output_type": "display_data"
    },
    {
     "data": {
      "text/html": [
       "<b>Server path:</b> /api/v1/drugbank/pathway"
      ],
      "text/plain": [
       "<IPython.core.display.HTML object>"
      ]
     },
     "metadata": {},
     "output_type": "display_data"
    },
    {
     "data": {
      "text/html": [
       "<div>\n",
       "<style scoped>\n",
       "    .dataframe tbody tr th:only-of-type {\n",
       "        vertical-align: middle;\n",
       "    }\n",
       "\n",
       "    .dataframe tbody tr th {\n",
       "        vertical-align: top;\n",
       "    }\n",
       "\n",
       "    .dataframe thead th {\n",
       "        text-align: right;\n",
       "    }\n",
       "</style>\n",
       "<table border=\"1\" class=\"dataframe\">\n",
       "  <thead>\n",
       "    <tr style=\"text-align: right;\">\n",
       "      <th></th>\n",
       "      <th>data type</th>\n",
       "      <th>description</th>\n",
       "      <th>example</th>\n",
       "      <th>options</th>\n",
       "      <th>default</th>\n",
       "      <th>required</th>\n",
       "    </tr>\n",
       "    <tr>\n",
       "      <th>parameter name</th>\n",
       "      <th></th>\n",
       "      <th></th>\n",
       "      <th></th>\n",
       "      <th></th>\n",
       "      <th></th>\n",
       "      <th></th>\n",
       "    </tr>\n",
       "  </thead>\n",
       "  <tbody>\n",
       "    <tr>\n",
       "      <th>drugbank_id</th>\n",
       "      <td>string</td>\n",
       "      <td></td>\n",
       "      <td>DB00114</td>\n",
       "      <td></td>\n",
       "      <td></td>\n",
       "      <td>False</td>\n",
       "    </tr>\n",
       "    <tr>\n",
       "      <th>smpdb_id</th>\n",
       "      <td>string</td>\n",
       "      <td></td>\n",
       "      <td></td>\n",
       "      <td></td>\n",
       "      <td></td>\n",
       "      <td>False</td>\n",
       "    </tr>\n",
       "    <tr>\n",
       "      <th>page_size</th>\n",
       "      <td>integer</td>\n",
       "      <td>Results per page</td>\n",
       "      <td>1</td>\n",
       "      <td></td>\n",
       "      <td>10.0</td>\n",
       "      <td>False</td>\n",
       "    </tr>\n",
       "    <tr>\n",
       "      <th>page</th>\n",
       "      <td>integer</td>\n",
       "      <td>Page number (starting with 1)</td>\n",
       "      <td>1</td>\n",
       "      <td></td>\n",
       "      <td>1.0</td>\n",
       "      <td>False</td>\n",
       "    </tr>\n",
       "  </tbody>\n",
       "</table>\n",
       "</div>"
      ],
      "text/plain": [
       "               data type                    description  example options  \\\n",
       "parameter name                                                             \n",
       "drugbank_id       string                                 DB00114           \n",
       "smpdb_id          string                                                   \n",
       "page_size        integer               Results per page        1           \n",
       "page             integer  Page number (starting with 1)        1           \n",
       "\n",
       "               default  required  \n",
       "parameter name                    \n",
       "drugbank_id                False  \n",
       "smpdb_id                   False  \n",
       "page_size         10.0     False  \n",
       "page               1.0     False  "
      ]
     },
     "metadata": {},
     "output_type": "display_data"
    },
    {
     "data": {
      "text/html": [
       "<b>Example URL:</b> <a href=\"http://0.0.0.0:5000/api/v1/drugbank/pathway?drugbank_id=DB00114&page_size=1&page=1\">http://0.0.0.0:5000/api/v1/drugbank/pathway?drugbank_id=DB00114&page_size=1&page=1</a>"
      ],
      "text/plain": [
       "<IPython.core.display.HTML object>"
      ]
     },
     "metadata": {},
     "output_type": "display_data"
    },
    {
     "data": {
      "text/html": [
       "<b style=\"color: rgb(98,98,98); text-decoration: underline;\">Example response:</b>"
      ],
      "text/plain": [
       "<IPython.core.display.HTML object>"
      ]
     },
     "metadata": {},
     "output_type": "display_data"
    },
    {
     "name": "stdout",
     "output_type": "stream",
     "text": [
      "{\u001b[38;5;124m'\u001b[39m\u001b[38;5;124mnumber_of_results\u001b[39m\u001b[38;5;124m'\u001b[39m: \u001b[38;5;241m30\u001b[39m,\n",
      " \u001b[38;5;124m'\u001b[39m\u001b[38;5;124mpage\u001b[39m\u001b[38;5;124m'\u001b[39m: \u001b[38;5;241m1\u001b[39m,\n",
      " \u001b[38;5;124m'\u001b[39m\u001b[38;5;124mpage_size\u001b[39m\u001b[38;5;124m'\u001b[39m: \u001b[38;5;241m1\u001b[39m,\n",
      " \u001b[38;5;124m'\u001b[39m\u001b[38;5;124mpages\u001b[39m\u001b[38;5;124m'\u001b[39m: \u001b[38;5;241m30\u001b[39m,\n",
      " \u001b[38;5;124m'\u001b[39m\u001b[38;5;124mresults\u001b[39m\u001b[38;5;124m'\u001b[39m: [{\u001b[38;5;124m'\u001b[39m\u001b[38;5;124mdrugbank_id\u001b[39m\u001b[38;5;124m'\u001b[39m: \u001b[38;5;124m'\u001b[39m\u001b[38;5;124mDB00114\u001b[39m\u001b[38;5;124m'\u001b[39m, \u001b[38;5;124m'\u001b[39m\u001b[38;5;124msmpdb_id\u001b[39m\u001b[38;5;124m'\u001b[39m: \u001b[38;5;124m'\u001b[39m\u001b[38;5;124mSMP0000002\u001b[39m\u001b[38;5;124m'\u001b[39m}]}\n",
      "\n",
      "For further testing go to http://0.0.0.0:5000/ui/#/Drugbank/ebel.web.api.ebel.v1.drugbank.get_pathway\n"
     ]
    },
    {
     "data": {
      "text/html": [
       "<h2>8. DrugBank product name</h2>"
      ],
      "text/plain": [
       "<IPython.core.display.HTML object>"
      ]
     },
     "metadata": {},
     "output_type": "display_data"
    },
    {
     "data": {
      "text/html": [
       "<b style=\"color: rgb(98,98,98); text-decoration: underline;\">Description:</b> <p>DrugBank product name</p>"
      ],
      "text/plain": [
       "<IPython.core.display.HTML object>"
      ]
     },
     "metadata": {},
     "output_type": "display_data"
    },
    {
     "data": {
      "text/html": [
       "<b>Tags:</b> ['Drugbank']"
      ],
      "text/plain": [
       "<IPython.core.display.HTML object>"
      ]
     },
     "metadata": {},
     "output_type": "display_data"
    },
    {
     "data": {
      "text/html": [
       "<b>Server path:</b> /api/v1/drugbank/product_name"
      ],
      "text/plain": [
       "<IPython.core.display.HTML object>"
      ]
     },
     "metadata": {},
     "output_type": "display_data"
    },
    {
     "data": {
      "text/html": [
       "<div>\n",
       "<style scoped>\n",
       "    .dataframe tbody tr th:only-of-type {\n",
       "        vertical-align: middle;\n",
       "    }\n",
       "\n",
       "    .dataframe tbody tr th {\n",
       "        vertical-align: top;\n",
       "    }\n",
       "\n",
       "    .dataframe thead th {\n",
       "        text-align: right;\n",
       "    }\n",
       "</style>\n",
       "<table border=\"1\" class=\"dataframe\">\n",
       "  <thead>\n",
       "    <tr style=\"text-align: right;\">\n",
       "      <th></th>\n",
       "      <th>data type</th>\n",
       "      <th>description</th>\n",
       "      <th>example</th>\n",
       "      <th>options</th>\n",
       "      <th>default</th>\n",
       "      <th>required</th>\n",
       "    </tr>\n",
       "    <tr>\n",
       "      <th>parameter name</th>\n",
       "      <th></th>\n",
       "      <th></th>\n",
       "      <th></th>\n",
       "      <th></th>\n",
       "      <th></th>\n",
       "      <th></th>\n",
       "    </tr>\n",
       "  </thead>\n",
       "  <tbody>\n",
       "    <tr>\n",
       "      <th>drugbank_id</th>\n",
       "      <td>string</td>\n",
       "      <td></td>\n",
       "      <td>DB00114</td>\n",
       "      <td></td>\n",
       "      <td></td>\n",
       "      <td>False</td>\n",
       "    </tr>\n",
       "    <tr>\n",
       "      <th>name</th>\n",
       "      <td>string</td>\n",
       "      <td></td>\n",
       "      <td></td>\n",
       "      <td></td>\n",
       "      <td></td>\n",
       "      <td>False</td>\n",
       "    </tr>\n",
       "    <tr>\n",
       "      <th>page_size</th>\n",
       "      <td>integer</td>\n",
       "      <td>Results per page</td>\n",
       "      <td>1</td>\n",
       "      <td></td>\n",
       "      <td>10.0</td>\n",
       "      <td>False</td>\n",
       "    </tr>\n",
       "    <tr>\n",
       "      <th>page</th>\n",
       "      <td>integer</td>\n",
       "      <td>Page number (starting with 1)</td>\n",
       "      <td>1</td>\n",
       "      <td></td>\n",
       "      <td>1.0</td>\n",
       "      <td>False</td>\n",
       "    </tr>\n",
       "  </tbody>\n",
       "</table>\n",
       "</div>"
      ],
      "text/plain": [
       "               data type                    description  example options  \\\n",
       "parameter name                                                             \n",
       "drugbank_id       string                                 DB00114           \n",
       "name              string                                                   \n",
       "page_size        integer               Results per page        1           \n",
       "page             integer  Page number (starting with 1)        1           \n",
       "\n",
       "               default  required  \n",
       "parameter name                    \n",
       "drugbank_id                False  \n",
       "name                       False  \n",
       "page_size         10.0     False  \n",
       "page               1.0     False  "
      ]
     },
     "metadata": {},
     "output_type": "display_data"
    },
    {
     "data": {
      "text/html": [
       "<b>Example URL:</b> <a href=\"http://0.0.0.0:5000/api/v1/drugbank/product_name?drugbank_id=DB00114&page_size=1&page=1\">http://0.0.0.0:5000/api/v1/drugbank/product_name?drugbank_id=DB00114&page_size=1&page=1</a>"
      ],
      "text/plain": [
       "<IPython.core.display.HTML object>"
      ]
     },
     "metadata": {},
     "output_type": "display_data"
    },
    {
     "data": {
      "text/html": [
       "<b style=\"color: rgb(98,98,98); text-decoration: underline;\">Example response:</b>"
      ],
      "text/plain": [
       "<IPython.core.display.HTML object>"
      ]
     },
     "metadata": {},
     "output_type": "display_data"
    },
    {
     "name": "stdout",
     "output_type": "stream",
     "text": [
      "{\u001b[38;5;124m'\u001b[39m\u001b[38;5;124mnumber_of_results\u001b[39m\u001b[38;5;124m'\u001b[39m: \u001b[38;5;241m26\u001b[39m,\n",
      " \u001b[38;5;124m'\u001b[39m\u001b[38;5;124mpage\u001b[39m\u001b[38;5;124m'\u001b[39m: \u001b[38;5;241m1\u001b[39m,\n",
      " \u001b[38;5;124m'\u001b[39m\u001b[38;5;124mpage_size\u001b[39m\u001b[38;5;124m'\u001b[39m: \u001b[38;5;241m1\u001b[39m,\n",
      " \u001b[38;5;124m'\u001b[39m\u001b[38;5;124mpages\u001b[39m\u001b[38;5;124m'\u001b[39m: \u001b[38;5;241m26\u001b[39m,\n",
      " \u001b[38;5;124m'\u001b[39m\u001b[38;5;124mresults\u001b[39m\u001b[38;5;124m'\u001b[39m: [{\u001b[38;5;124m'\u001b[39m\u001b[38;5;124mdrugbank_id\u001b[39m\u001b[38;5;124m'\u001b[39m: \u001b[38;5;124m'\u001b[39m\u001b[38;5;124mDB00114\u001b[39m\u001b[38;5;124m'\u001b[39m, \u001b[38;5;124m'\u001b[39m\u001b[38;5;124mname\u001b[39m\u001b[38;5;124m'\u001b[39m: \u001b[38;5;124m'\u001b[39m\u001b[38;5;124mZyvit\u001b[39m\u001b[38;5;124m'\u001b[39m}]}\n",
      "\n",
      "For further testing go to http://0.0.0.0:5000/ui/#/Drugbank/ebel.web.api.ebel.v1.drugbank.get_product_name\n"
     ]
    },
    {
     "data": {
      "text/html": [
       "<h2>9. DrugBank pathway</h2>"
      ],
      "text/plain": [
       "<IPython.core.display.HTML object>"
      ]
     },
     "metadata": {},
     "output_type": "display_data"
    },
    {
     "data": {
      "text/html": [
       "<b style=\"color: rgb(98,98,98); text-decoration: underline;\">Description:</b> <p>DrugBank reference</p>"
      ],
      "text/plain": [
       "<IPython.core.display.HTML object>"
      ]
     },
     "metadata": {},
     "output_type": "display_data"
    },
    {
     "data": {
      "text/html": [
       "<b>Tags:</b> ['Drugbank']"
      ],
      "text/plain": [
       "<IPython.core.display.HTML object>"
      ]
     },
     "metadata": {},
     "output_type": "display_data"
    },
    {
     "data": {
      "text/html": [
       "<b>Server path:</b> /api/v1/drugbank/reference"
      ],
      "text/plain": [
       "<IPython.core.display.HTML object>"
      ]
     },
     "metadata": {},
     "output_type": "display_data"
    },
    {
     "data": {
      "text/html": [
       "<div>\n",
       "<style scoped>\n",
       "    .dataframe tbody tr th:only-of-type {\n",
       "        vertical-align: middle;\n",
       "    }\n",
       "\n",
       "    .dataframe tbody tr th {\n",
       "        vertical-align: top;\n",
       "    }\n",
       "\n",
       "    .dataframe thead th {\n",
       "        text-align: right;\n",
       "    }\n",
       "</style>\n",
       "<table border=\"1\" class=\"dataframe\">\n",
       "  <thead>\n",
       "    <tr style=\"text-align: right;\">\n",
       "      <th></th>\n",
       "      <th>data type</th>\n",
       "      <th>description</th>\n",
       "      <th>example</th>\n",
       "      <th>options</th>\n",
       "      <th>default</th>\n",
       "      <th>required</th>\n",
       "    </tr>\n",
       "    <tr>\n",
       "      <th>parameter name</th>\n",
       "      <th></th>\n",
       "      <th></th>\n",
       "      <th></th>\n",
       "      <th></th>\n",
       "      <th></th>\n",
       "      <th></th>\n",
       "    </tr>\n",
       "  </thead>\n",
       "  <tbody>\n",
       "    <tr>\n",
       "      <th>drugbank_id</th>\n",
       "      <td>string</td>\n",
       "      <td></td>\n",
       "      <td>DB00001</td>\n",
       "      <td></td>\n",
       "      <td></td>\n",
       "      <td>False</td>\n",
       "    </tr>\n",
       "    <tr>\n",
       "      <th>pmid</th>\n",
       "      <td>string</td>\n",
       "      <td></td>\n",
       "      <td></td>\n",
       "      <td></td>\n",
       "      <td></td>\n",
       "      <td>False</td>\n",
       "    </tr>\n",
       "    <tr>\n",
       "      <th>page_size</th>\n",
       "      <td>integer</td>\n",
       "      <td>Results per page</td>\n",
       "      <td>1</td>\n",
       "      <td></td>\n",
       "      <td>10.0</td>\n",
       "      <td>False</td>\n",
       "    </tr>\n",
       "    <tr>\n",
       "      <th>page</th>\n",
       "      <td>integer</td>\n",
       "      <td>Page number (starting with 1)</td>\n",
       "      <td>1</td>\n",
       "      <td></td>\n",
       "      <td>1.0</td>\n",
       "      <td>False</td>\n",
       "    </tr>\n",
       "  </tbody>\n",
       "</table>\n",
       "</div>"
      ],
      "text/plain": [
       "               data type                    description  example options  \\\n",
       "parameter name                                                             \n",
       "drugbank_id       string                                 DB00001           \n",
       "pmid              string                                                   \n",
       "page_size        integer               Results per page        1           \n",
       "page             integer  Page number (starting with 1)        1           \n",
       "\n",
       "               default  required  \n",
       "parameter name                    \n",
       "drugbank_id                False  \n",
       "pmid                       False  \n",
       "page_size         10.0     False  \n",
       "page               1.0     False  "
      ]
     },
     "metadata": {},
     "output_type": "display_data"
    },
    {
     "data": {
      "text/html": [
       "<b>Example URL:</b> <a href=\"http://0.0.0.0:5000/api/v1/drugbank/reference?drugbank_id=DB00001&page_size=1&page=1\">http://0.0.0.0:5000/api/v1/drugbank/reference?drugbank_id=DB00001&page_size=1&page=1</a>"
      ],
      "text/plain": [
       "<IPython.core.display.HTML object>"
      ]
     },
     "metadata": {},
     "output_type": "display_data"
    },
    {
     "data": {
      "text/html": [
       "<b style=\"color: rgb(98,98,98); text-decoration: underline;\">Example response:</b>"
      ],
      "text/plain": [
       "<IPython.core.display.HTML object>"
      ]
     },
     "metadata": {},
     "output_type": "display_data"
    },
    {
     "name": "stdout",
     "output_type": "stream",
     "text": [
      "{\u001b[38;5;124m'\u001b[39m\u001b[38;5;124mnumber_of_results\u001b[39m\u001b[38;5;124m'\u001b[39m: \u001b[38;5;241m3\u001b[39m,\n",
      " \u001b[38;5;124m'\u001b[39m\u001b[38;5;124mpage\u001b[39m\u001b[38;5;124m'\u001b[39m: \u001b[38;5;241m1\u001b[39m,\n",
      " \u001b[38;5;124m'\u001b[39m\u001b[38;5;124mpage_size\u001b[39m\u001b[38;5;124m'\u001b[39m: \u001b[38;5;241m1\u001b[39m,\n",
      " \u001b[38;5;124m'\u001b[39m\u001b[38;5;124mpages\u001b[39m\u001b[38;5;124m'\u001b[39m: \u001b[38;5;241m3\u001b[39m,\n",
      " \u001b[38;5;124m'\u001b[39m\u001b[38;5;124mresults\u001b[39m\u001b[38;5;124m'\u001b[39m: [{\u001b[38;5;124m'\u001b[39m\u001b[38;5;124mdrugbank_id\u001b[39m\u001b[38;5;124m'\u001b[39m: \u001b[38;5;124m'\u001b[39m\u001b[38;5;124mDB00001\u001b[39m\u001b[38;5;124m'\u001b[39m, \u001b[38;5;124m'\u001b[39m\u001b[38;5;124mpmid\u001b[39m\u001b[38;5;124m'\u001b[39m: \u001b[38;5;241m16244762\u001b[39m}]}\n",
      "\n",
      "For further testing go to http://0.0.0.0:5000/ui/#/Drugbank/ebel.web.api.ebel.v1.drugbank.get_reference\n"
     ]
    },
    {
     "data": {
      "text/html": [
       "<h2>10. DrugBank status</h2>"
      ],
      "text/plain": [
       "<IPython.core.display.HTML object>"
      ]
     },
     "metadata": {},
     "output_type": "display_data"
    },
    {
     "data": {
      "text/html": [
       "<b style=\"color: rgb(98,98,98); text-decoration: underline;\">Description:</b> <p>DrugBank status</p>"
      ],
      "text/plain": [
       "<IPython.core.display.HTML object>"
      ]
     },
     "metadata": {},
     "output_type": "display_data"
    },
    {
     "data": {
      "text/html": [
       "<b>Tags:</b> ['Drugbank']"
      ],
      "text/plain": [
       "<IPython.core.display.HTML object>"
      ]
     },
     "metadata": {},
     "output_type": "display_data"
    },
    {
     "data": {
      "text/html": [
       "<b>Server path:</b> /api/v1/drugbank/status"
      ],
      "text/plain": [
       "<IPython.core.display.HTML object>"
      ]
     },
     "metadata": {},
     "output_type": "display_data"
    },
    {
     "data": {
      "text/html": [
       "<div>\n",
       "<style scoped>\n",
       "    .dataframe tbody tr th:only-of-type {\n",
       "        vertical-align: middle;\n",
       "    }\n",
       "\n",
       "    .dataframe tbody tr th {\n",
       "        vertical-align: top;\n",
       "    }\n",
       "\n",
       "    .dataframe thead th {\n",
       "        text-align: right;\n",
       "    }\n",
       "</style>\n",
       "<table border=\"1\" class=\"dataframe\">\n",
       "  <thead>\n",
       "    <tr style=\"text-align: right;\">\n",
       "      <th></th>\n",
       "      <th>data type</th>\n",
       "      <th>description</th>\n",
       "      <th>example</th>\n",
       "      <th>options</th>\n",
       "      <th>default</th>\n",
       "      <th>required</th>\n",
       "    </tr>\n",
       "    <tr>\n",
       "      <th>parameter name</th>\n",
       "      <th></th>\n",
       "      <th></th>\n",
       "      <th></th>\n",
       "      <th></th>\n",
       "      <th></th>\n",
       "      <th></th>\n",
       "    </tr>\n",
       "  </thead>\n",
       "  <tbody>\n",
       "    <tr>\n",
       "      <th>drugbank_id</th>\n",
       "      <td>string</td>\n",
       "      <td></td>\n",
       "      <td>DB00114</td>\n",
       "      <td></td>\n",
       "      <td></td>\n",
       "      <td>False</td>\n",
       "    </tr>\n",
       "    <tr>\n",
       "      <th>status</th>\n",
       "      <td>string</td>\n",
       "      <td></td>\n",
       "      <td></td>\n",
       "      <td></td>\n",
       "      <td></td>\n",
       "      <td>False</td>\n",
       "    </tr>\n",
       "    <tr>\n",
       "      <th>page_size</th>\n",
       "      <td>integer</td>\n",
       "      <td>Results per page</td>\n",
       "      <td>1</td>\n",
       "      <td></td>\n",
       "      <td>10.0</td>\n",
       "      <td>False</td>\n",
       "    </tr>\n",
       "    <tr>\n",
       "      <th>page</th>\n",
       "      <td>integer</td>\n",
       "      <td>Page number (starting with 1)</td>\n",
       "      <td>1</td>\n",
       "      <td></td>\n",
       "      <td>1.0</td>\n",
       "      <td>False</td>\n",
       "    </tr>\n",
       "  </tbody>\n",
       "</table>\n",
       "</div>"
      ],
      "text/plain": [
       "               data type                    description  example options  \\\n",
       "parameter name                                                             \n",
       "drugbank_id       string                                 DB00114           \n",
       "status            string                                                   \n",
       "page_size        integer               Results per page        1           \n",
       "page             integer  Page number (starting with 1)        1           \n",
       "\n",
       "               default  required  \n",
       "parameter name                    \n",
       "drugbank_id                False  \n",
       "status                     False  \n",
       "page_size         10.0     False  \n",
       "page               1.0     False  "
      ]
     },
     "metadata": {},
     "output_type": "display_data"
    },
    {
     "data": {
      "text/html": [
       "<b>Example URL:</b> <a href=\"http://0.0.0.0:5000/api/v1/drugbank/status?drugbank_id=DB00114&page_size=1&page=1\">http://0.0.0.0:5000/api/v1/drugbank/status?drugbank_id=DB00114&page_size=1&page=1</a>"
      ],
      "text/plain": [
       "<IPython.core.display.HTML object>"
      ]
     },
     "metadata": {},
     "output_type": "display_data"
    },
    {
     "data": {
      "text/html": [
       "<b style=\"color: rgb(98,98,98); text-decoration: underline;\">Example response:</b>"
      ],
      "text/plain": [
       "<IPython.core.display.HTML object>"
      ]
     },
     "metadata": {},
     "output_type": "display_data"
    },
    {
     "name": "stdout",
     "output_type": "stream",
     "text": [
      "{\u001b[38;5;124m'\u001b[39m\u001b[38;5;124mnumber_of_results\u001b[39m\u001b[38;5;124m'\u001b[39m: \u001b[38;5;241m3\u001b[39m,\n",
      " \u001b[38;5;124m'\u001b[39m\u001b[38;5;124mpage\u001b[39m\u001b[38;5;124m'\u001b[39m: \u001b[38;5;241m1\u001b[39m,\n",
      " \u001b[38;5;124m'\u001b[39m\u001b[38;5;124mpage_size\u001b[39m\u001b[38;5;124m'\u001b[39m: \u001b[38;5;241m1\u001b[39m,\n",
      " \u001b[38;5;124m'\u001b[39m\u001b[38;5;124mpages\u001b[39m\u001b[38;5;124m'\u001b[39m: \u001b[38;5;241m3\u001b[39m,\n",
      " \u001b[38;5;124m'\u001b[39m\u001b[38;5;124mresults\u001b[39m\u001b[38;5;124m'\u001b[39m: [{\u001b[38;5;124m'\u001b[39m\u001b[38;5;124mdrugbank_id\u001b[39m\u001b[38;5;124m'\u001b[39m: \u001b[38;5;124m'\u001b[39m\u001b[38;5;124mDB00114\u001b[39m\u001b[38;5;124m'\u001b[39m, \u001b[38;5;124m'\u001b[39m\u001b[38;5;124msmpdb_id\u001b[39m\u001b[38;5;124m'\u001b[39m: \u001b[38;5;124m'\u001b[39m\u001b[38;5;124mapproved\u001b[39m\u001b[38;5;124m'\u001b[39m}]}\n",
      "\n",
      "For further testing go to http://0.0.0.0:5000/ui/#/Drugbank/ebel.web.api.ebel.v1.drugbank.get_status\n"
     ]
    },
    {
     "data": {
      "text/html": [
       "<h2>11. DrugBank synonym</h2>"
      ],
      "text/plain": [
       "<IPython.core.display.HTML object>"
      ]
     },
     "metadata": {},
     "output_type": "display_data"
    },
    {
     "data": {
      "text/html": [
       "<b style=\"color: rgb(98,98,98); text-decoration: underline;\">Description:</b> <p>DrugBank synonym</p>"
      ],
      "text/plain": [
       "<IPython.core.display.HTML object>"
      ]
     },
     "metadata": {},
     "output_type": "display_data"
    },
    {
     "data": {
      "text/html": [
       "<b>Tags:</b> ['Drugbank']"
      ],
      "text/plain": [
       "<IPython.core.display.HTML object>"
      ]
     },
     "metadata": {},
     "output_type": "display_data"
    },
    {
     "data": {
      "text/html": [
       "<b>Server path:</b> /api/v1/drugbank/synonym"
      ],
      "text/plain": [
       "<IPython.core.display.HTML object>"
      ]
     },
     "metadata": {},
     "output_type": "display_data"
    },
    {
     "data": {
      "text/html": [
       "<div>\n",
       "<style scoped>\n",
       "    .dataframe tbody tr th:only-of-type {\n",
       "        vertical-align: middle;\n",
       "    }\n",
       "\n",
       "    .dataframe tbody tr th {\n",
       "        vertical-align: top;\n",
       "    }\n",
       "\n",
       "    .dataframe thead th {\n",
       "        text-align: right;\n",
       "    }\n",
       "</style>\n",
       "<table border=\"1\" class=\"dataframe\">\n",
       "  <thead>\n",
       "    <tr style=\"text-align: right;\">\n",
       "      <th></th>\n",
       "      <th>data type</th>\n",
       "      <th>description</th>\n",
       "      <th>example</th>\n",
       "      <th>options</th>\n",
       "      <th>default</th>\n",
       "      <th>required</th>\n",
       "    </tr>\n",
       "    <tr>\n",
       "      <th>parameter name</th>\n",
       "      <th></th>\n",
       "      <th></th>\n",
       "      <th></th>\n",
       "      <th></th>\n",
       "      <th></th>\n",
       "      <th></th>\n",
       "    </tr>\n",
       "  </thead>\n",
       "  <tbody>\n",
       "    <tr>\n",
       "      <th>drugbank_id</th>\n",
       "      <td>string</td>\n",
       "      <td></td>\n",
       "      <td>DB00001</td>\n",
       "      <td></td>\n",
       "      <td></td>\n",
       "      <td>False</td>\n",
       "    </tr>\n",
       "    <tr>\n",
       "      <th>synonym</th>\n",
       "      <td>string</td>\n",
       "      <td></td>\n",
       "      <td></td>\n",
       "      <td></td>\n",
       "      <td></td>\n",
       "      <td>False</td>\n",
       "    </tr>\n",
       "    <tr>\n",
       "      <th>page_size</th>\n",
       "      <td>integer</td>\n",
       "      <td>Results per page</td>\n",
       "      <td>1</td>\n",
       "      <td></td>\n",
       "      <td>10.0</td>\n",
       "      <td>False</td>\n",
       "    </tr>\n",
       "    <tr>\n",
       "      <th>page</th>\n",
       "      <td>integer</td>\n",
       "      <td>Page number (starting with 1)</td>\n",
       "      <td>1</td>\n",
       "      <td></td>\n",
       "      <td>1.0</td>\n",
       "      <td>False</td>\n",
       "    </tr>\n",
       "  </tbody>\n",
       "</table>\n",
       "</div>"
      ],
      "text/plain": [
       "               data type                    description  example options  \\\n",
       "parameter name                                                             \n",
       "drugbank_id       string                                 DB00001           \n",
       "synonym           string                                                   \n",
       "page_size        integer               Results per page        1           \n",
       "page             integer  Page number (starting with 1)        1           \n",
       "\n",
       "               default  required  \n",
       "parameter name                    \n",
       "drugbank_id                False  \n",
       "synonym                    False  \n",
       "page_size         10.0     False  \n",
       "page               1.0     False  "
      ]
     },
     "metadata": {},
     "output_type": "display_data"
    },
    {
     "data": {
      "text/html": [
       "<b>Example URL:</b> <a href=\"http://0.0.0.0:5000/api/v1/drugbank/synonym?drugbank_id=DB00001&page_size=1&page=1\">http://0.0.0.0:5000/api/v1/drugbank/synonym?drugbank_id=DB00001&page_size=1&page=1</a>"
      ],
      "text/plain": [
       "<IPython.core.display.HTML object>"
      ]
     },
     "metadata": {},
     "output_type": "display_data"
    },
    {
     "data": {
      "text/html": [
       "<b style=\"color: rgb(98,98,98); text-decoration: underline;\">Example response:</b>"
      ],
      "text/plain": [
       "<IPython.core.display.HTML object>"
      ]
     },
     "metadata": {},
     "output_type": "display_data"
    },
    {
     "name": "stdout",
     "output_type": "stream",
     "text": [
      "{\u001b[38;5;124m'\u001b[39m\u001b[38;5;124mnumber_of_results\u001b[39m\u001b[38;5;124m'\u001b[39m: \u001b[38;5;241m2\u001b[39m,\n",
      " \u001b[38;5;124m'\u001b[39m\u001b[38;5;124mpage\u001b[39m\u001b[38;5;124m'\u001b[39m: \u001b[38;5;241m1\u001b[39m,\n",
      " \u001b[38;5;124m'\u001b[39m\u001b[38;5;124mpage_size\u001b[39m\u001b[38;5;124m'\u001b[39m: \u001b[38;5;241m1\u001b[39m,\n",
      " \u001b[38;5;124m'\u001b[39m\u001b[38;5;124mpages\u001b[39m\u001b[38;5;124m'\u001b[39m: \u001b[38;5;241m2\u001b[39m,\n",
      " \u001b[38;5;124m'\u001b[39m\u001b[38;5;124mresults\u001b[39m\u001b[38;5;124m'\u001b[39m: [{\u001b[38;5;124m'\u001b[39m\u001b[38;5;124mdrugbank_id\u001b[39m\u001b[38;5;124m'\u001b[39m: \u001b[38;5;124m'\u001b[39m\u001b[38;5;124mDB00001\u001b[39m\u001b[38;5;124m'\u001b[39m, \u001b[38;5;124m'\u001b[39m\u001b[38;5;124msynonym\u001b[39m\u001b[38;5;124m'\u001b[39m: \u001b[38;5;124m'\u001b[39m\u001b[38;5;124mLepirudin recombinant\u001b[39m\u001b[38;5;124m'\u001b[39m}]}\n",
      "\n",
      "For further testing go to http://0.0.0.0:5000/ui/#/Drugbank/ebel.web.api.ebel.v1.drugbank.get_synonym\n"
     ]
    },
    {
     "data": {
      "text/html": [
       "<h2>12. DrugBank target</h2>"
      ],
      "text/plain": [
       "<IPython.core.display.HTML object>"
      ]
     },
     "metadata": {},
     "output_type": "display_data"
    },
    {
     "data": {
      "text/html": [
       "<b style=\"color: rgb(98,98,98); text-decoration: underline;\">Description:</b> <p>DrugBank target</p>"
      ],
      "text/plain": [
       "<IPython.core.display.HTML object>"
      ]
     },
     "metadata": {},
     "output_type": "display_data"
    },
    {
     "data": {
      "text/html": [
       "<b>Tags:</b> ['Drugbank']"
      ],
      "text/plain": [
       "<IPython.core.display.HTML object>"
      ]
     },
     "metadata": {},
     "output_type": "display_data"
    },
    {
     "data": {
      "text/html": [
       "<b>Server path:</b> /api/v1/drugbank/target"
      ],
      "text/plain": [
       "<IPython.core.display.HTML object>"
      ]
     },
     "metadata": {},
     "output_type": "display_data"
    },
    {
     "data": {
      "text/html": [
       "<div>\n",
       "<style scoped>\n",
       "    .dataframe tbody tr th:only-of-type {\n",
       "        vertical-align: middle;\n",
       "    }\n",
       "\n",
       "    .dataframe tbody tr th {\n",
       "        vertical-align: top;\n",
       "    }\n",
       "\n",
       "    .dataframe thead th {\n",
       "        text-align: right;\n",
       "    }\n",
       "</style>\n",
       "<table border=\"1\" class=\"dataframe\">\n",
       "  <thead>\n",
       "    <tr style=\"text-align: right;\">\n",
       "      <th></th>\n",
       "      <th>data type</th>\n",
       "      <th>description</th>\n",
       "      <th>example</th>\n",
       "      <th>options</th>\n",
       "      <th>default</th>\n",
       "      <th>required</th>\n",
       "    </tr>\n",
       "    <tr>\n",
       "      <th>parameter name</th>\n",
       "      <th></th>\n",
       "      <th></th>\n",
       "      <th></th>\n",
       "      <th></th>\n",
       "      <th></th>\n",
       "      <th></th>\n",
       "    </tr>\n",
       "  </thead>\n",
       "  <tbody>\n",
       "    <tr>\n",
       "      <th>drugbank_id</th>\n",
       "      <td>string</td>\n",
       "      <td></td>\n",
       "      <td>DB00001</td>\n",
       "      <td></td>\n",
       "      <td></td>\n",
       "      <td>False</td>\n",
       "    </tr>\n",
       "    <tr>\n",
       "      <th>uniprot</th>\n",
       "      <td>string</td>\n",
       "      <td></td>\n",
       "      <td></td>\n",
       "      <td></td>\n",
       "      <td></td>\n",
       "      <td>False</td>\n",
       "    </tr>\n",
       "    <tr>\n",
       "      <th>action</th>\n",
       "      <td>string</td>\n",
       "      <td></td>\n",
       "      <td></td>\n",
       "      <td></td>\n",
       "      <td></td>\n",
       "      <td>False</td>\n",
       "    </tr>\n",
       "    <tr>\n",
       "      <th>known_action</th>\n",
       "      <td>string</td>\n",
       "      <td></td>\n",
       "      <td></td>\n",
       "      <td></td>\n",
       "      <td></td>\n",
       "      <td>False</td>\n",
       "    </tr>\n",
       "    <tr>\n",
       "      <th>page_size</th>\n",
       "      <td>integer</td>\n",
       "      <td>Results per page</td>\n",
       "      <td>1</td>\n",
       "      <td></td>\n",
       "      <td>10.0</td>\n",
       "      <td>False</td>\n",
       "    </tr>\n",
       "    <tr>\n",
       "      <th>page</th>\n",
       "      <td>integer</td>\n",
       "      <td>Page number (starting with 1)</td>\n",
       "      <td>1</td>\n",
       "      <td></td>\n",
       "      <td>1.0</td>\n",
       "      <td>False</td>\n",
       "    </tr>\n",
       "  </tbody>\n",
       "</table>\n",
       "</div>"
      ],
      "text/plain": [
       "               data type                    description  example options  \\\n",
       "parameter name                                                             \n",
       "drugbank_id       string                                 DB00001           \n",
       "uniprot           string                                                   \n",
       "action            string                                                   \n",
       "known_action      string                                                   \n",
       "page_size        integer               Results per page        1           \n",
       "page             integer  Page number (starting with 1)        1           \n",
       "\n",
       "               default  required  \n",
       "parameter name                    \n",
       "drugbank_id                False  \n",
       "uniprot                    False  \n",
       "action                     False  \n",
       "known_action               False  \n",
       "page_size         10.0     False  \n",
       "page               1.0     False  "
      ]
     },
     "metadata": {},
     "output_type": "display_data"
    },
    {
     "data": {
      "text/html": [
       "<b>Example URL:</b> <a href=\"http://0.0.0.0:5000/api/v1/drugbank/target?drugbank_id=DB00001&page_size=1&page=1\">http://0.0.0.0:5000/api/v1/drugbank/target?drugbank_id=DB00001&page_size=1&page=1</a>"
      ],
      "text/plain": [
       "<IPython.core.display.HTML object>"
      ]
     },
     "metadata": {},
     "output_type": "display_data"
    },
    {
     "data": {
      "text/html": [
       "<b style=\"color: rgb(98,98,98); text-decoration: underline;\">Example response:</b>"
      ],
      "text/plain": [
       "<IPython.core.display.HTML object>"
      ]
     },
     "metadata": {},
     "output_type": "display_data"
    },
    {
     "name": "stdout",
     "output_type": "stream",
     "text": [
      "{\u001b[38;5;124m'\u001b[39m\u001b[38;5;124mnumber_of_results\u001b[39m\u001b[38;5;124m'\u001b[39m: \u001b[38;5;241m1\u001b[39m,\n",
      " \u001b[38;5;124m'\u001b[39m\u001b[38;5;124mpage\u001b[39m\u001b[38;5;124m'\u001b[39m: \u001b[38;5;241m1\u001b[39m,\n",
      " \u001b[38;5;124m'\u001b[39m\u001b[38;5;124mpage_size\u001b[39m\u001b[38;5;124m'\u001b[39m: \u001b[38;5;241m1\u001b[39m,\n",
      " \u001b[38;5;124m'\u001b[39m\u001b[38;5;124mpages\u001b[39m\u001b[38;5;124m'\u001b[39m: \u001b[38;5;241m1\u001b[39m,\n",
      " \u001b[38;5;124m'\u001b[39m\u001b[38;5;124mresults\u001b[39m\u001b[38;5;124m'\u001b[39m: [{\u001b[38;5;124m'\u001b[39m\u001b[38;5;124maction\u001b[39m\u001b[38;5;124m'\u001b[39m: \u001b[38;5;124m'\u001b[39m\u001b[38;5;124minhibitor\u001b[39m\u001b[38;5;124m'\u001b[39m,\n",
      "              \u001b[38;5;124m'\u001b[39m\u001b[38;5;124mdrugbank_id\u001b[39m\u001b[38;5;124m'\u001b[39m: \u001b[38;5;124m'\u001b[39m\u001b[38;5;124mDB00001\u001b[39m\u001b[38;5;124m'\u001b[39m,\n",
      "              \u001b[38;5;124m'\u001b[39m\u001b[38;5;124mknown_action\u001b[39m\u001b[38;5;124m'\u001b[39m: \u001b[38;5;124m'\u001b[39m\u001b[38;5;124myes\u001b[39m\u001b[38;5;124m'\u001b[39m,\n",
      "              \u001b[38;5;124m'\u001b[39m\u001b[38;5;124muniprot\u001b[39m\u001b[38;5;124m'\u001b[39m: \u001b[38;5;124m'\u001b[39m\u001b[38;5;124mP00734\u001b[39m\u001b[38;5;124m'\u001b[39m}]}\n",
      "\n",
      "For further testing go to http://0.0.0.0:5000/ui/#/Drugbank/ebel.web.api.ebel.v1.drugbank.get_target\n"
     ]
    }
   ],
   "source": [
    "import api_doc\n",
    "api_doc.get_api_methods_by_tag('Drugbank')"
   ]
  }
 ],
 "metadata": {
  "kernelspec": {
   "display_name": "Python 3 (ipykernel)",
   "language": "python",
   "name": "python3"
  },
  "language_info": {
   "codemirror_mode": {
    "name": "ipython",
    "version": 3
   },
   "file_extension": ".py",
   "mimetype": "text/x-python",
   "name": "python",
   "nbconvert_exporter": "python",
   "pygments_lexer": "ipython3",
   "version": "3.8.10"
  },
  "toc": {
   "base_numbering": 1,
   "nav_menu": {},
   "number_sections": true,
   "sideBar": true,
   "skip_h1_title": true,
   "title_cell": "Table of Contents",
   "title_sidebar": "Contents",
   "toc_cell": false,
   "toc_position": {},
   "toc_section_display": true,
   "toc_window_display": false
  }
 },
 "nbformat": 4,
 "nbformat_minor": 5
}
