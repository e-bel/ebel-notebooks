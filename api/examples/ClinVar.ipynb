{
 "cells": [
  {
   "cell_type": "markdown",
   "id": "bf137ffa",
   "metadata": {},
   "source": [
    "# ClinVar API methods"
   ]
  },
  {
   "cell_type": "code",
   "execution_count": 1,
   "id": "47e282e4",
   "metadata": {
    "scrolled": false
   },
   "outputs": [
    {
     "data": {
      "text/html": [
       "<h2>1. Get ClinVar</h2>"
      ],
      "text/plain": [
       "<IPython.core.display.HTML object>"
      ]
     },
     "metadata": {},
     "output_type": "display_data"
    },
    {
     "data": {
      "text/html": [
       "<b style=\"color: rgb(98,98,98); text-decoration: underline;\">Description:</b> <p>Get ClinVar</p>"
      ],
      "text/plain": [
       "<IPython.core.display.HTML object>"
      ]
     },
     "metadata": {},
     "output_type": "display_data"
    },
    {
     "data": {
      "text/html": [
       "<b>Tags:</b> ['ClinVar']"
      ],
      "text/plain": [
       "<IPython.core.display.HTML object>"
      ]
     },
     "metadata": {},
     "output_type": "display_data"
    },
    {
     "data": {
      "text/html": [
       "<b>Server path:</b> /api/v1/clinvar"
      ],
      "text/plain": [
       "<IPython.core.display.HTML object>"
      ]
     },
     "metadata": {},
     "output_type": "display_data"
    },
    {
     "data": {
      "text/html": [
       "<div>\n",
       "<style scoped>\n",
       "    .dataframe tbody tr th:only-of-type {\n",
       "        vertical-align: middle;\n",
       "    }\n",
       "\n",
       "    .dataframe tbody tr th {\n",
       "        vertical-align: top;\n",
       "    }\n",
       "\n",
       "    .dataframe thead th {\n",
       "        text-align: right;\n",
       "    }\n",
       "</style>\n",
       "<table border=\"1\" class=\"dataframe\">\n",
       "  <thead>\n",
       "    <tr style=\"text-align: right;\">\n",
       "      <th></th>\n",
       "      <th>data type</th>\n",
       "      <th>description</th>\n",
       "      <th>example</th>\n",
       "      <th>options</th>\n",
       "      <th>default</th>\n",
       "      <th>required</th>\n",
       "    </tr>\n",
       "    <tr>\n",
       "      <th>parameter name</th>\n",
       "      <th></th>\n",
       "      <th></th>\n",
       "      <th></th>\n",
       "      <th></th>\n",
       "      <th></th>\n",
       "      <th></th>\n",
       "    </tr>\n",
       "  </thead>\n",
       "  <tbody>\n",
       "    <tr>\n",
       "      <th>allele_id</th>\n",
       "      <td>string</td>\n",
       "      <td></td>\n",
       "      <td>705202</td>\n",
       "      <td></td>\n",
       "      <td></td>\n",
       "      <td>False</td>\n",
       "    </tr>\n",
       "    <tr>\n",
       "      <th>type</th>\n",
       "      <td>string</td>\n",
       "      <td></td>\n",
       "      <td>single nucleotide variant</td>\n",
       "      <td></td>\n",
       "      <td></td>\n",
       "      <td>False</td>\n",
       "    </tr>\n",
       "    <tr>\n",
       "      <th>name</th>\n",
       "      <td>string</td>\n",
       "      <td></td>\n",
       "      <td>NM_001772.4(CD33):c.131T&gt;C (p.Phe44Ser)</td>\n",
       "      <td></td>\n",
       "      <td></td>\n",
       "      <td>False</td>\n",
       "    </tr>\n",
       "    <tr>\n",
       "      <th>gene_id</th>\n",
       "      <td>string</td>\n",
       "      <td></td>\n",
       "      <td>945</td>\n",
       "      <td></td>\n",
       "      <td></td>\n",
       "      <td>False</td>\n",
       "    </tr>\n",
       "    <tr>\n",
       "      <th>gene_symbol</th>\n",
       "      <td>string</td>\n",
       "      <td></td>\n",
       "      <td>CD33</td>\n",
       "      <td></td>\n",
       "      <td></td>\n",
       "      <td>False</td>\n",
       "    </tr>\n",
       "    <tr>\n",
       "      <th>hgnc_id</th>\n",
       "      <td>string</td>\n",
       "      <td></td>\n",
       "      <td>HGNC:1659</td>\n",
       "      <td></td>\n",
       "      <td></td>\n",
       "      <td>False</td>\n",
       "    </tr>\n",
       "    <tr>\n",
       "      <th>clinical_significance</th>\n",
       "      <td>string</td>\n",
       "      <td></td>\n",
       "      <td>Benign</td>\n",
       "      <td></td>\n",
       "      <td></td>\n",
       "      <td>False</td>\n",
       "    </tr>\n",
       "    <tr>\n",
       "      <th>clin_sig_simple</th>\n",
       "      <td>string</td>\n",
       "      <td></td>\n",
       "      <td>0</td>\n",
       "      <td></td>\n",
       "      <td></td>\n",
       "      <td>False</td>\n",
       "    </tr>\n",
       "    <tr>\n",
       "      <th>last_evaluated</th>\n",
       "      <td>string</td>\n",
       "      <td></td>\n",
       "      <td>Jul 16, 2018</td>\n",
       "      <td></td>\n",
       "      <td></td>\n",
       "      <td>False</td>\n",
       "    </tr>\n",
       "    <tr>\n",
       "      <th>rs_db_snp</th>\n",
       "      <td>string</td>\n",
       "      <td></td>\n",
       "      <td>61736469</td>\n",
       "      <td></td>\n",
       "      <td></td>\n",
       "      <td>False</td>\n",
       "    </tr>\n",
       "    <tr>\n",
       "      <th>nsv_esv_db_var</th>\n",
       "      <td>string</td>\n",
       "      <td></td>\n",
       "      <td></td>\n",
       "      <td></td>\n",
       "      <td></td>\n",
       "      <td>False</td>\n",
       "    </tr>\n",
       "    <tr>\n",
       "      <th>rcvaccession</th>\n",
       "      <td>string</td>\n",
       "      <td></td>\n",
       "      <td>RCV000957991</td>\n",
       "      <td></td>\n",
       "      <td></td>\n",
       "      <td>False</td>\n",
       "    </tr>\n",
       "    <tr>\n",
       "      <th>origin</th>\n",
       "      <td>string</td>\n",
       "      <td></td>\n",
       "      <td>germline</td>\n",
       "      <td></td>\n",
       "      <td></td>\n",
       "      <td>False</td>\n",
       "    </tr>\n",
       "    <tr>\n",
       "      <th>origin_simple</th>\n",
       "      <td>string</td>\n",
       "      <td></td>\n",
       "      <td>germline</td>\n",
       "      <td></td>\n",
       "      <td></td>\n",
       "      <td>False</td>\n",
       "    </tr>\n",
       "    <tr>\n",
       "      <th>assembly</th>\n",
       "      <td>string</td>\n",
       "      <td></td>\n",
       "      <td>GRCh37</td>\n",
       "      <td></td>\n",
       "      <td></td>\n",
       "      <td>False</td>\n",
       "    </tr>\n",
       "    <tr>\n",
       "      <th>chromosome_accession</th>\n",
       "      <td>string</td>\n",
       "      <td></td>\n",
       "      <td>NC_000019.9</td>\n",
       "      <td></td>\n",
       "      <td></td>\n",
       "      <td>False</td>\n",
       "    </tr>\n",
       "    <tr>\n",
       "      <th>chromosome</th>\n",
       "      <td>string</td>\n",
       "      <td></td>\n",
       "      <td>19</td>\n",
       "      <td></td>\n",
       "      <td></td>\n",
       "      <td>False</td>\n",
       "    </tr>\n",
       "    <tr>\n",
       "      <th>start</th>\n",
       "      <td>string</td>\n",
       "      <td></td>\n",
       "      <td>51728567</td>\n",
       "      <td></td>\n",
       "      <td></td>\n",
       "      <td>False</td>\n",
       "    </tr>\n",
       "    <tr>\n",
       "      <th>stop</th>\n",
       "      <td>string</td>\n",
       "      <td></td>\n",
       "      <td>51728567</td>\n",
       "      <td></td>\n",
       "      <td></td>\n",
       "      <td>False</td>\n",
       "    </tr>\n",
       "    <tr>\n",
       "      <th>reference_allele</th>\n",
       "      <td>string</td>\n",
       "      <td></td>\n",
       "      <td>na</td>\n",
       "      <td></td>\n",
       "      <td></td>\n",
       "      <td>False</td>\n",
       "    </tr>\n",
       "    <tr>\n",
       "      <th>alternate_allele</th>\n",
       "      <td>string</td>\n",
       "      <td></td>\n",
       "      <td>na</td>\n",
       "      <td></td>\n",
       "      <td></td>\n",
       "      <td>False</td>\n",
       "    </tr>\n",
       "    <tr>\n",
       "      <th>cytogenetic</th>\n",
       "      <td>string</td>\n",
       "      <td></td>\n",
       "      <td>19q13.41</td>\n",
       "      <td></td>\n",
       "      <td></td>\n",
       "      <td>False</td>\n",
       "    </tr>\n",
       "    <tr>\n",
       "      <th>review_status</th>\n",
       "      <td>string</td>\n",
       "      <td></td>\n",
       "      <td>criteria provided, single submitter</td>\n",
       "      <td></td>\n",
       "      <td></td>\n",
       "      <td>False</td>\n",
       "    </tr>\n",
       "    <tr>\n",
       "      <th>number_submitters</th>\n",
       "      <td>string</td>\n",
       "      <td></td>\n",
       "      <td>1</td>\n",
       "      <td></td>\n",
       "      <td></td>\n",
       "      <td>False</td>\n",
       "    </tr>\n",
       "    <tr>\n",
       "      <th>guidelines</th>\n",
       "      <td>string</td>\n",
       "      <td></td>\n",
       "      <td></td>\n",
       "      <td></td>\n",
       "      <td></td>\n",
       "      <td>False</td>\n",
       "    </tr>\n",
       "    <tr>\n",
       "      <th>tested_in_gtr</th>\n",
       "      <td>string</td>\n",
       "      <td></td>\n",
       "      <td>N</td>\n",
       "      <td></td>\n",
       "      <td></td>\n",
       "      <td>False</td>\n",
       "    </tr>\n",
       "    <tr>\n",
       "      <th>submitter_categories</th>\n",
       "      <td>string</td>\n",
       "      <td></td>\n",
       "      <td>2</td>\n",
       "      <td></td>\n",
       "      <td></td>\n",
       "      <td>False</td>\n",
       "    </tr>\n",
       "    <tr>\n",
       "      <th>variation_id</th>\n",
       "      <td>string</td>\n",
       "      <td></td>\n",
       "      <td>777507</td>\n",
       "      <td></td>\n",
       "      <td></td>\n",
       "      <td>False</td>\n",
       "    </tr>\n",
       "    <tr>\n",
       "      <th>position_vcf</th>\n",
       "      <td>string</td>\n",
       "      <td></td>\n",
       "      <td>51728567</td>\n",
       "      <td></td>\n",
       "      <td></td>\n",
       "      <td>False</td>\n",
       "    </tr>\n",
       "    <tr>\n",
       "      <th>reference_allele_vcf</th>\n",
       "      <td>string</td>\n",
       "      <td></td>\n",
       "      <td>T</td>\n",
       "      <td></td>\n",
       "      <td></td>\n",
       "      <td>False</td>\n",
       "    </tr>\n",
       "    <tr>\n",
       "      <th>alternate_allele_vcf</th>\n",
       "      <td>string</td>\n",
       "      <td></td>\n",
       "      <td>C</td>\n",
       "      <td></td>\n",
       "      <td></td>\n",
       "      <td>False</td>\n",
       "    </tr>\n",
       "    <tr>\n",
       "      <th>page_size</th>\n",
       "      <td>integer</td>\n",
       "      <td>Results per page</td>\n",
       "      <td>1</td>\n",
       "      <td></td>\n",
       "      <td>10.0</td>\n",
       "      <td>False</td>\n",
       "    </tr>\n",
       "    <tr>\n",
       "      <th>page</th>\n",
       "      <td>integer</td>\n",
       "      <td>Page number (starting with 1)</td>\n",
       "      <td>1</td>\n",
       "      <td></td>\n",
       "      <td>1.0</td>\n",
       "      <td>False</td>\n",
       "    </tr>\n",
       "  </tbody>\n",
       "</table>\n",
       "</div>"
      ],
      "text/plain": [
       "                      data type                    description  \\\n",
       "parameter name                                                   \n",
       "allele_id                string                                  \n",
       "type                     string                                  \n",
       "name                     string                                  \n",
       "gene_id                  string                                  \n",
       "gene_symbol              string                                  \n",
       "hgnc_id                  string                                  \n",
       "clinical_significance    string                                  \n",
       "clin_sig_simple          string                                  \n",
       "last_evaluated           string                                  \n",
       "rs_db_snp                string                                  \n",
       "nsv_esv_db_var           string                                  \n",
       "rcvaccession             string                                  \n",
       "origin                   string                                  \n",
       "origin_simple            string                                  \n",
       "assembly                 string                                  \n",
       "chromosome_accession     string                                  \n",
       "chromosome               string                                  \n",
       "start                    string                                  \n",
       "stop                     string                                  \n",
       "reference_allele         string                                  \n",
       "alternate_allele         string                                  \n",
       "cytogenetic              string                                  \n",
       "review_status            string                                  \n",
       "number_submitters        string                                  \n",
       "guidelines               string                                  \n",
       "tested_in_gtr            string                                  \n",
       "submitter_categories     string                                  \n",
       "variation_id             string                                  \n",
       "position_vcf             string                                  \n",
       "reference_allele_vcf     string                                  \n",
       "alternate_allele_vcf     string                                  \n",
       "page_size               integer               Results per page   \n",
       "page                    integer  Page number (starting with 1)   \n",
       "\n",
       "                                                       example options  \\\n",
       "parameter name                                                           \n",
       "allele_id                                               705202           \n",
       "type                                 single nucleotide variant           \n",
       "name                   NM_001772.4(CD33):c.131T>C (p.Phe44Ser)           \n",
       "gene_id                                                    945           \n",
       "gene_symbol                                               CD33           \n",
       "hgnc_id                                              HGNC:1659           \n",
       "clinical_significance                                   Benign           \n",
       "clin_sig_simple                                              0           \n",
       "last_evaluated                                    Jul 16, 2018           \n",
       "rs_db_snp                                             61736469           \n",
       "nsv_esv_db_var                                                           \n",
       "rcvaccession                                      RCV000957991           \n",
       "origin                                                germline           \n",
       "origin_simple                                         germline           \n",
       "assembly                                                GRCh37           \n",
       "chromosome_accession                               NC_000019.9           \n",
       "chromosome                                                  19           \n",
       "start                                                 51728567           \n",
       "stop                                                  51728567           \n",
       "reference_allele                                            na           \n",
       "alternate_allele                                            na           \n",
       "cytogenetic                                           19q13.41           \n",
       "review_status              criteria provided, single submitter           \n",
       "number_submitters                                            1           \n",
       "guidelines                                                               \n",
       "tested_in_gtr                                                N           \n",
       "submitter_categories                                         2           \n",
       "variation_id                                            777507           \n",
       "position_vcf                                          51728567           \n",
       "reference_allele_vcf                                         T           \n",
       "alternate_allele_vcf                                         C           \n",
       "page_size                                                    1           \n",
       "page                                                         1           \n",
       "\n",
       "                      default  required  \n",
       "parameter name                           \n",
       "allele_id                         False  \n",
       "type                              False  \n",
       "name                              False  \n",
       "gene_id                           False  \n",
       "gene_symbol                       False  \n",
       "hgnc_id                           False  \n",
       "clinical_significance             False  \n",
       "clin_sig_simple                   False  \n",
       "last_evaluated                    False  \n",
       "rs_db_snp                         False  \n",
       "nsv_esv_db_var                    False  \n",
       "rcvaccession                      False  \n",
       "origin                            False  \n",
       "origin_simple                     False  \n",
       "assembly                          False  \n",
       "chromosome_accession              False  \n",
       "chromosome                        False  \n",
       "start                             False  \n",
       "stop                              False  \n",
       "reference_allele                  False  \n",
       "alternate_allele                  False  \n",
       "cytogenetic                       False  \n",
       "review_status                     False  \n",
       "number_submitters                 False  \n",
       "guidelines                        False  \n",
       "tested_in_gtr                     False  \n",
       "submitter_categories              False  \n",
       "variation_id                      False  \n",
       "position_vcf                      False  \n",
       "reference_allele_vcf              False  \n",
       "alternate_allele_vcf              False  \n",
       "page_size                10.0     False  \n",
       "page                      1.0     False  "
      ]
     },
     "metadata": {},
     "output_type": "display_data"
    },
    {
     "data": {
      "text/html": [
       "<b>Example URL:</b> <a href=\"http://0.0.0.0:5000/api/v1/clinvar?allele_id=705202&type=single+nucleotide+variant&name=NM_001772.4%28CD33%29%3Ac.131T%3EC+%28p.Phe44Ser%29&gene_id=945&gene_symbol=CD33&hgnc_id=HGNC%3A1659&clinical_significance=Benign&last_evaluated=Jul+16%2C+2018&rs_db_snp=61736469&rcvaccession=RCV000957991&origin=germline&origin_simple=germline&assembly=GRCh37&chromosome_accession=NC_000019.9&chromosome=19&start=51728567&stop=51728567&reference_allele=na&alternate_allele=na&cytogenetic=19q13.41&review_status=criteria+provided%2C+single+submitter&number_submitters=1&tested_in_gtr=N&submitter_categories=2&variation_id=777507&position_vcf=51728567&reference_allele_vcf=T&alternate_allele_vcf=C&page_size=1&page=1\">http://0.0.0.0:5000/api/v1/clinvar?allele_id=705202&type=single+nucleotide+variant&name=NM_001772.4%28CD33%29%3Ac.131T%3EC+%28p.Phe44Ser%29&gene_id=945&gene_symbol=CD33&hgnc_id=HGNC%3A1659&clinical_significance=Benign&last_evaluated=Jul+16%2C+2018&rs_db_snp=61736469&rcvaccession=RCV000957991&origin=germline&origin_simple=germline&assembly=GRCh37&chromosome_accession=NC_000019.9&chromosome=19&start=51728567&stop=51728567&reference_allele=na&alternate_allele=na&cytogenetic=19q13.41&review_status=criteria+provided%2C+single+submitter&number_submitters=1&tested_in_gtr=N&submitter_categories=2&variation_id=777507&position_vcf=51728567&reference_allele_vcf=T&alternate_allele_vcf=C&page_size=1&page=1</a>"
      ],
      "text/plain": [
       "<IPython.core.display.HTML object>"
      ]
     },
     "metadata": {},
     "output_type": "display_data"
    },
    {
     "data": {
      "text/html": [
       "<b style=\"color: rgb(98,98,98); text-decoration: underline;\">Example response:</b>"
      ],
      "text/plain": [
       "<IPython.core.display.HTML object>"
      ]
     },
     "metadata": {},
     "output_type": "display_data"
    },
    {
     "name": "stdout",
     "output_type": "stream",
     "text": [
      "{\u001b[38;5;124m'\u001b[39m\u001b[38;5;124mnumber_of_results\u001b[39m\u001b[38;5;124m'\u001b[39m: \u001b[38;5;241m1\u001b[39m,\n",
      " \u001b[38;5;124m'\u001b[39m\u001b[38;5;124mpage\u001b[39m\u001b[38;5;124m'\u001b[39m: \u001b[38;5;241m1\u001b[39m,\n",
      " \u001b[38;5;124m'\u001b[39m\u001b[38;5;124mpage_size\u001b[39m\u001b[38;5;124m'\u001b[39m: \u001b[38;5;241m1\u001b[39m,\n",
      " \u001b[38;5;124m'\u001b[39m\u001b[38;5;124mpages\u001b[39m\u001b[38;5;124m'\u001b[39m: \u001b[38;5;241m1\u001b[39m,\n",
      " \u001b[38;5;124m'\u001b[39m\u001b[38;5;124mresults\u001b[39m\u001b[38;5;124m'\u001b[39m: [{\u001b[38;5;124m'\u001b[39m\u001b[38;5;124mallele_id\u001b[39m\u001b[38;5;124m'\u001b[39m: \u001b[38;5;241m705202\u001b[39m,\n",
      "              \u001b[38;5;124m'\u001b[39m\u001b[38;5;124malternate_allele\u001b[39m\u001b[38;5;124m'\u001b[39m: \u001b[38;5;124m'\u001b[39m\u001b[38;5;124mna\u001b[39m\u001b[38;5;124m'\u001b[39m,\n",
      "              \u001b[38;5;124m'\u001b[39m\u001b[38;5;124malternate_allele_vcf\u001b[39m\u001b[38;5;124m'\u001b[39m: \u001b[38;5;124m'\u001b[39m\u001b[38;5;124mC\u001b[39m\u001b[38;5;124m'\u001b[39m,\n",
      "              \u001b[38;5;124m'\u001b[39m\u001b[38;5;124massembly\u001b[39m\u001b[38;5;124m'\u001b[39m: \u001b[38;5;124m'\u001b[39m\u001b[38;5;124mGRCh37\u001b[39m\u001b[38;5;124m'\u001b[39m,\n",
      "              \u001b[38;5;124m'\u001b[39m\u001b[38;5;124mchromosome\u001b[39m\u001b[38;5;124m'\u001b[39m: \u001b[38;5;124m'\u001b[39m\u001b[38;5;124m19\u001b[39m\u001b[38;5;124m'\u001b[39m,\n",
      "              \u001b[38;5;124m'\u001b[39m\u001b[38;5;124mchromosome_accession\u001b[39m\u001b[38;5;124m'\u001b[39m: \u001b[38;5;124m'\u001b[39m\u001b[38;5;124mNC_000019.9\u001b[39m\u001b[38;5;124m'\u001b[39m,\n",
      "              \u001b[38;5;124m'\u001b[39m\u001b[38;5;124mclin_sig_simple\u001b[39m\u001b[38;5;124m'\u001b[39m: \u001b[38;5;241m0\u001b[39m,\n",
      "              \u001b[38;5;124m'\u001b[39m\u001b[38;5;124mclinical_significance\u001b[39m\u001b[38;5;124m'\u001b[39m: \u001b[38;5;124m'\u001b[39m\u001b[38;5;124mBenign\u001b[39m\u001b[38;5;124m'\u001b[39m,\n",
      "              \u001b[38;5;124m'\u001b[39m\u001b[38;5;124mcytogenetic\u001b[39m\u001b[38;5;124m'\u001b[39m: \u001b[38;5;124m'\u001b[39m\u001b[38;5;124m19q13.41\u001b[39m\u001b[38;5;124m'\u001b[39m,\n",
      "              \u001b[38;5;124m'\u001b[39m\u001b[38;5;124mgene_id\u001b[39m\u001b[38;5;124m'\u001b[39m: \u001b[38;5;241m945\u001b[39m,\n",
      "              \u001b[38;5;124m'\u001b[39m\u001b[38;5;124mgene_symbol\u001b[39m\u001b[38;5;124m'\u001b[39m: \u001b[38;5;124m'\u001b[39m\u001b[38;5;124mCD33\u001b[39m\u001b[38;5;124m'\u001b[39m,\n",
      "              \u001b[38;5;124m'\u001b[39m\u001b[38;5;124mguidelines\u001b[39m\u001b[38;5;124m'\u001b[39m: \u001b[38;5;28;01mNone\u001b[39;00m,\n",
      "              \u001b[38;5;124m'\u001b[39m\u001b[38;5;124mhgnc_id\u001b[39m\u001b[38;5;124m'\u001b[39m: \u001b[38;5;124m'\u001b[39m\u001b[38;5;124mHGNC:1659\u001b[39m\u001b[38;5;124m'\u001b[39m,\n",
      "              \u001b[38;5;124m'\u001b[39m\u001b[38;5;124mid\u001b[39m\u001b[38;5;124m'\u001b[39m: \u001b[38;5;241m1132660\u001b[39m,\n",
      "              \u001b[38;5;124m'\u001b[39m\u001b[38;5;124mlast_evaluated\u001b[39m\u001b[38;5;124m'\u001b[39m: \u001b[38;5;124m'\u001b[39m\u001b[38;5;124mJul 16, 2018\u001b[39m\u001b[38;5;124m'\u001b[39m,\n",
      "              \u001b[38;5;124m'\u001b[39m\u001b[38;5;124mname\u001b[39m\u001b[38;5;124m'\u001b[39m: \u001b[38;5;124m'\u001b[39m\u001b[38;5;124mNM_001772.4(CD33):c.131T>C (p.Phe44Ser)\u001b[39m\u001b[38;5;124m'\u001b[39m,\n",
      "              \u001b[38;5;124m'\u001b[39m\u001b[38;5;124mnsv_esv_db_var\u001b[39m\u001b[38;5;124m'\u001b[39m: \u001b[38;5;28;01mNone\u001b[39;00m,\n",
      "              \u001b[38;5;124m'\u001b[39m\u001b[38;5;124mnumber_submitters\u001b[39m\u001b[38;5;124m'\u001b[39m: \u001b[38;5;241m1\u001b[39m,\n",
      "              \u001b[38;5;124m'\u001b[39m\u001b[38;5;124morigin\u001b[39m\u001b[38;5;124m'\u001b[39m: \u001b[38;5;124m'\u001b[39m\u001b[38;5;124mgermline\u001b[39m\u001b[38;5;124m'\u001b[39m,\n",
      "              \u001b[38;5;124m'\u001b[39m\u001b[38;5;124morigin_simple\u001b[39m\u001b[38;5;124m'\u001b[39m: \u001b[38;5;124m'\u001b[39m\u001b[38;5;124mgermline\u001b[39m\u001b[38;5;124m'\u001b[39m,\n",
      "              \u001b[38;5;124m'\u001b[39m\u001b[38;5;124motherIdentifiers\u001b[39m\u001b[38;5;124m'\u001b[39m: [],\n",
      "              \u001b[38;5;124m'\u001b[39m\u001b[38;5;124mphenotypeMedgens\u001b[39m\u001b[38;5;124m'\u001b[39m: [\u001b[38;5;124m'\u001b[39m\u001b[38;5;124mCN517202\u001b[39m\u001b[38;5;124m'\u001b[39m],\n",
      "              \u001b[38;5;124m'\u001b[39m\u001b[38;5;124mposition_vcf\u001b[39m\u001b[38;5;124m'\u001b[39m: \u001b[38;5;241m51728567\u001b[39m,\n",
      "              \u001b[38;5;124m'\u001b[39m\u001b[38;5;124mrcvaccession\u001b[39m\u001b[38;5;124m'\u001b[39m: \u001b[38;5;124m'\u001b[39m\u001b[38;5;124mRCV000957991\u001b[39m\u001b[38;5;124m'\u001b[39m,\n",
      "              \u001b[38;5;124m'\u001b[39m\u001b[38;5;124mreference_allele\u001b[39m\u001b[38;5;124m'\u001b[39m: \u001b[38;5;124m'\u001b[39m\u001b[38;5;124mna\u001b[39m\u001b[38;5;124m'\u001b[39m,\n",
      "              \u001b[38;5;124m'\u001b[39m\u001b[38;5;124mreference_allele_vcf\u001b[39m\u001b[38;5;124m'\u001b[39m: \u001b[38;5;124m'\u001b[39m\u001b[38;5;124mT\u001b[39m\u001b[38;5;124m'\u001b[39m,\n",
      "              \u001b[38;5;124m'\u001b[39m\u001b[38;5;124mreview_status\u001b[39m\u001b[38;5;124m'\u001b[39m: \u001b[38;5;124m'\u001b[39m\u001b[38;5;124mcriteria provided, single submitter\u001b[39m\u001b[38;5;124m'\u001b[39m,\n",
      "              \u001b[38;5;124m'\u001b[39m\u001b[38;5;124mrs_db_snp\u001b[39m\u001b[38;5;124m'\u001b[39m: \u001b[38;5;241m61736469\u001b[39m,\n",
      "              \u001b[38;5;124m'\u001b[39m\u001b[38;5;124mstart\u001b[39m\u001b[38;5;124m'\u001b[39m: \u001b[38;5;241m51728567\u001b[39m,\n",
      "              \u001b[38;5;124m'\u001b[39m\u001b[38;5;124mstop\u001b[39m\u001b[38;5;124m'\u001b[39m: \u001b[38;5;241m51728567\u001b[39m,\n",
      "              \u001b[38;5;124m'\u001b[39m\u001b[38;5;124msubmitter_categories\u001b[39m\u001b[38;5;124m'\u001b[39m: \u001b[38;5;241m2\u001b[39m,\n",
      "              \u001b[38;5;124m'\u001b[39m\u001b[38;5;124mtested_in_gtr\u001b[39m\u001b[38;5;124m'\u001b[39m: \u001b[38;5;124m'\u001b[39m\u001b[38;5;124mN\u001b[39m\u001b[38;5;124m'\u001b[39m,\n",
      "              \u001b[38;5;124m'\u001b[39m\u001b[38;5;124mtype\u001b[39m\u001b[38;5;124m'\u001b[39m: \u001b[38;5;124m'\u001b[39m\u001b[38;5;124msingle nucleotide variant\u001b[39m\u001b[38;5;124m'\u001b[39m,\n",
      "              \u001b[38;5;124m'\u001b[39m\u001b[38;5;124mvariation_id\u001b[39m\u001b[38;5;124m'\u001b[39m: \u001b[38;5;241m777507\u001b[39m}]}\n",
      "\n",
      "For further testing go to http://0.0.0.0:5000/ui/#/ClinVar/ebel.web.api.ebel.v1.clinvar.get_clinvar\n"
     ]
    },
    {
     "data": {
      "text/html": [
       "<h2>2. Search clinvar by e(BE:L) relation</h2>"
      ],
      "text/plain": [
       "<IPython.core.display.HTML object>"
      ]
     },
     "metadata": {},
     "output_type": "display_data"
    },
    {
     "data": {
      "text/html": [
       "<b style=\"color: rgb(98,98,98); text-decoration: underline;\">Description:</b> <p>Search clinvar by e(BE:L) relation</p>"
      ],
      "text/plain": [
       "<IPython.core.display.HTML object>"
      ]
     },
     "metadata": {},
     "output_type": "display_data"
    },
    {
     "data": {
      "text/html": [
       "<b>Tags:</b> ['ClinVar', 'e(BE:L)']"
      ],
      "text/plain": [
       "<IPython.core.display.HTML object>"
      ]
     },
     "metadata": {},
     "output_type": "display_data"
    },
    {
     "data": {
      "text/html": [
       "<b>Server path:</b> /api/v1/clinvar/ebel/relation"
      ],
      "text/plain": [
       "<IPython.core.display.HTML object>"
      ]
     },
     "metadata": {},
     "output_type": "display_data"
    },
    {
     "data": {
      "text/html": [
       "<div>\n",
       "<style scoped>\n",
       "    .dataframe tbody tr th:only-of-type {\n",
       "        vertical-align: middle;\n",
       "    }\n",
       "\n",
       "    .dataframe tbody tr th {\n",
       "        vertical-align: top;\n",
       "    }\n",
       "\n",
       "    .dataframe thead th {\n",
       "        text-align: right;\n",
       "    }\n",
       "</style>\n",
       "<table border=\"1\" class=\"dataframe\">\n",
       "  <thead>\n",
       "    <tr style=\"text-align: right;\">\n",
       "      <th></th>\n",
       "      <th>data type</th>\n",
       "      <th>description</th>\n",
       "      <th>example</th>\n",
       "      <th>options</th>\n",
       "      <th>default</th>\n",
       "      <th>required</th>\n",
       "    </tr>\n",
       "    <tr>\n",
       "      <th>parameter name</th>\n",
       "      <th></th>\n",
       "      <th></th>\n",
       "      <th></th>\n",
       "      <th></th>\n",
       "      <th></th>\n",
       "      <th></th>\n",
       "    </tr>\n",
       "  </thead>\n",
       "  <tbody>\n",
       "    <tr>\n",
       "      <th>namespace</th>\n",
       "      <td>string</td>\n",
       "      <td></td>\n",
       "      <td>HGNC</td>\n",
       "      <td></td>\n",
       "      <td></td>\n",
       "      <td>False</td>\n",
       "    </tr>\n",
       "    <tr>\n",
       "      <th>name</th>\n",
       "      <td>string</td>\n",
       "      <td>Gene symbol</td>\n",
       "      <td>PSEN1</td>\n",
       "      <td></td>\n",
       "      <td></td>\n",
       "      <td>False</td>\n",
       "    </tr>\n",
       "    <tr>\n",
       "      <th>phenotype</th>\n",
       "      <td>string</td>\n",
       "      <td></td>\n",
       "      <td>Alzheimer disease, type 3</td>\n",
       "      <td></td>\n",
       "      <td></td>\n",
       "      <td>False</td>\n",
       "    </tr>\n",
       "    <tr>\n",
       "      <th>clinical_significance</th>\n",
       "      <td>string</td>\n",
       "      <td></td>\n",
       "      <td>Pathogenic</td>\n",
       "      <td></td>\n",
       "      <td></td>\n",
       "      <td>False</td>\n",
       "    </tr>\n",
       "    <tr>\n",
       "      <th>relation_type</th>\n",
       "      <td>string</td>\n",
       "      <td></td>\n",
       "      <td>has_snp_clinvar</td>\n",
       "      <td>[has_downstream_snp_cv, has_mapped_snp_cv, has...</td>\n",
       "      <td></td>\n",
       "      <td>False</td>\n",
       "    </tr>\n",
       "    <tr>\n",
       "      <th>keyword</th>\n",
       "      <td>string</td>\n",
       "      <td></td>\n",
       "      <td>Alzheimer</td>\n",
       "      <td></td>\n",
       "      <td></td>\n",
       "      <td>False</td>\n",
       "    </tr>\n",
       "    <tr>\n",
       "      <th>rs_number</th>\n",
       "      <td>string</td>\n",
       "      <td></td>\n",
       "      <td>rs63750526</td>\n",
       "      <td></td>\n",
       "      <td></td>\n",
       "      <td>False</td>\n",
       "    </tr>\n",
       "    <tr>\n",
       "      <th>page_size</th>\n",
       "      <td>integer</td>\n",
       "      <td>Results per page</td>\n",
       "      <td>1</td>\n",
       "      <td></td>\n",
       "      <td>10.0</td>\n",
       "      <td>False</td>\n",
       "    </tr>\n",
       "    <tr>\n",
       "      <th>page</th>\n",
       "      <td>integer</td>\n",
       "      <td>Page number (starting with 1)</td>\n",
       "      <td>1</td>\n",
       "      <td></td>\n",
       "      <td>1.0</td>\n",
       "      <td>False</td>\n",
       "    </tr>\n",
       "  </tbody>\n",
       "</table>\n",
       "</div>"
      ],
      "text/plain": [
       "                      data type                    description  \\\n",
       "parameter name                                                   \n",
       "namespace                string                                  \n",
       "name                     string                    Gene symbol   \n",
       "phenotype                string                                  \n",
       "clinical_significance    string                                  \n",
       "relation_type            string                                  \n",
       "keyword                  string                                  \n",
       "rs_number                string                                  \n",
       "page_size               integer               Results per page   \n",
       "page                    integer  Page number (starting with 1)   \n",
       "\n",
       "                                         example  \\\n",
       "parameter name                                     \n",
       "namespace                                   HGNC   \n",
       "name                                       PSEN1   \n",
       "phenotype              Alzheimer disease, type 3   \n",
       "clinical_significance                 Pathogenic   \n",
       "relation_type                    has_snp_clinvar   \n",
       "keyword                                Alzheimer   \n",
       "rs_number                             rs63750526   \n",
       "page_size                                      1   \n",
       "page                                           1   \n",
       "\n",
       "                                                                 options  \\\n",
       "parameter name                                                             \n",
       "namespace                                                                  \n",
       "name                                                                       \n",
       "phenotype                                                                  \n",
       "clinical_significance                                                      \n",
       "relation_type          [has_downstream_snp_cv, has_mapped_snp_cv, has...   \n",
       "keyword                                                                    \n",
       "rs_number                                                                  \n",
       "page_size                                                                  \n",
       "page                                                                       \n",
       "\n",
       "                      default  required  \n",
       "parameter name                           \n",
       "namespace                         False  \n",
       "name                              False  \n",
       "phenotype                         False  \n",
       "clinical_significance             False  \n",
       "relation_type                     False  \n",
       "keyword                           False  \n",
       "rs_number                         False  \n",
       "page_size                10.0     False  \n",
       "page                      1.0     False  "
      ]
     },
     "metadata": {},
     "output_type": "display_data"
    },
    {
     "data": {
      "text/html": [
       "<b>Example URL:</b> <a href=\"http://0.0.0.0:5000/api/v1/clinvar/ebel/relation?namespace=HGNC&name=PSEN1&phenotype=Alzheimer+disease%2C+type+3&clinical_significance=Pathogenic&relation_type=has_snp_clinvar&keyword=Alzheimer&rs_number=rs63750526&page_size=1&page=1\">http://0.0.0.0:5000/api/v1/clinvar/ebel/relation?namespace=HGNC&name=PSEN1&phenotype=Alzheimer+disease%2C+type+3&clinical_significance=Pathogenic&relation_type=has_snp_clinvar&keyword=Alzheimer&rs_number=rs63750526&page_size=1&page=1</a>"
      ],
      "text/plain": [
       "<IPython.core.display.HTML object>"
      ]
     },
     "metadata": {},
     "output_type": "display_data"
    },
    {
     "data": {
      "text/html": [
       "<b style=\"color: rgb(98,98,98); text-decoration: underline;\">Example response:</b>"
      ],
      "text/plain": [
       "<IPython.core.display.HTML object>"
      ]
     },
     "metadata": {},
     "output_type": "display_data"
    },
    {
     "name": "stdout",
     "output_type": "stream",
     "text": [
      "{\u001b[38;5;124m'\u001b[39m\u001b[38;5;124mnumber_of_results\u001b[39m\u001b[38;5;124m'\u001b[39m: \u001b[38;5;241m3\u001b[39m,\n",
      " \u001b[38;5;124m'\u001b[39m\u001b[38;5;124mpage\u001b[39m\u001b[38;5;124m'\u001b[39m: \u001b[38;5;241m1\u001b[39m,\n",
      " \u001b[38;5;124m'\u001b[39m\u001b[38;5;124mpage_size\u001b[39m\u001b[38;5;124m'\u001b[39m: \u001b[38;5;241m1\u001b[39m,\n",
      " \u001b[38;5;124m'\u001b[39m\u001b[38;5;124mpages\u001b[39m\u001b[38;5;124m'\u001b[39m: \u001b[38;5;241m3\u001b[39m,\n",
      " \u001b[38;5;124m'\u001b[39m\u001b[38;5;124mresults\u001b[39m\u001b[38;5;124m'\u001b[39m: [{\u001b[38;5;124m'\u001b[39m\u001b[38;5;124mclinical_significance\u001b[39m\u001b[38;5;124m'\u001b[39m: \u001b[38;5;124m'\u001b[39m\u001b[38;5;124mPathogenic\u001b[39m\u001b[38;5;124m'\u001b[39m,\n",
      "              \u001b[38;5;124m'\u001b[39m\u001b[38;5;124mname\u001b[39m\u001b[38;5;124m'\u001b[39m: \u001b[38;5;124m'\u001b[39m\u001b[38;5;124mPSEN1\u001b[39m\u001b[38;5;124m'\u001b[39m,\n",
      "              \u001b[38;5;124m'\u001b[39m\u001b[38;5;124mnamespace\u001b[39m\u001b[38;5;124m'\u001b[39m: \u001b[38;5;124m'\u001b[39m\u001b[38;5;124mHGNC\u001b[39m\u001b[38;5;124m'\u001b[39m,\n",
      "              \u001b[38;5;124m'\u001b[39m\u001b[38;5;124mphenotype\u001b[39m\u001b[38;5;124m'\u001b[39m: \u001b[38;5;124m'\u001b[39m\u001b[38;5;124mAlzheimer disease, type 3\u001b[39m\u001b[38;5;124m'\u001b[39m,\n",
      "              \u001b[38;5;124m'\u001b[39m\u001b[38;5;124mrelation_type\u001b[39m\u001b[38;5;124m'\u001b[39m: \u001b[38;5;124m'\u001b[39m\u001b[38;5;124mhas_mapped_snp_cv\u001b[39m\u001b[38;5;124m'\u001b[39m,\n",
      "              \u001b[38;5;124m'\u001b[39m\u001b[38;5;124mrs_number\u001b[39m\u001b[38;5;124m'\u001b[39m: \u001b[38;5;124m'\u001b[39m\u001b[38;5;124mrs63750526\u001b[39m\u001b[38;5;124m'\u001b[39m}]}\n",
      "\n",
      "For further testing go to http://0.0.0.0:5000/ui/#/ClinVar/ebel.web.api.ebel.v1.clinvar.get_ebel_relation\n"
     ]
    },
    {
     "data": {
      "text/html": [
       "<h2>3. Search clinvar by medgen</h2>"
      ],
      "text/plain": [
       "<IPython.core.display.HTML object>"
      ]
     },
     "metadata": {},
     "output_type": "display_data"
    },
    {
     "data": {
      "text/html": [
       "<b style=\"color: rgb(98,98,98); text-decoration: underline;\">Description:</b> <p>Search clinvar by medgen</p>"
      ],
      "text/plain": [
       "<IPython.core.display.HTML object>"
      ]
     },
     "metadata": {},
     "output_type": "display_data"
    },
    {
     "data": {
      "text/html": [
       "<b>Tags:</b> ['ClinVar']"
      ],
      "text/plain": [
       "<IPython.core.display.HTML object>"
      ]
     },
     "metadata": {},
     "output_type": "display_data"
    },
    {
     "data": {
      "text/html": [
       "<b>Server path:</b> /api/v1/clinvar/phenotype/by_medgen"
      ],
      "text/plain": [
       "<IPython.core.display.HTML object>"
      ]
     },
     "metadata": {},
     "output_type": "display_data"
    },
    {
     "data": {
      "text/html": [
       "<div>\n",
       "<style scoped>\n",
       "    .dataframe tbody tr th:only-of-type {\n",
       "        vertical-align: middle;\n",
       "    }\n",
       "\n",
       "    .dataframe tbody tr th {\n",
       "        vertical-align: top;\n",
       "    }\n",
       "\n",
       "    .dataframe thead th {\n",
       "        text-align: right;\n",
       "    }\n",
       "</style>\n",
       "<table border=\"1\" class=\"dataframe\">\n",
       "  <thead>\n",
       "    <tr style=\"text-align: right;\">\n",
       "      <th></th>\n",
       "      <th>data type</th>\n",
       "      <th>description</th>\n",
       "      <th>example</th>\n",
       "      <th>options</th>\n",
       "      <th>default</th>\n",
       "      <th>required</th>\n",
       "    </tr>\n",
       "    <tr>\n",
       "      <th>parameter name</th>\n",
       "      <th></th>\n",
       "      <th></th>\n",
       "      <th></th>\n",
       "      <th></th>\n",
       "      <th></th>\n",
       "      <th></th>\n",
       "    </tr>\n",
       "  </thead>\n",
       "  <tbody>\n",
       "    <tr>\n",
       "      <th>identifier</th>\n",
       "      <td>string</td>\n",
       "      <td></td>\n",
       "      <td>C0002395</td>\n",
       "      <td></td>\n",
       "      <td></td>\n",
       "      <td>True</td>\n",
       "    </tr>\n",
       "    <tr>\n",
       "      <th>page_size</th>\n",
       "      <td>integer</td>\n",
       "      <td>Results per page</td>\n",
       "      <td>1</td>\n",
       "      <td></td>\n",
       "      <td>10.0</td>\n",
       "      <td>False</td>\n",
       "    </tr>\n",
       "    <tr>\n",
       "      <th>page</th>\n",
       "      <td>integer</td>\n",
       "      <td>Page number (starting with 1)</td>\n",
       "      <td>1</td>\n",
       "      <td></td>\n",
       "      <td>1.0</td>\n",
       "      <td>False</td>\n",
       "    </tr>\n",
       "  </tbody>\n",
       "</table>\n",
       "</div>"
      ],
      "text/plain": [
       "               data type                    description   example options  \\\n",
       "parameter name                                                              \n",
       "identifier        string                                 C0002395           \n",
       "page_size        integer               Results per page         1           \n",
       "page             integer  Page number (starting with 1)         1           \n",
       "\n",
       "               default  required  \n",
       "parameter name                    \n",
       "identifier                  True  \n",
       "page_size         10.0     False  \n",
       "page               1.0     False  "
      ]
     },
     "metadata": {},
     "output_type": "display_data"
    },
    {
     "data": {
      "text/html": [
       "<b>Example URL:</b> <a href=\"http://0.0.0.0:5000/api/v1/clinvar/phenotype/by_medgen?identifier=C0002395&page_size=1&page=1\">http://0.0.0.0:5000/api/v1/clinvar/phenotype/by_medgen?identifier=C0002395&page_size=1&page=1</a>"
      ],
      "text/plain": [
       "<IPython.core.display.HTML object>"
      ]
     },
     "metadata": {},
     "output_type": "display_data"
    },
    {
     "data": {
      "text/html": [
       "<b style=\"color: rgb(98,98,98); text-decoration: underline;\">Example response:</b>"
      ],
      "text/plain": [
       "<IPython.core.display.HTML object>"
      ]
     },
     "metadata": {},
     "output_type": "display_data"
    },
    {
     "name": "stdout",
     "output_type": "stream",
     "text": [
      "{\u001b[38;5;124m'\u001b[39m\u001b[38;5;124mnumber_of_results\u001b[39m\u001b[38;5;124m'\u001b[39m: \u001b[38;5;241m307\u001b[39m,\n",
      " \u001b[38;5;124m'\u001b[39m\u001b[38;5;124mpage\u001b[39m\u001b[38;5;124m'\u001b[39m: \u001b[38;5;241m1\u001b[39m,\n",
      " \u001b[38;5;124m'\u001b[39m\u001b[38;5;124mpage_size\u001b[39m\u001b[38;5;124m'\u001b[39m: \u001b[38;5;241m1\u001b[39m,\n",
      " \u001b[38;5;124m'\u001b[39m\u001b[38;5;124mpages\u001b[39m\u001b[38;5;124m'\u001b[39m: \u001b[38;5;241m307\u001b[39m,\n",
      " \u001b[38;5;124m'\u001b[39m\u001b[38;5;124mresults\u001b[39m\u001b[38;5;124m'\u001b[39m: [{\u001b[38;5;124m'\u001b[39m\u001b[38;5;124mallele_id\u001b[39m\u001b[38;5;124m'\u001b[39m: \u001b[38;5;241m15048\u001b[39m,\n",
      "              \u001b[38;5;124m'\u001b[39m\u001b[38;5;124massembly\u001b[39m\u001b[38;5;124m'\u001b[39m: \u001b[38;5;124m'\u001b[39m\u001b[38;5;124mGRCh37\u001b[39m\u001b[38;5;124m'\u001b[39m,\n",
      "              \u001b[38;5;124m'\u001b[39m\u001b[38;5;124mgene_symbol\u001b[39m\u001b[38;5;124m'\u001b[39m: \u001b[38;5;124m'\u001b[39m\u001b[38;5;124mHFE\u001b[39m\u001b[38;5;124m'\u001b[39m,\n",
      "              \u001b[38;5;124m'\u001b[39m\u001b[38;5;124mhgnc_id\u001b[39m\u001b[38;5;124m'\u001b[39m: \u001b[38;5;124m'\u001b[39m\u001b[38;5;124mHGNC:4886\u001b[39m\u001b[38;5;124m'\u001b[39m,\n",
      "              \u001b[38;5;124m'\u001b[39m\u001b[38;5;124mid\u001b[39m\u001b[38;5;124m'\u001b[39m: \u001b[38;5;241m13\u001b[39m,\n",
      "              \u001b[38;5;124m'\u001b[39m\u001b[38;5;124midentifier\u001b[39m\u001b[38;5;124m'\u001b[39m: \u001b[38;5;124m'\u001b[39m\u001b[38;5;124mC0002395\u001b[39m\u001b[38;5;124m'\u001b[39m,\n",
      "              \u001b[38;5;124m'\u001b[39m\u001b[38;5;124mrs_db_snp\u001b[39m\u001b[38;5;124m'\u001b[39m: \u001b[38;5;241m1800562\u001b[39m}]}\n",
      "\n",
      "For further testing go to http://0.0.0.0:5000/ui/#/ClinVar/ebel.web.api.ebel.v1.clinvar.get_by_medgen\n"
     ]
    },
    {
     "data": {
      "text/html": [
       "<h2>4. Search clinvar by other identifier</h2>"
      ],
      "text/plain": [
       "<IPython.core.display.HTML object>"
      ]
     },
     "metadata": {},
     "output_type": "display_data"
    },
    {
     "data": {
      "text/html": [
       "<b style=\"color: rgb(98,98,98); text-decoration: underline;\">Description:</b> <p>Search clinvar by other identifier</p>"
      ],
      "text/plain": [
       "<IPython.core.display.HTML object>"
      ]
     },
     "metadata": {},
     "output_type": "display_data"
    },
    {
     "data": {
      "text/html": [
       "<b>Tags:</b> ['ClinVar']"
      ],
      "text/plain": [
       "<IPython.core.display.HTML object>"
      ]
     },
     "metadata": {},
     "output_type": "display_data"
    },
    {
     "data": {
      "text/html": [
       "<b>Server path:</b> /api/v1/clinvar/phenotype/by_other_identifier"
      ],
      "text/plain": [
       "<IPython.core.display.HTML object>"
      ]
     },
     "metadata": {},
     "output_type": "display_data"
    },
    {
     "data": {
      "text/html": [
       "<div>\n",
       "<style scoped>\n",
       "    .dataframe tbody tr th:only-of-type {\n",
       "        vertical-align: middle;\n",
       "    }\n",
       "\n",
       "    .dataframe tbody tr th {\n",
       "        vertical-align: top;\n",
       "    }\n",
       "\n",
       "    .dataframe thead th {\n",
       "        text-align: right;\n",
       "    }\n",
       "</style>\n",
       "<table border=\"1\" class=\"dataframe\">\n",
       "  <thead>\n",
       "    <tr style=\"text-align: right;\">\n",
       "      <th></th>\n",
       "      <th>data type</th>\n",
       "      <th>description</th>\n",
       "      <th>example</th>\n",
       "      <th>options</th>\n",
       "      <th>default</th>\n",
       "      <th>required</th>\n",
       "    </tr>\n",
       "    <tr>\n",
       "      <th>parameter name</th>\n",
       "      <th></th>\n",
       "      <th></th>\n",
       "      <th></th>\n",
       "      <th></th>\n",
       "      <th></th>\n",
       "      <th></th>\n",
       "    </tr>\n",
       "  </thead>\n",
       "  <tbody>\n",
       "    <tr>\n",
       "      <th>db</th>\n",
       "      <td>string</td>\n",
       "      <td></td>\n",
       "      <td>OMIM</td>\n",
       "      <td></td>\n",
       "      <td></td>\n",
       "      <td>True</td>\n",
       "    </tr>\n",
       "    <tr>\n",
       "      <th>identifier</th>\n",
       "      <td>string</td>\n",
       "      <td></td>\n",
       "      <td>613653.%</td>\n",
       "      <td></td>\n",
       "      <td></td>\n",
       "      <td>True</td>\n",
       "    </tr>\n",
       "    <tr>\n",
       "      <th>page_size</th>\n",
       "      <td>integer</td>\n",
       "      <td>Results per page</td>\n",
       "      <td>1</td>\n",
       "      <td></td>\n",
       "      <td>10.0</td>\n",
       "      <td>False</td>\n",
       "    </tr>\n",
       "    <tr>\n",
       "      <th>page</th>\n",
       "      <td>integer</td>\n",
       "      <td>Page number (starting with 1)</td>\n",
       "      <td>1</td>\n",
       "      <td></td>\n",
       "      <td>1.0</td>\n",
       "      <td>False</td>\n",
       "    </tr>\n",
       "  </tbody>\n",
       "</table>\n",
       "</div>"
      ],
      "text/plain": [
       "               data type                    description   example options  \\\n",
       "parameter name                                                              \n",
       "db                string                                     OMIM           \n",
       "identifier        string                                 613653.%           \n",
       "page_size        integer               Results per page         1           \n",
       "page             integer  Page number (starting with 1)         1           \n",
       "\n",
       "               default  required  \n",
       "parameter name                    \n",
       "db                          True  \n",
       "identifier                  True  \n",
       "page_size         10.0     False  \n",
       "page               1.0     False  "
      ]
     },
     "metadata": {},
     "output_type": "display_data"
    },
    {
     "data": {
      "text/html": [
       "<b>Example URL:</b> <a href=\"http://0.0.0.0:5000/api/v1/clinvar/phenotype/by_other_identifier?db=OMIM&identifier=613653.%25&page_size=1&page=1\">http://0.0.0.0:5000/api/v1/clinvar/phenotype/by_other_identifier?db=OMIM&identifier=613653.%25&page_size=1&page=1</a>"
      ],
      "text/plain": [
       "<IPython.core.display.HTML object>"
      ]
     },
     "metadata": {},
     "output_type": "display_data"
    },
    {
     "data": {
      "text/html": [
       "<b style=\"color: rgb(98,98,98); text-decoration: underline;\">Example response:</b>"
      ],
      "text/plain": [
       "<IPython.core.display.HTML object>"
      ]
     },
     "metadata": {},
     "output_type": "display_data"
    },
    {
     "name": "stdout",
     "output_type": "stream",
     "text": [
      "{\u001b[38;5;124m'\u001b[39m\u001b[38;5;124mnumber_of_results\u001b[39m\u001b[38;5;124m'\u001b[39m: \u001b[38;5;241m12\u001b[39m,\n",
      " \u001b[38;5;124m'\u001b[39m\u001b[38;5;124mpage\u001b[39m\u001b[38;5;124m'\u001b[39m: \u001b[38;5;241m1\u001b[39m,\n",
      " \u001b[38;5;124m'\u001b[39m\u001b[38;5;124mpage_size\u001b[39m\u001b[38;5;124m'\u001b[39m: \u001b[38;5;241m1\u001b[39m,\n",
      " \u001b[38;5;124m'\u001b[39m\u001b[38;5;124mpages\u001b[39m\u001b[38;5;124m'\u001b[39m: \u001b[38;5;241m12\u001b[39m,\n",
      " \u001b[38;5;124m'\u001b[39m\u001b[38;5;124mresults\u001b[39m\u001b[38;5;124m'\u001b[39m: [{\u001b[38;5;124m'\u001b[39m\u001b[38;5;124mallele_id\u001b[39m\u001b[38;5;124m'\u001b[39m: \u001b[38;5;241m15041\u001b[39m,\n",
      "              \u001b[38;5;124m'\u001b[39m\u001b[38;5;124massembly\u001b[39m\u001b[38;5;124m'\u001b[39m: \u001b[38;5;124m'\u001b[39m\u001b[38;5;124mGRCh37\u001b[39m\u001b[38;5;124m'\u001b[39m,\n",
      "              \u001b[38;5;124m'\u001b[39m\u001b[38;5;124mdb\u001b[39m\u001b[38;5;124m'\u001b[39m: \u001b[38;5;124m'\u001b[39m\u001b[38;5;124mOMIM\u001b[39m\u001b[38;5;124m'\u001b[39m,\n",
      "              \u001b[38;5;124m'\u001b[39m\u001b[38;5;124mgene_symbol\u001b[39m\u001b[38;5;124m'\u001b[39m: \u001b[38;5;124m'\u001b[39m\u001b[38;5;124mAP5Z1\u001b[39m\u001b[38;5;124m'\u001b[39m,\n",
      "              \u001b[38;5;124m'\u001b[39m\u001b[38;5;124mhgnc_id\u001b[39m\u001b[38;5;124m'\u001b[39m: \u001b[38;5;124m'\u001b[39m\u001b[38;5;124mHGNC:22197\u001b[39m\u001b[38;5;124m'\u001b[39m,\n",
      "              \u001b[38;5;124m'\u001b[39m\u001b[38;5;124mid\u001b[39m\u001b[38;5;124m'\u001b[39m: \u001b[38;5;241m1\u001b[39m,\n",
      "              \u001b[38;5;124m'\u001b[39m\u001b[38;5;124midentifier\u001b[39m\u001b[38;5;124m'\u001b[39m: \u001b[38;5;124m'\u001b[39m\u001b[38;5;124m613653.0001\u001b[39m\u001b[38;5;124m'\u001b[39m,\n",
      "              \u001b[38;5;124m'\u001b[39m\u001b[38;5;124mrs_db_snp\u001b[39m\u001b[38;5;124m'\u001b[39m: \u001b[38;5;241m397704705\u001b[39m}]}\n",
      "\n",
      "For further testing go to http://0.0.0.0:5000/ui/#/ClinVar/ebel.web.api.ebel.v1.clinvar.get_by_other_identifier\n"
     ]
    },
    {
     "data": {
      "text/html": [
       "<h2>5. Search phenotypes starts with</h2>"
      ],
      "text/plain": [
       "<IPython.core.display.HTML object>"
      ]
     },
     "metadata": {},
     "output_type": "display_data"
    },
    {
     "data": {
      "text/html": [
       "<b style=\"color: rgb(98,98,98); text-decoration: underline;\">Description:</b> <p>Search phenotypes starts with</p>"
      ],
      "text/plain": [
       "<IPython.core.display.HTML object>"
      ]
     },
     "metadata": {},
     "output_type": "display_data"
    },
    {
     "data": {
      "text/html": [
       "<b>Tags:</b> ['ClinVar']"
      ],
      "text/plain": [
       "<IPython.core.display.HTML object>"
      ]
     },
     "metadata": {},
     "output_type": "display_data"
    },
    {
     "data": {
      "text/html": [
       "<b>Server path:</b> /api/v1/clinvar/phenotype/starts_with"
      ],
      "text/plain": [
       "<IPython.core.display.HTML object>"
      ]
     },
     "metadata": {},
     "output_type": "display_data"
    },
    {
     "data": {
      "text/html": [
       "<div>\n",
       "<style scoped>\n",
       "    .dataframe tbody tr th:only-of-type {\n",
       "        vertical-align: middle;\n",
       "    }\n",
       "\n",
       "    .dataframe tbody tr th {\n",
       "        vertical-align: top;\n",
       "    }\n",
       "\n",
       "    .dataframe thead th {\n",
       "        text-align: right;\n",
       "    }\n",
       "</style>\n",
       "<table border=\"1\" class=\"dataframe\">\n",
       "  <thead>\n",
       "    <tr style=\"text-align: right;\">\n",
       "      <th></th>\n",
       "      <th>data type</th>\n",
       "      <th>description</th>\n",
       "      <th>example</th>\n",
       "      <th>options</th>\n",
       "      <th>default</th>\n",
       "      <th>required</th>\n",
       "    </tr>\n",
       "    <tr>\n",
       "      <th>parameter name</th>\n",
       "      <th></th>\n",
       "      <th></th>\n",
       "      <th></th>\n",
       "      <th></th>\n",
       "      <th></th>\n",
       "      <th></th>\n",
       "    </tr>\n",
       "  </thead>\n",
       "  <tbody>\n",
       "    <tr>\n",
       "      <th>phenotype</th>\n",
       "      <td>string</td>\n",
       "      <td></td>\n",
       "      <td>alz</td>\n",
       "      <td></td>\n",
       "      <td></td>\n",
       "      <td>True</td>\n",
       "    </tr>\n",
       "    <tr>\n",
       "      <th>page_size</th>\n",
       "      <td>integer</td>\n",
       "      <td>Results per page</td>\n",
       "      <td>1</td>\n",
       "      <td></td>\n",
       "      <td>10.0</td>\n",
       "      <td>False</td>\n",
       "    </tr>\n",
       "    <tr>\n",
       "      <th>page</th>\n",
       "      <td>integer</td>\n",
       "      <td>Page number (starting with 1)</td>\n",
       "      <td>1</td>\n",
       "      <td></td>\n",
       "      <td>1.0</td>\n",
       "      <td>False</td>\n",
       "    </tr>\n",
       "  </tbody>\n",
       "</table>\n",
       "</div>"
      ],
      "text/plain": [
       "               data type                    description example options  \\\n",
       "parameter name                                                            \n",
       "phenotype         string                                    alz           \n",
       "page_size        integer               Results per page       1           \n",
       "page             integer  Page number (starting with 1)       1           \n",
       "\n",
       "               default  required  \n",
       "parameter name                    \n",
       "phenotype                   True  \n",
       "page_size         10.0     False  \n",
       "page               1.0     False  "
      ]
     },
     "metadata": {},
     "output_type": "display_data"
    },
    {
     "data": {
      "text/html": [
       "<b>Example URL:</b> <a href=\"http://0.0.0.0:5000/api/v1/clinvar/phenotype/starts_with?phenotype=alz&page_size=1&page=1\">http://0.0.0.0:5000/api/v1/clinvar/phenotype/starts_with?phenotype=alz&page_size=1&page=1</a>"
      ],
      "text/plain": [
       "<IPython.core.display.HTML object>"
      ]
     },
     "metadata": {},
     "output_type": "display_data"
    },
    {
     "data": {
      "text/html": [
       "<b style=\"color: rgb(98,98,98); text-decoration: underline;\">Example response:</b>"
      ],
      "text/plain": [
       "<IPython.core.display.HTML object>"
      ]
     },
     "metadata": {},
     "output_type": "display_data"
    },
    {
     "name": "stdout",
     "output_type": "stream",
     "text": [
      "{\u001b[38;5;124m'\u001b[39m\u001b[38;5;124mnumber_of_results\u001b[39m\u001b[38;5;124m'\u001b[39m: \u001b[38;5;241m19\u001b[39m,\n",
      " \u001b[38;5;124m'\u001b[39m\u001b[38;5;124mpage\u001b[39m\u001b[38;5;124m'\u001b[39m: \u001b[38;5;241m1\u001b[39m,\n",
      " \u001b[38;5;124m'\u001b[39m\u001b[38;5;124mpage_size\u001b[39m\u001b[38;5;124m'\u001b[39m: \u001b[38;5;241m1\u001b[39m,\n",
      " \u001b[38;5;124m'\u001b[39m\u001b[38;5;124mpages\u001b[39m\u001b[38;5;124m'\u001b[39m: \u001b[38;5;241m19\u001b[39m,\n",
      " \u001b[38;5;124m'\u001b[39m\u001b[38;5;124mresults\u001b[39m\u001b[38;5;124m'\u001b[39m: {\u001b[38;5;124m'\u001b[39m\u001b[38;5;124mALZAHRANI-KUWAHARA SYNDROME\u001b[39m\u001b[38;5;124m'\u001b[39m: \u001b[38;5;241m12706\u001b[39m}}\n",
      "\n",
      "For further testing go to http://0.0.0.0:5000/ui/#/ClinVar/ebel.web.api.ebel.v1.clinvar.get_phenotype_starts_with\n"
     ]
    },
    {
     "data": {
      "text/html": [
       "<h2>6. Get ClinVar</h2>"
      ],
      "text/plain": [
       "<IPython.core.display.HTML object>"
      ]
     },
     "metadata": {},
     "output_type": "display_data"
    },
    {
     "data": {
      "text/html": [
       "<b style=\"color: rgb(98,98,98); text-decoration: underline;\">Description:</b> <p>Get ClinVar</p>"
      ],
      "text/plain": [
       "<IPython.core.display.HTML object>"
      ]
     },
     "metadata": {},
     "output_type": "display_data"
    },
    {
     "data": {
      "text/html": [
       "<b>Tags:</b> ['ClinVar']"
      ],
      "text/plain": [
       "<IPython.core.display.HTML object>"
      ]
     },
     "metadata": {},
     "output_type": "display_data"
    },
    {
     "data": {
      "text/html": [
       "<b>Server path:</b> /api/v1/clinvar/simple"
      ],
      "text/plain": [
       "<IPython.core.display.HTML object>"
      ]
     },
     "metadata": {},
     "output_type": "display_data"
    },
    {
     "data": {
      "text/html": [
       "<div>\n",
       "<style scoped>\n",
       "    .dataframe tbody tr th:only-of-type {\n",
       "        vertical-align: middle;\n",
       "    }\n",
       "\n",
       "    .dataframe tbody tr th {\n",
       "        vertical-align: top;\n",
       "    }\n",
       "\n",
       "    .dataframe thead th {\n",
       "        text-align: right;\n",
       "    }\n",
       "</style>\n",
       "<table border=\"1\" class=\"dataframe\">\n",
       "  <thead>\n",
       "    <tr style=\"text-align: right;\">\n",
       "      <th></th>\n",
       "      <th>data type</th>\n",
       "      <th>description</th>\n",
       "      <th>example</th>\n",
       "      <th>options</th>\n",
       "      <th>default</th>\n",
       "      <th>required</th>\n",
       "    </tr>\n",
       "    <tr>\n",
       "      <th>parameter name</th>\n",
       "      <th></th>\n",
       "      <th></th>\n",
       "      <th></th>\n",
       "      <th></th>\n",
       "      <th></th>\n",
       "      <th></th>\n",
       "    </tr>\n",
       "  </thead>\n",
       "  <tbody>\n",
       "    <tr>\n",
       "      <th>phenotype</th>\n",
       "      <td>string</td>\n",
       "      <td></td>\n",
       "      <td>Alzheimer disease 2</td>\n",
       "      <td></td>\n",
       "      <td></td>\n",
       "      <td>False</td>\n",
       "    </tr>\n",
       "    <tr>\n",
       "      <th>gene_id</th>\n",
       "      <td>integer</td>\n",
       "      <td></td>\n",
       "      <td></td>\n",
       "      <td></td>\n",
       "      <td></td>\n",
       "      <td>False</td>\n",
       "    </tr>\n",
       "    <tr>\n",
       "      <th>gene_symbol</th>\n",
       "      <td>string</td>\n",
       "      <td></td>\n",
       "      <td></td>\n",
       "      <td></td>\n",
       "      <td></td>\n",
       "      <td>False</td>\n",
       "    </tr>\n",
       "    <tr>\n",
       "      <th>hgnc_id</th>\n",
       "      <td>string</td>\n",
       "      <td></td>\n",
       "      <td></td>\n",
       "      <td></td>\n",
       "      <td></td>\n",
       "      <td>False</td>\n",
       "    </tr>\n",
       "    <tr>\n",
       "      <th>allele_id</th>\n",
       "      <td>integer</td>\n",
       "      <td></td>\n",
       "      <td></td>\n",
       "      <td></td>\n",
       "      <td></td>\n",
       "      <td>False</td>\n",
       "    </tr>\n",
       "    <tr>\n",
       "      <th>assembly</th>\n",
       "      <td>string</td>\n",
       "      <td></td>\n",
       "      <td>GRCh38</td>\n",
       "      <td></td>\n",
       "      <td></td>\n",
       "      <td>False</td>\n",
       "    </tr>\n",
       "    <tr>\n",
       "      <th>rs_db_snp</th>\n",
       "      <td>string</td>\n",
       "      <td></td>\n",
       "      <td></td>\n",
       "      <td></td>\n",
       "      <td></td>\n",
       "      <td>False</td>\n",
       "    </tr>\n",
       "    <tr>\n",
       "      <th>page_size</th>\n",
       "      <td>integer</td>\n",
       "      <td>Results per page</td>\n",
       "      <td>1</td>\n",
       "      <td></td>\n",
       "      <td>10.0</td>\n",
       "      <td>False</td>\n",
       "    </tr>\n",
       "    <tr>\n",
       "      <th>page</th>\n",
       "      <td>integer</td>\n",
       "      <td>Page number (starting with 1)</td>\n",
       "      <td>1</td>\n",
       "      <td></td>\n",
       "      <td>1.0</td>\n",
       "      <td>False</td>\n",
       "    </tr>\n",
       "  </tbody>\n",
       "</table>\n",
       "</div>"
      ],
      "text/plain": [
       "               data type                    description              example  \\\n",
       "parameter name                                                                 \n",
       "phenotype         string                                 Alzheimer disease 2   \n",
       "gene_id          integer                                                       \n",
       "gene_symbol       string                                                       \n",
       "hgnc_id           string                                                       \n",
       "allele_id        integer                                                       \n",
       "assembly          string                                              GRCh38   \n",
       "rs_db_snp         string                                                       \n",
       "page_size        integer               Results per page                    1   \n",
       "page             integer  Page number (starting with 1)                    1   \n",
       "\n",
       "               options default  required  \n",
       "parameter name                            \n",
       "phenotype                          False  \n",
       "gene_id                            False  \n",
       "gene_symbol                        False  \n",
       "hgnc_id                            False  \n",
       "allele_id                          False  \n",
       "assembly                           False  \n",
       "rs_db_snp                          False  \n",
       "page_size                 10.0     False  \n",
       "page                       1.0     False  "
      ]
     },
     "metadata": {},
     "output_type": "display_data"
    },
    {
     "data": {
      "text/html": [
       "<b>Example URL:</b> <a href=\"http://0.0.0.0:5000/api/v1/clinvar/simple?phenotype=Alzheimer+disease+2&assembly=GRCh38&page_size=1&page=1\">http://0.0.0.0:5000/api/v1/clinvar/simple?phenotype=Alzheimer+disease+2&assembly=GRCh38&page_size=1&page=1</a>"
      ],
      "text/plain": [
       "<IPython.core.display.HTML object>"
      ]
     },
     "metadata": {},
     "output_type": "display_data"
    },
    {
     "data": {
      "text/html": [
       "<b style=\"color: rgb(98,98,98); text-decoration: underline;\">Example response:</b>"
      ],
      "text/plain": [
       "<IPython.core.display.HTML object>"
      ]
     },
     "metadata": {},
     "output_type": "display_data"
    },
    {
     "name": "stdout",
     "output_type": "stream",
     "text": [
      "{\u001b[38;5;124m'\u001b[39m\u001b[38;5;124mnumber_of_results\u001b[39m\u001b[38;5;124m'\u001b[39m: \u001b[38;5;241m153\u001b[39m,\n",
      " \u001b[38;5;124m'\u001b[39m\u001b[38;5;124mpage\u001b[39m\u001b[38;5;124m'\u001b[39m: \u001b[38;5;241m1\u001b[39m,\n",
      " \u001b[38;5;124m'\u001b[39m\u001b[38;5;124mpage_size\u001b[39m\u001b[38;5;124m'\u001b[39m: \u001b[38;5;241m1\u001b[39m,\n",
      " \u001b[38;5;124m'\u001b[39m\u001b[38;5;124mpages\u001b[39m\u001b[38;5;124m'\u001b[39m: \u001b[38;5;241m153\u001b[39m,\n",
      " \u001b[38;5;124m'\u001b[39m\u001b[38;5;124mresults\u001b[39m\u001b[38;5;124m'\u001b[39m: [{\u001b[38;5;124m'\u001b[39m\u001b[38;5;124mallele_id\u001b[39m\u001b[38;5;124m'\u001b[39m: \u001b[38;5;241m15048\u001b[39m,\n",
      "              \u001b[38;5;124m'\u001b[39m\u001b[38;5;124massembly\u001b[39m\u001b[38;5;124m'\u001b[39m: \u001b[38;5;124m'\u001b[39m\u001b[38;5;124mGRCh38\u001b[39m\u001b[38;5;124m'\u001b[39m,\n",
      "              \u001b[38;5;124m'\u001b[39m\u001b[38;5;124mgene_symbol\u001b[39m\u001b[38;5;124m'\u001b[39m: \u001b[38;5;124m'\u001b[39m\u001b[38;5;124mHFE\u001b[39m\u001b[38;5;124m'\u001b[39m,\n",
      "              \u001b[38;5;124m'\u001b[39m\u001b[38;5;124mhgnc_id\u001b[39m\u001b[38;5;124m'\u001b[39m: \u001b[38;5;124m'\u001b[39m\u001b[38;5;124mHGNC:4886\u001b[39m\u001b[38;5;124m'\u001b[39m,\n",
      "              \u001b[38;5;124m'\u001b[39m\u001b[38;5;124mid\u001b[39m\u001b[38;5;124m'\u001b[39m: \u001b[38;5;241m14\u001b[39m,\n",
      "              \u001b[38;5;124m'\u001b[39m\u001b[38;5;124mrs_db_snp\u001b[39m\u001b[38;5;124m'\u001b[39m: \u001b[38;5;241m1800562\u001b[39m}]}\n",
      "\n",
      "For further testing go to http://0.0.0.0:5000/ui/#/ClinVar/ebel.web.api.ebel.v1.clinvar.get_clinvar_simple\n"
     ]
    }
   ],
   "source": [
    "import api_doc\n",
    "api_doc.get_api_methods_by_tag('ClinVar')"
   ]
  }
 ],
 "metadata": {
  "kernelspec": {
   "display_name": "Python 3 (ipykernel)",
   "language": "python",
   "name": "python3"
  },
  "language_info": {
   "codemirror_mode": {
    "name": "ipython",
    "version": 3
   },
   "file_extension": ".py",
   "mimetype": "text/x-python",
   "name": "python",
   "nbconvert_exporter": "python",
   "pygments_lexer": "ipython3",
   "version": "3.8.10"
  },
  "toc": {
   "base_numbering": 1,
   "nav_menu": {},
   "number_sections": true,
   "sideBar": true,
   "skip_h1_title": true,
   "title_cell": "Table of Contents",
   "title_sidebar": "Contents",
   "toc_cell": false,
   "toc_position": {},
   "toc_section_display": true,
   "toc_window_display": false
  }
 },
 "nbformat": 4,
 "nbformat_minor": 5
}
