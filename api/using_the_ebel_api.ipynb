{
 "cells": [
  {
   "cell_type": "markdown",
   "id": "1bad08a4",
   "metadata": {
    "pycharm": {
     "name": "#%% md\n"
    }
   },
   "source": [
    "# Using the e(BE:L) API\n",
    "\n",
    "Before working with the API on ***local machine*** make sure the [OrientDB server](http://127.0.0.1:2480) and the [e(BE:L) API server](http://127.0.0.1:5000/ui/) are running."
   ]
  },
  {
   "cell_type": "code",
   "execution_count": 175,
   "id": "234173bf",
   "metadata": {
    "pycharm": {
     "name": "#%%\n"
    }
   },
   "outputs": [],
   "source": [
    "import requests\n",
    "import json\n",
    "import urllib\n",
    "import pandas as pd\n",
    "from collections import namedtuple\n",
    "%matplotlib inline"
   ]
  },
  {
   "cell_type": "code",
   "execution_count": 209,
   "id": "8183b69e",
   "metadata": {
    "pycharm": {
     "name": "#%%\n"
    }
   },
   "outputs": [],
   "source": [
    "server = \"http://127.0.0.1:5000\"\n",
    "api_version = \"/api/v1/\"\n",
    "basic_url = server + api_version"
   ]
  },
  {
   "cell_type": "code",
   "execution_count": 3,
   "id": "ad6498be",
   "metadata": {
    "pycharm": {
     "name": "#%%\n"
    }
   },
   "outputs": [],
   "source": [
    "class ApiResult:\n",
    "    def __init__(self, results, number_of_results, page, pages, page_size):\n",
    "        self.results = results\n",
    "        self.number_of_results = number_of_results\n",
    "        self.page = page\n",
    "        self.pages = pages\n",
    "        self.page_size = page_size\n",
    "        \n",
    "    def print_page_info(self):\n",
    "        infos = [\n",
    "            f\"number_of_results: {self.number_of_results}\",\n",
    "            f\"page: {self.page}\",\n",
    "            f\"pages: {self.pages}\",\n",
    "            f\"page_size: {self.page_size}\",\n",
    "        ]\n",
    "        print('\\n'.join(infos))\n",
    "    \n",
    "    def as_df(self):\n",
    "        return pd.DataFrame(self.results)"
   ]
  },
  {
   "cell_type": "code",
   "execution_count": 4,
   "id": "ec46d6b5",
   "metadata": {
    "pycharm": {
     "name": "#%%\n"
    }
   },
   "outputs": [],
   "source": [
    "def get_api_result(method, **params) -> ApiResult:\n",
    "    response = requests.get(f\"{basic_url}/{method}\", params=params)\n",
    "    if response.status_code == 200:\n",
    "        return ApiResult(**response.json())\n",
    "    else:\n",
    "        print(response.status_code)"
   ]
  },
  {
   "cell_type": "code",
   "execution_count": 5,
   "id": "ad76b63e",
   "metadata": {
    "pycharm": {
     "name": "#%%\n"
    }
   },
   "outputs": [],
   "source": [
    "swagger = requests.get(\"http://127.0.0.1:5000/openapi.json\").json()['paths']\n",
    "\n",
    "def get_enums(method, param):\n",
    "    m = f'/api/v1/bel/{method}'\n",
    "    data = swagger[m]['get']['parameters']\n",
    "    # print(data)\n",
    "    return [x['schema']['enum'] for x in data if x['name']==param][0]\n",
    "\n",
    "def get_params(method):\n",
    "    data = swagger[f'/api/v1/bel/{method}']['get']['parameters']\n",
    "    print(data)\n",
    "    df = pd.DataFrame(data).set_index('name').fillna(\"\")\n",
    "    df['dtype'] = [d.get('type') for d in df.schema]\n",
    "    df['example'] = [d.get('example') for d in df.schema]\n",
    "    df['options'] = [d.get('enum', '') for d in df.schema]\n",
    "    df['required'] = [bool(x) for x in df.required]\n",
    "    df.drop(columns=['in', 'schema'], inplace=True)\n",
    "    return df"
   ]
  },
  {
   "cell_type": "code",
   "execution_count": 210,
   "id": "546b9c56",
   "metadata": {
    "pycharm": {
     "name": "#%%\n"
    }
   },
   "outputs": [],
   "source": [
    "def get_doc_for_api_method(method_path: str):\n",
    "    \"\"\"Gets documentation form API for specific path\"\"\"\n",
    "    json_data = requests.get(server + \"/openapi.json\").json()\n",
    "    print(api_version + method_path)\n",
    "    description = json_data['paths'][api_version + method_path]['get']['description']\n",
    "    print(\"Description\\n\",\"=\"*10+\"\\n\",description)\n",
    "    data = json_data['paths'][api_version + method_path]['get']['parameters']\n",
    "    pd_df_data = []\n",
    "    cols=['parameter name', 'data type', 'description', 'example']\n",
    "    for x in data:\n",
    "        param_props = (x['name'], \n",
    "                       x['schema']['type'], \n",
    "                       x.get('description'), x['schema'].get('example'))\n",
    "        pd_df_data.append(param_props)\n",
    "    return pd.DataFrame(pd_df_data, columns=cols).set_index('parameter name')"
   ]
  },
  {
   "cell_type": "markdown",
   "id": "05fd0535",
   "metadata": {
    "pycharm": {
     "name": "#%% md\n"
    }
   },
   "source": [
    "## BEL"
   ]
  },
  {
   "cell_type": "markdown",
   "id": "9c14a92b",
   "metadata": {
    "pycharm": {
     "name": "#%% md\n"
    }
   },
   "source": [
    "### Documents"
   ]
  },
  {
   "cell_type": "code",
   "execution_count": 6,
   "id": "080366f0",
   "metadata": {
    "pycharm": {
     "name": "#%%\n"
    }
   },
   "outputs": [
    {
     "name": "stdout",
     "output_type": "stream",
     "text": [
      "number_of_results: 1\n",
      "page: 1\n",
      "pages: 1\n",
      "page_size: 1\n"
     ]
    },
    {
     "data": {
      "text/html": [
       "<div>\n",
       "<style scoped>\n",
       "    .dataframe tbody tr th:only-of-type {\n",
       "        vertical-align: middle;\n",
       "    }\n",
       "\n",
       "    .dataframe tbody tr th {\n",
       "        vertical-align: top;\n",
       "    }\n",
       "\n",
       "    .dataframe thead th {\n",
       "        text-align: right;\n",
       "    }\n",
       "</style>\n",
       "<table border=\"1\" class=\"dataframe\">\n",
       "  <thead>\n",
       "    <tr style=\"text-align: right;\">\n",
       "      <th></th>\n",
       "      <th>authors</th>\n",
       "      <th>contact_info</th>\n",
       "      <th>copyright</th>\n",
       "      <th>description</th>\n",
       "      <th>file_last_modified</th>\n",
       "      <th>file_name</th>\n",
       "      <th>git_hexsha</th>\n",
       "      <th>git_origin_url</th>\n",
       "      <th>git_repo_path</th>\n",
       "      <th>keywords</th>\n",
       "      <th>rid</th>\n",
       "      <th>uploaded</th>\n",
       "      <th>version</th>\n",
       "    </tr>\n",
       "  </thead>\n",
       "  <tbody>\n",
       "    <tr>\n",
       "      <th>0</th>\n",
       "      <td>[Bruce Schultz]</td>\n",
       "      <td>bruce.schultz@scai.fraunhofer.de</td>\n",
       "      <td>Copyright © 2019 Fraunhofer Institute SCAI, Al...</td>\n",
       "      <td>This knowledge assembly is for the Phago project.</td>\n",
       "      <td>1.593120e+09</td>\n",
       "      <td>Phago_BS.bel</td>\n",
       "      <td>c39f40cc651f4e51e2643594fa98d32168dd024b</td>\n",
       "      <td>gitlab.scai.fraunhofer.de/christian.ebeling/ph...</td>\n",
       "      <td>bel/Phago_BS.bel.json</td>\n",
       "      <td>[phago]</td>\n",
       "      <td>#58:0</td>\n",
       "      <td>2021-09-23 00:01:27</td>\n",
       "      <td>2.4.4</td>\n",
       "    </tr>\n",
       "  </tbody>\n",
       "</table>\n",
       "</div>"
      ],
      "text/plain": [
       "           authors                      contact_info  \\\n",
       "0  [Bruce Schultz]  bruce.schultz@scai.fraunhofer.de   \n",
       "\n",
       "                                           copyright  \\\n",
       "0  Copyright © 2019 Fraunhofer Institute SCAI, Al...   \n",
       "\n",
       "                                         description  file_last_modified  \\\n",
       "0  This knowledge assembly is for the Phago project.        1.593120e+09   \n",
       "\n",
       "      file_name                                git_hexsha  \\\n",
       "0  Phago_BS.bel  c39f40cc651f4e51e2643594fa98d32168dd024b   \n",
       "\n",
       "                                      git_origin_url          git_repo_path  \\\n",
       "0  gitlab.scai.fraunhofer.de/christian.ebeling/ph...  bel/Phago_BS.bel.json   \n",
       "\n",
       "  keywords    rid             uploaded version  \n",
       "0  [phago]  #58:0  2021-09-23 00:01:27   2.4.4  "
      ]
     },
     "execution_count": 6,
     "metadata": {},
     "output_type": "execute_result"
    }
   ],
   "source": [
    "r = get_api_result('bel/documents')\n",
    "r.print_page_info()\n",
    "df = r.as_df()\n",
    "document_rid = df.rid[0]\n",
    "df"
   ]
  },
  {
   "cell_type": "markdown",
   "id": "9f928748",
   "metadata": {
    "pycharm": {
     "name": "#%% md\n"
    }
   },
   "source": [
    "### Get subject, relation, object identifiers"
   ]
  },
  {
   "cell_type": "code",
   "execution_count": 7,
   "id": "256a815d",
   "metadata": {
    "pycharm": {
     "name": "#%%\n"
    }
   },
   "outputs": [
    {
     "name": "stdout",
     "output_type": "stream",
     "text": [
      "number_of_results: 5981\n",
      "page: 1\n",
      "pages: 599\n",
      "page_size: 10\n"
     ]
    },
    {
     "data": {
      "text/html": [
       "<div>\n",
       "<style scoped>\n",
       "    .dataframe tbody tr th:only-of-type {\n",
       "        vertical-align: middle;\n",
       "    }\n",
       "\n",
       "    .dataframe tbody tr th {\n",
       "        vertical-align: top;\n",
       "    }\n",
       "\n",
       "    .dataframe thead th {\n",
       "        text-align: right;\n",
       "    }\n",
       "</style>\n",
       "<table border=\"1\" class=\"dataframe\">\n",
       "  <thead>\n",
       "    <tr style=\"text-align: right;\">\n",
       "      <th></th>\n",
       "      <th>document_rid</th>\n",
       "      <th>object_rid</th>\n",
       "      <th>relation_rid</th>\n",
       "      <th>subject_rid</th>\n",
       "    </tr>\n",
       "  </thead>\n",
       "  <tbody>\n",
       "    <tr>\n",
       "      <th>0</th>\n",
       "      <td>[#58:0]</td>\n",
       "      <td>#186:0</td>\n",
       "      <td>#554:0</td>\n",
       "      <td>#74:0</td>\n",
       "    </tr>\n",
       "    <tr>\n",
       "      <th>1</th>\n",
       "      <td>[#58:0]</td>\n",
       "      <td>#191:1</td>\n",
       "      <td>#554:1</td>\n",
       "      <td>#96:0</td>\n",
       "    </tr>\n",
       "    <tr>\n",
       "      <th>2</th>\n",
       "      <td>[#58:0]</td>\n",
       "      <td>#187:3</td>\n",
       "      <td>#554:2</td>\n",
       "      <td>#195:0</td>\n",
       "    </tr>\n",
       "    <tr>\n",
       "      <th>3</th>\n",
       "      <td>[#58:0]</td>\n",
       "      <td>#237:0</td>\n",
       "      <td>#554:3</td>\n",
       "      <td>#201:4</td>\n",
       "    </tr>\n",
       "    <tr>\n",
       "      <th>4</th>\n",
       "      <td>[#58:0]</td>\n",
       "      <td>#192:3</td>\n",
       "      <td>#554:4</td>\n",
       "      <td>#185:0</td>\n",
       "    </tr>\n",
       "    <tr>\n",
       "      <th>5</th>\n",
       "      <td>[#58:0]</td>\n",
       "      <td>#75:0</td>\n",
       "      <td>#554:5</td>\n",
       "      <td>#198:2</td>\n",
       "    </tr>\n",
       "    <tr>\n",
       "      <th>6</th>\n",
       "      <td>[#58:0]</td>\n",
       "      <td>#189:7</td>\n",
       "      <td>#554:6</td>\n",
       "      <td>#78:1</td>\n",
       "    </tr>\n",
       "    <tr>\n",
       "      <th>7</th>\n",
       "      <td>[#58:0]</td>\n",
       "      <td>#122:0</td>\n",
       "      <td>#554:7</td>\n",
       "      <td>#201:7</td>\n",
       "    </tr>\n",
       "    <tr>\n",
       "      <th>8</th>\n",
       "      <td>[#58:0]</td>\n",
       "      <td>#192:0</td>\n",
       "      <td>#554:8</td>\n",
       "      <td>#79:0</td>\n",
       "    </tr>\n",
       "    <tr>\n",
       "      <th>9</th>\n",
       "      <td>[#58:0]</td>\n",
       "      <td>#130:2</td>\n",
       "      <td>#554:9</td>\n",
       "      <td>#186:7</td>\n",
       "    </tr>\n",
       "  </tbody>\n",
       "</table>\n",
       "</div>"
      ],
      "text/plain": [
       "  document_rid object_rid relation_rid subject_rid\n",
       "0      [#58:0]     #186:0       #554:0       #74:0\n",
       "1      [#58:0]     #191:1       #554:1       #96:0\n",
       "2      [#58:0]     #187:3       #554:2      #195:0\n",
       "3      [#58:0]     #237:0       #554:3      #201:4\n",
       "4      [#58:0]     #192:3       #554:4      #185:0\n",
       "5      [#58:0]      #75:0       #554:5      #198:2\n",
       "6      [#58:0]     #189:7       #554:6       #78:1\n",
       "7      [#58:0]     #122:0       #554:7      #201:7\n",
       "8      [#58:0]     #192:0       #554:8       #79:0\n",
       "9      [#58:0]     #130:2       #554:9      #186:7"
      ]
     },
     "execution_count": 7,
     "metadata": {},
     "output_type": "execute_result"
    }
   ],
   "source": [
    "r = get_api_result('bel/get_edge_rids')\n",
    "r.print_page_info()\n",
    "df = r.as_df()\n",
    "df"
   ]
  },
  {
   "cell_type": "code",
   "execution_count": 8,
   "id": "7f062e34",
   "metadata": {
    "pycharm": {
     "name": "#%%\n"
    }
   },
   "outputs": [
    {
     "name": "stdout",
     "output_type": "stream",
     "text": [
      "number_of_results: 1\n",
      "page: 1\n",
      "pages: 1\n",
      "page_size: 10\n"
     ]
    }
   ],
   "source": [
    "edge_dict = df.iloc[0].to_dict()\n",
    "r = get_api_result('bel/get_edge_rids', \n",
    "                   document_rid=edge_dict['document_rid'],\n",
    "                   object_rid=edge_dict['object_rid'],\n",
    "                   relation_rid=edge_dict['relation_rid'],\n",
    "                   subject_rid=edge_dict['subject_rid'])\n",
    "r.print_page_info()"
   ]
  },
  {
   "cell_type": "code",
   "execution_count": 9,
   "id": "82efe43b",
   "metadata": {
    "pycharm": {
     "name": "#%%\n"
    }
   },
   "outputs": [
    {
     "data": {
      "text/html": [
       "<div>\n",
       "<style scoped>\n",
       "    .dataframe tbody tr th:only-of-type {\n",
       "        vertical-align: middle;\n",
       "    }\n",
       "\n",
       "    .dataframe tbody tr th {\n",
       "        vertical-align: top;\n",
       "    }\n",
       "\n",
       "    .dataframe thead th {\n",
       "        text-align: right;\n",
       "    }\n",
       "</style>\n",
       "<table border=\"1\" class=\"dataframe\">\n",
       "  <thead>\n",
       "    <tr style=\"text-align: right;\">\n",
       "      <th></th>\n",
       "      <th>document_rid</th>\n",
       "      <th>object_rid</th>\n",
       "      <th>relation_rid</th>\n",
       "      <th>subject_rid</th>\n",
       "    </tr>\n",
       "  </thead>\n",
       "  <tbody>\n",
       "    <tr>\n",
       "      <th>0</th>\n",
       "      <td>[#58:0]</td>\n",
       "      <td>#186:0</td>\n",
       "      <td>#554:0</td>\n",
       "      <td>#74:0</td>\n",
       "    </tr>\n",
       "  </tbody>\n",
       "</table>\n",
       "</div>"
      ],
      "text/plain": [
       "  document_rid object_rid relation_rid subject_rid\n",
       "0      [#58:0]     #186:0       #554:0       #74:0"
      ]
     },
     "execution_count": 9,
     "metadata": {},
     "output_type": "execute_result"
    }
   ],
   "source": [
    "r.as_df()"
   ]
  },
  {
   "cell_type": "markdown",
   "id": "635ed620",
   "metadata": {
    "pycharm": {
     "name": "#%% md\n"
    }
   },
   "source": [
    "### Node by rid"
   ]
  },
  {
   "cell_type": "code",
   "execution_count": 10,
   "id": "a94ffd12",
   "metadata": {
    "pycharm": {
     "name": "#%%\n"
    }
   },
   "outputs": [
    {
     "name": "stdout",
     "output_type": "stream",
     "text": [
      "#186:0\n"
     ]
    }
   ],
   "source": [
    "example_node_rid = edge_dict['object_rid']\n",
    "print(example_node_rid)"
   ]
  },
  {
   "cell_type": "code",
   "execution_count": 11,
   "id": "005961c6",
   "metadata": {
    "pycharm": {
     "name": "#%%\n"
    }
   },
   "outputs": [
    {
     "data": {
      "text/plain": [
       "{'bel': 'p(HGNC:\"TREM2\",loc(MESHA:\"Extracellular Space\"))',\n",
       " 'involved_genes': ['TREM2'],\n",
       " 'involved_other': [],\n",
       " 'label': 'Triggering receptor expressed on myeloid cells 2',\n",
       " 'name': 'TREM2',\n",
       " 'namespace': 'HGNC',\n",
       " 'species': 9606,\n",
       " 'uniprot': 'Q9NZC2'}"
      ]
     },
     "execution_count": 11,
     "metadata": {},
     "output_type": "execute_result"
    }
   ],
   "source": [
    "params = {'rid': example_node_rid}\n",
    "r = requests.get(f\"{basic_url}bel/by_rid\", params=params)\n",
    "r.json()"
   ]
  },
  {
   "cell_type": "markdown",
   "id": "9fe522cb",
   "metadata": {
    "pycharm": {
     "name": "#%% md\n"
    }
   },
   "source": [
    "### Annotations"
   ]
  },
  {
   "cell_type": "markdown",
   "id": "5153a38e",
   "metadata": {
    "pycharm": {
     "name": "#%% md\n"
    }
   },
   "source": [
    "#### Keys"
   ]
  },
  {
   "cell_type": "code",
   "execution_count": 12,
   "id": "164b40f1",
   "metadata": {
    "pycharm": {
     "name": "#%%\n"
    }
   },
   "outputs": [
    {
     "data": {
      "image/png": "[encoded data removed]",
      "text/plain": [
       "<Figure size 720x432 with 1 Axes>"
      ]
     },
     "metadata": {
      "needs_background": "light"
     },
     "output_type": "display_data"
    }
   ],
   "source": [
    "r = requests.get(f\"{basic_url}bel/annotation_keys\")\n",
    "_ = pd.DataFrame(r.json()).set_index('annotation_key').iloc[::-1].plot.barh(figsize=(10,6))"
   ]
  },
  {
   "cell_type": "markdown",
   "id": "b835b62f",
   "metadata": {
    "pycharm": {
     "name": "#%% md\n"
    }
   },
   "source": [
    "#### Terms"
   ]
  },
  {
   "cell_type": "code",
   "execution_count": 13,
   "id": "92a2d33f",
   "metadata": {
    "pycharm": {
     "name": "#%%\n"
    }
   },
   "outputs": [
    {
     "data": {
      "image/png": "[encoded data removed]",
      "text/plain": [
       "<Figure size 720x432 with 1 Axes>"
      ]
     },
     "metadata": {
      "needs_background": "light"
     },
     "output_type": "display_data"
    }
   ],
   "source": [
    "r = requests.get(f\"{basic_url}bel/annotation_terms\", params={'annotation_key': \"mesh\"})\n",
    "_ = pd.DataFrame(r.json()).set_index('annotation_term').iloc[:30].iloc[::-1].plot.barh(figsize=(10,6))"
   ]
  },
  {
   "cell_type": "code",
   "execution_count": 14,
   "id": "e8762a5b",
   "metadata": {
    "pycharm": {
     "name": "#%%\n"
    }
   },
   "outputs": [
    {
     "data": {
      "image/png": "[encoded data removed]",
      "text/plain": [
       "<Figure size 720x432 with 1 Axes>"
      ]
     },
     "metadata": {
      "needs_background": "light"
     },
     "output_type": "display_data"
    }
   ],
   "source": [
    "r = requests.get(f\"{basic_url}bel/annotation_terms\", params={'annotation_key': \"substances\"})\n",
    "df = pd.DataFrame(r.json()).iloc[:30]\n",
    "_ = df.iloc[::-1].set_index('annotation_term').plot.barh(figsize=(10,6))\n"
   ]
  },
  {
   "cell_type": "code",
   "execution_count": 15,
   "id": "a21e0e71",
   "metadata": {
    "pycharm": {
     "name": "#%%\n"
    }
   },
   "outputs": [
    {
     "data": {
      "text/plain": [
       "'CD11b Antigen'"
      ]
     },
     "execution_count": 15,
     "metadata": {},
     "output_type": "execute_result"
    }
   ],
   "source": [
    "example_substance = df.annotation_term[10]\n",
    "example_substance"
   ]
  },
  {
   "cell_type": "markdown",
   "id": "5ca26723",
   "metadata": {
    "pycharm": {
     "name": "#%% md\n"
    }
   },
   "source": [
    "### Edges by annotation"
   ]
  },
  {
   "cell_type": "code",
   "execution_count": 16,
   "id": "f94bce1b",
   "metadata": {
    "pycharm": {
     "name": "#%%\n"
    }
   },
   "outputs": [
    {
     "data": {
      "text/html": [
       "<div>\n",
       "<style scoped>\n",
       "    .dataframe tbody tr th:only-of-type {\n",
       "        vertical-align: middle;\n",
       "    }\n",
       "\n",
       "    .dataframe tbody tr th {\n",
       "        vertical-align: top;\n",
       "    }\n",
       "\n",
       "    .dataframe thead th {\n",
       "        text-align: right;\n",
       "    }\n",
       "</style>\n",
       "<table border=\"1\" class=\"dataframe\">\n",
       "  <thead>\n",
       "    <tr style=\"text-align: right;\">\n",
       "      <th></th>\n",
       "      <th>author_in_author_list</th>\n",
       "      <th>citation_full_journal_name</th>\n",
       "      <th>citation_last_author</th>\n",
       "      <th>citation_pub_date</th>\n",
       "      <th>citation_pub_year</th>\n",
       "      <th>citation_type</th>\n",
       "      <th>doi</th>\n",
       "      <th>evidence</th>\n",
       "      <th>object_bel</th>\n",
       "      <th>object_gene_symbol_involved_in</th>\n",
       "      <th>...</th>\n",
       "      <th>relation</th>\n",
       "      <th>relation_rid</th>\n",
       "      <th>subject_bel</th>\n",
       "      <th>subject_gene_symbol_involved_in</th>\n",
       "      <th>subject_name</th>\n",
       "      <th>subject_namespace</th>\n",
       "      <th>subject_node_class</th>\n",
       "      <th>subject_other_involved_in</th>\n",
       "      <th>subject_rid</th>\n",
       "      <th>title</th>\n",
       "    </tr>\n",
       "  </thead>\n",
       "  <tbody>\n",
       "    <tr>\n",
       "      <th>0</th>\n",
       "      <td>[Zhong L, Chen XF, Wang T, Wang Z, Liao C, Wan...</td>\n",
       "      <td>The Journal of experimental medicine</td>\n",
       "      <td>Bu G</td>\n",
       "      <td>2017-08-14</td>\n",
       "      <td>2017</td>\n",
       "      <td>PubMed</td>\n",
       "      <td>10.1084/jem.20160844</td>\n",
       "      <td>Soluble TREM2 induces inflammatory responses a...</td>\n",
       "      <td>bp(GOBP:\"inflammatory response\")</td>\n",
       "      <td>[]</td>\n",
       "      <td>...</td>\n",
       "      <td>increases</td>\n",
       "      <td>#554:0</td>\n",
       "      <td>p(HGNC:\"TREM2\",loc(MESHA:\"Extracellular Space\"))</td>\n",
       "      <td>[TREM2]</td>\n",
       "      <td>TREM2</td>\n",
       "      <td>HGNC</td>\n",
       "      <td>protein</td>\n",
       "      <td>[]</td>\n",
       "      <td>#186:0</td>\n",
       "      <td>Soluble TREM2 induces inflammatory responses a...</td>\n",
       "    </tr>\n",
       "    <tr>\n",
       "      <th>1</th>\n",
       "      <td>[Sims R, van der Lee SJ, Naj AC, Bellenguez C,...</td>\n",
       "      <td>Nature genetics</td>\n",
       "      <td>Schellenberg GD</td>\n",
       "      <td>2017-10-25</td>\n",
       "      <td>2017</td>\n",
       "      <td>PubMed</td>\n",
       "      <td>10.1038/ng.3916</td>\n",
       "      <td>PLCG2 variants also cause antibody deficiency ...</td>\n",
       "      <td>path(HP:\"Decreased antibody level in blood\")</td>\n",
       "      <td>[]</td>\n",
       "      <td>...</td>\n",
       "      <td>increases</td>\n",
       "      <td>#554:1</td>\n",
       "      <td>p(HGNC:\"PLCG2\",var(\"?\"))</td>\n",
       "      <td>[PLCG2]</td>\n",
       "      <td>PLCG2</td>\n",
       "      <td>HGNC</td>\n",
       "      <td>protein</td>\n",
       "      <td>[]</td>\n",
       "      <td>#191:1</td>\n",
       "      <td>Rare coding variants in PLCG2, ABI3, and TREM2...</td>\n",
       "    </tr>\n",
       "    <tr>\n",
       "      <th>2</th>\n",
       "      <td>[Jay TR, von Saucken VE, Landreth GE]</td>\n",
       "      <td>Molecular neurodegeneration</td>\n",
       "      <td>Landreth GE</td>\n",
       "      <td>2018-06-12</td>\n",
       "      <td>2018</td>\n",
       "      <td>PubMed</td>\n",
       "      <td>10.1186/s13024-017-0197-5</td>\n",
       "      <td>In vitro, application of classically pro-infla...</td>\n",
       "      <td>p(HGNC:\"TREM2\")</td>\n",
       "      <td>[TREM2]</td>\n",
       "      <td>...</td>\n",
       "      <td>increases</td>\n",
       "      <td>#554:2</td>\n",
       "      <td>p(HGNC:\"IL4\")</td>\n",
       "      <td>[IL4]</td>\n",
       "      <td>IL4</td>\n",
       "      <td>HGNC</td>\n",
       "      <td>protein</td>\n",
       "      <td>[]</td>\n",
       "      <td>#187:3</td>\n",
       "      <td>TREM2 in Neurodegenerative Diseases.</td>\n",
       "    </tr>\n",
       "    <tr>\n",
       "      <th>3</th>\n",
       "      <td>[Xiang X, Werner G, Bohrmann B, Liesz A, Mazah...</td>\n",
       "      <td>EMBO molecular medicine</td>\n",
       "      <td>Haass C</td>\n",
       "      <td>2017-09-25</td>\n",
       "      <td>2017</td>\n",
       "      <td>PubMed</td>\n",
       "      <td>10.15252/emmm.201606370</td>\n",
       "      <td>It is well known that upon stimulation of TREM...</td>\n",
       "      <td>p(HGNC:\"SYK\",pmod(Ph))</td>\n",
       "      <td>[SYK]</td>\n",
       "      <td>...</td>\n",
       "      <td>increases</td>\n",
       "      <td>#554:3</td>\n",
       "      <td>act(p(SCOMP:\"FcR Gamma Chain Complex\"))</td>\n",
       "      <td>[FcR Gamma Chain Complex]</td>\n",
       "      <td>NaN</td>\n",
       "      <td>NaN</td>\n",
       "      <td>activity</td>\n",
       "      <td>[]</td>\n",
       "      <td>#237:0</td>\n",
       "      <td>TREM2 deficiency reduces the efficacy of immun...</td>\n",
       "    </tr>\n",
       "    <tr>\n",
       "      <th>4</th>\n",
       "      <td>[Sieber MW, Jaenisch N, Brehm M, Guenther M, L...</td>\n",
       "      <td>PloS one</td>\n",
       "      <td>Frahm C</td>\n",
       "      <td>2013-08-20</td>\n",
       "      <td>2013</td>\n",
       "      <td>PubMed</td>\n",
       "      <td>10.1371/journal.pone.0052982</td>\n",
       "      <td>At 7 d after MCAO, transcription of TNFα, IL-1...</td>\n",
       "      <td>r(MGI:\"Il1b\")</td>\n",
       "      <td>[Il1b]</td>\n",
       "      <td>...</td>\n",
       "      <td>increases</td>\n",
       "      <td>#554:4</td>\n",
       "      <td>p(MGI:\"Trem2\")</td>\n",
       "      <td>[Trem2]</td>\n",
       "      <td>Trem2</td>\n",
       "      <td>MGI</td>\n",
       "      <td>protein</td>\n",
       "      <td>[]</td>\n",
       "      <td>#192:3</td>\n",
       "      <td>Attenuated inflammatory response in triggering...</td>\n",
       "    </tr>\n",
       "    <tr>\n",
       "      <th>5</th>\n",
       "      <td>[Linnartz B, Wang Y, Neumann H]</td>\n",
       "      <td>International journal of Alzheimer's disease</td>\n",
       "      <td>Neumann H</td>\n",
       "      <td>2011-07-14</td>\n",
       "      <td>2011</td>\n",
       "      <td>PubMed</td>\n",
       "      <td>10.4061/2010/587463</td>\n",
       "      <td>On the one hand, they are neurotoxic by produc...</td>\n",
       "      <td>p(HGNC:\"IL1B\")</td>\n",
       "      <td>[IL1B]</td>\n",
       "      <td>...</td>\n",
       "      <td>increases</td>\n",
       "      <td>#554:5</td>\n",
       "      <td>bp(GOBP:\"cytokine production involved in infla...</td>\n",
       "      <td>[]</td>\n",
       "      <td>cytokine production involved in inflammatory r...</td>\n",
       "      <td>GOBP</td>\n",
       "      <td>biological_process</td>\n",
       "      <td>[cytokine production involved in inflammatory ...</td>\n",
       "      <td>#75:0</td>\n",
       "      <td>Microglial immunoreceptor tyrosine-based activ...</td>\n",
       "    </tr>\n",
       "    <tr>\n",
       "      <th>6</th>\n",
       "      <td>[Linnartz B, Wang Y, Neumann H]</td>\n",
       "      <td>International journal of Alzheimer's disease</td>\n",
       "      <td>Neumann H</td>\n",
       "      <td>2011-07-14</td>\n",
       "      <td>2011</td>\n",
       "      <td>PubMed</td>\n",
       "      <td>10.4061/2010/587463</td>\n",
       "      <td>Different receptors expressed on microglia suc...</td>\n",
       "      <td>bp(GOBP:\"beta-amyloid clearance\")</td>\n",
       "      <td>[]</td>\n",
       "      <td>...</td>\n",
       "      <td>increases</td>\n",
       "      <td>#554:6</td>\n",
       "      <td>p(HGNC:\"CD14\",loc(MESHA:\"Microglia\"))</td>\n",
       "      <td>[CD14]</td>\n",
       "      <td>CD14</td>\n",
       "      <td>HGNC</td>\n",
       "      <td>protein</td>\n",
       "      <td>[]</td>\n",
       "      <td>#189:7</td>\n",
       "      <td>Microglial immunoreceptor tyrosine-based activ...</td>\n",
       "    </tr>\n",
       "    <tr>\n",
       "      <th>7</th>\n",
       "      <td>[Linnartz B, Wang Y, Neumann H]</td>\n",
       "      <td>International journal of Alzheimer's disease</td>\n",
       "      <td>Neumann H</td>\n",
       "      <td>2011-07-14</td>\n",
       "      <td>2011</td>\n",
       "      <td>PubMed</td>\n",
       "      <td>10.4061/2010/587463</td>\n",
       "      <td>Accordingly, microglial cells express the acti...</td>\n",
       "      <td>p(HGNC:\"FCGR3A\")</td>\n",
       "      <td>[FCGR3A]</td>\n",
       "      <td>...</td>\n",
       "      <td>increases</td>\n",
       "      <td>#554:7</td>\n",
       "      <td>a(MESHA:\"Microglia\")</td>\n",
       "      <td>[]</td>\n",
       "      <td>Microglia</td>\n",
       "      <td>MESHA</td>\n",
       "      <td>abundance</td>\n",
       "      <td>[Microglia]</td>\n",
       "      <td>#122:0</td>\n",
       "      <td>Microglial immunoreceptor tyrosine-based activ...</td>\n",
       "    </tr>\n",
       "    <tr>\n",
       "      <th>8</th>\n",
       "      <td>[Linnartz B, Wang Y, Neumann H]</td>\n",
       "      <td>International journal of Alzheimer's disease</td>\n",
       "      <td>Neumann H</td>\n",
       "      <td>2011-07-14</td>\n",
       "      <td>2011</td>\n",
       "      <td>PubMed</td>\n",
       "      <td>10.4061/2010/587463</td>\n",
       "      <td>Furthermore, TREM2 and SIRPβ1 are plaque-assoc...</td>\n",
       "      <td>bp(GOBP:\"phagocytosis\")</td>\n",
       "      <td>[]</td>\n",
       "      <td>...</td>\n",
       "      <td>increases</td>\n",
       "      <td>#554:8</td>\n",
       "      <td>p(HGNC:\"TREM2\",loc(MESHA:\"Microglia\"))</td>\n",
       "      <td>[TREM2]</td>\n",
       "      <td>TREM2</td>\n",
       "      <td>HGNC</td>\n",
       "      <td>protein</td>\n",
       "      <td>[]</td>\n",
       "      <td>#192:0</td>\n",
       "      <td>Microglial immunoreceptor tyrosine-based activ...</td>\n",
       "    </tr>\n",
       "    <tr>\n",
       "      <th>9</th>\n",
       "      <td>[Linnartz B, Wang Y, Neumann H]</td>\n",
       "      <td>International journal of Alzheimer's disease</td>\n",
       "      <td>Neumann H</td>\n",
       "      <td>2011-07-14</td>\n",
       "      <td>2011</td>\n",
       "      <td>PubMed</td>\n",
       "      <td>10.4061/2010/587463</td>\n",
       "      <td>Most CD33-related Siglecs, such as the human S...</td>\n",
       "      <td>p(HGNC:\"SIGLEC11\")</td>\n",
       "      <td>[SIGLEC11]</td>\n",
       "      <td>...</td>\n",
       "      <td>increases</td>\n",
       "      <td>#554:9</td>\n",
       "      <td>a(MESHA:\"Monocytes\")</td>\n",
       "      <td>[]</td>\n",
       "      <td>Monocytes</td>\n",
       "      <td>MESHA</td>\n",
       "      <td>abundance</td>\n",
       "      <td>[Monocytes]</td>\n",
       "      <td>#130:2</td>\n",
       "      <td>Microglial immunoreceptor tyrosine-based activ...</td>\n",
       "    </tr>\n",
       "  </tbody>\n",
       "</table>\n",
       "<p>10 rows × 25 columns</p>\n",
       "</div>"
      ],
      "text/plain": [
       "                               author_in_author_list  \\\n",
       "0  [Zhong L, Chen XF, Wang T, Wang Z, Liao C, Wan...   \n",
       "1  [Sims R, van der Lee SJ, Naj AC, Bellenguez C,...   \n",
       "2              [Jay TR, von Saucken VE, Landreth GE]   \n",
       "3  [Xiang X, Werner G, Bohrmann B, Liesz A, Mazah...   \n",
       "4  [Sieber MW, Jaenisch N, Brehm M, Guenther M, L...   \n",
       "5                    [Linnartz B, Wang Y, Neumann H]   \n",
       "6                    [Linnartz B, Wang Y, Neumann H]   \n",
       "7                    [Linnartz B, Wang Y, Neumann H]   \n",
       "8                    [Linnartz B, Wang Y, Neumann H]   \n",
       "9                    [Linnartz B, Wang Y, Neumann H]   \n",
       "\n",
       "                     citation_full_journal_name citation_last_author  \\\n",
       "0          The Journal of experimental medicine                 Bu G   \n",
       "1                               Nature genetics      Schellenberg GD   \n",
       "2                   Molecular neurodegeneration          Landreth GE   \n",
       "3                       EMBO molecular medicine              Haass C   \n",
       "4                                      PloS one              Frahm C   \n",
       "5  International journal of Alzheimer's disease            Neumann H   \n",
       "6  International journal of Alzheimer's disease            Neumann H   \n",
       "7  International journal of Alzheimer's disease            Neumann H   \n",
       "8  International journal of Alzheimer's disease            Neumann H   \n",
       "9  International journal of Alzheimer's disease            Neumann H   \n",
       "\n",
       "  citation_pub_date  citation_pub_year citation_type  \\\n",
       "0        2017-08-14               2017        PubMed   \n",
       "1        2017-10-25               2017        PubMed   \n",
       "2        2018-06-12               2018        PubMed   \n",
       "3        2017-09-25               2017        PubMed   \n",
       "4        2013-08-20               2013        PubMed   \n",
       "5        2011-07-14               2011        PubMed   \n",
       "6        2011-07-14               2011        PubMed   \n",
       "7        2011-07-14               2011        PubMed   \n",
       "8        2011-07-14               2011        PubMed   \n",
       "9        2011-07-14               2011        PubMed   \n",
       "\n",
       "                            doi  \\\n",
       "0          10.1084/jem.20160844   \n",
       "1               10.1038/ng.3916   \n",
       "2     10.1186/s13024-017-0197-5   \n",
       "3       10.15252/emmm.201606370   \n",
       "4  10.1371/journal.pone.0052982   \n",
       "5           10.4061/2010/587463   \n",
       "6           10.4061/2010/587463   \n",
       "7           10.4061/2010/587463   \n",
       "8           10.4061/2010/587463   \n",
       "9           10.4061/2010/587463   \n",
       "\n",
       "                                            evidence  \\\n",
       "0  Soluble TREM2 induces inflammatory responses a...   \n",
       "1  PLCG2 variants also cause antibody deficiency ...   \n",
       "2  In vitro, application of classically pro-infla...   \n",
       "3  It is well known that upon stimulation of TREM...   \n",
       "4  At 7 d after MCAO, transcription of TNFα, IL-1...   \n",
       "5  On the one hand, they are neurotoxic by produc...   \n",
       "6  Different receptors expressed on microglia suc...   \n",
       "7  Accordingly, microglial cells express the acti...   \n",
       "8  Furthermore, TREM2 and SIRPβ1 are plaque-assoc...   \n",
       "9  Most CD33-related Siglecs, such as the human S...   \n",
       "\n",
       "                                     object_bel  \\\n",
       "0              bp(GOBP:\"inflammatory response\")   \n",
       "1  path(HP:\"Decreased antibody level in blood\")   \n",
       "2                               p(HGNC:\"TREM2\")   \n",
       "3                        p(HGNC:\"SYK\",pmod(Ph))   \n",
       "4                                 r(MGI:\"Il1b\")   \n",
       "5                                p(HGNC:\"IL1B\")   \n",
       "6             bp(GOBP:\"beta-amyloid clearance\")   \n",
       "7                              p(HGNC:\"FCGR3A\")   \n",
       "8                       bp(GOBP:\"phagocytosis\")   \n",
       "9                            p(HGNC:\"SIGLEC11\")   \n",
       "\n",
       "  object_gene_symbol_involved_in  ...   relation relation_rid  \\\n",
       "0                             []  ...  increases       #554:0   \n",
       "1                             []  ...  increases       #554:1   \n",
       "2                        [TREM2]  ...  increases       #554:2   \n",
       "3                          [SYK]  ...  increases       #554:3   \n",
       "4                         [Il1b]  ...  increases       #554:4   \n",
       "5                         [IL1B]  ...  increases       #554:5   \n",
       "6                             []  ...  increases       #554:6   \n",
       "7                       [FCGR3A]  ...  increases       #554:7   \n",
       "8                             []  ...  increases       #554:8   \n",
       "9                     [SIGLEC11]  ...  increases       #554:9   \n",
       "\n",
       "                                         subject_bel  \\\n",
       "0   p(HGNC:\"TREM2\",loc(MESHA:\"Extracellular Space\"))   \n",
       "1                           p(HGNC:\"PLCG2\",var(\"?\"))   \n",
       "2                                      p(HGNC:\"IL4\")   \n",
       "3            act(p(SCOMP:\"FcR Gamma Chain Complex\"))   \n",
       "4                                     p(MGI:\"Trem2\")   \n",
       "5  bp(GOBP:\"cytokine production involved in infla...   \n",
       "6              p(HGNC:\"CD14\",loc(MESHA:\"Microglia\"))   \n",
       "7                               a(MESHA:\"Microglia\")   \n",
       "8             p(HGNC:\"TREM2\",loc(MESHA:\"Microglia\"))   \n",
       "9                               a(MESHA:\"Monocytes\")   \n",
       "\n",
       "  subject_gene_symbol_involved_in  \\\n",
       "0                         [TREM2]   \n",
       "1                         [PLCG2]   \n",
       "2                           [IL4]   \n",
       "3       [FcR Gamma Chain Complex]   \n",
       "4                         [Trem2]   \n",
       "5                              []   \n",
       "6                          [CD14]   \n",
       "7                              []   \n",
       "8                         [TREM2]   \n",
       "9                              []   \n",
       "\n",
       "                                        subject_name subject_namespace  \\\n",
       "0                                              TREM2              HGNC   \n",
       "1                                              PLCG2              HGNC   \n",
       "2                                                IL4              HGNC   \n",
       "3                                                NaN               NaN   \n",
       "4                                              Trem2               MGI   \n",
       "5  cytokine production involved in inflammatory r...              GOBP   \n",
       "6                                               CD14              HGNC   \n",
       "7                                          Microglia             MESHA   \n",
       "8                                              TREM2              HGNC   \n",
       "9                                          Monocytes             MESHA   \n",
       "\n",
       "   subject_node_class                          subject_other_involved_in  \\\n",
       "0             protein                                                 []   \n",
       "1             protein                                                 []   \n",
       "2             protein                                                 []   \n",
       "3            activity                                                 []   \n",
       "4             protein                                                 []   \n",
       "5  biological_process  [cytokine production involved in inflammatory ...   \n",
       "6             protein                                                 []   \n",
       "7           abundance                                        [Microglia]   \n",
       "8             protein                                                 []   \n",
       "9           abundance                                        [Monocytes]   \n",
       "\n",
       "  subject_rid                                              title  \n",
       "0      #186:0  Soluble TREM2 induces inflammatory responses a...  \n",
       "1      #191:1  Rare coding variants in PLCG2, ABI3, and TREM2...  \n",
       "2      #187:3               TREM2 in Neurodegenerative Diseases.  \n",
       "3      #237:0  TREM2 deficiency reduces the efficacy of immun...  \n",
       "4      #192:3  Attenuated inflammatory response in triggering...  \n",
       "5       #75:0  Microglial immunoreceptor tyrosine-based activ...  \n",
       "6      #189:7  Microglial immunoreceptor tyrosine-based activ...  \n",
       "7      #122:0  Microglial immunoreceptor tyrosine-based activ...  \n",
       "8      #192:0  Microglial immunoreceptor tyrosine-based activ...  \n",
       "9      #130:2  Microglial immunoreceptor tyrosine-based activ...  \n",
       "\n",
       "[10 rows x 25 columns]"
      ]
     },
     "execution_count": 16,
     "metadata": {},
     "output_type": "execute_result"
    }
   ],
   "source": [
    "params = {} \n",
    "r = requests.get(f\"{basic_url}bel/edge_by_annotation\", params=params)\n",
    "pd.DataFrame(r.json()['results'])"
   ]
  },
  {
   "cell_type": "markdown",
   "id": "6c0b0e36",
   "metadata": {
    "pycharm": {
     "name": "#%% md\n"
    }
   },
   "source": [
    "### Adjacent nodes by identifier"
   ]
  },
  {
   "cell_type": "markdown",
   "id": "f6548efd",
   "metadata": {
    "pycharm": {
     "name": "#%% md\n"
    }
   },
   "source": [
    "Let's remember what we are searching for"
   ]
  },
  {
   "cell_type": "code",
   "execution_count": 17,
   "id": "801f5cb3",
   "metadata": {
    "pycharm": {
     "name": "#%%\n"
    }
   },
   "outputs": [
    {
     "name": "stdout",
     "output_type": "stream",
     "text": [
      "Adjacent nodes of  p(HGNC:\"TREM2\",loc(MESHA:\"Extracellular Space\"))\n"
     ]
    }
   ],
   "source": [
    "start_node = requests.get(f\"{basic_url}bel/by_rid\", params={'rid': example_node_rid}).json()\n",
    "print('Adjacent nodes of ', start_node['bel'])"
   ]
  },
  {
   "cell_type": "markdown",
   "id": "8a8263e8",
   "metadata": {
    "pycharm": {
     "name": "#%% md\n"
    }
   },
   "source": [
    "#### Directions"
   ]
  },
  {
   "cell_type": "markdown",
   "id": "6d5ca8dd",
   "metadata": {
    "pycharm": {
     "name": "#%% md\n"
    }
   },
   "source": [
    "##### in"
   ]
  },
  {
   "cell_type": "code",
   "execution_count": 18,
   "id": "4d45e3e5",
   "metadata": {
    "pycharm": {
     "name": "#%%\n"
    }
   },
   "outputs": [
    {
     "data": {
      "text/html": [
       "<div>\n",
       "<style scoped>\n",
       "    .dataframe tbody tr th:only-of-type {\n",
       "        vertical-align: middle;\n",
       "    }\n",
       "\n",
       "    .dataframe tbody tr th {\n",
       "        vertical-align: top;\n",
       "    }\n",
       "\n",
       "    .dataframe thead th {\n",
       "        text-align: right;\n",
       "    }\n",
       "</style>\n",
       "<table border=\"1\" class=\"dataframe\">\n",
       "  <thead>\n",
       "    <tr style=\"text-align: right;\">\n",
       "      <th></th>\n",
       "      <th>bel</th>\n",
       "      <th>direction</th>\n",
       "      <th>edge_class</th>\n",
       "      <th>edge_rid</th>\n",
       "      <th>involved_genes</th>\n",
       "      <th>involved_other</th>\n",
       "      <th>name</th>\n",
       "      <th>namespace</th>\n",
       "      <th>node_class</th>\n",
       "      <th>node_rid</th>\n",
       "    </tr>\n",
       "  </thead>\n",
       "  <tbody>\n",
       "    <tr>\n",
       "      <th>0</th>\n",
       "      <td>bp(GOBP:\"inflammatory response\")</td>\n",
       "      <td>in</td>\n",
       "      <td>increases</td>\n",
       "      <td>#554:0</td>\n",
       "      <td>[]</td>\n",
       "      <td>[inflammatory response]</td>\n",
       "      <td>inflammatory response</td>\n",
       "      <td>GOBP</td>\n",
       "      <td>biological_process</td>\n",
       "      <td>#74:0</td>\n",
       "    </tr>\n",
       "    <tr>\n",
       "      <th>1</th>\n",
       "      <td>a(MESHA:\"Microglia\")</td>\n",
       "      <td>in</td>\n",
       "      <td>increases</td>\n",
       "      <td>#555:0</td>\n",
       "      <td>[]</td>\n",
       "      <td>[Microglia]</td>\n",
       "      <td>Microglia</td>\n",
       "      <td>MESHA</td>\n",
       "      <td>abundance</td>\n",
       "      <td>#122:0</td>\n",
       "    </tr>\n",
       "    <tr>\n",
       "      <th>2</th>\n",
       "      <td>a(MESHA:\"Microglia\")</td>\n",
       "      <td>in</td>\n",
       "      <td>increases</td>\n",
       "      <td>#556:0</td>\n",
       "      <td>[]</td>\n",
       "      <td>[Microglia]</td>\n",
       "      <td>Microglia</td>\n",
       "      <td>MESHA</td>\n",
       "      <td>abundance</td>\n",
       "      <td>#122:0</td>\n",
       "    </tr>\n",
       "  </tbody>\n",
       "</table>\n",
       "</div>"
      ],
      "text/plain": [
       "                                bel direction edge_class edge_rid  \\\n",
       "0  bp(GOBP:\"inflammatory response\")        in  increases   #554:0   \n",
       "1              a(MESHA:\"Microglia\")        in  increases   #555:0   \n",
       "2              a(MESHA:\"Microglia\")        in  increases   #556:0   \n",
       "\n",
       "  involved_genes           involved_other                   name namespace  \\\n",
       "0             []  [inflammatory response]  inflammatory response      GOBP   \n",
       "1             []              [Microglia]              Microglia     MESHA   \n",
       "2             []              [Microglia]              Microglia     MESHA   \n",
       "\n",
       "           node_class node_rid  \n",
       "0  biological_process    #74:0  \n",
       "1           abundance   #122:0  \n",
       "2           abundance   #122:0  "
      ]
     },
     "execution_count": 18,
     "metadata": {},
     "output_type": "execute_result"
    }
   ],
   "source": [
    "params = {'rid': example_node_rid, 'direction': \"in\"}\n",
    "r = requests.get(f\"{basic_url}bel/adjacent_nodes_by_rid\", params=params)\n",
    "pd.DataFrame(r.json()).head(3)"
   ]
  },
  {
   "cell_type": "markdown",
   "id": "91b293e5",
   "metadata": {
    "pycharm": {
     "name": "#%% md\n"
    }
   },
   "source": [
    "##### out"
   ]
  },
  {
   "cell_type": "code",
   "execution_count": 19,
   "id": "0f6530d5",
   "metadata": {
    "pycharm": {
     "name": "#%%\n"
    }
   },
   "outputs": [
    {
     "data": {
      "text/html": [
       "<div>\n",
       "<style scoped>\n",
       "    .dataframe tbody tr th:only-of-type {\n",
       "        vertical-align: middle;\n",
       "    }\n",
       "\n",
       "    .dataframe tbody tr th {\n",
       "        vertical-align: top;\n",
       "    }\n",
       "\n",
       "    .dataframe thead th {\n",
       "        text-align: right;\n",
       "    }\n",
       "</style>\n",
       "<table border=\"1\" class=\"dataframe\">\n",
       "  <thead>\n",
       "    <tr style=\"text-align: right;\">\n",
       "      <th></th>\n",
       "      <th>bel</th>\n",
       "      <th>direction</th>\n",
       "      <th>edge_class</th>\n",
       "      <th>edge_rid</th>\n",
       "      <th>involved_genes</th>\n",
       "      <th>involved_other</th>\n",
       "      <th>name</th>\n",
       "      <th>namespace</th>\n",
       "      <th>node_class</th>\n",
       "      <th>node_rid</th>\n",
       "    </tr>\n",
       "  </thead>\n",
       "  <tbody>\n",
       "    <tr>\n",
       "      <th>0</th>\n",
       "      <td>bp(GOBP:\"membrane protein ectodomain proteolys...</td>\n",
       "      <td>out</td>\n",
       "      <td>increases</td>\n",
       "      <td>#559:10</td>\n",
       "      <td>[]</td>\n",
       "      <td>[membrane protein ectodomain proteolysis]</td>\n",
       "      <td>membrane protein ectodomain proteolysis</td>\n",
       "      <td>GOBP</td>\n",
       "      <td>biological_process</td>\n",
       "      <td>#87:2</td>\n",
       "    </tr>\n",
       "    <tr>\n",
       "      <th>1</th>\n",
       "      <td>act(p(HGNC:\"TREM2\"),ma(GOBP:\"membrane protein ...</td>\n",
       "      <td>out</td>\n",
       "      <td>increases</td>\n",
       "      <td>#563:38</td>\n",
       "      <td>[TREM2]</td>\n",
       "      <td>[membrane protein ectodomain proteolysis]</td>\n",
       "      <td>membrane protein ectodomain proteolysis</td>\n",
       "      <td>GOBP</td>\n",
       "      <td>activity</td>\n",
       "      <td>#247:0</td>\n",
       "    </tr>\n",
       "    <tr>\n",
       "      <th>2</th>\n",
       "      <td>p(HGNC:\"TREM2\",loc(MESHA:\"Cell Membrane\"))</td>\n",
       "      <td>out</td>\n",
       "      <td>increases</td>\n",
       "      <td>#568:14</td>\n",
       "      <td>[TREM2]</td>\n",
       "      <td>[]</td>\n",
       "      <td>TREM2</td>\n",
       "      <td>HGNC</td>\n",
       "      <td>protein</td>\n",
       "      <td>#198:11</td>\n",
       "    </tr>\n",
       "  </tbody>\n",
       "</table>\n",
       "</div>"
      ],
      "text/plain": [
       "                                                 bel direction edge_class  \\\n",
       "0  bp(GOBP:\"membrane protein ectodomain proteolys...       out  increases   \n",
       "1  act(p(HGNC:\"TREM2\"),ma(GOBP:\"membrane protein ...       out  increases   \n",
       "2         p(HGNC:\"TREM2\",loc(MESHA:\"Cell Membrane\"))       out  increases   \n",
       "\n",
       "  edge_rid involved_genes                             involved_other  \\\n",
       "0  #559:10             []  [membrane protein ectodomain proteolysis]   \n",
       "1  #563:38        [TREM2]  [membrane protein ectodomain proteolysis]   \n",
       "2  #568:14        [TREM2]                                         []   \n",
       "\n",
       "                                      name namespace          node_class  \\\n",
       "0  membrane protein ectodomain proteolysis      GOBP  biological_process   \n",
       "1  membrane protein ectodomain proteolysis      GOBP            activity   \n",
       "2                                    TREM2      HGNC             protein   \n",
       "\n",
       "  node_rid  \n",
       "0    #87:2  \n",
       "1   #247:0  \n",
       "2  #198:11  "
      ]
     },
     "execution_count": 19,
     "metadata": {},
     "output_type": "execute_result"
    }
   ],
   "source": [
    "params = {'rid': example_node_rid, 'direction': \"out\"}\n",
    "r = requests.get(f\"{basic_url}bel/adjacent_nodes_by_rid\", params=params)\n",
    "pd.DataFrame(r.json()).head(3)"
   ]
  },
  {
   "cell_type": "markdown",
   "id": "8f317c5f",
   "metadata": {
    "pycharm": {
     "name": "#%% md\n"
    }
   },
   "source": [
    "##### both"
   ]
  },
  {
   "cell_type": "code",
   "execution_count": 20,
   "id": "f9da7f70",
   "metadata": {
    "pycharm": {
     "name": "#%%\n"
    }
   },
   "outputs": [
    {
     "data": {
      "text/html": [
       "<div>\n",
       "<style scoped>\n",
       "    .dataframe tbody tr th:only-of-type {\n",
       "        vertical-align: middle;\n",
       "    }\n",
       "\n",
       "    .dataframe tbody tr th {\n",
       "        vertical-align: top;\n",
       "    }\n",
       "\n",
       "    .dataframe thead th {\n",
       "        text-align: right;\n",
       "    }\n",
       "</style>\n",
       "<table border=\"1\" class=\"dataframe\">\n",
       "  <thead>\n",
       "    <tr style=\"text-align: right;\">\n",
       "      <th></th>\n",
       "      <th>bel</th>\n",
       "      <th>direction</th>\n",
       "      <th>edge_class</th>\n",
       "      <th>edge_rid</th>\n",
       "      <th>involved_genes</th>\n",
       "      <th>involved_other</th>\n",
       "      <th>name</th>\n",
       "      <th>namespace</th>\n",
       "      <th>node_class</th>\n",
       "      <th>node_rid</th>\n",
       "    </tr>\n",
       "  </thead>\n",
       "  <tbody>\n",
       "    <tr>\n",
       "      <th>0</th>\n",
       "      <td>bp(GOBP:\"inflammatory response\")</td>\n",
       "      <td>in</td>\n",
       "      <td>increases</td>\n",
       "      <td>#554:0</td>\n",
       "      <td>[]</td>\n",
       "      <td>[inflammatory response]</td>\n",
       "      <td>inflammatory response</td>\n",
       "      <td>GOBP</td>\n",
       "      <td>biological_process</td>\n",
       "      <td>#74:0</td>\n",
       "    </tr>\n",
       "  </tbody>\n",
       "</table>\n",
       "</div>"
      ],
      "text/plain": [
       "                                bel direction edge_class edge_rid  \\\n",
       "0  bp(GOBP:\"inflammatory response\")        in  increases   #554:0   \n",
       "\n",
       "  involved_genes           involved_other                   name namespace  \\\n",
       "0             []  [inflammatory response]  inflammatory response      GOBP   \n",
       "\n",
       "           node_class node_rid  \n",
       "0  biological_process    #74:0  "
      ]
     },
     "execution_count": 20,
     "metadata": {},
     "output_type": "execute_result"
    }
   ],
   "source": [
    "params = {'rid': example_node_rid, 'direction': \"both\"}\n",
    "r = requests.get(f\"{basic_url}bel/adjacent_nodes_by_rid\", params=params)\n",
    "df = pd.DataFrame(r.json())\n",
    "df.head(1)"
   ]
  },
  {
   "cell_type": "markdown",
   "id": "5e41a29b",
   "metadata": {
    "pycharm": {
     "name": "#%% md\n"
    }
   },
   "source": [
    "to see also outs we output also the last three"
   ]
  },
  {
   "cell_type": "code",
   "execution_count": 21,
   "id": "a1a59af1",
   "metadata": {
    "pycharm": {
     "name": "#%%\n"
    }
   },
   "outputs": [
    {
     "data": {
      "text/html": [
       "<div>\n",
       "<style scoped>\n",
       "    .dataframe tbody tr th:only-of-type {\n",
       "        vertical-align: middle;\n",
       "    }\n",
       "\n",
       "    .dataframe tbody tr th {\n",
       "        vertical-align: top;\n",
       "    }\n",
       "\n",
       "    .dataframe thead th {\n",
       "        text-align: right;\n",
       "    }\n",
       "</style>\n",
       "<table border=\"1\" class=\"dataframe\">\n",
       "  <thead>\n",
       "    <tr style=\"text-align: right;\">\n",
       "      <th></th>\n",
       "      <th>bel</th>\n",
       "      <th>direction</th>\n",
       "      <th>edge_class</th>\n",
       "      <th>edge_rid</th>\n",
       "      <th>involved_genes</th>\n",
       "      <th>involved_other</th>\n",
       "      <th>name</th>\n",
       "      <th>namespace</th>\n",
       "      <th>node_class</th>\n",
       "      <th>node_rid</th>\n",
       "    </tr>\n",
       "  </thead>\n",
       "  <tbody>\n",
       "    <tr>\n",
       "      <th>30</th>\n",
       "      <td>a(CHEBI:\"florbetaben ((18)F)\")</td>\n",
       "      <td>out</td>\n",
       "      <td>positive_correlation</td>\n",
       "      <td>#682:48</td>\n",
       "      <td>[]</td>\n",
       "      <td>[florbetaben ((18)F)]</td>\n",
       "      <td>florbetaben ((18)F)</td>\n",
       "      <td>CHEBI</td>\n",
       "      <td>abundance</td>\n",
       "      <td>#136:9</td>\n",
       "    </tr>\n",
       "  </tbody>\n",
       "</table>\n",
       "</div>"
      ],
      "text/plain": [
       "                               bel direction            edge_class edge_rid  \\\n",
       "30  a(CHEBI:\"florbetaben ((18)F)\")       out  positive_correlation  #682:48   \n",
       "\n",
       "   involved_genes         involved_other                 name namespace  \\\n",
       "30             []  [florbetaben ((18)F)]  florbetaben ((18)F)     CHEBI   \n",
       "\n",
       "   node_class node_rid  \n",
       "30  abundance   #136:9  "
      ]
     },
     "execution_count": 21,
     "metadata": {},
     "output_type": "execute_result"
    }
   ],
   "source": [
    "df.tail(1)"
   ]
  },
  {
   "cell_type": "markdown",
   "id": "83dffed1",
   "metadata": {
    "pycharm": {
     "name": "#%% md\n"
    }
   },
   "source": [
    "**both** is default and not needed"
   ]
  },
  {
   "cell_type": "code",
   "execution_count": 22,
   "id": "400fc039",
   "metadata": {
    "pycharm": {
     "name": "#%%\n"
    }
   },
   "outputs": [
    {
     "data": {
      "text/html": [
       "<div>\n",
       "<style scoped>\n",
       "    .dataframe tbody tr th:only-of-type {\n",
       "        vertical-align: middle;\n",
       "    }\n",
       "\n",
       "    .dataframe tbody tr th {\n",
       "        vertical-align: top;\n",
       "    }\n",
       "\n",
       "    .dataframe thead th {\n",
       "        text-align: right;\n",
       "    }\n",
       "</style>\n",
       "<table border=\"1\" class=\"dataframe\">\n",
       "  <thead>\n",
       "    <tr style=\"text-align: right;\">\n",
       "      <th></th>\n",
       "      <th>bel</th>\n",
       "      <th>direction</th>\n",
       "      <th>edge_class</th>\n",
       "      <th>edge_rid</th>\n",
       "      <th>involved_genes</th>\n",
       "      <th>involved_other</th>\n",
       "      <th>name</th>\n",
       "      <th>namespace</th>\n",
       "      <th>node_class</th>\n",
       "      <th>node_rid</th>\n",
       "    </tr>\n",
       "  </thead>\n",
       "  <tbody>\n",
       "    <tr>\n",
       "      <th>0</th>\n",
       "      <td>bp(GOBP:\"inflammatory response\")</td>\n",
       "      <td>in</td>\n",
       "      <td>increases</td>\n",
       "      <td>#554:0</td>\n",
       "      <td>[]</td>\n",
       "      <td>[inflammatory response]</td>\n",
       "      <td>inflammatory response</td>\n",
       "      <td>GOBP</td>\n",
       "      <td>biological_process</td>\n",
       "      <td>#74:0</td>\n",
       "    </tr>\n",
       "  </tbody>\n",
       "</table>\n",
       "</div>"
      ],
      "text/plain": [
       "                                bel direction edge_class edge_rid  \\\n",
       "0  bp(GOBP:\"inflammatory response\")        in  increases   #554:0   \n",
       "\n",
       "  involved_genes           involved_other                   name namespace  \\\n",
       "0             []  [inflammatory response]  inflammatory response      GOBP   \n",
       "\n",
       "           node_class node_rid  \n",
       "0  biological_process    #74:0  "
      ]
     },
     "execution_count": 22,
     "metadata": {},
     "output_type": "execute_result"
    }
   ],
   "source": [
    "params = {'rid': example_node_rid}\n",
    "r = requests.get(f\"{basic_url}bel/adjacent_nodes_by_rid\", params=params)\n",
    "df = pd.DataFrame(r.json())\n",
    "df.head(1)"
   ]
  },
  {
   "cell_type": "code",
   "execution_count": 23,
   "id": "f3733cc1",
   "metadata": {
    "pycharm": {
     "name": "#%%\n"
    }
   },
   "outputs": [
    {
     "data": {
      "text/html": [
       "<div>\n",
       "<style scoped>\n",
       "    .dataframe tbody tr th:only-of-type {\n",
       "        vertical-align: middle;\n",
       "    }\n",
       "\n",
       "    .dataframe tbody tr th {\n",
       "        vertical-align: top;\n",
       "    }\n",
       "\n",
       "    .dataframe thead th {\n",
       "        text-align: right;\n",
       "    }\n",
       "</style>\n",
       "<table border=\"1\" class=\"dataframe\">\n",
       "  <thead>\n",
       "    <tr style=\"text-align: right;\">\n",
       "      <th></th>\n",
       "      <th>bel</th>\n",
       "      <th>direction</th>\n",
       "      <th>edge_class</th>\n",
       "      <th>edge_rid</th>\n",
       "      <th>involved_genes</th>\n",
       "      <th>involved_other</th>\n",
       "      <th>name</th>\n",
       "      <th>namespace</th>\n",
       "      <th>node_class</th>\n",
       "      <th>node_rid</th>\n",
       "    </tr>\n",
       "  </thead>\n",
       "  <tbody>\n",
       "    <tr>\n",
       "      <th>30</th>\n",
       "      <td>a(CHEBI:\"florbetaben ((18)F)\")</td>\n",
       "      <td>out</td>\n",
       "      <td>positive_correlation</td>\n",
       "      <td>#682:48</td>\n",
       "      <td>[]</td>\n",
       "      <td>[florbetaben ((18)F)]</td>\n",
       "      <td>florbetaben ((18)F)</td>\n",
       "      <td>CHEBI</td>\n",
       "      <td>abundance</td>\n",
       "      <td>#136:9</td>\n",
       "    </tr>\n",
       "  </tbody>\n",
       "</table>\n",
       "</div>"
      ],
      "text/plain": [
       "                               bel direction            edge_class edge_rid  \\\n",
       "30  a(CHEBI:\"florbetaben ((18)F)\")       out  positive_correlation  #682:48   \n",
       "\n",
       "   involved_genes         involved_other                 name namespace  \\\n",
       "30             []  [florbetaben ((18)F)]  florbetaben ((18)F)     CHEBI   \n",
       "\n",
       "   node_class node_rid  \n",
       "30  abundance   #136:9  "
      ]
     },
     "execution_count": 23,
     "metadata": {},
     "output_type": "execute_result"
    }
   ],
   "source": [
    "df.tail(1)"
   ]
  },
  {
   "cell_type": "markdown",
   "id": "36228853",
   "metadata": {
    "pycharm": {
     "name": "#%% md\n"
    }
   },
   "source": [
    "#### Relation type"
   ]
  },
  {
   "cell_type": "markdown",
   "id": "36c5f57c",
   "metadata": {
    "pycharm": {
     "name": "#%% md\n"
    }
   },
   "source": [
    "Following relation types are available"
   ]
  },
  {
   "cell_type": "code",
   "execution_count": 24,
   "id": "c9542152",
   "metadata": {
    "pycharm": {
     "name": "#%%\n"
    }
   },
   "outputs": [
    {
     "name": "stdout",
     "output_type": "stream",
     "text": [
      "['bel_relation', 'association', 'causal', 'correlative', 'decreases', 'directly_decreases', 'directly_increases', 'equivalent_to', 'genomic', 'has_component', 'has_components', 'has_member', 'has_members', 'increases', 'is_a', 'negative_correlation', 'no_correlation', 'orthologous', 'other', 'positive_correlation', 'rate_limiting_step_of', 'regulates', 'sub_process_of', 'transcribed_to', 'translated_to']\n"
     ]
    }
   ],
   "source": [
    "print(get_enums('adjacent_nodes_by_rid', 'relation'))"
   ]
  },
  {
   "cell_type": "code",
   "execution_count": 25,
   "id": "40a82042",
   "metadata": {
    "pycharm": {
     "name": "#%%\n"
    }
   },
   "outputs": [
    {
     "data": {
      "text/html": [
       "<div>\n",
       "<style scoped>\n",
       "    .dataframe tbody tr th:only-of-type {\n",
       "        vertical-align: middle;\n",
       "    }\n",
       "\n",
       "    .dataframe tbody tr th {\n",
       "        vertical-align: top;\n",
       "    }\n",
       "\n",
       "    .dataframe thead th {\n",
       "        text-align: right;\n",
       "    }\n",
       "</style>\n",
       "<table border=\"1\" class=\"dataframe\">\n",
       "  <thead>\n",
       "    <tr style=\"text-align: right;\">\n",
       "      <th></th>\n",
       "      <th>bel</th>\n",
       "      <th>direction</th>\n",
       "      <th>edge_class</th>\n",
       "      <th>edge_rid</th>\n",
       "      <th>involved_genes</th>\n",
       "      <th>involved_other</th>\n",
       "      <th>name</th>\n",
       "      <th>namespace</th>\n",
       "      <th>node_class</th>\n",
       "      <th>node_rid</th>\n",
       "    </tr>\n",
       "  </thead>\n",
       "  <tbody>\n",
       "    <tr>\n",
       "      <th>0</th>\n",
       "      <td>bp(GOBP:\"inflammatory response\")</td>\n",
       "      <td>in</td>\n",
       "      <td>increases</td>\n",
       "      <td>#554:0</td>\n",
       "      <td>[]</td>\n",
       "      <td>[inflammatory response]</td>\n",
       "      <td>inflammatory response</td>\n",
       "      <td>GOBP</td>\n",
       "      <td>biological_process</td>\n",
       "      <td>#74:0</td>\n",
       "    </tr>\n",
       "  </tbody>\n",
       "</table>\n",
       "</div>"
      ],
      "text/plain": [
       "                                bel direction edge_class edge_rid  \\\n",
       "0  bp(GOBP:\"inflammatory response\")        in  increases   #554:0   \n",
       "\n",
       "  involved_genes           involved_other                   name namespace  \\\n",
       "0             []  [inflammatory response]  inflammatory response      GOBP   \n",
       "\n",
       "           node_class node_rid  \n",
       "0  biological_process    #74:0  "
      ]
     },
     "execution_count": 25,
     "metadata": {},
     "output_type": "execute_result"
    }
   ],
   "source": [
    "params = {'rid': example_node_rid, 'relation': 'increases'}\n",
    "r = requests.get(f\"{basic_url}bel/adjacent_nodes_by_rid\", params=params)\n",
    "df = pd.DataFrame(r.json())\n",
    "df.head(1)"
   ]
  },
  {
   "cell_type": "markdown",
   "id": "96070773",
   "metadata": {
    "pycharm": {
     "name": "#%% md\n"
    }
   },
   "source": [
    "### Edges by annoation"
   ]
  },
  {
   "cell_type": "code",
   "execution_count": 26,
   "id": "76bac0c8",
   "metadata": {
    "pycharm": {
     "name": "#%%\n"
    }
   },
   "outputs": [
    {
     "name": "stdout",
     "output_type": "stream",
     "text": [
      "number_of_results: 211\n",
      "page: 2\n",
      "pages: 71\n",
      "page_size: 3\n",
      "edges with mesh substance: CD11b Antigen\n"
     ]
    },
    {
     "data": {
      "text/html": [
       "<div>\n",
       "<style scoped>\n",
       "    .dataframe tbody tr th:only-of-type {\n",
       "        vertical-align: middle;\n",
       "    }\n",
       "\n",
       "    .dataframe tbody tr th {\n",
       "        vertical-align: top;\n",
       "    }\n",
       "\n",
       "    .dataframe thead th {\n",
       "        text-align: right;\n",
       "    }\n",
       "</style>\n",
       "<table border=\"1\" class=\"dataframe\">\n",
       "  <thead>\n",
       "    <tr style=\"text-align: right;\">\n",
       "      <th></th>\n",
       "      <th>annotation_key</th>\n",
       "      <th>author_in_author_list</th>\n",
       "      <th>citation_full_journal_name</th>\n",
       "      <th>citation_last_author</th>\n",
       "      <th>citation_pub_date</th>\n",
       "      <th>citation_pub_year</th>\n",
       "      <th>citation_type</th>\n",
       "      <th>doi</th>\n",
       "      <th>evidence</th>\n",
       "      <th>object_bel</th>\n",
       "      <th>...</th>\n",
       "      <th>relation</th>\n",
       "      <th>relation_rid</th>\n",
       "      <th>subject_bel</th>\n",
       "      <th>subject_gene_symbol_involved_in</th>\n",
       "      <th>subject_name</th>\n",
       "      <th>subject_namespace</th>\n",
       "      <th>subject_node_class</th>\n",
       "      <th>subject_other_involved_in</th>\n",
       "      <th>subject_rid</th>\n",
       "      <th>title</th>\n",
       "    </tr>\n",
       "  </thead>\n",
       "  <tbody>\n",
       "    <tr>\n",
       "      <th>0</th>\n",
       "      <td>[CD11b Antigen, ITGAM protein, human]</td>\n",
       "      <td>[Galatro TF, Holtman IR, Lerario AM, Vainchtei...</td>\n",
       "      <td>Nature neuroscience</td>\n",
       "      <td>Eggen BJL</td>\n",
       "      <td>2017-09-05</td>\n",
       "      <td>2017</td>\n",
       "      <td>PubMed</td>\n",
       "      <td>10.1038/nn.4597</td>\n",
       "      <td>A network involved in cell motility and inflam...</td>\n",
       "      <td>r(HGNC:\"ITGB2\")</td>\n",
       "      <td>...</td>\n",
       "      <td>increases</td>\n",
       "      <td>#554:52</td>\n",
       "      <td>a(MESHA:\"Microglia\")</td>\n",
       "      <td>[]</td>\n",
       "      <td>Microglia</td>\n",
       "      <td>MESHA</td>\n",
       "      <td>abundance</td>\n",
       "      <td>[Microglia]</td>\n",
       "      <td>#122:0</td>\n",
       "      <td>Transcriptomic analysis of purified human cort...</td>\n",
       "    </tr>\n",
       "    <tr>\n",
       "      <th>1</th>\n",
       "      <td>[CD11b Antigen, ITGAM protein, human]</td>\n",
       "      <td>[Galatro TF, Holtman IR, Lerario AM, Vainchtei...</td>\n",
       "      <td>Nature neuroscience</td>\n",
       "      <td>Eggen BJL</td>\n",
       "      <td>2017-09-05</td>\n",
       "      <td>2017</td>\n",
       "      <td>PubMed</td>\n",
       "      <td>10.1038/nn.4597</td>\n",
       "      <td>ERAP2, along with the closely related ERAP1, a...</td>\n",
       "      <td>r(HGNC:\"ERAP2\")</td>\n",
       "      <td>...</td>\n",
       "      <td>increases</td>\n",
       "      <td>#554:53</td>\n",
       "      <td>a(MESHA:\"Microglia\")</td>\n",
       "      <td>[]</td>\n",
       "      <td>Microglia</td>\n",
       "      <td>MESHA</td>\n",
       "      <td>abundance</td>\n",
       "      <td>[Microglia]</td>\n",
       "      <td>#122:0</td>\n",
       "      <td>Transcriptomic analysis of purified human cort...</td>\n",
       "    </tr>\n",
       "    <tr>\n",
       "      <th>2</th>\n",
       "      <td>[CD11b Antigen, ITGAM protein, human]</td>\n",
       "      <td>[Galatro TF, Holtman IR, Lerario AM, Vainchtei...</td>\n",
       "      <td>Nature neuroscience</td>\n",
       "      <td>Eggen BJL</td>\n",
       "      <td>2017-09-05</td>\n",
       "      <td>2017</td>\n",
       "      <td>PubMed</td>\n",
       "      <td>10.1038/nn.4597</td>\n",
       "      <td>The target list contains many established micr...</td>\n",
       "      <td>r(HGNC:\"AIF1\")</td>\n",
       "      <td>...</td>\n",
       "      <td>increases</td>\n",
       "      <td>#554:54</td>\n",
       "      <td>a(MESHA:\"Microglia\")</td>\n",
       "      <td>[]</td>\n",
       "      <td>Microglia</td>\n",
       "      <td>MESHA</td>\n",
       "      <td>abundance</td>\n",
       "      <td>[Microglia]</td>\n",
       "      <td>#122:0</td>\n",
       "      <td>Transcriptomic analysis of purified human cort...</td>\n",
       "    </tr>\n",
       "  </tbody>\n",
       "</table>\n",
       "<p>3 rows × 26 columns</p>\n",
       "</div>"
      ],
      "text/plain": [
       "                          annotation_key  \\\n",
       "0  [CD11b Antigen, ITGAM protein, human]   \n",
       "1  [CD11b Antigen, ITGAM protein, human]   \n",
       "2  [CD11b Antigen, ITGAM protein, human]   \n",
       "\n",
       "                               author_in_author_list  \\\n",
       "0  [Galatro TF, Holtman IR, Lerario AM, Vainchtei...   \n",
       "1  [Galatro TF, Holtman IR, Lerario AM, Vainchtei...   \n",
       "2  [Galatro TF, Holtman IR, Lerario AM, Vainchtei...   \n",
       "\n",
       "  citation_full_journal_name citation_last_author citation_pub_date  \\\n",
       "0        Nature neuroscience            Eggen BJL        2017-09-05   \n",
       "1        Nature neuroscience            Eggen BJL        2017-09-05   \n",
       "2        Nature neuroscience            Eggen BJL        2017-09-05   \n",
       "\n",
       "   citation_pub_year citation_type              doi  \\\n",
       "0               2017        PubMed  10.1038/nn.4597   \n",
       "1               2017        PubMed  10.1038/nn.4597   \n",
       "2               2017        PubMed  10.1038/nn.4597   \n",
       "\n",
       "                                            evidence       object_bel  ...  \\\n",
       "0  A network involved in cell motility and inflam...  r(HGNC:\"ITGB2\")  ...   \n",
       "1  ERAP2, along with the closely related ERAP1, a...  r(HGNC:\"ERAP2\")  ...   \n",
       "2  The target list contains many established micr...   r(HGNC:\"AIF1\")  ...   \n",
       "\n",
       "    relation relation_rid           subject_bel  \\\n",
       "0  increases      #554:52  a(MESHA:\"Microglia\")   \n",
       "1  increases      #554:53  a(MESHA:\"Microglia\")   \n",
       "2  increases      #554:54  a(MESHA:\"Microglia\")   \n",
       "\n",
       "  subject_gene_symbol_involved_in subject_name subject_namespace  \\\n",
       "0                              []    Microglia             MESHA   \n",
       "1                              []    Microglia             MESHA   \n",
       "2                              []    Microglia             MESHA   \n",
       "\n",
       "  subject_node_class subject_other_involved_in subject_rid  \\\n",
       "0          abundance               [Microglia]      #122:0   \n",
       "1          abundance               [Microglia]      #122:0   \n",
       "2          abundance               [Microglia]      #122:0   \n",
       "\n",
       "                                               title  \n",
       "0  Transcriptomic analysis of purified human cort...  \n",
       "1  Transcriptomic analysis of purified human cort...  \n",
       "2  Transcriptomic analysis of purified human cort...  \n",
       "\n",
       "[3 rows x 26 columns]"
      ]
     },
     "execution_count": 26,
     "metadata": {},
     "output_type": "execute_result"
    }
   ],
   "source": [
    "params = {'annotation_key': \"substances\", 'annotation_term': example_substance, 'page': 2, 'page_size':3}\n",
    "r = get_api_result('bel/edge_by_annotation', **params)\n",
    "r.print_page_info()\n",
    "print(\"edges with mesh substance:\", example_substance)\n",
    "r.as_df()"
   ]
  },
  {
   "cell_type": "markdown",
   "id": "e7d078bf",
   "metadata": {
    "pycharm": {
     "name": "#%% md\n"
    }
   },
   "source": [
    "### edges"
   ]
  },
  {
   "cell_type": "markdown",
   "id": "f98eea71",
   "metadata": {
    "pycharm": {
     "name": "#%% md\n"
    }
   },
   "source": [
    "This is a complex method with many parameters."
   ]
  },
  {
   "cell_type": "code",
   "execution_count": 27,
   "id": "85bf4883",
   "metadata": {
    "pycharm": {
     "name": "#%%\n"
    }
   },
   "outputs": [
    {
     "name": "stdout",
     "output_type": "stream",
     "text": [
      "[{'description': 'You can also use several rids seperated by comma', 'in': 'query', 'name': 'subject_rid', 'schema': {'type': 'string'}}, {'in': 'query', 'name': 'subject_node_class', 'schema': {'enum': ['gene', 'rna', 'protein', 'abundance', 'activity', 'biological_process', 'complex', 'micro_rna', 'pathology', 'population'], 'example': 'protein', 'type': 'string'}}, {'in': 'query', 'name': 'subject_namespace', 'schema': {'example': 'HGNC', 'type': 'string'}}, {'description': 'use % as wildcard', 'in': 'query', 'name': 'subject_name', 'schema': {'example': 'IL4', 'type': 'string'}}, {'description': 'use % as wildcard', 'in': 'query', 'name': 'subject_bel', 'schema': {'type': 'string'}}, {'in': 'query', 'name': 'subject_gene_symbol_involved_in', 'schema': {'type': 'string'}}, {'in': 'query', 'name': 'subject_other_involved_in', 'schema': {'type': 'string'}}, {'description': 'You can also use several rids seperated by comma', 'in': 'query', 'name': 'edge_rid', 'schema': {'type': 'string'}}, {'in': 'query', 'name': 'relation', 'schema': {'enum': ['bel_relation', 'association', 'causal', 'correlative', 'decreases', 'directly_decreases', 'directly_increases', 'equivalent_to', 'genomic', 'has_component', 'has_components', 'has_member', 'has_members', 'increases', 'is_a', 'negative_correlation', 'no_correlation', 'orthologous', 'other', 'positive_correlation', 'rate_limiting_step_of', 'regulates', 'sub_process_of', 'transcribed_to', 'translated_to'], 'example': 'increases', 'type': 'string'}}, {'description': 'use % as wildcard', 'in': 'query', 'name': 'evidence', 'schema': {'example': None, 'type': 'string'}}, {'description': 'use % as wildcard', 'in': 'query', 'name': 'citation_full_journal_name', 'schema': {'example': 'Molecular neurodegeneration', 'type': 'string'}}, {'in': 'query', 'name': 'citation_pub_date', 'schema': {'example': '2018-06-12', 'type': 'string'}}, {'in': 'query', 'name': 'citation_pub_year', 'schema': {'example': 2018, 'type': 'integer'}}, {'description': 'use % as wildcard', 'in': 'query', 'name': 'citation_last_author', 'schema': {'example': 'Landreth GE', 'type': 'string'}}, {'in': 'query', 'name': 'citation_type', 'schema': {'example': 'PubMed', 'type': 'string'}}, {'in': 'query', 'name': 'author_in_author_list', 'schema': {'type': 'string'}}, {'description': 'use % as wildcard', 'in': 'query', 'name': 'title', 'schema': {'example': 'TREM2 in Neurodegenerative Diseases.', 'type': 'string'}}, {'in': 'query', 'name': 'doi', 'schema': {'example': '10.1186/s13024-017-0197-5', 'type': 'string'}}, {'description': 'You can also use several rids seperated by comma', 'in': 'query', 'name': 'object_rid', 'schema': {'type': 'string'}}, {'in': 'query', 'name': 'object_node_class', 'schema': {'enum': ['gene', 'rna', 'protein', 'abundance', 'activity', 'biological_process', 'complex', 'micro_rna', 'pathology', 'population'], 'example': 'protein', 'type': 'string'}}, {'in': 'query', 'name': 'object_namespace', 'schema': {'example': 'HGNC', 'type': 'string'}}, {'in': 'query', 'name': 'object_name', 'schema': {'description': 'use % as wildcard', 'example': 'TREM2', 'type': 'string'}}, {'in': 'query', 'name': 'object_bel', 'schema': {'type': 'string'}}, {'in': 'query', 'name': 'object_gene_symbol_involved_in', 'schema': {'type': 'string'}}, {'in': 'query', 'name': 'object_other_involved_in', 'schema': {'type': 'string'}}, {'description': 'Results per page', 'in': 'query', 'name': 'page_size', 'required': False, 'schema': {'default': 10, 'example': 10, 'maximum': 100, 'minimum': 1, 'type': 'integer'}}, {'description': 'Page number (starting with 1)', 'in': 'query', 'name': 'page', 'required': False, 'schema': {'default': 1, 'example': 1, 'type': 'integer'}}]\n"
     ]
    },
    {
     "data": {
      "text/html": [
       "<div>\n",
       "<style scoped>\n",
       "    .dataframe tbody tr th:only-of-type {\n",
       "        vertical-align: middle;\n",
       "    }\n",
       "\n",
       "    .dataframe tbody tr th {\n",
       "        vertical-align: top;\n",
       "    }\n",
       "\n",
       "    .dataframe thead th {\n",
       "        text-align: right;\n",
       "    }\n",
       "</style>\n",
       "<table border=\"1\" class=\"dataframe\">\n",
       "  <thead>\n",
       "    <tr style=\"text-align: right;\">\n",
       "      <th></th>\n",
       "      <th>description</th>\n",
       "      <th>required</th>\n",
       "      <th>dtype</th>\n",
       "      <th>example</th>\n",
       "      <th>options</th>\n",
       "    </tr>\n",
       "    <tr>\n",
       "      <th>name</th>\n",
       "      <th></th>\n",
       "      <th></th>\n",
       "      <th></th>\n",
       "      <th></th>\n",
       "      <th></th>\n",
       "    </tr>\n",
       "  </thead>\n",
       "  <tbody>\n",
       "    <tr>\n",
       "      <th>subject_rid</th>\n",
       "      <td>You can also use several rids seperated by comma</td>\n",
       "      <td>False</td>\n",
       "      <td>string</td>\n",
       "      <td>None</td>\n",
       "      <td></td>\n",
       "    </tr>\n",
       "    <tr>\n",
       "      <th>subject_node_class</th>\n",
       "      <td></td>\n",
       "      <td>False</td>\n",
       "      <td>string</td>\n",
       "      <td>protein</td>\n",
       "      <td>[gene, rna, protein, abundance, activity, biol...</td>\n",
       "    </tr>\n",
       "    <tr>\n",
       "      <th>subject_namespace</th>\n",
       "      <td></td>\n",
       "      <td>False</td>\n",
       "      <td>string</td>\n",
       "      <td>HGNC</td>\n",
       "      <td></td>\n",
       "    </tr>\n",
       "    <tr>\n",
       "      <th>subject_name</th>\n",
       "      <td>use % as wildcard</td>\n",
       "      <td>False</td>\n",
       "      <td>string</td>\n",
       "      <td>IL4</td>\n",
       "      <td></td>\n",
       "    </tr>\n",
       "    <tr>\n",
       "      <th>subject_bel</th>\n",
       "      <td>use % as wildcard</td>\n",
       "      <td>False</td>\n",
       "      <td>string</td>\n",
       "      <td>None</td>\n",
       "      <td></td>\n",
       "    </tr>\n",
       "    <tr>\n",
       "      <th>subject_gene_symbol_involved_in</th>\n",
       "      <td></td>\n",
       "      <td>False</td>\n",
       "      <td>string</td>\n",
       "      <td>None</td>\n",
       "      <td></td>\n",
       "    </tr>\n",
       "    <tr>\n",
       "      <th>subject_other_involved_in</th>\n",
       "      <td></td>\n",
       "      <td>False</td>\n",
       "      <td>string</td>\n",
       "      <td>None</td>\n",
       "      <td></td>\n",
       "    </tr>\n",
       "    <tr>\n",
       "      <th>edge_rid</th>\n",
       "      <td>You can also use several rids seperated by comma</td>\n",
       "      <td>False</td>\n",
       "      <td>string</td>\n",
       "      <td>None</td>\n",
       "      <td></td>\n",
       "    </tr>\n",
       "    <tr>\n",
       "      <th>relation</th>\n",
       "      <td></td>\n",
       "      <td>False</td>\n",
       "      <td>string</td>\n",
       "      <td>increases</td>\n",
       "      <td>[bel_relation, association, causal, correlativ...</td>\n",
       "    </tr>\n",
       "    <tr>\n",
       "      <th>evidence</th>\n",
       "      <td>use % as wildcard</td>\n",
       "      <td>False</td>\n",
       "      <td>string</td>\n",
       "      <td>None</td>\n",
       "      <td></td>\n",
       "    </tr>\n",
       "    <tr>\n",
       "      <th>citation_full_journal_name</th>\n",
       "      <td>use % as wildcard</td>\n",
       "      <td>False</td>\n",
       "      <td>string</td>\n",
       "      <td>Molecular neurodegeneration</td>\n",
       "      <td></td>\n",
       "    </tr>\n",
       "    <tr>\n",
       "      <th>citation_pub_date</th>\n",
       "      <td></td>\n",
       "      <td>False</td>\n",
       "      <td>string</td>\n",
       "      <td>2018-06-12</td>\n",
       "      <td></td>\n",
       "    </tr>\n",
       "    <tr>\n",
       "      <th>citation_pub_year</th>\n",
       "      <td></td>\n",
       "      <td>False</td>\n",
       "      <td>integer</td>\n",
       "      <td>2018</td>\n",
       "      <td></td>\n",
       "    </tr>\n",
       "    <tr>\n",
       "      <th>citation_last_author</th>\n",
       "      <td>use % as wildcard</td>\n",
       "      <td>False</td>\n",
       "      <td>string</td>\n",
       "      <td>Landreth GE</td>\n",
       "      <td></td>\n",
       "    </tr>\n",
       "    <tr>\n",
       "      <th>citation_type</th>\n",
       "      <td></td>\n",
       "      <td>False</td>\n",
       "      <td>string</td>\n",
       "      <td>PubMed</td>\n",
       "      <td></td>\n",
       "    </tr>\n",
       "    <tr>\n",
       "      <th>author_in_author_list</th>\n",
       "      <td></td>\n",
       "      <td>False</td>\n",
       "      <td>string</td>\n",
       "      <td>None</td>\n",
       "      <td></td>\n",
       "    </tr>\n",
       "    <tr>\n",
       "      <th>title</th>\n",
       "      <td>use % as wildcard</td>\n",
       "      <td>False</td>\n",
       "      <td>string</td>\n",
       "      <td>TREM2 in Neurodegenerative Diseases.</td>\n",
       "      <td></td>\n",
       "    </tr>\n",
       "    <tr>\n",
       "      <th>doi</th>\n",
       "      <td></td>\n",
       "      <td>False</td>\n",
       "      <td>string</td>\n",
       "      <td>10.1186/s13024-017-0197-5</td>\n",
       "      <td></td>\n",
       "    </tr>\n",
       "    <tr>\n",
       "      <th>object_rid</th>\n",
       "      <td>You can also use several rids seperated by comma</td>\n",
       "      <td>False</td>\n",
       "      <td>string</td>\n",
       "      <td>None</td>\n",
       "      <td></td>\n",
       "    </tr>\n",
       "    <tr>\n",
       "      <th>object_node_class</th>\n",
       "      <td></td>\n",
       "      <td>False</td>\n",
       "      <td>string</td>\n",
       "      <td>protein</td>\n",
       "      <td>[gene, rna, protein, abundance, activity, biol...</td>\n",
       "    </tr>\n",
       "    <tr>\n",
       "      <th>object_namespace</th>\n",
       "      <td></td>\n",
       "      <td>False</td>\n",
       "      <td>string</td>\n",
       "      <td>HGNC</td>\n",
       "      <td></td>\n",
       "    </tr>\n",
       "    <tr>\n",
       "      <th>object_name</th>\n",
       "      <td></td>\n",
       "      <td>False</td>\n",
       "      <td>string</td>\n",
       "      <td>TREM2</td>\n",
       "      <td></td>\n",
       "    </tr>\n",
       "    <tr>\n",
       "      <th>object_bel</th>\n",
       "      <td></td>\n",
       "      <td>False</td>\n",
       "      <td>string</td>\n",
       "      <td>None</td>\n",
       "      <td></td>\n",
       "    </tr>\n",
       "    <tr>\n",
       "      <th>object_gene_symbol_involved_in</th>\n",
       "      <td></td>\n",
       "      <td>False</td>\n",
       "      <td>string</td>\n",
       "      <td>None</td>\n",
       "      <td></td>\n",
       "    </tr>\n",
       "    <tr>\n",
       "      <th>object_other_involved_in</th>\n",
       "      <td></td>\n",
       "      <td>False</td>\n",
       "      <td>string</td>\n",
       "      <td>None</td>\n",
       "      <td></td>\n",
       "    </tr>\n",
       "    <tr>\n",
       "      <th>page_size</th>\n",
       "      <td>Results per page</td>\n",
       "      <td>False</td>\n",
       "      <td>integer</td>\n",
       "      <td>10</td>\n",
       "      <td></td>\n",
       "    </tr>\n",
       "    <tr>\n",
       "      <th>page</th>\n",
       "      <td>Page number (starting with 1)</td>\n",
       "      <td>False</td>\n",
       "      <td>integer</td>\n",
       "      <td>1</td>\n",
       "      <td></td>\n",
       "    </tr>\n",
       "  </tbody>\n",
       "</table>\n",
       "</div>"
      ],
      "text/plain": [
       "                                                                      description  \\\n",
       "name                                                                                \n",
       "subject_rid                      You can also use several rids seperated by comma   \n",
       "subject_node_class                                                                  \n",
       "subject_namespace                                                                   \n",
       "subject_name                                                    use % as wildcard   \n",
       "subject_bel                                                     use % as wildcard   \n",
       "subject_gene_symbol_involved_in                                                     \n",
       "subject_other_involved_in                                                           \n",
       "edge_rid                         You can also use several rids seperated by comma   \n",
       "relation                                                                            \n",
       "evidence                                                        use % as wildcard   \n",
       "citation_full_journal_name                                      use % as wildcard   \n",
       "citation_pub_date                                                                   \n",
       "citation_pub_year                                                                   \n",
       "citation_last_author                                            use % as wildcard   \n",
       "citation_type                                                                       \n",
       "author_in_author_list                                                               \n",
       "title                                                           use % as wildcard   \n",
       "doi                                                                                 \n",
       "object_rid                       You can also use several rids seperated by comma   \n",
       "object_node_class                                                                   \n",
       "object_namespace                                                                    \n",
       "object_name                                                                         \n",
       "object_bel                                                                          \n",
       "object_gene_symbol_involved_in                                                      \n",
       "object_other_involved_in                                                            \n",
       "page_size                                                        Results per page   \n",
       "page                                                Page number (starting with 1)   \n",
       "\n",
       "                                 required    dtype  \\\n",
       "name                                                 \n",
       "subject_rid                         False   string   \n",
       "subject_node_class                  False   string   \n",
       "subject_namespace                   False   string   \n",
       "subject_name                        False   string   \n",
       "subject_bel                         False   string   \n",
       "subject_gene_symbol_involved_in     False   string   \n",
       "subject_other_involved_in           False   string   \n",
       "edge_rid                            False   string   \n",
       "relation                            False   string   \n",
       "evidence                            False   string   \n",
       "citation_full_journal_name          False   string   \n",
       "citation_pub_date                   False   string   \n",
       "citation_pub_year                   False  integer   \n",
       "citation_last_author                False   string   \n",
       "citation_type                       False   string   \n",
       "author_in_author_list               False   string   \n",
       "title                               False   string   \n",
       "doi                                 False   string   \n",
       "object_rid                          False   string   \n",
       "object_node_class                   False   string   \n",
       "object_namespace                    False   string   \n",
       "object_name                         False   string   \n",
       "object_bel                          False   string   \n",
       "object_gene_symbol_involved_in      False   string   \n",
       "object_other_involved_in            False   string   \n",
       "page_size                           False  integer   \n",
       "page                                False  integer   \n",
       "\n",
       "                                                              example  \\\n",
       "name                                                                    \n",
       "subject_rid                                                      None   \n",
       "subject_node_class                                            protein   \n",
       "subject_namespace                                                HGNC   \n",
       "subject_name                                                      IL4   \n",
       "subject_bel                                                      None   \n",
       "subject_gene_symbol_involved_in                                  None   \n",
       "subject_other_involved_in                                        None   \n",
       "edge_rid                                                         None   \n",
       "relation                                                    increases   \n",
       "evidence                                                         None   \n",
       "citation_full_journal_name                Molecular neurodegeneration   \n",
       "citation_pub_date                                          2018-06-12   \n",
       "citation_pub_year                                                2018   \n",
       "citation_last_author                                      Landreth GE   \n",
       "citation_type                                                  PubMed   \n",
       "author_in_author_list                                            None   \n",
       "title                            TREM2 in Neurodegenerative Diseases.   \n",
       "doi                                         10.1186/s13024-017-0197-5   \n",
       "object_rid                                                       None   \n",
       "object_node_class                                             protein   \n",
       "object_namespace                                                 HGNC   \n",
       "object_name                                                     TREM2   \n",
       "object_bel                                                       None   \n",
       "object_gene_symbol_involved_in                                   None   \n",
       "object_other_involved_in                                         None   \n",
       "page_size                                                          10   \n",
       "page                                                                1   \n",
       "\n",
       "                                                                           options  \n",
       "name                                                                                \n",
       "subject_rid                                                                         \n",
       "subject_node_class               [gene, rna, protein, abundance, activity, biol...  \n",
       "subject_namespace                                                                   \n",
       "subject_name                                                                        \n",
       "subject_bel                                                                         \n",
       "subject_gene_symbol_involved_in                                                     \n",
       "subject_other_involved_in                                                           \n",
       "edge_rid                                                                            \n",
       "relation                         [bel_relation, association, causal, correlativ...  \n",
       "evidence                                                                            \n",
       "citation_full_journal_name                                                          \n",
       "citation_pub_date                                                                   \n",
       "citation_pub_year                                                                   \n",
       "citation_last_author                                                                \n",
       "citation_type                                                                       \n",
       "author_in_author_list                                                               \n",
       "title                                                                               \n",
       "doi                                                                                 \n",
       "object_rid                                                                          \n",
       "object_node_class                [gene, rna, protein, abundance, activity, biol...  \n",
       "object_namespace                                                                    \n",
       "object_name                                                                         \n",
       "object_bel                                                                          \n",
       "object_gene_symbol_involved_in                                                      \n",
       "object_other_involved_in                                                            \n",
       "page_size                                                                           \n",
       "page                                                                                "
      ]
     },
     "execution_count": 27,
     "metadata": {},
     "output_type": "execute_result"
    }
   ],
   "source": [
    "get_params('edges')"
   ]
  },
  {
   "cell_type": "code",
   "execution_count": 28,
   "id": "ae32ed5e",
   "metadata": {
    "pycharm": {
     "name": "#%%\n"
    }
   },
   "outputs": [
    {
     "name": "stdout",
     "output_type": "stream",
     "text": [
      "number_of_results: 1817\n",
      "page: 2\n",
      "pages: 606\n",
      "page_size: 3\n"
     ]
    },
    {
     "data": {
      "text/html": [
       "<div>\n",
       "<style scoped>\n",
       "    .dataframe tbody tr th:only-of-type {\n",
       "        vertical-align: middle;\n",
       "    }\n",
       "\n",
       "    .dataframe tbody tr th {\n",
       "        vertical-align: top;\n",
       "    }\n",
       "\n",
       "    .dataframe thead th {\n",
       "        text-align: right;\n",
       "    }\n",
       "</style>\n",
       "<table border=\"1\" class=\"dataframe\">\n",
       "  <thead>\n",
       "    <tr style=\"text-align: right;\">\n",
       "      <th></th>\n",
       "      <th>author_in_author_list</th>\n",
       "      <th>citation_full_journal_name</th>\n",
       "      <th>citation_last_author</th>\n",
       "      <th>citation_pub_date</th>\n",
       "      <th>citation_pub_year</th>\n",
       "      <th>citation_type</th>\n",
       "      <th>doi</th>\n",
       "      <th>evidence</th>\n",
       "      <th>object_bel</th>\n",
       "      <th>object_gene_symbol_involved_in</th>\n",
       "      <th>...</th>\n",
       "      <th>relation</th>\n",
       "      <th>relation_rid</th>\n",
       "      <th>subject_bel</th>\n",
       "      <th>subject_gene_symbol_involved_in</th>\n",
       "      <th>subject_node_class</th>\n",
       "      <th>subject_other_involved_in</th>\n",
       "      <th>subject_rid</th>\n",
       "      <th>title</th>\n",
       "      <th>subject_name</th>\n",
       "      <th>subject_namespace</th>\n",
       "    </tr>\n",
       "  </thead>\n",
       "  <tbody>\n",
       "    <tr>\n",
       "      <th>0</th>\n",
       "      <td>[Xiang X, Werner G, Bohrmann B, Liesz A, Mazah...</td>\n",
       "      <td>EMBO molecular medicine</td>\n",
       "      <td>Haass C</td>\n",
       "      <td>2017-09-25</td>\n",
       "      <td>2017</td>\n",
       "      <td>PubMed</td>\n",
       "      <td>10.15252/emmm.201606370</td>\n",
       "      <td>It is well known that upon stimulation of TREM...</td>\n",
       "      <td>p(HGNC:\"SYK\",pmod(Ph))</td>\n",
       "      <td>[SYK]</td>\n",
       "      <td>...</td>\n",
       "      <td>increases</td>\n",
       "      <td>#554:3</td>\n",
       "      <td>act(p(SCOMP:\"FcR Gamma Chain Complex\"))</td>\n",
       "      <td>[FcR Gamma Chain Complex]</td>\n",
       "      <td>activity</td>\n",
       "      <td>[]</td>\n",
       "      <td>#237:0</td>\n",
       "      <td>TREM2 deficiency reduces the efficacy of immun...</td>\n",
       "      <td>NaN</td>\n",
       "      <td>NaN</td>\n",
       "    </tr>\n",
       "    <tr>\n",
       "      <th>1</th>\n",
       "      <td>[Sieber MW, Jaenisch N, Brehm M, Guenther M, L...</td>\n",
       "      <td>PloS one</td>\n",
       "      <td>Frahm C</td>\n",
       "      <td>2013-08-20</td>\n",
       "      <td>2013</td>\n",
       "      <td>PubMed</td>\n",
       "      <td>10.1371/journal.pone.0052982</td>\n",
       "      <td>At 7 d after MCAO, transcription of TNFα, IL-1...</td>\n",
       "      <td>r(MGI:\"Il1b\")</td>\n",
       "      <td>[Il1b]</td>\n",
       "      <td>...</td>\n",
       "      <td>increases</td>\n",
       "      <td>#554:4</td>\n",
       "      <td>p(MGI:\"Trem2\")</td>\n",
       "      <td>[Trem2]</td>\n",
       "      <td>protein</td>\n",
       "      <td>[]</td>\n",
       "      <td>#192:3</td>\n",
       "      <td>Attenuated inflammatory response in triggering...</td>\n",
       "      <td>Trem2</td>\n",
       "      <td>MGI</td>\n",
       "    </tr>\n",
       "    <tr>\n",
       "      <th>2</th>\n",
       "      <td>[Linnartz B, Wang Y, Neumann H]</td>\n",
       "      <td>International journal of Alzheimer's disease</td>\n",
       "      <td>Neumann H</td>\n",
       "      <td>2011-07-14</td>\n",
       "      <td>2011</td>\n",
       "      <td>PubMed</td>\n",
       "      <td>10.4061/2010/587463</td>\n",
       "      <td>On the one hand, they are neurotoxic by produc...</td>\n",
       "      <td>p(HGNC:\"IL1B\")</td>\n",
       "      <td>[IL1B]</td>\n",
       "      <td>...</td>\n",
       "      <td>increases</td>\n",
       "      <td>#554:5</td>\n",
       "      <td>bp(GOBP:\"cytokine production involved in infla...</td>\n",
       "      <td>[]</td>\n",
       "      <td>biological_process</td>\n",
       "      <td>[cytokine production involved in inflammatory ...</td>\n",
       "      <td>#75:0</td>\n",
       "      <td>Microglial immunoreceptor tyrosine-based activ...</td>\n",
       "      <td>cytokine production involved in inflammatory r...</td>\n",
       "      <td>GOBP</td>\n",
       "    </tr>\n",
       "  </tbody>\n",
       "</table>\n",
       "<p>3 rows × 25 columns</p>\n",
       "</div>"
      ],
      "text/plain": [
       "                               author_in_author_list  \\\n",
       "0  [Xiang X, Werner G, Bohrmann B, Liesz A, Mazah...   \n",
       "1  [Sieber MW, Jaenisch N, Brehm M, Guenther M, L...   \n",
       "2                    [Linnartz B, Wang Y, Neumann H]   \n",
       "\n",
       "                     citation_full_journal_name citation_last_author  \\\n",
       "0                       EMBO molecular medicine              Haass C   \n",
       "1                                      PloS one              Frahm C   \n",
       "2  International journal of Alzheimer's disease            Neumann H   \n",
       "\n",
       "  citation_pub_date  citation_pub_year citation_type  \\\n",
       "0        2017-09-25               2017        PubMed   \n",
       "1        2013-08-20               2013        PubMed   \n",
       "2        2011-07-14               2011        PubMed   \n",
       "\n",
       "                            doi  \\\n",
       "0       10.15252/emmm.201606370   \n",
       "1  10.1371/journal.pone.0052982   \n",
       "2           10.4061/2010/587463   \n",
       "\n",
       "                                            evidence              object_bel  \\\n",
       "0  It is well known that upon stimulation of TREM...  p(HGNC:\"SYK\",pmod(Ph))   \n",
       "1  At 7 d after MCAO, transcription of TNFα, IL-1...           r(MGI:\"Il1b\")   \n",
       "2  On the one hand, they are neurotoxic by produc...          p(HGNC:\"IL1B\")   \n",
       "\n",
       "  object_gene_symbol_involved_in  ...   relation relation_rid  \\\n",
       "0                          [SYK]  ...  increases       #554:3   \n",
       "1                         [Il1b]  ...  increases       #554:4   \n",
       "2                         [IL1B]  ...  increases       #554:5   \n",
       "\n",
       "                                         subject_bel  \\\n",
       "0            act(p(SCOMP:\"FcR Gamma Chain Complex\"))   \n",
       "1                                     p(MGI:\"Trem2\")   \n",
       "2  bp(GOBP:\"cytokine production involved in infla...   \n",
       "\n",
       "  subject_gene_symbol_involved_in  subject_node_class  \\\n",
       "0       [FcR Gamma Chain Complex]            activity   \n",
       "1                         [Trem2]             protein   \n",
       "2                              []  biological_process   \n",
       "\n",
       "                           subject_other_involved_in subject_rid  \\\n",
       "0                                                 []      #237:0   \n",
       "1                                                 []      #192:3   \n",
       "2  [cytokine production involved in inflammatory ...       #75:0   \n",
       "\n",
       "                                               title  \\\n",
       "0  TREM2 deficiency reduces the efficacy of immun...   \n",
       "1  Attenuated inflammatory response in triggering...   \n",
       "2  Microglial immunoreceptor tyrosine-based activ...   \n",
       "\n",
       "                                        subject_name subject_namespace  \n",
       "0                                                NaN               NaN  \n",
       "1                                              Trem2               MGI  \n",
       "2  cytokine production involved in inflammatory r...              GOBP  \n",
       "\n",
       "[3 rows x 25 columns]"
      ]
     },
     "execution_count": 28,
     "metadata": {},
     "output_type": "execute_result"
    }
   ],
   "source": [
    "params = {'relation': \"increases\", 'page': 2, 'page_size':3}\n",
    "r = get_api_result('bel/edges', **params)\n",
    "r.print_page_info()\n",
    "r.as_df()"
   ]
  },
  {
   "cell_type": "markdown",
   "id": "0812e17e",
   "metadata": {
    "pycharm": {
     "name": "#%% md\n"
    }
   },
   "source": [
    "#### List all node types"
   ]
  },
  {
   "cell_type": "code",
   "execution_count": 29,
   "id": "8bdf6d5a",
   "metadata": {
    "pycharm": {
     "name": "#%%\n"
    }
   },
   "outputs": [
    {
     "data": {
      "text/html": [
       "<div>\n",
       "<style scoped>\n",
       "    .dataframe tbody tr th:only-of-type {\n",
       "        vertical-align: middle;\n",
       "    }\n",
       "\n",
       "    .dataframe tbody tr th {\n",
       "        vertical-align: top;\n",
       "    }\n",
       "\n",
       "    .dataframe thead th {\n",
       "        text-align: right;\n",
       "    }\n",
       "</style>\n",
       "<table border=\"1\" class=\"dataframe\">\n",
       "  <thead>\n",
       "    <tr style=\"text-align: right;\">\n",
       "      <th></th>\n",
       "      <th>abstract</th>\n",
       "      <th>children</th>\n",
       "      <th>in_relations</th>\n",
       "      <th>out_relations</th>\n",
       "      <th>parents_path</th>\n",
       "    </tr>\n",
       "  </thead>\n",
       "  <tbody>\n",
       "    <tr>\n",
       "      <th>abundance</th>\n",
       "      <td>False</td>\n",
       "      <td>[]</td>\n",
       "      <td>[has__abundance, has_located_abundance]</td>\n",
       "      <td>[has_located_abundance]</td>\n",
       "      <td>[abundance, bio_object, bel, V]</td>\n",
       "    </tr>\n",
       "    <tr>\n",
       "      <th>activity</th>\n",
       "      <td>False</td>\n",
       "      <td>[]</td>\n",
       "      <td></td>\n",
       "      <td></td>\n",
       "      <td>[activity, bio_act, bel, V]</td>\n",
       "    </tr>\n",
       "    <tr>\n",
       "      <th>bel</th>\n",
       "      <td>True</td>\n",
       "      <td>[{'abstract': False, 'name': 'bio_act'}, {'abs...</td>\n",
       "      <td>[translocates, correlative, sub_process_of, ha...</td>\n",
       "      <td>[translocates, correlative, sub_process_of, ha...</td>\n",
       "      <td>[bel, V]</td>\n",
       "    </tr>\n",
       "    <tr>\n",
       "      <th>bio_act</th>\n",
       "      <td>False</td>\n",
       "      <td>[{'abstract': False, 'name': 'degradation'}, {...</td>\n",
       "      <td></td>\n",
       "      <td></td>\n",
       "      <td>[bio_act, bel, V]</td>\n",
       "    </tr>\n",
       "    <tr>\n",
       "      <th>bio_concept</th>\n",
       "      <td>True</td>\n",
       "      <td>[{'abstract': False, 'name': 'pathology'}, {'a...</td>\n",
       "      <td></td>\n",
       "      <td></td>\n",
       "      <td>[bio_concept, bel, V]</td>\n",
       "    </tr>\n",
       "    <tr>\n",
       "      <th>bio_list</th>\n",
       "      <td>True</td>\n",
       "      <td>[{'abstract': False, 'name': 'list'}, {'abstra...</td>\n",
       "      <td></td>\n",
       "      <td></td>\n",
       "      <td>[bio_list, bel, V]</td>\n",
       "    </tr>\n",
       "    <tr>\n",
       "      <th>bio_object</th>\n",
       "      <td>True</td>\n",
       "      <td>[{'abstract': False, 'name': 'micro_rna'}, {'a...</td>\n",
       "      <td></td>\n",
       "      <td></td>\n",
       "      <td>[bio_object, bel, V]</td>\n",
       "    </tr>\n",
       "    <tr>\n",
       "      <th>biological_process</th>\n",
       "      <td>False</td>\n",
       "      <td>[]</td>\n",
       "      <td></td>\n",
       "      <td></td>\n",
       "      <td>[biological_process, bio_concept, bel, V]</td>\n",
       "    </tr>\n",
       "    <tr>\n",
       "      <th>cell_secretion</th>\n",
       "      <td>False</td>\n",
       "      <td>[]</td>\n",
       "      <td></td>\n",
       "      <td></td>\n",
       "      <td>[cell_secretion, bio_act, bel, V]</td>\n",
       "    </tr>\n",
       "    <tr>\n",
       "      <th>cell_surface_expression</th>\n",
       "      <td>False</td>\n",
       "      <td>[]</td>\n",
       "      <td></td>\n",
       "      <td></td>\n",
       "      <td>[cell_surface_expression, bio_act, bel, V]</td>\n",
       "    </tr>\n",
       "    <tr>\n",
       "      <th>complex</th>\n",
       "      <td>False</td>\n",
       "      <td>[]</td>\n",
       "      <td>[has_located_complex, has__complex]</td>\n",
       "      <td>[has_located_complex]</td>\n",
       "      <td>[complex, bio_object, bel, V]</td>\n",
       "    </tr>\n",
       "    <tr>\n",
       "      <th>composite</th>\n",
       "      <td>False</td>\n",
       "      <td>[]</td>\n",
       "      <td>[has__composite]</td>\n",
       "      <td></td>\n",
       "      <td>[composite, bio_list, bel, V]</td>\n",
       "    </tr>\n",
       "    <tr>\n",
       "      <th>degradation</th>\n",
       "      <td>False</td>\n",
       "      <td>[]</td>\n",
       "      <td></td>\n",
       "      <td></td>\n",
       "      <td>[degradation, bio_act, bel, V]</td>\n",
       "    </tr>\n",
       "    <tr>\n",
       "      <th>fusion_gene</th>\n",
       "      <td>False</td>\n",
       "      <td>[]</td>\n",
       "      <td></td>\n",
       "      <td></td>\n",
       "      <td>[fusion_gene, bel, V]</td>\n",
       "    </tr>\n",
       "    <tr>\n",
       "      <th>fusion_protein</th>\n",
       "      <td>False</td>\n",
       "      <td>[]</td>\n",
       "      <td></td>\n",
       "      <td></td>\n",
       "      <td>[fusion_protein, bel, V]</td>\n",
       "    </tr>\n",
       "    <tr>\n",
       "      <th>fusion_rna</th>\n",
       "      <td>False</td>\n",
       "      <td>[]</td>\n",
       "      <td></td>\n",
       "      <td></td>\n",
       "      <td>[fusion_rna, bel, V]</td>\n",
       "    </tr>\n",
       "    <tr>\n",
       "      <th>gene</th>\n",
       "      <td>False</td>\n",
       "      <td>[]</td>\n",
       "      <td>[has_variant_gene, has_located_gene, has__gene...</td>\n",
       "      <td>[has_variant_gene, has_snp, transcribed_to, ha...</td>\n",
       "      <td>[gene, genetic_flow, bio_object, bel, V]</td>\n",
       "    </tr>\n",
       "    <tr>\n",
       "      <th>genetic_flow</th>\n",
       "      <td>True</td>\n",
       "      <td>[{'abstract': False, 'name': 'rna'}, {'abstrac...</td>\n",
       "      <td></td>\n",
       "      <td></td>\n",
       "      <td>[genetic_flow, bio_object, bel, V]</td>\n",
       "    </tr>\n",
       "    <tr>\n",
       "      <th>list</th>\n",
       "      <td>False</td>\n",
       "      <td>[]</td>\n",
       "      <td></td>\n",
       "      <td></td>\n",
       "      <td>[list, bio_list, bel, V]</td>\n",
       "    </tr>\n",
       "    <tr>\n",
       "      <th>micro_rna</th>\n",
       "      <td>False</td>\n",
       "      <td>[]</td>\n",
       "      <td>[has__micro_rna, has_variant_micro_rna, has_lo...</td>\n",
       "      <td>[has_mirgene_target, has_variant_micro_rna, ha...</td>\n",
       "      <td>[micro_rna, bio_object, bel, V]</td>\n",
       "    </tr>\n",
       "    <tr>\n",
       "      <th>pathology</th>\n",
       "      <td>False</td>\n",
       "      <td>[]</td>\n",
       "      <td></td>\n",
       "      <td></td>\n",
       "      <td>[pathology, bio_concept, bel, V]</td>\n",
       "    </tr>\n",
       "    <tr>\n",
       "      <th>population</th>\n",
       "      <td>False</td>\n",
       "      <td>[]</td>\n",
       "      <td>[has_located_population, has__population]</td>\n",
       "      <td>[has_located_population]</td>\n",
       "      <td>[population, bio_object, bel, V]</td>\n",
       "    </tr>\n",
       "    <tr>\n",
       "      <th>protein</th>\n",
       "      <td>False</td>\n",
       "      <td>[]</td>\n",
       "      <td>[has_located_protein, has_modified_protein, ha...</td>\n",
       "      <td>[has_located_protein, has_modified_protein, ha...</td>\n",
       "      <td>[protein, genetic_flow, bio_object, bel, V]</td>\n",
       "    </tr>\n",
       "    <tr>\n",
       "      <th>reaction</th>\n",
       "      <td>False</td>\n",
       "      <td>[]</td>\n",
       "      <td></td>\n",
       "      <td></td>\n",
       "      <td>[reaction, bio_act, bel, V]</td>\n",
       "    </tr>\n",
       "    <tr>\n",
       "      <th>rna</th>\n",
       "      <td>False</td>\n",
       "      <td>[]</td>\n",
       "      <td>[has_mirgene_target, has_located_rna, transcri...</td>\n",
       "      <td>[translated_to, has_located_rna, has_variant_rna]</td>\n",
       "      <td>[rna, genetic_flow, bio_object, bel, V]</td>\n",
       "    </tr>\n",
       "    <tr>\n",
       "      <th>translocation</th>\n",
       "      <td>False</td>\n",
       "      <td>[]</td>\n",
       "      <td></td>\n",
       "      <td></td>\n",
       "      <td>[translocation, bio_act, bel, V]</td>\n",
       "    </tr>\n",
       "  </tbody>\n",
       "</table>\n",
       "</div>"
      ],
      "text/plain": [
       "                         abstract  \\\n",
       "abundance                   False   \n",
       "activity                    False   \n",
       "bel                          True   \n",
       "bio_act                     False   \n",
       "bio_concept                  True   \n",
       "bio_list                     True   \n",
       "bio_object                   True   \n",
       "biological_process          False   \n",
       "cell_secretion              False   \n",
       "cell_surface_expression     False   \n",
       "complex                     False   \n",
       "composite                   False   \n",
       "degradation                 False   \n",
       "fusion_gene                 False   \n",
       "fusion_protein              False   \n",
       "fusion_rna                  False   \n",
       "gene                        False   \n",
       "genetic_flow                 True   \n",
       "list                        False   \n",
       "micro_rna                   False   \n",
       "pathology                   False   \n",
       "population                  False   \n",
       "protein                     False   \n",
       "reaction                    False   \n",
       "rna                         False   \n",
       "translocation               False   \n",
       "\n",
       "                                                                  children  \\\n",
       "abundance                                                               []   \n",
       "activity                                                                []   \n",
       "bel                      [{'abstract': False, 'name': 'bio_act'}, {'abs...   \n",
       "bio_act                  [{'abstract': False, 'name': 'degradation'}, {...   \n",
       "bio_concept              [{'abstract': False, 'name': 'pathology'}, {'a...   \n",
       "bio_list                 [{'abstract': False, 'name': 'list'}, {'abstra...   \n",
       "bio_object               [{'abstract': False, 'name': 'micro_rna'}, {'a...   \n",
       "biological_process                                                      []   \n",
       "cell_secretion                                                          []   \n",
       "cell_surface_expression                                                 []   \n",
       "complex                                                                 []   \n",
       "composite                                                               []   \n",
       "degradation                                                             []   \n",
       "fusion_gene                                                             []   \n",
       "fusion_protein                                                          []   \n",
       "fusion_rna                                                              []   \n",
       "gene                                                                    []   \n",
       "genetic_flow             [{'abstract': False, 'name': 'rna'}, {'abstrac...   \n",
       "list                                                                    []   \n",
       "micro_rna                                                               []   \n",
       "pathology                                                               []   \n",
       "population                                                              []   \n",
       "protein                                                                 []   \n",
       "reaction                                                                []   \n",
       "rna                                                                     []   \n",
       "translocation                                                           []   \n",
       "\n",
       "                                                              in_relations  \\\n",
       "abundance                          [has__abundance, has_located_abundance]   \n",
       "activity                                                                     \n",
       "bel                      [translocates, correlative, sub_process_of, ha...   \n",
       "bio_act                                                                      \n",
       "bio_concept                                                                  \n",
       "bio_list                                                                     \n",
       "bio_object                                                                   \n",
       "biological_process                                                           \n",
       "cell_secretion                                                               \n",
       "cell_surface_expression                                                      \n",
       "complex                                [has_located_complex, has__complex]   \n",
       "composite                                                 [has__composite]   \n",
       "degradation                                                                  \n",
       "fusion_gene                                                                  \n",
       "fusion_protein                                                               \n",
       "fusion_rna                                                                   \n",
       "gene                     [has_variant_gene, has_located_gene, has__gene...   \n",
       "genetic_flow                                                                 \n",
       "list                                                                         \n",
       "micro_rna                [has__micro_rna, has_variant_micro_rna, has_lo...   \n",
       "pathology                                                                    \n",
       "population                       [has_located_population, has__population]   \n",
       "protein                  [has_located_protein, has_modified_protein, ha...   \n",
       "reaction                                                                     \n",
       "rna                      [has_mirgene_target, has_located_rna, transcri...   \n",
       "translocation                                                                \n",
       "\n",
       "                                                             out_relations  \\\n",
       "abundance                                          [has_located_abundance]   \n",
       "activity                                                                     \n",
       "bel                      [translocates, correlative, sub_process_of, ha...   \n",
       "bio_act                                                                      \n",
       "bio_concept                                                                  \n",
       "bio_list                                                                     \n",
       "bio_object                                                                   \n",
       "biological_process                                                           \n",
       "cell_secretion                                                               \n",
       "cell_surface_expression                                                      \n",
       "complex                                              [has_located_complex]   \n",
       "composite                                                                    \n",
       "degradation                                                                  \n",
       "fusion_gene                                                                  \n",
       "fusion_protein                                                               \n",
       "fusion_rna                                                                   \n",
       "gene                     [has_variant_gene, has_snp, transcribed_to, ha...   \n",
       "genetic_flow                                                                 \n",
       "list                                                                         \n",
       "micro_rna                [has_mirgene_target, has_variant_micro_rna, ha...   \n",
       "pathology                                                                    \n",
       "population                                        [has_located_population]   \n",
       "protein                  [has_located_protein, has_modified_protein, ha...   \n",
       "reaction                                                                     \n",
       "rna                      [translated_to, has_located_rna, has_variant_rna]   \n",
       "translocation                                                                \n",
       "\n",
       "                                                        parents_path  \n",
       "abundance                            [abundance, bio_object, bel, V]  \n",
       "activity                                 [activity, bio_act, bel, V]  \n",
       "bel                                                         [bel, V]  \n",
       "bio_act                                            [bio_act, bel, V]  \n",
       "bio_concept                                    [bio_concept, bel, V]  \n",
       "bio_list                                          [bio_list, bel, V]  \n",
       "bio_object                                      [bio_object, bel, V]  \n",
       "biological_process         [biological_process, bio_concept, bel, V]  \n",
       "cell_secretion                     [cell_secretion, bio_act, bel, V]  \n",
       "cell_surface_expression   [cell_surface_expression, bio_act, bel, V]  \n",
       "complex                                [complex, bio_object, bel, V]  \n",
       "composite                              [composite, bio_list, bel, V]  \n",
       "degradation                           [degradation, bio_act, bel, V]  \n",
       "fusion_gene                                    [fusion_gene, bel, V]  \n",
       "fusion_protein                              [fusion_protein, bel, V]  \n",
       "fusion_rna                                      [fusion_rna, bel, V]  \n",
       "gene                        [gene, genetic_flow, bio_object, bel, V]  \n",
       "genetic_flow                      [genetic_flow, bio_object, bel, V]  \n",
       "list                                        [list, bio_list, bel, V]  \n",
       "micro_rna                            [micro_rna, bio_object, bel, V]  \n",
       "pathology                           [pathology, bio_concept, bel, V]  \n",
       "population                          [population, bio_object, bel, V]  \n",
       "protein                  [protein, genetic_flow, bio_object, bel, V]  \n",
       "reaction                                 [reaction, bio_act, bel, V]  \n",
       "rna                          [rna, genetic_flow, bio_object, bel, V]  \n",
       "translocation                       [translocation, bio_act, bel, V]  "
      ]
     },
     "execution_count": 29,
     "metadata": {},
     "output_type": "execute_result"
    }
   ],
   "source": [
    "r = requests.get(f\"{basic_url}bel/node_types\").json()\n",
    "pd.DataFrame(r).T.fillna('')"
   ]
  },
  {
   "cell_type": "markdown",
   "id": "ca39d81a",
   "metadata": {
    "pycharm": {
     "name": "#%% md\n"
    }
   },
   "source": [
    "#### List all relation types"
   ]
  },
  {
   "cell_type": "code",
   "execution_count": 30,
   "id": "c05458c3",
   "metadata": {
    "pycharm": {
     "name": "#%%\n"
    }
   },
   "outputs": [
    {
     "data": {
      "text/html": [
       "<div>\n",
       "<style scoped>\n",
       "    .dataframe tbody tr th:only-of-type {\n",
       "        vertical-align: middle;\n",
       "    }\n",
       "\n",
       "    .dataframe tbody tr th {\n",
       "        vertical-align: top;\n",
       "    }\n",
       "\n",
       "    .dataframe thead th {\n",
       "        text-align: right;\n",
       "    }\n",
       "</style>\n",
       "<table border=\"1\" class=\"dataframe\">\n",
       "  <thead>\n",
       "    <tr style=\"text-align: right;\">\n",
       "      <th></th>\n",
       "      <th>abstract</th>\n",
       "      <th>children</th>\n",
       "      <th>in_out</th>\n",
       "      <th>parents_path</th>\n",
       "    </tr>\n",
       "  </thead>\n",
       "  <tbody>\n",
       "    <tr>\n",
       "      <th>acts_in</th>\n",
       "      <td>False</td>\n",
       "      <td>[]</td>\n",
       "      <td>{'in': 'bel', 'out': 'bel'}</td>\n",
       "      <td>[acts_in, compiler, bel_relation, E]</td>\n",
       "    </tr>\n",
       "    <tr>\n",
       "      <th>analogous_to</th>\n",
       "      <td>False</td>\n",
       "      <td>[]</td>\n",
       "      <td>{'in': 'bel', 'out': 'bel'}</td>\n",
       "      <td>[analogous_to, deprecated, bel_relation, E]</td>\n",
       "    </tr>\n",
       "    <tr>\n",
       "      <th>association</th>\n",
       "      <td>False</td>\n",
       "      <td>[]</td>\n",
       "      <td>{'in': 'bel', 'out': 'bel'}</td>\n",
       "      <td>[association, correlative, bel_relation, E]</td>\n",
       "    </tr>\n",
       "    <tr>\n",
       "      <th>bel_relation</th>\n",
       "      <td>True</td>\n",
       "      <td>[{'abstract': True, 'name': 'correlative'}, {'...</td>\n",
       "      <td></td>\n",
       "      <td>[bel_relation, E]</td>\n",
       "    </tr>\n",
       "    <tr>\n",
       "      <th>biomarker_for</th>\n",
       "      <td>False</td>\n",
       "      <td>[]</td>\n",
       "      <td>{'in': 'bel', 'out': 'bel'}</td>\n",
       "      <td>[biomarker_for, deprecated, bel_relation, E]</td>\n",
       "    </tr>\n",
       "    <tr>\n",
       "      <th>causal</th>\n",
       "      <td>True</td>\n",
       "      <td>[{'abstract': False, 'name': 'regulates'}, {'a...</td>\n",
       "      <td>{'in': 'bel', 'out': 'bel'}</td>\n",
       "      <td>[causal, bel_relation, E]</td>\n",
       "    </tr>\n",
       "    <tr>\n",
       "      <th>causes_no_change</th>\n",
       "      <td>False</td>\n",
       "      <td>[]</td>\n",
       "      <td>{'in': 'bel', 'out': 'bel'}</td>\n",
       "      <td>[causes_no_change, causal, bel_relation, E]</td>\n",
       "    </tr>\n",
       "    <tr>\n",
       "      <th>compiler</th>\n",
       "      <td>True</td>\n",
       "      <td>[{'abstract': False, 'name': 'translocates'}, ...</td>\n",
       "      <td></td>\n",
       "      <td>[compiler, bel_relation, E]</td>\n",
       "    </tr>\n",
       "    <tr>\n",
       "      <th>correlative</th>\n",
       "      <td>True</td>\n",
       "      <td>[{'abstract': False, 'name': 'association'}, {...</td>\n",
       "      <td>{'in': 'bel', 'out': 'bel'}</td>\n",
       "      <td>[correlative, bel_relation, E]</td>\n",
       "    </tr>\n",
       "    <tr>\n",
       "      <th>decreases</th>\n",
       "      <td>False</td>\n",
       "      <td>[]</td>\n",
       "      <td>{'in': 'bel', 'out': 'bel'}</td>\n",
       "      <td>[decreases, causal, bel_relation, E]</td>\n",
       "    </tr>\n",
       "    <tr>\n",
       "      <th>deprecated</th>\n",
       "      <td>True</td>\n",
       "      <td>[{'abstract': False, 'name': 'analogous_to'}, ...</td>\n",
       "      <td></td>\n",
       "      <td>[deprecated, bel_relation, E]</td>\n",
       "    </tr>\n",
       "    <tr>\n",
       "      <th>directly_decreases</th>\n",
       "      <td>False</td>\n",
       "      <td>[]</td>\n",
       "      <td>{'in': 'bel', 'out': 'bel'}</td>\n",
       "      <td>[directly_decreases, causal, bel_relation, E]</td>\n",
       "    </tr>\n",
       "    <tr>\n",
       "      <th>directly_increases</th>\n",
       "      <td>False</td>\n",
       "      <td>[]</td>\n",
       "      <td>{'in': 'bel', 'out': 'bel'}</td>\n",
       "      <td>[directly_increases, causal, bel_relation, E]</td>\n",
       "    </tr>\n",
       "    <tr>\n",
       "      <th>genomic</th>\n",
       "      <td>True</td>\n",
       "      <td>[{'abstract': False, 'name': 'translated_to'},...</td>\n",
       "      <td></td>\n",
       "      <td>[genomic, bel_relation, E]</td>\n",
       "    </tr>\n",
       "    <tr>\n",
       "      <th>has_modification</th>\n",
       "      <td>False</td>\n",
       "      <td>[]</td>\n",
       "      <td>{'in': 'bel', 'out': 'bel'}</td>\n",
       "      <td>[has_modification, compiler, bel_relation, E]</td>\n",
       "    </tr>\n",
       "    <tr>\n",
       "      <th>has_product</th>\n",
       "      <td>False</td>\n",
       "      <td>[]</td>\n",
       "      <td>{'in': 'bel', 'out': 'bel'}</td>\n",
       "      <td>[has_product, compiler, bel_relation, E]</td>\n",
       "    </tr>\n",
       "    <tr>\n",
       "      <th>has_variant</th>\n",
       "      <td>False</td>\n",
       "      <td>[]</td>\n",
       "      <td>{'in': 'bel', 'out': 'bel'}</td>\n",
       "      <td>[has_variant, compiler, bel_relation, E]</td>\n",
       "    </tr>\n",
       "    <tr>\n",
       "      <th>includes</th>\n",
       "      <td>False</td>\n",
       "      <td>[]</td>\n",
       "      <td>{'in': 'bel', 'out': 'bel'}</td>\n",
       "      <td>[includes, compiler, bel_relation, E]</td>\n",
       "    </tr>\n",
       "    <tr>\n",
       "      <th>increases</th>\n",
       "      <td>False</td>\n",
       "      <td>[]</td>\n",
       "      <td>{'in': 'bel', 'out': 'bel'}</td>\n",
       "      <td>[increases, causal, bel_relation, E]</td>\n",
       "    </tr>\n",
       "    <tr>\n",
       "      <th>negative_correlation</th>\n",
       "      <td>False</td>\n",
       "      <td>[]</td>\n",
       "      <td>{'in': 'bel', 'out': 'bel'}</td>\n",
       "      <td>[negative_correlation, correlative, bel_relati...</td>\n",
       "    </tr>\n",
       "    <tr>\n",
       "      <th>no_correlation</th>\n",
       "      <td>False</td>\n",
       "      <td>[]</td>\n",
       "      <td>{'in': 'bel', 'out': 'bel'}</td>\n",
       "      <td>[no_correlation, correlative, bel_relation, E]</td>\n",
       "    </tr>\n",
       "    <tr>\n",
       "      <th>positive_correlation</th>\n",
       "      <td>False</td>\n",
       "      <td>[]</td>\n",
       "      <td>{'in': 'bel', 'out': 'bel'}</td>\n",
       "      <td>[positive_correlation, correlative, bel_relati...</td>\n",
       "    </tr>\n",
       "    <tr>\n",
       "      <th>prognostic_biomarker_for</th>\n",
       "      <td>False</td>\n",
       "      <td>[]</td>\n",
       "      <td></td>\n",
       "      <td>[prognostic_biomarker_for, deprecated, bel_rel...</td>\n",
       "    </tr>\n",
       "    <tr>\n",
       "      <th>rate_limiting_step_of</th>\n",
       "      <td>False</td>\n",
       "      <td>[]</td>\n",
       "      <td>{'in': 'bel', 'out': 'bel'}</td>\n",
       "      <td>[rate_limiting_step_of, causal, bel_relation, E]</td>\n",
       "    </tr>\n",
       "    <tr>\n",
       "      <th>reactant_in</th>\n",
       "      <td>False</td>\n",
       "      <td>[]</td>\n",
       "      <td>{'in': 'bel', 'out': 'bel'}</td>\n",
       "      <td>[reactant_in, compiler, bel_relation, E]</td>\n",
       "    </tr>\n",
       "    <tr>\n",
       "      <th>regulates</th>\n",
       "      <td>False</td>\n",
       "      <td>[]</td>\n",
       "      <td>{'in': 'bel', 'out': 'bel'}</td>\n",
       "      <td>[regulates, causal, bel_relation, E]</td>\n",
       "    </tr>\n",
       "    <tr>\n",
       "      <th>transcribed_to</th>\n",
       "      <td>False</td>\n",
       "      <td>[]</td>\n",
       "      <td>{'in': 'rna', 'out': 'gene'}</td>\n",
       "      <td>[transcribed_to, genomic, bel_relation, E]</td>\n",
       "    </tr>\n",
       "    <tr>\n",
       "      <th>translated_to</th>\n",
       "      <td>False</td>\n",
       "      <td>[]</td>\n",
       "      <td>{'in': 'protein', 'out': 'rna'}</td>\n",
       "      <td>[translated_to, genomic, bel_relation, E]</td>\n",
       "    </tr>\n",
       "    <tr>\n",
       "      <th>translocates</th>\n",
       "      <td>False</td>\n",
       "      <td>[]</td>\n",
       "      <td>{'in': 'bel', 'out': 'bel'}</td>\n",
       "      <td>[translocates, compiler, bel_relation, E]</td>\n",
       "    </tr>\n",
       "  </tbody>\n",
       "</table>\n",
       "</div>"
      ],
      "text/plain": [
       "                          abstract  \\\n",
       "acts_in                      False   \n",
       "analogous_to                 False   \n",
       "association                  False   \n",
       "bel_relation                  True   \n",
       "biomarker_for                False   \n",
       "causal                        True   \n",
       "causes_no_change             False   \n",
       "compiler                      True   \n",
       "correlative                   True   \n",
       "decreases                    False   \n",
       "deprecated                    True   \n",
       "directly_decreases           False   \n",
       "directly_increases           False   \n",
       "genomic                       True   \n",
       "has_modification             False   \n",
       "has_product                  False   \n",
       "has_variant                  False   \n",
       "includes                     False   \n",
       "increases                    False   \n",
       "negative_correlation         False   \n",
       "no_correlation               False   \n",
       "positive_correlation         False   \n",
       "prognostic_biomarker_for     False   \n",
       "rate_limiting_step_of        False   \n",
       "reactant_in                  False   \n",
       "regulates                    False   \n",
       "transcribed_to               False   \n",
       "translated_to                False   \n",
       "translocates                 False   \n",
       "\n",
       "                                                                   children  \\\n",
       "acts_in                                                                  []   \n",
       "analogous_to                                                             []   \n",
       "association                                                              []   \n",
       "bel_relation              [{'abstract': True, 'name': 'correlative'}, {'...   \n",
       "biomarker_for                                                            []   \n",
       "causal                    [{'abstract': False, 'name': 'regulates'}, {'a...   \n",
       "causes_no_change                                                         []   \n",
       "compiler                  [{'abstract': False, 'name': 'translocates'}, ...   \n",
       "correlative               [{'abstract': False, 'name': 'association'}, {...   \n",
       "decreases                                                                []   \n",
       "deprecated                [{'abstract': False, 'name': 'analogous_to'}, ...   \n",
       "directly_decreases                                                       []   \n",
       "directly_increases                                                       []   \n",
       "genomic                   [{'abstract': False, 'name': 'translated_to'},...   \n",
       "has_modification                                                         []   \n",
       "has_product                                                              []   \n",
       "has_variant                                                              []   \n",
       "includes                                                                 []   \n",
       "increases                                                                []   \n",
       "negative_correlation                                                     []   \n",
       "no_correlation                                                           []   \n",
       "positive_correlation                                                     []   \n",
       "prognostic_biomarker_for                                                 []   \n",
       "rate_limiting_step_of                                                    []   \n",
       "reactant_in                                                              []   \n",
       "regulates                                                                []   \n",
       "transcribed_to                                                           []   \n",
       "translated_to                                                            []   \n",
       "translocates                                                             []   \n",
       "\n",
       "                                                   in_out  \\\n",
       "acts_in                       {'in': 'bel', 'out': 'bel'}   \n",
       "analogous_to                  {'in': 'bel', 'out': 'bel'}   \n",
       "association                   {'in': 'bel', 'out': 'bel'}   \n",
       "bel_relation                                                \n",
       "biomarker_for                 {'in': 'bel', 'out': 'bel'}   \n",
       "causal                        {'in': 'bel', 'out': 'bel'}   \n",
       "causes_no_change              {'in': 'bel', 'out': 'bel'}   \n",
       "compiler                                                    \n",
       "correlative                   {'in': 'bel', 'out': 'bel'}   \n",
       "decreases                     {'in': 'bel', 'out': 'bel'}   \n",
       "deprecated                                                  \n",
       "directly_decreases            {'in': 'bel', 'out': 'bel'}   \n",
       "directly_increases            {'in': 'bel', 'out': 'bel'}   \n",
       "genomic                                                     \n",
       "has_modification              {'in': 'bel', 'out': 'bel'}   \n",
       "has_product                   {'in': 'bel', 'out': 'bel'}   \n",
       "has_variant                   {'in': 'bel', 'out': 'bel'}   \n",
       "includes                      {'in': 'bel', 'out': 'bel'}   \n",
       "increases                     {'in': 'bel', 'out': 'bel'}   \n",
       "negative_correlation          {'in': 'bel', 'out': 'bel'}   \n",
       "no_correlation                {'in': 'bel', 'out': 'bel'}   \n",
       "positive_correlation          {'in': 'bel', 'out': 'bel'}   \n",
       "prognostic_biomarker_for                                    \n",
       "rate_limiting_step_of         {'in': 'bel', 'out': 'bel'}   \n",
       "reactant_in                   {'in': 'bel', 'out': 'bel'}   \n",
       "regulates                     {'in': 'bel', 'out': 'bel'}   \n",
       "transcribed_to               {'in': 'rna', 'out': 'gene'}   \n",
       "translated_to             {'in': 'protein', 'out': 'rna'}   \n",
       "translocates                  {'in': 'bel', 'out': 'bel'}   \n",
       "\n",
       "                                                               parents_path  \n",
       "acts_in                                [acts_in, compiler, bel_relation, E]  \n",
       "analogous_to                    [analogous_to, deprecated, bel_relation, E]  \n",
       "association                     [association, correlative, bel_relation, E]  \n",
       "bel_relation                                              [bel_relation, E]  \n",
       "biomarker_for                  [biomarker_for, deprecated, bel_relation, E]  \n",
       "causal                                            [causal, bel_relation, E]  \n",
       "causes_no_change                [causes_no_change, causal, bel_relation, E]  \n",
       "compiler                                        [compiler, bel_relation, E]  \n",
       "correlative                                  [correlative, bel_relation, E]  \n",
       "decreases                              [decreases, causal, bel_relation, E]  \n",
       "deprecated                                    [deprecated, bel_relation, E]  \n",
       "directly_decreases            [directly_decreases, causal, bel_relation, E]  \n",
       "directly_increases            [directly_increases, causal, bel_relation, E]  \n",
       "genomic                                          [genomic, bel_relation, E]  \n",
       "has_modification              [has_modification, compiler, bel_relation, E]  \n",
       "has_product                        [has_product, compiler, bel_relation, E]  \n",
       "has_variant                        [has_variant, compiler, bel_relation, E]  \n",
       "includes                              [includes, compiler, bel_relation, E]  \n",
       "increases                              [increases, causal, bel_relation, E]  \n",
       "negative_correlation      [negative_correlation, correlative, bel_relati...  \n",
       "no_correlation               [no_correlation, correlative, bel_relation, E]  \n",
       "positive_correlation      [positive_correlation, correlative, bel_relati...  \n",
       "prognostic_biomarker_for  [prognostic_biomarker_for, deprecated, bel_rel...  \n",
       "rate_limiting_step_of      [rate_limiting_step_of, causal, bel_relation, E]  \n",
       "reactant_in                        [reactant_in, compiler, bel_relation, E]  \n",
       "regulates                              [regulates, causal, bel_relation, E]  \n",
       "transcribed_to                   [transcribed_to, genomic, bel_relation, E]  \n",
       "translated_to                     [translated_to, genomic, bel_relation, E]  \n",
       "translocates                      [translocates, compiler, bel_relation, E]  "
      ]
     },
     "execution_count": 30,
     "metadata": {},
     "output_type": "execute_result"
    }
   ],
   "source": [
    "r = requests.get(f\"{basic_url}bel/relation_types\").json()\n",
    "pd.DataFrame(r).T.fillna('')"
   ]
  },
  {
   "cell_type": "markdown",
   "id": "8664cc08",
   "metadata": {
    "pycharm": {
     "name": "#%% md\n"
    }
   },
   "source": [
    "### Get information on children and parent types of a specific node or edge type"
   ]
  },
  {
   "cell_type": "code",
   "execution_count": 31,
   "id": "dd9917fe",
   "metadata": {
    "pycharm": {
     "name": "#%%\n"
    }
   },
   "outputs": [
    {
     "data": {
      "text/plain": [
       "{'abstract': True,\n",
       " 'children': [{'abstract': False, 'name': 'regulates'},\n",
       "  {'abstract': False, 'name': 'causes_no_change'},\n",
       "  {'abstract': False, 'name': 'increases'},\n",
       "  {'abstract': False, 'name': 'directly_decreases'},\n",
       "  {'abstract': False, 'name': 'rate_limiting_step_of'},\n",
       "  {'abstract': False, 'name': 'decreases'},\n",
       "  {'abstract': False, 'name': 'directly_increases'}],\n",
       " 'in_out': {'in': 'bel', 'out': 'bel'},\n",
       " 'parents_path': ['causal', 'bel_relation', 'E']}"
      ]
     },
     "execution_count": 31,
     "metadata": {},
     "output_type": "execute_result"
    }
   ],
   "source": [
    "requests.get(f\"{basic_url}bel/class_info_by_name\", params={'name': 'causal'}).json()"
   ]
  },
  {
   "cell_type": "code",
   "execution_count": 32,
   "id": "9a7cf607",
   "metadata": {
    "pycharm": {
     "name": "#%%\n"
    }
   },
   "outputs": [
    {
     "data": {
      "text/plain": [
       "{'abstract': False,\n",
       " 'children': [],\n",
       " 'in_relations': ['has_located_protein',\n",
       "  'has_modified_protein',\n",
       "  'has_variant_protein',\n",
       "  'translated_to',\n",
       "  'has_drug_target_db',\n",
       "  'has_action',\n",
       "  'has_ppi',\n",
       "  'has__protein'],\n",
       " 'out_relations': ['has_located_protein',\n",
       "  'has_modified_protein',\n",
       "  'has_variant_protein',\n",
       "  'has_action',\n",
       "  'has_ppi'],\n",
       " 'parents_path': ['protein', 'genetic_flow', 'bio_object', 'bel', 'V']}"
      ]
     },
     "execution_count": 32,
     "metadata": {},
     "output_type": "execute_result"
    }
   ],
   "source": [
    "requests.get(f\"{basic_url}bel/class_info_by_name\", params={'name': 'protein'}).json()"
   ]
  },
  {
   "cell_type": "markdown",
   "id": "e1b43fbf",
   "metadata": {
    "pycharm": {
     "name": "#%% md\n"
    }
   },
   "source": [
    "### Nodes"
   ]
  },
  {
   "cell_type": "code",
   "execution_count": 33,
   "id": "ae1f83c5",
   "metadata": {
    "pycharm": {
     "name": "#%%\n"
    }
   },
   "outputs": [
    {
     "name": "stdout",
     "output_type": "stream",
     "text": [
      "[{'in': 'query', 'name': 'node_class', 'required': True, 'schema': {'enum': ['bel', 'genetic_flow', 'gene', 'rna', 'protein', 'abundance', 'activity', 'biological_process', 'complex', 'micro_rna', 'pathology', 'population'], 'example': 'protein', 'type': 'string'}}, {'in': 'query', 'name': 'namespace', 'schema': {'type': 'string'}}, {'in': 'query', 'name': 'name', 'schema': {'type': 'string'}}, {'description': \"'pure' is a tag for no modification (mod), variation (var) or location (loc).\", 'in': 'query', 'name': 'pure', 'schema': {'type': 'boolean'}}, {'description': 'Select BEL relation the node is conneceted to.', 'in': 'query', 'name': 'connected_to_bel_relation', 'schema': {'enum': ['acts_in', 'analogous_to', 'association', 'bel_relation', 'biomarker_for', 'causal', 'causes_no_change', 'compiler', 'correlative', 'decreases', 'deprecated', 'directly_decreases', 'directly_increases', 'genomic', 'has_modification', 'has_product', 'has_variant', 'includes', 'increases', 'negative_correlation', 'no_correlation', 'positive_correlation', 'prognostic_biomarker_for', 'rate_limiting_step_of', 'reactant_in', 'regulates', 'transcribed_to', 'translated_to', 'translocates'], 'type': 'string'}}, {'description': 'Only valid if connected_to_bel_relation is set.', 'in': 'query', 'name': 'connected_to_bel_relation_direction', 'schema': {'default': 'both', 'enum': ['in', 'out', 'both'], 'type': 'string'}}, {'description': 'Select e(BE:L) relation the node is conneceted to.', 'in': 'query', 'name': 'connected_to_ebel_relation', 'schema': {'enum': ['activates__iu', 'activates_st', 'agonist_of__iu', 'allosteric_modulator_of__iu', 'antagonist_of__iu', 'antibody_against__iu', 'channel_blocker_of__iu', 'controls_expression_of_pc', 'controls_expression_of_st', 'controls_phosphorylation_of_pc', 'controls_pmod_of_st', 'controls_transport_of_pc', 'decreases_ace_bg', 'decreases_add_bg', 'decreases_adr_bg', 'decreases_bg', 'decreases_dei_bg', 'decreases_expression_of_st', 'decreases_far_bg', 'decreases_fat_bg', 'decreases_ger_bg', 'decreases_gly_bg', 'decreases_hyd_bg', 'decreases_isg_bg', 'decreases_me0_bg', 'decreases_me1_bg', 'decreases_me2_bg', 'decreases_me3_bg', 'decreases_mon_bg', 'decreases_myr_bg', 'decreases_ned_bg', 'decreases_ngl_bg', 'decreases_nit_bg', 'decreases_ogl_bg', 'decreases_pal_bg', 'decreases_pho_bg', 'decreases_pho_kg', 'decreases_pre_bg', 'decreases_suh_bg', 'decreases_sul_bg', 'decreases_sum_bg', 'decreases_sup_bg', 'decreases_suy_bg', 'decreases_tri_bg', 'decreases_u48_bg', 'decreases_u63_bg', 'decreases_ubi_bg', 'decreases_ubm_bg', 'decreases_ubp_bg', 'disgenet_gene_disease', 'ebel_relation', 'gene_disease_association', 'has__abundance', 'has__complex', 'has__composite', 'has__fragment', 'has__from_location', 'has__gene', 'has__gmod', 'has__location', 'has__micro_rna', 'has__pmod', 'has__population', 'has__products', 'has__protein', 'has__reactants', 'has__rna', 'has__to_location', 'has__variant', 'has_action', 'has_action_pc', 'has_action_st', 'has_downstream_snp', 'has_downstream_snp_cv', 'has_downstream_snp_dgn', 'has_downstream_snp_gc', 'has_drug_target', 'has_drug_target_db', 'has_fragmented_protein', 'has_located', 'has_located_abundance', 'has_located_complex', 'has_located_gene', 'has_located_micro_rna', 'has_located_population', 'has_located_protein', 'has_located_rna', 'has_mapped_snp', 'has_mapped_snp_cv', 'has_mapped_snp_dgn', 'has_mapped_snp_gc', 'has_mirgene_target', 'has_modified', 'has_modified_gene', 'has_modified_protein', 'has_ppi', 'has_ppi_bg', 'has_ppi_ia', 'has_ppi_kg', 'has_ppi_st', 'has_side_effect', 'has_snp', 'has_snp_clinvar', 'has_snp_disgenet', 'has_snp_gwascatalog', 'has_upstream_snp', 'has_upstream_snp_cv', 'has_upstream_snp_dgn', 'has_upstream_snp_gc', 'has_variant_gene', 'has_variant_micro_rna', 'has_variant_obj', 'has_variant_protein', 'has_variant_rna', 'increases_ace_bg', 'increases_add_bg', 'increases_adr_bg', 'increases_dei_bg', 'increases_expression_of_st', 'increases_far_bg', 'increases_fat_bg', 'increases_ger_bg', 'increases_gly_bg', 'increases_gly_kg', 'increases_hyd_bg', 'increases_isg_bg', 'increases_me0_bg', 'increases_me0_kg', 'increases_me1_bg', 'increases_me2_bg', 'increases_me3_bg', 'increases_mon_bg', 'increases_myr_bg', 'increases_ned_bg', 'increases_ngl_bg', 'increases_nit_bg', 'increases_ogl_bg', 'increases_pal_bg', 'increases_pho_bg', 'increases_pho_kg', 'increases_pre_bg', 'increases_suh_bg', 'increases_sul_bg', 'increases_sum_bg', 'increases_sup_bg', 'increases_suy_bg', 'increases_tri_bg', 'increases_u48_bg', 'increases_u63_bg', 'increases_ubi_bg', 'increases_ubi_kg', 'increases_ubm_bg', 'increases_ubp_bg', 'inhibits__iu', 'inhibits_gating__iu', 'inhibits_st', 'iuphar_interaction', 'pathway_interaction'], 'type': 'string'}}, {'description': 'Only valid if connected_to_ebel_relation is set.', 'in': 'query', 'name': 'connected_to_ebel_relation_direction', 'schema': {'default': 'both', 'enum': ['in', 'out', 'both'], 'type': 'string'}}, {'description': 'Results per page', 'in': 'query', 'name': 'page_size', 'required': False, 'schema': {'default': 10, 'example': 10, 'maximum': 100, 'minimum': 1, 'type': 'integer'}}, {'description': 'Page number (starting with 1)', 'in': 'query', 'name': 'page', 'required': False, 'schema': {'default': 1, 'example': 1, 'type': 'integer'}}]\n"
     ]
    },
    {
     "data": {
      "text/html": [
       "<div>\n",
       "<style scoped>\n",
       "    .dataframe tbody tr th:only-of-type {\n",
       "        vertical-align: middle;\n",
       "    }\n",
       "\n",
       "    .dataframe tbody tr th {\n",
       "        vertical-align: top;\n",
       "    }\n",
       "\n",
       "    .dataframe thead th {\n",
       "        text-align: right;\n",
       "    }\n",
       "</style>\n",
       "<table border=\"1\" class=\"dataframe\">\n",
       "  <thead>\n",
       "    <tr style=\"text-align: right;\">\n",
       "      <th></th>\n",
       "      <th>required</th>\n",
       "      <th>description</th>\n",
       "      <th>dtype</th>\n",
       "      <th>example</th>\n",
       "      <th>options</th>\n",
       "    </tr>\n",
       "    <tr>\n",
       "      <th>name</th>\n",
       "      <th></th>\n",
       "      <th></th>\n",
       "      <th></th>\n",
       "      <th></th>\n",
       "      <th></th>\n",
       "    </tr>\n",
       "  </thead>\n",
       "  <tbody>\n",
       "    <tr>\n",
       "      <th>node_class</th>\n",
       "      <td>True</td>\n",
       "      <td></td>\n",
       "      <td>string</td>\n",
       "      <td>protein</td>\n",
       "      <td>[bel, genetic_flow, gene, rna, protein, abunda...</td>\n",
       "    </tr>\n",
       "    <tr>\n",
       "      <th>namespace</th>\n",
       "      <td>False</td>\n",
       "      <td></td>\n",
       "      <td>string</td>\n",
       "      <td>None</td>\n",
       "      <td></td>\n",
       "    </tr>\n",
       "    <tr>\n",
       "      <th>name</th>\n",
       "      <td>False</td>\n",
       "      <td></td>\n",
       "      <td>string</td>\n",
       "      <td>None</td>\n",
       "      <td></td>\n",
       "    </tr>\n",
       "    <tr>\n",
       "      <th>pure</th>\n",
       "      <td>False</td>\n",
       "      <td>'pure' is a tag for no modification (mod), var...</td>\n",
       "      <td>boolean</td>\n",
       "      <td>None</td>\n",
       "      <td></td>\n",
       "    </tr>\n",
       "    <tr>\n",
       "      <th>connected_to_bel_relation</th>\n",
       "      <td>False</td>\n",
       "      <td>Select BEL relation the node is conneceted to.</td>\n",
       "      <td>string</td>\n",
       "      <td>None</td>\n",
       "      <td>[acts_in, analogous_to, association, bel_relat...</td>\n",
       "    </tr>\n",
       "    <tr>\n",
       "      <th>connected_to_bel_relation_direction</th>\n",
       "      <td>False</td>\n",
       "      <td>Only valid if connected_to_bel_relation is set.</td>\n",
       "      <td>string</td>\n",
       "      <td>None</td>\n",
       "      <td>[in, out, both]</td>\n",
       "    </tr>\n",
       "    <tr>\n",
       "      <th>connected_to_ebel_relation</th>\n",
       "      <td>False</td>\n",
       "      <td>Select e(BE:L) relation the node is conneceted...</td>\n",
       "      <td>string</td>\n",
       "      <td>None</td>\n",
       "      <td>[activates__iu, activates_st, agonist_of__iu, ...</td>\n",
       "    </tr>\n",
       "    <tr>\n",
       "      <th>connected_to_ebel_relation_direction</th>\n",
       "      <td>False</td>\n",
       "      <td>Only valid if connected_to_ebel_relation is set.</td>\n",
       "      <td>string</td>\n",
       "      <td>None</td>\n",
       "      <td>[in, out, both]</td>\n",
       "    </tr>\n",
       "    <tr>\n",
       "      <th>page_size</th>\n",
       "      <td>False</td>\n",
       "      <td>Results per page</td>\n",
       "      <td>integer</td>\n",
       "      <td>10</td>\n",
       "      <td></td>\n",
       "    </tr>\n",
       "    <tr>\n",
       "      <th>page</th>\n",
       "      <td>False</td>\n",
       "      <td>Page number (starting with 1)</td>\n",
       "      <td>integer</td>\n",
       "      <td>1</td>\n",
       "      <td></td>\n",
       "    </tr>\n",
       "  </tbody>\n",
       "</table>\n",
       "</div>"
      ],
      "text/plain": [
       "                                      required  \\\n",
       "name                                             \n",
       "node_class                                True   \n",
       "namespace                                False   \n",
       "name                                     False   \n",
       "pure                                     False   \n",
       "connected_to_bel_relation                False   \n",
       "connected_to_bel_relation_direction      False   \n",
       "connected_to_ebel_relation               False   \n",
       "connected_to_ebel_relation_direction     False   \n",
       "page_size                                False   \n",
       "page                                     False   \n",
       "\n",
       "                                                                            description  \\\n",
       "name                                                                                      \n",
       "node_class                                                                                \n",
       "namespace                                                                                 \n",
       "name                                                                                      \n",
       "pure                                  'pure' is a tag for no modification (mod), var...   \n",
       "connected_to_bel_relation                Select BEL relation the node is conneceted to.   \n",
       "connected_to_bel_relation_direction     Only valid if connected_to_bel_relation is set.   \n",
       "connected_to_ebel_relation            Select e(BE:L) relation the node is conneceted...   \n",
       "connected_to_ebel_relation_direction   Only valid if connected_to_ebel_relation is set.   \n",
       "page_size                                                              Results per page   \n",
       "page                                                      Page number (starting with 1)   \n",
       "\n",
       "                                        dtype  example  \\\n",
       "name                                                     \n",
       "node_class                             string  protein   \n",
       "namespace                              string     None   \n",
       "name                                   string     None   \n",
       "pure                                  boolean     None   \n",
       "connected_to_bel_relation              string     None   \n",
       "connected_to_bel_relation_direction    string     None   \n",
       "connected_to_ebel_relation             string     None   \n",
       "connected_to_ebel_relation_direction   string     None   \n",
       "page_size                             integer       10   \n",
       "page                                  integer        1   \n",
       "\n",
       "                                                                                options  \n",
       "name                                                                                     \n",
       "node_class                            [bel, genetic_flow, gene, rna, protein, abunda...  \n",
       "namespace                                                                                \n",
       "name                                                                                     \n",
       "pure                                                                                     \n",
       "connected_to_bel_relation             [acts_in, analogous_to, association, bel_relat...  \n",
       "connected_to_bel_relation_direction                                     [in, out, both]  \n",
       "connected_to_ebel_relation            [activates__iu, activates_st, agonist_of__iu, ...  \n",
       "connected_to_ebel_relation_direction                                    [in, out, both]  \n",
       "page_size                                                                                \n",
       "page                                                                                     "
      ]
     },
     "execution_count": 33,
     "metadata": {},
     "output_type": "execute_result"
    }
   ],
   "source": [
    "get_params('nodes')"
   ]
  },
  {
   "cell_type": "code",
   "execution_count": 34,
   "id": "88986d6e",
   "metadata": {
    "pycharm": {
     "name": "#%%\n"
    }
   },
   "outputs": [
    {
     "name": "stdout",
     "output_type": "stream",
     "text": [
      "number_of_results: 19562\n",
      "page: 1\n",
      "pages: 1957\n",
      "page_size: 10\n"
     ]
    },
    {
     "data": {
      "text/html": [
       "<div>\n",
       "<style scoped>\n",
       "    .dataframe tbody tr th:only-of-type {\n",
       "        vertical-align: middle;\n",
       "    }\n",
       "\n",
       "    .dataframe tbody tr th {\n",
       "        vertical-align: top;\n",
       "    }\n",
       "\n",
       "    .dataframe thead th {\n",
       "        text-align: right;\n",
       "    }\n",
       "</style>\n",
       "<table border=\"1\" class=\"dataframe\">\n",
       "  <thead>\n",
       "    <tr style=\"text-align: right;\">\n",
       "      <th></th>\n",
       "      <th>bel</th>\n",
       "      <th>involved_genes</th>\n",
       "      <th>involved_other</th>\n",
       "      <th>name</th>\n",
       "      <th>namespace</th>\n",
       "      <th>rid</th>\n",
       "      <th>pure</th>\n",
       "    </tr>\n",
       "  </thead>\n",
       "  <tbody>\n",
       "    <tr>\n",
       "      <th>0</th>\n",
       "      <td>p(HGNC:\"TREM2\",loc(MESHA:\"Extracellular Space\"))</td>\n",
       "      <td>[TREM2]</td>\n",
       "      <td>[]</td>\n",
       "      <td>TREM2</td>\n",
       "      <td>HGNC</td>\n",
       "      <td>#186:0</td>\n",
       "      <td></td>\n",
       "    </tr>\n",
       "    <tr>\n",
       "      <th>1</th>\n",
       "      <td>p(HGNC:\"RELA\")</td>\n",
       "      <td>[RELA]</td>\n",
       "      <td>[]</td>\n",
       "      <td>RELA</td>\n",
       "      <td>HGNC</td>\n",
       "      <td>#186:1</td>\n",
       "      <td>True</td>\n",
       "    </tr>\n",
       "    <tr>\n",
       "      <th>2</th>\n",
       "      <td>p(HGNC:\"TREM2\",var(\"p.Leu211Pro\"))</td>\n",
       "      <td>[TREM2]</td>\n",
       "      <td>[]</td>\n",
       "      <td>TREM2</td>\n",
       "      <td>HGNC</td>\n",
       "      <td>#186:2</td>\n",
       "      <td></td>\n",
       "    </tr>\n",
       "  </tbody>\n",
       "</table>\n",
       "</div>"
      ],
      "text/plain": [
       "                                                bel involved_genes  \\\n",
       "0  p(HGNC:\"TREM2\",loc(MESHA:\"Extracellular Space\"))        [TREM2]   \n",
       "1                                    p(HGNC:\"RELA\")         [RELA]   \n",
       "2                p(HGNC:\"TREM2\",var(\"p.Leu211Pro\"))        [TREM2]   \n",
       "\n",
       "  involved_other   name namespace     rid  pure  \n",
       "0             []  TREM2      HGNC  #186:0        \n",
       "1             []   RELA      HGNC  #186:1  True  \n",
       "2             []  TREM2      HGNC  #186:2        "
      ]
     },
     "execution_count": 34,
     "metadata": {},
     "output_type": "execute_result"
    }
   ],
   "source": [
    "r = get_api_result(f\"bel/nodes\", node_class=\"protein\")\n",
    "r.print_page_info()\n",
    "r.as_df().fillna('').head(3)"
   ]
  },
  {
   "cell_type": "code",
   "execution_count": 35,
   "id": "1e82549c",
   "metadata": {
    "pycharm": {
     "name": "#%%\n"
    }
   },
   "outputs": [
    {
     "name": "stdout",
     "output_type": "stream",
     "text": [
      "number_of_results: 283\n",
      "page: 1\n",
      "pages: 29\n",
      "page_size: 10\n"
     ]
    },
    {
     "data": {
      "text/html": [
       "<div>\n",
       "<style scoped>\n",
       "    .dataframe tbody tr th:only-of-type {\n",
       "        vertical-align: middle;\n",
       "    }\n",
       "\n",
       "    .dataframe tbody tr th {\n",
       "        vertical-align: top;\n",
       "    }\n",
       "\n",
       "    .dataframe thead th {\n",
       "        text-align: right;\n",
       "    }\n",
       "</style>\n",
       "<table border=\"1\" class=\"dataframe\">\n",
       "  <thead>\n",
       "    <tr style=\"text-align: right;\">\n",
       "      <th></th>\n",
       "      <th>bel</th>\n",
       "      <th>involved_genes</th>\n",
       "      <th>involved_other</th>\n",
       "      <th>pure</th>\n",
       "      <th>rid</th>\n",
       "    </tr>\n",
       "  </thead>\n",
       "  <tbody>\n",
       "    <tr>\n",
       "      <th>0</th>\n",
       "      <td>complex(p(HGNC:\"APOE\"),p(HGNC:\"TREM2\"))</td>\n",
       "      <td>[APOE, TREM2]</td>\n",
       "      <td>[]</td>\n",
       "      <td>True</td>\n",
       "      <td>#106:0</td>\n",
       "    </tr>\n",
       "    <tr>\n",
       "      <th>1</th>\n",
       "      <td>complex(a(CHEBI:\"amyloid-beta\"),p(HGNC:\"CD14\")...</td>\n",
       "      <td>[CD14, TLR2]</td>\n",
       "      <td>[amyloid-beta]</td>\n",
       "      <td>True</td>\n",
       "      <td>#106:1</td>\n",
       "    </tr>\n",
       "    <tr>\n",
       "      <th>2</th>\n",
       "      <td>complex(a(CHEBI:\"amyloid-beta\"),p(HGNC:\"LDLR\"))</td>\n",
       "      <td>[LDLR]</td>\n",
       "      <td>[amyloid-beta]</td>\n",
       "      <td>True</td>\n",
       "      <td>#106:2</td>\n",
       "    </tr>\n",
       "  </tbody>\n",
       "</table>\n",
       "</div>"
      ],
      "text/plain": [
       "                                                 bel involved_genes  \\\n",
       "0            complex(p(HGNC:\"APOE\"),p(HGNC:\"TREM2\"))  [APOE, TREM2]   \n",
       "1  complex(a(CHEBI:\"amyloid-beta\"),p(HGNC:\"CD14\")...   [CD14, TLR2]   \n",
       "2    complex(a(CHEBI:\"amyloid-beta\"),p(HGNC:\"LDLR\"))         [LDLR]   \n",
       "\n",
       "   involved_other  pure     rid  \n",
       "0              []  True  #106:0  \n",
       "1  [amyloid-beta]  True  #106:1  \n",
       "2  [amyloid-beta]  True  #106:2  "
      ]
     },
     "execution_count": 35,
     "metadata": {},
     "output_type": "execute_result"
    }
   ],
   "source": [
    "r = get_api_result(f\"bel/nodes\", node_class=\"complex\")\n",
    "r.print_page_info()\n",
    "r.as_df().fillna('').head(3)"
   ]
  },
  {
   "cell_type": "markdown",
   "id": "0604de69",
   "metadata": {
    "pycharm": {
     "name": "#%% md\n"
    }
   },
   "source": [
    "### Number of BEL edges"
   ]
  },
  {
   "cell_type": "markdown",
   "id": "4fbfba2a",
   "metadata": {
    "pycharm": {
     "name": "#%% md\n"
    }
   },
   "source": [
    "all"
   ]
  },
  {
   "cell_type": "code",
   "execution_count": 36,
   "id": "bfaa10a8",
   "metadata": {
    "pycharm": {
     "name": "#%%\n"
    }
   },
   "outputs": [
    {
     "data": {
      "text/plain": [
       "145010"
      ]
     },
     "execution_count": 36,
     "metadata": {},
     "output_type": "execute_result"
    }
   ],
   "source": [
    "requests.get(f\"{basic_url}bel/number_of_edges\").json()"
   ]
  },
  {
   "cell_type": "markdown",
   "id": "4558754d",
   "metadata": {
    "pycharm": {
     "name": "#%% md\n"
    }
   },
   "source": [
    "#### BEL"
   ]
  },
  {
   "cell_type": "code",
   "execution_count": 37,
   "id": "278890cc",
   "metadata": {
    "pycharm": {
     "name": "#%%\n"
    }
   },
   "outputs": [
    {
     "data": {
      "text/plain": [
       "5981"
      ]
     },
     "execution_count": 37,
     "metadata": {},
     "output_type": "execute_result"
    }
   ],
   "source": [
    "requests.get(f\"{basic_url}bel/number_of_edges\", params={'relation':'bel_relation'}).json()"
   ]
  },
  {
   "cell_type": "code",
   "execution_count": 38,
   "id": "fb9cad72",
   "metadata": {
    "pycharm": {
     "name": "#%%\n"
    }
   },
   "outputs": [
    {
     "data": {
      "text/plain": [
       "1817"
      ]
     },
     "execution_count": 38,
     "metadata": {},
     "output_type": "execute_result"
    }
   ],
   "source": [
    "requests.get(f\"{basic_url}bel/number_of_edges\", params={'relation':'increases'}).json()"
   ]
  },
  {
   "cell_type": "markdown",
   "id": "29906130",
   "metadata": {
    "pycharm": {
     "name": "#%% md\n"
    }
   },
   "source": [
    "#### e(BE:L)"
   ]
  },
  {
   "cell_type": "code",
   "execution_count": 39,
   "id": "41520cd3",
   "metadata": {
    "pycharm": {
     "name": "#%%\n"
    }
   },
   "outputs": [
    {
     "data": {
      "text/plain": [
       "139029"
      ]
     },
     "execution_count": 39,
     "metadata": {},
     "output_type": "execute_result"
    }
   ],
   "source": [
    "requests.get(f\"{basic_url}bel/number_of_edges\", params={'relation':'ebel_relation'}).json()"
   ]
  },
  {
   "cell_type": "code",
   "execution_count": 40,
   "id": "3962c764",
   "metadata": {
    "pycharm": {
     "name": "#%%\n"
    }
   },
   "outputs": [
    {
     "data": {
      "text/plain": [
       "65691"
      ]
     },
     "execution_count": 40,
     "metadata": {},
     "output_type": "execute_result"
    }
   ],
   "source": [
    "requests.get(f\"{basic_url}bel/number_of_edges\", params={'relation':'has_ppi'}).json()"
   ]
  },
  {
   "cell_type": "markdown",
   "id": "61cfbd60",
   "metadata": {
    "pycharm": {
     "name": "#%% md\n"
    }
   },
   "source": [
    "### Number of nodes"
   ]
  },
  {
   "cell_type": "markdown",
   "id": "a7f0c781",
   "metadata": {
    "pycharm": {
     "name": "#%% md\n"
    }
   },
   "source": [
    "all"
   ]
  },
  {
   "cell_type": "code",
   "execution_count": 41,
   "id": "73f9e03d",
   "metadata": {
    "pycharm": {
     "name": "#%%\n"
    }
   },
   "outputs": [
    {
     "data": {
      "text/plain": [
       "36467"
      ]
     },
     "execution_count": 41,
     "metadata": {},
     "output_type": "execute_result"
    }
   ],
   "source": [
    "requests.get(f\"{basic_url}bel/number_of_nodes\").json()"
   ]
  },
  {
   "cell_type": "markdown",
   "id": "657157d0",
   "metadata": {
    "pycharm": {
     "name": "#%% md\n"
    }
   },
   "source": [
    "filter for specific node classes"
   ]
  },
  {
   "cell_type": "code",
   "execution_count": 42,
   "id": "5e304d43",
   "metadata": {
    "pycharm": {
     "name": "#%%\n"
    }
   },
   "outputs": [
    {
     "name": "stdout",
     "output_type": "stream",
     "text": [
      "['abundance', 'activity', 'bel', 'bio_act', 'bio_concept', 'bio_list', 'bio_object', 'biological_process', 'cell_secretion', 'cell_surface_expression', 'complex', 'composite', 'degradation', 'drug', 'drug_db', 'ebel', 'fragment', 'from_location', 'fusion_gene', 'fusion_protein', 'fusion_rna', 'gene', 'genetic_flow', 'gmod', 'list', 'location', 'micro_rna', 'pathology', 'pmod', 'population', 'products', 'protein', 'reactants', 'reaction', 'rna', 'side_effect', 'snp', 'to_location', 'translocation', 'variant']\n"
     ]
    }
   ],
   "source": [
    "print(get_enums('number_of_nodes', 'node_class'))"
   ]
  },
  {
   "cell_type": "markdown",
   "id": "dd9247fa",
   "metadata": {
    "pycharm": {
     "name": "#%% md\n"
    }
   },
   "source": [
    "#### BEL"
   ]
  },
  {
   "cell_type": "code",
   "execution_count": 43,
   "id": "0823f752",
   "metadata": {
    "pycharm": {
     "name": "#%%\n"
    }
   },
   "outputs": [
    {
     "data": {
      "text/plain": [
       "25875"
      ]
     },
     "execution_count": 43,
     "metadata": {},
     "output_type": "execute_result"
    }
   ],
   "source": [
    "requests.get(f\"{basic_url}bel/number_of_nodes\", params={'node_class': \"bel\"}).json()"
   ]
  },
  {
   "cell_type": "code",
   "execution_count": 44,
   "id": "798bc89c",
   "metadata": {
    "pycharm": {
     "name": "#%%\n"
    }
   },
   "outputs": [
    {
     "data": {
      "text/plain": [
       "18221"
      ]
     },
     "execution_count": 44,
     "metadata": {},
     "output_type": "execute_result"
    }
   ],
   "source": [
    "requests.get(f\"{basic_url}bel/number_of_nodes\", params={'node_class': \"protein\", 'pure': True}).json()"
   ]
  },
  {
   "cell_type": "code",
   "execution_count": 45,
   "id": "370d025b",
   "metadata": {
    "pycharm": {
     "name": "#%%\n"
    }
   },
   "outputs": [
    {
     "data": {
      "text/plain": [
       "283"
      ]
     },
     "execution_count": 45,
     "metadata": {},
     "output_type": "execute_result"
    }
   ],
   "source": [
    "requests.get(f\"{basic_url}bel/number_of_nodes\", params={'node_class': \"complex\"}).json()"
   ]
  },
  {
   "cell_type": "markdown",
   "id": "a571c7cc",
   "metadata": {
    "pycharm": {
     "name": "#%% md\n"
    }
   },
   "source": [
    "#### e(BE:L)"
   ]
  },
  {
   "cell_type": "code",
   "execution_count": 46,
   "id": "0616783f",
   "metadata": {
    "pycharm": {
     "name": "#%%\n"
    }
   },
   "outputs": [
    {
     "data": {
      "text/plain": [
       "10592"
      ]
     },
     "execution_count": 46,
     "metadata": {},
     "output_type": "execute_result"
    }
   ],
   "source": [
    "requests.get(f\"{basic_url}bel/number_of_nodes\", params={'node_class': \"ebel\"}).json()"
   ]
  },
  {
   "cell_type": "code",
   "execution_count": 47,
   "id": "17450049",
   "metadata": {
    "pycharm": {
     "name": "#%%\n"
    }
   },
   "outputs": [
    {
     "data": {
      "text/plain": [
       "3921"
      ]
     },
     "execution_count": 47,
     "metadata": {},
     "output_type": "execute_result"
    }
   ],
   "source": [
    "requests.get(f\"{basic_url}bel/number_of_nodes\", params={'node_class': \"snp\"}).json()"
   ]
  },
  {
   "cell_type": "code",
   "execution_count": 53,
   "id": "083eac51",
   "metadata": {
    "pycharm": {
     "name": "#%%\n"
    }
   },
   "outputs": [
    {
     "data": {
      "text/plain": [
       "{'edge_paths_by_length': {'1': [['#1805:927']],\n",
       "  '2': [['#1805:927', '#1348:43']],\n",
       "  '3': [['#1805:927', '#1348:43', '#1208:43']]},\n",
       " 'unique_edges': {'#1208:43': {'class': 'has__pmod',\n",
       "   'object_bel': 'pmod(Ph)',\n",
       "   'object_rid': '#424:43',\n",
       "   'subject_bel': 'p(HGNC:\"CLU\",pmod(Ph))',\n",
       "   'subject_rid': '#201:790'},\n",
       "  '#1348:43': {'class': 'has_modified_protein',\n",
       "   'object_bel': 'p(HGNC:\"CLU\",pmod(Ph))',\n",
       "   'object_rid': '#201:790',\n",
       "   'subject_bel': 'p(HGNC:\"CLU\")',\n",
       "   'subject_rid': '#190:15'},\n",
       "  '#1805:927': {'class': 'has_ppi_ia',\n",
       "   'object_bel': 'p(HGNC:\"CLU\")',\n",
       "   'object_rid': '#190:15',\n",
       "   'pmid': 31413325,\n",
       "   'subject_bel': 'p(HGNC:\"SPARCL1\")',\n",
       "   'subject_rid': '#187:580'}},\n",
       " 'unique_nodes': {'#187:580': {'bel': 'p(HGNC:\"SPARCL1\")',\n",
       "   'class': 'protein',\n",
       "   'involved_genes': ['SPARCL1'],\n",
       "   'involved_other': [],\n",
       "   'label': 'SPARC like 1',\n",
       "   'name': 'SPARCL1',\n",
       "   'namespace': 'HGNC',\n",
       "   'pure': True,\n",
       "   'uniprot': 'Q14515'},\n",
       "  '#190:15': {'bel': 'p(HGNC:\"CLU\")',\n",
       "   'class': 'protein',\n",
       "   'involved_genes': ['CLU'],\n",
       "   'involved_other': [],\n",
       "   'label': 'clusterin',\n",
       "   'name': 'CLU',\n",
       "   'namespace': 'HGNC',\n",
       "   'pure': True,\n",
       "   'reactome_pathways': ['Regulation of Complement cascade',\n",
       "    'Antimicrobial peptides',\n",
       "    'Platelet degranulation',\n",
       "    'Terminal pathway of complement'],\n",
       "   'species': 9606,\n",
       "   'uniprot': 'P10909'},\n",
       "  '#201:790': {'bel': 'p(HGNC:\"CLU\",pmod(Ph))',\n",
       "   'class': 'protein',\n",
       "   'involved_genes': ['CLU'],\n",
       "   'involved_other': [],\n",
       "   'label': 'clusterin',\n",
       "   'name': 'CLU',\n",
       "   'namespace': 'HGNC',\n",
       "   'uniprot': 'P10909'},\n",
       "  '#424:43': {'bel': 'pmod(Ph)', 'class': 'pmod', 'type': 'pho'}}}"
      ]
     },
     "execution_count": 53,
     "metadata": {},
     "output_type": "execute_result"
    }
   ],
   "source": [
    "requests.get(f\"{basic_url}bel/paths\", params={'start_node_class':\"protein\", 'limit':1}).json()"
   ]
  },
  {
   "cell_type": "code",
   "execution_count": 70,
   "id": "6432e56b",
   "metadata": {
    "pycharm": {
     "name": "#%%\n"
    }
   },
   "outputs": [
    {
     "name": "stdout",
     "output_type": "stream",
     "text": [
      "digraph {\n",
      "\tgraph [fontname=helvetica]\n",
      "\tnode [shape=note]\n",
      "\tnode [shape=box]\n",
      "\tnode [style=filled]\n",
      "\tnode [fillcolor=lightblue1]\n",
      "\t\"#190.15\" [label=<<FONT POINT-SIZE=\"10\">protein</FONT><BR/><FONT POINT-SIZE=\"16\">CLU</FONT><BR/><FONT POINT-SIZE=\"6\">p(HGNC:\"CLU\")</FONT>>]\n",
      "\tnode [fillcolor=lightblue1]\n",
      "\t\"#187.580\" [label=<<FONT POINT-SIZE=\"10\">protein</FONT><BR/><FONT POINT-SIZE=\"16\">SPARCL1</FONT><BR/><FONT POINT-SIZE=\"6\">p(HGNC:\"SPARCL1\")</FONT>>]\n",
      "\tnode [fillcolor=lightblue1]\n",
      "\t\"#201.790\" [label=<<FONT POINT-SIZE=\"10\">protein</FONT><BR/><FONT POINT-SIZE=\"16\">CLU</FONT><BR/><FONT POINT-SIZE=\"6\">p(HGNC:\"CLU\",pmod(Ph))</FONT>>]\n",
      "\tnode [fillcolor=grey]\n",
      "\t\"#424.43\" [label=<<FONT POINT-SIZE=\"10\">pmod</FONT><BR/><FONT POINT-SIZE=\"16\">; pho; </FONT>>]\n",
      "\tedge [color=grey]\n",
      "\t\"#187.580\" -> \"#190.15\" [label=<<FONT POINT-SIZE=\"8\">has_ppi_ia [1]</FONT>>]\n",
      "\tedge [color=grey]\n",
      "\t\"#201.790\" -> \"#424.43\" [label=<<FONT POINT-SIZE=\"8\">has__pmod [1]</FONT>>]\n",
      "\tedge [color=grey]\n",
      "\t\"#190.15\" -> \"#201.790\" [label=<<FONT POINT-SIZE=\"8\">has_modified_protein [1]</FONT>>]\n",
      "}\n"
     ]
    }
   ],
   "source": [
    "url = f\"{basic_url}bel/paths_as_dot\"\n",
    "params={'start_node_class':\"protein\", 'limit':1}\n",
    "r = requests.get(url, params)\n",
    "print(r.json())"
   ]
  },
  {
   "cell_type": "markdown",
   "id": "8176ece5",
   "metadata": {
    "pycharm": {
     "name": "#%% md\n"
    }
   },
   "source": [
    "if you want to search and viszualize graphs go [here](Search_and_visualize_biomedical_knowledge_graphs.ipynb)"
   ]
  },
  {
   "cell_type": "code",
   "execution_count": 62,
   "id": "93614ded",
   "metadata": {
    "pycharm": {
     "name": "#%%\n"
    }
   },
   "outputs": [
    {
     "data": {
      "text/plain": [
       "{'edge_paths_by_length': {'1': [['#559:40'],\n",
       "   ['#560:40'],\n",
       "   ['#555:85'],\n",
       "   ['#557:6'],\n",
       "   ['#559:13'],\n",
       "   ['#560:13'],\n",
       "   ['#561:13']]},\n",
       " 'unique_edges': {'#555:85': {'citation': {'author_list': ['Xie P'],\n",
       "    'doi': '10.1186/1750-2187-8-7',\n",
       "    'full_journal_name': 'Journal of molecular signaling',\n",
       "    'last_author': 'Xie P',\n",
       "    'pub_date': '2013-07-03',\n",
       "    'pub_year': 2013,\n",
       "    'ref': '23758787',\n",
       "    'title': 'TRAF molecules in cell signaling and in human diseases.',\n",
       "    'type': 'PubMed'},\n",
       "   'class': 'increases',\n",
       "   'evidence': 'Additionally, TRAF3-MAVS interaction requires the assistance of another TRAF3-interacting protein, UXT-V1 [133].',\n",
       "   'object_bel': 'complex(p(HGNC:\"MAVS\"),p(HGNC:\"TRAF3\"))',\n",
       "   'object_rid': '#115:12',\n",
       "   'pmid': 23758787,\n",
       "   'subject_bel': 'p(HGNC:\"UXT\")',\n",
       "   'subject_rid': '#192:41'},\n",
       "  '#557:6': {'citation': {'author_list': ['Linnartz B', 'Wang Y', 'Neumann H'],\n",
       "    'doi': '10.4061/2010/587463',\n",
       "    'full_journal_name': \"International journal of Alzheimer's disease\",\n",
       "    'last_author': 'Neumann H',\n",
       "    'pub_date': '2011-07-14',\n",
       "    'pub_year': 2011,\n",
       "    'ref': '20721346',\n",
       "    'title': 'Microglial immunoreceptor tyrosine-based activation and inhibition motif signaling in neuroinflammation.',\n",
       "    'type': 'PubMed'},\n",
       "   'class': 'increases',\n",
       "   'evidence': 'CD14 is involved in the uptake of the bacterial component lipopolysaccharide (LPS) [15].',\n",
       "   'object_bel': 'complex(a(CHEBI:\"lipopolysaccharide\"),p(HGNC:\"TLR4\"))',\n",
       "   'object_rid': '#119:0',\n",
       "   'pmid': 20721346,\n",
       "   'subject_bel': 'p(HGNC:\"CD14\")',\n",
       "   'subject_rid': '#192:7'},\n",
       "  '#559:13': {'annotation': ['Adaptor Proteins, Signal Transducing',\n",
       "    'Animals',\n",
       "    'Humans',\n",
       "    'Lipodystrophy',\n",
       "    'Membrane Glycoproteins',\n",
       "    'Membrane Proteins',\n",
       "    'Microglia',\n",
       "    'Models, Biological',\n",
       "    'Mutation',\n",
       "    'Myeloid Cells',\n",
       "    'Nerve Tissue Proteins',\n",
       "    'Neurodegenerative Diseases',\n",
       "    'Neurons',\n",
       "    'Osteochondrodysplasias',\n",
       "    'Receptors, Immunologic',\n",
       "    'Subacute Sclerosing Panencephalitis',\n",
       "    'Triggering Receptor Expressed on Myeloid Cells-1'],\n",
       "   'citation': {'author_list': ['Walter J'],\n",
       "    'doi': '10.1074/jbc.R115.704981',\n",
       "    'full_journal_name': 'The Journal of biological chemistry',\n",
       "    'last_author': 'Walter J',\n",
       "    'pub_date': '2016-08-01',\n",
       "    'pub_year': 2016,\n",
       "    'ref': '26694609',\n",
       "    'title': 'The Triggering Receptor Expressed on Myeloid Cells 2: A Molecular Link of Neuroinflammation and Neurodegenerative Diseases.',\n",
       "    'type': 'PubMed'},\n",
       "   'class': 'increases',\n",
       "   'evidence': 'Several receptors of the low density lipoprotein receptor (LDLR) family have been shown to bind apoE, Aβ, and APP, and thereby could affect both generation and degradation of Aβ (67, 75, 76).',\n",
       "   'object_bel': 'complex(p(HGNC:\"APOE\"),p(HGNC:\"LDLR\"))',\n",
       "   'object_rid': '#120:1',\n",
       "   'pmid': 26694609,\n",
       "   'subject_bel': 'p(HGNC:\"LDLR\")',\n",
       "   'subject_rid': '#195:11'},\n",
       "  '#559:40': {'annotation': ['Crystallography, X-Ray',\n",
       "    'Humans',\n",
       "    'Membrane Glycoproteins',\n",
       "    'Models, Molecular',\n",
       "    'Mutant Proteins',\n",
       "    'Mutation',\n",
       "    'Neurodegenerative Diseases',\n",
       "    'Protein Conformation',\n",
       "    'Receptors, Immunologic'],\n",
       "   'citation': {'author_list': ['Kober DL',\n",
       "     'Alexander-Brett JM',\n",
       "     'Karch CM',\n",
       "     'Cruchaga C',\n",
       "     'Colonna M',\n",
       "     'Holtzman MJ',\n",
       "     'Brett TJ'],\n",
       "    'doi': '10.7554/eLife.20391',\n",
       "    'full_journal_name': 'eLife',\n",
       "    'last_author': 'Brett TJ',\n",
       "    'pub_date': '2017-10-31',\n",
       "    'pub_year': 2017,\n",
       "    'ref': '27995897',\n",
       "    'title': 'Neurodegenerative disease mutations in TREM2 reveal a functional surface and distinct loss-of-function mechanisms.',\n",
       "    'type': 'PubMed'},\n",
       "   'class': 'increases',\n",
       "   'evidence': 'Consistent with the results of previous work (Cannon et al., 2012), we detected TREM2 binding to phospholipids by both ELISA and liposome sedimentation.',\n",
       "   'object_bel': 'complex(a(CHEBI:\"phospholipid\"),p(HGNC:\"TREM2\"))',\n",
       "   'object_rid': '#107:0',\n",
       "   'pmid': 27995897,\n",
       "   'subject_bel': 'p(HGNC:\"TREM2\")',\n",
       "   'subject_rid': '#195:0'},\n",
       "  '#560:13': {'annotation': ['Adaptor Proteins, Signal Transducing',\n",
       "    'Animals',\n",
       "    'Humans',\n",
       "    'Lipodystrophy',\n",
       "    'Membrane Glycoproteins',\n",
       "    'Membrane Proteins',\n",
       "    'Microglia',\n",
       "    'Models, Biological',\n",
       "    'Mutation',\n",
       "    'Myeloid Cells',\n",
       "    'Nerve Tissue Proteins',\n",
       "    'Neurodegenerative Diseases',\n",
       "    'Neurons',\n",
       "    'Osteochondrodysplasias',\n",
       "    'Receptors, Immunologic',\n",
       "    'Subacute Sclerosing Panencephalitis',\n",
       "    'Triggering Receptor Expressed on Myeloid Cells-1'],\n",
       "   'citation': {'author_list': ['Walter J'],\n",
       "    'doi': '10.1074/jbc.R115.704981',\n",
       "    'full_journal_name': 'The Journal of biological chemistry',\n",
       "    'last_author': 'Walter J',\n",
       "    'pub_date': '2016-08-01',\n",
       "    'pub_year': 2016,\n",
       "    'ref': '26694609',\n",
       "    'title': 'The Triggering Receptor Expressed on Myeloid Cells 2: A Molecular Link of Neuroinflammation and Neurodegenerative Diseases.',\n",
       "    'type': 'PubMed'},\n",
       "   'class': 'increases',\n",
       "   'evidence': 'Several receptors of the low density lipoprotein receptor (LDLR) family have been shown to bind apoE, Aβ, and APP, and thereby could affect both generation and degradation of Aβ (67, 75, 76).',\n",
       "   'object_bel': 'complex(p(HGNC:\"APP\"),p(HGNC:\"LDLR\"))',\n",
       "   'object_rid': '#121:1',\n",
       "   'pmid': 26694609,\n",
       "   'subject_bel': 'p(HGNC:\"LDLR\")',\n",
       "   'subject_rid': '#195:11'},\n",
       "  '#560:40': {'annotation': ['Crystallography, X-Ray',\n",
       "    'Humans',\n",
       "    'Membrane Glycoproteins',\n",
       "    'Models, Molecular',\n",
       "    'Mutant Proteins',\n",
       "    'Mutation',\n",
       "    'Neurodegenerative Diseases',\n",
       "    'Protein Conformation',\n",
       "    'Receptors, Immunologic'],\n",
       "   'citation': {'author_list': ['Kober DL',\n",
       "     'Alexander-Brett JM',\n",
       "     'Karch CM',\n",
       "     'Cruchaga C',\n",
       "     'Colonna M',\n",
       "     'Holtzman MJ',\n",
       "     'Brett TJ'],\n",
       "    'doi': '10.7554/eLife.20391',\n",
       "    'full_journal_name': 'eLife',\n",
       "    'last_author': 'Brett TJ',\n",
       "    'pub_date': '2017-10-31',\n",
       "    'pub_year': 2017,\n",
       "    'ref': '27995897',\n",
       "    'title': 'Neurodegenerative disease mutations in TREM2 reveal a functional surface and distinct loss-of-function mechanisms.',\n",
       "    'type': 'PubMed'},\n",
       "   'class': 'increases',\n",
       "   'evidence': 'In initial experiments, we found that both human and mouse TREM2/SA-PE tetramers were able to bind Neuro2A (N2A) and THP-1 cells (Figure 4b–d,f,g and Figure 4—figure supplement 2a,c).',\n",
       "   'object_bel': 'complex(a(MESHA:\"Monocytes\"),p(HGNC:\"TREM2\"))',\n",
       "   'object_rid': '#113:3',\n",
       "   'pmid': 27995897,\n",
       "   'subject_bel': 'p(HGNC:\"TREM2\")',\n",
       "   'subject_rid': '#195:0'},\n",
       "  '#561:13': {'annotation': ['Adaptor Proteins, Signal Transducing',\n",
       "    'Animals',\n",
       "    'Humans',\n",
       "    'Lipodystrophy',\n",
       "    'Membrane Glycoproteins',\n",
       "    'Membrane Proteins',\n",
       "    'Microglia',\n",
       "    'Models, Biological',\n",
       "    'Mutation',\n",
       "    'Myeloid Cells',\n",
       "    'Nerve Tissue Proteins',\n",
       "    'Neurodegenerative Diseases',\n",
       "    'Neurons',\n",
       "    'Osteochondrodysplasias',\n",
       "    'Receptors, Immunologic',\n",
       "    'Subacute Sclerosing Panencephalitis',\n",
       "    'Triggering Receptor Expressed on Myeloid Cells-1'],\n",
       "   'citation': {'author_list': ['Walter J'],\n",
       "    'doi': '10.1074/jbc.R115.704981',\n",
       "    'full_journal_name': 'The Journal of biological chemistry',\n",
       "    'last_author': 'Walter J',\n",
       "    'pub_date': '2016-08-01',\n",
       "    'pub_year': 2016,\n",
       "    'ref': '26694609',\n",
       "    'title': 'The Triggering Receptor Expressed on Myeloid Cells 2: A Molecular Link of Neuroinflammation and Neurodegenerative Diseases.',\n",
       "    'type': 'PubMed'},\n",
       "   'class': 'increases',\n",
       "   'evidence': 'Several receptors of the low density lipoprotein receptor (LDLR) family have been shown to bind apoE, Aβ, and APP, and thereby could affect both generation and degradation of Aβ (67, 75, 76).',\n",
       "   'object_bel': 'complex(a(CHEBI:\"amyloid-beta\"),p(HGNC:\"LDLR\"))',\n",
       "   'object_rid': '#106:2',\n",
       "   'pmid': 26694609,\n",
       "   'subject_bel': 'p(HGNC:\"LDLR\")',\n",
       "   'subject_rid': '#195:11'}},\n",
       " 'unique_nodes': {'#106:2': {'bel': 'complex(a(CHEBI:\"amyloid-beta\"),p(HGNC:\"LDLR\"))',\n",
       "   'class': 'complex',\n",
       "   'involved_genes': ['LDLR'],\n",
       "   'involved_other': ['amyloid-beta'],\n",
       "   'pure': True},\n",
       "  '#107:0': {'bel': 'complex(a(CHEBI:\"phospholipid\"),p(HGNC:\"TREM2\"))',\n",
       "   'class': 'complex',\n",
       "   'involved_genes': ['TREM2'],\n",
       "   'involved_other': ['phospholipid'],\n",
       "   'pure': True},\n",
       "  '#113:3': {'bel': 'complex(a(MESHA:\"Monocytes\"),p(HGNC:\"TREM2\"))',\n",
       "   'class': 'complex',\n",
       "   'involved_genes': ['TREM2'],\n",
       "   'involved_other': ['Monocytes'],\n",
       "   'pure': True},\n",
       "  '#115:12': {'bel': 'complex(p(HGNC:\"MAVS\"),p(HGNC:\"TRAF3\"))',\n",
       "   'class': 'complex',\n",
       "   'involved_genes': ['MAVS', 'TRAF3'],\n",
       "   'involved_other': [],\n",
       "   'pure': True},\n",
       "  '#119:0': {'bel': 'complex(a(CHEBI:\"lipopolysaccharide\"),p(HGNC:\"TLR4\"))',\n",
       "   'class': 'complex',\n",
       "   'involved_genes': ['TLR4'],\n",
       "   'involved_other': ['lipopolysaccharide'],\n",
       "   'pure': True},\n",
       "  '#120:1': {'bel': 'complex(p(HGNC:\"APOE\"),p(HGNC:\"LDLR\"))',\n",
       "   'class': 'complex',\n",
       "   'involved_genes': ['APOE', 'LDLR'],\n",
       "   'involved_other': [],\n",
       "   'pure': True},\n",
       "  '#121:1': {'bel': 'complex(p(HGNC:\"APP\"),p(HGNC:\"LDLR\"))',\n",
       "   'class': 'complex',\n",
       "   'involved_genes': ['APP', 'LDLR'],\n",
       "   'involved_other': [],\n",
       "   'pure': True},\n",
       "  '#192:41': {'bel': 'p(HGNC:\"UXT\")',\n",
       "   'class': 'protein',\n",
       "   'involved_genes': ['UXT'],\n",
       "   'involved_other': [],\n",
       "   'label': 'ubiquitously expressed prefoldin like chaperone',\n",
       "   'name': 'UXT',\n",
       "   'namespace': 'HGNC',\n",
       "   'pure': True,\n",
       "   'reactome_pathways': ['Transcriptional Regulation by E2F6'],\n",
       "   'species': 9606,\n",
       "   'uniprot': 'Q9UBK9'},\n",
       "  '#192:7': {'bel': 'p(HGNC:\"CD14\")',\n",
       "   'class': 'protein',\n",
       "   'involved_genes': ['CD14'],\n",
       "   'involved_other': [],\n",
       "   'label': 'Monocyte differentiation antigen CD14',\n",
       "   'name': 'CD14',\n",
       "   'namespace': 'HGNC',\n",
       "   'pure': True,\n",
       "   'reactome_pathways': ['Toll Like Receptor 4 (TLR4) Cascade',\n",
       "    'IKK complex recruitment mediated by RIP1',\n",
       "    'MyD88 deficiency (TLR2/4)',\n",
       "    'Neutrophil degranulation',\n",
       "    'TRAF6-mediated induction of TAK1 complex within TLR4 complex',\n",
       "    'Regulation of TLR by endogenous ligand',\n",
       "    'Caspase activation via Death Receptors in the presence of ligand',\n",
       "    'Toll Like Receptor TLR1:TLR2 Cascade',\n",
       "    'TRIF-mediated programmed cell death',\n",
       "    'MyD88-independent TLR4 cascade',\n",
       "    'IRAK2 mediated activation of TAK1 complex upon TLR7/8 or 9 stimulation',\n",
       "    'IRAK4 deficiency (TLR2/4)',\n",
       "    'Activation of IRF3/IRF7 mediated by TBK1/IKK epsilon',\n",
       "    'Transfer of LPS from LBP carrier to CD14',\n",
       "    'ER-Phagosome pathway',\n",
       "    'MyD88:MAL(TIRAP) cascade initiated on plasma membrane',\n",
       "    'Toll Like Receptor TLR6:TLR2 Cascade'],\n",
       "   'species': 9606,\n",
       "   'uniprot': 'P08571'},\n",
       "  '#195:0': {'bel': 'p(HGNC:\"TREM2\")',\n",
       "   'class': 'protein',\n",
       "   'involved_genes': ['TREM2'],\n",
       "   'involved_other': [],\n",
       "   'label': 'Triggering receptor expressed on myeloid cells 2',\n",
       "   'name': 'TREM2',\n",
       "   'namespace': 'HGNC',\n",
       "   'pure': True,\n",
       "   'reactome_pathways': ['DAP12 signaling',\n",
       "    'Immunoregulatory interactions between a Lymphoid and a non-Lymphoid cell',\n",
       "    'Other semaphorin interactions',\n",
       "    'DAP12 interactions'],\n",
       "   'species': 9606,\n",
       "   'uniprot': 'Q9NZC2'},\n",
       "  '#195:11': {'bel': 'p(HGNC:\"LDLR\")',\n",
       "   'class': 'protein',\n",
       "   'involved_genes': ['LDLR'],\n",
       "   'involved_other': [],\n",
       "   'label': 'low density lipoprotein receptor',\n",
       "   'name': 'LDLR',\n",
       "   'namespace': 'HGNC',\n",
       "   'pure': True,\n",
       "   'reactome_pathways': ['Retinoid metabolism and transport',\n",
       "    'Cargo recognition for clathrin-mediated endocytosis',\n",
       "    'Clathrin-mediated endocytosis',\n",
       "    'Chylomicron clearance',\n",
       "    'LDL clearance'],\n",
       "   'species': 9606,\n",
       "   'uniprot': 'P01130'}}}"
      ]
     },
     "execution_count": 62,
     "metadata": {},
     "output_type": "execute_result"
    }
   ],
   "source": [
    "requests.get(f\"{basic_url}bel/paths_by_belish\", params={'belish': 'p(HGNC:\"%\") -increases-> complex(%)'}).json()"
   ]
  },
  {
   "cell_type": "code",
   "execution_count": 69,
   "id": "eb8cffd5",
   "metadata": {
    "pycharm": {
     "name": "#%%\n"
    }
   },
   "outputs": [
    {
     "name": "stdout",
     "output_type": "stream",
     "text": [
      "digraph {\n",
      "\tgraph [fontname=helvetica]\n",
      "\tnode [shape=note]\n",
      "\tnode [shape=box]\n",
      "\tnode [style=filled]\n",
      "\tnode [fillcolor=lightblue1]\n",
      "\t\"#192.7\" [label=<<FONT POINT-SIZE=\"10\">protein</FONT><BR/><FONT POINT-SIZE=\"16\">CD14</FONT><BR/><FONT POINT-SIZE=\"6\">p(HGNC:\"CD14\")</FONT>>]\n",
      "\tnode [fillcolor=lightblue1]\n",
      "\t\"#192.41\" [label=<<FONT POINT-SIZE=\"10\">protein</FONT><BR/><FONT POINT-SIZE=\"16\">UXT</FONT><BR/><FONT POINT-SIZE=\"6\">p(HGNC:\"UXT\")</FONT>>]\n",
      "\tnode [fillcolor=khaki1]\n",
      "\t\"#113.3\" [label=<<FONT POINT-SIZE=\"10\">complex</FONT><BR/><FONT POINT-SIZE=\"16\">TREM2,Monocytes</FONT><BR/><FONT POINT-SIZE=\"6\">complex(a(MESHA:\"Monocytes\"),p(HGNC:\"TREM2\"))</FONT>>]\n",
      "\tnode [fillcolor=khaki1]\n",
      "\t\"#119.0\" [label=<<FONT POINT-SIZE=\"10\">complex</FONT><BR/><FONT POINT-SIZE=\"16\">TLR4,lipopolysaccharide</FONT><BR/><FONT POINT-SIZE=\"6\">complex(a(CHEBI:\"lipopolysaccharide\"),p(HGNC:\"TLR4\"))</FONT>>]\n",
      "\tnode [fillcolor=lightblue1]\n",
      "\t\"#195.11\" [label=<<FONT POINT-SIZE=\"10\">protein</FONT><BR/><FONT POINT-SIZE=\"16\">LDLR</FONT><BR/><FONT POINT-SIZE=\"6\">p(HGNC:\"LDLR\")</FONT>>]\n",
      "\tnode [fillcolor=khaki1]\n",
      "\t\"#120.1\" [label=<<FONT POINT-SIZE=\"10\">complex</FONT><BR/><FONT POINT-SIZE=\"16\">APOE,LDLR</FONT><BR/><FONT POINT-SIZE=\"6\">complex(p(HGNC:\"APOE\"),p(HGNC:\"LDLR\"))</FONT>>]\n",
      "\tnode [fillcolor=khaki1]\n",
      "\t\"#121.1\" [label=<<FONT POINT-SIZE=\"10\">complex</FONT><BR/><FONT POINT-SIZE=\"16\">APP,LDLR</FONT><BR/><FONT POINT-SIZE=\"6\">complex(p(HGNC:\"APP\"),p(HGNC:\"LDLR\"))</FONT>>]\n",
      "\tnode [fillcolor=khaki1]\n",
      "\t\"#106.2\" [label=<<FONT POINT-SIZE=\"10\">complex</FONT><BR/><FONT POINT-SIZE=\"16\">LDLR,amyloid-beta</FONT><BR/><FONT POINT-SIZE=\"6\">complex(a(CHEBI:\"amyloid-beta\"),p(HGNC:\"LDLR\"))</FONT>>]\n",
      "\tnode [fillcolor=khaki1]\n",
      "\t\"#115.12\" [label=<<FONT POINT-SIZE=\"10\">complex</FONT><BR/><FONT POINT-SIZE=\"16\">MAVS,TRAF3</FONT><BR/><FONT POINT-SIZE=\"6\">complex(p(HGNC:\"MAVS\"),p(HGNC:\"TRAF3\"))</FONT>>]\n",
      "\tnode [fillcolor=lightblue1]\n",
      "\t\"#195.0\" [label=<<FONT POINT-SIZE=\"10\">protein</FONT><BR/><FONT POINT-SIZE=\"16\">TREM2</FONT><BR/><FONT POINT-SIZE=\"6\">p(HGNC:\"TREM2\")</FONT>>]\n",
      "\tnode [fillcolor=khaki1]\n",
      "\t\"#107.0\" [label=<<FONT POINT-SIZE=\"10\">complex</FONT><BR/><FONT POINT-SIZE=\"16\">TREM2,phospholipid</FONT><BR/><FONT POINT-SIZE=\"6\">complex(a(CHEBI:\"phospholipid\"),p(HGNC:\"TREM2\"))</FONT>>]\n",
      "\tedge [color=limegreen]\n",
      "\t\"#195.11\" -> \"#121.1\" [label=<<FONT POINT-SIZE=\"8\">increases [1]</FONT>>]\n",
      "\tedge [color=limegreen]\n",
      "\t\"#192.7\" -> \"#119.0\" [label=<<FONT POINT-SIZE=\"8\">increases [1]</FONT>>]\n",
      "\tedge [color=limegreen]\n",
      "\t\"#195.11\" -> \"#106.2\" [label=<<FONT POINT-SIZE=\"8\">increases [1]</FONT>>]\n",
      "\tedge [color=limegreen]\n",
      "\t\"#192.41\" -> \"#115.12\" [label=<<FONT POINT-SIZE=\"8\">increases [1]</FONT>>]\n",
      "\tedge [color=limegreen]\n",
      "\t\"#195.11\" -> \"#120.1\" [label=<<FONT POINT-SIZE=\"8\">increases [1]</FONT>>]\n",
      "\tedge [color=limegreen]\n",
      "\t\"#195.0\" -> \"#113.3\" [label=<<FONT POINT-SIZE=\"8\">increases [1]</FONT>>]\n",
      "\tedge [color=limegreen]\n",
      "\t\"#195.0\" -> \"#107.0\" [label=<<FONT POINT-SIZE=\"8\">increases [1]</FONT>>]\n",
      "}\n"
     ]
    }
   ],
   "source": [
    "params={'belish': 'p(HGNC:\"%\") -increases-> complex(%)'}\n",
    "url = f\"{basic_url}bel/paths_by_belish_as_dot\"\n",
    "r = requests.get(url, params=params)\n",
    "print(r.json())"
   ]
  },
  {
   "cell_type": "markdown",
   "id": "1eae96ac",
   "metadata": {
    "pycharm": {
     "name": "#%% md\n"
    }
   },
   "source": [
    "### PMIDs"
   ]
  },
  {
   "cell_type": "code",
   "execution_count": 94,
   "id": "6ab09289",
   "metadata": {
    "pycharm": {
     "name": "#%%\n"
    }
   },
   "outputs": [
    {
     "data": {
      "text/plain": [
       "{'citation': {'author_list': ['Xie P'],\n",
       "  'doi': '10.1186/1750-2187-8-7',\n",
       "  'full_journal_name': 'Journal of molecular signaling',\n",
       "  'last_author': 'Xie P',\n",
       "  'pub_date': '2013-07-03',\n",
       "  'pub_year': 2013,\n",
       "  'ref': '23758787',\n",
       "  'title': 'TRAF molecules in cell signaling and in human diseases.',\n",
       "  'type': 'PubMed'},\n",
       " 'number_of_edges': 644,\n",
       " 'pmid': 23758787}"
      ]
     },
     "execution_count": 94,
     "metadata": {},
     "output_type": "execute_result"
    }
   ],
   "source": [
    "pmids = requests.get(f\"{basic_url}bel/pmids\").json()\n",
    "pmids[0]"
   ]
  },
  {
   "cell_type": "code",
   "execution_count": 96,
   "id": "224fc1d6",
   "metadata": {
    "pycharm": {
     "name": "#%%\n"
    }
   },
   "outputs": [
    {
     "data": {
      "text/html": [
       "<div>\n",
       "<style scoped>\n",
       "    .dataframe tbody tr th:only-of-type {\n",
       "        vertical-align: middle;\n",
       "    }\n",
       "\n",
       "    .dataframe tbody tr th {\n",
       "        vertical-align: top;\n",
       "    }\n",
       "\n",
       "    .dataframe thead th {\n",
       "        text-align: right;\n",
       "    }\n",
       "</style>\n",
       "<table border=\"1\" class=\"dataframe\">\n",
       "  <thead>\n",
       "    <tr style=\"text-align: right;\">\n",
       "      <th></th>\n",
       "      <th>number_of_edges</th>\n",
       "      <th>author_list</th>\n",
       "      <th>doi</th>\n",
       "      <th>full_journal_name</th>\n",
       "      <th>last_author</th>\n",
       "      <th>pub_date</th>\n",
       "      <th>pub_year</th>\n",
       "      <th>ref</th>\n",
       "      <th>title</th>\n",
       "      <th>type</th>\n",
       "    </tr>\n",
       "    <tr>\n",
       "      <th>pmid</th>\n",
       "      <th></th>\n",
       "      <th></th>\n",
       "      <th></th>\n",
       "      <th></th>\n",
       "      <th></th>\n",
       "      <th></th>\n",
       "      <th></th>\n",
       "      <th></th>\n",
       "      <th></th>\n",
       "      <th></th>\n",
       "    </tr>\n",
       "  </thead>\n",
       "  <tbody>\n",
       "    <tr>\n",
       "      <th>23758787</th>\n",
       "      <td>644</td>\n",
       "      <td>[Xie P]</td>\n",
       "      <td>10.1186/1750-2187-8-7</td>\n",
       "      <td>Journal of molecular signaling</td>\n",
       "      <td>Xie P</td>\n",
       "      <td>2013-07-03</td>\n",
       "      <td>2013</td>\n",
       "      <td>23758787</td>\n",
       "      <td>TRAF molecules in cell signaling and in human ...</td>\n",
       "      <td>PubMed</td>\n",
       "    </tr>\n",
       "    <tr>\n",
       "      <th>22615186</th>\n",
       "      <td>254</td>\n",
       "      <td>[Linnartz B, Neumann H]</td>\n",
       "      <td>10.1002/glia.22359</td>\n",
       "      <td>Glia</td>\n",
       "      <td>Neumann H</td>\n",
       "      <td>2013-09-04</td>\n",
       "      <td>2013</td>\n",
       "      <td>22615186</td>\n",
       "      <td>Microglial activatory (immunoreceptor tyrosine...</td>\n",
       "      <td>PubMed</td>\n",
       "    </tr>\n",
       "    <tr>\n",
       "      <th>26207229</th>\n",
       "      <td>237</td>\n",
       "      <td>[Wang WY, Tan MS, Yu JT, Tan L]</td>\n",
       "      <td>10.3978/j.issn.2305-5839.2015.03.49</td>\n",
       "      <td>Annals of translational medicine</td>\n",
       "      <td>Tan L</td>\n",
       "      <td>2015-07-24</td>\n",
       "      <td>2015</td>\n",
       "      <td>26207229</td>\n",
       "      <td>Role of pro-inflammatory cytokines released fr...</td>\n",
       "      <td>PubMed</td>\n",
       "    </tr>\n",
       "    <tr>\n",
       "      <th>29158945</th>\n",
       "      <td>213</td>\n",
       "      <td>[Liu T, Zhang L, Joo D, Sun SC]</td>\n",
       "      <td>10.1038/sigtrans.2017.23</td>\n",
       "      <td>Signal transduction and targeted therapy</td>\n",
       "      <td>Sun SC</td>\n",
       "      <td>2021-02-02</td>\n",
       "      <td>2021</td>\n",
       "      <td>29158945</td>\n",
       "      <td>NF-κB signaling in inflammation.</td>\n",
       "      <td>PubMed</td>\n",
       "    </tr>\n",
       "    <tr>\n",
       "      <th>28671693</th>\n",
       "      <td>211</td>\n",
       "      <td>[Galatro TF, Holtman IR, Lerario AM, Vainchtei...</td>\n",
       "      <td>10.1038/nn.4597</td>\n",
       "      <td>Nature neuroscience</td>\n",
       "      <td>Eggen BJL</td>\n",
       "      <td>2017-09-05</td>\n",
       "      <td>2017</td>\n",
       "      <td>28671693</td>\n",
       "      <td>Transcriptomic analysis of purified human cort...</td>\n",
       "      <td>PubMed</td>\n",
       "    </tr>\n",
       "    <tr>\n",
       "      <th>26694609</th>\n",
       "      <td>182</td>\n",
       "      <td>[Walter J]</td>\n",
       "      <td>10.1074/jbc.R115.704981</td>\n",
       "      <td>The Journal of biological chemistry</td>\n",
       "      <td>Walter J</td>\n",
       "      <td>2016-08-01</td>\n",
       "      <td>2016</td>\n",
       "      <td>26694609</td>\n",
       "      <td>The Triggering Receptor Expressed on Myeloid C...</td>\n",
       "      <td>PubMed</td>\n",
       "    </tr>\n",
       "    <tr>\n",
       "      <th>28483841</th>\n",
       "      <td>176</td>\n",
       "      <td>[Mazaheri F, Snaidero N, Kleinberger G, Madore...</td>\n",
       "      <td>10.15252/embr.201743922</td>\n",
       "      <td>EMBO reports</td>\n",
       "      <td>Haass C</td>\n",
       "      <td>2018-03-19</td>\n",
       "      <td>2018</td>\n",
       "      <td>28483841</td>\n",
       "      <td>TREM2 deficiency impairs chemotaxis and microg...</td>\n",
       "      <td>PubMed</td>\n",
       "    </tr>\n",
       "    <tr>\n",
       "      <th>28591653</th>\n",
       "      <td>167</td>\n",
       "      <td>[Haenseler W, Sansom SN, Buchrieser J, Newey S...</td>\n",
       "      <td>10.1016/j.stemcr.2017.05.017</td>\n",
       "      <td>Stem cell reports</td>\n",
       "      <td>Cowley SA</td>\n",
       "      <td>2018-01-29</td>\n",
       "      <td>2018</td>\n",
       "      <td>28591653</td>\n",
       "      <td>A Highly Efficient Human Pluripotent Stem Cell...</td>\n",
       "      <td>PubMed</td>\n",
       "    </tr>\n",
       "    <tr>\n",
       "      <th>27429982</th>\n",
       "      <td>154</td>\n",
       "      <td>[Chen P, Zhao W, Guo Y, Xu J, Yin M]</td>\n",
       "      <td>10.1155/2016/8090918</td>\n",
       "      <td>BioMed research international</td>\n",
       "      <td>Yin M</td>\n",
       "      <td>2017-02-22</td>\n",
       "      <td>2017</td>\n",
       "      <td>27429982</td>\n",
       "      <td>CX3CL1/CX3CR1 in Alzheimer's Disease: A Target...</td>\n",
       "      <td>PubMed</td>\n",
       "    </tr>\n",
       "    <tr>\n",
       "      <th>20721346</th>\n",
       "      <td>139</td>\n",
       "      <td>[Linnartz B, Wang Y, Neumann H]</td>\n",
       "      <td>10.4061/2010/587463</td>\n",
       "      <td>International journal of Alzheimer's disease</td>\n",
       "      <td>Neumann H</td>\n",
       "      <td>2011-07-14</td>\n",
       "      <td>2011</td>\n",
       "      <td>20721346</td>\n",
       "      <td>Microglial immunoreceptor tyrosine-based activ...</td>\n",
       "      <td>PubMed</td>\n",
       "    </tr>\n",
       "    <tr>\n",
       "      <th>28546318</th>\n",
       "      <td>129</td>\n",
       "      <td>[Gosselin D, Skola D, Coufal NG, Holtman IR, S...</td>\n",
       "      <td>10.1126/science.aal3222</td>\n",
       "      <td>Science (New York, N.Y.)</td>\n",
       "      <td>Glass CK</td>\n",
       "      <td>2018-01-30</td>\n",
       "      <td>2018</td>\n",
       "      <td>28546318</td>\n",
       "      <td>An environment-dependent transcriptional netwo...</td>\n",
       "      <td>PubMed</td>\n",
       "    </tr>\n",
       "    <tr>\n",
       "      <th>28768545</th>\n",
       "      <td>101</td>\n",
       "      <td>[Jay TR, von Saucken VE, Landreth GE]</td>\n",
       "      <td>10.1186/s13024-017-0197-5</td>\n",
       "      <td>Molecular neurodegeneration</td>\n",
       "      <td>Landreth GE</td>\n",
       "      <td>2018-06-12</td>\n",
       "      <td>2018</td>\n",
       "      <td>28768545</td>\n",
       "      <td>TREM2 in Neurodegenerative Diseases.</td>\n",
       "      <td>PubMed</td>\n",
       "    </tr>\n",
       "    <tr>\n",
       "      <th>24924144</th>\n",
       "      <td>99</td>\n",
       "      <td>[Linnartz-Gerlach B, Mathews M, Neumann H]</td>\n",
       "      <td>10.1016/j.neuroscience.2014.05.061</td>\n",
       "      <td>Neuroscience</td>\n",
       "      <td>Neumann H</td>\n",
       "      <td>2015-10-07</td>\n",
       "      <td>2015</td>\n",
       "      <td>24924144</td>\n",
       "      <td>Sensing the neuronal glycocalyx by glial siali...</td>\n",
       "      <td>PubMed</td>\n",
       "    </tr>\n",
       "    <tr>\n",
       "      <th>28802038</th>\n",
       "      <td>95</td>\n",
       "      <td>[Ulland TK, Song WM, Huang SC, Ulrich JD, Serg...</td>\n",
       "      <td>10.1016/j.cell.2017.07.023</td>\n",
       "      <td>Cell</td>\n",
       "      <td>Colonna M</td>\n",
       "      <td>2017-08-16</td>\n",
       "      <td>2017</td>\n",
       "      <td>28802038</td>\n",
       "      <td>TREM2 Maintains Microglial Metabolic Fitness i...</td>\n",
       "      <td>PubMed</td>\n",
       "    </tr>\n",
       "    <tr>\n",
       "      <th>23533697</th>\n",
       "      <td>91</td>\n",
       "      <td>[Rohn TT]</td>\n",
       "      <td>10.1155/2013/860959</td>\n",
       "      <td>Oxidative medicine and cellular longevity</td>\n",
       "      <td>Rohn TT</td>\n",
       "      <td>2013-08-20</td>\n",
       "      <td>2013</td>\n",
       "      <td>23533697</td>\n",
       "      <td>The triggering receptor expressed on myeloid c...</td>\n",
       "      <td>PubMed</td>\n",
       "    </tr>\n",
       "    <tr>\n",
       "      <th>25904803</th>\n",
       "      <td>87</td>\n",
       "      <td>[Savage JC, Jay T, Goduni E, Quigley C, Marian...</td>\n",
       "      <td>10.1523/JNEUROSCI.4586-14.2015</td>\n",
       "      <td>The Journal of neuroscience : the official jou...</td>\n",
       "      <td>Landreth GE</td>\n",
       "      <td>2015-07-16</td>\n",
       "      <td>2015</td>\n",
       "      <td>25904803</td>\n",
       "      <td>Nuclear receptors license phagocytosis by trem...</td>\n",
       "      <td>PubMed</td>\n",
       "    </tr>\n",
       "    <tr>\n",
       "      <th>29906661</th>\n",
       "      <td>76</td>\n",
       "      <td>[Carbajosa G, Malki K, Lawless N, Wang H, Ryde...</td>\n",
       "      <td>10.1016/j.neurobiolaging.2018.04.019</td>\n",
       "      <td>Neurobiology of aging</td>\n",
       "      <td>Newhouse SJ</td>\n",
       "      <td>2019-05-21</td>\n",
       "      <td>2019</td>\n",
       "      <td>29906661</td>\n",
       "      <td>Loss of Trem2 in microglia leads to widespread...</td>\n",
       "      <td>PubMed</td>\n",
       "    </tr>\n",
       "    <tr>\n",
       "      <th>23855984</th>\n",
       "      <td>74</td>\n",
       "      <td>[Forabosco P, Ramasamy A, Trabzuni D, Walker R...</td>\n",
       "      <td>10.1016/j.neurobiolaging.2013.05.001</td>\n",
       "      <td>Neurobiology of aging</td>\n",
       "      <td>Ryten M</td>\n",
       "      <td>2014-04-02</td>\n",
       "      <td>2014</td>\n",
       "      <td>23855984</td>\n",
       "      <td>Insights into TREM2 biology by network analysi...</td>\n",
       "      <td>PubMed</td>\n",
       "    </tr>\n",
       "    <tr>\n",
       "      <th>26792193</th>\n",
       "      <td>72</td>\n",
       "      <td>[Glebov K, Wunderlich P, Karaca I, Walter J]</td>\n",
       "      <td>10.1186/s12974-016-0479-9</td>\n",
       "      <td>Journal of neuroinflammation</td>\n",
       "      <td>Walter J</td>\n",
       "      <td>2016-10-06</td>\n",
       "      <td>2016</td>\n",
       "      <td>26792193</td>\n",
       "      <td>Functional involvement of γ-secretase in signa...</td>\n",
       "      <td>PubMed</td>\n",
       "    </tr>\n",
       "    <tr>\n",
       "      <th>28559417</th>\n",
       "      <td>56</td>\n",
       "      <td>[Kleinberger G, Brendel M, Mracsko E, Wefers B...</td>\n",
       "      <td>10.15252/embj.201796516</td>\n",
       "      <td>The EMBO journal</td>\n",
       "      <td>Haass C</td>\n",
       "      <td>2017-07-14</td>\n",
       "      <td>2017</td>\n",
       "      <td>28559417</td>\n",
       "      <td>The FTD-like syndrome causing TREM2 T66M mutat...</td>\n",
       "      <td>PubMed</td>\n",
       "    </tr>\n",
       "    <tr>\n",
       "      <th>20203208</th>\n",
       "      <td>56</td>\n",
       "      <td>[Wang Y, Neumann H]</td>\n",
       "      <td>10.1523/JNEUROSCI.3940-09.2010</td>\n",
       "      <td>The Journal of neuroscience : the official jou...</td>\n",
       "      <td>Neumann H</td>\n",
       "      <td>2010-05-05</td>\n",
       "      <td>2010</td>\n",
       "      <td>20203208</td>\n",
       "      <td>Alleviation of neurotoxicity by microglial hum...</td>\n",
       "      <td>PubMed</td>\n",
       "    </tr>\n",
       "    <tr>\n",
       "      <th>27589997</th>\n",
       "      <td>54</td>\n",
       "      <td>[Sirkis DW, Bonham LW, Aparicio RE, Geier EG, ...</td>\n",
       "      <td>10.1186/s40478-016-0367-7</td>\n",
       "      <td>Acta neuropathologica communications</td>\n",
       "      <td>Yokoyama JS</td>\n",
       "      <td>2017-10-25</td>\n",
       "      <td>2017</td>\n",
       "      <td>27589997</td>\n",
       "      <td>Rare TREM2 variants associated with Alzheimer'...</td>\n",
       "      <td>PubMed</td>\n",
       "    </tr>\n",
       "    <tr>\n",
       "      <th>26582367</th>\n",
       "      <td>53</td>\n",
       "      <td>[Shahraz A, Kopatz J, Mathy R, Kappler J, Wint...</td>\n",
       "      <td>10.1038/srep16800</td>\n",
       "      <td>Scientific reports</td>\n",
       "      <td>Neumann H</td>\n",
       "      <td>2016-09-12</td>\n",
       "      <td>2016</td>\n",
       "      <td>26582367</td>\n",
       "      <td>Anti-inflammatory activity of low molecular we...</td>\n",
       "      <td>PubMed</td>\n",
       "    </tr>\n",
       "    <tr>\n",
       "      <th>28209725</th>\n",
       "      <td>43</td>\n",
       "      <td>[Zhong L, Chen XF, Wang T, Wang Z, Liao C, Wan...</td>\n",
       "      <td>10.1084/jem.20160844</td>\n",
       "      <td>The Journal of experimental medicine</td>\n",
       "      <td>Bu G</td>\n",
       "      <td>2017-08-14</td>\n",
       "      <td>2017</td>\n",
       "      <td>28209725</td>\n",
       "      <td>Soluble TREM2 induces inflammatory responses a...</td>\n",
       "      <td>PubMed</td>\n",
       "    </tr>\n",
       "    <tr>\n",
       "      <th>17425404</th>\n",
       "      <td>41</td>\n",
       "      <td>[Takahashi K, Prinz M, Stagi M, Chechneva O, N...</td>\n",
       "      <td>NaN</td>\n",
       "      <td>PLoS medicine</td>\n",
       "      <td>Neumann H</td>\n",
       "      <td>2007-05-11</td>\n",
       "      <td>2007</td>\n",
       "      <td>17425404</td>\n",
       "      <td>TREM2-transduced myeloid precursors mediate ne...</td>\n",
       "      <td>PubMed</td>\n",
       "    </tr>\n",
       "    <tr>\n",
       "      <th>15728241</th>\n",
       "      <td>40</td>\n",
       "      <td>[Takahashi K, Rochford CD, Neumann H]</td>\n",
       "      <td>NaN</td>\n",
       "      <td>The Journal of experimental medicine</td>\n",
       "      <td>Neumann H</td>\n",
       "      <td>2005-04-11</td>\n",
       "      <td>2005</td>\n",
       "      <td>15728241</td>\n",
       "      <td>Clearance of apoptotic neurons without inflamm...</td>\n",
       "      <td>PubMed</td>\n",
       "    </tr>\n",
       "    <tr>\n",
       "      <th>27143430</th>\n",
       "      <td>39</td>\n",
       "      <td>[Zheng H, Liu CC, Atagi Y, Chen XF, Jia L, Yan...</td>\n",
       "      <td>10.1016/j.neurobiolaging.2016.03.004</td>\n",
       "      <td>Neurobiology of aging</td>\n",
       "      <td>Bu G</td>\n",
       "      <td>2017-09-19</td>\n",
       "      <td>2017</td>\n",
       "      <td>27143430</td>\n",
       "      <td>Opposing roles of the triggering receptor expr...</td>\n",
       "      <td>PubMed</td>\n",
       "    </tr>\n",
       "    <tr>\n",
       "      <th>27995897</th>\n",
       "      <td>38</td>\n",
       "      <td>[Kober DL, Alexander-Brett JM, Karch CM, Cruch...</td>\n",
       "      <td>10.7554/eLife.20391</td>\n",
       "      <td>eLife</td>\n",
       "      <td>Brett TJ</td>\n",
       "      <td>2017-10-31</td>\n",
       "      <td>2017</td>\n",
       "      <td>27995897</td>\n",
       "      <td>Neurodegenerative disease mutations in TREM2 r...</td>\n",
       "      <td>PubMed</td>\n",
       "    </tr>\n",
       "    <tr>\n",
       "      <th>24227736</th>\n",
       "      <td>36</td>\n",
       "      <td>[Claude J, Linnartz-Gerlach B, Kudin AP, Kunz ...</td>\n",
       "      <td>10.1523/JNEUROSCI.2211-13.2013</td>\n",
       "      <td>The Journal of neuroscience : the official jou...</td>\n",
       "      <td>Neumann H</td>\n",
       "      <td>2014-01-06</td>\n",
       "      <td>2014</td>\n",
       "      <td>24227736</td>\n",
       "      <td>Microglial CD33-related Siglec-E inhibits neur...</td>\n",
       "      <td>PubMed</td>\n",
       "    </tr>\n",
       "    <tr>\n",
       "      <th>23301011</th>\n",
       "      <td>34</td>\n",
       "      <td>[Sieber MW, Jaenisch N, Brehm M, Guenther M, L...</td>\n",
       "      <td>10.1371/journal.pone.0052982</td>\n",
       "      <td>PloS one</td>\n",
       "      <td>Frahm C</td>\n",
       "      <td>2013-08-20</td>\n",
       "      <td>2013</td>\n",
       "      <td>23301011</td>\n",
       "      <td>Attenuated inflammatory response in triggering...</td>\n",
       "      <td>PubMed</td>\n",
       "    </tr>\n",
       "  </tbody>\n",
       "</table>\n",
       "</div>"
      ],
      "text/plain": [
       "          number_of_edges                                        author_list  \\\n",
       "pmid                                                                           \n",
       "23758787              644                                            [Xie P]   \n",
       "22615186              254                            [Linnartz B, Neumann H]   \n",
       "26207229              237                    [Wang WY, Tan MS, Yu JT, Tan L]   \n",
       "29158945              213                    [Liu T, Zhang L, Joo D, Sun SC]   \n",
       "28671693              211  [Galatro TF, Holtman IR, Lerario AM, Vainchtei...   \n",
       "26694609              182                                         [Walter J]   \n",
       "28483841              176  [Mazaheri F, Snaidero N, Kleinberger G, Madore...   \n",
       "28591653              167  [Haenseler W, Sansom SN, Buchrieser J, Newey S...   \n",
       "27429982              154               [Chen P, Zhao W, Guo Y, Xu J, Yin M]   \n",
       "20721346              139                    [Linnartz B, Wang Y, Neumann H]   \n",
       "28546318              129  [Gosselin D, Skola D, Coufal NG, Holtman IR, S...   \n",
       "28768545              101              [Jay TR, von Saucken VE, Landreth GE]   \n",
       "24924144               99         [Linnartz-Gerlach B, Mathews M, Neumann H]   \n",
       "28802038               95  [Ulland TK, Song WM, Huang SC, Ulrich JD, Serg...   \n",
       "23533697               91                                          [Rohn TT]   \n",
       "25904803               87  [Savage JC, Jay T, Goduni E, Quigley C, Marian...   \n",
       "29906661               76  [Carbajosa G, Malki K, Lawless N, Wang H, Ryde...   \n",
       "23855984               74  [Forabosco P, Ramasamy A, Trabzuni D, Walker R...   \n",
       "26792193               72       [Glebov K, Wunderlich P, Karaca I, Walter J]   \n",
       "28559417               56  [Kleinberger G, Brendel M, Mracsko E, Wefers B...   \n",
       "20203208               56                                [Wang Y, Neumann H]   \n",
       "27589997               54  [Sirkis DW, Bonham LW, Aparicio RE, Geier EG, ...   \n",
       "26582367               53  [Shahraz A, Kopatz J, Mathy R, Kappler J, Wint...   \n",
       "28209725               43  [Zhong L, Chen XF, Wang T, Wang Z, Liao C, Wan...   \n",
       "17425404               41  [Takahashi K, Prinz M, Stagi M, Chechneva O, N...   \n",
       "15728241               40              [Takahashi K, Rochford CD, Neumann H]   \n",
       "27143430               39  [Zheng H, Liu CC, Atagi Y, Chen XF, Jia L, Yan...   \n",
       "27995897               38  [Kober DL, Alexander-Brett JM, Karch CM, Cruch...   \n",
       "24227736               36  [Claude J, Linnartz-Gerlach B, Kudin AP, Kunz ...   \n",
       "23301011               34  [Sieber MW, Jaenisch N, Brehm M, Guenther M, L...   \n",
       "\n",
       "                                           doi  \\\n",
       "pmid                                             \n",
       "23758787                 10.1186/1750-2187-8-7   \n",
       "22615186                    10.1002/glia.22359   \n",
       "26207229   10.3978/j.issn.2305-5839.2015.03.49   \n",
       "29158945              10.1038/sigtrans.2017.23   \n",
       "28671693                       10.1038/nn.4597   \n",
       "26694609               10.1074/jbc.R115.704981   \n",
       "28483841               10.15252/embr.201743922   \n",
       "28591653          10.1016/j.stemcr.2017.05.017   \n",
       "27429982                  10.1155/2016/8090918   \n",
       "20721346                   10.4061/2010/587463   \n",
       "28546318               10.1126/science.aal3222   \n",
       "28768545             10.1186/s13024-017-0197-5   \n",
       "24924144    10.1016/j.neuroscience.2014.05.061   \n",
       "28802038            10.1016/j.cell.2017.07.023   \n",
       "23533697                   10.1155/2013/860959   \n",
       "25904803        10.1523/JNEUROSCI.4586-14.2015   \n",
       "29906661  10.1016/j.neurobiolaging.2018.04.019   \n",
       "23855984  10.1016/j.neurobiolaging.2013.05.001   \n",
       "26792193             10.1186/s12974-016-0479-9   \n",
       "28559417               10.15252/embj.201796516   \n",
       "20203208        10.1523/JNEUROSCI.3940-09.2010   \n",
       "27589997             10.1186/s40478-016-0367-7   \n",
       "26582367                     10.1038/srep16800   \n",
       "28209725                  10.1084/jem.20160844   \n",
       "17425404                                   NaN   \n",
       "15728241                                   NaN   \n",
       "27143430  10.1016/j.neurobiolaging.2016.03.004   \n",
       "27995897                   10.7554/eLife.20391   \n",
       "24227736        10.1523/JNEUROSCI.2211-13.2013   \n",
       "23301011          10.1371/journal.pone.0052982   \n",
       "\n",
       "                                          full_journal_name  last_author  \\\n",
       "pmid                                                                       \n",
       "23758787                     Journal of molecular signaling        Xie P   \n",
       "22615186                                               Glia    Neumann H   \n",
       "26207229                   Annals of translational medicine        Tan L   \n",
       "29158945           Signal transduction and targeted therapy       Sun SC   \n",
       "28671693                                Nature neuroscience    Eggen BJL   \n",
       "26694609                The Journal of biological chemistry     Walter J   \n",
       "28483841                                       EMBO reports      Haass C   \n",
       "28591653                                  Stem cell reports    Cowley SA   \n",
       "27429982                      BioMed research international        Yin M   \n",
       "20721346       International journal of Alzheimer's disease    Neumann H   \n",
       "28546318                           Science (New York, N.Y.)     Glass CK   \n",
       "28768545                        Molecular neurodegeneration  Landreth GE   \n",
       "24924144                                       Neuroscience    Neumann H   \n",
       "28802038                                               Cell    Colonna M   \n",
       "23533697          Oxidative medicine and cellular longevity      Rohn TT   \n",
       "25904803  The Journal of neuroscience : the official jou...  Landreth GE   \n",
       "29906661                              Neurobiology of aging  Newhouse SJ   \n",
       "23855984                              Neurobiology of aging      Ryten M   \n",
       "26792193                       Journal of neuroinflammation     Walter J   \n",
       "28559417                                   The EMBO journal      Haass C   \n",
       "20203208  The Journal of neuroscience : the official jou...    Neumann H   \n",
       "27589997               Acta neuropathologica communications  Yokoyama JS   \n",
       "26582367                                 Scientific reports    Neumann H   \n",
       "28209725               The Journal of experimental medicine         Bu G   \n",
       "17425404                                      PLoS medicine    Neumann H   \n",
       "15728241               The Journal of experimental medicine    Neumann H   \n",
       "27143430                              Neurobiology of aging         Bu G   \n",
       "27995897                                              eLife     Brett TJ   \n",
       "24227736  The Journal of neuroscience : the official jou...    Neumann H   \n",
       "23301011                                           PloS one      Frahm C   \n",
       "\n",
       "            pub_date  pub_year       ref  \\\n",
       "pmid                                       \n",
       "23758787  2013-07-03      2013  23758787   \n",
       "22615186  2013-09-04      2013  22615186   \n",
       "26207229  2015-07-24      2015  26207229   \n",
       "29158945  2021-02-02      2021  29158945   \n",
       "28671693  2017-09-05      2017  28671693   \n",
       "26694609  2016-08-01      2016  26694609   \n",
       "28483841  2018-03-19      2018  28483841   \n",
       "28591653  2018-01-29      2018  28591653   \n",
       "27429982  2017-02-22      2017  27429982   \n",
       "20721346  2011-07-14      2011  20721346   \n",
       "28546318  2018-01-30      2018  28546318   \n",
       "28768545  2018-06-12      2018  28768545   \n",
       "24924144  2015-10-07      2015  24924144   \n",
       "28802038  2017-08-16      2017  28802038   \n",
       "23533697  2013-08-20      2013  23533697   \n",
       "25904803  2015-07-16      2015  25904803   \n",
       "29906661  2019-05-21      2019  29906661   \n",
       "23855984  2014-04-02      2014  23855984   \n",
       "26792193  2016-10-06      2016  26792193   \n",
       "28559417  2017-07-14      2017  28559417   \n",
       "20203208  2010-05-05      2010  20203208   \n",
       "27589997  2017-10-25      2017  27589997   \n",
       "26582367  2016-09-12      2016  26582367   \n",
       "28209725  2017-08-14      2017  28209725   \n",
       "17425404  2007-05-11      2007  17425404   \n",
       "15728241  2005-04-11      2005  15728241   \n",
       "27143430  2017-09-19      2017  27143430   \n",
       "27995897  2017-10-31      2017  27995897   \n",
       "24227736  2014-01-06      2014  24227736   \n",
       "23301011  2013-08-20      2013  23301011   \n",
       "\n",
       "                                                      title    type  \n",
       "pmid                                                                 \n",
       "23758787  TRAF molecules in cell signaling and in human ...  PubMed  \n",
       "22615186  Microglial activatory (immunoreceptor tyrosine...  PubMed  \n",
       "26207229  Role of pro-inflammatory cytokines released fr...  PubMed  \n",
       "29158945                   NF-κB signaling in inflammation.  PubMed  \n",
       "28671693  Transcriptomic analysis of purified human cort...  PubMed  \n",
       "26694609  The Triggering Receptor Expressed on Myeloid C...  PubMed  \n",
       "28483841  TREM2 deficiency impairs chemotaxis and microg...  PubMed  \n",
       "28591653  A Highly Efficient Human Pluripotent Stem Cell...  PubMed  \n",
       "27429982  CX3CL1/CX3CR1 in Alzheimer's Disease: A Target...  PubMed  \n",
       "20721346  Microglial immunoreceptor tyrosine-based activ...  PubMed  \n",
       "28546318  An environment-dependent transcriptional netwo...  PubMed  \n",
       "28768545               TREM2 in Neurodegenerative Diseases.  PubMed  \n",
       "24924144  Sensing the neuronal glycocalyx by glial siali...  PubMed  \n",
       "28802038  TREM2 Maintains Microglial Metabolic Fitness i...  PubMed  \n",
       "23533697  The triggering receptor expressed on myeloid c...  PubMed  \n",
       "25904803  Nuclear receptors license phagocytosis by trem...  PubMed  \n",
       "29906661  Loss of Trem2 in microglia leads to widespread...  PubMed  \n",
       "23855984  Insights into TREM2 biology by network analysi...  PubMed  \n",
       "26792193  Functional involvement of γ-secretase in signa...  PubMed  \n",
       "28559417  The FTD-like syndrome causing TREM2 T66M mutat...  PubMed  \n",
       "20203208  Alleviation of neurotoxicity by microglial hum...  PubMed  \n",
       "27589997  Rare TREM2 variants associated with Alzheimer'...  PubMed  \n",
       "26582367  Anti-inflammatory activity of low molecular we...  PubMed  \n",
       "28209725  Soluble TREM2 induces inflammatory responses a...  PubMed  \n",
       "17425404  TREM2-transduced myeloid precursors mediate ne...  PubMed  \n",
       "15728241  Clearance of apoptotic neurons without inflamm...  PubMed  \n",
       "27143430  Opposing roles of the triggering receptor expr...  PubMed  \n",
       "27995897  Neurodegenerative disease mutations in TREM2 r...  PubMed  \n",
       "24227736  Microglial CD33-related Siglec-E inhibits neur...  PubMed  \n",
       "23301011  Attenuated inflammatory response in triggering...  PubMed  "
      ]
     },
     "execution_count": 96,
     "metadata": {},
     "output_type": "execute_result"
    }
   ],
   "source": [
    "df = pd.DataFrame(pmids).set_index('pmid').head(30)\n",
    "pd.concat([df, df.citation.apply(pd.Series)], axis=1).drop(columns=['citation'])"
   ]
  },
  {
   "cell_type": "code",
   "execution_count": 105,
   "id": "acaa3128",
   "metadata": {
    "pycharm": {
     "name": "#%%\n"
    }
   },
   "outputs": [
    {
     "data": {
      "image/png": "[encoded data removed]",
      "text/plain": [
       "<Figure size 432x288 with 1 Axes>"
      ]
     },
     "metadata": {
      "needs_background": "light"
     },
     "output_type": "display_data"
    }
   ],
   "source": [
    "_ = df.number_of_edges.plot.bar()"
   ]
  },
  {
   "cell_type": "markdown",
   "id": "eb68da82",
   "metadata": {
    "pycharm": {
     "name": "#%% md\n"
    }
   },
   "source": [
    "### Publication year statistics"
   ]
  },
  {
   "cell_type": "code",
   "execution_count": 107,
   "id": "ce9039b7",
   "metadata": {
    "pycharm": {
     "name": "#%%\n"
    }
   },
   "outputs": [
    {
     "data": {
      "image/png": "[encoded data removed]",
      "text/plain": [
       "<Figure size 432x288 with 1 Axes>"
      ]
     },
     "metadata": {
      "needs_background": "light"
     },
     "output_type": "display_data"
    }
   ],
   "source": [
    "r = requests.get(f\"{basic_url}bel/publication_year_statistics\").json()\n",
    "_ = pd.DataFrame(r).set_index('year').plot.bar()"
   ]
  },
  {
   "cell_type": "markdown",
   "id": "ae2c257f",
   "metadata": {
    "pycharm": {
     "name": "#%% md\n"
    }
   },
   "source": [
    "### Get *pure* rid"
   ]
  },
  {
   "cell_type": "code",
   "execution_count": 110,
   "id": "c767731c",
   "metadata": {
    "pycharm": {
     "name": "#%%\n"
    }
   },
   "outputs": [
    {
     "data": {
      "text/plain": [
       "'#195:0'"
      ]
     },
     "execution_count": 110,
     "metadata": {},
     "output_type": "execute_result"
    }
   ],
   "source": [
    "params = {\n",
    "    'node_class': \"protein\", \n",
    "    'namespace': \"HGNC\", \n",
    "    'name': \"TREM2\"\n",
    "}\n",
    "requests.get(f\"{basic_url}bel/pure_rid\", params).json()"
   ]
  },
  {
   "cell_type": "markdown",
   "id": "c5892759",
   "metadata": {
    "pycharm": {
     "name": "#%% md\n"
    }
   },
   "source": [
    "## e(BE:L)"
   ]
  },
  {
   "cell_type": "markdown",
   "id": "66514efd",
   "metadata": {
    "pycharm": {
     "name": "#%% md\n"
    }
   },
   "source": [
    "### Relation types"
   ]
  },
  {
   "cell_type": "code",
   "execution_count": 120,
   "id": "6ea51ae0",
   "metadata": {
    "pycharm": {
     "name": "#%%\n"
    }
   },
   "outputs": [
    {
     "data": {
      "text/plain": [
       "{'abstract': False,\n",
       " 'children': [],\n",
       " 'in_out': {'in': 'bel', 'out': 'bel'},\n",
       " 'parents_path': ['activates__iu', 'iuphar_interaction', 'ebel_relation', 'E']}"
      ]
     },
     "execution_count": 120,
     "metadata": {},
     "output_type": "execute_result"
    }
   ],
   "source": [
    "r = requests.get(f\"{basic_url}ebel/relation_types\").json()\n",
    "r[list(r.keys())[0]]"
   ]
  },
  {
   "cell_type": "markdown",
   "id": "039e0ff8",
   "metadata": {
    "pycharm": {
     "name": "#%% md\n"
    }
   },
   "source": [
    "### Get class info by name"
   ]
  },
  {
   "cell_type": "markdown",
   "id": "c593a65a",
   "metadata": {
    "pycharm": {
     "name": "#%% md\n"
    }
   },
   "source": [
    "node class"
   ]
  },
  {
   "cell_type": "code",
   "execution_count": 123,
   "id": "6cde9bb8",
   "metadata": {
    "pycharm": {
     "name": "#%%\n"
    }
   },
   "outputs": [
    {
     "data": {
      "text/plain": [
       "{'abstract': True,\n",
       " 'children': [{'abstract': False, 'name': 'drug_db'}],\n",
       " 'parents_path': ['drug', 'ebel', 'V']}"
      ]
     },
     "execution_count": 123,
     "metadata": {},
     "output_type": "execute_result"
    }
   ],
   "source": [
    "params = {'name': \"drug\"}\n",
    "requests.get(f\"{basic_url}bel/class_info_by_name\", params).json()"
   ]
  },
  {
   "cell_type": "markdown",
   "id": "07666290",
   "metadata": {
    "pycharm": {
     "name": "#%% md\n"
    }
   },
   "source": [
    "edge class"
   ]
  },
  {
   "cell_type": "code",
   "execution_count": 112,
   "id": "10405027",
   "metadata": {
    "pycharm": {
     "name": "#%%\n"
    }
   },
   "outputs": [
    {
     "data": {
      "text/plain": [
       "{'abstract': False,\n",
       " 'children': [],\n",
       " 'parents_path': ['increases_pho_kg',\n",
       "  'has_ppi_kg',\n",
       "  'pathway_interaction',\n",
       "  'ebel_relation',\n",
       "  'E']}"
      ]
     },
     "execution_count": 112,
     "metadata": {},
     "output_type": "execute_result"
    }
   ],
   "source": [
    "params = {'name': \"increases_pho_kg\"}\n",
    "requests.get(f\"{basic_url}bel/class_info_by_name\", params).json()"
   ]
  },
  {
   "cell_type": "markdown",
   "id": "e0b4890a",
   "metadata": {
    "pycharm": {
     "name": "#%% md\n"
    }
   },
   "source": [
    "### Paths by BELish"
   ]
  },
  {
   "cell_type": "code",
   "execution_count": 156,
   "id": "cc49adf6",
   "metadata": {
    "pycharm": {
     "name": "#%%\n"
    }
   },
   "outputs": [
    {
     "data": {
      "text/plain": [
       "{'edge_paths_by_length': {'1': [['#1572:13']]},\n",
       " 'unique_edges': {'#1572:13': {'class': 'has_drug_target_db',\n",
       "   'object_bel': 'p(HGNC:\"ADA\")',\n",
       "   'object_rid': '#186:169',\n",
       "   'subject_rid': '#1549:11'}},\n",
       " 'unique_nodes': {'#1549:11': {'cas_number': '53910-25-1',\n",
       "   'class': 'drug_db',\n",
       "   'description': 'A potent inhibitor of adenosine deaminase. The drug is effective in the treatment of many lymphoproliferative malignancies, particularly hairy-cell leukemia. It is also synergistic with some other antineoplastic agents and has immunosuppressive activity.',\n",
       "   'drugbank_id': 'DB00552',\n",
       "   'indication': 'For the treatment of hairy cell leukaemia refractory to alpha interferon.',\n",
       "   'label': 'Pentostatin',\n",
       "   'mechanism_of_action': 'Pentostatin is a potent transition state inhibitor of adenosine deaminase (ADA), the greatest activity of which is found in cells of the lymphoid system. T-cells have higher ADA activity than B-cells, and T-cell malignancies have higher activity than B-cell malignancies. The cytotoxicity that results from prevention of catabolism of adenosine or deoxyadenosine is thought to be due to elevated intracellular levels of dATP, which can block DNA synthesis through inhibition of ribonucleotide reductase. Intracellular activation results in incorporation into DNA as a false purine base. An additional cytotoxic effect is related to its incorporation into RNA. Cytotoxicity is cell cycle phase-specific (S-phase).',\n",
       "   'metabolism': 'Primarily hepatic, but only small amounts are metabolized.',\n",
       "   'pharmacodynamics': 'Pentostatin is an antineoplastic anti-metabolite used in the treatment of several forms of leukemia including acute nonlymphocytic leukemia and hairy cell leukemia. Anti-metabolites masquerade as purine or pyrimidine - which become the building blocks of DNA. They prevent these substances becoming incorporated in to DNA during the \"S\" phase (of the cell cycle), stopping normal development and division. It is a 6-thiopurine analogue of the naturally occurring purine bases hypoxanthine and guanine. Intracellular activation results in incorporation into DNA as a false purine base. An additional cytotoxic effect is related to its incorporation into RNA. Cytotoxicity is cell cycle phase-specific (S-phase).',\n",
       "   'toxicity': 'LD<sub>50</sub>=128 mg/kg (mouse), side effects include lethargy, rash, fatigue, nausea and myelosuppression.'},\n",
       "  '#186:169': {'bel': 'p(HGNC:\"ADA\")',\n",
       "   'class': 'protein',\n",
       "   'involved_genes': ['ADA'],\n",
       "   'involved_other': [],\n",
       "   'label': 'adenosine deaminase',\n",
       "   'name': 'ADA',\n",
       "   'namespace': 'HGNC',\n",
       "   'pure': True,\n",
       "   'species': 9606,\n",
       "   'uniprot': 'P00813'}}}"
      ]
     },
     "execution_count": 156,
     "metadata": {},
     "output_type": "execute_result"
    }
   ],
   "source": [
    "params={'belish': '[drug] -has_drug_target-> [protein]', 'limit':1}\n",
    "requests.get(f\"{basic_url}bel/paths_by_belish\", params).json()"
   ]
  },
  {
   "cell_type": "code",
   "execution_count": 171,
   "id": "a48ab184",
   "metadata": {
    "pycharm": {
     "name": "#%%\n"
    }
   },
   "outputs": [
    {
     "data": {
      "text/plain": [
       "{'number_of_results': 73,\n",
       " 'page': 1,\n",
       " 'page_size': 10,\n",
       " 'pages': 8,\n",
       " 'results': [{'bel': 'a(CHEBI:\"ATP\")',\n",
       "   'chebi': 15422,\n",
       "   'name': 'ATP',\n",
       "   'namespace': 'CHEBI',\n",
       "   'rid': '#122:6'}]}"
      ]
     },
     "execution_count": 171,
     "metadata": {},
     "output_type": "execute_result"
    }
   ],
   "source": [
    "url = f\"{basic_url}chebi/ebel/nodes\"\n",
    "params = {'name':'ATP'}\n",
    "requests.get(url, params=params).json()"
   ]
  },
  {
   "cell_type": "code",
   "execution_count": 191,
   "id": "9dee1aab",
   "metadata": {
    "pycharm": {
     "name": "#%%\n"
    }
   },
   "outputs": [
    {
     "name": "stdout",
     "output_type": "stream",
     "text": [
      "Description\n",
      " ==========\n",
      " Search clinvar by e(BE:L) relation\n"
     ]
    },
    {
     "data": {
      "text/html": [
       "<div>\n",
       "<style scoped>\n",
       "    .dataframe tbody tr th:only-of-type {\n",
       "        vertical-align: middle;\n",
       "    }\n",
       "\n",
       "    .dataframe tbody tr th {\n",
       "        vertical-align: top;\n",
       "    }\n",
       "\n",
       "    .dataframe thead th {\n",
       "        text-align: right;\n",
       "    }\n",
       "</style>\n",
       "<table border=\"1\" class=\"dataframe\">\n",
       "  <thead>\n",
       "    <tr style=\"text-align: right;\">\n",
       "      <th></th>\n",
       "      <th>data type</th>\n",
       "      <th>description</th>\n",
       "      <th>example</th>\n",
       "    </tr>\n",
       "    <tr>\n",
       "      <th>parameter name</th>\n",
       "      <th></th>\n",
       "      <th></th>\n",
       "      <th></th>\n",
       "    </tr>\n",
       "  </thead>\n",
       "  <tbody>\n",
       "    <tr>\n",
       "      <th>namespace</th>\n",
       "      <td>string</td>\n",
       "      <td>None</td>\n",
       "      <td>HGNC</td>\n",
       "    </tr>\n",
       "    <tr>\n",
       "      <th>name</th>\n",
       "      <td>string</td>\n",
       "      <td>Gene symbol</td>\n",
       "      <td>PSEN1</td>\n",
       "    </tr>\n",
       "    <tr>\n",
       "      <th>phenotype</th>\n",
       "      <td>string</td>\n",
       "      <td>None</td>\n",
       "      <td>Alzheimer disease, type 3</td>\n",
       "    </tr>\n",
       "    <tr>\n",
       "      <th>clinical_significance</th>\n",
       "      <td>string</td>\n",
       "      <td>None</td>\n",
       "      <td>Pathogenic</td>\n",
       "    </tr>\n",
       "    <tr>\n",
       "      <th>relation_type</th>\n",
       "      <td>string</td>\n",
       "      <td>None</td>\n",
       "      <td>has_snp_clinvar</td>\n",
       "    </tr>\n",
       "    <tr>\n",
       "      <th>keyword</th>\n",
       "      <td>string</td>\n",
       "      <td>None</td>\n",
       "      <td>Alzheimer</td>\n",
       "    </tr>\n",
       "    <tr>\n",
       "      <th>rs_number</th>\n",
       "      <td>string</td>\n",
       "      <td>None</td>\n",
       "      <td>rs63750526</td>\n",
       "    </tr>\n",
       "    <tr>\n",
       "      <th>page_size</th>\n",
       "      <td>integer</td>\n",
       "      <td>Results per page</td>\n",
       "      <td>10</td>\n",
       "    </tr>\n",
       "    <tr>\n",
       "      <th>page</th>\n",
       "      <td>integer</td>\n",
       "      <td>Page number (starting with 1)</td>\n",
       "      <td>1</td>\n",
       "    </tr>\n",
       "  </tbody>\n",
       "</table>\n",
       "</div>"
      ],
      "text/plain": [
       "                      data type                    description  \\\n",
       "parameter name                                                   \n",
       "namespace                string                           None   \n",
       "name                     string                    Gene symbol   \n",
       "phenotype                string                           None   \n",
       "clinical_significance    string                           None   \n",
       "relation_type            string                           None   \n",
       "keyword                  string                           None   \n",
       "rs_number                string                           None   \n",
       "page_size               integer               Results per page   \n",
       "page                    integer  Page number (starting with 1)   \n",
       "\n",
       "                                         example  \n",
       "parameter name                                    \n",
       "namespace                                   HGNC  \n",
       "name                                       PSEN1  \n",
       "phenotype              Alzheimer disease, type 3  \n",
       "clinical_significance                 Pathogenic  \n",
       "relation_type                    has_snp_clinvar  \n",
       "keyword                                Alzheimer  \n",
       "rs_number                             rs63750526  \n",
       "page_size                                     10  \n",
       "page                                           1  "
      ]
     },
     "execution_count": 191,
     "metadata": {},
     "output_type": "execute_result"
    }
   ],
   "source": [
    "method = \"clinvar/ebel/relation\"\n",
    "get_doc_for_api_method(method)"
   ]
  },
  {
   "cell_type": "code",
   "execution_count": 192,
   "id": "2833e3db",
   "metadata": {
    "pycharm": {
     "name": "#%%\n"
    }
   },
   "outputs": [
    {
     "data": {
      "text/plain": [
       "{'number_of_results': 353,\n",
       " 'page': 1,\n",
       " 'page_size': 10,\n",
       " 'pages': 36,\n",
       " 'results': [{'clinical_significance': 'Pathogenic',\n",
       "   'name': 'PSEN1',\n",
       "   'namespace': 'HGNC',\n",
       "   'phenotype': 'Alzheimer disease, type 3',\n",
       "   'relation_type': 'has_mapped_snp_cv',\n",
       "   'rs_number': 'rs63750306'},\n",
       "  {'clinical_significance': 'Likely pathogenic',\n",
       "   'name': 'PSEN1',\n",
       "   'namespace': 'HGNC',\n",
       "   'phenotype': 'Alzheimer disease, type 3',\n",
       "   'relation_type': 'has_mapped_snp_cv',\n",
       "   'rs_number': 'rs63751399'},\n",
       "  {'clinical_significance': 'Pathogenic',\n",
       "   'name': 'PSEN1',\n",
       "   'namespace': 'HGNC',\n",
       "   'phenotype': 'Alzheimer disease, type 3',\n",
       "   'relation_type': 'has_mapped_snp_cv',\n",
       "   'rs_number': 'rs63750900'},\n",
       "  {'clinical_significance': 'Conflicting interpretations of pathogenicity',\n",
       "   'name': 'PSEN1',\n",
       "   'namespace': 'HGNC',\n",
       "   'phenotype': 'Alzheimer disease, type 3',\n",
       "   'relation_type': 'has_mapped_snp_cv',\n",
       "   'rs_number': 'rs201776669'},\n",
       "  {'clinical_significance': 'Benign/Likely benign',\n",
       "   'name': 'PSEN1',\n",
       "   'namespace': 'HGNC',\n",
       "   'phenotype': 'Alzheimer disease, type 3',\n",
       "   'relation_type': 'has_mapped_snp_cv',\n",
       "   'rs_number': 'rs362384'},\n",
       "  {'clinical_significance': 'Benign/Likely benign',\n",
       "   'name': 'PSEN1',\n",
       "   'namespace': 'HGNC',\n",
       "   'phenotype': 'Alzheimer disease, type 3',\n",
       "   'relation_type': 'has_mapped_snp_cv',\n",
       "   'rs_number': 'rs17125952'},\n",
       "  {'clinical_significance': 'Benign/Likely benign',\n",
       "   'name': 'PSEN1',\n",
       "   'namespace': 'HGNC',\n",
       "   'phenotype': 'Alzheimer disease, type 3',\n",
       "   'relation_type': 'has_mapped_snp_cv',\n",
       "   'rs_number': 'rs186752250'},\n",
       "  {'clinical_significance': 'Uncertain significance',\n",
       "   'name': 'PSEN1',\n",
       "   'namespace': 'HGNC',\n",
       "   'phenotype': 'Alzheimer disease, type 3',\n",
       "   'relation_type': 'has_mapped_snp_cv',\n",
       "   'rs_number': 'rs886050681'},\n",
       "  {'clinical_significance': 'Uncertain significance',\n",
       "   'name': 'PSEN1',\n",
       "   'namespace': 'HGNC',\n",
       "   'phenotype': 'Alzheimer disease, type 3',\n",
       "   'relation_type': 'has_mapped_snp_cv',\n",
       "   'rs_number': 'rs763831389'},\n",
       "  {'clinical_significance': 'Likely pathogenic',\n",
       "   'name': 'PSEN1',\n",
       "   'namespace': 'HGNC',\n",
       "   'phenotype': 'Alzheimer disease, familial, 3, with unusual plaques',\n",
       "   'relation_type': 'has_mapped_snp_cv',\n",
       "   'rs_number': 'rs267606983'}]}"
      ]
     },
     "execution_count": 192,
     "metadata": {},
     "output_type": "execute_result"
    }
   ],
   "source": [
    "params = {'name':'PSEN1'}\n",
    "requests.get(basic_url+method, params=params).json()"
   ]
  },
  {
   "cell_type": "code",
   "execution_count": 196,
   "id": "b31c0cc6",
   "metadata": {
    "pycharm": {
     "name": "#%%\n"
    }
   },
   "outputs": [
    {
     "name": "stdout",
     "output_type": "stream",
     "text": [
      "Description\n",
      " ==========\n",
      " Get SNP-gene relation from e(BE:L) knowledge graph\n"
     ]
    },
    {
     "data": {
      "text/html": [
       "<div>\n",
       "<style scoped>\n",
       "    .dataframe tbody tr th:only-of-type {\n",
       "        vertical-align: middle;\n",
       "    }\n",
       "\n",
       "    .dataframe tbody tr th {\n",
       "        vertical-align: top;\n",
       "    }\n",
       "\n",
       "    .dataframe thead th {\n",
       "        text-align: right;\n",
       "    }\n",
       "</style>\n",
       "<table border=\"1\" class=\"dataframe\">\n",
       "  <thead>\n",
       "    <tr style=\"text-align: right;\">\n",
       "      <th></th>\n",
       "      <th>data type</th>\n",
       "      <th>description</th>\n",
       "      <th>example</th>\n",
       "    </tr>\n",
       "    <tr>\n",
       "      <th>parameter name</th>\n",
       "      <th></th>\n",
       "      <th></th>\n",
       "      <th></th>\n",
       "    </tr>\n",
       "  </thead>\n",
       "  <tbody>\n",
       "    <tr>\n",
       "      <th>relation</th>\n",
       "      <td>string</td>\n",
       "      <td>None</td>\n",
       "      <td>has_dgn_snp</td>\n",
       "    </tr>\n",
       "    <tr>\n",
       "      <th>disease_name</th>\n",
       "      <td>string</td>\n",
       "      <td>None</td>\n",
       "      <td>Alzheimer's Disease</td>\n",
       "    </tr>\n",
       "    <tr>\n",
       "      <th>rs_number</th>\n",
       "      <td>string</td>\n",
       "      <td>None</td>\n",
       "      <td>rs10408847</td>\n",
       "    </tr>\n",
       "    <tr>\n",
       "      <th>pmid</th>\n",
       "      <td>integer</td>\n",
       "      <td>None</td>\n",
       "      <td>29777097</td>\n",
       "    </tr>\n",
       "    <tr>\n",
       "      <th>source</th>\n",
       "      <td>string</td>\n",
       "      <td>None</td>\n",
       "      <td>GWASCAT</td>\n",
       "    </tr>\n",
       "    <tr>\n",
       "      <th>name</th>\n",
       "      <td>string</td>\n",
       "      <td>Gene symbol</td>\n",
       "      <td>MARK4</td>\n",
       "    </tr>\n",
       "    <tr>\n",
       "      <th>namespace</th>\n",
       "      <td>string</td>\n",
       "      <td>Gene symbol namespace</td>\n",
       "      <td>HGNC</td>\n",
       "    </tr>\n",
       "    <tr>\n",
       "      <th>page_size</th>\n",
       "      <td>integer</td>\n",
       "      <td>Results per page</td>\n",
       "      <td>10</td>\n",
       "    </tr>\n",
       "    <tr>\n",
       "      <th>page</th>\n",
       "      <td>integer</td>\n",
       "      <td>Page number (starting with 1)</td>\n",
       "      <td>1</td>\n",
       "    </tr>\n",
       "  </tbody>\n",
       "</table>\n",
       "</div>"
      ],
      "text/plain": [
       "               data type                    description              example\n",
       "parameter name                                                              \n",
       "relation          string                           None          has_dgn_snp\n",
       "disease_name      string                           None  Alzheimer's Disease\n",
       "rs_number         string                           None           rs10408847\n",
       "pmid             integer                           None             29777097\n",
       "source            string                           None              GWASCAT\n",
       "name              string                    Gene symbol                MARK4\n",
       "namespace         string          Gene symbol namespace                 HGNC\n",
       "page_size        integer               Results per page                   10\n",
       "page             integer  Page number (starting with 1)                    1"
      ]
     },
     "execution_count": 196,
     "metadata": {},
     "output_type": "execute_result"
    }
   ],
   "source": [
    "method = \"disgenet/ebel\"\n",
    "get_doc_for_api_method(method)"
   ]
  },
  {
   "cell_type": "code",
   "execution_count": 200,
   "id": "85b647f9",
   "metadata": {
    "scrolled": true,
    "pycharm": {
     "name": "#%%\n"
    }
   },
   "outputs": [
    {
     "data": {
      "text/plain": [
       "{'number_of_results': 2290,\n",
       " 'page': 1,\n",
       " 'page_size': 10,\n",
       " 'pages': 229,\n",
       " 'results': [{'disease_name': \"Alzheimer's Disease\",\n",
       "   'gene_rid': '#157:188',\n",
       "   'gene_symbol': 'ZNF761',\n",
       "   'pmids': [26830138],\n",
       "   'relation': 'has_downstream_snp_dgn',\n",
       "   'rid': '#3036:50',\n",
       "   'score': 0.7,\n",
       "   'snp_rid': '#1602:35',\n",
       "   'snp_rs_number': 'rs2927694',\n",
       "   'source': 'GWASCAT'},\n",
       "  {'disease_name': \"Alzheimer's Disease\",\n",
       "   'gene_rid': '#167:56',\n",
       "   'gene_symbol': 'MTHFD1L',\n",
       "   'pmids': [20885792],\n",
       "   'relation': 'has_upstream_snp_dgn',\n",
       "   'rid': '#3059:11',\n",
       "   'score': 0.82,\n",
       "   'snp_rid': '#1604:0',\n",
       "   'snp_rs_number': 'rs11754661',\n",
       "   'source': 'GWASCAT'},\n",
       "  {'disease_name': \"Alzheimer's Disease\",\n",
       "   'gene_rid': '#156:62',\n",
       "   'gene_symbol': 'SCIMP',\n",
       "   'pmids': [30617256],\n",
       "   'relation': 'has_downstream_snp_dgn',\n",
       "   'rid': '#3044:7',\n",
       "   'score': 0.7,\n",
       "   'snp_rid': '#1605:27',\n",
       "   'snp_rs_number': 'rs113260531',\n",
       "   'source': 'GWASCAT'},\n",
       "  {'disease_name': 'Parkinson Disease',\n",
       "   'gene_rid': '#163:202',\n",
       "   'gene_symbol': 'CERS6',\n",
       "   'pmids': [28892059, 25064009],\n",
       "   'relation': 'has_upstream_snp_dgn',\n",
       "   'rid': '#3051:207',\n",
       "   'score': 0.7,\n",
       "   'snp_rid': '#1603:95',\n",
       "   'snp_rs_number': 'rs1474055',\n",
       "   'source': 'GWASCAT'},\n",
       "  {'disease_name': \"Alzheimer's Disease\",\n",
       "   'gene_rid': '#158:57',\n",
       "   'gene_symbol': 'CNTNAP2',\n",
       "   'pmids': [26049409],\n",
       "   'relation': 'has_upstream_snp_dgn',\n",
       "   'rid': '#3058:178',\n",
       "   'score': 0.7,\n",
       "   'snp_rid': '#1598:33',\n",
       "   'snp_rs_number': 'rs802571',\n",
       "   'source': 'GWASCAT'},\n",
       "  {'disease_name': \"Alzheimer's Disease\",\n",
       "   'gene_rid': '#169:0',\n",
       "   'gene_symbol': 'CLU',\n",
       "   'pmids': [31473137, 24162737, 25778476, 30617256],\n",
       "   'relation': 'has_mapped_snp_dgn',\n",
       "   'rid': '#3032:144',\n",
       "   'score': 0.82,\n",
       "   'snp_rid': '#1607:5',\n",
       "   'snp_rs_number': 'rs9331896',\n",
       "   'source': 'GWASCAT'},\n",
       "  {'disease_name': \"Alzheimer's Disease\",\n",
       "   'gene_rid': '#169:0',\n",
       "   'gene_symbol': 'CLU',\n",
       "   'pmids': [21627779],\n",
       "   'relation': 'has_downstream_snp_dgn',\n",
       "   'rid': '#3040:68',\n",
       "   'score': 0.8,\n",
       "   'snp_rid': '#1606:68',\n",
       "   'snp_rs_number': 'rs569214',\n",
       "   'source': 'GWASCAT'},\n",
       "  {'disease_name': \"Alzheimer's Disease\",\n",
       "   'gene_rid': '#167:134',\n",
       "   'gene_symbol': 'ZNF117',\n",
       "   'pmids': [26830138],\n",
       "   'relation': 'has_upstream_snp_dgn',\n",
       "   'rid': '#3061:12',\n",
       "   'score': 0.7,\n",
       "   'snp_rid': '#1605:85',\n",
       "   'snp_rs_number': 'rs11773349',\n",
       "   'source': 'GWASCAT'},\n",
       "  {'disease_name': \"Alzheimer's Disease\",\n",
       "   'gene_rid': '#165:81',\n",
       "   'gene_symbol': 'CHN2',\n",
       "   'pmids': [26830138],\n",
       "   'relation': 'has_mapped_snp_dgn',\n",
       "   'rid': '#3019:42',\n",
       "   'score': 0.7,\n",
       "   'snp_rid': '#1596:37',\n",
       "   'snp_rs_number': 'rs56357845',\n",
       "   'source': 'GWASCAT'},\n",
       "  {'disease_name': 'Parkinson Disease',\n",
       "   'gene_rid': '#157:92',\n",
       "   'gene_symbol': 'NSF',\n",
       "   'pmids': [21812969],\n",
       "   'relation': 'has_downstream_snp_dgn',\n",
       "   'rid': '#3048:262',\n",
       "   'score': 0.8,\n",
       "   'snp_rid': '#1602:60',\n",
       "   'snp_rs_number': 'rs415430',\n",
       "   'source': 'GWASCAT'}]}"
      ]
     },
     "execution_count": 200,
     "metadata": {},
     "output_type": "execute_result"
    }
   ],
   "source": [
    "url = f\"{basic_url}disgenet/ebel\"\n",
    "params = {'source':'GWASCAT'}\n",
    "requests.get(basic_url+method, params).json()"
   ]
  },
  {
   "cell_type": "code",
   "execution_count": 201,
   "id": "24c1cc4c",
   "metadata": {
    "collapsed": true,
    "pycharm": {
     "name": "#%%\n"
    }
   },
   "outputs": [
    {
     "name": "stdout",
     "output_type": "stream",
     "text": [
      "Description\n",
      " ==========\n",
      " Drug/target relation in e(BE:L) knowledge base\n"
     ]
    },
    {
     "data": {
      "text/html": [
       "<div>\n",
       "<style scoped>\n",
       "    .dataframe tbody tr th:only-of-type {\n",
       "        vertical-align: middle;\n",
       "    }\n",
       "\n",
       "    .dataframe tbody tr th {\n",
       "        vertical-align: top;\n",
       "    }\n",
       "\n",
       "    .dataframe thead th {\n",
       "        text-align: right;\n",
       "    }\n",
       "</style>\n",
       "<table border=\"1\" class=\"dataframe\">\n",
       "  <thead>\n",
       "    <tr style=\"text-align: right;\">\n",
       "      <th></th>\n",
       "      <th>data type</th>\n",
       "      <th>description</th>\n",
       "      <th>example</th>\n",
       "    </tr>\n",
       "    <tr>\n",
       "      <th>parameter name</th>\n",
       "      <th></th>\n",
       "      <th></th>\n",
       "      <th></th>\n",
       "    </tr>\n",
       "  </thead>\n",
       "  <tbody>\n",
       "    <tr>\n",
       "      <th>drug_rid</th>\n",
       "      <td>string</td>\n",
       "      <td>e(BE:L) rid</td>\n",
       "      <td>None</td>\n",
       "    </tr>\n",
       "    <tr>\n",
       "      <th>drug_name</th>\n",
       "      <td>string</td>\n",
       "      <td>None</td>\n",
       "      <td>Flortaucipir F-18</td>\n",
       "    </tr>\n",
       "    <tr>\n",
       "      <th>drugbank_id</th>\n",
       "      <td>string</td>\n",
       "      <td>e(BE:L) rid</td>\n",
       "      <td>DB14914</td>\n",
       "    </tr>\n",
       "    <tr>\n",
       "      <th>edge_rid</th>\n",
       "      <td>string</td>\n",
       "      <td>None</td>\n",
       "      <td>None</td>\n",
       "    </tr>\n",
       "    <tr>\n",
       "      <th>action</th>\n",
       "      <td>string</td>\n",
       "      <td>None</td>\n",
       "      <td>binder</td>\n",
       "    </tr>\n",
       "    <tr>\n",
       "      <th>known_action</th>\n",
       "      <td>string</td>\n",
       "      <td>None</td>\n",
       "      <td>yes</td>\n",
       "    </tr>\n",
       "    <tr>\n",
       "      <th>target_rid</th>\n",
       "      <td>string</td>\n",
       "      <td>None</td>\n",
       "      <td>None</td>\n",
       "    </tr>\n",
       "    <tr>\n",
       "      <th>target_name</th>\n",
       "      <td>string</td>\n",
       "      <td>e(BE:L) rid</td>\n",
       "      <td>MAPT</td>\n",
       "    </tr>\n",
       "    <tr>\n",
       "      <th>target_namespace</th>\n",
       "      <td>string</td>\n",
       "      <td>None</td>\n",
       "      <td>HGNC</td>\n",
       "    </tr>\n",
       "    <tr>\n",
       "      <th>target_uniprot_accession</th>\n",
       "      <td>string</td>\n",
       "      <td>None</td>\n",
       "      <td>P10636</td>\n",
       "    </tr>\n",
       "    <tr>\n",
       "      <th>page_size</th>\n",
       "      <td>integer</td>\n",
       "      <td>Results per page</td>\n",
       "      <td>10</td>\n",
       "    </tr>\n",
       "    <tr>\n",
       "      <th>page</th>\n",
       "      <td>integer</td>\n",
       "      <td>Page number (starting with 1)</td>\n",
       "      <td>1</td>\n",
       "    </tr>\n",
       "  </tbody>\n",
       "</table>\n",
       "</div>"
      ],
      "text/plain": [
       "                         data type                    description  \\\n",
       "parameter name                                                      \n",
       "drug_rid                    string                    e(BE:L) rid   \n",
       "drug_name                   string                           None   \n",
       "drugbank_id                 string                    e(BE:L) rid   \n",
       "edge_rid                    string                           None   \n",
       "action                      string                           None   \n",
       "known_action                string                           None   \n",
       "target_rid                  string                           None   \n",
       "target_name                 string                    e(BE:L) rid   \n",
       "target_namespace            string                           None   \n",
       "target_uniprot_accession    string                           None   \n",
       "page_size                  integer               Results per page   \n",
       "page                       integer  Page number (starting with 1)   \n",
       "\n",
       "                                    example  \n",
       "parameter name                               \n",
       "drug_rid                               None  \n",
       "drug_name                 Flortaucipir F-18  \n",
       "drugbank_id                         DB14914  \n",
       "edge_rid                               None  \n",
       "action                               binder  \n",
       "known_action                            yes  \n",
       "target_rid                             None  \n",
       "target_name                            MAPT  \n",
       "target_namespace                       HGNC  \n",
       "target_uniprot_accession             P10636  \n",
       "page_size                                10  \n",
       "page                                      1  "
      ]
     },
     "execution_count": 201,
     "metadata": {},
     "output_type": "execute_result"
    }
   ],
   "source": [
    "method = \"drugbank/ebel/relation\"\n",
    "get_doc_for_api_method(method)"
   ]
  },
  {
   "cell_type": "code",
   "execution_count": 203,
   "id": "b979b510",
   "metadata": {
    "collapsed": true,
    "pycharm": {
     "name": "#%%\n"
    }
   },
   "outputs": [
    {
     "data": {
      "text/plain": [
       "{'number_of_results': 5,\n",
       " 'page': 1,\n",
       " 'page_size': 10,\n",
       " 'pages': 1,\n",
       " 'results': [{'action': 'binder',\n",
       "   'drug_name': 'Flortaucipir F-18',\n",
       "   'drug_rid': '#1547:104',\n",
       "   'drugbank_id': 'DB14914',\n",
       "   'edge_rid': '#1562:157',\n",
       "   'known_action': 'yes',\n",
       "   'target_name': 'MAPT',\n",
       "   'target_namespace': 'HGNC',\n",
       "   'target_rid': '#190:5',\n",
       "   'target_uniprot_accession': 'P10636'},\n",
       "  {'drug_name': 'Lansoprazole',\n",
       "   'drug_rid': '#1546:104',\n",
       "   'drugbank_id': 'DB00448',\n",
       "   'edge_rid': '#1574:156',\n",
       "   'known_action': 'unknown',\n",
       "   'target_name': 'MAPT',\n",
       "   'target_namespace': 'HGNC',\n",
       "   'target_rid': '#190:5',\n",
       "   'target_uniprot_accession': 'P10636'},\n",
       "  {'drug_name': 'Astemizole',\n",
       "   'drug_rid': '#1552:91',\n",
       "   'drugbank_id': 'DB00637',\n",
       "   'edge_rid': '#1575:156',\n",
       "   'known_action': 'unknown',\n",
       "   'target_name': 'MAPT',\n",
       "   'target_namespace': 'HGNC',\n",
       "   'target_rid': '#190:5',\n",
       "   'target_uniprot_accession': 'P10636'},\n",
       "  {'drug_name': 'Paclitaxel',\n",
       "   'drug_rid': '#1554:1',\n",
       "   'drugbank_id': 'DB01229',\n",
       "   'edge_rid': '#1576:156',\n",
       "   'known_action': 'yes',\n",
       "   'target_name': 'MAPT',\n",
       "   'target_namespace': 'HGNC',\n",
       "   'target_rid': '#190:5',\n",
       "   'target_uniprot_accession': 'P10636'},\n",
       "  {'drug_name': 'Docetaxel',\n",
       "   'drug_rid': '#1555:1',\n",
       "   'drugbank_id': 'DB01248',\n",
       "   'edge_rid': '#1577:156',\n",
       "   'known_action': 'yes',\n",
       "   'target_name': 'MAPT',\n",
       "   'target_namespace': 'HGNC',\n",
       "   'target_rid': '#190:5',\n",
       "   'target_uniprot_accession': 'P10636'}]}"
      ]
     },
     "execution_count": 203,
     "metadata": {},
     "output_type": "execute_result"
    }
   ],
   "source": [
    "url = f\"{basic_url}disgenet/ebel\"\n",
    "params = {'target_name':'MAPT'}\n",
    "requests.get(basic_url+method, params).json()"
   ]
  },
  {
   "cell_type": "code",
   "execution_count": 213,
   "id": "56bc2304",
   "metadata": {
    "pycharm": {
     "name": "#%%\n"
    }
   },
   "outputs": [
    {
     "name": "stdout",
     "output_type": "stream",
     "text": [
      "/api/v1/ebel/biogrid/modification/by_symbol_taxid\n",
      "Description\n",
      " ==========\n",
      " Get e(BE:L) has_ppi_bg by subject (and object) gene symbol and taxonomy ID\n"
     ]
    },
    {
     "data": {
      "text/html": [
       "<div>\n",
       "<style scoped>\n",
       "    .dataframe tbody tr th:only-of-type {\n",
       "        vertical-align: middle;\n",
       "    }\n",
       "\n",
       "    .dataframe tbody tr th {\n",
       "        vertical-align: top;\n",
       "    }\n",
       "\n",
       "    .dataframe thead th {\n",
       "        text-align: right;\n",
       "    }\n",
       "</style>\n",
       "<table border=\"1\" class=\"dataframe\">\n",
       "  <thead>\n",
       "    <tr style=\"text-align: right;\">\n",
       "      <th></th>\n",
       "      <th>data type</th>\n",
       "      <th>description</th>\n",
       "      <th>example</th>\n",
       "    </tr>\n",
       "    <tr>\n",
       "      <th>parameter name</th>\n",
       "      <th></th>\n",
       "      <th></th>\n",
       "      <th></th>\n",
       "    </tr>\n",
       "  </thead>\n",
       "  <tbody>\n",
       "    <tr>\n",
       "      <th>symbol</th>\n",
       "      <td>string</td>\n",
       "      <td>Gene symbol</td>\n",
       "      <td>MAPT</td>\n",
       "    </tr>\n",
       "    <tr>\n",
       "      <th>taxonomy_id</th>\n",
       "      <td>integer</td>\n",
       "      <td>NCBI taxonomy ID</td>\n",
       "      <td>9606</td>\n",
       "    </tr>\n",
       "    <tr>\n",
       "      <th>modification</th>\n",
       "      <td>string</td>\n",
       "      <td>Posttranslational modification of interactor B...</td>\n",
       "      <td>None</td>\n",
       "    </tr>\n",
       "  </tbody>\n",
       "</table>\n",
       "</div>"
      ],
      "text/plain": [
       "               data type                                        description  \\\n",
       "parameter name                                                                \n",
       "symbol            string                                        Gene symbol   \n",
       "taxonomy_id      integer                                   NCBI taxonomy ID   \n",
       "modification      string  Posttranslational modification of interactor B...   \n",
       "\n",
       "               example  \n",
       "parameter name          \n",
       "symbol            MAPT  \n",
       "taxonomy_id       9606  \n",
       "modification      None  "
      ]
     },
     "execution_count": 213,
     "metadata": {},
     "output_type": "execute_result"
    }
   ],
   "source": [
    "method = \"ebel/biogrid/modification/by_symbol_taxid\"\n",
    "get_doc_for_api_method(method)\n"
   ]
  },
  {
   "cell_type": "code",
   "execution_count": null,
   "id": "7d1f6055",
   "metadata": {
    "pycharm": {
     "name": "#%%\n"
    }
   },
   "outputs": [],
   "source": [
    "url = f\"{basic_url}disgenet/ebel\"\n",
    "params = {'target_name':'MAPT'}\n",
    "requests.get(basic_url+method, params).json()"
   ]
  },
  {
   "cell_type": "code",
   "execution_count": null,
   "id": "54915690",
   "metadata": {
    "pycharm": {
     "name": "#%%\n"
    }
   },
   "outputs": [],
   "source": []
  }
 ],
 "metadata": {
  "kernelspec": {
   "display_name": "ebel",
   "language": "python",
   "name": "ebel"
  },
  "language_info": {
   "codemirror_mode": {
    "name": "ipython",
    "version": 3
   },
   "file_extension": ".py",
   "mimetype": "text/x-python",
   "name": "python",
   "nbconvert_exporter": "python",
   "pygments_lexer": "ipython3",
   "version": "3.8.10"
  },
  "toc": {
   "base_numbering": 1,
   "nav_menu": {},
   "number_sections": true,
   "sideBar": true,
   "skip_h1_title": true,
   "title_cell": "Table of Contents",
   "title_sidebar": "Contents",
   "toc_cell": false,
   "toc_position": {},
   "toc_section_display": true,
   "toc_window_display": true
  }
 },
 "nbformat": 4,
 "nbformat_minor": 5
}